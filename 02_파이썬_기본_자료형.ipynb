{
 "cells": [
  {
   "cell_type": "markdown",
   "id": "46d1d0bd",
   "metadata": {},
   "source": [
    "# 기본 자료형\n",
    "## 정수형(integer , int)"
   ]
  },
  {
   "cell_type": "code",
   "execution_count": 2,
   "id": "d3ff666e",
   "metadata": {},
   "outputs": [
    {
     "name": "stdout",
     "output_type": "stream",
     "text": [
      "<class 'int'>\n",
      "<class 'float'>\n",
      "<class 'str'>\n"
     ]
    }
   ],
   "source": [
    "#변수(variable) : 변하는 수 , 기억공간 , 동적 자료형\n",
    "\n",
    "\n",
    "a = 13\n",
    "print(type(a))\n",
    "a = 3.14\n",
    "print(type(a))\n",
    "a = 'python'\n",
    "print(type(a))"
   ]
  },
  {
   "cell_type": "markdown",
   "id": "57c2e424",
   "metadata": {},
   "source": [
    "## 실수형(float , double)\n",
    "- 소숫점을 포함한 숫자 자료형\n",
    "- 지수 표현 방색대로 표현 가능"
   ]
  },
  {
   "cell_type": "code",
   "execution_count": 4,
   "id": "cce2d90b",
   "metadata": {},
   "outputs": [
    {
     "name": "stdout",
     "output_type": "stream",
     "text": [
      "2.5 -1.5\n"
     ]
    }
   ],
   "source": [
    "a = 2.5\n",
    "b = -1.5\n",
    "print(a,b) #  ' , '는 열거연산자"
   ]
  },
  {
   "cell_type": "code",
   "execution_count": 5,
   "id": "a8a48948",
   "metadata": {
    "scrolled": true
   },
   "outputs": [
    {
     "name": "stdout",
     "output_type": "stream",
     "text": [
      "12000000000.0 4.5e-10\n"
     ]
    }
   ],
   "source": [
    "a=1.2E10\n",
    "b=4.5E-10\n",
    "\n",
    "print(a,b)"
   ]
  },
  {
   "cell_type": "markdown",
   "id": "97941a95",
   "metadata": {},
   "source": [
    "### 부동소숫점 오차\n",
    " - 1보다 작은 수의 경우 , 10진법으로 표현하면 간단.\n",
    " - 2진법으로는 무한개의 유효숫자를 가짐"
   ]
  },
  {
   "cell_type": "code",
   "execution_count": 23,
   "id": "d43712c1",
   "metadata": {},
   "outputs": [
    {
     "data": {
      "text/plain": [
       "0.1"
      ]
     },
     "execution_count": 23,
     "metadata": {},
     "output_type": "execute_result"
    }
   ],
   "source": [
    "%precision 55\n",
    "0.1\n",
    "\n",
    "%precision %r\n",
    "0.1"
   ]
  },
  {
   "cell_type": "code",
   "execution_count": 7,
   "id": "59cc3f43",
   "metadata": {},
   "outputs": [
    {
     "data": {
      "text/plain": [
       "0.1"
      ]
     },
     "execution_count": 7,
     "metadata": {},
     "output_type": "execute_result"
    }
   ],
   "source": [
    "# 실수표현시 정수부의 값이 0일 경우 생략.\n",
    ".1 # = 0.1"
   ]
  },
  {
   "cell_type": "code",
   "execution_count": 12,
   "id": "bcdede81",
   "metadata": {},
   "outputs": [
    {
     "name": "stdout",
     "output_type": "stream",
     "text": [
      "<class 'int'> <class 'float'>\n"
     ]
    }
   ],
   "source": [
    "print(type(10),type(10.0))"
   ]
  },
  {
   "cell_type": "markdown",
   "id": "0cd37ba2",
   "metadata": {},
   "source": [
    "## 복소수형\n",
    " - $ a+bi $ 으로 표현\n",
    " "
   ]
  },
  {
   "cell_type": "code",
   "execution_count": 18,
   "id": "ecb98e04",
   "metadata": {},
   "outputs": [
    {
     "name": "stdout",
     "output_type": "stream",
     "text": [
      "1.0\n",
      "2.0\n",
      "<class 'complex'>\n",
      "(1+2j)\n"
     ]
    }
   ],
   "source": [
    "# 실수부와 허수부를 출력\n",
    "print(a.real)\n",
    "print(a.imag)\n",
    "print(type(a))\n",
    "a.conjugate()\n",
    "print(a)"
   ]
  },
  {
   "cell_type": "markdown",
   "id": "374e2675",
   "metadata": {},
   "source": [
    "## 8진수 , 16진수\n",
    " - 일반적으로 사람은 10진수\n",
    " - 컴퓨터는 2진수\n",
    " - 8진수 : 숫자열에 0o(숫자0 + 알파벳o , 0)\n",
    " - 16진수 : 0x "
   ]
  },
  {
   "cell_type": "markdown",
   "id": "2483397f",
   "metadata": {},
   "source": [
    "## 자료형 변환\n",
    " - casting(강제형변환)\n",
    " - promotion(자동형변환)"
   ]
  },
  {
   "cell_type": "code",
   "execution_count": 24,
   "id": "de531c7d",
   "metadata": {},
   "outputs": [
    {
     "data": {
      "text/plain": [
       "1"
      ]
     },
     "execution_count": 24,
     "metadata": {},
     "output_type": "execute_result"
    }
   ],
   "source": [
    "int(1.0)"
   ]
  },
  {
   "cell_type": "code",
   "execution_count": 25,
   "id": "7db84772",
   "metadata": {},
   "outputs": [
    {
     "data": {
      "text/plain": [
       "1.0"
      ]
     },
     "execution_count": 25,
     "metadata": {},
     "output_type": "execute_result"
    }
   ],
   "source": [
    "float(1)"
   ]
  },
  {
   "cell_type": "code",
   "execution_count": 26,
   "id": "ddef1c77",
   "metadata": {},
   "outputs": [],
   "source": [
    "## NAN과 INF\n",
    "#NAN : 숫자가 아닌 것"
   ]
  },
  {
   "cell_type": "code",
   "execution_count": 29,
   "id": "eda85fbd",
   "metadata": {},
   "outputs": [
    {
     "data": {
      "text/plain": [
       "nan"
      ]
     },
     "execution_count": 29,
     "metadata": {},
     "output_type": "execute_result"
    }
   ],
   "source": [
    "float('NAN')"
   ]
  },
  {
   "cell_type": "code",
   "execution_count": 19,
   "id": "4c9a6a63",
   "metadata": {},
   "outputs": [
    {
     "name": "stdout",
     "output_type": "stream",
     "text": [
      "10 52\n"
     ]
    }
   ],
   "source": [
    "x = 0o12\n",
    "y = 0x34\n",
    "print(x,y)"
   ]
  },
  {
   "cell_type": "markdown",
   "id": "62a579ef",
   "metadata": {},
   "source": [
    "## 산술연산"
   ]
  },
  {
   "cell_type": "code",
   "execution_count": 28,
   "id": "2f934c4d",
   "metadata": {},
   "outputs": [
    {
     "data": {
      "text/plain": [
       "2"
      ]
     },
     "execution_count": 28,
     "metadata": {},
     "output_type": "execute_result"
    }
   ],
   "source": [
    "1+1"
   ]
  },
  {
   "cell_type": "code",
   "execution_count": null,
   "id": "dc536273",
   "metadata": {},
   "outputs": [],
   "source": [
    "#연산자(Operator)\n",
    " - + , - , * , / , // , % , **"
   ]
  },
  {
   "cell_type": "code",
   "execution_count": 32,
   "id": "06e2a8f6",
   "metadata": {},
   "outputs": [
    {
     "data": {
      "text/plain": [
       "6"
      ]
     },
     "execution_count": 32,
     "metadata": {},
     "output_type": "execute_result"
    }
   ],
   "source": [
    "\n",
    "30 // 5"
   ]
  },
  {
   "cell_type": "code",
   "execution_count": 36,
   "id": "f9322986",
   "metadata": {
    "scrolled": true
   },
   "outputs": [
    {
     "data": {
      "text/plain": [
       "32"
      ]
     },
     "execution_count": 36,
     "metadata": {},
     "output_type": "execute_result"
    }
   ],
   "source": [
    "2 ** 5"
   ]
  },
  {
   "cell_type": "markdown",
   "id": "71a55840",
   "metadata": {},
   "source": [
    "## 논리연산 , 관계연산\n",
    " - 관계연산자 : > , >= , < , <= , != , ==\n",
    " - 논리연산자 : & , | , !"
   ]
  },
  {
   "cell_type": "code",
   "execution_count": null,
   "id": "bb1b79bc",
   "metadata": {},
   "outputs": [],
   "source": []
  },
  {
   "cell_type": "code",
   "execution_count": null,
   "id": "7cfe4eb9",
   "metadata": {},
   "outputs": [],
   "source": []
  },
  {
   "cell_type": "code",
   "execution_count": null,
   "id": "9554ee3a",
   "metadata": {},
   "outputs": [],
   "source": []
  },
  {
   "cell_type": "code",
   "execution_count": null,
   "id": "133e5615",
   "metadata": {},
   "outputs": [],
   "source": []
  },
  {
   "cell_type": "code",
   "execution_count": null,
   "id": "07957920",
   "metadata": {},
   "outputs": [],
   "source": []
  },
  {
   "cell_type": "code",
   "execution_count": 40,
   "id": "f600fcdc",
   "metadata": {},
   "outputs": [],
   "source": [
    "#원주율을 이용하여 반지름이 10인 원의 넓이와 둘레를 계산하여 출력\n",
    "\n",
    "##선언문 영역 , 초기화 영역 : 변수를 선언하고 변수의 처음값을 담는 영역\n",
    "\n",
    "##처리문 영역 , 명령이나 제어문을 통해 프로그램을 처리하는 영역\n",
    "\n",
    "##출력문 영역"
   ]
  },
  {
   "cell_type": "code",
   "execution_count": 43,
   "id": "e8a769f9",
   "metadata": {},
   "outputs": [
    {
     "name": "stdout",
     "output_type": "stream",
     "text": [
      "원주율 :  314.159265\n",
      "둘레 :  62.831853\n"
     ]
    }
   ],
   "source": [
    "pi=3.14159265\n",
    "r = 10\n",
    "\n",
    "print('원주율 : ' , pi*r**2)\n",
    "print('둘레 : ', 2*pi*r)"
   ]
  },
  {
   "cell_type": "code",
   "execution_count": null,
   "id": "3bff19db",
   "metadata": {},
   "outputs": [],
   "source": []
  },
  {
   "cell_type": "code",
   "execution_count": null,
   "id": "3bca50ff",
   "metadata": {},
   "outputs": [],
   "source": []
  },
  {
   "cell_type": "code",
   "execution_count": 1,
   "id": "1b5d388f",
   "metadata": {
    "scrolled": true
   },
   "outputs": [
    {
     "name": "stdout",
     "output_type": "stream",
     "text": [
      "Hello World\n"
     ]
    }
   ],
   "source": [
    "#문자열에서 +는 연결연산자임.\n",
    "\n",
    "print('Hello ' + 'World')"
   ]
  },
  {
   "cell_type": "code",
   "execution_count": 2,
   "id": "e338090a",
   "metadata": {},
   "outputs": [
    {
     "name": "stdout",
     "output_type": "stream",
     "text": [
      "안녕하세요안녕하세요안녕하세요\n"
     ]
    }
   ],
   "source": [
    "string = '안녕하세요'\n",
    "print(string*3)"
   ]
  },
  {
   "cell_type": "code",
   "execution_count": null,
   "id": "6e62d0e1",
   "metadata": {},
   "outputs": [],
   "source": []
  },
  {
   "cell_type": "code",
   "execution_count": null,
   "id": "2772e1d0",
   "metadata": {},
   "outputs": [],
   "source": []
  }
 ],
 "metadata": {
  "kernelspec": {
   "display_name": "Python 3",
   "language": "python",
   "name": "python3"
  },
  "language_info": {
   "codemirror_mode": {
    "name": "ipython",
    "version": 3
   },
   "file_extension": ".py",
   "mimetype": "text/x-python",
   "name": "python",
   "nbconvert_exporter": "python",
   "pygments_lexer": "ipython3",
   "version": "3.8.8"
  },
  "toc": {
   "base_numbering": 1,
   "nav_menu": {},
   "number_sections": true,
   "sideBar": true,
   "skip_h1_title": false,
   "title_cell": "Table of Contents",
   "title_sidebar": "Contents",
   "toc_cell": false,
   "toc_position": {},
   "toc_section_display": true,
   "toc_window_display": false
  }
 },
 "nbformat": 4,
 "nbformat_minor": 5
}
