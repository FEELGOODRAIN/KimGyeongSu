{
 "cells": [
  {
   "cell_type": "markdown",
   "id": "bb7de281",
   "metadata": {},
   "source": [
    "# 리스트\n",
    " - 임의의 객체를 순차적으로 저장하고 집합적 자료형\n",
    " - 1차원 가변배열 : 크기게 정해져 있지 않은 배열\n",
    " - 각 값에 인덱스가 부여 (0부터 시작)\n",
    " - 값을 변경할 수 있다.\n",
    " - 생성 : [] , list()\n",
    " - 대표적인 함수 : range() , seq()\n",
    "     - range(시작값 , 끝값+1 , 간격)\n",
    "     - range(끝값+1) : 0부터 시작해서 끝값까지 값을 생성\n",
    "    "
   ]
  },
  {
   "cell_type": "markdown",
   "id": "d625e14b",
   "metadata": {},
   "source": [
    "## 리스트 생성"
   ]
  },
  {
   "cell_type": "code",
   "execution_count": 1,
   "id": "40e46c8a",
   "metadata": {},
   "outputs": [],
   "source": [
    "a = []"
   ]
  },
  {
   "cell_type": "code",
   "execution_count": 2,
   "id": "232ef96e",
   "metadata": {},
   "outputs": [],
   "source": [
    "#숫자값을 담고 있는 리스트\n",
    "\n",
    "x = [1,2,3,4,5]\n",
    "y = ['python','c++','Java']\n",
    "z = ['python',1,-100]\n",
    "w = [1,2,[3,4,5]]\n",
    "k = [[1,2],[3,4,5]]\n",
    "\n"
   ]
  },
  {
   "cell_type": "markdown",
   "id": "6d47d627",
   "metadata": {},
   "source": [
    "## 리스트 연산"
   ]
  },
  {
   "cell_type": "code",
   "execution_count": 3,
   "id": "ee83b65d",
   "metadata": {},
   "outputs": [
    {
     "name": "stdout",
     "output_type": "stream",
     "text": [
      "[1, 2]\n",
      "[3, 4, 5]\n",
      "[1, 2, 3, 4, 5]\n",
      "[3, 4, 5, 1, 2]\n",
      "[1, 2, 1, 2, 1, 2]\n",
      "[1, 2, 1, 2, 3, 4, 5, 3, 4, 5, 3, 4, 5]\n"
     ]
    }
   ],
   "source": [
    "a = [1,2]\n",
    "b = [3,4,5]\n",
    "c = a + b\n",
    "d = b + a\n",
    "e = a * 3\n",
    "f = a * 2 + b * 3\n",
    "\n",
    "print(a,b,c,d,e,f , sep='\\n')\n",
    "\n"
   ]
  },
  {
   "cell_type": "markdown",
   "id": "eec5098e",
   "metadata": {},
   "source": [
    "## 리스트의 인덱싱과 슬라이싱\n",
    "\n",
    " - 인덱싱(indexing) : 특정 위치값을 추출(시작은 0과 -1)\n",
    " - 슬라이싱(slicing) : 일부분을 추출"
   ]
  },
  {
   "cell_type": "code",
   "execution_count": 4,
   "id": "30e5e069",
   "metadata": {},
   "outputs": [
    {
     "name": "stdout",
     "output_type": "stream",
     "text": [
      "[1, 2, [3, 4, 5], 'python']\n",
      "[3, 4, 5]\n",
      "4\n",
      "4\n",
      "t\n"
     ]
    }
   ],
   "source": [
    "a = [1, 2 , [3, 4 , 5],'python']\n",
    "print(a)\n",
    "print(a[2])\n",
    "print(len(a))\n",
    "\n",
    "print(a[2][1])\n",
    "print(a[3][2])"
   ]
  },
  {
   "cell_type": "code",
   "execution_count": 5,
   "id": "e131e415",
   "metadata": {},
   "outputs": [
    {
     "name": "stdout",
     "output_type": "stream",
     "text": [
      "[1, 2, [3, 4, 5]]\n",
      "[4, 5]\n",
      "pyt\n"
     ]
    }
   ],
   "source": [
    "print(a[0:3])\n",
    "\n",
    "print(a[2][1:])\n",
    "print(a[3][:3])\n"
   ]
  },
  {
   "cell_type": "markdown",
   "id": "e02d7b60",
   "metadata": {},
   "source": [
    "## 리스트의 수정 , 변경 , 삭제"
   ]
  },
  {
   "cell_type": "code",
   "execution_count": 6,
   "id": "209f16da",
   "metadata": {},
   "outputs": [
    {
     "name": "stdout",
     "output_type": "stream",
     "text": [
      "[1, 2, -12, 4, 5]\n"
     ]
    }
   ],
   "source": [
    "a = [1,2,3,4,5]\n",
    "a[2] = -12\n",
    "print(a)"
   ]
  },
  {
   "cell_type": "code",
   "execution_count": 7,
   "id": "a1fc6805",
   "metadata": {},
   "outputs": [
    {
     "name": "stdout",
     "output_type": "stream",
     "text": [
      "[1, 'a', 'b', 'c', 3]\n"
     ]
    }
   ],
   "source": [
    "a = [1,2,3]\n",
    "a[1:2] = ['a','b','c']\n",
    "print(a)"
   ]
  },
  {
   "cell_type": "code",
   "execution_count": 8,
   "id": "61b22003",
   "metadata": {},
   "outputs": [
    {
     "name": "stdout",
     "output_type": "stream",
     "text": [
      "a :  [10, 2, 3, 4, 5]\n",
      "b :  [10, 2, 3, 4, 5]\n"
     ]
    }
   ],
   "source": [
    "#파이썬의 메모리 관리 방식\n",
    "# 리스트 : 1차원 배열\n",
    "#깊은복사와 얕은복사\n",
    "\n",
    "a=[1,2,3,4,5]\n",
    "b=a # a는 주소 , b는 a의 주소를 참조 : 얕은복사\n",
    "\n",
    "b[0]=10\n",
    "print('a : ',a)\n",
    "print('b : ',b)"
   ]
  },
  {
   "cell_type": "code",
   "execution_count": 9,
   "id": "f716f9ab",
   "metadata": {
    "scrolled": true
   },
   "outputs": [
    {
     "name": "stdout",
     "output_type": "stream",
     "text": [
      "1927642821184\n",
      "1927642821184\n"
     ]
    }
   ],
   "source": [
    "print(id(a) , id(b) , sep='\\n')"
   ]
  },
  {
   "cell_type": "code",
   "execution_count": 10,
   "id": "28cdd83a",
   "metadata": {
    "scrolled": true
   },
   "outputs": [
    {
     "name": "stdout",
     "output_type": "stream",
     "text": [
      "a :  [1, 2, 3, 4, 5]\n",
      "b :  [10, 2, 3, 4, 5]\n",
      "1927642790848\n",
      "1927642790976\n"
     ]
    }
   ],
   "source": [
    "a = [1,2,3,4,5]\n",
    "b = a[:]\n",
    "b[0]=10\n",
    "print('a : ',a)\n",
    "print('b : ',b) # 깊은복사\n",
    "\n",
    "print(id(a) , id(b) , sep='\\n')"
   ]
  },
  {
   "cell_type": "code",
   "execution_count": 11,
   "id": "256e5011",
   "metadata": {},
   "outputs": [
    {
     "name": "stdout",
     "output_type": "stream",
     "text": [
      "[1, 3]\n"
     ]
    }
   ],
   "source": [
    "#삭제\n",
    "a = [1,2,3]\n",
    "\n",
    "a[1:2] = []\n",
    "\n",
    "print(a)"
   ]
  },
  {
   "cell_type": "code",
   "execution_count": 12,
   "id": "2bd74ecd",
   "metadata": {},
   "outputs": [
    {
     "name": "stdout",
     "output_type": "stream",
     "text": [
      "[1, 3]\n"
     ]
    }
   ],
   "source": [
    "a = [1,2,3]\n",
    "\n",
    "del a[1]\n",
    "print(a)"
   ]
  },
  {
   "cell_type": "code",
   "execution_count": 37,
   "id": "f7235274",
   "metadata": {},
   "outputs": [
    {
     "name": "stdout",
     "output_type": "stream",
     "text": [
      "[1, 2, 3, ['a', 'b', 'c']]\n"
     ]
    }
   ],
   "source": [
    "s = [1,2,3,['a','b','c']]\n",
    "print(s)"
   ]
  },
  {
   "cell_type": "code",
   "execution_count": 13,
   "id": "a57d787b",
   "metadata": {},
   "outputs": [
    {
     "name": "stdout",
     "output_type": "stream",
     "text": [
      "[1, 4, 5]\n"
     ]
    }
   ],
   "source": [
    "a = [1,2,3,4,5]\n",
    "\n",
    "del a[1:3]\n",
    "print(a)"
   ]
  },
  {
   "cell_type": "markdown",
   "id": "1aa3e9aa",
   "metadata": {},
   "source": [
    "## 리스트 관련 함수"
   ]
  },
  {
   "cell_type": "code",
   "execution_count": 14,
   "id": "5e430169",
   "metadata": {},
   "outputs": [
    {
     "name": "stdout",
     "output_type": "stream",
     "text": [
      "[1, 2, 6]\n"
     ]
    }
   ],
   "source": [
    "# append() : 리스트의 맨 뒤에 추가\n",
    "a = [1,2]\n",
    "a.append(6)\n",
    "print(a)"
   ]
  },
  {
   "cell_type": "code",
   "execution_count": 15,
   "id": "6a58a1c0",
   "metadata": {},
   "outputs": [
    {
     "name": "stdout",
     "output_type": "stream",
     "text": [
      "[1, 2, 3, 4]\n"
     ]
    }
   ],
   "source": [
    "#extend : 리스트의 뒤에 여러 개의 값을 추가\n",
    "\n",
    "a = [1,2]\n",
    "a.extend([3,4])\n",
    "print(a)"
   ]
  },
  {
   "cell_type": "code",
   "execution_count": 16,
   "id": "b2a6b5d8",
   "metadata": {},
   "outputs": [
    {
     "data": {
      "text/plain": [
       "15"
      ]
     },
     "execution_count": 16,
     "metadata": {},
     "output_type": "execute_result"
    }
   ],
   "source": [
    "#sum : 리스트의 합계\n",
    "#max : 최댓값\n",
    "#min : 최소값\n",
    "a=[1,2,3,4,5]\n",
    "sum(a)\n"
   ]
  },
  {
   "cell_type": "code",
   "execution_count": 17,
   "id": "08bd2cc2",
   "metadata": {},
   "outputs": [
    {
     "name": "stdout",
     "output_type": "stream",
     "text": [
      "[632, 51, 4, 3, 2, 1]\n"
     ]
    }
   ],
   "source": [
    "#sort : 정렬 ( 기본 : 오름차순 ) , sort(reverse = True) : 내림차순\n",
    "\n",
    "a = [2,3,1,4,51,632]\n",
    "\n",
    "a.sort(reverse=True)\n",
    "print(a)"
   ]
  },
  {
   "cell_type": "code",
   "execution_count": 41,
   "id": "acf56a61",
   "metadata": {},
   "outputs": [
    {
     "name": "stdout",
     "output_type": "stream",
     "text": [
      "[51, 4, 1, 3, 2]\n"
     ]
    }
   ],
   "source": [
    "a = [2,3,1,4,51]\n",
    "a.reverse()\n",
    "print(a)"
   ]
  },
  {
   "cell_type": "code",
   "execution_count": 18,
   "id": "544aa185",
   "metadata": {},
   "outputs": [
    {
     "name": "stdout",
     "output_type": "stream",
     "text": [
      "[1, 3, 4, 5]\n"
     ]
    }
   ],
   "source": [
    "#remove\n",
    "a = [1,2,3,4,5]\n",
    "a.remove(2)\n",
    "print(a)"
   ]
  },
  {
   "cell_type": "code",
   "execution_count": 19,
   "id": "d171a678",
   "metadata": {},
   "outputs": [
    {
     "name": "stdout",
     "output_type": "stream",
     "text": [
      "[1, 2, 3, 4]\n"
     ]
    }
   ],
   "source": [
    "#pop() : 마지막에 입력된 값을 추출\n",
    "\n",
    "a = [1,2,3,4,5]\n",
    "a.pop()\n",
    "print(a)"
   ]
  },
  {
   "cell_type": "code",
   "execution_count": 20,
   "id": "91ba203f",
   "metadata": {},
   "outputs": [
    {
     "name": "stdout",
     "output_type": "stream",
     "text": [
      "[1, 2, 4, 5]\n"
     ]
    }
   ],
   "source": [
    "#pop(index) : 인덱스 제거\n",
    "\n",
    "a=[1,2,3,4,5]\n",
    "a.pop(2)\n",
    "print(a)"
   ]
  },
  {
   "cell_type": "code",
   "execution_count": 21,
   "id": "107c0db9",
   "metadata": {},
   "outputs": [
    {
     "name": "stdout",
     "output_type": "stream",
     "text": [
      "[1, 2, 3, 4, 5]\n",
      "[]\n"
     ]
    }
   ],
   "source": [
    "#clear()리스트의 모든 요소 제가\n",
    "\n",
    "a = [1,2,3,4,5]\n",
    "print(a)\n",
    "a.clear()\n",
    "print(a)"
   ]
  },
  {
   "cell_type": "code",
   "execution_count": 36,
   "id": "6e10b01e",
   "metadata": {},
   "outputs": [
    {
     "name": "stdout",
     "output_type": "stream",
     "text": [
      "[1, 3, 5, 7, 9]\n"
     ]
    }
   ],
   "source": [
    "l1 = [1,3,5,7,9]\n",
    "print(l1)\n",
    "\n"
   ]
  },
  {
   "cell_type": "markdown",
   "id": "00d259ae",
   "metadata": {},
   "source": [
    "# 튜플(Tuple)\n",
    " - 리스트와 유사한 자료구조 , 단 변경 불가\n",
    " - 읽기전용 자료를 보관할 떄 사용\n",
    " - 각 값에 인덱스가 부여\n",
    " - 생성 : () , tuple()\n",
    " - 리스트 관련 함수도 사용 가능"
   ]
  },
  {
   "cell_type": "code",
   "execution_count": 22,
   "id": "338f5833",
   "metadata": {},
   "outputs": [
    {
     "name": "stdout",
     "output_type": "stream",
     "text": [
      "(1, 2, 3)\n"
     ]
    }
   ],
   "source": [
    "a = (1,2,3)\n",
    "type(a)\n",
    "print(a)\n"
   ]
  },
  {
   "cell_type": "code",
   "execution_count": 23,
   "id": "8714ac83",
   "metadata": {},
   "outputs": [
    {
     "name": "stdout",
     "output_type": "stream",
     "text": [
      "(1, 2, 3, 4, 5) <class 'tuple'>\n"
     ]
    }
   ],
   "source": [
    "a = 1,2,3,4,5\n",
    "print(a, type(a))"
   ]
  },
  {
   "cell_type": "code",
   "execution_count": 24,
   "id": "188d429c",
   "metadata": {},
   "outputs": [
    {
     "name": "stdout",
     "output_type": "stream",
     "text": [
      "(3, 4, 5)\n",
      "15\n"
     ]
    }
   ],
   "source": [
    "a = (1,2,3,4,5)\n",
    "print(a[2:])\n",
    "\n",
    "print(sum(a))\n",
    "\n"
   ]
  },
  {
   "cell_type": "code",
   "execution_count": 44,
   "id": "5d4e7f91",
   "metadata": {},
   "outputs": [
    {
     "name": "stdout",
     "output_type": "stream",
     "text": [
      "[1, 2, 3, 4, 5]\n",
      "(1, 2, 3, 4, 5)\n",
      "(1, 2, 3, 4, 5)\n",
      "[1, 2, 3, 4, 5]\n"
     ]
    }
   ],
   "source": [
    "#형변환\n",
    "a = [1,2,3,4,5]\n",
    "b = tuple(a)\n",
    "\n",
    "print(a)\n",
    "print(b)\n",
    "\n",
    "c = (1,2,3,4,5)\n",
    "d = list(c)\n",
    "\n",
    "print(c)\n",
    "print(d)"
   ]
  },
  {
   "cell_type": "markdown",
   "id": "838dbdba",
   "metadata": {},
   "source": [
    "# 사전(Dictionary)\n",
    "\n",
    " - 파이썬에서 가장 많이 사용되는 자료구조\n",
    " - 키와 값을 동시에 관리하는 자료구조\n",
    " - 키는 중복을 허용하지 않음.\n",
    " - 값은 중복을 허용함.\n",
    " - 순서가 중요하지 않다.(인덱스가 없음 , 키로 읽어옴)\n",
    " - 생성 : {} , dict()\n",
    " - 주요함수\n",
    "     -사전.keys() : key만 추출\n",
    "     -사전.values() : value만 추출\n",
    "     -사전.items() : item(key:value)단위로 추출\n",
    "     -keys() , values() , items()의 결과는 모두 리스트로 반환"
   ]
  },
  {
   "cell_type": "code",
   "execution_count": 45,
   "id": "cfaae1ff",
   "metadata": {},
   "outputs": [
    {
     "name": "stdout",
     "output_type": "stream",
     "text": [
      "<class 'dict'>\n"
     ]
    }
   ],
   "source": [
    "a = {}\n",
    "print(type(a))"
   ]
  },
  {
   "cell_type": "code",
   "execution_count": 53,
   "id": "2d661fbb",
   "metadata": {},
   "outputs": [
    {
     "name": "stdout",
     "output_type": "stream",
     "text": [
      "{'name': '장보고', 'phone': '010-9999-1234', 'gender': 'M'}\n",
      "dict_keys(['name', 'phone', 'gender'])\n"
     ]
    }
   ],
   "source": [
    "dic = {'name' : '홍길동' , 'phone' : '010-9999-1234' , 'birth' : '2023-08-23'}\n",
    "\n",
    "dic['name'] = '장보고'\n",
    "del dic['birth']\n",
    "dic['gender']='M'\n",
    "print(dic)\n",
    "print(dic.keys())"
   ]
  },
  {
   "cell_type": "code",
   "execution_count": 54,
   "id": "f20c7308",
   "metadata": {},
   "outputs": [
    {
     "name": "stdout",
     "output_type": "stream",
     "text": [
      "name\n",
      "phone\n",
      "gender\n"
     ]
    }
   ],
   "source": [
    "for key in dic.keys():\n",
    "    print(key)"
   ]
  },
  {
   "cell_type": "code",
   "execution_count": 55,
   "id": "299c177d",
   "metadata": {},
   "outputs": [
    {
     "data": {
      "text/plain": [
       "dict_items([('name', '장보고'), ('phone', '010-9999-1234'), ('gender', 'M')])"
      ]
     },
     "execution_count": 55,
     "metadata": {},
     "output_type": "execute_result"
    }
   ],
   "source": [
    "dic.items()"
   ]
  },
  {
   "cell_type": "code",
   "execution_count": 56,
   "id": "695af239",
   "metadata": {},
   "outputs": [
    {
     "name": "stdout",
     "output_type": "stream",
     "text": [
      "name 장보고\n",
      "phone 010-9999-1234\n",
      "gender M\n"
     ]
    }
   ],
   "source": [
    "for key,value in dic.items():\n",
    "    print(key,value)"
   ]
  },
  {
   "cell_type": "code",
   "execution_count": 57,
   "id": "2e47d4e5",
   "metadata": {},
   "outputs": [
    {
     "name": "stdout",
     "output_type": "stream",
     "text": [
      "장보고\n",
      "장보고\n"
     ]
    }
   ],
   "source": [
    "print(dic.get('name'))\n",
    "print(dic['name'])"
   ]
  },
  {
   "cell_type": "markdown",
   "id": "f19c0e71",
   "metadata": {},
   "source": [
    "# Set(집합)\n",
    " - 순서에 의미가 없다\n",
    " - 중복이 불가능한 자료구조"
   ]
  },
  {
   "cell_type": "code",
   "execution_count": 60,
   "id": "2dcd0c76",
   "metadata": {},
   "outputs": [
    {
     "name": "stdout",
     "output_type": "stream",
     "text": [
      "{1, 2, 3}\n"
     ]
    }
   ],
   "source": [
    "s1 = set([1,2,3])\n",
    "print(s1)"
   ]
  },
  {
   "cell_type": "code",
   "execution_count": 61,
   "id": "27ed00eb",
   "metadata": {},
   "outputs": [
    {
     "name": "stdout",
     "output_type": "stream",
     "text": [
      "{'t', 'h', 'y', 'n', 'p', 'o'}\n"
     ]
    }
   ],
   "source": [
    "s2 = set('python')\n",
    "print(s2)"
   ]
  },
  {
   "cell_type": "code",
   "execution_count": 62,
   "id": "c1dda18a",
   "metadata": {},
   "outputs": [
    {
     "name": "stdout",
     "output_type": "stream",
     "text": [
      "(1, 2, 3)\n"
     ]
    }
   ],
   "source": [
    "p=tuple(s1)\n",
    "print(p)"
   ]
  },
  {
   "cell_type": "code",
   "execution_count": 63,
   "id": "307aa598",
   "metadata": {},
   "outputs": [
    {
     "name": "stdout",
     "output_type": "stream",
     "text": [
      "[1, 2, 3, 3, 4, 5, 6, 6, 7] <class 'list'>\n",
      "{1, 2, 3, 4, 5, 6, 7} <class 'set'>\n"
     ]
    }
   ],
   "source": [
    "a=[1,2,3,3,4,5,6,6,7]\n",
    "print(a,type(a))\n",
    "\n",
    "b=set(a)\n",
    "\n",
    "print(b,type(b))"
   ]
  },
  {
   "cell_type": "markdown",
   "id": "6e9ff99b",
   "metadata": {},
   "source": [
    "## 교집합 , 합집합 , 차집합"
   ]
  },
  {
   "cell_type": "code",
   "execution_count": 79,
   "id": "20d27588",
   "metadata": {},
   "outputs": [
    {
     "name": "stdout",
     "output_type": "stream",
     "text": [
      "{1, 2, 3, 4, 5, 6}\n",
      "{4, 5, 6, 7, 8, 9}\n",
      "{1, 2, 3, 4, 5, 6, 7, 8, 9}\n",
      "{1, 2, 3, 4, 5, 6, 7, 8, 9}\n",
      "{1, 2, 3, 4, 5, 6, 7, 8, 9}\n",
      "{4, 5, 6}\n",
      "{4, 5, 6}\n",
      "{1, 2, 3}\n",
      "{8, 9, 7}\n",
      "{1, 2, 3}\n",
      "{8, 9, 7}\n"
     ]
    }
   ],
   "source": [
    "s1 = set([1,2,3,4,5,6])\n",
    "s2 = set([4,5,6,7,8,9])\n",
    "\n",
    "print(s1)\n",
    "print(s2)\n",
    "##합집합  : | , union()\n",
    "print(s1|s2)\n",
    "print(s1.union(s2))\n",
    "print(s2.union(s1))\n",
    "\n",
    "##교집합  : & , intersection\n",
    "\n",
    "print(s1&s2)\n",
    "print(s1.intersection(s2))\n",
    "\n",
    "##차집합  : - , difference()\n",
    "\n",
    "print(s1-s2)\n",
    "print(s2-s1)\n",
    "print(s1.difference(s2))\n",
    "print(s2.difference(s1))"
   ]
  },
  {
   "cell_type": "code",
   "execution_count": 83,
   "id": "1ed7d654",
   "metadata": {},
   "outputs": [
    {
     "name": "stdout",
     "output_type": "stream",
     "text": [
      "{1, 2, 3}\n",
      "{1, 2, 3, 4}\n",
      "{1, 2, 3, 4, 5, 6, 7}\n",
      "{1, 3, 4, 5, 6, 7}\n"
     ]
    }
   ],
   "source": [
    "# add() : 하나의 값을 추가\n",
    "\n",
    "s1=set([1,2,3])\n",
    "print(s1)\n",
    "s1.add(4)\n",
    "print(s1)\n",
    "\n",
    "##update() : 여러 개의 값을 추가\n",
    "\n",
    "s1.update([5,6,7])\n",
    "print(s1)\n",
    "\n",
    "##remove() : 특정 값을 제거\n",
    "\n",
    "s1.remove(2)\n",
    "print(s1)\n",
    "\n"
   ]
  },
  {
   "cell_type": "code",
   "execution_count": 87,
   "id": "30dc277b",
   "metadata": {},
   "outputs": [
    {
     "name": "stdout",
     "output_type": "stream",
     "text": [
      "a\t b\t c\t d\t dic\t e\t f\t i\t k\t \n",
      "key\t l1\t p\t s\t s1\t s2\t value\t w\t x\t \n",
      "y\t z\t \n"
     ]
    }
   ],
   "source": []
  }
 ],
 "metadata": {
  "kernelspec": {
   "display_name": "Python 3",
   "language": "python",
   "name": "python3"
  },
  "language_info": {
   "codemirror_mode": {
    "name": "ipython",
    "version": 3
   },
   "file_extension": ".py",
   "mimetype": "text/x-python",
   "name": "python",
   "nbconvert_exporter": "python",
   "pygments_lexer": "ipython3",
   "version": "3.8.8"
  },
  "toc": {
   "base_numbering": 1,
   "nav_menu": {},
   "number_sections": true,
   "sideBar": true,
   "skip_h1_title": false,
   "title_cell": "Table of Contents",
   "title_sidebar": "Contents",
   "toc_cell": false,
   "toc_position": {},
   "toc_section_display": true,
   "toc_window_display": false
  }
 },
 "nbformat": 4,
 "nbformat_minor": 5
}
