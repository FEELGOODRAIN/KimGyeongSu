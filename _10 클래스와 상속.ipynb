{
 "cells": [
  {
   "cell_type": "markdown",
   "id": "ee28a9fc",
   "metadata": {},
   "source": [
    "# 클래스"
   ]
  },
  {
   "cell_type": "code",
   "execution_count": null,
   "id": "29a94643",
   "metadata": {
    "ExecuteTime": {
     "end_time": "2023-08-28T00:20:13.950526Z",
     "start_time": "2023-08-28T00:20:13.938583Z"
    }
   },
   "outputs": [],
   "source": [
    "#사람이라는 객체를 추상화할 목적으로 구현\n",
    "class Person:\n",
    "    #맴버 필드 : 변수 , 인스턴스 변수(개별적인) , 클래스 변수(공유목적)\n",
    "    ## self : 인스턴스 자신의 주소값을 가르키는 키워드 , 자기 자신\n",
    "    ## super : 부모 객체를 가르키는 키워드\n",
    "    #생성자 메서드 : 인스턴스 객체 생성시 자동으로 추출되는 매서드\n",
    "    ## 맴버 필드를 초기화할 목적\n",
    "    def __init__(self,name):\n",
    "        self.name = name\n",
    "        print('객체 생성')\n",
    "    \n",
    "    #맴버 메서드\n",
    "    def walk(self):\n",
    "        print(self.name,'이 걸어갑니다')\n",
    "    \n",
    "    def run(self):\n",
    "        print(self.name,'이 달려갑니다')\n",
    "    #소멸자 메서드\n",
    "    #def __del__(self):\n",
    "        #print('객체 소멸')"
   ]
  },
  {
   "cell_type": "markdown",
   "id": "ceb873e7",
   "metadata": {},
   "source": [
    "## 인스턴스 객체 생성"
   ]
  },
  {
   "cell_type": "code",
   "execution_count": null,
   "id": "b8bee849",
   "metadata": {
    "ExecuteTime": {
     "end_time": "2023-08-28T00:20:15.500661Z",
     "start_time": "2023-08-28T00:20:15.487041Z"
    },
    "scrolled": true
   },
   "outputs": [],
   "source": [
    "p = Person('kim')\n",
    "p.walk()\n",
    "p.run()"
   ]
  },
  {
   "cell_type": "code",
   "execution_count": null,
   "id": "9f013b78",
   "metadata": {},
   "outputs": [],
   "source": []
  },
  {
   "cell_type": "markdown",
   "id": "e99c5c30",
   "metadata": {
    "ExecuteTime": {
     "end_time": "2023-08-28T00:30:10.293879Z",
     "start_time": "2023-08-28T00:30:10.290914Z"
    }
   },
   "source": [
    "## Person 객체가 생성될 때 해당 클래스로 만든 객체의 수를 카운트하는 값"
   ]
  },
  {
   "cell_type": "code",
   "execution_count": null,
   "id": "edff9e79",
   "metadata": {
    "ExecuteTime": {
     "end_time": "2023-08-28T00:39:29.699426Z",
     "start_time": "2023-08-28T00:39:29.675689Z"
    }
   },
   "outputs": [],
   "source": [
    "#사람이라는 객체를 추상화할 목적으로 구현\n",
    "class Person:\n",
    "    #맴버 필드 : 변수 , 인스턴스 변수(개별적인) , 클래스 변수(공유목적)\n",
    "    ## self : 인스턴스 자신의 주소값을 가르키는 키워드 , 자기 자신\n",
    "    ## super : 부모 객체를 가르키는 키워드\n",
    "    #생성자 메서드 : 인스턴스 객체 생성시 자동으로 추출되는 매서드\n",
    "    ## 맴버 필드를 초기화할 목적\n",
    "    \n",
    "    count = 0\n",
    "    def __init__(self,name):\n",
    "        self.name = name\n",
    "        Person.count = self.count + 1\n",
    "        print('객체 생성')\n",
    "    \n",
    "    #맴버 메서드\n",
    "    def walk(self):\n",
    "        print(self.name,'이 걸어갑니다')\n",
    "    \n",
    "    def run(self):\n",
    "        print(self.name,'이 달려갑니다')\n",
    "        \n",
    "    def show(self):\n",
    "        print('생성된 객체 수 : ',self.count)\n",
    "    #소멸자 메서드\n",
    "    #def __del__(self):\n",
    "        #print('객체 소멸')"
   ]
  },
  {
   "cell_type": "code",
   "execution_count": null,
   "id": "bb42691a",
   "metadata": {
    "ExecuteTime": {
     "end_time": "2023-08-28T00:38:12.394802Z",
     "start_time": "2023-08-28T00:38:12.378779Z"
    }
   },
   "outputs": [],
   "source": [
    "p1 = Person('aaa')\n",
    "p1.show()"
   ]
  },
  {
   "cell_type": "code",
   "execution_count": null,
   "id": "ca99ebd1",
   "metadata": {
    "ExecuteTime": {
     "end_time": "2023-08-28T00:39:31.349415Z",
     "start_time": "2023-08-28T00:39:31.327809Z"
    }
   },
   "outputs": [],
   "source": [
    "p1 = Person('aaa')\n",
    "p2 = Person('bbb')\n",
    "\n",
    "p2.show()"
   ]
  },
  {
   "cell_type": "code",
   "execution_count": null,
   "id": "affe4310",
   "metadata": {},
   "outputs": [],
   "source": []
  },
  {
   "cell_type": "markdown",
   "id": "2d742855",
   "metadata": {},
   "source": [
    "## 클래스 변수 : 모든 인스턴스를 공유할 목적으로 구현"
   ]
  },
  {
   "cell_type": "code",
   "execution_count": null,
   "id": "d734bf3a",
   "metadata": {
    "ExecuteTime": {
     "end_time": "2023-08-28T00:43:49.637324Z",
     "start_time": "2023-08-28T00:43:49.621838Z"
    }
   },
   "outputs": [],
   "source": [
    "class Person:\n",
    "    name = 'kim'\n",
    "    age = '20'\n",
    "    height = 180.5\n",
    "    \n",
    "    def disp(self):\n",
    "        print('이름 : ' ,self.name)\n",
    "        print('나이 : ' , self.age)\n",
    "        print('신장 : ' , self.height)\n",
    "        print('-'*50)\n",
    "        print('이름 : ' , Person.name)\n",
    "        print('나이 : ' , Person.age)\n",
    "        print('신장 : ' , Person.height)"
   ]
  },
  {
   "cell_type": "code",
   "execution_count": null,
   "id": "a0261654",
   "metadata": {
    "ExecuteTime": {
     "end_time": "2023-08-28T00:44:30.670215Z",
     "start_time": "2023-08-28T00:44:30.663516Z"
    }
   },
   "outputs": [],
   "source": [
    "p1 = Person()\n",
    "p1.disp()"
   ]
  },
  {
   "cell_type": "code",
   "execution_count": null,
   "id": "e2be8ef1",
   "metadata": {
    "ExecuteTime": {
     "end_time": "2023-08-28T00:45:54.614038Z",
     "start_time": "2023-08-28T00:45:54.607527Z"
    }
   },
   "outputs": [],
   "source": [
    "p2=Person()\n",
    "p2.name = 'park'\n",
    "p2.age = 15\n",
    "p2.height = 160.3\n",
    "p2.disp()"
   ]
  },
  {
   "cell_type": "code",
   "execution_count": null,
   "id": "3bad49a7",
   "metadata": {
    "ExecuteTime": {
     "end_time": "2023-08-28T00:47:29.041441Z",
     "start_time": "2023-08-28T00:47:29.033949Z"
    }
   },
   "outputs": [],
   "source": [
    "p3 = p2\n",
    "p3.name = 'hong'\n",
    "p3.disp()\n",
    "p2.disp()"
   ]
  },
  {
   "cell_type": "markdown",
   "id": "013f2b0a",
   "metadata": {},
   "source": [
    "## default parameter : 매개변수의 초기화"
   ]
  },
  {
   "cell_type": "code",
   "execution_count": null,
   "id": "e7fb009a",
   "metadata": {
    "ExecuteTime": {
     "end_time": "2023-08-28T01:04:07.793873Z",
     "start_time": "2023-08-28T01:04:07.785723Z"
    }
   },
   "outputs": [],
   "source": [
    "class Member:\n",
    "    def __init__(self,userid,pwd,name = '' , age = 0):\n",
    "        self.userid = userid\n",
    "        self.pwd = pwd\n",
    "        self.name = name\n",
    "        self.age = age\n",
    "    def show(self):\n",
    "        print('id : ',self.userid , '\\npwd : ',self.pwd , '\\nname = ' , self.name , '\\nage = ' , self.age)"
   ]
  },
  {
   "cell_type": "code",
   "execution_count": null,
   "id": "000e5e2d",
   "metadata": {
    "ExecuteTime": {
     "end_time": "2023-08-28T01:04:16.905695Z",
     "start_time": "2023-08-28T01:04:16.902539Z"
    },
    "scrolled": false
   },
   "outputs": [],
   "source": [
    "p = Member(111,123)\n",
    "p.show()"
   ]
  },
  {
   "cell_type": "markdown",
   "id": "df8a3cbf",
   "metadata": {},
   "source": [
    "# 상속\n",
    "\n",
    "    - 기반클래스 , 부모클래스 , 슈퍼클래스\n",
    "    - 파생클라스 , 자녀클래스 , 서브클래스"
   ]
  },
  {
   "cell_type": "code",
   "execution_count": null,
   "id": "b120defa",
   "metadata": {
    "ExecuteTime": {
     "end_time": "2023-08-28T01:18:33.771252Z",
     "start_time": "2023-08-28T01:18:33.762502Z"
    }
   },
   "outputs": [],
   "source": [
    "#자식객체는 부모객체의 맴버를 초기화해야 함.\n",
    "\n",
    "class Person:\n",
    "    \n",
    "    def __init__(self):\n",
    "        print('Person.__init__')\n",
    "        self.hello = '안녕하세요'\n",
    "        \n",
    "class Student(Person):\n",
    "    def __init__(self):\n",
    "        super().__init__()\n",
    "        print('Student.__init__')\n",
    "        self.school = '파이썬 공부'"
   ]
  },
  {
   "cell_type": "code",
   "execution_count": null,
   "id": "8e2facf7",
   "metadata": {
    "ExecuteTime": {
     "end_time": "2023-08-28T01:18:46.453383Z",
     "start_time": "2023-08-28T01:18:46.446380Z"
    }
   },
   "outputs": [],
   "source": [
    "# 상속의 기본 : 자식객체를 이용해 부모객체에 접근이 허용\n",
    "\n",
    "a = Student()\n",
    "print(a.school)\n",
    "print(a.hello)"
   ]
  },
  {
   "cell_type": "code",
   "execution_count": null,
   "id": "cf725f53",
   "metadata": {
    "ExecuteTime": {
     "end_time": "2023-08-28T01:10:58.953086Z",
     "start_time": "2023-08-28T01:10:58.944412Z"
    }
   },
   "outputs": [],
   "source": [
    "#상속관계확인\n",
    "issubclass(Student,Person)"
   ]
  },
  {
   "cell_type": "markdown",
   "id": "04c04be6",
   "metadata": {},
   "source": [
    "## 오버라이딩(overriding) : 재정의"
   ]
  },
  {
   "cell_type": "code",
   "execution_count": null,
   "id": "8a87a763",
   "metadata": {
    "ExecuteTime": {
     "end_time": "2023-08-28T01:24:29.813560Z",
     "start_time": "2023-08-28T01:24:29.805403Z"
    }
   },
   "outputs": [],
   "source": [
    "class Person:\n",
    "    def greeting(self):\n",
    "        print('안녕하세요')\n",
    "        \n",
    "class Student(Person):\n",
    "    def greeting(self):\n",
    "        Person.greeting(self)\n",
    "        print('나는 파이썬을 공부하는 학생입니다')"
   ]
  },
  {
   "cell_type": "code",
   "execution_count": null,
   "id": "7abd13ef",
   "metadata": {
    "ExecuteTime": {
     "end_time": "2023-08-28T01:24:30.975720Z",
     "start_time": "2023-08-28T01:24:30.968462Z"
    }
   },
   "outputs": [],
   "source": [
    "c = Student()\n",
    "c.greeting()"
   ]
  },
  {
   "cell_type": "markdown",
   "id": "9adbb200",
   "metadata": {
    "ExecuteTime": {
     "end_time": "2023-08-28T01:27:50.424260Z",
     "start_time": "2023-08-28T01:27:50.415120Z"
    }
   },
   "source": [
    "# 도형을 입력받아 출력하는 프로그램\n",
    "\n",
    "### 처리조건\n",
    "1. 10개의 도형을 입력받아 출력하는 프로그램\n",
    "2. 도형은 사용자가 원하는 객체를 받아서 처리\n",
    "3. 점, 원 , 사각형 중 선택하여 입력 , 10개가 넘으면 입력받을수 없도록 구현.\n",
    "4. 주어진 입출력 형식에 맞게 프로그램을 구현\n",
    "\n",
    "### 입력 및 출력형식\n",
    " - 입력(1. 원 . 2. 사각형 , 3. 도형출력 , 4. 종료)\n",
    " - 선택 = 1\n",
    "    - x = 6\n",
    "    - y = 9\n",
    "    - r = 5\n",
    "    \n",
    " - 선택 = 2\n",
    "    - x = 3\n",
    "    - y = 3\n",
    "    - h = 7\n",
    "    - w = 20\n",
    "    \n",
    " - 선택 = 3\n",
    "    - 점(x , y) = (6, 9)\n",
    "    - 반지름(r) = 5\n",
    "    \n",
    "    - 점(x , y) = (3, 3)\n",
    "    - 높이(h) = 7 , 너비(w) = 20\n",
    "    \n",
    " - 선택 = 4\n",
    "    - 종료"
   ]
  },
  {
   "cell_type": "code",
   "execution_count": null,
   "id": "1a3938a9",
   "metadata": {},
   "outputs": [],
   "source": []
  },
  {
   "cell_type": "code",
   "execution_count": 1,
   "id": "6de8486e",
   "metadata": {
    "ExecuteTime": {
     "end_time": "2023-08-28T01:57:12.223552Z",
     "start_time": "2023-08-28T01:57:12.196613Z"
    }
   },
   "outputs": [],
   "source": [
    "class Point:\n",
    "    def __init__(self):\n",
    "        self.x = eval(input('x : '))\n",
    "        self.y = eval(input('y : '))\n",
    "        \n",
    "    def show(self):\n",
    "        print(f'점(x,y) : ({self.x} , {self.y})')"
   ]
  },
  {
   "cell_type": "code",
   "execution_count": 2,
   "id": "6446bbeb",
   "metadata": {
    "ExecuteTime": {
     "end_time": "2023-08-28T01:57:12.233182Z",
     "start_time": "2023-08-28T01:57:12.223965Z"
    }
   },
   "outputs": [],
   "source": [
    "class Circle(Point):\n",
    "    def __init__(self):\n",
    "        Point.__init__(self)\n",
    "        self.r = eval(input('반지름 : '))\n",
    "        \n",
    "    def show(self):\n",
    "        Point.show(self)\n",
    "        print(f'반지름(r) : {self.r}')"
   ]
  },
  {
   "cell_type": "code",
   "execution_count": 3,
   "id": "ea593b69",
   "metadata": {
    "ExecuteTime": {
     "end_time": "2023-08-28T01:57:12.296303Z",
     "start_time": "2023-08-28T01:57:12.281512Z"
    }
   },
   "outputs": [],
   "source": [
    "class Squ(Point):\n",
    "    def __init__(self):\n",
    "        Point.__init__(self)\n",
    "        self.h=eval(input('높이 : '))\n",
    "        self.w=eval(input('너비 : '))\n",
    "        \n",
    "    def show(self):\n",
    "        Point.show(self)\n",
    "        print(f'높이(h) : {self.h} , 너비(w) : {self.w}')"
   ]
  },
  {
   "cell_type": "code",
   "execution_count": 7,
   "id": "45e291b4",
   "metadata": {
    "ExecuteTime": {
     "end_time": "2023-08-28T02:01:38.494340Z",
     "start_time": "2023-08-28T02:01:38.491158Z"
    }
   },
   "outputs": [],
   "source": []
  },
  {
   "cell_type": "code",
   "execution_count": 9,
   "id": "f4533c99",
   "metadata": {
    "ExecuteTime": {
     "end_time": "2023-08-28T02:02:03.444902Z",
     "start_time": "2023-08-28T02:02:03.432313Z"
    }
   },
   "outputs": [
    {
     "name": "stdout",
     "output_type": "stream",
     "text": [
      "작업 종료\n"
     ]
    }
   ],
   "source": [
    "count = 0\n",
    "data = []\n",
    "while count<10:\n",
    "    print('\\n입력(1. 원 . 2. 사각형 , 3. 도형출력 , 4. 종료)')\n",
    "    a = int(input('선택 :'))\n",
    "    if a==1:\n",
    "        c = Circle()\n",
    "        data.append(c)\n",
    "        count+=1\n",
    "        print('등록 완료')\n",
    "    elif a==2:\n",
    "        d = Squ()\n",
    "        data.append(d)\n",
    "        couint+=1\n",
    "        print('등록 완료')\n",
    "    elif a==3:\n",
    "        if len(data) == 0 :\n",
    "            print('입력된 도형이 존재하지 않습니다')\n",
    "        \n",
    "        else:\n",
    "            for j in data:\n",
    "                j.show()\n",
    "    elif a==4:\n",
    "        print('종료')\n",
    "        data.clear()\n",
    "        break\n",
    "    else:\n",
    "        print('올바르지 않은 선택')\n",
    "        \n",
    "print('작업 종료')"
   ]
  },
  {
   "cell_type": "markdown",
   "id": "f8501405",
   "metadata": {},
   "source": [
    "## 다중상속"
   ]
  },
  {
   "cell_type": "code",
   "execution_count": 10,
   "id": "79fe834a",
   "metadata": {
    "ExecuteTime": {
     "end_time": "2023-08-28T02:20:42.605660Z",
     "start_time": "2023-08-28T02:20:42.600570Z"
    }
   },
   "outputs": [],
   "source": [
    "class Phone:\n",
    "    def call(self):\n",
    "        print('통화가능')\n",
    "        \n",
    "class Camera:\n",
    "    def picture(self):\n",
    "        print('촬영가능')\n",
    "        \n",
    "class CameraPhone(Phone,Camera):\n",
    "    def picturecall(self):\n",
    "        print('영상통화 가능')"
   ]
  },
  {
   "cell_type": "code",
   "execution_count": 14,
   "id": "64776521",
   "metadata": {
    "ExecuteTime": {
     "end_time": "2023-08-28T02:21:26.492125Z",
     "start_time": "2023-08-28T02:21:26.478566Z"
    }
   },
   "outputs": [
    {
     "name": "stdout",
     "output_type": "stream",
     "text": [
      "촬영가능\n",
      "통화가능\n"
     ]
    }
   ],
   "source": [
    "p = CameraPhone()\n",
    "p.picture()\n",
    "p.call()"
   ]
  },
  {
   "cell_type": "code",
   "execution_count": null,
   "id": "b6a2f796",
   "metadata": {},
   "outputs": [],
   "source": []
  },
  {
   "cell_type": "markdown",
   "id": "ee69666e",
   "metadata": {},
   "source": [
    "# 파이썬 언더바 , 언더스코어 , 밑줄의 개념"
   ]
  },
  {
   "cell_type": "markdown",
   "id": "0a106990",
   "metadata": {},
   "source": [
    "## 언더바(언더스코어 , 밑줄)\n",
    " - 인터프리터에서 마지막 값\n",
    " - 무시하는 값\n",
    " - 숫자의 자릿수를 구분\n",
    " - (앞 언더바 1개) : 모듈내에서만 변수/함수를 사용할 때\n",
    " - (뒤 언더바 1개) : 변수/함수의 충돌을 피하기 위해\n",
    " - (앞 언더바 2개) : 네임 뱅글링\n",
    " - (앞뒤 언더바 2개씩) : 매직 메소드"
   ]
  },
  {
   "cell_type": "code",
   "execution_count": 15,
   "id": "7a59be1c",
   "metadata": {
    "ExecuteTime": {
     "end_time": "2023-08-28T02:27:16.783677Z",
     "start_time": "2023-08-28T02:27:16.765300Z"
    }
   },
   "outputs": [
    {
     "data": {
      "text/plain": [
       "7"
      ]
     },
     "execution_count": 15,
     "metadata": {},
     "output_type": "execute_result"
    }
   ],
   "source": [
    "3+4"
   ]
  },
  {
   "cell_type": "code",
   "execution_count": 17,
   "id": "35db2397",
   "metadata": {
    "ExecuteTime": {
     "end_time": "2023-08-28T02:27:27.610146Z",
     "start_time": "2023-08-28T02:27:27.601388Z"
    }
   },
   "outputs": [
    {
     "data": {
      "text/plain": [
       "10"
      ]
     },
     "execution_count": 17,
     "metadata": {},
     "output_type": "execute_result"
    }
   ],
   "source": [
    "_ + 3"
   ]
  },
  {
   "cell_type": "code",
   "execution_count": 24,
   "id": "9dba19fa",
   "metadata": {
    "ExecuteTime": {
     "end_time": "2023-08-28T02:28:51.484562Z",
     "start_time": "2023-08-28T02:28:51.474077Z"
    }
   },
   "outputs": [
    {
     "name": "stdout",
     "output_type": "stream",
     "text": [
      "hi\n",
      "hi\n",
      "hi\n",
      "hi\n",
      "hi\n"
     ]
    }
   ],
   "source": [
    "for _ in range(5):\n",
    "    print('hi')"
   ]
  },
  {
   "cell_type": "code",
   "execution_count": 34,
   "id": "02e6236a",
   "metadata": {
    "ExecuteTime": {
     "end_time": "2023-08-28T02:30:16.542177Z",
     "start_time": "2023-08-28T02:30:16.531574Z"
    }
   },
   "outputs": [
    {
     "name": "stdout",
     "output_type": "stream",
     "text": [
      "1 2\n"
     ]
    }
   ],
   "source": [
    "a = [1,2,3,4,5]\n",
    "aa , bb , _ , dd , ee = a\n"
   ]
  },
  {
   "cell_type": "code",
   "execution_count": 38,
   "id": "17df9fb0",
   "metadata": {
    "ExecuteTime": {
     "end_time": "2023-08-28T02:31:53.780073Z",
     "start_time": "2023-08-28T02:31:53.772073Z"
    }
   },
   "outputs": [
    {
     "name": "stdout",
     "output_type": "stream",
     "text": [
      "[2, 3, 4]\n"
     ]
    }
   ],
   "source": [
    "#가변길이 매개변수 : *변수명\n",
    "list01 = [1,2,3,4,5]\n",
    "a , *_ , e = list01\n",
    "\n"
   ]
  },
  {
   "cell_type": "code",
   "execution_count": null,
   "id": "f9a616b0",
   "metadata": {},
   "outputs": [],
   "source": []
  },
  {
   "cell_type": "code",
   "execution_count": null,
   "id": "68201201",
   "metadata": {},
   "outputs": [],
   "source": []
  },
  {
   "cell_type": "code",
   "execution_count": null,
   "id": "95ffc544",
   "metadata": {},
   "outputs": [],
   "source": []
  },
  {
   "cell_type": "code",
   "execution_count": null,
   "id": "12033f56",
   "metadata": {},
   "outputs": [],
   "source": []
  },
  {
   "cell_type": "code",
   "execution_count": null,
   "id": "90448f1d",
   "metadata": {},
   "outputs": [],
   "source": []
  },
  {
   "cell_type": "code",
   "execution_count": null,
   "id": "6de561a8",
   "metadata": {},
   "outputs": [],
   "source": []
  }
 ],
 "metadata": {
  "kernelspec": {
   "display_name": "Python 3",
   "language": "python",
   "name": "python3"
  },
  "language_info": {
   "codemirror_mode": {
    "name": "ipython",
    "version": 3
   },
   "file_extension": ".py",
   "mimetype": "text/x-python",
   "name": "python",
   "nbconvert_exporter": "python",
   "pygments_lexer": "ipython3",
   "version": "3.8.8"
  },
  "toc": {
   "base_numbering": 1,
   "nav_menu": {},
   "number_sections": true,
   "sideBar": true,
   "skip_h1_title": false,
   "title_cell": "Table of Contents",
   "title_sidebar": "Contents",
   "toc_cell": false,
   "toc_position": {},
   "toc_section_display": true,
   "toc_window_display": false
  }
 },
 "nbformat": 4,
 "nbformat_minor": 5
}
