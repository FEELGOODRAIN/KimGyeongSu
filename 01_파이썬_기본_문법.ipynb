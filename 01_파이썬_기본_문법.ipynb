{
 "cells": [
  {
   "cell_type": "markdown",
   "id": "c8d7a728",
   "metadata": {},
   "source": [
    "# 마크다운 ( Markdown)\n",
    "### 마크다운 : jupyter notebook에서 노트필기형식의 문법을 가지고 있는 영역\n",
    "##### 기본형식은 HTML 형식을 따른다."
   ]
  },
  {
   "cell_type": "code",
   "execution_count": 1,
   "id": "1aff3362",
   "metadata": {},
   "outputs": [],
   "source": [
    "#주석(comment) : 프로그램 실행과는 상관없이 메모할수 있음."
   ]
  },
  {
   "cell_type": "markdown",
   "id": "48010518",
   "metadata": {},
   "source": [
    "# 기본문법"
   ]
  },
  {
   "cell_type": "markdown",
   "id": "d32fcc48",
   "metadata": {},
   "source": [
    "## 파이썬 표준 라이브러리 문서\n",
    "https:/docs.python.org/3/library/index.html\n"
   ]
  },
  {
   "cell_type": "code",
   "execution_count": 2,
   "id": "b95b7f75",
   "metadata": {},
   "outputs": [],
   "source": [
    "#명령어 실행 방법\n",
    "\n",
    "#ctrl + enter : 현재 셀 실행\n",
    "#shift + enter : 현재 셀 실행하고 다음 새로운 셀을 생성"
   ]
  },
  {
   "cell_type": "markdown",
   "id": "ebcfb4b6",
   "metadata": {},
   "source": [
    "## 예약어(Keyword)\n",
    "##### 예약어를 식별자로 사용하는 에러는 발생하지 않지만 , 고유 기능이 사라짐\n",
    "##### 종결자가 없음 , 사용해도 에러는 아님\n"
   ]
  },
  {
   "cell_type": "code",
   "execution_count": 5,
   "id": "4a3827ad",
   "metadata": {},
   "outputs": [],
   "source": [
    "#파이썬에 등록된 예약어 목록을 확인하는 작업\n",
    "##파이썬의 에약어 모듈 추가\n",
    "import keyword"
   ]
  },
  {
   "cell_type": "code",
   "execution_count": 6,
   "id": "cc5002fb",
   "metadata": {},
   "outputs": [
    {
     "data": {
      "text/plain": [
       "['False',\n",
       " 'None',\n",
       " 'True',\n",
       " 'and',\n",
       " 'as',\n",
       " 'assert',\n",
       " 'async',\n",
       " 'await',\n",
       " 'break',\n",
       " 'class',\n",
       " 'continue',\n",
       " 'def',\n",
       " 'del',\n",
       " 'elif',\n",
       " 'else',\n",
       " 'except',\n",
       " 'finally',\n",
       " 'for',\n",
       " 'from',\n",
       " 'global',\n",
       " 'if',\n",
       " 'import',\n",
       " 'in',\n",
       " 'is',\n",
       " 'lambda',\n",
       " 'nonlocal',\n",
       " 'not',\n",
       " 'or',\n",
       " 'pass',\n",
       " 'raise',\n",
       " 'return',\n",
       " 'try',\n",
       " 'while',\n",
       " 'with',\n",
       " 'yield']"
      ]
     },
     "execution_count": 6,
     "metadata": {},
     "output_type": "execute_result"
    }
   ],
   "source": [
    "#해달 패키지의 명령어 사용법 : 다이렉트 연산자\n",
    "keyword.kwlist"
   ]
  },
  {
   "cell_type": "code",
   "execution_count": 7,
   "id": "8c137f96",
   "metadata": {},
   "outputs": [
    {
     "name": "stdout",
     "output_type": "stream",
     "text": [
      "35\n"
     ]
    }
   ],
   "source": [
    "#개수: len\n",
    "\n",
    "print(len(keyword.kwlist))"
   ]
  },
  {
   "cell_type": "markdown",
   "id": "1ea66255",
   "metadata": {},
   "source": [
    "## 들여쓰기와 공백\n",
    "###### 1. 들여쓰기 : 파이썬에서 공백문자 4칸의 의미를 가짐"
   ]
  },
  {
   "cell_type": "code",
   "execution_count": 8,
   "id": "5ff5e391",
   "metadata": {},
   "outputs": [
    {
     "name": "stdout",
     "output_type": "stream",
     "text": [
      "0\n",
      "1\n",
      "2\n",
      "3\n",
      "4\n",
      "5\n",
      "6\n",
      "7\n",
      "8\n",
      "9\n"
     ]
    }
   ],
   "source": [
    "for i in range(10):\n",
    "    print(i)"
   ]
  },
  {
   "cell_type": "code",
   "execution_count": 9,
   "id": "09bcc9e1",
   "metadata": {},
   "outputs": [
    {
     "name": "stdout",
     "output_type": "stream",
     "text": [
      "4\n"
     ]
    }
   ],
   "source": [
    "a=1\n",
    "if a<2:\n",
    "    a=4\n",
    "    print(a)\n",
    "    \n"
   ]
  },
  {
   "cell_type": "code",
   "execution_count": 11,
   "id": "ac619c60",
   "metadata": {
    "scrolled": true
   },
   "outputs": [
    {
     "name": "stdout",
     "output_type": "stream",
     "text": [
      "3\n"
     ]
    }
   ],
   "source": [
    "b=3\n",
    "if b<2:\n",
    "    b=4\n",
    "print(b)"
   ]
  },
  {
   "cell_type": "markdown",
   "id": "1e399c48",
   "metadata": {},
   "source": [
    "## 주석(comment)\n",
    "- 주석은 프로그램 실행과는 상관없이 설명을 담기 위해 사용하는 구문\n",
    "\n",
    "- 기호 : '#' , \"\"\"~~ \"\"\""
   ]
  },
  {
   "cell_type": "code",
   "execution_count": 13,
   "id": "5b629f3f",
   "metadata": {},
   "outputs": [
    {
     "data": {
      "text/plain": [
       "'주석주석\\n\\n주석주석\\n'"
      ]
     },
     "execution_count": 13,
     "metadata": {},
     "output_type": "execute_result"
    }
   ],
   "source": [
    "\"\"\"주석주석\n",
    "\n",
    "주석주석\n",
    "\"\"\""
   ]
  },
  {
   "cell_type": "code",
   "execution_count": 14,
   "id": "aa7af4b3",
   "metadata": {},
   "outputs": [],
   "source": [
    "#영익지정과 ctrl + /\n",
    "\n",
    "# 주석주석\n",
    "# 주석주석\n",
    "# 주석주석"
   ]
  },
  {
   "cell_type": "code",
   "execution_count": null,
   "id": "5d9ea9f6",
   "metadata": {},
   "outputs": [],
   "source": []
  }
 ],
 "metadata": {
  "kernelspec": {
   "display_name": "Python 3",
   "language": "python",
   "name": "python3"
  },
  "language_info": {
   "codemirror_mode": {
    "name": "ipython",
    "version": 3
   },
   "file_extension": ".py",
   "mimetype": "text/x-python",
   "name": "python",
   "nbconvert_exporter": "python",
   "pygments_lexer": "ipython3",
   "version": "3.8.8"
  },
  "toc": {
   "base_numbering": 1,
   "nav_menu": {},
   "number_sections": true,
   "sideBar": false,
   "skip_h1_title": false,
   "title_cell": "Table of Contents",
   "title_sidebar": "Contents",
   "toc_cell": false,
   "toc_position": {
    "height": "773px",
    "left": "26px",
    "top": "111.125px",
    "width": "260px"
   },
   "toc_section_display": true,
   "toc_window_display": false
  }
 },
 "nbformat": 4,
 "nbformat_minor": 5
}
