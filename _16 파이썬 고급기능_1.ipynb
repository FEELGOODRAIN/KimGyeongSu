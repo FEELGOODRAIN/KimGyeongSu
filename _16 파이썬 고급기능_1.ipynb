{
 "cells": [
  {
   "cell_type": "markdown",
   "id": "342dc20a",
   "metadata": {},
   "source": [
    "# 언더바 or 언더스코어 or 밑줄\n",
    "1. 인터프리터에서 마지막 값\n",
    "2. 무시하는 값\n",
    "3. 숫자의 자릿수를 나타닐 때\n",
    "4. _변수 or _함수 : 모듈 내에서만 접근이 허용\n",
    "5. 변수_ or 함수_ : 같은 이름의 충돌을 막기 위해 사용\n",
    "6. __변수 or __함수 : 네임 맹글링\n",
    "7. __변수__ or __함수__ : 이미 정의되어 있는 글로벌 변수 , 매직 메서드"
   ]
  },
  {
   "cell_type": "markdown",
   "id": "c993215c",
   "metadata": {},
   "source": [
    "## 무시하는 값\n",
    " - 필요없는 변수는 메모리 낭비 방지를 위해 굳이 생성하지 않음."
   ]
  },
  {
   "cell_type": "code",
   "execution_count": 1,
   "id": "db18bc27",
   "metadata": {
    "ExecuteTime": {
     "end_time": "2023-08-29T07:29:16.030928Z",
     "start_time": "2023-08-29T07:29:16.024972Z"
    }
   },
   "outputs": [
    {
     "name": "stdout",
     "output_type": "stream",
     "text": [
      "0\n",
      "1\n",
      "2\n",
      "3\n",
      "4\n"
     ]
    }
   ],
   "source": [
    "for _ in range(5): #여기에서 _\n",
    "    print(_)"
   ]
  },
  {
   "cell_type": "markdown",
   "id": "1b4a3b77",
   "metadata": {},
   "source": [
    "## 가변길이 매개변수"
   ]
  },
  {
   "cell_type": "code",
   "execution_count": 6,
   "id": "c47584ed",
   "metadata": {
    "ExecuteTime": {
     "end_time": "2023-08-29T07:36:40.330649Z",
     "start_time": "2023-08-29T07:36:40.316195Z"
    }
   },
   "outputs": [],
   "source": [
    "def adder(*ar): # *변수 << , *가 2개면 dict도 가능\n",
    "    tot = 0\n",
    "    for i in ar:\n",
    "        tot = tot + i\n",
    "    return tot"
   ]
  },
  {
   "cell_type": "code",
   "execution_count": 25,
   "id": "76771674",
   "metadata": {
    "ExecuteTime": {
     "end_time": "2023-08-29T07:40:18.286706Z",
     "start_time": "2023-08-29T07:40:18.276524Z"
    }
   },
   "outputs": [
    {
     "name": "stdout",
     "output_type": "stream",
     "text": [
      "[2, 3, 4]\n"
     ]
    }
   ],
   "source": [
    "x = [1,2,3,4,5]\n",
    "a , *b , c = x # *변수 : 여러 개 대체가능"
   ]
  },
  {
   "cell_type": "markdown",
   "id": "c49e56f0",
   "metadata": {},
   "source": [
    "## 앞 언더바 2개 : 네임 맹글링\n",
    "\n",
    "- 외부에서 클래스 속성값에 접근을 하지 못하도록 막을 때\n",
    "- 오버라이딩 방지용"
   ]
  },
  {
   "cell_type": "code",
   "execution_count": 61,
   "id": "b4fe2607",
   "metadata": {
    "ExecuteTime": {
     "end_time": "2023-08-29T07:57:49.550619Z",
     "start_time": "2023-08-29T07:57:49.541055Z"
    }
   },
   "outputs": [],
   "source": [
    "class Person:\n",
    "    def __init__(self):\n",
    "        self.name = '홍길동'\n",
    "        self.age = 25\n",
    "        self.hobby = '도둑질'\n",
    "        \n",
    "class People(Person):\n",
    "    def __init__(self):\n",
    "        Person.__init__(self)\n",
    "        self.name = '장보고'\n",
    "        self.age = 30\n",
    "        #self.__hobby = '해적질'\n",
    "        "
   ]
  },
  {
   "cell_type": "code",
   "execution_count": 80,
   "id": "92243071",
   "metadata": {
    "ExecuteTime": {
     "end_time": "2023-08-29T08:29:50.070628Z",
     "start_time": "2023-08-29T08:29:50.054672Z"
    }
   },
   "outputs": [],
   "source": [
    "class Book:\n",
    "    def __init__(self):\n",
    "        self.__country = 'korea'\n",
    "        self.city = 'seoul'\n",
    "    \n",
    "    def updateCountry(self,country):\n",
    "        self.__country == country\n",
    "        print(self.__country)\n",
    "    def getCountry(self):\n",
    "        return self.__country"
   ]
  },
  {
   "cell_type": "code",
   "execution_count": 81,
   "id": "a1c9cdb0",
   "metadata": {
    "ExecuteTime": {
     "end_time": "2023-08-29T08:29:53.362083Z",
     "start_time": "2023-08-29T08:29:53.347958Z"
    }
   },
   "outputs": [
    {
     "name": "stdout",
     "output_type": "stream",
     "text": [
      "워싱턴\n"
     ]
    }
   ],
   "source": [
    "book = Book()\n",
    "book.city = '워싱턴'\n",
    "\n",
    "print(book.city)"
   ]
  },
  {
   "cell_type": "code",
   "execution_count": 82,
   "id": "0f0e60f9",
   "metadata": {
    "ExecuteTime": {
     "end_time": "2023-08-29T08:29:55.328727Z",
     "start_time": "2023-08-29T08:29:55.318861Z"
    }
   },
   "outputs": [
    {
     "name": "stdout",
     "output_type": "stream",
     "text": [
      "USA\n"
     ]
    }
   ],
   "source": [
    "book.__country = 'USA'\n",
    "print(book.__country)"
   ]
  },
  {
   "cell_type": "markdown",
   "id": "dcb75f36",
   "metadata": {
    "ExecuteTime": {
     "end_time": "2023-08-29T08:29:57.557820Z",
     "start_time": "2023-08-29T08:29:57.547989Z"
    }
   },
   "source": [
    "# 클로저\n",
    " - 중첩함수\n",
    " "
   ]
  },
  {
   "cell_type": "code",
   "execution_count": 89,
   "id": "d65d44a6",
   "metadata": {
    "ExecuteTime": {
     "end_time": "2023-08-29T08:38:45.477124Z",
     "start_time": "2023-08-29T08:38:45.465599Z"
    }
   },
   "outputs": [],
   "source": [
    "def calc():\n",
    "    a=3\n",
    "    b=5\n",
    "    return lambda x: a * x + b"
   ]
  },
  {
   "cell_type": "code",
   "execution_count": 91,
   "id": "c2912be7",
   "metadata": {
    "ExecuteTime": {
     "end_time": "2023-08-29T08:39:10.600206Z",
     "start_time": "2023-08-29T08:39:10.588974Z"
    }
   },
   "outputs": [
    {
     "data": {
      "text/plain": [
       "14"
      ]
     },
     "execution_count": 91,
     "metadata": {},
     "output_type": "execute_result"
    }
   ],
   "source": [
    "c = calc()\n",
    "c(3)"
   ]
  }
 ],
 "metadata": {
  "kernelspec": {
   "display_name": "Python 3",
   "language": "python",
   "name": "python3"
  },
  "language_info": {
   "codemirror_mode": {
    "name": "ipython",
    "version": 3
   },
   "file_extension": ".py",
   "mimetype": "text/x-python",
   "name": "python",
   "nbconvert_exporter": "python",
   "pygments_lexer": "ipython3",
   "version": "3.8.8"
  },
  "toc": {
   "base_numbering": 1,
   "nav_menu": {},
   "number_sections": true,
   "sideBar": true,
   "skip_h1_title": false,
   "title_cell": "Table of Contents",
   "title_sidebar": "Contents",
   "toc_cell": false,
   "toc_position": {},
   "toc_section_display": true,
   "toc_window_display": false
  }
 },
 "nbformat": 4,
 "nbformat_minor": 5
}
