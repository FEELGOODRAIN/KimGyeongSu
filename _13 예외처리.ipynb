{
 "cells": [
  {
   "cell_type": "markdown",
   "id": "549df51b",
   "metadata": {},
   "source": [
    "# 에러와 예외\n",
    "\n",
    "1. 에러(Syntax Error)\n",
    "    - 문법적 에러\n",
    "    - 파이썬은 상대적으로 언어전 문법이 간단하므로 구문 자체의 에러 발생 비율이 낮음.\n",
    "\n",
    "\n",
    "2. 예외(Exception)\n",
    "    - 구문 에러는 없는데 , 프로그램 실행 중 더 이상 진행할 수 없는 상황\n",
    "    - 예외가 발생하면 프로그램은 바로 종료된다.\n",
    "    - 개발자에 의해 임의로 또는 강제로 발생시키는 에러\n",
    "\n",
    "\n",
    "3. 예외처리 방법\n",
    "    - try 구문 : 예외가 발생할 만한 문구를 기술\n",
    "    - except Exception : 예외가 발생했을 때 실행할 문장\n",
    "    - else : 예외가 발생하지 않았을 때 실행할 문장\n",
    "    - finally : 예외와 상관없이 실행할 문장"
   ]
  },
  {
   "cell_type": "code",
   "execution_count": null,
   "id": "a494440a",
   "metadata": {
    "ExecuteTime": {
     "end_time": "2023-08-28T08:31:44.235809Z",
     "start_time": "2023-08-28T08:31:44.231369Z"
    },
    "scrolled": false
   },
   "outputs": [],
   "source": [
    "# 일반적인 프로그램의 호출은 위에서 아래로 , 좌에서 우로 진행\n",
    "\n",
    "print('start')\n",
    "\n",
    "print('end')"
   ]
  },
  {
   "cell_type": "markdown",
   "id": "0dcb2f24",
   "metadata": {},
   "source": [
    "-파이썬 내장 예외의 종류\n",
    "\n",
    "https://docs.python.org/3/library/exceptions.html"
   ]
  },
  {
   "cell_type": "code",
   "execution_count": 2,
   "id": "13df15f4",
   "metadata": {
    "ExecuteTime": {
     "end_time": "2023-08-29T01:13:16.909771Z",
     "start_time": "2023-08-29T01:13:16.789255Z"
    }
   },
   "outputs": [
    {
     "name": "stdout",
     "output_type": "stream",
     "text": [
      "start\n"
     ]
    },
    {
     "ename": "ZeroDivisionError",
     "evalue": "division by zero",
     "output_type": "error",
     "traceback": [
      "\u001b[1;31m---------------------------------------------------------------------------\u001b[0m",
      "\u001b[1;31mZeroDivisionError\u001b[0m                         Traceback (most recent call last)",
      "\u001b[1;32m<ipython-input-2-a97326a9db79>\u001b[0m in \u001b[0;36m<module>\u001b[1;34m\u001b[0m\n\u001b[0;32m      1\u001b[0m \u001b[0mprint\u001b[0m\u001b[1;33m(\u001b[0m\u001b[1;34m'start'\u001b[0m\u001b[1;33m)\u001b[0m\u001b[1;33m\u001b[0m\u001b[1;33m\u001b[0m\u001b[0m\n\u001b[1;32m----> 2\u001b[1;33m \u001b[1;36m4\u001b[0m\u001b[1;33m/\u001b[0m\u001b[1;36m0\u001b[0m\u001b[1;33m\u001b[0m\u001b[1;33m\u001b[0m\u001b[0m\n\u001b[0m\u001b[0;32m      3\u001b[0m \u001b[0mprint\u001b[0m\u001b[1;33m(\u001b[0m\u001b[1;34m'end'\u001b[0m\u001b[1;33m)\u001b[0m\u001b[1;33m\u001b[0m\u001b[1;33m\u001b[0m\u001b[0m\n",
      "\u001b[1;31mZeroDivisionError\u001b[0m: division by zero"
     ]
    }
   ],
   "source": [
    "\n",
    "print('start')\n",
    "4/0\n",
    "print('end')"
   ]
  },
  {
   "cell_type": "code",
   "execution_count": null,
   "id": "0aae158b",
   "metadata": {
    "ExecuteTime": {
     "end_time": "2023-08-28T08:45:56.273981Z",
     "start_time": "2023-08-28T08:45:52.516523Z"
    }
   },
   "outputs": [],
   "source": [
    "print('종료하려면 q를 입력')\n",
    "\n",
    "while True:\n",
    "    num1 = input('\\n분자 : ')\n",
    "    if num1=='q':\n",
    "        break\n",
    "    else:\n",
    "        num2 = input('\\n분모 : ')\n",
    "        if num2=='q':\n",
    "            break\n",
    "        else:\n",
    "            try:\n",
    "                result = int(num1)/int(num2)\n",
    "                print(f'{num1} / {num2} = {result}')\n",
    "            except:\n",
    "                print('0으로 나눌 수 없습니다')\n",
    "    \n",
    "    \n",
    "    \n",
    "print('프로그램을 종료합니다')"
   ]
  },
  {
   "cell_type": "code",
   "execution_count": null,
   "id": "1b759d57",
   "metadata": {
    "ExecuteTime": {
     "end_time": "2023-08-28T08:48:56.140465Z",
     "start_time": "2023-08-28T08:48:56.134466Z"
    }
   },
   "outputs": [],
   "source": [
    "def exception_test():\n",
    "    print('start')\n",
    "    try:\n",
    "        print(2+'2')\n",
    "    except:\n",
    "        print('자료형이 일치하지 않습니다')\n",
    "    print('end')"
   ]
  },
  {
   "cell_type": "code",
   "execution_count": null,
   "id": "61024fe3",
   "metadata": {
    "ExecuteTime": {
     "end_time": "2023-08-28T08:48:57.713856Z",
     "start_time": "2023-08-28T08:48:57.708841Z"
    },
    "scrolled": true
   },
   "outputs": [],
   "source": [
    "exception_test()"
   ]
  },
  {
   "cell_type": "code",
   "execution_count": null,
   "id": "10d09ffb",
   "metadata": {
    "ExecuteTime": {
     "end_time": "2023-08-29T00:06:42.014713Z",
     "start_time": "2023-08-29T00:06:42.005403Z"
    },
    "scrolled": true
   },
   "outputs": [],
   "source": [
    "print('Hello Python')"
   ]
  },
  {
   "cell_type": "markdown",
   "id": "4f74cb8e",
   "metadata": {},
   "source": [
    "## 처리조건 : 계산기 프로그램\n",
    "1. 두 개의 숫자와 하나의 연산자를 입력받아 사칙연산을 수행하는 프로그램\n",
    "2. 연산자는 + , - , * , /만 입력되도록 , 이외의 연산자가 들어오면 예외처리 문구\n",
    "3. 연산자가 / 이고 두 번쨰로 입력받은 숫자가 0이면 예외처리 문구\n",
    "4. 계산을 수행할 값이 숫자가 아닌값이 들어오면 예외처리\n",
    "5. 주어진 입출력 형식에 맞게 구현\n",
    "6. 첫 번째 수가 q면 종료\n",
    "\n",
    "## 입출력형식\n",
    "\n",
    "첫 번째 수 = <br>\n",
    "연산자(+,-,*,/) = <br>\n",
    "두 번째 수 <br>"
   ]
  },
  {
   "cell_type": "code",
   "execution_count": 3,
   "id": "ce80923b",
   "metadata": {
    "ExecuteTime": {
     "end_time": "2023-08-29T01:14:01.753373Z",
     "start_time": "2023-08-29T01:13:51.220004Z"
    }
   },
   "outputs": [
    {
     "name": "stdout",
     "output_type": "stream",
     "text": [
      "첫 번째 수 : 1\n",
      "연산자(+,-,*,/) : /\n",
      "두 번째 수 : 0\n",
      "0으로 나눌 수 없습니다\n",
      "Error :  float division by zero\n",
      "첫 번째 수 : 1\n",
      "연산자(+,-,*,/) : /\n",
      "두 번째 수 : 0.5\n",
      "1.0 / 0.5 = 2.0\n",
      "첫 번째 수 : q\n",
      "종료합니다\n"
     ]
    }
   ],
   "source": [
    "while True:\n",
    "    a = input('첫 번째 수 : ')\n",
    "    if a=='q':\n",
    "        print('종료합니다')\n",
    "        break\n",
    "    b = input('연산자(+,-,*,/) : ')\n",
    "    c = input('두 번째 수 : ')\n",
    "    try:\n",
    "        aa=float(a)\n",
    "        cc=float(c)\n",
    "    except ValueError as e:\n",
    "        print('숫자가 아닙니다')\n",
    "        print('Error : ' , e)\n",
    "    else:\n",
    "        if b == '+':\n",
    "            print(f'{aa} + {cc} = {aa+cc}')\n",
    "            print('완료')\n",
    "        elif b == '-':\n",
    "            print(f'{aa} - {cc} = {aa-cc}')\n",
    "            print('완료')\n",
    "        elif b == '*':\n",
    "            print(f'{aa} * {cc} = {aa*cc}')\n",
    "        elif b == '/':\n",
    "            try:\n",
    "                print(f'{aa} / {cc} = {aa/cc}')\n",
    "            except ZeroDivisionError as e:\n",
    "                print('0으로 나눌 수 없습니다')\n",
    "                print('Error : ' , e)\n",
    "        else:\n",
    "            print('연산자가 옳지 않습니다')\n",
    "    "
   ]
  },
  {
   "cell_type": "code",
   "execution_count": null,
   "id": "1769b73a",
   "metadata": {
    "ExecuteTime": {
     "end_time": "2023-08-29T01:01:32.779839Z",
     "start_time": "2023-08-29T01:01:32.758486Z"
    }
   },
   "outputs": [],
   "source": [
    "a = 'a'\n",
    "eval(a)"
   ]
  },
  {
   "cell_type": "code",
   "execution_count": null,
   "id": "a2ca43ad",
   "metadata": {},
   "outputs": [],
   "source": []
  }
 ],
 "metadata": {
  "kernelspec": {
   "display_name": "Python 3",
   "language": "python",
   "name": "python3"
  },
  "language_info": {
   "codemirror_mode": {
    "name": "ipython",
    "version": 3
   },
   "file_extension": ".py",
   "mimetype": "text/x-python",
   "name": "python",
   "nbconvert_exporter": "python",
   "pygments_lexer": "ipython3",
   "version": "3.8.8"
  },
  "toc": {
   "base_numbering": 1,
   "nav_menu": {},
   "number_sections": true,
   "sideBar": true,
   "skip_h1_title": false,
   "title_cell": "Table of Contents",
   "title_sidebar": "Contents",
   "toc_cell": false,
   "toc_position": {},
   "toc_section_display": true,
   "toc_window_display": false
  }
 },
 "nbformat": 4,
 "nbformat_minor": 5
}
