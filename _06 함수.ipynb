{
 "cells": [
  {
   "cell_type": "markdown",
   "id": "af46c4e5",
   "metadata": {},
   "source": [
    "# 함수(function)\n",
    "\n",
    "1. 함수의 정의\n",
    "    - 자주 반복적으로 수행하는 기능이나 명령어를 묶어서 관리\n",
    "    - 여러 개의 명령어를 묶어놓은 명령어 집합\n",
    "\n",
    "\n",
    "2. 함수의 장점\n",
    "    - 재사용 가능\n",
    "    - 코드의 간결성\n",
    "    - 유지보수가 편함\n",
    "    \n",
    "\n",
    "\n",
    "3. 함수의 구조\n",
    "    - def 함수명(매개변수):\n",
    "        함수의 내용 정의\n",
    "        return 반환값 or 수식\n",
    "        \n",
    "        \n",
    "4. 함수의 종류\n",
    "    - 내장함수 : 파이썬에서 미리 만들어 놓은 함수 , 각 라이브러리(패키지) 마다 만들어 놓은 함수.(불러오기만 하면 됨)\n",
    "    - 사용자 정의 함수 : 사용자에 의해 임의로 생성한 함수"
   ]
  },
  {
   "cell_type": "markdown",
   "id": "8cb7d8f3",
   "metadata": {},
   "source": [
    "## 함수의 형태\n",
    "\n",
    " 1. 매개변수와 반환값이 둘 다 없는 함수\n",
    " 2. 매개변수는 있고 반환값이 없는 함수\n",
    " 3. 매개변수는 없고 반환값이 있는 함수\n",
    " 4. 둘 다 있는 함수"
   ]
  },
  {
   "cell_type": "code",
   "execution_count": null,
   "id": "e4a3c73b",
   "metadata": {
    "ExecuteTime": {
     "end_time": "2023-08-24T01:42:58.950415Z",
     "start_time": "2023-08-24T01:42:58.934032Z"
    }
   },
   "outputs": [],
   "source": [
    "def show():\n",
    "    print('hello Function')\n",
    "    \n",
    "show() # Call by name"
   ]
  },
  {
   "cell_type": "code",
   "execution_count": null,
   "id": "4af6c49b",
   "metadata": {
    "ExecuteTime": {
     "end_time": "2023-08-24T01:42:58.962451Z",
     "start_time": "2023-08-24T01:42:58.951412Z"
    }
   },
   "outputs": [],
   "source": [
    "def aaa():\n",
    "    return 100\n",
    "\n",
    "aaa() # Call by name"
   ]
  },
  {
   "cell_type": "code",
   "execution_count": null,
   "id": "621cd19d",
   "metadata": {
    "ExecuteTime": {
     "end_time": "2023-08-24T01:42:58.978000Z",
     "start_time": "2023-08-24T01:42:58.962451Z"
    }
   },
   "outputs": [],
   "source": [
    "def disp(a):\n",
    "    print('a = ' , a)\n",
    "    \n",
    "disp(10)#Call by Value\n"
   ]
  },
  {
   "cell_type": "code",
   "execution_count": null,
   "id": "3f7a1392",
   "metadata": {
    "ExecuteTime": {
     "end_time": "2023-08-24T01:42:58.983612Z",
     "start_time": "2023-08-24T01:42:58.978997Z"
    }
   },
   "outputs": [],
   "source": [
    "def add(a,b):\n",
    "    return a + b\n",
    "\n",
    "add(4,5) # Call by Value"
   ]
  },
  {
   "cell_type": "markdown",
   "id": "6f94caef",
   "metadata": {},
   "source": [
    "## 함수의 사용\n",
    "\n",
    " - 함수는 호출에 의해 동작한다.\n",
    " - 함수를 호출하는 방식 : Call by Name(이름) , Call by Value(값) , Call by Reference(참조/주소)"
   ]
  },
  {
   "cell_type": "code",
   "execution_count": null,
   "id": "d146fd6e",
   "metadata": {
    "ExecuteTime": {
     "end_time": "2023-08-24T01:42:58.999556Z",
     "start_time": "2023-08-24T01:42:58.983612Z"
    }
   },
   "outputs": [],
   "source": [
    "def say():\n",
    "    return 'Hello'\n",
    "\n",
    "a = say()\n"
   ]
  },
  {
   "cell_type": "code",
   "execution_count": null,
   "id": "9a4362d4",
   "metadata": {
    "ExecuteTime": {
     "end_time": "2023-08-24T01:42:59.013555Z",
     "start_time": "2023-08-24T01:42:58.999556Z"
    }
   },
   "outputs": [],
   "source": [
    "def add(a,b):\n",
    "    result = a+b\n",
    "    print(f' {a} + {b }= {result}')\n",
    "\n",
    "def sub(a,b):\n",
    "    result = a-b\n",
    "    print(f' {a} - {b }= {result}')\n",
    "\n",
    "def mul(a,b):\n",
    "    result = a*b\n",
    "    print(f' {a} * {b }= {result}')\n",
    "\n",
    "def div(a,b):\n",
    "    if b==0:\n",
    "        b=1\n",
    "    result = a/b\n",
    "    print(f' {a} / {b }= {result}')\n"
   ]
  },
  {
   "cell_type": "code",
   "execution_count": null,
   "id": "0bd8830d",
   "metadata": {
    "ExecuteTime": {
     "end_time": "2023-08-24T01:43:03.040864Z",
     "start_time": "2023-08-24T01:42:59.013555Z"
    }
   },
   "outputs": [],
   "source": [
    "su1 = int(input('수1 : '))\n",
    "op = input('연산자(+,-,*,/) : ')\n",
    "su2 = int(input('수2 : '))\n",
    "\n",
    "if op == '+':\n",
    "    add(su1,su2)\n",
    "    \n",
    "elif op=='-':\n",
    "    sub(su1,su2)\n",
    "\n",
    "elif op=='*':\n",
    "    mul(su1,su2)\n",
    "\n",
    "else:\n",
    "    div(su1,su2)\n",
    "    \n"
   ]
  },
  {
   "cell_type": "markdown",
   "id": "c904c350",
   "metadata": {},
   "source": [
    "## 내장 함수"
   ]
  },
  {
   "cell_type": "code",
   "execution_count": null,
   "id": "fe5dd499",
   "metadata": {
    "ExecuteTime": {
     "end_time": "2023-08-24T01:43:03.051546Z",
     "start_time": "2023-08-24T01:43:03.042518Z"
    }
   },
   "outputs": [],
   "source": [
    "def abss(a):\n",
    "    if a>=0:\n",
    "        return a\n",
    "    else:\n",
    "        return a*-1"
   ]
  },
  {
   "cell_type": "code",
   "execution_count": null,
   "id": "6a71bcc8",
   "metadata": {
    "ExecuteTime": {
     "end_time": "2023-08-24T01:43:03.064814Z",
     "start_time": "2023-08-24T01:43:03.051967Z"
    }
   },
   "outputs": [],
   "source": [
    "#절대값을 계산하는 함수\n",
    "\n",
    "print(abss(-20))"
   ]
  },
  {
   "cell_type": "code",
   "execution_count": null,
   "id": "7b0c5e01",
   "metadata": {
    "ExecuteTime": {
     "end_time": "2023-08-24T01:43:03.080134Z",
     "start_time": "2023-08-24T01:43:03.064814Z"
    }
   },
   "outputs": [],
   "source": [
    "#all() , any()\n",
    "## all() : 모든 값이 True인지 검사\n",
    "## any() : 값 중 하나라도 True인지 검사\n",
    "## 2진수(0 과 1 ) -> False와 True\n",
    "\n",
    "print(all([1,2,3]))\n",
    "print(all([0,1,2]))\n",
    "\n",
    "print(any([0,0,0,0,0,0,0,0,0,0,0,0,0,0,0,0,0,0,0,0,0,0,0,0,0,0,0,0,1]))"
   ]
  },
  {
   "cell_type": "code",
   "execution_count": null,
   "id": "bd9466b0",
   "metadata": {},
   "outputs": [],
   "source": []
  },
  {
   "cell_type": "markdown",
   "id": "682ba84d",
   "metadata": {},
   "source": [
    "# 파이썬 함수\n",
    " - 반복적인 프로그래밍을 피할 수 있다\n",
    " - 모듈화로 인해 전체적인 코드의 가독성을 높임\n",
    " - 프로그램에 문제가 발생하거나 기능을 변경해야 할 때 빠른 유지보수가 가능"
   ]
  },
  {
   "cell_type": "code",
   "execution_count": null,
   "id": "00e0c2ec",
   "metadata": {
    "ExecuteTime": {
     "end_time": "2023-08-24T01:43:03.097057Z",
     "start_time": "2023-08-24T01:43:03.081407Z"
    }
   },
   "outputs": [],
   "source": [
    "def line(size):\n",
    "    print('*' * size)\n",
    "    return"
   ]
  },
  {
   "cell_type": "code",
   "execution_count": null,
   "id": "695ca49f",
   "metadata": {
    "ExecuteTime": {
     "end_time": "2023-08-24T01:43:03.112628Z",
     "start_time": "2023-08-24T01:43:03.097759Z"
    }
   },
   "outputs": [],
   "source": [
    "line(4)"
   ]
  },
  {
   "cell_type": "code",
   "execution_count": null,
   "id": "6b9571ae",
   "metadata": {
    "ExecuteTime": {
     "end_time": "2023-08-24T01:43:03.131108Z",
     "start_time": "2023-08-24T01:43:03.113545Z"
    }
   },
   "outputs": [],
   "source": [
    "def ccc(len):\n",
    "    if len>=10:\n",
    "        print('long')\n",
    "    else:\n",
    "        print('short')"
   ]
  },
  {
   "cell_type": "code",
   "execution_count": null,
   "id": "5de68663",
   "metadata": {
    "ExecuteTime": {
     "end_time": "2023-08-24T01:43:03.146819Z",
     "start_time": "2023-08-24T01:43:03.131108Z"
    }
   },
   "outputs": [],
   "source": [
    "ccc(12)"
   ]
  },
  {
   "cell_type": "markdown",
   "id": "9c078195",
   "metadata": {},
   "source": [
    "## 다섯 개의 정수를 입력받아 그 합과 평균을 계산하여 출력\n",
    "\n"
   ]
  },
  {
   "cell_type": "code",
   "execution_count": null,
   "id": "60a89a33",
   "metadata": {
    "ExecuteTime": {
     "end_time": "2023-08-24T01:45:17.509829Z",
     "start_time": "2023-08-24T01:45:17.503509Z"
    }
   },
   "outputs": [],
   "source": [
    "\n",
    "def hap(a,b,c,d,e):\n",
    "    return a+b+c+d+e\n",
    "\n",
    "def avg(a,b,c,d,e):\n",
    "    \n",
    "    return (a+b+c+d+e)/5"
   ]
  },
  {
   "cell_type": "code",
   "execution_count": null,
   "id": "0abc7f96",
   "metadata": {
    "ExecuteTime": {
     "end_time": "2023-08-24T01:45:20.000167Z",
     "start_time": "2023-08-24T01:45:17.838113Z"
    }
   },
   "outputs": [],
   "source": [
    "a,b,c,d,e = map(int,input('정수 입력 : ').split(' '))\n",
    "\n",
    "\n",
    "print(f'합계 : {hap(a,b,c,d,e)} , 평균 : {avg(a,b,c,d,e)}')"
   ]
  },
  {
   "cell_type": "code",
   "execution_count": null,
   "id": "effd4be4",
   "metadata": {
    "ExecuteTime": {
     "end_time": "2023-08-24T01:53:01.027834Z",
     "start_time": "2023-08-24T01:53:01.007406Z"
    }
   },
   "outputs": [],
   "source": [
    "def indata():\n",
    "    num = list(map(int, input(' 수 입력 : ').split()))\n",
    "    return num\n",
    "\n",
    "def process():\n",
    "    tot=0\n",
    "    num=indata()\n",
    "    for i in num:\n",
    "        tot=tot+i\n",
    "    avg=tot/len(num)\n",
    "    return tot,avg"
   ]
  },
  {
   "cell_type": "code",
   "execution_count": null,
   "id": "cb1b6481",
   "metadata": {
    "ExecuteTime": {
     "end_time": "2023-08-24T01:58:44.520263Z",
     "start_time": "2023-08-24T01:58:42.626543Z"
    }
   },
   "outputs": [],
   "source": [
    "t = process()\n",
    "print(f'합계 : {t[0]}  \\n평균 : {t[1]:.3f}')"
   ]
  },
  {
   "cell_type": "code",
   "execution_count": null,
   "id": "ff8e01eb",
   "metadata": {},
   "outputs": [],
   "source": []
  },
  {
   "cell_type": "markdown",
   "id": "80176e20",
   "metadata": {},
   "source": [
    "## 계산기 프로그램\n",
    " - 2 개의 정수와 하나의 연산자를 입력받아 계산을 수행한 후 결과를 출력\n",
    " - 연산자에 따른 계산식을 각각의 함수로 구현"
   ]
  },
  {
   "cell_type": "code",
   "execution_count": null,
   "id": "369fe36d",
   "metadata": {
    "ExecuteTime": {
     "end_time": "2023-08-24T02:27:09.506199Z",
     "start_time": "2023-08-24T02:27:09.491411Z"
    }
   },
   "outputs": [],
   "source": [
    "def add():\n",
    "    print(f'{su1} + {su2} = {su1 + su2}')\n",
    "    return\n",
    "\n",
    "def subtract():\n",
    "    print(f'{su1} - {su2} = {su1 - su2}')\n",
    "    return\n",
    "\n",
    "def multiply():\n",
    "    print(f'{su1} * {su2} = {su1 * su2}')\n",
    "    return\n",
    "\n",
    "def divide():\n",
    "    print(f'{su1} / {su2} = {su1 / su2:.4f}')\n",
    "    return"
   ]
  },
  {
   "cell_type": "code",
   "execution_count": null,
   "id": "f042df26",
   "metadata": {
    "ExecuteTime": {
     "end_time": "2023-08-24T02:34:19.594246Z",
     "start_time": "2023-08-24T02:34:11.481365Z"
    },
    "scrolled": true
   },
   "outputs": [],
   "source": [
    "while True:\n",
    "    op = int(input('1 : 덧셈 \\n2 : 뺄셈 \\n3 : 곱셈 \\n4 : 나눗셈 \\n5 : 종료 : \\n'))\n",
    "    if op==5:\n",
    "        print('프로그램을 종료합니다')\n",
    "        break\n",
    "    su1 = eval(input('수1 : '))\n",
    "    su2 = eval(input('수2 : '))\n",
    "\n",
    "    if op==1:\n",
    "        add()\n",
    "    elif op==2:\n",
    "        subtract()\n",
    "    elif op==3:\n",
    "        multiply()\n",
    "    elif op==4:\n",
    "        divide()\n",
    "    \n",
    "    else:\n",
    "        print('잘못된 연산자')\n"
   ]
  },
  {
   "cell_type": "code",
   "execution_count": null,
   "id": "eee4b079",
   "metadata": {},
   "outputs": [],
   "source": []
  },
  {
   "cell_type": "markdown",
   "id": "f2615609",
   "metadata": {
    "ExecuteTime": {
     "end_time": "2023-08-24T02:35:42.849284Z",
     "start_time": "2023-08-24T02:35:42.840434Z"
    }
   },
   "source": [
    "## 성적처리 프로그램 3단계\n",
    " - 국어 영어 수학 점수를 입력받아 총점 평균 그리고 학점을 출력\n",
    " - 한 명 이상의 학생에 대한 정보를 받아 처리\n",
    " - 주어진 입력 및 출력형식에 맞게"
   ]
  },
  {
   "cell_type": "code",
   "execution_count": 9,
   "id": "6e07ead2",
   "metadata": {
    "ExecuteTime": {
     "end_time": "2023-08-24T04:36:06.749169Z",
     "start_time": "2023-08-24T04:36:06.734031Z"
    }
   },
   "outputs": [
    {
     "name": "stdout",
     "output_type": "stream",
     "text": [
      "{'name': '홍길동', 'kor': 80, 'eng': 92, 'math': 77}\n"
     ]
    }
   ],
   "source": [
    "student = {'name' : '홍길동' , 'kor' : 80 , 'eng' : 92 , 'math' : 77}\n",
    "print(student)"
   ]
  },
  {
   "cell_type": "code",
   "execution_count": 10,
   "id": "5748b09e",
   "metadata": {
    "ExecuteTime": {
     "end_time": "2023-08-24T04:36:06.982724Z",
     "start_time": "2023-08-24T04:36:06.967708Z"
    }
   },
   "outputs": [
    {
     "name": "stdout",
     "output_type": "stream",
     "text": [
      "{'name': '장보고', 'kor': 80, 'eng': 92, 'math': 77}\n"
     ]
    }
   ],
   "source": [
    "student['name'] = '장보고'\n",
    "print(student)"
   ]
  },
  {
   "cell_type": "code",
   "execution_count": 14,
   "id": "037d46b1",
   "metadata": {
    "ExecuteTime": {
     "end_time": "2023-08-24T04:36:47.576400Z",
     "start_time": "2023-08-24T04:36:47.571836Z"
    }
   },
   "outputs": [
    {
     "name": "stdout",
     "output_type": "stream",
     "text": [
      "{'kor': 80, 'eng': 92, 'math': 77, 'tot': 249}\n"
     ]
    }
   ],
   "source": [
    "student['tot'] = student['kor'] + student['eng'] + student['math']\n",
    "del student['name']\n",
    "print(student)"
   ]
  },
  {
   "cell_type": "code",
   "execution_count": null,
   "id": "f21bb2f0",
   "metadata": {},
   "outputs": [],
   "source": [
    "name = input('이름 : ')\n",
    "kor = int(input('국어점수 : '))\n",
    "eng = int(input('영어점수 : '))\n",
    "math = int(input('수학점수 : '))\n",
    "\n",
    "stu = {}\n",
    "stu['name'] = name\n",
    "stu['kor'] = kor\n",
    "stu['eng'] = eng\n",
    "stu['math'] = math\n",
    "stu['총점'] = stu['kor']+stu['eng']+stu['math']\n",
    "stu['평균'] = stu['총점']/3\n",
    "\n"
   ]
  },
  {
   "cell_type": "code",
   "execution_count": null,
   "id": "81474607",
   "metadata": {
    "ExecuteTime": {
     "end_time": "2023-08-24T02:50:17.847653Z",
     "start_time": "2023-08-24T02:50:09.571630Z"
    }
   },
   "outputs": [],
   "source": [
    "#여려명의 정보를 담을 list 객체 생성.\n",
    "\n",
    "students = []\n",
    "for i in range(3):\n",
    "    name = input('이름 : ')\n",
    "    kor = int(input('국어점수 : '))\n",
    "    eng = int(input('영어점수 : '))\n",
    "    math = int(input('수학점수 : '))\n",
    "\n",
    "    stu = {}\n",
    "    stu['name'] = name\n",
    "    stu['kor'] = kor\n",
    "    stu['eng'] = eng\n",
    "    stu['math'] = math\n",
    "    stu['총점'] = stu['kor']+stu['eng']+stu['math']\n",
    "    stu['평균'] = stu['총점']/3\n",
    "    \n",
    "    students.append(stu)\n",
    "# for i in students:\n",
    "#     print(i)\n",
    "print(students)"
   ]
  },
  {
   "cell_type": "code",
   "execution_count": 57,
   "id": "362beaff",
   "metadata": {
    "ExecuteTime": {
     "end_time": "2023-08-24T05:06:28.317520Z",
     "start_time": "2023-08-24T05:06:28.307442Z"
    }
   },
   "outputs": [],
   "source": [
    "def menu():\n",
    "    print('==성적처리 프로그램==')\n",
    "    print('1. 신규학생등록')\n",
    "    print('2. 전체성적조회')\n",
    "    print('3. 학생성적조회') # 이름\n",
    "    print('4. 학생정보삭제')\n",
    "    print('5. 학생정보수정')\n",
    "    print('5. 프로그램종료')\n",
    "    print('=====================')\n"
   ]
  },
  {
   "cell_type": "code",
   "execution_count": 60,
   "id": "64389cc9",
   "metadata": {
    "ExecuteTime": {
     "end_time": "2023-08-24T05:14:47.119744Z",
     "start_time": "2023-08-24T05:14:47.111237Z"
    }
   },
   "outputs": [],
   "source": [
    "def makestudent():\n",
    "    \n",
    "    stu = {}\n",
    "    stu['name'] = input('이름 : ')\n",
    "    stu['kor'] = int(input('국어점수 : '))\n",
    "    stu['eng'] = int(input('영어점수 : '))\n",
    "    stu['math'] = int(input('수학점수 : '))\n",
    "    stu['총점'] = stu['kor']+stu['eng']+stu['math']\n",
    "    stu['평균'] = stu['총점']/3\n",
    "    \n",
    "    if stu['평균']>=90:\n",
    "        stu['학점'] = 'A'\n",
    "    elif stu['평균']<90 and stu['평균']>=80:\n",
    "        stu['학점'] = 'B'\n",
    "    elif stu['평균']<80 and stu['평균']>=70:\n",
    "        stu['학점'] = 'C'\n",
    "    elif stu['평균']<70 and stu['평균']>=60:\n",
    "        stu['학점'] = 'D'\n",
    "    else:\n",
    "        stu['학점'] = 'F'\n",
    "    \n",
    "    return stu"
   ]
  },
  {
   "cell_type": "code",
   "execution_count": 3,
   "id": "75487ca2",
   "metadata": {
    "ExecuteTime": {
     "end_time": "2023-08-24T04:34:59.579653Z",
     "start_time": "2023-08-24T04:34:59.567182Z"
    }
   },
   "outputs": [],
   "source": [
    "def search(s):\n",
    "    sw=False\n",
    "\n",
    "    for i in student:\n",
    "        if i['name'] == s:\n",
    "            sw=True\n",
    "            break\n",
    "    if sw==True:\n",
    "         print(i)\n",
    "    else:\n",
    "        print('학생이 존재하지 않습니다')"
   ]
  },
  {
   "cell_type": "code",
   "execution_count": 55,
   "id": "6e9dcc49",
   "metadata": {
    "ExecuteTime": {
     "end_time": "2023-08-24T04:44:52.686512Z",
     "start_time": "2023-08-24T04:44:52.681590Z"
    }
   },
   "outputs": [],
   "source": [
    "def remove(s):\n",
    "    sw=False\n",
    "\n",
    "    for i in student:\n",
    "        if i['name'] == s:\n",
    "            sw=True\n",
    "            break\n",
    "    if sw==True:\n",
    "        student.remove(i)\n",
    "        print('삭제가 완료되었습니다')\n",
    "    else:\n",
    "        print('학생이 존재하지 않습니다')"
   ]
  },
  {
   "cell_type": "code",
   "execution_count": null,
   "id": "d51269ac",
   "metadata": {},
   "outputs": [],
   "source": []
  },
  {
   "cell_type": "code",
   "execution_count": 61,
   "id": "77e92d35",
   "metadata": {
    "ExecuteTime": {
     "end_time": "2023-08-24T05:36:17.106170Z",
     "start_time": "2023-08-24T05:14:50.294619Z"
    }
   },
   "outputs": [
    {
     "name": "stdout",
     "output_type": "stream",
     "text": [
      "\n",
      "==성적처리 프로그램==\n",
      "1. 신규학생등록\n",
      "2. 전체성적조회\n",
      "3. 학생성적조회\n",
      "4. 학생정보삭제\n",
      "5. 학생정보수정\n",
      "5. 프로그램종료\n",
      "=====================\n",
      "선택(종료 : 5) : 1\n",
      "이름 : aa\n",
      "국어점수 : 1\n",
      "영어점수 : 2\n",
      "수학점수 : 3\n",
      "\n",
      "==성적처리 프로그램==\n",
      "1. 신규학생등록\n",
      "2. 전체성적조회\n",
      "3. 학생성적조회\n",
      "4. 학생정보삭제\n",
      "5. 학생정보수정\n",
      "5. 프로그램종료\n",
      "=====================\n",
      "선택(종료 : 5) : 2\n",
      "None\n",
      "\n",
      "==성적처리 프로그램==\n",
      "1. 신규학생등록\n",
      "2. 전체성적조회\n",
      "3. 학생성적조회\n",
      "4. 학생정보삭제\n",
      "5. 학생정보수정\n",
      "5. 프로그램종료\n",
      "=====================\n",
      "선택(종료 : 5) : 5\n",
      "\n",
      "==성적처리 프로그램==\n",
      "1. 신규학생등록\n",
      "2. 전체성적조회\n",
      "3. 학생성적조회\n",
      "4. 학생정보삭제\n",
      "5. 학생정보수정\n",
      "5. 프로그램종료\n",
      "=====================\n",
      "선택(종료 : 5) : 6\n",
      "프로그램을 종료합니다\n"
     ]
    }
   ],
   "source": [
    "student = []\n",
    "\n",
    "\n",
    "while True:\n",
    "    print()\n",
    "    menu()\n",
    "    ch = int(input('선택(종료 : 5): '))\n",
    "    \n",
    "    if ch==1:\n",
    "        stu = makestudent()\n",
    "        student.append(stu)\n",
    "    elif ch==2:\n",
    "        for i in student:\n",
    "            print(i)\n",
    "    elif ch==3:\n",
    "        find = input('조회할 학생 이름을 입력하세요 : \\n')\n",
    "        search(find)\n",
    "        \n",
    "    elif ch==4:\n",
    "        delete = input('삭제할 학생 이름을 입력하세요 : \\n')\n",
    "        remove(delete)\n",
    "        student = student\n",
    "    elif ch==5:\n",
    "        print('프로그램을 종료합니다')\n",
    "        break\n",
    "    else:\n",
    "        print('메뉴의 선택이 올바르지 않습니다')"
   ]
  }
 ],
 "metadata": {
  "kernelspec": {
   "display_name": "Python 3",
   "language": "python",
   "name": "python3"
  },
  "language_info": {
   "codemirror_mode": {
    "name": "ipython",
    "version": 3
   },
   "file_extension": ".py",
   "mimetype": "text/x-python",
   "name": "python",
   "nbconvert_exporter": "python",
   "pygments_lexer": "ipython3",
   "version": "3.8.8"
  },
  "toc": {
   "base_numbering": 1,
   "nav_menu": {},
   "number_sections": true,
   "sideBar": true,
   "skip_h1_title": false,
   "title_cell": "Table of Contents",
   "title_sidebar": "Contents",
   "toc_cell": false,
   "toc_position": {},
   "toc_section_display": true,
   "toc_window_display": false
  }
 },
 "nbformat": 4,
 "nbformat_minor": 5
}
