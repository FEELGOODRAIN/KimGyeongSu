{
 "cells": [
  {
   "cell_type": "markdown",
   "id": "2f7b2c76",
   "metadata": {},
   "source": [
    "# 파이썬 제어문\n",
    " - 조건문 or 선택문 or 비교/판단문\n",
    "     - 주어진 조건에 따라 실행여부를 판단하는 문장\n",
    "     - 반드시 조건식은 그 결과가 True / False로 판정\n",
    "     - 논리연산자와 관계연산자를 사용\n",
    "     \n",
    "     \n",
    "         1) if문 : 단순 if문 , 조건이 참일 때만 문장을 제어할 때 사용하는 제어문\n",
    "         2) elif-else문 : 다중 if문 , 여러 개의 조건을 이용해서 문장을 제어할 때 사용\n",
    "  \n",
    " - 반복문\n",
    "     - 주어진 조건 또는 횟수에 의해 반복처리하는 문장\n",
    "     - 동일하거나 일정한 규칙을 가지고 있는 문장을 반복\n",
    "     \n",
    "         1) for문 : 반복할 횟수가 명확할 때 사용하는 반복문<br>\n",
    "         2) while문 : 사용자에 의해 반복문을 제어할 때 사용하는 반복문"
   ]
  },
  {
   "cell_type": "code",
   "execution_count": null,
   "id": "344bc6b2",
   "metadata": {},
   "outputs": [],
   "source": [
    "import os"
   ]
  },
  {
   "cell_type": "code",
   "execution_count": null,
   "id": "0c2ebc87",
   "metadata": {
    "scrolled": true
   },
   "outputs": [],
   "source": [
    "os.getcwd()"
   ]
  },
  {
   "cell_type": "code",
   "execution_count": null,
   "id": "056b6498",
   "metadata": {},
   "outputs": [],
   "source": []
  },
  {
   "cell_type": "markdown",
   "id": "a00d582e",
   "metadata": {},
   "source": [
    "## 단순 if문\n",
    "    -if 조건식:\n",
    "        참일 때 실행할 문장"
   ]
  },
  {
   "cell_type": "code",
   "execution_count": null,
   "id": "08c591ad",
   "metadata": {},
   "outputs": [],
   "source": [
    "color = input('좋아하는 색상? : ')\n",
    "if color == 'blue':\n",
    "    print('me too')\n",
    "\n",
    "print('The end')"
   ]
  },
  {
   "cell_type": "markdown",
   "id": "a34c8f48",
   "metadata": {},
   "source": [
    "## if ~ else문\n",
    "    - if 조건식 :\n",
    "        참일 때 실행할 문장\n",
    "      else:\n",
    "        참이 아닐 때 실행할 문장\n",
    "       "
   ]
  },
  {
   "cell_type": "code",
   "execution_count": null,
   "id": "4274c697",
   "metadata": {},
   "outputs": [],
   "source": [
    "# 하나의 숫자를 입력받아 짝수인지 홀수인지 판정하여 출력\n",
    "\n",
    "num = int(input('숫자를 입력하세요 : '))\n",
    "\n",
    "if num%2 == 1:\n",
    "    print('홀수')\n",
    "else:\n",
    "    print('짝수')"
   ]
  },
  {
   "cell_type": "code",
   "execution_count": null,
   "id": "9ebf617d",
   "metadata": {},
   "outputs": [],
   "source": []
  },
  {
   "cell_type": "code",
   "execution_count": null,
   "id": "8bc25939",
   "metadata": {},
   "outputs": [],
   "source": [
    "num = int(input('숫자 : '))\n",
    "\n",
    "\n",
    "for j in range(1,10):\n",
    "    print(f'{num} * {j} = {num*j}' )\n",
    "        "
   ]
  },
  {
   "cell_type": "code",
   "execution_count": null,
   "id": "7bbcdb6d",
   "metadata": {},
   "outputs": [],
   "source": []
  },
  {
   "cell_type": "code",
   "execution_count": null,
   "id": "e536c655",
   "metadata": {},
   "outputs": [],
   "source": []
  },
  {
   "cell_type": "markdown",
   "id": "afb9d1ea",
   "metadata": {},
   "source": [
    "## 다중 if문 : elif ~ else문\n",
    " - if 조건식 :\n",
    "     참일 때 실행할 문장\n",
    " - elif 조건식 :\n",
    "     참일 때 실행할 문장\n",
    " - else:\n",
    "     나머지 실행할 문장"
   ]
  },
  {
   "cell_type": "code",
   "execution_count": null,
   "id": "20cc7bef",
   "metadata": {},
   "outputs": [],
   "source": [
    "#숫자를 입력받아 음수인지 양수인지 0인지 판단\n",
    "\n",
    "num = float(input('숫자 : '))\n",
    "\n",
    "if num>0:\n",
    "    print('양수')\n",
    "elif num<0:\n",
    "    print('음수')\n",
    "else:\n",
    "    print('0')"
   ]
  },
  {
   "cell_type": "code",
   "execution_count": null,
   "id": "d9a381a4",
   "metadata": {},
   "outputs": [],
   "source": []
  },
  {
   "cell_type": "markdown",
   "id": "934e233d",
   "metadata": {},
   "source": [
    "## 성적처리 프로그램 2단계\n",
    " 1. 국어 , 영어 , 수학점수를 입력받아 처리\n",
    " 2. 총점과 평균 그리고 학점을 계산하여 출력\n",
    " 3. 학점은 평균이 90점 이상이면 'A학점' , 80점 이상이면 'B'학점 , 70점이상이면 'C학점' , 60점 이상이면 'D학점' , 60점 미만이면 'F학점'"
   ]
  },
  {
   "cell_type": "code",
   "execution_count": null,
   "id": "69178373",
   "metadata": {},
   "outputs": [],
   "source": [
    "kor = int(input('국어점수 : '))\n",
    "math = int(input('수학점수 : '))\n",
    "eng = int(input('영어점수 : '))\n",
    "\n",
    "sum = kor + math + eng\n",
    "avg = (kor + math + eng) / 3\n",
    "\n",
    "\n",
    "\n",
    "\n",
    "if avg >=90:\n",
    "    grade = 'A학점'\n",
    "elif avg<90 and avg>=80:\n",
    "    grade = 'B학점'\n",
    "elif avg<80 and avg>=70:\n",
    "    grade = 'C학점'\n",
    "elif avg<70 and avg>=60:\n",
    "    grade = 'D학점'\n",
    "else:\n",
    "    grade = 'F학점'\n",
    "    \n",
    "    \n",
    "print(f'총점 : {sum}점 , 평균 : {avg}점 , 학점 : {grade}')"
   ]
  },
  {
   "cell_type": "markdown",
   "id": "b4f50c37",
   "metadata": {},
   "source": [
    "## 3개 의 정수를 입력받아 가장 큰 수와 작은 수를 출력하는 프로그램 작성"
   ]
  },
  {
   "cell_type": "code",
   "execution_count": null,
   "id": "4ceedb02",
   "metadata": {
    "ExecuteTime": {
     "end_time": "2023-08-23T03:45:00.783247Z",
     "start_time": "2023-08-23T03:44:54.063641Z"
    }
   },
   "outputs": [],
   "source": [
    "num1,num2,num3 = map(int , input('숫자:').split())\n",
    "\n",
    "\n",
    "if num1>num2:\n",
    "    if num1>num3:\n",
    "        max = num1\n",
    "    else:\n",
    "        max = num3\n",
    "    \n",
    "    \n",
    "else:\n",
    "    if num2>num3:\n",
    "        max = num2\n",
    "    else:\n",
    "        max = num3\n",
    "\n",
    "\n",
    "        \n",
    "\n",
    "if num1<num2:\n",
    "    if num1<num3:\n",
    "        min = num1\n",
    "    else:\n",
    "        min = num3\n",
    "\n",
    "else:\n",
    "    if num2<num3:\n",
    "        min = num2\n",
    "    else:\n",
    "        min= num3\n",
    "    \n",
    "\n",
    "if num1>num2:\n",
    "    if num1<num3:\n",
    "        mid = num1\n",
    "    elif num2<num3:\n",
    "        mid = num3\n",
    "    else:\n",
    "        mid = num2\n",
    "        \n",
    "else:\n",
    "    if num2<num3:\n",
    "        mid = num2\n",
    "    elif num1<num3:\n",
    "        mid = num3\n",
    "    else:\n",
    "        mid = num1\n",
    "        \n",
    "    \n",
    "print(f'{max} > {mid} > {min}')"
   ]
  },
  {
   "cell_type": "code",
   "execution_count": null,
   "id": "265e3c24",
   "metadata": {
    "ExecuteTime": {
     "end_time": "2023-08-23T03:47:55.206978Z",
     "start_time": "2023-08-23T03:47:49.026333Z"
    }
   },
   "outputs": [],
   "source": [
    "first = int(input('첫번째 수 = '))\n",
    "op = input('연산자(+ , - , * , /) : ')\n",
    "second = int(input('두 번째 수 = '))\n",
    "\n",
    "if op=='*':\n",
    "    result = first * second\n",
    "elif op=='+':\n",
    "    result = first + second\n",
    "elif op=='-':\n",
    "    result = first - second\n",
    "else:\n",
    "    result = first / second\n",
    "    \n",
    "print(f'{first} {op} {second} = {result}')"
   ]
  },
  {
   "cell_type": "markdown",
   "id": "a1546445",
   "metadata": {},
   "source": [
    "# 반복문\n",
    "\n",
    " - 동일한 문장\n",
    " - 유사한 문장(동일한 행위를 하되 ,일정한 규칙을 가지고 있는 문장\n",
    " - for , while"
   ]
  },
  {
   "cell_type": "markdown",
   "id": "6d78b9ce",
   "metadata": {},
   "source": [
    "## for문\n",
    " - for 개별변수 in 집합변수: <br>\n",
    "     반복수행할 문장\n",
    " "
   ]
  },
  {
   "cell_type": "code",
   "execution_count": null,
   "id": "38b43a07",
   "metadata": {
    "ExecuteTime": {
     "end_time": "2023-08-23T05:17:10.949294Z",
     "start_time": "2023-08-23T05:17:10.940833Z"
    }
   },
   "outputs": [],
   "source": [
    "for i in range(10):\n",
    "    print(i+1)"
   ]
  },
  {
   "cell_type": "markdown",
   "id": "4fed422e",
   "metadata": {},
   "source": [
    "## while문\n",
    " - while 조건식 : <br>\n",
    "     반복수행할 문장"
   ]
  },
  {
   "cell_type": "code",
   "execution_count": null,
   "id": "72338c9e",
   "metadata": {
    "ExecuteTime": {
     "end_time": "2023-08-23T05:20:36.019902Z",
     "start_time": "2023-08-23T05:20:36.011819Z"
    }
   },
   "outputs": [],
   "source": [
    "i=0\n",
    "\n",
    "while i<5:\n",
    "    print('hi')\n",
    "    i=i+1\n",
    "    "
   ]
  },
  {
   "cell_type": "code",
   "execution_count": null,
   "id": "61d57be6",
   "metadata": {
    "ExecuteTime": {
     "end_time": "2023-08-23T05:23:44.864457Z",
     "start_time": "2023-08-23T05:23:44.854547Z"
    }
   },
   "outputs": [],
   "source": [
    "i=1\n",
    "while i<=5:\n",
    "    print(i)\n",
    "    i=i+1"
   ]
  },
  {
   "cell_type": "code",
   "execution_count": null,
   "id": "e31b2f16",
   "metadata": {
    "ExecuteTime": {
     "end_time": "2023-08-23T05:27:46.363690Z",
     "start_time": "2023-08-23T05:27:46.355541Z"
    }
   },
   "outputs": [],
   "source": [
    "i=0\n",
    "while True: # 무한루프\n",
    "    i=i+1\n",
    "    print(i)\n",
    "    if i==5:\n",
    "        break"
   ]
  },
  {
   "cell_type": "code",
   "execution_count": null,
   "id": "89f0c365",
   "metadata": {
    "ExecuteTime": {
     "end_time": "2023-08-23T05:30:17.420451Z",
     "start_time": "2023-08-23T05:30:15.516234Z"
    }
   },
   "outputs": [],
   "source": [
    "while True:\n",
    "    ch = input('종료(q) : ')\n",
    "    if ch=='q': break\n",
    "    print(ch)"
   ]
  },
  {
   "cell_type": "code",
   "execution_count": null,
   "id": "dad8bca0",
   "metadata": {
    "ExecuteTime": {
     "end_time": "2023-08-23T05:34:45.359389Z",
     "start_time": "2023-08-23T05:34:45.350751Z"
    }
   },
   "outputs": [],
   "source": [
    "### 1부터 10까지 자연수의 합을 계산하여 출력하는 프로그램\n",
    "sum=0\n",
    "\n",
    "for i in range(1,11):\n",
    "    sum=sum+i\n",
    "\n",
    "print('합계 :',sum)"
   ]
  },
  {
   "cell_type": "code",
   "execution_count": null,
   "id": "90b8e0a8",
   "metadata": {
    "ExecuteTime": {
     "end_time": "2023-08-23T05:35:17.117861Z",
     "start_time": "2023-08-23T05:35:17.111537Z"
    }
   },
   "outputs": [],
   "source": [
    "\n",
    "\n",
    "i=0\n",
    "sum=0\n",
    "while i<10:\n",
    "    i=i+1\n",
    "    sum=sum+i\n",
    "print(sum)"
   ]
  },
  {
   "cell_type": "markdown",
   "id": "6b02aae0",
   "metadata": {},
   "source": [
    "### 단을 입력받아 해당 단의 구구단을 출력"
   ]
  },
  {
   "cell_type": "code",
   "execution_count": null,
   "id": "dd07fa32",
   "metadata": {
    "ExecuteTime": {
     "end_time": "2023-08-23T05:41:06.788706Z",
     "start_time": "2023-08-23T05:41:05.239140Z"
    },
    "scrolled": true
   },
   "outputs": [],
   "source": [
    "num = int(input('단을 입력하세요 : '))\n",
    "\n",
    "\n",
    "for j in range(1,10):\n",
    "    print(f'{num} * {j} = {num*j}' )\n",
    "        "
   ]
  },
  {
   "cell_type": "code",
   "execution_count": null,
   "id": "38527e93",
   "metadata": {
    "ExecuteTime": {
     "end_time": "2023-08-23T05:55:11.123547Z",
     "start_time": "2023-08-23T05:55:10.239867Z"
    }
   },
   "outputs": [],
   "source": [
    "while True:\n",
    "    num = int(input('단을 입력하세요 : '))\n",
    "    if num==0 : break\n",
    "\n",
    "    for j in range(1,10):\n",
    "        print(f'{num} * {j} = {num*j}' )\n",
    "    "
   ]
  },
  {
   "cell_type": "code",
   "execution_count": null,
   "id": "a95db127",
   "metadata": {
    "ExecuteTime": {
     "end_time": "2023-08-23T06:01:49.773362Z",
     "start_time": "2023-08-23T06:01:49.761297Z"
    }
   },
   "outputs": [],
   "source": [
    "for i in range(2,10):\n",
    "    print(f'===={i}단====')\n",
    "    for j in range(1,10):\n",
    "        print(f'{i} * {j} = {i*j}' )\n",
    "    print()"
   ]
  },
  {
   "cell_type": "code",
   "execution_count": null,
   "id": "cf51a3e2",
   "metadata": {},
   "outputs": [],
   "source": []
  },
  {
   "cell_type": "markdown",
   "id": "84f27efd",
   "metadata": {},
   "source": [
    "### 멀티 프로그램 구현\n",
    "\n",
    "1. 처리조건\n",
    "    - 주어진 입출력형식에 맞게 프로그램을 구현\n",
    "    - 사용자에 의해 처리할 작업을 선택할 수 있도록 구현\n",
    "    - 사용자가 원하면 언제든지 프로그램을 종료할 수 있도록 구현\n",
    "    - 기타 조건은 주어진 입출력 형식에 맞게 구현\n",
    "    \n",
    "2. 입력형식\n",
    "<pre>\n",
    "    == 멀티프로그램 == \n",
    "    1. 수 나열\n",
    "    2. 계산기 프로그램\n",
    "    3. 작업종료\n",
    "    ===================\n",
    "    선택 =\n",
    " <pre>\n",
    " \n",
    "3. 기능설명\n",
    "    - 수나열은 3개의 정수를 입력받아 순서대로 출력하는 프로그램\n",
    "    - 계산기는 2개의 정수와 하나의 연산자를 입력하여 계산결과를 출력하는 프로그램\n",
    "    - 작업종료를 선택하지 않으면 프로그램을 무한루프로 동작되도록 구현\n",
    "    \n"
   ]
  },
  {
   "cell_type": "code",
   "execution_count": null,
   "id": "07e5db1a",
   "metadata": {
    "ExecuteTime": {
     "end_time": "2023-08-23T06:21:15.026119Z",
     "start_time": "2023-08-23T06:21:07.547192Z"
    },
    "scrolled": true
   },
   "outputs": [],
   "source": [
    "while True:\n",
    "    print()\n",
    "    print('==멀티 프로그램==')\n",
    "    print('1. 수나열')\n",
    "    print('2.계산기')\n",
    "    print('3.작업종료')\n",
    "    print('=================')\n",
    "    \n",
    "    ch = int(input('선택 : '))\n",
    "    \n",
    "    if ch==1:\n",
    "        num1,num2,num3 = map(int , input('숫자:').split())\n",
    "        if num1>num2:\n",
    "            if num1>num3:\n",
    "                max = num1\n",
    "            else:\n",
    "                max = num3\n",
    "    \n",
    "    \n",
    "        else:\n",
    "            if num2>num3:\n",
    "                max = num2\n",
    "            else:\n",
    "                max = num3\n",
    "\n",
    "\n",
    "        \n",
    "\n",
    "        if num1<num2:\n",
    "            if num1<num3:\n",
    "                min = num1\n",
    "            else:\n",
    "                min = num3\n",
    "\n",
    "        else:\n",
    "            if num2<num3:\n",
    "                min = num2\n",
    "            else:\n",
    "                min= num3\n",
    "    \n",
    "\n",
    "        if num1>num2:\n",
    "            if num1<num3:\n",
    "                mid = num1\n",
    "            elif num2<num3:\n",
    "                mid = num3\n",
    "            else:\n",
    "                mid = num2\n",
    "        \n",
    "        else:\n",
    "            if num2<num3:\n",
    "                mid = num2\n",
    "            elif num1<num3:\n",
    "                mid = num3\n",
    "            else:\n",
    "                mid = num1\n",
    "        print(f'{max} > {mid} > {min}')\n",
    "        \n",
    "    elif ch==2:\n",
    "        first = int(input('첫번째 수 = '))\n",
    "        op = input('연산자(+ , - , * , /) : ')\n",
    "        second = int(input('두 번째 수 = '))\n",
    "\n",
    "        if op=='*':\n",
    "             result = first * second\n",
    "        elif op=='+':\n",
    "             result = first + second\n",
    "        elif op=='-':\n",
    "             result = first - second\n",
    "        else:\n",
    "             result = first / second\n",
    "        print(f'{first} {op} {second} = {result}')\n",
    "        \n",
    "    elif ch==3:\n",
    "        break\n",
    "    else:\n",
    "        print('선택이 올바르지 않습니다.')\n",
    "        \n",
    "print('프로그램을 종료합니다')"
   ]
  },
  {
   "cell_type": "code",
   "execution_count": null,
   "id": "7a0dcf7c",
   "metadata": {},
   "outputs": [],
   "source": []
  },
  {
   "cell_type": "code",
   "execution_count": null,
   "id": "e06b379a",
   "metadata": {
    "ExecuteTime": {
     "end_time": "2023-08-23T06:21:47.268309Z",
     "start_time": "2023-08-23T06:21:47.257287Z"
    }
   },
   "outputs": [],
   "source": [
    "#for 개별변수 in 집합변수\n",
    "a = [1,2,3,4]\n",
    "for i in a:\n",
    "    print(i)"
   ]
  },
  {
   "cell_type": "code",
   "execution_count": null,
   "id": "6670b810",
   "metadata": {
    "ExecuteTime": {
     "end_time": "2023-08-23T06:22:14.328465Z",
     "start_time": "2023-08-23T06:22:14.313358Z"
    }
   },
   "outputs": [],
   "source": [
    "students = ('john','minsu','gildong','chris')\n",
    "\n",
    "for i in students:\n",
    "    print(i)"
   ]
  },
  {
   "cell_type": "code",
   "execution_count": null,
   "id": "500bd458",
   "metadata": {
    "ExecuteTime": {
     "end_time": "2023-08-23T06:25:26.132312Z",
     "start_time": "2023-08-23T06:25:26.119651Z"
    },
    "scrolled": true
   },
   "outputs": [],
   "source": [
    "a = [1,2,3,4,5]\n",
    "for i in range(5):\n",
    "    print(a[i],end=' ')"
   ]
  },
  {
   "cell_type": "code",
   "execution_count": null,
   "id": "1c657b2d",
   "metadata": {
    "ExecuteTime": {
     "end_time": "2023-08-23T06:25:14.873793Z",
     "start_time": "2023-08-23T06:25:14.870480Z"
    }
   },
   "outputs": [],
   "source": []
  },
  {
   "cell_type": "code",
   "execution_count": null,
   "id": "a7309588",
   "metadata": {},
   "outputs": [],
   "source": []
  },
  {
   "cell_type": "markdown",
   "id": "54af8ab8",
   "metadata": {
    "ExecuteTime": {
     "end_time": "2023-08-23T06:26:13.402117Z",
     "start_time": "2023-08-23T06:26:13.387545Z"
    }
   },
   "source": [
    "## 리스트 내포(List comprehension)\n",
    "\n",
    " - for문이나 if문 등 한 줄로 코드를 작성하여 직관적이고 실행속도를 높여주는 기능\n",
    " - 결과를 다시 리스트에 담아야 하는 상황에 해당 명령을 list에 포함시키는 방식\n",
    " - 기본형식<br>\n",
    "     리스트명 = [표현식 for 개별변수 in 집합변수]"
   ]
  },
  {
   "cell_type": "code",
   "execution_count": null,
   "id": "d0e001e6",
   "metadata": {
    "ExecuteTime": {
     "end_time": "2023-08-23T06:30:24.668303Z",
     "start_time": "2023-08-23T06:30:24.656825Z"
    }
   },
   "outputs": [],
   "source": [
    "a = [1,2,3]\n",
    "b = []\n",
    "\n",
    "for i in a:\n",
    "    b.append(i*2)\n",
    "    \n",
    "print(b)"
   ]
  },
  {
   "cell_type": "code",
   "execution_count": null,
   "id": "89899f42",
   "metadata": {
    "ExecuteTime": {
     "end_time": "2023-08-23T06:31:42.013574Z",
     "start_time": "2023-08-23T06:31:42.000491Z"
    },
    "scrolled": true
   },
   "outputs": [],
   "source": [
    "a = [1,2,3]\n",
    "b = [i*2 for i in a]\n",
    "print(b)"
   ]
  },
  {
   "cell_type": "markdown",
   "id": "9aba9d5d",
   "metadata": {},
   "source": [
    ": 리스트명 = [표현식 for 개별변수 in 집합변수 if 조건문]"
   ]
  },
  {
   "cell_type": "code",
   "execution_count": null,
   "id": "1efa7902",
   "metadata": {
    "ExecuteTime": {
     "end_time": "2023-08-23T06:35:14.343889Z",
     "start_time": "2023-08-23T06:35:14.338114Z"
    }
   },
   "outputs": [],
   "source": [
    "a = [3,7,9,10]\n",
    "b = [i*100 for i in a if i%2==1]\n",
    "print(b)"
   ]
  },
  {
   "cell_type": "markdown",
   "id": "df315ccb",
   "metadata": {},
   "source": [
    "## 기타 제어문\n",
    "\n",
    " - break문 : 해당 블록에서 벗어남\n",
    " - continue문 : 이하 생략의 의미\n"
   ]
  },
  {
   "cell_type": "code",
   "execution_count": null,
   "id": "61a4f695",
   "metadata": {
    "ExecuteTime": {
     "end_time": "2023-08-23T06:46:44.464723Z",
     "start_time": "2023-08-23T06:46:44.454387Z"
    }
   },
   "outputs": [],
   "source": [
    "#1부터 100 사이의 자연수 출력 ( 한 줄에 10개씩만)\n",
    "\n",
    "for i in range(1,101):\n",
    "\n",
    "    print(i , end=' ')\n",
    "    if i%10==0:\n",
    "        print()"
   ]
  },
  {
   "cell_type": "code",
   "execution_count": null,
   "id": "db337a9c",
   "metadata": {
    "ExecuteTime": {
     "end_time": "2023-08-23T07:12:28.172026Z",
     "start_time": "2023-08-23T07:12:28.160838Z"
    }
   },
   "outputs": [],
   "source": [
    "cnt=0\n",
    "for i in range(1,101):\n",
    "    if i%2 == 0 : continue\n",
    "    else:\n",
    "        \n",
    "        if cnt%5==0 : print()\n",
    "        cnt=cnt+1\n",
    "        print(i , end=' ')"
   ]
  },
  {
   "cell_type": "code",
   "execution_count": null,
   "id": "8c53c5df",
   "metadata": {},
   "outputs": [],
   "source": []
  },
  {
   "cell_type": "markdown",
   "id": "f39536dd",
   "metadata": {},
   "source": [
    "# 자료구조와 제어문"
   ]
  },
  {
   "cell_type": "code",
   "execution_count": null,
   "id": "3f004494",
   "metadata": {
    "ExecuteTime": {
     "end_time": "2023-08-23T07:21:38.921292Z",
     "start_time": "2023-08-23T07:21:38.909795Z"
    }
   },
   "outputs": [],
   "source": [
    "a = [(1,2),(3,4),(5,6),(7,8),(9,10)]\n",
    "\n",
    "for i in a:\n",
    "    print(i)\n"
   ]
  },
  {
   "cell_type": "code",
   "execution_count": null,
   "id": "f198bf15",
   "metadata": {
    "ExecuteTime": {
     "end_time": "2023-08-23T07:22:12.798417Z",
     "start_time": "2023-08-23T07:22:12.793004Z"
    }
   },
   "outputs": [],
   "source": [
    "for i in a:\n",
    "    print(i[0],i[1])"
   ]
  },
  {
   "cell_type": "code",
   "execution_count": null,
   "id": "98e83714",
   "metadata": {
    "ExecuteTime": {
     "end_time": "2023-08-23T07:22:52.633741Z",
     "start_time": "2023-08-23T07:22:52.622720Z"
    }
   },
   "outputs": [],
   "source": [
    "for i in a:\n",
    "    print(i[0] + i[1])"
   ]
  },
  {
   "cell_type": "code",
   "execution_count": null,
   "id": "08ce47a9",
   "metadata": {
    "ExecuteTime": {
     "end_time": "2023-08-23T07:24:14.601793Z",
     "start_time": "2023-08-23T07:24:14.597390Z"
    }
   },
   "outputs": [],
   "source": [
    "for first,second in a:\n",
    "    print(f'{first} + {second} = {first + second}')"
   ]
  },
  {
   "cell_type": "code",
   "execution_count": null,
   "id": "ea55d51e",
   "metadata": {},
   "outputs": [],
   "source": []
  },
  {
   "cell_type": "markdown",
   "id": "0bdee9ea",
   "metadata": {},
   "source": [
    "## 년도를 입력받아 평년인지 윤년인지 판단하여 출력하는 프로그램\n",
    " - 4년으로 나누어떨어지면 윤년, 대신 100의 배수는 평년임."
   ]
  },
  {
   "cell_type": "code",
   "execution_count": 10,
   "id": "736b9941",
   "metadata": {
    "ExecuteTime": {
     "end_time": "2023-08-23T07:34:56.188292Z",
     "start_time": "2023-08-23T07:34:42.339881Z"
    },
    "scrolled": true
   },
   "outputs": [
    {
     "name": "stdout",
     "output_type": "stream",
     "text": [
      "년도를 입력하세요(0은 종료) : 400\n",
      "윤년\n",
      "년도를 입력하세요(0은 종료) : 100\n",
      "평년\n",
      "년도를 입력하세요(0은 종료) : 4\n",
      "윤년\n",
      "년도를 입력하세요(0은 종료) : 0\n",
      "프로그램 종료\n"
     ]
    }
   ],
   "source": [
    "\n",
    "\n",
    "while True:\n",
    "    year = int(input('년도를 입력하세요(0은 종료) : '))\n",
    "    if year==0:\n",
    "        print('프로그램 종료')\n",
    "        break\n",
    "    if year%4==0:\n",
    "        if year%100==0 and year%400!=0:\n",
    "            print('평년')\n",
    "        elif year%100==0 and year%400==0:\n",
    "            print('윤년')\n",
    "        else:\n",
    "            print('윤년')\n",
    "    elif year%4!=0:\n",
    "        print('평년')\n",
    "        \n",
    "    "
   ]
  },
  {
   "cell_type": "code",
   "execution_count": null,
   "id": "44dca492",
   "metadata": {},
   "outputs": [],
   "source": []
  },
  {
   "cell_type": "markdown",
   "id": "cd51914f",
   "metadata": {},
   "source": [
    "## 1부터 100 사이의 수 중 , 솟수에 해당하는 숫자를 출력하는 프로그램\n",
    " - 한 줄에 10개씩 출력"
   ]
  },
  {
   "cell_type": "code",
   "execution_count": 17,
   "id": "7e4f1150",
   "metadata": {
    "ExecuteTime": {
     "end_time": "2023-08-23T07:41:32.620550Z",
     "start_time": "2023-08-23T07:41:32.608961Z"
    }
   },
   "outputs": [
    {
     "data": {
      "text/plain": [
       "1"
      ]
     },
     "execution_count": 17,
     "metadata": {},
     "output_type": "execute_result"
    }
   ],
   "source": []
  },
  {
   "cell_type": "code",
   "execution_count": 27,
   "id": "f4cc2f9c",
   "metadata": {
    "ExecuteTime": {
     "end_time": "2023-08-23T07:54:27.393465Z",
     "start_time": "2023-08-23T07:54:27.384235Z"
    }
   },
   "outputs": [
    {
     "name": "stdout",
     "output_type": "stream",
     "text": [
      "2 3 5 7 11 13 17 19 23 29 31 37 41 43 47 53 59 61 67 71 73 79 83 89 97 "
     ]
    }
   ],
   "source": [
    "for i in range(1,101):\n",
    "    check = 0\n",
    "    for j in range(1,i+1):\n",
    "        if i%j==0:\n",
    "            check=check+1\n",
    "    if check==2:\n",
    "        print(i , end=' ')\n"
   ]
  },
  {
   "cell_type": "markdown",
   "id": "f53ae601",
   "metadata": {},
   "source": [
    "# 제어문 학습"
   ]
  },
  {
   "cell_type": "code",
   "execution_count": 13,
   "id": "d23f49d3",
   "metadata": {
    "ExecuteTime": {
     "end_time": "2023-08-24T00:10:42.099588Z",
     "start_time": "2023-08-24T00:10:42.088849Z"
    },
    "scrolled": true
   },
   "outputs": [
    {
     "name": "stdout",
     "output_type": "stream",
     "text": [
      "******\n",
      "*****\n",
      "****\n",
      "***\n",
      "**\n",
      "*\n"
     ]
    }
   ],
   "source": [
    "for i in range(6,0,-1):\n",
    "        print('*' * i)"
   ]
  },
  {
   "cell_type": "code",
   "execution_count": null,
   "id": "29874827",
   "metadata": {},
   "outputs": [],
   "source": []
  },
  {
   "cell_type": "code",
   "execution_count": 22,
   "id": "51876689",
   "metadata": {
    "ExecuteTime": {
     "end_time": "2023-08-24T00:22:59.341883Z",
     "start_time": "2023-08-24T00:22:59.329774Z"
    }
   },
   "outputs": [
    {
     "name": "stdout",
     "output_type": "stream",
     "text": [
      "**********\n",
      " *********\n",
      "  ********\n",
      "   *******\n",
      "    ******\n",
      "     *****\n",
      "      ****\n",
      "       ***\n",
      "        **\n",
      "         *\n"
     ]
    }
   ],
   "source": [
    "for i in range(10,0,-1):\n",
    "        print('{:>10}'.format('*' * i))"
   ]
  },
  {
   "cell_type": "code",
   "execution_count": null,
   "id": "69824fdb",
   "metadata": {},
   "outputs": [],
   "source": []
  },
  {
   "cell_type": "code",
   "execution_count": null,
   "id": "2780fd9b",
   "metadata": {},
   "outputs": [],
   "source": []
  },
  {
   "cell_type": "code",
   "execution_count": null,
   "id": "4283d17c",
   "metadata": {},
   "outputs": [],
   "source": []
  },
  {
   "cell_type": "code",
   "execution_count": null,
   "id": "0713af28",
   "metadata": {},
   "outputs": [],
   "source": []
  },
  {
   "cell_type": "code",
   "execution_count": null,
   "id": "8a5f89b1",
   "metadata": {},
   "outputs": [],
   "source": []
  },
  {
   "cell_type": "code",
   "execution_count": 32,
   "id": "4a0a0bda",
   "metadata": {
    "ExecuteTime": {
     "end_time": "2023-08-24T00:44:42.857149Z",
     "start_time": "2023-08-24T00:44:42.829552Z"
    },
    "scrolled": true
   },
   "outputs": [
    {
     "name": "stdout",
     "output_type": "stream",
     "text": [
      "        *\n",
      "       ***\n",
      "      *****\n",
      "     *******\n",
      "    *********\n",
      "   ***********\n",
      "  *************\n",
      " ***************\n",
      "*****************\n"
     ]
    }
   ],
   "source": [
    "\n",
    "\n",
    "for i in range(1, 10):\n",
    "    for j in range(9, i, -1):\n",
    "        print(' ',end='')\n",
    "    for j in range(0, 2 * i -1):\n",
    "        print('*',end='')\n",
    "    print()\n",
    "\n"
   ]
  },
  {
   "cell_type": "code",
   "execution_count": 29,
   "id": "f09ba24b",
   "metadata": {
    "ExecuteTime": {
     "end_time": "2023-08-24T00:42:08.748719Z",
     "start_time": "2023-08-24T00:42:08.739749Z"
    }
   },
   "outputs": [
    {
     "name": "stdout",
     "output_type": "stream",
     "text": [
      "  *****************\n",
      "   ***************\n",
      "    *************\n",
      "     ***********\n",
      "      *********\n",
      "       *******\n",
      "        *****\n",
      "         ***\n",
      "          *\n"
     ]
    }
   ],
   "source": [
    "for i in range(9,0,-1):\n",
    "    for j in range(i-1, 10):\n",
    "        print(' ',end='')\n",
    "    for j in range(2*i-1,0,-1):\n",
    "        print('*',end='')\n",
    "    print()"
   ]
  },
  {
   "cell_type": "code",
   "execution_count": 26,
   "id": "f1ff6621",
   "metadata": {
    "ExecuteTime": {
     "end_time": "2023-08-24T00:40:29.539984Z",
     "start_time": "2023-08-24T00:40:29.527242Z"
    }
   },
   "outputs": [
    {
     "name": "stdout",
     "output_type": "stream",
     "text": [
      "               \n",
      "             *\n",
      "            ***\n",
      "           *****\n",
      "          *******\n",
      "         *********\n",
      "        ***********\n",
      "       *************\n",
      "      ***************\n",
      "     *****************\n",
      "    *******************\n",
      "   *********************\n",
      "  ***********************\n",
      " *************************\n",
      "***************************\n",
      "\n"
     ]
    }
   ],
   "source": [
    "output = \" \"\n",
    "\n",
    "for i in range(0, 15):\n",
    "    for j in range(14, i, -1):\n",
    "        output += ' '\n",
    "    for j in range(0, 2 * i -1):\n",
    "         output += '*'\n",
    "    output += '\\n'\n",
    "\n",
    "print(output)"
   ]
  }
 ],
 "metadata": {
  "kernelspec": {
   "display_name": "Python 3",
   "language": "python",
   "name": "python3"
  },
  "language_info": {
   "codemirror_mode": {
    "name": "ipython",
    "version": 3
   },
   "file_extension": ".py",
   "mimetype": "text/x-python",
   "name": "python",
   "nbconvert_exporter": "python",
   "pygments_lexer": "ipython3",
   "version": "3.8.8"
  },
  "toc": {
   "base_numbering": 1,
   "nav_menu": {},
   "number_sections": true,
   "sideBar": true,
   "skip_h1_title": false,
   "title_cell": "Table of Contents",
   "title_sidebar": "Contents",
   "toc_cell": false,
   "toc_position": {},
   "toc_section_display": true,
   "toc_window_display": false
  }
 },
 "nbformat": 4,
 "nbformat_minor": 5
}
