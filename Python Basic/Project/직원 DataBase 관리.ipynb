{
 "cells": [
  {
   "cell_type": "code",
   "execution_count": null,
   "id": "94e2e0a3",
   "metadata": {
    "ExecuteTime": {
     "end_time": "2023-09-08T05:40:21.423835Z",
     "start_time": "2023-09-08T05:40:21.300937Z"
    }
   },
   "outputs": [],
   "source": [
    "from company import *"
   ]
  },
  {
   "cell_type": "code",
   "execution_count": null,
   "id": "355592d4",
   "metadata": {
    "ExecuteTime": {
     "end_time": "2023-09-08T05:40:22.091765Z",
     "start_time": "2023-09-08T05:40:21.490749Z"
    },
    "scrolled": false
   },
   "outputs": [],
   "source": [
    "def main2():\n",
    "    conn = dbConnection()\n",
    "    cur = conn.cursor()\n",
    "    while True:   \n",
    "        view()\n",
    "        print()\n",
    "        print('============menu===========')\n",
    "        print('1.신규 사원 추가')\n",
    "        print('2.사원 정보 수정')\n",
    "        print('3.사원 정보 삭제')\n",
    "        print('4.특정 사원 정보 보기')\n",
    "        print('5.전체 사원 정보 보기')\n",
    "        print('6.작업 종료')\n",
    "        print('===========================')\n",
    "        print()\n",
    "        try:\n",
    "            menu = int(input('업무를 선택하세요 : '))\n",
    "        except:\n",
    "            print('숫자를 입력하세요.')\n",
    "        else:\n",
    "            if menu==1:\n",
    "                add_employee()\n",
    "            elif menu==2:\n",
    "                correction()\n",
    "            elif menu==3:\n",
    "                dele()\n",
    "            elif menu==4:\n",
    "                employee_show()\n",
    "            elif menu==5:\n",
    "                show_all()\n",
    "            elif menu==6:\n",
    "                print('작업을 종료합니다')\n",
    "                break\n",
    "            else:\n",
    "                print('잘못된 메뉴 선택입니다')\n",
    "main2()"
   ]
  },
  {
   "cell_type": "code",
   "execution_count": null,
   "id": "c6cd6417",
   "metadata": {
    "ExecuteTime": {
     "end_time": "2023-09-08T05:40:24.350128Z",
     "start_time": "2023-09-08T05:40:24.342095Z"
    }
   },
   "outputs": [],
   "source": [
    "cur.close()\n",
    "conn.commit()\n",
    "conn.close()"
   ]
  },
  {
   "cell_type": "code",
   "execution_count": null,
   "id": "abbb75b3",
   "metadata": {
    "ExecuteTime": {
     "end_time": "2023-09-08T01:38:58.637178Z",
     "start_time": "2023-09-08T01:38:58.251350Z"
    }
   },
   "outputs": [],
   "source": [
    "import pandas as pd"
   ]
  },
  {
   "cell_type": "code",
   "execution_count": null,
   "id": "5425acdf",
   "metadata": {
    "ExecuteTime": {
     "end_time": "2023-09-08T01:38:59.275170Z",
     "start_time": "2023-09-08T01:38:59.146102Z"
    }
   },
   "outputs": [],
   "source": [
    "import cx_Oracle as cx\n",
    "conn = cx.connect('scott' , '1234','127.0.0.1:1521/xe')\n",
    "cur = conn.cursor()\n",
    "\n",
    "sql = 'select * from company order by 사원번호'\n",
    "cur.execute(sql)\n",
    "\n",
    "rs = cur.fetchall()\n",
    "\n",
    "df = pd.DataFrame(rs , columns=[i[0] for i in cur.description])\n",
    "df.to_excel('output.xlsx',encoding = 'UTF-8' , index=False)"
   ]
  },
  {
   "cell_type": "code",
   "execution_count": null,
   "id": "17ebfd83",
   "metadata": {},
   "outputs": [],
   "source": []
  }
 ],
 "metadata": {
  "kernelspec": {
   "display_name": "Python 3",
   "language": "python",
   "name": "python3"
  },
  "language_info": {
   "codemirror_mode": {
    "name": "ipython",
    "version": 3
   },
   "file_extension": ".py",
   "mimetype": "text/x-python",
   "name": "python",
   "nbconvert_exporter": "python",
   "pygments_lexer": "ipython3",
   "version": "3.8.8"
  },
  "toc": {
   "base_numbering": 1,
   "nav_menu": {},
   "number_sections": true,
   "sideBar": true,
   "skip_h1_title": false,
   "title_cell": "Table of Contents",
   "title_sidebar": "Contents",
   "toc_cell": false,
   "toc_position": {},
   "toc_section_display": true,
   "toc_window_display": false
  }
 },
 "nbformat": 4,
 "nbformat_minor": 5
}
