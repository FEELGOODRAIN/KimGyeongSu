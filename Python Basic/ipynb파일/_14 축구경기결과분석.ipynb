{
 "cells": [
  {
   "cell_type": "code",
   "execution_count": 1,
   "id": "fa557e43",
   "metadata": {
    "ExecuteTime": {
     "end_time": "2023-10-13T00:23:56.584993Z",
     "start_time": "2023-10-13T00:23:54.653842Z"
    }
   },
   "outputs": [
    {
     "name": "stderr",
     "output_type": "stream",
     "text": [
      "'sudo'은(는) 내부 또는 외부 명령, 실행할 수 있는 프로그램, 또는\n",
      "배치 파일이 아닙니다.\n",
      "'sudo'은(는) 내부 또는 외부 명령, 실행할 수 있는 프로그램, 또는\n",
      "배치 파일이 아닙니다.\n",
      "'rm'은(는) 내부 또는 외부 명령, 실행할 수 있는 프로그램, 또는\n",
      "배치 파일이 아닙니다.\n"
     ]
    }
   ],
   "source": [
    "import numpy as np\n",
    "import pandas as pd\n",
    "import matplotlib as mpl\n",
    "import matplotlib.pyplot as plt\n",
    "%matplotlib inline\n",
    "import matplotlib.font_manager as fm\n",
    "!sudo apt-get install -y fonts-nanum\n",
    "!sudo fc-cache -fv\n",
    "!rm ~/.cache/matplotlib -rf\n",
    "\n",
    "plt.rc('font' , family = 'NanumGothic')\n",
    "mpl.rcParams['axes.unicode_minus'] = False\n",
    "import platform\n",
    "from matplotlib import font_manager , rc\n",
    "\n",
    "if platform.system() == 'Darwin':\n",
    "  rc('font' , family = 'AppleGothic')\n",
    "elif platform.system() == 'Windows':\n",
    "  path = 'C:/Windows/Fonts/malgun.ttf'\n",
    "  font_name = font_manager.FontProperties(fname = path).get_name()\n",
    "  rc('font' , family = font_name)\n",
    "else:\n",
    "  print('모름')\n",
    "import warnings\n",
    "warnings.filterwarnings('ignore')"
   ]
  },
  {
   "cell_type": "code",
   "execution_count": 2,
   "id": "7bae818a",
   "metadata": {
    "ExecuteTime": {
     "end_time": "2023-10-13T00:23:58.573700Z",
     "start_time": "2023-10-13T00:23:58.495755Z"
    }
   },
   "outputs": [],
   "source": [
    "soccer = pd.read_csv('C:/k_digital/Pythonbasic/source/soccer.csv')"
   ]
  },
  {
   "cell_type": "code",
   "execution_count": 5,
   "id": "4bb2fdc5",
   "metadata": {
    "ExecuteTime": {
     "end_time": "2023-10-13T00:24:51.937091Z",
     "start_time": "2023-10-13T00:24:45.864243Z"
    }
   },
   "outputs": [
    {
     "name": "stdout",
     "output_type": "stream",
     "text": [
      "Collecting wordcloud\n",
      "  Obtaining dependency information for wordcloud from https://files.pythonhosted.org/packages/9d/06/059a7e33548acf6c7bd29f96b2e495571797b4397353bf79631559b97948/wordcloud-1.9.2-cp38-cp38-win_amd64.whl.metadata\n",
      "  Downloading wordcloud-1.9.2-cp38-cp38-win_amd64.whl.metadata (3.4 kB)\n",
      "Requirement already satisfied: numpy>=1.6.1 in c:\\anaconda3\\lib\\site-packages (from wordcloud) (1.24.3)\n",
      "Requirement already satisfied: pillow in c:\\anaconda3\\lib\\site-packages (from wordcloud) (9.4.0)\n",
      "Requirement already satisfied: matplotlib in c:\\anaconda3\\lib\\site-packages (from wordcloud) (3.7.2)\n",
      "Requirement already satisfied: contourpy>=1.0.1 in c:\\anaconda3\\lib\\site-packages (from matplotlib->wordcloud) (1.0.5)\n",
      "Requirement already satisfied: cycler>=0.10 in c:\\anaconda3\\lib\\site-packages (from matplotlib->wordcloud) (0.11.0)\n",
      "Requirement already satisfied: fonttools>=4.22.0 in c:\\anaconda3\\lib\\site-packages (from matplotlib->wordcloud) (4.25.0)\n",
      "Requirement already satisfied: kiwisolver>=1.0.1 in c:\\anaconda3\\lib\\site-packages (from matplotlib->wordcloud) (1.4.4)\n",
      "Requirement already satisfied: packaging>=20.0 in c:\\anaconda3\\lib\\site-packages (from matplotlib->wordcloud) (23.1)\n",
      "Requirement already satisfied: pyparsing<3.1,>=2.3.1 in c:\\anaconda3\\lib\\site-packages (from matplotlib->wordcloud) (3.0.9)\n",
      "Requirement already satisfied: python-dateutil>=2.7 in c:\\anaconda3\\lib\\site-packages (from matplotlib->wordcloud) (2.8.2)\n",
      "Requirement already satisfied: importlib-resources>=3.2.0 in c:\\anaconda3\\lib\\site-packages (from matplotlib->wordcloud) (5.2.0)\n",
      "Requirement already satisfied: zipp>=3.1.0 in c:\\anaconda3\\lib\\site-packages (from importlib-resources>=3.2.0->matplotlib->wordcloud) (3.11.0)\n",
      "Requirement already satisfied: six>=1.5 in c:\\anaconda3\\lib\\site-packages (from python-dateutil>=2.7->matplotlib->wordcloud) (1.16.0)\n",
      "Downloading wordcloud-1.9.2-cp38-cp38-win_amd64.whl (153 kB)\n",
      "   ---------------------------------------- 0.0/153.1 kB ? eta -:--:--\n",
      "   ---------------------------------------- 153.1/153.1 kB 8.9 MB/s eta 0:00:00\n",
      "Installing collected packages: wordcloud\n",
      "Successfully installed wordcloud-1.9.2\n"
     ]
    }
   ],
   "source": [
    "!pip install wordcloud"
   ]
  },
  {
   "cell_type": "code",
   "execution_count": 6,
   "id": "03bbefc1",
   "metadata": {
    "ExecuteTime": {
     "end_time": "2023-10-13T00:24:56.709549Z",
     "start_time": "2023-10-13T00:24:56.661076Z"
    }
   },
   "outputs": [],
   "source": [
    "import seaborn as sns\n",
    "from wordcloud import WordCloud"
   ]
  },
  {
   "cell_type": "code",
   "execution_count": 7,
   "id": "a8e3887d",
   "metadata": {
    "ExecuteTime": {
     "end_time": "2023-10-13T00:27:40.260706Z",
     "start_time": "2023-10-13T00:27:40.219831Z"
    }
   },
   "outputs": [
    {
     "name": "stdout",
     "output_type": "stream",
     "text": [
      "<class 'pandas.core.frame.DataFrame'>\n",
      "RangeIndex: 41540 entries, 0 to 41539\n",
      "Data columns (total 9 columns):\n",
      " #   Column      Non-Null Count  Dtype \n",
      "---  ------      --------------  ----- \n",
      " 0   date        41540 non-null  object\n",
      " 1   home_team   41540 non-null  object\n",
      " 2   away_team   41540 non-null  object\n",
      " 3   home_score  41540 non-null  int64 \n",
      " 4   away_score  41540 non-null  int64 \n",
      " 5   tournament  41540 non-null  object\n",
      " 6   city        41540 non-null  object\n",
      " 7   country     41540 non-null  object\n",
      " 8   neutral     41540 non-null  bool  \n",
      "dtypes: bool(1), int64(2), object(6)\n",
      "memory usage: 2.6+ MB\n"
     ]
    }
   ],
   "source": [
    "soccer.info()"
   ]
  },
  {
   "cell_type": "code",
   "execution_count": 8,
   "id": "9f05d8c8",
   "metadata": {
    "ExecuteTime": {
     "end_time": "2023-10-13T00:27:56.155644Z",
     "start_time": "2023-10-13T00:27:56.135117Z"
    }
   },
   "outputs": [
    {
     "data": {
      "text/html": [
       "<div>\n",
       "<style scoped>\n",
       "    .dataframe tbody tr th:only-of-type {\n",
       "        vertical-align: middle;\n",
       "    }\n",
       "\n",
       "    .dataframe tbody tr th {\n",
       "        vertical-align: top;\n",
       "    }\n",
       "\n",
       "    .dataframe thead th {\n",
       "        text-align: right;\n",
       "    }\n",
       "</style>\n",
       "<table border=\"1\" class=\"dataframe\">\n",
       "  <thead>\n",
       "    <tr style=\"text-align: right;\">\n",
       "      <th></th>\n",
       "      <th>date</th>\n",
       "      <th>home_team</th>\n",
       "      <th>away_team</th>\n",
       "      <th>home_score</th>\n",
       "      <th>away_score</th>\n",
       "      <th>tournament</th>\n",
       "      <th>city</th>\n",
       "      <th>country</th>\n",
       "      <th>neutral</th>\n",
       "    </tr>\n",
       "  </thead>\n",
       "  <tbody>\n",
       "    <tr>\n",
       "      <th>0</th>\n",
       "      <td>1872-11-30</td>\n",
       "      <td>Scotland</td>\n",
       "      <td>England</td>\n",
       "      <td>0</td>\n",
       "      <td>0</td>\n",
       "      <td>Friendly</td>\n",
       "      <td>Glasgow</td>\n",
       "      <td>Scotland</td>\n",
       "      <td>False</td>\n",
       "    </tr>\n",
       "    <tr>\n",
       "      <th>1</th>\n",
       "      <td>1873-03-08</td>\n",
       "      <td>England</td>\n",
       "      <td>Scotland</td>\n",
       "      <td>4</td>\n",
       "      <td>2</td>\n",
       "      <td>Friendly</td>\n",
       "      <td>London</td>\n",
       "      <td>England</td>\n",
       "      <td>False</td>\n",
       "    </tr>\n",
       "    <tr>\n",
       "      <th>2</th>\n",
       "      <td>1874-03-07</td>\n",
       "      <td>Scotland</td>\n",
       "      <td>England</td>\n",
       "      <td>2</td>\n",
       "      <td>1</td>\n",
       "      <td>Friendly</td>\n",
       "      <td>Glasgow</td>\n",
       "      <td>Scotland</td>\n",
       "      <td>False</td>\n",
       "    </tr>\n",
       "    <tr>\n",
       "      <th>3</th>\n",
       "      <td>1875-03-06</td>\n",
       "      <td>England</td>\n",
       "      <td>Scotland</td>\n",
       "      <td>2</td>\n",
       "      <td>2</td>\n",
       "      <td>Friendly</td>\n",
       "      <td>London</td>\n",
       "      <td>England</td>\n",
       "      <td>False</td>\n",
       "    </tr>\n",
       "    <tr>\n",
       "      <th>4</th>\n",
       "      <td>1876-03-04</td>\n",
       "      <td>Scotland</td>\n",
       "      <td>England</td>\n",
       "      <td>3</td>\n",
       "      <td>0</td>\n",
       "      <td>Friendly</td>\n",
       "      <td>Glasgow</td>\n",
       "      <td>Scotland</td>\n",
       "      <td>False</td>\n",
       "    </tr>\n",
       "    <tr>\n",
       "      <th>...</th>\n",
       "      <td>...</td>\n",
       "      <td>...</td>\n",
       "      <td>...</td>\n",
       "      <td>...</td>\n",
       "      <td>...</td>\n",
       "      <td>...</td>\n",
       "      <td>...</td>\n",
       "      <td>...</td>\n",
       "      <td>...</td>\n",
       "    </tr>\n",
       "    <tr>\n",
       "      <th>41535</th>\n",
       "      <td>2019-11-19</td>\n",
       "      <td>Kyrgyzstan</td>\n",
       "      <td>Tajikistan</td>\n",
       "      <td>1</td>\n",
       "      <td>1</td>\n",
       "      <td>FIFA World Cup qualification</td>\n",
       "      <td>Bishkek</td>\n",
       "      <td>Kyrgyzstan</td>\n",
       "      <td>False</td>\n",
       "    </tr>\n",
       "    <tr>\n",
       "      <th>41536</th>\n",
       "      <td>2019-11-19</td>\n",
       "      <td>Vietnam</td>\n",
       "      <td>Thailand</td>\n",
       "      <td>0</td>\n",
       "      <td>0</td>\n",
       "      <td>FIFA World Cup qualification</td>\n",
       "      <td>Hanoi</td>\n",
       "      <td>Vietnam</td>\n",
       "      <td>False</td>\n",
       "    </tr>\n",
       "    <tr>\n",
       "      <th>41537</th>\n",
       "      <td>2019-11-19</td>\n",
       "      <td>Malaysia</td>\n",
       "      <td>Indonesia</td>\n",
       "      <td>2</td>\n",
       "      <td>0</td>\n",
       "      <td>FIFA World Cup qualification</td>\n",
       "      <td>Kuala Lumpur</td>\n",
       "      <td>Malaysia</td>\n",
       "      <td>False</td>\n",
       "    </tr>\n",
       "    <tr>\n",
       "      <th>41538</th>\n",
       "      <td>2019-11-19</td>\n",
       "      <td>Turkmenistan</td>\n",
       "      <td>Sri Lanka</td>\n",
       "      <td>2</td>\n",
       "      <td>0</td>\n",
       "      <td>FIFA World Cup qualification</td>\n",
       "      <td>Ashgabat</td>\n",
       "      <td>Turkmenistan</td>\n",
       "      <td>False</td>\n",
       "    </tr>\n",
       "    <tr>\n",
       "      <th>41539</th>\n",
       "      <td>2019-11-19</td>\n",
       "      <td>Lebanon</td>\n",
       "      <td>North Korea</td>\n",
       "      <td>0</td>\n",
       "      <td>0</td>\n",
       "      <td>FIFA World Cup qualification</td>\n",
       "      <td>Beirut</td>\n",
       "      <td>Lebanon</td>\n",
       "      <td>False</td>\n",
       "    </tr>\n",
       "  </tbody>\n",
       "</table>\n",
       "<p>41540 rows × 9 columns</p>\n",
       "</div>"
      ],
      "text/plain": [
       "             date     home_team    away_team  home_score  away_score  \\\n",
       "0      1872-11-30      Scotland      England           0           0   \n",
       "1      1873-03-08       England     Scotland           4           2   \n",
       "2      1874-03-07      Scotland      England           2           1   \n",
       "3      1875-03-06       England     Scotland           2           2   \n",
       "4      1876-03-04      Scotland      England           3           0   \n",
       "...           ...           ...          ...         ...         ...   \n",
       "41535  2019-11-19    Kyrgyzstan   Tajikistan           1           1   \n",
       "41536  2019-11-19       Vietnam     Thailand           0           0   \n",
       "41537  2019-11-19      Malaysia    Indonesia           2           0   \n",
       "41538  2019-11-19  Turkmenistan    Sri Lanka           2           0   \n",
       "41539  2019-11-19       Lebanon  North Korea           0           0   \n",
       "\n",
       "                         tournament          city       country  neutral  \n",
       "0                          Friendly       Glasgow      Scotland    False  \n",
       "1                          Friendly        London       England    False  \n",
       "2                          Friendly       Glasgow      Scotland    False  \n",
       "3                          Friendly        London       England    False  \n",
       "4                          Friendly       Glasgow      Scotland    False  \n",
       "...                             ...           ...           ...      ...  \n",
       "41535  FIFA World Cup qualification       Bishkek    Kyrgyzstan    False  \n",
       "41536  FIFA World Cup qualification         Hanoi       Vietnam    False  \n",
       "41537  FIFA World Cup qualification  Kuala Lumpur      Malaysia    False  \n",
       "41538  FIFA World Cup qualification      Ashgabat  Turkmenistan    False  \n",
       "41539  FIFA World Cup qualification        Beirut       Lebanon    False  \n",
       "\n",
       "[41540 rows x 9 columns]"
      ]
     },
     "execution_count": 8,
     "metadata": {},
     "output_type": "execute_result"
    }
   ],
   "source": [
    "soccer"
   ]
  },
  {
   "cell_type": "code",
   "execution_count": 14,
   "id": "5dea4ff3",
   "metadata": {
    "ExecuteTime": {
     "end_time": "2023-10-13T00:35:48.846933Z",
     "start_time": "2023-10-13T00:35:48.810201Z"
    }
   },
   "outputs": [],
   "source": [
    "soccer.date = pd.to_datetime(soccer.date)"
   ]
  },
  {
   "cell_type": "code",
   "execution_count": 15,
   "id": "dc1fea30",
   "metadata": {
    "ExecuteTime": {
     "end_time": "2023-10-13T00:35:57.082479Z",
     "start_time": "2023-10-13T00:35:57.040169Z"
    },
    "scrolled": true
   },
   "outputs": [
    {
     "name": "stdout",
     "output_type": "stream",
     "text": [
      "<class 'pandas.core.frame.DataFrame'>\n",
      "RangeIndex: 41540 entries, 0 to 41539\n",
      "Data columns (total 9 columns):\n",
      " #   Column      Non-Null Count  Dtype         \n",
      "---  ------      --------------  -----         \n",
      " 0   date        41540 non-null  datetime64[ns]\n",
      " 1   home_team   41540 non-null  object        \n",
      " 2   away_team   41540 non-null  object        \n",
      " 3   home_score  41540 non-null  int64         \n",
      " 4   away_score  41540 non-null  int64         \n",
      " 5   tournament  41540 non-null  object        \n",
      " 6   city        41540 non-null  object        \n",
      " 7   country     41540 non-null  object        \n",
      " 8   neutral     41540 non-null  bool          \n",
      "dtypes: bool(1), datetime64[ns](1), int64(2), object(5)\n",
      "memory usage: 2.6+ MB\n"
     ]
    }
   ],
   "source": [
    "soccer.info()"
   ]
  },
  {
   "cell_type": "code",
   "execution_count": 35,
   "id": "097c9289",
   "metadata": {
    "ExecuteTime": {
     "end_time": "2023-10-13T00:56:14.301603Z",
     "start_time": "2023-10-13T00:56:14.288795Z"
    }
   },
   "outputs": [],
   "source": [
    "soccer['결과(홈팀기준)'] = soccer.index"
   ]
  },
  {
   "cell_type": "code",
   "execution_count": 37,
   "id": "be6028b1",
   "metadata": {
    "ExecuteTime": {
     "end_time": "2023-10-13T00:56:22.582894Z",
     "start_time": "2023-10-13T00:56:21.710360Z"
    }
   },
   "outputs": [],
   "source": [
    "# 승 , 무 , 패를 새로운 컬럼에 기록한다.\n",
    "for i in range(len(soccer)):\n",
    "    if soccer['home_score'][i] > soccer['away_score'][i]:\n",
    "        soccer['결과(홈팀기준)'][i] = '승'\n",
    "    elif soccer['home_score'][i] < soccer['away_score'][i]:\n",
    "        soccer['결과(홈팀기준)'][i] = '패'\n",
    "    else:\n",
    "        soccer['결과(홈팀기준)'][i] = '무'\n",
    "    "
   ]
  },
  {
   "cell_type": "code",
   "execution_count": 39,
   "id": "28f78536",
   "metadata": {
    "ExecuteTime": {
     "end_time": "2023-10-13T00:56:33.184103Z",
     "start_time": "2023-10-13T00:56:33.157004Z"
    }
   },
   "outputs": [
    {
     "data": {
      "text/html": [
       "<div>\n",
       "<style scoped>\n",
       "    .dataframe tbody tr th:only-of-type {\n",
       "        vertical-align: middle;\n",
       "    }\n",
       "\n",
       "    .dataframe tbody tr th {\n",
       "        vertical-align: top;\n",
       "    }\n",
       "\n",
       "    .dataframe thead th {\n",
       "        text-align: right;\n",
       "    }\n",
       "</style>\n",
       "<table border=\"1\" class=\"dataframe\">\n",
       "  <thead>\n",
       "    <tr style=\"text-align: right;\">\n",
       "      <th></th>\n",
       "      <th>date</th>\n",
       "      <th>home_team</th>\n",
       "      <th>away_team</th>\n",
       "      <th>home_score</th>\n",
       "      <th>away_score</th>\n",
       "      <th>tournament</th>\n",
       "      <th>city</th>\n",
       "      <th>country</th>\n",
       "      <th>neutral</th>\n",
       "      <th>결과(홈팀기준)</th>\n",
       "    </tr>\n",
       "  </thead>\n",
       "  <tbody>\n",
       "    <tr>\n",
       "      <th>0</th>\n",
       "      <td>1872-11-30</td>\n",
       "      <td>Scotland</td>\n",
       "      <td>England</td>\n",
       "      <td>0</td>\n",
       "      <td>0</td>\n",
       "      <td>Friendly</td>\n",
       "      <td>Glasgow</td>\n",
       "      <td>Scotland</td>\n",
       "      <td>False</td>\n",
       "      <td>무</td>\n",
       "    </tr>\n",
       "    <tr>\n",
       "      <th>1</th>\n",
       "      <td>1873-03-08</td>\n",
       "      <td>England</td>\n",
       "      <td>Scotland</td>\n",
       "      <td>4</td>\n",
       "      <td>2</td>\n",
       "      <td>Friendly</td>\n",
       "      <td>London</td>\n",
       "      <td>England</td>\n",
       "      <td>False</td>\n",
       "      <td>승</td>\n",
       "    </tr>\n",
       "    <tr>\n",
       "      <th>2</th>\n",
       "      <td>1874-03-07</td>\n",
       "      <td>Scotland</td>\n",
       "      <td>England</td>\n",
       "      <td>2</td>\n",
       "      <td>1</td>\n",
       "      <td>Friendly</td>\n",
       "      <td>Glasgow</td>\n",
       "      <td>Scotland</td>\n",
       "      <td>False</td>\n",
       "      <td>승</td>\n",
       "    </tr>\n",
       "    <tr>\n",
       "      <th>3</th>\n",
       "      <td>1875-03-06</td>\n",
       "      <td>England</td>\n",
       "      <td>Scotland</td>\n",
       "      <td>2</td>\n",
       "      <td>2</td>\n",
       "      <td>Friendly</td>\n",
       "      <td>London</td>\n",
       "      <td>England</td>\n",
       "      <td>False</td>\n",
       "      <td>무</td>\n",
       "    </tr>\n",
       "    <tr>\n",
       "      <th>4</th>\n",
       "      <td>1876-03-04</td>\n",
       "      <td>Scotland</td>\n",
       "      <td>England</td>\n",
       "      <td>3</td>\n",
       "      <td>0</td>\n",
       "      <td>Friendly</td>\n",
       "      <td>Glasgow</td>\n",
       "      <td>Scotland</td>\n",
       "      <td>False</td>\n",
       "      <td>승</td>\n",
       "    </tr>\n",
       "    <tr>\n",
       "      <th>...</th>\n",
       "      <td>...</td>\n",
       "      <td>...</td>\n",
       "      <td>...</td>\n",
       "      <td>...</td>\n",
       "      <td>...</td>\n",
       "      <td>...</td>\n",
       "      <td>...</td>\n",
       "      <td>...</td>\n",
       "      <td>...</td>\n",
       "      <td>...</td>\n",
       "    </tr>\n",
       "    <tr>\n",
       "      <th>41537</th>\n",
       "      <td>2019-11-19</td>\n",
       "      <td>Malaysia</td>\n",
       "      <td>Indonesia</td>\n",
       "      <td>2</td>\n",
       "      <td>0</td>\n",
       "      <td>FIFA World Cup qualification</td>\n",
       "      <td>Kuala Lumpur</td>\n",
       "      <td>Malaysia</td>\n",
       "      <td>False</td>\n",
       "      <td>승</td>\n",
       "    </tr>\n",
       "    <tr>\n",
       "      <th>41538</th>\n",
       "      <td>2019-11-19</td>\n",
       "      <td>Turkmenistan</td>\n",
       "      <td>Sri Lanka</td>\n",
       "      <td>2</td>\n",
       "      <td>0</td>\n",
       "      <td>FIFA World Cup qualification</td>\n",
       "      <td>Ashgabat</td>\n",
       "      <td>Turkmenistan</td>\n",
       "      <td>False</td>\n",
       "      <td>승</td>\n",
       "    </tr>\n",
       "    <tr>\n",
       "      <th>41529</th>\n",
       "      <td>2019-11-19</td>\n",
       "      <td>Hong Kong</td>\n",
       "      <td>Cambodia</td>\n",
       "      <td>2</td>\n",
       "      <td>0</td>\n",
       "      <td>FIFA World Cup qualification</td>\n",
       "      <td>Hong Kong</td>\n",
       "      <td>Hong Kong</td>\n",
       "      <td>False</td>\n",
       "      <td>승</td>\n",
       "    </tr>\n",
       "    <tr>\n",
       "      <th>41502</th>\n",
       "      <td>2019-11-19</td>\n",
       "      <td>Germany</td>\n",
       "      <td>Northern Ireland</td>\n",
       "      <td>6</td>\n",
       "      <td>1</td>\n",
       "      <td>UEFA Euro qualification</td>\n",
       "      <td>Frankfurt</td>\n",
       "      <td>Germany</td>\n",
       "      <td>False</td>\n",
       "      <td>승</td>\n",
       "    </tr>\n",
       "    <tr>\n",
       "      <th>41539</th>\n",
       "      <td>2019-11-19</td>\n",
       "      <td>Lebanon</td>\n",
       "      <td>North Korea</td>\n",
       "      <td>0</td>\n",
       "      <td>0</td>\n",
       "      <td>FIFA World Cup qualification</td>\n",
       "      <td>Beirut</td>\n",
       "      <td>Lebanon</td>\n",
       "      <td>False</td>\n",
       "      <td>무</td>\n",
       "    </tr>\n",
       "  </tbody>\n",
       "</table>\n",
       "<p>31289 rows × 10 columns</p>\n",
       "</div>"
      ],
      "text/plain": [
       "            date     home_team         away_team  home_score  away_score  \\\n",
       "0     1872-11-30      Scotland           England           0           0   \n",
       "1     1873-03-08       England          Scotland           4           2   \n",
       "2     1874-03-07      Scotland           England           2           1   \n",
       "3     1875-03-06       England          Scotland           2           2   \n",
       "4     1876-03-04      Scotland           England           3           0   \n",
       "...          ...           ...               ...         ...         ...   \n",
       "41537 2019-11-19      Malaysia         Indonesia           2           0   \n",
       "41538 2019-11-19  Turkmenistan         Sri Lanka           2           0   \n",
       "41529 2019-11-19     Hong Kong          Cambodia           2           0   \n",
       "41502 2019-11-19       Germany  Northern Ireland           6           1   \n",
       "41539 2019-11-19       Lebanon       North Korea           0           0   \n",
       "\n",
       "                         tournament          city       country  neutral  \\\n",
       "0                          Friendly       Glasgow      Scotland    False   \n",
       "1                          Friendly        London       England    False   \n",
       "2                          Friendly       Glasgow      Scotland    False   \n",
       "3                          Friendly        London       England    False   \n",
       "4                          Friendly       Glasgow      Scotland    False   \n",
       "...                             ...           ...           ...      ...   \n",
       "41537  FIFA World Cup qualification  Kuala Lumpur      Malaysia    False   \n",
       "41538  FIFA World Cup qualification      Ashgabat  Turkmenistan    False   \n",
       "41529  FIFA World Cup qualification     Hong Kong     Hong Kong    False   \n",
       "41502       UEFA Euro qualification     Frankfurt       Germany    False   \n",
       "41539  FIFA World Cup qualification        Beirut       Lebanon    False   \n",
       "\n",
       "      결과(홈팀기준)  \n",
       "0            무  \n",
       "1            승  \n",
       "2            승  \n",
       "3            무  \n",
       "4            승  \n",
       "...        ...  \n",
       "41537        승  \n",
       "41538        승  \n",
       "41529        승  \n",
       "41502        승  \n",
       "41539        무  \n",
       "\n",
       "[31289 rows x 10 columns]"
      ]
     },
     "execution_count": 39,
     "metadata": {},
     "output_type": "execute_result"
    }
   ],
   "source": [
    "# 경기가 진행된 지역이 중립구역인 것만 가져오기\n",
    "soccer1 = soccer.loc[(soccer.neutral == False),:]\n",
    "soccer1"
   ]
  },
  {
   "cell_type": "code",
   "execution_count": 53,
   "id": "94814578",
   "metadata": {
    "ExecuteTime": {
     "end_time": "2023-10-13T01:03:24.512091Z",
     "start_time": "2023-10-13T01:03:24.495574Z"
    }
   },
   "outputs": [
    {
     "data": {
      "text/plain": [
       "Int64Index([    0,     2,     4,     5,     8,     9,    13,    15,    21,\n",
       "               23,\n",
       "            ...\n",
       "            39598, 39994, 40044, 40168, 40340, 40698, 41042, 41095, 41260,\n",
       "            41509],\n",
       "           dtype='int64', length=365)"
      ]
     },
     "execution_count": 53,
     "metadata": {},
     "output_type": "execute_result"
    }
   ],
   "source": [
    "soccer1.loc[soccer1.home_team == team , '결과(홈팀기준)'].index"
   ]
  },
  {
   "cell_type": "code",
   "execution_count": 68,
   "id": "32697854",
   "metadata": {
    "ExecuteTime": {
     "end_time": "2023-10-13T01:08:05.905666Z",
     "start_time": "2023-10-13T01:08:05.886974Z"
    }
   },
   "outputs": [
    {
     "data": {
      "text/plain": [
       "57.81"
      ]
     },
     "execution_count": 68,
     "metadata": {},
     "output_type": "execute_result"
    }
   ],
   "source": [
    "round(win/len(soccer1.loc[soccer1.home_team == 'Scotland' , '결과(홈팀기준)']) * 100 , 2)"
   ]
  },
  {
   "cell_type": "code",
   "execution_count": 250,
   "id": "546efd1c",
   "metadata": {
    "ExecuteTime": {
     "end_time": "2023-10-13T02:13:02.737487Z",
     "start_time": "2023-10-13T02:13:02.731579Z"
    }
   },
   "outputs": [],
   "source": [
    "# 홈팀 승률\n",
    "def home_win(team):\n",
    "    win = 0\n",
    "    for i in soccer1.loc[soccer1.home_team == team , '결과(홈팀기준)'].index:\n",
    "        if soccer1.loc[soccer1.home_team == team , '결과(홈팀기준)'][i] =='승':\n",
    "            win +=1\n",
    "        else:\n",
    "            continue\n",
    "    print('{}의 홈팀 승률 : {}%'.format(team ,round(win/len(soccer1.loc[soccer1.home_team == team , '결과(홈팀기준)']) * 100 , 2)))"
   ]
  },
  {
   "cell_type": "code",
   "execution_count": 90,
   "id": "6ddc4063",
   "metadata": {
    "ExecuteTime": {
     "end_time": "2023-10-13T01:17:44.117468Z",
     "start_time": "2023-10-13T01:17:44.110444Z"
    }
   },
   "outputs": [],
   "source": [
    "# 어웨이팀 승률\n",
    "def away_win(team):\n",
    "    win1 = 0\n",
    "    for i in soccer1.loc[soccer1.away_team == team , '결과(홈팀기준)'].index:\n",
    "        if soccer1.loc[soccer1.away_team == team , '결과(홈팀기준)'][i] =='패':\n",
    "            win1 +=1\n",
    "        else:\n",
    "            continue\n",
    "    print('{}의 홈팀 승률 : {}%'.format(team ,round(win/len(soccer1.loc[soccer1.away_team == team , '결과(홈팀기준)']) * 100 , 2)))"
   ]
  },
  {
   "cell_type": "code",
   "execution_count": 266,
   "id": "67a7cc0b",
   "metadata": {
    "ExecuteTime": {
     "end_time": "2023-10-13T02:18:23.702410Z",
     "start_time": "2023-10-13T02:18:23.697276Z"
    }
   },
   "outputs": [],
   "source": [
    "def home_win_dict(team):\n",
    "    win = 0\n",
    "    for i in soccer.loc[soccer.home_team == team , '결과(홈팀기준)'].index:\n",
    "        if soccer.loc[soccer.home_team == team , '결과(홈팀기준)'][i] =='승':\n",
    "            win +=1\n",
    "        else:\n",
    "            continue\n",
    "    return {team : round(win1/len(soccer.loc[soccer.home_team == team , '결과(홈팀기준)']) * 100 , 2)}"
   ]
  },
  {
   "cell_type": "code",
   "execution_count": 242,
   "id": "d09e6082",
   "metadata": {
    "ExecuteTime": {
     "end_time": "2023-10-13T02:10:36.871874Z",
     "start_time": "2023-10-13T02:10:36.863695Z"
    }
   },
   "outputs": [],
   "source": [
    "def away_win_dict(team):\n",
    "    win1 = 0\n",
    "    for i in soccer.loc[soccer.away_team == team , '결과(홈팀기준)'].index:\n",
    "        if soccer.loc[soccer.away_team == team , '결과(홈팀기준)'][i] =='패':\n",
    "            win1 +=1\n",
    "        else:\n",
    "            continue\n",
    "    return {team : round(win1/len(soccer.loc[soccer.away_team == team , '결과(홈팀기준)']) * 100 , 2)}"
   ]
  },
  {
   "cell_type": "code",
   "execution_count": 213,
   "id": "f3c446a4",
   "metadata": {
    "ExecuteTime": {
     "end_time": "2023-10-13T01:53:41.593311Z",
     "start_time": "2023-10-13T01:53:41.576947Z"
    }
   },
   "outputs": [
    {
     "data": {
      "text/html": [
       "<div>\n",
       "<style scoped>\n",
       "    .dataframe tbody tr th:only-of-type {\n",
       "        vertical-align: middle;\n",
       "    }\n",
       "\n",
       "    .dataframe tbody tr th {\n",
       "        vertical-align: top;\n",
       "    }\n",
       "\n",
       "    .dataframe thead th {\n",
       "        text-align: right;\n",
       "    }\n",
       "</style>\n",
       "<table border=\"1\" class=\"dataframe\">\n",
       "  <thead>\n",
       "    <tr style=\"text-align: right;\">\n",
       "      <th></th>\n",
       "      <th>나라</th>\n",
       "      <th>어웨이팀 승률</th>\n",
       "    </tr>\n",
       "  </thead>\n",
       "  <tbody>\n",
       "    <tr>\n",
       "      <th>0</th>\n",
       "      <td>England</td>\n",
       "      <td>53.73</td>\n",
       "    </tr>\n",
       "    <tr>\n",
       "      <th>1</th>\n",
       "      <td>Scotland</td>\n",
       "      <td>39.68</td>\n",
       "    </tr>\n",
       "    <tr>\n",
       "      <th>2</th>\n",
       "      <td>Wales</td>\n",
       "      <td>25.78</td>\n",
       "    </tr>\n",
       "    <tr>\n",
       "      <th>3</th>\n",
       "      <td>Northern Ireland</td>\n",
       "      <td>17.80</td>\n",
       "    </tr>\n",
       "    <tr>\n",
       "      <th>4</th>\n",
       "      <td>Canada</td>\n",
       "      <td>24.55</td>\n",
       "    </tr>\n",
       "    <tr>\n",
       "      <th>...</th>\n",
       "      <td>...</td>\n",
       "      <td>...</td>\n",
       "    </tr>\n",
       "    <tr>\n",
       "      <th>291</th>\n",
       "      <td>Barawa</td>\n",
       "      <td>0.00</td>\n",
       "    </tr>\n",
       "    <tr>\n",
       "      <th>292</th>\n",
       "      <td>Parishes of Jersey</td>\n",
       "      <td>0.00</td>\n",
       "    </tr>\n",
       "    <tr>\n",
       "      <th>293</th>\n",
       "      <td>Chameria</td>\n",
       "      <td>100.00</td>\n",
       "    </tr>\n",
       "    <tr>\n",
       "      <th>294</th>\n",
       "      <td>Saint Helena</td>\n",
       "      <td>0.00</td>\n",
       "    </tr>\n",
       "    <tr>\n",
       "      <th>295</th>\n",
       "      <td>St Vincent and the Grenadines</td>\n",
       "      <td>0.00</td>\n",
       "    </tr>\n",
       "  </tbody>\n",
       "</table>\n",
       "<p>296 rows × 2 columns</p>\n",
       "</div>"
      ],
      "text/plain": [
       "                                나라  어웨이팀 승률\n",
       "0                          England    53.73\n",
       "1                         Scotland    39.68\n",
       "2                            Wales    25.78\n",
       "3                 Northern Ireland    17.80\n",
       "4                           Canada    24.55\n",
       "..                             ...      ...\n",
       "291                         Barawa     0.00\n",
       "292             Parishes of Jersey     0.00\n",
       "293                       Chameria   100.00\n",
       "294                   Saint Helena     0.00\n",
       "295  St Vincent and the Grenadines     0.00\n",
       "\n",
       "[296 rows x 2 columns]"
      ]
     },
     "execution_count": 213,
     "metadata": {},
     "output_type": "execute_result"
    }
   ],
   "source": [
    "away = pd.DataFrame(values , keys_list , columns = ['어웨이팀 승률']).reset_index().rename(columns = {'index' : '나라'})\n",
    "away"
   ]
  },
  {
   "cell_type": "code",
   "execution_count": 217,
   "id": "0a883f3a",
   "metadata": {
    "ExecuteTime": {
     "end_time": "2023-10-13T01:56:29.481831Z",
     "start_time": "2023-10-13T01:56:29.471723Z"
    }
   },
   "outputs": [],
   "source": [
    "# 어웨이에서 한 경기만 치루고 이겼으면 승률이 100%이므로 시각화에 의미가 없다.\n",
    "# 그러므로 100%인 나라를 제외하고 어웨이팀 승률이 가장 높은 15팀을 가져온다.\n",
    "away__win = away.loc[away['어웨이팀 승률'] <100 , :].sort_values('어웨이팀 승률' , ascending = False).head(15)"
   ]
  },
  {
   "cell_type": "code",
   "execution_count": 397,
   "id": "64aae39b",
   "metadata": {
    "ExecuteTime": {
     "end_time": "2023-10-13T03:15:07.892973Z",
     "start_time": "2023-10-13T03:15:07.684271Z"
    },
    "scrolled": true
   },
   "outputs": [
    {
     "data": {
      "image/png": "[encoded data removed]",
      "text/plain": [
       "<Figure size 2000x500 with 1 Axes>"
      ]
     },
     "metadata": {},
     "output_type": "display_data"
    }
   ],
   "source": [
    "plt.figure(figsize = (20,5))\n",
    "bars = plt.bar(x = away__win['나라'] , height = away__win['어웨이팀 승률'] , color = 'green')\n",
    "for bar in bars:\n",
    "    height = bar.get_height()\n",
    "    plt.annotate(f'{height}', (bar.get_x() + bar.get_width() / 2, height),\n",
    "                ha='center', va='bottom' , size = 20)\n",
    "plt.xlabel('나라')\n",
    "plt.ylabel('승률(%)')\n",
    "plt.title('100%의 승률이 아닌 top15 나라의 away팀 승률' , size = 15)\n",
    "plt.show()"
   ]
  },
  {
   "cell_type": "code",
   "execution_count": 281,
   "id": "a0e828ee",
   "metadata": {
    "ExecuteTime": {
     "end_time": "2023-10-13T02:22:55.079394Z",
     "start_time": "2023-10-13T02:22:55.069534Z"
    }
   },
   "outputs": [
    {
     "data": {
      "text/plain": [
       "['Brazil',\n",
       " 'Argentina',\n",
       " 'Mexico',\n",
       " 'Germany',\n",
       " 'England',\n",
       " 'Sweden',\n",
       " 'France',\n",
       " 'South Korea',\n",
       " 'Hungary',\n",
       " 'Italy']"
      ]
     },
     "execution_count": 281,
     "metadata": {},
     "output_type": "execute_result"
    }
   ],
   "source": [
    "#전체 경기중에 가장 많은 홈 경기를 치룬 나라\n",
    "soccer.home_team.value_counts().head(10).index.tolist()"
   ]
  },
  {
   "cell_type": "code",
   "execution_count": 235,
   "id": "98980923",
   "metadata": {
    "ExecuteTime": {
     "end_time": "2023-10-13T02:07:41.023016Z",
     "start_time": "2023-10-13T02:07:41.015221Z"
    }
   },
   "outputs": [],
   "source": [
    "team_list = soccer.home_team.value_counts().head(10).index"
   ]
  },
  {
   "cell_type": "code",
   "execution_count": 244,
   "id": "442fd434",
   "metadata": {
    "ExecuteTime": {
     "end_time": "2023-10-13T02:11:39.261277Z",
     "start_time": "2023-10-13T02:11:32.044467Z"
    }
   },
   "outputs": [],
   "source": [
    "a = []\n",
    "for i in team_list:\n",
    "    a.append(away_win_dict(i))"
   ]
  },
  {
   "cell_type": "code",
   "execution_count": 245,
   "id": "cfbd1425",
   "metadata": {
    "ExecuteTime": {
     "end_time": "2023-10-13T02:11:39.270507Z",
     "start_time": "2023-10-13T02:11:39.261277Z"
    }
   },
   "outputs": [
    {
     "data": {
      "text/plain": [
       "[{'Brazil': 53.51},\n",
       " {'Argentina': 38.19},\n",
       " {'Mexico': 38.48},\n",
       " {'Germany': 53.72},\n",
       " {'England': 51.66},\n",
       " {'Sweden': 40.75},\n",
       " {'France': 38.48},\n",
       " {'South Korea': 44.92},\n",
       " {'Hungary': 37.47},\n",
       " {'Italy': 40.9}]"
      ]
     },
     "execution_count": 245,
     "metadata": {},
     "output_type": "execute_result"
    }
   ],
   "source": [
    "a"
   ]
  },
  {
   "cell_type": "code",
   "execution_count": null,
   "id": "9441c613",
   "metadata": {},
   "outputs": [],
   "source": []
  },
  {
   "cell_type": "code",
   "execution_count": 400,
   "id": "554cb855",
   "metadata": {
    "ExecuteTime": {
     "end_time": "2023-10-13T04:54:01.631537Z",
     "start_time": "2023-10-13T04:54:01.599826Z"
    }
   },
   "outputs": [
    {
     "data": {
      "text/html": [
       "<div>\n",
       "<style scoped>\n",
       "    .dataframe tbody tr th:only-of-type {\n",
       "        vertical-align: middle;\n",
       "    }\n",
       "\n",
       "    .dataframe tbody tr th {\n",
       "        vertical-align: top;\n",
       "    }\n",
       "\n",
       "    .dataframe thead th {\n",
       "        text-align: right;\n",
       "    }\n",
       "</style>\n",
       "<table border=\"1\" class=\"dataframe\">\n",
       "  <thead>\n",
       "    <tr style=\"text-align: right;\">\n",
       "      <th></th>\n",
       "      <th>Brazil</th>\n",
       "      <th>Argentina</th>\n",
       "      <th>Mexico</th>\n",
       "      <th>Germany</th>\n",
       "      <th>England</th>\n",
       "      <th>Sweden</th>\n",
       "      <th>France</th>\n",
       "      <th>South Korea</th>\n",
       "      <th>Hungary</th>\n",
       "      <th>Italy</th>\n",
       "    </tr>\n",
       "  </thead>\n",
       "  <tbody>\n",
       "    <tr>\n",
       "      <th>0</th>\n",
       "      <td>53.51</td>\n",
       "      <td>NaN</td>\n",
       "      <td>NaN</td>\n",
       "      <td>NaN</td>\n",
       "      <td>NaN</td>\n",
       "      <td>NaN</td>\n",
       "      <td>NaN</td>\n",
       "      <td>NaN</td>\n",
       "      <td>NaN</td>\n",
       "      <td>NaN</td>\n",
       "    </tr>\n",
       "    <tr>\n",
       "      <th>1</th>\n",
       "      <td>NaN</td>\n",
       "      <td>38.19</td>\n",
       "      <td>NaN</td>\n",
       "      <td>NaN</td>\n",
       "      <td>NaN</td>\n",
       "      <td>NaN</td>\n",
       "      <td>NaN</td>\n",
       "      <td>NaN</td>\n",
       "      <td>NaN</td>\n",
       "      <td>NaN</td>\n",
       "    </tr>\n",
       "    <tr>\n",
       "      <th>2</th>\n",
       "      <td>NaN</td>\n",
       "      <td>NaN</td>\n",
       "      <td>38.48</td>\n",
       "      <td>NaN</td>\n",
       "      <td>NaN</td>\n",
       "      <td>NaN</td>\n",
       "      <td>NaN</td>\n",
       "      <td>NaN</td>\n",
       "      <td>NaN</td>\n",
       "      <td>NaN</td>\n",
       "    </tr>\n",
       "    <tr>\n",
       "      <th>3</th>\n",
       "      <td>NaN</td>\n",
       "      <td>NaN</td>\n",
       "      <td>NaN</td>\n",
       "      <td>53.72</td>\n",
       "      <td>NaN</td>\n",
       "      <td>NaN</td>\n",
       "      <td>NaN</td>\n",
       "      <td>NaN</td>\n",
       "      <td>NaN</td>\n",
       "      <td>NaN</td>\n",
       "    </tr>\n",
       "    <tr>\n",
       "      <th>4</th>\n",
       "      <td>NaN</td>\n",
       "      <td>NaN</td>\n",
       "      <td>NaN</td>\n",
       "      <td>NaN</td>\n",
       "      <td>51.66</td>\n",
       "      <td>NaN</td>\n",
       "      <td>NaN</td>\n",
       "      <td>NaN</td>\n",
       "      <td>NaN</td>\n",
       "      <td>NaN</td>\n",
       "    </tr>\n",
       "    <tr>\n",
       "      <th>5</th>\n",
       "      <td>NaN</td>\n",
       "      <td>NaN</td>\n",
       "      <td>NaN</td>\n",
       "      <td>NaN</td>\n",
       "      <td>NaN</td>\n",
       "      <td>40.75</td>\n",
       "      <td>NaN</td>\n",
       "      <td>NaN</td>\n",
       "      <td>NaN</td>\n",
       "      <td>NaN</td>\n",
       "    </tr>\n",
       "    <tr>\n",
       "      <th>6</th>\n",
       "      <td>NaN</td>\n",
       "      <td>NaN</td>\n",
       "      <td>NaN</td>\n",
       "      <td>NaN</td>\n",
       "      <td>NaN</td>\n",
       "      <td>NaN</td>\n",
       "      <td>38.48</td>\n",
       "      <td>NaN</td>\n",
       "      <td>NaN</td>\n",
       "      <td>NaN</td>\n",
       "    </tr>\n",
       "    <tr>\n",
       "      <th>7</th>\n",
       "      <td>NaN</td>\n",
       "      <td>NaN</td>\n",
       "      <td>NaN</td>\n",
       "      <td>NaN</td>\n",
       "      <td>NaN</td>\n",
       "      <td>NaN</td>\n",
       "      <td>NaN</td>\n",
       "      <td>44.92</td>\n",
       "      <td>NaN</td>\n",
       "      <td>NaN</td>\n",
       "    </tr>\n",
       "    <tr>\n",
       "      <th>8</th>\n",
       "      <td>NaN</td>\n",
       "      <td>NaN</td>\n",
       "      <td>NaN</td>\n",
       "      <td>NaN</td>\n",
       "      <td>NaN</td>\n",
       "      <td>NaN</td>\n",
       "      <td>NaN</td>\n",
       "      <td>NaN</td>\n",
       "      <td>37.47</td>\n",
       "      <td>NaN</td>\n",
       "    </tr>\n",
       "    <tr>\n",
       "      <th>9</th>\n",
       "      <td>NaN</td>\n",
       "      <td>NaN</td>\n",
       "      <td>NaN</td>\n",
       "      <td>NaN</td>\n",
       "      <td>NaN</td>\n",
       "      <td>NaN</td>\n",
       "      <td>NaN</td>\n",
       "      <td>NaN</td>\n",
       "      <td>NaN</td>\n",
       "      <td>40.9</td>\n",
       "    </tr>\n",
       "  </tbody>\n",
       "</table>\n",
       "</div>"
      ],
      "text/plain": [
       "   Brazil  Argentina  Mexico  Germany  England  Sweden  France  South Korea  \\\n",
       "0   53.51        NaN     NaN      NaN      NaN     NaN     NaN          NaN   \n",
       "1     NaN      38.19     NaN      NaN      NaN     NaN     NaN          NaN   \n",
       "2     NaN        NaN   38.48      NaN      NaN     NaN     NaN          NaN   \n",
       "3     NaN        NaN     NaN    53.72      NaN     NaN     NaN          NaN   \n",
       "4     NaN        NaN     NaN      NaN    51.66     NaN     NaN          NaN   \n",
       "5     NaN        NaN     NaN      NaN      NaN   40.75     NaN          NaN   \n",
       "6     NaN        NaN     NaN      NaN      NaN     NaN   38.48          NaN   \n",
       "7     NaN        NaN     NaN      NaN      NaN     NaN     NaN        44.92   \n",
       "8     NaN        NaN     NaN      NaN      NaN     NaN     NaN          NaN   \n",
       "9     NaN        NaN     NaN      NaN      NaN     NaN     NaN          NaN   \n",
       "\n",
       "   Hungary  Italy  \n",
       "0      NaN    NaN  \n",
       "1      NaN    NaN  \n",
       "2      NaN    NaN  \n",
       "3      NaN    NaN  \n",
       "4      NaN    NaN  \n",
       "5      NaN    NaN  \n",
       "6      NaN    NaN  \n",
       "7      NaN    NaN  \n",
       "8    37.47    NaN  \n",
       "9      NaN   40.9  "
      ]
     },
     "execution_count": 400,
     "metadata": {},
     "output_type": "execute_result"
    }
   ],
   "source": [
    "x = pd.DataFrame(a)\n",
    "x"
   ]
  },
  {
   "cell_type": "code",
   "execution_count": 401,
   "id": "73294e5f",
   "metadata": {
    "ExecuteTime": {
     "end_time": "2023-10-13T04:54:57.489312Z",
     "start_time": "2023-10-13T04:54:57.459992Z"
    }
   },
   "outputs": [
    {
     "data": {
      "text/plain": [
       "Index(['Brazil', 'Argentina', 'Mexico', 'Germany', 'England', 'Sweden',\n",
       "       'France', 'South Korea', 'Hungary', 'Italy'],\n",
       "      dtype='object')"
      ]
     },
     "execution_count": 401,
     "metadata": {},
     "output_type": "execute_result"
    }
   ],
   "source": [
    "x.columns"
   ]
  },
  {
   "cell_type": "code",
   "execution_count": 402,
   "id": "dc1e5025",
   "metadata": {
    "ExecuteTime": {
     "end_time": "2023-10-13T04:55:27.699824Z",
     "start_time": "2023-10-13T04:55:27.681654Z"
    }
   },
   "outputs": [
    {
     "data": {
      "text/plain": [
       "array([[53.51,   nan,   nan,   nan,   nan,   nan,   nan,   nan,   nan,\n",
       "          nan],\n",
       "       [  nan, 38.19,   nan,   nan,   nan,   nan,   nan,   nan,   nan,\n",
       "          nan],\n",
       "       [  nan,   nan, 38.48,   nan,   nan,   nan,   nan,   nan,   nan,\n",
       "          nan],\n",
       "       [  nan,   nan,   nan, 53.72,   nan,   nan,   nan,   nan,   nan,\n",
       "          nan],\n",
       "       [  nan,   nan,   nan,   nan, 51.66,   nan,   nan,   nan,   nan,\n",
       "          nan],\n",
       "       [  nan,   nan,   nan,   nan,   nan, 40.75,   nan,   nan,   nan,\n",
       "          nan],\n",
       "       [  nan,   nan,   nan,   nan,   nan,   nan, 38.48,   nan,   nan,\n",
       "          nan],\n",
       "       [  nan,   nan,   nan,   nan,   nan,   nan,   nan, 44.92,   nan,\n",
       "          nan],\n",
       "       [  nan,   nan,   nan,   nan,   nan,   nan,   nan,   nan, 37.47,\n",
       "          nan],\n",
       "       [  nan,   nan,   nan,   nan,   nan,   nan,   nan,   nan,   nan,\n",
       "        40.9 ]])"
      ]
     },
     "execution_count": 402,
     "metadata": {},
     "output_type": "execute_result"
    }
   ],
   "source": [
    "x.values"
   ]
  },
  {
   "cell_type": "code",
   "execution_count": null,
   "id": "fde08654",
   "metadata": {},
   "outputs": [],
   "source": [
    "df = pd.DataFrame(data, index=x.columns, columns='rate')"
   ]
  },
  {
   "cell_type": "code",
   "execution_count": 246,
   "id": "b7636dbe",
   "metadata": {
    "ExecuteTime": {
     "end_time": "2023-10-13T02:11:43.060646Z",
     "start_time": "2023-10-13T02:11:43.055023Z"
    }
   },
   "outputs": [],
   "source": [
    "keys_list = [value for dictionary in a for value in dictionary.values()]"
   ]
  },
  {
   "cell_type": "code",
   "execution_count": 247,
   "id": "335a0026",
   "metadata": {
    "ExecuteTime": {
     "end_time": "2023-10-13T02:11:43.550636Z",
     "start_time": "2023-10-13T02:11:43.542580Z"
    }
   },
   "outputs": [
    {
     "data": {
      "text/plain": [
       "[53.51, 38.19, 38.48, 53.72, 51.66, 40.75, 38.48, 44.92, 37.47, 40.9]"
      ]
     },
     "execution_count": 247,
     "metadata": {},
     "output_type": "execute_result"
    }
   ],
   "source": [
    "keys_list"
   ]
  },
  {
   "cell_type": "code",
   "execution_count": 267,
   "id": "a63c4505",
   "metadata": {
    "ExecuteTime": {
     "end_time": "2023-10-13T02:18:36.268476Z",
     "start_time": "2023-10-13T02:18:27.977135Z"
    }
   },
   "outputs": [],
   "source": [
    "b = []\n",
    "for i in team_list:\n",
    "    b.append(home_win_dict(i))"
   ]
  },
  {
   "cell_type": "code",
   "execution_count": 268,
   "id": "964cbbfa",
   "metadata": {
    "ExecuteTime": {
     "end_time": "2023-10-13T02:18:36.277562Z",
     "start_time": "2023-10-13T02:18:36.268476Z"
    }
   },
   "outputs": [
    {
     "data": {
      "text/plain": [
       "[{'Brazil': 26.06},\n",
       " {'Argentina': 27.01},\n",
       " {'Mexico': 28.85},\n",
       " {'Germany': 29.25},\n",
       " {'England': 29.72},\n",
       " {'Sweden': 30.45},\n",
       " {'France': 30.58},\n",
       " {'South Korea': 31.83},\n",
       " {'Hungary': 32.67},\n",
       " {'Italy': 33.41}]"
      ]
     },
     "execution_count": 268,
     "metadata": {},
     "output_type": "execute_result"
    }
   ],
   "source": [
    "b"
   ]
  },
  {
   "cell_type": "code",
   "execution_count": 269,
   "id": "ebac86be",
   "metadata": {
    "ExecuteTime": {
     "end_time": "2023-10-13T02:18:39.188235Z",
     "start_time": "2023-10-13T02:18:39.181769Z"
    }
   },
   "outputs": [],
   "source": [
    "keys_list_b = [value for dictionary in b for value in dictionary.values()]"
   ]
  },
  {
   "cell_type": "code",
   "execution_count": 270,
   "id": "7a3ccdeb",
   "metadata": {
    "ExecuteTime": {
     "end_time": "2023-10-13T02:18:39.993426Z",
     "start_time": "2023-10-13T02:18:39.985626Z"
    }
   },
   "outputs": [
    {
     "data": {
      "text/plain": [
       "[26.06, 27.01, 28.85, 29.25, 29.72, 30.45, 30.58, 31.83, 32.67, 33.41]"
      ]
     },
     "execution_count": 270,
     "metadata": {},
     "output_type": "execute_result"
    }
   ],
   "source": [
    "keys_list_b"
   ]
  },
  {
   "cell_type": "code",
   "execution_count": 263,
   "id": "89043fcc",
   "metadata": {
    "ExecuteTime": {
     "end_time": "2023-10-13T02:17:39.342491Z",
     "start_time": "2023-10-13T02:17:39.333507Z"
    }
   },
   "outputs": [
    {
     "data": {
      "text/plain": [
       "[53.51, 38.19, 38.48, 53.72, 51.66, 40.75, 38.48, 44.92, 37.47, 40.9]"
      ]
     },
     "execution_count": 263,
     "metadata": {},
     "output_type": "execute_result"
    }
   ],
   "source": [
    "keys_list"
   ]
  },
  {
   "cell_type": "code",
   "execution_count": 277,
   "id": "7e476fa2",
   "metadata": {
    "ExecuteTime": {
     "end_time": "2023-10-13T02:21:43.952217Z",
     "start_time": "2023-10-13T02:21:43.723142Z"
    }
   },
   "outputs": [
    {
     "data": {
      "image/png": "[encoded data removed]",
      "text/plain": [
       "<Figure size 2000x500 with 1 Axes>"
      ]
     },
     "metadata": {},
     "output_type": "display_data"
    }
   ],
   "source": [
    "plt.figure(figsize = (20,5))\n",
    "team_list = soccer.home_team.value_counts().head(10).index\n",
    "away_team_list = keys_list\n",
    "home_team_list = keys_list_b\n",
    "bar_width = 0.35  # 막대의 너비\n",
    "\n",
    "# X 축 위치 계산\n",
    "x = range(len(team_list))\n",
    "\n",
    "# away팀 승률 막대그래프\n",
    "bars = plt.bar(x, away_team_list, width=bar_width, label='away 승률')\n",
    "for bar in bars:\n",
    "    height = bar.get_height()\n",
    "    plt.annotate(f'{height}', (bar.get_x() + bar.get_width() / 2, height),\n",
    "                ha='center', va='bottom' , size = 15)\n",
    "\n",
    "# home팀 승률 막대그래프(away팀 오른쪽에)\n",
    "x = [i + bar_width for i in x]\n",
    "bars2 = plt.bar(x, home_team_list, width=bar_width, label='home 승률')\n",
    "for bar in bars2:\n",
    "    height = bar.get_height()\n",
    "    plt.annotate(f'{height}', (bar.get_x() + bar.get_width() / 2, height),\n",
    "                ha='center', va='bottom' , size = 15)\n",
    "\n",
    "plt.xlabel('나라')\n",
    "plt.ylabel('승률')\n",
    "plt.xticks([i + bar_width / 2 for i in range(len(team_list))], team_list)\n",
    "plt.legend(fontsize = 15)\n",
    "plt.title('전체 경기에서 가장 많이 출전한 top10 나라의 홈팀 승률과 어웨이팀 승률' , size = 15)\n",
    "plt.show()"
   ]
  },
  {
   "cell_type": "code",
   "execution_count": 278,
   "id": "0ee833f7",
   "metadata": {
    "ExecuteTime": {
     "end_time": "2023-10-13T02:22:01.854880Z",
     "start_time": "2023-10-13T02:22:01.830185Z"
    }
   },
   "outputs": [
    {
     "data": {
      "text/html": [
       "<div>\n",
       "<style scoped>\n",
       "    .dataframe tbody tr th:only-of-type {\n",
       "        vertical-align: middle;\n",
       "    }\n",
       "\n",
       "    .dataframe tbody tr th {\n",
       "        vertical-align: top;\n",
       "    }\n",
       "\n",
       "    .dataframe thead th {\n",
       "        text-align: right;\n",
       "    }\n",
       "</style>\n",
       "<table border=\"1\" class=\"dataframe\">\n",
       "  <thead>\n",
       "    <tr style=\"text-align: right;\">\n",
       "      <th></th>\n",
       "      <th>date</th>\n",
       "      <th>home_team</th>\n",
       "      <th>away_team</th>\n",
       "      <th>home_score</th>\n",
       "      <th>away_score</th>\n",
       "      <th>tournament</th>\n",
       "      <th>city</th>\n",
       "      <th>country</th>\n",
       "      <th>neutral</th>\n",
       "      <th>결과(홈팀기준)</th>\n",
       "    </tr>\n",
       "  </thead>\n",
       "  <tbody>\n",
       "    <tr>\n",
       "      <th>0</th>\n",
       "      <td>1872-11-30</td>\n",
       "      <td>Scotland</td>\n",
       "      <td>England</td>\n",
       "      <td>0</td>\n",
       "      <td>0</td>\n",
       "      <td>Friendly</td>\n",
       "      <td>Glasgow</td>\n",
       "      <td>Scotland</td>\n",
       "      <td>False</td>\n",
       "      <td>무</td>\n",
       "    </tr>\n",
       "    <tr>\n",
       "      <th>1</th>\n",
       "      <td>1873-03-08</td>\n",
       "      <td>England</td>\n",
       "      <td>Scotland</td>\n",
       "      <td>4</td>\n",
       "      <td>2</td>\n",
       "      <td>Friendly</td>\n",
       "      <td>London</td>\n",
       "      <td>England</td>\n",
       "      <td>False</td>\n",
       "      <td>승</td>\n",
       "    </tr>\n",
       "    <tr>\n",
       "      <th>2</th>\n",
       "      <td>1874-03-07</td>\n",
       "      <td>Scotland</td>\n",
       "      <td>England</td>\n",
       "      <td>2</td>\n",
       "      <td>1</td>\n",
       "      <td>Friendly</td>\n",
       "      <td>Glasgow</td>\n",
       "      <td>Scotland</td>\n",
       "      <td>False</td>\n",
       "      <td>승</td>\n",
       "    </tr>\n",
       "    <tr>\n",
       "      <th>3</th>\n",
       "      <td>1875-03-06</td>\n",
       "      <td>England</td>\n",
       "      <td>Scotland</td>\n",
       "      <td>2</td>\n",
       "      <td>2</td>\n",
       "      <td>Friendly</td>\n",
       "      <td>London</td>\n",
       "      <td>England</td>\n",
       "      <td>False</td>\n",
       "      <td>무</td>\n",
       "    </tr>\n",
       "    <tr>\n",
       "      <th>4</th>\n",
       "      <td>1876-03-04</td>\n",
       "      <td>Scotland</td>\n",
       "      <td>England</td>\n",
       "      <td>3</td>\n",
       "      <td>0</td>\n",
       "      <td>Friendly</td>\n",
       "      <td>Glasgow</td>\n",
       "      <td>Scotland</td>\n",
       "      <td>False</td>\n",
       "      <td>승</td>\n",
       "    </tr>\n",
       "    <tr>\n",
       "      <th>...</th>\n",
       "      <td>...</td>\n",
       "      <td>...</td>\n",
       "      <td>...</td>\n",
       "      <td>...</td>\n",
       "      <td>...</td>\n",
       "      <td>...</td>\n",
       "      <td>...</td>\n",
       "      <td>...</td>\n",
       "      <td>...</td>\n",
       "      <td>...</td>\n",
       "    </tr>\n",
       "    <tr>\n",
       "      <th>41537</th>\n",
       "      <td>2019-11-19</td>\n",
       "      <td>Malaysia</td>\n",
       "      <td>Indonesia</td>\n",
       "      <td>2</td>\n",
       "      <td>0</td>\n",
       "      <td>FIFA World Cup qualification</td>\n",
       "      <td>Kuala Lumpur</td>\n",
       "      <td>Malaysia</td>\n",
       "      <td>False</td>\n",
       "      <td>승</td>\n",
       "    </tr>\n",
       "    <tr>\n",
       "      <th>41538</th>\n",
       "      <td>2019-11-19</td>\n",
       "      <td>Turkmenistan</td>\n",
       "      <td>Sri Lanka</td>\n",
       "      <td>2</td>\n",
       "      <td>0</td>\n",
       "      <td>FIFA World Cup qualification</td>\n",
       "      <td>Ashgabat</td>\n",
       "      <td>Turkmenistan</td>\n",
       "      <td>False</td>\n",
       "      <td>승</td>\n",
       "    </tr>\n",
       "    <tr>\n",
       "      <th>41529</th>\n",
       "      <td>2019-11-19</td>\n",
       "      <td>Hong Kong</td>\n",
       "      <td>Cambodia</td>\n",
       "      <td>2</td>\n",
       "      <td>0</td>\n",
       "      <td>FIFA World Cup qualification</td>\n",
       "      <td>Hong Kong</td>\n",
       "      <td>Hong Kong</td>\n",
       "      <td>False</td>\n",
       "      <td>승</td>\n",
       "    </tr>\n",
       "    <tr>\n",
       "      <th>41502</th>\n",
       "      <td>2019-11-19</td>\n",
       "      <td>Germany</td>\n",
       "      <td>Northern Ireland</td>\n",
       "      <td>6</td>\n",
       "      <td>1</td>\n",
       "      <td>UEFA Euro qualification</td>\n",
       "      <td>Frankfurt</td>\n",
       "      <td>Germany</td>\n",
       "      <td>False</td>\n",
       "      <td>승</td>\n",
       "    </tr>\n",
       "    <tr>\n",
       "      <th>41539</th>\n",
       "      <td>2019-11-19</td>\n",
       "      <td>Lebanon</td>\n",
       "      <td>North Korea</td>\n",
       "      <td>0</td>\n",
       "      <td>0</td>\n",
       "      <td>FIFA World Cup qualification</td>\n",
       "      <td>Beirut</td>\n",
       "      <td>Lebanon</td>\n",
       "      <td>False</td>\n",
       "      <td>무</td>\n",
       "    </tr>\n",
       "  </tbody>\n",
       "</table>\n",
       "<p>41540 rows × 10 columns</p>\n",
       "</div>"
      ],
      "text/plain": [
       "            date     home_team         away_team  home_score  away_score  \\\n",
       "0     1872-11-30      Scotland           England           0           0   \n",
       "1     1873-03-08       England          Scotland           4           2   \n",
       "2     1874-03-07      Scotland           England           2           1   \n",
       "3     1875-03-06       England          Scotland           2           2   \n",
       "4     1876-03-04      Scotland           England           3           0   \n",
       "...          ...           ...               ...         ...         ...   \n",
       "41537 2019-11-19      Malaysia         Indonesia           2           0   \n",
       "41538 2019-11-19  Turkmenistan         Sri Lanka           2           0   \n",
       "41529 2019-11-19     Hong Kong          Cambodia           2           0   \n",
       "41502 2019-11-19       Germany  Northern Ireland           6           1   \n",
       "41539 2019-11-19       Lebanon       North Korea           0           0   \n",
       "\n",
       "                         tournament          city       country  neutral  \\\n",
       "0                          Friendly       Glasgow      Scotland    False   \n",
       "1                          Friendly        London       England    False   \n",
       "2                          Friendly       Glasgow      Scotland    False   \n",
       "3                          Friendly        London       England    False   \n",
       "4                          Friendly       Glasgow      Scotland    False   \n",
       "...                             ...           ...           ...      ...   \n",
       "41537  FIFA World Cup qualification  Kuala Lumpur      Malaysia    False   \n",
       "41538  FIFA World Cup qualification      Ashgabat  Turkmenistan    False   \n",
       "41529  FIFA World Cup qualification     Hong Kong     Hong Kong    False   \n",
       "41502       UEFA Euro qualification     Frankfurt       Germany    False   \n",
       "41539  FIFA World Cup qualification        Beirut       Lebanon    False   \n",
       "\n",
       "      결과(홈팀기준)  \n",
       "0            무  \n",
       "1            승  \n",
       "2            승  \n",
       "3            무  \n",
       "4            승  \n",
       "...        ...  \n",
       "41537        승  \n",
       "41538        승  \n",
       "41529        승  \n",
       "41502        승  \n",
       "41539        무  \n",
       "\n",
       "[41540 rows x 10 columns]"
      ]
     },
     "execution_count": 278,
     "metadata": {},
     "output_type": "execute_result"
    }
   ],
   "source": [
    "soccer"
   ]
  },
  {
   "cell_type": "markdown",
   "id": "5916937a",
   "metadata": {},
   "source": [
    "# 11월 1일부터 11월 19일까지의 경기를 soccer2에 담기"
   ]
  },
  {
   "cell_type": "code",
   "execution_count": 303,
   "id": "a7643cc3",
   "metadata": {
    "ExecuteTime": {
     "end_time": "2023-10-13T02:33:15.883679Z",
     "start_time": "2023-10-13T02:33:15.874747Z"
    }
   },
   "outputs": [
    {
     "data": {
      "text/plain": [
       "DatetimeIndex(['2019-11-02', '2019-11-03', '2019-11-04', '2019-11-05',\n",
       "               '2019-11-06', '2019-11-07', '2019-11-08', '2019-11-09',\n",
       "               '2019-11-10', '2019-11-11', '2019-11-12', '2019-11-13',\n",
       "               '2019-11-14', '2019-11-15', '2019-11-16', '2019-11-17',\n",
       "               '2019-11-18', '2019-11-19', '2019-11-20'],\n",
       "              dtype='datetime64[ns]', freq='D')"
      ]
     },
     "execution_count": 303,
     "metadata": {},
     "output_type": "execute_result"
    }
   ],
   "source": [
    "date_time = pd.date_range('2019.11.02' , periods = 19)\n",
    "date_time"
   ]
  },
  {
   "cell_type": "code",
   "execution_count": 306,
   "id": "e98d10a3",
   "metadata": {
    "ExecuteTime": {
     "end_time": "2023-10-13T02:33:30.311031Z",
     "start_time": "2023-10-13T02:33:30.302137Z"
    }
   },
   "outputs": [
    {
     "data": {
      "text/html": [
       "<div>\n",
       "<style scoped>\n",
       "    .dataframe tbody tr th:only-of-type {\n",
       "        vertical-align: middle;\n",
       "    }\n",
       "\n",
       "    .dataframe tbody tr th {\n",
       "        vertical-align: top;\n",
       "    }\n",
       "\n",
       "    .dataframe thead th {\n",
       "        text-align: right;\n",
       "    }\n",
       "</style>\n",
       "<table border=\"1\" class=\"dataframe\">\n",
       "  <thead>\n",
       "    <tr style=\"text-align: right;\">\n",
       "      <th></th>\n",
       "      <th>date</th>\n",
       "      <th>home_team</th>\n",
       "      <th>away_team</th>\n",
       "      <th>home_score</th>\n",
       "      <th>away_score</th>\n",
       "      <th>tournament</th>\n",
       "      <th>city</th>\n",
       "      <th>country</th>\n",
       "      <th>neutral</th>\n",
       "      <th>결과(홈팀기준)</th>\n",
       "    </tr>\n",
       "  </thead>\n",
       "  <tbody>\n",
       "  </tbody>\n",
       "</table>\n",
       "</div>"
      ],
      "text/plain": [
       "Empty DataFrame\n",
       "Columns: [date, home_team, away_team, home_score, away_score, tournament, city, country, neutral, 결과(홈팀기준)]\n",
       "Index: []"
      ]
     },
     "execution_count": 306,
     "metadata": {},
     "output_type": "execute_result"
    }
   ],
   "source": [
    "soccer2 = soccer[soccer.date == '2019-11-01']\n",
    "soccer2"
   ]
  },
  {
   "cell_type": "code",
   "execution_count": 307,
   "id": "ba63c8bb",
   "metadata": {
    "ExecuteTime": {
     "end_time": "2023-10-13T02:34:30.679484Z",
     "start_time": "2023-10-13T02:34:30.637344Z"
    }
   },
   "outputs": [],
   "source": [
    "\n",
    "for i in date_time:\n",
    "    soccer2 = pd.concat([soccer2 , soccer[soccer.date == i]])"
   ]
  },
  {
   "cell_type": "code",
   "execution_count": 321,
   "id": "69356c39",
   "metadata": {
    "ExecuteTime": {
     "end_time": "2023-10-13T02:44:12.263062Z",
     "start_time": "2023-10-13T02:44:12.238477Z"
    }
   },
   "outputs": [
    {
     "data": {
      "text/html": [
       "<div>\n",
       "<style scoped>\n",
       "    .dataframe tbody tr th:only-of-type {\n",
       "        vertical-align: middle;\n",
       "    }\n",
       "\n",
       "    .dataframe tbody tr th {\n",
       "        vertical-align: top;\n",
       "    }\n",
       "\n",
       "    .dataframe thead th {\n",
       "        text-align: right;\n",
       "    }\n",
       "</style>\n",
       "<table border=\"1\" class=\"dataframe\">\n",
       "  <thead>\n",
       "    <tr style=\"text-align: right;\">\n",
       "      <th></th>\n",
       "      <th>date</th>\n",
       "      <th>home_team</th>\n",
       "      <th>away_team</th>\n",
       "      <th>home_score</th>\n",
       "      <th>away_score</th>\n",
       "      <th>tournament</th>\n",
       "      <th>city</th>\n",
       "      <th>country</th>\n",
       "      <th>neutral</th>\n",
       "      <th>결과(홈팀기준)</th>\n",
       "    </tr>\n",
       "  </thead>\n",
       "  <tbody>\n",
       "    <tr>\n",
       "      <th>41354</th>\n",
       "      <td>2019-11-07</td>\n",
       "      <td>Egypt</td>\n",
       "      <td>Liberia</td>\n",
       "      <td>1</td>\n",
       "      <td>0</td>\n",
       "      <td>Friendly</td>\n",
       "      <td>Alexandria</td>\n",
       "      <td>Egypt</td>\n",
       "      <td>False</td>\n",
       "      <td>승</td>\n",
       "    </tr>\n",
       "    <tr>\n",
       "      <th>41355</th>\n",
       "      <td>2019-11-07</td>\n",
       "      <td>Nicaragua</td>\n",
       "      <td>Cuba</td>\n",
       "      <td>0</td>\n",
       "      <td>0</td>\n",
       "      <td>Friendly</td>\n",
       "      <td>Managua</td>\n",
       "      <td>Nicaragua</td>\n",
       "      <td>False</td>\n",
       "      <td>무</td>\n",
       "    </tr>\n",
       "    <tr>\n",
       "      <th>41356</th>\n",
       "      <td>2019-11-09</td>\n",
       "      <td>Malaysia</td>\n",
       "      <td>Tajikistan</td>\n",
       "      <td>1</td>\n",
       "      <td>0</td>\n",
       "      <td>Friendly</td>\n",
       "      <td>Kuala Lumpur</td>\n",
       "      <td>Malaysia</td>\n",
       "      <td>False</td>\n",
       "      <td>승</td>\n",
       "    </tr>\n",
       "    <tr>\n",
       "      <th>41357</th>\n",
       "      <td>2019-11-09</td>\n",
       "      <td>Namibia</td>\n",
       "      <td>Zambia</td>\n",
       "      <td>0</td>\n",
       "      <td>2</td>\n",
       "      <td>Friendly</td>\n",
       "      <td>Windhoek</td>\n",
       "      <td>Namibia</td>\n",
       "      <td>False</td>\n",
       "      <td>패</td>\n",
       "    </tr>\n",
       "    <tr>\n",
       "      <th>41358</th>\n",
       "      <td>2019-11-09</td>\n",
       "      <td>Uzbekistan</td>\n",
       "      <td>Kyrgyzstan</td>\n",
       "      <td>3</td>\n",
       "      <td>1</td>\n",
       "      <td>Friendly</td>\n",
       "      <td>Tashkent</td>\n",
       "      <td>Uzbekistan</td>\n",
       "      <td>False</td>\n",
       "      <td>승</td>\n",
       "    </tr>\n",
       "    <tr>\n",
       "      <th>...</th>\n",
       "      <td>...</td>\n",
       "      <td>...</td>\n",
       "      <td>...</td>\n",
       "      <td>...</td>\n",
       "      <td>...</td>\n",
       "      <td>...</td>\n",
       "      <td>...</td>\n",
       "      <td>...</td>\n",
       "      <td>...</td>\n",
       "      <td>...</td>\n",
       "    </tr>\n",
       "    <tr>\n",
       "      <th>41537</th>\n",
       "      <td>2019-11-19</td>\n",
       "      <td>Malaysia</td>\n",
       "      <td>Indonesia</td>\n",
       "      <td>2</td>\n",
       "      <td>0</td>\n",
       "      <td>FIFA World Cup qualification</td>\n",
       "      <td>Kuala Lumpur</td>\n",
       "      <td>Malaysia</td>\n",
       "      <td>False</td>\n",
       "      <td>승</td>\n",
       "    </tr>\n",
       "    <tr>\n",
       "      <th>41538</th>\n",
       "      <td>2019-11-19</td>\n",
       "      <td>Turkmenistan</td>\n",
       "      <td>Sri Lanka</td>\n",
       "      <td>2</td>\n",
       "      <td>0</td>\n",
       "      <td>FIFA World Cup qualification</td>\n",
       "      <td>Ashgabat</td>\n",
       "      <td>Turkmenistan</td>\n",
       "      <td>False</td>\n",
       "      <td>승</td>\n",
       "    </tr>\n",
       "    <tr>\n",
       "      <th>41529</th>\n",
       "      <td>2019-11-19</td>\n",
       "      <td>Hong Kong</td>\n",
       "      <td>Cambodia</td>\n",
       "      <td>2</td>\n",
       "      <td>0</td>\n",
       "      <td>FIFA World Cup qualification</td>\n",
       "      <td>Hong Kong</td>\n",
       "      <td>Hong Kong</td>\n",
       "      <td>False</td>\n",
       "      <td>승</td>\n",
       "    </tr>\n",
       "    <tr>\n",
       "      <th>41502</th>\n",
       "      <td>2019-11-19</td>\n",
       "      <td>Germany</td>\n",
       "      <td>Northern Ireland</td>\n",
       "      <td>6</td>\n",
       "      <td>1</td>\n",
       "      <td>UEFA Euro qualification</td>\n",
       "      <td>Frankfurt</td>\n",
       "      <td>Germany</td>\n",
       "      <td>False</td>\n",
       "      <td>승</td>\n",
       "    </tr>\n",
       "    <tr>\n",
       "      <th>41539</th>\n",
       "      <td>2019-11-19</td>\n",
       "      <td>Lebanon</td>\n",
       "      <td>North Korea</td>\n",
       "      <td>0</td>\n",
       "      <td>0</td>\n",
       "      <td>FIFA World Cup qualification</td>\n",
       "      <td>Beirut</td>\n",
       "      <td>Lebanon</td>\n",
       "      <td>False</td>\n",
       "      <td>무</td>\n",
       "    </tr>\n",
       "  </tbody>\n",
       "</table>\n",
       "<p>186 rows × 10 columns</p>\n",
       "</div>"
      ],
      "text/plain": [
       "            date     home_team         away_team  home_score  away_score  \\\n",
       "41354 2019-11-07         Egypt           Liberia           1           0   \n",
       "41355 2019-11-07     Nicaragua              Cuba           0           0   \n",
       "41356 2019-11-09      Malaysia        Tajikistan           1           0   \n",
       "41357 2019-11-09       Namibia            Zambia           0           2   \n",
       "41358 2019-11-09    Uzbekistan        Kyrgyzstan           3           1   \n",
       "...          ...           ...               ...         ...         ...   \n",
       "41537 2019-11-19      Malaysia         Indonesia           2           0   \n",
       "41538 2019-11-19  Turkmenistan         Sri Lanka           2           0   \n",
       "41529 2019-11-19     Hong Kong          Cambodia           2           0   \n",
       "41502 2019-11-19       Germany  Northern Ireland           6           1   \n",
       "41539 2019-11-19       Lebanon       North Korea           0           0   \n",
       "\n",
       "                         tournament          city       country  neutral  \\\n",
       "41354                      Friendly    Alexandria         Egypt    False   \n",
       "41355                      Friendly       Managua     Nicaragua    False   \n",
       "41356                      Friendly  Kuala Lumpur      Malaysia    False   \n",
       "41357                      Friendly      Windhoek       Namibia    False   \n",
       "41358                      Friendly      Tashkent    Uzbekistan    False   \n",
       "...                             ...           ...           ...      ...   \n",
       "41537  FIFA World Cup qualification  Kuala Lumpur      Malaysia    False   \n",
       "41538  FIFA World Cup qualification      Ashgabat  Turkmenistan    False   \n",
       "41529  FIFA World Cup qualification     Hong Kong     Hong Kong    False   \n",
       "41502       UEFA Euro qualification     Frankfurt       Germany    False   \n",
       "41539  FIFA World Cup qualification        Beirut       Lebanon    False   \n",
       "\n",
       "      결과(홈팀기준)  \n",
       "41354        승  \n",
       "41355        무  \n",
       "41356        승  \n",
       "41357        패  \n",
       "41358        승  \n",
       "...        ...  \n",
       "41537        승  \n",
       "41538        승  \n",
       "41529        승  \n",
       "41502        승  \n",
       "41539        무  \n",
       "\n",
       "[186 rows x 10 columns]"
      ]
     },
     "execution_count": 321,
     "metadata": {},
     "output_type": "execute_result"
    }
   ],
   "source": [
    "soccer2"
   ]
  },
  {
   "cell_type": "code",
   "execution_count": 311,
   "id": "a5124342",
   "metadata": {
    "ExecuteTime": {
     "end_time": "2023-10-13T02:35:45.151025Z",
     "start_time": "2023-10-13T02:35:45.142983Z"
    }
   },
   "outputs": [
    {
     "data": {
      "text/plain": [
       "array(['Egypt', 'Nicaragua', 'Malaysia', 'Namibia', 'Uzbekistan',\n",
       "       'Trinidad and Tobago', 'Burkina Faso', 'Malawi', 'Sudan',\n",
       "       'Central African Republic', 'Sierra Leone', 'Cameroon', 'Senegal',\n",
       "       'Nigeria', 'Guinea-Bissau', 'Angola', 'DR Congo', 'Mozambique',\n",
       "       'Togo', 'Bulgaria', 'England', 'Czech Republic', 'Portugal',\n",
       "       'Algeria', 'France', 'Albania', 'Mali', 'Martinique', 'Curaçao',\n",
       "       'Saint Kitts and Nevis', 'Belize', 'Bahamas', 'Serbia', 'Turkey',\n",
       "       'Turks and Caicos Islands', 'Ghana', 'Cambodia',\n",
       "       'Republic of Ireland', 'Ukraine', 'Maldives', 'Syria', 'Jordan',\n",
       "       'Kuwait', 'Qatar', 'Hong Kong', 'Oman', 'Iraq', 'Ecuador',\n",
       "       'Myanmar', 'Kyrgyzstan', 'Vietnam', 'Lebanon', 'Turkmenistan',\n",
       "       'Yemen', 'Afghanistan', 'Tunisia', 'Denmark', 'Morocco',\n",
       "       'Tanzania', 'Spain', 'Romania', 'Switzerland', 'Norway',\n",
       "       'Bosnia and Herzegovina', 'Antigua and Barbuda', 'Zimbabwe',\n",
       "       'Finland', 'Guyana', 'United States', 'Suriname', 'Panama',\n",
       "       'Hungary', 'Saint Vincent and the Grenadines', 'Armenia',\n",
       "       'Colombia', 'Israel', 'Ivory Coast', 'Madagascar',\n",
       "       'Northern Ireland', 'Germany', 'Croatia', 'Slovenia', 'Azerbaijan',\n",
       "       'San Marino', 'Cyprus', 'Russia', 'Saint Lucia', 'El Salvador',\n",
       "       'Saint Martin', 'Cayman Islands', 'Guatemala', 'Austria', 'Guinea',\n",
       "       'Uganda', 'South Africa', 'Gabon', 'Chad', 'Eswatini', 'Benin',\n",
       "       'Lesotho', 'Rwanda', 'Congo', 'Kosovo', 'Moldova', 'Luxembourg',\n",
       "       'South Sudan', 'Andorra', 'Honduras', 'Costa Rica', 'Bonaire',\n",
       "       'Guadeloupe', 'Lithuania', 'Grenada', 'French Guiana', 'Malta',\n",
       "       'Kenya', 'Niger', 'Botswana', 'Comoros', 'Cape Verde', 'Gambia',\n",
       "       'Gibraltar', 'São Tomé and Príncipe', 'Jamaica', 'Argentina',\n",
       "       'Dominica', 'Sweden', 'Greece', 'Liechtenstein', 'Italy', 'Aruba',\n",
       "       'Burundi', 'Mauritania', 'Zambia', 'Equatorial Guinea', 'Libya',\n",
       "       'Ethiopia', 'Netherlands', 'Wales', 'Slovakia', 'North Macedonia',\n",
       "       'Latvia', 'Scotland', 'Belgium', 'Cuba', 'Mexico',\n",
       "       'U.S. Virgin Islands', 'Poland', 'Barbados', 'Puerto Rico',\n",
       "       'Brazil', 'Montenegro', 'Saudi Arabia', 'Nepal'], dtype=object)"
      ]
     },
     "execution_count": 311,
     "metadata": {},
     "output_type": "execute_result"
    }
   ],
   "source": [
    "soccer2.home_team.unique()"
   ]
  },
  {
   "cell_type": "code",
   "execution_count": 333,
   "id": "faf0daa2",
   "metadata": {
    "ExecuteTime": {
     "end_time": "2023-10-13T02:45:53.060678Z",
     "start_time": "2023-10-13T02:45:53.047732Z"
    }
   },
   "outputs": [],
   "source": [
    "# 각 팀에서 홈팀의 득점수와 어웨이팀의 득점수를 출력하고 비교.\n",
    "def goal(team):\n",
    "    g = 0\n",
    "    for i in soccer2.loc[soccer2.home_team == team , '결과(홈팀기준)'].index:\n",
    "        g += soccer2.home_score[i]\n",
    "    return {team : g}"
   ]
  },
  {
   "cell_type": "code",
   "execution_count": 334,
   "id": "f4a83587",
   "metadata": {
    "ExecuteTime": {
     "end_time": "2023-10-13T02:45:53.862528Z",
     "start_time": "2023-10-13T02:45:53.851820Z"
    }
   },
   "outputs": [
    {
     "data": {
      "text/plain": [
       "{'Brazil': 3}"
      ]
     },
     "execution_count": 334,
     "metadata": {},
     "output_type": "execute_result"
    }
   ],
   "source": [
    "goal('Brazil')"
   ]
  },
  {
   "cell_type": "code",
   "execution_count": 335,
   "id": "731e7be2",
   "metadata": {
    "ExecuteTime": {
     "end_time": "2023-10-13T02:45:55.318741Z",
     "start_time": "2023-10-13T02:45:55.277502Z"
    }
   },
   "outputs": [],
   "source": [
    "homewin = []\n",
    "for i in soccer2.home_team.unique():\n",
    "    homewin.append(goal(i))"
   ]
  },
  {
   "cell_type": "code",
   "execution_count": 336,
   "id": "3dee8a82",
   "metadata": {
    "ExecuteTime": {
     "end_time": "2023-10-13T02:45:55.833841Z",
     "start_time": "2023-10-13T02:45:55.814236Z"
    }
   },
   "outputs": [
    {
     "data": {
      "text/plain": [
       "[{'Egypt': 2},\n",
       " {'Nicaragua': 1},\n",
       " {'Malaysia': 5},\n",
       " {'Namibia': 2},\n",
       " {'Uzbekistan': 7},\n",
       " {'Trinidad and Tobago': 15},\n",
       " {'Burkina Faso': 0},\n",
       " {'Malawi': 1},\n",
       " {'Sudan': 4},\n",
       " {'Central African Republic': 2},\n",
       " {'Sierra Leone': 1},\n",
       " {'Cameroon': 0},\n",
       " {'Senegal': 2},\n",
       " {'Nigeria': 2},\n",
       " {'Guinea-Bissau': 3},\n",
       " {'Angola': 1},\n",
       " {'DR Congo': 0},\n",
       " {'Mozambique': 2},\n",
       " {'Togo': 0},\n",
       " {'Bulgaria': 1},\n",
       " {'England': 7},\n",
       " {'Czech Republic': 2},\n",
       " {'Portugal': 6},\n",
       " {'Algeria': 5},\n",
       " {'France': 2},\n",
       " {'Albania': 2},\n",
       " {'Mali': 2},\n",
       " {'Martinique': 1},\n",
       " {'Curaçao': 1},\n",
       " {'Saint Kitts and Nevis': 0},\n",
       " {'Belize': 2},\n",
       " {'Bahamas': 3},\n",
       " {'Serbia': 5},\n",
       " {'Turkey': 0},\n",
       " {'Turks and Caicos Islands': 3},\n",
       " {'Ghana': 2},\n",
       " {'Cambodia': 1},\n",
       " {'Republic of Ireland': 4},\n",
       " {'Ukraine': 1},\n",
       " {'Maldives': 4},\n",
       " {'Syria': 3},\n",
       " {'Jordan': 5},\n",
       " {'Kuwait': 9},\n",
       " {'Qatar': 2},\n",
       " {'Hong Kong': 2},\n",
       " {'Oman': 5},\n",
       " {'Iraq': 2},\n",
       " {'Ecuador': 3},\n",
       " {'Myanmar': 5},\n",
       " {'Kyrgyzstan': 1},\n",
       " {'Vietnam': 1},\n",
       " {'Lebanon': 0},\n",
       " {'Turkmenistan': 5},\n",
       " {'Yemen': 2},\n",
       " {'Afghanistan': 1},\n",
       " {'Tunisia': 4},\n",
       " {'Denmark': 6},\n",
       " {'Morocco': 0},\n",
       " {'Tanzania': 2},\n",
       " {'Spain': 12},\n",
       " {'Romania': 0},\n",
       " {'Switzerland': 1},\n",
       " {'Norway': 4},\n",
       " {'Bosnia and Herzegovina': 0},\n",
       " {'Antigua and Barbuda': 0},\n",
       " {'Zimbabwe': 0},\n",
       " {'Finland': 3},\n",
       " {'Guyana': 4},\n",
       " {'United States': 4},\n",
       " {'Suriname': 4},\n",
       " {'Panama': 0},\n",
       " {'Hungary': 1},\n",
       " {'Saint Vincent and the Grenadines': 1},\n",
       " {'Armenia': 0},\n",
       " {'Colombia': 1},\n",
       " {'Israel': 1},\n",
       " {'Ivory Coast': 1},\n",
       " {'Madagascar': 1},\n",
       " {'Northern Ireland': 0},\n",
       " {'Germany': 10},\n",
       " {'Croatia': 5},\n",
       " {'Slovenia': 1},\n",
       " {'Azerbaijan': 0},\n",
       " {'San Marino': 1},\n",
       " {'Cyprus': 1},\n",
       " {'Russia': 1},\n",
       " {'Saint Lucia': 1},\n",
       " {'El Salvador': 3},\n",
       " {'Saint Martin': 1},\n",
       " {'Cayman Islands': 1},\n",
       " {'Guatemala': 5},\n",
       " {'Austria': 2},\n",
       " {'Guinea': 2},\n",
       " {'Uganda': 2},\n",
       " {'South Africa': 1},\n",
       " {'Gabon': 2},\n",
       " {'Chad': 0},\n",
       " {'Eswatini': 1},\n",
       " {'Benin': 1},\n",
       " {'Lesotho': 2},\n",
       " {'Rwanda': 0},\n",
       " {'Congo': 3},\n",
       " {'Kosovo': 0},\n",
       " {'Moldova': 1},\n",
       " {'Luxembourg': 0},\n",
       " {'South Sudan': 1},\n",
       " {'Andorra': 0},\n",
       " {'Honduras': 4},\n",
       " {'Costa Rica': 1},\n",
       " {'Bonaire': 1},\n",
       " {'Guadeloupe': 10},\n",
       " {'Lithuania': 1},\n",
       " {'Grenada': 3},\n",
       " {'French Guiana': 3},\n",
       " {'Malta': 1},\n",
       " {'Kenya': 1},\n",
       " {'Niger': 2},\n",
       " {'Botswana': 0},\n",
       " {'Comoros': 0},\n",
       " {'Cape Verde': 2},\n",
       " {'Gambia': 2},\n",
       " {'Gibraltar': 1},\n",
       " {'São Tomé and Príncipe': 0},\n",
       " {'Jamaica': 1},\n",
       " {'Argentina': 2},\n",
       " {'Dominica': 1},\n",
       " {'Sweden': 3},\n",
       " {'Greece': 2},\n",
       " {'Liechtenstein': 0},\n",
       " {'Italy': 9},\n",
       " {'Aruba': 2},\n",
       " {'Burundi': 0},\n",
       " {'Mauritania': 2},\n",
       " {'Zambia': 1},\n",
       " {'Equatorial Guinea': 0},\n",
       " {'Libya': 2},\n",
       " {'Ethiopia': 2},\n",
       " {'Netherlands': 5},\n",
       " {'Wales': 2},\n",
       " {'Slovakia': 2},\n",
       " {'North Macedonia': 1},\n",
       " {'Latvia': 1},\n",
       " {'Scotland': 3},\n",
       " {'Belgium': 6},\n",
       " {'Cuba': 0},\n",
       " {'Mexico': 2},\n",
       " {'U.S. Virgin Islands': 1},\n",
       " {'Poland': 3},\n",
       " {'Barbados': 3},\n",
       " {'Puerto Rico': 3},\n",
       " {'Brazil': 3},\n",
       " {'Montenegro': 2},\n",
       " {'Saudi Arabia': 0},\n",
       " {'Nepal': 0}]"
      ]
     },
     "execution_count": 336,
     "metadata": {},
     "output_type": "execute_result"
    }
   ],
   "source": [
    "homewin"
   ]
  },
  {
   "cell_type": "code",
   "execution_count": 344,
   "id": "c435a450",
   "metadata": {
    "ExecuteTime": {
     "end_time": "2023-10-13T02:48:20.923889Z",
     "start_time": "2023-10-13T02:48:20.918112Z"
    }
   },
   "outputs": [],
   "source": [
    "goal_total = [value for dictionary in homewin for value in dictionary.values()]"
   ]
  },
  {
   "cell_type": "code",
   "execution_count": 343,
   "id": "836f27ea",
   "metadata": {
    "ExecuteTime": {
     "end_time": "2023-10-13T02:48:19.790761Z",
     "start_time": "2023-10-13T02:48:19.781890Z"
    }
   },
   "outputs": [],
   "source": [
    "goal_country = [key for dictionary in homewin for key in dictionary.keys()]"
   ]
  },
  {
   "cell_type": "code",
   "execution_count": 353,
   "id": "7262a900",
   "metadata": {
    "ExecuteTime": {
     "end_time": "2023-10-13T02:51:13.110549Z",
     "start_time": "2023-10-13T02:51:13.102963Z"
    }
   },
   "outputs": [],
   "source": [
    "goal201911 = pd.DataFrame(goal_total , goal_country)\n",
    "goal201911 = goal201911.reset_index().rename(columns = {'index' : '나라' , 0 : '골'})"
   ]
  },
  {
   "cell_type": "code",
   "execution_count": 385,
   "id": "7f20f7ab",
   "metadata": {
    "ExecuteTime": {
     "end_time": "2023-10-13T03:01:18.957488Z",
     "start_time": "2023-10-13T03:01:18.948337Z"
    }
   },
   "outputs": [
    {
     "data": {
      "text/plain": [
       "['Trinidad and Tobago',\n",
       " 'Spain',\n",
       " 'Germany',\n",
       " 'Guadeloupe',\n",
       " 'Italy',\n",
       " 'Kuwait',\n",
       " 'England',\n",
       " 'Uzbekistan',\n",
       " 'Portugal',\n",
       " 'Denmark',\n",
       " 'Belgium',\n",
       " 'Netherlands',\n",
       " 'Serbia',\n",
       " 'Croatia',\n",
       " 'Oman',\n",
       " 'Algeria',\n",
       " 'Turkmenistan',\n",
       " 'Jordan',\n",
       " 'Myanmar',\n",
       " 'Guatemala']"
      ]
     },
     "execution_count": 385,
     "metadata": {},
     "output_type": "execute_result"
    }
   ],
   "source": [
    "goaltop20['나라'].tolist()"
   ]
  },
  {
   "cell_type": "code",
   "execution_count": 393,
   "id": "7e69edae",
   "metadata": {
    "ExecuteTime": {
     "end_time": "2023-10-13T03:04:45.513816Z",
     "start_time": "2023-10-13T03:04:45.332914Z"
    },
    "scrolled": true
   },
   "outputs": [
    {
     "data": {
      "image/png": "[encoded data removed]",
      "text/plain": [
       "<Figure size 2000x500 with 1 Axes>"
      ]
     },
     "metadata": {},
     "output_type": "display_data"
    }
   ],
   "source": [
    "plt.figure(figsize=(20, 5))\n",
    "plt.scatter(goaltop20['나라'] , goaltop20['골'])\n",
    "plt.title('2019년 11월에 가장 많은 골을 넣은 나라 top20')\n",
    "plt.show()"
   ]
  }
 ],
 "metadata": {
  "kernelspec": {
   "display_name": "Python 3 (ipykernel)",
   "language": "python",
   "name": "python3"
  },
  "language_info": {
   "codemirror_mode": {
    "name": "ipython",
    "version": 3
   },
   "file_extension": ".py",
   "mimetype": "text/x-python",
   "name": "python",
   "nbconvert_exporter": "python",
   "pygments_lexer": "ipython3",
   "version": "3.8.17"
  },
  "toc": {
   "base_numbering": 1,
   "nav_menu": {},
   "number_sections": true,
   "sideBar": true,
   "skip_h1_title": false,
   "title_cell": "Table of Contents",
   "title_sidebar": "Contents",
   "toc_cell": false,
   "toc_position": {},
   "toc_section_display": true,
   "toc_window_display": false
  }
 },
 "nbformat": 4,
 "nbformat_minor": 5
}
