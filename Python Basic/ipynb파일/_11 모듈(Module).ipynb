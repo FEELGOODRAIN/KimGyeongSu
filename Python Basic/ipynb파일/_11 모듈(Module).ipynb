{
 "cells": [
  {
   "cell_type": "markdown",
   "id": "e65fe97b",
   "metadata": {},
   "source": [
    "# 모듈의 정의\n",
    "1. 함수(Function) : 파일 내에서 자주 반복적으로 수행하는 기능이나 명령어를 묶어놓은 단위\n",
    "2. 모듈(Module) : 함수나 변수 또는 클래스들을 모아놓은 파이썬 파일(확장자가 py)\n",
    " - 비슷하거나 관련된 일을 하는 함수나 상수값들을 모아서 하나의 파일에 저장하고 필요에 의해 재사용 가능\n",
    " \n",
    "3. 패키지(package) : 여러 개의 모듈을 모아놓은 디렉토리 계열\n",
    " - 모듈 : 파일 , 패키지 : 폴더"
   ]
  },
  {
   "cell_type": "markdown",
   "id": "358c4af2",
   "metadata": {},
   "source": [
    "# 모듈을 사용하는 목적\n",
    "\n",
    "1. 코드의 재사용\n",
    "2. 프로그램을 모듈 단위로 구현하면 작업의 효율을 높일 수 있음.\n",
    "3. 별도의 이름공간(namespace)에 제공형으로써 동일한 이름의 여러 함수나 변수들이 각 변수마다 독립적"
   ]
  },
  {
   "cell_type": "markdown",
   "id": "83e2a2ab",
   "metadata": {},
   "source": [
    "# 모듈의 종류\n",
    "\n",
    "1. 표준모듈 : 파이썬 언어의 패키지 안에 기본적으로 제공하는 모듈\n",
    "       ex ) math , string , ...\n",
    "2. 사용자 정의 모듈 : 사용자에 의해서 임의로 개발된(정의된) 모듈\n",
    "3. 써드 파티 모듈 : 다른 업체나 개인이 만들어서 제공하는 모듈\n",
    "       ex ) numpy , pandas , matplotlib , seaborn , scikit-learn , keras , tensorflow , openCV, ...."
   ]
  },
  {
   "cell_type": "markdown",
   "id": "4e19129f",
   "metadata": {},
   "source": [
    "# 모듈의 선언\n",
    "1. 모듈 전체를 참조\n",
    "    - import 모듈명\n",
    "    - import 모듈명 as 모듈 별칭\n",
    "    \n",
    "2. 모듈의 일부분만 참조\n",
    "    - from 모듈명 import 함수/변수명\n",
    "    - from 모듈명 import *(all)\n",
    "    - from 모듈명 import 함수/변수명 as 별칭\n",
    "    \n",
    "3. 모듈 내부의 함수를 참조할 경우\n",
    "    - 모듈명.함수()"
   ]
  },
  {
   "cell_type": "code",
   "execution_count": 1,
   "id": "67c9756d",
   "metadata": {
    "ExecuteTime": {
     "end_time": "2023-08-28T03:00:57.174814Z",
     "start_time": "2023-08-28T03:00:57.169417Z"
    }
   },
   "outputs": [],
   "source": [
    "import math"
   ]
  },
  {
   "cell_type": "code",
   "execution_count": 2,
   "id": "2cf368fa",
   "metadata": {
    "ExecuteTime": {
     "end_time": "2023-08-28T03:02:13.189476Z",
     "start_time": "2023-08-28T03:02:13.166215Z"
    },
    "scrolled": true
   },
   "outputs": [
    {
     "name": "stdout",
     "output_type": "stream",
     "text": [
      "['__doc__', '__loader__', '__name__', '__package__', '__spec__', 'acos', 'acosh', 'asin', 'asinh', 'atan', 'atan2', 'atanh', 'ceil', 'comb', 'copysign', 'cos', 'cosh', 'degrees', 'dist', 'e', 'erf', 'erfc', 'exp', 'expm1', 'fabs', 'factorial', 'floor', 'fmod', 'frexp', 'fsum', 'gamma', 'gcd', 'hypot', 'inf', 'isclose', 'isfinite', 'isinf', 'isnan', 'isqrt', 'ldexp', 'lgamma', 'log', 'log10', 'log1p', 'log2', 'modf', 'nan', 'perm', 'pi', 'pow', 'prod', 'radians', 'remainder', 'sin', 'sinh', 'sqrt', 'tan', 'tanh', 'tau', 'trunc']\n"
     ]
    }
   ],
   "source": [
    "print(dir(math))"
   ]
  },
  {
   "cell_type": "code",
   "execution_count": 3,
   "id": "826348e2",
   "metadata": {
    "ExecuteTime": {
     "end_time": "2023-08-28T03:03:00.827706Z",
     "start_time": "2023-08-28T03:03:00.818588Z"
    },
    "scrolled": true
   },
   "outputs": [
    {
     "name": "stdout",
     "output_type": "stream",
     "text": [
      "3.141592653589793\n"
     ]
    }
   ],
   "source": [
    "print(math.pi)"
   ]
  },
  {
   "cell_type": "code",
   "execution_count": 7,
   "id": "07f928cb",
   "metadata": {
    "ExecuteTime": {
     "end_time": "2023-08-28T03:03:23.395378Z",
     "start_time": "2023-08-28T03:03:23.388567Z"
    },
    "scrolled": true
   },
   "outputs": [
    {
     "name": "stdout",
     "output_type": "stream",
     "text": [
      "32.0\n"
     ]
    }
   ],
   "source": [
    "print(math.pow(2,5))"
   ]
  },
  {
   "cell_type": "code",
   "execution_count": 8,
   "id": "28c18109",
   "metadata": {
    "ExecuteTime": {
     "end_time": "2023-08-28T03:03:58.856645Z",
     "start_time": "2023-08-28T03:03:58.842006Z"
    }
   },
   "outputs": [],
   "source": [
    "import greeting_en as en\n",
    "import greeting_ko as ko"
   ]
  },
  {
   "cell_type": "code",
   "execution_count": 12,
   "id": "8af04b76",
   "metadata": {
    "ExecuteTime": {
     "end_time": "2023-08-28T03:04:28.759874Z",
     "start_time": "2023-08-28T03:04:28.748424Z"
    }
   },
   "outputs": [
    {
     "name": "stdout",
     "output_type": "stream",
     "text": [
      "hello\n",
      "안녕하세요\n"
     ]
    }
   ],
   "source": [
    "print(en.welcome())\n",
    "print(ko.welcome())"
   ]
  },
  {
   "cell_type": "code",
   "execution_count": null,
   "id": "75b904db",
   "metadata": {},
   "outputs": [],
   "source": []
  },
  {
   "cell_type": "markdown",
   "id": "7269895f",
   "metadata": {},
   "source": [
    "## random 모듈"
   ]
  },
  {
   "cell_type": "code",
   "execution_count": 32,
   "id": "bf8846e5",
   "metadata": {
    "ExecuteTime": {
     "end_time": "2023-08-28T05:16:23.574790Z",
     "start_time": "2023-08-28T05:16:23.557193Z"
    }
   },
   "outputs": [],
   "source": [
    "import random"
   ]
  },
  {
   "cell_type": "code",
   "execution_count": 47,
   "id": "3f74d05f",
   "metadata": {
    "ExecuteTime": {
     "end_time": "2023-08-28T05:17:27.580250Z",
     "start_time": "2023-08-28T05:17:27.564589Z"
    },
    "scrolled": true
   },
   "outputs": [
    {
     "name": "stdout",
     "output_type": "stream",
     "text": [
      "난수 :  0.38354357491101854\n"
     ]
    }
   ],
   "source": [
    "#random : 0.0 ~ 1.0 사이 실수 리턴\n",
    "\n",
    "print('난수 : ', random.random())"
   ]
  },
  {
   "cell_type": "code",
   "execution_count": 76,
   "id": "53f66d56",
   "metadata": {
    "ExecuteTime": {
     "end_time": "2023-08-28T05:18:43.715632Z",
     "start_time": "2023-08-28T05:18:43.702189Z"
    }
   },
   "outputs": [
    {
     "name": "stdout",
     "output_type": "stream",
     "text": [
      "uniform(10,20) :  10.272817137732543\n"
     ]
    }
   ],
   "source": [
    "#uniform(min , max) : min과 max 사이의 범위에서 실수를 리턴\n",
    "\n",
    "print('uniform(10,20) : ', random.uniform(10,20))"
   ]
  },
  {
   "cell_type": "code",
   "execution_count": 134,
   "id": "b5fb5c8b",
   "metadata": {
    "ExecuteTime": {
     "end_time": "2023-08-28T05:21:58.476863Z",
     "start_time": "2023-08-28T05:21:58.461323Z"
    }
   },
   "outputs": [
    {
     "name": "stdout",
     "output_type": "stream",
     "text": [
      "randrange(20) :  0\n",
      "randrange(10,20) :  12\n"
     ]
    }
   ],
   "source": [
    "#randrange(max) : 0부터 max 사이의 정수를 리턴\n",
    "#randrange(min , max) : min부터 max 사이의 정수를 리턴\n",
    "\n",
    "print('randrange(20) : ' , random.randrange(20))\n",
    "print('randrange(10,20) : ' , random.randrange(10,20))"
   ]
  },
  {
   "cell_type": "code",
   "execution_count": 100,
   "id": "de71d99c",
   "metadata": {
    "ExecuteTime": {
     "end_time": "2023-08-28T05:20:46.776336Z",
     "start_time": "2023-08-28T05:20:46.769059Z"
    },
    "scrolled": true
   },
   "outputs": [
    {
     "name": "stdout",
     "output_type": "stream",
     "text": [
      "['BPF', 'LOG4', 'NV_MAGICCONST', 'RECIP_BPF', 'Random', 'SG_MAGICCONST', 'SystemRandom', 'TWOPI', '_Sequence', '_Set', '__all__', '__builtins__', '__cached__', '__doc__', '__file__', '__loader__', '__name__', '__package__', '__spec__', '_accumulate', '_acos', '_bisect', '_ceil', '_cos', '_e', '_exp', '_inst', '_log', '_os', '_pi', '_random', '_repeat', '_sha512', '_sin', '_sqrt', '_test', '_test_generator', '_urandom', '_warn', 'betavariate', 'choice', 'choices', 'expovariate', 'gammavariate', 'gauss', 'getrandbits', 'getstate', 'lognormvariate', 'normalvariate', 'paretovariate', 'randint', 'random', 'randrange', 'sample', 'seed', 'setstate', 'shuffle', 'triangular', 'uniform', 'vonmisesvariate', 'weibullvariate']\n"
     ]
    }
   ],
   "source": [
    "print(dir(random))"
   ]
  },
  {
   "cell_type": "code",
   "execution_count": 146,
   "id": "715bfdc9",
   "metadata": {
    "ExecuteTime": {
     "end_time": "2023-08-28T05:24:28.536624Z",
     "start_time": "2023-08-28T05:24:28.526773Z"
    }
   },
   "outputs": [
    {
     "name": "stdout",
     "output_type": "stream",
     "text": [
      "choice([1,2,3,4,5]) :  4\n"
     ]
    }
   ],
   "source": [
    "#choice(list) : 리스트 내부에 있는 요소 중 랜덤하게 선택해서 리턴\n",
    "\n",
    "print('choice([1,2,3,4,5]) : ',random.choice([1,2,3,4,5]))"
   ]
  },
  {
   "cell_type": "code",
   "execution_count": 167,
   "id": "f2f92099",
   "metadata": {
    "ExecuteTime": {
     "end_time": "2023-08-28T05:25:59.885373Z",
     "start_time": "2023-08-28T05:25:59.878284Z"
    }
   },
   "outputs": [
    {
     "name": "stdout",
     "output_type": "stream",
     "text": [
      "sample([1,2,3,4,5]) :  [3, 5, 1, 4, 2]\n"
     ]
    }
   ],
   "source": [
    "#sample(list,k) : 리스트 내부에 있는 요소 중 k개를 지정하여 리턴\n",
    "\n",
    "print('sample([1,2,3,4,5]) : ' , random.sample([1,2,3,4,5],5))"
   ]
  },
  {
   "cell_type": "markdown",
   "id": "12fe0f83",
   "metadata": {},
   "source": [
    "## sys"
   ]
  },
  {
   "cell_type": "code",
   "execution_count": 168,
   "id": "e2b73b09",
   "metadata": {
    "ExecuteTime": {
     "end_time": "2023-08-28T05:26:18.438653Z",
     "start_time": "2023-08-28T05:26:18.430541Z"
    },
    "scrolled": true
   },
   "outputs": [
    {
     "name": "stdout",
     "output_type": "stream",
     "text": [
      "['__breakpointhook__', '__displayhook__', '__doc__', '__excepthook__', '__interactivehook__', '__loader__', '__name__', '__package__', '__spec__', '__stderr__', '__stdin__', '__stdout__', '__unraisablehook__', '_base_executable', '_clear_type_cache', '_current_frames', '_debugmallocstats', '_enablelegacywindowsfsencoding', '_framework', '_getframe', '_git', '_home', '_xoptions', 'addaudithook', 'api_version', 'argv', 'audit', 'base_exec_prefix', 'base_prefix', 'breakpointhook', 'builtin_module_names', 'byteorder', 'call_tracing', 'callstats', 'copyright', 'displayhook', 'dllhandle', 'dont_write_bytecode', 'exc_info', 'excepthook', 'exec_prefix', 'executable', 'exit', 'flags', 'float_info', 'float_repr_style', 'get_asyncgen_hooks', 'get_coroutine_origin_tracking_depth', 'getallocatedblocks', 'getcheckinterval', 'getdefaultencoding', 'getfilesystemencodeerrors', 'getfilesystemencoding', 'getprofile', 'getrecursionlimit', 'getrefcount', 'getsizeof', 'getswitchinterval', 'gettrace', 'getwindowsversion', 'hash_info', 'hexversion', 'implementation', 'int_info', 'intern', 'is_finalizing', 'last_traceback', 'last_type', 'last_value', 'maxsize', 'maxunicode', 'meta_path', 'modules', 'path', 'path_hooks', 'path_importer_cache', 'platform', 'prefix', 'ps1', 'ps2', 'ps3', 'pycache_prefix', 'set_asyncgen_hooks', 'set_coroutine_origin_tracking_depth', 'setcheckinterval', 'setprofile', 'setrecursionlimit', 'setswitchinterval', 'settrace', 'stderr', 'stdin', 'stdout', 'thread_info', 'unraisablehook', 'version', 'version_info', 'warnoptions', 'winver']\n"
     ]
    }
   ],
   "source": [
    "import sys\n",
    "print(dir(sys))"
   ]
  },
  {
   "cell_type": "code",
   "execution_count": 169,
   "id": "eeb0b327",
   "metadata": {
    "ExecuteTime": {
     "end_time": "2023-08-28T05:28:17.288828Z",
     "start_time": "2023-08-28T05:28:17.281236Z"
    }
   },
   "outputs": [
    {
     "name": "stdout",
     "output_type": "stream",
     "text": [
      "['C:\\\\k_digital\\\\Pythonbasic\\\\source', 'C:\\\\Anaconda3\\\\python38.zip', 'C:\\\\Anaconda3\\\\DLLs', 'C:\\\\Anaconda3\\\\lib', 'C:\\\\Anaconda3', '', 'C:\\\\Anaconda3\\\\lib\\\\site-packages', 'C:\\\\Anaconda3\\\\lib\\\\site-packages\\\\locket-0.2.1-py3.8.egg', 'C:\\\\Anaconda3\\\\lib\\\\site-packages\\\\win32', 'C:\\\\Anaconda3\\\\lib\\\\site-packages\\\\win32\\\\lib', 'C:\\\\Anaconda3\\\\lib\\\\site-packages\\\\Pythonwin', 'C:\\\\Anaconda3\\\\lib\\\\site-packages\\\\IPython\\\\extensions', 'C:\\\\Users\\\\NT551_11TH\\\\.ipython']\n"
     ]
    }
   ],
   "source": [
    "print(sys.path)"
   ]
  },
  {
   "cell_type": "code",
   "execution_count": 171,
   "id": "3d805cef",
   "metadata": {
    "ExecuteTime": {
     "end_time": "2023-08-28T05:29:32.562205Z",
     "start_time": "2023-08-28T05:29:32.555089Z"
    }
   },
   "outputs": [
    {
     "name": "stdout",
     "output_type": "stream",
     "text": [
      "3.8.8 (default, Apr 13 2021, 15:08:03) [MSC v.1916 64 bit (AMD64)]\n"
     ]
    }
   ],
   "source": [
    "print(sys.version)"
   ]
  },
  {
   "cell_type": "markdown",
   "id": "f21390d1",
   "metadata": {},
   "source": [
    "## os(operation system , 운영체제)"
   ]
  },
  {
   "cell_type": "code",
   "execution_count": 172,
   "id": "eb14f4b7",
   "metadata": {
    "ExecuteTime": {
     "end_time": "2023-08-28T05:31:09.132477Z",
     "start_time": "2023-08-28T05:31:09.129331Z"
    }
   },
   "outputs": [],
   "source": [
    "import os"
   ]
  },
  {
   "cell_type": "code",
   "execution_count": 176,
   "id": "c743a361",
   "metadata": {
    "ExecuteTime": {
     "end_time": "2023-08-28T05:32:17.706854Z",
     "start_time": "2023-08-28T05:32:17.697250Z"
    }
   },
   "outputs": [
    {
     "name": "stdout",
     "output_type": "stream",
     "text": [
      "현재 운영체제 :  nt\n",
      "현재 폴더 :  C:\\k_digital\\Pythonbasic\\source\n",
      "현재 폴더 내부의 목록 :  ['.ipynb_checkpoints', '01_파이썬_기본_문법.ipynb', '02_파이썬_기본_자료형.ipynb', '03_표준_입출력_함수.ipynb', '09. 객체 지향적인 프로그래밍 .ipynb', 'greeting_en.py', 'greeting_ko.py', 'mod1.py', 'mod2.py', 'Untitled.ipynb', 'Untitled1.ipynb', 'Untitled2.ipynb', 'Untitled3.ipynb', 'x.py', 'y.py', '_04_index.ipynb', '_05 list와 Tuple.ipynb', '_06 제어문.ipynb', '_06 함수.ipynb', '_08 함수 고급기능(내장함수).ipynb', '_09 객체 지향적인 프로그래밍.ipynb', '_10 클래스와 상속.ipynb', '_11 모듈(Module).ipynb', '__pycache__', '은행 계좌 관리 프로그램.ipynb', '파이썬 개요 및 개발환경 설정.ipynb', '파이썬 기본문법.ipynb', '학적관리 프로그램.ipynb']\n"
     ]
    }
   ],
   "source": [
    "print('현재 운영체제 : ' , os.name)\n",
    "print('현재 폴더 : ' , os.getcwd())\n",
    "print('현재 폴더 내부의 목록 : ' , os.listdir())"
   ]
  },
  {
   "cell_type": "code",
   "execution_count": 179,
   "id": "9baf2853",
   "metadata": {
    "ExecuteTime": {
     "end_time": "2023-08-28T05:34:00.363147Z",
     "start_time": "2023-08-28T05:34:00.359285Z"
    },
    "scrolled": true
   },
   "outputs": [
    {
     "name": "stdout",
     "output_type": "stream",
     "text": [
      "현재 폴더 내부의 목록 :  ['.ipynb_checkpoints', '01_파이썬_기본_문법.ipynb', '02_파이썬_기본_자료형.ipynb', '03_표준_입출력_함수.ipynb', '09. 객체 지향적인 프로그래밍 .ipynb', 'greeting_en.py', 'greeting_ko.py', 'mod1.py', 'mod2.py', 'Untitled.ipynb', 'Untitled1.ipynb', 'Untitled2.ipynb', 'Untitled3.ipynb', 'x.py', 'y.py', '_04_index.ipynb', '_05 list와 Tuple.ipynb', '_06 제어문.ipynb', '_06 함수.ipynb', '_08 함수 고급기능(내장함수).ipynb', '_09 객체 지향적인 프로그래밍.ipynb', '_10 클래스와 상속.ipynb', '_11 모듈(Module).ipynb', '__pycache__', '은행 계좌 관리 프로그램.ipynb', '파이썬 개요 및 개발환경 설정.ipynb', '파이썬 기본문법.ipynb', '학적관리 프로그램.ipynb']\n"
     ]
    }
   ],
   "source": [
    "os.rmdir('hello')\n",
    "print('현재 폴더 내부의 목록 : ' , os.listdir())"
   ]
  },
  {
   "cell_type": "code",
   "execution_count": 185,
   "id": "a415ed5e",
   "metadata": {
    "ExecuteTime": {
     "end_time": "2023-08-28T05:39:50.390127Z",
     "start_time": "2023-08-28T05:39:50.359031Z"
    }
   },
   "outputs": [],
   "source": [
    "# 파일 생성\n",
    "with open('original.txt','w') as file:\n",
    "    file.write('hello')\n",
    "    "
   ]
  },
  {
   "cell_type": "code",
   "execution_count": 186,
   "id": "2e80c403",
   "metadata": {
    "ExecuteTime": {
     "end_time": "2023-08-28T05:39:50.885238Z",
     "start_time": "2023-08-28T05:39:50.878732Z"
    }
   },
   "outputs": [],
   "source": [
    "#파일 이름 바꾸기\n",
    "os.rename('original.txt' , 'new.txt')"
   ]
  },
  {
   "cell_type": "code",
   "execution_count": 187,
   "id": "3595b9ae",
   "metadata": {
    "ExecuteTime": {
     "end_time": "2023-08-28T05:39:51.054165Z",
     "start_time": "2023-08-28T05:39:51.021782Z"
    }
   },
   "outputs": [],
   "source": [
    "#파일 제거\n",
    "os.remove('new.txt')"
   ]
  },
  {
   "cell_type": "code",
   "execution_count": 188,
   "id": "0a1c8a94",
   "metadata": {
    "ExecuteTime": {
     "end_time": "2023-08-28T05:40:35.357978Z",
     "start_time": "2023-08-28T05:40:35.319193Z"
    }
   },
   "outputs": [
    {
     "data": {
      "text/plain": [
       "0"
      ]
     },
     "execution_count": 188,
     "metadata": {},
     "output_type": "execute_result"
    }
   ],
   "source": [
    "# 시스템 명령어 실행\n",
    "os.system('dir')"
   ]
  },
  {
   "cell_type": "markdown",
   "id": "545461d4",
   "metadata": {},
   "source": [
    "## datetime 모듈"
   ]
  },
  {
   "cell_type": "code",
   "execution_count": 189,
   "id": "506df57a",
   "metadata": {
    "ExecuteTime": {
     "end_time": "2023-08-28T05:42:35.785160Z",
     "start_time": "2023-08-28T05:42:35.777176Z"
    }
   },
   "outputs": [],
   "source": [
    "import datetime"
   ]
  },
  {
   "cell_type": "code",
   "execution_count": 197,
   "id": "6cd6dcaf",
   "metadata": {
    "ExecuteTime": {
     "end_time": "2023-08-28T05:44:01.801513Z",
     "start_time": "2023-08-28T05:44:01.778252Z"
    }
   },
   "outputs": [],
   "source": [
    "now = datetime.datetime.now()"
   ]
  },
  {
   "cell_type": "code",
   "execution_count": 206,
   "id": "1ecb2a8d",
   "metadata": {
    "ExecuteTime": {
     "end_time": "2023-08-28T05:44:32.634844Z",
     "start_time": "2023-08-28T05:44:32.623050Z"
    }
   },
   "outputs": [
    {
     "name": "stdout",
     "output_type": "stream",
     "text": [
      "1\n"
     ]
    }
   ],
   "source": [
    "#year , month , day , hour , minute , second\n",
    "\n",
    "print(now.second)"
   ]
  },
  {
   "cell_type": "code",
   "execution_count": 218,
   "id": "347d0437",
   "metadata": {
    "ExecuteTime": {
     "end_time": "2023-08-28T05:50:25.463362Z",
     "start_time": "2023-08-28T05:50:25.455705Z"
    }
   },
   "outputs": [
    {
     "name": "stdout",
     "output_type": "stream",
     "text": [
      "2023년 08월 28일 14시 44분 01초\n"
     ]
    }
   ],
   "source": [
    "##서식을 이용해서 날짜와 시간 표시\n",
    "\n",
    "out = now.strftime('%Y년 %m월 %d일 %H시 %M분 %S초')\n",
    "print(out)"
   ]
  },
  {
   "cell_type": "code",
   "execution_count": 217,
   "id": "68cf5f2a",
   "metadata": {
    "ExecuteTime": {
     "end_time": "2023-08-28T05:50:09.779603Z",
     "start_time": "2023-08-28T05:50:09.770322Z"
    }
   },
   "outputs": [
    {
     "name": "stdout",
     "output_type": "stream",
     "text": [
      "2023년 8월 28일 14시 44분 1초\n"
     ]
    }
   ],
   "source": [
    "string = '{}년 {}월 {}일 {}시 {}분 {}초'.format(now.year , now.month , now.day , now.hour , now.minute , now.second)\n",
    "print(string)"
   ]
  },
  {
   "cell_type": "code",
   "execution_count": 223,
   "id": "1e193115",
   "metadata": {
    "ExecuteTime": {
     "end_time": "2023-08-28T05:53:57.510733Z",
     "start_time": "2023-08-28T05:53:57.499579Z"
    }
   },
   "outputs": [
    {
     "name": "stdout",
     "output_type": "stream",
     "text": [
      "2023-08-28\n"
     ]
    }
   ],
   "source": [
    "from datetime import date , time , datetime , timedelta\n",
    "\n",
    "today = date.today()\n",
    "print(today)"
   ]
  },
  {
   "cell_type": "code",
   "execution_count": 224,
   "id": "67ace5ce",
   "metadata": {
    "ExecuteTime": {
     "end_time": "2023-08-28T05:55:40.216528Z",
     "start_time": "2023-08-28T05:55:40.204427Z"
    }
   },
   "outputs": [
    {
     "name": "stdout",
     "output_type": "stream",
     "text": [
      "2023-08-28 14:55:40.205427\n"
     ]
    }
   ],
   "source": [
    "current = datetime.today()\n",
    "print(current)"
   ]
  },
  {
   "cell_type": "markdown",
   "id": "1fd47a42",
   "metadata": {},
   "source": [
    "- datetime 클래스의 주요 메서드\n",
    "1. weekday() : 요일을 반환(0 : 월요일 , ~ 6 : 일요일)\n",
    "2. strftime() : 문자열로 반환\n",
    "3. date() : 날짜 정보만 가지고 있음 , date 클래스로 반환\n",
    "4. time() : 시간 정보만 가지고 있음 , time 클래스로 반환"
   ]
  },
  {
   "cell_type": "code",
   "execution_count": 230,
   "id": "58d71c08",
   "metadata": {
    "ExecuteTime": {
     "end_time": "2023-08-28T06:11:17.229825Z",
     "start_time": "2023-08-28T06:11:17.219024Z"
    }
   },
   "outputs": [
    {
     "data": {
      "text/plain": [
       "0"
      ]
     },
     "execution_count": 230,
     "metadata": {},
     "output_type": "execute_result"
    }
   ],
   "source": [
    "import datetime as dt\n",
    "x = dt.datetime.now()\n",
    "x.weekday()"
   ]
  },
  {
   "cell_type": "markdown",
   "id": "e900f6bb",
   "metadata": {},
   "source": [
    "## time 모듈"
   ]
  },
  {
   "cell_type": "code",
   "execution_count": 231,
   "id": "bb1941ae",
   "metadata": {
    "ExecuteTime": {
     "end_time": "2023-08-28T06:12:20.083767Z",
     "start_time": "2023-08-28T06:12:20.075331Z"
    }
   },
   "outputs": [],
   "source": [
    "import time"
   ]
  },
  {
   "cell_type": "code",
   "execution_count": 233,
   "id": "deafd88a",
   "metadata": {
    "ExecuteTime": {
     "end_time": "2023-08-28T06:13:10.228861Z",
     "start_time": "2023-08-28T06:13:05.200521Z"
    }
   },
   "outputs": [
    {
     "name": "stdout",
     "output_type": "stream",
     "text": [
      "지금부터 5초간 정지합니다\n",
      "작업을 종료합니다\n"
     ]
    }
   ],
   "source": [
    "print('지금부터 5초간 정지합니다')\n",
    "time.sleep(5)\n",
    "print('작업을 종료합니다')"
   ]
  },
  {
   "cell_type": "code",
   "execution_count": 235,
   "id": "9fd586d6",
   "metadata": {
    "ExecuteTime": {
     "end_time": "2023-08-28T06:15:36.251596Z",
     "start_time": "2023-08-28T06:15:36.242308Z"
    }
   },
   "outputs": [],
   "source": [
    "from datetime import date , time , datetime , timedelta"
   ]
  },
  {
   "cell_type": "code",
   "execution_count": 244,
   "id": "2e986c7f",
   "metadata": {
    "ExecuteTime": {
     "end_time": "2023-08-28T06:26:29.744410Z",
     "start_time": "2023-08-28T06:26:29.732523Z"
    }
   },
   "outputs": [
    {
     "name": "stdout",
     "output_type": "stream",
     "text": [
      "2023-08-28 15:26:29.733521\n",
      "2023-08-21 15:26:29.733521\n"
     ]
    }
   ],
   "source": [
    "today = datetime.today()\n",
    "print(today)\n",
    "days = timedelta(days=-1)\n",
    "print(today + days*7)"
   ]
  },
  {
   "cell_type": "code",
   "execution_count": null,
   "id": "4df5e2b6",
   "metadata": {},
   "outputs": [],
   "source": []
  },
  {
   "cell_type": "code",
   "execution_count": 242,
   "id": "78ef30b4",
   "metadata": {
    "ExecuteTime": {
     "end_time": "2023-08-28T06:24:10.346038Z",
     "start_time": "2023-08-28T06:24:10.334231Z"
    }
   },
   "outputs": [
    {
     "name": "stdout",
     "output_type": "stream",
     "text": [
      "2023-09-06 15:18:10.904487\n"
     ]
    }
   ],
   "source": [
    "days = timedelta(days = 3)\n",
    "print(today + days * 3)"
   ]
  },
  {
   "cell_type": "code",
   "execution_count": 245,
   "id": "0f9f8fd6",
   "metadata": {
    "ExecuteTime": {
     "end_time": "2023-08-28T06:26:31.527804Z",
     "start_time": "2023-08-28T06:26:31.518324Z"
    }
   },
   "outputs": [
    {
     "name": "stdout",
     "output_type": "stream",
     "text": [
      "2023-08-28 07:26:29.733521\n"
     ]
    }
   ],
   "source": [
    "hours = timedelta(hours = 8)\n",
    "print(today - hours)"
   ]
  },
  {
   "cell_type": "code",
   "execution_count": null,
   "id": "24217262",
   "metadata": {},
   "outputs": [],
   "source": []
  },
  {
   "cell_type": "code",
   "execution_count": null,
   "id": "b3e751aa",
   "metadata": {},
   "outputs": [],
   "source": []
  },
  {
   "cell_type": "code",
   "execution_count": null,
   "id": "868b67bd",
   "metadata": {},
   "outputs": [],
   "source": []
  },
  {
   "cell_type": "code",
   "execution_count": null,
   "id": "575416d3",
   "metadata": {},
   "outputs": [],
   "source": []
  }
 ],
 "metadata": {
  "kernelspec": {
   "display_name": "Python 3",
   "language": "python",
   "name": "python3"
  },
  "language_info": {
   "codemirror_mode": {
    "name": "ipython",
    "version": 3
   },
   "file_extension": ".py",
   "mimetype": "text/x-python",
   "name": "python",
   "nbconvert_exporter": "python",
   "pygments_lexer": "ipython3",
   "version": "3.8.8"
  },
  "toc": {
   "base_numbering": 1,
   "nav_menu": {},
   "number_sections": true,
   "sideBar": true,
   "skip_h1_title": false,
   "title_cell": "Table of Contents",
   "title_sidebar": "Contents",
   "toc_cell": false,
   "toc_position": {},
   "toc_section_display": true,
   "toc_window_display": false
  }
 },
 "nbformat": 4,
 "nbformat_minor": 5
}
