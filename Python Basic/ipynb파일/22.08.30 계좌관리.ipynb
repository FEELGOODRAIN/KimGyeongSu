{
 "cells": [
  {
   "cell_type": "code",
   "execution_count": null,
   "id": "cc37f922",
   "metadata": {
    "ExecuteTime": {
     "end_time": "2023-08-30T08:26:56.823518Z",
     "start_time": "2023-08-30T08:26:48.619681Z"
    }
   },
   "outputs": [],
   "source": [
    "def find_smallest_multiple():\n",
    "    i = 20\n",
    "    while True:\n",
    "        divisible_by_all = all(i % n == 0 for n in range(2, 21))\n",
    "        if divisible_by_all:\n",
    "            return i\n",
    "        i += 20  # 20의 배수만 검사하면 됨\n",
    "\n",
    "result = find_smallest_multiple()\n",
    "print(result)"
   ]
  },
  {
   "cell_type": "code",
   "execution_count": null,
   "id": "5796551a",
   "metadata": {},
   "outputs": [],
   "source": []
  },
  {
   "cell_type": "code",
   "execution_count": 2,
   "id": "d9894413",
   "metadata": {
    "ExecuteTime": {
     "end_time": "2023-08-30T23:55:17.641596Z",
     "start_time": "2023-08-30T23:55:17.626447Z"
    }
   },
   "outputs": [],
   "source": [
    "class Account:\n",
    "    def __init__(self,name,acid,balance):\n",
    "        self.name = name\n",
    "        self.acid = acid\n",
    "        self.balance = balance\n",
    "        \n",
    "    def inMoney(self , money):\n",
    "        self.balance += money\n",
    "        print('완료')\n",
    "    \n",
    "    def outMoney(self,monty):\n",
    "        if self.balance<money:\n",
    "            print('잔액이 부족합니다')\n",
    "        else:\n",
    "            self.balance -=money\n",
    "            print('출금 완료')\n",
    "            print(f'현재 잔액은 {self.balance}원입니다')\n",
    "    def show(self):\n",
    "        print(f'{self.acid} : {self.name} : {self.balance}')\n",
    "    \n",
    "    def get_id(self):\n",
    "        return self.acid"
   ]
  },
  {
   "cell_type": "code",
   "execution_count": null,
   "id": "e37e5933",
   "metadata": {
    "ExecuteTime": {
     "end_time": "2023-08-30T08:50:08.119602Z",
     "start_time": "2023-08-30T08:50:02.596705Z"
    },
    "scrolled": true
   },
   "outputs": [],
   "source": [
    "acc = [Account('bbb','3456',1000),Account('aaa','1234',500),Account('ccc','2345',200),Account('ddd','567',300),Account('eee','789',400)]\n",
    "\n",
    "\n",
    "acid = input('계좌번호 : ')\n",
    "\n",
    "if acid == acc.get_id():\n",
    "    money = int(input('입금할 금액 : '))\n",
    "    acc.inMoney(money)\n",
    "elif acid==acc2.get_id():\n",
    "    money = int(input('입금할 금액 : '))\n",
    "    acc2.inMoney(money)\n",
    "    \n",
    "else:\n",
    "    print('계좌번호가 존재하지 않습니다')"
   ]
  },
  {
   "cell_type": "code",
   "execution_count": 4,
   "id": "685bb61b",
   "metadata": {
    "ExecuteTime": {
     "end_time": "2023-08-30T23:55:24.284802Z",
     "start_time": "2023-08-30T23:55:21.367534Z"
    }
   },
   "outputs": [
    {
     "name": "stdout",
     "output_type": "stream",
     "text": [
      "계좌번호 : 1234\n",
      "입금할 금액 : 2\n",
      "완료\n"
     ]
    }
   ],
   "source": [
    "acc = [Account('bbb','3456',1000),Account('aaa','1234',500),Account('ccc','2345',200),Account('ddd','567',300),Account('eee','789',400)]\n",
    "\n",
    "\n",
    "acid = input('계좌번호 : ')\n",
    "s=0\n",
    "while s<len(acc):\n",
    "    for i in acc:\n",
    "        if acid==i.get_id():\n",
    "            money = int(input('입금할 금액 : '))\n",
    "            i.inMoney(money)\n",
    "            s+=1\n",
    "        else:\n",
    "            continue\n",
    "            \n",
    "    if s==0:\n",
    "        print('계좌번호가 존재하지 않습니다')\n",
    "    break\n",
    " \n",
    "\n"
   ]
  },
  {
   "cell_type": "code",
   "execution_count": null,
   "id": "41750d24",
   "metadata": {
    "ExecuteTime": {
     "end_time": "2023-08-30T08:48:06.071900Z",
     "start_time": "2023-08-30T08:48:04.153061Z"
    },
    "scrolled": true
   },
   "outputs": [],
   "source": [
    "name,acid,balance = '','',0\n",
    "a = Account(name,acid,balance)\n",
    "\n",
    "while True:\n",
    "    print()\n",
    "    print('================')\n",
    "    print('1.잔액확인')\n",
    "    print('2.입금')\n",
    "    print('3.출금')\n",
    "    print('4.종료')\n",
    "    \n",
    "    menu = int(input('작업 선택 : '))\n",
    "    \n",
    "    if menu==1:\n",
    "        a.show()\n",
    "    elif menu==2:\n",
    "        money = int(input('입금할 금액을 입력하세요 : '))\n",
    "        a.inMoney(money)\n",
    "    elif menu==3:\n",
    "        money = int(input('출금할 금액을 입력하세요 : '))\n",
    "        a.outMoney(money)\n",
    "    elif menu==4:\n",
    "        print('작업을 종료합니다')\n",
    "        break\n",
    "    else:\n",
    "        print('잘못된 번호입니다')"
   ]
  },
  {
   "cell_type": "code",
   "execution_count": null,
   "id": "1ea45a6b",
   "metadata": {},
   "outputs": [],
   "source": []
  }
 ],
 "metadata": {
  "kernelspec": {
   "display_name": "Python 3",
   "language": "python",
   "name": "python3"
  },
  "language_info": {
   "codemirror_mode": {
    "name": "ipython",
    "version": 3
   },
   "file_extension": ".py",
   "mimetype": "text/x-python",
   "name": "python",
   "nbconvert_exporter": "python",
   "pygments_lexer": "ipython3",
   "version": "3.8.8"
  },
  "toc": {
   "base_numbering": 1,
   "nav_menu": {},
   "number_sections": true,
   "sideBar": true,
   "skip_h1_title": false,
   "title_cell": "Table of Contents",
   "title_sidebar": "Contents",
   "toc_cell": false,
   "toc_position": {},
   "toc_section_display": true,
   "toc_window_display": false
  }
 },
 "nbformat": 4,
 "nbformat_minor": 5
}
