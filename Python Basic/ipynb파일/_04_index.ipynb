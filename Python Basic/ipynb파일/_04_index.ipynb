{
 "cells": [
  {
   "cell_type": "code",
   "execution_count": 1,
   "id": "a8891149",
   "metadata": {},
   "outputs": [
    {
     "name": "stdout",
     "output_type": "stream",
     "text": [
      "True False\n"
     ]
    }
   ],
   "source": [
    "hungry = True\n",
    "sleep = False\n",
    "\n",
    "print(hungry,sleep)"
   ]
  },
  {
   "cell_type": "code",
   "execution_count": 3,
   "id": "5e2284f8",
   "metadata": {},
   "outputs": [
    {
     "name": "stdout",
     "output_type": "stream",
     "text": [
      "NOT OK\n"
     ]
    }
   ],
   "source": [
    "a=1\n",
    "b=4\n",
    "\n",
    "if a==1 and b==3:\n",
    "    print('OK')\n",
    "else:\n",
    "    print('NOT OK')"
   ]
  },
  {
   "cell_type": "code",
   "execution_count": 7,
   "id": "ee0101bf",
   "metadata": {},
   "outputs": [
    {
     "name": "stdout",
     "output_type": "stream",
     "text": [
      "Hello\n",
      "Python\n"
     ]
    }
   ],
   "source": [
    "multi = \"Hello\\nPython\"\n",
    "print(multi)"
   ]
  },
  {
   "cell_type": "code",
   "execution_count": 6,
   "id": "1334f424",
   "metadata": {
    "scrolled": true
   },
   "outputs": [
    {
     "name": "stdout",
     "output_type": "stream",
     "text": [
      "hello\n",
      "python\n",
      "programming\n"
     ]
    }
   ],
   "source": [
    "multiline='''hello\n",
    "python\n",
    "programming'''\n",
    "\n",
    "print(multiline)"
   ]
  },
  {
   "cell_type": "code",
   "execution_count": 12,
   "id": "d54df9eb",
   "metadata": {
    "scrolled": true
   },
   "outputs": [
    {
     "name": "stdout",
     "output_type": "stream",
     "text": [
      "파이썬은 재미있다\n",
      "파이썬은재미있다\n",
      "파이썬은\n",
      "재미있다\n"
     ]
    }
   ],
   "source": [
    "head='파이썬은'\n",
    "tail='재미있다'\n",
    "print(head,tail)\n",
    "print(head + tail)\n",
    "\n",
    "print(head + '\\n' + tail)"
   ]
  },
  {
   "cell_type": "code",
   "execution_count": 15,
   "id": "7dbdafbd",
   "metadata": {},
   "outputs": [
    {
     "name": "stdout",
     "output_type": "stream",
     "text": [
      "홍길동  33\n",
      "홍길동 33\n"
     ]
    }
   ],
   "source": [
    "name = '홍길동 '\n",
    "age = 33\n",
    "print(name,age)\n",
    "print(name + str(age))"
   ]
  },
  {
   "cell_type": "code",
   "execution_count": null,
   "id": "8b84512a",
   "metadata": {},
   "outputs": [],
   "source": []
  },
  {
   "cell_type": "code",
   "execution_count": 20,
   "id": "e717b942",
   "metadata": {},
   "outputs": [
    {
     "name": "stdout",
     "output_type": "stream",
     "text": [
      "Lif\n"
     ]
    }
   ],
   "source": [
    "xx = 'Life is too short'\n",
    "print(xx[0:3])"
   ]
  },
  {
   "cell_type": "markdown",
   "id": "25333623",
   "metadata": {},
   "source": [
    "# 문자열과 관련된 함수"
   ]
  },
  {
   "cell_type": "code",
   "execution_count": 23,
   "id": "4c835a6d",
   "metadata": {},
   "outputs": [
    {
     "name": "stdout",
     "output_type": "stream",
     "text": [
      "True\n",
      "False\n"
     ]
    }
   ],
   "source": [
    "str = ' Hello World '\n",
    "\n",
    "print('World' in str)\n",
    "\n",
    "print('World' not in str)"
   ]
  },
  {
   "cell_type": "code",
   "execution_count": 24,
   "id": "b86a47ec",
   "metadata": {},
   "outputs": [],
   "source": [
    "import math"
   ]
  },
  {
   "cell_type": "code",
   "execution_count": 26,
   "id": "180702bc",
   "metadata": {},
   "outputs": [
    {
     "name": "stdout",
     "output_type": "stream",
     "text": [
      "3.141592653589793\n"
     ]
    }
   ],
   "source": [
    "print(math.pi)"
   ]
  },
  {
   "cell_type": "code",
   "execution_count": 36,
   "id": "65ae2077",
   "metadata": {},
   "outputs": [
    {
     "name": "stdout",
     "output_type": "stream",
     "text": [
      "1\n"
     ]
    },
    {
     "data": {
      "text/plain": [
       "2"
      ]
     },
     "execution_count": 36,
     "metadata": {},
     "output_type": "execute_result"
    }
   ],
   "source": [
    "a='hobby'\n",
    "print(a.count('o'))\n",
    "\n",
    "a.find('b')"
   ]
  },
  {
   "cell_type": "code",
   "execution_count": 43,
   "id": "6f8f6b36",
   "metadata": {},
   "outputs": [
    {
     "name": "stdout",
     "output_type": "stream",
     "text": [
      "0\n"
     ]
    }
   ],
   "source": [
    "b = 'have a nice today'\n",
    "\n",
    "print(b.index('have'))\n"
   ]
  },
  {
   "cell_type": "code",
   "execution_count": 46,
   "id": "17e904a2",
   "metadata": {},
   "outputs": [
    {
     "data": {
      "text/plain": [
       "<function str.upper()>"
      ]
     },
     "execution_count": 46,
     "metadata": {},
     "output_type": "execute_result"
    }
   ],
   "source": [
    "','.join('abcd')\n"
   ]
  },
  {
   "cell_type": "code",
   "execution_count": 50,
   "id": "fd910240",
   "metadata": {},
   "outputs": [
    {
     "ename": "NameError",
     "evalue": "name 'upper' is not defined",
     "output_type": "error",
     "traceback": [
      "\u001b[1;31m---------------------------------------------------------------------------\u001b[0m",
      "\u001b[1;31mNameError\u001b[0m                                 Traceback (most recent call last)",
      "\u001b[1;32m<ipython-input-50-7e5cf1ac3e19>\u001b[0m in \u001b[0;36m<module>\u001b[1;34m\u001b[0m\n\u001b[0;32m      1\u001b[0m \u001b[1;34m'abcd'\u001b[0m\u001b[1;33m.\u001b[0m\u001b[0mupper\u001b[0m\u001b[1;33m(\u001b[0m\u001b[1;33m)\u001b[0m\u001b[1;33m\u001b[0m\u001b[1;33m\u001b[0m\u001b[0m\n\u001b[1;32m----> 2\u001b[1;33m \u001b[0mhelp\u001b[0m\u001b[1;33m(\u001b[0m\u001b[0mupper\u001b[0m\u001b[1;33m)\u001b[0m\u001b[1;33m\u001b[0m\u001b[1;33m\u001b[0m\u001b[0m\n\u001b[0m",
      "\u001b[1;31mNameError\u001b[0m: name 'upper' is not defined"
     ]
    }
   ],
   "source": [
    "'abcd'.upper()\n"
   ]
  },
  {
   "cell_type": "code",
   "execution_count": 55,
   "id": "7599bc78",
   "metadata": {},
   "outputs": [
    {
     "data": {
      "text/plain": [
       "'Hello'"
      ]
     },
     "execution_count": 55,
     "metadata": {},
     "output_type": "execute_result"
    }
   ],
   "source": [
    "#첫글자만 대문자 capitalize\n",
    "\n",
    "data='hello'\n",
    "data.capitalize()\n",
    "\n"
   ]
  },
  {
   "cell_type": "code",
   "execution_count": null,
   "id": "7fac43a6",
   "metadata": {},
   "outputs": [],
   "source": []
  },
  {
   "cell_type": "code",
   "execution_count": 58,
   "id": "e6f0bc66",
   "metadata": {},
   "outputs": [
    {
     "name": "stdout",
     "output_type": "stream",
     "text": [
      "hello\n",
      " hello\n"
     ]
    }
   ],
   "source": [
    "#공백 제거 : strip , rstrip , lstrip\n",
    "\n",
    "data = ' hello '\n",
    "print(data.strip())\n",
    "\n",
    "print(data.rstrip())"
   ]
  },
  {
   "cell_type": "code",
   "execution_count": 60,
   "id": "9cb24d86",
   "metadata": {},
   "outputs": [
    {
     "name": "stdout",
     "output_type": "stream",
     "text": [
      "신입 개발자 \n",
      " 경력 개발자\n"
     ]
    }
   ],
   "source": [
    " # replace ( 치환 ) : 문자열을 특정 문자열로 대체\n",
    "\n",
    "a = '신입 개발자'\n",
    "result = a.replace('신입' , '경력')\n",
    "print(a,'\\n',result)"
   ]
  },
  {
   "cell_type": "code",
   "execution_count": null,
   "id": "c3e94c07",
   "metadata": {},
   "outputs": [],
   "source": []
  },
  {
   "cell_type": "code",
   "execution_count": 63,
   "id": "bec0017e",
   "metadata": {},
   "outputs": [
    {
     "name": "stdout",
     "output_type": "stream",
     "text": [
      "['신입', '개발자', '자바', '파이썬', '가능자']\n"
     ]
    }
   ],
   "source": [
    "a='신입 개발자 자바 파이썬 가능자'\n",
    "result = a.split()\n",
    "print(result)"
   ]
  },
  {
   "cell_type": "code",
   "execution_count": 64,
   "id": "bdfbc17a",
   "metadata": {},
   "outputs": [
    {
     "data": {
      "text/plain": [
       "['A', 'B', 'C', 'D']"
      ]
     },
     "execution_count": 64,
     "metadata": {},
     "output_type": "execute_result"
    }
   ],
   "source": [
    "a = 'A:B:C:D'\n",
    "a.split(':')"
   ]
  },
  {
   "cell_type": "code",
   "execution_count": 71,
   "id": "c43573c7",
   "metadata": {},
   "outputs": [
    {
     "name": "stdout",
     "output_type": "stream",
     "text": [
      "1 2 3\n",
      "4 5 6\n"
     ]
    }
   ],
   "source": [
    "print(1,2,3 )\n",
    "print(4,5,6)\n",
    "\n",
    "#print는 출력내용 옆에 sep='\\n' 라는 구분기호가 있음."
   ]
  },
  {
   "cell_type": "code",
   "execution_count": null,
   "id": "0a371680",
   "metadata": {},
   "outputs": [],
   "source": []
  },
  {
   "cell_type": "code",
   "execution_count": null,
   "id": "16bb9eea",
   "metadata": {},
   "outputs": [],
   "source": []
  },
  {
   "cell_type": "code",
   "execution_count": null,
   "id": "b65670d1",
   "metadata": {},
   "outputs": [],
   "source": []
  },
  {
   "cell_type": "code",
   "execution_count": null,
   "id": "fb79264f",
   "metadata": {},
   "outputs": [],
   "source": []
  },
  {
   "cell_type": "code",
   "execution_count": null,
   "id": "8e09ca98",
   "metadata": {},
   "outputs": [],
   "source": []
  },
  {
   "cell_type": "code",
   "execution_count": null,
   "id": "9096a69d",
   "metadata": {},
   "outputs": [],
   "source": []
  },
  {
   "cell_type": "code",
   "execution_count": null,
   "id": "aa0617c4",
   "metadata": {},
   "outputs": [],
   "source": []
  }
 ],
 "metadata": {
  "kernelspec": {
   "display_name": "Python 3",
   "language": "python",
   "name": "python3"
  },
  "language_info": {
   "codemirror_mode": {
    "name": "ipython",
    "version": 3
   },
   "file_extension": ".py",
   "mimetype": "text/x-python",
   "name": "python",
   "nbconvert_exporter": "python",
   "pygments_lexer": "ipython3",
   "version": "3.8.8"
  },
  "toc": {
   "base_numbering": 1,
   "nav_menu": {},
   "number_sections": true,
   "sideBar": true,
   "skip_h1_title": false,
   "title_cell": "Table of Contents",
   "title_sidebar": "Contents",
   "toc_cell": false,
   "toc_position": {},
   "toc_section_display": true,
   "toc_window_display": false
  }
 },
 "nbformat": 4,
 "nbformat_minor": 5
}
