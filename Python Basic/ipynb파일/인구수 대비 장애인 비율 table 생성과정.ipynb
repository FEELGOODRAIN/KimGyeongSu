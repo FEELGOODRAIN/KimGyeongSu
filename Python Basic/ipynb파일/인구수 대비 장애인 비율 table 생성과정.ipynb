{
 "cells": [
  {
   "cell_type": "code",
   "execution_count": 45,
   "id": "2b11a5f0",
   "metadata": {
    "ExecuteTime": {
     "end_time": "2023-10-17T07:13:38.276793Z",
     "start_time": "2023-10-17T07:13:38.269162Z"
    }
   },
   "outputs": [],
   "source": [
    "import numpy as np\n",
    "import pandas as pd\n",
    "import matplotlib as mpl\n",
    "import matplotlib.pyplot as plt\n",
    "%matplotlib inline\n",
    "import matplotlib.font_manager as fm\n",
    "import geopandas as gpd"
   ]
  },
  {
   "cell_type": "code",
   "execution_count": 19,
   "id": "6b409002",
   "metadata": {
    "ExecuteTime": {
     "end_time": "2023-10-17T06:01:01.377120Z",
     "start_time": "2023-10-17T06:01:00.799145Z"
    }
   },
   "outputs": [],
   "source": [
    "#장애인들의 구별 분포 데이터 불러오기\n",
    "b = gpd.read_file('TL_DSPSN_TY_ST_2020.shp')"
   ]
  },
  {
   "cell_type": "code",
   "execution_count": 20,
   "id": "09d2bdf9",
   "metadata": {
    "ExecuteTime": {
     "end_time": "2023-10-17T06:01:03.019393Z",
     "start_time": "2023-10-17T06:01:03.013266Z"
    }
   },
   "outputs": [
    {
     "data": {
      "text/plain": [
       "Index(['ID', 'BR_YY', 'GU_NAM', 'ADM_DR_NM', 'MN_PH', 'WN_PH', 'MN_BD',\n",
       "       'WN_BD', 'MN_VD', 'WN_VD', 'MN_HI', 'WN_HI', 'MN_SD', 'WN_SD', 'MN_MW',\n",
       "       'WN_MW', 'MN_AD', 'WN_AD', 'MN_MH', 'WN_MH', 'MN_RD', 'WN_RD', 'MN_HT',\n",
       "       'WN_HT', 'MN_RP', 'WN_RP', 'MN_HP', 'WN_HP', 'MN_FC', 'WN_FC', 'MN_CN',\n",
       "       'WN_CN', 'MN_TA', 'WN_TA', 'MN_OT', 'WN_OT', 'OT_ALL', 'geometry'],\n",
       "      dtype='object')"
      ]
     },
     "execution_count": 20,
     "metadata": {},
     "output_type": "execute_result"
    }
   ],
   "source": [
    "b.columns"
   ]
  },
  {
   "cell_type": "code",
   "execution_count": 21,
   "id": "c7247c73",
   "metadata": {
    "ExecuteTime": {
     "end_time": "2023-10-17T06:01:06.156879Z",
     "start_time": "2023-10-17T06:01:06.147955Z"
    }
   },
   "outputs": [],
   "source": [
    "#geometry 열은 필요 없으므로 제거.\n",
    "b.drop('geometry' , axis = 1 , inplace = True)"
   ]
  },
  {
   "cell_type": "code",
   "execution_count": 28,
   "id": "70a6d499",
   "metadata": {
    "ExecuteTime": {
     "end_time": "2023-10-17T06:02:16.407530Z",
     "start_time": "2023-10-17T06:02:16.402275Z"
    }
   },
   "outputs": [],
   "source": [
    "#b['sum'] 열에 데이터 안에 있는 모든 value를 행단위로 더하기.\n",
    "b['sum'] = b.iloc[:,4:].sum(axis = 1) "
   ]
  },
  {
   "cell_type": "code",
   "execution_count": 25,
   "id": "9f2b8381",
   "metadata": {
    "ExecuteTime": {
     "end_time": "2023-10-17T06:01:19.089860Z",
     "start_time": "2023-10-17T06:01:19.082385Z"
    }
   },
   "outputs": [],
   "source": [
    "#인구수만 필요하므로 , 위에서 만든 b['sum']과 구내용이 있는 것들로 정리\n",
    "b1 = b[['GU_NAM' , 'sum']]"
   ]
  },
  {
   "cell_type": "code",
   "execution_count": 26,
   "id": "706fc36f",
   "metadata": {
    "ExecuteTime": {
     "end_time": "2023-10-17T06:01:19.894735Z",
     "start_time": "2023-10-17T06:01:19.885153Z"
    }
   },
   "outputs": [],
   "source": [
    "#같은 구도 있을 수 있으므로, 구별로 합계한 것들을 정리\n",
    "b2 = b1.groupby('GU_NAM').sum()"
   ]
  },
  {
   "cell_type": "code",
   "execution_count": 29,
   "id": "b005b42d",
   "metadata": {
    "ExecuteTime": {
     "end_time": "2023-10-17T06:04:46.063546Z",
     "start_time": "2023-10-17T06:04:46.053152Z"
    }
   },
   "outputs": [
    {
     "data": {
      "text/html": [
       "<div>\n",
       "<style scoped>\n",
       "    .dataframe tbody tr th:only-of-type {\n",
       "        vertical-align: middle;\n",
       "    }\n",
       "\n",
       "    .dataframe tbody tr th {\n",
       "        vertical-align: top;\n",
       "    }\n",
       "\n",
       "    .dataframe thead th {\n",
       "        text-align: right;\n",
       "    }\n",
       "</style>\n",
       "<table border=\"1\" class=\"dataframe\">\n",
       "  <thead>\n",
       "    <tr style=\"text-align: right;\">\n",
       "      <th></th>\n",
       "      <th>GU_NAM</th>\n",
       "      <th>sum</th>\n",
       "    </tr>\n",
       "  </thead>\n",
       "  <tbody>\n",
       "    <tr>\n",
       "      <th>0</th>\n",
       "      <td>강남구</td>\n",
       "      <td>46314</td>\n",
       "    </tr>\n",
       "    <tr>\n",
       "      <th>1</th>\n",
       "      <td>강동구</td>\n",
       "      <td>53007</td>\n",
       "    </tr>\n",
       "    <tr>\n",
       "      <th>2</th>\n",
       "      <td>강북구</td>\n",
       "      <td>52551</td>\n",
       "    </tr>\n",
       "    <tr>\n",
       "      <th>3</th>\n",
       "      <td>강서구</td>\n",
       "      <td>86562</td>\n",
       "    </tr>\n",
       "    <tr>\n",
       "      <th>4</th>\n",
       "      <td>관악구</td>\n",
       "      <td>60897</td>\n",
       "    </tr>\n",
       "  </tbody>\n",
       "</table>\n",
       "</div>"
      ],
      "text/plain": [
       "  GU_NAM    sum\n",
       "0    강남구  46314\n",
       "1    강동구  53007\n",
       "2    강북구  52551\n",
       "3    강서구  86562\n",
       "4    관악구  60897"
      ]
     },
     "execution_count": 29,
     "metadata": {},
     "output_type": "execute_result"
    }
   ],
   "source": [
    "#정리된 데이터에서 인덱스를 열로 빼기\n",
    "b3 = b2.reset_index()\n",
    "b3.head()"
   ]
  },
  {
   "cell_type": "code",
   "execution_count": 33,
   "id": "df6c21f1",
   "metadata": {
    "ExecuteTime": {
     "end_time": "2023-10-17T06:09:12.688751Z",
     "start_time": "2023-10-17T06:09:12.658086Z"
    }
   },
   "outputs": [
    {
     "data": {
      "text/html": [
       "<div>\n",
       "<style scoped>\n",
       "    .dataframe tbody tr th:only-of-type {\n",
       "        vertical-align: middle;\n",
       "    }\n",
       "\n",
       "    .dataframe tbody tr th {\n",
       "        vertical-align: top;\n",
       "    }\n",
       "\n",
       "    .dataframe thead th {\n",
       "        text-align: right;\n",
       "    }\n",
       "</style>\n",
       "<table border=\"1\" class=\"dataframe\">\n",
       "  <thead>\n",
       "    <tr style=\"text-align: right;\">\n",
       "      <th></th>\n",
       "      <th>동별(1)</th>\n",
       "      <th>동별(2)</th>\n",
       "      <th>2019</th>\n",
       "      <th>2019.1</th>\n",
       "      <th>2019.2</th>\n",
       "      <th>2019.3</th>\n",
       "      <th>2019.4</th>\n",
       "      <th>2019.5</th>\n",
       "    </tr>\n",
       "  </thead>\n",
       "  <tbody>\n",
       "    <tr>\n",
       "      <th>0</th>\n",
       "      <td>동별(1)</td>\n",
       "      <td>동별(2)</td>\n",
       "      <td>세대 (세대)</td>\n",
       "      <td>계 (명)</td>\n",
       "      <td>한국인 (명)</td>\n",
       "      <td>등록외국인 (명)</td>\n",
       "      <td>세대당인구 (명)</td>\n",
       "      <td>65세이상고령자 (명)</td>\n",
       "    </tr>\n",
       "    <tr>\n",
       "      <th>1</th>\n",
       "      <td>합계</td>\n",
       "      <td>소계</td>\n",
       "      <td>4327605</td>\n",
       "      <td>10010983</td>\n",
       "      <td>9729107</td>\n",
       "      <td>281876</td>\n",
       "      <td>2.25</td>\n",
       "      <td>1485272</td>\n",
       "    </tr>\n",
       "    <tr>\n",
       "      <th>2</th>\n",
       "      <td>합계</td>\n",
       "      <td>종로구</td>\n",
       "      <td>73947</td>\n",
       "      <td>161869</td>\n",
       "      <td>151290</td>\n",
       "      <td>10579</td>\n",
       "      <td>2.05</td>\n",
       "      <td>27519</td>\n",
       "    </tr>\n",
       "    <tr>\n",
       "      <th>3</th>\n",
       "      <td>합계</td>\n",
       "      <td>중구</td>\n",
       "      <td>62739</td>\n",
       "      <td>136488</td>\n",
       "      <td>126171</td>\n",
       "      <td>10317</td>\n",
       "      <td>2.01</td>\n",
       "      <td>23275</td>\n",
       "    </tr>\n",
       "    <tr>\n",
       "      <th>4</th>\n",
       "      <td>합계</td>\n",
       "      <td>용산구</td>\n",
       "      <td>110126</td>\n",
       "      <td>245185</td>\n",
       "      <td>228670</td>\n",
       "      <td>16515</td>\n",
       "      <td>2.08</td>\n",
       "      <td>38791</td>\n",
       "    </tr>\n",
       "    <tr>\n",
       "      <th>5</th>\n",
       "      <td>합계</td>\n",
       "      <td>성동구</td>\n",
       "      <td>135838</td>\n",
       "      <td>308979</td>\n",
       "      <td>300889</td>\n",
       "      <td>8090</td>\n",
       "      <td>2.22</td>\n",
       "      <td>43947</td>\n",
       "    </tr>\n",
       "    <tr>\n",
       "      <th>6</th>\n",
       "      <td>합계</td>\n",
       "      <td>광진구</td>\n",
       "      <td>164428</td>\n",
       "      <td>366972</td>\n",
       "      <td>351350</td>\n",
       "      <td>15622</td>\n",
       "      <td>2.14</td>\n",
       "      <td>47902</td>\n",
       "    </tr>\n",
       "    <tr>\n",
       "      <th>7</th>\n",
       "      <td>합계</td>\n",
       "      <td>동대문구</td>\n",
       "      <td>164191</td>\n",
       "      <td>363023</td>\n",
       "      <td>346194</td>\n",
       "      <td>16829</td>\n",
       "      <td>2.11</td>\n",
       "      <td>59350</td>\n",
       "    </tr>\n",
       "    <tr>\n",
       "      <th>8</th>\n",
       "      <td>합계</td>\n",
       "      <td>중랑구</td>\n",
       "      <td>181579</td>\n",
       "      <td>402024</td>\n",
       "      <td>397015</td>\n",
       "      <td>5009</td>\n",
       "      <td>2.19</td>\n",
       "      <td>65164</td>\n",
       "    </tr>\n",
       "    <tr>\n",
       "      <th>9</th>\n",
       "      <td>합계</td>\n",
       "      <td>성북구</td>\n",
       "      <td>192592</td>\n",
       "      <td>454744</td>\n",
       "      <td>442650</td>\n",
       "      <td>12094</td>\n",
       "      <td>2.30</td>\n",
       "      <td>70850</td>\n",
       "    </tr>\n",
       "    <tr>\n",
       "      <th>10</th>\n",
       "      <td>합계</td>\n",
       "      <td>강북구</td>\n",
       "      <td>144277</td>\n",
       "      <td>317695</td>\n",
       "      <td>313954</td>\n",
       "      <td>3741</td>\n",
       "      <td>2.18</td>\n",
       "      <td>60577</td>\n",
       "    </tr>\n",
       "    <tr>\n",
       "      <th>11</th>\n",
       "      <td>합계</td>\n",
       "      <td>도봉구</td>\n",
       "      <td>138508</td>\n",
       "      <td>335631</td>\n",
       "      <td>333362</td>\n",
       "      <td>2269</td>\n",
       "      <td>2.41</td>\n",
       "      <td>58714</td>\n",
       "    </tr>\n",
       "    <tr>\n",
       "      <th>12</th>\n",
       "      <td>합계</td>\n",
       "      <td>노원구</td>\n",
       "      <td>216966</td>\n",
       "      <td>537303</td>\n",
       "      <td>532905</td>\n",
       "      <td>4398</td>\n",
       "      <td>2.46</td>\n",
       "      <td>80923</td>\n",
       "    </tr>\n",
       "    <tr>\n",
       "      <th>13</th>\n",
       "      <td>합계</td>\n",
       "      <td>은평구</td>\n",
       "      <td>207681</td>\n",
       "      <td>484546</td>\n",
       "      <td>480032</td>\n",
       "      <td>4514</td>\n",
       "      <td>2.31</td>\n",
       "      <td>80738</td>\n",
       "    </tr>\n",
       "    <tr>\n",
       "      <th>14</th>\n",
       "      <td>합계</td>\n",
       "      <td>서대문구</td>\n",
       "      <td>140157</td>\n",
       "      <td>323171</td>\n",
       "      <td>309397</td>\n",
       "      <td>13774</td>\n",
       "      <td>2.21</td>\n",
       "      <td>52074</td>\n",
       "    </tr>\n",
       "    <tr>\n",
       "      <th>15</th>\n",
       "      <td>합계</td>\n",
       "      <td>마포구</td>\n",
       "      <td>175023</td>\n",
       "      <td>385925</td>\n",
       "      <td>374035</td>\n",
       "      <td>11890</td>\n",
       "      <td>2.14</td>\n",
       "      <td>52429</td>\n",
       "    </tr>\n",
       "    <tr>\n",
       "      <th>16</th>\n",
       "      <td>합계</td>\n",
       "      <td>양천구</td>\n",
       "      <td>177256</td>\n",
       "      <td>462285</td>\n",
       "      <td>458165</td>\n",
       "      <td>4120</td>\n",
       "      <td>2.58</td>\n",
       "      <td>61264</td>\n",
       "    </tr>\n",
       "    <tr>\n",
       "      <th>17</th>\n",
       "      <td>합계</td>\n",
       "      <td>강서구</td>\n",
       "      <td>262708</td>\n",
       "      <td>598273</td>\n",
       "      <td>591796</td>\n",
       "      <td>6477</td>\n",
       "      <td>2.25</td>\n",
       "      <td>84077</td>\n",
       "    </tr>\n",
       "    <tr>\n",
       "      <th>18</th>\n",
       "      <td>합계</td>\n",
       "      <td>구로구</td>\n",
       "      <td>176568</td>\n",
       "      <td>439371</td>\n",
       "      <td>406664</td>\n",
       "      <td>32707</td>\n",
       "      <td>2.30</td>\n",
       "      <td>65779</td>\n",
       "    </tr>\n",
       "    <tr>\n",
       "      <th>19</th>\n",
       "      <td>합계</td>\n",
       "      <td>금천구</td>\n",
       "      <td>110622</td>\n",
       "      <td>251820</td>\n",
       "      <td>232810</td>\n",
       "      <td>19010</td>\n",
       "      <td>2.10</td>\n",
       "      <td>37660</td>\n",
       "    </tr>\n",
       "    <tr>\n",
       "      <th>20</th>\n",
       "      <td>합계</td>\n",
       "      <td>영등포구</td>\n",
       "      <td>174806</td>\n",
       "      <td>400986</td>\n",
       "      <td>367678</td>\n",
       "      <td>33308</td>\n",
       "      <td>2.10</td>\n",
       "      <td>57872</td>\n",
       "    </tr>\n",
       "    <tr>\n",
       "      <th>21</th>\n",
       "      <td>합계</td>\n",
       "      <td>동작구</td>\n",
       "      <td>180753</td>\n",
       "      <td>408912</td>\n",
       "      <td>395963</td>\n",
       "      <td>12949</td>\n",
       "      <td>2.19</td>\n",
       "      <td>62226</td>\n",
       "    </tr>\n",
       "    <tr>\n",
       "      <th>22</th>\n",
       "      <td>합계</td>\n",
       "      <td>관악구</td>\n",
       "      <td>268559</td>\n",
       "      <td>517334</td>\n",
       "      <td>500094</td>\n",
       "      <td>17240</td>\n",
       "      <td>1.86</td>\n",
       "      <td>75194</td>\n",
       "    </tr>\n",
       "    <tr>\n",
       "      <th>23</th>\n",
       "      <td>합계</td>\n",
       "      <td>서초구</td>\n",
       "      <td>173199</td>\n",
       "      <td>435107</td>\n",
       "      <td>430826</td>\n",
       "      <td>4281</td>\n",
       "      <td>2.49</td>\n",
       "      <td>57136</td>\n",
       "    </tr>\n",
       "    <tr>\n",
       "      <th>24</th>\n",
       "      <td>합계</td>\n",
       "      <td>강남구</td>\n",
       "      <td>232981</td>\n",
       "      <td>550209</td>\n",
       "      <td>545169</td>\n",
       "      <td>5040</td>\n",
       "      <td>2.34</td>\n",
       "      <td>71025</td>\n",
       "    </tr>\n",
       "    <tr>\n",
       "      <th>25</th>\n",
       "      <td>합계</td>\n",
       "      <td>송파구</td>\n",
       "      <td>278711</td>\n",
       "      <td>682741</td>\n",
       "      <td>675961</td>\n",
       "      <td>6780</td>\n",
       "      <td>2.43</td>\n",
       "      <td>87334</td>\n",
       "    </tr>\n",
       "    <tr>\n",
       "      <th>26</th>\n",
       "      <td>합계</td>\n",
       "      <td>강동구</td>\n",
       "      <td>183390</td>\n",
       "      <td>440390</td>\n",
       "      <td>436067</td>\n",
       "      <td>4323</td>\n",
       "      <td>2.38</td>\n",
       "      <td>63452</td>\n",
       "    </tr>\n",
       "  </tbody>\n",
       "</table>\n",
       "</div>"
      ],
      "text/plain": [
       "    동별(1)  동별(2)     2019    2019.1   2019.2     2019.3     2019.4  \\\n",
       "0   동별(1)  동별(2)  세대 (세대)     계 (명)  한국인 (명)  등록외국인 (명)  세대당인구 (명)   \n",
       "1      합계     소계  4327605  10010983  9729107     281876       2.25   \n",
       "2      합계    종로구    73947    161869   151290      10579       2.05   \n",
       "3      합계     중구    62739    136488   126171      10317       2.01   \n",
       "4      합계    용산구   110126    245185   228670      16515       2.08   \n",
       "5      합계    성동구   135838    308979   300889       8090       2.22   \n",
       "6      합계    광진구   164428    366972   351350      15622       2.14   \n",
       "7      합계   동대문구   164191    363023   346194      16829       2.11   \n",
       "8      합계    중랑구   181579    402024   397015       5009       2.19   \n",
       "9      합계    성북구   192592    454744   442650      12094       2.30   \n",
       "10     합계    강북구   144277    317695   313954       3741       2.18   \n",
       "11     합계    도봉구   138508    335631   333362       2269       2.41   \n",
       "12     합계    노원구   216966    537303   532905       4398       2.46   \n",
       "13     합계    은평구   207681    484546   480032       4514       2.31   \n",
       "14     합계   서대문구   140157    323171   309397      13774       2.21   \n",
       "15     합계    마포구   175023    385925   374035      11890       2.14   \n",
       "16     합계    양천구   177256    462285   458165       4120       2.58   \n",
       "17     합계    강서구   262708    598273   591796       6477       2.25   \n",
       "18     합계    구로구   176568    439371   406664      32707       2.30   \n",
       "19     합계    금천구   110622    251820   232810      19010       2.10   \n",
       "20     합계   영등포구   174806    400986   367678      33308       2.10   \n",
       "21     합계    동작구   180753    408912   395963      12949       2.19   \n",
       "22     합계    관악구   268559    517334   500094      17240       1.86   \n",
       "23     합계    서초구   173199    435107   430826       4281       2.49   \n",
       "24     합계    강남구   232981    550209   545169       5040       2.34   \n",
       "25     합계    송파구   278711    682741   675961       6780       2.43   \n",
       "26     합계    강동구   183390    440390   436067       4323       2.38   \n",
       "\n",
       "          2019.5  \n",
       "0   65세이상고령자 (명)  \n",
       "1        1485272  \n",
       "2          27519  \n",
       "3          23275  \n",
       "4          38791  \n",
       "5          43947  \n",
       "6          47902  \n",
       "7          59350  \n",
       "8          65164  \n",
       "9          70850  \n",
       "10         60577  \n",
       "11         58714  \n",
       "12         80923  \n",
       "13         80738  \n",
       "14         52074  \n",
       "15         52429  \n",
       "16         61264  \n",
       "17         84077  \n",
       "18         65779  \n",
       "19         37660  \n",
       "20         57872  \n",
       "21         62226  \n",
       "22         75194  \n",
       "23         57136  \n",
       "24         71025  \n",
       "25         87334  \n",
       "26         63452  "
      ]
     },
     "execution_count": 33,
     "metadata": {},
     "output_type": "execute_result"
    }
   ],
   "source": [
    "#구별 전체 인구 데이터 불러오기\n",
    "c = pd.read_csv('주민등록인구_20231013155233.csv')\n",
    "c"
   ]
  },
  {
   "cell_type": "code",
   "execution_count": 34,
   "id": "7d01eb1f",
   "metadata": {
    "ExecuteTime": {
     "end_time": "2023-10-17T06:09:13.238496Z",
     "start_time": "2023-10-17T06:09:13.233707Z"
    }
   },
   "outputs": [],
   "source": [
    "#위의 c 데이터에서 구별과 총 인구수만 가져오기\n",
    "c1 = c.iloc[:,[1,3]]"
   ]
  },
  {
   "cell_type": "code",
   "execution_count": 35,
   "id": "832e51ed",
   "metadata": {
    "ExecuteTime": {
     "end_time": "2023-10-17T06:09:14.318489Z",
     "start_time": "2023-10-17T06:09:14.312218Z"
    }
   },
   "outputs": [],
   "source": [
    "#위쪽에 소계 행 제거\n",
    "c2 = c1.loc[2:]"
   ]
  },
  {
   "cell_type": "code",
   "execution_count": 36,
   "id": "336fe1c8",
   "metadata": {
    "ExecuteTime": {
     "end_time": "2023-10-17T06:09:14.614661Z",
     "start_time": "2023-10-17T06:09:14.606155Z"
    },
    "scrolled": true
   },
   "outputs": [
    {
     "name": "stderr",
     "output_type": "stream",
     "text": [
      "C:\\Users\\NT551_11TH\\AppData\\Local\\Temp\\ipykernel_9172\\3644988285.py:2: SettingWithCopyWarning: \n",
      "A value is trying to be set on a copy of a slice from a DataFrame\n",
      "\n",
      "See the caveats in the documentation: https://pandas.pydata.org/pandas-docs/stable/user_guide/indexing.html#returning-a-view-versus-a-copy\n",
      "  c2.rename(columns = {'동별(2)' : 'dong'} , inplace = True)\n"
     ]
    }
   ],
   "source": [
    "#b3와 c2를 합치기 위해 '구별' 열을 'dong'로 바꿈\n",
    "c2.rename(columns = {'동별(2)' : 'dong'} , inplace = True)"
   ]
  },
  {
   "cell_type": "markdown",
   "id": "28df995a",
   "metadata": {},
   "source": [
    "- 여기에서 경고문과 함께 b3의 구별 column을 'dong'으로 바꿀 수 없었음. 그래서 c2쪽에서 b3의 열이름에 맞게 다시 재설정"
   ]
  },
  {
   "cell_type": "code",
   "execution_count": 37,
   "id": "9a23fe61",
   "metadata": {
    "ExecuteTime": {
     "end_time": "2023-10-17T06:09:16.756963Z",
     "start_time": "2023-10-17T06:09:16.748693Z"
    }
   },
   "outputs": [],
   "source": [
    "c2 = c2.rename(columns = {'dong' : 'GU_NAM'})"
   ]
  },
  {
   "cell_type": "code",
   "execution_count": 23,
   "id": "64860f94",
   "metadata": {
    "ExecuteTime": {
     "end_time": "2023-10-15T23:59:05.489193Z",
     "start_time": "2023-10-15T23:59:05.479125Z"
    }
   },
   "outputs": [
    {
     "data": {
      "text/html": [
       "<div>\n",
       "<style scoped>\n",
       "    .dataframe tbody tr th:only-of-type {\n",
       "        vertical-align: middle;\n",
       "    }\n",
       "\n",
       "    .dataframe tbody tr th {\n",
       "        vertical-align: top;\n",
       "    }\n",
       "\n",
       "    .dataframe thead th {\n",
       "        text-align: right;\n",
       "    }\n",
       "</style>\n",
       "<table border=\"1\" class=\"dataframe\">\n",
       "  <thead>\n",
       "    <tr style=\"text-align: right;\">\n",
       "      <th></th>\n",
       "      <th>GU_NAM</th>\n",
       "      <th>sum</th>\n",
       "    </tr>\n",
       "  </thead>\n",
       "  <tbody>\n",
       "    <tr>\n",
       "      <th>0</th>\n",
       "      <td>강남구</td>\n",
       "      <td>46314</td>\n",
       "    </tr>\n",
       "    <tr>\n",
       "      <th>1</th>\n",
       "      <td>강동구</td>\n",
       "      <td>53007</td>\n",
       "    </tr>\n",
       "    <tr>\n",
       "      <th>2</th>\n",
       "      <td>강북구</td>\n",
       "      <td>52551</td>\n",
       "    </tr>\n",
       "    <tr>\n",
       "      <th>3</th>\n",
       "      <td>강서구</td>\n",
       "      <td>86562</td>\n",
       "    </tr>\n",
       "    <tr>\n",
       "      <th>4</th>\n",
       "      <td>관악구</td>\n",
       "      <td>60897</td>\n",
       "    </tr>\n",
       "    <tr>\n",
       "      <th>5</th>\n",
       "      <td>광진구</td>\n",
       "      <td>37689</td>\n",
       "    </tr>\n",
       "    <tr>\n",
       "      <th>6</th>\n",
       "      <td>구로구</td>\n",
       "      <td>54423</td>\n",
       "    </tr>\n",
       "    <tr>\n",
       "      <th>7</th>\n",
       "      <td>금천구</td>\n",
       "      <td>34119</td>\n",
       "    </tr>\n",
       "    <tr>\n",
       "      <th>8</th>\n",
       "      <td>노원구</td>\n",
       "      <td>82026</td>\n",
       "    </tr>\n",
       "    <tr>\n",
       "      <th>9</th>\n",
       "      <td>도봉구</td>\n",
       "      <td>46350</td>\n",
       "    </tr>\n",
       "    <tr>\n",
       "      <th>10</th>\n",
       "      <td>동대문구</td>\n",
       "      <td>47613</td>\n",
       "    </tr>\n",
       "    <tr>\n",
       "      <th>11</th>\n",
       "      <td>동작구</td>\n",
       "      <td>44205</td>\n",
       "    </tr>\n",
       "    <tr>\n",
       "      <th>12</th>\n",
       "      <td>마포구</td>\n",
       "      <td>39357</td>\n",
       "    </tr>\n",
       "    <tr>\n",
       "      <th>13</th>\n",
       "      <td>서대문구</td>\n",
       "      <td>37836</td>\n",
       "    </tr>\n",
       "    <tr>\n",
       "      <th>14</th>\n",
       "      <td>서초구</td>\n",
       "      <td>31668</td>\n",
       "    </tr>\n",
       "    <tr>\n",
       "      <th>15</th>\n",
       "      <td>성동구</td>\n",
       "      <td>35058</td>\n",
       "    </tr>\n",
       "    <tr>\n",
       "      <th>16</th>\n",
       "      <td>성북구</td>\n",
       "      <td>53061</td>\n",
       "    </tr>\n",
       "    <tr>\n",
       "      <th>17</th>\n",
       "      <td>송파구</td>\n",
       "      <td>60840</td>\n",
       "    </tr>\n",
       "    <tr>\n",
       "      <th>18</th>\n",
       "      <td>양천구</td>\n",
       "      <td>52368</td>\n",
       "    </tr>\n",
       "    <tr>\n",
       "      <th>19</th>\n",
       "      <td>영등포구</td>\n",
       "      <td>43230</td>\n",
       "    </tr>\n",
       "    <tr>\n",
       "      <th>20</th>\n",
       "      <td>용산구</td>\n",
       "      <td>24075</td>\n",
       "    </tr>\n",
       "    <tr>\n",
       "      <th>21</th>\n",
       "      <td>은평구</td>\n",
       "      <td>64851</td>\n",
       "    </tr>\n",
       "    <tr>\n",
       "      <th>22</th>\n",
       "      <td>종로구</td>\n",
       "      <td>18201</td>\n",
       "    </tr>\n",
       "    <tr>\n",
       "      <th>23</th>\n",
       "      <td>중구</td>\n",
       "      <td>17136</td>\n",
       "    </tr>\n",
       "    <tr>\n",
       "      <th>24</th>\n",
       "      <td>중랑구</td>\n",
       "      <td>61083</td>\n",
       "    </tr>\n",
       "  </tbody>\n",
       "</table>\n",
       "</div>"
      ],
      "text/plain": [
       "   GU_NAM    sum\n",
       "0     강남구  46314\n",
       "1     강동구  53007\n",
       "2     강북구  52551\n",
       "3     강서구  86562\n",
       "4     관악구  60897\n",
       "5     광진구  37689\n",
       "6     구로구  54423\n",
       "7     금천구  34119\n",
       "8     노원구  82026\n",
       "9     도봉구  46350\n",
       "10   동대문구  47613\n",
       "11    동작구  44205\n",
       "12    마포구  39357\n",
       "13   서대문구  37836\n",
       "14    서초구  31668\n",
       "15    성동구  35058\n",
       "16    성북구  53061\n",
       "17    송파구  60840\n",
       "18    양천구  52368\n",
       "19   영등포구  43230\n",
       "20    용산구  24075\n",
       "21    은평구  64851\n",
       "22    종로구  18201\n",
       "23     중구  17136\n",
       "24    중랑구  61083"
      ]
     },
     "execution_count": 23,
     "metadata": {},
     "output_type": "execute_result"
    }
   ],
   "source": [
    "b3"
   ]
  },
  {
   "cell_type": "markdown",
   "id": "f7f5130c",
   "metadata": {},
   "source": [
    "- c2(구별 총인구)의 구별 column과 b3(구별 장애인 인구)의 구별 column이 일치."
   ]
  },
  {
   "cell_type": "code",
   "execution_count": 38,
   "id": "5aa12b5e",
   "metadata": {
    "ExecuteTime": {
     "end_time": "2023-10-17T06:09:20.739191Z",
     "start_time": "2023-10-17T06:09:20.715312Z"
    }
   },
   "outputs": [
    {
     "data": {
      "text/html": [
       "<div>\n",
       "<style scoped>\n",
       "    .dataframe tbody tr th:only-of-type {\n",
       "        vertical-align: middle;\n",
       "    }\n",
       "\n",
       "    .dataframe tbody tr th {\n",
       "        vertical-align: top;\n",
       "    }\n",
       "\n",
       "    .dataframe thead th {\n",
       "        text-align: right;\n",
       "    }\n",
       "</style>\n",
       "<table border=\"1\" class=\"dataframe\">\n",
       "  <thead>\n",
       "    <tr style=\"text-align: right;\">\n",
       "      <th></th>\n",
       "      <th>GU_NAM</th>\n",
       "      <th>2019.1</th>\n",
       "      <th>sum</th>\n",
       "    </tr>\n",
       "  </thead>\n",
       "  <tbody>\n",
       "    <tr>\n",
       "      <th>0</th>\n",
       "      <td>종로구</td>\n",
       "      <td>161869</td>\n",
       "      <td>18201</td>\n",
       "    </tr>\n",
       "    <tr>\n",
       "      <th>1</th>\n",
       "      <td>중구</td>\n",
       "      <td>136488</td>\n",
       "      <td>17136</td>\n",
       "    </tr>\n",
       "    <tr>\n",
       "      <th>2</th>\n",
       "      <td>용산구</td>\n",
       "      <td>245185</td>\n",
       "      <td>24075</td>\n",
       "    </tr>\n",
       "    <tr>\n",
       "      <th>3</th>\n",
       "      <td>성동구</td>\n",
       "      <td>308979</td>\n",
       "      <td>35058</td>\n",
       "    </tr>\n",
       "    <tr>\n",
       "      <th>4</th>\n",
       "      <td>광진구</td>\n",
       "      <td>366972</td>\n",
       "      <td>37689</td>\n",
       "    </tr>\n",
       "  </tbody>\n",
       "</table>\n",
       "</div>"
      ],
      "text/plain": [
       "  GU_NAM  2019.1    sum\n",
       "0    종로구  161869  18201\n",
       "1     중구  136488  17136\n",
       "2    용산구  245185  24075\n",
       "3    성동구  308979  35058\n",
       "4    광진구  366972  37689"
      ]
     },
     "execution_count": 38,
     "metadata": {},
     "output_type": "execute_result"
    }
   ],
   "source": [
    "#c2와 b3를 '구별' column을 기준으로 합치고 total 객체 생성\n",
    "total = pd.merge(c2 , b3 , on = 'GU_NAM')\n",
    "total.head()"
   ]
  },
  {
   "cell_type": "code",
   "execution_count": 40,
   "id": "f9efb4d6",
   "metadata": {
    "ExecuteTime": {
     "end_time": "2023-10-17T06:10:40.009887Z",
     "start_time": "2023-10-17T06:10:40.001906Z"
    }
   },
   "outputs": [],
   "source": [
    "#열 이름들을 알아보기 쉽게 변경\n",
    "total.rename(columns = {'2019.1' : '총인구' , 'sum' : '장애인인구'} , inplace = True)"
   ]
  },
  {
   "cell_type": "code",
   "execution_count": 41,
   "id": "41326017",
   "metadata": {
    "ExecuteTime": {
     "end_time": "2023-10-17T06:10:40.897886Z",
     "start_time": "2023-10-17T06:10:40.880394Z"
    }
   },
   "outputs": [
    {
     "name": "stdout",
     "output_type": "stream",
     "text": [
      "<class 'pandas.core.frame.DataFrame'>\n",
      "Int64Index: 25 entries, 0 to 24\n",
      "Data columns (total 3 columns):\n",
      " #   Column  Non-Null Count  Dtype \n",
      "---  ------  --------------  ----- \n",
      " 0   GU_NAM  25 non-null     object\n",
      " 1   총인구     25 non-null     object\n",
      " 2   장애인인구   25 non-null     int64 \n",
      "dtypes: int64(1), object(2)\n",
      "memory usage: 800.0+ bytes\n"
     ]
    }
   ],
   "source": [
    "total.info()"
   ]
  },
  {
   "cell_type": "markdown",
   "id": "f461fb0b",
   "metadata": {},
   "source": [
    "- total.info()로 보면 . 총인구와 sum열은 연산이 가능해야 하는데. 2019.1은 object로 잡혀있음."
   ]
  },
  {
   "cell_type": "code",
   "execution_count": 42,
   "id": "388ffc7b",
   "metadata": {
    "ExecuteTime": {
     "end_time": "2023-10-17T06:11:01.769514Z",
     "start_time": "2023-10-17T06:11:01.761387Z"
    }
   },
   "outputs": [],
   "source": [
    "#총인구의 Dtype를 int로 바꾸기\n",
    "total['총인구'] = total['총인구'].astype(int)"
   ]
  },
  {
   "cell_type": "code",
   "execution_count": 43,
   "id": "11bd62ce",
   "metadata": {
    "ExecuteTime": {
     "end_time": "2023-10-17T06:11:13.547178Z",
     "start_time": "2023-10-17T06:11:13.539326Z"
    }
   },
   "outputs": [],
   "source": [
    "#새로운 열을 생성하여 총 인구 대비 장애인 비율 추가\n",
    "total['장애인비율'] = total['장애인인구']/total['총인구'] * 100"
   ]
  },
  {
   "cell_type": "code",
   "execution_count": null,
   "id": "2af2383b",
   "metadata": {},
   "outputs": [],
   "source": [
    "tota"
   ]
  },
  {
   "cell_type": "code",
   "execution_count": 34,
   "id": "8e2b87ec",
   "metadata": {
    "ExecuteTime": {
     "end_time": "2023-10-16T00:02:58.332718Z",
     "start_time": "2023-10-16T00:02:58.318700Z"
    }
   },
   "outputs": [],
   "source": [
    "#필요한 데이터셋을 만들었으므로 저장.\n",
    "total.to_csv('장애인 비율 통계.csv')"
   ]
  },
  {
   "cell_type": "code",
   "execution_count": 56,
   "id": "d0b631b6",
   "metadata": {
    "ExecuteTime": {
     "end_time": "2023-10-17T07:23:15.938029Z",
     "start_time": "2023-10-17T07:23:15.928118Z"
    }
   },
   "outputs": [],
   "source": [
    "a = pd.read_csv('장애인 비율 통계.csv' , encoding = 'euc-kr')\n",
    "a.to_csv('장애인 비율 통계1.csv' , encoding = 'utf-8')"
   ]
  }
 ],
 "metadata": {
  "kernelspec": {
   "display_name": "Python 3 (ipykernel)",
   "language": "python",
   "name": "python3"
  },
  "language_info": {
   "codemirror_mode": {
    "name": "ipython",
    "version": 3
   },
   "file_extension": ".py",
   "mimetype": "text/x-python",
   "name": "python",
   "nbconvert_exporter": "python",
   "pygments_lexer": "ipython3",
   "version": "3.8.17"
  },
  "toc": {
   "base_numbering": 1,
   "nav_menu": {},
   "number_sections": true,
   "sideBar": true,
   "skip_h1_title": false,
   "title_cell": "Table of Contents",
   "title_sidebar": "Contents",
   "toc_cell": false,
   "toc_position": {},
   "toc_section_display": true,
   "toc_window_display": false
  }
 },
 "nbformat": 4,
 "nbformat_minor": 5
}
