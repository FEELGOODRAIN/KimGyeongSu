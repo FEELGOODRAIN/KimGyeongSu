{
 "cells": [
  {
   "cell_type": "code",
   "execution_count": 2,
   "id": "a546f432",
   "metadata": {
    "ExecuteTime": {
     "end_time": "2023-08-24T06:51:45.820354Z",
     "start_time": "2023-08-24T06:51:45.810994Z"
    }
   },
   "outputs": [],
   "source": [
    "def menu():\n",
    "    print('==성적처리 프로그램==')\n",
    "    print('1. 신규학생등록')\n",
    "    print('2. 전체성적조회')\n",
    "    print('3. 학생성적조회') # 이름\n",
    "    print('4. 학생정보삭제')\n",
    "    print('5. 학생정보수정')\n",
    "    print('6. 프로그램종료')\n",
    "    print('=====================')\n"
   ]
  },
  {
   "cell_type": "code",
   "execution_count": null,
   "id": "b70180d0",
   "metadata": {
    "ExecuteTime": {
     "end_time": "2023-08-24T06:51:42.675114Z",
     "start_time": "2023-08-24T06:51:42.568421Z"
    }
   },
   "outputs": [],
   "source": []
  },
  {
   "cell_type": "code",
   "execution_count": 3,
   "id": "c5cd298d",
   "metadata": {
    "ExecuteTime": {
     "end_time": "2023-08-24T06:51:47.510609Z",
     "start_time": "2023-08-24T06:51:47.500531Z"
    }
   },
   "outputs": [],
   "source": [
    "def makestudent():\n",
    "    \n",
    "    stu = {}\n",
    "    stu['name'] = input('이름 : ')\n",
    "    stu['kor'] = int(input('국어점수 : '))\n",
    "    stu['eng'] = int(input('영어점수 : '))\n",
    "    stu['math'] = int(input('수학점수 : '))\n",
    "    \n",
    "    \n",
    "    process(stu)\n",
    "    return stu"
   ]
  },
  {
   "cell_type": "code",
   "execution_count": 4,
   "id": "4420fbbf",
   "metadata": {
    "ExecuteTime": {
     "end_time": "2023-08-24T06:51:47.896780Z",
     "start_time": "2023-08-24T06:51:47.881301Z"
    }
   },
   "outputs": [],
   "source": [
    "def search(s):\n",
    "    sw=False\n",
    "\n",
    "    for i in student:\n",
    "        if i['name'] == s:\n",
    "            sw=True\n",
    "            break\n",
    "    if sw==True:\n",
    "         print(i)\n",
    "    else:\n",
    "        print('학생이 존재하지 않습니다')"
   ]
  },
  {
   "cell_type": "code",
   "execution_count": 5,
   "id": "08dbaa38",
   "metadata": {
    "ExecuteTime": {
     "end_time": "2023-08-24T06:51:48.280078Z",
     "start_time": "2023-08-24T06:51:48.265180Z"
    }
   },
   "outputs": [],
   "source": [
    "def process(stu):\n",
    "    stu['총점'] = stu['kor']+stu['eng']+stu['math']\n",
    "    stu['평균'] = round(stu['총점']/3,3)\n",
    "    \n",
    "    if stu['평균']>=90:\n",
    "        stu['학점'] = 'A'\n",
    "    elif stu['평균']<90 and stu['평균']>=80:\n",
    "        stu['학점'] = 'B'\n",
    "    elif stu['평균']<80 and stu['평균']>=70:\n",
    "        stu['학점'] = 'C'\n",
    "    elif stu['평균']<70 and stu['평균']>=60:\n",
    "        stu['학점'] = 'D'\n",
    "    else:\n",
    "        stu['학점'] = 'F'"
   ]
  },
  {
   "cell_type": "code",
   "execution_count": 6,
   "id": "b03e7504",
   "metadata": {
    "ExecuteTime": {
     "end_time": "2023-08-24T06:51:49.110426Z",
     "start_time": "2023-08-24T06:51:49.104310Z"
    }
   },
   "outputs": [],
   "source": [
    "def remove(s):\n",
    "    sw=False\n",
    "\n",
    "    for i in student:\n",
    "        if i['name'] == s:\n",
    "            sw=True\n",
    "            break\n",
    "    if sw==True:\n",
    "        student.remove(i)\n",
    "        print('삭제가 완료되었습니다')\n",
    "    else:\n",
    "        print('학생이 존재하지 않습니다')"
   ]
  },
  {
   "cell_type": "code",
   "execution_count": 7,
   "id": "86e794db",
   "metadata": {
    "ExecuteTime": {
     "end_time": "2023-08-24T06:51:49.984171Z",
     "start_time": "2023-08-24T06:51:49.975669Z"
    }
   },
   "outputs": [],
   "source": [
    "def modify():\n",
    "    name = input('이름 = ')\n",
    "    \n",
    "    for i in student:\n",
    "        if i['name']==name:\n",
    "            i['kor'] = int(input('국어점수 : '))\n",
    "            i['eng'] = int(input('영어점수 : '))\n",
    "            i['math'] = int(input('수학점수 : '))\n",
    "            process(i)\n",
    "            return\n",
    "    print(f'입력한 {name} 학생의 정보가 존재하지 않습니다')"
   ]
  },
  {
   "cell_type": "code",
   "execution_count": null,
   "id": "78e59019",
   "metadata": {
    "ExecuteTime": {
     "end_time": "2023-08-24T05:28:09.627354Z",
     "start_time": "2023-08-24T05:28:09.611218Z"
    }
   },
   "outputs": [],
   "source": []
  },
  {
   "cell_type": "code",
   "execution_count": 8,
   "id": "19c8ad23",
   "metadata": {
    "ExecuteTime": {
     "end_time": "2023-08-24T06:51:52.813839Z",
     "start_time": "2023-08-24T06:51:52.798342Z"
    }
   },
   "outputs": [],
   "source": [
    "student = []"
   ]
  },
  {
   "cell_type": "code",
   "execution_count": 9,
   "id": "83d7059a",
   "metadata": {
    "ExecuteTime": {
     "end_time": "2023-08-24T06:51:58.496988Z",
     "start_time": "2023-08-24T06:51:53.319221Z"
    }
   },
   "outputs": [
    {
     "name": "stdout",
     "output_type": "stream",
     "text": [
      "\n",
      "==성적처리 프로그램==\n",
      "1. 신규학생등록\n",
      "2. 전체성적조회\n",
      "3. 학생성적조회\n",
      "4. 학생정보삭제\n",
      "5. 학생정보수정\n",
      "6. 프로그램종료\n",
      "=====================\n",
      "선택(종료 : 6) : \n",
      "1\n",
      "이름 : 홍길동\n",
      "국어점수 : 80\n",
      "영어점수 : 90\n",
      "수학점수 : 20\n"
     ]
    },
    {
     "ename": "NameError",
     "evalue": "name 'stu' is not defined",
     "output_type": "error",
     "traceback": [
      "\u001b[1;31m---------------------------------------------------------------------------\u001b[0m",
      "\u001b[1;31mNameError\u001b[0m                                 Traceback (most recent call last)",
      "\u001b[1;32m<ipython-input-9-18de76bdbabf>\u001b[0m in \u001b[0;36m<module>\u001b[1;34m\u001b[0m\n\u001b[0;32m      6\u001b[0m     \u001b[1;32mif\u001b[0m \u001b[0mch\u001b[0m\u001b[1;33m==\u001b[0m\u001b[1;36m1\u001b[0m\u001b[1;33m:\u001b[0m\u001b[1;33m\u001b[0m\u001b[1;33m\u001b[0m\u001b[0m\n\u001b[0;32m      7\u001b[0m         \u001b[0mmakestudent\u001b[0m\u001b[1;33m(\u001b[0m\u001b[1;33m)\u001b[0m\u001b[1;33m\u001b[0m\u001b[1;33m\u001b[0m\u001b[0m\n\u001b[1;32m----> 8\u001b[1;33m         \u001b[0mstudent\u001b[0m\u001b[1;33m.\u001b[0m\u001b[0mappend\u001b[0m\u001b[1;33m(\u001b[0m\u001b[0mstu\u001b[0m\u001b[1;33m)\u001b[0m\u001b[1;33m\u001b[0m\u001b[1;33m\u001b[0m\u001b[0m\n\u001b[0m\u001b[0;32m      9\u001b[0m         \u001b[0mprint\u001b[0m\u001b[1;33m(\u001b[0m\u001b[1;34m'등록이 완료되었습니다'\u001b[0m\u001b[1;33m)\u001b[0m\u001b[1;33m\u001b[0m\u001b[1;33m\u001b[0m\u001b[0m\n\u001b[0;32m     10\u001b[0m     \u001b[1;32melif\u001b[0m \u001b[0mch\u001b[0m\u001b[1;33m==\u001b[0m\u001b[1;36m2\u001b[0m\u001b[1;33m:\u001b[0m\u001b[1;33m\u001b[0m\u001b[1;33m\u001b[0m\u001b[0m\n",
      "\u001b[1;31mNameError\u001b[0m: name 'stu' is not defined"
     ]
    }
   ],
   "source": [
    "while True:\n",
    "    print()\n",
    "    menu()\n",
    "    ch = int(input('선택(종료 : 6) : \\n'))\n",
    "    \n",
    "    if ch==1:\n",
    "        makestudent()\n",
    "        student.append(stu)\n",
    "        print('등록이 완료되었습니다')\n",
    "    elif ch==2:\n",
    "        for i in student:\n",
    "            print(i)\n",
    "    elif ch==3:\n",
    "        find = input('조회할 학생 이름을 입력하세요 : \\n')\n",
    "        search(find)\n",
    "        \n",
    "    elif ch==4:\n",
    "        delete = input('삭제할 학생 이름을 입력하세요 : \\n')\n",
    "        remove(delete)\n",
    "        student = student\n",
    "        \n",
    "    elif ch==5:\n",
    "        print('수정할 학생의 정보를 입력하세요 : \\n')\n",
    "        modify()\n",
    "    elif ch==6:\n",
    "        print('프로그램을 종료합니다')\n",
    "        break\n",
    "    else:\n",
    "        print('메뉴의 선택이 올바르지 않습니다')"
   ]
  },
  {
   "cell_type": "code",
   "execution_count": null,
   "id": "976b7af8",
   "metadata": {
    "ExecuteTime": {
     "end_time": "2023-08-24T05:19:27.962595Z",
     "start_time": "2023-08-24T05:19:27.943072Z"
    }
   },
   "outputs": [],
   "source": [
    "print(student)"
   ]
  },
  {
   "cell_type": "code",
   "execution_count": null,
   "id": "9e1a3860",
   "metadata": {
    "ExecuteTime": {
     "end_time": "2023-08-24T06:03:31.893912Z",
     "start_time": "2023-08-24T06:03:20.187848Z"
    }
   },
   "outputs": [],
   "source": [
    "while True:\n",
    "    print()\n",
    "    menu()\n",
    "    ch = int(input('선택(종료 : 6) : \\n'))\n",
    "    \n",
    "    if ch==1:\n",
    "        makestudent()\n",
    "        student.append(stu)\n",
    "        print('등록이 완료되었습니다')\n",
    "    elif ch==2:\n",
    "        for i in student:\n",
    "            print(i)\n",
    "    elif ch==3:\n",
    "        find = input('조회할 학생 이름을 입력하세요 : \\n')\n",
    "        search(find)\n",
    "        \n",
    "    elif ch==4:\n",
    "        show()\n",
    "        \n",
    "    elif ch==5:\n",
    "        print('수정할 학생의 정보를 입력하세요 : \\n')\n",
    "        modify()\n",
    "    elif ch==6:\n",
    "        print('프로그램을 종료합니다')\n",
    "        break\n",
    "    else:\n",
    "        print('메뉴의 선택이 올바르지 않습니다')"
   ]
  },
  {
   "cell_type": "code",
   "execution_count": null,
   "id": "6e9aa51f",
   "metadata": {
    "ExecuteTime": {
     "end_time": "2023-08-24T06:03:18.685067Z",
     "start_time": "2023-08-24T06:03:18.678622Z"
    }
   },
   "outputs": [],
   "source": [
    "def show():\n",
    "    print('검색할 학생의 정보를 입력하세요 : ')\n",
    "    name = input('이름 = ')\n",
    "    \n",
    "    for i in range(len(student)):\n",
    "        if student[i]['name']==name:\n",
    "            print(student[i])\n",
    "            check = input('삭제? y/n : ')\n",
    "            if check=='y' or check=='Y':\n",
    "                del student[i]\n",
    "            return"
   ]
  }
 ],
 "metadata": {
  "kernelspec": {
   "display_name": "Python 3",
   "language": "python",
   "name": "python3"
  },
  "language_info": {
   "codemirror_mode": {
    "name": "ipython",
    "version": 3
   },
   "file_extension": ".py",
   "mimetype": "text/x-python",
   "name": "python",
   "nbconvert_exporter": "python",
   "pygments_lexer": "ipython3",
   "version": "3.8.8"
  },
  "toc": {
   "base_numbering": 1,
   "nav_menu": {},
   "number_sections": true,
   "sideBar": true,
   "skip_h1_title": false,
   "title_cell": "Table of Contents",
   "title_sidebar": "Contents",
   "toc_cell": false,
   "toc_position": {},
   "toc_section_display": true,
   "toc_window_display": false
  }
 },
 "nbformat": 4,
 "nbformat_minor": 5
}
