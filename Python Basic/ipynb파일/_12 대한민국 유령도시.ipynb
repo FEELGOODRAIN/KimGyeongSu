{
 "cells": [
  {
   "cell_type": "markdown",
   "id": "735a64ef",
   "metadata": {},
   "source": [
    "# 유령도시의 기준\n",
    " - 가구수가 없는 도시\n",
    " - 고령자 비율이 일정 수치 이상?\n",
    "     - 고령자의 기준 : 65세 이상\n",
    " - 일정 수치 : 20~49세의 비율 < 고령자 비율?"
   ]
  },
  {
   "cell_type": "markdown",
   "id": "56686642",
   "metadata": {},
   "source": [
    "## 인구데이터 확보\n",
    "    - 우리나라 인구수 ( 행정구역별 , 광역시별 , ...)"
   ]
  },
  {
   "cell_type": "code",
   "execution_count": null,
   "id": "107bf516",
   "metadata": {},
   "outputs": [],
   "source": []
  }
 ],
 "metadata": {
  "kernelspec": {
   "display_name": "Python 3 (ipykernel)",
   "language": "python",
   "name": "python3"
  },
  "language_info": {
   "codemirror_mode": {
    "name": "ipython",
    "version": 3
   },
   "file_extension": ".py",
   "mimetype": "text/x-python",
   "name": "python",
   "nbconvert_exporter": "python",
   "pygments_lexer": "ipython3",
   "version": "3.8.17"
  },
  "toc": {
   "base_numbering": 1,
   "nav_menu": {},
   "number_sections": true,
   "sideBar": true,
   "skip_h1_title": false,
   "title_cell": "Table of Contents",
   "title_sidebar": "Contents",
   "toc_cell": false,
   "toc_position": {},
   "toc_section_display": true,
   "toc_window_display": false
  }
 },
 "nbformat": 4,
 "nbformat_minor": 5
}
