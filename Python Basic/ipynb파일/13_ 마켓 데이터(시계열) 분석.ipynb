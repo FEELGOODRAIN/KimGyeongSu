{
 "cells": [
  {
   "cell_type": "code",
   "execution_count": 1,
   "id": "b48e20d2",
   "metadata": {
    "ExecuteTime": {
     "end_time": "2023-10-12T06:09:46.704453Z",
     "start_time": "2023-10-12T06:09:45.529965Z"
    }
   },
   "outputs": [
    {
     "name": "stderr",
     "output_type": "stream",
     "text": [
      "'sudo'은(는) 내부 또는 외부 명령, 실행할 수 있는 프로그램, 또는\n",
      "배치 파일이 아닙니다.\n",
      "'sudo'은(는) 내부 또는 외부 명령, 실행할 수 있는 프로그램, 또는\n",
      "배치 파일이 아닙니다.\n",
      "'rm'은(는) 내부 또는 외부 명령, 실행할 수 있는 프로그램, 또는\n",
      "배치 파일이 아닙니다.\n"
     ]
    }
   ],
   "source": [
    "import numpy as np\n",
    "import pandas as pd\n",
    "import matplotlib as mpl\n",
    "import matplotlib.pyplot as plt\n",
    "%matplotlib inline\n",
    "import matplotlib.font_manager as fm\n",
    "!sudo apt-get install -y fonts-nanum\n",
    "!sudo fc-cache -fv\n",
    "!rm ~/.cache/matplotlib -rf\n",
    "\n",
    "plt.rc('font' , family = 'NanumGothic')\n",
    "mpl.rcParams['axes.unicode_minus'] = False\n",
    "plt.rc('font' , family = 'NanumGothic')\n",
    "mpl.rcParams['axes.unicode_minus'] = False\n",
    "import platform\n",
    "from matplotlib import font_manager , rc\n",
    "\n",
    "if platform.system() == 'Darwin':\n",
    "  rc('font' , family = 'AppleGothic')\n",
    "elif platform.system() == 'Windows':\n",
    "  path = 'C:/Windows/Fonts/malgun.ttf'\n",
    "  font_name = font_manager.FontProperties(fname = path).get_name()\n",
    "  rc('font' , family = font_name)\n",
    "else:\n",
    "  print('모름')\n",
    "import warnings\n",
    "warnings.filterwarnings('ignore')"
   ]
  },
  {
   "cell_type": "markdown",
   "id": "75bdbcfe",
   "metadata": {},
   "source": [
    "# 시계열 분석\n",
    "- 시계열 데이터 : 시간을 순차적으로 관측된 값들의 집함\n",
    "- 분석 : 과거 데이터의 패턴을 분석하여 미래의 값을 예측하는 방법으로 과거의 패턴이 미래에도 지속된다는 안정성을 기본적은 가정으로 구현\n",
    "- https://www.blockchain.com/explorer/charts/market-price"
   ]
  },
  {
   "cell_type": "code",
   "execution_count": 2,
   "id": "56a90ad9",
   "metadata": {
    "ExecuteTime": {
     "end_time": "2023-10-12T06:09:46.839148Z",
     "start_time": "2023-10-12T06:09:46.807688Z"
    }
   },
   "outputs": [
    {
     "data": {
      "text/html": [
       "<div>\n",
       "<style scoped>\n",
       "    .dataframe tbody tr th:only-of-type {\n",
       "        vertical-align: middle;\n",
       "    }\n",
       "\n",
       "    .dataframe tbody tr th {\n",
       "        vertical-align: top;\n",
       "    }\n",
       "\n",
       "    .dataframe thead th {\n",
       "        text-align: right;\n",
       "    }\n",
       "</style>\n",
       "<table border=\"1\" class=\"dataframe\">\n",
       "  <thead>\n",
       "    <tr style=\"text-align: right;\">\n",
       "      <th></th>\n",
       "      <th>day</th>\n",
       "      <th>price</th>\n",
       "    </tr>\n",
       "  </thead>\n",
       "  <tbody>\n",
       "    <tr>\n",
       "      <th>0</th>\n",
       "      <td>2021/06/30 0:00</td>\n",
       "      <td>35847.70</td>\n",
       "    </tr>\n",
       "    <tr>\n",
       "      <th>1</th>\n",
       "      <td>2021/07/01 0:00</td>\n",
       "      <td>35047.36</td>\n",
       "    </tr>\n",
       "    <tr>\n",
       "      <th>2</th>\n",
       "      <td>2021/07/02 0:00</td>\n",
       "      <td>33536.88</td>\n",
       "    </tr>\n",
       "    <tr>\n",
       "      <th>3</th>\n",
       "      <td>2021/07/03 0:00</td>\n",
       "      <td>33856.86</td>\n",
       "    </tr>\n",
       "    <tr>\n",
       "      <th>4</th>\n",
       "      <td>2021/07/04 0:00</td>\n",
       "      <td>34688.98</td>\n",
       "    </tr>\n",
       "    <tr>\n",
       "      <th>...</th>\n",
       "      <td>...</td>\n",
       "      <td>...</td>\n",
       "    </tr>\n",
       "    <tr>\n",
       "      <th>356</th>\n",
       "      <td>2022/06/21 0:00</td>\n",
       "      <td>20582.29</td>\n",
       "    </tr>\n",
       "    <tr>\n",
       "      <th>357</th>\n",
       "      <td>2022/06/22 0:00</td>\n",
       "      <td>20703.51</td>\n",
       "    </tr>\n",
       "    <tr>\n",
       "      <th>358</th>\n",
       "      <td>2022/06/23 0:00</td>\n",
       "      <td>19953.71</td>\n",
       "    </tr>\n",
       "    <tr>\n",
       "      <th>359</th>\n",
       "      <td>2022/06/24 0:00</td>\n",
       "      <td>21088.30</td>\n",
       "    </tr>\n",
       "    <tr>\n",
       "      <th>360</th>\n",
       "      <td>2022/06/25 0:00</td>\n",
       "      <td>21194.68</td>\n",
       "    </tr>\n",
       "  </tbody>\n",
       "</table>\n",
       "<p>361 rows × 2 columns</p>\n",
       "</div>"
      ],
      "text/plain": [
       "                 day     price\n",
       "0    2021/06/30 0:00  35847.70\n",
       "1    2021/07/01 0:00  35047.36\n",
       "2    2021/07/02 0:00  33536.88\n",
       "3    2021/07/03 0:00  33856.86\n",
       "4    2021/07/04 0:00  34688.98\n",
       "..               ...       ...\n",
       "356  2022/06/21 0:00  20582.29\n",
       "357  2022/06/22 0:00  20703.51\n",
       "358  2022/06/23 0:00  19953.71\n",
       "359  2022/06/24 0:00  21088.30\n",
       "360  2022/06/25 0:00  21194.68\n",
       "\n",
       "[361 rows x 2 columns]"
      ]
     },
     "execution_count": 2,
     "metadata": {},
     "output_type": "execute_result"
    }
   ],
   "source": [
    "bitcoin = pd.read_csv('C:/k_digital/Pythonbasic/market-price.csv' , names = ['day','price'])\n",
    "bitcoin"
   ]
  },
  {
   "cell_type": "code",
   "execution_count": 3,
   "id": "f2d0065d",
   "metadata": {
    "ExecuteTime": {
     "end_time": "2023-10-12T06:09:47.054355Z",
     "start_time": "2023-10-12T06:09:47.022813Z"
    }
   },
   "outputs": [
    {
     "name": "stdout",
     "output_type": "stream",
     "text": [
      "<class 'pandas.core.frame.DataFrame'>\n",
      "RangeIndex: 361 entries, 0 to 360\n",
      "Data columns (total 2 columns):\n",
      " #   Column  Non-Null Count  Dtype  \n",
      "---  ------  --------------  -----  \n",
      " 0   day     361 non-null    object \n",
      " 1   price   361 non-null    float64\n",
      "dtypes: float64(1), object(1)\n",
      "memory usage: 5.8+ KB\n"
     ]
    }
   ],
   "source": [
    "bitcoin.info()"
   ]
  },
  {
   "cell_type": "code",
   "execution_count": 4,
   "id": "e004a241",
   "metadata": {
    "ExecuteTime": {
     "end_time": "2023-10-12T06:09:47.207462Z",
     "start_time": "2023-10-12T06:09:47.189306Z"
    }
   },
   "outputs": [
    {
     "data": {
      "text/html": [
       "<div>\n",
       "<style scoped>\n",
       "    .dataframe tbody tr th:only-of-type {\n",
       "        vertical-align: middle;\n",
       "    }\n",
       "\n",
       "    .dataframe tbody tr th {\n",
       "        vertical-align: top;\n",
       "    }\n",
       "\n",
       "    .dataframe thead th {\n",
       "        text-align: right;\n",
       "    }\n",
       "</style>\n",
       "<table border=\"1\" class=\"dataframe\">\n",
       "  <thead>\n",
       "    <tr style=\"text-align: right;\">\n",
       "      <th></th>\n",
       "      <th>day</th>\n",
       "      <th>price</th>\n",
       "    </tr>\n",
       "  </thead>\n",
       "  <tbody>\n",
       "    <tr>\n",
       "      <th>356</th>\n",
       "      <td>2022/06/21 0:00</td>\n",
       "      <td>20582.29</td>\n",
       "    </tr>\n",
       "    <tr>\n",
       "      <th>357</th>\n",
       "      <td>2022/06/22 0:00</td>\n",
       "      <td>20703.51</td>\n",
       "    </tr>\n",
       "    <tr>\n",
       "      <th>358</th>\n",
       "      <td>2022/06/23 0:00</td>\n",
       "      <td>19953.71</td>\n",
       "    </tr>\n",
       "    <tr>\n",
       "      <th>359</th>\n",
       "      <td>2022/06/24 0:00</td>\n",
       "      <td>21088.30</td>\n",
       "    </tr>\n",
       "    <tr>\n",
       "      <th>360</th>\n",
       "      <td>2022/06/25 0:00</td>\n",
       "      <td>21194.68</td>\n",
       "    </tr>\n",
       "  </tbody>\n",
       "</table>\n",
       "</div>"
      ],
      "text/plain": [
       "                 day     price\n",
       "356  2022/06/21 0:00  20582.29\n",
       "357  2022/06/22 0:00  20703.51\n",
       "358  2022/06/23 0:00  19953.71\n",
       "359  2022/06/24 0:00  21088.30\n",
       "360  2022/06/25 0:00  21194.68"
      ]
     },
     "execution_count": 4,
     "metadata": {},
     "output_type": "execute_result"
    }
   ],
   "source": [
    "bitcoin.tail()"
   ]
  },
  {
   "cell_type": "code",
   "execution_count": 5,
   "id": "30ac8120",
   "metadata": {
    "ExecuteTime": {
     "end_time": "2023-10-12T06:09:47.390308Z",
     "start_time": "2023-10-12T06:09:47.370510Z"
    }
   },
   "outputs": [
    {
     "data": {
      "text/html": [
       "<div>\n",
       "<style scoped>\n",
       "    .dataframe tbody tr th:only-of-type {\n",
       "        vertical-align: middle;\n",
       "    }\n",
       "\n",
       "    .dataframe tbody tr th {\n",
       "        vertical-align: top;\n",
       "    }\n",
       "\n",
       "    .dataframe thead th {\n",
       "        text-align: right;\n",
       "    }\n",
       "</style>\n",
       "<table border=\"1\" class=\"dataframe\">\n",
       "  <thead>\n",
       "    <tr style=\"text-align: right;\">\n",
       "      <th></th>\n",
       "      <th>price</th>\n",
       "    </tr>\n",
       "    <tr>\n",
       "      <th>day</th>\n",
       "      <th></th>\n",
       "    </tr>\n",
       "  </thead>\n",
       "  <tbody>\n",
       "    <tr>\n",
       "      <th>2022-06-21</th>\n",
       "      <td>20582.29</td>\n",
       "    </tr>\n",
       "    <tr>\n",
       "      <th>2022-06-22</th>\n",
       "      <td>20703.51</td>\n",
       "    </tr>\n",
       "    <tr>\n",
       "      <th>2022-06-23</th>\n",
       "      <td>19953.71</td>\n",
       "    </tr>\n",
       "    <tr>\n",
       "      <th>2022-06-24</th>\n",
       "      <td>21088.30</td>\n",
       "    </tr>\n",
       "    <tr>\n",
       "      <th>2022-06-25</th>\n",
       "      <td>21194.68</td>\n",
       "    </tr>\n",
       "  </tbody>\n",
       "</table>\n",
       "</div>"
      ],
      "text/plain": [
       "               price\n",
       "day                 \n",
       "2022-06-21  20582.29\n",
       "2022-06-22  20703.51\n",
       "2022-06-23  19953.71\n",
       "2022-06-24  21088.30\n",
       "2022-06-25  21194.68"
      ]
     },
     "execution_count": 5,
     "metadata": {},
     "output_type": "execute_result"
    }
   ],
   "source": [
    "bitcoin['day'] = pd.to_datetime(bitcoin['day'])\n",
    "bitcoin.set_index('day' , inplace = True)\n",
    "bitcoin.tail()"
   ]
  },
  {
   "cell_type": "code",
   "execution_count": 6,
   "id": "0a5c26aa",
   "metadata": {
    "ExecuteTime": {
     "end_time": "2023-10-12T06:09:47.576235Z",
     "start_time": "2023-10-12T06:09:47.552941Z"
    }
   },
   "outputs": [
    {
     "data": {
      "text/html": [
       "<div>\n",
       "<style scoped>\n",
       "    .dataframe tbody tr th:only-of-type {\n",
       "        vertical-align: middle;\n",
       "    }\n",
       "\n",
       "    .dataframe tbody tr th {\n",
       "        vertical-align: top;\n",
       "    }\n",
       "\n",
       "    .dataframe thead th {\n",
       "        text-align: right;\n",
       "    }\n",
       "</style>\n",
       "<table border=\"1\" class=\"dataframe\">\n",
       "  <thead>\n",
       "    <tr style=\"text-align: right;\">\n",
       "      <th></th>\n",
       "      <th>price</th>\n",
       "    </tr>\n",
       "  </thead>\n",
       "  <tbody>\n",
       "    <tr>\n",
       "      <th>count</th>\n",
       "      <td>361.000000</td>\n",
       "    </tr>\n",
       "    <tr>\n",
       "      <th>mean</th>\n",
       "      <td>43290.492022</td>\n",
       "    </tr>\n",
       "    <tr>\n",
       "      <th>std</th>\n",
       "      <td>10049.245982</td>\n",
       "    </tr>\n",
       "    <tr>\n",
       "      <th>min</th>\n",
       "      <td>18977.510000</td>\n",
       "    </tr>\n",
       "    <tr>\n",
       "      <th>25%</th>\n",
       "      <td>37661.190000</td>\n",
       "    </tr>\n",
       "    <tr>\n",
       "      <th>50%</th>\n",
       "      <td>42723.370000</td>\n",
       "    </tr>\n",
       "    <tr>\n",
       "      <th>75%</th>\n",
       "      <td>48392.790000</td>\n",
       "    </tr>\n",
       "    <tr>\n",
       "      <th>max</th>\n",
       "      <td>67562.170000</td>\n",
       "    </tr>\n",
       "  </tbody>\n",
       "</table>\n",
       "</div>"
      ],
      "text/plain": [
       "              price\n",
       "count    361.000000\n",
       "mean   43290.492022\n",
       "std    10049.245982\n",
       "min    18977.510000\n",
       "25%    37661.190000\n",
       "50%    42723.370000\n",
       "75%    48392.790000\n",
       "max    67562.170000"
      ]
     },
     "execution_count": 6,
     "metadata": {},
     "output_type": "execute_result"
    }
   ],
   "source": [
    "bitcoin.describe()"
   ]
  },
  {
   "cell_type": "code",
   "execution_count": 7,
   "id": "e783a3eb",
   "metadata": {
    "ExecuteTime": {
     "end_time": "2023-10-12T06:09:48.020446Z",
     "start_time": "2023-10-12T06:09:47.706038Z"
    }
   },
   "outputs": [
    {
     "data": {
      "image/png": "[encoded data removed]",
      "text/plain": [
       "<Figure size 640x480 with 1 Axes>"
      ]
     },
     "metadata": {},
     "output_type": "display_data"
    }
   ],
   "source": [
    "bitcoin.plot()\n",
    "plt.show()"
   ]
  },
  {
   "cell_type": "markdown",
   "id": "05d173cf",
   "metadata": {},
   "source": [
    "# ARIMA 모델( 시계열 데이터 분석 )"
   ]
  },
  {
   "cell_type": "code",
   "execution_count": 60,
   "id": "2697368f",
   "metadata": {
    "ExecuteTime": {
     "end_time": "2023-10-12T07:55:00.723144Z",
     "start_time": "2023-10-12T07:55:00.396880Z"
    }
   },
   "outputs": [
    {
     "name": "stderr",
     "output_type": "stream",
     "text": [
      "C:\\Anaconda3\\lib\\site-packages\\statsmodels\\base\\model.py:607: ConvergenceWarning: Maximum Likelihood optimization failed to converge. Check mle_retvals\n",
      "  warnings.warn(\"Maximum Likelihood optimization failed to \"\n"
     ]
    },
    {
     "data": {
      "text/plain": [
       "<statsmodels.tsa.arima.model.ARIMAResultsWrapper at 0x24e5f9152e0>"
      ]
     },
     "execution_count": 60,
     "metadata": {},
     "output_type": "execute_result"
    }
   ],
   "source": [
    "from statsmodels.tsa.arima.model import ARIMA\n",
    "import statsmodels.api as sm\n",
    "\n",
    "model = ARIMA(bitcoin['price'].values , order = (2,1,2))\n",
    "model_fit = model.fit()\n",
    "model_fit"
   ]
  },
  {
   "cell_type": "code",
   "execution_count": 61,
   "id": "0da023bc",
   "metadata": {
    "ExecuteTime": {
     "end_time": "2023-10-12T07:55:02.501435Z",
     "start_time": "2023-10-12T07:55:02.480169Z"
    }
   },
   "outputs": [
    {
     "data": {
      "text/html": [
       "<table class=\"simpletable\">\n",
       "<caption>SARIMAX Results</caption>\n",
       "<tr>\n",
       "  <th>Dep. Variable:</th>           <td>y</td>        <th>  No. Observations:  </th>    <td>361</td>   \n",
       "</tr>\n",
       "<tr>\n",
       "  <th>Model:</th>            <td>ARIMA(2, 1, 2)</td>  <th>  Log Likelihood     </th> <td>-3145.235</td>\n",
       "</tr>\n",
       "<tr>\n",
       "  <th>Date:</th>            <td>Thu, 12 Oct 2023</td> <th>  AIC                </th> <td>6300.470</td> \n",
       "</tr>\n",
       "<tr>\n",
       "  <th>Time:</th>                <td>16:55:02</td>     <th>  BIC                </th> <td>6319.900</td> \n",
       "</tr>\n",
       "<tr>\n",
       "  <th>Sample:</th>                  <td>0</td>        <th>  HQIC               </th> <td>6308.196</td> \n",
       "</tr>\n",
       "<tr>\n",
       "  <th></th>                      <td> - 361</td>      <th>                     </th>     <td> </td>    \n",
       "</tr>\n",
       "<tr>\n",
       "  <th>Covariance Type:</th>        <td>opg</td>       <th>                     </th>     <td> </td>    \n",
       "</tr>\n",
       "</table>\n",
       "<table class=\"simpletable\">\n",
       "<tr>\n",
       "     <td></td>       <th>coef</th>     <th>std err</th>      <th>z</th>      <th>P>|z|</th>  <th>[0.025</th>    <th>0.975]</th>  \n",
       "</tr>\n",
       "<tr>\n",
       "  <th>ar.L1</th>  <td>    0.3575</td> <td>    0.009</td> <td>   40.725</td> <td> 0.000</td> <td>    0.340</td> <td>    0.375</td>\n",
       "</tr>\n",
       "<tr>\n",
       "  <th>ar.L2</th>  <td>   -0.9910</td> <td>    0.008</td> <td> -128.001</td> <td> 0.000</td> <td>   -1.006</td> <td>   -0.976</td>\n",
       "</tr>\n",
       "<tr>\n",
       "  <th>ma.L1</th>  <td>   -0.3760</td> <td>    0.017</td> <td>  -21.949</td> <td> 0.000</td> <td>   -0.410</td> <td>   -0.342</td>\n",
       "</tr>\n",
       "<tr>\n",
       "  <th>ma.L2</th>  <td>    0.9980</td> <td>    0.050</td> <td>   19.769</td> <td> 0.000</td> <td>    0.899</td> <td>    1.097</td>\n",
       "</tr>\n",
       "<tr>\n",
       "  <th>sigma2</th> <td> 2.358e+06</td> <td> 1.52e-08</td> <td> 1.56e+14</td> <td> 0.000</td> <td> 2.36e+06</td> <td> 2.36e+06</td>\n",
       "</tr>\n",
       "</table>\n",
       "<table class=\"simpletable\">\n",
       "<tr>\n",
       "  <th>Ljung-Box (L1) (Q):</th>     <td>0.25</td> <th>  Jarque-Bera (JB):  </th> <td>26.62</td>\n",
       "</tr>\n",
       "<tr>\n",
       "  <th>Prob(Q):</th>                <td>0.62</td> <th>  Prob(JB):          </th> <td>0.00</td> \n",
       "</tr>\n",
       "<tr>\n",
       "  <th>Heteroskedasticity (H):</th> <td>0.73</td> <th>  Skew:              </th> <td>-0.19</td>\n",
       "</tr>\n",
       "<tr>\n",
       "  <th>Prob(H) (two-sided):</th>    <td>0.09</td> <th>  Kurtosis:          </th> <td>4.28</td> \n",
       "</tr>\n",
       "</table><br/><br/>Warnings:<br/>[1] Covariance matrix calculated using the outer product of gradients (complex-step).<br/>[2] Covariance matrix is singular or near-singular, with condition number 8.56e+28. Standard errors may be unstable."
      ],
      "text/latex": [
       "\\begin{center}\n",
       "\\begin{tabular}{lclc}\n",
       "\\toprule\n",
       "\\textbf{Dep. Variable:}          &        y         & \\textbf{  No. Observations:  } &    361      \\\\\n",
       "\\textbf{Model:}                  &  ARIMA(2, 1, 2)  & \\textbf{  Log Likelihood     } & -3145.235   \\\\\n",
       "\\textbf{Date:}                   & Thu, 12 Oct 2023 & \\textbf{  AIC                } &  6300.470   \\\\\n",
       "\\textbf{Time:}                   &     16:55:02     & \\textbf{  BIC                } &  6319.900   \\\\\n",
       "\\textbf{Sample:}                 &        0         & \\textbf{  HQIC               } &  6308.196   \\\\\n",
       "\\textbf{}                        &       - 361      & \\textbf{                     } &             \\\\\n",
       "\\textbf{Covariance Type:}        &       opg        & \\textbf{                     } &             \\\\\n",
       "\\bottomrule\n",
       "\\end{tabular}\n",
       "\\begin{tabular}{lcccccc}\n",
       "                & \\textbf{coef} & \\textbf{std err} & \\textbf{z} & \\textbf{P$> |$z$|$} & \\textbf{[0.025} & \\textbf{0.975]}  \\\\\n",
       "\\midrule\n",
       "\\textbf{ar.L1}  &       0.3575  &        0.009     &    40.725  &         0.000        &        0.340    &        0.375     \\\\\n",
       "\\textbf{ar.L2}  &      -0.9910  &        0.008     &  -128.001  &         0.000        &       -1.006    &       -0.976     \\\\\n",
       "\\textbf{ma.L1}  &      -0.3760  &        0.017     &   -21.949  &         0.000        &       -0.410    &       -0.342     \\\\\n",
       "\\textbf{ma.L2}  &       0.9980  &        0.050     &    19.769  &         0.000        &        0.899    &        1.097     \\\\\n",
       "\\textbf{sigma2} &    2.358e+06  &     1.52e-08     &  1.56e+14  &         0.000        &     2.36e+06    &     2.36e+06     \\\\\n",
       "\\bottomrule\n",
       "\\end{tabular}\n",
       "\\begin{tabular}{lclc}\n",
       "\\textbf{Ljung-Box (L1) (Q):}     & 0.25 & \\textbf{  Jarque-Bera (JB):  } & 26.62  \\\\\n",
       "\\textbf{Prob(Q):}                & 0.62 & \\textbf{  Prob(JB):          } &  0.00  \\\\\n",
       "\\textbf{Heteroskedasticity (H):} & 0.73 & \\textbf{  Skew:              } & -0.19  \\\\\n",
       "\\textbf{Prob(H) (two-sided):}    & 0.09 & \\textbf{  Kurtosis:          } &  4.28  \\\\\n",
       "\\bottomrule\n",
       "\\end{tabular}\n",
       "%\\caption{SARIMAX Results}\n",
       "\\end{center}\n",
       "\n",
       "Warnings: \\newline\n",
       " [1] Covariance matrix calculated using the outer product of gradients (complex-step). \\newline\n",
       " [2] Covariance matrix is singular or near-singular, with condition number 8.56e+28. Standard errors may be unstable."
      ],
      "text/plain": [
       "<class 'statsmodels.iolib.summary.Summary'>\n",
       "\"\"\"\n",
       "                               SARIMAX Results                                \n",
       "==============================================================================\n",
       "Dep. Variable:                      y   No. Observations:                  361\n",
       "Model:                 ARIMA(2, 1, 2)   Log Likelihood               -3145.235\n",
       "Date:                Thu, 12 Oct 2023   AIC                           6300.470\n",
       "Time:                        16:55:02   BIC                           6319.900\n",
       "Sample:                             0   HQIC                          6308.196\n",
       "                                - 361                                         \n",
       "Covariance Type:                  opg                                         \n",
       "==============================================================================\n",
       "                 coef    std err          z      P>|z|      [0.025      0.975]\n",
       "------------------------------------------------------------------------------\n",
       "ar.L1          0.3575      0.009     40.725      0.000       0.340       0.375\n",
       "ar.L2         -0.9910      0.008   -128.001      0.000      -1.006      -0.976\n",
       "ma.L1         -0.3760      0.017    -21.949      0.000      -0.410      -0.342\n",
       "ma.L2          0.9980      0.050     19.769      0.000       0.899       1.097\n",
       "sigma2      2.358e+06   1.52e-08   1.56e+14      0.000    2.36e+06    2.36e+06\n",
       "===================================================================================\n",
       "Ljung-Box (L1) (Q):                   0.25   Jarque-Bera (JB):                26.62\n",
       "Prob(Q):                              0.62   Prob(JB):                         0.00\n",
       "Heteroskedasticity (H):               0.73   Skew:                            -0.19\n",
       "Prob(H) (two-sided):                  0.09   Kurtosis:                         4.28\n",
       "===================================================================================\n",
       "\n",
       "Warnings:\n",
       "[1] Covariance matrix calculated using the outer product of gradients (complex-step).\n",
       "[2] Covariance matrix is singular or near-singular, with condition number 8.56e+28. Standard errors may be unstable.\n",
       "\"\"\""
      ]
     },
     "execution_count": 61,
     "metadata": {},
     "output_type": "execute_result"
    }
   ],
   "source": [
    "model_fit.summary()"
   ]
  },
  {
   "cell_type": "markdown",
   "id": "be7a622c",
   "metadata": {},
   "source": [
    " - order( p, d , q )\n",
    " - 일반적으로  p + q = 2 , p * q = 0 : AR이나 MA 중 하나만 적용해도 된다."
   ]
  },
  {
   "cell_type": "code",
   "execution_count": 20,
   "id": "0c34606b",
   "metadata": {
    "ExecuteTime": {
     "end_time": "2023-10-12T06:35:12.399666Z",
     "start_time": "2023-10-12T06:35:12.151285Z"
    }
   },
   "outputs": [
    {
     "data": {
      "image/png": "[encoded data removed]",
      "text/plain": [
       "<Figure size 640x480 with 1 Axes>"
      ]
     },
     "execution_count": 20,
     "metadata": {},
     "output_type": "execute_result"
    },
    {
     "data": {
      "image/png": "[encoded data removed]",
      "text/plain": [
       "<Figure size 640x480 with 1 Axes>"
      ]
     },
     "metadata": {},
     "output_type": "display_data"
    }
   ],
   "source": [
    "sm.graphics.tsa.plot_pacf(bitcoin)"
   ]
  },
  {
   "cell_type": "code",
   "execution_count": 22,
   "id": "459c0622",
   "metadata": {
    "ExecuteTime": {
     "end_time": "2023-10-12T06:47:25.227567Z",
     "start_time": "2023-10-12T06:46:56.519911Z"
    }
   },
   "outputs": [
    {
     "name": "stdout",
     "output_type": "stream",
     "text": [
      "(0, 0, 0) 9446.769758583067\n",
      "(0, 0, 1) 7255.645321448968\n"
     ]
    },
    {
     "name": "stderr",
     "output_type": "stream",
     "text": [
      "C:\\Anaconda3\\lib\\site-packages\\statsmodels\\base\\model.py:607: ConvergenceWarning: Maximum Likelihood optimization failed to converge. Check mle_retvals\n",
      "  warnings.warn(\"Maximum Likelihood optimization failed to \"\n"
     ]
    },
    {
     "name": "stdout",
     "output_type": "stream",
     "text": [
      "(0, 0, 2) 6962.474557842052\n",
      "(0, 0, 3) 6917.598958873208\n",
      "(0, 0, 4) 7031.733924667771\n",
      "(0, 1, 0) 6303.741389860343\n",
      "(0, 1, 1) 6305.73035885569\n",
      "(0, 1, 2) 6304.73430637126\n",
      "(0, 1, 3) 6306.686736476049\n",
      "(0, 1, 4) 6307.792260253307\n",
      "(0, 2, 0) 6530.3725067107625\n",
      "(0, 2, 1) 6387.1772790727755\n",
      "(0, 2, 2) 6355.749542907095\n",
      "(0, 2, 3) 6357.028434032756\n",
      "(0, 2, 4) 6357.799883395665\n",
      "(0, 3, 0) 6894.626800050759\n",
      "(0, 3, 1) 6521.823717147387\n",
      "(0, 3, 2) 6348.548518740747\n",
      "(0, 3, 3) 6343.371747591826\n",
      "(0, 3, 4) 6344.769009288568\n",
      "(0, 4, 0) 7296.4219840058395\n",
      "(0, 4, 1) 6882.212091030782\n",
      "(0, 4, 2) 6522.142908882488\n",
      "(0, 4, 3) 6379.688514573996\n",
      "(0, 4, 4) 6438.020346738971\n",
      "(1, 0, 0) 6328.336649699759\n",
      "(1, 0, 1) 6330.156826964747\n",
      "(1, 0, 2) 6330.303215619645\n",
      "(1, 0, 3) 6332.3103750293485\n",
      "(1, 0, 4) 6333.275626326593\n",
      "(1, 1, 0) 6305.7258497109\n",
      "(1, 1, 1) 6307.0057741538085\n",
      "(1, 1, 2) 6306.680226075825\n",
      "(1, 1, 3) 6308.1523172191655\n",
      "(1, 1, 4) 6309.651863886722\n",
      "(1, 2, 0) 6481.654674336989\n",
      "(1, 2, 1) 6361.130232421107\n",
      "(1, 2, 2) 6357.261349526344\n",
      "(1, 2, 3) 6359.706835922842\n",
      "(1, 2, 4) 6359.762762259588\n",
      "(1, 3, 0) 6758.401816051296\n",
      "(1, 3, 1) 6448.394320680718\n"
     ]
    },
    {
     "name": "stderr",
     "output_type": "stream",
     "text": [
      "C:\\Anaconda3\\lib\\site-packages\\statsmodels\\base\\model.py:607: ConvergenceWarning: Maximum Likelihood optimization failed to converge. Check mle_retvals\n",
      "  warnings.warn(\"Maximum Likelihood optimization failed to \"\n"
     ]
    },
    {
     "name": "stdout",
     "output_type": "stream",
     "text": [
      "(1, 3, 2) 6342.76437427619\n",
      "(1, 3, 3) 6349.738101639269\n",
      "(1, 3, 4) 6344.958410299554\n",
      "(1, 4, 0) 7059.30599391195\n",
      "(1, 4, 1) 6708.206929723266\n",
      "(1, 4, 2) 6459.003592570329\n",
      "(1, 4, 3) 6492.94612538587\n",
      "(1, 4, 4) 6384.086363682983\n",
      "(2, 0, 0) 6330.180830083385\n",
      "(2, 0, 1) 6331.394768538114\n",
      "(2, 0, 2) 6332.422681552645\n",
      "(2, 0, 3) 6333.392642394889\n",
      "(2, 0, 4) 6335.182909484523\n",
      "(2, 1, 0) 6304.441517599998\n",
      "(2, 1, 1) 6306.432590348124\n"
     ]
    },
    {
     "name": "stderr",
     "output_type": "stream",
     "text": [
      "C:\\Anaconda3\\lib\\site-packages\\statsmodels\\base\\model.py:607: ConvergenceWarning: Maximum Likelihood optimization failed to converge. Check mle_retvals\n",
      "  warnings.warn(\"Maximum Likelihood optimization failed to \"\n"
     ]
    },
    {
     "name": "stdout",
     "output_type": "stream",
     "text": [
      "(2, 1, 2) 6300.469798230842\n"
     ]
    },
    {
     "name": "stderr",
     "output_type": "stream",
     "text": [
      "C:\\Anaconda3\\lib\\site-packages\\statsmodels\\base\\model.py:607: ConvergenceWarning: Maximum Likelihood optimization failed to converge. Check mle_retvals\n",
      "  warnings.warn(\"Maximum Likelihood optimization failed to \"\n"
     ]
    },
    {
     "name": "stdout",
     "output_type": "stream",
     "text": [
      "(2, 1, 3) 6302.562664780775\n"
     ]
    },
    {
     "name": "stderr",
     "output_type": "stream",
     "text": [
      "C:\\Anaconda3\\lib\\site-packages\\statsmodels\\base\\model.py:607: ConvergenceWarning: Maximum Likelihood optimization failed to converge. Check mle_retvals\n",
      "  warnings.warn(\"Maximum Likelihood optimization failed to \"\n"
     ]
    },
    {
     "name": "stdout",
     "output_type": "stream",
     "text": [
      "(2, 1, 4) 6303.869644847808\n",
      "(2, 2, 0) 6434.9441248795565\n",
      "(2, 2, 1) 6356.867916583208\n",
      "(2, 2, 2) 6357.669383928685\n",
      "(2, 2, 3) 6359.3120373102265\n"
     ]
    },
    {
     "name": "stderr",
     "output_type": "stream",
     "text": [
      "C:\\Anaconda3\\lib\\site-packages\\statsmodels\\base\\model.py:607: ConvergenceWarning: Maximum Likelihood optimization failed to converge. Check mle_retvals\n",
      "  warnings.warn(\"Maximum Likelihood optimization failed to \"\n"
     ]
    },
    {
     "name": "stdout",
     "output_type": "stream",
     "text": [
      "(2, 2, 4) 6357.140137655491\n",
      "(2, 3, 0) 6649.713562365992\n",
      "(2, 3, 1) 6413.05132991366\n"
     ]
    },
    {
     "name": "stderr",
     "output_type": "stream",
     "text": [
      "C:\\Anaconda3\\lib\\site-packages\\statsmodels\\base\\model.py:607: ConvergenceWarning: Maximum Likelihood optimization failed to converge. Check mle_retvals\n",
      "  warnings.warn(\"Maximum Likelihood optimization failed to \"\n"
     ]
    },
    {
     "name": "stdout",
     "output_type": "stream",
     "text": [
      "(2, 3, 2) 6357.999340541339\n"
     ]
    },
    {
     "name": "stderr",
     "output_type": "stream",
     "text": [
      "C:\\Anaconda3\\lib\\site-packages\\statsmodels\\base\\model.py:607: ConvergenceWarning: Maximum Likelihood optimization failed to converge. Check mle_retvals\n",
      "  warnings.warn(\"Maximum Likelihood optimization failed to \"\n"
     ]
    },
    {
     "name": "stdout",
     "output_type": "stream",
     "text": [
      "(2, 3, 3) 6346.609539906545\n",
      "(2, 3, 4) 6361.076480007044\n",
      "(2, 4, 0) 6918.066446534338\n",
      "(2, 4, 1) 6645.34094650533\n",
      "(2, 4, 2) 6441.616098299843\n",
      "(2, 4, 3) 6458.99036011172\n"
     ]
    },
    {
     "name": "stderr",
     "output_type": "stream",
     "text": [
      "C:\\Anaconda3\\lib\\site-packages\\statsmodels\\base\\model.py:607: ConvergenceWarning: Maximum Likelihood optimization failed to converge. Check mle_retvals\n",
      "  warnings.warn(\"Maximum Likelihood optimization failed to \"\n"
     ]
    },
    {
     "name": "stdout",
     "output_type": "stream",
     "text": [
      "(2, 4, 4) 6443.683895428636\n",
      "(3, 0, 0) 6330.102377313779\n",
      "(3, 0, 1) 6332.083295076961\n"
     ]
    },
    {
     "name": "stderr",
     "output_type": "stream",
     "text": [
      "C:\\Anaconda3\\lib\\site-packages\\statsmodels\\base\\model.py:607: ConvergenceWarning: Maximum Likelihood optimization failed to converge. Check mle_retvals\n",
      "  warnings.warn(\"Maximum Likelihood optimization failed to \"\n"
     ]
    },
    {
     "name": "stdout",
     "output_type": "stream",
     "text": [
      "(3, 0, 2) 6327.284368432609\n"
     ]
    },
    {
     "name": "stderr",
     "output_type": "stream",
     "text": [
      "C:\\Anaconda3\\lib\\site-packages\\statsmodels\\base\\model.py:607: ConvergenceWarning: Maximum Likelihood optimization failed to converge. Check mle_retvals\n",
      "  warnings.warn(\"Maximum Likelihood optimization failed to \"\n"
     ]
    },
    {
     "name": "stdout",
     "output_type": "stream",
     "text": [
      "(3, 0, 3) 6329.852869803755\n"
     ]
    },
    {
     "name": "stderr",
     "output_type": "stream",
     "text": [
      "C:\\Anaconda3\\lib\\site-packages\\statsmodels\\base\\model.py:607: ConvergenceWarning: Maximum Likelihood optimization failed to converge. Check mle_retvals\n",
      "  warnings.warn(\"Maximum Likelihood optimization failed to \"\n"
     ]
    },
    {
     "name": "stdout",
     "output_type": "stream",
     "text": [
      "(3, 0, 4) 6331.401470505101\n",
      "(3, 1, 0) 6306.4042317519015\n",
      "(3, 1, 1) 6307.920571988411\n"
     ]
    },
    {
     "name": "stderr",
     "output_type": "stream",
     "text": [
      "C:\\Anaconda3\\lib\\site-packages\\statsmodels\\base\\model.py:607: ConvergenceWarning: Maximum Likelihood optimization failed to converge. Check mle_retvals\n",
      "  warnings.warn(\"Maximum Likelihood optimization failed to \"\n"
     ]
    },
    {
     "name": "stdout",
     "output_type": "stream",
     "text": [
      "(3, 1, 2) 6302.568924329891\n",
      "(3, 1, 3) 6309.735179881894\n"
     ]
    },
    {
     "name": "stderr",
     "output_type": "stream",
     "text": [
      "C:\\Anaconda3\\lib\\site-packages\\statsmodels\\base\\model.py:607: ConvergenceWarning: Maximum Likelihood optimization failed to converge. Check mle_retvals\n",
      "  warnings.warn(\"Maximum Likelihood optimization failed to \"\n"
     ]
    },
    {
     "name": "stdout",
     "output_type": "stream",
     "text": [
      "(3, 1, 4) 6306.011019557656\n",
      "(3, 2, 0) 6408.058426230722\n",
      "(3, 2, 1) 6358.823949969521\n",
      "(3, 2, 2) 6359.679298713908\n",
      "(3, 2, 3) 6361.693571896638\n"
     ]
    },
    {
     "name": "stderr",
     "output_type": "stream",
     "text": [
      "C:\\Anaconda3\\lib\\site-packages\\statsmodels\\base\\model.py:607: ConvergenceWarning: Maximum Likelihood optimization failed to converge. Check mle_retvals\n",
      "  warnings.warn(\"Maximum Likelihood optimization failed to \"\n"
     ]
    },
    {
     "name": "stdout",
     "output_type": "stream",
     "text": [
      "(3, 2, 4) 6360.54350900632\n",
      "(3, 3, 0) 6574.61912345804\n",
      "(3, 3, 1) 6388.286003973194\n"
     ]
    },
    {
     "name": "stderr",
     "output_type": "stream",
     "text": [
      "C:\\Anaconda3\\lib\\site-packages\\statsmodels\\base\\model.py:607: ConvergenceWarning: Maximum Likelihood optimization failed to converge. Check mle_retvals\n",
      "  warnings.warn(\"Maximum Likelihood optimization failed to \"\n"
     ]
    },
    {
     "name": "stdout",
     "output_type": "stream",
     "text": [
      "(3, 3, 2) 6345.917850923375\n"
     ]
    },
    {
     "name": "stderr",
     "output_type": "stream",
     "text": [
      "C:\\Anaconda3\\lib\\site-packages\\statsmodels\\base\\model.py:607: ConvergenceWarning: Maximum Likelihood optimization failed to converge. Check mle_retvals\n",
      "  warnings.warn(\"Maximum Likelihood optimization failed to \"\n"
     ]
    },
    {
     "name": "stdout",
     "output_type": "stream",
     "text": [
      "(3, 3, 3) 6357.388865887228\n",
      "(3, 3, 4) 6354.2608510006685\n",
      "(3, 4, 0) 6825.603233528073\n",
      "(3, 4, 1) 6583.064554145749\n"
     ]
    },
    {
     "name": "stderr",
     "output_type": "stream",
     "text": [
      "C:\\Anaconda3\\lib\\site-packages\\statsmodels\\base\\model.py:607: ConvergenceWarning: Maximum Likelihood optimization failed to converge. Check mle_retvals\n",
      "  warnings.warn(\"Maximum Likelihood optimization failed to \"\n"
     ]
    },
    {
     "name": "stdout",
     "output_type": "stream",
     "text": [
      "(3, 4, 2) 6405.523037918783\n",
      "(3, 4, 3) 6446.063238076631\n"
     ]
    },
    {
     "name": "stderr",
     "output_type": "stream",
     "text": [
      "C:\\Anaconda3\\lib\\site-packages\\statsmodels\\base\\model.py:607: ConvergenceWarning: Maximum Likelihood optimization failed to converge. Check mle_retvals\n",
      "  warnings.warn(\"Maximum Likelihood optimization failed to \"\n"
     ]
    },
    {
     "name": "stdout",
     "output_type": "stream",
     "text": [
      "(3, 4, 4) 6483.349041761063\n",
      "(4, 0, 0) 6332.053570495364\n",
      "(4, 0, 1) 6334.109383085807\n"
     ]
    },
    {
     "name": "stderr",
     "output_type": "stream",
     "text": [
      "C:\\Anaconda3\\lib\\site-packages\\statsmodels\\base\\model.py:607: ConvergenceWarning: Maximum Likelihood optimization failed to converge. Check mle_retvals\n",
      "  warnings.warn(\"Maximum Likelihood optimization failed to \"\n"
     ]
    },
    {
     "name": "stdout",
     "output_type": "stream",
     "text": [
      "(4, 0, 2) 6332.032976416445\n"
     ]
    },
    {
     "name": "stderr",
     "output_type": "stream",
     "text": [
      "C:\\Anaconda3\\lib\\site-packages\\statsmodels\\base\\model.py:607: ConvergenceWarning: Maximum Likelihood optimization failed to converge. Check mle_retvals\n",
      "  warnings.warn(\"Maximum Likelihood optimization failed to \"\n"
     ]
    },
    {
     "name": "stdout",
     "output_type": "stream",
     "text": [
      "(4, 0, 3) 6331.081074971628\n"
     ]
    },
    {
     "name": "stderr",
     "output_type": "stream",
     "text": [
      "C:\\Anaconda3\\lib\\site-packages\\statsmodels\\base\\model.py:607: ConvergenceWarning: Maximum Likelihood optimization failed to converge. Check mle_retvals\n",
      "  warnings.warn(\"Maximum Likelihood optimization failed to \"\n"
     ]
    },
    {
     "name": "stdout",
     "output_type": "stream",
     "text": [
      "(4, 0, 4) 6333.0803737811475\n",
      "(4, 1, 0) 6307.4920749788635\n",
      "(4, 1, 1) 6309.238585560035\n"
     ]
    },
    {
     "name": "stderr",
     "output_type": "stream",
     "text": [
      "C:\\Anaconda3\\lib\\site-packages\\statsmodels\\base\\model.py:607: ConvergenceWarning: Maximum Likelihood optimization failed to converge. Check mle_retvals\n",
      "  warnings.warn(\"Maximum Likelihood optimization failed to \"\n"
     ]
    },
    {
     "name": "stdout",
     "output_type": "stream",
     "text": [
      "(4, 1, 2) 6303.691755266789\n"
     ]
    },
    {
     "name": "stderr",
     "output_type": "stream",
     "text": [
      "C:\\Anaconda3\\lib\\site-packages\\statsmodels\\base\\model.py:607: ConvergenceWarning: Maximum Likelihood optimization failed to converge. Check mle_retvals\n",
      "  warnings.warn(\"Maximum Likelihood optimization failed to \"\n"
     ]
    },
    {
     "name": "stdout",
     "output_type": "stream",
     "text": [
      "(4, 1, 3) 6306.355786794661\n"
     ]
    },
    {
     "name": "stderr",
     "output_type": "stream",
     "text": [
      "C:\\Anaconda3\\lib\\site-packages\\statsmodels\\base\\model.py:607: ConvergenceWarning: Maximum Likelihood optimization failed to converge. Check mle_retvals\n",
      "  warnings.warn(\"Maximum Likelihood optimization failed to \"\n"
     ]
    },
    {
     "name": "stdout",
     "output_type": "stream",
     "text": [
      "(4, 1, 4) 6304.121956210758\n",
      "(4, 2, 0) 6394.513611611508\n",
      "(4, 2, 1) 6359.5212419223635\n",
      "(4, 2, 2) 6361.6212787612585\n"
     ]
    },
    {
     "name": "stderr",
     "output_type": "stream",
     "text": [
      "C:\\Anaconda3\\lib\\site-packages\\statsmodels\\base\\model.py:607: ConvergenceWarning: Maximum Likelihood optimization failed to converge. Check mle_retvals\n",
      "  warnings.warn(\"Maximum Likelihood optimization failed to \"\n"
     ]
    },
    {
     "name": "stdout",
     "output_type": "stream",
     "text": [
      "(4, 2, 3) 6361.930460319209\n"
     ]
    },
    {
     "name": "stderr",
     "output_type": "stream",
     "text": [
      "C:\\Anaconda3\\lib\\site-packages\\statsmodels\\base\\model.py:607: ConvergenceWarning: Maximum Likelihood optimization failed to converge. Check mle_retvals\n",
      "  warnings.warn(\"Maximum Likelihood optimization failed to \"\n"
     ]
    },
    {
     "name": "stdout",
     "output_type": "stream",
     "text": [
      "(4, 2, 4) 6362.180165854331\n",
      "(4, 3, 0) 6513.438473140734\n",
      "(4, 3, 1) 6375.93127008136\n"
     ]
    },
    {
     "name": "stderr",
     "output_type": "stream",
     "text": [
      "C:\\Anaconda3\\lib\\site-packages\\statsmodels\\base\\model.py:607: ConvergenceWarning: Maximum Likelihood optimization failed to converge. Check mle_retvals\n",
      "  warnings.warn(\"Maximum Likelihood optimization failed to \"\n"
     ]
    },
    {
     "name": "stdout",
     "output_type": "stream",
     "text": [
      "(4, 3, 2) 6363.304899579303\n"
     ]
    },
    {
     "name": "stderr",
     "output_type": "stream",
     "text": [
      "C:\\Anaconda3\\lib\\site-packages\\statsmodels\\base\\model.py:607: ConvergenceWarning: Maximum Likelihood optimization failed to converge. Check mle_retvals\n",
      "  warnings.warn(\"Maximum Likelihood optimization failed to \"\n"
     ]
    },
    {
     "name": "stdout",
     "output_type": "stream",
     "text": [
      "(4, 3, 3) 6355.4389464098285\n"
     ]
    },
    {
     "name": "stderr",
     "output_type": "stream",
     "text": [
      "C:\\Anaconda3\\lib\\site-packages\\statsmodels\\base\\model.py:607: ConvergenceWarning: Maximum Likelihood optimization failed to converge. Check mle_retvals\n",
      "  warnings.warn(\"Maximum Likelihood optimization failed to \"\n"
     ]
    },
    {
     "name": "stdout",
     "output_type": "stream",
     "text": [
      "(4, 3, 4) 6355.295474945244\n",
      "(4, 4, 0) 6742.092438508027\n",
      "(4, 4, 1) 6526.15200985567\n"
     ]
    },
    {
     "name": "stderr",
     "output_type": "stream",
     "text": [
      "C:\\Anaconda3\\lib\\site-packages\\statsmodels\\base\\model.py:607: ConvergenceWarning: Maximum Likelihood optimization failed to converge. Check mle_retvals\n",
      "  warnings.warn(\"Maximum Likelihood optimization failed to \"\n"
     ]
    },
    {
     "name": "stdout",
     "output_type": "stream",
     "text": [
      "(4, 4, 2) 6392.643959348865\n"
     ]
    },
    {
     "name": "stderr",
     "output_type": "stream",
     "text": [
      "C:\\Anaconda3\\lib\\site-packages\\statsmodels\\base\\model.py:607: ConvergenceWarning: Maximum Likelihood optimization failed to converge. Check mle_retvals\n",
      "  warnings.warn(\"Maximum Likelihood optimization failed to \"\n"
     ]
    },
    {
     "name": "stdout",
     "output_type": "stream",
     "text": [
      "(4, 4, 3) 6430.572263197086\n",
      "(4, 4, 4) 6468.459826281588\n"
     ]
    },
    {
     "name": "stderr",
     "output_type": "stream",
     "text": [
      "C:\\Anaconda3\\lib\\site-packages\\statsmodels\\base\\model.py:607: ConvergenceWarning: Maximum Likelihood optimization failed to converge. Check mle_retvals\n",
      "  warnings.warn(\"Maximum Likelihood optimization failed to \"\n"
     ]
    }
   ],
   "source": [
    "import itertools\n",
    "p=d=q=range(0,5)\n",
    "pdq = list(itertools.product(p , d , q))\n",
    "for param in pdq:\n",
    "    try:\n",
    "        model_arima = ARIMA(bitcoin.price.values , order = param)\n",
    "        model_arima_fit = model_arima.fit()\n",
    "        print(param , model_arima_fit.aic)\n",
    "    except:\n",
    "        continue"
   ]
  },
  {
   "cell_type": "code",
   "execution_count": 23,
   "id": "f5a1070e",
   "metadata": {
    "ExecuteTime": {
     "end_time": "2023-10-12T06:49:22.186940Z",
     "start_time": "2023-10-12T06:49:21.870894Z"
    }
   },
   "outputs": [
    {
     "name": "stderr",
     "output_type": "stream",
     "text": [
      "C:\\Anaconda3\\lib\\site-packages\\statsmodels\\base\\model.py:607: ConvergenceWarning: Maximum Likelihood optimization failed to converge. Check mle_retvals\n",
      "  warnings.warn(\"Maximum Likelihood optimization failed to \"\n"
     ]
    }
   ],
   "source": [
    "from statsmodels.tsa.arima.model import ARIMA\n",
    "import statsmodels.api as sm\n",
    "\n",
    "model = ARIMA(bitcoin['price'].values , order = (2,1,2))\n",
    "model_fit = model.fit()"
   ]
  },
  {
   "cell_type": "code",
   "execution_count": 26,
   "id": "86adf3cf",
   "metadata": {
    "ExecuteTime": {
     "end_time": "2023-10-12T06:50:19.031926Z",
     "start_time": "2023-10-12T06:50:18.868557Z"
    }
   },
   "outputs": [
    {
     "data": {
      "image/png": "[encoded data removed]",
      "text/plain": [
       "<Figure size 640x480 with 1 Axes>"
      ]
     },
     "metadata": {},
     "output_type": "display_data"
    }
   ],
   "source": [
    "fig = sm.graphics.tsa.plot_predict(model_fit)"
   ]
  },
  {
   "cell_type": "code",
   "execution_count": 28,
   "id": "d97b31b2",
   "metadata": {
    "ExecuteTime": {
     "end_time": "2023-10-12T06:51:10.985653Z",
     "start_time": "2023-10-12T06:51:10.849327Z"
    }
   },
   "outputs": [
    {
     "data": {
      "image/png": "[encoded data removed]",
      "text/plain": [
       "<Figure size 640x480 with 1 Axes>"
      ]
     },
     "metadata": {},
     "output_type": "display_data"
    }
   ],
   "source": [
    "residuals = pd.DataFrame(model_fit.resid)\n",
    "residuals.plot()\n",
    "plt.ylim(-5000,7000)\n",
    "plt.show()"
   ]
  },
  {
   "cell_type": "code",
   "execution_count": 29,
   "id": "d272ba09",
   "metadata": {
    "ExecuteTime": {
     "end_time": "2023-10-12T06:56:23.527010Z",
     "start_time": "2023-10-12T06:56:23.512540Z"
    }
   },
   "outputs": [
    {
     "data": {
      "text/plain": [
       "array([21332.38450788, 21425.59465777, 21322.44435339, 21193.19396232,\n",
       "       21249.21555904])"
      ]
     },
     "execution_count": 29,
     "metadata": {},
     "output_type": "execute_result"
    }
   ],
   "source": [
    "test = pd.read_csv('C:/k_digital/Pythonbasic/market-price-test.csv' , names = ['ds' , 'y'])\n",
    "# 학습한 모델을 이용하여 5일 뒤의 값을 예측\n",
    "\n",
    "predict = model_fit.forecast(steps = 5)\n",
    "predict"
   ]
  },
  {
   "cell_type": "code",
   "execution_count": 34,
   "id": "006a70ad",
   "metadata": {
    "ExecuteTime": {
     "end_time": "2023-10-12T07:02:50.099078Z",
     "start_time": "2023-10-12T07:02:50.078526Z"
    }
   },
   "outputs": [
    {
     "data": {
      "text/html": [
       "<div>\n",
       "<style scoped>\n",
       "    .dataframe tbody tr th:only-of-type {\n",
       "        vertical-align: middle;\n",
       "    }\n",
       "\n",
       "    .dataframe tbody tr th {\n",
       "        vertical-align: top;\n",
       "    }\n",
       "\n",
       "    .dataframe thead th {\n",
       "        text-align: right;\n",
       "    }\n",
       "</style>\n",
       "<table border=\"1\" class=\"dataframe\">\n",
       "  <thead>\n",
       "    <tr style=\"text-align: right;\">\n",
       "      <th></th>\n",
       "      <th>ds</th>\n",
       "      <th>y</th>\n",
       "    </tr>\n",
       "  </thead>\n",
       "  <tbody>\n",
       "    <tr>\n",
       "      <th>0</th>\n",
       "      <td>2022/06/26 0:00</td>\n",
       "      <td>21481.38</td>\n",
       "    </tr>\n",
       "    <tr>\n",
       "      <th>1</th>\n",
       "      <td>2022/06/27 0:00</td>\n",
       "      <td>21020.04</td>\n",
       "    </tr>\n",
       "    <tr>\n",
       "      <th>2</th>\n",
       "      <td>2022/06/28 0:00</td>\n",
       "      <td>20702.23</td>\n",
       "    </tr>\n",
       "    <tr>\n",
       "      <th>3</th>\n",
       "      <td>2022/06/29 0:00</td>\n",
       "      <td>20256.61</td>\n",
       "    </tr>\n",
       "    <tr>\n",
       "      <th>4</th>\n",
       "      <td>2022/06/30 0:00</td>\n",
       "      <td>20085.93</td>\n",
       "    </tr>\n",
       "  </tbody>\n",
       "</table>\n",
       "</div>"
      ],
      "text/plain": [
       "                ds         y\n",
       "0  2022/06/26 0:00  21481.38\n",
       "1  2022/06/27 0:00  21020.04\n",
       "2  2022/06/28 0:00  20702.23\n",
       "3  2022/06/29 0:00  20256.61\n",
       "4  2022/06/30 0:00  20085.93"
      ]
     },
     "execution_count": 34,
     "metadata": {},
     "output_type": "execute_result"
    }
   ],
   "source": [
    "test.tail()"
   ]
  },
  {
   "cell_type": "code",
   "execution_count": 33,
   "id": "18e49084",
   "metadata": {
    "ExecuteTime": {
     "end_time": "2023-10-12T06:59:51.481896Z",
     "start_time": "2023-10-12T06:59:51.355453Z"
    },
    "scrolled": false
   },
   "outputs": [
    {
     "data": {
      "image/png": "[encoded data removed]",
      "text/plain": [
       "<Figure size 640x480 with 1 Axes>"
      ]
     },
     "metadata": {},
     "output_type": "display_data"
    }
   ],
   "source": [
    "plt.plot(test['y'].tail() , label = '실제 데이터')\n",
    "plt.plot(predict , label = '예측 데이터')\n",
    "plt.legend()\n",
    "plt.show()"
   ]
  },
  {
   "cell_type": "code",
   "execution_count": 38,
   "id": "2a17a053",
   "metadata": {
    "ExecuteTime": {
     "end_time": "2023-10-12T07:06:33.061141Z",
     "start_time": "2023-10-12T07:06:33.048100Z"
    }
   },
   "outputs": [
    {
     "name": "stdout",
     "output_type": "stream",
     "text": [
      "[21332.384507879728, 21425.594657770653, 21322.44435338963, 21193.193962322923, 21249.215559041644]\n",
      "[21481.38, 21020.04, 20702.23, 20256.61, 20085.93]\n"
     ]
    }
   ],
   "source": [
    "pred_y = predict.tolist()\n",
    "test_y = test['y'].tail().tolist()\n",
    "\n",
    "print(pred_y,test_y , sep='\\n')\n",
    "\n",
    "\n"
   ]
  },
  {
   "cell_type": "code",
   "execution_count": 40,
   "id": "59d58f77",
   "metadata": {
    "ExecuteTime": {
     "end_time": "2023-10-12T07:07:14.651927Z",
     "start_time": "2023-10-12T07:07:14.644073Z"
    }
   },
   "outputs": [
    {
     "data": {
      "text/plain": [
       "21193.193962322923"
      ]
     },
     "execution_count": 40,
     "metadata": {},
     "output_type": "execute_result"
    }
   ],
   "source": [
    "np.min(pred_y)"
   ]
  },
  {
   "cell_type": "code",
   "execution_count": 42,
   "id": "e2144c83",
   "metadata": {
    "ExecuteTime": {
     "end_time": "2023-10-12T07:33:00.157827Z",
     "start_time": "2023-10-12T07:33:00.137785Z"
    }
   },
   "outputs": [
    {
     "data": {
      "text/plain": [
       "748.5670165880254"
      ]
     },
     "execution_count": 42,
     "metadata": {},
     "output_type": "execute_result"
    }
   ],
   "source": [
    "from sklearn.metrics import mean_squared_error\n",
    "from math import sqrt\n",
    "\n",
    "rmse = sqrt(mean_squared_error(pred_y , test_y))\n",
    "rmse"
   ]
  },
  {
   "cell_type": "markdown",
   "id": "0099f0c7",
   "metadata": {},
   "source": [
    "## Grid Search"
   ]
  },
  {
   "cell_type": "code",
   "execution_count": 44,
   "id": "801c315e",
   "metadata": {
    "ExecuteTime": {
     "end_time": "2023-10-12T07:38:26.897018Z",
     "start_time": "2023-10-12T07:38:26.891825Z"
    }
   },
   "outputs": [],
   "source": [
    "from tqdm import tqdm\n",
    "from statsmodels.tsa.statespace.sarimax import SARIMAX\n",
    "#progress bar를 표현하는 패키지"
   ]
  },
  {
   "cell_type": "code",
   "execution_count": 48,
   "id": "547a14ae",
   "metadata": {
    "ExecuteTime": {
     "end_time": "2023-10-12T07:45:42.948176Z",
     "start_time": "2023-10-12T07:45:40.552318Z"
    }
   },
   "outputs": [
    {
     "name": "stderr",
     "output_type": "stream",
     "text": [
      " 72%|███████████████████████████████████████████████████████████▏                      | 13/18 [00:00<00:00, 16.21it/s]C:\\Anaconda3\\lib\\site-packages\\statsmodels\\base\\model.py:607: ConvergenceWarning: Maximum Likelihood optimization failed to converge. Check mle_retvals\n",
      "  warnings.warn(\"Maximum Likelihood optimization failed to \"\n",
      " 89%|████████████████████████████████████████████████████████████████████████▉         | 16/18 [00:01<00:00, 11.87it/s]C:\\Anaconda3\\lib\\site-packages\\statsmodels\\base\\model.py:607: ConvergenceWarning: Maximum Likelihood optimization failed to converge. Check mle_retvals\n",
      "  warnings.warn(\"Maximum Likelihood optimization failed to \"\n",
      "C:\\Anaconda3\\lib\\site-packages\\statsmodels\\base\\model.py:607: ConvergenceWarning: Maximum Likelihood optimization failed to converge. Check mle_retvals\n",
      "  warnings.warn(\"Maximum Likelihood optimization failed to \"\n",
      "100%|██████████████████████████████████████████████████████████████████████████████████| 18/18 [00:01<00:00,  6.21it/s]C:\\Anaconda3\\lib\\site-packages\\statsmodels\\base\\model.py:607: ConvergenceWarning: Maximum Likelihood optimization failed to converge. Check mle_retvals\n",
      "  warnings.warn(\"Maximum Likelihood optimization failed to \"\n",
      "100%|██████████████████████████████████████████████████████████████████████████████████| 18/18 [00:02<00:00,  7.54it/s]\n"
     ]
    }
   ],
   "source": [
    "p = range(0,3)\n",
    "d = range(1,2)\n",
    "q = range(0,6)\n",
    "\n",
    "pdq = list(itertools.product(p , d , q))\n",
    "\n",
    "aic = []\n",
    "params = []\n",
    "with tqdm(total = len(pdq)) as pg:\n",
    "    for i in pdq:\n",
    "        pg.update(1)\n",
    "        try:\n",
    "            model = SARIMAX(bitcoin.price.values , order = (i))\n",
    "            model_fit = model.fit()\n",
    "            aic.append(round(model_fit.aic , 2))\n",
    "            params.append(i)\n",
    "        except:\n",
    "            continue\n",
    "    "
   ]
  },
  {
   "cell_type": "code",
   "execution_count": 56,
   "id": "8fc9e0ac",
   "metadata": {
    "ExecuteTime": {
     "end_time": "2023-10-12T07:50:17.220027Z",
     "start_time": "2023-10-12T07:50:17.212363Z"
    }
   },
   "outputs": [
    {
     "data": {
      "text/plain": [
       "[((2, 1, 2), 6300.47)]"
      ]
     },
     "execution_count": 56,
     "metadata": {},
     "output_type": "execute_result"
    }
   ],
   "source": [
    "optimal = [(params[i] , j) for i,j in enumerate(aic) if j == min(aic)]\n",
    "optimal"
   ]
  },
  {
   "cell_type": "code",
   "execution_count": 57,
   "id": "fccf3ab8",
   "metadata": {
    "ExecuteTime": {
     "end_time": "2023-10-12T07:54:06.419370Z",
     "start_time": "2023-10-12T07:54:06.059116Z"
    }
   },
   "outputs": [
    {
     "name": "stderr",
     "output_type": "stream",
     "text": [
      "C:\\Anaconda3\\lib\\site-packages\\statsmodels\\base\\model.py:607: ConvergenceWarning: Maximum Likelihood optimization failed to converge. Check mle_retvals\n",
      "  warnings.warn(\"Maximum Likelihood optimization failed to \"\n"
     ]
    },
    {
     "data": {
      "text/html": [
       "<table class=\"simpletable\">\n",
       "<caption>SARIMAX Results</caption>\n",
       "<tr>\n",
       "  <th>Dep. Variable:</th>           <td>y</td>        <th>  No. Observations:  </th>    <td>361</td>   \n",
       "</tr>\n",
       "<tr>\n",
       "  <th>Model:</th>           <td>SARIMAX(2, 1, 2)</td> <th>  Log Likelihood     </th> <td>-3145.235</td>\n",
       "</tr>\n",
       "<tr>\n",
       "  <th>Date:</th>            <td>Thu, 12 Oct 2023</td> <th>  AIC                </th> <td>6300.470</td> \n",
       "</tr>\n",
       "<tr>\n",
       "  <th>Time:</th>                <td>16:54:06</td>     <th>  BIC                </th> <td>6319.900</td> \n",
       "</tr>\n",
       "<tr>\n",
       "  <th>Sample:</th>                  <td>0</td>        <th>  HQIC               </th> <td>6308.196</td> \n",
       "</tr>\n",
       "<tr>\n",
       "  <th></th>                      <td> - 361</td>      <th>                     </th>     <td> </td>    \n",
       "</tr>\n",
       "<tr>\n",
       "  <th>Covariance Type:</th>        <td>opg</td>       <th>                     </th>     <td> </td>    \n",
       "</tr>\n",
       "</table>\n",
       "<table class=\"simpletable\">\n",
       "<tr>\n",
       "     <td></td>       <th>coef</th>     <th>std err</th>      <th>z</th>      <th>P>|z|</th>  <th>[0.025</th>    <th>0.975]</th>  \n",
       "</tr>\n",
       "<tr>\n",
       "  <th>ar.L1</th>  <td>    0.3575</td> <td>    0.009</td> <td>   40.725</td> <td> 0.000</td> <td>    0.340</td> <td>    0.375</td>\n",
       "</tr>\n",
       "<tr>\n",
       "  <th>ar.L2</th>  <td>   -0.9910</td> <td>    0.008</td> <td> -128.001</td> <td> 0.000</td> <td>   -1.006</td> <td>   -0.976</td>\n",
       "</tr>\n",
       "<tr>\n",
       "  <th>ma.L1</th>  <td>   -0.3760</td> <td>    0.017</td> <td>  -21.949</td> <td> 0.000</td> <td>   -0.410</td> <td>   -0.342</td>\n",
       "</tr>\n",
       "<tr>\n",
       "  <th>ma.L2</th>  <td>    0.9980</td> <td>    0.050</td> <td>   19.769</td> <td> 0.000</td> <td>    0.899</td> <td>    1.097</td>\n",
       "</tr>\n",
       "<tr>\n",
       "  <th>sigma2</th> <td> 2.358e+06</td> <td> 1.52e-08</td> <td> 1.56e+14</td> <td> 0.000</td> <td> 2.36e+06</td> <td> 2.36e+06</td>\n",
       "</tr>\n",
       "</table>\n",
       "<table class=\"simpletable\">\n",
       "<tr>\n",
       "  <th>Ljung-Box (L1) (Q):</th>     <td>0.25</td> <th>  Jarque-Bera (JB):  </th> <td>26.62</td>\n",
       "</tr>\n",
       "<tr>\n",
       "  <th>Prob(Q):</th>                <td>0.62</td> <th>  Prob(JB):          </th> <td>0.00</td> \n",
       "</tr>\n",
       "<tr>\n",
       "  <th>Heteroskedasticity (H):</th> <td>0.73</td> <th>  Skew:              </th> <td>-0.19</td>\n",
       "</tr>\n",
       "<tr>\n",
       "  <th>Prob(H) (two-sided):</th>    <td>0.09</td> <th>  Kurtosis:          </th> <td>4.28</td> \n",
       "</tr>\n",
       "</table><br/><br/>Warnings:<br/>[1] Covariance matrix calculated using the outer product of gradients (complex-step).<br/>[2] Covariance matrix is singular or near-singular, with condition number 8.56e+28. Standard errors may be unstable."
      ],
      "text/latex": [
       "\\begin{center}\n",
       "\\begin{tabular}{lclc}\n",
       "\\toprule\n",
       "\\textbf{Dep. Variable:}          &        y         & \\textbf{  No. Observations:  } &    361      \\\\\n",
       "\\textbf{Model:}                  & SARIMAX(2, 1, 2) & \\textbf{  Log Likelihood     } & -3145.235   \\\\\n",
       "\\textbf{Date:}                   & Thu, 12 Oct 2023 & \\textbf{  AIC                } &  6300.470   \\\\\n",
       "\\textbf{Time:}                   &     16:54:06     & \\textbf{  BIC                } &  6319.900   \\\\\n",
       "\\textbf{Sample:}                 &        0         & \\textbf{  HQIC               } &  6308.196   \\\\\n",
       "\\textbf{}                        &       - 361      & \\textbf{                     } &             \\\\\n",
       "\\textbf{Covariance Type:}        &       opg        & \\textbf{                     } &             \\\\\n",
       "\\bottomrule\n",
       "\\end{tabular}\n",
       "\\begin{tabular}{lcccccc}\n",
       "                & \\textbf{coef} & \\textbf{std err} & \\textbf{z} & \\textbf{P$> |$z$|$} & \\textbf{[0.025} & \\textbf{0.975]}  \\\\\n",
       "\\midrule\n",
       "\\textbf{ar.L1}  &       0.3575  &        0.009     &    40.725  &         0.000        &        0.340    &        0.375     \\\\\n",
       "\\textbf{ar.L2}  &      -0.9910  &        0.008     &  -128.001  &         0.000        &       -1.006    &       -0.976     \\\\\n",
       "\\textbf{ma.L1}  &      -0.3760  &        0.017     &   -21.949  &         0.000        &       -0.410    &       -0.342     \\\\\n",
       "\\textbf{ma.L2}  &       0.9980  &        0.050     &    19.769  &         0.000        &        0.899    &        1.097     \\\\\n",
       "\\textbf{sigma2} &    2.358e+06  &     1.52e-08     &  1.56e+14  &         0.000        &     2.36e+06    &     2.36e+06     \\\\\n",
       "\\bottomrule\n",
       "\\end{tabular}\n",
       "\\begin{tabular}{lclc}\n",
       "\\textbf{Ljung-Box (L1) (Q):}     & 0.25 & \\textbf{  Jarque-Bera (JB):  } & 26.62  \\\\\n",
       "\\textbf{Prob(Q):}                & 0.62 & \\textbf{  Prob(JB):          } &  0.00  \\\\\n",
       "\\textbf{Heteroskedasticity (H):} & 0.73 & \\textbf{  Skew:              } & -0.19  \\\\\n",
       "\\textbf{Prob(H) (two-sided):}    & 0.09 & \\textbf{  Kurtosis:          } &  4.28  \\\\\n",
       "\\bottomrule\n",
       "\\end{tabular}\n",
       "%\\caption{SARIMAX Results}\n",
       "\\end{center}\n",
       "\n",
       "Warnings: \\newline\n",
       " [1] Covariance matrix calculated using the outer product of gradients (complex-step). \\newline\n",
       " [2] Covariance matrix is singular or near-singular, with condition number 8.56e+28. Standard errors may be unstable."
      ],
      "text/plain": [
       "<class 'statsmodels.iolib.summary.Summary'>\n",
       "\"\"\"\n",
       "                               SARIMAX Results                                \n",
       "==============================================================================\n",
       "Dep. Variable:                      y   No. Observations:                  361\n",
       "Model:               SARIMAX(2, 1, 2)   Log Likelihood               -3145.235\n",
       "Date:                Thu, 12 Oct 2023   AIC                           6300.470\n",
       "Time:                        16:54:06   BIC                           6319.900\n",
       "Sample:                             0   HQIC                          6308.196\n",
       "                                - 361                                         \n",
       "Covariance Type:                  opg                                         \n",
       "==============================================================================\n",
       "                 coef    std err          z      P>|z|      [0.025      0.975]\n",
       "------------------------------------------------------------------------------\n",
       "ar.L1          0.3575      0.009     40.725      0.000       0.340       0.375\n",
       "ar.L2         -0.9910      0.008   -128.001      0.000      -1.006      -0.976\n",
       "ma.L1         -0.3760      0.017    -21.949      0.000      -0.410      -0.342\n",
       "ma.L2          0.9980      0.050     19.769      0.000       0.899       1.097\n",
       "sigma2      2.358e+06   1.52e-08   1.56e+14      0.000    2.36e+06    2.36e+06\n",
       "===================================================================================\n",
       "Ljung-Box (L1) (Q):                   0.25   Jarque-Bera (JB):                26.62\n",
       "Prob(Q):                              0.62   Prob(JB):                         0.00\n",
       "Heteroskedasticity (H):               0.73   Skew:                            -0.19\n",
       "Prob(H) (two-sided):                  0.09   Kurtosis:                         4.28\n",
       "===================================================================================\n",
       "\n",
       "Warnings:\n",
       "[1] Covariance matrix calculated using the outer product of gradients (complex-step).\n",
       "[2] Covariance matrix is singular or near-singular, with condition number 8.56e+28. Standard errors may be unstable.\n",
       "\"\"\""
      ]
     },
     "execution_count": 57,
     "metadata": {},
     "output_type": "execute_result"
    }
   ],
   "source": [
    "model_opt = SARIMAX(bitcoin.price.values , order = optimal[0][0])\n",
    "model_opt_fit = model_opt.fit()\n",
    "model_opt_fit.summary()"
   ]
  },
  {
   "cell_type": "code",
   "execution_count": 62,
   "id": "2286b246",
   "metadata": {
    "ExecuteTime": {
     "end_time": "2023-10-12T07:55:09.869529Z",
     "start_time": "2023-10-12T07:55:09.834879Z"
    }
   },
   "outputs": [
    {
     "data": {
      "text/html": [
       "<table class=\"simpletable\">\n",
       "<caption>SARIMAX Results</caption>\n",
       "<tr>\n",
       "  <th>Dep. Variable:</th>           <td>y</td>        <th>  No. Observations:  </th>    <td>361</td>   \n",
       "</tr>\n",
       "<tr>\n",
       "  <th>Model:</th>            <td>ARIMA(2, 1, 2)</td>  <th>  Log Likelihood     </th> <td>-3145.235</td>\n",
       "</tr>\n",
       "<tr>\n",
       "  <th>Date:</th>            <td>Thu, 12 Oct 2023</td> <th>  AIC                </th> <td>6300.470</td> \n",
       "</tr>\n",
       "<tr>\n",
       "  <th>Time:</th>                <td>16:55:09</td>     <th>  BIC                </th> <td>6319.900</td> \n",
       "</tr>\n",
       "<tr>\n",
       "  <th>Sample:</th>                  <td>0</td>        <th>  HQIC               </th> <td>6308.196</td> \n",
       "</tr>\n",
       "<tr>\n",
       "  <th></th>                      <td> - 361</td>      <th>                     </th>     <td> </td>    \n",
       "</tr>\n",
       "<tr>\n",
       "  <th>Covariance Type:</th>        <td>opg</td>       <th>                     </th>     <td> </td>    \n",
       "</tr>\n",
       "</table>\n",
       "<table class=\"simpletable\">\n",
       "<tr>\n",
       "     <td></td>       <th>coef</th>     <th>std err</th>      <th>z</th>      <th>P>|z|</th>  <th>[0.025</th>    <th>0.975]</th>  \n",
       "</tr>\n",
       "<tr>\n",
       "  <th>ar.L1</th>  <td>    0.3575</td> <td>    0.009</td> <td>   40.725</td> <td> 0.000</td> <td>    0.340</td> <td>    0.375</td>\n",
       "</tr>\n",
       "<tr>\n",
       "  <th>ar.L2</th>  <td>   -0.9910</td> <td>    0.008</td> <td> -128.001</td> <td> 0.000</td> <td>   -1.006</td> <td>   -0.976</td>\n",
       "</tr>\n",
       "<tr>\n",
       "  <th>ma.L1</th>  <td>   -0.3760</td> <td>    0.017</td> <td>  -21.949</td> <td> 0.000</td> <td>   -0.410</td> <td>   -0.342</td>\n",
       "</tr>\n",
       "<tr>\n",
       "  <th>ma.L2</th>  <td>    0.9980</td> <td>    0.050</td> <td>   19.769</td> <td> 0.000</td> <td>    0.899</td> <td>    1.097</td>\n",
       "</tr>\n",
       "<tr>\n",
       "  <th>sigma2</th> <td> 2.358e+06</td> <td> 1.52e-08</td> <td> 1.56e+14</td> <td> 0.000</td> <td> 2.36e+06</td> <td> 2.36e+06</td>\n",
       "</tr>\n",
       "</table>\n",
       "<table class=\"simpletable\">\n",
       "<tr>\n",
       "  <th>Ljung-Box (L1) (Q):</th>     <td>0.25</td> <th>  Jarque-Bera (JB):  </th> <td>26.62</td>\n",
       "</tr>\n",
       "<tr>\n",
       "  <th>Prob(Q):</th>                <td>0.62</td> <th>  Prob(JB):          </th> <td>0.00</td> \n",
       "</tr>\n",
       "<tr>\n",
       "  <th>Heteroskedasticity (H):</th> <td>0.73</td> <th>  Skew:              </th> <td>-0.19</td>\n",
       "</tr>\n",
       "<tr>\n",
       "  <th>Prob(H) (two-sided):</th>    <td>0.09</td> <th>  Kurtosis:          </th> <td>4.28</td> \n",
       "</tr>\n",
       "</table><br/><br/>Warnings:<br/>[1] Covariance matrix calculated using the outer product of gradients (complex-step).<br/>[2] Covariance matrix is singular or near-singular, with condition number 8.56e+28. Standard errors may be unstable."
      ],
      "text/latex": [
       "\\begin{center}\n",
       "\\begin{tabular}{lclc}\n",
       "\\toprule\n",
       "\\textbf{Dep. Variable:}          &        y         & \\textbf{  No. Observations:  } &    361      \\\\\n",
       "\\textbf{Model:}                  &  ARIMA(2, 1, 2)  & \\textbf{  Log Likelihood     } & -3145.235   \\\\\n",
       "\\textbf{Date:}                   & Thu, 12 Oct 2023 & \\textbf{  AIC                } &  6300.470   \\\\\n",
       "\\textbf{Time:}                   &     16:55:09     & \\textbf{  BIC                } &  6319.900   \\\\\n",
       "\\textbf{Sample:}                 &        0         & \\textbf{  HQIC               } &  6308.196   \\\\\n",
       "\\textbf{}                        &       - 361      & \\textbf{                     } &             \\\\\n",
       "\\textbf{Covariance Type:}        &       opg        & \\textbf{                     } &             \\\\\n",
       "\\bottomrule\n",
       "\\end{tabular}\n",
       "\\begin{tabular}{lcccccc}\n",
       "                & \\textbf{coef} & \\textbf{std err} & \\textbf{z} & \\textbf{P$> |$z$|$} & \\textbf{[0.025} & \\textbf{0.975]}  \\\\\n",
       "\\midrule\n",
       "\\textbf{ar.L1}  &       0.3575  &        0.009     &    40.725  &         0.000        &        0.340    &        0.375     \\\\\n",
       "\\textbf{ar.L2}  &      -0.9910  &        0.008     &  -128.001  &         0.000        &       -1.006    &       -0.976     \\\\\n",
       "\\textbf{ma.L1}  &      -0.3760  &        0.017     &   -21.949  &         0.000        &       -0.410    &       -0.342     \\\\\n",
       "\\textbf{ma.L2}  &       0.9980  &        0.050     &    19.769  &         0.000        &        0.899    &        1.097     \\\\\n",
       "\\textbf{sigma2} &    2.358e+06  &     1.52e-08     &  1.56e+14  &         0.000        &     2.36e+06    &     2.36e+06     \\\\\n",
       "\\bottomrule\n",
       "\\end{tabular}\n",
       "\\begin{tabular}{lclc}\n",
       "\\textbf{Ljung-Box (L1) (Q):}     & 0.25 & \\textbf{  Jarque-Bera (JB):  } & 26.62  \\\\\n",
       "\\textbf{Prob(Q):}                & 0.62 & \\textbf{  Prob(JB):          } &  0.00  \\\\\n",
       "\\textbf{Heteroskedasticity (H):} & 0.73 & \\textbf{  Skew:              } & -0.19  \\\\\n",
       "\\textbf{Prob(H) (two-sided):}    & 0.09 & \\textbf{  Kurtosis:          } &  4.28  \\\\\n",
       "\\bottomrule\n",
       "\\end{tabular}\n",
       "%\\caption{SARIMAX Results}\n",
       "\\end{center}\n",
       "\n",
       "Warnings: \\newline\n",
       " [1] Covariance matrix calculated using the outer product of gradients (complex-step). \\newline\n",
       " [2] Covariance matrix is singular or near-singular, with condition number 8.56e+28. Standard errors may be unstable."
      ],
      "text/plain": [
       "<class 'statsmodels.iolib.summary.Summary'>\n",
       "\"\"\"\n",
       "                               SARIMAX Results                                \n",
       "==============================================================================\n",
       "Dep. Variable:                      y   No. Observations:                  361\n",
       "Model:                 ARIMA(2, 1, 2)   Log Likelihood               -3145.235\n",
       "Date:                Thu, 12 Oct 2023   AIC                           6300.470\n",
       "Time:                        16:55:09   BIC                           6319.900\n",
       "Sample:                             0   HQIC                          6308.196\n",
       "                                - 361                                         \n",
       "Covariance Type:                  opg                                         \n",
       "==============================================================================\n",
       "                 coef    std err          z      P>|z|      [0.025      0.975]\n",
       "------------------------------------------------------------------------------\n",
       "ar.L1          0.3575      0.009     40.725      0.000       0.340       0.375\n",
       "ar.L2         -0.9910      0.008   -128.001      0.000      -1.006      -0.976\n",
       "ma.L1         -0.3760      0.017    -21.949      0.000      -0.410      -0.342\n",
       "ma.L2          0.9980      0.050     19.769      0.000       0.899       1.097\n",
       "sigma2      2.358e+06   1.52e-08   1.56e+14      0.000    2.36e+06    2.36e+06\n",
       "===================================================================================\n",
       "Ljung-Box (L1) (Q):                   0.25   Jarque-Bera (JB):                26.62\n",
       "Prob(Q):                              0.62   Prob(JB):                         0.00\n",
       "Heteroskedasticity (H):               0.73   Skew:                            -0.19\n",
       "Prob(H) (two-sided):                  0.09   Kurtosis:                         4.28\n",
       "===================================================================================\n",
       "\n",
       "Warnings:\n",
       "[1] Covariance matrix calculated using the outer product of gradients (complex-step).\n",
       "[2] Covariance matrix is singular or near-singular, with condition number 8.56e+28. Standard errors may be unstable.\n",
       "\"\"\""
      ]
     },
     "execution_count": 62,
     "metadata": {},
     "output_type": "execute_result"
    }
   ],
   "source": [
    "model_fit.summary()"
   ]
  },
  {
   "cell_type": "code",
   "execution_count": null,
   "id": "b2435bef",
   "metadata": {},
   "outputs": [],
   "source": [
    " "
   ]
  }
 ],
 "metadata": {
  "kernelspec": {
   "display_name": "Python 3 (ipykernel)",
   "language": "python",
   "name": "python3"
  },
  "language_info": {
   "codemirror_mode": {
    "name": "ipython",
    "version": 3
   },
   "file_extension": ".py",
   "mimetype": "text/x-python",
   "name": "python",
   "nbconvert_exporter": "python",
   "pygments_lexer": "ipython3",
   "version": "3.8.17"
  },
  "toc": {
   "base_numbering": 1,
   "nav_menu": {},
   "number_sections": true,
   "sideBar": true,
   "skip_h1_title": false,
   "title_cell": "Table of Contents",
   "title_sidebar": "Contents",
   "toc_cell": false,
   "toc_position": {},
   "toc_section_display": true,
   "toc_window_display": false
  }
 },
 "nbformat": 4,
 "nbformat_minor": 5
}
