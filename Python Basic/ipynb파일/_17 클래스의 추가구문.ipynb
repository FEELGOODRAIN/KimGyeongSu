{
 "cells": [
  {
   "cell_type": "markdown",
   "id": "94950da7",
   "metadata": {},
   "source": [
    "# isinstance() , 클래스 변수 , 클래스 함수\n",
    "\n",
    "## 상속(Inheritance) : 부모 클래스로부터 자녀클래스로 자원을 물려주는 것\n",
    " - 재활용을 극대화"
   ]
  },
  {
   "cell_type": "code",
   "execution_count": null,
   "id": "fa6e92c1",
   "metadata": {
    "ExecuteTime": {
     "end_time": "2023-08-30T00:17:29.373370Z",
     "start_time": "2023-08-30T00:17:29.360029Z"
    }
   },
   "outputs": [],
   "source": [
    "class Student:\n",
    "    def study(self):\n",
    "        print('공부를 합니다')\n",
    "\n",
    "    \n",
    "class Teacher:\n",
    "    def teach(self):\n",
    "        print('학생을 가르칩니다')"
   ]
  },
  {
   "cell_type": "code",
   "execution_count": null,
   "id": "de8bc5d1",
   "metadata": {
    "ExecuteTime": {
     "end_time": "2023-08-30T00:18:11.276668Z",
     "start_time": "2023-08-30T00:18:11.262676Z"
    }
   },
   "outputs": [],
   "source": [
    "student = Student()"
   ]
  },
  {
   "cell_type": "code",
   "execution_count": null,
   "id": "75fca876",
   "metadata": {
    "ExecuteTime": {
     "end_time": "2023-08-30T00:11:19.535676Z",
     "start_time": "2023-08-30T00:11:19.524356Z"
    }
   },
   "outputs": [],
   "source": [
    "print(isinstance(student,Student))"
   ]
  },
  {
   "cell_type": "code",
   "execution_count": null,
   "id": "b15614bb",
   "metadata": {
    "ExecuteTime": {
     "end_time": "2023-08-30T00:19:18.707627Z",
     "start_time": "2023-08-30T00:19:18.703320Z"
    }
   },
   "outputs": [],
   "source": [
    "classroom = [Student(),Student(),Teacher(),Teacher(),Student(),Teacher()]"
   ]
  },
  {
   "cell_type": "code",
   "execution_count": null,
   "id": "087212ad",
   "metadata": {
    "ExecuteTime": {
     "end_time": "2023-08-30T00:19:19.715063Z",
     "start_time": "2023-08-30T00:19:19.705499Z"
    }
   },
   "outputs": [],
   "source": [
    "for i in classroom:\n",
    "    if isinstance(i,Student):\n",
    "        i.study()\n",
    "    elif isinstance(i,Teacher):\n",
    "        i.teach()\n",
    "        \n",
    "        \n"
   ]
  },
  {
   "cell_type": "markdown",
   "id": "c81d5e20",
   "metadata": {},
   "source": [
    "## toString() : 문자열을 반환할 목적으로 구현"
   ]
  },
  {
   "cell_type": "code",
   "execution_count": 36,
   "id": "3d007d0f",
   "metadata": {
    "ExecuteTime": {
     "end_time": "2023-08-30T00:49:03.333304Z",
     "start_time": "2023-08-30T00:49:03.326397Z"
    }
   },
   "outputs": [],
   "source": [
    "class Student:\n",
    "    def __init__(self,name,kor,eng,math):\n",
    "        self.name = name\n",
    "        self.kor = kor\n",
    "        self.eng = eng\n",
    "        self.math = math\n",
    "    def get_sum(self):\n",
    "        return self.kor + self.eng + self.math    \n",
    "    def avg(self):\n",
    "        return self.get_sum() / 3\n",
    "    def __str__(self):\n",
    "        print('이름\\t총점\\t평균')\n",
    "        print('{}\\t{}\\t{}'.format(self.name , self.get_sum() , self.avg())) "
   ]
  },
  {
   "cell_type": "code",
   "execution_count": 58,
   "id": "00142084",
   "metadata": {
    "ExecuteTime": {
     "end_time": "2023-08-30T00:52:52.281317Z",
     "start_time": "2023-08-30T00:52:52.275965Z"
    },
    "scrolled": true
   },
   "outputs": [],
   "source": [
    "students = [Student('aaa',87,96,95),Student('bbb',95,100,29),Student('ccc',100,100,100),Student('ddd',90,40,80),Student('eee',80,92,94)]"
   ]
  },
  {
   "cell_type": "markdown",
   "id": "a01d4602",
   "metadata": {},
   "source": [
    "# getter/setter 메서드"
   ]
  },
  {
   "cell_type": "code",
   "execution_count": 73,
   "id": "e52dcdbf",
   "metadata": {
    "ExecuteTime": {
     "end_time": "2023-08-30T01:27:21.007554Z",
     "start_time": "2023-08-30T01:27:20.989548Z"
    }
   },
   "outputs": [],
   "source": [
    "import math"
   ]
  },
  {
   "cell_type": "code",
   "execution_count": 74,
   "id": "d2ceed4f",
   "metadata": {
    "ExecuteTime": {
     "end_time": "2023-08-30T01:28:09.161863Z",
     "start_time": "2023-08-30T01:28:09.152553Z"
    }
   },
   "outputs": [],
   "source": [
    "class Circle:\n",
    "    def __init__(self,radius):\n",
    "        self.radius = radius\n",
    "    def get_area(self):\n",
    "        return math.pi * (self.radius**2)\n",
    "    def get_side(self):\n",
    "        return 2 * math.pi * self.radius"
   ]
  },
  {
   "cell_type": "code",
   "execution_count": 84,
   "id": "0f04fecb",
   "metadata": {
    "ExecuteTime": {
     "end_time": "2023-08-30T02:04:21.584584Z",
     "start_time": "2023-08-30T02:04:19.950101Z"
    }
   },
   "outputs": [
    {
     "name": "stdout",
     "output_type": "stream",
     "text": [
      "20 30 40\n",
      "30\n"
     ]
    }
   ],
   "source": [
    "a,b,c = map(int,input().split(' '))\n",
    "avg = int((a+b+c)/3)\n",
    "print(avg)"
   ]
  }
 ],
 "metadata": {
  "kernelspec": {
   "display_name": "Python 3",
   "language": "python",
   "name": "python3"
  },
  "language_info": {
   "codemirror_mode": {
    "name": "ipython",
    "version": 3
   },
   "file_extension": ".py",
   "mimetype": "text/x-python",
   "name": "python",
   "nbconvert_exporter": "python",
   "pygments_lexer": "ipython3",
   "version": "3.8.8"
  },
  "toc": {
   "base_numbering": 1,
   "nav_menu": {},
   "number_sections": true,
   "sideBar": true,
   "skip_h1_title": false,
   "title_cell": "Table of Contents",
   "title_sidebar": "Contents",
   "toc_cell": false,
   "toc_position": {},
   "toc_section_display": true,
   "toc_window_display": false
  }
 },
 "nbformat": 4,
 "nbformat_minor": 5
}
