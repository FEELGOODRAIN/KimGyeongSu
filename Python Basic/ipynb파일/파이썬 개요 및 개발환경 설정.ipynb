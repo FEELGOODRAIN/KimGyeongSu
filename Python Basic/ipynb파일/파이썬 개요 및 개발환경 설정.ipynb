{
 "cells": [
  {
   "cell_type": "markdown",
   "id": "424c2d4d",
   "metadata": {},
   "source": [
    "### 여러 줄에 걸쳐 명령어 입력 가능"
   ]
  },
  {
   "cell_type": "code",
   "execution_count": 3,
   "id": "af9e431e",
   "metadata": {},
   "outputs": [],
   "source": [
    "a=10\n",
    "b=5\n",
    "c=-17"
   ]
  },
  {
   "cell_type": "code",
   "execution_count": 4,
   "id": "2a6798cc",
   "metadata": {},
   "outputs": [
    {
     "name": "stdout",
     "output_type": "stream",
     "text": [
      "test\n"
     ]
    }
   ],
   "source": [
    "print('test')"
   ]
  },
  {
   "cell_type": "code",
   "execution_count": 5,
   "id": "83836b96",
   "metadata": {},
   "outputs": [
    {
     "name": "stdout",
     "output_type": "stream",
     "text": [
      "10\n",
      "5\n",
      "-17\n"
     ]
    }
   ],
   "source": [
    "print(a)\n",
    "print(b)\n",
    "print(c)\n"
   ]
  },
  {
   "cell_type": "code",
   "execution_count": 6,
   "id": "01930d46",
   "metadata": {},
   "outputs": [
    {
     "name": "stdout",
     "output_type": "stream",
     "text": [
      "10 5 -17\n"
     ]
    }
   ],
   "source": [
    "print(a,b,c)"
   ]
  },
  {
   "cell_type": "code",
   "execution_count": 7,
   "id": "71d2edda",
   "metadata": {},
   "outputs": [
    {
     "name": "stdout",
     "output_type": "stream",
     "text": [
      "10 5 -17\n"
     ]
    }
   ],
   "source": [
    "print(a,\n",
    "      b,\n",
    "      c)"
   ]
  },
  {
   "cell_type": "code",
   "execution_count": null,
   "id": "00d44cd3",
   "metadata": {},
   "outputs": [],
   "source": []
  }
 ],
 "metadata": {
  "kernelspec": {
   "display_name": "Python 3",
   "language": "python",
   "name": "python3"
  },
  "language_info": {
   "codemirror_mode": {
    "name": "ipython",
    "version": 3
   },
   "file_extension": ".py",
   "mimetype": "text/x-python",
   "name": "python",
   "nbconvert_exporter": "python",
   "pygments_lexer": "ipython3",
   "version": "3.8.8"
  }
 },
 "nbformat": 4,
 "nbformat_minor": 5
}
