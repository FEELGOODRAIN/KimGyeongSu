{
 "cells": [
  {
   "cell_type": "markdown",
   "id": "cf7e2ef0",
   "metadata": {},
   "source": [
    "# 표준 입력함수 : input()\n",
    " - 파이썬에서 기본적으로 데이터를 키보드로 입력할 때 사용하는 함수 : 콘솔(console) 환경\n",
    " - input함수는 입력되는 모든 것을 문자열로 취급\n",
    " - 변수 = input()"
   ]
  },
  {
   "cell_type": "code",
   "execution_count": 2,
   "id": "1470f0eb",
   "metadata": {},
   "outputs": [
    {
     "name": "stdout",
     "output_type": "stream",
     "text": [
      "w\n",
      "w\n"
     ]
    }
   ],
   "source": [
    "# = 연산자의 방향 : 우에서 좌\n",
    "# + 연산자의 방향 : 좌에서 우\n",
    "c=input()\n",
    "print(c)"
   ]
  },
  {
   "cell_type": "code",
   "execution_count": 4,
   "id": "74a61b7c",
   "metadata": {},
   "outputs": [
    {
     "name": "stdout",
     "output_type": "stream",
     "text": [
      "숫자입력 : 2\n",
      "입력받은 숫자 :  2\n"
     ]
    }
   ],
   "source": [
    "#input 형식에 메시지를 담을 수 있음.\n",
    "\n",
    "b=input('숫자입력 : ')\n",
    "print('입력받은 숫자 : ',b)"
   ]
  },
  {
   "cell_type": "code",
   "execution_count": 15,
   "id": "b45bc6c3",
   "metadata": {},
   "outputs": [
    {
     "name": "stdout",
     "output_type": "stream",
     "text": [
      "반지름 입력 : 5\n",
      "면적 :  78.53981625 \n",
      "둘레 :  31.4159265\n"
     ]
    }
   ],
   "source": [
    "#반지름을 입력받아 원의 면적과 둘레를 계산하는 프로그램\n",
    "\n",
    "pi=3.14159265\n",
    "a=float(input('반지름 입력 : '))\n",
    "\n",
    "print('면적 : ' , pi*a**2 ,'\\n' '둘레 : ' ,2*pi*a)"
   ]
  },
  {
   "cell_type": "code",
   "execution_count": 17,
   "id": "45384a89",
   "metadata": {},
   "outputs": [
    {
     "name": "stdout",
     "output_type": "stream",
     "text": [
      "숫자 입력1 : 3\n",
      "숫자 입력2 : 4\n",
      "합 :  7.0 곱:  12.0\n"
     ]
    }
   ],
   "source": [
    "#두 숫자를 입력받아 합과 곱을 출력하는 프로그램\n",
    "\n",
    "a=float(input('숫자 입력1 : '))\n",
    "b=float(input('숫자 입력2 : '))\n",
    "\n",
    "\n",
    "hap = a+b\n",
    "gop = a*b\n",
    "\n",
    "print('합 : ' , hap , '곱: ', gop)"
   ]
  },
  {
   "cell_type": "markdown",
   "id": "5e9a759e",
   "metadata": {},
   "source": [
    "## 여러 값을 한번에 입력받는 함수\n",
    "\n",
    " - split() : 특정 문자를 기준으로 문자열을 잘라내는 함수\n",
    " - map() : map(변환함수 , 반복가능한 객체)"
   ]
  },
  {
   "cell_type": "code",
   "execution_count": 19,
   "id": "fa5eee03",
   "metadata": {},
   "outputs": [
    {
     "name": "stdout",
     "output_type": "stream",
     "text": [
      "1 2 3 4 5 6 7 8 9 10\n",
      "1 2 3 4 5 6 7 8 9 10\n"
     ]
    }
   ],
   "source": [
    "num = input()\n",
    "print(num)"
   ]
  },
  {
   "cell_type": "code",
   "execution_count": 5,
   "id": "bd43387e",
   "metadata": {},
   "outputs": [
    {
     "name": "stdout",
     "output_type": "stream",
     "text": [
      "30 40 50\n",
      "['30', '40', '50']\n"
     ]
    },
    {
     "data": {
      "text/plain": [
       "str"
      ]
     },
     "execution_count": 5,
     "metadata": {},
     "output_type": "execute_result"
    }
   ],
   "source": [
    "num = input().split() # 공백을 기준으로 잘라낸다.\n",
    "map(int,num)\n",
    "print(num)\n",
    "\n",
    "type(num[1])"
   ]
  },
  {
   "cell_type": "code",
   "execution_count": 26,
   "id": "4e20f3d4",
   "metadata": {},
   "outputs": [
    {
     "name": "stdout",
     "output_type": "stream",
     "text": [
      "1,2,3,4\n",
      "<map object at 0x00000283719BA760>\n"
     ]
    }
   ],
   "source": [
    "num = map(int , input().split(','))\n",
    "print(num)"
   ]
  },
  {
   "cell_type": "code",
   "execution_count": 28,
   "id": "3a5449b3",
   "metadata": {},
   "outputs": [
    {
     "name": "stdout",
     "output_type": "stream",
     "text": [
      "1,2,3,4,5\n",
      "[1, 2, 3, 4, 5]\n"
     ]
    }
   ],
   "source": [
    "#list(리스트) : 1차원 배열을 의미하는 자료형으로 R에서 vector와 같음\n",
    "\n",
    "num = list(map(int , input().split(',')))\n",
    "print(num)"
   ]
  },
  {
   "cell_type": "code",
   "execution_count": null,
   "id": "de914e03",
   "metadata": {},
   "outputs": [],
   "source": []
  },
  {
   "cell_type": "code",
   "execution_count": null,
   "id": "a0d27ca7",
   "metadata": {},
   "outputs": [],
   "source": []
  },
  {
   "cell_type": "markdown",
   "id": "0a4900a6",
   "metadata": {},
   "source": [
    "## 문자열 자료형"
   ]
  },
  {
   "cell_type": "markdown",
   "id": "7fd7fb4c",
   "metadata": {},
   "source": [
    "### 문자열 생성\n",
    " - 문자열은 '' , \"\" , \"\"\" \"\"\" ,''' '''로 생성 가능\n",
    " "
   ]
  },
  {
   "cell_type": "code",
   "execution_count": 29,
   "id": "b7b7ed3d",
   "metadata": {},
   "outputs": [
    {
     "name": "stdout",
     "output_type": "stream",
     "text": [
      " 오늘은 화요일 \n"
     ]
    }
   ],
   "source": [
    " c = \"\"\" 오늘은 화요일 \"\"\"\n",
    "print(c)"
   ]
  },
  {
   "cell_type": "code",
   "execution_count": 31,
   "id": "31b78055",
   "metadata": {},
   "outputs": [
    {
     "name": "stdout",
     "output_type": "stream",
     "text": [
      "life is short , \n",
      "you need python.\n",
      "\n"
     ]
    }
   ],
   "source": [
    " d = '''life is short , \n",
    " you need python.\n",
    " '''\n",
    "print(d)"
   ]
  },
  {
   "cell_type": "code",
   "execution_count": 32,
   "id": "1338aaa7",
   "metadata": {},
   "outputs": [
    {
     "name": "stdout",
     "output_type": "stream",
     "text": [
      " life is too short , \n",
      " you need python.\n"
     ]
    }
   ],
   "source": [
    "e = ' life is too short , \\n you need python.'\n",
    "print(e)"
   ]
  },
  {
   "cell_type": "markdown",
   "id": "57849842",
   "metadata": {},
   "source": [
    "### 문자열 연산 : + , *"
   ]
  },
  {
   "cell_type": "code",
   "execution_count": 37,
   "id": "586472c6",
   "metadata": {},
   "outputs": [
    {
     "name": "stdout",
     "output_type": "stream",
     "text": [
      "pythonpython\n",
      "python   hello\n"
     ]
    }
   ],
   "source": [
    "a = 'python'\n",
    "b = 'hello'\n",
    "\n",
    "print(a * 2)\n",
    "print(a,' ',b)"
   ]
  },
  {
   "cell_type": "code",
   "execution_count": null,
   "id": "f7d819b7",
   "metadata": {},
   "outputs": [],
   "source": []
  },
  {
   "cell_type": "markdown",
   "id": "3f51b7cc",
   "metadata": {},
   "source": [
    "### 문자열 인덱싱(Indexing)\n",
    " - **인덱싱(indexing)** 은 특정 위치를 가르킨다는 의미를 가짐\n",
    " - 문자열은 일반적으로 메모리에 저장될 때 list 형태로 저장\n",
    " - 각 문자는 해당 위치를 통해서 읽어올 수 있다.\n",
    " - 인덱스는 0부터 시작"
   ]
  },
  {
   "cell_type": "code",
   "execution_count": 58,
   "id": "ddb416c6",
   "metadata": {},
   "outputs": [
    {
     "name": "stdout",
     "output_type": "stream",
     "text": [
      "life is too short , you need python.\n"
     ]
    },
    {
     "data": {
      "text/plain": [
       "'python'"
      ]
     },
     "execution_count": 58,
     "metadata": {},
     "output_type": "execute_result"
    }
   ],
   "source": [
    "string = 'life is too short , you need python.'\n",
    "print(string)\n",
    "string[0:6] # 마지막의 바로 전까지 읽어옴.\n",
    "\n",
    "string[-7:-1]\n",
    "\n"
   ]
  },
  {
   "cell_type": "code",
   "execution_count": null,
   "id": "8a6c5f38",
   "metadata": {},
   "outputs": [],
   "source": []
  },
  {
   "cell_type": "markdown",
   "id": "aa19ebc5",
   "metadata": {},
   "source": [
    "### 문자열 포매팅(Formating)\n",
    " - 문자열 내의 특정 위치값을 바꾸거나 서식을 이용하여 표시할 때 사용\n",
    " - 서식 기호\n",
    "  1. %s : 문자열\n",
    "  2. %c : 문자1개\n",
    "  3. %d : 10진수\n",
    "  4. %f : 실수\n",
    "  5. %o : 8진수\n",
    "  6. %x : 16진수\n",
    "  7. %% : %"
   ]
  },
  {
   "cell_type": "code",
   "execution_count": null,
   "id": "a4e1f497",
   "metadata": {},
   "outputs": [],
   "source": []
  },
  {
   "cell_type": "markdown",
   "id": "c34d7f33",
   "metadata": {},
   "source": [
    "### 문자열 관련 함수"
   ]
  },
  {
   "cell_type": "code",
   "execution_count": 61,
   "id": "9e094df9",
   "metadata": {},
   "outputs": [
    {
     "data": {
      "text/plain": [
       "['123456', 'abcdefg']"
      ]
     },
     "execution_count": 61,
     "metadata": {},
     "output_type": "execute_result"
    }
   ],
   "source": [
    "jumin='123456-abcdefg'\n",
    "jumin.split('-')"
   ]
  },
  {
   "cell_type": "code",
   "execution_count": 67,
   "id": "396355a9",
   "metadata": {},
   "outputs": [
    {
     "name": "stdout",
     "output_type": "stream",
     "text": [
      "abcdefg\n"
     ]
    },
    {
     "data": {
      "text/plain": [
       "'a-b-c-d-e-f-g'"
      ]
     },
     "execution_count": 67,
     "metadata": {},
     "output_type": "execute_result"
    }
   ],
   "source": [
    "s='abcdefg'\n",
    "print(s)\n",
    "'-'.join(s)"
   ]
  },
  {
   "cell_type": "markdown",
   "id": "0af2da5c",
   "metadata": {},
   "source": [
    "# 표준 출력함수 : print()\n",
    " - 기본형 : print('출력내용')\n",
    " - print(a,b,c)\n"
   ]
  },
  {
   "cell_type": "markdown",
   "id": "939f9315",
   "metadata": {},
   "source": [
    "## 형식화된 문자열을 이용한 출력\n"
   ]
  },
  {
   "cell_type": "code",
   "execution_count": 71,
   "id": "122d9ed6",
   "metadata": {},
   "outputs": [
    {
     "name": "stdout",
     "output_type": "stream",
     "text": [
      "정수1 : 9\n",
      "결과 : 243\n",
      "덧셈 : 18 , 곱셈 : 81\n"
     ]
    }
   ],
   "source": [
    "x=9\n",
    "print('정수1 : {0}'.format(x))\n",
    "print('결과 : {}'.format(3**5))\n",
    "print('덧셈 : {} , 곱셈 : {}'.format(x+x,x*x))"
   ]
  },
  {
   "cell_type": "code",
   "execution_count": 77,
   "id": "baed6594",
   "metadata": {},
   "outputs": [
    {
     "name": "stdout",
     "output_type": "stream",
     "text": [
      "이름을 입력하세요 :홍길동\n",
      "나이를 입력하세요 :24\n",
      "성별을 입력하세요 :남자\n",
      "홍길동님의 나이는 24세이고 성별은 남자입니다\n"
     ]
    }
   ],
   "source": [
    "z=input('이름을 입력하세요 :')\n",
    "x=int(input('나이를 입력하세요 :'))\n",
    "y=input('성별을 입력하세요 :')\n",
    "\n",
    "\n",
    "print('%s님의 나이는 %d세이고 성별은 %s입니다' %(z,x,y))"
   ]
  },
  {
   "cell_type": "code",
   "execution_count": 81,
   "id": "c2e8ba7a",
   "metadata": {},
   "outputs": [
    {
     "name": "stdout",
     "output_type": "stream",
     "text": [
      "실수 1 : 3.074\n"
     ]
    }
   ],
   "source": [
    "a=8.3/2.7\n",
    "print('실수 1 : {0:.3f}'.format(a))"
   ]
  },
  {
   "cell_type": "code",
   "execution_count": 84,
   "id": "6cb98395",
   "metadata": {},
   "outputs": [
    {
     "name": "stdout",
     "output_type": "stream",
     "text": [
      "실수값 : 8.50\n"
     ]
    }
   ],
   "source": [
    "y=2.5*3.4\n",
    "print('실수값 : {0:.2f}'.format(y))"
   ]
  },
  {
   "cell_type": "markdown",
   "id": "5bf3c40e",
   "metadata": {},
   "source": [
    "## 서식기호를 이용한 출력"
   ]
  },
  {
   "cell_type": "code",
   "execution_count": 85,
   "id": "8df8f5a9",
   "metadata": {},
   "outputs": [
    {
     "name": "stdout",
     "output_type": "stream",
     "text": [
      "현재 시간은 12 입니다\n"
     ]
    }
   ],
   "source": [
    "# %s : 문자열\n",
    "# %c : 문자\n",
    "# %d : 정수\n",
    "# %f : 실수\n",
    "    \n",
    "num=12\n",
    "print('현재 시간은 %d 입니다' %num)"
   ]
  },
  {
   "cell_type": "code",
   "execution_count": 86,
   "id": "7babb8e5",
   "metadata": {},
   "outputs": [
    {
     "name": "stdout",
     "output_type": "stream",
     "text": [
      "현재 시간은 14시 17분 입니다.\n"
     ]
    }
   ],
   "source": [
    "hour = 14\n",
    "minute = 17\n",
    "\n",
    "print('현재 시간은 %d시 %d분 입니다.' %(hour,minute))"
   ]
  },
  {
   "cell_type": "code",
   "execution_count": 89,
   "id": "f798b2ee",
   "metadata": {},
   "outputs": [
    {
     "name": "stdout",
     "output_type": "stream",
     "text": [
      "길동님의 키는 180cm이고 , 몸무게는 78.50Kg입니다.\n"
     ]
    }
   ],
   "source": [
    "name = '길동'\n",
    "height = 180\n",
    "weight = 78.5\n",
    "\n",
    "print('%s님의 키는 %dcm이고 , 몸무게는 %.2fKg입니다.' %(name,height,weight))"
   ]
  },
  {
   "cell_type": "code",
   "execution_count": 90,
   "id": "c2d2f730",
   "metadata": {},
   "outputs": [
    {
     "name": "stdout",
     "output_type": "stream",
     "text": [
      "숫자출력        100\n",
      "숫자출력      10000\n",
      "숫자출력 10000     \n"
     ]
    }
   ],
   "source": [
    "print('숫자출력 %10d' %100)\n",
    "print('숫자출력 %10d' %10000)\n",
    "print('숫자출력 %-10d' %10000)\n"
   ]
  },
  {
   "cell_type": "code",
   "execution_count": 92,
   "id": "9e37be37",
   "metadata": {},
   "outputs": [
    {
     "name": "stdout",
     "output_type": "stream",
     "text": [
      "john is programmer\n"
     ]
    }
   ],
   "source": [
    "print('{name} is {job}'.format(name='john',job='programmer'))"
   ]
  },
  {
   "cell_type": "code",
   "execution_count": 93,
   "id": "773ae3ea",
   "metadata": {},
   "outputs": [
    {
     "name": "stdout",
     "output_type": "stream",
     "text": [
      "john is studying\n"
     ]
    }
   ],
   "source": [
    "#python 3.6부터는 문자열 포멧팅에 변수를 직접 사용 가능\n",
    "#문자열 앞에 문자열 포멧팅이라는 의미로 f를 붙이기도 함.\n",
    "\n",
    "name='john'\n",
    "job='studying'\n",
    "print(f'{name} is {job}')"
   ]
  },
  {
   "cell_type": "code",
   "execution_count": 102,
   "id": "72082104",
   "metadata": {},
   "outputs": [
    {
     "name": "stdout",
     "output_type": "stream",
     "text": [
      "hi\n",
      "====hi====\n"
     ]
    }
   ],
   "source": [
    "#인덱스 뒤에 > , < , ^\n",
    "\n",
    "print('{}'.format('hi'))\n",
    "print('{0:=^10}'.format('hi'))"
   ]
  },
  {
   "cell_type": "code",
   "execution_count": 105,
   "id": "074008c0",
   "metadata": {},
   "outputs": [
    {
     "name": "stdout",
     "output_type": "stream",
     "text": [
      "x = 200 , y = 100\n"
     ]
    }
   ],
   "source": [
    "#자리바꿈\n",
    "x=100\n",
    "y=200\n",
    "\n",
    "print('x = %d , y = %d' %(y,x))"
   ]
  },
  {
   "cell_type": "code",
   "execution_count": 106,
   "id": "569ba98f",
   "metadata": {},
   "outputs": [
    {
     "name": "stdout",
     "output_type": "stream",
     "text": [
      "2000 1000\n"
     ]
    }
   ],
   "source": [
    "x=1000\n",
    "y=2000\n",
    "\n",
    "x,y = y,x\n",
    "\n",
    "print(x,y)"
   ]
  },
  {
   "cell_type": "code",
   "execution_count": 113,
   "id": "78cadaa9",
   "metadata": {},
   "outputs": [],
   "source": [
    "#패킹과 언패킹\n",
    "\n",
    "x = (1,2,3,4,5)\n",
    "a,b,c,d,e=x"
   ]
  },
  {
   "cell_type": "code",
   "execution_count": 122,
   "id": "8cf4d9dd",
   "metadata": {},
   "outputs": [
    {
     "name": "stdout",
     "output_type": "stream",
     "text": [
      "숫자 : 10,20\n",
      "10 + 20 = 30\n",
      "10 x 20 = 200\n",
      "10 - 20 = -10\n"
     ]
    }
   ],
   "source": [
    "#두 개의 정수를 입력받아 사칙연산의 결과를 출력하는 프로그램 구현\n",
    "\n",
    "# a=int(input('첫 번째 정수 : '))\n",
    "# b=int(input('두 번째 정수 : '))\n",
    "\n",
    "#a,b=int(input('숫자 : ').split(','))\n",
    "\n",
    "a , b=map(int,input('숫자 : ').split(','))\n",
    "\n",
    "print(f'{a} + {b} = {a+b}')\n",
    "print(f'{a} x {b} = {a*b}')\n",
    "print(f'{a} - {b} = {a-b}')\n",
    "\n",
    "##출력형식\n",
    "# 10 + 20 = 30 \n",
    "# 10 - 20 = -10\n",
    "# 10 * 20 = 200"
   ]
  },
  {
   "cell_type": "markdown",
   "id": "4327eb5c",
   "metadata": {},
   "source": [
    "### 성적처리 프로그램 1단계\n",
    "- 국어 , 영어 , 수학점수를 입력받아 총점과 평균을 출력하는 프로그램을 구현.\n",
    "- 평균은 소수점 이하 둘째자리까지."
   ]
  },
  {
   "cell_type": "code",
   "execution_count": 126,
   "id": "ec248cab",
   "metadata": {},
   "outputs": [
    {
     "name": "stdout",
     "output_type": "stream",
     "text": [
      "국어 : 92\n",
      "영어 : 88\n",
      "수학 : 87\n",
      "총점 : 267점 , 평균 : 89.00점\n"
     ]
    }
   ],
   "source": [
    "a=int(input('국어 : '))\n",
    "b=int(input('영어 : '))\n",
    "c=int(input('수학 : '))\n",
    "\n",
    "sum=a+b+c\n",
    "mean=(a+b+c)/3\n",
    "print(f'총점 : %d점 , 평균 : %.2f점' %(sum,mean))"
   ]
  }
 ],
 "metadata": {
  "kernelspec": {
   "display_name": "Python 3",
   "language": "python",
   "name": "python3"
  },
  "language_info": {
   "codemirror_mode": {
    "name": "ipython",
    "version": 3
   },
   "file_extension": ".py",
   "mimetype": "text/x-python",
   "name": "python",
   "nbconvert_exporter": "python",
   "pygments_lexer": "ipython3",
   "version": "3.8.8"
  },
  "toc": {
   "base_numbering": 1,
   "nav_menu": {},
   "number_sections": true,
   "sideBar": true,
   "skip_h1_title": false,
   "title_cell": "Table of Contents",
   "title_sidebar": "Contents",
   "toc_cell": false,
   "toc_position": {},
   "toc_section_display": true,
   "toc_window_display": false
  }
 },
 "nbformat": 4,
 "nbformat_minor": 5
}
