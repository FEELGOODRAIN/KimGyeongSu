{
 "cells": [
  {
   "cell_type": "markdown",
   "id": "cfda55d0",
   "metadata": {},
   "source": [
    "# Python과 DataBase 연동\n",
    "\n",
    " 1. 해당 라이브러르 : DB 접속 드라이버 , cx_Oracle , python-oracledb\n",
    "     - 설치 : Anaconda prompt 창(관리자 권한) pip install 설치할 모듈명\n",
    "     - 주피터 노트북 안에서 설치 : !pip install 설치할 모듈명\n",
    "     - Anaconda : pip install ~ or conda install ~\n",
    "     - pip install oracledb --upgrade 최근 버전\n",
    "     - pip install cx_Oracle --upgrade:\n",
    "\n",
    "\n",
    " 2. 접속정보 확인\n",
    "     - 사용자 계정과 비밀번호 : scott/tiger\n",
    "     - 오라클 url : localhost:1521/xe"
   ]
  },
  {
   "cell_type": "code",
   "execution_count": null,
   "id": "65dc658f",
   "metadata": {},
   "outputs": [],
   "source": [
    "#주피터 노트북에 라이브러리 설치\n",
    "# pip install cx_Oracle --upgrade"
   ]
  },
  {
   "cell_type": "markdown",
   "id": "1242a71b",
   "metadata": {},
   "source": [
    "# DB 연동 작업"
   ]
  },
  {
   "cell_type": "code",
   "execution_count": 2,
   "id": "1f07b36f",
   "metadata": {
    "ExecuteTime": {
     "end_time": "2023-09-06T00:07:46.234208Z",
     "start_time": "2023-09-06T00:07:46.207069Z"
    }
   },
   "outputs": [],
   "source": [
    "import cx_Oracle as cx"
   ]
  },
  {
   "cell_type": "markdown",
   "id": "a6bb0457",
   "metadata": {},
   "source": [
    "## connection : 연결 통로 구축"
   ]
  },
  {
   "cell_type": "code",
   "execution_count": 6,
   "id": "6bee706f",
   "metadata": {
    "ExecuteTime": {
     "end_time": "2023-09-06T00:08:57.937230Z",
     "start_time": "2023-09-06T00:08:57.895960Z"
    }
   },
   "outputs": [],
   "source": [
    "#cx.connect('사용자계정' , '비밀번호' , 'url')\n",
    "# url : localhost(127.0.0.1):1521/xe\n",
    "conn = cx.connect('scott' , '1234','127.0.0.1:1521/xe')"
   ]
  },
  {
   "cell_type": "markdown",
   "id": "0b6fe1f6",
   "metadata": {},
   "source": [
    "## DB에 테이블 조회"
   ]
  },
  {
   "cell_type": "code",
   "execution_count": 16,
   "id": "675ffaf5",
   "metadata": {
    "ExecuteTime": {
     "end_time": "2023-09-06T00:10:59.231656Z",
     "start_time": "2023-09-06T00:10:59.217171Z"
    }
   },
   "outputs": [],
   "source": [
    "cur = conn.cursor()\n",
    "\n",
    "sql = 'select * from product'\n",
    "\n",
    "cur.execute(sql)\n",
    "\n",
    "rs = cur.fetchall()\n",
    "for i in rs:\n",
    "    print(i)"
   ]
  },
  {
   "cell_type": "markdown",
   "id": "c3d1e13a",
   "metadata": {},
   "source": [
    "## 전체 레코드 삭제 후 새로운 레코드 삽입"
   ]
  },
  {
   "cell_type": "code",
   "execution_count": 15,
   "id": "b107b7c2",
   "metadata": {
    "ExecuteTime": {
     "end_time": "2023-09-06T00:10:57.176237Z",
     "start_time": "2023-09-06T00:10:57.158428Z"
    }
   },
   "outputs": [],
   "source": [
    "sql = 'delete from product'\n",
    "cur.execute(sql)\n",
    "conn.commit()\n"
   ]
  },
  {
   "cell_type": "code",
   "execution_count": 17,
   "id": "f6789070",
   "metadata": {
    "ExecuteTime": {
     "end_time": "2023-09-06T00:11:07.770765Z",
     "start_time": "2023-09-06T00:11:07.754007Z"
    }
   },
   "outputs": [
    {
     "name": "stdout",
     "output_type": "stream",
     "text": [
      "(1, '레몬', 1500, '맛있는 레몬이 왔어요', 'lemon.jpg')\n",
      "(2, '오렌지', 2500, '상큼한 오렌지 있어요', 'orange.jpg')\n",
      "(3, '키위', 1000, '키위', 'kiwi.jpg')\n",
      "(4, '포도', 5000, '포도가 맛있다', 'grape.jpg')\n",
      "(5, '딸기', 8000, '딸기도 좋아요', 'strawberry.jpg')\n",
      "(6, '귤', 500, '제주도 대신 귤', 'tangerine.jpg')\n"
     ]
    }
   ],
   "source": [
    "items = [(1,'레몬',1500,'맛있는 레몬이 왔어요','lemon.jpg'),\n",
    "(2,'오렌지',2500,'상큼한 오렌지 있어요','orange.jpg'),\n",
    "(3,'키위',1000,'키위','kiwi.jpg'),\n",
    "(4,'포도',5000,'포도가 맛있다','grape.jpg'),\n",
    "(5,'딸기',8000,'딸기도 좋아요','strawberry.jpg'),\n",
    "(6,'귤',500,'제주도 대신 귤','tangerine.jpg')]\n",
    "\n",
    "for row in items:\n",
    "    # : 필드 인덱스\n",
    "    sql = 'insert into product values(:1,:2,:3,:4,:5)'\n",
    "    print(row)\n",
    "    cur.execute(sql, row)\n",
    "    "
   ]
  },
  {
   "cell_type": "code",
   "execution_count": null,
   "id": "62fb977b",
   "metadata": {
    "ExecuteTime": {
     "end_time": "2023-08-29T03:43:08.909523Z",
     "start_time": "2023-08-29T03:43:08.898140Z"
    }
   },
   "outputs": [],
   "source": [
    "sql = 'select count(*) from product'\n",
    "cur.execute(sql)\n",
    "\n",
    "count=cur.fetchone()\n",
    "print(count[0])"
   ]
  },
  {
   "cell_type": "code",
   "execution_count": null,
   "id": "943eef12",
   "metadata": {
    "ExecuteTime": {
     "end_time": "2023-08-29T03:48:31.428683Z",
     "start_time": "2023-08-29T03:48:31.410728Z"
    }
   },
   "outputs": [],
   "source": [
    "sql = 'delete from product'\n",
    "cur.execute(sql)\n",
    "conn.commit()"
   ]
  },
  {
   "cell_type": "code",
   "execution_count": null,
   "id": "36308564",
   "metadata": {
    "ExecuteTime": {
     "end_time": "2023-08-29T03:48:32.751452Z",
     "start_time": "2023-08-29T03:48:32.744426Z"
    }
   },
   "outputs": [],
   "source": [
    "#레코드를 한꺼번에 추가\n",
    "items = [(1,'레몬',1500,'맛있는 레몬이 왔어요','lemon.jpg'),\n",
    "(2,'오렌지',2500,'상큼한 오렌지 있어요','orange.jpg'),\n",
    "(3,'키위',1000,'먹어도 키가 안크는 키위가 있어요','kiwi.jpg'),\n",
    "(4,'포도',5000,'포도가 맛있다','grape.jpg'),\n",
    "(5,'딸기',8000,'딸기도 좋아요','strawberry.jpg'),\n",
    "(6,'귤',500,'제주도 대신 귤','tangerine.jpg')]\n",
    "\n",
    "sql = 'insert into product values (:1,:2,:3,:4,:5)'\n",
    "\n",
    "#레코드 개수 지정\n",
    "cur.bindarraysize=len(items)\n",
    "cur.executemany(sql,items)\n",
    "conn.commit()"
   ]
  },
  {
   "cell_type": "code",
   "execution_count": 18,
   "id": "77636d67",
   "metadata": {
    "ExecuteTime": {
     "end_time": "2023-09-06T00:14:46.765803Z",
     "start_time": "2023-09-06T00:14:46.744072Z"
    }
   },
   "outputs": [],
   "source": [
    "cur.close()\n",
    "conn.commit()\n",
    "conn.close()"
   ]
  },
  {
   "cell_type": "markdown",
   "id": "6d40f34c",
   "metadata": {},
   "source": [
    "# 회원관리 프로그램"
   ]
  },
  {
   "cell_type": "code",
   "execution_count": 12,
   "id": "93fe6141",
   "metadata": {
    "ExecuteTime": {
     "end_time": "2023-09-05T08:22:21.851396Z",
     "start_time": "2023-09-05T08:22:21.837107Z"
    }
   },
   "outputs": [],
   "source": [
    "import cx_Oracle as cx"
   ]
  },
  {
   "cell_type": "code",
   "execution_count": 13,
   "id": "f454a9b6",
   "metadata": {
    "ExecuteTime": {
     "end_time": "2023-09-05T08:22:22.007746Z",
     "start_time": "2023-09-05T08:22:21.971842Z"
    }
   },
   "outputs": [],
   "source": [
    "conn = cx.connect('scott','1234','localhost:1521/xe')"
   ]
  },
  {
   "cell_type": "code",
   "execution_count": 15,
   "id": "720e0a47",
   "metadata": {
    "ExecuteTime": {
     "end_time": "2023-09-05T08:22:28.964180Z",
     "start_time": "2023-09-05T08:22:28.947112Z"
    }
   },
   "outputs": [
    {
     "ename": "InterfaceError",
     "evalue": "not connected",
     "output_type": "error",
     "traceback": [
      "\u001b[1;31m---------------------------------------------------------------------------\u001b[0m",
      "\u001b[1;31mInterfaceError\u001b[0m                            Traceback (most recent call last)",
      "\u001b[1;32m<ipython-input-15-fe976c7b2c4f>\u001b[0m in \u001b[0;36m<module>\u001b[1;34m\u001b[0m\n\u001b[1;32m----> 1\u001b[1;33m \u001b[0mcur\u001b[0m \u001b[1;33m=\u001b[0m \u001b[0mconn\u001b[0m\u001b[1;33m.\u001b[0m\u001b[0mcursor\u001b[0m\u001b[1;33m(\u001b[0m\u001b[1;33m)\u001b[0m\u001b[1;33m\u001b[0m\u001b[1;33m\u001b[0m\u001b[0m\n\u001b[0m\u001b[0;32m      2\u001b[0m \u001b[0mcur\u001b[0m\u001b[1;33m.\u001b[0m\u001b[0mexecute\u001b[0m\u001b[1;33m(\u001b[0m\u001b[1;34m'select * from company'\u001b[0m\u001b[1;33m)\u001b[0m\u001b[1;33m\u001b[0m\u001b[1;33m\u001b[0m\u001b[0m\n\u001b[0;32m      3\u001b[0m \u001b[1;33m\u001b[0m\u001b[0m\n\u001b[0;32m      4\u001b[0m \u001b[0mrs\u001b[0m \u001b[1;33m=\u001b[0m \u001b[0mcur\u001b[0m\u001b[1;33m.\u001b[0m\u001b[0mfetchall\u001b[0m\u001b[1;33m(\u001b[0m\u001b[1;33m)\u001b[0m\u001b[1;33m\u001b[0m\u001b[1;33m\u001b[0m\u001b[0m\n\u001b[0;32m      5\u001b[0m \u001b[1;32mfor\u001b[0m \u001b[0mi\u001b[0m \u001b[1;32min\u001b[0m \u001b[0mrs\u001b[0m\u001b[1;33m:\u001b[0m\u001b[1;33m\u001b[0m\u001b[1;33m\u001b[0m\u001b[0m\n",
      "\u001b[1;31mInterfaceError\u001b[0m: not connected"
     ]
    }
   ],
   "source": [
    "cur = conn.cursor()\n",
    "cur.execute('select * from company')\n",
    "\n",
    "rs = cur.fetchall()\n",
    "for i in rs:\n",
    "    print(i)\n",
    "    \n",
    "cur.close()\n",
    "conn.commit()\n",
    "conn.close()"
   ]
  },
  {
   "cell_type": "markdown",
   "id": "6173ea10",
   "metadata": {},
   "source": [
    "## 레코드 삽입"
   ]
  },
  {
   "cell_type": "code",
   "execution_count": null,
   "id": "ab763c3e",
   "metadata": {
    "ExecuteTime": {
     "end_time": "2023-08-29T05:26:56.018450Z",
     "start_time": "2023-08-29T05:26:56.001449Z"
    }
   },
   "outputs": [],
   "source": [
    "def insert(userid,username,userpass):\n",
    "    conn = cx.connect('scott','1234','localhost:1521/xe')\n",
    "    sql = 'insert into member values(:1,:2,:3)'\n",
    "    cur = conn.cursor()\n",
    "    cur.execute(sql,[userid,userpass,username])\n",
    "    cur.close()\n",
    "    conn.commit()\n",
    "    conn.close()\n",
    "    "
   ]
  },
  {
   "cell_type": "code",
   "execution_count": null,
   "id": "ccb86aee",
   "metadata": {
    "ExecuteTime": {
     "end_time": "2023-08-29T05:27:08.660253Z",
     "start_time": "2023-08-29T05:26:56.241210Z"
    },
    "scrolled": true
   },
   "outputs": [],
   "source": [
    "userid = input(('id = '))\n",
    "userpass = input('pass = ')\n",
    "username = input('name = ')\n",
    "\n",
    "insert(userid,userpass,username)"
   ]
  },
  {
   "cell_type": "markdown",
   "id": "91fabc8d",
   "metadata": {},
   "source": [
    "## 레코드 수정"
   ]
  },
  {
   "cell_type": "code",
   "execution_count": null,
   "id": "ab49c39d",
   "metadata": {
    "ExecuteTime": {
     "end_time": "2023-08-29T05:49:06.019695Z",
     "start_time": "2023-08-29T05:49:06.004247Z"
    }
   },
   "outputs": [],
   "source": [
    "def update(userid,userpass,username):\n",
    "    conn = cx.connect('scott','1234','localhost:1521/xe')\n",
    "    sql = 'update member set userpass=:1 , username=:2 where userid = :3'\n",
    "    cur=conn.cursor()\n",
    "    cur.execute(sql,[userpass,username,userid])\n",
    "    cur.close()\n",
    "    conn.commit()\n",
    "    conn.close()"
   ]
  },
  {
   "cell_type": "code",
   "execution_count": null,
   "id": "6b3fbcad",
   "metadata": {
    "ExecuteTime": {
     "end_time": "2023-08-29T05:49:06.346469Z",
     "start_time": "2023-08-29T05:49:06.337947Z"
    }
   },
   "outputs": [],
   "source": [
    "def id_check(userid):\n",
    "    conn = cx.connect('scott','1234','localhost:1521/xe')\n",
    "    cur=conn.cursor()\n",
    "    sql = 'select * from member'\n",
    "    cur.execute(sql)\n",
    "    rs = cur.fetchall()\n",
    "    for i in rs:\n",
    "        if i[0] == userid:\n",
    "            return True\n",
    "        else:\n",
    "            return False\n",
    "    cur.close()\n",
    "    conn.commit()\n",
    "    conn.close()"
   ]
  },
  {
   "cell_type": "markdown",
   "id": "7b3a5971",
   "metadata": {},
   "source": [
    "# 구현"
   ]
  },
  {
   "cell_type": "code",
   "execution_count": 4,
   "id": "9bc1f983",
   "metadata": {
    "ExecuteTime": {
     "end_time": "2023-09-04T01:28:26.076503Z",
     "start_time": "2023-09-04T01:28:26.035085Z"
    }
   },
   "outputs": [],
   "source": [
    "import cx_Oracle as cx\n",
    "conn = cx.connect('scott','1234','localhost:1521/xe')\n",
    "cur = conn.cursor()"
   ]
  },
  {
   "cell_type": "code",
   "execution_count": 7,
   "id": "83585e6c",
   "metadata": {
    "ExecuteTime": {
     "end_time": "2023-09-04T01:28:39.108177Z",
     "start_time": "2023-09-04T01:28:39.092268Z"
    }
   },
   "outputs": [],
   "source": [
    "#cur = conn.cursor()\n",
    "cur.execute('select * from company')\n",
    "\n",
    "rs = cur.fetchall()\n",
    "for i in rs:\n",
    "    print(i)\n",
    "    \n",
    "\n",
    "conn.commit()\n"
   ]
  },
  {
   "cell_type": "code",
   "execution_count": 31,
   "id": "85da143f",
   "metadata": {
    "ExecuteTime": {
     "end_time": "2023-08-29T07:09:23.272976Z",
     "start_time": "2023-08-29T07:09:23.257353Z"
    }
   },
   "outputs": [],
   "source": [
    "def insert(userid,userpass,username):\n",
    "    cur.execute('insert into member values(:1,:2,:3)',[userid,userpass,username])"
   ]
  },
  {
   "cell_type": "code",
   "execution_count": 32,
   "id": "31ff1985",
   "metadata": {
    "ExecuteTime": {
     "end_time": "2023-08-29T07:09:23.474537Z",
     "start_time": "2023-08-29T07:09:23.469574Z"
    }
   },
   "outputs": [],
   "source": [
    "def update(userid,userpass,username):\n",
    "    sql = 'update member set userpass=:1 , username=:2 where userid = :3'\n",
    "    cur.execute(sql,[userpass,username,userid])"
   ]
  },
  {
   "cell_type": "code",
   "execution_count": 33,
   "id": "94d8aae3",
   "metadata": {
    "ExecuteTime": {
     "end_time": "2023-08-29T07:09:23.723957Z",
     "start_time": "2023-08-29T07:09:23.708678Z"
    }
   },
   "outputs": [],
   "source": [
    "def id_check(userid):\n",
    "    sql = 'select * from member'\n",
    "    cur.execute(sql)   \n",
    "    rs = cur.fetchall()\n",
    "    print(rs)\n",
    "    ck = 0\n",
    "    for a, b, c in rs:        \n",
    "        if a == userid:\n",
    "            ck = 1\n",
    "            \n",
    "    if ck == 1:\n",
    "        return True\n",
    "    else:\n",
    "        return False"
   ]
  },
  {
   "cell_type": "code",
   "execution_count": 34,
   "id": "eb0742d5",
   "metadata": {
    "ExecuteTime": {
     "end_time": "2023-08-29T07:09:24.175517Z",
     "start_time": "2023-08-29T07:09:24.157705Z"
    }
   },
   "outputs": [],
   "source": [
    "def delete(userid):\n",
    "    sql = 'delete from member where userid =:1'\n",
    "    cur.execute(sql,[userid])"
   ]
  },
  {
   "cell_type": "code",
   "execution_count": 36,
   "id": "a1bd5690",
   "metadata": {
    "ExecuteTime": {
     "end_time": "2023-08-29T07:09:25.032705Z",
     "start_time": "2023-08-29T07:09:25.026366Z"
    }
   },
   "outputs": [],
   "source": [
    "def name_check(username):\n",
    "    sql = 'select * from member'\n",
    "    cur.execute(sql)\n",
    "    rs = cur.fetchall()\n",
    "    print(rs)\n",
    "    ck = 0\n",
    "    for a,b,c in rs:\n",
    "        if a == userid:\n",
    "            ck = 1\n",
    "    if ck==1:\n",
    "        return True\n",
    "    else:\n",
    "        return False"
   ]
  },
  {
   "cell_type": "code",
   "execution_count": 37,
   "id": "0163f0f9",
   "metadata": {
    "ExecuteTime": {
     "end_time": "2023-08-29T07:09:25.456795Z",
     "start_time": "2023-08-29T07:09:25.450817Z"
    }
   },
   "outputs": [],
   "source": [
    "def select():\n",
    "    cur.execute('select * from member')\n",
    "\n",
    "    rs = cur.fetchall()\n",
    "    for i in rs:\n",
    "        print(i)\n",
    "    \n",
    "\n",
    "    conn.commit()"
   ]
  },
  {
   "cell_type": "code",
   "execution_count": 39,
   "id": "48bc9362",
   "metadata": {
    "ExecuteTime": {
     "end_time": "2023-08-29T07:09:50.704785Z",
     "start_time": "2023-08-29T07:09:32.049317Z"
    },
    "scrolled": true
   },
   "outputs": [
    {
     "name": "stdout",
     "output_type": "stream",
     "text": [
      "\n",
      "==회원관리 프로그램==\n",
      "1.회원등록\n",
      "2.회원수정\n",
      "3.회원삭제\n",
      "4.전체목록\n",
      "5.작업종료\n",
      "\n",
      "메뉴 :  4\n",
      "('admin', '1234', '관리자')\n",
      "('aaa', '홍길동', '1234')\n",
      "('kim', '1234', '김')\n",
      "('abc', '12345', '비')\n",
      "\n",
      "==회원관리 프로그램==\n",
      "1.회원등록\n",
      "2.회원수정\n",
      "3.회원삭제\n",
      "4.전체목록\n",
      "5.작업종료\n",
      "\n",
      "메뉴 :  3\n",
      "삭제할 id = abc\n",
      "[('admin', '1234', '관리자'), ('aaa', '홍길동', '1234'), ('kim', '1234', '김'), ('abc', '12345', '비')]\n",
      "완료\n",
      "\n",
      "==회원관리 프로그램==\n",
      "1.회원등록\n",
      "2.회원수정\n",
      "3.회원삭제\n",
      "4.전체목록\n",
      "5.작업종료\n",
      "\n",
      "메뉴 :  4\n",
      "('admin', '1234', '관리자')\n",
      "('aaa', '홍길동', '1234')\n",
      "('kim', '1234', '김')\n",
      "\n",
      "==회원관리 프로그램==\n",
      "1.회원등록\n",
      "2.회원수정\n",
      "3.회원삭제\n",
      "4.전체목록\n",
      "5.작업종료\n",
      "\n",
      "메뉴 :  5\n",
      "작업을 종료합니다\n"
     ]
    }
   ],
   "source": [
    "import cx_Oracle as cx\n",
    "conn = cx.connect('scott','1234','localhost:1521/xe')\n",
    "cur = conn.cursor()\n",
    "while True:\n",
    "    print('\\n==회원관리 프로그램==')\n",
    "    print('1.회원등록')\n",
    "    print('2.회원수정')\n",
    "    print('3.회원삭제')\n",
    "    print('4.전체목록')\n",
    "    print('5.작업종료')\n",
    "    print()\n",
    "    menu=int(input('메뉴 :  '))\n",
    "    \n",
    "    if menu==1:\n",
    "        userid = input(('id = '))\n",
    "        userpass = input('pass = ')\n",
    "        username = input('name = ')\n",
    "\n",
    "        insert(userid,userpass,username)\n",
    "        conn.commit()\n",
    "        print('완료')\n",
    "    elif menu==2:\n",
    "        userid = input('id = ')\n",
    "        if id_check(userid):\n",
    "            userpass = input('pass = ')\n",
    "            username = input('name = ')\n",
    "            update(userid,userpass,username)\n",
    "        else:\n",
    "            print(f'{userid}인 회원정보가 존재하지 않습니다')\n",
    "        conn.commit()\n",
    "        print('완료')\n",
    "    elif menu==3:\n",
    "        userid = input('삭제할 id = ')\n",
    "        if name_check(userid):\n",
    "            delete(userid)\n",
    "            conn.commit()\n",
    "            print('완료')\n",
    "        else:\n",
    "            print(f'{username} 인 회원정보가 존재하지 않습니다')\n",
    "        \n",
    "    elif menu==4:\n",
    "        select()\n",
    "    elif menu==5:\n",
    "        break\n",
    "    else:\n",
    "        print('메뉴의 선택의 올바르지 않습니다')\n",
    "        \n",
    "cur.close()\n",
    "conn.commit()\n",
    "conn.close()\n",
    "        \n",
    "print('작업을 종료합니다')"
   ]
  }
 ],
 "metadata": {
  "kernelspec": {
   "display_name": "Python 3",
   "language": "python",
   "name": "python3"
  },
  "language_info": {
   "codemirror_mode": {
    "name": "ipython",
    "version": 3
   },
   "file_extension": ".py",
   "mimetype": "text/x-python",
   "name": "python",
   "nbconvert_exporter": "python",
   "pygments_lexer": "ipython3",
   "version": "3.8.8"
  },
  "toc": {
   "base_numbering": 1,
   "nav_menu": {},
   "number_sections": true,
   "sideBar": true,
   "skip_h1_title": false,
   "title_cell": "Table of Contents",
   "title_sidebar": "Contents",
   "toc_cell": false,
   "toc_position": {},
   "toc_section_display": true,
   "toc_window_display": false
  }
 },
 "nbformat": 4,
 "nbformat_minor": 5
}
