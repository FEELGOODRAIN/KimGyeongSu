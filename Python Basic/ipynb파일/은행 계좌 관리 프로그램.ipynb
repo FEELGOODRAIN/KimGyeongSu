{
 "cells": [
  {
   "cell_type": "markdown",
   "id": "54cea6e7",
   "metadata": {
    "ExecuteTime": {
     "end_time": "2023-08-24T06:04:55.439089Z",
     "start_time": "2023-08-24T06:04:55.425798Z"
    }
   },
   "source": [
    "# 은행 계좌 관리 프로그램\n",
    "\n",
    "### 처리조건\n",
    "- 은행 거래를 위한 고객의 계좌정보를 담아서 관리하는 프로그램\n",
    "- 각 고객의 정보는 고객번호 , 이름 , 예금금액\n",
    "- 고객번호는 고객을 식별할 용도로 사용.(중복X)\n",
    "- {'고객번호' : {}}\n",
    "- 둘 이상의 고객에 대한 정보를 담아서 처리하는 컨테이너 객체를 이용하여 구현\n",
    "\n",
    "### 주요기능\n",
    "- 계좌개설(makeaccount) : 계좌번호와 고객이름 그리고 예금금액을 입력받아 처리\n",
    "- 입금처리(inaccount) : 계좌번호를 입력받아 해당 계좌의 고객정보에 입금처리 수행.\n",
    "- 출금처르(outaccount) : 계좌번호를 입력받아 해당 계좌의 고객에 예금금액에서 출금처리 수행.\n",
    "- 계좌조회(showaccount) : 계좌번호를 입력받아 해당 계좌의 고객정보를 출력\n",
    "- 전체계좌(showallaccount) : 전체 계좌를 조회\n",
    "- 입금 및 출금처리시 계좌번호를 입력받아 해당 계좌의 정보가 존재하는지 여부를 판단\n",
    "- 출금처리시 출금금액보다 예금잔액이 부족할 경우 경고메시지를 출력한다.\n",
    "\n",
    "### 입력 및 출력방식\n",
    "\n",
    "<code>\n",
    "    ==bank menu==\n",
    "    1.계좌개설\n",
    "    2.입금처리\n",
    "    3.출금처리\n",
    "    4.잔액조회\n",
    "    5.전체조회\n",
    "    6.작업종료\n",
    "    =============\n",
    "    \n",
    "    menu = \n",
    "    \n",
    "    == 계좌개설 ==\n",
    "    계좌번호 = \n",
    "    고객이름 = \n",
    "    예금금액 =\n",
    "    ==============\n",
    "    계좌개설이 완료되었습니다.\n",
    "    \n",
    "    == 입금처리 ==\n",
    "    계좌번호 =\n",
    "    입력한 계좌번호가 존재하지 않습니다\n",
    "    or\n",
    "    입금금액 =\n",
    "    ===============\n",
    "    입금처리가 완료되었습니다.\n",
    "    \n",
    "    == 출금처리 ==\n",
    "    계좌번호 =\n",
    "    계좌번호가 존지하지 않습니다\n",
    "    or\n",
    "    출금금액 =\n",
    "    잔액이 부족합니다\n",
    "    or\n",
    "    ===============\n",
    "    출금처리가 완료되었습니다.\n",
    "    \n",
    "<code>\n",
    "   "
   ]
  },
  {
   "cell_type": "code",
   "execution_count": 15,
   "id": "f2d83244",
   "metadata": {
    "ExecuteTime": {
     "end_time": "2023-08-24T06:57:40.049836Z",
     "start_time": "2023-08-24T06:57:40.039707Z"
    }
   },
   "outputs": [],
   "source": [
    "bank = []"
   ]
  },
  {
   "cell_type": "code",
   "execution_count": 16,
   "id": "bdb18985",
   "metadata": {
    "ExecuteTime": {
     "end_time": "2023-08-24T06:57:40.064643Z",
     "start_time": "2023-08-24T06:57:40.049836Z"
    }
   },
   "outputs": [],
   "source": [
    "def menu():\n",
    "    print('='*5 , 'bank menu','=' *5)\n",
    "    print('1. 계좌개설')\n",
    "    print('2. 입금처리')\n",
    "    print('3. 출금처리')\n",
    "    print('4. 잔액조회')\n",
    "    print('5. 전체조회')\n",
    "    print('6. 작업종료')\n",
    "    print('='*35)"
   ]
  },
  {
   "cell_type": "code",
   "execution_count": 37,
   "id": "26667535",
   "metadata": {
    "ExecuteTime": {
     "end_time": "2023-08-24T07:02:08.980266Z",
     "start_time": "2023-08-24T07:02:08.960242Z"
    }
   },
   "outputs": [],
   "source": [
    "def create():\n",
    "    num = {}\n",
    "    num['계좌번호'] = input('계좌번호를 입력하세요 : ')\n",
    "    num['고객이름'] = input('이름을 입력하세요 : ')\n",
    "    num['예금금액'] = int(input('예금할 금액을 입력하세요 : '))\n",
    "    \n",
    "    return num"
   ]
  },
  {
   "cell_type": "code",
   "execution_count": 39,
   "id": "882d5535",
   "metadata": {
    "ExecuteTime": {
     "end_time": "2023-08-24T07:03:46.018435Z",
     "start_time": "2023-08-24T07:03:45.995763Z"
    }
   },
   "outputs": [],
   "source": [
    "def insert():\n",
    "    num = input('계좌번호를 입력하세요 : ')\n",
    "    for i in range(len(bank)):\n",
    "        if bank[i]['계좌번호'] == num:\n",
    "            \n",
    "            money = int(input('입금금액을 입력하세요 : '))\n",
    "            final = bank[i]['예금금액'] + money\n",
    "            print(f'입금 후 잔액은 {final}원입니다')\n",
    "            bank[i]['예금금액'] = final\n",
    "            return\n",
    "    print('계좌번호가 존재하지 않습니다')"
   ]
  },
  {
   "cell_type": "code",
   "execution_count": 40,
   "id": "edd940d6",
   "metadata": {
    "ExecuteTime": {
     "end_time": "2023-08-24T07:03:46.035004Z",
     "start_time": "2023-08-24T07:03:46.018981Z"
    }
   },
   "outputs": [],
   "source": [
    "def diff():\n",
    "    num = input('계좌번호를 입력하세요 : ')\n",
    "    for i in range(len(bank)):\n",
    "        if bank[i]['계좌번호'] == num:\n",
    "            money = int(input('출금금액을 입력하세요 : '))\n",
    "            if bank[i]['예금금액']<money:\n",
    "                print('예금잔액이 부족합니다')\n",
    "            else:\n",
    "                final = bank[i]['예금금액'] - money\n",
    "                print(f'출금 후 잔액은 {final}원입니다')\n",
    "                bank[i]['예금금액'] = final\n",
    "            return\n",
    "    print('계좌번호가 존재하지 않습니다.')"
   ]
  },
  {
   "cell_type": "code",
   "execution_count": 45,
   "id": "a1e52716",
   "metadata": {
    "ExecuteTime": {
     "end_time": "2023-08-24T07:05:18.091387Z",
     "start_time": "2023-08-24T07:05:18.084133Z"
    }
   },
   "outputs": [],
   "source": [
    "def find():\n",
    "    num = int(input('계좌번호를 입력하세요 : '))\n",
    "    for i in range(len(bank)):\n",
    "        if bank[i]['계좌번호']==num:\n",
    "            return\n",
    "        money2 = bank[i]['예금금액']\n",
    "    print(f' 현재 잔액은 {money2}원 입니다')"
   ]
  },
  {
   "cell_type": "code",
   "execution_count": 32,
   "id": "e748ff6c",
   "metadata": {
    "ExecuteTime": {
     "end_time": "2023-08-24T07:00:40.094389Z",
     "start_time": "2023-08-24T07:00:33.899559Z"
    }
   },
   "outputs": [
    {
     "name": "stdout",
     "output_type": "stream",
     "text": [
      "계좌번호를 입력하세요 : 2\n",
      "이름을 입력하세요 : a\n",
      "예금할 금액을 입력하세요 : 200000\n"
     ]
    },
    {
     "data": {
      "text/plain": [
       "{'계좌번호': 2, '고객이름': 'a', '예금금액': 200000}"
      ]
     },
     "execution_count": 32,
     "metadata": {},
     "output_type": "execute_result"
    }
   ],
   "source": [
    "create()"
   ]
  },
  {
   "cell_type": "code",
   "execution_count": 46,
   "id": "c7b14b47",
   "metadata": {
    "ExecuteTime": {
     "end_time": "2023-08-24T07:05:35.636734Z",
     "start_time": "2023-08-24T07:05:20.876458Z"
    }
   },
   "outputs": [
    {
     "name": "stdout",
     "output_type": "stream",
     "text": [
      "===== bank menu =====\n",
      "1. 계좌개설\n",
      "2. 입금처리\n",
      "3. 출금처리\n",
      "4. 잔액조회\n",
      "5. 전체조회\n",
      "6. 작업종료\n",
      "===================================\n",
      "선택하세요 : 1\n",
      "계좌번호를 입력하세요 : 1\n",
      "이름을 입력하세요 : 홍길동\n",
      "예금할 금액을 입력하세요 : 200000\n",
      "완료되었습니다\n",
      "===== bank menu =====\n",
      "1. 계좌개설\n",
      "2. 입금처리\n",
      "3. 출금처리\n",
      "4. 잔액조회\n",
      "5. 전체조회\n",
      "6. 작업종료\n",
      "===================================\n",
      "선택하세요 : 4\n",
      "계좌번호를 입력하세요 : 1\n",
      " 현재 잔액은 200000원 입니다\n",
      "===== bank menu =====\n",
      "1. 계좌개설\n",
      "2. 입금처리\n",
      "3. 출금처리\n",
      "4. 잔액조회\n",
      "5. 전체조회\n",
      "6. 작업종료\n",
      "===================================\n",
      "선택하세요 : 5\n",
      "{'계좌번호': '1', '고객이름': '홍길동', '예금금액': 200000}\n",
      "===== bank menu =====\n",
      "1. 계좌개설\n",
      "2. 입금처리\n",
      "3. 출금처리\n",
      "4. 잔액조회\n",
      "5. 전체조회\n",
      "6. 작업종료\n",
      "===================================\n",
      "선택하세요 : 6\n",
      "작업을 종료합니다\n"
     ]
    }
   ],
   "source": [
    "bank = []\n",
    "while True:\n",
    "    menu()\n",
    "    choice = int(input('선택하세요 : '))\n",
    "    \n",
    "    if choice==1:\n",
    "        info=create()\n",
    "        bank.append(info)\n",
    "        print('완료되었습니다')\n",
    "    elif choice==2:\n",
    "        insert()\n",
    "        \n",
    "    elif choice==3:\n",
    "        diff()\n",
    "        \n",
    "    elif choice==4:\n",
    "        find()\n",
    "    elif choice==5:\n",
    "        for i in bank:\n",
    "            print(i)\n",
    "    elif choice==6:\n",
    "        print('작업을 종료합니다')\n",
    "        break\n",
    "    else:\n",
    "        print('잘못된 번호입니다')"
   ]
  },
  {
   "cell_type": "code",
   "execution_count": 35,
   "id": "a52679a4",
   "metadata": {
    "ExecuteTime": {
     "end_time": "2023-08-24T07:01:21.927711Z",
     "start_time": "2023-08-24T07:01:21.912402Z"
    }
   },
   "outputs": [
    {
     "name": "stdout",
     "output_type": "stream",
     "text": [
      "[{'계좌번호': 123, '고객이름': '홍길동', '예금금액': 200000}]\n"
     ]
    }
   ],
   "source": [
    "print(bank)"
   ]
  }
 ],
 "metadata": {
  "kernelspec": {
   "display_name": "Python 3",
   "language": "python",
   "name": "python3"
  },
  "language_info": {
   "codemirror_mode": {
    "name": "ipython",
    "version": 3
   },
   "file_extension": ".py",
   "mimetype": "text/x-python",
   "name": "python",
   "nbconvert_exporter": "python",
   "pygments_lexer": "ipython3",
   "version": "3.8.8"
  },
  "toc": {
   "base_numbering": 1,
   "nav_menu": {},
   "number_sections": true,
   "sideBar": true,
   "skip_h1_title": false,
   "title_cell": "Table of Contents",
   "title_sidebar": "Contents",
   "toc_cell": false,
   "toc_position": {},
   "toc_section_display": true,
   "toc_window_display": false
  }
 },
 "nbformat": 4,
 "nbformat_minor": 5
}
