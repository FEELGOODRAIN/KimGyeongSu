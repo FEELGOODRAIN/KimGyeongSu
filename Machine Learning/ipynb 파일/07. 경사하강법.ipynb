{
 "cells": [
  {
   "cell_type": "code",
   "execution_count": 2,
   "id": "dea3f2c9",
   "metadata": {
    "ExecuteTime": {
     "end_time": "2023-10-26T05:35:11.647181Z",
     "start_time": "2023-10-26T05:35:11.628632Z"
    }
   },
   "outputs": [],
   "source": [
    "import numpy as np\n",
    "import pandas as pd\n",
    "import matplotlib as mpl\n",
    "import matplotlib.pyplot as plt\n",
    "import mglearn\n",
    "%matplotlib inline\n",
    "import seaborn as sns\n",
    "import platform\n",
    "from matplotlib import font_manager , rc\n",
    "\n",
    "if platform.system() == 'Darwin':\n",
    "  rc('font' , family = 'AppleGothic')\n",
    "elif platform.system() == 'Windows':\n",
    "  path = 'C:/Windows/Fonts/malgun.ttf'\n",
    "  font_name = font_manager.FontProperties(fname = path).get_name()\n",
    "  rc('font' , family = font_name)\n",
    "else:\n",
    "  print('모름')\n",
    "plt.rcParams['axes.unicode_minus'] = False\n",
    "import warnings\n",
    "warnings.filterwarnings('ignore')\n",
    "from sklearn.metrics import accuracy_score , precision_score , recall_score , roc_auc_score , f1_score , confusion_matrix , roc_curve , precision_recall_curve"
   ]
  },
  {
   "cell_type": "markdown",
   "id": "a96b7dcb",
   "metadata": {},
   "source": [
    "# 경사하강법이란\n",
    " - 손실을 줄이는 알고리즘\n",
    " - 기울기가 최소가 되는 점을 찾아서 일맞은 가중치를 찾아내는 것\n",
    " - 손실함수를 최적화하는 방법 중 하나\n",
    " \n",
    "## 점진적인 학습 또는 온라인 학습\n",
    " - 머신러닝 모델을 학습하는 방법\n",
    " - 머신러닝으로 학습할 데이터가 한번에 만들어지지 않을 때 , 지속적으로 새로운 데이터가 생성될 때\n",
    " - 에포크(epoch) : 훈련 세트를 한번 모두 사용하는 과정\n",
    " - 미니배치 경사 하강 : 여러 개의 샘플을 사용해 경사 하강법을 수행하는 방식\n",
    " - 배치 사이즈 : 한번에 학습되는 데이터의 양\n",
    " - 확률적 경사하강법 : 1개씩 꺼내서 학습\n",
    " - 미니배치 경사하강법 : 여러 개씩 꺼내서 학습\n",
    " - 배치 경사하강법 : 모두 꺼내서 학습\n",
    " \n",
    "## 손실함수\n",
    " - 실제값과 예측값의 차이\n",
    " - 비용함수 : Cost Function"
   ]
  },
  {
   "cell_type": "code",
   "execution_count": 13,
   "id": "928f9569",
   "metadata": {
    "ExecuteTime": {
     "end_time": "2023-10-26T06:35:49.632436Z",
     "start_time": "2023-10-26T06:35:49.622669Z"
    }
   },
   "outputs": [],
   "source": [
    "fish = pd.read_csv('fish.csv')"
   ]
  },
  {
   "cell_type": "code",
   "execution_count": 12,
   "id": "e6383d36",
   "metadata": {
    "ExecuteTime": {
     "end_time": "2023-10-26T06:35:48.084568Z",
     "start_time": "2023-10-26T06:35:48.069635Z"
    }
   },
   "outputs": [
    {
     "data": {
      "text/html": [
       "<div>\n",
       "<style scoped>\n",
       "    .dataframe tbody tr th:only-of-type {\n",
       "        vertical-align: middle;\n",
       "    }\n",
       "\n",
       "    .dataframe tbody tr th {\n",
       "        vertical-align: top;\n",
       "    }\n",
       "\n",
       "    .dataframe thead th {\n",
       "        text-align: right;\n",
       "    }\n",
       "</style>\n",
       "<table border=\"1\" class=\"dataframe\">\n",
       "  <thead>\n",
       "    <tr style=\"text-align: right;\">\n",
       "      <th></th>\n",
       "      <th>Species</th>\n",
       "      <th>Weight</th>\n",
       "      <th>Length</th>\n",
       "      <th>Diagonal</th>\n",
       "      <th>Height</th>\n",
       "      <th>Width</th>\n",
       "    </tr>\n",
       "  </thead>\n",
       "  <tbody>\n",
       "    <tr>\n",
       "      <th>0</th>\n",
       "      <td>Bream</td>\n",
       "      <td>242.0</td>\n",
       "      <td>25.4</td>\n",
       "      <td>30.0</td>\n",
       "      <td>11.5200</td>\n",
       "      <td>4.0200</td>\n",
       "    </tr>\n",
       "    <tr>\n",
       "      <th>1</th>\n",
       "      <td>Bream</td>\n",
       "      <td>290.0</td>\n",
       "      <td>26.3</td>\n",
       "      <td>31.2</td>\n",
       "      <td>12.4800</td>\n",
       "      <td>4.3056</td>\n",
       "    </tr>\n",
       "    <tr>\n",
       "      <th>2</th>\n",
       "      <td>Bream</td>\n",
       "      <td>340.0</td>\n",
       "      <td>26.5</td>\n",
       "      <td>31.1</td>\n",
       "      <td>12.3778</td>\n",
       "      <td>4.6961</td>\n",
       "    </tr>\n",
       "    <tr>\n",
       "      <th>3</th>\n",
       "      <td>Bream</td>\n",
       "      <td>363.0</td>\n",
       "      <td>29.0</td>\n",
       "      <td>33.5</td>\n",
       "      <td>12.7300</td>\n",
       "      <td>4.4555</td>\n",
       "    </tr>\n",
       "    <tr>\n",
       "      <th>4</th>\n",
       "      <td>Bream</td>\n",
       "      <td>430.0</td>\n",
       "      <td>29.0</td>\n",
       "      <td>34.0</td>\n",
       "      <td>12.4440</td>\n",
       "      <td>5.1340</td>\n",
       "    </tr>\n",
       "    <tr>\n",
       "      <th>...</th>\n",
       "      <td>...</td>\n",
       "      <td>...</td>\n",
       "      <td>...</td>\n",
       "      <td>...</td>\n",
       "      <td>...</td>\n",
       "      <td>...</td>\n",
       "    </tr>\n",
       "    <tr>\n",
       "      <th>154</th>\n",
       "      <td>Smelt</td>\n",
       "      <td>12.2</td>\n",
       "      <td>12.2</td>\n",
       "      <td>13.4</td>\n",
       "      <td>2.0904</td>\n",
       "      <td>1.3936</td>\n",
       "    </tr>\n",
       "    <tr>\n",
       "      <th>155</th>\n",
       "      <td>Smelt</td>\n",
       "      <td>13.4</td>\n",
       "      <td>12.4</td>\n",
       "      <td>13.5</td>\n",
       "      <td>2.4300</td>\n",
       "      <td>1.2690</td>\n",
       "    </tr>\n",
       "    <tr>\n",
       "      <th>156</th>\n",
       "      <td>Smelt</td>\n",
       "      <td>12.2</td>\n",
       "      <td>13.0</td>\n",
       "      <td>13.8</td>\n",
       "      <td>2.2770</td>\n",
       "      <td>1.2558</td>\n",
       "    </tr>\n",
       "    <tr>\n",
       "      <th>157</th>\n",
       "      <td>Smelt</td>\n",
       "      <td>19.7</td>\n",
       "      <td>14.3</td>\n",
       "      <td>15.2</td>\n",
       "      <td>2.8728</td>\n",
       "      <td>2.0672</td>\n",
       "    </tr>\n",
       "    <tr>\n",
       "      <th>158</th>\n",
       "      <td>Smelt</td>\n",
       "      <td>19.9</td>\n",
       "      <td>15.0</td>\n",
       "      <td>16.2</td>\n",
       "      <td>2.9322</td>\n",
       "      <td>1.8792</td>\n",
       "    </tr>\n",
       "  </tbody>\n",
       "</table>\n",
       "<p>159 rows × 6 columns</p>\n",
       "</div>"
      ],
      "text/plain": [
       "    Species  Weight  Length  Diagonal   Height   Width\n",
       "0     Bream   242.0    25.4      30.0  11.5200  4.0200\n",
       "1     Bream   290.0    26.3      31.2  12.4800  4.3056\n",
       "2     Bream   340.0    26.5      31.1  12.3778  4.6961\n",
       "3     Bream   363.0    29.0      33.5  12.7300  4.4555\n",
       "4     Bream   430.0    29.0      34.0  12.4440  5.1340\n",
       "..      ...     ...     ...       ...      ...     ...\n",
       "154   Smelt    12.2    12.2      13.4   2.0904  1.3936\n",
       "155   Smelt    13.4    12.4      13.5   2.4300  1.2690\n",
       "156   Smelt    12.2    13.0      13.8   2.2770  1.2558\n",
       "157   Smelt    19.7    14.3      15.2   2.8728  2.0672\n",
       "158   Smelt    19.9    15.0      16.2   2.9322  1.8792\n",
       "\n",
       "[159 rows x 6 columns]"
      ]
     },
     "execution_count": 12,
     "metadata": {},
     "output_type": "execute_result"
    }
   ],
   "source": [
    "fish"
   ]
  },
  {
   "cell_type": "code",
   "execution_count": 14,
   "id": "9b841bbd",
   "metadata": {
    "ExecuteTime": {
     "end_time": "2023-10-26T06:35:52.941199Z",
     "start_time": "2023-10-26T06:35:52.934570Z"
    }
   },
   "outputs": [
    {
     "data": {
      "text/plain": [
       "array(['Bream', 'Roach', 'Whitefish', 'Parkki', 'Perch', 'Pike', 'Smelt'],\n",
       "      dtype=object)"
      ]
     },
     "execution_count": 14,
     "metadata": {},
     "output_type": "execute_result"
    }
   ],
   "source": [
    "fish.Species.unique()"
   ]
  },
  {
   "cell_type": "code",
   "execution_count": 15,
   "id": "48b572b6",
   "metadata": {
    "ExecuteTime": {
     "end_time": "2023-10-26T06:35:54.003029Z",
     "start_time": "2023-10-26T06:35:53.997703Z"
    }
   },
   "outputs": [],
   "source": [
    "fish_input = fish.iloc[:,1:].to_numpy()\n",
    "fish_target = fish.iloc[:,0].to_numpy()"
   ]
  },
  {
   "cell_type": "code",
   "execution_count": 16,
   "id": "bbdce60e",
   "metadata": {
    "ExecuteTime": {
     "end_time": "2023-10-26T06:35:54.299731Z",
     "start_time": "2023-10-26T06:35:54.283244Z"
    }
   },
   "outputs": [
    {
     "data": {
      "text/plain": [
       "((159, 5), (159,))"
      ]
     },
     "execution_count": 16,
     "metadata": {},
     "output_type": "execute_result"
    }
   ],
   "source": [
    "fish_input.shape , fish_target.shape"
   ]
  },
  {
   "cell_type": "code",
   "execution_count": 20,
   "id": "b2b1e328",
   "metadata": {
    "ExecuteTime": {
     "end_time": "2023-10-26T06:36:52.773127Z",
     "start_time": "2023-10-26T06:36:52.765222Z"
    }
   },
   "outputs": [],
   "source": [
    "from sklearn.preprocessing import StandardScaler\n",
    "from sklearn.model_selection import train_test_split"
   ]
  },
  {
   "cell_type": "code",
   "execution_count": 26,
   "id": "91c5b678",
   "metadata": {
    "ExecuteTime": {
     "end_time": "2023-10-26T06:40:35.965886Z",
     "start_time": "2023-10-26T06:40:35.946415Z"
    }
   },
   "outputs": [],
   "source": [
    "train_input , test_input , train_target , test_target = train_test_split(fish_input , fish_target , random_state = 42)"
   ]
  },
  {
   "cell_type": "code",
   "execution_count": 27,
   "id": "c969c955",
   "metadata": {
    "ExecuteTime": {
     "end_time": "2023-10-26T06:41:10.572893Z",
     "start_time": "2023-10-26T06:41:10.566101Z"
    }
   },
   "outputs": [],
   "source": [
    "ss = StandardScaler()\n",
    "ss.fit(train_input)\n",
    "train_scaled = ss.transform(train_input)\n",
    "test_scaled = ss.transform(test_input)"
   ]
  },
  {
   "cell_type": "markdown",
   "id": "6367249a",
   "metadata": {},
   "source": [
    "# SGDClassifier\n",
    " - 확률적 경사하강법을 제공하는 클래스\n",
    " - 에포크에 따라 과적합이 될 수 있다.\n",
    " - loss : 손실함수의 종류를 지정\n",
    "  - 이진분류회귀 : 이진크로스엔트로피\n",
    "  - 다중분류회귀 : 크로스엔트로피 , 소프트맥스\n",
    " - max_iter : 반복할 에포크 횟수"
   ]
  },
  {
   "cell_type": "code",
   "execution_count": 56,
   "id": "dc285093",
   "metadata": {
    "ExecuteTime": {
     "end_time": "2023-10-26T07:39:01.111987Z",
     "start_time": "2023-10-26T07:39:01.094106Z"
    }
   },
   "outputs": [
    {
     "name": "stdout",
     "output_type": "stream",
     "text": [
      "0.773109243697479\n",
      "0.775\n"
     ]
    }
   ],
   "source": [
    "from sklearn.linear_model import SGDClassifier\n",
    "# log_loss : 로지스틱 손실 함수\n",
    "sc = SGDClassifier(loss = 'log_loss' , max_iter = 10 , random_state = 42)\n",
    "sc.fit(train_scaled , train_target)\n",
    "print(sc.score(train_scaled , train_target))\n",
    "print(sc.score(test_scaled , test_target))"
   ]
  },
  {
   "cell_type": "code",
   "execution_count": 159,
   "id": "00293bc3",
   "metadata": {
    "ExecuteTime": {
     "end_time": "2023-10-26T07:39:13.716158Z",
     "start_time": "2023-10-26T07:39:13.700702Z"
    }
   },
   "outputs": [
    {
     "name": "stdout",
     "output_type": "stream",
     "text": [
      "0.9495798319327731\n",
      "0.925\n"
     ]
    }
   ],
   "source": [
    "#병렬학습 partial_fit\n",
    "sc.partial_fit(train_scaled , train_target)\n",
    "print(sc.score(train_scaled , train_target))\n",
    "print(sc.score(test_scaled , test_target))"
   ]
  },
  {
   "cell_type": "code",
   "execution_count": 183,
   "id": "3ebff6c9",
   "metadata": {
    "ExecuteTime": {
     "end_time": "2023-10-26T07:53:16.629344Z",
     "start_time": "2023-10-26T07:53:16.614376Z"
    }
   },
   "outputs": [
    {
     "name": "stdout",
     "output_type": "stream",
     "text": [
      "0.8403361344537815\n",
      "0.8\n"
     ]
    }
   ],
   "source": [
    "from sklearn.linear_model import SGDClassifier\n",
    "# log_loss : 로지스틱 손실 함수\n",
    "sc = SGDClassifier(loss = 'log_loss' , max_iter = 100, random_state = 42)\n",
    "sc.fit(train_scaled , train_target)\n",
    "print(sc.score(train_scaled , train_target))\n",
    "print(sc.score(test_scaled , test_target))"
   ]
  },
  {
   "cell_type": "code",
   "execution_count": 166,
   "id": "b02af435",
   "metadata": {
    "ExecuteTime": {
     "end_time": "2023-10-26T07:46:11.424522Z",
     "start_time": "2023-10-26T07:46:11.421315Z"
    }
   },
   "outputs": [],
   "source": [
    "train = []\n",
    "test = []\n",
    "sc = SGDClassifier(loss = 'log_loss' , random_state = 42)\n",
    "\n",
    "#partial_fit()만 사용하려면 훈련 세트의 전체 클래스의 레이블이 전달\n",
    "classes = np.unique(train_target)"
   ]
  },
  {
   "cell_type": "code",
   "execution_count": 167,
   "id": "163e24f0",
   "metadata": {
    "ExecuteTime": {
     "end_time": "2023-10-26T07:46:13.465888Z",
     "start_time": "2023-10-26T07:46:12.577936Z"
    }
   },
   "outputs": [],
   "source": [
    "for _ in range(0,300):\n",
    "    sc.partial_fit(train_scaled , train_target , classes = classes)\n",
    "    train.append(sc.score(train_scaled , train_target))\n",
    "    test.append(sc.score(test_scaled , test_target))"
   ]
  },
  {
   "cell_type": "code",
   "execution_count": 168,
   "id": "9e6091ac",
   "metadata": {
    "ExecuteTime": {
     "end_time": "2023-10-26T07:46:13.570267Z",
     "start_time": "2023-10-26T07:46:13.465888Z"
    }
   },
   "outputs": [
    {
     "data": {
      "image/png": "[encoded data removed]",
      "text/plain": [
       "<Figure size 640x480 with 1 Axes>"
      ]
     },
     "metadata": {},
     "output_type": "display_data"
    }
   ],
   "source": [
    "plt.plot(train)\n",
    "plt.plot(test)\n",
    "plt.xlabel('epoch')\n",
    "plt.ylabel('accuracy')\n",
    "plt.show()"
   ]
  },
  {
   "cell_type": "code",
   "execution_count": 184,
   "id": "b3873090",
   "metadata": {
    "ExecuteTime": {
     "end_time": "2023-10-26T07:53:19.378484Z",
     "start_time": "2023-10-26T07:53:19.349379Z"
    }
   },
   "outputs": [
    {
     "name": "stdout",
     "output_type": "stream",
     "text": [
      "0.957983193277311\n",
      "0.925\n"
     ]
    }
   ],
   "source": [
    "#tol : 향상될 최소값을 지정하는 매개변수 , None : 자동(무조건 반복)\n",
    "sc = SGDClassifier(loss = 'log_loss' , max_iter = 100, tol = None , random_state = 42)\n",
    "sc.fit(train_scaled , train_target)\n",
    "print(sc.score(train_scaled , train_target))\n",
    "print(sc.score(test_scaled , test_target))"
   ]
  },
  {
   "cell_type": "code",
   "execution_count": null,
   "id": "db14bab4",
   "metadata": {},
   "outputs": [],
   "source": []
  }
 ],
 "metadata": {
  "kernelspec": {
   "display_name": "Python 3 (ipykernel)",
   "language": "python",
   "name": "python3"
  },
  "language_info": {
   "codemirror_mode": {
    "name": "ipython",
    "version": 3
   },
   "file_extension": ".py",
   "mimetype": "text/x-python",
   "name": "python",
   "nbconvert_exporter": "python",
   "pygments_lexer": "ipython3",
   "version": "3.8.17"
  },
  "toc": {
   "base_numbering": 1,
   "nav_menu": {},
   "number_sections": true,
   "sideBar": true,
   "skip_h1_title": false,
   "title_cell": "Table of Contents",
   "title_sidebar": "Contents",
   "toc_cell": false,
   "toc_position": {},
   "toc_section_display": true,
   "toc_window_display": false
  }
 },
 "nbformat": 4,
 "nbformat_minor": 5
}
