{
 "cells": [
  {
   "cell_type": "code",
   "execution_count": 94,
   "id": "d2f4e2cb",
   "metadata": {
    "ExecuteTime": {
     "end_time": "2023-10-31T00:10:42.150791Z",
     "start_time": "2023-10-31T00:10:42.136791Z"
    }
   },
   "outputs": [],
   "source": [
    "import numpy as np\n",
    "import pandas as pd\n",
    "import matplotlib as mpl\n",
    "import matplotlib.pyplot as plt\n",
    "import mglearn\n",
    "%matplotlib inline\n",
    "import seaborn as sns\n",
    "import platform\n",
    "from matplotlib import font_manager , rc\n",
    "\n",
    "if platform.system() == 'Darwin':\n",
    "  rc('font' , family = 'AppleGothic')\n",
    "elif platform.system() == 'Windows':\n",
    "  path = 'C:/Windows/Fonts/malgun.ttf'\n",
    "  font_name = font_manager.FontProperties(fname = path).get_name()\n",
    "  rc('font' , family = font_name)\n",
    "else:\n",
    "  print('모름')\n",
    "plt.rcParams['axes.unicode_minus'] = False\n",
    "import warnings\n",
    "warnings.filterwarnings('ignore')"
   ]
  },
  {
   "cell_type": "markdown",
   "id": "405b6800",
   "metadata": {},
   "source": [
    "# 데이터 셋 로딩과 주제 정의"
   ]
  },
  {
   "cell_type": "code",
   "execution_count": 174,
   "id": "1e7dde1c",
   "metadata": {
    "ExecuteTime": {
     "end_time": "2023-10-31T00:28:47.025015Z",
     "start_time": "2023-10-31T00:28:46.990404Z"
    }
   },
   "outputs": [],
   "source": [
    "data = pd.read_csv('speed_dating.csv')"
   ]
  },
  {
   "cell_type": "code",
   "execution_count": 96,
   "id": "df053254",
   "metadata": {
    "ExecuteTime": {
     "end_time": "2023-10-31T00:10:42.213009Z",
     "start_time": "2023-10-31T00:10:42.197966Z"
    }
   },
   "outputs": [],
   "source": [
    "data = data.iloc[:,2:]"
   ]
  },
  {
   "cell_type": "code",
   "execution_count": 97,
   "id": "caae9cd7",
   "metadata": {
    "ExecuteTime": {
     "end_time": "2023-10-31T00:10:42.228638Z",
     "start_time": "2023-10-31T00:10:42.215512Z"
    }
   },
   "outputs": [
    {
     "data": {
      "text/plain": [
       "Index(['gender', 'age', 'age_o', 'race', 'race_o', 'importance_same_race',\n",
       "       'importance_same_religion', 'pref_o_attractive', 'pref_o_sincere',\n",
       "       'pref_o_intelligence', 'pref_o_funny', 'pref_o_ambitious',\n",
       "       'pref_o_shared_interests', 'attractive_o', 'sincere_o',\n",
       "       'intelligence_o', 'funny_o', 'ambitous_o', 'shared_interests_o',\n",
       "       'attractive_important', 'sincere_important', 'intellicence_important',\n",
       "       'funny_important', 'ambtition_important', 'shared_interests_important',\n",
       "       'attractive_partner', 'sincere_partner', 'intelligence_partner',\n",
       "       'funny_partner', 'ambition_partner', 'shared_interests_partner',\n",
       "       'interests_correlate', 'expected_happy_with_sd_people',\n",
       "       'expected_num_interested_in_me', 'like', 'guess_prob_liked', 'met',\n",
       "       'match'],\n",
       "      dtype='object')"
      ]
     },
     "execution_count": 97,
     "metadata": {},
     "output_type": "execute_result"
    }
   ],
   "source": [
    "data.columns"
   ]
  },
  {
   "cell_type": "markdown",
   "id": "3e4d17b9",
   "metadata": {},
   "source": [
    "- perf_o_xxx : 상대방이 xxx 항목을 얼마나 중요시하는지에 대한 점수\n",
    "- xxx_o : 상대방이 본인의 xxx 항목을 평가한 점수\n",
    "- xxx_important : xxx 항목에 대해 본인이 얼마나 중요하게 생각하는지에 대한 점수\n",
    "- xxx_partner : 본인이 상대방에 대한 xxx 항목 평가\n",
    "- interests_correlate : 관심사 연관도\n",
    "- expectd_happy_with_sd_people : 스피드 데이팅을 통해 만난 사람과 함께 할 때 , 얼마나 좋을지에 대한 기대치\n",
    "- expected_num_interested_in_me : 얼마나 많은 사람이 나에게 관심을 보일지에 대한 기대치\n",
    "- like : 파트너를 좋아하는지\n",
    "- guss_prob_liked : 파트너가 나를 마음에 들어했을지에 대한 예상\n",
    "- met : 이전에 만난 적이 있는지\n",
    "- match : target"
   ]
  },
  {
   "cell_type": "code",
   "execution_count": 98,
   "id": "eae93b57",
   "metadata": {
    "ExecuteTime": {
     "end_time": "2023-10-31T00:10:42.306552Z",
     "start_time": "2023-10-31T00:10:42.229681Z"
    }
   },
   "outputs": [
    {
     "data": {
      "text/html": [
       "<div>\n",
       "<style scoped>\n",
       "    .dataframe tbody tr th:only-of-type {\n",
       "        vertical-align: middle;\n",
       "    }\n",
       "\n",
       "    .dataframe tbody tr th {\n",
       "        vertical-align: top;\n",
       "    }\n",
       "\n",
       "    .dataframe thead th {\n",
       "        text-align: right;\n",
       "    }\n",
       "</style>\n",
       "<table border=\"1\" class=\"dataframe\">\n",
       "  <thead>\n",
       "    <tr style=\"text-align: right;\">\n",
       "      <th></th>\n",
       "      <th>count</th>\n",
       "      <th>mean</th>\n",
       "      <th>std</th>\n",
       "      <th>min</th>\n",
       "      <th>25%</th>\n",
       "      <th>50%</th>\n",
       "      <th>75%</th>\n",
       "      <th>max</th>\n",
       "    </tr>\n",
       "  </thead>\n",
       "  <tbody>\n",
       "    <tr>\n",
       "      <th>age</th>\n",
       "      <td>8283.0</td>\n",
       "      <td>26.358928</td>\n",
       "      <td>3.566763</td>\n",
       "      <td>18.00</td>\n",
       "      <td>24.00</td>\n",
       "      <td>26.00</td>\n",
       "      <td>28.00</td>\n",
       "      <td>55.00</td>\n",
       "    </tr>\n",
       "    <tr>\n",
       "      <th>age_o</th>\n",
       "      <td>8274.0</td>\n",
       "      <td>26.364999</td>\n",
       "      <td>3.563648</td>\n",
       "      <td>18.00</td>\n",
       "      <td>24.00</td>\n",
       "      <td>26.00</td>\n",
       "      <td>28.00</td>\n",
       "      <td>55.00</td>\n",
       "    </tr>\n",
       "    <tr>\n",
       "      <th>importance_same_race</th>\n",
       "      <td>8299.0</td>\n",
       "      <td>3.784793</td>\n",
       "      <td>2.845708</td>\n",
       "      <td>0.00</td>\n",
       "      <td>1.00</td>\n",
       "      <td>3.00</td>\n",
       "      <td>6.00</td>\n",
       "      <td>10.00</td>\n",
       "    </tr>\n",
       "    <tr>\n",
       "      <th>importance_same_religion</th>\n",
       "      <td>8299.0</td>\n",
       "      <td>3.651645</td>\n",
       "      <td>2.805237</td>\n",
       "      <td>1.00</td>\n",
       "      <td>1.00</td>\n",
       "      <td>3.00</td>\n",
       "      <td>6.00</td>\n",
       "      <td>10.00</td>\n",
       "    </tr>\n",
       "    <tr>\n",
       "      <th>pref_o_attractive</th>\n",
       "      <td>8289.0</td>\n",
       "      <td>22.495347</td>\n",
       "      <td>12.569802</td>\n",
       "      <td>0.00</td>\n",
       "      <td>15.00</td>\n",
       "      <td>20.00</td>\n",
       "      <td>25.00</td>\n",
       "      <td>100.00</td>\n",
       "    </tr>\n",
       "    <tr>\n",
       "      <th>pref_o_sincere</th>\n",
       "      <td>8289.0</td>\n",
       "      <td>17.396867</td>\n",
       "      <td>7.044003</td>\n",
       "      <td>0.00</td>\n",
       "      <td>15.00</td>\n",
       "      <td>18.37</td>\n",
       "      <td>20.00</td>\n",
       "      <td>60.00</td>\n",
       "    </tr>\n",
       "    <tr>\n",
       "      <th>pref_o_intelligence</th>\n",
       "      <td>8289.0</td>\n",
       "      <td>20.270759</td>\n",
       "      <td>6.782895</td>\n",
       "      <td>0.00</td>\n",
       "      <td>17.39</td>\n",
       "      <td>20.00</td>\n",
       "      <td>23.81</td>\n",
       "      <td>50.00</td>\n",
       "    </tr>\n",
       "    <tr>\n",
       "      <th>pref_o_funny</th>\n",
       "      <td>8280.0</td>\n",
       "      <td>17.459714</td>\n",
       "      <td>6.085526</td>\n",
       "      <td>0.00</td>\n",
       "      <td>15.00</td>\n",
       "      <td>18.00</td>\n",
       "      <td>20.00</td>\n",
       "      <td>50.00</td>\n",
       "    </tr>\n",
       "    <tr>\n",
       "      <th>pref_o_ambitious</th>\n",
       "      <td>8271.0</td>\n",
       "      <td>10.685375</td>\n",
       "      <td>6.126544</td>\n",
       "      <td>0.00</td>\n",
       "      <td>5.00</td>\n",
       "      <td>10.00</td>\n",
       "      <td>15.00</td>\n",
       "      <td>53.00</td>\n",
       "    </tr>\n",
       "    <tr>\n",
       "      <th>pref_o_shared_interests</th>\n",
       "      <td>8249.0</td>\n",
       "      <td>11.845930</td>\n",
       "      <td>6.362746</td>\n",
       "      <td>0.00</td>\n",
       "      <td>9.52</td>\n",
       "      <td>10.64</td>\n",
       "      <td>16.00</td>\n",
       "      <td>30.00</td>\n",
       "    </tr>\n",
       "    <tr>\n",
       "      <th>attractive_o</th>\n",
       "      <td>8166.0</td>\n",
       "      <td>6.190411</td>\n",
       "      <td>1.950305</td>\n",
       "      <td>0.00</td>\n",
       "      <td>5.00</td>\n",
       "      <td>6.00</td>\n",
       "      <td>8.00</td>\n",
       "      <td>10.50</td>\n",
       "    </tr>\n",
       "    <tr>\n",
       "      <th>sincere_o</th>\n",
       "      <td>8091.0</td>\n",
       "      <td>7.175256</td>\n",
       "      <td>1.740575</td>\n",
       "      <td>0.00</td>\n",
       "      <td>6.00</td>\n",
       "      <td>7.00</td>\n",
       "      <td>8.00</td>\n",
       "      <td>10.00</td>\n",
       "    </tr>\n",
       "    <tr>\n",
       "      <th>intelligence_o</th>\n",
       "      <td>8072.0</td>\n",
       "      <td>7.369301</td>\n",
       "      <td>1.550501</td>\n",
       "      <td>0.00</td>\n",
       "      <td>6.00</td>\n",
       "      <td>7.00</td>\n",
       "      <td>8.00</td>\n",
       "      <td>10.00</td>\n",
       "    </tr>\n",
       "    <tr>\n",
       "      <th>funny_o</th>\n",
       "      <td>8018.0</td>\n",
       "      <td>6.400599</td>\n",
       "      <td>1.954078</td>\n",
       "      <td>0.00</td>\n",
       "      <td>5.00</td>\n",
       "      <td>7.00</td>\n",
       "      <td>8.00</td>\n",
       "      <td>11.00</td>\n",
       "    </tr>\n",
       "    <tr>\n",
       "      <th>ambitous_o</th>\n",
       "      <td>7656.0</td>\n",
       "      <td>6.778409</td>\n",
       "      <td>1.794080</td>\n",
       "      <td>0.00</td>\n",
       "      <td>6.00</td>\n",
       "      <td>7.00</td>\n",
       "      <td>8.00</td>\n",
       "      <td>10.00</td>\n",
       "    </tr>\n",
       "    <tr>\n",
       "      <th>shared_interests_o</th>\n",
       "      <td>7302.0</td>\n",
       "      <td>5.474870</td>\n",
       "      <td>2.156163</td>\n",
       "      <td>0.00</td>\n",
       "      <td>4.00</td>\n",
       "      <td>6.00</td>\n",
       "      <td>7.00</td>\n",
       "      <td>10.00</td>\n",
       "    </tr>\n",
       "    <tr>\n",
       "      <th>attractive_important</th>\n",
       "      <td>8299.0</td>\n",
       "      <td>22.514632</td>\n",
       "      <td>12.587674</td>\n",
       "      <td>0.00</td>\n",
       "      <td>15.00</td>\n",
       "      <td>20.00</td>\n",
       "      <td>25.00</td>\n",
       "      <td>100.00</td>\n",
       "    </tr>\n",
       "    <tr>\n",
       "      <th>sincere_important</th>\n",
       "      <td>8299.0</td>\n",
       "      <td>17.396389</td>\n",
       "      <td>7.046700</td>\n",
       "      <td>0.00</td>\n",
       "      <td>15.00</td>\n",
       "      <td>18.18</td>\n",
       "      <td>20.00</td>\n",
       "      <td>60.00</td>\n",
       "    </tr>\n",
       "    <tr>\n",
       "      <th>intellicence_important</th>\n",
       "      <td>8299.0</td>\n",
       "      <td>20.265613</td>\n",
       "      <td>6.783003</td>\n",
       "      <td>0.00</td>\n",
       "      <td>17.39</td>\n",
       "      <td>20.00</td>\n",
       "      <td>23.81</td>\n",
       "      <td>50.00</td>\n",
       "    </tr>\n",
       "    <tr>\n",
       "      <th>funny_important</th>\n",
       "      <td>8289.0</td>\n",
       "      <td>17.457043</td>\n",
       "      <td>6.085239</td>\n",
       "      <td>0.00</td>\n",
       "      <td>15.00</td>\n",
       "      <td>18.00</td>\n",
       "      <td>20.00</td>\n",
       "      <td>50.00</td>\n",
       "    </tr>\n",
       "    <tr>\n",
       "      <th>ambtition_important</th>\n",
       "      <td>8279.0</td>\n",
       "      <td>10.682539</td>\n",
       "      <td>6.124888</td>\n",
       "      <td>0.00</td>\n",
       "      <td>5.00</td>\n",
       "      <td>10.00</td>\n",
       "      <td>15.00</td>\n",
       "      <td>53.00</td>\n",
       "    </tr>\n",
       "    <tr>\n",
       "      <th>shared_interests_important</th>\n",
       "      <td>8257.0</td>\n",
       "      <td>11.845111</td>\n",
       "      <td>6.362154</td>\n",
       "      <td>0.00</td>\n",
       "      <td>9.52</td>\n",
       "      <td>10.64</td>\n",
       "      <td>16.00</td>\n",
       "      <td>30.00</td>\n",
       "    </tr>\n",
       "    <tr>\n",
       "      <th>attractive_partner</th>\n",
       "      <td>8176.0</td>\n",
       "      <td>6.189995</td>\n",
       "      <td>1.950169</td>\n",
       "      <td>0.00</td>\n",
       "      <td>5.00</td>\n",
       "      <td>6.00</td>\n",
       "      <td>8.00</td>\n",
       "      <td>10.00</td>\n",
       "    </tr>\n",
       "    <tr>\n",
       "      <th>sincere_partner</th>\n",
       "      <td>8101.0</td>\n",
       "      <td>7.175164</td>\n",
       "      <td>1.740315</td>\n",
       "      <td>0.00</td>\n",
       "      <td>6.00</td>\n",
       "      <td>7.00</td>\n",
       "      <td>8.00</td>\n",
       "      <td>10.00</td>\n",
       "    </tr>\n",
       "    <tr>\n",
       "      <th>intelligence_partner</th>\n",
       "      <td>8082.0</td>\n",
       "      <td>7.368597</td>\n",
       "      <td>1.550453</td>\n",
       "      <td>0.00</td>\n",
       "      <td>6.00</td>\n",
       "      <td>7.00</td>\n",
       "      <td>8.00</td>\n",
       "      <td>10.00</td>\n",
       "    </tr>\n",
       "    <tr>\n",
       "      <th>funny_partner</th>\n",
       "      <td>8028.0</td>\n",
       "      <td>6.400598</td>\n",
       "      <td>1.953702</td>\n",
       "      <td>0.00</td>\n",
       "      <td>5.00</td>\n",
       "      <td>7.00</td>\n",
       "      <td>8.00</td>\n",
       "      <td>10.00</td>\n",
       "    </tr>\n",
       "    <tr>\n",
       "      <th>ambition_partner</th>\n",
       "      <td>7666.0</td>\n",
       "      <td>6.777524</td>\n",
       "      <td>1.794055</td>\n",
       "      <td>0.00</td>\n",
       "      <td>6.00</td>\n",
       "      <td>7.00</td>\n",
       "      <td>8.00</td>\n",
       "      <td>10.00</td>\n",
       "    </tr>\n",
       "    <tr>\n",
       "      <th>shared_interests_partner</th>\n",
       "      <td>7311.0</td>\n",
       "      <td>5.474559</td>\n",
       "      <td>2.156363</td>\n",
       "      <td>0.00</td>\n",
       "      <td>4.00</td>\n",
       "      <td>6.00</td>\n",
       "      <td>7.00</td>\n",
       "      <td>10.00</td>\n",
       "    </tr>\n",
       "    <tr>\n",
       "      <th>interests_correlate</th>\n",
       "      <td>8220.0</td>\n",
       "      <td>0.196010</td>\n",
       "      <td>0.303539</td>\n",
       "      <td>-0.83</td>\n",
       "      <td>-0.02</td>\n",
       "      <td>0.21</td>\n",
       "      <td>0.43</td>\n",
       "      <td>0.91</td>\n",
       "    </tr>\n",
       "    <tr>\n",
       "      <th>expected_happy_with_sd_people</th>\n",
       "      <td>8277.0</td>\n",
       "      <td>5.534131</td>\n",
       "      <td>1.734059</td>\n",
       "      <td>1.00</td>\n",
       "      <td>5.00</td>\n",
       "      <td>6.00</td>\n",
       "      <td>7.00</td>\n",
       "      <td>10.00</td>\n",
       "    </tr>\n",
       "    <tr>\n",
       "      <th>expected_num_interested_in_me</th>\n",
       "      <td>1800.0</td>\n",
       "      <td>5.570556</td>\n",
       "      <td>4.762569</td>\n",
       "      <td>0.00</td>\n",
       "      <td>2.00</td>\n",
       "      <td>4.00</td>\n",
       "      <td>8.00</td>\n",
       "      <td>20.00</td>\n",
       "    </tr>\n",
       "    <tr>\n",
       "      <th>like</th>\n",
       "      <td>8138.0</td>\n",
       "      <td>6.134087</td>\n",
       "      <td>1.841285</td>\n",
       "      <td>0.00</td>\n",
       "      <td>5.00</td>\n",
       "      <td>6.00</td>\n",
       "      <td>7.00</td>\n",
       "      <td>10.00</td>\n",
       "    </tr>\n",
       "    <tr>\n",
       "      <th>guess_prob_liked</th>\n",
       "      <td>8069.0</td>\n",
       "      <td>5.207523</td>\n",
       "      <td>2.129565</td>\n",
       "      <td>0.00</td>\n",
       "      <td>4.00</td>\n",
       "      <td>5.00</td>\n",
       "      <td>7.00</td>\n",
       "      <td>10.00</td>\n",
       "    </tr>\n",
       "    <tr>\n",
       "      <th>met</th>\n",
       "      <td>8003.0</td>\n",
       "      <td>0.049856</td>\n",
       "      <td>0.282168</td>\n",
       "      <td>0.00</td>\n",
       "      <td>0.00</td>\n",
       "      <td>0.00</td>\n",
       "      <td>0.00</td>\n",
       "      <td>8.00</td>\n",
       "    </tr>\n",
       "    <tr>\n",
       "      <th>match</th>\n",
       "      <td>8378.0</td>\n",
       "      <td>0.164717</td>\n",
       "      <td>0.370947</td>\n",
       "      <td>0.00</td>\n",
       "      <td>0.00</td>\n",
       "      <td>0.00</td>\n",
       "      <td>0.00</td>\n",
       "      <td>1.00</td>\n",
       "    </tr>\n",
       "  </tbody>\n",
       "</table>\n",
       "</div>"
      ],
      "text/plain": [
       "                                count       mean        std    min    25%  \\\n",
       "age                            8283.0  26.358928   3.566763  18.00  24.00   \n",
       "age_o                          8274.0  26.364999   3.563648  18.00  24.00   \n",
       "importance_same_race           8299.0   3.784793   2.845708   0.00   1.00   \n",
       "importance_same_religion       8299.0   3.651645   2.805237   1.00   1.00   \n",
       "pref_o_attractive              8289.0  22.495347  12.569802   0.00  15.00   \n",
       "pref_o_sincere                 8289.0  17.396867   7.044003   0.00  15.00   \n",
       "pref_o_intelligence            8289.0  20.270759   6.782895   0.00  17.39   \n",
       "pref_o_funny                   8280.0  17.459714   6.085526   0.00  15.00   \n",
       "pref_o_ambitious               8271.0  10.685375   6.126544   0.00   5.00   \n",
       "pref_o_shared_interests        8249.0  11.845930   6.362746   0.00   9.52   \n",
       "attractive_o                   8166.0   6.190411   1.950305   0.00   5.00   \n",
       "sincere_o                      8091.0   7.175256   1.740575   0.00   6.00   \n",
       "intelligence_o                 8072.0   7.369301   1.550501   0.00   6.00   \n",
       "funny_o                        8018.0   6.400599   1.954078   0.00   5.00   \n",
       "ambitous_o                     7656.0   6.778409   1.794080   0.00   6.00   \n",
       "shared_interests_o             7302.0   5.474870   2.156163   0.00   4.00   \n",
       "attractive_important           8299.0  22.514632  12.587674   0.00  15.00   \n",
       "sincere_important              8299.0  17.396389   7.046700   0.00  15.00   \n",
       "intellicence_important         8299.0  20.265613   6.783003   0.00  17.39   \n",
       "funny_important                8289.0  17.457043   6.085239   0.00  15.00   \n",
       "ambtition_important            8279.0  10.682539   6.124888   0.00   5.00   \n",
       "shared_interests_important     8257.0  11.845111   6.362154   0.00   9.52   \n",
       "attractive_partner             8176.0   6.189995   1.950169   0.00   5.00   \n",
       "sincere_partner                8101.0   7.175164   1.740315   0.00   6.00   \n",
       "intelligence_partner           8082.0   7.368597   1.550453   0.00   6.00   \n",
       "funny_partner                  8028.0   6.400598   1.953702   0.00   5.00   \n",
       "ambition_partner               7666.0   6.777524   1.794055   0.00   6.00   \n",
       "shared_interests_partner       7311.0   5.474559   2.156363   0.00   4.00   \n",
       "interests_correlate            8220.0   0.196010   0.303539  -0.83  -0.02   \n",
       "expected_happy_with_sd_people  8277.0   5.534131   1.734059   1.00   5.00   \n",
       "expected_num_interested_in_me  1800.0   5.570556   4.762569   0.00   2.00   \n",
       "like                           8138.0   6.134087   1.841285   0.00   5.00   \n",
       "guess_prob_liked               8069.0   5.207523   2.129565   0.00   4.00   \n",
       "met                            8003.0   0.049856   0.282168   0.00   0.00   \n",
       "match                          8378.0   0.164717   0.370947   0.00   0.00   \n",
       "\n",
       "                                 50%    75%     max  \n",
       "age                            26.00  28.00   55.00  \n",
       "age_o                          26.00  28.00   55.00  \n",
       "importance_same_race            3.00   6.00   10.00  \n",
       "importance_same_religion        3.00   6.00   10.00  \n",
       "pref_o_attractive              20.00  25.00  100.00  \n",
       "pref_o_sincere                 18.37  20.00   60.00  \n",
       "pref_o_intelligence            20.00  23.81   50.00  \n",
       "pref_o_funny                   18.00  20.00   50.00  \n",
       "pref_o_ambitious               10.00  15.00   53.00  \n",
       "pref_o_shared_interests        10.64  16.00   30.00  \n",
       "attractive_o                    6.00   8.00   10.50  \n",
       "sincere_o                       7.00   8.00   10.00  \n",
       "intelligence_o                  7.00   8.00   10.00  \n",
       "funny_o                         7.00   8.00   11.00  \n",
       "ambitous_o                      7.00   8.00   10.00  \n",
       "shared_interests_o              6.00   7.00   10.00  \n",
       "attractive_important           20.00  25.00  100.00  \n",
       "sincere_important              18.18  20.00   60.00  \n",
       "intellicence_important         20.00  23.81   50.00  \n",
       "funny_important                18.00  20.00   50.00  \n",
       "ambtition_important            10.00  15.00   53.00  \n",
       "shared_interests_important     10.64  16.00   30.00  \n",
       "attractive_partner              6.00   8.00   10.00  \n",
       "sincere_partner                 7.00   8.00   10.00  \n",
       "intelligence_partner            7.00   8.00   10.00  \n",
       "funny_partner                   7.00   8.00   10.00  \n",
       "ambition_partner                7.00   8.00   10.00  \n",
       "shared_interests_partner        6.00   7.00   10.00  \n",
       "interests_correlate             0.21   0.43    0.91  \n",
       "expected_happy_with_sd_people   6.00   7.00   10.00  \n",
       "expected_num_interested_in_me   4.00   8.00   20.00  \n",
       "like                            6.00   7.00   10.00  \n",
       "guess_prob_liked                5.00   7.00   10.00  \n",
       "met                             0.00   0.00    8.00  \n",
       "match                           0.00   0.00    1.00  "
      ]
     },
     "execution_count": 98,
     "metadata": {},
     "output_type": "execute_result"
    }
   ],
   "source": [
    "data.describe().T"
   ]
  },
  {
   "cell_type": "code",
   "execution_count": 99,
   "id": "5eaa9b81",
   "metadata": {
    "ExecuteTime": {
     "end_time": "2023-10-31T00:10:42.322485Z",
     "start_time": "2023-10-31T00:10:42.307822Z"
    }
   },
   "outputs": [
    {
     "data": {
      "text/plain": [
       "gender                           0.000000\n",
       "age                              0.011339\n",
       "age_o                            0.012413\n",
       "race                             0.007520\n",
       "race_o                           0.008713\n",
       "importance_same_race             0.009429\n",
       "importance_same_religion         0.009429\n",
       "pref_o_attractive                0.010623\n",
       "pref_o_sincere                   0.010623\n",
       "pref_o_intelligence              0.010623\n",
       "pref_o_funny                     0.011697\n",
       "pref_o_ambitious                 0.012772\n",
       "pref_o_shared_interests          0.015397\n",
       "attractive_o                     0.025304\n",
       "sincere_o                        0.034256\n",
       "intelligence_o                   0.036524\n",
       "funny_o                          0.042970\n",
       "ambitous_o                       0.086178\n",
       "shared_interests_o               0.128432\n",
       "attractive_important             0.009429\n",
       "sincere_important                0.009429\n",
       "intellicence_important           0.009429\n",
       "funny_important                  0.010623\n",
       "ambtition_important              0.011817\n",
       "shared_interests_important       0.014443\n",
       "attractive_partner               0.024111\n",
       "sincere_partner                  0.033063\n",
       "intelligence_partner             0.035331\n",
       "funny_partner                    0.041776\n",
       "ambition_partner                 0.084984\n",
       "shared_interests_partner         0.127357\n",
       "interests_correlate              0.018859\n",
       "expected_happy_with_sd_people    0.012055\n",
       "expected_num_interested_in_me    0.785152\n",
       "like                             0.028646\n",
       "guess_prob_liked                 0.036882\n",
       "met                              0.044760\n",
       "match                            0.000000\n",
       "dtype: float64"
      ]
     },
     "execution_count": 99,
     "metadata": {},
     "output_type": "execute_result"
    }
   ],
   "source": [
    "#결측치 비율 확인\n",
    "data.isna().mean()"
   ]
  },
  {
   "cell_type": "markdown",
   "id": "2281c010",
   "metadata": {},
   "source": [
    "- 종교와 인종 선호도 수치는 비어있을 경우 , 상관없음으로 간주 . 가중치를 곱할 때 1로 표기"
   ]
  },
  {
   "cell_type": "code",
   "execution_count": 100,
   "id": "b5adf94e",
   "metadata": {
    "ExecuteTime": {
     "end_time": "2023-10-31T00:10:42.399399Z",
     "start_time": "2023-10-31T00:10:42.323518Z"
    }
   },
   "outputs": [
    {
     "data": {
      "text/html": [
       "<div>\n",
       "<style scoped>\n",
       "    .dataframe tbody tr th:only-of-type {\n",
       "        vertical-align: middle;\n",
       "    }\n",
       "\n",
       "    .dataframe tbody tr th {\n",
       "        vertical-align: top;\n",
       "    }\n",
       "\n",
       "    .dataframe thead th {\n",
       "        text-align: right;\n",
       "    }\n",
       "</style>\n",
       "<table border=\"1\" class=\"dataframe\">\n",
       "  <thead>\n",
       "    <tr style=\"text-align: right;\">\n",
       "      <th></th>\n",
       "      <th>age</th>\n",
       "      <th>age_o</th>\n",
       "      <th>importance_same_race</th>\n",
       "      <th>importance_same_religion</th>\n",
       "      <th>pref_o_attractive</th>\n",
       "      <th>pref_o_sincere</th>\n",
       "      <th>pref_o_intelligence</th>\n",
       "      <th>pref_o_funny</th>\n",
       "      <th>pref_o_ambitious</th>\n",
       "      <th>pref_o_shared_interests</th>\n",
       "      <th>...</th>\n",
       "      <th>funny_partner</th>\n",
       "      <th>ambition_partner</th>\n",
       "      <th>shared_interests_partner</th>\n",
       "      <th>interests_correlate</th>\n",
       "      <th>expected_happy_with_sd_people</th>\n",
       "      <th>expected_num_interested_in_me</th>\n",
       "      <th>like</th>\n",
       "      <th>guess_prob_liked</th>\n",
       "      <th>met</th>\n",
       "      <th>match</th>\n",
       "    </tr>\n",
       "  </thead>\n",
       "  <tbody>\n",
       "    <tr>\n",
       "      <th>count</th>\n",
       "      <td>8283.000000</td>\n",
       "      <td>8274.000000</td>\n",
       "      <td>8299.000000</td>\n",
       "      <td>8299.000000</td>\n",
       "      <td>8289.000000</td>\n",
       "      <td>8289.000000</td>\n",
       "      <td>8289.000000</td>\n",
       "      <td>8280.000000</td>\n",
       "      <td>8271.000000</td>\n",
       "      <td>8249.000000</td>\n",
       "      <td>...</td>\n",
       "      <td>8028.000000</td>\n",
       "      <td>7666.000000</td>\n",
       "      <td>7311.000000</td>\n",
       "      <td>8220.000000</td>\n",
       "      <td>8277.000000</td>\n",
       "      <td>1800.000000</td>\n",
       "      <td>8138.000000</td>\n",
       "      <td>8069.000000</td>\n",
       "      <td>8003.000000</td>\n",
       "      <td>8378.000000</td>\n",
       "    </tr>\n",
       "    <tr>\n",
       "      <th>mean</th>\n",
       "      <td>26.358928</td>\n",
       "      <td>26.364999</td>\n",
       "      <td>3.784793</td>\n",
       "      <td>3.651645</td>\n",
       "      <td>22.495347</td>\n",
       "      <td>17.396867</td>\n",
       "      <td>20.270759</td>\n",
       "      <td>17.459714</td>\n",
       "      <td>10.685375</td>\n",
       "      <td>11.845930</td>\n",
       "      <td>...</td>\n",
       "      <td>6.400598</td>\n",
       "      <td>6.777524</td>\n",
       "      <td>5.474559</td>\n",
       "      <td>0.196010</td>\n",
       "      <td>5.534131</td>\n",
       "      <td>5.570556</td>\n",
       "      <td>6.134087</td>\n",
       "      <td>5.207523</td>\n",
       "      <td>0.049856</td>\n",
       "      <td>0.164717</td>\n",
       "    </tr>\n",
       "    <tr>\n",
       "      <th>std</th>\n",
       "      <td>3.566763</td>\n",
       "      <td>3.563648</td>\n",
       "      <td>2.845708</td>\n",
       "      <td>2.805237</td>\n",
       "      <td>12.569802</td>\n",
       "      <td>7.044003</td>\n",
       "      <td>6.782895</td>\n",
       "      <td>6.085526</td>\n",
       "      <td>6.126544</td>\n",
       "      <td>6.362746</td>\n",
       "      <td>...</td>\n",
       "      <td>1.953702</td>\n",
       "      <td>1.794055</td>\n",
       "      <td>2.156363</td>\n",
       "      <td>0.303539</td>\n",
       "      <td>1.734059</td>\n",
       "      <td>4.762569</td>\n",
       "      <td>1.841285</td>\n",
       "      <td>2.129565</td>\n",
       "      <td>0.282168</td>\n",
       "      <td>0.370947</td>\n",
       "    </tr>\n",
       "    <tr>\n",
       "      <th>min</th>\n",
       "      <td>18.000000</td>\n",
       "      <td>18.000000</td>\n",
       "      <td>0.000000</td>\n",
       "      <td>1.000000</td>\n",
       "      <td>0.000000</td>\n",
       "      <td>0.000000</td>\n",
       "      <td>0.000000</td>\n",
       "      <td>0.000000</td>\n",
       "      <td>0.000000</td>\n",
       "      <td>0.000000</td>\n",
       "      <td>...</td>\n",
       "      <td>0.000000</td>\n",
       "      <td>0.000000</td>\n",
       "      <td>0.000000</td>\n",
       "      <td>-0.830000</td>\n",
       "      <td>1.000000</td>\n",
       "      <td>0.000000</td>\n",
       "      <td>0.000000</td>\n",
       "      <td>0.000000</td>\n",
       "      <td>0.000000</td>\n",
       "      <td>0.000000</td>\n",
       "    </tr>\n",
       "    <tr>\n",
       "      <th>25%</th>\n",
       "      <td>24.000000</td>\n",
       "      <td>24.000000</td>\n",
       "      <td>1.000000</td>\n",
       "      <td>1.000000</td>\n",
       "      <td>15.000000</td>\n",
       "      <td>15.000000</td>\n",
       "      <td>17.390000</td>\n",
       "      <td>15.000000</td>\n",
       "      <td>5.000000</td>\n",
       "      <td>9.520000</td>\n",
       "      <td>...</td>\n",
       "      <td>5.000000</td>\n",
       "      <td>6.000000</td>\n",
       "      <td>4.000000</td>\n",
       "      <td>-0.020000</td>\n",
       "      <td>5.000000</td>\n",
       "      <td>2.000000</td>\n",
       "      <td>5.000000</td>\n",
       "      <td>4.000000</td>\n",
       "      <td>0.000000</td>\n",
       "      <td>0.000000</td>\n",
       "    </tr>\n",
       "    <tr>\n",
       "      <th>50%</th>\n",
       "      <td>26.000000</td>\n",
       "      <td>26.000000</td>\n",
       "      <td>3.000000</td>\n",
       "      <td>3.000000</td>\n",
       "      <td>20.000000</td>\n",
       "      <td>18.370000</td>\n",
       "      <td>20.000000</td>\n",
       "      <td>18.000000</td>\n",
       "      <td>10.000000</td>\n",
       "      <td>10.640000</td>\n",
       "      <td>...</td>\n",
       "      <td>7.000000</td>\n",
       "      <td>7.000000</td>\n",
       "      <td>6.000000</td>\n",
       "      <td>0.210000</td>\n",
       "      <td>6.000000</td>\n",
       "      <td>4.000000</td>\n",
       "      <td>6.000000</td>\n",
       "      <td>5.000000</td>\n",
       "      <td>0.000000</td>\n",
       "      <td>0.000000</td>\n",
       "    </tr>\n",
       "    <tr>\n",
       "      <th>75%</th>\n",
       "      <td>28.000000</td>\n",
       "      <td>28.000000</td>\n",
       "      <td>6.000000</td>\n",
       "      <td>6.000000</td>\n",
       "      <td>25.000000</td>\n",
       "      <td>20.000000</td>\n",
       "      <td>23.810000</td>\n",
       "      <td>20.000000</td>\n",
       "      <td>15.000000</td>\n",
       "      <td>16.000000</td>\n",
       "      <td>...</td>\n",
       "      <td>8.000000</td>\n",
       "      <td>8.000000</td>\n",
       "      <td>7.000000</td>\n",
       "      <td>0.430000</td>\n",
       "      <td>7.000000</td>\n",
       "      <td>8.000000</td>\n",
       "      <td>7.000000</td>\n",
       "      <td>7.000000</td>\n",
       "      <td>0.000000</td>\n",
       "      <td>0.000000</td>\n",
       "    </tr>\n",
       "    <tr>\n",
       "      <th>max</th>\n",
       "      <td>55.000000</td>\n",
       "      <td>55.000000</td>\n",
       "      <td>10.000000</td>\n",
       "      <td>10.000000</td>\n",
       "      <td>100.000000</td>\n",
       "      <td>60.000000</td>\n",
       "      <td>50.000000</td>\n",
       "      <td>50.000000</td>\n",
       "      <td>53.000000</td>\n",
       "      <td>30.000000</td>\n",
       "      <td>...</td>\n",
       "      <td>10.000000</td>\n",
       "      <td>10.000000</td>\n",
       "      <td>10.000000</td>\n",
       "      <td>0.910000</td>\n",
       "      <td>10.000000</td>\n",
       "      <td>20.000000</td>\n",
       "      <td>10.000000</td>\n",
       "      <td>10.000000</td>\n",
       "      <td>8.000000</td>\n",
       "      <td>1.000000</td>\n",
       "    </tr>\n",
       "  </tbody>\n",
       "</table>\n",
       "<p>8 rows × 35 columns</p>\n",
       "</div>"
      ],
      "text/plain": [
       "               age        age_o  importance_same_race  \\\n",
       "count  8283.000000  8274.000000           8299.000000   \n",
       "mean     26.358928    26.364999              3.784793   \n",
       "std       3.566763     3.563648              2.845708   \n",
       "min      18.000000    18.000000              0.000000   \n",
       "25%      24.000000    24.000000              1.000000   \n",
       "50%      26.000000    26.000000              3.000000   \n",
       "75%      28.000000    28.000000              6.000000   \n",
       "max      55.000000    55.000000             10.000000   \n",
       "\n",
       "       importance_same_religion  pref_o_attractive  pref_o_sincere  \\\n",
       "count               8299.000000        8289.000000     8289.000000   \n",
       "mean                   3.651645          22.495347       17.396867   \n",
       "std                    2.805237          12.569802        7.044003   \n",
       "min                    1.000000           0.000000        0.000000   \n",
       "25%                    1.000000          15.000000       15.000000   \n",
       "50%                    3.000000          20.000000       18.370000   \n",
       "75%                    6.000000          25.000000       20.000000   \n",
       "max                   10.000000         100.000000       60.000000   \n",
       "\n",
       "       pref_o_intelligence  pref_o_funny  pref_o_ambitious  \\\n",
       "count          8289.000000   8280.000000       8271.000000   \n",
       "mean             20.270759     17.459714         10.685375   \n",
       "std               6.782895      6.085526          6.126544   \n",
       "min               0.000000      0.000000          0.000000   \n",
       "25%              17.390000     15.000000          5.000000   \n",
       "50%              20.000000     18.000000         10.000000   \n",
       "75%              23.810000     20.000000         15.000000   \n",
       "max              50.000000     50.000000         53.000000   \n",
       "\n",
       "       pref_o_shared_interests  ...  funny_partner  ambition_partner  \\\n",
       "count              8249.000000  ...    8028.000000       7666.000000   \n",
       "mean                 11.845930  ...       6.400598          6.777524   \n",
       "std                   6.362746  ...       1.953702          1.794055   \n",
       "min                   0.000000  ...       0.000000          0.000000   \n",
       "25%                   9.520000  ...       5.000000          6.000000   \n",
       "50%                  10.640000  ...       7.000000          7.000000   \n",
       "75%                  16.000000  ...       8.000000          8.000000   \n",
       "max                  30.000000  ...      10.000000         10.000000   \n",
       "\n",
       "       shared_interests_partner  interests_correlate  \\\n",
       "count               7311.000000          8220.000000   \n",
       "mean                   5.474559             0.196010   \n",
       "std                    2.156363             0.303539   \n",
       "min                    0.000000            -0.830000   \n",
       "25%                    4.000000            -0.020000   \n",
       "50%                    6.000000             0.210000   \n",
       "75%                    7.000000             0.430000   \n",
       "max                   10.000000             0.910000   \n",
       "\n",
       "       expected_happy_with_sd_people  expected_num_interested_in_me  \\\n",
       "count                    8277.000000                    1800.000000   \n",
       "mean                        5.534131                       5.570556   \n",
       "std                         1.734059                       4.762569   \n",
       "min                         1.000000                       0.000000   \n",
       "25%                         5.000000                       2.000000   \n",
       "50%                         6.000000                       4.000000   \n",
       "75%                         7.000000                       8.000000   \n",
       "max                        10.000000                      20.000000   \n",
       "\n",
       "              like  guess_prob_liked          met        match  \n",
       "count  8138.000000       8069.000000  8003.000000  8378.000000  \n",
       "mean      6.134087          5.207523     0.049856     0.164717  \n",
       "std       1.841285          2.129565     0.282168     0.370947  \n",
       "min       0.000000          0.000000     0.000000     0.000000  \n",
       "25%       5.000000          4.000000     0.000000     0.000000  \n",
       "50%       6.000000          5.000000     0.000000     0.000000  \n",
       "75%       7.000000          7.000000     0.000000     0.000000  \n",
       "max      10.000000         10.000000     8.000000     1.000000  \n",
       "\n",
       "[8 rows x 35 columns]"
      ]
     },
     "execution_count": 100,
     "metadata": {},
     "output_type": "execute_result"
    }
   ],
   "source": [
    "data.describe()"
   ]
  },
  {
   "cell_type": "code",
   "execution_count": 101,
   "id": "a6b84d16",
   "metadata": {
    "ExecuteTime": {
     "end_time": "2023-10-31T00:10:42.415255Z",
     "start_time": "2023-10-31T00:10:42.401411Z"
    }
   },
   "outputs": [],
   "source": [
    "data['importance_same_race'] = data['importance_same_race'].fillna(1)"
   ]
  },
  {
   "cell_type": "code",
   "execution_count": 102,
   "id": "5f043ec8",
   "metadata": {
    "ExecuteTime": {
     "end_time": "2023-10-31T00:10:42.430663Z",
     "start_time": "2023-10-31T00:10:42.417628Z"
    }
   },
   "outputs": [],
   "source": [
    "data['importance_same_religion'] = data['importance_same_religion'].fillna(1)"
   ]
  },
  {
   "cell_type": "code",
   "execution_count": 103,
   "id": "c5baa1a1",
   "metadata": {
    "ExecuteTime": {
     "end_time": "2023-10-31T00:10:42.461270Z",
     "start_time": "2023-10-31T00:10:42.433752Z"
    },
    "scrolled": true
   },
   "outputs": [
    {
     "name": "stdout",
     "output_type": "stream",
     "text": [
      "<class 'pandas.core.frame.DataFrame'>\n",
      "RangeIndex: 8378 entries, 0 to 8377\n",
      "Data columns (total 38 columns):\n",
      " #   Column                         Non-Null Count  Dtype  \n",
      "---  ------                         --------------  -----  \n",
      " 0   gender                         8378 non-null   object \n",
      " 1   age                            8283 non-null   float64\n",
      " 2   age_o                          8274 non-null   float64\n",
      " 3   race                           8315 non-null   object \n",
      " 4   race_o                         8305 non-null   object \n",
      " 5   importance_same_race           8378 non-null   float64\n",
      " 6   importance_same_religion       8378 non-null   float64\n",
      " 7   pref_o_attractive              8289 non-null   float64\n",
      " 8   pref_o_sincere                 8289 non-null   float64\n",
      " 9   pref_o_intelligence            8289 non-null   float64\n",
      " 10  pref_o_funny                   8280 non-null   float64\n",
      " 11  pref_o_ambitious               8271 non-null   float64\n",
      " 12  pref_o_shared_interests        8249 non-null   float64\n",
      " 13  attractive_o                   8166 non-null   float64\n",
      " 14  sincere_o                      8091 non-null   float64\n",
      " 15  intelligence_o                 8072 non-null   float64\n",
      " 16  funny_o                        8018 non-null   float64\n",
      " 17  ambitous_o                     7656 non-null   float64\n",
      " 18  shared_interests_o             7302 non-null   float64\n",
      " 19  attractive_important           8299 non-null   float64\n",
      " 20  sincere_important              8299 non-null   float64\n",
      " 21  intellicence_important         8299 non-null   float64\n",
      " 22  funny_important                8289 non-null   float64\n",
      " 23  ambtition_important            8279 non-null   float64\n",
      " 24  shared_interests_important     8257 non-null   float64\n",
      " 25  attractive_partner             8176 non-null   float64\n",
      " 26  sincere_partner                8101 non-null   float64\n",
      " 27  intelligence_partner           8082 non-null   float64\n",
      " 28  funny_partner                  8028 non-null   float64\n",
      " 29  ambition_partner               7666 non-null   float64\n",
      " 30  shared_interests_partner       7311 non-null   float64\n",
      " 31  interests_correlate            8220 non-null   float64\n",
      " 32  expected_happy_with_sd_people  8277 non-null   float64\n",
      " 33  expected_num_interested_in_me  1800 non-null   float64\n",
      " 34  like                           8138 non-null   float64\n",
      " 35  guess_prob_liked               8069 non-null   float64\n",
      " 36  met                            8003 non-null   float64\n",
      " 37  match                          8378 non-null   int64  \n",
      "dtypes: float64(34), int64(1), object(3)\n",
      "memory usage: 2.4+ MB\n"
     ]
    }
   ],
   "source": [
    "data.info()"
   ]
  },
  {
   "cell_type": "markdown",
   "id": "bc5be1ae",
   "metadata": {},
   "source": [
    "- 서로 평가를 해야하는데 , 평가에 기입 안한 것들 제거"
   ]
  },
  {
   "cell_type": "code",
   "execution_count": 104,
   "id": "457a8faa",
   "metadata": {
    "ExecuteTime": {
     "end_time": "2023-10-31T00:10:42.477155Z",
     "start_time": "2023-10-31T00:10:42.463293Z"
    }
   },
   "outputs": [],
   "source": [
    "data.dropna(subset = ['pref_o_attractive', 'pref_o_sincere', 'pref_o_intelligence',\n",
    "       'pref_o_funny', 'pref_o_ambitious', 'pref_o_shared_interests',\n",
    "       'attractive_o', 'sincere_o', 'intelligence_o', 'funny_o', 'ambitous_o',\n",
    "       'shared_interests_o', 'attractive_important', 'sincere_important',\n",
    "       'intellicence_important', 'funny_important', 'ambtition_important',\n",
    "       'shared_interests_important', 'attractive_partner', 'sincere_partner',\n",
    "       'intelligence_partner', 'funny_partner', 'ambition_partner',\n",
    "       'shared_interests_partner'] , inplace = True)"
   ]
  },
  {
   "cell_type": "code",
   "execution_count": 105,
   "id": "9c7b3581",
   "metadata": {
    "ExecuteTime": {
     "end_time": "2023-10-31T00:10:42.492292Z",
     "start_time": "2023-10-31T00:10:42.479244Z"
    }
   },
   "outputs": [
    {
     "name": "stdout",
     "output_type": "stream",
     "text": [
      "<class 'pandas.core.frame.DataFrame'>\n",
      "Int64Index: 5842 entries, 0 to 8377\n",
      "Data columns (total 38 columns):\n",
      " #   Column                         Non-Null Count  Dtype  \n",
      "---  ------                         --------------  -----  \n",
      " 0   gender                         5842 non-null   object \n",
      " 1   age                            5826 non-null   float64\n",
      " 2   age_o                          5826 non-null   float64\n",
      " 3   race                           5842 non-null   object \n",
      " 4   race_o                         5842 non-null   object \n",
      " 5   importance_same_race           5842 non-null   float64\n",
      " 6   importance_same_religion       5842 non-null   float64\n",
      " 7   pref_o_attractive              5842 non-null   float64\n",
      " 8   pref_o_sincere                 5842 non-null   float64\n",
      " 9   pref_o_intelligence            5842 non-null   float64\n",
      " 10  pref_o_funny                   5842 non-null   float64\n",
      " 11  pref_o_ambitious               5842 non-null   float64\n",
      " 12  pref_o_shared_interests        5842 non-null   float64\n",
      " 13  attractive_o                   5842 non-null   float64\n",
      " 14  sincere_o                      5842 non-null   float64\n",
      " 15  intelligence_o                 5842 non-null   float64\n",
      " 16  funny_o                        5842 non-null   float64\n",
      " 17  ambitous_o                     5842 non-null   float64\n",
      " 18  shared_interests_o             5842 non-null   float64\n",
      " 19  attractive_important           5842 non-null   float64\n",
      " 20  sincere_important              5842 non-null   float64\n",
      " 21  intellicence_important         5842 non-null   float64\n",
      " 22  funny_important                5842 non-null   float64\n",
      " 23  ambtition_important            5842 non-null   float64\n",
      " 24  shared_interests_important     5842 non-null   float64\n",
      " 25  attractive_partner             5842 non-null   float64\n",
      " 26  sincere_partner                5842 non-null   float64\n",
      " 27  intelligence_partner           5842 non-null   float64\n",
      " 28  funny_partner                  5842 non-null   float64\n",
      " 29  ambition_partner               5842 non-null   float64\n",
      " 30  shared_interests_partner       5842 non-null   float64\n",
      " 31  interests_correlate            5842 non-null   float64\n",
      " 32  expected_happy_with_sd_people  5826 non-null   float64\n",
      " 33  expected_num_interested_in_me  1260 non-null   float64\n",
      " 34  like                           5823 non-null   float64\n",
      " 35  guess_prob_liked               5786 non-null   float64\n",
      " 36  met                            5716 non-null   float64\n",
      " 37  match                          5842 non-null   int64  \n",
      "dtypes: float64(34), int64(1), object(3)\n",
      "memory usage: 1.7+ MB\n"
     ]
    }
   ],
   "source": [
    "data.info()"
   ]
  },
  {
   "cell_type": "markdown",
   "id": "575a3036",
   "metadata": {},
   "source": [
    "- expected_num_interested_in_me와 guess_prob_liked는 상대방이 본인을 어떻게 생각하느냐에 대한 '예상' 이므로 , 제거"
   ]
  },
  {
   "cell_type": "code",
   "execution_count": 106,
   "id": "0fe73e47",
   "metadata": {
    "ExecuteTime": {
     "end_time": "2023-10-31T00:10:42.508319Z",
     "start_time": "2023-10-31T00:10:42.493323Z"
    }
   },
   "outputs": [],
   "source": [
    "data.drop(['guess_prob_liked' , 'expected_num_interested_in_me'] , axis = 1 , inplace = True)"
   ]
  },
  {
   "cell_type": "markdown",
   "id": "56fe8bc2",
   "metadata": {
    "ExecuteTime": {
     "end_time": "2023-10-30T07:37:15.273701Z",
     "start_time": "2023-10-30T07:37:15.248281Z"
    }
   },
   "source": [
    "- expected_happy_with_sd_people는 이사람이랑 만나면 행복할 수 있을까? 라는 기대치이다. 이것은 서로의 점수를 통해서 예측할 수 있으므로 제거"
   ]
  },
  {
   "cell_type": "code",
   "execution_count": 107,
   "id": "7415843a",
   "metadata": {
    "ExecuteTime": {
     "end_time": "2023-10-31T00:10:42.523691Z",
     "start_time": "2023-10-31T00:10:42.509646Z"
    }
   },
   "outputs": [],
   "source": [
    "data.drop('expected_happy_with_sd_people' , axis = 1 , inplace = True)"
   ]
  },
  {
   "cell_type": "markdown",
   "id": "10b09222",
   "metadata": {},
   "source": [
    "- like도 서로의 점수를 통해서 예측할 수 있으므로 제거"
   ]
  },
  {
   "cell_type": "code",
   "execution_count": 108,
   "id": "bcc633ab",
   "metadata": {
    "ExecuteTime": {
     "end_time": "2023-10-31T00:10:42.539116Z",
     "start_time": "2023-10-31T00:10:42.526056Z"
    }
   },
   "outputs": [],
   "source": [
    "data.drop('like' , axis = 1 , inplace = True)"
   ]
  },
  {
   "cell_type": "markdown",
   "id": "cb3b5639",
   "metadata": {},
   "source": [
    "- met 은 만난 적이 있는지에 대한 0 or 1이다. 기입을 안한 건 만나지 않았다는 것으로 간주. 0으로 채우기"
   ]
  },
  {
   "cell_type": "code",
   "execution_count": 109,
   "id": "ed62bbb5",
   "metadata": {
    "ExecuteTime": {
     "end_time": "2023-10-31T00:10:42.555186Z",
     "start_time": "2023-10-31T00:10:42.540606Z"
    }
   },
   "outputs": [],
   "source": [
    "data.met = data.met.fillna(0)"
   ]
  },
  {
   "cell_type": "code",
   "execution_count": 110,
   "id": "d68fdacb",
   "metadata": {
    "ExecuteTime": {
     "end_time": "2023-10-31T00:10:42.743033Z",
     "start_time": "2023-10-31T00:10:42.557209Z"
    }
   },
   "outputs": [
    {
     "data": {
      "text/plain": [
       "[<matplotlib.lines.Line2D at 0x231f2904eb0>]"
      ]
     },
     "execution_count": 110,
     "metadata": {},
     "output_type": "execute_result"
    },
    {
     "data": {
      "image/png": "[encoded data removed]",
      "text/plain": [
       "<Figure size 640x480 with 1 Axes>"
      ]
     },
     "metadata": {},
     "output_type": "display_data"
    }
   ],
   "source": [
    "plt.plot(data.age)\n",
    "plt.plot(data.age_o)"
   ]
  },
  {
   "cell_type": "code",
   "execution_count": 111,
   "id": "d026c475",
   "metadata": {
    "ExecuteTime": {
     "end_time": "2023-10-31T00:10:42.789309Z",
     "start_time": "2023-10-31T00:10:42.744541Z"
    }
   },
   "outputs": [
    {
     "data": {
      "text/html": [
       "<div>\n",
       "<style scoped>\n",
       "    .dataframe tbody tr th:only-of-type {\n",
       "        vertical-align: middle;\n",
       "    }\n",
       "\n",
       "    .dataframe tbody tr th {\n",
       "        vertical-align: top;\n",
       "    }\n",
       "\n",
       "    .dataframe thead th {\n",
       "        text-align: right;\n",
       "    }\n",
       "</style>\n",
       "<table border=\"1\" class=\"dataframe\">\n",
       "  <thead>\n",
       "    <tr style=\"text-align: right;\">\n",
       "      <th></th>\n",
       "      <th>gender</th>\n",
       "      <th>age</th>\n",
       "      <th>age_o</th>\n",
       "      <th>race</th>\n",
       "      <th>race_o</th>\n",
       "      <th>importance_same_race</th>\n",
       "      <th>importance_same_religion</th>\n",
       "      <th>pref_o_attractive</th>\n",
       "      <th>pref_o_sincere</th>\n",
       "      <th>pref_o_intelligence</th>\n",
       "      <th>...</th>\n",
       "      <th>shared_interests_important</th>\n",
       "      <th>attractive_partner</th>\n",
       "      <th>sincere_partner</th>\n",
       "      <th>intelligence_partner</th>\n",
       "      <th>funny_partner</th>\n",
       "      <th>ambition_partner</th>\n",
       "      <th>shared_interests_partner</th>\n",
       "      <th>interests_correlate</th>\n",
       "      <th>met</th>\n",
       "      <th>match</th>\n",
       "    </tr>\n",
       "  </thead>\n",
       "  <tbody>\n",
       "    <tr>\n",
       "      <th>7476</th>\n",
       "      <td>female</td>\n",
       "      <td>NaN</td>\n",
       "      <td>25.0</td>\n",
       "      <td>European/Caucasian-American</td>\n",
       "      <td>Asian/PacificIslander/Asian-American</td>\n",
       "      <td>1.0</td>\n",
       "      <td>1.0</td>\n",
       "      <td>15.0</td>\n",
       "      <td>30.0</td>\n",
       "      <td>20.0</td>\n",
       "      <td>...</td>\n",
       "      <td>15.0</td>\n",
       "      <td>5.0</td>\n",
       "      <td>8.0</td>\n",
       "      <td>8.0</td>\n",
       "      <td>5.0</td>\n",
       "      <td>8.0</td>\n",
       "      <td>4.0</td>\n",
       "      <td>0.22</td>\n",
       "      <td>0.0</td>\n",
       "      <td>0</td>\n",
       "    </tr>\n",
       "    <tr>\n",
       "      <th>7477</th>\n",
       "      <td>female</td>\n",
       "      <td>NaN</td>\n",
       "      <td>26.0</td>\n",
       "      <td>European/Caucasian-American</td>\n",
       "      <td>Asian/PacificIslander/Asian-American</td>\n",
       "      <td>1.0</td>\n",
       "      <td>1.0</td>\n",
       "      <td>25.0</td>\n",
       "      <td>20.0</td>\n",
       "      <td>20.0</td>\n",
       "      <td>...</td>\n",
       "      <td>15.0</td>\n",
       "      <td>5.0</td>\n",
       "      <td>8.0</td>\n",
       "      <td>8.0</td>\n",
       "      <td>5.0</td>\n",
       "      <td>8.0</td>\n",
       "      <td>4.0</td>\n",
       "      <td>-0.24</td>\n",
       "      <td>0.0</td>\n",
       "      <td>0</td>\n",
       "    </tr>\n",
       "    <tr>\n",
       "      <th>7479</th>\n",
       "      <td>female</td>\n",
       "      <td>NaN</td>\n",
       "      <td>24.0</td>\n",
       "      <td>European/Caucasian-American</td>\n",
       "      <td>Other</td>\n",
       "      <td>1.0</td>\n",
       "      <td>1.0</td>\n",
       "      <td>30.0</td>\n",
       "      <td>30.0</td>\n",
       "      <td>30.0</td>\n",
       "      <td>...</td>\n",
       "      <td>15.0</td>\n",
       "      <td>6.0</td>\n",
       "      <td>7.0</td>\n",
       "      <td>8.0</td>\n",
       "      <td>5.0</td>\n",
       "      <td>8.0</td>\n",
       "      <td>4.0</td>\n",
       "      <td>0.23</td>\n",
       "      <td>0.0</td>\n",
       "      <td>0</td>\n",
       "    </tr>\n",
       "    <tr>\n",
       "      <th>7480</th>\n",
       "      <td>female</td>\n",
       "      <td>NaN</td>\n",
       "      <td>23.0</td>\n",
       "      <td>European/Caucasian-American</td>\n",
       "      <td>European/Caucasian-American</td>\n",
       "      <td>1.0</td>\n",
       "      <td>1.0</td>\n",
       "      <td>23.0</td>\n",
       "      <td>14.0</td>\n",
       "      <td>19.0</td>\n",
       "      <td>...</td>\n",
       "      <td>15.0</td>\n",
       "      <td>5.0</td>\n",
       "      <td>8.0</td>\n",
       "      <td>9.0</td>\n",
       "      <td>5.0</td>\n",
       "      <td>8.0</td>\n",
       "      <td>4.0</td>\n",
       "      <td>0.46</td>\n",
       "      <td>0.0</td>\n",
       "      <td>0</td>\n",
       "    </tr>\n",
       "    <tr>\n",
       "      <th>7481</th>\n",
       "      <td>female</td>\n",
       "      <td>NaN</td>\n",
       "      <td>29.0</td>\n",
       "      <td>European/Caucasian-American</td>\n",
       "      <td>European/Caucasian-American</td>\n",
       "      <td>1.0</td>\n",
       "      <td>1.0</td>\n",
       "      <td>30.0</td>\n",
       "      <td>20.0</td>\n",
       "      <td>20.0</td>\n",
       "      <td>...</td>\n",
       "      <td>15.0</td>\n",
       "      <td>5.0</td>\n",
       "      <td>7.0</td>\n",
       "      <td>8.0</td>\n",
       "      <td>4.0</td>\n",
       "      <td>8.0</td>\n",
       "      <td>4.0</td>\n",
       "      <td>0.54</td>\n",
       "      <td>0.0</td>\n",
       "      <td>0</td>\n",
       "    </tr>\n",
       "    <tr>\n",
       "      <th>7482</th>\n",
       "      <td>female</td>\n",
       "      <td>NaN</td>\n",
       "      <td>22.0</td>\n",
       "      <td>European/Caucasian-American</td>\n",
       "      <td>Asian/PacificIslander/Asian-American</td>\n",
       "      <td>1.0</td>\n",
       "      <td>1.0</td>\n",
       "      <td>20.0</td>\n",
       "      <td>5.0</td>\n",
       "      <td>25.0</td>\n",
       "      <td>...</td>\n",
       "      <td>15.0</td>\n",
       "      <td>7.0</td>\n",
       "      <td>7.0</td>\n",
       "      <td>8.0</td>\n",
       "      <td>6.0</td>\n",
       "      <td>8.0</td>\n",
       "      <td>6.0</td>\n",
       "      <td>0.54</td>\n",
       "      <td>0.0</td>\n",
       "      <td>0</td>\n",
       "    </tr>\n",
       "    <tr>\n",
       "      <th>7484</th>\n",
       "      <td>female</td>\n",
       "      <td>NaN</td>\n",
       "      <td>22.0</td>\n",
       "      <td>European/Caucasian-American</td>\n",
       "      <td>European/Caucasian-American</td>\n",
       "      <td>1.0</td>\n",
       "      <td>1.0</td>\n",
       "      <td>30.0</td>\n",
       "      <td>10.0</td>\n",
       "      <td>20.0</td>\n",
       "      <td>...</td>\n",
       "      <td>15.0</td>\n",
       "      <td>5.0</td>\n",
       "      <td>8.0</td>\n",
       "      <td>8.0</td>\n",
       "      <td>5.0</td>\n",
       "      <td>8.0</td>\n",
       "      <td>3.0</td>\n",
       "      <td>0.08</td>\n",
       "      <td>0.0</td>\n",
       "      <td>0</td>\n",
       "    </tr>\n",
       "    <tr>\n",
       "      <th>7486</th>\n",
       "      <td>female</td>\n",
       "      <td>NaN</td>\n",
       "      <td>23.0</td>\n",
       "      <td>European/Caucasian-American</td>\n",
       "      <td>Asian/PacificIslander/Asian-American</td>\n",
       "      <td>1.0</td>\n",
       "      <td>1.0</td>\n",
       "      <td>40.0</td>\n",
       "      <td>30.0</td>\n",
       "      <td>0.0</td>\n",
       "      <td>...</td>\n",
       "      <td>15.0</td>\n",
       "      <td>5.0</td>\n",
       "      <td>9.0</td>\n",
       "      <td>9.0</td>\n",
       "      <td>3.0</td>\n",
       "      <td>9.0</td>\n",
       "      <td>4.0</td>\n",
       "      <td>-0.19</td>\n",
       "      <td>0.0</td>\n",
       "      <td>0</td>\n",
       "    </tr>\n",
       "    <tr>\n",
       "      <th>7487</th>\n",
       "      <td>female</td>\n",
       "      <td>NaN</td>\n",
       "      <td>23.0</td>\n",
       "      <td>European/Caucasian-American</td>\n",
       "      <td>Asian/PacificIslander/Asian-American</td>\n",
       "      <td>1.0</td>\n",
       "      <td>1.0</td>\n",
       "      <td>25.0</td>\n",
       "      <td>15.0</td>\n",
       "      <td>20.0</td>\n",
       "      <td>...</td>\n",
       "      <td>15.0</td>\n",
       "      <td>5.0</td>\n",
       "      <td>9.0</td>\n",
       "      <td>9.0</td>\n",
       "      <td>4.0</td>\n",
       "      <td>9.0</td>\n",
       "      <td>3.0</td>\n",
       "      <td>0.30</td>\n",
       "      <td>0.0</td>\n",
       "      <td>0</td>\n",
       "    </tr>\n",
       "    <tr>\n",
       "      <th>7488</th>\n",
       "      <td>female</td>\n",
       "      <td>NaN</td>\n",
       "      <td>24.0</td>\n",
       "      <td>European/Caucasian-American</td>\n",
       "      <td>Asian/PacificIslander/Asian-American</td>\n",
       "      <td>1.0</td>\n",
       "      <td>1.0</td>\n",
       "      <td>20.0</td>\n",
       "      <td>16.0</td>\n",
       "      <td>16.0</td>\n",
       "      <td>...</td>\n",
       "      <td>15.0</td>\n",
       "      <td>5.0</td>\n",
       "      <td>8.0</td>\n",
       "      <td>9.0</td>\n",
       "      <td>4.0</td>\n",
       "      <td>9.0</td>\n",
       "      <td>3.0</td>\n",
       "      <td>-0.18</td>\n",
       "      <td>0.0</td>\n",
       "      <td>0</td>\n",
       "    </tr>\n",
       "    <tr>\n",
       "      <th>7489</th>\n",
       "      <td>female</td>\n",
       "      <td>NaN</td>\n",
       "      <td>23.0</td>\n",
       "      <td>European/Caucasian-American</td>\n",
       "      <td>Asian/PacificIslander/Asian-American</td>\n",
       "      <td>1.0</td>\n",
       "      <td>1.0</td>\n",
       "      <td>15.0</td>\n",
       "      <td>25.0</td>\n",
       "      <td>20.0</td>\n",
       "      <td>...</td>\n",
       "      <td>15.0</td>\n",
       "      <td>5.0</td>\n",
       "      <td>9.0</td>\n",
       "      <td>9.0</td>\n",
       "      <td>4.0</td>\n",
       "      <td>9.0</td>\n",
       "      <td>3.0</td>\n",
       "      <td>0.09</td>\n",
       "      <td>0.0</td>\n",
       "      <td>0</td>\n",
       "    </tr>\n",
       "    <tr>\n",
       "      <th>7490</th>\n",
       "      <td>female</td>\n",
       "      <td>NaN</td>\n",
       "      <td>24.0</td>\n",
       "      <td>European/Caucasian-American</td>\n",
       "      <td>European/Caucasian-American</td>\n",
       "      <td>1.0</td>\n",
       "      <td>1.0</td>\n",
       "      <td>20.0</td>\n",
       "      <td>20.0</td>\n",
       "      <td>20.0</td>\n",
       "      <td>...</td>\n",
       "      <td>15.0</td>\n",
       "      <td>7.0</td>\n",
       "      <td>8.0</td>\n",
       "      <td>8.0</td>\n",
       "      <td>8.0</td>\n",
       "      <td>7.0</td>\n",
       "      <td>6.0</td>\n",
       "      <td>0.02</td>\n",
       "      <td>0.0</td>\n",
       "      <td>0</td>\n",
       "    </tr>\n",
       "    <tr>\n",
       "      <th>7491</th>\n",
       "      <td>female</td>\n",
       "      <td>NaN</td>\n",
       "      <td>30.0</td>\n",
       "      <td>European/Caucasian-American</td>\n",
       "      <td>European/Caucasian-American</td>\n",
       "      <td>1.0</td>\n",
       "      <td>1.0</td>\n",
       "      <td>35.0</td>\n",
       "      <td>10.0</td>\n",
       "      <td>20.0</td>\n",
       "      <td>...</td>\n",
       "      <td>15.0</td>\n",
       "      <td>7.0</td>\n",
       "      <td>8.0</td>\n",
       "      <td>8.0</td>\n",
       "      <td>8.0</td>\n",
       "      <td>7.0</td>\n",
       "      <td>6.0</td>\n",
       "      <td>-0.20</td>\n",
       "      <td>0.0</td>\n",
       "      <td>0</td>\n",
       "    </tr>\n",
       "    <tr>\n",
       "      <th>7492</th>\n",
       "      <td>female</td>\n",
       "      <td>NaN</td>\n",
       "      <td>30.0</td>\n",
       "      <td>European/Caucasian-American</td>\n",
       "      <td>European/Caucasian-American</td>\n",
       "      <td>1.0</td>\n",
       "      <td>1.0</td>\n",
       "      <td>25.0</td>\n",
       "      <td>20.0</td>\n",
       "      <td>20.0</td>\n",
       "      <td>...</td>\n",
       "      <td>15.0</td>\n",
       "      <td>8.0</td>\n",
       "      <td>7.0</td>\n",
       "      <td>9.0</td>\n",
       "      <td>8.0</td>\n",
       "      <td>8.0</td>\n",
       "      <td>7.0</td>\n",
       "      <td>0.32</td>\n",
       "      <td>0.0</td>\n",
       "      <td>1</td>\n",
       "    </tr>\n",
       "    <tr>\n",
       "      <th>7494</th>\n",
       "      <td>female</td>\n",
       "      <td>NaN</td>\n",
       "      <td>28.0</td>\n",
       "      <td>European/Caucasian-American</td>\n",
       "      <td>European/Caucasian-American</td>\n",
       "      <td>1.0</td>\n",
       "      <td>1.0</td>\n",
       "      <td>20.0</td>\n",
       "      <td>20.0</td>\n",
       "      <td>20.0</td>\n",
       "      <td>...</td>\n",
       "      <td>15.0</td>\n",
       "      <td>7.0</td>\n",
       "      <td>9.0</td>\n",
       "      <td>9.0</td>\n",
       "      <td>6.0</td>\n",
       "      <td>8.0</td>\n",
       "      <td>7.0</td>\n",
       "      <td>0.26</td>\n",
       "      <td>0.0</td>\n",
       "      <td>0</td>\n",
       "    </tr>\n",
       "    <tr>\n",
       "      <th>7495</th>\n",
       "      <td>female</td>\n",
       "      <td>NaN</td>\n",
       "      <td>30.0</td>\n",
       "      <td>European/Caucasian-American</td>\n",
       "      <td>European/Caucasian-American</td>\n",
       "      <td>1.0</td>\n",
       "      <td>1.0</td>\n",
       "      <td>30.0</td>\n",
       "      <td>3.0</td>\n",
       "      <td>30.0</td>\n",
       "      <td>...</td>\n",
       "      <td>15.0</td>\n",
       "      <td>6.0</td>\n",
       "      <td>8.0</td>\n",
       "      <td>9.0</td>\n",
       "      <td>6.0</td>\n",
       "      <td>8.0</td>\n",
       "      <td>6.0</td>\n",
       "      <td>0.63</td>\n",
       "      <td>0.0</td>\n",
       "      <td>0</td>\n",
       "    </tr>\n",
       "  </tbody>\n",
       "</table>\n",
       "<p>16 rows × 34 columns</p>\n",
       "</div>"
      ],
      "text/plain": [
       "      gender  age  age_o                         race  \\\n",
       "7476  female  NaN   25.0  European/Caucasian-American   \n",
       "7477  female  NaN   26.0  European/Caucasian-American   \n",
       "7479  female  NaN   24.0  European/Caucasian-American   \n",
       "7480  female  NaN   23.0  European/Caucasian-American   \n",
       "7481  female  NaN   29.0  European/Caucasian-American   \n",
       "7482  female  NaN   22.0  European/Caucasian-American   \n",
       "7484  female  NaN   22.0  European/Caucasian-American   \n",
       "7486  female  NaN   23.0  European/Caucasian-American   \n",
       "7487  female  NaN   23.0  European/Caucasian-American   \n",
       "7488  female  NaN   24.0  European/Caucasian-American   \n",
       "7489  female  NaN   23.0  European/Caucasian-American   \n",
       "7490  female  NaN   24.0  European/Caucasian-American   \n",
       "7491  female  NaN   30.0  European/Caucasian-American   \n",
       "7492  female  NaN   30.0  European/Caucasian-American   \n",
       "7494  female  NaN   28.0  European/Caucasian-American   \n",
       "7495  female  NaN   30.0  European/Caucasian-American   \n",
       "\n",
       "                                    race_o  importance_same_race  \\\n",
       "7476  Asian/PacificIslander/Asian-American                   1.0   \n",
       "7477  Asian/PacificIslander/Asian-American                   1.0   \n",
       "7479                                 Other                   1.0   \n",
       "7480           European/Caucasian-American                   1.0   \n",
       "7481           European/Caucasian-American                   1.0   \n",
       "7482  Asian/PacificIslander/Asian-American                   1.0   \n",
       "7484           European/Caucasian-American                   1.0   \n",
       "7486  Asian/PacificIslander/Asian-American                   1.0   \n",
       "7487  Asian/PacificIslander/Asian-American                   1.0   \n",
       "7488  Asian/PacificIslander/Asian-American                   1.0   \n",
       "7489  Asian/PacificIslander/Asian-American                   1.0   \n",
       "7490           European/Caucasian-American                   1.0   \n",
       "7491           European/Caucasian-American                   1.0   \n",
       "7492           European/Caucasian-American                   1.0   \n",
       "7494           European/Caucasian-American                   1.0   \n",
       "7495           European/Caucasian-American                   1.0   \n",
       "\n",
       "      importance_same_religion  pref_o_attractive  pref_o_sincere  \\\n",
       "7476                       1.0               15.0            30.0   \n",
       "7477                       1.0               25.0            20.0   \n",
       "7479                       1.0               30.0            30.0   \n",
       "7480                       1.0               23.0            14.0   \n",
       "7481                       1.0               30.0            20.0   \n",
       "7482                       1.0               20.0             5.0   \n",
       "7484                       1.0               30.0            10.0   \n",
       "7486                       1.0               40.0            30.0   \n",
       "7487                       1.0               25.0            15.0   \n",
       "7488                       1.0               20.0            16.0   \n",
       "7489                       1.0               15.0            25.0   \n",
       "7490                       1.0               20.0            20.0   \n",
       "7491                       1.0               35.0            10.0   \n",
       "7492                       1.0               25.0            20.0   \n",
       "7494                       1.0               20.0            20.0   \n",
       "7495                       1.0               30.0             3.0   \n",
       "\n",
       "      pref_o_intelligence  ...  shared_interests_important  \\\n",
       "7476                 20.0  ...                        15.0   \n",
       "7477                 20.0  ...                        15.0   \n",
       "7479                 30.0  ...                        15.0   \n",
       "7480                 19.0  ...                        15.0   \n",
       "7481                 20.0  ...                        15.0   \n",
       "7482                 25.0  ...                        15.0   \n",
       "7484                 20.0  ...                        15.0   \n",
       "7486                  0.0  ...                        15.0   \n",
       "7487                 20.0  ...                        15.0   \n",
       "7488                 16.0  ...                        15.0   \n",
       "7489                 20.0  ...                        15.0   \n",
       "7490                 20.0  ...                        15.0   \n",
       "7491                 20.0  ...                        15.0   \n",
       "7492                 20.0  ...                        15.0   \n",
       "7494                 20.0  ...                        15.0   \n",
       "7495                 30.0  ...                        15.0   \n",
       "\n",
       "      attractive_partner  sincere_partner  intelligence_partner  \\\n",
       "7476                 5.0              8.0                   8.0   \n",
       "7477                 5.0              8.0                   8.0   \n",
       "7479                 6.0              7.0                   8.0   \n",
       "7480                 5.0              8.0                   9.0   \n",
       "7481                 5.0              7.0                   8.0   \n",
       "7482                 7.0              7.0                   8.0   \n",
       "7484                 5.0              8.0                   8.0   \n",
       "7486                 5.0              9.0                   9.0   \n",
       "7487                 5.0              9.0                   9.0   \n",
       "7488                 5.0              8.0                   9.0   \n",
       "7489                 5.0              9.0                   9.0   \n",
       "7490                 7.0              8.0                   8.0   \n",
       "7491                 7.0              8.0                   8.0   \n",
       "7492                 8.0              7.0                   9.0   \n",
       "7494                 7.0              9.0                   9.0   \n",
       "7495                 6.0              8.0                   9.0   \n",
       "\n",
       "      funny_partner  ambition_partner  shared_interests_partner  \\\n",
       "7476            5.0               8.0                       4.0   \n",
       "7477            5.0               8.0                       4.0   \n",
       "7479            5.0               8.0                       4.0   \n",
       "7480            5.0               8.0                       4.0   \n",
       "7481            4.0               8.0                       4.0   \n",
       "7482            6.0               8.0                       6.0   \n",
       "7484            5.0               8.0                       3.0   \n",
       "7486            3.0               9.0                       4.0   \n",
       "7487            4.0               9.0                       3.0   \n",
       "7488            4.0               9.0                       3.0   \n",
       "7489            4.0               9.0                       3.0   \n",
       "7490            8.0               7.0                       6.0   \n",
       "7491            8.0               7.0                       6.0   \n",
       "7492            8.0               8.0                       7.0   \n",
       "7494            6.0               8.0                       7.0   \n",
       "7495            6.0               8.0                       6.0   \n",
       "\n",
       "      interests_correlate  met  match  \n",
       "7476                 0.22  0.0      0  \n",
       "7477                -0.24  0.0      0  \n",
       "7479                 0.23  0.0      0  \n",
       "7480                 0.46  0.0      0  \n",
       "7481                 0.54  0.0      0  \n",
       "7482                 0.54  0.0      0  \n",
       "7484                 0.08  0.0      0  \n",
       "7486                -0.19  0.0      0  \n",
       "7487                 0.30  0.0      0  \n",
       "7488                -0.18  0.0      0  \n",
       "7489                 0.09  0.0      0  \n",
       "7490                 0.02  0.0      0  \n",
       "7491                -0.20  0.0      0  \n",
       "7492                 0.32  0.0      1  \n",
       "7494                 0.26  0.0      0  \n",
       "7495                 0.63  0.0      0  \n",
       "\n",
       "[16 rows x 34 columns]"
      ]
     },
     "execution_count": 111,
     "metadata": {},
     "output_type": "execute_result"
    }
   ],
   "source": [
    "data[data.age.isna()]"
   ]
  },
  {
   "cell_type": "code",
   "execution_count": 112,
   "id": "b97f1bed",
   "metadata": {
    "ExecuteTime": {
     "end_time": "2023-10-31T00:10:42.836472Z",
     "start_time": "2023-10-31T00:10:42.791313Z"
    }
   },
   "outputs": [
    {
     "data": {
      "text/html": [
       "<div>\n",
       "<style scoped>\n",
       "    .dataframe tbody tr th:only-of-type {\n",
       "        vertical-align: middle;\n",
       "    }\n",
       "\n",
       "    .dataframe tbody tr th {\n",
       "        vertical-align: top;\n",
       "    }\n",
       "\n",
       "    .dataframe thead th {\n",
       "        text-align: right;\n",
       "    }\n",
       "</style>\n",
       "<table border=\"1\" class=\"dataframe\">\n",
       "  <thead>\n",
       "    <tr style=\"text-align: right;\">\n",
       "      <th></th>\n",
       "      <th>gender</th>\n",
       "      <th>age</th>\n",
       "      <th>age_o</th>\n",
       "      <th>race</th>\n",
       "      <th>race_o</th>\n",
       "      <th>importance_same_race</th>\n",
       "      <th>importance_same_religion</th>\n",
       "      <th>pref_o_attractive</th>\n",
       "      <th>pref_o_sincere</th>\n",
       "      <th>pref_o_intelligence</th>\n",
       "      <th>...</th>\n",
       "      <th>shared_interests_important</th>\n",
       "      <th>attractive_partner</th>\n",
       "      <th>sincere_partner</th>\n",
       "      <th>intelligence_partner</th>\n",
       "      <th>funny_partner</th>\n",
       "      <th>ambition_partner</th>\n",
       "      <th>shared_interests_partner</th>\n",
       "      <th>interests_correlate</th>\n",
       "      <th>met</th>\n",
       "      <th>match</th>\n",
       "    </tr>\n",
       "  </thead>\n",
       "  <tbody>\n",
       "    <tr>\n",
       "      <th>7897</th>\n",
       "      <td>male</td>\n",
       "      <td>25.0</td>\n",
       "      <td>NaN</td>\n",
       "      <td>Asian/PacificIslander/Asian-American</td>\n",
       "      <td>European/Caucasian-American</td>\n",
       "      <td>5.0</td>\n",
       "      <td>1.0</td>\n",
       "      <td>20.0</td>\n",
       "      <td>20.0</td>\n",
       "      <td>20.0</td>\n",
       "      <td>...</td>\n",
       "      <td>5.0</td>\n",
       "      <td>10.0</td>\n",
       "      <td>8.0</td>\n",
       "      <td>5.0</td>\n",
       "      <td>3.0</td>\n",
       "      <td>10.0</td>\n",
       "      <td>1.0</td>\n",
       "      <td>0.22</td>\n",
       "      <td>0.0</td>\n",
       "      <td>0</td>\n",
       "    </tr>\n",
       "    <tr>\n",
       "      <th>7919</th>\n",
       "      <td>male</td>\n",
       "      <td>26.0</td>\n",
       "      <td>NaN</td>\n",
       "      <td>Asian/PacificIslander/Asian-American</td>\n",
       "      <td>European/Caucasian-American</td>\n",
       "      <td>8.0</td>\n",
       "      <td>3.0</td>\n",
       "      <td>20.0</td>\n",
       "      <td>20.0</td>\n",
       "      <td>20.0</td>\n",
       "      <td>...</td>\n",
       "      <td>10.0</td>\n",
       "      <td>7.0</td>\n",
       "      <td>7.0</td>\n",
       "      <td>7.0</td>\n",
       "      <td>6.0</td>\n",
       "      <td>5.0</td>\n",
       "      <td>4.0</td>\n",
       "      <td>-0.24</td>\n",
       "      <td>0.0</td>\n",
       "      <td>0</td>\n",
       "    </tr>\n",
       "    <tr>\n",
       "      <th>7963</th>\n",
       "      <td>male</td>\n",
       "      <td>24.0</td>\n",
       "      <td>NaN</td>\n",
       "      <td>Other</td>\n",
       "      <td>European/Caucasian-American</td>\n",
       "      <td>1.0</td>\n",
       "      <td>1.0</td>\n",
       "      <td>20.0</td>\n",
       "      <td>20.0</td>\n",
       "      <td>20.0</td>\n",
       "      <td>...</td>\n",
       "      <td>3.0</td>\n",
       "      <td>7.0</td>\n",
       "      <td>7.0</td>\n",
       "      <td>6.0</td>\n",
       "      <td>7.0</td>\n",
       "      <td>8.0</td>\n",
       "      <td>7.0</td>\n",
       "      <td>0.23</td>\n",
       "      <td>0.0</td>\n",
       "      <td>0</td>\n",
       "    </tr>\n",
       "    <tr>\n",
       "      <th>7985</th>\n",
       "      <td>male</td>\n",
       "      <td>23.0</td>\n",
       "      <td>NaN</td>\n",
       "      <td>European/Caucasian-American</td>\n",
       "      <td>European/Caucasian-American</td>\n",
       "      <td>5.0</td>\n",
       "      <td>6.0</td>\n",
       "      <td>20.0</td>\n",
       "      <td>20.0</td>\n",
       "      <td>20.0</td>\n",
       "      <td>...</td>\n",
       "      <td>18.0</td>\n",
       "      <td>8.0</td>\n",
       "      <td>8.0</td>\n",
       "      <td>8.0</td>\n",
       "      <td>7.0</td>\n",
       "      <td>8.0</td>\n",
       "      <td>6.0</td>\n",
       "      <td>0.46</td>\n",
       "      <td>0.0</td>\n",
       "      <td>0</td>\n",
       "    </tr>\n",
       "    <tr>\n",
       "      <th>8007</th>\n",
       "      <td>male</td>\n",
       "      <td>29.0</td>\n",
       "      <td>NaN</td>\n",
       "      <td>European/Caucasian-American</td>\n",
       "      <td>European/Caucasian-American</td>\n",
       "      <td>1.0</td>\n",
       "      <td>1.0</td>\n",
       "      <td>20.0</td>\n",
       "      <td>20.0</td>\n",
       "      <td>20.0</td>\n",
       "      <td>...</td>\n",
       "      <td>0.0</td>\n",
       "      <td>9.0</td>\n",
       "      <td>5.0</td>\n",
       "      <td>7.0</td>\n",
       "      <td>4.0</td>\n",
       "      <td>6.0</td>\n",
       "      <td>3.0</td>\n",
       "      <td>0.54</td>\n",
       "      <td>0.0</td>\n",
       "      <td>0</td>\n",
       "    </tr>\n",
       "    <tr>\n",
       "      <th>8029</th>\n",
       "      <td>male</td>\n",
       "      <td>22.0</td>\n",
       "      <td>NaN</td>\n",
       "      <td>Asian/PacificIslander/Asian-American</td>\n",
       "      <td>European/Caucasian-American</td>\n",
       "      <td>7.0</td>\n",
       "      <td>1.0</td>\n",
       "      <td>20.0</td>\n",
       "      <td>20.0</td>\n",
       "      <td>20.0</td>\n",
       "      <td>...</td>\n",
       "      <td>20.0</td>\n",
       "      <td>9.0</td>\n",
       "      <td>8.0</td>\n",
       "      <td>9.0</td>\n",
       "      <td>8.0</td>\n",
       "      <td>8.0</td>\n",
       "      <td>7.0</td>\n",
       "      <td>0.54</td>\n",
       "      <td>0.0</td>\n",
       "      <td>0</td>\n",
       "    </tr>\n",
       "    <tr>\n",
       "      <th>8073</th>\n",
       "      <td>male</td>\n",
       "      <td>22.0</td>\n",
       "      <td>NaN</td>\n",
       "      <td>European/Caucasian-American</td>\n",
       "      <td>European/Caucasian-American</td>\n",
       "      <td>6.0</td>\n",
       "      <td>6.0</td>\n",
       "      <td>20.0</td>\n",
       "      <td>20.0</td>\n",
       "      <td>20.0</td>\n",
       "      <td>...</td>\n",
       "      <td>10.0</td>\n",
       "      <td>8.0</td>\n",
       "      <td>6.0</td>\n",
       "      <td>7.0</td>\n",
       "      <td>7.0</td>\n",
       "      <td>6.0</td>\n",
       "      <td>7.0</td>\n",
       "      <td>0.08</td>\n",
       "      <td>0.0</td>\n",
       "      <td>0</td>\n",
       "    </tr>\n",
       "    <tr>\n",
       "      <th>8117</th>\n",
       "      <td>male</td>\n",
       "      <td>23.0</td>\n",
       "      <td>NaN</td>\n",
       "      <td>Asian/PacificIslander/Asian-American</td>\n",
       "      <td>European/Caucasian-American</td>\n",
       "      <td>2.0</td>\n",
       "      <td>2.0</td>\n",
       "      <td>20.0</td>\n",
       "      <td>20.0</td>\n",
       "      <td>20.0</td>\n",
       "      <td>...</td>\n",
       "      <td>10.0</td>\n",
       "      <td>10.0</td>\n",
       "      <td>10.0</td>\n",
       "      <td>5.0</td>\n",
       "      <td>7.0</td>\n",
       "      <td>6.0</td>\n",
       "      <td>5.0</td>\n",
       "      <td>-0.19</td>\n",
       "      <td>0.0</td>\n",
       "      <td>0</td>\n",
       "    </tr>\n",
       "    <tr>\n",
       "      <th>8139</th>\n",
       "      <td>male</td>\n",
       "      <td>23.0</td>\n",
       "      <td>NaN</td>\n",
       "      <td>Asian/PacificIslander/Asian-American</td>\n",
       "      <td>European/Caucasian-American</td>\n",
       "      <td>7.0</td>\n",
       "      <td>1.0</td>\n",
       "      <td>20.0</td>\n",
       "      <td>20.0</td>\n",
       "      <td>20.0</td>\n",
       "      <td>...</td>\n",
       "      <td>10.0</td>\n",
       "      <td>10.0</td>\n",
       "      <td>7.0</td>\n",
       "      <td>6.0</td>\n",
       "      <td>7.0</td>\n",
       "      <td>6.0</td>\n",
       "      <td>2.0</td>\n",
       "      <td>0.30</td>\n",
       "      <td>0.0</td>\n",
       "      <td>0</td>\n",
       "    </tr>\n",
       "    <tr>\n",
       "      <th>8161</th>\n",
       "      <td>male</td>\n",
       "      <td>24.0</td>\n",
       "      <td>NaN</td>\n",
       "      <td>Asian/PacificIslander/Asian-American</td>\n",
       "      <td>European/Caucasian-American</td>\n",
       "      <td>9.0</td>\n",
       "      <td>6.0</td>\n",
       "      <td>20.0</td>\n",
       "      <td>20.0</td>\n",
       "      <td>20.0</td>\n",
       "      <td>...</td>\n",
       "      <td>15.0</td>\n",
       "      <td>8.0</td>\n",
       "      <td>8.0</td>\n",
       "      <td>8.0</td>\n",
       "      <td>5.0</td>\n",
       "      <td>8.0</td>\n",
       "      <td>3.0</td>\n",
       "      <td>-0.18</td>\n",
       "      <td>0.0</td>\n",
       "      <td>0</td>\n",
       "    </tr>\n",
       "    <tr>\n",
       "      <th>8183</th>\n",
       "      <td>male</td>\n",
       "      <td>23.0</td>\n",
       "      <td>NaN</td>\n",
       "      <td>Asian/PacificIslander/Asian-American</td>\n",
       "      <td>European/Caucasian-American</td>\n",
       "      <td>3.0</td>\n",
       "      <td>8.0</td>\n",
       "      <td>20.0</td>\n",
       "      <td>20.0</td>\n",
       "      <td>20.0</td>\n",
       "      <td>...</td>\n",
       "      <td>20.0</td>\n",
       "      <td>5.0</td>\n",
       "      <td>5.0</td>\n",
       "      <td>5.0</td>\n",
       "      <td>5.0</td>\n",
       "      <td>5.0</td>\n",
       "      <td>5.0</td>\n",
       "      <td>0.09</td>\n",
       "      <td>0.0</td>\n",
       "      <td>0</td>\n",
       "    </tr>\n",
       "    <tr>\n",
       "      <th>8205</th>\n",
       "      <td>male</td>\n",
       "      <td>24.0</td>\n",
       "      <td>NaN</td>\n",
       "      <td>European/Caucasian-American</td>\n",
       "      <td>European/Caucasian-American</td>\n",
       "      <td>7.0</td>\n",
       "      <td>1.0</td>\n",
       "      <td>20.0</td>\n",
       "      <td>20.0</td>\n",
       "      <td>20.0</td>\n",
       "      <td>...</td>\n",
       "      <td>10.0</td>\n",
       "      <td>6.0</td>\n",
       "      <td>5.0</td>\n",
       "      <td>6.0</td>\n",
       "      <td>8.0</td>\n",
       "      <td>5.0</td>\n",
       "      <td>1.0</td>\n",
       "      <td>0.02</td>\n",
       "      <td>0.0</td>\n",
       "      <td>0</td>\n",
       "    </tr>\n",
       "    <tr>\n",
       "      <th>8227</th>\n",
       "      <td>male</td>\n",
       "      <td>30.0</td>\n",
       "      <td>NaN</td>\n",
       "      <td>European/Caucasian-American</td>\n",
       "      <td>European/Caucasian-American</td>\n",
       "      <td>3.0</td>\n",
       "      <td>4.0</td>\n",
       "      <td>20.0</td>\n",
       "      <td>20.0</td>\n",
       "      <td>20.0</td>\n",
       "      <td>...</td>\n",
       "      <td>5.0</td>\n",
       "      <td>7.0</td>\n",
       "      <td>6.0</td>\n",
       "      <td>5.0</td>\n",
       "      <td>7.0</td>\n",
       "      <td>7.0</td>\n",
       "      <td>4.0</td>\n",
       "      <td>-0.20</td>\n",
       "      <td>0.0</td>\n",
       "      <td>0</td>\n",
       "    </tr>\n",
       "    <tr>\n",
       "      <th>8249</th>\n",
       "      <td>male</td>\n",
       "      <td>30.0</td>\n",
       "      <td>NaN</td>\n",
       "      <td>European/Caucasian-American</td>\n",
       "      <td>European/Caucasian-American</td>\n",
       "      <td>1.0</td>\n",
       "      <td>1.0</td>\n",
       "      <td>20.0</td>\n",
       "      <td>20.0</td>\n",
       "      <td>20.0</td>\n",
       "      <td>...</td>\n",
       "      <td>15.0</td>\n",
       "      <td>8.0</td>\n",
       "      <td>8.0</td>\n",
       "      <td>7.0</td>\n",
       "      <td>9.0</td>\n",
       "      <td>6.0</td>\n",
       "      <td>6.0</td>\n",
       "      <td>0.32</td>\n",
       "      <td>0.0</td>\n",
       "      <td>1</td>\n",
       "    </tr>\n",
       "    <tr>\n",
       "      <th>8293</th>\n",
       "      <td>male</td>\n",
       "      <td>28.0</td>\n",
       "      <td>NaN</td>\n",
       "      <td>European/Caucasian-American</td>\n",
       "      <td>European/Caucasian-American</td>\n",
       "      <td>2.0</td>\n",
       "      <td>3.0</td>\n",
       "      <td>20.0</td>\n",
       "      <td>20.0</td>\n",
       "      <td>20.0</td>\n",
       "      <td>...</td>\n",
       "      <td>20.0</td>\n",
       "      <td>8.0</td>\n",
       "      <td>8.0</td>\n",
       "      <td>6.0</td>\n",
       "      <td>7.0</td>\n",
       "      <td>7.0</td>\n",
       "      <td>6.0</td>\n",
       "      <td>0.26</td>\n",
       "      <td>0.0</td>\n",
       "      <td>0</td>\n",
       "    </tr>\n",
       "    <tr>\n",
       "      <th>8315</th>\n",
       "      <td>male</td>\n",
       "      <td>30.0</td>\n",
       "      <td>NaN</td>\n",
       "      <td>European/Caucasian-American</td>\n",
       "      <td>European/Caucasian-American</td>\n",
       "      <td>5.0</td>\n",
       "      <td>6.0</td>\n",
       "      <td>20.0</td>\n",
       "      <td>20.0</td>\n",
       "      <td>20.0</td>\n",
       "      <td>...</td>\n",
       "      <td>4.0</td>\n",
       "      <td>7.0</td>\n",
       "      <td>4.0</td>\n",
       "      <td>4.0</td>\n",
       "      <td>6.0</td>\n",
       "      <td>4.0</td>\n",
       "      <td>3.0</td>\n",
       "      <td>0.63</td>\n",
       "      <td>0.0</td>\n",
       "      <td>0</td>\n",
       "    </tr>\n",
       "  </tbody>\n",
       "</table>\n",
       "<p>16 rows × 34 columns</p>\n",
       "</div>"
      ],
      "text/plain": [
       "     gender   age  age_o                                  race  \\\n",
       "7897   male  25.0    NaN  Asian/PacificIslander/Asian-American   \n",
       "7919   male  26.0    NaN  Asian/PacificIslander/Asian-American   \n",
       "7963   male  24.0    NaN                                 Other   \n",
       "7985   male  23.0    NaN           European/Caucasian-American   \n",
       "8007   male  29.0    NaN           European/Caucasian-American   \n",
       "8029   male  22.0    NaN  Asian/PacificIslander/Asian-American   \n",
       "8073   male  22.0    NaN           European/Caucasian-American   \n",
       "8117   male  23.0    NaN  Asian/PacificIslander/Asian-American   \n",
       "8139   male  23.0    NaN  Asian/PacificIslander/Asian-American   \n",
       "8161   male  24.0    NaN  Asian/PacificIslander/Asian-American   \n",
       "8183   male  23.0    NaN  Asian/PacificIslander/Asian-American   \n",
       "8205   male  24.0    NaN           European/Caucasian-American   \n",
       "8227   male  30.0    NaN           European/Caucasian-American   \n",
       "8249   male  30.0    NaN           European/Caucasian-American   \n",
       "8293   male  28.0    NaN           European/Caucasian-American   \n",
       "8315   male  30.0    NaN           European/Caucasian-American   \n",
       "\n",
       "                           race_o  importance_same_race  \\\n",
       "7897  European/Caucasian-American                   5.0   \n",
       "7919  European/Caucasian-American                   8.0   \n",
       "7963  European/Caucasian-American                   1.0   \n",
       "7985  European/Caucasian-American                   5.0   \n",
       "8007  European/Caucasian-American                   1.0   \n",
       "8029  European/Caucasian-American                   7.0   \n",
       "8073  European/Caucasian-American                   6.0   \n",
       "8117  European/Caucasian-American                   2.0   \n",
       "8139  European/Caucasian-American                   7.0   \n",
       "8161  European/Caucasian-American                   9.0   \n",
       "8183  European/Caucasian-American                   3.0   \n",
       "8205  European/Caucasian-American                   7.0   \n",
       "8227  European/Caucasian-American                   3.0   \n",
       "8249  European/Caucasian-American                   1.0   \n",
       "8293  European/Caucasian-American                   2.0   \n",
       "8315  European/Caucasian-American                   5.0   \n",
       "\n",
       "      importance_same_religion  pref_o_attractive  pref_o_sincere  \\\n",
       "7897                       1.0               20.0            20.0   \n",
       "7919                       3.0               20.0            20.0   \n",
       "7963                       1.0               20.0            20.0   \n",
       "7985                       6.0               20.0            20.0   \n",
       "8007                       1.0               20.0            20.0   \n",
       "8029                       1.0               20.0            20.0   \n",
       "8073                       6.0               20.0            20.0   \n",
       "8117                       2.0               20.0            20.0   \n",
       "8139                       1.0               20.0            20.0   \n",
       "8161                       6.0               20.0            20.0   \n",
       "8183                       8.0               20.0            20.0   \n",
       "8205                       1.0               20.0            20.0   \n",
       "8227                       4.0               20.0            20.0   \n",
       "8249                       1.0               20.0            20.0   \n",
       "8293                       3.0               20.0            20.0   \n",
       "8315                       6.0               20.0            20.0   \n",
       "\n",
       "      pref_o_intelligence  ...  shared_interests_important  \\\n",
       "7897                 20.0  ...                         5.0   \n",
       "7919                 20.0  ...                        10.0   \n",
       "7963                 20.0  ...                         3.0   \n",
       "7985                 20.0  ...                        18.0   \n",
       "8007                 20.0  ...                         0.0   \n",
       "8029                 20.0  ...                        20.0   \n",
       "8073                 20.0  ...                        10.0   \n",
       "8117                 20.0  ...                        10.0   \n",
       "8139                 20.0  ...                        10.0   \n",
       "8161                 20.0  ...                        15.0   \n",
       "8183                 20.0  ...                        20.0   \n",
       "8205                 20.0  ...                        10.0   \n",
       "8227                 20.0  ...                         5.0   \n",
       "8249                 20.0  ...                        15.0   \n",
       "8293                 20.0  ...                        20.0   \n",
       "8315                 20.0  ...                         4.0   \n",
       "\n",
       "      attractive_partner  sincere_partner  intelligence_partner  \\\n",
       "7897                10.0              8.0                   5.0   \n",
       "7919                 7.0              7.0                   7.0   \n",
       "7963                 7.0              7.0                   6.0   \n",
       "7985                 8.0              8.0                   8.0   \n",
       "8007                 9.0              5.0                   7.0   \n",
       "8029                 9.0              8.0                   9.0   \n",
       "8073                 8.0              6.0                   7.0   \n",
       "8117                10.0             10.0                   5.0   \n",
       "8139                10.0              7.0                   6.0   \n",
       "8161                 8.0              8.0                   8.0   \n",
       "8183                 5.0              5.0                   5.0   \n",
       "8205                 6.0              5.0                   6.0   \n",
       "8227                 7.0              6.0                   5.0   \n",
       "8249                 8.0              8.0                   7.0   \n",
       "8293                 8.0              8.0                   6.0   \n",
       "8315                 7.0              4.0                   4.0   \n",
       "\n",
       "      funny_partner  ambition_partner  shared_interests_partner  \\\n",
       "7897            3.0              10.0                       1.0   \n",
       "7919            6.0               5.0                       4.0   \n",
       "7963            7.0               8.0                       7.0   \n",
       "7985            7.0               8.0                       6.0   \n",
       "8007            4.0               6.0                       3.0   \n",
       "8029            8.0               8.0                       7.0   \n",
       "8073            7.0               6.0                       7.0   \n",
       "8117            7.0               6.0                       5.0   \n",
       "8139            7.0               6.0                       2.0   \n",
       "8161            5.0               8.0                       3.0   \n",
       "8183            5.0               5.0                       5.0   \n",
       "8205            8.0               5.0                       1.0   \n",
       "8227            7.0               7.0                       4.0   \n",
       "8249            9.0               6.0                       6.0   \n",
       "8293            7.0               7.0                       6.0   \n",
       "8315            6.0               4.0                       3.0   \n",
       "\n",
       "      interests_correlate  met  match  \n",
       "7897                 0.22  0.0      0  \n",
       "7919                -0.24  0.0      0  \n",
       "7963                 0.23  0.0      0  \n",
       "7985                 0.46  0.0      0  \n",
       "8007                 0.54  0.0      0  \n",
       "8029                 0.54  0.0      0  \n",
       "8073                 0.08  0.0      0  \n",
       "8117                -0.19  0.0      0  \n",
       "8139                 0.30  0.0      0  \n",
       "8161                -0.18  0.0      0  \n",
       "8183                 0.09  0.0      0  \n",
       "8205                 0.02  0.0      0  \n",
       "8227                -0.20  0.0      0  \n",
       "8249                 0.32  0.0      1  \n",
       "8293                 0.26  0.0      0  \n",
       "8315                 0.63  0.0      0  \n",
       "\n",
       "[16 rows x 34 columns]"
      ]
     },
     "execution_count": 112,
     "metadata": {},
     "output_type": "execute_result"
    }
   ],
   "source": [
    "data[data.age_o.isna()]"
   ]
  },
  {
   "cell_type": "markdown",
   "id": "12d8571f",
   "metadata": {},
   "source": [
    "- 나이를 기재하지 않은 32개의 NaN값을 보면 , 16명의 여자가 기재하지 않았다는 것을 알 수 있다. 그런데 인종까지 같다. 한명인가??"
   ]
  },
  {
   "cell_type": "markdown",
   "id": "ad13e515",
   "metadata": {},
   "source": [
    "- 16개의 NaN값은 여자의 나이의 평균으로 대체하자. 나이의 분포를 보면 55세만 아니면 중요하지 않을 것 같다."
   ]
  },
  {
   "cell_type": "code",
   "execution_count": 113,
   "id": "c7ac4145",
   "metadata": {
    "ExecuteTime": {
     "end_time": "2023-10-31T00:10:42.851961Z",
     "start_time": "2023-10-31T00:10:42.838474Z"
    }
   },
   "outputs": [],
   "source": [
    "female = data.loc[data['gender'] == 'female' , 'age'].mean()"
   ]
  },
  {
   "cell_type": "code",
   "execution_count": 114,
   "id": "4019b3e8",
   "metadata": {
    "ExecuteTime": {
     "end_time": "2023-10-31T00:10:42.867205Z",
     "start_time": "2023-10-31T00:10:42.853313Z"
    }
   },
   "outputs": [],
   "source": [
    "data.fillna(female , inplace = True)"
   ]
  },
  {
   "cell_type": "markdown",
   "id": "27d0f820",
   "metadata": {},
   "source": [
    "- pref와 19열부터 나오는 important들은 각각 6개의 컬럼이며 , 그 합은 100이다. 가중치를 둘 때 , 퍼센트로 바꾸고 , 실질적인 점수에 가중치를 곱해보자"
   ]
  },
  {
   "cell_type": "code",
   "execution_count": 115,
   "id": "f795dbd8",
   "metadata": {
    "ExecuteTime": {
     "end_time": "2023-10-31T00:10:42.882426Z",
     "start_time": "2023-10-31T00:10:42.868700Z"
    }
   },
   "outputs": [
    {
     "data": {
      "text/plain": [
       "Index(['gender', 'age', 'age_o', 'race', 'race_o', 'importance_same_race',\n",
       "       'importance_same_religion', 'pref_o_attractive', 'pref_o_sincere',\n",
       "       'pref_o_intelligence', 'pref_o_funny', 'pref_o_ambitious',\n",
       "       'pref_o_shared_interests', 'attractive_o', 'sincere_o',\n",
       "       'intelligence_o', 'funny_o', 'ambitous_o', 'shared_interests_o',\n",
       "       'attractive_important', 'sincere_important', 'intellicence_important',\n",
       "       'funny_important', 'ambtition_important', 'shared_interests_important',\n",
       "       'attractive_partner', 'sincere_partner', 'intelligence_partner',\n",
       "       'funny_partner', 'ambition_partner', 'shared_interests_partner',\n",
       "       'interests_correlate', 'met', 'match'],\n",
       "      dtype='object')"
      ]
     },
     "execution_count": 115,
     "metadata": {},
     "output_type": "execute_result"
    }
   ],
   "source": [
    "data.columns"
   ]
  },
  {
   "cell_type": "code",
   "execution_count": 116,
   "id": "47bc4c97",
   "metadata": {
    "ExecuteTime": {
     "end_time": "2023-10-31T00:10:42.897794Z",
     "start_time": "2023-10-31T00:10:42.883704Z"
    }
   },
   "outputs": [],
   "source": [
    "data[['pref_o_attractive', 'pref_o_sincere',\n",
    "       'pref_o_intelligence', 'pref_o_funny', 'pref_o_ambitious',\n",
    "       'pref_o_shared_interests']] = data[['pref_o_attractive', 'pref_o_sincere',\n",
    "       'pref_o_intelligence', 'pref_o_funny', 'pref_o_ambitious',\n",
    "       'pref_o_shared_interests']]/100"
   ]
  },
  {
   "cell_type": "code",
   "execution_count": 117,
   "id": "28b9b5fe",
   "metadata": {
    "ExecuteTime": {
     "end_time": "2023-10-31T00:10:42.913375Z",
     "start_time": "2023-10-31T00:10:42.900719Z"
    }
   },
   "outputs": [],
   "source": [
    "data[['attractive_important', 'sincere_important', 'intellicence_important',\n",
    "'funny_important', 'ambtition_important', 'shared_interests_important']] = data[['attractive_important', 'sincere_important', 'intellicence_important',\n",
    "       'funny_important', 'ambtition_important', 'shared_interests_important']]/100"
   ]
  },
  {
   "cell_type": "code",
   "execution_count": 118,
   "id": "03c9034b",
   "metadata": {
    "ExecuteTime": {
     "end_time": "2023-10-31T00:10:42.944435Z",
     "start_time": "2023-10-31T00:10:42.914071Z"
    }
   },
   "outputs": [],
   "source": [
    "for i , j in enumerate(['attractive_o', 'sincere_o', 'intellicence_o','funny_o', 'ambtition_o', 'shared_interests_o']):\n",
    "    data[j] = data[['pref_o_attractive', 'pref_o_sincere',\n",
    "       'pref_o_intelligence', 'pref_o_funny', 'pref_o_ambitious',\n",
    "       'pref_o_shared_interests']].iloc[:,i] * data[['attractive_o', 'sincere_o',\n",
    "       'intelligence_o', 'funny_o', 'ambitous_o', 'shared_interests_o']].iloc[:,i]"
   ]
  },
  {
   "cell_type": "code",
   "execution_count": 119,
   "id": "ec984e64",
   "metadata": {
    "ExecuteTime": {
     "end_time": "2023-10-31T00:10:42.975526Z",
     "start_time": "2023-10-31T00:10:42.946448Z"
    }
   },
   "outputs": [],
   "source": [
    "for i,j in enumerate(['attractive', 'sincere', 'intellicence','funny', 'ambtition', 'shared_interests']):\n",
    "    data[j] = data[['attractive_important', 'sincere_important', 'intellicence_important',\n",
    "'funny_important', 'ambtition_important', 'shared_interests_important']].iloc[:,i] * data[['attractive_partner', 'sincere_partner', 'intelligence_partner',\n",
    "       'funny_partner', 'ambition_partner', 'shared_interests_partner']].iloc[:,i]"
   ]
  },
  {
   "cell_type": "code",
   "execution_count": 120,
   "id": "0005efec",
   "metadata": {
    "ExecuteTime": {
     "end_time": "2023-10-31T00:10:42.991090Z",
     "start_time": "2023-10-31T00:10:42.977534Z"
    }
   },
   "outputs": [],
   "source": [
    "data.drop(['attractive_important', 'sincere_important', 'intellicence_important',\n",
    "'funny_important', 'ambtition_important', 'shared_interests_important','pref_o_attractive', 'pref_o_sincere',\n",
    "       'pref_o_intelligence', 'pref_o_funny', 'pref_o_ambitious',\n",
    "       'pref_o_shared_interests'] , axis = 1 , inplace = True)"
   ]
  },
  {
   "cell_type": "code",
   "execution_count": 121,
   "id": "41d35161",
   "metadata": {
    "ExecuteTime": {
     "end_time": "2023-10-31T00:10:43.022329Z",
     "start_time": "2023-10-31T00:10:42.995673Z"
    }
   },
   "outputs": [
    {
     "data": {
      "text/html": [
       "<div>\n",
       "<style scoped>\n",
       "    .dataframe tbody tr th:only-of-type {\n",
       "        vertical-align: middle;\n",
       "    }\n",
       "\n",
       "    .dataframe tbody tr th {\n",
       "        vertical-align: top;\n",
       "    }\n",
       "\n",
       "    .dataframe thead th {\n",
       "        text-align: right;\n",
       "    }\n",
       "</style>\n",
       "<table border=\"1\" class=\"dataframe\">\n",
       "  <thead>\n",
       "    <tr style=\"text-align: right;\">\n",
       "      <th></th>\n",
       "      <th>gender</th>\n",
       "      <th>age</th>\n",
       "      <th>age_o</th>\n",
       "      <th>race</th>\n",
       "      <th>race_o</th>\n",
       "      <th>importance_same_race</th>\n",
       "      <th>importance_same_religion</th>\n",
       "      <th>attractive_o</th>\n",
       "      <th>sincere_o</th>\n",
       "      <th>intelligence_o</th>\n",
       "      <th>...</th>\n",
       "      <th>met</th>\n",
       "      <th>match</th>\n",
       "      <th>intellicence_o</th>\n",
       "      <th>ambtition_o</th>\n",
       "      <th>attractive</th>\n",
       "      <th>sincere</th>\n",
       "      <th>intellicence</th>\n",
       "      <th>funny</th>\n",
       "      <th>ambtition</th>\n",
       "      <th>shared_interests</th>\n",
       "    </tr>\n",
       "  </thead>\n",
       "  <tbody>\n",
       "    <tr>\n",
       "      <th>0</th>\n",
       "      <td>female</td>\n",
       "      <td>21.0</td>\n",
       "      <td>27.0</td>\n",
       "      <td>Asian/PacificIslander/Asian-American</td>\n",
       "      <td>European/Caucasian-American</td>\n",
       "      <td>2.0</td>\n",
       "      <td>4.0</td>\n",
       "      <td>2.1</td>\n",
       "      <td>1.6</td>\n",
       "      <td>8.0</td>\n",
       "      <td>...</td>\n",
       "      <td>0.0</td>\n",
       "      <td>0</td>\n",
       "      <td>1.60</td>\n",
       "      <td>0.00</td>\n",
       "      <td>0.90</td>\n",
       "      <td>1.8</td>\n",
       "      <td>1.4</td>\n",
       "      <td>1.05</td>\n",
       "      <td>0.90</td>\n",
       "      <td>0.75</td>\n",
       "    </tr>\n",
       "    <tr>\n",
       "      <th>1</th>\n",
       "      <td>female</td>\n",
       "      <td>21.0</td>\n",
       "      <td>22.0</td>\n",
       "      <td>Asian/PacificIslander/Asian-American</td>\n",
       "      <td>European/Caucasian-American</td>\n",
       "      <td>2.0</td>\n",
       "      <td>4.0</td>\n",
       "      <td>4.2</td>\n",
       "      <td>0.0</td>\n",
       "      <td>10.0</td>\n",
       "      <td>...</td>\n",
       "      <td>1.0</td>\n",
       "      <td>0</td>\n",
       "      <td>0.00</td>\n",
       "      <td>0.00</td>\n",
       "      <td>1.05</td>\n",
       "      <td>1.6</td>\n",
       "      <td>1.4</td>\n",
       "      <td>1.20</td>\n",
       "      <td>0.75</td>\n",
       "      <td>0.90</td>\n",
       "    </tr>\n",
       "    <tr>\n",
       "      <th>2</th>\n",
       "      <td>female</td>\n",
       "      <td>21.0</td>\n",
       "      <td>22.0</td>\n",
       "      <td>Asian/PacificIslander/Asian-American</td>\n",
       "      <td>Asian/PacificIslander/Asian-American</td>\n",
       "      <td>2.0</td>\n",
       "      <td>4.0</td>\n",
       "      <td>1.9</td>\n",
       "      <td>1.8</td>\n",
       "      <td>10.0</td>\n",
       "      <td>...</td>\n",
       "      <td>1.0</td>\n",
       "      <td>1</td>\n",
       "      <td>1.90</td>\n",
       "      <td>1.40</td>\n",
       "      <td>0.75</td>\n",
       "      <td>1.6</td>\n",
       "      <td>1.8</td>\n",
       "      <td>1.20</td>\n",
       "      <td>0.75</td>\n",
       "      <td>1.05</td>\n",
       "    </tr>\n",
       "    <tr>\n",
       "      <th>3</th>\n",
       "      <td>female</td>\n",
       "      <td>21.0</td>\n",
       "      <td>23.0</td>\n",
       "      <td>Asian/PacificIslander/Asian-American</td>\n",
       "      <td>European/Caucasian-American</td>\n",
       "      <td>2.0</td>\n",
       "      <td>4.0</td>\n",
       "      <td>2.1</td>\n",
       "      <td>0.4</td>\n",
       "      <td>9.0</td>\n",
       "      <td>...</td>\n",
       "      <td>0.0</td>\n",
       "      <td>1</td>\n",
       "      <td>1.35</td>\n",
       "      <td>0.45</td>\n",
       "      <td>1.05</td>\n",
       "      <td>1.2</td>\n",
       "      <td>1.6</td>\n",
       "      <td>1.05</td>\n",
       "      <td>0.90</td>\n",
       "      <td>1.20</td>\n",
       "    </tr>\n",
       "    <tr>\n",
       "      <th>4</th>\n",
       "      <td>female</td>\n",
       "      <td>21.0</td>\n",
       "      <td>24.0</td>\n",
       "      <td>Asian/PacificIslander/Asian-American</td>\n",
       "      <td>Latino/HispanicAmerican</td>\n",
       "      <td>2.0</td>\n",
       "      <td>4.0</td>\n",
       "      <td>2.4</td>\n",
       "      <td>0.7</td>\n",
       "      <td>9.0</td>\n",
       "      <td>...</td>\n",
       "      <td>0.0</td>\n",
       "      <td>1</td>\n",
       "      <td>1.80</td>\n",
       "      <td>0.90</td>\n",
       "      <td>0.75</td>\n",
       "      <td>1.2</td>\n",
       "      <td>1.4</td>\n",
       "      <td>1.05</td>\n",
       "      <td>0.90</td>\n",
       "      <td>0.90</td>\n",
       "    </tr>\n",
       "  </tbody>\n",
       "</table>\n",
       "<p>5 rows × 30 columns</p>\n",
       "</div>"
      ],
      "text/plain": [
       "   gender   age  age_o                                  race  \\\n",
       "0  female  21.0   27.0  Asian/PacificIslander/Asian-American   \n",
       "1  female  21.0   22.0  Asian/PacificIslander/Asian-American   \n",
       "2  female  21.0   22.0  Asian/PacificIslander/Asian-American   \n",
       "3  female  21.0   23.0  Asian/PacificIslander/Asian-American   \n",
       "4  female  21.0   24.0  Asian/PacificIslander/Asian-American   \n",
       "\n",
       "                                 race_o  importance_same_race  \\\n",
       "0           European/Caucasian-American                   2.0   \n",
       "1           European/Caucasian-American                   2.0   \n",
       "2  Asian/PacificIslander/Asian-American                   2.0   \n",
       "3           European/Caucasian-American                   2.0   \n",
       "4               Latino/HispanicAmerican                   2.0   \n",
       "\n",
       "   importance_same_religion  attractive_o  sincere_o  intelligence_o  ...  \\\n",
       "0                       4.0           2.1        1.6             8.0  ...   \n",
       "1                       4.0           4.2        0.0            10.0  ...   \n",
       "2                       4.0           1.9        1.8            10.0  ...   \n",
       "3                       4.0           2.1        0.4             9.0  ...   \n",
       "4                       4.0           2.4        0.7             9.0  ...   \n",
       "\n",
       "   met  match  intellicence_o  ambtition_o  attractive  sincere  intellicence  \\\n",
       "0  0.0      0            1.60         0.00        0.90      1.8           1.4   \n",
       "1  1.0      0            0.00         0.00        1.05      1.6           1.4   \n",
       "2  1.0      1            1.90         1.40        0.75      1.6           1.8   \n",
       "3  0.0      1            1.35         0.45        1.05      1.2           1.6   \n",
       "4  0.0      1            1.80         0.90        0.75      1.2           1.4   \n",
       "\n",
       "   funny  ambtition  shared_interests  \n",
       "0   1.05       0.90              0.75  \n",
       "1   1.20       0.75              0.90  \n",
       "2   1.20       0.75              1.05  \n",
       "3   1.05       0.90              1.20  \n",
       "4   1.05       0.90              0.90  \n",
       "\n",
       "[5 rows x 30 columns]"
      ]
     },
     "execution_count": 121,
     "metadata": {},
     "output_type": "execute_result"
    }
   ],
   "source": [
    "data.head()"
   ]
  },
  {
   "cell_type": "code",
   "execution_count": 122,
   "id": "2e016463",
   "metadata": {
    "ExecuteTime": {
     "end_time": "2023-10-31T00:10:43.037410Z",
     "start_time": "2023-10-31T00:10:43.024356Z"
    }
   },
   "outputs": [
    {
     "data": {
      "text/plain": [
       "Index(['gender', 'age', 'age_o', 'race', 'race_o', 'importance_same_race',\n",
       "       'importance_same_religion', 'attractive_o', 'sincere_o',\n",
       "       'intelligence_o', 'funny_o', 'ambitous_o', 'shared_interests_o',\n",
       "       'attractive_partner', 'sincere_partner', 'intelligence_partner',\n",
       "       'funny_partner', 'ambition_partner', 'shared_interests_partner',\n",
       "       'interests_correlate', 'met', 'match', 'intellicence_o', 'ambtition_o',\n",
       "       'attractive', 'sincere', 'intellicence', 'funny', 'ambtition',\n",
       "       'shared_interests'],\n",
       "      dtype='object')"
      ]
     },
     "execution_count": 122,
     "metadata": {},
     "output_type": "execute_result"
    }
   ],
   "source": [
    "data.columns"
   ]
  },
  {
   "cell_type": "code",
   "execution_count": 123,
   "id": "ae30e970",
   "metadata": {
    "ExecuteTime": {
     "end_time": "2023-10-31T00:10:43.053063Z",
     "start_time": "2023-10-31T00:10:43.039792Z"
    }
   },
   "outputs": [],
   "source": [
    "data.drop(['attractive_o', 'sincere_o',\n",
    "       'intelligence_o', 'funny_o', 'ambitous_o', 'shared_interests_o',\n",
    "       'attractive_partner', 'sincere_partner', 'intelligence_partner',\n",
    "       'funny_partner', 'ambition_partner', 'shared_interests_partner'] , axis = 1 , inplace = True)"
   ]
  },
  {
   "cell_type": "code",
   "execution_count": 124,
   "id": "8b9c611d",
   "metadata": {
    "ExecuteTime": {
     "end_time": "2023-10-31T00:10:43.068513Z",
     "start_time": "2023-10-31T00:10:43.054512Z"
    }
   },
   "outputs": [
    {
     "data": {
      "text/plain": [
       "Index(['gender', 'age', 'age_o', 'race', 'race_o', 'importance_same_race',\n",
       "       'importance_same_religion', 'interests_correlate', 'met', 'match',\n",
       "       'intellicence_o', 'ambtition_o', 'attractive', 'sincere',\n",
       "       'intellicence', 'funny', 'ambtition', 'shared_interests'],\n",
       "      dtype='object')"
      ]
     },
     "execution_count": 124,
     "metadata": {},
     "output_type": "execute_result"
    }
   ],
   "source": [
    "data.columns"
   ]
  },
  {
   "cell_type": "code",
   "execution_count": 125,
   "id": "c1d85bdb",
   "metadata": {
    "ExecuteTime": {
     "end_time": "2023-10-31T00:10:43.084259Z",
     "start_time": "2023-10-31T00:10:43.070527Z"
    }
   },
   "outputs": [],
   "source": [
    "data = data[['gender', 'age', 'age_o', 'race', 'race_o', 'importance_same_race',\n",
    "       'importance_same_religion', 'interests_correlate', 'met',\n",
    "       'intellicence_o', 'ambtition_o', 'attractive', 'sincere',\n",
    "       'intellicence', 'funny', 'ambtition', 'shared_interests','match']]"
   ]
  },
  {
   "cell_type": "markdown",
   "id": "b4ce06ff",
   "metadata": {},
   "source": [
    "- age의 결측치 처리 과정 중 , 남녀 두 경우에 대한 매치가 중복되므로 , gender는 분석에 필요가 없다고 판단. 제거"
   ]
  },
  {
   "cell_type": "code",
   "execution_count": 126,
   "id": "427cb031",
   "metadata": {
    "ExecuteTime": {
     "end_time": "2023-10-31T00:10:43.099563Z",
     "start_time": "2023-10-31T00:10:43.086312Z"
    }
   },
   "outputs": [],
   "source": [
    "data.drop('gender' , axis = 1 , inplace = True)"
   ]
  },
  {
   "cell_type": "markdown",
   "id": "f16608b2",
   "metadata": {},
   "source": [
    "- 인종에 대한 수치는 importance_same_race에서 다루므로 , 인종도 제거"
   ]
  },
  {
   "cell_type": "code",
   "execution_count": 127,
   "id": "c7875c52",
   "metadata": {
    "ExecuteTime": {
     "end_time": "2023-10-31T00:10:43.115146Z",
     "start_time": "2023-10-31T00:10:43.102077Z"
    }
   },
   "outputs": [],
   "source": [
    "data.drop(['race','race_o'] , axis = 1 , inplace = True)"
   ]
  },
  {
   "cell_type": "code",
   "execution_count": 128,
   "id": "69dc55cc",
   "metadata": {
    "ExecuteTime": {
     "end_time": "2023-10-31T00:10:43.131258Z",
     "start_time": "2023-10-31T00:10:43.117073Z"
    }
   },
   "outputs": [
    {
     "data": {
      "text/plain": [
       "0       0.14\n",
       "1       0.54\n",
       "2       0.16\n",
       "3       0.61\n",
       "4       0.21\n",
       "        ... \n",
       "8367    0.37\n",
       "8368    0.27\n",
       "8369    0.45\n",
       "8370    0.35\n",
       "8377    0.01\n",
       "Name: interests_correlate, Length: 5842, dtype: float64"
      ]
     },
     "execution_count": 128,
     "metadata": {},
     "output_type": "execute_result"
    }
   ],
   "source": [
    "data.interests_correlate"
   ]
  },
  {
   "cell_type": "code",
   "execution_count": 129,
   "id": "9e9c1cb9",
   "metadata": {
    "ExecuteTime": {
     "end_time": "2023-10-31T00:10:43.165869Z",
     "start_time": "2023-10-31T00:10:43.133231Z"
    }
   },
   "outputs": [
    {
     "data": {
      "text/html": [
       "<div>\n",
       "<style scoped>\n",
       "    .dataframe tbody tr th:only-of-type {\n",
       "        vertical-align: middle;\n",
       "    }\n",
       "\n",
       "    .dataframe tbody tr th {\n",
       "        vertical-align: top;\n",
       "    }\n",
       "\n",
       "    .dataframe thead th {\n",
       "        text-align: right;\n",
       "    }\n",
       "</style>\n",
       "<table border=\"1\" class=\"dataframe\">\n",
       "  <thead>\n",
       "    <tr style=\"text-align: right;\">\n",
       "      <th></th>\n",
       "      <th>age</th>\n",
       "      <th>age_o</th>\n",
       "      <th>importance_same_race</th>\n",
       "      <th>importance_same_religion</th>\n",
       "      <th>interests_correlate</th>\n",
       "      <th>met</th>\n",
       "      <th>intellicence_o</th>\n",
       "      <th>ambtition_o</th>\n",
       "      <th>attractive</th>\n",
       "      <th>sincere</th>\n",
       "      <th>intellicence</th>\n",
       "      <th>funny</th>\n",
       "      <th>ambtition</th>\n",
       "      <th>shared_interests</th>\n",
       "      <th>match</th>\n",
       "    </tr>\n",
       "  </thead>\n",
       "  <tbody>\n",
       "    <tr>\n",
       "      <th>0</th>\n",
       "      <td>21.0</td>\n",
       "      <td>27.0</td>\n",
       "      <td>2.0</td>\n",
       "      <td>4.0</td>\n",
       "      <td>0.14</td>\n",
       "      <td>0.0</td>\n",
       "      <td>1.60</td>\n",
       "      <td>0.00</td>\n",
       "      <td>0.90</td>\n",
       "      <td>1.8</td>\n",
       "      <td>1.4</td>\n",
       "      <td>1.05</td>\n",
       "      <td>0.90</td>\n",
       "      <td>0.75</td>\n",
       "      <td>0</td>\n",
       "    </tr>\n",
       "    <tr>\n",
       "      <th>1</th>\n",
       "      <td>21.0</td>\n",
       "      <td>22.0</td>\n",
       "      <td>2.0</td>\n",
       "      <td>4.0</td>\n",
       "      <td>0.54</td>\n",
       "      <td>1.0</td>\n",
       "      <td>0.00</td>\n",
       "      <td>0.00</td>\n",
       "      <td>1.05</td>\n",
       "      <td>1.6</td>\n",
       "      <td>1.4</td>\n",
       "      <td>1.20</td>\n",
       "      <td>0.75</td>\n",
       "      <td>0.90</td>\n",
       "      <td>0</td>\n",
       "    </tr>\n",
       "    <tr>\n",
       "      <th>2</th>\n",
       "      <td>21.0</td>\n",
       "      <td>22.0</td>\n",
       "      <td>2.0</td>\n",
       "      <td>4.0</td>\n",
       "      <td>0.16</td>\n",
       "      <td>1.0</td>\n",
       "      <td>1.90</td>\n",
       "      <td>1.40</td>\n",
       "      <td>0.75</td>\n",
       "      <td>1.6</td>\n",
       "      <td>1.8</td>\n",
       "      <td>1.20</td>\n",
       "      <td>0.75</td>\n",
       "      <td>1.05</td>\n",
       "      <td>1</td>\n",
       "    </tr>\n",
       "    <tr>\n",
       "      <th>3</th>\n",
       "      <td>21.0</td>\n",
       "      <td>23.0</td>\n",
       "      <td>2.0</td>\n",
       "      <td>4.0</td>\n",
       "      <td>0.61</td>\n",
       "      <td>0.0</td>\n",
       "      <td>1.35</td>\n",
       "      <td>0.45</td>\n",
       "      <td>1.05</td>\n",
       "      <td>1.2</td>\n",
       "      <td>1.6</td>\n",
       "      <td>1.05</td>\n",
       "      <td>0.90</td>\n",
       "      <td>1.20</td>\n",
       "      <td>1</td>\n",
       "    </tr>\n",
       "    <tr>\n",
       "      <th>4</th>\n",
       "      <td>21.0</td>\n",
       "      <td>24.0</td>\n",
       "      <td>2.0</td>\n",
       "      <td>4.0</td>\n",
       "      <td>0.21</td>\n",
       "      <td>0.0</td>\n",
       "      <td>1.80</td>\n",
       "      <td>0.90</td>\n",
       "      <td>0.75</td>\n",
       "      <td>1.2</td>\n",
       "      <td>1.4</td>\n",
       "      <td>1.05</td>\n",
       "      <td>0.90</td>\n",
       "      <td>0.90</td>\n",
       "      <td>1</td>\n",
       "    </tr>\n",
       "  </tbody>\n",
       "</table>\n",
       "</div>"
      ],
      "text/plain": [
       "    age  age_o  importance_same_race  importance_same_religion  \\\n",
       "0  21.0   27.0                   2.0                       4.0   \n",
       "1  21.0   22.0                   2.0                       4.0   \n",
       "2  21.0   22.0                   2.0                       4.0   \n",
       "3  21.0   23.0                   2.0                       4.0   \n",
       "4  21.0   24.0                   2.0                       4.0   \n",
       "\n",
       "   interests_correlate  met  intellicence_o  ambtition_o  attractive  sincere  \\\n",
       "0                 0.14  0.0            1.60         0.00        0.90      1.8   \n",
       "1                 0.54  1.0            0.00         0.00        1.05      1.6   \n",
       "2                 0.16  1.0            1.90         1.40        0.75      1.6   \n",
       "3                 0.61  0.0            1.35         0.45        1.05      1.2   \n",
       "4                 0.21  0.0            1.80         0.90        0.75      1.2   \n",
       "\n",
       "   intellicence  funny  ambtition  shared_interests  match  \n",
       "0           1.4   1.05       0.90              0.75      0  \n",
       "1           1.4   1.20       0.75              0.90      0  \n",
       "2           1.8   1.20       0.75              1.05      1  \n",
       "3           1.6   1.05       0.90              1.20      1  \n",
       "4           1.4   1.05       0.90              0.90      1  "
      ]
     },
     "execution_count": 129,
     "metadata": {},
     "output_type": "execute_result"
    }
   ],
   "source": [
    "data.head()"
   ]
  },
  {
   "cell_type": "code",
   "execution_count": 130,
   "id": "960aeab5",
   "metadata": {
    "ExecuteTime": {
     "end_time": "2023-10-31T00:10:43.178966Z",
     "start_time": "2023-10-31T00:10:43.169336Z"
    }
   },
   "outputs": [
    {
     "data": {
      "text/plain": [
       "Index(['age', 'age_o', 'importance_same_race', 'importance_same_religion',\n",
       "       'interests_correlate', 'met', 'intellicence_o', 'ambtition_o',\n",
       "       'attractive', 'sincere', 'intellicence', 'funny', 'ambtition',\n",
       "       'shared_interests', 'match'],\n",
       "      dtype='object')"
      ]
     },
     "execution_count": 130,
     "metadata": {},
     "output_type": "execute_result"
    }
   ],
   "source": [
    "data.columns"
   ]
  },
  {
   "cell_type": "code",
   "execution_count": 131,
   "id": "76c8f9d7",
   "metadata": {
    "ExecuteTime": {
     "end_time": "2023-10-31T00:10:43.194106Z",
     "start_time": "2023-10-31T00:10:43.180474Z"
    }
   },
   "outputs": [],
   "source": [
    "hap = data['importance_same_race'] + data['importance_same_religion']"
   ]
  },
  {
   "cell_type": "code",
   "execution_count": 156,
   "id": "d832aba5",
   "metadata": {
    "ExecuteTime": {
     "end_time": "2023-10-31T00:12:39.977781Z",
     "start_time": "2023-10-31T00:12:39.959001Z"
    }
   },
   "outputs": [],
   "source": [
    "data.drop('met' , axis = 1 , inplace = True)"
   ]
  },
  {
   "cell_type": "code",
   "execution_count": 157,
   "id": "daa666ed",
   "metadata": {
    "ExecuteTime": {
     "end_time": "2023-10-31T00:12:46.327998Z",
     "start_time": "2023-10-31T00:12:46.308840Z"
    }
   },
   "outputs": [],
   "source": [
    "data1 = data.iloc[:,:-1].to_numpy()\n",
    "target = data.iloc[:,-1].to_numpy()"
   ]
  },
  {
   "cell_type": "code",
   "execution_count": 158,
   "id": "7d965552",
   "metadata": {
    "ExecuteTime": {
     "end_time": "2023-10-31T00:12:46.762581Z",
     "start_time": "2023-10-31T00:12:46.749511Z"
    }
   },
   "outputs": [
    {
     "data": {
      "text/plain": [
       "0    4802\n",
       "1    1040\n",
       "Name: match, dtype: int64"
      ]
     },
     "execution_count": 158,
     "metadata": {},
     "output_type": "execute_result"
    }
   ],
   "source": [
    "data.match.value_counts()"
   ]
  },
  {
   "cell_type": "code",
   "execution_count": 159,
   "id": "da16e6bc",
   "metadata": {
    "ExecuteTime": {
     "end_time": "2023-10-31T00:12:47.902037Z",
     "start_time": "2023-10-31T00:12:47.891452Z"
    }
   },
   "outputs": [],
   "source": [
    "from sklearn.model_selection import train_test_split\n",
    "\n",
    "train_input , test_input , train_target , test_target = train_test_split(data1 , target , test_size = 0.2 , stratify = target)"
   ]
  },
  {
   "cell_type": "code",
   "execution_count": 160,
   "id": "f94e79af",
   "metadata": {
    "ExecuteTime": {
     "end_time": "2023-10-31T00:12:48.150956Z",
     "start_time": "2023-10-31T00:12:48.133842Z"
    }
   },
   "outputs": [],
   "source": [
    "from sklearn.metrics import accuracy_score , precision_score , recall_score , roc_auc_score , f1_score , confusion_matrix , roc_curve , precision_recall_curve"
   ]
  },
  {
   "cell_type": "code",
   "execution_count": 161,
   "id": "dda124af",
   "metadata": {
    "ExecuteTime": {
     "end_time": "2023-10-31T00:12:49.163357Z",
     "start_time": "2023-10-31T00:12:48.695073Z"
    }
   },
   "outputs": [
    {
     "data": {
      "text/plain": [
       "0.8186484174508126"
      ]
     },
     "execution_count": 161,
     "metadata": {},
     "output_type": "execute_result"
    }
   ],
   "source": [
    "from xgboost import XGBClassifier\n",
    "xgb = XGBClassifier(n_estimators = 400)\n",
    "xgb.fit(train_input , train_target)\n",
    "\n",
    "xgb_pred = xgb.predict(test_input)\n",
    "\n",
    "accuracy_score(test_target , xgb_pred)"
   ]
  },
  {
   "cell_type": "code",
   "execution_count": 162,
   "id": "d5412c3d",
   "metadata": {
    "ExecuteTime": {
     "end_time": "2023-10-31T00:12:50.149304Z",
     "start_time": "2023-10-31T00:12:50.142691Z"
    }
   },
   "outputs": [],
   "source": [
    "from sklearn.model_selection import GridSearchCV\n",
    "\n",
    "params = {'n_estimators' : [200,300,600,700],\n",
    "         'learning_rate' : [0.2,0.3,0.01],\n",
    "         'max_depth' : [4,5,6]}"
   ]
  },
  {
   "cell_type": "code",
   "execution_count": 163,
   "id": "582ffb42",
   "metadata": {
    "ExecuteTime": {
     "end_time": "2023-10-31T00:13:40.344958Z",
     "start_time": "2023-10-31T00:12:53.065143Z"
    }
   },
   "outputs": [
    {
     "data": {
      "text/html": [
       "<style>#sk-container-id-7 {color: black;}#sk-container-id-7 pre{padding: 0;}#sk-container-id-7 div.sk-toggleable {background-color: white;}#sk-container-id-7 label.sk-toggleable__label {cursor: pointer;display: block;width: 100%;margin-bottom: 0;padding: 0.3em;box-sizing: border-box;text-align: center;}#sk-container-id-7 label.sk-toggleable__label-arrow:before {content: \"▸\";float: left;margin-right: 0.25em;color: #696969;}#sk-container-id-7 label.sk-toggleable__label-arrow:hover:before {color: black;}#sk-container-id-7 div.sk-estimator:hover label.sk-toggleable__label-arrow:before {color: black;}#sk-container-id-7 div.sk-toggleable__content {max-height: 0;max-width: 0;overflow: hidden;text-align: left;background-color: #f0f8ff;}#sk-container-id-7 div.sk-toggleable__content pre {margin: 0.2em;color: black;border-radius: 0.25em;background-color: #f0f8ff;}#sk-container-id-7 input.sk-toggleable__control:checked~div.sk-toggleable__content {max-height: 200px;max-width: 100%;overflow: auto;}#sk-container-id-7 input.sk-toggleable__control:checked~label.sk-toggleable__label-arrow:before {content: \"▾\";}#sk-container-id-7 div.sk-estimator input.sk-toggleable__control:checked~label.sk-toggleable__label {background-color: #d4ebff;}#sk-container-id-7 div.sk-label input.sk-toggleable__control:checked~label.sk-toggleable__label {background-color: #d4ebff;}#sk-container-id-7 input.sk-hidden--visually {border: 0;clip: rect(1px 1px 1px 1px);clip: rect(1px, 1px, 1px, 1px);height: 1px;margin: -1px;overflow: hidden;padding: 0;position: absolute;width: 1px;}#sk-container-id-7 div.sk-estimator {font-family: monospace;background-color: #f0f8ff;border: 1px dotted black;border-radius: 0.25em;box-sizing: border-box;margin-bottom: 0.5em;}#sk-container-id-7 div.sk-estimator:hover {background-color: #d4ebff;}#sk-container-id-7 div.sk-parallel-item::after {content: \"\";width: 100%;border-bottom: 1px solid gray;flex-grow: 1;}#sk-container-id-7 div.sk-label:hover label.sk-toggleable__label {background-color: #d4ebff;}#sk-container-id-7 div.sk-serial::before {content: \"\";position: absolute;border-left: 1px solid gray;box-sizing: border-box;top: 0;bottom: 0;left: 50%;z-index: 0;}#sk-container-id-7 div.sk-serial {display: flex;flex-direction: column;align-items: center;background-color: white;padding-right: 0.2em;padding-left: 0.2em;position: relative;}#sk-container-id-7 div.sk-item {position: relative;z-index: 1;}#sk-container-id-7 div.sk-parallel {display: flex;align-items: stretch;justify-content: center;background-color: white;position: relative;}#sk-container-id-7 div.sk-item::before, #sk-container-id-7 div.sk-parallel-item::before {content: \"\";position: absolute;border-left: 1px solid gray;box-sizing: border-box;top: 0;bottom: 0;left: 50%;z-index: -1;}#sk-container-id-7 div.sk-parallel-item {display: flex;flex-direction: column;z-index: 1;position: relative;background-color: white;}#sk-container-id-7 div.sk-parallel-item:first-child::after {align-self: flex-end;width: 50%;}#sk-container-id-7 div.sk-parallel-item:last-child::after {align-self: flex-start;width: 50%;}#sk-container-id-7 div.sk-parallel-item:only-child::after {width: 0;}#sk-container-id-7 div.sk-dashed-wrapped {border: 1px dashed gray;margin: 0 0.4em 0.5em 0.4em;box-sizing: border-box;padding-bottom: 0.4em;background-color: white;}#sk-container-id-7 div.sk-label label {font-family: monospace;font-weight: bold;display: inline-block;line-height: 1.2em;}#sk-container-id-7 div.sk-label-container {text-align: center;}#sk-container-id-7 div.sk-container {/* jupyter's `normalize.less` sets `[hidden] { display: none; }` but bootstrap.min.css set `[hidden] { display: none !important; }` so we also need the `!important` here to be able to override the default hidden behavior on the sphinx rendered scikit-learn.org. See: https://github.com/scikit-learn/scikit-learn/issues/21755 */display: inline-block !important;position: relative;}#sk-container-id-7 div.sk-text-repr-fallback {display: none;}</style><div id=\"sk-container-id-7\" class=\"sk-top-container\"><div class=\"sk-text-repr-fallback\"><pre>GridSearchCV(estimator=XGBClassifier(base_score=None, booster=None,\n",
       "                                     callbacks=None, colsample_bylevel=None,\n",
       "                                     colsample_bynode=None,\n",
       "                                     colsample_bytree=None,\n",
       "                                     early_stopping_rounds=None,\n",
       "                                     enable_categorical=False, eval_metric=None,\n",
       "                                     feature_types=None, gamma=None,\n",
       "                                     gpu_id=None, grow_policy=None,\n",
       "                                     importance_type=None,\n",
       "                                     interaction_constraints=None,\n",
       "                                     learning_rate=None, max_b...\n",
       "                                     max_cat_threshold=None,\n",
       "                                     max_cat_to_onehot=None,\n",
       "                                     max_delta_step=None, max_depth=None,\n",
       "                                     max_leaves=None, min_child_weight=None,\n",
       "                                     missing=nan, monotone_constraints=None,\n",
       "                                     n_estimators=100, n_jobs=None,\n",
       "                                     num_parallel_tree=None, predictor=None,\n",
       "                                     random_state=42, ...),\n",
       "             n_jobs=-1,\n",
       "             param_grid={&#x27;learning_rate&#x27;: [0.2, 0.3, 0.01],\n",
       "                         &#x27;max_depth&#x27;: [4, 5, 6],\n",
       "                         &#x27;n_estimators&#x27;: [200, 300, 600, 700]})</pre><b>In a Jupyter environment, please rerun this cell to show the HTML representation or trust the notebook. <br />On GitHub, the HTML representation is unable to render, please try loading this page with nbviewer.org.</b></div><div class=\"sk-container\" hidden><div class=\"sk-item sk-dashed-wrapped\"><div class=\"sk-label-container\"><div class=\"sk-label sk-toggleable\"><input class=\"sk-toggleable__control sk-hidden--visually\" id=\"sk-estimator-id-11\" type=\"checkbox\" ><label for=\"sk-estimator-id-11\" class=\"sk-toggleable__label sk-toggleable__label-arrow\">GridSearchCV</label><div class=\"sk-toggleable__content\"><pre>GridSearchCV(estimator=XGBClassifier(base_score=None, booster=None,\n",
       "                                     callbacks=None, colsample_bylevel=None,\n",
       "                                     colsample_bynode=None,\n",
       "                                     colsample_bytree=None,\n",
       "                                     early_stopping_rounds=None,\n",
       "                                     enable_categorical=False, eval_metric=None,\n",
       "                                     feature_types=None, gamma=None,\n",
       "                                     gpu_id=None, grow_policy=None,\n",
       "                                     importance_type=None,\n",
       "                                     interaction_constraints=None,\n",
       "                                     learning_rate=None, max_b...\n",
       "                                     max_cat_threshold=None,\n",
       "                                     max_cat_to_onehot=None,\n",
       "                                     max_delta_step=None, max_depth=None,\n",
       "                                     max_leaves=None, min_child_weight=None,\n",
       "                                     missing=nan, monotone_constraints=None,\n",
       "                                     n_estimators=100, n_jobs=None,\n",
       "                                     num_parallel_tree=None, predictor=None,\n",
       "                                     random_state=42, ...),\n",
       "             n_jobs=-1,\n",
       "             param_grid={&#x27;learning_rate&#x27;: [0.2, 0.3, 0.01],\n",
       "                         &#x27;max_depth&#x27;: [4, 5, 6],\n",
       "                         &#x27;n_estimators&#x27;: [200, 300, 600, 700]})</pre></div></div></div><div class=\"sk-parallel\"><div class=\"sk-parallel-item\"><div class=\"sk-item\"><div class=\"sk-label-container\"><div class=\"sk-label sk-toggleable\"><input class=\"sk-toggleable__control sk-hidden--visually\" id=\"sk-estimator-id-12\" type=\"checkbox\" ><label for=\"sk-estimator-id-12\" class=\"sk-toggleable__label sk-toggleable__label-arrow\">estimator: XGBClassifier</label><div class=\"sk-toggleable__content\"><pre>XGBClassifier(base_score=None, booster=None, callbacks=None,\n",
       "              colsample_bylevel=None, colsample_bynode=None,\n",
       "              colsample_bytree=None, early_stopping_rounds=None,\n",
       "              enable_categorical=False, eval_metric=None, feature_types=None,\n",
       "              gamma=None, gpu_id=None, grow_policy=None, importance_type=None,\n",
       "              interaction_constraints=None, learning_rate=None, max_bin=None,\n",
       "              max_cat_threshold=None, max_cat_to_onehot=None,\n",
       "              max_delta_step=None, max_depth=None, max_leaves=None,\n",
       "              min_child_weight=None, missing=nan, monotone_constraints=None,\n",
       "              n_estimators=100, n_jobs=None, num_parallel_tree=None,\n",
       "              predictor=None, random_state=42, ...)</pre></div></div></div><div class=\"sk-serial\"><div class=\"sk-item\"><div class=\"sk-estimator sk-toggleable\"><input class=\"sk-toggleable__control sk-hidden--visually\" id=\"sk-estimator-id-13\" type=\"checkbox\" ><label for=\"sk-estimator-id-13\" class=\"sk-toggleable__label sk-toggleable__label-arrow\">XGBClassifier</label><div class=\"sk-toggleable__content\"><pre>XGBClassifier(base_score=None, booster=None, callbacks=None,\n",
       "              colsample_bylevel=None, colsample_bynode=None,\n",
       "              colsample_bytree=None, early_stopping_rounds=None,\n",
       "              enable_categorical=False, eval_metric=None, feature_types=None,\n",
       "              gamma=None, gpu_id=None, grow_policy=None, importance_type=None,\n",
       "              interaction_constraints=None, learning_rate=None, max_bin=None,\n",
       "              max_cat_threshold=None, max_cat_to_onehot=None,\n",
       "              max_delta_step=None, max_depth=None, max_leaves=None,\n",
       "              min_child_weight=None, missing=nan, monotone_constraints=None,\n",
       "              n_estimators=100, n_jobs=None, num_parallel_tree=None,\n",
       "              predictor=None, random_state=42, ...)</pre></div></div></div></div></div></div></div></div></div></div>"
      ],
      "text/plain": [
       "GridSearchCV(estimator=XGBClassifier(base_score=None, booster=None,\n",
       "                                     callbacks=None, colsample_bylevel=None,\n",
       "                                     colsample_bynode=None,\n",
       "                                     colsample_bytree=None,\n",
       "                                     early_stopping_rounds=None,\n",
       "                                     enable_categorical=False, eval_metric=None,\n",
       "                                     feature_types=None, gamma=None,\n",
       "                                     gpu_id=None, grow_policy=None,\n",
       "                                     importance_type=None,\n",
       "                                     interaction_constraints=None,\n",
       "                                     learning_rate=None, max_b...\n",
       "                                     max_cat_threshold=None,\n",
       "                                     max_cat_to_onehot=None,\n",
       "                                     max_delta_step=None, max_depth=None,\n",
       "                                     max_leaves=None, min_child_weight=None,\n",
       "                                     missing=nan, monotone_constraints=None,\n",
       "                                     n_estimators=100, n_jobs=None,\n",
       "                                     num_parallel_tree=None, predictor=None,\n",
       "                                     random_state=42, ...),\n",
       "             n_jobs=-1,\n",
       "             param_grid={'learning_rate': [0.2, 0.3, 0.01],\n",
       "                         'max_depth': [4, 5, 6],\n",
       "                         'n_estimators': [200, 300, 600, 700]})"
      ]
     },
     "execution_count": 163,
     "metadata": {},
     "output_type": "execute_result"
    }
   ],
   "source": [
    "gs = GridSearchCV(XGBClassifier(random_state = 42) , params , n_jobs = -1)\n",
    "gs.fit(train_input , train_target)"
   ]
  },
  {
   "cell_type": "code",
   "execution_count": 164,
   "id": "a3d34e9a",
   "metadata": {
    "ExecuteTime": {
     "end_time": "2023-10-31T00:13:40.360960Z",
     "start_time": "2023-10-31T00:13:40.347464Z"
    }
   },
   "outputs": [
    {
     "data": {
      "text/plain": [
       "{'learning_rate': 0.01, 'max_depth': 5, 'n_estimators': 700}"
      ]
     },
     "execution_count": 164,
     "metadata": {},
     "output_type": "execute_result"
    }
   ],
   "source": [
    "gs.best_params_"
   ]
  },
  {
   "cell_type": "code",
   "execution_count": 165,
   "id": "2fb753fa",
   "metadata": {
    "ExecuteTime": {
     "end_time": "2023-10-31T00:13:54.129494Z",
     "start_time": "2023-10-31T00:13:53.425464Z"
    }
   },
   "outputs": [
    {
     "data": {
      "text/html": [
       "<style>#sk-container-id-8 {color: black;}#sk-container-id-8 pre{padding: 0;}#sk-container-id-8 div.sk-toggleable {background-color: white;}#sk-container-id-8 label.sk-toggleable__label {cursor: pointer;display: block;width: 100%;margin-bottom: 0;padding: 0.3em;box-sizing: border-box;text-align: center;}#sk-container-id-8 label.sk-toggleable__label-arrow:before {content: \"▸\";float: left;margin-right: 0.25em;color: #696969;}#sk-container-id-8 label.sk-toggleable__label-arrow:hover:before {color: black;}#sk-container-id-8 div.sk-estimator:hover label.sk-toggleable__label-arrow:before {color: black;}#sk-container-id-8 div.sk-toggleable__content {max-height: 0;max-width: 0;overflow: hidden;text-align: left;background-color: #f0f8ff;}#sk-container-id-8 div.sk-toggleable__content pre {margin: 0.2em;color: black;border-radius: 0.25em;background-color: #f0f8ff;}#sk-container-id-8 input.sk-toggleable__control:checked~div.sk-toggleable__content {max-height: 200px;max-width: 100%;overflow: auto;}#sk-container-id-8 input.sk-toggleable__control:checked~label.sk-toggleable__label-arrow:before {content: \"▾\";}#sk-container-id-8 div.sk-estimator input.sk-toggleable__control:checked~label.sk-toggleable__label {background-color: #d4ebff;}#sk-container-id-8 div.sk-label input.sk-toggleable__control:checked~label.sk-toggleable__label {background-color: #d4ebff;}#sk-container-id-8 input.sk-hidden--visually {border: 0;clip: rect(1px 1px 1px 1px);clip: rect(1px, 1px, 1px, 1px);height: 1px;margin: -1px;overflow: hidden;padding: 0;position: absolute;width: 1px;}#sk-container-id-8 div.sk-estimator {font-family: monospace;background-color: #f0f8ff;border: 1px dotted black;border-radius: 0.25em;box-sizing: border-box;margin-bottom: 0.5em;}#sk-container-id-8 div.sk-estimator:hover {background-color: #d4ebff;}#sk-container-id-8 div.sk-parallel-item::after {content: \"\";width: 100%;border-bottom: 1px solid gray;flex-grow: 1;}#sk-container-id-8 div.sk-label:hover label.sk-toggleable__label {background-color: #d4ebff;}#sk-container-id-8 div.sk-serial::before {content: \"\";position: absolute;border-left: 1px solid gray;box-sizing: border-box;top: 0;bottom: 0;left: 50%;z-index: 0;}#sk-container-id-8 div.sk-serial {display: flex;flex-direction: column;align-items: center;background-color: white;padding-right: 0.2em;padding-left: 0.2em;position: relative;}#sk-container-id-8 div.sk-item {position: relative;z-index: 1;}#sk-container-id-8 div.sk-parallel {display: flex;align-items: stretch;justify-content: center;background-color: white;position: relative;}#sk-container-id-8 div.sk-item::before, #sk-container-id-8 div.sk-parallel-item::before {content: \"\";position: absolute;border-left: 1px solid gray;box-sizing: border-box;top: 0;bottom: 0;left: 50%;z-index: -1;}#sk-container-id-8 div.sk-parallel-item {display: flex;flex-direction: column;z-index: 1;position: relative;background-color: white;}#sk-container-id-8 div.sk-parallel-item:first-child::after {align-self: flex-end;width: 50%;}#sk-container-id-8 div.sk-parallel-item:last-child::after {align-self: flex-start;width: 50%;}#sk-container-id-8 div.sk-parallel-item:only-child::after {width: 0;}#sk-container-id-8 div.sk-dashed-wrapped {border: 1px dashed gray;margin: 0 0.4em 0.5em 0.4em;box-sizing: border-box;padding-bottom: 0.4em;background-color: white;}#sk-container-id-8 div.sk-label label {font-family: monospace;font-weight: bold;display: inline-block;line-height: 1.2em;}#sk-container-id-8 div.sk-label-container {text-align: center;}#sk-container-id-8 div.sk-container {/* jupyter's `normalize.less` sets `[hidden] { display: none; }` but bootstrap.min.css set `[hidden] { display: none !important; }` so we also need the `!important` here to be able to override the default hidden behavior on the sphinx rendered scikit-learn.org. See: https://github.com/scikit-learn/scikit-learn/issues/21755 */display: inline-block !important;position: relative;}#sk-container-id-8 div.sk-text-repr-fallback {display: none;}</style><div id=\"sk-container-id-8\" class=\"sk-top-container\"><div class=\"sk-text-repr-fallback\"><pre>XGBClassifier(base_score=None, booster=None, callbacks=None,\n",
       "              colsample_bylevel=None, colsample_bynode=None,\n",
       "              colsample_bytree=None, early_stopping_rounds=None,\n",
       "              enable_categorical=False, eval_metric=None, feature_types=None,\n",
       "              gamma=None, gpu_id=None, grow_policy=None, importance_type=None,\n",
       "              interaction_constraints=None, learning_rate=0.01, max_bin=None,\n",
       "              max_cat_threshold=None, max_cat_to_onehot=None,\n",
       "              max_delta_step=None, max_depth=5, max_leaves=None,\n",
       "              min_child_weight=None, missing=nan, monotone_constraints=None,\n",
       "              n_estimators=700, n_jobs=None, num_parallel_tree=None,\n",
       "              predictor=None, random_state=42, ...)</pre><b>In a Jupyter environment, please rerun this cell to show the HTML representation or trust the notebook. <br />On GitHub, the HTML representation is unable to render, please try loading this page with nbviewer.org.</b></div><div class=\"sk-container\" hidden><div class=\"sk-item\"><div class=\"sk-estimator sk-toggleable\"><input class=\"sk-toggleable__control sk-hidden--visually\" id=\"sk-estimator-id-14\" type=\"checkbox\" checked><label for=\"sk-estimator-id-14\" class=\"sk-toggleable__label sk-toggleable__label-arrow\">XGBClassifier</label><div class=\"sk-toggleable__content\"><pre>XGBClassifier(base_score=None, booster=None, callbacks=None,\n",
       "              colsample_bylevel=None, colsample_bynode=None,\n",
       "              colsample_bytree=None, early_stopping_rounds=None,\n",
       "              enable_categorical=False, eval_metric=None, feature_types=None,\n",
       "              gamma=None, gpu_id=None, grow_policy=None, importance_type=None,\n",
       "              interaction_constraints=None, learning_rate=0.01, max_bin=None,\n",
       "              max_cat_threshold=None, max_cat_to_onehot=None,\n",
       "              max_delta_step=None, max_depth=5, max_leaves=None,\n",
       "              min_child_weight=None, missing=nan, monotone_constraints=None,\n",
       "              n_estimators=700, n_jobs=None, num_parallel_tree=None,\n",
       "              predictor=None, random_state=42, ...)</pre></div></div></div></div></div>"
      ],
      "text/plain": [
       "XGBClassifier(base_score=None, booster=None, callbacks=None,\n",
       "              colsample_bylevel=None, colsample_bynode=None,\n",
       "              colsample_bytree=None, early_stopping_rounds=None,\n",
       "              enable_categorical=False, eval_metric=None, feature_types=None,\n",
       "              gamma=None, gpu_id=None, grow_policy=None, importance_type=None,\n",
       "              interaction_constraints=None, learning_rate=0.01, max_bin=None,\n",
       "              max_cat_threshold=None, max_cat_to_onehot=None,\n",
       "              max_delta_step=None, max_depth=5, max_leaves=None,\n",
       "              min_child_weight=None, missing=nan, monotone_constraints=None,\n",
       "              n_estimators=700, n_jobs=None, num_parallel_tree=None,\n",
       "              predictor=None, random_state=42, ...)"
      ]
     },
     "execution_count": 165,
     "metadata": {},
     "output_type": "execute_result"
    }
   ],
   "source": [
    "xgb2 = XGBClassifier(n_estimators = 700 , learning_rate = 0.01 , max_depth = 5 , random_state = 42)\n",
    "xgb2.fit(train_input , train_target)"
   ]
  },
  {
   "cell_type": "code",
   "execution_count": 166,
   "id": "579f3292",
   "metadata": {
    "ExecuteTime": {
     "end_time": "2023-10-31T00:13:56.089080Z",
     "start_time": "2023-10-31T00:13:56.062874Z"
    }
   },
   "outputs": [
    {
     "data": {
      "text/plain": [
       "(0.8280581693755347, 0.5614035087719298)"
      ]
     },
     "execution_count": 166,
     "metadata": {},
     "output_type": "execute_result"
    }
   ],
   "source": [
    "accuracy_score(test_target , xgb2.predict(test_input)), precision_score(test_target , xgb2.predict(test_input))"
   ]
  },
  {
   "cell_type": "code",
   "execution_count": 167,
   "id": "db698cf9",
   "metadata": {
    "ExecuteTime": {
     "end_time": "2023-10-31T00:13:58.114626Z",
     "start_time": "2023-10-31T00:13:58.093207Z"
    }
   },
   "outputs": [
    {
     "data": {
      "text/plain": [
       "array([[936,  25],\n",
       "       [176,  32]], dtype=int64)"
      ]
     },
     "execution_count": 167,
     "metadata": {},
     "output_type": "execute_result"
    }
   ],
   "source": [
    "confusion_matrix(test_target , xgb2.predict(test_input))"
   ]
  },
  {
   "cell_type": "markdown",
   "id": "25192320",
   "metadata": {},
   "source": [
    "- 실제값은 만났는데 , 만나지 않았다고 예측한 수가 너무 많다."
   ]
  },
  {
   "cell_type": "code",
   "execution_count": 168,
   "id": "8cc1edd5",
   "metadata": {
    "ExecuteTime": {
     "end_time": "2023-10-31T00:14:01.216067Z",
     "start_time": "2023-10-31T00:14:01.206040Z"
    }
   },
   "outputs": [
    {
     "data": {
      "text/plain": [
       "array([0.06641743, 0.05663541, 0.07008164, 0.05593743, 0.05599317,\n",
       "       0.07372862, 0.06895018, 0.08205933, 0.06552846, 0.07783935,\n",
       "       0.16230273, 0.07966997, 0.0848562 ], dtype=float32)"
      ]
     },
     "execution_count": 168,
     "metadata": {},
     "output_type": "execute_result"
    }
   ],
   "source": [
    "xgb2.feature_importances_"
   ]
  },
  {
   "cell_type": "code",
   "execution_count": 153,
   "id": "74f75dc3",
   "metadata": {
    "ExecuteTime": {
     "end_time": "2023-10-31T00:11:58.516551Z",
     "start_time": "2023-10-31T00:11:58.503148Z"
    }
   },
   "outputs": [
    {
     "data": {
      "text/plain": [
       "15"
      ]
     },
     "execution_count": 153,
     "metadata": {},
     "output_type": "execute_result"
    }
   ],
   "source": [
    "len(data.columns)"
   ]
  },
  {
   "cell_type": "code",
   "execution_count": 169,
   "id": "97dc6cf2",
   "metadata": {
    "ExecuteTime": {
     "end_time": "2023-10-31T00:14:04.197153Z",
     "start_time": "2023-10-31T00:14:04.075808Z"
    }
   },
   "outputs": [
    {
     "data": {
      "image/png": "[encoded data removed]",
      "text/plain": [
       "<Figure size 640x480 with 1 Axes>"
      ]
     },
     "metadata": {},
     "output_type": "display_data"
    }
   ],
   "source": [
    "plt.plot(xgb2.feature_importances_)\n",
    "plt.xticks(np.arange(14) , np.arange(0,14,1))\n",
    "plt.show()"
   ]
  },
  {
   "cell_type": "code",
   "execution_count": 170,
   "id": "24cea079",
   "metadata": {
    "ExecuteTime": {
     "end_time": "2023-10-31T00:14:07.543293Z",
     "start_time": "2023-10-31T00:14:07.533736Z"
    }
   },
   "outputs": [
    {
     "data": {
      "text/plain": [
       "'funny'"
      ]
     },
     "execution_count": 170,
     "metadata": {},
     "output_type": "execute_result"
    }
   ],
   "source": [
    "data.columns.tolist()[10]"
   ]
  },
  {
   "cell_type": "markdown",
   "id": "46017b01",
   "metadata": {},
   "source": [
    "- 이 모델에서 가장 중요한 것은 상대방이 얼마나 재밌는지에 대한 점수가 가장 중요했다고 볼 수 있다.\n",
    "- 그런데 점수가 너무 낮다.."
   ]
  },
  {
   "cell_type": "code",
   "execution_count": 171,
   "id": "1b1eed16",
   "metadata": {
    "ExecuteTime": {
     "end_time": "2023-10-31T00:14:10.407884Z",
     "start_time": "2023-10-31T00:14:10.391819Z"
    }
   },
   "outputs": [
    {
     "name": "stdout",
     "output_type": "stream",
     "text": [
      "0.8219559169698266\n",
      "0.8220701454234388\n"
     ]
    }
   ],
   "source": [
    "from sklearn.linear_model import SGDClassifier\n",
    "sc = SGDClassifier(loss = 'log_loss' , max_iter = 10 , random_state = 42)\n",
    "sc.fit(train_input , train_target)\n",
    "print(sc.score(train_input , train_target))\n",
    "print(sc.score(test_input , test_target))"
   ]
  },
  {
   "cell_type": "code",
   "execution_count": 172,
   "id": "9fa97335",
   "metadata": {
    "ExecuteTime": {
     "end_time": "2023-10-31T00:14:12.737264Z",
     "start_time": "2023-10-31T00:14:12.710026Z"
    }
   },
   "outputs": [
    {
     "name": "stdout",
     "output_type": "stream",
     "text": [
      "0.8722448106141665\n",
      "0.8280581693755347\n"
     ]
    }
   ],
   "source": [
    "print(xgb2.score(train_input , train_target))\n",
    "print(xgb2.score(test_input , test_target))"
   ]
  },
  {
   "cell_type": "code",
   "execution_count": 182,
   "id": "e8f1e03e",
   "metadata": {
    "ExecuteTime": {
     "end_time": "2023-10-31T00:30:22.538999Z",
     "start_time": "2023-10-31T00:30:22.506524Z"
    }
   },
   "outputs": [],
   "source": [
    "data1 = pd.read_csv('speed_dating.csv')"
   ]
  },
  {
   "cell_type": "code",
   "execution_count": 183,
   "id": "2e610c7b",
   "metadata": {
    "ExecuteTime": {
     "end_time": "2023-10-31T00:30:22.663287Z",
     "start_time": "2023-10-31T00:30:22.652287Z"
    }
   },
   "outputs": [],
   "source": [
    "data1 = data1.iloc[:,2:]"
   ]
  },
  {
   "cell_type": "code",
   "execution_count": 184,
   "id": "35b56c7f",
   "metadata": {
    "ExecuteTime": {
     "end_time": "2023-10-31T00:30:22.836356Z",
     "start_time": "2023-10-31T00:30:22.789489Z"
    }
   },
   "outputs": [
    {
     "data": {
      "text/html": [
       "<div>\n",
       "<style scoped>\n",
       "    .dataframe tbody tr th:only-of-type {\n",
       "        vertical-align: middle;\n",
       "    }\n",
       "\n",
       "    .dataframe tbody tr th {\n",
       "        vertical-align: top;\n",
       "    }\n",
       "\n",
       "    .dataframe thead th {\n",
       "        text-align: right;\n",
       "    }\n",
       "</style>\n",
       "<table border=\"1\" class=\"dataframe\">\n",
       "  <thead>\n",
       "    <tr style=\"text-align: right;\">\n",
       "      <th></th>\n",
       "      <th>gender</th>\n",
       "      <th>age</th>\n",
       "      <th>age_o</th>\n",
       "      <th>race</th>\n",
       "      <th>race_o</th>\n",
       "      <th>importance_same_race</th>\n",
       "      <th>importance_same_religion</th>\n",
       "      <th>pref_o_attractive</th>\n",
       "      <th>pref_o_sincere</th>\n",
       "      <th>pref_o_intelligence</th>\n",
       "      <th>...</th>\n",
       "      <th>funny_partner</th>\n",
       "      <th>ambition_partner</th>\n",
       "      <th>shared_interests_partner</th>\n",
       "      <th>interests_correlate</th>\n",
       "      <th>expected_happy_with_sd_people</th>\n",
       "      <th>expected_num_interested_in_me</th>\n",
       "      <th>like</th>\n",
       "      <th>guess_prob_liked</th>\n",
       "      <th>met</th>\n",
       "      <th>match</th>\n",
       "    </tr>\n",
       "  </thead>\n",
       "  <tbody>\n",
       "    <tr>\n",
       "      <th>0</th>\n",
       "      <td>female</td>\n",
       "      <td>21.0</td>\n",
       "      <td>27.0</td>\n",
       "      <td>Asian/PacificIslander/Asian-American</td>\n",
       "      <td>European/Caucasian-American</td>\n",
       "      <td>2.0</td>\n",
       "      <td>4.0</td>\n",
       "      <td>35.0</td>\n",
       "      <td>20.0</td>\n",
       "      <td>20.0</td>\n",
       "      <td>...</td>\n",
       "      <td>7.0</td>\n",
       "      <td>6.0</td>\n",
       "      <td>5.0</td>\n",
       "      <td>0.14</td>\n",
       "      <td>3.0</td>\n",
       "      <td>2.0</td>\n",
       "      <td>7.0</td>\n",
       "      <td>6.0</td>\n",
       "      <td>0.0</td>\n",
       "      <td>0</td>\n",
       "    </tr>\n",
       "    <tr>\n",
       "      <th>1</th>\n",
       "      <td>female</td>\n",
       "      <td>21.0</td>\n",
       "      <td>22.0</td>\n",
       "      <td>Asian/PacificIslander/Asian-American</td>\n",
       "      <td>European/Caucasian-American</td>\n",
       "      <td>2.0</td>\n",
       "      <td>4.0</td>\n",
       "      <td>60.0</td>\n",
       "      <td>0.0</td>\n",
       "      <td>0.0</td>\n",
       "      <td>...</td>\n",
       "      <td>8.0</td>\n",
       "      <td>5.0</td>\n",
       "      <td>6.0</td>\n",
       "      <td>0.54</td>\n",
       "      <td>3.0</td>\n",
       "      <td>2.0</td>\n",
       "      <td>7.0</td>\n",
       "      <td>5.0</td>\n",
       "      <td>1.0</td>\n",
       "      <td>0</td>\n",
       "    </tr>\n",
       "    <tr>\n",
       "      <th>2</th>\n",
       "      <td>female</td>\n",
       "      <td>21.0</td>\n",
       "      <td>22.0</td>\n",
       "      <td>Asian/PacificIslander/Asian-American</td>\n",
       "      <td>Asian/PacificIslander/Asian-American</td>\n",
       "      <td>2.0</td>\n",
       "      <td>4.0</td>\n",
       "      <td>19.0</td>\n",
       "      <td>18.0</td>\n",
       "      <td>19.0</td>\n",
       "      <td>...</td>\n",
       "      <td>8.0</td>\n",
       "      <td>5.0</td>\n",
       "      <td>7.0</td>\n",
       "      <td>0.16</td>\n",
       "      <td>3.0</td>\n",
       "      <td>2.0</td>\n",
       "      <td>7.0</td>\n",
       "      <td>NaN</td>\n",
       "      <td>1.0</td>\n",
       "      <td>1</td>\n",
       "    </tr>\n",
       "    <tr>\n",
       "      <th>3</th>\n",
       "      <td>female</td>\n",
       "      <td>21.0</td>\n",
       "      <td>23.0</td>\n",
       "      <td>Asian/PacificIslander/Asian-American</td>\n",
       "      <td>European/Caucasian-American</td>\n",
       "      <td>2.0</td>\n",
       "      <td>4.0</td>\n",
       "      <td>30.0</td>\n",
       "      <td>5.0</td>\n",
       "      <td>15.0</td>\n",
       "      <td>...</td>\n",
       "      <td>7.0</td>\n",
       "      <td>6.0</td>\n",
       "      <td>8.0</td>\n",
       "      <td>0.61</td>\n",
       "      <td>3.0</td>\n",
       "      <td>2.0</td>\n",
       "      <td>7.0</td>\n",
       "      <td>6.0</td>\n",
       "      <td>0.0</td>\n",
       "      <td>1</td>\n",
       "    </tr>\n",
       "    <tr>\n",
       "      <th>4</th>\n",
       "      <td>female</td>\n",
       "      <td>21.0</td>\n",
       "      <td>24.0</td>\n",
       "      <td>Asian/PacificIslander/Asian-American</td>\n",
       "      <td>Latino/HispanicAmerican</td>\n",
       "      <td>2.0</td>\n",
       "      <td>4.0</td>\n",
       "      <td>30.0</td>\n",
       "      <td>10.0</td>\n",
       "      <td>20.0</td>\n",
       "      <td>...</td>\n",
       "      <td>7.0</td>\n",
       "      <td>6.0</td>\n",
       "      <td>6.0</td>\n",
       "      <td>0.21</td>\n",
       "      <td>3.0</td>\n",
       "      <td>2.0</td>\n",
       "      <td>6.0</td>\n",
       "      <td>6.0</td>\n",
       "      <td>0.0</td>\n",
       "      <td>1</td>\n",
       "    </tr>\n",
       "    <tr>\n",
       "      <th>...</th>\n",
       "      <td>...</td>\n",
       "      <td>...</td>\n",
       "      <td>...</td>\n",
       "      <td>...</td>\n",
       "      <td>...</td>\n",
       "      <td>...</td>\n",
       "      <td>...</td>\n",
       "      <td>...</td>\n",
       "      <td>...</td>\n",
       "      <td>...</td>\n",
       "      <td>...</td>\n",
       "      <td>...</td>\n",
       "      <td>...</td>\n",
       "      <td>...</td>\n",
       "      <td>...</td>\n",
       "      <td>...</td>\n",
       "      <td>...</td>\n",
       "      <td>...</td>\n",
       "      <td>...</td>\n",
       "      <td>...</td>\n",
       "      <td>...</td>\n",
       "    </tr>\n",
       "    <tr>\n",
       "      <th>8373</th>\n",
       "      <td>male</td>\n",
       "      <td>25.0</td>\n",
       "      <td>26.0</td>\n",
       "      <td>European/Caucasian-American</td>\n",
       "      <td>Latino/HispanicAmerican</td>\n",
       "      <td>1.0</td>\n",
       "      <td>1.0</td>\n",
       "      <td>10.0</td>\n",
       "      <td>10.0</td>\n",
       "      <td>30.0</td>\n",
       "      <td>...</td>\n",
       "      <td>5.0</td>\n",
       "      <td>NaN</td>\n",
       "      <td>NaN</td>\n",
       "      <td>0.64</td>\n",
       "      <td>10.0</td>\n",
       "      <td>NaN</td>\n",
       "      <td>2.0</td>\n",
       "      <td>5.0</td>\n",
       "      <td>0.0</td>\n",
       "      <td>0</td>\n",
       "    </tr>\n",
       "    <tr>\n",
       "      <th>8374</th>\n",
       "      <td>male</td>\n",
       "      <td>25.0</td>\n",
       "      <td>24.0</td>\n",
       "      <td>European/Caucasian-American</td>\n",
       "      <td>Other</td>\n",
       "      <td>1.0</td>\n",
       "      <td>1.0</td>\n",
       "      <td>50.0</td>\n",
       "      <td>20.0</td>\n",
       "      <td>10.0</td>\n",
       "      <td>...</td>\n",
       "      <td>4.0</td>\n",
       "      <td>4.0</td>\n",
       "      <td>NaN</td>\n",
       "      <td>0.71</td>\n",
       "      <td>10.0</td>\n",
       "      <td>NaN</td>\n",
       "      <td>4.0</td>\n",
       "      <td>4.0</td>\n",
       "      <td>0.0</td>\n",
       "      <td>0</td>\n",
       "    </tr>\n",
       "    <tr>\n",
       "      <th>8375</th>\n",
       "      <td>male</td>\n",
       "      <td>25.0</td>\n",
       "      <td>29.0</td>\n",
       "      <td>European/Caucasian-American</td>\n",
       "      <td>Latino/HispanicAmerican</td>\n",
       "      <td>1.0</td>\n",
       "      <td>1.0</td>\n",
       "      <td>40.0</td>\n",
       "      <td>10.0</td>\n",
       "      <td>30.0</td>\n",
       "      <td>...</td>\n",
       "      <td>8.0</td>\n",
       "      <td>8.0</td>\n",
       "      <td>NaN</td>\n",
       "      <td>-0.46</td>\n",
       "      <td>10.0</td>\n",
       "      <td>NaN</td>\n",
       "      <td>6.0</td>\n",
       "      <td>5.0</td>\n",
       "      <td>0.0</td>\n",
       "      <td>0</td>\n",
       "    </tr>\n",
       "    <tr>\n",
       "      <th>8376</th>\n",
       "      <td>male</td>\n",
       "      <td>25.0</td>\n",
       "      <td>22.0</td>\n",
       "      <td>European/Caucasian-American</td>\n",
       "      <td>Asian/PacificIslander/Asian-American</td>\n",
       "      <td>1.0</td>\n",
       "      <td>1.0</td>\n",
       "      <td>10.0</td>\n",
       "      <td>25.0</td>\n",
       "      <td>25.0</td>\n",
       "      <td>...</td>\n",
       "      <td>4.0</td>\n",
       "      <td>NaN</td>\n",
       "      <td>5.0</td>\n",
       "      <td>0.62</td>\n",
       "      <td>10.0</td>\n",
       "      <td>NaN</td>\n",
       "      <td>5.0</td>\n",
       "      <td>5.0</td>\n",
       "      <td>0.0</td>\n",
       "      <td>0</td>\n",
       "    </tr>\n",
       "    <tr>\n",
       "      <th>8377</th>\n",
       "      <td>male</td>\n",
       "      <td>25.0</td>\n",
       "      <td>22.0</td>\n",
       "      <td>European/Caucasian-American</td>\n",
       "      <td>Asian/PacificIslander/Asian-American</td>\n",
       "      <td>1.0</td>\n",
       "      <td>1.0</td>\n",
       "      <td>20.0</td>\n",
       "      <td>20.0</td>\n",
       "      <td>10.0</td>\n",
       "      <td>...</td>\n",
       "      <td>4.0</td>\n",
       "      <td>8.0</td>\n",
       "      <td>1.0</td>\n",
       "      <td>0.01</td>\n",
       "      <td>10.0</td>\n",
       "      <td>NaN</td>\n",
       "      <td>4.0</td>\n",
       "      <td>5.0</td>\n",
       "      <td>0.0</td>\n",
       "      <td>0</td>\n",
       "    </tr>\n",
       "  </tbody>\n",
       "</table>\n",
       "<p>8378 rows × 38 columns</p>\n",
       "</div>"
      ],
      "text/plain": [
       "      gender   age  age_o                                  race  \\\n",
       "0     female  21.0   27.0  Asian/PacificIslander/Asian-American   \n",
       "1     female  21.0   22.0  Asian/PacificIslander/Asian-American   \n",
       "2     female  21.0   22.0  Asian/PacificIslander/Asian-American   \n",
       "3     female  21.0   23.0  Asian/PacificIslander/Asian-American   \n",
       "4     female  21.0   24.0  Asian/PacificIslander/Asian-American   \n",
       "...      ...   ...    ...                                   ...   \n",
       "8373    male  25.0   26.0           European/Caucasian-American   \n",
       "8374    male  25.0   24.0           European/Caucasian-American   \n",
       "8375    male  25.0   29.0           European/Caucasian-American   \n",
       "8376    male  25.0   22.0           European/Caucasian-American   \n",
       "8377    male  25.0   22.0           European/Caucasian-American   \n",
       "\n",
       "                                    race_o  importance_same_race  \\\n",
       "0              European/Caucasian-American                   2.0   \n",
       "1              European/Caucasian-American                   2.0   \n",
       "2     Asian/PacificIslander/Asian-American                   2.0   \n",
       "3              European/Caucasian-American                   2.0   \n",
       "4                  Latino/HispanicAmerican                   2.0   \n",
       "...                                    ...                   ...   \n",
       "8373               Latino/HispanicAmerican                   1.0   \n",
       "8374                                 Other                   1.0   \n",
       "8375               Latino/HispanicAmerican                   1.0   \n",
       "8376  Asian/PacificIslander/Asian-American                   1.0   \n",
       "8377  Asian/PacificIslander/Asian-American                   1.0   \n",
       "\n",
       "      importance_same_religion  pref_o_attractive  pref_o_sincere  \\\n",
       "0                          4.0               35.0            20.0   \n",
       "1                          4.0               60.0             0.0   \n",
       "2                          4.0               19.0            18.0   \n",
       "3                          4.0               30.0             5.0   \n",
       "4                          4.0               30.0            10.0   \n",
       "...                        ...                ...             ...   \n",
       "8373                       1.0               10.0            10.0   \n",
       "8374                       1.0               50.0            20.0   \n",
       "8375                       1.0               40.0            10.0   \n",
       "8376                       1.0               10.0            25.0   \n",
       "8377                       1.0               20.0            20.0   \n",
       "\n",
       "      pref_o_intelligence  ...  funny_partner  ambition_partner  \\\n",
       "0                    20.0  ...            7.0               6.0   \n",
       "1                     0.0  ...            8.0               5.0   \n",
       "2                    19.0  ...            8.0               5.0   \n",
       "3                    15.0  ...            7.0               6.0   \n",
       "4                    20.0  ...            7.0               6.0   \n",
       "...                   ...  ...            ...               ...   \n",
       "8373                 30.0  ...            5.0               NaN   \n",
       "8374                 10.0  ...            4.0               4.0   \n",
       "8375                 30.0  ...            8.0               8.0   \n",
       "8376                 25.0  ...            4.0               NaN   \n",
       "8377                 10.0  ...            4.0               8.0   \n",
       "\n",
       "      shared_interests_partner  interests_correlate  \\\n",
       "0                          5.0                 0.14   \n",
       "1                          6.0                 0.54   \n",
       "2                          7.0                 0.16   \n",
       "3                          8.0                 0.61   \n",
       "4                          6.0                 0.21   \n",
       "...                        ...                  ...   \n",
       "8373                       NaN                 0.64   \n",
       "8374                       NaN                 0.71   \n",
       "8375                       NaN                -0.46   \n",
       "8376                       5.0                 0.62   \n",
       "8377                       1.0                 0.01   \n",
       "\n",
       "      expected_happy_with_sd_people  expected_num_interested_in_me  like  \\\n",
       "0                               3.0                            2.0   7.0   \n",
       "1                               3.0                            2.0   7.0   \n",
       "2                               3.0                            2.0   7.0   \n",
       "3                               3.0                            2.0   7.0   \n",
       "4                               3.0                            2.0   6.0   \n",
       "...                             ...                            ...   ...   \n",
       "8373                           10.0                            NaN   2.0   \n",
       "8374                           10.0                            NaN   4.0   \n",
       "8375                           10.0                            NaN   6.0   \n",
       "8376                           10.0                            NaN   5.0   \n",
       "8377                           10.0                            NaN   4.0   \n",
       "\n",
       "      guess_prob_liked  met  match  \n",
       "0                  6.0  0.0      0  \n",
       "1                  5.0  1.0      0  \n",
       "2                  NaN  1.0      1  \n",
       "3                  6.0  0.0      1  \n",
       "4                  6.0  0.0      1  \n",
       "...                ...  ...    ...  \n",
       "8373               5.0  0.0      0  \n",
       "8374               4.0  0.0      0  \n",
       "8375               5.0  0.0      0  \n",
       "8376               5.0  0.0      0  \n",
       "8377               5.0  0.0      0  \n",
       "\n",
       "[8378 rows x 38 columns]"
      ]
     },
     "execution_count": 184,
     "metadata": {},
     "output_type": "execute_result"
    }
   ],
   "source": [
    "data1"
   ]
  },
  {
   "cell_type": "code",
   "execution_count": 185,
   "id": "58142a76",
   "metadata": {
    "ExecuteTime": {
     "end_time": "2023-10-31T00:31:24.242267Z",
     "start_time": "2023-10-31T00:31:24.230940Z"
    }
   },
   "outputs": [
    {
     "data": {
      "text/plain": [
       "Index(['gender', 'age', 'age_o', 'race', 'race_o', 'importance_same_race',\n",
       "       'importance_same_religion', 'pref_o_attractive', 'pref_o_sincere',\n",
       "       'pref_o_intelligence', 'pref_o_funny', 'pref_o_ambitious',\n",
       "       'pref_o_shared_interests', 'attractive_o', 'sincere_o',\n",
       "       'intelligence_o', 'funny_o', 'ambitous_o', 'shared_interests_o',\n",
       "       'attractive_important', 'sincere_important', 'intellicence_important',\n",
       "       'funny_important', 'ambtition_important', 'shared_interests_important',\n",
       "       'attractive_partner', 'sincere_partner', 'intelligence_partner',\n",
       "       'funny_partner', 'ambition_partner', 'shared_interests_partner',\n",
       "       'interests_correlate', 'expected_happy_with_sd_people',\n",
       "       'expected_num_interested_in_me', 'like', 'guess_prob_liked', 'met',\n",
       "       'match'],\n",
       "      dtype='object')"
      ]
     },
     "execution_count": 185,
     "metadata": {},
     "output_type": "execute_result"
    }
   ],
   "source": [
    "data1.columns"
   ]
  },
  {
   "cell_type": "code",
   "execution_count": 186,
   "id": "8bdcbe25",
   "metadata": {
    "ExecuteTime": {
     "end_time": "2023-10-31T00:34:01.699771Z",
     "start_time": "2023-10-31T00:34:01.690714Z"
    }
   },
   "outputs": [],
   "source": [
    "data1 = data1.dropna(subset = ['pref_o_attractive', 'pref_o_sincere',\n",
    "       'pref_o_intelligence', 'pref_o_funny', 'pref_o_ambitious',\n",
    "       'pref_o_shared_interests','attractive_important', 'sincere_important', 'intellicence_important',\n",
    "       'funny_important', 'ambtition_important', 'shared_interests_important'])"
   ]
  },
  {
   "cell_type": "code",
   "execution_count": 190,
   "id": "96e93daf",
   "metadata": {
    "ExecuteTime": {
     "end_time": "2023-10-31T00:36:27.643698Z",
     "start_time": "2023-10-31T00:36:27.635138Z"
    }
   },
   "outputs": [],
   "source": [
    "data1 = data1.fillna(-99)"
   ]
  },
  {
   "cell_type": "code",
   "execution_count": 192,
   "id": "89e1bd3e",
   "metadata": {
    "ExecuteTime": {
     "end_time": "2023-10-31T00:42:31.738178Z",
     "start_time": "2023-10-31T00:42:31.719988Z"
    }
   },
   "outputs": [],
   "source": [
    "def age_gap(x):\n",
    "    if x['age'] == -99:\n",
    "        return -99\n",
    "    elif x['age_o'] == -99:\n",
    "        return -99\n",
    "    elif x['gender'] == 'female':\n",
    "        return x['age_o'] - x['age']\n",
    "    else:\n",
    "        return x['age'] - x['age_o']"
   ]
  },
  {
   "cell_type": "code",
   "execution_count": 193,
   "id": "4d0fc879",
   "metadata": {
    "ExecuteTime": {
     "end_time": "2023-10-31T00:46:03.909134Z",
     "start_time": "2023-10-31T00:46:03.771894Z"
    }
   },
   "outputs": [],
   "source": [
    "data1['age_gap'] = data1.apply(age_gap , axis = 1)\n",
    "data1['age_gap_abs'] = abs(data1['age_gap'])"
   ]
  },
  {
   "cell_type": "code",
   "execution_count": 194,
   "id": "1e3ebd3b",
   "metadata": {
    "ExecuteTime": {
     "end_time": "2023-10-31T00:51:07.428011Z",
     "start_time": "2023-10-31T00:51:07.411034Z"
    }
   },
   "outputs": [],
   "source": [
    "def same_race(x):\n",
    "    if x['race'] == -99:\n",
    "        return -99\n",
    "    elif x['race_o'] == -99:\n",
    "        return -99\n",
    "    elif x['race'] == x['race_o']:\n",
    "        return 1\n",
    "    else:\n",
    "        return -1"
   ]
  },
  {
   "cell_type": "code",
   "execution_count": 195,
   "id": "34c7c709",
   "metadata": {
    "ExecuteTime": {
     "end_time": "2023-10-31T00:51:24.940168Z",
     "start_time": "2023-10-31T00:51:24.817239Z"
    }
   },
   "outputs": [],
   "source": [
    "data1['same_race'] = data1.apply(same_race , axis = 1)"
   ]
  },
  {
   "cell_type": "code",
   "execution_count": 196,
   "id": "088f30d8",
   "metadata": {
    "ExecuteTime": {
     "end_time": "2023-10-31T00:52:39.783307Z",
     "start_time": "2023-10-31T00:52:39.775165Z"
    }
   },
   "outputs": [],
   "source": [
    "def same_race_point(x):\n",
    "    if x['same_race'] == -99:\n",
    "        return -99\n",
    "    else:\n",
    "        return x['same_race'] * x['importance_same_race']"
   ]
  },
  {
   "cell_type": "code",
   "execution_count": 197,
   "id": "003ce781",
   "metadata": {
    "ExecuteTime": {
     "end_time": "2023-10-31T00:53:46.828209Z",
     "start_time": "2023-10-31T00:53:46.713593Z"
    }
   },
   "outputs": [],
   "source": [
    "data1['same_race_point'] = data1.apply(same_race_point , axis = 1)"
   ]
  },
  {
   "cell_type": "code",
   "execution_count": 206,
   "id": "d7360454",
   "metadata": {
    "ExecuteTime": {
     "end_time": "2023-10-31T01:26:24.871824Z",
     "start_time": "2023-10-31T01:26:24.852797Z"
    }
   },
   "outputs": [],
   "source": [
    "def rating(data1 , importance , score):\n",
    "    if data1[importance] == -99:\n",
    "        return -99\n",
    "    elif data1[score] == -99:\n",
    "        return -99\n",
    "    else:\n",
    "        return data1[importance] * data1[score]"
   ]
  },
  {
   "cell_type": "code",
   "execution_count": 199,
   "id": "e3171775",
   "metadata": {
    "ExecuteTime": {
     "end_time": "2023-10-31T01:07:45.987188Z",
     "start_time": "2023-10-31T01:07:45.977788Z"
    }
   },
   "outputs": [
    {
     "data": {
      "text/plain": [
       "Index(['gender', 'age', 'age_o', 'race', 'race_o', 'importance_same_race',\n",
       "       'importance_same_religion', 'pref_o_attractive', 'pref_o_sincere',\n",
       "       'pref_o_intelligence', 'pref_o_funny', 'pref_o_ambitious',\n",
       "       'pref_o_shared_interests', 'attractive_o', 'sincere_o',\n",
       "       'intelligence_o', 'funny_o', 'ambitous_o', 'shared_interests_o',\n",
       "       'attractive_important', 'sincere_important', 'intellicence_important',\n",
       "       'funny_important', 'ambtition_important', 'shared_interests_important',\n",
       "       'attractive_partner', 'sincere_partner', 'intelligence_partner',\n",
       "       'funny_partner', 'ambition_partner', 'shared_interests_partner',\n",
       "       'interests_correlate', 'expected_happy_with_sd_people',\n",
       "       'expected_num_interested_in_me', 'like', 'guess_prob_liked', 'met',\n",
       "       'match', 'age_gap', 'age_gap_abs', 'same_race', 'same_race_point'],\n",
       "      dtype='object')"
      ]
     },
     "execution_count": 199,
     "metadata": {},
     "output_type": "execute_result"
    }
   ],
   "source": [
    "data1.columns"
   ]
  },
  {
   "cell_type": "code",
   "execution_count": 202,
   "id": "a625a4e9",
   "metadata": {
    "ExecuteTime": {
     "end_time": "2023-10-31T01:13:11.071081Z",
     "start_time": "2023-10-31T01:13:11.059082Z"
    }
   },
   "outputs": [],
   "source": [
    "partner_imp = data1.columns[7:13]\n",
    "partner_rate_me = data1.columns[13:19]\n",
    "my_imp = data1.columns[19:25]\n",
    "my_rate = data1.columns[25:31]"
   ]
  },
  {
   "cell_type": "markdown",
   "id": "70665de2",
   "metadata": {},
   "source": [
    " 'attractive_p', 'sincere_p', 'intellicence_p',\n",
    "       'funny_p', 'ambtition_p', 'shared_interests_p'"
   ]
  },
  {
   "cell_type": "code",
   "execution_count": 203,
   "id": "13df273a",
   "metadata": {
    "ExecuteTime": {
     "end_time": "2023-10-31T01:16:20.481581Z",
     "start_time": "2023-10-31T01:16:20.468285Z"
    }
   },
   "outputs": [],
   "source": [
    "new_label_partner = ['attractive_p', 'sincere_p', 'intellicence_p', 'funny_p', 'ambtition_p', 'shared_interests_p']\n",
    "new_label_me = ['attractive_m', 'sincere_m', 'intellicence_m', 'funny_m', 'ambtition_m', 'shared_interests_m']"
   ]
  },
  {
   "cell_type": "code",
   "execution_count": 207,
   "id": "9a20128a",
   "metadata": {
    "ExecuteTime": {
     "end_time": "2023-10-31T01:26:28.235232Z",
     "start_time": "2023-10-31T01:26:27.594900Z"
    }
   },
   "outputs": [],
   "source": [
    "for i , j , k in zip(new_label_partner , partner_imp , partner_rate_me):\n",
    "    data1[i] = data1.apply(lambda x : rating(x,j,k) , axis = 1)"
   ]
  },
  {
   "cell_type": "code",
   "execution_count": 208,
   "id": "f19062e1",
   "metadata": {
    "ExecuteTime": {
     "end_time": "2023-10-31T01:26:53.104136Z",
     "start_time": "2023-10-31T01:26:52.458161Z"
    }
   },
   "outputs": [],
   "source": [
    "for i , j , k in zip(new_label_me , my_imp , my_rate):\n",
    "    data1[i] = data1.apply(lambda x : rating(x,j,k) , axis = 1)"
   ]
  },
  {
   "cell_type": "code",
   "execution_count": 209,
   "id": "b413157a",
   "metadata": {
    "ExecuteTime": {
     "end_time": "2023-10-31T01:29:04.200649Z",
     "start_time": "2023-10-31T01:29:04.176466Z"
    }
   },
   "outputs": [],
   "source": [
    "data1 = pd.get_dummies(data1 , columns = ['gender','race','race_o'] , drop_first = True)"
   ]
  },
  {
   "cell_type": "code",
   "execution_count": 210,
   "id": "d2f568a2",
   "metadata": {
    "ExecuteTime": {
     "end_time": "2023-10-31T01:29:06.635473Z",
     "start_time": "2023-10-31T01:29:06.605884Z"
    }
   },
   "outputs": [
    {
     "data": {
      "text/html": [
       "<div>\n",
       "<style scoped>\n",
       "    .dataframe tbody tr th:only-of-type {\n",
       "        vertical-align: middle;\n",
       "    }\n",
       "\n",
       "    .dataframe tbody tr th {\n",
       "        vertical-align: top;\n",
       "    }\n",
       "\n",
       "    .dataframe thead th {\n",
       "        text-align: right;\n",
       "    }\n",
       "</style>\n",
       "<table border=\"1\" class=\"dataframe\">\n",
       "  <thead>\n",
       "    <tr style=\"text-align: right;\">\n",
       "      <th></th>\n",
       "      <th>age</th>\n",
       "      <th>age_o</th>\n",
       "      <th>importance_same_race</th>\n",
       "      <th>importance_same_religion</th>\n",
       "      <th>pref_o_attractive</th>\n",
       "      <th>pref_o_sincere</th>\n",
       "      <th>pref_o_intelligence</th>\n",
       "      <th>pref_o_funny</th>\n",
       "      <th>pref_o_ambitious</th>\n",
       "      <th>pref_o_shared_interests</th>\n",
       "      <th>...</th>\n",
       "      <th>shared_interests_m</th>\n",
       "      <th>gender_male</th>\n",
       "      <th>race_Black/AfricanAmerican</th>\n",
       "      <th>race_European/Caucasian-American</th>\n",
       "      <th>race_Latino/HispanicAmerican</th>\n",
       "      <th>race_Other</th>\n",
       "      <th>race_o_Black/AfricanAmerican</th>\n",
       "      <th>race_o_European/Caucasian-American</th>\n",
       "      <th>race_o_Latino/HispanicAmerican</th>\n",
       "      <th>race_o_Other</th>\n",
       "    </tr>\n",
       "  </thead>\n",
       "  <tbody>\n",
       "    <tr>\n",
       "      <th>0</th>\n",
       "      <td>21.0</td>\n",
       "      <td>27.0</td>\n",
       "      <td>2.0</td>\n",
       "      <td>4.0</td>\n",
       "      <td>35.0</td>\n",
       "      <td>20.0</td>\n",
       "      <td>20.0</td>\n",
       "      <td>20.0</td>\n",
       "      <td>0.0</td>\n",
       "      <td>5.0</td>\n",
       "      <td>...</td>\n",
       "      <td>75.0</td>\n",
       "      <td>0</td>\n",
       "      <td>0</td>\n",
       "      <td>0</td>\n",
       "      <td>0</td>\n",
       "      <td>0</td>\n",
       "      <td>0</td>\n",
       "      <td>1</td>\n",
       "      <td>0</td>\n",
       "      <td>0</td>\n",
       "    </tr>\n",
       "    <tr>\n",
       "      <th>1</th>\n",
       "      <td>21.0</td>\n",
       "      <td>22.0</td>\n",
       "      <td>2.0</td>\n",
       "      <td>4.0</td>\n",
       "      <td>60.0</td>\n",
       "      <td>0.0</td>\n",
       "      <td>0.0</td>\n",
       "      <td>40.0</td>\n",
       "      <td>0.0</td>\n",
       "      <td>0.0</td>\n",
       "      <td>...</td>\n",
       "      <td>90.0</td>\n",
       "      <td>0</td>\n",
       "      <td>0</td>\n",
       "      <td>0</td>\n",
       "      <td>0</td>\n",
       "      <td>0</td>\n",
       "      <td>0</td>\n",
       "      <td>1</td>\n",
       "      <td>0</td>\n",
       "      <td>0</td>\n",
       "    </tr>\n",
       "    <tr>\n",
       "      <th>2</th>\n",
       "      <td>21.0</td>\n",
       "      <td>22.0</td>\n",
       "      <td>2.0</td>\n",
       "      <td>4.0</td>\n",
       "      <td>19.0</td>\n",
       "      <td>18.0</td>\n",
       "      <td>19.0</td>\n",
       "      <td>18.0</td>\n",
       "      <td>14.0</td>\n",
       "      <td>12.0</td>\n",
       "      <td>...</td>\n",
       "      <td>105.0</td>\n",
       "      <td>0</td>\n",
       "      <td>0</td>\n",
       "      <td>0</td>\n",
       "      <td>0</td>\n",
       "      <td>0</td>\n",
       "      <td>0</td>\n",
       "      <td>0</td>\n",
       "      <td>0</td>\n",
       "      <td>0</td>\n",
       "    </tr>\n",
       "    <tr>\n",
       "      <th>3</th>\n",
       "      <td>21.0</td>\n",
       "      <td>23.0</td>\n",
       "      <td>2.0</td>\n",
       "      <td>4.0</td>\n",
       "      <td>30.0</td>\n",
       "      <td>5.0</td>\n",
       "      <td>15.0</td>\n",
       "      <td>40.0</td>\n",
       "      <td>5.0</td>\n",
       "      <td>5.0</td>\n",
       "      <td>...</td>\n",
       "      <td>120.0</td>\n",
       "      <td>0</td>\n",
       "      <td>0</td>\n",
       "      <td>0</td>\n",
       "      <td>0</td>\n",
       "      <td>0</td>\n",
       "      <td>0</td>\n",
       "      <td>1</td>\n",
       "      <td>0</td>\n",
       "      <td>0</td>\n",
       "    </tr>\n",
       "    <tr>\n",
       "      <th>4</th>\n",
       "      <td>21.0</td>\n",
       "      <td>24.0</td>\n",
       "      <td>2.0</td>\n",
       "      <td>4.0</td>\n",
       "      <td>30.0</td>\n",
       "      <td>10.0</td>\n",
       "      <td>20.0</td>\n",
       "      <td>10.0</td>\n",
       "      <td>10.0</td>\n",
       "      <td>20.0</td>\n",
       "      <td>...</td>\n",
       "      <td>90.0</td>\n",
       "      <td>0</td>\n",
       "      <td>0</td>\n",
       "      <td>0</td>\n",
       "      <td>0</td>\n",
       "      <td>0</td>\n",
       "      <td>0</td>\n",
       "      <td>0</td>\n",
       "      <td>1</td>\n",
       "      <td>0</td>\n",
       "    </tr>\n",
       "    <tr>\n",
       "      <th>...</th>\n",
       "      <td>...</td>\n",
       "      <td>...</td>\n",
       "      <td>...</td>\n",
       "      <td>...</td>\n",
       "      <td>...</td>\n",
       "      <td>...</td>\n",
       "      <td>...</td>\n",
       "      <td>...</td>\n",
       "      <td>...</td>\n",
       "      <td>...</td>\n",
       "      <td>...</td>\n",
       "      <td>...</td>\n",
       "      <td>...</td>\n",
       "      <td>...</td>\n",
       "      <td>...</td>\n",
       "      <td>...</td>\n",
       "      <td>...</td>\n",
       "      <td>...</td>\n",
       "      <td>...</td>\n",
       "      <td>...</td>\n",
       "      <td>...</td>\n",
       "    </tr>\n",
       "    <tr>\n",
       "      <th>8372</th>\n",
       "      <td>25.0</td>\n",
       "      <td>24.0</td>\n",
       "      <td>1.0</td>\n",
       "      <td>1.0</td>\n",
       "      <td>10.0</td>\n",
       "      <td>15.0</td>\n",
       "      <td>30.0</td>\n",
       "      <td>20.0</td>\n",
       "      <td>15.0</td>\n",
       "      <td>10.0</td>\n",
       "      <td>...</td>\n",
       "      <td>-99.0</td>\n",
       "      <td>1</td>\n",
       "      <td>0</td>\n",
       "      <td>1</td>\n",
       "      <td>0</td>\n",
       "      <td>0</td>\n",
       "      <td>0</td>\n",
       "      <td>1</td>\n",
       "      <td>0</td>\n",
       "      <td>0</td>\n",
       "    </tr>\n",
       "    <tr>\n",
       "      <th>8373</th>\n",
       "      <td>25.0</td>\n",
       "      <td>26.0</td>\n",
       "      <td>1.0</td>\n",
       "      <td>1.0</td>\n",
       "      <td>10.0</td>\n",
       "      <td>10.0</td>\n",
       "      <td>30.0</td>\n",
       "      <td>20.0</td>\n",
       "      <td>10.0</td>\n",
       "      <td>15.0</td>\n",
       "      <td>...</td>\n",
       "      <td>-99.0</td>\n",
       "      <td>1</td>\n",
       "      <td>0</td>\n",
       "      <td>1</td>\n",
       "      <td>0</td>\n",
       "      <td>0</td>\n",
       "      <td>0</td>\n",
       "      <td>0</td>\n",
       "      <td>1</td>\n",
       "      <td>0</td>\n",
       "    </tr>\n",
       "    <tr>\n",
       "      <th>8374</th>\n",
       "      <td>25.0</td>\n",
       "      <td>24.0</td>\n",
       "      <td>1.0</td>\n",
       "      <td>1.0</td>\n",
       "      <td>50.0</td>\n",
       "      <td>20.0</td>\n",
       "      <td>10.0</td>\n",
       "      <td>5.0</td>\n",
       "      <td>10.0</td>\n",
       "      <td>5.0</td>\n",
       "      <td>...</td>\n",
       "      <td>-99.0</td>\n",
       "      <td>1</td>\n",
       "      <td>0</td>\n",
       "      <td>1</td>\n",
       "      <td>0</td>\n",
       "      <td>0</td>\n",
       "      <td>0</td>\n",
       "      <td>0</td>\n",
       "      <td>0</td>\n",
       "      <td>1</td>\n",
       "    </tr>\n",
       "    <tr>\n",
       "      <th>8376</th>\n",
       "      <td>25.0</td>\n",
       "      <td>22.0</td>\n",
       "      <td>1.0</td>\n",
       "      <td>1.0</td>\n",
       "      <td>10.0</td>\n",
       "      <td>25.0</td>\n",
       "      <td>25.0</td>\n",
       "      <td>10.0</td>\n",
       "      <td>10.0</td>\n",
       "      <td>20.0</td>\n",
       "      <td>...</td>\n",
       "      <td>0.0</td>\n",
       "      <td>1</td>\n",
       "      <td>0</td>\n",
       "      <td>1</td>\n",
       "      <td>0</td>\n",
       "      <td>0</td>\n",
       "      <td>0</td>\n",
       "      <td>0</td>\n",
       "      <td>0</td>\n",
       "      <td>0</td>\n",
       "    </tr>\n",
       "    <tr>\n",
       "      <th>8377</th>\n",
       "      <td>25.0</td>\n",
       "      <td>22.0</td>\n",
       "      <td>1.0</td>\n",
       "      <td>1.0</td>\n",
       "      <td>20.0</td>\n",
       "      <td>20.0</td>\n",
       "      <td>10.0</td>\n",
       "      <td>15.0</td>\n",
       "      <td>5.0</td>\n",
       "      <td>30.0</td>\n",
       "      <td>...</td>\n",
       "      <td>0.0</td>\n",
       "      <td>1</td>\n",
       "      <td>0</td>\n",
       "      <td>1</td>\n",
       "      <td>0</td>\n",
       "      <td>0</td>\n",
       "      <td>0</td>\n",
       "      <td>0</td>\n",
       "      <td>0</td>\n",
       "      <td>0</td>\n",
       "    </tr>\n",
       "  </tbody>\n",
       "</table>\n",
       "<p>8130 rows × 60 columns</p>\n",
       "</div>"
      ],
      "text/plain": [
       "       age  age_o  importance_same_race  importance_same_religion  \\\n",
       "0     21.0   27.0                   2.0                       4.0   \n",
       "1     21.0   22.0                   2.0                       4.0   \n",
       "2     21.0   22.0                   2.0                       4.0   \n",
       "3     21.0   23.0                   2.0                       4.0   \n",
       "4     21.0   24.0                   2.0                       4.0   \n",
       "...    ...    ...                   ...                       ...   \n",
       "8372  25.0   24.0                   1.0                       1.0   \n",
       "8373  25.0   26.0                   1.0                       1.0   \n",
       "8374  25.0   24.0                   1.0                       1.0   \n",
       "8376  25.0   22.0                   1.0                       1.0   \n",
       "8377  25.0   22.0                   1.0                       1.0   \n",
       "\n",
       "      pref_o_attractive  pref_o_sincere  pref_o_intelligence  pref_o_funny  \\\n",
       "0                  35.0            20.0                 20.0          20.0   \n",
       "1                  60.0             0.0                  0.0          40.0   \n",
       "2                  19.0            18.0                 19.0          18.0   \n",
       "3                  30.0             5.0                 15.0          40.0   \n",
       "4                  30.0            10.0                 20.0          10.0   \n",
       "...                 ...             ...                  ...           ...   \n",
       "8372               10.0            15.0                 30.0          20.0   \n",
       "8373               10.0            10.0                 30.0          20.0   \n",
       "8374               50.0            20.0                 10.0           5.0   \n",
       "8376               10.0            25.0                 25.0          10.0   \n",
       "8377               20.0            20.0                 10.0          15.0   \n",
       "\n",
       "      pref_o_ambitious  pref_o_shared_interests  ...  shared_interests_m  \\\n",
       "0                  0.0                      5.0  ...                75.0   \n",
       "1                  0.0                      0.0  ...                90.0   \n",
       "2                 14.0                     12.0  ...               105.0   \n",
       "3                  5.0                      5.0  ...               120.0   \n",
       "4                 10.0                     20.0  ...                90.0   \n",
       "...                ...                      ...  ...                 ...   \n",
       "8372              15.0                     10.0  ...               -99.0   \n",
       "8373              10.0                     15.0  ...               -99.0   \n",
       "8374              10.0                      5.0  ...               -99.0   \n",
       "8376              10.0                     20.0  ...                 0.0   \n",
       "8377               5.0                     30.0  ...                 0.0   \n",
       "\n",
       "      gender_male  race_Black/AfricanAmerican  \\\n",
       "0               0                           0   \n",
       "1               0                           0   \n",
       "2               0                           0   \n",
       "3               0                           0   \n",
       "4               0                           0   \n",
       "...           ...                         ...   \n",
       "8372            1                           0   \n",
       "8373            1                           0   \n",
       "8374            1                           0   \n",
       "8376            1                           0   \n",
       "8377            1                           0   \n",
       "\n",
       "      race_European/Caucasian-American  race_Latino/HispanicAmerican  \\\n",
       "0                                    0                             0   \n",
       "1                                    0                             0   \n",
       "2                                    0                             0   \n",
       "3                                    0                             0   \n",
       "4                                    0                             0   \n",
       "...                                ...                           ...   \n",
       "8372                                 1                             0   \n",
       "8373                                 1                             0   \n",
       "8374                                 1                             0   \n",
       "8376                                 1                             0   \n",
       "8377                                 1                             0   \n",
       "\n",
       "      race_Other  race_o_Black/AfricanAmerican  \\\n",
       "0              0                             0   \n",
       "1              0                             0   \n",
       "2              0                             0   \n",
       "3              0                             0   \n",
       "4              0                             0   \n",
       "...          ...                           ...   \n",
       "8372           0                             0   \n",
       "8373           0                             0   \n",
       "8374           0                             0   \n",
       "8376           0                             0   \n",
       "8377           0                             0   \n",
       "\n",
       "      race_o_European/Caucasian-American  race_o_Latino/HispanicAmerican  \\\n",
       "0                                      1                               0   \n",
       "1                                      1                               0   \n",
       "2                                      0                               0   \n",
       "3                                      1                               0   \n",
       "4                                      0                               1   \n",
       "...                                  ...                             ...   \n",
       "8372                                   1                               0   \n",
       "8373                                   0                               1   \n",
       "8374                                   0                               0   \n",
       "8376                                   0                               0   \n",
       "8377                                   0                               0   \n",
       "\n",
       "      race_o_Other  \n",
       "0                0  \n",
       "1                0  \n",
       "2                0  \n",
       "3                0  \n",
       "4                0  \n",
       "...            ...  \n",
       "8372             0  \n",
       "8373             0  \n",
       "8374             1  \n",
       "8376             0  \n",
       "8377             0  \n",
       "\n",
       "[8130 rows x 60 columns]"
      ]
     },
     "execution_count": 210,
     "metadata": {},
     "output_type": "execute_result"
    }
   ],
   "source": [
    "data1"
   ]
  },
  {
   "cell_type": "code",
   "execution_count": 213,
   "id": "2a5c2175",
   "metadata": {
    "ExecuteTime": {
     "end_time": "2023-10-31T01:35:51.618878Z",
     "start_time": "2023-10-31T01:35:51.601160Z"
    }
   },
   "outputs": [],
   "source": [
    "from sklearn.model_selection import train_test_split\n",
    "\n",
    "x_train , x_test , y_train , y_test = train_test_split(data1.drop('match' , axis = 1) , data1['match'] , test_size = 0.2 , random_state = 100)"
   ]
  },
  {
   "cell_type": "code",
   "execution_count": 214,
   "id": "207ba7e6",
   "metadata": {
    "ExecuteTime": {
     "end_time": "2023-10-31T01:37:04.606111Z",
     "start_time": "2023-10-31T01:37:04.599710Z"
    }
   },
   "outputs": [],
   "source": [
    "import xgboost as xgb"
   ]
  },
  {
   "cell_type": "code",
   "execution_count": 215,
   "id": "ccc5d80b",
   "metadata": {
    "ExecuteTime": {
     "end_time": "2023-10-31T01:39:10.913859Z",
     "start_time": "2023-10-31T01:39:09.482478Z"
    }
   },
   "outputs": [
    {
     "data": {
      "text/html": [
       "<style>#sk-container-id-9 {color: black;}#sk-container-id-9 pre{padding: 0;}#sk-container-id-9 div.sk-toggleable {background-color: white;}#sk-container-id-9 label.sk-toggleable__label {cursor: pointer;display: block;width: 100%;margin-bottom: 0;padding: 0.3em;box-sizing: border-box;text-align: center;}#sk-container-id-9 label.sk-toggleable__label-arrow:before {content: \"▸\";float: left;margin-right: 0.25em;color: #696969;}#sk-container-id-9 label.sk-toggleable__label-arrow:hover:before {color: black;}#sk-container-id-9 div.sk-estimator:hover label.sk-toggleable__label-arrow:before {color: black;}#sk-container-id-9 div.sk-toggleable__content {max-height: 0;max-width: 0;overflow: hidden;text-align: left;background-color: #f0f8ff;}#sk-container-id-9 div.sk-toggleable__content pre {margin: 0.2em;color: black;border-radius: 0.25em;background-color: #f0f8ff;}#sk-container-id-9 input.sk-toggleable__control:checked~div.sk-toggleable__content {max-height: 200px;max-width: 100%;overflow: auto;}#sk-container-id-9 input.sk-toggleable__control:checked~label.sk-toggleable__label-arrow:before {content: \"▾\";}#sk-container-id-9 div.sk-estimator input.sk-toggleable__control:checked~label.sk-toggleable__label {background-color: #d4ebff;}#sk-container-id-9 div.sk-label input.sk-toggleable__control:checked~label.sk-toggleable__label {background-color: #d4ebff;}#sk-container-id-9 input.sk-hidden--visually {border: 0;clip: rect(1px 1px 1px 1px);clip: rect(1px, 1px, 1px, 1px);height: 1px;margin: -1px;overflow: hidden;padding: 0;position: absolute;width: 1px;}#sk-container-id-9 div.sk-estimator {font-family: monospace;background-color: #f0f8ff;border: 1px dotted black;border-radius: 0.25em;box-sizing: border-box;margin-bottom: 0.5em;}#sk-container-id-9 div.sk-estimator:hover {background-color: #d4ebff;}#sk-container-id-9 div.sk-parallel-item::after {content: \"\";width: 100%;border-bottom: 1px solid gray;flex-grow: 1;}#sk-container-id-9 div.sk-label:hover label.sk-toggleable__label {background-color: #d4ebff;}#sk-container-id-9 div.sk-serial::before {content: \"\";position: absolute;border-left: 1px solid gray;box-sizing: border-box;top: 0;bottom: 0;left: 50%;z-index: 0;}#sk-container-id-9 div.sk-serial {display: flex;flex-direction: column;align-items: center;background-color: white;padding-right: 0.2em;padding-left: 0.2em;position: relative;}#sk-container-id-9 div.sk-item {position: relative;z-index: 1;}#sk-container-id-9 div.sk-parallel {display: flex;align-items: stretch;justify-content: center;background-color: white;position: relative;}#sk-container-id-9 div.sk-item::before, #sk-container-id-9 div.sk-parallel-item::before {content: \"\";position: absolute;border-left: 1px solid gray;box-sizing: border-box;top: 0;bottom: 0;left: 50%;z-index: -1;}#sk-container-id-9 div.sk-parallel-item {display: flex;flex-direction: column;z-index: 1;position: relative;background-color: white;}#sk-container-id-9 div.sk-parallel-item:first-child::after {align-self: flex-end;width: 50%;}#sk-container-id-9 div.sk-parallel-item:last-child::after {align-self: flex-start;width: 50%;}#sk-container-id-9 div.sk-parallel-item:only-child::after {width: 0;}#sk-container-id-9 div.sk-dashed-wrapped {border: 1px dashed gray;margin: 0 0.4em 0.5em 0.4em;box-sizing: border-box;padding-bottom: 0.4em;background-color: white;}#sk-container-id-9 div.sk-label label {font-family: monospace;font-weight: bold;display: inline-block;line-height: 1.2em;}#sk-container-id-9 div.sk-label-container {text-align: center;}#sk-container-id-9 div.sk-container {/* jupyter's `normalize.less` sets `[hidden] { display: none; }` but bootstrap.min.css set `[hidden] { display: none !important; }` so we also need the `!important` here to be able to override the default hidden behavior on the sphinx rendered scikit-learn.org. See: https://github.com/scikit-learn/scikit-learn/issues/21755 */display: inline-block !important;position: relative;}#sk-container-id-9 div.sk-text-repr-fallback {display: none;}</style><div id=\"sk-container-id-9\" class=\"sk-top-container\"><div class=\"sk-text-repr-fallback\"><pre>XGBClassifier(base_score=None, booster=None, callbacks=None,\n",
       "              colsample_bylevel=None, colsample_bynode=None,\n",
       "              colsample_bytree=None, early_stopping_rounds=None,\n",
       "              enable_categorical=False, eval_metric=None, feature_types=None,\n",
       "              gamma=None, gpu_id=None, grow_policy=None, importance_type=None,\n",
       "              interaction_constraints=None, learning_rate=None, max_bin=None,\n",
       "              max_cat_threshold=None, max_cat_to_onehot=None,\n",
       "              max_delta_step=None, max_depth=5, max_leaves=None,\n",
       "              min_child_weight=None, missing=nan, monotone_constraints=None,\n",
       "              n_estimators=500, n_jobs=None, num_parallel_tree=None,\n",
       "              predictor=None, random_state=100, ...)</pre><b>In a Jupyter environment, please rerun this cell to show the HTML representation or trust the notebook. <br />On GitHub, the HTML representation is unable to render, please try loading this page with nbviewer.org.</b></div><div class=\"sk-container\" hidden><div class=\"sk-item\"><div class=\"sk-estimator sk-toggleable\"><input class=\"sk-toggleable__control sk-hidden--visually\" id=\"sk-estimator-id-15\" type=\"checkbox\" checked><label for=\"sk-estimator-id-15\" class=\"sk-toggleable__label sk-toggleable__label-arrow\">XGBClassifier</label><div class=\"sk-toggleable__content\"><pre>XGBClassifier(base_score=None, booster=None, callbacks=None,\n",
       "              colsample_bylevel=None, colsample_bynode=None,\n",
       "              colsample_bytree=None, early_stopping_rounds=None,\n",
       "              enable_categorical=False, eval_metric=None, feature_types=None,\n",
       "              gamma=None, gpu_id=None, grow_policy=None, importance_type=None,\n",
       "              interaction_constraints=None, learning_rate=None, max_bin=None,\n",
       "              max_cat_threshold=None, max_cat_to_onehot=None,\n",
       "              max_delta_step=None, max_depth=5, max_leaves=None,\n",
       "              min_child_weight=None, missing=nan, monotone_constraints=None,\n",
       "              n_estimators=500, n_jobs=None, num_parallel_tree=None,\n",
       "              predictor=None, random_state=100, ...)</pre></div></div></div></div></div>"
      ],
      "text/plain": [
       "XGBClassifier(base_score=None, booster=None, callbacks=None,\n",
       "              colsample_bylevel=None, colsample_bynode=None,\n",
       "              colsample_bytree=None, early_stopping_rounds=None,\n",
       "              enable_categorical=False, eval_metric=None, feature_types=None,\n",
       "              gamma=None, gpu_id=None, grow_policy=None, importance_type=None,\n",
       "              interaction_constraints=None, learning_rate=None, max_bin=None,\n",
       "              max_cat_threshold=None, max_cat_to_onehot=None,\n",
       "              max_delta_step=None, max_depth=5, max_leaves=None,\n",
       "              min_child_weight=None, missing=nan, monotone_constraints=None,\n",
       "              n_estimators=500, n_jobs=None, num_parallel_tree=None,\n",
       "              predictor=None, random_state=100, ...)"
      ]
     },
     "execution_count": 215,
     "metadata": {},
     "output_type": "execute_result"
    }
   ],
   "source": [
    "model = xgb.XGBClassifier(n_estimators = 500 , max_depth = 5 , random_state = 100)\n",
    "model.fit(x_train , y_train)"
   ]
  },
  {
   "cell_type": "code",
   "execution_count": 216,
   "id": "6beb56b5",
   "metadata": {
    "ExecuteTime": {
     "end_time": "2023-10-31T01:39:26.554781Z",
     "start_time": "2023-10-31T01:39:26.514943Z"
    }
   },
   "outputs": [
    {
     "name": "stdout",
     "output_type": "stream",
     "text": [
      "1.0\n",
      "0.8677736777367774\n"
     ]
    }
   ],
   "source": [
    "print(model.score(x_train , y_train))\n",
    "print(model.score(x_test , y_test))"
   ]
  },
  {
   "cell_type": "code",
   "execution_count": 217,
   "id": "66463b80",
   "metadata": {
    "ExecuteTime": {
     "end_time": "2023-10-31T01:40:25.863252Z",
     "start_time": "2023-10-31T01:40:25.848214Z"
    }
   },
   "outputs": [],
   "source": [
    "pred = model.predict(x_test)"
   ]
  },
  {
   "cell_type": "code",
   "execution_count": 218,
   "id": "572ccfbc",
   "metadata": {
    "ExecuteTime": {
     "end_time": "2023-10-31T01:40:33.898442Z",
     "start_time": "2023-10-31T01:40:33.881282Z"
    }
   },
   "outputs": [
    {
     "data": {
      "text/plain": [
       "0.8677736777367774"
      ]
     },
     "execution_count": 218,
     "metadata": {},
     "output_type": "execute_result"
    }
   ],
   "source": [
    "accuracy_score(y_test , pred)"
   ]
  },
  {
   "cell_type": "code",
   "execution_count": 219,
   "id": "f6a6224c",
   "metadata": {
    "ExecuteTime": {
     "end_time": "2023-10-31T01:42:28.513340Z",
     "start_time": "2023-10-31T01:42:28.505628Z"
    }
   },
   "outputs": [
    {
     "data": {
      "text/plain": [
       "array([[1296,   69],\n",
       "       [ 146,  115]], dtype=int64)"
      ]
     },
     "execution_count": 219,
     "metadata": {},
     "output_type": "execute_result"
    }
   ],
   "source": [
    "confusion_matrix(y_test , pred)"
   ]
  },
  {
   "cell_type": "code",
   "execution_count": 220,
   "id": "ed05b349",
   "metadata": {
    "ExecuteTime": {
     "end_time": "2023-10-31T01:43:20.760435Z",
     "start_time": "2023-10-31T01:43:20.749428Z"
    }
   },
   "outputs": [
    {
     "data": {
      "text/plain": [
       "array([[936,  25],\n",
       "       [176,  32]], dtype=int64)"
      ]
     },
     "execution_count": 220,
     "metadata": {},
     "output_type": "execute_result"
    }
   ],
   "source": [
    "confusion_matrix(test_target , xgb2.predict(test_input))"
   ]
  },
  {
   "cell_type": "code",
   "execution_count": 221,
   "id": "e0eac55a",
   "metadata": {
    "ExecuteTime": {
     "end_time": "2023-10-31T01:43:54.730736Z",
     "start_time": "2023-10-31T01:43:54.726529Z"
    }
   },
   "outputs": [],
   "source": [
    "from sklearn.metrics import accuracy_score , confusion_matrix , classification_report"
   ]
  },
  {
   "cell_type": "code",
   "execution_count": 223,
   "id": "6e30dcdd",
   "metadata": {
    "ExecuteTime": {
     "end_time": "2023-10-31T01:47:45.614527Z",
     "start_time": "2023-10-31T01:47:45.588069Z"
    }
   },
   "outputs": [
    {
     "name": "stdout",
     "output_type": "stream",
     "text": [
      "              precision    recall  f1-score   support\n",
      "\n",
      "           0       0.90      0.95      0.92      1365\n",
      "           1       0.62      0.44      0.52       261\n",
      "\n",
      "    accuracy                           0.87      1626\n",
      "   macro avg       0.76      0.70      0.72      1626\n",
      "weighted avg       0.85      0.87      0.86      1626\n",
      "\n"
     ]
    }
   ],
   "source": [
    "print(classification_report(y_test , pred))"
   ]
  }
 ],
 "metadata": {
  "kernelspec": {
   "display_name": "Python 3 (ipykernel)",
   "language": "python",
   "name": "python3"
  },
  "language_info": {
   "codemirror_mode": {
    "name": "ipython",
    "version": 3
   },
   "file_extension": ".py",
   "mimetype": "text/x-python",
   "name": "python",
   "nbconvert_exporter": "python",
   "pygments_lexer": "ipython3",
   "version": "3.8.17"
  },
  "toc": {
   "base_numbering": 1,
   "nav_menu": {},
   "number_sections": true,
   "sideBar": true,
   "skip_h1_title": false,
   "title_cell": "Table of Contents",
   "title_sidebar": "Contents",
   "toc_cell": false,
   "toc_position": {},
   "toc_section_display": true,
   "toc_window_display": false
  }
 },
 "nbformat": 4,
 "nbformat_minor": 5
}
