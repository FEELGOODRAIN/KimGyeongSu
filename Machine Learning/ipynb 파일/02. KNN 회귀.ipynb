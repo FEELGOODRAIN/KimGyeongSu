{
 "cells": [
  {
   "cell_type": "code",
   "execution_count": 6,
   "id": "252e21c9",
   "metadata": {
    "ExecuteTime": {
     "end_time": "2023-10-24T00:31:21.361161Z",
     "start_time": "2023-10-24T00:31:15.230323Z"
    }
   },
   "outputs": [
    {
     "name": "stdout",
     "output_type": "stream",
     "text": [
      "Collecting mglearn\n",
      "  Obtaining dependency information for mglearn from https://files.pythonhosted.org/packages/bb/8b/687d30a3df6b870af541dde6327423e35713e38243db135f57b4ebd054f3/mglearn-0.2.0-py2.py3-none-any.whl.metadata\n",
      "  Downloading mglearn-0.2.0-py2.py3-none-any.whl.metadata (628 bytes)\n",
      "Requirement already satisfied: numpy in c:\\anaconda3\\lib\\site-packages (from mglearn) (1.24.3)\n",
      "Requirement already satisfied: matplotlib in c:\\anaconda3\\lib\\site-packages (from mglearn) (3.7.2)\n",
      "Requirement already satisfied: scikit-learn in c:\\anaconda3\\lib\\site-packages (from mglearn) (1.3.0)\n",
      "Requirement already satisfied: pandas in c:\\anaconda3\\lib\\site-packages (from mglearn) (1.5.3)\n",
      "Requirement already satisfied: pillow in c:\\anaconda3\\lib\\site-packages (from mglearn) (9.4.0)\n",
      "Requirement already satisfied: cycler in c:\\anaconda3\\lib\\site-packages (from mglearn) (0.11.0)\n",
      "Requirement already satisfied: imageio in c:\\anaconda3\\lib\\site-packages (from mglearn) (2.26.0)\n",
      "Requirement already satisfied: joblib in c:\\anaconda3\\lib\\site-packages (from mglearn) (1.2.0)\n",
      "Requirement already satisfied: contourpy>=1.0.1 in c:\\anaconda3\\lib\\site-packages (from matplotlib->mglearn) (1.0.5)\n",
      "Requirement already satisfied: fonttools>=4.22.0 in c:\\anaconda3\\lib\\site-packages (from matplotlib->mglearn) (4.25.0)\n",
      "Requirement already satisfied: kiwisolver>=1.0.1 in c:\\anaconda3\\lib\\site-packages (from matplotlib->mglearn) (1.4.4)\n",
      "Requirement already satisfied: packaging>=20.0 in c:\\anaconda3\\lib\\site-packages (from matplotlib->mglearn) (23.1)\n",
      "Requirement already satisfied: pyparsing<3.1,>=2.3.1 in c:\\anaconda3\\lib\\site-packages (from matplotlib->mglearn) (3.0.9)\n",
      "Requirement already satisfied: python-dateutil>=2.7 in c:\\anaconda3\\lib\\site-packages (from matplotlib->mglearn) (2.8.2)\n",
      "Requirement already satisfied: importlib-resources>=3.2.0 in c:\\anaconda3\\lib\\site-packages (from matplotlib->mglearn) (5.2.0)\n",
      "Requirement already satisfied: pytz>=2020.1 in c:\\anaconda3\\lib\\site-packages (from pandas->mglearn) (2022.7)\n",
      "Requirement already satisfied: scipy>=1.5.0 in c:\\anaconda3\\lib\\site-packages (from scikit-learn->mglearn) (1.10.1)\n",
      "Requirement already satisfied: threadpoolctl>=2.0.0 in c:\\anaconda3\\lib\\site-packages (from scikit-learn->mglearn) (2.2.0)\n",
      "Requirement already satisfied: zipp>=3.1.0 in c:\\anaconda3\\lib\\site-packages (from importlib-resources>=3.2.0->matplotlib->mglearn) (3.11.0)\n",
      "Requirement already satisfied: six>=1.5 in c:\\anaconda3\\lib\\site-packages (from python-dateutil>=2.7->matplotlib->mglearn) (1.16.0)\n",
      "Downloading mglearn-0.2.0-py2.py3-none-any.whl (581 kB)\n",
      "   ---------------------------------------- 0.0/581.4 kB ? eta -:--:--\n",
      "   ------------------------ -------------- 358.4/581.4 kB 10.9 MB/s eta 0:00:01\n",
      "   ---------------------------------------- 581.4/581.4 kB 9.1 MB/s eta 0:00:00\n",
      "Installing collected packages: mglearn\n",
      "Successfully installed mglearn-0.2.0\n",
      "Note: you may need to restart the kernel to use updated packages.\n"
     ]
    }
   ],
   "source": [
    "pip install mglearn"
   ]
  },
  {
   "cell_type": "code",
   "execution_count": 7,
   "id": "7cf64798",
   "metadata": {
    "ExecuteTime": {
     "end_time": "2023-10-24T00:31:24.970719Z",
     "start_time": "2023-10-24T00:31:23.530672Z"
    }
   },
   "outputs": [],
   "source": [
    "import numpy as np\n",
    "import pandas as pd\n",
    "import matplotlib as mpl\n",
    "import matplotlib.pyplot as plt\n",
    "import mglearn\n",
    "%matplotlib inline\n",
    "import seaborn as sns\n",
    "import platform\n",
    "from matplotlib import font_manager , rc\n",
    "\n",
    "if platform.system() == 'Darwin':\n",
    "  rc('font' , family = 'AppleGothic')\n",
    "elif platform.system() == 'Windows':\n",
    "  path = 'C:/Windows/Fonts/malgun.ttf'\n",
    "  font_name = font_manager.FontProperties(fname = path).get_name()\n",
    "  rc('font' , family = font_name)\n",
    "else:\n",
    "  print('모름')\n",
    "plt.rcParams['axes.unicode_minus'] = False\n",
    "import warnings\n",
    "warnings.filterwarnings('ignore')"
   ]
  },
  {
   "cell_type": "code",
   "execution_count": 3,
   "id": "240c3137",
   "metadata": {
    "ExecuteTime": {
     "end_time": "2023-10-24T00:22:10.038901Z",
     "start_time": "2023-10-24T00:22:10.026657Z"
    }
   },
   "outputs": [],
   "source": [
    "perch_length = np.array(\n",
    "    [8.4, 13.7, 15.0, 16.2, 17.4, 18.0, 18.7, 19.0, 19.6, 20.0,\n",
    "     21.0, 21.0, 21.0, 21.3, 22.0, 22.0, 22.0, 22.0, 22.0, 22.5,\n",
    "     22.5, 22.7, 23.0, 23.5, 24.0, 24.0, 24.6, 25.0, 25.6, 26.5,\n",
    "     27.3, 27.5, 27.5, 27.5, 28.0, 28.7, 30.0, 32.8, 34.5, 35.0,\n",
    "     36.5, 36.0, 37.0, 37.0, 39.0, 39.0, 39.0, 40.0, 40.0, 40.0,\n",
    "     40.0, 42.0, 43.0, 43.0, 43.5, 44.0]\n",
    "     )\n",
    "perch_weight = np.array(\n",
    "    [5.9, 32.0, 40.0, 51.5, 70.0, 100.0, 78.0, 80.0, 85.0, 85.0,\n",
    "     110.0, 115.0, 125.0, 130.0, 120.0, 120.0, 130.0, 135.0, 110.0,\n",
    "     130.0, 150.0, 145.0, 150.0, 170.0, 225.0, 145.0, 188.0, 180.0,\n",
    "     197.0, 218.0, 300.0, 260.0, 265.0, 250.0, 250.0, 300.0, 320.0,\n",
    "     514.0, 556.0, 840.0, 685.0, 700.0, 700.0, 690.0, 900.0, 650.0,\n",
    "     820.0, 850.0, 900.0, 1015.0, 820.0, 1100.0, 1000.0, 1100.0,\n",
    "     1000.0, 1000.0]\n",
    "     )"
   ]
  },
  {
   "cell_type": "code",
   "execution_count": 8,
   "id": "549daaf8",
   "metadata": {
    "ExecuteTime": {
     "end_time": "2023-10-24T00:42:43.154107Z",
     "start_time": "2023-10-24T00:42:42.963404Z"
    }
   },
   "outputs": [
    {
     "data": {
      "image/png": "[encoded data removed]",
      "text/plain": [
       "<Figure size 640x480 with 1 Axes>"
      ]
     },
     "metadata": {},
     "output_type": "display_data"
    }
   ],
   "source": [
    "plt.scatter(perch_length , perch_weight)\n",
    "plt.show()"
   ]
  },
  {
   "cell_type": "code",
   "execution_count": 9,
   "id": "e8f9e2d5",
   "metadata": {
    "ExecuteTime": {
     "end_time": "2023-10-24T00:45:08.183682Z",
     "start_time": "2023-10-24T00:45:08.173108Z"
    }
   },
   "outputs": [],
   "source": [
    "from sklearn.model_selection import train_test_split"
   ]
  },
  {
   "cell_type": "code",
   "execution_count": 13,
   "id": "e7e328ca",
   "metadata": {
    "ExecuteTime": {
     "end_time": "2023-10-24T00:49:04.273859Z",
     "start_time": "2023-10-24T00:49:04.264751Z"
    }
   },
   "outputs": [],
   "source": [
    "x_train , x_test , y_train , y_test = train_test_split(perch_length, perch_weight , random_state = 42)"
   ]
  },
  {
   "cell_type": "code",
   "execution_count": 19,
   "id": "9c1e589b",
   "metadata": {
    "ExecuteTime": {
     "end_time": "2023-10-24T00:56:58.569620Z",
     "start_time": "2023-10-24T00:56:58.563651Z"
    }
   },
   "outputs": [
    {
     "name": "stdout",
     "output_type": "stream",
     "text": [
      "(42, 1) (14, 1)\n"
     ]
    }
   ],
   "source": [
    "print(x_train.shape , x_test.shape)"
   ]
  },
  {
   "cell_type": "code",
   "execution_count": 18,
   "id": "5f79c219",
   "metadata": {
    "ExecuteTime": {
     "end_time": "2023-10-24T00:56:53.798840Z",
     "start_time": "2023-10-24T00:56:53.786823Z"
    }
   },
   "outputs": [],
   "source": [
    "x_train = x_train.reshape(-1,1)\n",
    "x_test = x_test.reshape(-1,1)"
   ]
  },
  {
   "cell_type": "code",
   "execution_count": 21,
   "id": "3cacdab9",
   "metadata": {
    "ExecuteTime": {
     "end_time": "2023-10-24T00:57:40.933201Z",
     "start_time": "2023-10-24T00:57:40.927941Z"
    }
   },
   "outputs": [],
   "source": [
    "from sklearn.neighbors import KNeighborsRegressor"
   ]
  },
  {
   "cell_type": "code",
   "execution_count": 23,
   "id": "4aaf8243",
   "metadata": {
    "ExecuteTime": {
     "end_time": "2023-10-24T00:59:33.906416Z",
     "start_time": "2023-10-24T00:59:33.882174Z"
    }
   },
   "outputs": [
    {
     "data": {
      "text/html": [
       "<style>#sk-container-id-1 {color: black;}#sk-container-id-1 pre{padding: 0;}#sk-container-id-1 div.sk-toggleable {background-color: white;}#sk-container-id-1 label.sk-toggleable__label {cursor: pointer;display: block;width: 100%;margin-bottom: 0;padding: 0.3em;box-sizing: border-box;text-align: center;}#sk-container-id-1 label.sk-toggleable__label-arrow:before {content: \"▸\";float: left;margin-right: 0.25em;color: #696969;}#sk-container-id-1 label.sk-toggleable__label-arrow:hover:before {color: black;}#sk-container-id-1 div.sk-estimator:hover label.sk-toggleable__label-arrow:before {color: black;}#sk-container-id-1 div.sk-toggleable__content {max-height: 0;max-width: 0;overflow: hidden;text-align: left;background-color: #f0f8ff;}#sk-container-id-1 div.sk-toggleable__content pre {margin: 0.2em;color: black;border-radius: 0.25em;background-color: #f0f8ff;}#sk-container-id-1 input.sk-toggleable__control:checked~div.sk-toggleable__content {max-height: 200px;max-width: 100%;overflow: auto;}#sk-container-id-1 input.sk-toggleable__control:checked~label.sk-toggleable__label-arrow:before {content: \"▾\";}#sk-container-id-1 div.sk-estimator input.sk-toggleable__control:checked~label.sk-toggleable__label {background-color: #d4ebff;}#sk-container-id-1 div.sk-label input.sk-toggleable__control:checked~label.sk-toggleable__label {background-color: #d4ebff;}#sk-container-id-1 input.sk-hidden--visually {border: 0;clip: rect(1px 1px 1px 1px);clip: rect(1px, 1px, 1px, 1px);height: 1px;margin: -1px;overflow: hidden;padding: 0;position: absolute;width: 1px;}#sk-container-id-1 div.sk-estimator {font-family: monospace;background-color: #f0f8ff;border: 1px dotted black;border-radius: 0.25em;box-sizing: border-box;margin-bottom: 0.5em;}#sk-container-id-1 div.sk-estimator:hover {background-color: #d4ebff;}#sk-container-id-1 div.sk-parallel-item::after {content: \"\";width: 100%;border-bottom: 1px solid gray;flex-grow: 1;}#sk-container-id-1 div.sk-label:hover label.sk-toggleable__label {background-color: #d4ebff;}#sk-container-id-1 div.sk-serial::before {content: \"\";position: absolute;border-left: 1px solid gray;box-sizing: border-box;top: 0;bottom: 0;left: 50%;z-index: 0;}#sk-container-id-1 div.sk-serial {display: flex;flex-direction: column;align-items: center;background-color: white;padding-right: 0.2em;padding-left: 0.2em;position: relative;}#sk-container-id-1 div.sk-item {position: relative;z-index: 1;}#sk-container-id-1 div.sk-parallel {display: flex;align-items: stretch;justify-content: center;background-color: white;position: relative;}#sk-container-id-1 div.sk-item::before, #sk-container-id-1 div.sk-parallel-item::before {content: \"\";position: absolute;border-left: 1px solid gray;box-sizing: border-box;top: 0;bottom: 0;left: 50%;z-index: -1;}#sk-container-id-1 div.sk-parallel-item {display: flex;flex-direction: column;z-index: 1;position: relative;background-color: white;}#sk-container-id-1 div.sk-parallel-item:first-child::after {align-self: flex-end;width: 50%;}#sk-container-id-1 div.sk-parallel-item:last-child::after {align-self: flex-start;width: 50%;}#sk-container-id-1 div.sk-parallel-item:only-child::after {width: 0;}#sk-container-id-1 div.sk-dashed-wrapped {border: 1px dashed gray;margin: 0 0.4em 0.5em 0.4em;box-sizing: border-box;padding-bottom: 0.4em;background-color: white;}#sk-container-id-1 div.sk-label label {font-family: monospace;font-weight: bold;display: inline-block;line-height: 1.2em;}#sk-container-id-1 div.sk-label-container {text-align: center;}#sk-container-id-1 div.sk-container {/* jupyter's `normalize.less` sets `[hidden] { display: none; }` but bootstrap.min.css set `[hidden] { display: none !important; }` so we also need the `!important` here to be able to override the default hidden behavior on the sphinx rendered scikit-learn.org. See: https://github.com/scikit-learn/scikit-learn/issues/21755 */display: inline-block !important;position: relative;}#sk-container-id-1 div.sk-text-repr-fallback {display: none;}</style><div id=\"sk-container-id-1\" class=\"sk-top-container\"><div class=\"sk-text-repr-fallback\"><pre>KNeighborsRegressor()</pre><b>In a Jupyter environment, please rerun this cell to show the HTML representation or trust the notebook. <br />On GitHub, the HTML representation is unable to render, please try loading this page with nbviewer.org.</b></div><div class=\"sk-container\" hidden><div class=\"sk-item\"><div class=\"sk-estimator sk-toggleable\"><input class=\"sk-toggleable__control sk-hidden--visually\" id=\"sk-estimator-id-1\" type=\"checkbox\" checked><label for=\"sk-estimator-id-1\" class=\"sk-toggleable__label sk-toggleable__label-arrow\">KNeighborsRegressor</label><div class=\"sk-toggleable__content\"><pre>KNeighborsRegressor()</pre></div></div></div></div></div>"
      ],
      "text/plain": [
       "KNeighborsRegressor()"
      ]
     },
     "execution_count": 23,
     "metadata": {},
     "output_type": "execute_result"
    }
   ],
   "source": [
    "knr = KNeighborsRegressor()\n",
    "knr.fit(x_train , y_train)"
   ]
  },
  {
   "cell_type": "code",
   "execution_count": 24,
   "id": "dfea6de5",
   "metadata": {
    "ExecuteTime": {
     "end_time": "2023-10-24T00:59:41.506753Z",
     "start_time": "2023-10-24T00:59:41.491120Z"
    }
   },
   "outputs": [
    {
     "data": {
      "text/plain": [
       "0.9698823289099254"
      ]
     },
     "execution_count": 24,
     "metadata": {},
     "output_type": "execute_result"
    }
   ],
   "source": [
    "knr.score(x_train , y_train)"
   ]
  },
  {
   "cell_type": "code",
   "execution_count": 25,
   "id": "6760a4f2",
   "metadata": {
    "ExecuteTime": {
     "end_time": "2023-10-24T00:59:48.473898Z",
     "start_time": "2023-10-24T00:59:48.455441Z"
    }
   },
   "outputs": [
    {
     "data": {
      "text/plain": [
       "0.992809406101064"
      ]
     },
     "execution_count": 25,
     "metadata": {},
     "output_type": "execute_result"
    }
   ],
   "source": [
    "knr.score(x_test , y_test)"
   ]
  },
  {
   "cell_type": "markdown",
   "id": "5e9e7f98",
   "metadata": {},
   "source": [
    " - Regressor로 만들어내는 score는 정확도가 아닌 결정계수이다.\n",
    " - 결정계수 : 1 - ((실제값 - 예측값)의 제곱합 / (실제값 - 평균)의 제곱합)"
   ]
  },
  {
   "cell_type": "code",
   "execution_count": 26,
   "id": "5523bb5e",
   "metadata": {
    "ExecuteTime": {
     "end_time": "2023-10-24T01:21:01.279639Z",
     "start_time": "2023-10-24T01:21:01.110033Z"
    },
    "scrolled": false
   },
   "outputs": [
    {
     "data": {
      "image/png": "[encoded data removed]",
      "text/plain": [
       "<Figure size 1000x600 with 1 Axes>"
      ]
     },
     "metadata": {},
     "output_type": "display_data"
    }
   ],
   "source": [
    " mglearn.plots.plot_knn_regression(n_neighbors = 3)"
   ]
  },
  {
   "cell_type": "code",
   "execution_count": 27,
   "id": "afa71815",
   "metadata": {
    "ExecuteTime": {
     "end_time": "2023-10-24T01:21:12.919330Z",
     "start_time": "2023-10-24T01:21:12.746638Z"
    }
   },
   "outputs": [
    {
     "data": {
      "image/png": "[encoded data removed]",
      "text/plain": [
       "<Figure size 1000x600 with 1 Axes>"
      ]
     },
     "metadata": {},
     "output_type": "display_data"
    }
   ],
   "source": [
    " mglearn.plots.plot_knn_regression(n_neighbors = 5)"
   ]
  },
  {
   "cell_type": "code",
   "execution_count": 30,
   "id": "1f923036",
   "metadata": {
    "ExecuteTime": {
     "end_time": "2023-10-24T01:24:43.810675Z",
     "start_time": "2023-10-24T01:24:43.802501Z"
    }
   },
   "outputs": [],
   "source": [
    "test_predict = knr.predict(x_test)"
   ]
  },
  {
   "cell_type": "code",
   "execution_count": 33,
   "id": "dca48e66",
   "metadata": {
    "ExecuteTime": {
     "end_time": "2023-10-24T01:26:11.970649Z",
     "start_time": "2023-10-24T01:26:11.965579Z"
    }
   },
   "outputs": [],
   "source": [
    "from sklearn.metrics import mean_absolute_error\n",
    "mae = mean_absolute_error(y_test , test_predict)"
   ]
  },
  {
   "cell_type": "code",
   "execution_count": 34,
   "id": "3fec197b",
   "metadata": {
    "ExecuteTime": {
     "end_time": "2023-10-24T01:26:14.103753Z",
     "start_time": "2023-10-24T01:26:14.094024Z"
    }
   },
   "outputs": [
    {
     "data": {
      "text/plain": [
       "19.157142857142862"
      ]
     },
     "execution_count": 34,
     "metadata": {},
     "output_type": "execute_result"
    }
   ],
   "source": [
    "mae"
   ]
  },
  {
   "cell_type": "markdown",
   "id": "f8fe4835",
   "metadata": {},
   "source": [
    "- 과소적합 vs 과대적합\n",
    "    - 과대적합 : 훈련 데이터의 성능이 월등히 뛰어남\n",
    "    - 괴소적합 : 훈련 데이터와 테스트 데이터의 성능이 둘 다 좋지 않을 때 , 테스트 데이터의 성능이 월등히 뛰어남"
   ]
  },
  {
   "cell_type": "code",
   "execution_count": 35,
   "id": "c516b3d4",
   "metadata": {
    "ExecuteTime": {
     "end_time": "2023-10-24T01:32:18.055728Z",
     "start_time": "2023-10-24T01:32:18.039736Z"
    }
   },
   "outputs": [
    {
     "data": {
      "text/plain": [
       "0.9698823289099254"
      ]
     },
     "execution_count": 35,
     "metadata": {},
     "output_type": "execute_result"
    }
   ],
   "source": [
    "knr.score(x_train , y_train)"
   ]
  },
  {
   "cell_type": "code",
   "execution_count": 36,
   "id": "57e1e612",
   "metadata": {
    "ExecuteTime": {
     "end_time": "2023-10-24T01:32:26.214858Z",
     "start_time": "2023-10-24T01:32:26.208360Z"
    }
   },
   "outputs": [
    {
     "data": {
      "text/plain": [
       "0.992809406101064"
      ]
     },
     "execution_count": 36,
     "metadata": {},
     "output_type": "execute_result"
    }
   ],
   "source": [
    "knr.score(x_test , y_test)"
   ]
  },
  {
   "cell_type": "markdown",
   "id": "777df835",
   "metadata": {},
   "source": [
    "- 과소적합\n",
    "    - 해결법 : 모델을 조금 더 복잡하게 만들기\n",
    "    - knn에서는 모델을 복잡하게 만드는 방법 중 하나로 , 이웃 수를 줄인다."
   ]
  },
  {
   "cell_type": "code",
   "execution_count": 37,
   "id": "214eeacb",
   "metadata": {
    "ExecuteTime": {
     "end_time": "2023-10-24T01:47:17.285366Z",
     "start_time": "2023-10-24T01:47:17.279114Z"
    }
   },
   "outputs": [
    {
     "data": {
      "text/plain": [
       "array([1010.])"
      ]
     },
     "execution_count": 37,
     "metadata": {},
     "output_type": "execute_result"
    }
   ],
   "source": [
    "#길이가 100인 생선의 무게를 예측\n",
    "\n",
    "knr.predict([[100]])"
   ]
  },
  {
   "cell_type": "code",
   "execution_count": 38,
   "id": "969f35b6",
   "metadata": {
    "ExecuteTime": {
     "end_time": "2023-10-24T01:50:20.164194Z",
     "start_time": "2023-10-24T01:50:20.148792Z"
    }
   },
   "outputs": [
    {
     "data": {
      "text/plain": [
       "array([1010.])"
      ]
     },
     "execution_count": 38,
     "metadata": {},
     "output_type": "execute_result"
    }
   ],
   "source": [
    "knr.predict([[1000]])"
   ]
  },
  {
   "cell_type": "markdown",
   "id": "c50f8ca4",
   "metadata": {},
   "source": [
    "- 한계 : 길이가 학습한 데이터 안에 존재하지 않으면 예측이 맞지 않는다."
   ]
  },
  {
   "cell_type": "code",
   "execution_count": 42,
   "id": "3a3dc7b1",
   "metadata": {
    "ExecuteTime": {
     "end_time": "2023-10-24T01:58:18.669558Z",
     "start_time": "2023-10-24T01:58:18.661194Z"
    }
   },
   "outputs": [],
   "source": [
    "from sklearn.model_selection import train_test_split\n",
    "train_input , test_input , train_target , test_target = train_test_split(perch_length , perch_weight , random_state = 42)\n",
    "\n",
    "train_input = train_input.reshape(-1,1)\n",
    "test_input = test_input.reshape(-1,1)"
   ]
  },
  {
   "cell_type": "code",
   "execution_count": 51,
   "id": "0cfc04b5",
   "metadata": {
    "ExecuteTime": {
     "end_time": "2023-10-24T02:03:44.862217Z",
     "start_time": "2023-10-24T02:03:44.854153Z"
    }
   },
   "outputs": [
    {
     "data": {
      "text/html": [
       "<style>#sk-container-id-3 {color: black;}#sk-container-id-3 pre{padding: 0;}#sk-container-id-3 div.sk-toggleable {background-color: white;}#sk-container-id-3 label.sk-toggleable__label {cursor: pointer;display: block;width: 100%;margin-bottom: 0;padding: 0.3em;box-sizing: border-box;text-align: center;}#sk-container-id-3 label.sk-toggleable__label-arrow:before {content: \"▸\";float: left;margin-right: 0.25em;color: #696969;}#sk-container-id-3 label.sk-toggleable__label-arrow:hover:before {color: black;}#sk-container-id-3 div.sk-estimator:hover label.sk-toggleable__label-arrow:before {color: black;}#sk-container-id-3 div.sk-toggleable__content {max-height: 0;max-width: 0;overflow: hidden;text-align: left;background-color: #f0f8ff;}#sk-container-id-3 div.sk-toggleable__content pre {margin: 0.2em;color: black;border-radius: 0.25em;background-color: #f0f8ff;}#sk-container-id-3 input.sk-toggleable__control:checked~div.sk-toggleable__content {max-height: 200px;max-width: 100%;overflow: auto;}#sk-container-id-3 input.sk-toggleable__control:checked~label.sk-toggleable__label-arrow:before {content: \"▾\";}#sk-container-id-3 div.sk-estimator input.sk-toggleable__control:checked~label.sk-toggleable__label {background-color: #d4ebff;}#sk-container-id-3 div.sk-label input.sk-toggleable__control:checked~label.sk-toggleable__label {background-color: #d4ebff;}#sk-container-id-3 input.sk-hidden--visually {border: 0;clip: rect(1px 1px 1px 1px);clip: rect(1px, 1px, 1px, 1px);height: 1px;margin: -1px;overflow: hidden;padding: 0;position: absolute;width: 1px;}#sk-container-id-3 div.sk-estimator {font-family: monospace;background-color: #f0f8ff;border: 1px dotted black;border-radius: 0.25em;box-sizing: border-box;margin-bottom: 0.5em;}#sk-container-id-3 div.sk-estimator:hover {background-color: #d4ebff;}#sk-container-id-3 div.sk-parallel-item::after {content: \"\";width: 100%;border-bottom: 1px solid gray;flex-grow: 1;}#sk-container-id-3 div.sk-label:hover label.sk-toggleable__label {background-color: #d4ebff;}#sk-container-id-3 div.sk-serial::before {content: \"\";position: absolute;border-left: 1px solid gray;box-sizing: border-box;top: 0;bottom: 0;left: 50%;z-index: 0;}#sk-container-id-3 div.sk-serial {display: flex;flex-direction: column;align-items: center;background-color: white;padding-right: 0.2em;padding-left: 0.2em;position: relative;}#sk-container-id-3 div.sk-item {position: relative;z-index: 1;}#sk-container-id-3 div.sk-parallel {display: flex;align-items: stretch;justify-content: center;background-color: white;position: relative;}#sk-container-id-3 div.sk-item::before, #sk-container-id-3 div.sk-parallel-item::before {content: \"\";position: absolute;border-left: 1px solid gray;box-sizing: border-box;top: 0;bottom: 0;left: 50%;z-index: -1;}#sk-container-id-3 div.sk-parallel-item {display: flex;flex-direction: column;z-index: 1;position: relative;background-color: white;}#sk-container-id-3 div.sk-parallel-item:first-child::after {align-self: flex-end;width: 50%;}#sk-container-id-3 div.sk-parallel-item:last-child::after {align-self: flex-start;width: 50%;}#sk-container-id-3 div.sk-parallel-item:only-child::after {width: 0;}#sk-container-id-3 div.sk-dashed-wrapped {border: 1px dashed gray;margin: 0 0.4em 0.5em 0.4em;box-sizing: border-box;padding-bottom: 0.4em;background-color: white;}#sk-container-id-3 div.sk-label label {font-family: monospace;font-weight: bold;display: inline-block;line-height: 1.2em;}#sk-container-id-3 div.sk-label-container {text-align: center;}#sk-container-id-3 div.sk-container {/* jupyter's `normalize.less` sets `[hidden] { display: none; }` but bootstrap.min.css set `[hidden] { display: none !important; }` so we also need the `!important` here to be able to override the default hidden behavior on the sphinx rendered scikit-learn.org. See: https://github.com/scikit-learn/scikit-learn/issues/21755 */display: inline-block !important;position: relative;}#sk-container-id-3 div.sk-text-repr-fallback {display: none;}</style><div id=\"sk-container-id-3\" class=\"sk-top-container\"><div class=\"sk-text-repr-fallback\"><pre>KNeighborsRegressor()</pre><b>In a Jupyter environment, please rerun this cell to show the HTML representation or trust the notebook. <br />On GitHub, the HTML representation is unable to render, please try loading this page with nbviewer.org.</b></div><div class=\"sk-container\" hidden><div class=\"sk-item\"><div class=\"sk-estimator sk-toggleable\"><input class=\"sk-toggleable__control sk-hidden--visually\" id=\"sk-estimator-id-3\" type=\"checkbox\" checked><label for=\"sk-estimator-id-3\" class=\"sk-toggleable__label sk-toggleable__label-arrow\">KNeighborsRegressor</label><div class=\"sk-toggleable__content\"><pre>KNeighborsRegressor()</pre></div></div></div></div></div>"
      ],
      "text/plain": [
       "KNeighborsRegressor()"
      ]
     },
     "execution_count": 51,
     "metadata": {},
     "output_type": "execute_result"
    }
   ],
   "source": [
    "from sklearn.neighbors import KNeighborsRegressor\n",
    "knr = KNeighborsRegressor(n_neighbors = 5)\n",
    "knr.fit(train_input , train_target)"
   ]
  },
  {
   "cell_type": "code",
   "execution_count": 52,
   "id": "b95e4db5",
   "metadata": {
    "ExecuteTime": {
     "end_time": "2023-10-24T02:03:45.735373Z",
     "start_time": "2023-10-24T02:03:45.728930Z"
    }
   },
   "outputs": [
    {
     "data": {
      "text/plain": [
       "(array([[ 6.,  7.,  7.,  8., 10.]]),\n",
       " array([[34, 14,  8, 40,  6]], dtype=int64))"
      ]
     },
     "execution_count": 52,
     "metadata": {},
     "output_type": "execute_result"
    }
   ],
   "source": [
    "knr.kneighbors([[50]])"
   ]
  },
  {
   "cell_type": "code",
   "execution_count": 53,
   "id": "75b92340",
   "metadata": {
    "ExecuteTime": {
     "end_time": "2023-10-24T02:03:47.070066Z",
     "start_time": "2023-10-24T02:03:46.965949Z"
    }
   },
   "outputs": [
    {
     "data": {
      "image/png": "[encoded data removed]",
      "text/plain": [
       "<Figure size 640x480 with 1 Axes>"
      ]
     },
     "metadata": {},
     "output_type": "display_data"
    }
   ],
   "source": [
    "distance , index = knr.kneighbors([[50]])\n",
    "plt.scatter(perch_length , perch_weight)\n",
    "plt.scatter(x_train[index] , y_train[index] , marker = 'D')\n",
    "plt.scatter(50,1033,marker = '^')\n",
    "plt.show()"
   ]
  },
  {
   "cell_type": "code",
   "execution_count": 48,
   "id": "96b095c5",
   "metadata": {
    "ExecuteTime": {
     "end_time": "2023-10-24T02:02:58.492783Z",
     "start_time": "2023-10-24T02:02:58.477059Z"
    }
   },
   "outputs": [
    {
     "data": {
      "text/plain": [
       "1033.3333333333333"
      ]
     },
     "execution_count": 48,
     "metadata": {},
     "output_type": "execute_result"
    }
   ],
   "source": [
    "np.mean(y_train[index])"
   ]
  },
  {
   "cell_type": "code",
   "execution_count": null,
   "id": "83b47862",
   "metadata": {},
   "outputs": [],
   "source": []
  }
 ],
 "metadata": {
  "kernelspec": {
   "display_name": "Python 3 (ipykernel)",
   "language": "python",
   "name": "python3"
  },
  "language_info": {
   "codemirror_mode": {
    "name": "ipython",
    "version": 3
   },
   "file_extension": ".py",
   "mimetype": "text/x-python",
   "name": "python",
   "nbconvert_exporter": "python",
   "pygments_lexer": "ipython3",
   "version": "3.8.17"
  },
  "toc": {
   "base_numbering": 1,
   "nav_menu": {},
   "number_sections": true,
   "sideBar": true,
   "skip_h1_title": false,
   "title_cell": "Table of Contents",
   "title_sidebar": "Contents",
   "toc_cell": false,
   "toc_position": {},
   "toc_section_display": true,
   "toc_window_display": false
  }
 },
 "nbformat": 4,
 "nbformat_minor": 5
}
