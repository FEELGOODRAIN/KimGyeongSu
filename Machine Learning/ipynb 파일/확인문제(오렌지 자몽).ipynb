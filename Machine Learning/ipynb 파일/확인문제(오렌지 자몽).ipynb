{
 "cells": [
  {
   "cell_type": "code",
   "execution_count": 1,
   "id": "0751ce1a",
   "metadata": {
    "ExecuteTime": {
     "end_time": "2023-10-23T04:57:19.749889Z",
     "start_time": "2023-10-23T04:57:18.446940Z"
    }
   },
   "outputs": [],
   "source": [
    "import numpy as np\n",
    "import pandas as pd\n",
    "import matplotlib as mpl\n",
    "import matplotlib.pyplot as plt\n",
    "import seaborn as sns\n",
    "%matplotlib inline\n",
    "#한글패치\n",
    "import platform\n",
    "from matplotlib import font_manager , rc\n",
    "\n",
    "if platform.system() == 'Darwin':\n",
    "  rc('font' , family = 'AppleGothic')\n",
    "elif platform.system() == 'Windows':\n",
    "  path = 'C:/Windows/Fonts/malgun.ttf'\n",
    "  font_name = font_manager.FontProperties(fname = path).get_name()\n",
    "  rc('font' , family = font_name)\n",
    "else:\n",
    "  print('모름')\n",
    "plt.rcParams['axes.unicode_minus'] = False\n",
    "import warnings\n",
    "warnings.filterwarnings('ignore')"
   ]
  },
  {
   "cell_type": "code",
   "execution_count": 2,
   "id": "29a99848",
   "metadata": {
    "ExecuteTime": {
     "end_time": "2023-10-23T04:57:27.698076Z",
     "start_time": "2023-10-23T04:57:27.681249Z"
    }
   },
   "outputs": [],
   "source": [
    "data = pd.read_csv('citrus.csv')"
   ]
  },
  {
   "cell_type": "code",
   "execution_count": 3,
   "id": "a4cd73d0",
   "metadata": {
    "ExecuteTime": {
     "end_time": "2023-10-23T04:57:35.501488Z",
     "start_time": "2023-10-23T04:57:35.486699Z"
    }
   },
   "outputs": [],
   "source": [
    "orange_diameter = list(data.iloc[:5000,1])\n",
    "orange_weight = list(data.iloc[:5000,2])\n",
    "Grape_diameter = list(data.iloc[5000:,1])\n",
    "Grape_weight = list(data.iloc[5000:,2])"
   ]
  },
  {
   "cell_type": "code",
   "execution_count": 4,
   "id": "e0279253",
   "metadata": {
    "ExecuteTime": {
     "end_time": "2023-10-23T04:57:40.071954Z",
     "start_time": "2023-10-23T04:57:39.829350Z"
    }
   },
   "outputs": [
    {
     "data": {
      "image/png": "[encoded data removed]",
      "text/plain": [
       "<Figure size 640x480 with 1 Axes>"
      ]
     },
     "metadata": {},
     "output_type": "display_data"
    }
   ],
   "source": [
    "plt.scatter(orange_diameter , orange_weight)\n",
    "plt.scatter(Grape_diameter , Grape_weight)\n",
    "plt.show()"
   ]
  },
  {
   "cell_type": "code",
   "execution_count": 5,
   "id": "591abd28",
   "metadata": {
    "ExecuteTime": {
     "end_time": "2023-10-23T04:58:09.677387Z",
     "start_time": "2023-10-23T04:58:09.660068Z"
    }
   },
   "outputs": [],
   "source": [
    "orange = np.column_stack([orange_diameter , orange_weight])\n",
    "grape = np.column_stack([Grape_diameter , Grape_weight])\n",
    "total = np.vstack([orange , grape])\n",
    "target = np.concatenate([np.ones(5000) , np.zeros(5000)])\n"
   ]
  },
  {
   "cell_type": "code",
   "execution_count": 6,
   "id": "48f8a07e",
   "metadata": {
    "ExecuteTime": {
     "end_time": "2023-10-23T04:58:11.987171Z",
     "start_time": "2023-10-23T04:58:11.757196Z"
    }
   },
   "outputs": [
    {
     "data": {
      "text/html": [
       "<style>#sk-container-id-1 {color: black;}#sk-container-id-1 pre{padding: 0;}#sk-container-id-1 div.sk-toggleable {background-color: white;}#sk-container-id-1 label.sk-toggleable__label {cursor: pointer;display: block;width: 100%;margin-bottom: 0;padding: 0.3em;box-sizing: border-box;text-align: center;}#sk-container-id-1 label.sk-toggleable__label-arrow:before {content: \"▸\";float: left;margin-right: 0.25em;color: #696969;}#sk-container-id-1 label.sk-toggleable__label-arrow:hover:before {color: black;}#sk-container-id-1 div.sk-estimator:hover label.sk-toggleable__label-arrow:before {color: black;}#sk-container-id-1 div.sk-toggleable__content {max-height: 0;max-width: 0;overflow: hidden;text-align: left;background-color: #f0f8ff;}#sk-container-id-1 div.sk-toggleable__content pre {margin: 0.2em;color: black;border-radius: 0.25em;background-color: #f0f8ff;}#sk-container-id-1 input.sk-toggleable__control:checked~div.sk-toggleable__content {max-height: 200px;max-width: 100%;overflow: auto;}#sk-container-id-1 input.sk-toggleable__control:checked~label.sk-toggleable__label-arrow:before {content: \"▾\";}#sk-container-id-1 div.sk-estimator input.sk-toggleable__control:checked~label.sk-toggleable__label {background-color: #d4ebff;}#sk-container-id-1 div.sk-label input.sk-toggleable__control:checked~label.sk-toggleable__label {background-color: #d4ebff;}#sk-container-id-1 input.sk-hidden--visually {border: 0;clip: rect(1px 1px 1px 1px);clip: rect(1px, 1px, 1px, 1px);height: 1px;margin: -1px;overflow: hidden;padding: 0;position: absolute;width: 1px;}#sk-container-id-1 div.sk-estimator {font-family: monospace;background-color: #f0f8ff;border: 1px dotted black;border-radius: 0.25em;box-sizing: border-box;margin-bottom: 0.5em;}#sk-container-id-1 div.sk-estimator:hover {background-color: #d4ebff;}#sk-container-id-1 div.sk-parallel-item::after {content: \"\";width: 100%;border-bottom: 1px solid gray;flex-grow: 1;}#sk-container-id-1 div.sk-label:hover label.sk-toggleable__label {background-color: #d4ebff;}#sk-container-id-1 div.sk-serial::before {content: \"\";position: absolute;border-left: 1px solid gray;box-sizing: border-box;top: 0;bottom: 0;left: 50%;z-index: 0;}#sk-container-id-1 div.sk-serial {display: flex;flex-direction: column;align-items: center;background-color: white;padding-right: 0.2em;padding-left: 0.2em;position: relative;}#sk-container-id-1 div.sk-item {position: relative;z-index: 1;}#sk-container-id-1 div.sk-parallel {display: flex;align-items: stretch;justify-content: center;background-color: white;position: relative;}#sk-container-id-1 div.sk-item::before, #sk-container-id-1 div.sk-parallel-item::before {content: \"\";position: absolute;border-left: 1px solid gray;box-sizing: border-box;top: 0;bottom: 0;left: 50%;z-index: -1;}#sk-container-id-1 div.sk-parallel-item {display: flex;flex-direction: column;z-index: 1;position: relative;background-color: white;}#sk-container-id-1 div.sk-parallel-item:first-child::after {align-self: flex-end;width: 50%;}#sk-container-id-1 div.sk-parallel-item:last-child::after {align-self: flex-start;width: 50%;}#sk-container-id-1 div.sk-parallel-item:only-child::after {width: 0;}#sk-container-id-1 div.sk-dashed-wrapped {border: 1px dashed gray;margin: 0 0.4em 0.5em 0.4em;box-sizing: border-box;padding-bottom: 0.4em;background-color: white;}#sk-container-id-1 div.sk-label label {font-family: monospace;font-weight: bold;display: inline-block;line-height: 1.2em;}#sk-container-id-1 div.sk-label-container {text-align: center;}#sk-container-id-1 div.sk-container {/* jupyter's `normalize.less` sets `[hidden] { display: none; }` but bootstrap.min.css set `[hidden] { display: none !important; }` so we also need the `!important` here to be able to override the default hidden behavior on the sphinx rendered scikit-learn.org. See: https://github.com/scikit-learn/scikit-learn/issues/21755 */display: inline-block !important;position: relative;}#sk-container-id-1 div.sk-text-repr-fallback {display: none;}</style><div id=\"sk-container-id-1\" class=\"sk-top-container\"><div class=\"sk-text-repr-fallback\"><pre>KNeighborsClassifier()</pre><b>In a Jupyter environment, please rerun this cell to show the HTML representation or trust the notebook. <br />On GitHub, the HTML representation is unable to render, please try loading this page with nbviewer.org.</b></div><div class=\"sk-container\" hidden><div class=\"sk-item\"><div class=\"sk-estimator sk-toggleable\"><input class=\"sk-toggleable__control sk-hidden--visually\" id=\"sk-estimator-id-1\" type=\"checkbox\" checked><label for=\"sk-estimator-id-1\" class=\"sk-toggleable__label sk-toggleable__label-arrow\">KNeighborsClassifier</label><div class=\"sk-toggleable__content\"><pre>KNeighborsClassifier()</pre></div></div></div></div></div>"
      ],
      "text/plain": [
       "KNeighborsClassifier()"
      ]
     },
     "execution_count": 6,
     "metadata": {},
     "output_type": "execute_result"
    }
   ],
   "source": [
    "from sklearn.neighbors import KNeighborsClassifier\n",
    "\n",
    "kn = KNeighborsClassifier()\n",
    "kn.fit(total , target)"
   ]
  },
  {
   "cell_type": "code",
   "execution_count": 7,
   "id": "e35e6fb0",
   "metadata": {
    "ExecuteTime": {
     "end_time": "2023-10-23T04:58:22.072460Z",
     "start_time": "2023-10-23T04:58:21.881886Z"
    }
   },
   "outputs": [
    {
     "data": {
      "text/plain": [
       "0.9832"
      ]
     },
     "execution_count": 7,
     "metadata": {},
     "output_type": "execute_result"
    }
   ],
   "source": [
    "kn.score(total , target)"
   ]
  },
  {
   "cell_type": "code",
   "execution_count": 55,
   "id": "5e0696d6",
   "metadata": {
    "ExecuteTime": {
     "end_time": "2023-10-23T05:45:43.147012Z",
     "start_time": "2023-10-23T05:45:43.138854Z"
    }
   },
   "outputs": [
    {
     "data": {
      "text/plain": [
       "array([0.])"
      ]
     },
     "execution_count": 55,
     "metadata": {},
     "output_type": "execute_result"
    }
   ],
   "source": [
    "kn.predict([[9 , 200]]) # 지름 9 , 무게 200인 것은 자몽으로 예측함."
   ]
  },
  {
   "cell_type": "code",
   "execution_count": 9,
   "id": "85cdcee2",
   "metadata": {
    "ExecuteTime": {
     "end_time": "2023-10-23T05:00:43.042464Z",
     "start_time": "2023-10-23T05:00:43.037263Z"
    }
   },
   "outputs": [],
   "source": [
    "np.random.seed(120)\n",
    "index = np.arange(10000)\n",
    "np.random.shuffle(index)"
   ]
  },
  {
   "cell_type": "code",
   "execution_count": 10,
   "id": "d97c1f98",
   "metadata": {
    "ExecuteTime": {
     "end_time": "2023-10-23T05:01:23.750094Z",
     "start_time": "2023-10-23T05:01:23.745940Z"
    }
   },
   "outputs": [],
   "source": [
    "input_array = np.array(total)\n",
    "target_array = np.array(target)"
   ]
  },
  {
   "cell_type": "code",
   "execution_count": 11,
   "id": "030a2425",
   "metadata": {
    "ExecuteTime": {
     "end_time": "2023-10-23T05:01:53.566696Z",
     "start_time": "2023-10-23T05:01:53.557571Z"
    }
   },
   "outputs": [],
   "source": [
    "train_input = input_array[index[:7000]]\n",
    "train_target = target_array[index[:7000]]\n",
    "test_input = input_array[index[7000:]]\n",
    "test_target = target_array[index[7000:]]"
   ]
  },
  {
   "cell_type": "code",
   "execution_count": 12,
   "id": "a92f5ec2",
   "metadata": {
    "ExecuteTime": {
     "end_time": "2023-10-23T05:02:09.198970Z",
     "start_time": "2023-10-23T05:02:09.126558Z"
    }
   },
   "outputs": [
    {
     "data": {
      "text/plain": [
       "0.9613333333333334"
      ]
     },
     "execution_count": 12,
     "metadata": {},
     "output_type": "execute_result"
    }
   ],
   "source": [
    "k2 = KNeighborsClassifier()\n",
    "k2.fit(train_input , train_target)\n",
    "k2.score(test_input , test_target)\n",
    "\n",
    "# train과 test를 7:3으로 나누어서 학습한 결과 "
   ]
  },
  {
   "cell_type": "code",
   "execution_count": 13,
   "id": "13e35f46",
   "metadata": {
    "ExecuteTime": {
     "end_time": "2023-10-23T05:02:19.862961Z",
     "start_time": "2023-10-23T05:02:19.729810Z"
    },
    "scrolled": false
   },
   "outputs": [
    {
     "data": {
      "image/png": "[encoded data removed]",
      "text/plain": [
       "<Figure size 640x480 with 1 Axes>"
      ]
     },
     "metadata": {},
     "output_type": "display_data"
    }
   ],
   "source": [
    "plt.scatter(train_input[: , 0] , train_input[: , 1])\n",
    "plt.scatter(test_input[: , 0] , test_input[: , 1])\n",
    "plt.show()"
   ]
  },
  {
   "cell_type": "markdown",
   "id": "61b3189b",
   "metadata": {},
   "source": [
    "## Z벨류를 이용한 전처리 과정"
   ]
  },
  {
   "cell_type": "code",
   "execution_count": 14,
   "id": "10b69d54",
   "metadata": {
    "ExecuteTime": {
     "end_time": "2023-10-23T05:04:55.824797Z",
     "start_time": "2023-10-23T05:04:55.814189Z"
    }
   },
   "outputs": [],
   "source": [
    "mean = np.mean(train_input , axis = 0)\n",
    "std = np.std(train_input , axis = 0)\n",
    "train_scaled = (train_input - mean)/std"
   ]
  },
  {
   "cell_type": "code",
   "execution_count": 15,
   "id": "bf6c66d6",
   "metadata": {
    "ExecuteTime": {
     "end_time": "2023-10-23T05:05:02.169516Z",
     "start_time": "2023-10-23T05:05:02.159548Z"
    }
   },
   "outputs": [
    {
     "data": {
      "text/plain": [
       "array([[ 0.99221725,  1.00664423],\n",
       "       [ 1.03861482,  1.04583133],\n",
       "       [-0.66262951, -0.66533878],\n",
       "       ...,\n",
       "       [-1.4720094 , -1.44564335],\n",
       "       [-1.24517682, -1.24317666],\n",
       "       [ 2.48725015,  2.48956666]])"
      ]
     },
     "execution_count": 15,
     "metadata": {},
     "output_type": "execute_result"
    }
   ],
   "source": [
    "mean1 = np.mean(test_input , axis = 0)\n",
    "std1 = np.std(test_input , axis = 0)\n",
    "test_scaled = (test_input - mean1)/std1\n",
    "test_scaled"
   ]
  },
  {
   "cell_type": "code",
   "execution_count": 16,
   "id": "156d7b32",
   "metadata": {
    "ExecuteTime": {
     "end_time": "2023-10-23T05:05:24.792170Z",
     "start_time": "2023-10-23T05:05:24.660872Z"
    }
   },
   "outputs": [
    {
     "data": {
      "image/png": "[encoded data removed]",
      "text/plain": [
       "<Figure size 640x480 with 1 Axes>"
      ]
     },
     "metadata": {},
     "output_type": "display_data"
    }
   ],
   "source": [
    "plt.scatter(train_scaled[: , 0] , train_scaled[: , 1])\n",
    "plt.show()"
   ]
  },
  {
   "cell_type": "code",
   "execution_count": 17,
   "id": "1c158b59",
   "metadata": {
    "ExecuteTime": {
     "end_time": "2023-10-23T05:07:03.678367Z",
     "start_time": "2023-10-23T05:07:03.609747Z"
    }
   },
   "outputs": [
    {
     "data": {
      "text/plain": [
       "0.9923333333333333"
      ]
     },
     "execution_count": 17,
     "metadata": {},
     "output_type": "execute_result"
    }
   ],
   "source": [
    "k3 = KNeighborsClassifier()\n",
    "k3.fit(train_scaled , train_target)\n",
    "k3.score(test_scaled , test_target) # 위의 0.97... 과는 다르게 0.99로 점수가 더 높아진 것을 알 수 있다."
   ]
  },
  {
   "cell_type": "code",
   "execution_count": 18,
   "id": "9de4f7b2",
   "metadata": {
    "ExecuteTime": {
     "end_time": "2023-10-23T05:08:44.604445Z",
     "start_time": "2023-10-23T05:08:44.581378Z"
    }
   },
   "outputs": [
    {
     "data": {
      "text/plain": [
       "array([[  2.96,  86.76],\n",
       "       [  3.91,  88.05],\n",
       "       [  4.42,  95.17],\n",
       "       ...,\n",
       "       [ 15.59, 256.5 ],\n",
       "       [ 15.92, 260.14],\n",
       "       [ 16.45, 261.51]])"
      ]
     },
     "execution_count": 18,
     "metadata": {},
     "output_type": "execute_result"
    }
   ],
   "source": [
    "total"
   ]
  },
  {
   "cell_type": "code",
   "execution_count": 56,
   "id": "8b76b68d",
   "metadata": {
    "ExecuteTime": {
     "end_time": "2023-10-23T05:48:14.761582Z",
     "start_time": "2023-10-23T05:48:14.756527Z"
    }
   },
   "outputs": [],
   "source": [
    "fruit = ([11,190] - mean)/std"
   ]
  },
  {
   "cell_type": "code",
   "execution_count": 57,
   "id": "ea1756cd",
   "metadata": {
    "ExecuteTime": {
     "end_time": "2023-10-23T05:48:15.369228Z",
     "start_time": "2023-10-23T05:48:15.348902Z"
    }
   },
   "outputs": [
    {
     "data": {
      "text/plain": [
       "array([0.])"
      ]
     },
     "execution_count": 57,
     "metadata": {},
     "output_type": "execute_result"
    }
   ],
   "source": [
    "k3.predict([fruit])"
   ]
  },
  {
   "cell_type": "markdown",
   "id": "0cff0c3a",
   "metadata": {},
   "source": [
    "- 지름 11 , 무게 190인 과일은 0(자몽)이라고 예측함."
   ]
  },
  {
   "cell_type": "code",
   "execution_count": 58,
   "id": "46d9c193",
   "metadata": {
    "ExecuteTime": {
     "end_time": "2023-10-23T05:48:28.505818Z",
     "start_time": "2023-10-23T05:48:28.382588Z"
    }
   },
   "outputs": [
    {
     "data": {
      "image/png": "[encoded data removed]",
      "text/plain": [
       "<Figure size 640x480 with 1 Axes>"
      ]
     },
     "metadata": {},
     "output_type": "display_data"
    }
   ],
   "source": [
    "plt.scatter(train_scaled[: , 0] , train_scaled[: , 1])\n",
    "plt.scatter(fruit[0] , fruit[1] , color = 'r' , marker = '^')\n",
    "plt.show()"
   ]
  },
  {
   "cell_type": "code",
   "execution_count": 59,
   "id": "c469d43a",
   "metadata": {
    "ExecuteTime": {
     "end_time": "2023-10-23T05:48:31.586492Z",
     "start_time": "2023-10-23T05:48:31.579667Z"
    }
   },
   "outputs": [
    {
     "name": "stdout",
     "output_type": "stream",
     "text": [
      "[[0.00341769 0.00375946 0.00375946 0.00410123 0.0051709 ]] [[3273 6382  222 2814 4016]]\n"
     ]
    }
   ],
   "source": [
    "distances1 , indexes1 = k3.kneighbors([fruit])\n",
    "print(distances1 , indexes1)"
   ]
  },
  {
   "cell_type": "code",
   "execution_count": 60,
   "id": "5c746c66",
   "metadata": {
    "ExecuteTime": {
     "end_time": "2023-10-23T05:48:32.426812Z",
     "start_time": "2023-10-23T05:48:32.414997Z"
    }
   },
   "outputs": [
    {
     "data": {
      "text/plain": [
       "array([[0., 0., 0., 0., 0.]])"
      ]
     },
     "execution_count": 60,
     "metadata": {},
     "output_type": "execute_result"
    }
   ],
   "source": [
    "train_target[indexes1]"
   ]
  },
  {
   "cell_type": "code",
   "execution_count": null,
   "id": "16e772c7",
   "metadata": {},
   "outputs": [],
   "source": []
  }
 ],
 "metadata": {
  "kernelspec": {
   "display_name": "Python 3 (ipykernel)",
   "language": "python",
   "name": "python3"
  },
  "language_info": {
   "codemirror_mode": {
    "name": "ipython",
    "version": 3
   },
   "file_extension": ".py",
   "mimetype": "text/x-python",
   "name": "python",
   "nbconvert_exporter": "python",
   "pygments_lexer": "ipython3",
   "version": "3.8.17"
  },
  "toc": {
   "base_numbering": 1,
   "nav_menu": {},
   "number_sections": true,
   "sideBar": true,
   "skip_h1_title": false,
   "title_cell": "Table of Contents",
   "title_sidebar": "Contents",
   "toc_cell": false,
   "toc_position": {},
   "toc_section_display": true,
   "toc_window_display": false
  }
 },
 "nbformat": 4,
 "nbformat_minor": 5
}
