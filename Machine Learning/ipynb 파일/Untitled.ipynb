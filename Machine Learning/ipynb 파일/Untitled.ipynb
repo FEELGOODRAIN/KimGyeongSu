{
 "cells": [
  {
   "cell_type": "markdown",
   "id": "45b2ee31",
   "metadata": {},
   "source": [
    "# 확인학습\n",
    " - 유방암(breast cancer) 진단 데이터셋\n",
    " - 유방암 진단 사진으로부터 측정한 종양(tumar)의 특정값을 사용하여 종양이 양성인지 음성인지\n",
    " - 악성(malignant)인지를 판별하는 데이터"
   ]
  },
  {
   "cell_type": "code",
   "execution_count": 11,
   "id": "9c04342f",
   "metadata": {
    "ExecuteTime": {
     "end_time": "2023-10-23T08:31:38.612524Z",
     "start_time": "2023-10-23T08:31:36.613935Z"
    }
   },
   "outputs": [],
   "source": [
    "import numpy as np\n",
    "import pandas as pd\n",
    "import matplotlib as mpl\n",
    "import matplotlib.pyplot as plt\n",
    "import seaborn as sns\n",
    "%matplotlib inline\n",
    "#한글패치\n",
    "import platform\n",
    "from matplotlib import font_manager , rc\n",
    "\n",
    "if platform.system() == 'Darwin':\n",
    "  rc('font' , family = 'AppleGothic')\n",
    "elif platform.system() == 'Windows':\n",
    "  path = 'C:/Windows/Fonts/malgun.ttf'\n",
    "  font_name = font_manager.FontProperties(fname = path).get_name()\n",
    "  rc('font' , family = font_name)\n",
    "else:\n",
    "  print('모름')\n",
    "plt.rcParams['axes.unicode_minus'] = False\n",
    "import warnings\n",
    "warnings.filterwarnings('ignore')"
   ]
  },
  {
   "cell_type": "code",
   "execution_count": 6,
   "id": "f478b391",
   "metadata": {
    "ExecuteTime": {
     "end_time": "2023-10-23T08:26:24.576834Z",
     "start_time": "2023-10-23T08:26:24.551108Z"
    }
   },
   "outputs": [
    {
     "data": {
      "text/plain": [
       "{'data': array([[1.423e+01, 1.710e+00, 2.430e+00, ..., 1.040e+00, 3.920e+00,\n",
       "         1.065e+03],\n",
       "        [1.320e+01, 1.780e+00, 2.140e+00, ..., 1.050e+00, 3.400e+00,\n",
       "         1.050e+03],\n",
       "        [1.316e+01, 2.360e+00, 2.670e+00, ..., 1.030e+00, 3.170e+00,\n",
       "         1.185e+03],\n",
       "        ...,\n",
       "        [1.327e+01, 4.280e+00, 2.260e+00, ..., 5.900e-01, 1.560e+00,\n",
       "         8.350e+02],\n",
       "        [1.317e+01, 2.590e+00, 2.370e+00, ..., 6.000e-01, 1.620e+00,\n",
       "         8.400e+02],\n",
       "        [1.413e+01, 4.100e+00, 2.740e+00, ..., 6.100e-01, 1.600e+00,\n",
       "         5.600e+02]]),\n",
       " 'target': array([0, 0, 0, 0, 0, 0, 0, 0, 0, 0, 0, 0, 0, 0, 0, 0, 0, 0, 0, 0, 0, 0,\n",
       "        0, 0, 0, 0, 0, 0, 0, 0, 0, 0, 0, 0, 0, 0, 0, 0, 0, 0, 0, 0, 0, 0,\n",
       "        0, 0, 0, 0, 0, 0, 0, 0, 0, 0, 0, 0, 0, 0, 0, 1, 1, 1, 1, 1, 1, 1,\n",
       "        1, 1, 1, 1, 1, 1, 1, 1, 1, 1, 1, 1, 1, 1, 1, 1, 1, 1, 1, 1, 1, 1,\n",
       "        1, 1, 1, 1, 1, 1, 1, 1, 1, 1, 1, 1, 1, 1, 1, 1, 1, 1, 1, 1, 1, 1,\n",
       "        1, 1, 1, 1, 1, 1, 1, 1, 1, 1, 1, 1, 1, 1, 1, 1, 1, 1, 1, 1, 2, 2,\n",
       "        2, 2, 2, 2, 2, 2, 2, 2, 2, 2, 2, 2, 2, 2, 2, 2, 2, 2, 2, 2, 2, 2,\n",
       "        2, 2, 2, 2, 2, 2, 2, 2, 2, 2, 2, 2, 2, 2, 2, 2, 2, 2, 2, 2, 2, 2,\n",
       "        2, 2]),\n",
       " 'frame': None,\n",
       " 'target_names': array(['class_0', 'class_1', 'class_2'], dtype='<U7'),\n",
       " 'DESCR': '.. _wine_dataset:\\n\\nWine recognition dataset\\n------------------------\\n\\n**Data Set Characteristics:**\\n\\n    :Number of Instances: 178\\n    :Number of Attributes: 13 numeric, predictive attributes and the class\\n    :Attribute Information:\\n \\t\\t- Alcohol\\n \\t\\t- Malic acid\\n \\t\\t- Ash\\n\\t\\t- Alcalinity of ash  \\n \\t\\t- Magnesium\\n\\t\\t- Total phenols\\n \\t\\t- Flavanoids\\n \\t\\t- Nonflavanoid phenols\\n \\t\\t- Proanthocyanins\\n\\t\\t- Color intensity\\n \\t\\t- Hue\\n \\t\\t- OD280/OD315 of diluted wines\\n \\t\\t- Proline\\n\\n    - class:\\n            - class_0\\n            - class_1\\n            - class_2\\n\\t\\t\\n    :Summary Statistics:\\n    \\n    ============================= ==== ===== ======= =====\\n                                   Min   Max   Mean     SD\\n    ============================= ==== ===== ======= =====\\n    Alcohol:                      11.0  14.8    13.0   0.8\\n    Malic Acid:                   0.74  5.80    2.34  1.12\\n    Ash:                          1.36  3.23    2.36  0.27\\n    Alcalinity of Ash:            10.6  30.0    19.5   3.3\\n    Magnesium:                    70.0 162.0    99.7  14.3\\n    Total Phenols:                0.98  3.88    2.29  0.63\\n    Flavanoids:                   0.34  5.08    2.03  1.00\\n    Nonflavanoid Phenols:         0.13  0.66    0.36  0.12\\n    Proanthocyanins:              0.41  3.58    1.59  0.57\\n    Colour Intensity:              1.3  13.0     5.1   2.3\\n    Hue:                          0.48  1.71    0.96  0.23\\n    OD280/OD315 of diluted wines: 1.27  4.00    2.61  0.71\\n    Proline:                       278  1680     746   315\\n    ============================= ==== ===== ======= =====\\n\\n    :Missing Attribute Values: None\\n    :Class Distribution: class_0 (59), class_1 (71), class_2 (48)\\n    :Creator: R.A. Fisher\\n    :Donor: Michael Marshall (MARSHALL%PLU@io.arc.nasa.gov)\\n    :Date: July, 1988\\n\\nThis is a copy of UCI ML Wine recognition datasets.\\nhttps://archive.ics.uci.edu/ml/machine-learning-databases/wine/wine.data\\n\\nThe data is the results of a chemical analysis of wines grown in the same\\nregion in Italy by three different cultivators. There are thirteen different\\nmeasurements taken for different constituents found in the three types of\\nwine.\\n\\nOriginal Owners: \\n\\nForina, M. et al, PARVUS - \\nAn Extendible Package for Data Exploration, Classification and Correlation. \\nInstitute of Pharmaceutical and Food Analysis and Technologies,\\nVia Brigata Salerno, 16147 Genoa, Italy.\\n\\nCitation:\\n\\nLichman, M. (2013). UCI Machine Learning Repository\\n[https://archive.ics.uci.edu/ml]. Irvine, CA: University of California,\\nSchool of Information and Computer Science. \\n\\n.. topic:: References\\n\\n  (1) S. Aeberhard, D. Coomans and O. de Vel, \\n  Comparison of Classifiers in High Dimensional Settings, \\n  Tech. Rep. no. 92-02, (1992), Dept. of Computer Science and Dept. of  \\n  Mathematics and Statistics, James Cook University of North Queensland. \\n  (Also submitted to Technometrics). \\n\\n  The data was used with many others for comparing various \\n  classifiers. The classes are separable, though only RDA \\n  has achieved 100% correct classification. \\n  (RDA : 100%, QDA 99.4%, LDA 98.9%, 1NN 96.1% (z-transformed data)) \\n  (All results using the leave-one-out technique) \\n\\n  (2) S. Aeberhard, D. Coomans and O. de Vel, \\n  \"THE CLASSIFICATION PERFORMANCE OF RDA\" \\n  Tech. Rep. no. 92-01, (1992), Dept. of Computer Science and Dept. of \\n  Mathematics and Statistics, James Cook University of North Queensland. \\n  (Also submitted to Journal of Chemometrics).\\n',\n",
       " 'feature_names': ['alcohol',\n",
       "  'malic_acid',\n",
       "  'ash',\n",
       "  'alcalinity_of_ash',\n",
       "  'magnesium',\n",
       "  'total_phenols',\n",
       "  'flavanoids',\n",
       "  'nonflavanoid_phenols',\n",
       "  'proanthocyanins',\n",
       "  'color_intensity',\n",
       "  'hue',\n",
       "  'od280/od315_of_diluted_wines',\n",
       "  'proline']}"
      ]
     },
     "execution_count": 6,
     "metadata": {},
     "output_type": "execute_result"
    }
   ],
   "source": [
    "# 와인 데이터 로드\n",
    "from sklearn.datasets import load_wine\n",
    "y = load_wine()\n",
    "y"
   ]
  },
  {
   "cell_type": "code",
   "execution_count": 9,
   "id": "7fd7ba52",
   "metadata": {
    "ExecuteTime": {
     "end_time": "2023-10-23T08:30:44.207339Z",
     "start_time": "2023-10-23T08:30:44.193564Z"
    }
   },
   "outputs": [
    {
     "data": {
      "text/plain": [
       "dict_keys(['data', 'target', 'frame', 'target_names', 'DESCR', 'feature_names'])"
      ]
     },
     "execution_count": 9,
     "metadata": {},
     "output_type": "execute_result"
    }
   ],
   "source": [
    "y.keys()"
   ]
  },
  {
   "cell_type": "code",
   "execution_count": 13,
   "id": "c43610c4",
   "metadata": {
    "ExecuteTime": {
     "end_time": "2023-10-23T08:31:47.843680Z",
     "start_time": "2023-10-23T08:31:47.811754Z"
    }
   },
   "outputs": [
    {
     "data": {
      "text/html": [
       "<div>\n",
       "<style scoped>\n",
       "    .dataframe tbody tr th:only-of-type {\n",
       "        vertical-align: middle;\n",
       "    }\n",
       "\n",
       "    .dataframe tbody tr th {\n",
       "        vertical-align: top;\n",
       "    }\n",
       "\n",
       "    .dataframe thead th {\n",
       "        text-align: right;\n",
       "    }\n",
       "</style>\n",
       "<table border=\"1\" class=\"dataframe\">\n",
       "  <thead>\n",
       "    <tr style=\"text-align: right;\">\n",
       "      <th></th>\n",
       "      <th>alcohol</th>\n",
       "      <th>malic_acid</th>\n",
       "      <th>ash</th>\n",
       "      <th>alcalinity_of_ash</th>\n",
       "      <th>magnesium</th>\n",
       "      <th>total_phenols</th>\n",
       "      <th>flavanoids</th>\n",
       "      <th>nonflavanoid_phenols</th>\n",
       "      <th>proanthocyanins</th>\n",
       "      <th>color_intensity</th>\n",
       "      <th>hue</th>\n",
       "      <th>od280/od315_of_diluted_wines</th>\n",
       "      <th>proline</th>\n",
       "    </tr>\n",
       "  </thead>\n",
       "  <tbody>\n",
       "    <tr>\n",
       "      <th>0</th>\n",
       "      <td>14.23</td>\n",
       "      <td>1.71</td>\n",
       "      <td>2.43</td>\n",
       "      <td>15.6</td>\n",
       "      <td>127.0</td>\n",
       "      <td>2.80</td>\n",
       "      <td>3.06</td>\n",
       "      <td>0.28</td>\n",
       "      <td>2.29</td>\n",
       "      <td>5.64</td>\n",
       "      <td>1.04</td>\n",
       "      <td>3.92</td>\n",
       "      <td>1065.0</td>\n",
       "    </tr>\n",
       "    <tr>\n",
       "      <th>1</th>\n",
       "      <td>13.20</td>\n",
       "      <td>1.78</td>\n",
       "      <td>2.14</td>\n",
       "      <td>11.2</td>\n",
       "      <td>100.0</td>\n",
       "      <td>2.65</td>\n",
       "      <td>2.76</td>\n",
       "      <td>0.26</td>\n",
       "      <td>1.28</td>\n",
       "      <td>4.38</td>\n",
       "      <td>1.05</td>\n",
       "      <td>3.40</td>\n",
       "      <td>1050.0</td>\n",
       "    </tr>\n",
       "    <tr>\n",
       "      <th>2</th>\n",
       "      <td>13.16</td>\n",
       "      <td>2.36</td>\n",
       "      <td>2.67</td>\n",
       "      <td>18.6</td>\n",
       "      <td>101.0</td>\n",
       "      <td>2.80</td>\n",
       "      <td>3.24</td>\n",
       "      <td>0.30</td>\n",
       "      <td>2.81</td>\n",
       "      <td>5.68</td>\n",
       "      <td>1.03</td>\n",
       "      <td>3.17</td>\n",
       "      <td>1185.0</td>\n",
       "    </tr>\n",
       "    <tr>\n",
       "      <th>3</th>\n",
       "      <td>14.37</td>\n",
       "      <td>1.95</td>\n",
       "      <td>2.50</td>\n",
       "      <td>16.8</td>\n",
       "      <td>113.0</td>\n",
       "      <td>3.85</td>\n",
       "      <td>3.49</td>\n",
       "      <td>0.24</td>\n",
       "      <td>2.18</td>\n",
       "      <td>7.80</td>\n",
       "      <td>0.86</td>\n",
       "      <td>3.45</td>\n",
       "      <td>1480.0</td>\n",
       "    </tr>\n",
       "    <tr>\n",
       "      <th>4</th>\n",
       "      <td>13.24</td>\n",
       "      <td>2.59</td>\n",
       "      <td>2.87</td>\n",
       "      <td>21.0</td>\n",
       "      <td>118.0</td>\n",
       "      <td>2.80</td>\n",
       "      <td>2.69</td>\n",
       "      <td>0.39</td>\n",
       "      <td>1.82</td>\n",
       "      <td>4.32</td>\n",
       "      <td>1.04</td>\n",
       "      <td>2.93</td>\n",
       "      <td>735.0</td>\n",
       "    </tr>\n",
       "    <tr>\n",
       "      <th>...</th>\n",
       "      <td>...</td>\n",
       "      <td>...</td>\n",
       "      <td>...</td>\n",
       "      <td>...</td>\n",
       "      <td>...</td>\n",
       "      <td>...</td>\n",
       "      <td>...</td>\n",
       "      <td>...</td>\n",
       "      <td>...</td>\n",
       "      <td>...</td>\n",
       "      <td>...</td>\n",
       "      <td>...</td>\n",
       "      <td>...</td>\n",
       "    </tr>\n",
       "    <tr>\n",
       "      <th>173</th>\n",
       "      <td>13.71</td>\n",
       "      <td>5.65</td>\n",
       "      <td>2.45</td>\n",
       "      <td>20.5</td>\n",
       "      <td>95.0</td>\n",
       "      <td>1.68</td>\n",
       "      <td>0.61</td>\n",
       "      <td>0.52</td>\n",
       "      <td>1.06</td>\n",
       "      <td>7.70</td>\n",
       "      <td>0.64</td>\n",
       "      <td>1.74</td>\n",
       "      <td>740.0</td>\n",
       "    </tr>\n",
       "    <tr>\n",
       "      <th>174</th>\n",
       "      <td>13.40</td>\n",
       "      <td>3.91</td>\n",
       "      <td>2.48</td>\n",
       "      <td>23.0</td>\n",
       "      <td>102.0</td>\n",
       "      <td>1.80</td>\n",
       "      <td>0.75</td>\n",
       "      <td>0.43</td>\n",
       "      <td>1.41</td>\n",
       "      <td>7.30</td>\n",
       "      <td>0.70</td>\n",
       "      <td>1.56</td>\n",
       "      <td>750.0</td>\n",
       "    </tr>\n",
       "    <tr>\n",
       "      <th>175</th>\n",
       "      <td>13.27</td>\n",
       "      <td>4.28</td>\n",
       "      <td>2.26</td>\n",
       "      <td>20.0</td>\n",
       "      <td>120.0</td>\n",
       "      <td>1.59</td>\n",
       "      <td>0.69</td>\n",
       "      <td>0.43</td>\n",
       "      <td>1.35</td>\n",
       "      <td>10.20</td>\n",
       "      <td>0.59</td>\n",
       "      <td>1.56</td>\n",
       "      <td>835.0</td>\n",
       "    </tr>\n",
       "    <tr>\n",
       "      <th>176</th>\n",
       "      <td>13.17</td>\n",
       "      <td>2.59</td>\n",
       "      <td>2.37</td>\n",
       "      <td>20.0</td>\n",
       "      <td>120.0</td>\n",
       "      <td>1.65</td>\n",
       "      <td>0.68</td>\n",
       "      <td>0.53</td>\n",
       "      <td>1.46</td>\n",
       "      <td>9.30</td>\n",
       "      <td>0.60</td>\n",
       "      <td>1.62</td>\n",
       "      <td>840.0</td>\n",
       "    </tr>\n",
       "    <tr>\n",
       "      <th>177</th>\n",
       "      <td>14.13</td>\n",
       "      <td>4.10</td>\n",
       "      <td>2.74</td>\n",
       "      <td>24.5</td>\n",
       "      <td>96.0</td>\n",
       "      <td>2.05</td>\n",
       "      <td>0.76</td>\n",
       "      <td>0.56</td>\n",
       "      <td>1.35</td>\n",
       "      <td>9.20</td>\n",
       "      <td>0.61</td>\n",
       "      <td>1.60</td>\n",
       "      <td>560.0</td>\n",
       "    </tr>\n",
       "  </tbody>\n",
       "</table>\n",
       "<p>178 rows × 13 columns</p>\n",
       "</div>"
      ],
      "text/plain": [
       "     alcohol  malic_acid   ash  alcalinity_of_ash  magnesium  total_phenols  \\\n",
       "0      14.23        1.71  2.43               15.6      127.0           2.80   \n",
       "1      13.20        1.78  2.14               11.2      100.0           2.65   \n",
       "2      13.16        2.36  2.67               18.6      101.0           2.80   \n",
       "3      14.37        1.95  2.50               16.8      113.0           3.85   \n",
       "4      13.24        2.59  2.87               21.0      118.0           2.80   \n",
       "..       ...         ...   ...                ...        ...            ...   \n",
       "173    13.71        5.65  2.45               20.5       95.0           1.68   \n",
       "174    13.40        3.91  2.48               23.0      102.0           1.80   \n",
       "175    13.27        4.28  2.26               20.0      120.0           1.59   \n",
       "176    13.17        2.59  2.37               20.0      120.0           1.65   \n",
       "177    14.13        4.10  2.74               24.5       96.0           2.05   \n",
       "\n",
       "     flavanoids  nonflavanoid_phenols  proanthocyanins  color_intensity   hue  \\\n",
       "0          3.06                  0.28             2.29             5.64  1.04   \n",
       "1          2.76                  0.26             1.28             4.38  1.05   \n",
       "2          3.24                  0.30             2.81             5.68  1.03   \n",
       "3          3.49                  0.24             2.18             7.80  0.86   \n",
       "4          2.69                  0.39             1.82             4.32  1.04   \n",
       "..          ...                   ...              ...              ...   ...   \n",
       "173        0.61                  0.52             1.06             7.70  0.64   \n",
       "174        0.75                  0.43             1.41             7.30  0.70   \n",
       "175        0.69                  0.43             1.35            10.20  0.59   \n",
       "176        0.68                  0.53             1.46             9.30  0.60   \n",
       "177        0.76                  0.56             1.35             9.20  0.61   \n",
       "\n",
       "     od280/od315_of_diluted_wines  proline  \n",
       "0                            3.92   1065.0  \n",
       "1                            3.40   1050.0  \n",
       "2                            3.17   1185.0  \n",
       "3                            3.45   1480.0  \n",
       "4                            2.93    735.0  \n",
       "..                            ...      ...  \n",
       "173                          1.74    740.0  \n",
       "174                          1.56    750.0  \n",
       "175                          1.56    835.0  \n",
       "176                          1.62    840.0  \n",
       "177                          1.60    560.0  \n",
       "\n",
       "[178 rows x 13 columns]"
      ]
     },
     "execution_count": 13,
     "metadata": {},
     "output_type": "execute_result"
    }
   ],
   "source": [
    "## iris를 데이터 프레임 형태로 변환\n",
    "df = pd.DataFrame(y.data , columns = y.feature_names)\n",
    "df"
   ]
  },
  {
   "cell_type": "code",
   "execution_count": 14,
   "id": "2b147308",
   "metadata": {
    "ExecuteTime": {
     "end_time": "2023-10-23T08:34:47.467001Z",
     "start_time": "2023-10-23T08:34:47.371394Z"
    }
   },
   "outputs": [],
   "source": [
    "from sklearn.model_selection import train_test_split"
   ]
  },
  {
   "cell_type": "code",
   "execution_count": 33,
   "id": "16cefb54",
   "metadata": {
    "ExecuteTime": {
     "end_time": "2023-10-23T08:41:41.560532Z",
     "start_time": "2023-10-23T08:41:41.534466Z"
    }
   },
   "outputs": [
    {
     "data": {
      "text/plain": [
       "array([[ 14.23,   1.71,   2.43,  15.6 , 127.  ],\n",
       "       [ 13.2 ,   1.78,   2.14,  11.2 , 100.  ],\n",
       "       [ 13.16,   2.36,   2.67,  18.6 , 101.  ],\n",
       "       [ 14.37,   1.95,   2.5 ,  16.8 , 113.  ],\n",
       "       [ 13.24,   2.59,   2.87,  21.  , 118.  ],\n",
       "       [ 14.2 ,   1.76,   2.45,  15.2 , 112.  ],\n",
       "       [ 14.39,   1.87,   2.45,  14.6 ,  96.  ],\n",
       "       [ 14.06,   2.15,   2.61,  17.6 , 121.  ],\n",
       "       [ 14.83,   1.64,   2.17,  14.  ,  97.  ],\n",
       "       [ 13.86,   1.35,   2.27,  16.  ,  98.  ],\n",
       "       [ 14.1 ,   2.16,   2.3 ,  18.  , 105.  ],\n",
       "       [ 14.12,   1.48,   2.32,  16.8 ,  95.  ],\n",
       "       [ 13.75,   1.73,   2.41,  16.  ,  89.  ],\n",
       "       [ 14.75,   1.73,   2.39,  11.4 ,  91.  ],\n",
       "       [ 14.38,   1.87,   2.38,  12.  , 102.  ],\n",
       "       [ 13.63,   1.81,   2.7 ,  17.2 , 112.  ],\n",
       "       [ 14.3 ,   1.92,   2.72,  20.  , 120.  ],\n",
       "       [ 13.83,   1.57,   2.62,  20.  , 115.  ],\n",
       "       [ 14.19,   1.59,   2.48,  16.5 , 108.  ],\n",
       "       [ 13.64,   3.1 ,   2.56,  15.2 , 116.  ],\n",
       "       [ 14.06,   1.63,   2.28,  16.  , 126.  ],\n",
       "       [ 12.93,   3.8 ,   2.65,  18.6 , 102.  ],\n",
       "       [ 13.71,   1.86,   2.36,  16.6 , 101.  ],\n",
       "       [ 12.85,   1.6 ,   2.52,  17.8 ,  95.  ],\n",
       "       [ 13.5 ,   1.81,   2.61,  20.  ,  96.  ],\n",
       "       [ 13.05,   2.05,   3.22,  25.  , 124.  ],\n",
       "       [ 13.39,   1.77,   2.62,  16.1 ,  93.  ],\n",
       "       [ 13.3 ,   1.72,   2.14,  17.  ,  94.  ],\n",
       "       [ 13.87,   1.9 ,   2.8 ,  19.4 , 107.  ],\n",
       "       [ 14.02,   1.68,   2.21,  16.  ,  96.  ],\n",
       "       [ 13.73,   1.5 ,   2.7 ,  22.5 , 101.  ],\n",
       "       [ 13.58,   1.66,   2.36,  19.1 , 106.  ],\n",
       "       [ 13.68,   1.83,   2.36,  17.2 , 104.  ],\n",
       "       [ 13.76,   1.53,   2.7 ,  19.5 , 132.  ],\n",
       "       [ 13.51,   1.8 ,   2.65,  19.  , 110.  ],\n",
       "       [ 13.48,   1.81,   2.41,  20.5 , 100.  ],\n",
       "       [ 13.28,   1.64,   2.84,  15.5 , 110.  ],\n",
       "       [ 13.05,   1.65,   2.55,  18.  ,  98.  ],\n",
       "       [ 13.07,   1.5 ,   2.1 ,  15.5 ,  98.  ],\n",
       "       [ 14.22,   3.99,   2.51,  13.2 , 128.  ],\n",
       "       [ 13.56,   1.71,   2.31,  16.2 , 117.  ],\n",
       "       [ 13.41,   3.84,   2.12,  18.8 ,  90.  ],\n",
       "       [ 13.88,   1.89,   2.59,  15.  , 101.  ],\n",
       "       [ 13.24,   3.98,   2.29,  17.5 , 103.  ],\n",
       "       [ 13.05,   1.77,   2.1 ,  17.  , 107.  ],\n",
       "       [ 14.21,   4.04,   2.44,  18.9 , 111.  ],\n",
       "       [ 14.38,   3.59,   2.28,  16.  , 102.  ],\n",
       "       [ 13.9 ,   1.68,   2.12,  16.  , 101.  ],\n",
       "       [ 14.1 ,   2.02,   2.4 ,  18.8 , 103.  ],\n",
       "       [ 13.94,   1.73,   2.27,  17.4 , 108.  ],\n",
       "       [ 13.05,   1.73,   2.04,  12.4 ,  92.  ],\n",
       "       [ 13.83,   1.65,   2.6 ,  17.2 ,  94.  ],\n",
       "       [ 13.82,   1.75,   2.42,  14.  , 111.  ],\n",
       "       [ 13.77,   1.9 ,   2.68,  17.1 , 115.  ],\n",
       "       [ 13.74,   1.67,   2.25,  16.4 , 118.  ],\n",
       "       [ 13.56,   1.73,   2.46,  20.5 , 116.  ],\n",
       "       [ 14.22,   1.7 ,   2.3 ,  16.3 , 118.  ],\n",
       "       [ 13.29,   1.97,   2.68,  16.8 , 102.  ],\n",
       "       [ 13.72,   1.43,   2.5 ,  16.7 , 108.  ],\n",
       "       [ 12.37,   0.94,   1.36,  10.6 ,  88.  ],\n",
       "       [ 12.33,   1.1 ,   2.28,  16.  , 101.  ],\n",
       "       [ 12.64,   1.36,   2.02,  16.8 , 100.  ],\n",
       "       [ 13.67,   1.25,   1.92,  18.  ,  94.  ],\n",
       "       [ 12.37,   1.13,   2.16,  19.  ,  87.  ],\n",
       "       [ 12.17,   1.45,   2.53,  19.  , 104.  ],\n",
       "       [ 12.37,   1.21,   2.56,  18.1 ,  98.  ],\n",
       "       [ 13.11,   1.01,   1.7 ,  15.  ,  78.  ],\n",
       "       [ 12.37,   1.17,   1.92,  19.6 ,  78.  ],\n",
       "       [ 13.34,   0.94,   2.36,  17.  , 110.  ],\n",
       "       [ 12.21,   1.19,   1.75,  16.8 , 151.  ],\n",
       "       [ 12.29,   1.61,   2.21,  20.4 , 103.  ],\n",
       "       [ 13.86,   1.51,   2.67,  25.  ,  86.  ],\n",
       "       [ 13.49,   1.66,   2.24,  24.  ,  87.  ],\n",
       "       [ 12.99,   1.67,   2.6 ,  30.  , 139.  ],\n",
       "       [ 11.96,   1.09,   2.3 ,  21.  , 101.  ],\n",
       "       [ 11.66,   1.88,   1.92,  16.  ,  97.  ],\n",
       "       [ 13.03,   0.9 ,   1.71,  16.  ,  86.  ],\n",
       "       [ 11.84,   2.89,   2.23,  18.  , 112.  ],\n",
       "       [ 12.33,   0.99,   1.95,  14.8 , 136.  ],\n",
       "       [ 12.7 ,   3.87,   2.4 ,  23.  , 101.  ],\n",
       "       [ 12.  ,   0.92,   2.  ,  19.  ,  86.  ],\n",
       "       [ 12.72,   1.81,   2.2 ,  18.8 ,  86.  ],\n",
       "       [ 12.08,   1.13,   2.51,  24.  ,  78.  ],\n",
       "       [ 13.05,   3.86,   2.32,  22.5 ,  85.  ],\n",
       "       [ 11.84,   0.89,   2.58,  18.  ,  94.  ],\n",
       "       [ 12.67,   0.98,   2.24,  18.  ,  99.  ],\n",
       "       [ 12.16,   1.61,   2.31,  22.8 ,  90.  ],\n",
       "       [ 11.65,   1.67,   2.62,  26.  ,  88.  ],\n",
       "       [ 11.64,   2.06,   2.46,  21.6 ,  84.  ],\n",
       "       [ 12.08,   1.33,   2.3 ,  23.6 ,  70.  ],\n",
       "       [ 12.08,   1.83,   2.32,  18.5 ,  81.  ],\n",
       "       [ 12.  ,   1.51,   2.42,  22.  ,  86.  ],\n",
       "       [ 12.69,   1.53,   2.26,  20.7 ,  80.  ],\n",
       "       [ 12.29,   2.83,   2.22,  18.  ,  88.  ],\n",
       "       [ 11.62,   1.99,   2.28,  18.  ,  98.  ],\n",
       "       [ 12.47,   1.52,   2.2 ,  19.  , 162.  ],\n",
       "       [ 11.81,   2.12,   2.74,  21.5 , 134.  ],\n",
       "       [ 12.29,   1.41,   1.98,  16.  ,  85.  ],\n",
       "       [ 12.37,   1.07,   2.1 ,  18.5 ,  88.  ],\n",
       "       [ 12.29,   3.17,   2.21,  18.  ,  88.  ],\n",
       "       [ 12.08,   2.08,   1.7 ,  17.5 ,  97.  ],\n",
       "       [ 12.6 ,   1.34,   1.9 ,  18.5 ,  88.  ],\n",
       "       [ 12.34,   2.45,   2.46,  21.  ,  98.  ],\n",
       "       [ 11.82,   1.72,   1.88,  19.5 ,  86.  ],\n",
       "       [ 12.51,   1.73,   1.98,  20.5 ,  85.  ],\n",
       "       [ 12.42,   2.55,   2.27,  22.  ,  90.  ],\n",
       "       [ 12.25,   1.73,   2.12,  19.  ,  80.  ],\n",
       "       [ 12.72,   1.75,   2.28,  22.5 ,  84.  ],\n",
       "       [ 12.22,   1.29,   1.94,  19.  ,  92.  ],\n",
       "       [ 11.61,   1.35,   2.7 ,  20.  ,  94.  ],\n",
       "       [ 11.46,   3.74,   1.82,  19.5 , 107.  ],\n",
       "       [ 12.52,   2.43,   2.17,  21.  ,  88.  ],\n",
       "       [ 11.76,   2.68,   2.92,  20.  , 103.  ],\n",
       "       [ 11.41,   0.74,   2.5 ,  21.  ,  88.  ],\n",
       "       [ 12.08,   1.39,   2.5 ,  22.5 ,  84.  ],\n",
       "       [ 11.03,   1.51,   2.2 ,  21.5 ,  85.  ],\n",
       "       [ 11.82,   1.47,   1.99,  20.8 ,  86.  ],\n",
       "       [ 12.42,   1.61,   2.19,  22.5 , 108.  ],\n",
       "       [ 12.77,   3.43,   1.98,  16.  ,  80.  ],\n",
       "       [ 12.  ,   3.43,   2.  ,  19.  ,  87.  ],\n",
       "       [ 11.45,   2.4 ,   2.42,  20.  ,  96.  ],\n",
       "       [ 11.56,   2.05,   3.23,  28.5 , 119.  ],\n",
       "       [ 12.42,   4.43,   2.73,  26.5 , 102.  ],\n",
       "       [ 13.05,   5.8 ,   2.13,  21.5 ,  86.  ],\n",
       "       [ 11.87,   4.31,   2.39,  21.  ,  82.  ],\n",
       "       [ 12.07,   2.16,   2.17,  21.  ,  85.  ],\n",
       "       [ 12.43,   1.53,   2.29,  21.5 ,  86.  ],\n",
       "       [ 11.79,   2.13,   2.78,  28.5 ,  92.  ],\n",
       "       [ 12.37,   1.63,   2.3 ,  24.5 ,  88.  ],\n",
       "       [ 12.04,   4.3 ,   2.38,  22.  ,  80.  ],\n",
       "       [ 12.86,   1.35,   2.32,  18.  , 122.  ],\n",
       "       [ 12.88,   2.99,   2.4 ,  20.  , 104.  ],\n",
       "       [ 12.81,   2.31,   2.4 ,  24.  ,  98.  ],\n",
       "       [ 12.7 ,   3.55,   2.36,  21.5 , 106.  ],\n",
       "       [ 12.51,   1.24,   2.25,  17.5 ,  85.  ],\n",
       "       [ 12.6 ,   2.46,   2.2 ,  18.5 ,  94.  ],\n",
       "       [ 12.25,   4.72,   2.54,  21.  ,  89.  ],\n",
       "       [ 12.53,   5.51,   2.64,  25.  ,  96.  ],\n",
       "       [ 13.49,   3.59,   2.19,  19.5 ,  88.  ],\n",
       "       [ 12.84,   2.96,   2.61,  24.  , 101.  ],\n",
       "       [ 12.93,   2.81,   2.7 ,  21.  ,  96.  ],\n",
       "       [ 13.36,   2.56,   2.35,  20.  ,  89.  ],\n",
       "       [ 13.52,   3.17,   2.72,  23.5 ,  97.  ],\n",
       "       [ 13.62,   4.95,   2.35,  20.  ,  92.  ],\n",
       "       [ 12.25,   3.88,   2.2 ,  18.5 , 112.  ],\n",
       "       [ 13.16,   3.57,   2.15,  21.  , 102.  ],\n",
       "       [ 13.88,   5.04,   2.23,  20.  ,  80.  ],\n",
       "       [ 12.87,   4.61,   2.48,  21.5 ,  86.  ],\n",
       "       [ 13.32,   3.24,   2.38,  21.5 ,  92.  ],\n",
       "       [ 13.08,   3.9 ,   2.36,  21.5 , 113.  ],\n",
       "       [ 13.5 ,   3.12,   2.62,  24.  , 123.  ],\n",
       "       [ 12.79,   2.67,   2.48,  22.  , 112.  ],\n",
       "       [ 13.11,   1.9 ,   2.75,  25.5 , 116.  ],\n",
       "       [ 13.23,   3.3 ,   2.28,  18.5 ,  98.  ],\n",
       "       [ 12.58,   1.29,   2.1 ,  20.  , 103.  ],\n",
       "       [ 13.17,   5.19,   2.32,  22.  ,  93.  ],\n",
       "       [ 13.84,   4.12,   2.38,  19.5 ,  89.  ],\n",
       "       [ 12.45,   3.03,   2.64,  27.  ,  97.  ],\n",
       "       [ 14.34,   1.68,   2.7 ,  25.  ,  98.  ],\n",
       "       [ 13.48,   1.67,   2.64,  22.5 ,  89.  ],\n",
       "       [ 12.36,   3.83,   2.38,  21.  ,  88.  ],\n",
       "       [ 13.69,   3.26,   2.54,  20.  , 107.  ],\n",
       "       [ 12.85,   3.27,   2.58,  22.  , 106.  ],\n",
       "       [ 12.96,   3.45,   2.35,  18.5 , 106.  ],\n",
       "       [ 13.78,   2.76,   2.3 ,  22.  ,  90.  ],\n",
       "       [ 13.73,   4.36,   2.26,  22.5 ,  88.  ],\n",
       "       [ 13.45,   3.7 ,   2.6 ,  23.  , 111.  ],\n",
       "       [ 12.82,   3.37,   2.3 ,  19.5 ,  88.  ],\n",
       "       [ 13.58,   2.58,   2.69,  24.5 , 105.  ],\n",
       "       [ 13.4 ,   4.6 ,   2.86,  25.  , 112.  ],\n",
       "       [ 12.2 ,   3.03,   2.32,  19.  ,  96.  ],\n",
       "       [ 12.77,   2.39,   2.28,  19.5 ,  86.  ],\n",
       "       [ 14.16,   2.51,   2.48,  20.  ,  91.  ],\n",
       "       [ 13.71,   5.65,   2.45,  20.5 ,  95.  ],\n",
       "       [ 13.4 ,   3.91,   2.48,  23.  , 102.  ],\n",
       "       [ 13.27,   4.28,   2.26,  20.  , 120.  ],\n",
       "       [ 13.17,   2.59,   2.37,  20.  , 120.  ],\n",
       "       [ 14.13,   4.1 ,   2.74,  24.5 ,  96.  ]])"
      ]
     },
     "execution_count": 33,
     "metadata": {},
     "output_type": "execute_result"
    }
   ],
   "source": [
    "y.data[:,:5]"
   ]
  },
  {
   "cell_type": "code",
   "execution_count": 40,
   "id": "29505c02",
   "metadata": {
    "ExecuteTime": {
     "end_time": "2023-10-23T08:44:04.513613Z",
     "start_time": "2023-10-23T08:44:04.508095Z"
    }
   },
   "outputs": [],
   "source": [
    "X_train , X_test , y_train , y_test = train_test_split(y.data , y.target , test_size = 0.3, random_state = 2)"
   ]
  },
  {
   "cell_type": "code",
   "execution_count": 18,
   "id": "377dc192",
   "metadata": {
    "ExecuteTime": {
     "end_time": "2023-10-23T08:36:25.519848Z",
     "start_time": "2023-10-23T08:36:25.340515Z"
    }
   },
   "outputs": [],
   "source": [
    "from sklearn.neighbors import KNeighborsClassifier"
   ]
  },
  {
   "cell_type": "code",
   "execution_count": 21,
   "id": "00600263",
   "metadata": {
    "ExecuteTime": {
     "end_time": "2023-10-23T08:36:49.042623Z",
     "start_time": "2023-10-23T08:36:48.419633Z"
    }
   },
   "outputs": [
    {
     "name": "stdout",
     "output_type": "stream",
     "text": [
      "1.0\n",
      "0.8629032258064516\n",
      "0.782258064516129\n",
      "0.7338709677419355\n",
      "0.7580645161290323\n",
      "0.7338709677419355\n",
      "0.717741935483871\n",
      "0.7338709677419355\n",
      "0.7338709677419355\n",
      "0.7338709677419355\n",
      "0.7338709677419355\n",
      "0.7338709677419355\n",
      "0.7338709677419355\n",
      "0.7419354838709677\n",
      "0.7338709677419355\n",
      "0.7338709677419355\n",
      "0.7338709677419355\n",
      "0.7338709677419355\n",
      "0.7338709677419355\n",
      "0.7338709677419355\n",
      "0.7338709677419355\n",
      "0.7338709677419355\n",
      "0.7258064516129032\n",
      "0.7096774193548387\n",
      "0.7258064516129032\n",
      "0.7096774193548387\n",
      "0.7096774193548387\n",
      "0.7096774193548387\n",
      "0.717741935483871\n",
      "0.7016129032258065\n",
      "0.7016129032258065\n",
      "0.7016129032258065\n",
      "0.6774193548387096\n",
      "0.6774193548387096\n",
      "0.6693548387096774\n",
      "0.6774193548387096\n",
      "0.6693548387096774\n",
      "0.6935483870967742\n",
      "0.6693548387096774\n",
      "0.6693548387096774\n",
      "0.6612903225806451\n",
      "0.6612903225806451\n",
      "0.6532258064516129\n",
      "0.6532258064516129\n",
      "0.6370967741935484\n",
      "0.6370967741935484\n",
      "0.6370967741935484\n",
      "0.6370967741935484\n",
      "0.6370967741935484\n",
      "0.6370967741935484\n",
      "0.6370967741935484\n",
      "0.6370967741935484\n",
      "0.6370967741935484\n",
      "0.6532258064516129\n",
      "0.6532258064516129\n",
      "0.6209677419354839\n"
     ]
    }
   ],
   "source": [
    "# 최적의 K 찾기\n",
    "for i in range(1,113,2):\n",
    "    knnn = KNeighborsClassifier(n_neighbors = i)\n",
    "    knnn.fit(X_train , y_train)\n",
    "    score = knnn.score(X_train , y_train)\n",
    "    print(score)"
   ]
  },
  {
   "cell_type": "markdown",
   "id": "aed4ca11",
   "metadata": {},
   "source": [
    "- K = 3일 때 , 점수가 가장 높음"
   ]
  },
  {
   "cell_type": "code",
   "execution_count": 41,
   "id": "6244dbce",
   "metadata": {
    "ExecuteTime": {
     "end_time": "2023-10-23T08:44:14.531672Z",
     "start_time": "2023-10-23T08:44:14.527275Z"
    }
   },
   "outputs": [],
   "source": [
    "knn = KNeighborsClassifier(n_neighbors = 3)"
   ]
  },
  {
   "cell_type": "code",
   "execution_count": 23,
   "id": "8d0fb100",
   "metadata": {
    "ExecuteTime": {
     "end_time": "2023-10-23T08:37:21.179689Z",
     "start_time": "2023-10-23T08:37:21.155998Z"
    }
   },
   "outputs": [
    {
     "data": {
      "text/html": [
       "<div>\n",
       "<style scoped>\n",
       "    .dataframe tbody tr th:only-of-type {\n",
       "        vertical-align: middle;\n",
       "    }\n",
       "\n",
       "    .dataframe tbody tr th {\n",
       "        vertical-align: top;\n",
       "    }\n",
       "\n",
       "    .dataframe thead th {\n",
       "        text-align: right;\n",
       "    }\n",
       "</style>\n",
       "<table border=\"1\" class=\"dataframe\">\n",
       "  <thead>\n",
       "    <tr style=\"text-align: right;\">\n",
       "      <th></th>\n",
       "      <th>alcohol</th>\n",
       "      <th>malic_acid</th>\n",
       "      <th>ash</th>\n",
       "      <th>alcalinity_of_ash</th>\n",
       "      <th>magnesium</th>\n",
       "      <th>total_phenols</th>\n",
       "      <th>flavanoids</th>\n",
       "      <th>nonflavanoid_phenols</th>\n",
       "      <th>proanthocyanins</th>\n",
       "      <th>color_intensity</th>\n",
       "      <th>hue</th>\n",
       "      <th>od280/od315_of_diluted_wines</th>\n",
       "      <th>proline</th>\n",
       "    </tr>\n",
       "  </thead>\n",
       "  <tbody>\n",
       "    <tr>\n",
       "      <th>0</th>\n",
       "      <td>14.23</td>\n",
       "      <td>1.71</td>\n",
       "      <td>2.43</td>\n",
       "      <td>15.6</td>\n",
       "      <td>127.0</td>\n",
       "      <td>2.80</td>\n",
       "      <td>3.06</td>\n",
       "      <td>0.28</td>\n",
       "      <td>2.29</td>\n",
       "      <td>5.64</td>\n",
       "      <td>1.04</td>\n",
       "      <td>3.92</td>\n",
       "      <td>1065.0</td>\n",
       "    </tr>\n",
       "    <tr>\n",
       "      <th>1</th>\n",
       "      <td>13.20</td>\n",
       "      <td>1.78</td>\n",
       "      <td>2.14</td>\n",
       "      <td>11.2</td>\n",
       "      <td>100.0</td>\n",
       "      <td>2.65</td>\n",
       "      <td>2.76</td>\n",
       "      <td>0.26</td>\n",
       "      <td>1.28</td>\n",
       "      <td>4.38</td>\n",
       "      <td>1.05</td>\n",
       "      <td>3.40</td>\n",
       "      <td>1050.0</td>\n",
       "    </tr>\n",
       "    <tr>\n",
       "      <th>2</th>\n",
       "      <td>13.16</td>\n",
       "      <td>2.36</td>\n",
       "      <td>2.67</td>\n",
       "      <td>18.6</td>\n",
       "      <td>101.0</td>\n",
       "      <td>2.80</td>\n",
       "      <td>3.24</td>\n",
       "      <td>0.30</td>\n",
       "      <td>2.81</td>\n",
       "      <td>5.68</td>\n",
       "      <td>1.03</td>\n",
       "      <td>3.17</td>\n",
       "      <td>1185.0</td>\n",
       "    </tr>\n",
       "    <tr>\n",
       "      <th>3</th>\n",
       "      <td>14.37</td>\n",
       "      <td>1.95</td>\n",
       "      <td>2.50</td>\n",
       "      <td>16.8</td>\n",
       "      <td>113.0</td>\n",
       "      <td>3.85</td>\n",
       "      <td>3.49</td>\n",
       "      <td>0.24</td>\n",
       "      <td>2.18</td>\n",
       "      <td>7.80</td>\n",
       "      <td>0.86</td>\n",
       "      <td>3.45</td>\n",
       "      <td>1480.0</td>\n",
       "    </tr>\n",
       "    <tr>\n",
       "      <th>4</th>\n",
       "      <td>13.24</td>\n",
       "      <td>2.59</td>\n",
       "      <td>2.87</td>\n",
       "      <td>21.0</td>\n",
       "      <td>118.0</td>\n",
       "      <td>2.80</td>\n",
       "      <td>2.69</td>\n",
       "      <td>0.39</td>\n",
       "      <td>1.82</td>\n",
       "      <td>4.32</td>\n",
       "      <td>1.04</td>\n",
       "      <td>2.93</td>\n",
       "      <td>735.0</td>\n",
       "    </tr>\n",
       "    <tr>\n",
       "      <th>...</th>\n",
       "      <td>...</td>\n",
       "      <td>...</td>\n",
       "      <td>...</td>\n",
       "      <td>...</td>\n",
       "      <td>...</td>\n",
       "      <td>...</td>\n",
       "      <td>...</td>\n",
       "      <td>...</td>\n",
       "      <td>...</td>\n",
       "      <td>...</td>\n",
       "      <td>...</td>\n",
       "      <td>...</td>\n",
       "      <td>...</td>\n",
       "    </tr>\n",
       "    <tr>\n",
       "      <th>173</th>\n",
       "      <td>13.71</td>\n",
       "      <td>5.65</td>\n",
       "      <td>2.45</td>\n",
       "      <td>20.5</td>\n",
       "      <td>95.0</td>\n",
       "      <td>1.68</td>\n",
       "      <td>0.61</td>\n",
       "      <td>0.52</td>\n",
       "      <td>1.06</td>\n",
       "      <td>7.70</td>\n",
       "      <td>0.64</td>\n",
       "      <td>1.74</td>\n",
       "      <td>740.0</td>\n",
       "    </tr>\n",
       "    <tr>\n",
       "      <th>174</th>\n",
       "      <td>13.40</td>\n",
       "      <td>3.91</td>\n",
       "      <td>2.48</td>\n",
       "      <td>23.0</td>\n",
       "      <td>102.0</td>\n",
       "      <td>1.80</td>\n",
       "      <td>0.75</td>\n",
       "      <td>0.43</td>\n",
       "      <td>1.41</td>\n",
       "      <td>7.30</td>\n",
       "      <td>0.70</td>\n",
       "      <td>1.56</td>\n",
       "      <td>750.0</td>\n",
       "    </tr>\n",
       "    <tr>\n",
       "      <th>175</th>\n",
       "      <td>13.27</td>\n",
       "      <td>4.28</td>\n",
       "      <td>2.26</td>\n",
       "      <td>20.0</td>\n",
       "      <td>120.0</td>\n",
       "      <td>1.59</td>\n",
       "      <td>0.69</td>\n",
       "      <td>0.43</td>\n",
       "      <td>1.35</td>\n",
       "      <td>10.20</td>\n",
       "      <td>0.59</td>\n",
       "      <td>1.56</td>\n",
       "      <td>835.0</td>\n",
       "    </tr>\n",
       "    <tr>\n",
       "      <th>176</th>\n",
       "      <td>13.17</td>\n",
       "      <td>2.59</td>\n",
       "      <td>2.37</td>\n",
       "      <td>20.0</td>\n",
       "      <td>120.0</td>\n",
       "      <td>1.65</td>\n",
       "      <td>0.68</td>\n",
       "      <td>0.53</td>\n",
       "      <td>1.46</td>\n",
       "      <td>9.30</td>\n",
       "      <td>0.60</td>\n",
       "      <td>1.62</td>\n",
       "      <td>840.0</td>\n",
       "    </tr>\n",
       "    <tr>\n",
       "      <th>177</th>\n",
       "      <td>14.13</td>\n",
       "      <td>4.10</td>\n",
       "      <td>2.74</td>\n",
       "      <td>24.5</td>\n",
       "      <td>96.0</td>\n",
       "      <td>2.05</td>\n",
       "      <td>0.76</td>\n",
       "      <td>0.56</td>\n",
       "      <td>1.35</td>\n",
       "      <td>9.20</td>\n",
       "      <td>0.61</td>\n",
       "      <td>1.60</td>\n",
       "      <td>560.0</td>\n",
       "    </tr>\n",
       "  </tbody>\n",
       "</table>\n",
       "<p>178 rows × 13 columns</p>\n",
       "</div>"
      ],
      "text/plain": [
       "     alcohol  malic_acid   ash  alcalinity_of_ash  magnesium  total_phenols  \\\n",
       "0      14.23        1.71  2.43               15.6      127.0           2.80   \n",
       "1      13.20        1.78  2.14               11.2      100.0           2.65   \n",
       "2      13.16        2.36  2.67               18.6      101.0           2.80   \n",
       "3      14.37        1.95  2.50               16.8      113.0           3.85   \n",
       "4      13.24        2.59  2.87               21.0      118.0           2.80   \n",
       "..       ...         ...   ...                ...        ...            ...   \n",
       "173    13.71        5.65  2.45               20.5       95.0           1.68   \n",
       "174    13.40        3.91  2.48               23.0      102.0           1.80   \n",
       "175    13.27        4.28  2.26               20.0      120.0           1.59   \n",
       "176    13.17        2.59  2.37               20.0      120.0           1.65   \n",
       "177    14.13        4.10  2.74               24.5       96.0           2.05   \n",
       "\n",
       "     flavanoids  nonflavanoid_phenols  proanthocyanins  color_intensity   hue  \\\n",
       "0          3.06                  0.28             2.29             5.64  1.04   \n",
       "1          2.76                  0.26             1.28             4.38  1.05   \n",
       "2          3.24                  0.30             2.81             5.68  1.03   \n",
       "3          3.49                  0.24             2.18             7.80  0.86   \n",
       "4          2.69                  0.39             1.82             4.32  1.04   \n",
       "..          ...                   ...              ...              ...   ...   \n",
       "173        0.61                  0.52             1.06             7.70  0.64   \n",
       "174        0.75                  0.43             1.41             7.30  0.70   \n",
       "175        0.69                  0.43             1.35            10.20  0.59   \n",
       "176        0.68                  0.53             1.46             9.30  0.60   \n",
       "177        0.76                  0.56             1.35             9.20  0.61   \n",
       "\n",
       "     od280/od315_of_diluted_wines  proline  \n",
       "0                            3.92   1065.0  \n",
       "1                            3.40   1050.0  \n",
       "2                            3.17   1185.0  \n",
       "3                            3.45   1480.0  \n",
       "4                            2.93    735.0  \n",
       "..                            ...      ...  \n",
       "173                          1.74    740.0  \n",
       "174                          1.56    750.0  \n",
       "175                          1.56    835.0  \n",
       "176                          1.62    840.0  \n",
       "177                          1.60    560.0  \n",
       "\n",
       "[178 rows x 13 columns]"
      ]
     },
     "execution_count": 23,
     "metadata": {},
     "output_type": "execute_result"
    }
   ],
   "source": [
    "df"
   ]
  },
  {
   "cell_type": "code",
   "execution_count": 24,
   "id": "f75295cb",
   "metadata": {
    "ExecuteTime": {
     "end_time": "2023-10-23T08:38:02.730661Z",
     "start_time": "2023-10-23T08:38:02.717791Z"
    }
   },
   "outputs": [],
   "source": [
    "X_new = np.array([[14,1.7,2.4,15,126,2.79,3.05,0.27,2.28,5.6,1.02,3.9,1064]])"
   ]
  },
  {
   "cell_type": "code",
   "execution_count": 42,
   "id": "17877fbb",
   "metadata": {
    "ExecuteTime": {
     "end_time": "2023-10-23T08:44:19.802708Z",
     "start_time": "2023-10-23T08:44:19.781786Z"
    }
   },
   "outputs": [
    {
     "data": {
      "text/html": [
       "<style>#sk-container-id-3 {color: black;}#sk-container-id-3 pre{padding: 0;}#sk-container-id-3 div.sk-toggleable {background-color: white;}#sk-container-id-3 label.sk-toggleable__label {cursor: pointer;display: block;width: 100%;margin-bottom: 0;padding: 0.3em;box-sizing: border-box;text-align: center;}#sk-container-id-3 label.sk-toggleable__label-arrow:before {content: \"▸\";float: left;margin-right: 0.25em;color: #696969;}#sk-container-id-3 label.sk-toggleable__label-arrow:hover:before {color: black;}#sk-container-id-3 div.sk-estimator:hover label.sk-toggleable__label-arrow:before {color: black;}#sk-container-id-3 div.sk-toggleable__content {max-height: 0;max-width: 0;overflow: hidden;text-align: left;background-color: #f0f8ff;}#sk-container-id-3 div.sk-toggleable__content pre {margin: 0.2em;color: black;border-radius: 0.25em;background-color: #f0f8ff;}#sk-container-id-3 input.sk-toggleable__control:checked~div.sk-toggleable__content {max-height: 200px;max-width: 100%;overflow: auto;}#sk-container-id-3 input.sk-toggleable__control:checked~label.sk-toggleable__label-arrow:before {content: \"▾\";}#sk-container-id-3 div.sk-estimator input.sk-toggleable__control:checked~label.sk-toggleable__label {background-color: #d4ebff;}#sk-container-id-3 div.sk-label input.sk-toggleable__control:checked~label.sk-toggleable__label {background-color: #d4ebff;}#sk-container-id-3 input.sk-hidden--visually {border: 0;clip: rect(1px 1px 1px 1px);clip: rect(1px, 1px, 1px, 1px);height: 1px;margin: -1px;overflow: hidden;padding: 0;position: absolute;width: 1px;}#sk-container-id-3 div.sk-estimator {font-family: monospace;background-color: #f0f8ff;border: 1px dotted black;border-radius: 0.25em;box-sizing: border-box;margin-bottom: 0.5em;}#sk-container-id-3 div.sk-estimator:hover {background-color: #d4ebff;}#sk-container-id-3 div.sk-parallel-item::after {content: \"\";width: 100%;border-bottom: 1px solid gray;flex-grow: 1;}#sk-container-id-3 div.sk-label:hover label.sk-toggleable__label {background-color: #d4ebff;}#sk-container-id-3 div.sk-serial::before {content: \"\";position: absolute;border-left: 1px solid gray;box-sizing: border-box;top: 0;bottom: 0;left: 50%;z-index: 0;}#sk-container-id-3 div.sk-serial {display: flex;flex-direction: column;align-items: center;background-color: white;padding-right: 0.2em;padding-left: 0.2em;position: relative;}#sk-container-id-3 div.sk-item {position: relative;z-index: 1;}#sk-container-id-3 div.sk-parallel {display: flex;align-items: stretch;justify-content: center;background-color: white;position: relative;}#sk-container-id-3 div.sk-item::before, #sk-container-id-3 div.sk-parallel-item::before {content: \"\";position: absolute;border-left: 1px solid gray;box-sizing: border-box;top: 0;bottom: 0;left: 50%;z-index: -1;}#sk-container-id-3 div.sk-parallel-item {display: flex;flex-direction: column;z-index: 1;position: relative;background-color: white;}#sk-container-id-3 div.sk-parallel-item:first-child::after {align-self: flex-end;width: 50%;}#sk-container-id-3 div.sk-parallel-item:last-child::after {align-self: flex-start;width: 50%;}#sk-container-id-3 div.sk-parallel-item:only-child::after {width: 0;}#sk-container-id-3 div.sk-dashed-wrapped {border: 1px dashed gray;margin: 0 0.4em 0.5em 0.4em;box-sizing: border-box;padding-bottom: 0.4em;background-color: white;}#sk-container-id-3 div.sk-label label {font-family: monospace;font-weight: bold;display: inline-block;line-height: 1.2em;}#sk-container-id-3 div.sk-label-container {text-align: center;}#sk-container-id-3 div.sk-container {/* jupyter's `normalize.less` sets `[hidden] { display: none; }` but bootstrap.min.css set `[hidden] { display: none !important; }` so we also need the `!important` here to be able to override the default hidden behavior on the sphinx rendered scikit-learn.org. See: https://github.com/scikit-learn/scikit-learn/issues/21755 */display: inline-block !important;position: relative;}#sk-container-id-3 div.sk-text-repr-fallback {display: none;}</style><div id=\"sk-container-id-3\" class=\"sk-top-container\"><div class=\"sk-text-repr-fallback\"><pre>KNeighborsClassifier(n_neighbors=3)</pre><b>In a Jupyter environment, please rerun this cell to show the HTML representation or trust the notebook. <br />On GitHub, the HTML representation is unable to render, please try loading this page with nbviewer.org.</b></div><div class=\"sk-container\" hidden><div class=\"sk-item\"><div class=\"sk-estimator sk-toggleable\"><input class=\"sk-toggleable__control sk-hidden--visually\" id=\"sk-estimator-id-3\" type=\"checkbox\" checked><label for=\"sk-estimator-id-3\" class=\"sk-toggleable__label sk-toggleable__label-arrow\">KNeighborsClassifier</label><div class=\"sk-toggleable__content\"><pre>KNeighborsClassifier(n_neighbors=3)</pre></div></div></div></div></div>"
      ],
      "text/plain": [
       "KNeighborsClassifier(n_neighbors=3)"
      ]
     },
     "execution_count": 42,
     "metadata": {},
     "output_type": "execute_result"
    }
   ],
   "source": [
    "knn.fit(X_train , y_train)"
   ]
  },
  {
   "cell_type": "code",
   "execution_count": 27,
   "id": "fb5644fa",
   "metadata": {
    "ExecuteTime": {
     "end_time": "2023-10-23T08:38:27.807736Z",
     "start_time": "2023-10-23T08:38:27.793644Z"
    }
   },
   "outputs": [],
   "source": [
    "yhat = knn.predict(X_new)"
   ]
  },
  {
   "cell_type": "code",
   "execution_count": 28,
   "id": "f09f0d1a",
   "metadata": {
    "ExecuteTime": {
     "end_time": "2023-10-23T08:38:39.944909Z",
     "start_time": "2023-10-23T08:38:39.938373Z"
    }
   },
   "outputs": [
    {
     "data": {
      "text/plain": [
       "array(['class_0'], dtype='<U7')"
      ]
     },
     "execution_count": 28,
     "metadata": {},
     "output_type": "execute_result"
    }
   ],
   "source": [
    "y.target_names[yhat]"
   ]
  },
  {
   "cell_type": "code",
   "execution_count": 43,
   "id": "932d40b3",
   "metadata": {
    "ExecuteTime": {
     "end_time": "2023-10-23T08:44:29.636447Z",
     "start_time": "2023-10-23T08:44:29.620429Z"
    }
   },
   "outputs": [
    {
     "data": {
      "text/plain": [
       "0.6666666666666666"
      ]
     },
     "execution_count": 43,
     "metadata": {},
     "output_type": "execute_result"
    }
   ],
   "source": [
    "knn.score(X_test , y_test)"
   ]
  },
  {
   "cell_type": "markdown",
   "id": "6850e5dd",
   "metadata": {},
   "source": [
    "- 점수가 너무 낮다."
   ]
  },
  {
   "cell_type": "markdown",
   "id": "251d6a49",
   "metadata": {},
   "source": [
    "# 컬럼의 개수가 많으므로 , 5개만 뽑아서 해보기"
   ]
  },
  {
   "cell_type": "code",
   "execution_count": 44,
   "id": "ce47244e",
   "metadata": {
    "ExecuteTime": {
     "end_time": "2023-10-23T08:45:13.529080Z",
     "start_time": "2023-10-23T08:45:13.523007Z"
    }
   },
   "outputs": [],
   "source": [
    "X_train , X_test , y_train , y_test = train_test_split(y.data[:,:5] , y.target , test_size = 0.3, random_state = 2)"
   ]
  },
  {
   "cell_type": "code",
   "execution_count": 38,
   "id": "86ee2748",
   "metadata": {
    "ExecuteTime": {
     "end_time": "2023-10-23T08:43:06.912261Z",
     "start_time": "2023-10-23T08:43:06.404711Z"
    }
   },
   "outputs": [
    {
     "name": "stdout",
     "output_type": "stream",
     "text": [
      "1.0\n",
      "0.8951612903225806\n",
      "0.7983870967741935\n",
      "0.7741935483870968\n",
      "0.7338709677419355\n",
      "0.7258064516129032\n",
      "0.717741935483871\n",
      "0.7258064516129032\n",
      "0.7258064516129032\n",
      "0.7096774193548387\n",
      "0.7016129032258065\n",
      "0.6854838709677419\n",
      "0.6854838709677419\n",
      "0.6532258064516129\n",
      "0.6612903225806451\n",
      "0.6532258064516129\n",
      "0.6532258064516129\n",
      "0.6532258064516129\n",
      "0.6451612903225806\n",
      "0.6451612903225806\n",
      "0.6451612903225806\n",
      "0.6451612903225806\n",
      "0.6209677419354839\n",
      "0.6129032258064516\n",
      "0.6209677419354839\n",
      "0.6209677419354839\n",
      "0.6209677419354839\n",
      "0.6129032258064516\n",
      "0.6048387096774194\n",
      "0.6048387096774194\n",
      "0.6048387096774194\n",
      "0.6048387096774194\n",
      "0.5887096774193549\n",
      "0.5725806451612904\n",
      "0.5725806451612904\n",
      "0.5645161290322581\n",
      "0.5564516129032258\n",
      "0.5403225806451613\n",
      "0.5403225806451613\n",
      "0.5483870967741935\n",
      "0.5564516129032258\n",
      "0.5645161290322581\n",
      "0.5564516129032258\n",
      "0.5645161290322581\n",
      "0.5564516129032258\n",
      "0.5483870967741935\n",
      "0.5403225806451613\n",
      "0.5403225806451613\n",
      "0.5403225806451613\n",
      "0.5161290322580645\n",
      "0.5241935483870968\n",
      "0.5241935483870968\n",
      "0.5\n",
      "0.49193548387096775\n",
      "0.49193548387096775\n",
      "0.5080645161290323\n"
     ]
    }
   ],
   "source": [
    "for i in range(1,113,2):\n",
    "    knnn = KNeighborsClassifier(n_neighbors = i)\n",
    "    knnn.fit(X_train , y_train)\n",
    "    score = knnn.score(X_train , y_train)\n",
    "    print(score)"
   ]
  },
  {
   "cell_type": "markdown",
   "id": "8e656180",
   "metadata": {},
   "source": [
    "- k = 3일때 가장 높음"
   ]
  },
  {
   "cell_type": "code",
   "execution_count": 46,
   "id": "cdc08297",
   "metadata": {
    "ExecuteTime": {
     "end_time": "2023-10-23T08:45:35.669041Z",
     "start_time": "2023-10-23T08:45:35.663633Z"
    }
   },
   "outputs": [],
   "source": [
    "knn = KNeighborsClassifier(n_neighbors = 3)"
   ]
  },
  {
   "cell_type": "code",
   "execution_count": 47,
   "id": "5151bf25",
   "metadata": {
    "ExecuteTime": {
     "end_time": "2023-10-23T08:45:36.705998Z",
     "start_time": "2023-10-23T08:45:36.674629Z"
    }
   },
   "outputs": [
    {
     "data": {
      "text/html": [
       "<style>#sk-container-id-5 {color: black;}#sk-container-id-5 pre{padding: 0;}#sk-container-id-5 div.sk-toggleable {background-color: white;}#sk-container-id-5 label.sk-toggleable__label {cursor: pointer;display: block;width: 100%;margin-bottom: 0;padding: 0.3em;box-sizing: border-box;text-align: center;}#sk-container-id-5 label.sk-toggleable__label-arrow:before {content: \"▸\";float: left;margin-right: 0.25em;color: #696969;}#sk-container-id-5 label.sk-toggleable__label-arrow:hover:before {color: black;}#sk-container-id-5 div.sk-estimator:hover label.sk-toggleable__label-arrow:before {color: black;}#sk-container-id-5 div.sk-toggleable__content {max-height: 0;max-width: 0;overflow: hidden;text-align: left;background-color: #f0f8ff;}#sk-container-id-5 div.sk-toggleable__content pre {margin: 0.2em;color: black;border-radius: 0.25em;background-color: #f0f8ff;}#sk-container-id-5 input.sk-toggleable__control:checked~div.sk-toggleable__content {max-height: 200px;max-width: 100%;overflow: auto;}#sk-container-id-5 input.sk-toggleable__control:checked~label.sk-toggleable__label-arrow:before {content: \"▾\";}#sk-container-id-5 div.sk-estimator input.sk-toggleable__control:checked~label.sk-toggleable__label {background-color: #d4ebff;}#sk-container-id-5 div.sk-label input.sk-toggleable__control:checked~label.sk-toggleable__label {background-color: #d4ebff;}#sk-container-id-5 input.sk-hidden--visually {border: 0;clip: rect(1px 1px 1px 1px);clip: rect(1px, 1px, 1px, 1px);height: 1px;margin: -1px;overflow: hidden;padding: 0;position: absolute;width: 1px;}#sk-container-id-5 div.sk-estimator {font-family: monospace;background-color: #f0f8ff;border: 1px dotted black;border-radius: 0.25em;box-sizing: border-box;margin-bottom: 0.5em;}#sk-container-id-5 div.sk-estimator:hover {background-color: #d4ebff;}#sk-container-id-5 div.sk-parallel-item::after {content: \"\";width: 100%;border-bottom: 1px solid gray;flex-grow: 1;}#sk-container-id-5 div.sk-label:hover label.sk-toggleable__label {background-color: #d4ebff;}#sk-container-id-5 div.sk-serial::before {content: \"\";position: absolute;border-left: 1px solid gray;box-sizing: border-box;top: 0;bottom: 0;left: 50%;z-index: 0;}#sk-container-id-5 div.sk-serial {display: flex;flex-direction: column;align-items: center;background-color: white;padding-right: 0.2em;padding-left: 0.2em;position: relative;}#sk-container-id-5 div.sk-item {position: relative;z-index: 1;}#sk-container-id-5 div.sk-parallel {display: flex;align-items: stretch;justify-content: center;background-color: white;position: relative;}#sk-container-id-5 div.sk-item::before, #sk-container-id-5 div.sk-parallel-item::before {content: \"\";position: absolute;border-left: 1px solid gray;box-sizing: border-box;top: 0;bottom: 0;left: 50%;z-index: -1;}#sk-container-id-5 div.sk-parallel-item {display: flex;flex-direction: column;z-index: 1;position: relative;background-color: white;}#sk-container-id-5 div.sk-parallel-item:first-child::after {align-self: flex-end;width: 50%;}#sk-container-id-5 div.sk-parallel-item:last-child::after {align-self: flex-start;width: 50%;}#sk-container-id-5 div.sk-parallel-item:only-child::after {width: 0;}#sk-container-id-5 div.sk-dashed-wrapped {border: 1px dashed gray;margin: 0 0.4em 0.5em 0.4em;box-sizing: border-box;padding-bottom: 0.4em;background-color: white;}#sk-container-id-5 div.sk-label label {font-family: monospace;font-weight: bold;display: inline-block;line-height: 1.2em;}#sk-container-id-5 div.sk-label-container {text-align: center;}#sk-container-id-5 div.sk-container {/* jupyter's `normalize.less` sets `[hidden] { display: none; }` but bootstrap.min.css set `[hidden] { display: none !important; }` so we also need the `!important` here to be able to override the default hidden behavior on the sphinx rendered scikit-learn.org. See: https://github.com/scikit-learn/scikit-learn/issues/21755 */display: inline-block !important;position: relative;}#sk-container-id-5 div.sk-text-repr-fallback {display: none;}</style><div id=\"sk-container-id-5\" class=\"sk-top-container\"><div class=\"sk-text-repr-fallback\"><pre>KNeighborsClassifier(n_neighbors=3)</pre><b>In a Jupyter environment, please rerun this cell to show the HTML representation or trust the notebook. <br />On GitHub, the HTML representation is unable to render, please try loading this page with nbviewer.org.</b></div><div class=\"sk-container\" hidden><div class=\"sk-item\"><div class=\"sk-estimator sk-toggleable\"><input class=\"sk-toggleable__control sk-hidden--visually\" id=\"sk-estimator-id-5\" type=\"checkbox\" checked><label for=\"sk-estimator-id-5\" class=\"sk-toggleable__label sk-toggleable__label-arrow\">KNeighborsClassifier</label><div class=\"sk-toggleable__content\"><pre>KNeighborsClassifier(n_neighbors=3)</pre></div></div></div></div></div>"
      ],
      "text/plain": [
       "KNeighborsClassifier(n_neighbors=3)"
      ]
     },
     "execution_count": 47,
     "metadata": {},
     "output_type": "execute_result"
    }
   ],
   "source": [
    "knn.fit(X_train , y_train)"
   ]
  },
  {
   "cell_type": "code",
   "execution_count": 48,
   "id": "44414771",
   "metadata": {
    "ExecuteTime": {
     "end_time": "2023-10-23T08:45:58.544730Z",
     "start_time": "2023-10-23T08:45:58.540123Z"
    }
   },
   "outputs": [],
   "source": [
    "X_new = np.array([[14,1.7,2.4,15,126]])"
   ]
  },
  {
   "cell_type": "code",
   "execution_count": 49,
   "id": "f3f283fb",
   "metadata": {
    "ExecuteTime": {
     "end_time": "2023-10-23T08:46:06.124844Z",
     "start_time": "2023-10-23T08:46:06.110138Z"
    }
   },
   "outputs": [],
   "source": [
    "yhat = knn.predict(X_new)"
   ]
  },
  {
   "cell_type": "code",
   "execution_count": 50,
   "id": "e9ad740e",
   "metadata": {
    "ExecuteTime": {
     "end_time": "2023-10-23T08:46:12.641983Z",
     "start_time": "2023-10-23T08:46:12.631136Z"
    }
   },
   "outputs": [
    {
     "data": {
      "text/plain": [
       "array(['class_0'], dtype='<U7')"
      ]
     },
     "execution_count": 50,
     "metadata": {},
     "output_type": "execute_result"
    }
   ],
   "source": [
    "y.target_names[yhat]"
   ]
  },
  {
   "cell_type": "code",
   "execution_count": 51,
   "id": "0bd67096",
   "metadata": {
    "ExecuteTime": {
     "end_time": "2023-10-23T08:46:18.974984Z",
     "start_time": "2023-10-23T08:46:18.966127Z"
    }
   },
   "outputs": [
    {
     "data": {
      "text/plain": [
       "0.5925925925925926"
      ]
     },
     "execution_count": 51,
     "metadata": {},
     "output_type": "execute_result"
    }
   ],
   "source": [
    "knn.score(X_test , y_test)"
   ]
  },
  {
   "cell_type": "markdown",
   "id": "cb9c0ff7",
   "metadata": {},
   "source": [
    "- 5개만 뽑았는데 낮음. 그러면 train으로 score를 내봤을 때 , 값이 1인 k = 1을 선택해보자"
   ]
  },
  {
   "cell_type": "code",
   "execution_count": 52,
   "id": "a9e2bef3",
   "metadata": {
    "ExecuteTime": {
     "end_time": "2023-10-23T08:46:58.009730Z",
     "start_time": "2023-10-23T08:46:57.992501Z"
    }
   },
   "outputs": [],
   "source": [
    "knn = KNeighborsClassifier(n_neighbors = 1)"
   ]
  },
  {
   "cell_type": "code",
   "execution_count": 53,
   "id": "c8364493",
   "metadata": {
    "ExecuteTime": {
     "end_time": "2023-10-23T08:47:17.003251Z",
     "start_time": "2023-10-23T08:47:16.978896Z"
    }
   },
   "outputs": [],
   "source": [
    "X_train , X_test , y_train , y_test = train_test_split(y.data , y.target , test_size = 0.3, random_state = 2)"
   ]
  },
  {
   "cell_type": "code",
   "execution_count": 54,
   "id": "07d8b2c3",
   "metadata": {
    "ExecuteTime": {
     "end_time": "2023-10-23T08:47:24.346156Z",
     "start_time": "2023-10-23T08:47:24.329381Z"
    }
   },
   "outputs": [
    {
     "data": {
      "text/html": [
       "<style>#sk-container-id-6 {color: black;}#sk-container-id-6 pre{padding: 0;}#sk-container-id-6 div.sk-toggleable {background-color: white;}#sk-container-id-6 label.sk-toggleable__label {cursor: pointer;display: block;width: 100%;margin-bottom: 0;padding: 0.3em;box-sizing: border-box;text-align: center;}#sk-container-id-6 label.sk-toggleable__label-arrow:before {content: \"▸\";float: left;margin-right: 0.25em;color: #696969;}#sk-container-id-6 label.sk-toggleable__label-arrow:hover:before {color: black;}#sk-container-id-6 div.sk-estimator:hover label.sk-toggleable__label-arrow:before {color: black;}#sk-container-id-6 div.sk-toggleable__content {max-height: 0;max-width: 0;overflow: hidden;text-align: left;background-color: #f0f8ff;}#sk-container-id-6 div.sk-toggleable__content pre {margin: 0.2em;color: black;border-radius: 0.25em;background-color: #f0f8ff;}#sk-container-id-6 input.sk-toggleable__control:checked~div.sk-toggleable__content {max-height: 200px;max-width: 100%;overflow: auto;}#sk-container-id-6 input.sk-toggleable__control:checked~label.sk-toggleable__label-arrow:before {content: \"▾\";}#sk-container-id-6 div.sk-estimator input.sk-toggleable__control:checked~label.sk-toggleable__label {background-color: #d4ebff;}#sk-container-id-6 div.sk-label input.sk-toggleable__control:checked~label.sk-toggleable__label {background-color: #d4ebff;}#sk-container-id-6 input.sk-hidden--visually {border: 0;clip: rect(1px 1px 1px 1px);clip: rect(1px, 1px, 1px, 1px);height: 1px;margin: -1px;overflow: hidden;padding: 0;position: absolute;width: 1px;}#sk-container-id-6 div.sk-estimator {font-family: monospace;background-color: #f0f8ff;border: 1px dotted black;border-radius: 0.25em;box-sizing: border-box;margin-bottom: 0.5em;}#sk-container-id-6 div.sk-estimator:hover {background-color: #d4ebff;}#sk-container-id-6 div.sk-parallel-item::after {content: \"\";width: 100%;border-bottom: 1px solid gray;flex-grow: 1;}#sk-container-id-6 div.sk-label:hover label.sk-toggleable__label {background-color: #d4ebff;}#sk-container-id-6 div.sk-serial::before {content: \"\";position: absolute;border-left: 1px solid gray;box-sizing: border-box;top: 0;bottom: 0;left: 50%;z-index: 0;}#sk-container-id-6 div.sk-serial {display: flex;flex-direction: column;align-items: center;background-color: white;padding-right: 0.2em;padding-left: 0.2em;position: relative;}#sk-container-id-6 div.sk-item {position: relative;z-index: 1;}#sk-container-id-6 div.sk-parallel {display: flex;align-items: stretch;justify-content: center;background-color: white;position: relative;}#sk-container-id-6 div.sk-item::before, #sk-container-id-6 div.sk-parallel-item::before {content: \"\";position: absolute;border-left: 1px solid gray;box-sizing: border-box;top: 0;bottom: 0;left: 50%;z-index: -1;}#sk-container-id-6 div.sk-parallel-item {display: flex;flex-direction: column;z-index: 1;position: relative;background-color: white;}#sk-container-id-6 div.sk-parallel-item:first-child::after {align-self: flex-end;width: 50%;}#sk-container-id-6 div.sk-parallel-item:last-child::after {align-self: flex-start;width: 50%;}#sk-container-id-6 div.sk-parallel-item:only-child::after {width: 0;}#sk-container-id-6 div.sk-dashed-wrapped {border: 1px dashed gray;margin: 0 0.4em 0.5em 0.4em;box-sizing: border-box;padding-bottom: 0.4em;background-color: white;}#sk-container-id-6 div.sk-label label {font-family: monospace;font-weight: bold;display: inline-block;line-height: 1.2em;}#sk-container-id-6 div.sk-label-container {text-align: center;}#sk-container-id-6 div.sk-container {/* jupyter's `normalize.less` sets `[hidden] { display: none; }` but bootstrap.min.css set `[hidden] { display: none !important; }` so we also need the `!important` here to be able to override the default hidden behavior on the sphinx rendered scikit-learn.org. See: https://github.com/scikit-learn/scikit-learn/issues/21755 */display: inline-block !important;position: relative;}#sk-container-id-6 div.sk-text-repr-fallback {display: none;}</style><div id=\"sk-container-id-6\" class=\"sk-top-container\"><div class=\"sk-text-repr-fallback\"><pre>KNeighborsClassifier(n_neighbors=1)</pre><b>In a Jupyter environment, please rerun this cell to show the HTML representation or trust the notebook. <br />On GitHub, the HTML representation is unable to render, please try loading this page with nbviewer.org.</b></div><div class=\"sk-container\" hidden><div class=\"sk-item\"><div class=\"sk-estimator sk-toggleable\"><input class=\"sk-toggleable__control sk-hidden--visually\" id=\"sk-estimator-id-6\" type=\"checkbox\" checked><label for=\"sk-estimator-id-6\" class=\"sk-toggleable__label sk-toggleable__label-arrow\">KNeighborsClassifier</label><div class=\"sk-toggleable__content\"><pre>KNeighborsClassifier(n_neighbors=1)</pre></div></div></div></div></div>"
      ],
      "text/plain": [
       "KNeighborsClassifier(n_neighbors=1)"
      ]
     },
     "execution_count": 54,
     "metadata": {},
     "output_type": "execute_result"
    }
   ],
   "source": [
    "knn.fit(X_train , y_train)"
   ]
  },
  {
   "cell_type": "code",
   "execution_count": 60,
   "id": "90fa9424",
   "metadata": {
    "ExecuteTime": {
     "end_time": "2023-10-23T08:49:06.484810Z",
     "start_time": "2023-10-23T08:49:06.453184Z"
    }
   },
   "outputs": [
    {
     "data": {
      "text/html": [
       "<div>\n",
       "<style scoped>\n",
       "    .dataframe tbody tr th:only-of-type {\n",
       "        vertical-align: middle;\n",
       "    }\n",
       "\n",
       "    .dataframe tbody tr th {\n",
       "        vertical-align: top;\n",
       "    }\n",
       "\n",
       "    .dataframe thead th {\n",
       "        text-align: right;\n",
       "    }\n",
       "</style>\n",
       "<table border=\"1\" class=\"dataframe\">\n",
       "  <thead>\n",
       "    <tr style=\"text-align: right;\">\n",
       "      <th></th>\n",
       "      <th>alcohol</th>\n",
       "      <th>malic_acid</th>\n",
       "      <th>ash</th>\n",
       "      <th>alcalinity_of_ash</th>\n",
       "      <th>magnesium</th>\n",
       "      <th>total_phenols</th>\n",
       "      <th>flavanoids</th>\n",
       "      <th>nonflavanoid_phenols</th>\n",
       "      <th>proanthocyanins</th>\n",
       "      <th>color_intensity</th>\n",
       "      <th>hue</th>\n",
       "      <th>od280/od315_of_diluted_wines</th>\n",
       "      <th>proline</th>\n",
       "    </tr>\n",
       "  </thead>\n",
       "  <tbody>\n",
       "    <tr>\n",
       "      <th>0</th>\n",
       "      <td>14.23</td>\n",
       "      <td>1.71</td>\n",
       "      <td>2.43</td>\n",
       "      <td>15.6</td>\n",
       "      <td>127.0</td>\n",
       "      <td>2.80</td>\n",
       "      <td>3.06</td>\n",
       "      <td>0.28</td>\n",
       "      <td>2.29</td>\n",
       "      <td>5.64</td>\n",
       "      <td>1.04</td>\n",
       "      <td>3.92</td>\n",
       "      <td>1065.0</td>\n",
       "    </tr>\n",
       "    <tr>\n",
       "      <th>1</th>\n",
       "      <td>13.20</td>\n",
       "      <td>1.78</td>\n",
       "      <td>2.14</td>\n",
       "      <td>11.2</td>\n",
       "      <td>100.0</td>\n",
       "      <td>2.65</td>\n",
       "      <td>2.76</td>\n",
       "      <td>0.26</td>\n",
       "      <td>1.28</td>\n",
       "      <td>4.38</td>\n",
       "      <td>1.05</td>\n",
       "      <td>3.40</td>\n",
       "      <td>1050.0</td>\n",
       "    </tr>\n",
       "    <tr>\n",
       "      <th>2</th>\n",
       "      <td>13.16</td>\n",
       "      <td>2.36</td>\n",
       "      <td>2.67</td>\n",
       "      <td>18.6</td>\n",
       "      <td>101.0</td>\n",
       "      <td>2.80</td>\n",
       "      <td>3.24</td>\n",
       "      <td>0.30</td>\n",
       "      <td>2.81</td>\n",
       "      <td>5.68</td>\n",
       "      <td>1.03</td>\n",
       "      <td>3.17</td>\n",
       "      <td>1185.0</td>\n",
       "    </tr>\n",
       "    <tr>\n",
       "      <th>3</th>\n",
       "      <td>14.37</td>\n",
       "      <td>1.95</td>\n",
       "      <td>2.50</td>\n",
       "      <td>16.8</td>\n",
       "      <td>113.0</td>\n",
       "      <td>3.85</td>\n",
       "      <td>3.49</td>\n",
       "      <td>0.24</td>\n",
       "      <td>2.18</td>\n",
       "      <td>7.80</td>\n",
       "      <td>0.86</td>\n",
       "      <td>3.45</td>\n",
       "      <td>1480.0</td>\n",
       "    </tr>\n",
       "    <tr>\n",
       "      <th>4</th>\n",
       "      <td>13.24</td>\n",
       "      <td>2.59</td>\n",
       "      <td>2.87</td>\n",
       "      <td>21.0</td>\n",
       "      <td>118.0</td>\n",
       "      <td>2.80</td>\n",
       "      <td>2.69</td>\n",
       "      <td>0.39</td>\n",
       "      <td>1.82</td>\n",
       "      <td>4.32</td>\n",
       "      <td>1.04</td>\n",
       "      <td>2.93</td>\n",
       "      <td>735.0</td>\n",
       "    </tr>\n",
       "    <tr>\n",
       "      <th>...</th>\n",
       "      <td>...</td>\n",
       "      <td>...</td>\n",
       "      <td>...</td>\n",
       "      <td>...</td>\n",
       "      <td>...</td>\n",
       "      <td>...</td>\n",
       "      <td>...</td>\n",
       "      <td>...</td>\n",
       "      <td>...</td>\n",
       "      <td>...</td>\n",
       "      <td>...</td>\n",
       "      <td>...</td>\n",
       "      <td>...</td>\n",
       "    </tr>\n",
       "    <tr>\n",
       "      <th>173</th>\n",
       "      <td>13.71</td>\n",
       "      <td>5.65</td>\n",
       "      <td>2.45</td>\n",
       "      <td>20.5</td>\n",
       "      <td>95.0</td>\n",
       "      <td>1.68</td>\n",
       "      <td>0.61</td>\n",
       "      <td>0.52</td>\n",
       "      <td>1.06</td>\n",
       "      <td>7.70</td>\n",
       "      <td>0.64</td>\n",
       "      <td>1.74</td>\n",
       "      <td>740.0</td>\n",
       "    </tr>\n",
       "    <tr>\n",
       "      <th>174</th>\n",
       "      <td>13.40</td>\n",
       "      <td>3.91</td>\n",
       "      <td>2.48</td>\n",
       "      <td>23.0</td>\n",
       "      <td>102.0</td>\n",
       "      <td>1.80</td>\n",
       "      <td>0.75</td>\n",
       "      <td>0.43</td>\n",
       "      <td>1.41</td>\n",
       "      <td>7.30</td>\n",
       "      <td>0.70</td>\n",
       "      <td>1.56</td>\n",
       "      <td>750.0</td>\n",
       "    </tr>\n",
       "    <tr>\n",
       "      <th>175</th>\n",
       "      <td>13.27</td>\n",
       "      <td>4.28</td>\n",
       "      <td>2.26</td>\n",
       "      <td>20.0</td>\n",
       "      <td>120.0</td>\n",
       "      <td>1.59</td>\n",
       "      <td>0.69</td>\n",
       "      <td>0.43</td>\n",
       "      <td>1.35</td>\n",
       "      <td>10.20</td>\n",
       "      <td>0.59</td>\n",
       "      <td>1.56</td>\n",
       "      <td>835.0</td>\n",
       "    </tr>\n",
       "    <tr>\n",
       "      <th>176</th>\n",
       "      <td>13.17</td>\n",
       "      <td>2.59</td>\n",
       "      <td>2.37</td>\n",
       "      <td>20.0</td>\n",
       "      <td>120.0</td>\n",
       "      <td>1.65</td>\n",
       "      <td>0.68</td>\n",
       "      <td>0.53</td>\n",
       "      <td>1.46</td>\n",
       "      <td>9.30</td>\n",
       "      <td>0.60</td>\n",
       "      <td>1.62</td>\n",
       "      <td>840.0</td>\n",
       "    </tr>\n",
       "    <tr>\n",
       "      <th>177</th>\n",
       "      <td>14.13</td>\n",
       "      <td>4.10</td>\n",
       "      <td>2.74</td>\n",
       "      <td>24.5</td>\n",
       "      <td>96.0</td>\n",
       "      <td>2.05</td>\n",
       "      <td>0.76</td>\n",
       "      <td>0.56</td>\n",
       "      <td>1.35</td>\n",
       "      <td>9.20</td>\n",
       "      <td>0.61</td>\n",
       "      <td>1.60</td>\n",
       "      <td>560.0</td>\n",
       "    </tr>\n",
       "  </tbody>\n",
       "</table>\n",
       "<p>178 rows × 13 columns</p>\n",
       "</div>"
      ],
      "text/plain": [
       "     alcohol  malic_acid   ash  alcalinity_of_ash  magnesium  total_phenols  \\\n",
       "0      14.23        1.71  2.43               15.6      127.0           2.80   \n",
       "1      13.20        1.78  2.14               11.2      100.0           2.65   \n",
       "2      13.16        2.36  2.67               18.6      101.0           2.80   \n",
       "3      14.37        1.95  2.50               16.8      113.0           3.85   \n",
       "4      13.24        2.59  2.87               21.0      118.0           2.80   \n",
       "..       ...         ...   ...                ...        ...            ...   \n",
       "173    13.71        5.65  2.45               20.5       95.0           1.68   \n",
       "174    13.40        3.91  2.48               23.0      102.0           1.80   \n",
       "175    13.27        4.28  2.26               20.0      120.0           1.59   \n",
       "176    13.17        2.59  2.37               20.0      120.0           1.65   \n",
       "177    14.13        4.10  2.74               24.5       96.0           2.05   \n",
       "\n",
       "     flavanoids  nonflavanoid_phenols  proanthocyanins  color_intensity   hue  \\\n",
       "0          3.06                  0.28             2.29             5.64  1.04   \n",
       "1          2.76                  0.26             1.28             4.38  1.05   \n",
       "2          3.24                  0.30             2.81             5.68  1.03   \n",
       "3          3.49                  0.24             2.18             7.80  0.86   \n",
       "4          2.69                  0.39             1.82             4.32  1.04   \n",
       "..          ...                   ...              ...              ...   ...   \n",
       "173        0.61                  0.52             1.06             7.70  0.64   \n",
       "174        0.75                  0.43             1.41             7.30  0.70   \n",
       "175        0.69                  0.43             1.35            10.20  0.59   \n",
       "176        0.68                  0.53             1.46             9.30  0.60   \n",
       "177        0.76                  0.56             1.35             9.20  0.61   \n",
       "\n",
       "     od280/od315_of_diluted_wines  proline  \n",
       "0                            3.92   1065.0  \n",
       "1                            3.40   1050.0  \n",
       "2                            3.17   1185.0  \n",
       "3                            3.45   1480.0  \n",
       "4                            2.93    735.0  \n",
       "..                            ...      ...  \n",
       "173                          1.74    740.0  \n",
       "174                          1.56    750.0  \n",
       "175                          1.56    835.0  \n",
       "176                          1.62    840.0  \n",
       "177                          1.60    560.0  \n",
       "\n",
       "[178 rows x 13 columns]"
      ]
     },
     "execution_count": 60,
     "metadata": {},
     "output_type": "execute_result"
    }
   ],
   "source": [
    "df"
   ]
  },
  {
   "cell_type": "code",
   "execution_count": 57,
   "id": "e3abb2c3",
   "metadata": {
    "ExecuteTime": {
     "end_time": "2023-10-23T08:48:57.467715Z",
     "start_time": "2023-10-23T08:48:57.462664Z"
    }
   },
   "outputs": [],
   "source": [
    "X_new = np.array([[14,1.7,2.4,15,126,2.79,3.05,0.27,2.28,5.6,1.02,3.9,1064]])"
   ]
  },
  {
   "cell_type": "code",
   "execution_count": 58,
   "id": "356053b1",
   "metadata": {
    "ExecuteTime": {
     "end_time": "2023-10-23T08:48:59.271167Z",
     "start_time": "2023-10-23T08:48:59.264987Z"
    }
   },
   "outputs": [],
   "source": [
    "yhat = knn.predict(X_new)"
   ]
  },
  {
   "cell_type": "code",
   "execution_count": 59,
   "id": "e96a4d07",
   "metadata": {
    "ExecuteTime": {
     "end_time": "2023-10-23T08:48:59.450501Z",
     "start_time": "2023-10-23T08:48:59.434842Z"
    }
   },
   "outputs": [
    {
     "data": {
      "text/plain": [
       "array(['class_0'], dtype='<U7')"
      ]
     },
     "execution_count": 59,
     "metadata": {},
     "output_type": "execute_result"
    }
   ],
   "source": [
    "y.target_names[yhat]"
   ]
  },
  {
   "cell_type": "code",
   "execution_count": 55,
   "id": "bf5b0122",
   "metadata": {
    "ExecuteTime": {
     "end_time": "2023-10-23T08:47:45.980284Z",
     "start_time": "2023-10-23T08:47:45.963762Z"
    }
   },
   "outputs": [
    {
     "data": {
      "text/plain": [
       "0.7037037037037037"
      ]
     },
     "execution_count": 55,
     "metadata": {},
     "output_type": "execute_result"
    }
   ],
   "source": [
    "knn.score(X_test , y_test)"
   ]
  },
  {
   "cell_type": "code",
   "execution_count": 56,
   "id": "dca243dc",
   "metadata": {
    "ExecuteTime": {
     "end_time": "2023-10-23T08:47:58.964370Z",
     "start_time": "2023-10-23T08:47:58.944796Z"
    }
   },
   "outputs": [
    {
     "data": {
      "text/plain": [
       "1.0"
      ]
     },
     "execution_count": 56,
     "metadata": {},
     "output_type": "execute_result"
    }
   ],
   "source": [
    "knn.score(X_train , y_train)"
   ]
  },
  {
   "cell_type": "markdown",
   "id": "9e1d0a4d",
   "metadata": {},
   "source": [
    "- train끼리 했을 땐 1.0 인데 test로 검증해봤을 때는 0.7로 , 차이가 상당히 나는 것을 볼 수 있다."
   ]
  },
  {
   "cell_type": "code",
   "execution_count": 61,
   "id": "0ca2d340",
   "metadata": {
    "ExecuteTime": {
     "end_time": "2023-10-23T08:49:20.201459Z",
     "start_time": "2023-10-23T08:49:20.186839Z"
    }
   },
   "outputs": [],
   "source": [
    "from sklearn.metrics import accuracy_score"
   ]
  },
  {
   "cell_type": "code",
   "execution_count": 62,
   "id": "899e3976",
   "metadata": {
    "ExecuteTime": {
     "end_time": "2023-10-23T08:49:25.835445Z",
     "start_time": "2023-10-23T08:49:25.081677Z"
    }
   },
   "outputs": [
    {
     "name": "stdout",
     "output_type": "stream",
     "text": [
      "[0.7037037  0.7037037  0.66666667 0.77777778 0.66666667 0.77777778\n",
      " 0.74074074 0.7037037  0.68518519 0.75925926 0.74074074 0.74074074\n",
      " 0.74074074 0.7037037  0.68518519 0.68518519 0.74074074 0.72222222\n",
      " 0.7037037  0.7037037  0.7037037  0.7037037  0.7037037  0.7037037\n",
      " 0.72222222 0.72222222 0.72222222 0.72222222 0.7037037  0.7037037\n",
      " 0.74074074 0.7037037  0.7037037  0.68518519 0.7037037  0.7037037\n",
      " 0.68518519 0.7037037  0.7037037  0.7037037  0.7037037  0.72222222\n",
      " 0.72222222 0.72222222 0.72222222 0.72222222 0.74074074 0.74074074\n",
      " 0.74074074 0.74074074 0.74074074 0.72222222 0.72222222 0.72222222\n",
      " 0.72222222 0.72222222 0.72222222 0.72222222 0.7037037  0.74074074\n",
      " 0.72222222 0.72222222 0.74074074 0.77777778 0.77777778 0.77777778\n",
      " 0.75925926 0.77777778 0.75925926 0.7962963  0.75925926 0.74074074\n",
      " 0.74074074 0.74074074 0.7037037  0.7037037  0.7037037  0.7037037\n",
      " 0.7037037  0.72222222 0.72222222 0.72222222 0.72222222 0.72222222\n",
      " 0.72222222 0.72222222 0.72222222 0.72222222 0.72222222 0.74074074\n",
      " 0.72222222 0.72222222 0.7037037  0.7037037  0.7037037  0.7037037\n",
      " 0.7037037  0.7037037  0.7037037 ]\n"
     ]
    }
   ],
   "source": [
    "n = 100\n",
    "acc = np.zeros([n-1])\n",
    "\n",
    "for i in range(1,n):\n",
    "    clf = KNeighborsClassifier(n_neighbors = i).fit(X_train , y_train)\n",
    "    yhat = clf.predict(X_test)\n",
    "    acc[i-1] = accuracy_score(y_test , yhat)\n",
    "    \n",
    "print(acc)"
   ]
  },
  {
   "cell_type": "code",
   "execution_count": 69,
   "id": "6ac453dc",
   "metadata": {
    "ExecuteTime": {
     "end_time": "2023-10-23T08:51:13.560811Z",
     "start_time": "2023-10-23T08:51:13.528410Z"
    }
   },
   "outputs": [
    {
     "ename": "AttributeError",
     "evalue": "'numpy.ndarray' object has no attribute 'index'",
     "output_type": "error",
     "traceback": [
      "\u001b[1;31m---------------------------------------------------------------------------\u001b[0m",
      "\u001b[1;31mAttributeError\u001b[0m                            Traceback (most recent call last)",
      "Cell \u001b[1;32mIn[69], line 1\u001b[0m\n\u001b[1;32m----> 1\u001b[0m \u001b[43macc\u001b[49m\u001b[38;5;241;43m.\u001b[39;49m\u001b[43mindex\u001b[49m(acc\u001b[38;5;241m.\u001b[39mmax())\n",
      "\u001b[1;31mAttributeError\u001b[0m: 'numpy.ndarray' object has no attribute 'index'"
     ]
    }
   ],
   "source": []
  },
  {
   "cell_type": "code",
   "execution_count": 63,
   "id": "0892865a",
   "metadata": {
    "ExecuteTime": {
     "end_time": "2023-10-23T08:49:31.329611Z",
     "start_time": "2023-10-23T08:49:31.192880Z"
    }
   },
   "outputs": [
    {
     "data": {
      "image/png": "[encoded data removed]",
      "text/plain": [
       "<Figure size 640x480 with 1 Axes>"
      ]
     },
     "metadata": {},
     "output_type": "display_data"
    }
   ],
   "source": [
    "plt.plot(range(1,n) , acc , color = 'g')\n",
    "plt.xlabel('Number of Neighbors(n)')\n",
    "plt.ylabel('Accuracy')\n",
    "plt.show()"
   ]
  },
  {
   "cell_type": "markdown",
   "id": "6dd661bd",
   "metadata": {},
   "source": [
    "- 그래프를 보니 , k가 70일 때 점수가 가장 높다."
   ]
  },
  {
   "cell_type": "code",
   "execution_count": 64,
   "id": "6e388545",
   "metadata": {
    "ExecuteTime": {
     "end_time": "2023-10-23T08:50:20.737469Z",
     "start_time": "2023-10-23T08:50:20.723447Z"
    }
   },
   "outputs": [],
   "source": [
    "knn = KNeighborsClassifier(n_neighbors = 70)"
   ]
  },
  {
   "cell_type": "code",
   "execution_count": 65,
   "id": "76b9e9a3",
   "metadata": {
    "ExecuteTime": {
     "end_time": "2023-10-23T08:50:28.566466Z",
     "start_time": "2023-10-23T08:50:28.560160Z"
    }
   },
   "outputs": [
    {
     "data": {
      "text/html": [
       "<style>#sk-container-id-7 {color: black;}#sk-container-id-7 pre{padding: 0;}#sk-container-id-7 div.sk-toggleable {background-color: white;}#sk-container-id-7 label.sk-toggleable__label {cursor: pointer;display: block;width: 100%;margin-bottom: 0;padding: 0.3em;box-sizing: border-box;text-align: center;}#sk-container-id-7 label.sk-toggleable__label-arrow:before {content: \"▸\";float: left;margin-right: 0.25em;color: #696969;}#sk-container-id-7 label.sk-toggleable__label-arrow:hover:before {color: black;}#sk-container-id-7 div.sk-estimator:hover label.sk-toggleable__label-arrow:before {color: black;}#sk-container-id-7 div.sk-toggleable__content {max-height: 0;max-width: 0;overflow: hidden;text-align: left;background-color: #f0f8ff;}#sk-container-id-7 div.sk-toggleable__content pre {margin: 0.2em;color: black;border-radius: 0.25em;background-color: #f0f8ff;}#sk-container-id-7 input.sk-toggleable__control:checked~div.sk-toggleable__content {max-height: 200px;max-width: 100%;overflow: auto;}#sk-container-id-7 input.sk-toggleable__control:checked~label.sk-toggleable__label-arrow:before {content: \"▾\";}#sk-container-id-7 div.sk-estimator input.sk-toggleable__control:checked~label.sk-toggleable__label {background-color: #d4ebff;}#sk-container-id-7 div.sk-label input.sk-toggleable__control:checked~label.sk-toggleable__label {background-color: #d4ebff;}#sk-container-id-7 input.sk-hidden--visually {border: 0;clip: rect(1px 1px 1px 1px);clip: rect(1px, 1px, 1px, 1px);height: 1px;margin: -1px;overflow: hidden;padding: 0;position: absolute;width: 1px;}#sk-container-id-7 div.sk-estimator {font-family: monospace;background-color: #f0f8ff;border: 1px dotted black;border-radius: 0.25em;box-sizing: border-box;margin-bottom: 0.5em;}#sk-container-id-7 div.sk-estimator:hover {background-color: #d4ebff;}#sk-container-id-7 div.sk-parallel-item::after {content: \"\";width: 100%;border-bottom: 1px solid gray;flex-grow: 1;}#sk-container-id-7 div.sk-label:hover label.sk-toggleable__label {background-color: #d4ebff;}#sk-container-id-7 div.sk-serial::before {content: \"\";position: absolute;border-left: 1px solid gray;box-sizing: border-box;top: 0;bottom: 0;left: 50%;z-index: 0;}#sk-container-id-7 div.sk-serial {display: flex;flex-direction: column;align-items: center;background-color: white;padding-right: 0.2em;padding-left: 0.2em;position: relative;}#sk-container-id-7 div.sk-item {position: relative;z-index: 1;}#sk-container-id-7 div.sk-parallel {display: flex;align-items: stretch;justify-content: center;background-color: white;position: relative;}#sk-container-id-7 div.sk-item::before, #sk-container-id-7 div.sk-parallel-item::before {content: \"\";position: absolute;border-left: 1px solid gray;box-sizing: border-box;top: 0;bottom: 0;left: 50%;z-index: -1;}#sk-container-id-7 div.sk-parallel-item {display: flex;flex-direction: column;z-index: 1;position: relative;background-color: white;}#sk-container-id-7 div.sk-parallel-item:first-child::after {align-self: flex-end;width: 50%;}#sk-container-id-7 div.sk-parallel-item:last-child::after {align-self: flex-start;width: 50%;}#sk-container-id-7 div.sk-parallel-item:only-child::after {width: 0;}#sk-container-id-7 div.sk-dashed-wrapped {border: 1px dashed gray;margin: 0 0.4em 0.5em 0.4em;box-sizing: border-box;padding-bottom: 0.4em;background-color: white;}#sk-container-id-7 div.sk-label label {font-family: monospace;font-weight: bold;display: inline-block;line-height: 1.2em;}#sk-container-id-7 div.sk-label-container {text-align: center;}#sk-container-id-7 div.sk-container {/* jupyter's `normalize.less` sets `[hidden] { display: none; }` but bootstrap.min.css set `[hidden] { display: none !important; }` so we also need the `!important` here to be able to override the default hidden behavior on the sphinx rendered scikit-learn.org. See: https://github.com/scikit-learn/scikit-learn/issues/21755 */display: inline-block !important;position: relative;}#sk-container-id-7 div.sk-text-repr-fallback {display: none;}</style><div id=\"sk-container-id-7\" class=\"sk-top-container\"><div class=\"sk-text-repr-fallback\"><pre>KNeighborsClassifier(n_neighbors=70)</pre><b>In a Jupyter environment, please rerun this cell to show the HTML representation or trust the notebook. <br />On GitHub, the HTML representation is unable to render, please try loading this page with nbviewer.org.</b></div><div class=\"sk-container\" hidden><div class=\"sk-item\"><div class=\"sk-estimator sk-toggleable\"><input class=\"sk-toggleable__control sk-hidden--visually\" id=\"sk-estimator-id-7\" type=\"checkbox\" checked><label for=\"sk-estimator-id-7\" class=\"sk-toggleable__label sk-toggleable__label-arrow\">KNeighborsClassifier</label><div class=\"sk-toggleable__content\"><pre>KNeighborsClassifier(n_neighbors=70)</pre></div></div></div></div></div>"
      ],
      "text/plain": [
       "KNeighborsClassifier(n_neighbors=70)"
      ]
     },
     "execution_count": 65,
     "metadata": {},
     "output_type": "execute_result"
    }
   ],
   "source": [
    "knn.fit(X_train , y_train)"
   ]
  },
  {
   "cell_type": "code",
   "execution_count": 66,
   "id": "8ade450c",
   "metadata": {
    "ExecuteTime": {
     "end_time": "2023-10-23T08:50:36.723825Z",
     "start_time": "2023-10-23T08:50:36.698607Z"
    }
   },
   "outputs": [
    {
     "data": {
      "text/plain": [
       "0.6774193548387096"
      ]
     },
     "execution_count": 66,
     "metadata": {},
     "output_type": "execute_result"
    }
   ],
   "source": [
    "knn.score(X_train , y_train)"
   ]
  },
  {
   "cell_type": "code",
   "execution_count": 70,
   "id": "7c0c1079",
   "metadata": {
    "ExecuteTime": {
     "end_time": "2023-10-23T08:51:48.011163Z",
     "start_time": "2023-10-23T08:51:47.981769Z"
    }
   },
   "outputs": [
    {
     "data": {
      "text/plain": [
       "0.7962962962962963"
      ]
     },
     "execution_count": 70,
     "metadata": {},
     "output_type": "execute_result"
    }
   ],
   "source": [
    "knn.score(X_test , y_test)"
   ]
  },
  {
   "cell_type": "markdown",
   "id": "40215a0c",
   "metadata": {},
   "source": [
    "- 이건 train 점수가 오히려 낮다."
   ]
  },
  {
   "cell_type": "code",
   "execution_count": 7,
   "id": "5cdca770",
   "metadata": {
    "ExecuteTime": {
     "end_time": "2023-10-27T04:44:01.725750Z",
     "start_time": "2023-10-27T04:44:01.718604Z"
    }
   },
   "outputs": [],
   "source": [
    "def solution(arr):\n",
    "    answer = []\n",
    "    for i in range(len(arr)):\n",
    "        answer.append(arr[i])\n",
    "        if i>0:\n",
    "            if arr[i] == arr[i-1]:\n",
    "                answer.pop()\n",
    "    return answer"
   ]
  },
  {
   "cell_type": "code",
   "execution_count": 8,
   "id": "cef5aa94",
   "metadata": {
    "ExecuteTime": {
     "end_time": "2023-10-27T04:44:01.862247Z",
     "start_time": "2023-10-27T04:44:01.846554Z"
    }
   },
   "outputs": [
    {
     "data": {
      "text/plain": [
       "[1, 3, 0, 1]"
      ]
     },
     "execution_count": 8,
     "metadata": {},
     "output_type": "execute_result"
    }
   ],
   "source": [
    "solution([1,1,1,3,3,0,0,1,1])"
   ]
  },
  {
   "cell_type": "code",
   "execution_count": 14,
   "id": "11460e5b",
   "metadata": {
    "ExecuteTime": {
     "end_time": "2023-10-27T04:49:57.299390Z",
     "start_time": "2023-10-27T04:49:57.284357Z"
    }
   },
   "outputs": [],
   "source": [
    "def solution(s):\n",
    "    answer = ''\n",
    "    for i in range(len(s)):\n",
    "        if s[i] == ' ':\n",
    "            continue\n",
    "        elif i%2==0:\n",
    "            s[i] = s[i].upper()\n",
    "        else:\n",
    "            s[i] = s[i].lower()\n",
    "    return s"
   ]
  },
  {
   "cell_type": "code",
   "execution_count": 15,
   "id": "e11d736e",
   "metadata": {
    "ExecuteTime": {
     "end_time": "2023-10-27T04:49:57.453613Z",
     "start_time": "2023-10-27T04:49:57.419649Z"
    }
   },
   "outputs": [
    {
     "ename": "TypeError",
     "evalue": "'str' object does not support item assignment",
     "output_type": "error",
     "traceback": [
      "\u001b[1;31m---------------------------------------------------------------------------\u001b[0m",
      "\u001b[1;31mTypeError\u001b[0m                                 Traceback (most recent call last)",
      "Cell \u001b[1;32mIn[15], line 1\u001b[0m\n\u001b[1;32m----> 1\u001b[0m \u001b[43msolution\u001b[49m\u001b[43m(\u001b[49m\u001b[38;5;124;43m\"\u001b[39;49m\u001b[38;5;124;43mtry hello world\u001b[39;49m\u001b[38;5;124;43m\"\u001b[39;49m\u001b[43m)\u001b[49m\n",
      "Cell \u001b[1;32mIn[14], line 7\u001b[0m, in \u001b[0;36msolution\u001b[1;34m(s)\u001b[0m\n\u001b[0;32m      5\u001b[0m     \u001b[38;5;28;01mcontinue\u001b[39;00m\n\u001b[0;32m      6\u001b[0m \u001b[38;5;28;01melif\u001b[39;00m i\u001b[38;5;241m%\u001b[39m\u001b[38;5;241m2\u001b[39m\u001b[38;5;241m==\u001b[39m\u001b[38;5;241m0\u001b[39m:\n\u001b[1;32m----> 7\u001b[0m     s[i] \u001b[38;5;241m=\u001b[39m s[i]\u001b[38;5;241m.\u001b[39mupper()\n\u001b[0;32m      8\u001b[0m \u001b[38;5;28;01melse\u001b[39;00m:\n\u001b[0;32m      9\u001b[0m     s[i] \u001b[38;5;241m=\u001b[39m s[i]\u001b[38;5;241m.\u001b[39mlower()\n",
      "\u001b[1;31mTypeError\u001b[0m: 'str' object does not support item assignment"
     ]
    }
   ],
   "source": [
    "solution(\"try hello world\")"
   ]
  },
  {
   "cell_type": "code",
   "execution_count": 16,
   "id": "1dd3e133",
   "metadata": {
    "ExecuteTime": {
     "end_time": "2023-10-27T04:50:04.022756Z",
     "start_time": "2023-10-27T04:50:04.015450Z"
    }
   },
   "outputs": [
    {
     "data": {
      "text/plain": [
       "'AB'"
      ]
     },
     "execution_count": 16,
     "metadata": {},
     "output_type": "execute_result"
    }
   ],
   "source": [
    "'ab'.upper()"
   ]
  }
 ],
 "metadata": {
  "kernelspec": {
   "display_name": "Python 3 (ipykernel)",
   "language": "python",
   "name": "python3"
  },
  "language_info": {
   "codemirror_mode": {
    "name": "ipython",
    "version": 3
   },
   "file_extension": ".py",
   "mimetype": "text/x-python",
   "name": "python",
   "nbconvert_exporter": "python",
   "pygments_lexer": "ipython3",
   "version": "3.8.17"
  },
  "toc": {
   "base_numbering": 1,
   "nav_menu": {},
   "number_sections": true,
   "sideBar": true,
   "skip_h1_title": false,
   "title_cell": "Table of Contents",
   "title_sidebar": "Contents",
   "toc_cell": false,
   "toc_position": {},
   "toc_section_display": true,
   "toc_window_display": false
  }
 },
 "nbformat": 4,
 "nbformat_minor": 5
}
