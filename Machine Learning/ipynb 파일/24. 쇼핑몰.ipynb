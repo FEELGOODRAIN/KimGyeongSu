{
 "cells": [
  {
   "cell_type": "code",
   "execution_count": 413,
   "id": "f2bf85bb",
   "metadata": {
    "ExecuteTime": {
     "end_time": "2023-11-03T08:38:03.541523Z",
     "start_time": "2023-11-03T08:38:03.527521Z"
    }
   },
   "outputs": [],
   "source": [
    "import numpy as np\n",
    "import pandas as pd\n",
    "import matplotlib as mpl\n",
    "import matplotlib.pyplot as plt\n",
    "import mglearn\n",
    "%matplotlib inline\n",
    "import seaborn as sns\n",
    "import platform\n",
    "from matplotlib import font_manager , rc\n",
    "\n",
    "if platform.system() == 'Darwin':\n",
    "  rc('font' , family = 'AppleGothic')\n",
    "elif platform.system() == 'Windows':\n",
    "  path = 'C:/Windows/Fonts/malgun.ttf'\n",
    "  font_name = font_manager.FontProperties(fname = path).get_name()\n",
    "  rc('font' , family = font_name)\n",
    "else:\n",
    "  print('모름')\n",
    "plt.rcParams['axes.unicode_minus'] = False\n",
    "import warnings\n",
    "warnings.filterwarnings('ignore')"
   ]
  },
  {
   "cell_type": "code",
   "execution_count": 414,
   "id": "1e23d97c",
   "metadata": {
    "ExecuteTime": {
     "end_time": "2023-11-03T08:38:04.013625Z",
     "start_time": "2023-11-03T08:38:03.543550Z"
    }
   },
   "outputs": [],
   "source": [
    "retail = pd.read_csv('OnlineRetail.csv' , encoding = 'ISO-8859-1')"
   ]
  },
  {
   "cell_type": "code",
   "execution_count": 415,
   "id": "267a158b",
   "metadata": {
    "ExecuteTime": {
     "end_time": "2023-11-03T08:38:04.029827Z",
     "start_time": "2023-11-03T08:38:04.015506Z"
    }
   },
   "outputs": [
    {
     "data": {
      "text/plain": [
       "Index(['InvoiceNo', 'StockCode', 'Description', 'Quantity', 'InvoiceDate',\n",
       "       'UnitPrice', 'CustomerID', 'Country'],\n",
       "      dtype='object')"
      ]
     },
     "execution_count": 415,
     "metadata": {},
     "output_type": "execute_result"
    }
   ],
   "source": [
    "retail.columns"
   ]
  },
  {
   "cell_type": "markdown",
   "id": "06cac07a",
   "metadata": {},
   "source": [
    "**feature list**\n",
    "- InvoiceNo : 주문번호\n",
    "- StockCode : 상품코드\n",
    "- Description : 상품설명\n",
    "- Quantity : 주문수량\n",
    "- InvoiceDate : 주문날짜\n",
    "- UnitPrice : 상품가격\n",
    "- CustomerID : 고객아이디\n",
    "- Country : 나라"
   ]
  },
  {
   "cell_type": "code",
   "execution_count": 416,
   "id": "68e14d26",
   "metadata": {
    "ExecuteTime": {
     "end_time": "2023-11-03T08:38:04.278654Z",
     "start_time": "2023-11-03T08:38:04.031835Z"
    }
   },
   "outputs": [
    {
     "name": "stdout",
     "output_type": "stream",
     "text": [
      "<class 'pandas.core.frame.DataFrame'>\n",
      "RangeIndex: 541909 entries, 0 to 541908\n",
      "Data columns (total 8 columns):\n",
      " #   Column       Non-Null Count   Dtype  \n",
      "---  ------       --------------   -----  \n",
      " 0   InvoiceNo    541909 non-null  object \n",
      " 1   StockCode    541909 non-null  object \n",
      " 2   Description  540455 non-null  object \n",
      " 3   Quantity     541909 non-null  int64  \n",
      " 4   InvoiceDate  541909 non-null  object \n",
      " 5   UnitPrice    541909 non-null  float64\n",
      " 6   CustomerID   406829 non-null  float64\n",
      " 7   Country      541909 non-null  object \n",
      "dtypes: float64(2), int64(1), object(5)\n",
      "memory usage: 33.1+ MB\n"
     ]
    }
   ],
   "source": [
    "retail.info()"
   ]
  },
  {
   "cell_type": "code",
   "execution_count": 417,
   "id": "ba2ff1d5",
   "metadata": {
    "ExecuteTime": {
     "end_time": "2023-11-03T08:38:04.339942Z",
     "start_time": "2023-11-03T08:38:04.280573Z"
    }
   },
   "outputs": [
    {
     "data": {
      "text/html": [
       "<div>\n",
       "<style scoped>\n",
       "    .dataframe tbody tr th:only-of-type {\n",
       "        vertical-align: middle;\n",
       "    }\n",
       "\n",
       "    .dataframe tbody tr th {\n",
       "        vertical-align: top;\n",
       "    }\n",
       "\n",
       "    .dataframe thead th {\n",
       "        text-align: right;\n",
       "    }\n",
       "</style>\n",
       "<table border=\"1\" class=\"dataframe\">\n",
       "  <thead>\n",
       "    <tr style=\"text-align: right;\">\n",
       "      <th></th>\n",
       "      <th>count</th>\n",
       "      <th>mean</th>\n",
       "      <th>std</th>\n",
       "      <th>min</th>\n",
       "      <th>25%</th>\n",
       "      <th>50%</th>\n",
       "      <th>75%</th>\n",
       "      <th>max</th>\n",
       "    </tr>\n",
       "  </thead>\n",
       "  <tbody>\n",
       "    <tr>\n",
       "      <th>Quantity</th>\n",
       "      <td>541909.0</td>\n",
       "      <td>9.552250</td>\n",
       "      <td>218.081158</td>\n",
       "      <td>-80995.00</td>\n",
       "      <td>1.00</td>\n",
       "      <td>3.00</td>\n",
       "      <td>10.00</td>\n",
       "      <td>80995.0</td>\n",
       "    </tr>\n",
       "    <tr>\n",
       "      <th>UnitPrice</th>\n",
       "      <td>541909.0</td>\n",
       "      <td>4.611114</td>\n",
       "      <td>96.759853</td>\n",
       "      <td>-11062.06</td>\n",
       "      <td>1.25</td>\n",
       "      <td>2.08</td>\n",
       "      <td>4.13</td>\n",
       "      <td>38970.0</td>\n",
       "    </tr>\n",
       "    <tr>\n",
       "      <th>CustomerID</th>\n",
       "      <td>406829.0</td>\n",
       "      <td>15287.690570</td>\n",
       "      <td>1713.600303</td>\n",
       "      <td>12346.00</td>\n",
       "      <td>13953.00</td>\n",
       "      <td>15152.00</td>\n",
       "      <td>16791.00</td>\n",
       "      <td>18287.0</td>\n",
       "    </tr>\n",
       "  </tbody>\n",
       "</table>\n",
       "</div>"
      ],
      "text/plain": [
       "               count          mean          std       min       25%       50%  \\\n",
       "Quantity    541909.0      9.552250   218.081158 -80995.00      1.00      3.00   \n",
       "UnitPrice   541909.0      4.611114    96.759853 -11062.06      1.25      2.08   \n",
       "CustomerID  406829.0  15287.690570  1713.600303  12346.00  13953.00  15152.00   \n",
       "\n",
       "                 75%      max  \n",
       "Quantity       10.00  80995.0  \n",
       "UnitPrice       4.13  38970.0  \n",
       "CustomerID  16791.00  18287.0  "
      ]
     },
     "execution_count": 417,
     "metadata": {},
     "output_type": "execute_result"
    }
   ],
   "source": [
    "retail.describe().T"
   ]
  },
  {
   "cell_type": "code",
   "execution_count": 418,
   "id": "4d9f4508",
   "metadata": {
    "ExecuteTime": {
     "end_time": "2023-11-03T08:38:04.606606Z",
     "start_time": "2023-11-03T08:38:04.341947Z"
    }
   },
   "outputs": [],
   "source": [
    "retail.dropna(inplace = True)"
   ]
  },
  {
   "cell_type": "code",
   "execution_count": 419,
   "id": "c30250f1",
   "metadata": {
    "ExecuteTime": {
     "end_time": "2023-11-03T08:38:04.653207Z",
     "start_time": "2023-11-03T08:38:04.608105Z"
    }
   },
   "outputs": [],
   "source": [
    "retail = retail[retail['Quantity'] > 0]"
   ]
  },
  {
   "cell_type": "code",
   "execution_count": 420,
   "id": "de98c2a9",
   "metadata": {
    "ExecuteTime": {
     "end_time": "2023-11-03T08:38:04.699823Z",
     "start_time": "2023-11-03T08:38:04.655212Z"
    }
   },
   "outputs": [],
   "source": [
    "retail = retail[retail['UnitPrice'] > 0]"
   ]
  },
  {
   "cell_type": "code",
   "execution_count": 421,
   "id": "06f947e2",
   "metadata": {
    "ExecuteTime": {
     "end_time": "2023-11-03T08:38:04.871794Z",
     "start_time": "2023-11-03T08:38:04.701755Z"
    }
   },
   "outputs": [
    {
     "name": "stdout",
     "output_type": "stream",
     "text": [
      "<class 'pandas.core.frame.DataFrame'>\n",
      "Int64Index: 397884 entries, 0 to 541908\n",
      "Data columns (total 8 columns):\n",
      " #   Column       Non-Null Count   Dtype  \n",
      "---  ------       --------------   -----  \n",
      " 0   InvoiceNo    397884 non-null  object \n",
      " 1   StockCode    397884 non-null  object \n",
      " 2   Description  397884 non-null  object \n",
      " 3   Quantity     397884 non-null  int64  \n",
      " 4   InvoiceDate  397884 non-null  object \n",
      " 5   UnitPrice    397884 non-null  float64\n",
      " 6   CustomerID   397884 non-null  float64\n",
      " 7   Country      397884 non-null  object \n",
      "dtypes: float64(2), int64(1), object(5)\n",
      "memory usage: 27.3+ MB\n"
     ]
    }
   ],
   "source": [
    "retail.info()"
   ]
  },
  {
   "cell_type": "code",
   "execution_count": 422,
   "id": "39089edd",
   "metadata": {
    "ExecuteTime": {
     "end_time": "2023-11-03T08:38:04.903689Z",
     "start_time": "2023-11-03T08:38:04.875784Z"
    }
   },
   "outputs": [
    {
     "data": {
      "text/html": [
       "<div>\n",
       "<style scoped>\n",
       "    .dataframe tbody tr th:only-of-type {\n",
       "        vertical-align: middle;\n",
       "    }\n",
       "\n",
       "    .dataframe tbody tr th {\n",
       "        vertical-align: top;\n",
       "    }\n",
       "\n",
       "    .dataframe thead th {\n",
       "        text-align: right;\n",
       "    }\n",
       "</style>\n",
       "<table border=\"1\" class=\"dataframe\">\n",
       "  <thead>\n",
       "    <tr style=\"text-align: right;\">\n",
       "      <th></th>\n",
       "      <th>InvoiceNo</th>\n",
       "      <th>StockCode</th>\n",
       "      <th>Description</th>\n",
       "      <th>Quantity</th>\n",
       "      <th>InvoiceDate</th>\n",
       "      <th>UnitPrice</th>\n",
       "      <th>CustomerID</th>\n",
       "      <th>Country</th>\n",
       "    </tr>\n",
       "  </thead>\n",
       "  <tbody>\n",
       "    <tr>\n",
       "      <th>0</th>\n",
       "      <td>536365</td>\n",
       "      <td>85123A</td>\n",
       "      <td>WHITE HANGING HEART T-LIGHT HOLDER</td>\n",
       "      <td>6</td>\n",
       "      <td>01-12-2010 08:26</td>\n",
       "      <td>2.55</td>\n",
       "      <td>17850.0</td>\n",
       "      <td>United Kingdom</td>\n",
       "    </tr>\n",
       "    <tr>\n",
       "      <th>1</th>\n",
       "      <td>536365</td>\n",
       "      <td>71053</td>\n",
       "      <td>WHITE METAL LANTERN</td>\n",
       "      <td>6</td>\n",
       "      <td>01-12-2010 08:26</td>\n",
       "      <td>3.39</td>\n",
       "      <td>17850.0</td>\n",
       "      <td>United Kingdom</td>\n",
       "    </tr>\n",
       "    <tr>\n",
       "      <th>2</th>\n",
       "      <td>536365</td>\n",
       "      <td>84406B</td>\n",
       "      <td>CREAM CUPID HEARTS COAT HANGER</td>\n",
       "      <td>8</td>\n",
       "      <td>01-12-2010 08:26</td>\n",
       "      <td>2.75</td>\n",
       "      <td>17850.0</td>\n",
       "      <td>United Kingdom</td>\n",
       "    </tr>\n",
       "    <tr>\n",
       "      <th>3</th>\n",
       "      <td>536365</td>\n",
       "      <td>84029G</td>\n",
       "      <td>KNITTED UNION FLAG HOT WATER BOTTLE</td>\n",
       "      <td>6</td>\n",
       "      <td>01-12-2010 08:26</td>\n",
       "      <td>3.39</td>\n",
       "      <td>17850.0</td>\n",
       "      <td>United Kingdom</td>\n",
       "    </tr>\n",
       "    <tr>\n",
       "      <th>4</th>\n",
       "      <td>536365</td>\n",
       "      <td>84029E</td>\n",
       "      <td>RED WOOLLY HOTTIE WHITE HEART.</td>\n",
       "      <td>6</td>\n",
       "      <td>01-12-2010 08:26</td>\n",
       "      <td>3.39</td>\n",
       "      <td>17850.0</td>\n",
       "      <td>United Kingdom</td>\n",
       "    </tr>\n",
       "    <tr>\n",
       "      <th>...</th>\n",
       "      <td>...</td>\n",
       "      <td>...</td>\n",
       "      <td>...</td>\n",
       "      <td>...</td>\n",
       "      <td>...</td>\n",
       "      <td>...</td>\n",
       "      <td>...</td>\n",
       "      <td>...</td>\n",
       "    </tr>\n",
       "    <tr>\n",
       "      <th>541904</th>\n",
       "      <td>581587</td>\n",
       "      <td>22613</td>\n",
       "      <td>PACK OF 20 SPACEBOY NAPKINS</td>\n",
       "      <td>12</td>\n",
       "      <td>09-12-2011 12:50</td>\n",
       "      <td>0.85</td>\n",
       "      <td>12680.0</td>\n",
       "      <td>France</td>\n",
       "    </tr>\n",
       "    <tr>\n",
       "      <th>541905</th>\n",
       "      <td>581587</td>\n",
       "      <td>22899</td>\n",
       "      <td>CHILDREN'S APRON DOLLY GIRL</td>\n",
       "      <td>6</td>\n",
       "      <td>09-12-2011 12:50</td>\n",
       "      <td>2.10</td>\n",
       "      <td>12680.0</td>\n",
       "      <td>France</td>\n",
       "    </tr>\n",
       "    <tr>\n",
       "      <th>541906</th>\n",
       "      <td>581587</td>\n",
       "      <td>23254</td>\n",
       "      <td>CHILDRENS CUTLERY DOLLY GIRL</td>\n",
       "      <td>4</td>\n",
       "      <td>09-12-2011 12:50</td>\n",
       "      <td>4.15</td>\n",
       "      <td>12680.0</td>\n",
       "      <td>France</td>\n",
       "    </tr>\n",
       "    <tr>\n",
       "      <th>541907</th>\n",
       "      <td>581587</td>\n",
       "      <td>23255</td>\n",
       "      <td>CHILDRENS CUTLERY CIRCUS PARADE</td>\n",
       "      <td>4</td>\n",
       "      <td>09-12-2011 12:50</td>\n",
       "      <td>4.15</td>\n",
       "      <td>12680.0</td>\n",
       "      <td>France</td>\n",
       "    </tr>\n",
       "    <tr>\n",
       "      <th>541908</th>\n",
       "      <td>581587</td>\n",
       "      <td>22138</td>\n",
       "      <td>BAKING SET 9 PIECE RETROSPOT</td>\n",
       "      <td>3</td>\n",
       "      <td>09-12-2011 12:50</td>\n",
       "      <td>4.95</td>\n",
       "      <td>12680.0</td>\n",
       "      <td>France</td>\n",
       "    </tr>\n",
       "  </tbody>\n",
       "</table>\n",
       "<p>397884 rows × 8 columns</p>\n",
       "</div>"
      ],
      "text/plain": [
       "       InvoiceNo StockCode                          Description  Quantity  \\\n",
       "0         536365    85123A   WHITE HANGING HEART T-LIGHT HOLDER         6   \n",
       "1         536365     71053                  WHITE METAL LANTERN         6   \n",
       "2         536365    84406B       CREAM CUPID HEARTS COAT HANGER         8   \n",
       "3         536365    84029G  KNITTED UNION FLAG HOT WATER BOTTLE         6   \n",
       "4         536365    84029E       RED WOOLLY HOTTIE WHITE HEART.         6   \n",
       "...          ...       ...                                  ...       ...   \n",
       "541904    581587     22613          PACK OF 20 SPACEBOY NAPKINS        12   \n",
       "541905    581587     22899         CHILDREN'S APRON DOLLY GIRL          6   \n",
       "541906    581587     23254        CHILDRENS CUTLERY DOLLY GIRL          4   \n",
       "541907    581587     23255      CHILDRENS CUTLERY CIRCUS PARADE         4   \n",
       "541908    581587     22138        BAKING SET 9 PIECE RETROSPOT          3   \n",
       "\n",
       "             InvoiceDate  UnitPrice  CustomerID         Country  \n",
       "0       01-12-2010 08:26       2.55     17850.0  United Kingdom  \n",
       "1       01-12-2010 08:26       3.39     17850.0  United Kingdom  \n",
       "2       01-12-2010 08:26       2.75     17850.0  United Kingdom  \n",
       "3       01-12-2010 08:26       3.39     17850.0  United Kingdom  \n",
       "4       01-12-2010 08:26       3.39     17850.0  United Kingdom  \n",
       "...                  ...        ...         ...             ...  \n",
       "541904  09-12-2011 12:50       0.85     12680.0          France  \n",
       "541905  09-12-2011 12:50       2.10     12680.0          France  \n",
       "541906  09-12-2011 12:50       4.15     12680.0          France  \n",
       "541907  09-12-2011 12:50       4.15     12680.0          France  \n",
       "541908  09-12-2011 12:50       4.95     12680.0          France  \n",
       "\n",
       "[397884 rows x 8 columns]"
      ]
     },
     "execution_count": 422,
     "metadata": {},
     "output_type": "execute_result"
    }
   ],
   "source": [
    "retail"
   ]
  },
  {
   "cell_type": "code",
   "execution_count": 423,
   "id": "2475f534",
   "metadata": {
    "ExecuteTime": {
     "end_time": "2023-11-03T08:38:04.919132Z",
     "start_time": "2023-11-03T08:38:04.905682Z"
    }
   },
   "outputs": [],
   "source": [
    "retail['Price'] = retail['Quantity'] * retail['UnitPrice']"
   ]
  },
  {
   "cell_type": "code",
   "execution_count": 424,
   "id": "f90d0ea6",
   "metadata": {
    "ExecuteTime": {
     "end_time": "2023-11-03T08:38:04.949632Z",
     "start_time": "2023-11-03T08:38:04.921371Z"
    }
   },
   "outputs": [],
   "source": [
    "retail.drop(['Quantity','UnitPrice'] , axis = 1 , inplace = True)"
   ]
  },
  {
   "cell_type": "code",
   "execution_count": 425,
   "id": "16317935",
   "metadata": {
    "ExecuteTime": {
     "end_time": "2023-11-03T08:38:04.965526Z",
     "start_time": "2023-11-03T08:38:04.950571Z"
    }
   },
   "outputs": [
    {
     "data": {
      "text/html": [
       "<div>\n",
       "<style scoped>\n",
       "    .dataframe tbody tr th:only-of-type {\n",
       "        vertical-align: middle;\n",
       "    }\n",
       "\n",
       "    .dataframe tbody tr th {\n",
       "        vertical-align: top;\n",
       "    }\n",
       "\n",
       "    .dataframe thead th {\n",
       "        text-align: right;\n",
       "    }\n",
       "</style>\n",
       "<table border=\"1\" class=\"dataframe\">\n",
       "  <thead>\n",
       "    <tr style=\"text-align: right;\">\n",
       "      <th></th>\n",
       "      <th>InvoiceNo</th>\n",
       "      <th>StockCode</th>\n",
       "      <th>Description</th>\n",
       "      <th>InvoiceDate</th>\n",
       "      <th>CustomerID</th>\n",
       "      <th>Country</th>\n",
       "      <th>Price</th>\n",
       "    </tr>\n",
       "  </thead>\n",
       "  <tbody>\n",
       "    <tr>\n",
       "      <th>0</th>\n",
       "      <td>536365</td>\n",
       "      <td>85123A</td>\n",
       "      <td>WHITE HANGING HEART T-LIGHT HOLDER</td>\n",
       "      <td>01-12-2010 08:26</td>\n",
       "      <td>17850.0</td>\n",
       "      <td>United Kingdom</td>\n",
       "      <td>15.30</td>\n",
       "    </tr>\n",
       "    <tr>\n",
       "      <th>1</th>\n",
       "      <td>536365</td>\n",
       "      <td>71053</td>\n",
       "      <td>WHITE METAL LANTERN</td>\n",
       "      <td>01-12-2010 08:26</td>\n",
       "      <td>17850.0</td>\n",
       "      <td>United Kingdom</td>\n",
       "      <td>20.34</td>\n",
       "    </tr>\n",
       "    <tr>\n",
       "      <th>2</th>\n",
       "      <td>536365</td>\n",
       "      <td>84406B</td>\n",
       "      <td>CREAM CUPID HEARTS COAT HANGER</td>\n",
       "      <td>01-12-2010 08:26</td>\n",
       "      <td>17850.0</td>\n",
       "      <td>United Kingdom</td>\n",
       "      <td>22.00</td>\n",
       "    </tr>\n",
       "    <tr>\n",
       "      <th>3</th>\n",
       "      <td>536365</td>\n",
       "      <td>84029G</td>\n",
       "      <td>KNITTED UNION FLAG HOT WATER BOTTLE</td>\n",
       "      <td>01-12-2010 08:26</td>\n",
       "      <td>17850.0</td>\n",
       "      <td>United Kingdom</td>\n",
       "      <td>20.34</td>\n",
       "    </tr>\n",
       "    <tr>\n",
       "      <th>4</th>\n",
       "      <td>536365</td>\n",
       "      <td>84029E</td>\n",
       "      <td>RED WOOLLY HOTTIE WHITE HEART.</td>\n",
       "      <td>01-12-2010 08:26</td>\n",
       "      <td>17850.0</td>\n",
       "      <td>United Kingdom</td>\n",
       "      <td>20.34</td>\n",
       "    </tr>\n",
       "    <tr>\n",
       "      <th>...</th>\n",
       "      <td>...</td>\n",
       "      <td>...</td>\n",
       "      <td>...</td>\n",
       "      <td>...</td>\n",
       "      <td>...</td>\n",
       "      <td>...</td>\n",
       "      <td>...</td>\n",
       "    </tr>\n",
       "    <tr>\n",
       "      <th>541904</th>\n",
       "      <td>581587</td>\n",
       "      <td>22613</td>\n",
       "      <td>PACK OF 20 SPACEBOY NAPKINS</td>\n",
       "      <td>09-12-2011 12:50</td>\n",
       "      <td>12680.0</td>\n",
       "      <td>France</td>\n",
       "      <td>10.20</td>\n",
       "    </tr>\n",
       "    <tr>\n",
       "      <th>541905</th>\n",
       "      <td>581587</td>\n",
       "      <td>22899</td>\n",
       "      <td>CHILDREN'S APRON DOLLY GIRL</td>\n",
       "      <td>09-12-2011 12:50</td>\n",
       "      <td>12680.0</td>\n",
       "      <td>France</td>\n",
       "      <td>12.60</td>\n",
       "    </tr>\n",
       "    <tr>\n",
       "      <th>541906</th>\n",
       "      <td>581587</td>\n",
       "      <td>23254</td>\n",
       "      <td>CHILDRENS CUTLERY DOLLY GIRL</td>\n",
       "      <td>09-12-2011 12:50</td>\n",
       "      <td>12680.0</td>\n",
       "      <td>France</td>\n",
       "      <td>16.60</td>\n",
       "    </tr>\n",
       "    <tr>\n",
       "      <th>541907</th>\n",
       "      <td>581587</td>\n",
       "      <td>23255</td>\n",
       "      <td>CHILDRENS CUTLERY CIRCUS PARADE</td>\n",
       "      <td>09-12-2011 12:50</td>\n",
       "      <td>12680.0</td>\n",
       "      <td>France</td>\n",
       "      <td>16.60</td>\n",
       "    </tr>\n",
       "    <tr>\n",
       "      <th>541908</th>\n",
       "      <td>581587</td>\n",
       "      <td>22138</td>\n",
       "      <td>BAKING SET 9 PIECE RETROSPOT</td>\n",
       "      <td>09-12-2011 12:50</td>\n",
       "      <td>12680.0</td>\n",
       "      <td>France</td>\n",
       "      <td>14.85</td>\n",
       "    </tr>\n",
       "  </tbody>\n",
       "</table>\n",
       "<p>397884 rows × 7 columns</p>\n",
       "</div>"
      ],
      "text/plain": [
       "       InvoiceNo StockCode                          Description  \\\n",
       "0         536365    85123A   WHITE HANGING HEART T-LIGHT HOLDER   \n",
       "1         536365     71053                  WHITE METAL LANTERN   \n",
       "2         536365    84406B       CREAM CUPID HEARTS COAT HANGER   \n",
       "3         536365    84029G  KNITTED UNION FLAG HOT WATER BOTTLE   \n",
       "4         536365    84029E       RED WOOLLY HOTTIE WHITE HEART.   \n",
       "...          ...       ...                                  ...   \n",
       "541904    581587     22613          PACK OF 20 SPACEBOY NAPKINS   \n",
       "541905    581587     22899         CHILDREN'S APRON DOLLY GIRL    \n",
       "541906    581587     23254        CHILDRENS CUTLERY DOLLY GIRL    \n",
       "541907    581587     23255      CHILDRENS CUTLERY CIRCUS PARADE   \n",
       "541908    581587     22138        BAKING SET 9 PIECE RETROSPOT    \n",
       "\n",
       "             InvoiceDate  CustomerID         Country  Price  \n",
       "0       01-12-2010 08:26     17850.0  United Kingdom  15.30  \n",
       "1       01-12-2010 08:26     17850.0  United Kingdom  20.34  \n",
       "2       01-12-2010 08:26     17850.0  United Kingdom  22.00  \n",
       "3       01-12-2010 08:26     17850.0  United Kingdom  20.34  \n",
       "4       01-12-2010 08:26     17850.0  United Kingdom  20.34  \n",
       "...                  ...         ...             ...    ...  \n",
       "541904  09-12-2011 12:50     12680.0          France  10.20  \n",
       "541905  09-12-2011 12:50     12680.0          France  12.60  \n",
       "541906  09-12-2011 12:50     12680.0          France  16.60  \n",
       "541907  09-12-2011 12:50     12680.0          France  16.60  \n",
       "541908  09-12-2011 12:50     12680.0          France  14.85  \n",
       "\n",
       "[397884 rows x 7 columns]"
      ]
     },
     "execution_count": 425,
     "metadata": {},
     "output_type": "execute_result"
    }
   ],
   "source": [
    "retail"
   ]
  },
  {
   "cell_type": "code",
   "execution_count": 426,
   "id": "68f09323",
   "metadata": {
    "ExecuteTime": {
     "end_time": "2023-11-03T08:38:05.028877Z",
     "start_time": "2023-11-03T08:38:04.967518Z"
    }
   },
   "outputs": [],
   "source": [
    "retail = retail[retail['Country'] == 'United Kingdom']"
   ]
  },
  {
   "cell_type": "code",
   "execution_count": 427,
   "id": "35bcd185",
   "metadata": {
    "ExecuteTime": {
     "end_time": "2023-11-03T08:38:09.721099Z",
     "start_time": "2023-11-03T08:38:05.030889Z"
    }
   },
   "outputs": [],
   "source": [
    "from datetime import datetime\n",
    "retail.InvoiceDate = retail.InvoiceDate.apply(lambda x : datetime.strptime(x, '%d-%m-%Y %H:%M'))\n",
    "retail['year'] = retail.InvoiceDate.apply(lambda x : x.year)\n",
    "retail['month'] = retail.InvoiceDate.apply(lambda x : x.month)\n",
    "retail['day'] = retail.InvoiceDate.apply(lambda x : x.day)\n",
    "retail['hour'] = retail.InvoiceDate.apply(lambda x: x.hour)"
   ]
  },
  {
   "cell_type": "code",
   "execution_count": 428,
   "id": "35678d33",
   "metadata": {
    "ExecuteTime": {
     "end_time": "2023-11-03T08:38:09.751366Z",
     "start_time": "2023-11-03T08:38:09.723103Z"
    }
   },
   "outputs": [],
   "source": [
    "retail.drop('InvoiceDate' , inplace = True , axis = 1)"
   ]
  },
  {
   "cell_type": "code",
   "execution_count": 429,
   "id": "7db655a9",
   "metadata": {
    "ExecuteTime": {
     "end_time": "2023-11-03T08:38:09.766774Z",
     "start_time": "2023-11-03T08:38:09.752393Z"
    }
   },
   "outputs": [
    {
     "data": {
      "text/html": [
       "<div>\n",
       "<style scoped>\n",
       "    .dataframe tbody tr th:only-of-type {\n",
       "        vertical-align: middle;\n",
       "    }\n",
       "\n",
       "    .dataframe tbody tr th {\n",
       "        vertical-align: top;\n",
       "    }\n",
       "\n",
       "    .dataframe thead th {\n",
       "        text-align: right;\n",
       "    }\n",
       "</style>\n",
       "<table border=\"1\" class=\"dataframe\">\n",
       "  <thead>\n",
       "    <tr style=\"text-align: right;\">\n",
       "      <th></th>\n",
       "      <th>InvoiceNo</th>\n",
       "      <th>StockCode</th>\n",
       "      <th>Description</th>\n",
       "      <th>CustomerID</th>\n",
       "      <th>Country</th>\n",
       "      <th>Price</th>\n",
       "      <th>year</th>\n",
       "      <th>month</th>\n",
       "      <th>day</th>\n",
       "      <th>hour</th>\n",
       "    </tr>\n",
       "  </thead>\n",
       "  <tbody>\n",
       "    <tr>\n",
       "      <th>0</th>\n",
       "      <td>536365</td>\n",
       "      <td>85123A</td>\n",
       "      <td>WHITE HANGING HEART T-LIGHT HOLDER</td>\n",
       "      <td>17850.0</td>\n",
       "      <td>United Kingdom</td>\n",
       "      <td>15.30</td>\n",
       "      <td>2010</td>\n",
       "      <td>12</td>\n",
       "      <td>1</td>\n",
       "      <td>8</td>\n",
       "    </tr>\n",
       "    <tr>\n",
       "      <th>1</th>\n",
       "      <td>536365</td>\n",
       "      <td>71053</td>\n",
       "      <td>WHITE METAL LANTERN</td>\n",
       "      <td>17850.0</td>\n",
       "      <td>United Kingdom</td>\n",
       "      <td>20.34</td>\n",
       "      <td>2010</td>\n",
       "      <td>12</td>\n",
       "      <td>1</td>\n",
       "      <td>8</td>\n",
       "    </tr>\n",
       "    <tr>\n",
       "      <th>2</th>\n",
       "      <td>536365</td>\n",
       "      <td>84406B</td>\n",
       "      <td>CREAM CUPID HEARTS COAT HANGER</td>\n",
       "      <td>17850.0</td>\n",
       "      <td>United Kingdom</td>\n",
       "      <td>22.00</td>\n",
       "      <td>2010</td>\n",
       "      <td>12</td>\n",
       "      <td>1</td>\n",
       "      <td>8</td>\n",
       "    </tr>\n",
       "    <tr>\n",
       "      <th>3</th>\n",
       "      <td>536365</td>\n",
       "      <td>84029G</td>\n",
       "      <td>KNITTED UNION FLAG HOT WATER BOTTLE</td>\n",
       "      <td>17850.0</td>\n",
       "      <td>United Kingdom</td>\n",
       "      <td>20.34</td>\n",
       "      <td>2010</td>\n",
       "      <td>12</td>\n",
       "      <td>1</td>\n",
       "      <td>8</td>\n",
       "    </tr>\n",
       "    <tr>\n",
       "      <th>4</th>\n",
       "      <td>536365</td>\n",
       "      <td>84029E</td>\n",
       "      <td>RED WOOLLY HOTTIE WHITE HEART.</td>\n",
       "      <td>17850.0</td>\n",
       "      <td>United Kingdom</td>\n",
       "      <td>20.34</td>\n",
       "      <td>2010</td>\n",
       "      <td>12</td>\n",
       "      <td>1</td>\n",
       "      <td>8</td>\n",
       "    </tr>\n",
       "  </tbody>\n",
       "</table>\n",
       "</div>"
      ],
      "text/plain": [
       "  InvoiceNo StockCode                          Description  CustomerID  \\\n",
       "0    536365    85123A   WHITE HANGING HEART T-LIGHT HOLDER     17850.0   \n",
       "1    536365     71053                  WHITE METAL LANTERN     17850.0   \n",
       "2    536365    84406B       CREAM CUPID HEARTS COAT HANGER     17850.0   \n",
       "3    536365    84029G  KNITTED UNION FLAG HOT WATER BOTTLE     17850.0   \n",
       "4    536365    84029E       RED WOOLLY HOTTIE WHITE HEART.     17850.0   \n",
       "\n",
       "          Country  Price  year  month  day  hour  \n",
       "0  United Kingdom  15.30  2010     12    1     8  \n",
       "1  United Kingdom  20.34  2010     12    1     8  \n",
       "2  United Kingdom  22.00  2010     12    1     8  \n",
       "3  United Kingdom  20.34  2010     12    1     8  \n",
       "4  United Kingdom  20.34  2010     12    1     8  "
      ]
     },
     "execution_count": 429,
     "metadata": {},
     "output_type": "execute_result"
    }
   ],
   "source": [
    "retail.head()"
   ]
  },
  {
   "cell_type": "code",
   "execution_count": 430,
   "id": "0ddb5062",
   "metadata": {
    "ExecuteTime": {
     "end_time": "2023-11-03T08:38:09.828580Z",
     "start_time": "2023-11-03T08:38:09.768868Z"
    }
   },
   "outputs": [],
   "source": [
    "a = retail.groupby(['CustomerID','year','month','day'])['Price'].sum()"
   ]
  },
  {
   "cell_type": "code",
   "execution_count": 431,
   "id": "e6e20db6",
   "metadata": {
    "ExecuteTime": {
     "end_time": "2023-11-03T08:38:09.859934Z",
     "start_time": "2023-11-03T08:38:09.830539Z"
    }
   },
   "outputs": [],
   "source": [
    "a = pd.DataFrame(a)"
   ]
  },
  {
   "cell_type": "code",
   "execution_count": 432,
   "id": "3b927e0f",
   "metadata": {
    "ExecuteTime": {
     "end_time": "2023-11-03T08:38:09.875734Z",
     "start_time": "2023-11-03T08:38:09.862019Z"
    }
   },
   "outputs": [],
   "source": [
    "total = a.reset_index()"
   ]
  },
  {
   "cell_type": "code",
   "execution_count": 433,
   "id": "bde6a996",
   "metadata": {
    "ExecuteTime": {
     "end_time": "2023-11-03T08:38:09.891515Z",
     "start_time": "2023-11-03T08:38:09.877739Z"
    }
   },
   "outputs": [],
   "source": [
    "total['count'] = 1"
   ]
  },
  {
   "cell_type": "code",
   "execution_count": 434,
   "id": "41451c61",
   "metadata": {
    "ExecuteTime": {
     "end_time": "2023-11-03T08:38:09.906855Z",
     "start_time": "2023-11-03T08:38:09.893583Z"
    }
   },
   "outputs": [],
   "source": [
    "visit = pd.DataFrame(total.groupby('CustomerID')['count'].sum()).reset_index()"
   ]
  },
  {
   "cell_type": "code",
   "execution_count": 435,
   "id": "3805b315",
   "metadata": {
    "ExecuteTime": {
     "end_time": "2023-11-03T08:38:09.922394Z",
     "start_time": "2023-11-03T08:38:09.908898Z"
    }
   },
   "outputs": [
    {
     "data": {
      "text/html": [
       "<div>\n",
       "<style scoped>\n",
       "    .dataframe tbody tr th:only-of-type {\n",
       "        vertical-align: middle;\n",
       "    }\n",
       "\n",
       "    .dataframe tbody tr th {\n",
       "        vertical-align: top;\n",
       "    }\n",
       "\n",
       "    .dataframe thead th {\n",
       "        text-align: right;\n",
       "    }\n",
       "</style>\n",
       "<table border=\"1\" class=\"dataframe\">\n",
       "  <thead>\n",
       "    <tr style=\"text-align: right;\">\n",
       "      <th></th>\n",
       "      <th>CustomerID</th>\n",
       "      <th>count</th>\n",
       "    </tr>\n",
       "  </thead>\n",
       "  <tbody>\n",
       "    <tr>\n",
       "      <th>0</th>\n",
       "      <td>12346.0</td>\n",
       "      <td>1</td>\n",
       "    </tr>\n",
       "    <tr>\n",
       "      <th>1</th>\n",
       "      <td>12747.0</td>\n",
       "      <td>11</td>\n",
       "    </tr>\n",
       "    <tr>\n",
       "      <th>2</th>\n",
       "      <td>12748.0</td>\n",
       "      <td>113</td>\n",
       "    </tr>\n",
       "    <tr>\n",
       "      <th>3</th>\n",
       "      <td>12749.0</td>\n",
       "      <td>4</td>\n",
       "    </tr>\n",
       "    <tr>\n",
       "      <th>4</th>\n",
       "      <td>12820.0</td>\n",
       "      <td>4</td>\n",
       "    </tr>\n",
       "    <tr>\n",
       "      <th>...</th>\n",
       "      <td>...</td>\n",
       "      <td>...</td>\n",
       "    </tr>\n",
       "    <tr>\n",
       "      <th>3915</th>\n",
       "      <td>18280.0</td>\n",
       "      <td>1</td>\n",
       "    </tr>\n",
       "    <tr>\n",
       "      <th>3916</th>\n",
       "      <td>18281.0</td>\n",
       "      <td>1</td>\n",
       "    </tr>\n",
       "    <tr>\n",
       "      <th>3917</th>\n",
       "      <td>18282.0</td>\n",
       "      <td>2</td>\n",
       "    </tr>\n",
       "    <tr>\n",
       "      <th>3918</th>\n",
       "      <td>18283.0</td>\n",
       "      <td>14</td>\n",
       "    </tr>\n",
       "    <tr>\n",
       "      <th>3919</th>\n",
       "      <td>18287.0</td>\n",
       "      <td>3</td>\n",
       "    </tr>\n",
       "  </tbody>\n",
       "</table>\n",
       "<p>3920 rows × 2 columns</p>\n",
       "</div>"
      ],
      "text/plain": [
       "      CustomerID  count\n",
       "0        12346.0      1\n",
       "1        12747.0     11\n",
       "2        12748.0    113\n",
       "3        12749.0      4\n",
       "4        12820.0      4\n",
       "...          ...    ...\n",
       "3915     18280.0      1\n",
       "3916     18281.0      1\n",
       "3917     18282.0      2\n",
       "3918     18283.0     14\n",
       "3919     18287.0      3\n",
       "\n",
       "[3920 rows x 2 columns]"
      ]
     },
     "execution_count": 435,
     "metadata": {},
     "output_type": "execute_result"
    }
   ],
   "source": [
    "visit"
   ]
  },
  {
   "cell_type": "code",
   "execution_count": 436,
   "id": "55e96c53",
   "metadata": {
    "ExecuteTime": {
     "end_time": "2023-11-03T08:38:09.937767Z",
     "start_time": "2023-11-03T08:38:09.924835Z"
    }
   },
   "outputs": [],
   "source": [
    "top20 = visit.sort_values(by = 'count' , ascending = False).head(20)"
   ]
  },
  {
   "cell_type": "code",
   "execution_count": 437,
   "id": "954ccd60",
   "metadata": {
    "ExecuteTime": {
     "end_time": "2023-11-03T08:38:09.953509Z",
     "start_time": "2023-11-03T08:38:09.940777Z"
    }
   },
   "outputs": [],
   "source": [
    "aa = visit.sort_values(by = 'count' , ascending = False)['count'].value_counts()"
   ]
  },
  {
   "cell_type": "code",
   "execution_count": 438,
   "id": "2dc8f3fc",
   "metadata": {
    "ExecuteTime": {
     "end_time": "2023-11-03T08:38:09.969111Z",
     "start_time": "2023-11-03T08:38:09.955055Z"
    }
   },
   "outputs": [
    {
     "data": {
      "text/plain": [
       "array([1398,  784,  460,  351,  206,  169,  115,   80,   58,   40,   37,\n",
       "         36,   27,   22,   21,   18,   15,   11,    9,    6,    5,    5,\n",
       "          5,    5,    4,    3,    3,    3,    2,    2,    2,    2,    1,\n",
       "          1,    1,    1,    1,    1,    1,    1,    1,    1,    1,    1,\n",
       "          1,    1,    1,    1], dtype=int64)"
      ]
     },
     "execution_count": 438,
     "metadata": {},
     "output_type": "execute_result"
    }
   ],
   "source": [
    "aa.values"
   ]
  },
  {
   "cell_type": "code",
   "execution_count": 439,
   "id": "d616d79d",
   "metadata": {
    "ExecuteTime": {
     "end_time": "2023-11-03T08:38:09.990715Z",
     "start_time": "2023-11-03T08:38:09.971258Z"
    }
   },
   "outputs": [
    {
     "data": {
      "text/plain": [
       "1      1398\n",
       "2       784\n",
       "3       460\n",
       "4       351\n",
       "5       206\n",
       "6       169\n",
       "7       115\n",
       "8        80\n",
       "9        58\n",
       "10       40\n",
       "11       37\n",
       "12       36\n",
       "13       27\n",
       "15       22\n",
       "17       21\n",
       "14       18\n",
       "20       15\n",
       "18       11\n",
       "16        9\n",
       "21        6\n",
       "23        5\n",
       "19        5\n",
       "26        5\n",
       "25        5\n",
       "29        4\n",
       "24        3\n",
       "28        3\n",
       "35        3\n",
       "22        2\n",
       "32        2\n",
       "33        2\n",
       "38        2\n",
       "48        1\n",
       "90        1\n",
       "89        1\n",
       "71        1\n",
       "66        1\n",
       "54        1\n",
       "53        1\n",
       "39        1\n",
       "42        1\n",
       "41        1\n",
       "112       1\n",
       "36        1\n",
       "31        1\n",
       "30        1\n",
       "27        1\n",
       "113       1\n",
       "Name: count, dtype: int64"
      ]
     },
     "execution_count": 439,
     "metadata": {},
     "output_type": "execute_result"
    }
   ],
   "source": [
    "aa"
   ]
  },
  {
   "cell_type": "code",
   "execution_count": 440,
   "id": "b2dc0975",
   "metadata": {
    "ExecuteTime": {
     "end_time": "2023-11-03T08:38:10.015482Z",
     "start_time": "2023-11-03T08:38:09.997458Z"
    }
   },
   "outputs": [
    {
     "data": {
      "text/plain": [
       "Int64Index([  1,   2,   3,   4,   5,   6,   7,   8,   9,  10,  11,  12,  13,\n",
       "             15,  17,  14,  20,  18,  16,  21,  23,  19,  26,  25,  29,  24,\n",
       "             28,  35,  22,  32,  33,  38,  48,  90,  89,  71,  66,  54,  53,\n",
       "             39,  42,  41, 112,  36,  31,  30,  27, 113],\n",
       "           dtype='int64')"
      ]
     },
     "execution_count": 440,
     "metadata": {},
     "output_type": "execute_result"
    }
   ],
   "source": [
    "aa.keys()"
   ]
  },
  {
   "cell_type": "code",
   "execution_count": 441,
   "id": "391a1a3a",
   "metadata": {
    "ExecuteTime": {
     "end_time": "2023-11-03T08:38:10.252819Z",
     "start_time": "2023-11-03T08:38:10.017556Z"
    }
   },
   "outputs": [
    {
     "data": {
      "image/png": "[encoded data removed]",
      "text/plain": [
       "<Figure size 640x480 with 1 Axes>"
      ]
     },
     "metadata": {},
     "output_type": "display_data"
    }
   ],
   "source": [
    "bar = plt.bar(x = aa.keys() , height = aa.values)\n",
    "\n",
    "\n",
    "for rect in bar:\n",
    "    height = rect.get_height()\n",
    "    plt.text(rect.get_x()+rect.get_width()/2.0,height,  height, ha = 'center',va='bottom',size=12)"
   ]
  },
  {
   "cell_type": "code",
   "execution_count": 442,
   "id": "b84a658c",
   "metadata": {
    "ExecuteTime": {
     "end_time": "2023-11-03T08:38:10.268112Z",
     "start_time": "2023-11-03T08:38:10.254558Z"
    }
   },
   "outputs": [],
   "source": [
    "total = pd.merge(visit , pd.DataFrame(total.groupby('CustomerID')['Price'].sum()).reset_index() , on = 'CustomerID')"
   ]
  },
  {
   "cell_type": "code",
   "execution_count": 443,
   "id": "a0236d58",
   "metadata": {
    "ExecuteTime": {
     "end_time": "2023-11-03T08:38:10.283237Z",
     "start_time": "2023-11-03T08:38:10.270536Z"
    }
   },
   "outputs": [],
   "source": [
    "total2 = total[['count','Price']]"
   ]
  },
  {
   "cell_type": "code",
   "execution_count": 444,
   "id": "8599c2b2",
   "metadata": {
    "ExecuteTime": {
     "end_time": "2023-11-03T08:38:10.299067Z",
     "start_time": "2023-11-03T08:38:10.284288Z"
    }
   },
   "outputs": [],
   "source": [
    "total2['Price'] = np.log1p(total2['Price'])"
   ]
  },
  {
   "cell_type": "code",
   "execution_count": 445,
   "id": "32765b3a",
   "metadata": {
    "ExecuteTime": {
     "end_time": "2023-11-03T08:38:10.329625Z",
     "start_time": "2023-11-03T08:38:10.300940Z"
    }
   },
   "outputs": [],
   "source": [
    "from sklearn.cluster import KMeans"
   ]
  },
  {
   "cell_type": "code",
   "execution_count": 446,
   "id": "6af85bc2",
   "metadata": {
    "ExecuteTime": {
     "end_time": "2023-11-03T08:38:10.516825Z",
     "start_time": "2023-11-03T08:38:10.331831Z"
    }
   },
   "outputs": [
    {
     "data": {
      "text/html": [
       "<style>#sk-container-id-9 {color: black;}#sk-container-id-9 pre{padding: 0;}#sk-container-id-9 div.sk-toggleable {background-color: white;}#sk-container-id-9 label.sk-toggleable__label {cursor: pointer;display: block;width: 100%;margin-bottom: 0;padding: 0.3em;box-sizing: border-box;text-align: center;}#sk-container-id-9 label.sk-toggleable__label-arrow:before {content: \"▸\";float: left;margin-right: 0.25em;color: #696969;}#sk-container-id-9 label.sk-toggleable__label-arrow:hover:before {color: black;}#sk-container-id-9 div.sk-estimator:hover label.sk-toggleable__label-arrow:before {color: black;}#sk-container-id-9 div.sk-toggleable__content {max-height: 0;max-width: 0;overflow: hidden;text-align: left;background-color: #f0f8ff;}#sk-container-id-9 div.sk-toggleable__content pre {margin: 0.2em;color: black;border-radius: 0.25em;background-color: #f0f8ff;}#sk-container-id-9 input.sk-toggleable__control:checked~div.sk-toggleable__content {max-height: 200px;max-width: 100%;overflow: auto;}#sk-container-id-9 input.sk-toggleable__control:checked~label.sk-toggleable__label-arrow:before {content: \"▾\";}#sk-container-id-9 div.sk-estimator input.sk-toggleable__control:checked~label.sk-toggleable__label {background-color: #d4ebff;}#sk-container-id-9 div.sk-label input.sk-toggleable__control:checked~label.sk-toggleable__label {background-color: #d4ebff;}#sk-container-id-9 input.sk-hidden--visually {border: 0;clip: rect(1px 1px 1px 1px);clip: rect(1px, 1px, 1px, 1px);height: 1px;margin: -1px;overflow: hidden;padding: 0;position: absolute;width: 1px;}#sk-container-id-9 div.sk-estimator {font-family: monospace;background-color: #f0f8ff;border: 1px dotted black;border-radius: 0.25em;box-sizing: border-box;margin-bottom: 0.5em;}#sk-container-id-9 div.sk-estimator:hover {background-color: #d4ebff;}#sk-container-id-9 div.sk-parallel-item::after {content: \"\";width: 100%;border-bottom: 1px solid gray;flex-grow: 1;}#sk-container-id-9 div.sk-label:hover label.sk-toggleable__label {background-color: #d4ebff;}#sk-container-id-9 div.sk-serial::before {content: \"\";position: absolute;border-left: 1px solid gray;box-sizing: border-box;top: 0;bottom: 0;left: 50%;z-index: 0;}#sk-container-id-9 div.sk-serial {display: flex;flex-direction: column;align-items: center;background-color: white;padding-right: 0.2em;padding-left: 0.2em;position: relative;}#sk-container-id-9 div.sk-item {position: relative;z-index: 1;}#sk-container-id-9 div.sk-parallel {display: flex;align-items: stretch;justify-content: center;background-color: white;position: relative;}#sk-container-id-9 div.sk-item::before, #sk-container-id-9 div.sk-parallel-item::before {content: \"\";position: absolute;border-left: 1px solid gray;box-sizing: border-box;top: 0;bottom: 0;left: 50%;z-index: -1;}#sk-container-id-9 div.sk-parallel-item {display: flex;flex-direction: column;z-index: 1;position: relative;background-color: white;}#sk-container-id-9 div.sk-parallel-item:first-child::after {align-self: flex-end;width: 50%;}#sk-container-id-9 div.sk-parallel-item:last-child::after {align-self: flex-start;width: 50%;}#sk-container-id-9 div.sk-parallel-item:only-child::after {width: 0;}#sk-container-id-9 div.sk-dashed-wrapped {border: 1px dashed gray;margin: 0 0.4em 0.5em 0.4em;box-sizing: border-box;padding-bottom: 0.4em;background-color: white;}#sk-container-id-9 div.sk-label label {font-family: monospace;font-weight: bold;display: inline-block;line-height: 1.2em;}#sk-container-id-9 div.sk-label-container {text-align: center;}#sk-container-id-9 div.sk-container {/* jupyter's `normalize.less` sets `[hidden] { display: none; }` but bootstrap.min.css set `[hidden] { display: none !important; }` so we also need the `!important` here to be able to override the default hidden behavior on the sphinx rendered scikit-learn.org. See: https://github.com/scikit-learn/scikit-learn/issues/21755 */display: inline-block !important;position: relative;}#sk-container-id-9 div.sk-text-repr-fallback {display: none;}</style><div id=\"sk-container-id-9\" class=\"sk-top-container\"><div class=\"sk-text-repr-fallback\"><pre>KMeans(n_clusters=4, random_state=0)</pre><b>In a Jupyter environment, please rerun this cell to show the HTML representation or trust the notebook. <br />On GitHub, the HTML representation is unable to render, please try loading this page with nbviewer.org.</b></div><div class=\"sk-container\" hidden><div class=\"sk-item\"><div class=\"sk-estimator sk-toggleable\"><input class=\"sk-toggleable__control sk-hidden--visually\" id=\"sk-estimator-id-9\" type=\"checkbox\" checked><label for=\"sk-estimator-id-9\" class=\"sk-toggleable__label sk-toggleable__label-arrow\">KMeans</label><div class=\"sk-toggleable__content\"><pre>KMeans(n_clusters=4, random_state=0)</pre></div></div></div></div></div>"
      ],
      "text/plain": [
       "KMeans(n_clusters=4, random_state=0)"
      ]
     },
     "execution_count": 446,
     "metadata": {},
     "output_type": "execute_result"
    }
   ],
   "source": [
    "model = KMeans(n_clusters = 4 , init = 'k-means++' , max_iter = 300 , random_state = 0)\n",
    "model.fit(total2)"
   ]
  },
  {
   "cell_type": "code",
   "execution_count": 447,
   "id": "5ecb08de",
   "metadata": {
    "ExecuteTime": {
     "end_time": "2023-11-03T08:38:10.532308Z",
     "start_time": "2023-11-03T08:38:10.518321Z"
    }
   },
   "outputs": [
    {
     "data": {
      "text/plain": [
       "array([3, 0, 1, ..., 3, 0, 3])"
      ]
     },
     "execution_count": 447,
     "metadata": {},
     "output_type": "execute_result"
    }
   ],
   "source": [
    "model.labels_"
   ]
  },
  {
   "cell_type": "code",
   "execution_count": 448,
   "id": "fbea1763",
   "metadata": {
    "ExecuteTime": {
     "end_time": "2023-11-03T08:38:10.547795Z",
     "start_time": "2023-11-03T08:38:10.534806Z"
    }
   },
   "outputs": [],
   "source": [
    "total2['grade'] = model.labels_"
   ]
  },
  {
   "cell_type": "code",
   "execution_count": 449,
   "id": "d1a4711a",
   "metadata": {
    "ExecuteTime": {
     "end_time": "2023-11-03T08:38:10.563300Z",
     "start_time": "2023-11-03T08:38:10.550291Z"
    }
   },
   "outputs": [],
   "source": [
    "total2['CustomerID'] = total['CustomerID']"
   ]
  },
  {
   "cell_type": "code",
   "execution_count": 450,
   "id": "dd6c83c0",
   "metadata": {
    "ExecuteTime": {
     "end_time": "2023-11-03T08:38:10.578791Z",
     "start_time": "2023-11-03T08:38:10.564798Z"
    }
   },
   "outputs": [
    {
     "data": {
      "text/html": [
       "<div>\n",
       "<style scoped>\n",
       "    .dataframe tbody tr th:only-of-type {\n",
       "        vertical-align: middle;\n",
       "    }\n",
       "\n",
       "    .dataframe tbody tr th {\n",
       "        vertical-align: top;\n",
       "    }\n",
       "\n",
       "    .dataframe thead th {\n",
       "        text-align: right;\n",
       "    }\n",
       "</style>\n",
       "<table border=\"1\" class=\"dataframe\">\n",
       "  <thead>\n",
       "    <tr style=\"text-align: right;\">\n",
       "      <th></th>\n",
       "      <th>count</th>\n",
       "      <th>Price</th>\n",
       "      <th>grade</th>\n",
       "      <th>CustomerID</th>\n",
       "    </tr>\n",
       "  </thead>\n",
       "  <tbody>\n",
       "    <tr>\n",
       "      <th>0</th>\n",
       "      <td>1</td>\n",
       "      <td>11.253955</td>\n",
       "      <td>3</td>\n",
       "      <td>12346.0</td>\n",
       "    </tr>\n",
       "    <tr>\n",
       "      <th>1</th>\n",
       "      <td>11</td>\n",
       "      <td>8.342128</td>\n",
       "      <td>0</td>\n",
       "      <td>12747.0</td>\n",
       "    </tr>\n",
       "    <tr>\n",
       "      <th>2</th>\n",
       "      <td>113</td>\n",
       "      <td>10.425868</td>\n",
       "      <td>1</td>\n",
       "      <td>12748.0</td>\n",
       "    </tr>\n",
       "    <tr>\n",
       "      <th>3</th>\n",
       "      <td>4</td>\n",
       "      <td>8.316760</td>\n",
       "      <td>3</td>\n",
       "      <td>12749.0</td>\n",
       "    </tr>\n",
       "    <tr>\n",
       "      <th>4</th>\n",
       "      <td>4</td>\n",
       "      <td>6.849427</td>\n",
       "      <td>3</td>\n",
       "      <td>12820.0</td>\n",
       "    </tr>\n",
       "    <tr>\n",
       "      <th>...</th>\n",
       "      <td>...</td>\n",
       "      <td>...</td>\n",
       "      <td>...</td>\n",
       "      <td>...</td>\n",
       "    </tr>\n",
       "    <tr>\n",
       "      <th>3915</th>\n",
       "      <td>1</td>\n",
       "      <td>5.201806</td>\n",
       "      <td>3</td>\n",
       "      <td>18280.0</td>\n",
       "    </tr>\n",
       "    <tr>\n",
       "      <th>3916</th>\n",
       "      <td>1</td>\n",
       "      <td>4.404522</td>\n",
       "      <td>3</td>\n",
       "      <td>18281.0</td>\n",
       "    </tr>\n",
       "    <tr>\n",
       "      <th>3917</th>\n",
       "      <td>2</td>\n",
       "      <td>5.187665</td>\n",
       "      <td>3</td>\n",
       "      <td>18282.0</td>\n",
       "    </tr>\n",
       "    <tr>\n",
       "      <th>3918</th>\n",
       "      <td>14</td>\n",
       "      <td>7.647729</td>\n",
       "      <td>0</td>\n",
       "      <td>18283.0</td>\n",
       "    </tr>\n",
       "    <tr>\n",
       "      <th>3919</th>\n",
       "      <td>3</td>\n",
       "      <td>7.516586</td>\n",
       "      <td>3</td>\n",
       "      <td>18287.0</td>\n",
       "    </tr>\n",
       "  </tbody>\n",
       "</table>\n",
       "<p>3920 rows × 4 columns</p>\n",
       "</div>"
      ],
      "text/plain": [
       "      count      Price  grade  CustomerID\n",
       "0         1  11.253955      3     12346.0\n",
       "1        11   8.342128      0     12747.0\n",
       "2       113  10.425868      1     12748.0\n",
       "3         4   8.316760      3     12749.0\n",
       "4         4   6.849427      3     12820.0\n",
       "...     ...        ...    ...         ...\n",
       "3915      1   5.201806      3     18280.0\n",
       "3916      1   4.404522      3     18281.0\n",
       "3917      2   5.187665      3     18282.0\n",
       "3918     14   7.647729      0     18283.0\n",
       "3919      3   7.516586      3     18287.0\n",
       "\n",
       "[3920 rows x 4 columns]"
      ]
     },
     "execution_count": 450,
     "metadata": {},
     "output_type": "execute_result"
    }
   ],
   "source": [
    "total2"
   ]
  },
  {
   "cell_type": "code",
   "execution_count": 451,
   "id": "736a0581",
   "metadata": {
    "ExecuteTime": {
     "end_time": "2023-11-03T08:38:10.594292Z",
     "start_time": "2023-11-03T08:38:10.580290Z"
    }
   },
   "outputs": [],
   "source": [
    "total2['Price'] = np.exp(total2['Price']-1)"
   ]
  },
  {
   "cell_type": "code",
   "execution_count": 452,
   "id": "cf91a48f",
   "metadata": {
    "ExecuteTime": {
     "end_time": "2023-11-03T08:38:10.609749Z",
     "start_time": "2023-11-03T08:38:10.595926Z"
    }
   },
   "outputs": [
    {
     "data": {
      "text/html": [
       "<div>\n",
       "<style scoped>\n",
       "    .dataframe tbody tr th:only-of-type {\n",
       "        vertical-align: middle;\n",
       "    }\n",
       "\n",
       "    .dataframe tbody tr th {\n",
       "        vertical-align: top;\n",
       "    }\n",
       "\n",
       "    .dataframe thead th {\n",
       "        text-align: right;\n",
       "    }\n",
       "</style>\n",
       "<table border=\"1\" class=\"dataframe\">\n",
       "  <thead>\n",
       "    <tr style=\"text-align: right;\">\n",
       "      <th></th>\n",
       "      <th>count</th>\n",
       "      <th>Price</th>\n",
       "      <th>grade</th>\n",
       "      <th>CustomerID</th>\n",
       "    </tr>\n",
       "  </thead>\n",
       "  <tbody>\n",
       "    <tr>\n",
       "      <th>3737</th>\n",
       "      <td>6</td>\n",
       "      <td>26.126798</td>\n",
       "      <td>0</td>\n",
       "      <td>18037.0</td>\n",
       "    </tr>\n",
       "    <tr>\n",
       "      <th>2754</th>\n",
       "      <td>6</td>\n",
       "      <td>113.203862</td>\n",
       "      <td>0</td>\n",
       "      <td>16668.0</td>\n",
       "    </tr>\n",
       "    <tr>\n",
       "      <th>1615</th>\n",
       "      <td>6</td>\n",
       "      <td>117.905361</td>\n",
       "      <td>0</td>\n",
       "      <td>15107.0</td>\n",
       "    </tr>\n",
       "    <tr>\n",
       "      <th>2639</th>\n",
       "      <td>5</td>\n",
       "      <td>147.836032</td>\n",
       "      <td>0</td>\n",
       "      <td>16500.0</td>\n",
       "    </tr>\n",
       "    <tr>\n",
       "      <th>2228</th>\n",
       "      <td>5</td>\n",
       "      <td>149.204544</td>\n",
       "      <td>0</td>\n",
       "      <td>15938.0</td>\n",
       "    </tr>\n",
       "    <tr>\n",
       "      <th>...</th>\n",
       "      <td>...</td>\n",
       "      <td>...</td>\n",
       "      <td>...</td>\n",
       "      <td>...</td>\n",
       "    </tr>\n",
       "    <tr>\n",
       "      <th>1268</th>\n",
       "      <td>7</td>\n",
       "      <td>6095.946280</td>\n",
       "      <td>0</td>\n",
       "      <td>14607.0</td>\n",
       "    </tr>\n",
       "    <tr>\n",
       "      <th>2511</th>\n",
       "      <td>13</td>\n",
       "      <td>9795.820184</td>\n",
       "      <td>0</td>\n",
       "      <td>16333.0</td>\n",
       "    </tr>\n",
       "    <tr>\n",
       "      <th>187</th>\n",
       "      <td>9</td>\n",
       "      <td>10425.107398</td>\n",
       "      <td>0</td>\n",
       "      <td>13081.0</td>\n",
       "    </tr>\n",
       "    <tr>\n",
       "      <th>82</th>\n",
       "      <td>12</td>\n",
       "      <td>15471.890942</td>\n",
       "      <td>0</td>\n",
       "      <td>12931.0</td>\n",
       "    </tr>\n",
       "    <tr>\n",
       "      <th>897</th>\n",
       "      <td>12</td>\n",
       "      <td>18575.266726</td>\n",
       "      <td>0</td>\n",
       "      <td>14088.0</td>\n",
       "    </tr>\n",
       "  </tbody>\n",
       "</table>\n",
       "<p>784 rows × 4 columns</p>\n",
       "</div>"
      ],
      "text/plain": [
       "      count         Price  grade  CustomerID\n",
       "3737      6     26.126798      0     18037.0\n",
       "2754      6    113.203862      0     16668.0\n",
       "1615      6    117.905361      0     15107.0\n",
       "2639      5    147.836032      0     16500.0\n",
       "2228      5    149.204544      0     15938.0\n",
       "...     ...           ...    ...         ...\n",
       "1268      7   6095.946280      0     14607.0\n",
       "2511     13   9795.820184      0     16333.0\n",
       "187       9  10425.107398      0     13081.0\n",
       "82       12  15471.890942      0     12931.0\n",
       "897      12  18575.266726      0     14088.0\n",
       "\n",
       "[784 rows x 4 columns]"
      ]
     },
     "execution_count": 452,
     "metadata": {},
     "output_type": "execute_result"
    }
   ],
   "source": [
    "total2[total2['grade'] == 0].sort_values(by = 'Price')"
   ]
  },
  {
   "cell_type": "code",
   "execution_count": 453,
   "id": "56df5fb8",
   "metadata": {
    "ExecuteTime": {
     "end_time": "2023-11-03T08:38:10.625404Z",
     "start_time": "2023-11-03T08:38:10.611253Z"
    }
   },
   "outputs": [
    {
     "data": {
      "text/html": [
       "<div>\n",
       "<style scoped>\n",
       "    .dataframe tbody tr th:only-of-type {\n",
       "        vertical-align: middle;\n",
       "    }\n",
       "\n",
       "    .dataframe tbody tr th {\n",
       "        vertical-align: top;\n",
       "    }\n",
       "\n",
       "    .dataframe thead th {\n",
       "        text-align: right;\n",
       "    }\n",
       "</style>\n",
       "<table border=\"1\" class=\"dataframe\">\n",
       "  <thead>\n",
       "    <tr style=\"text-align: right;\">\n",
       "      <th></th>\n",
       "      <th>count</th>\n",
       "      <th>Price</th>\n",
       "      <th>grade</th>\n",
       "      <th>CustomerID</th>\n",
       "    </tr>\n",
       "  </thead>\n",
       "  <tbody>\n",
       "    <tr>\n",
       "      <th>110</th>\n",
       "      <td>71</td>\n",
       "      <td>4116.905717</td>\n",
       "      <td>1</td>\n",
       "      <td>12971.0</td>\n",
       "    </tr>\n",
       "    <tr>\n",
       "      <th>1267</th>\n",
       "      <td>89</td>\n",
       "      <td>4472.549488</td>\n",
       "      <td>1</td>\n",
       "      <td>14606.0</td>\n",
       "    </tr>\n",
       "    <tr>\n",
       "      <th>2</th>\n",
       "      <td>113</td>\n",
       "      <td>12405.163308</td>\n",
       "      <td>1</td>\n",
       "      <td>12748.0</td>\n",
       "    </tr>\n",
       "    <tr>\n",
       "      <th>3593</th>\n",
       "      <td>112</td>\n",
       "      <td>15080.323744</td>\n",
       "      <td>1</td>\n",
       "      <td>17841.0</td>\n",
       "    </tr>\n",
       "    <tr>\n",
       "      <th>191</th>\n",
       "      <td>66</td>\n",
       "      <td>21641.181346</td>\n",
       "      <td>1</td>\n",
       "      <td>13089.0</td>\n",
       "    </tr>\n",
       "    <tr>\n",
       "      <th>1771</th>\n",
       "      <td>90</td>\n",
       "      <td>22355.628973</td>\n",
       "      <td>1</td>\n",
       "      <td>15311.0</td>\n",
       "    </tr>\n",
       "  </tbody>\n",
       "</table>\n",
       "</div>"
      ],
      "text/plain": [
       "      count         Price  grade  CustomerID\n",
       "110      71   4116.905717      1     12971.0\n",
       "1267     89   4472.549488      1     14606.0\n",
       "2       113  12405.163308      1     12748.0\n",
       "3593    112  15080.323744      1     17841.0\n",
       "191      66  21641.181346      1     13089.0\n",
       "1771     90  22355.628973      1     15311.0"
      ]
     },
     "execution_count": 453,
     "metadata": {},
     "output_type": "execute_result"
    }
   ],
   "source": [
    "total2[total2['grade'] == 1].sort_values(by = 'Price')"
   ]
  },
  {
   "cell_type": "code",
   "execution_count": 454,
   "id": "05d20e2b",
   "metadata": {
    "ExecuteTime": {
     "end_time": "2023-11-03T08:38:10.641171Z",
     "start_time": "2023-11-03T08:38:10.628180Z"
    }
   },
   "outputs": [
    {
     "data": {
      "text/html": [
       "<div>\n",
       "<style scoped>\n",
       "    .dataframe tbody tr th:only-of-type {\n",
       "        vertical-align: middle;\n",
       "    }\n",
       "\n",
       "    .dataframe tbody tr th {\n",
       "        vertical-align: top;\n",
       "    }\n",
       "\n",
       "    .dataframe thead th {\n",
       "        text-align: right;\n",
       "    }\n",
       "</style>\n",
       "<table border=\"1\" class=\"dataframe\">\n",
       "  <thead>\n",
       "    <tr style=\"text-align: right;\">\n",
       "      <th></th>\n",
       "      <th>count</th>\n",
       "      <th>Price</th>\n",
       "      <th>grade</th>\n",
       "      <th>CustomerID</th>\n",
       "    </tr>\n",
       "  </thead>\n",
       "  <tbody>\n",
       "    <tr>\n",
       "      <th>3684</th>\n",
       "      <td>35</td>\n",
       "      <td>477.301502</td>\n",
       "      <td>2</td>\n",
       "      <td>17961.0</td>\n",
       "    </tr>\n",
       "    <tr>\n",
       "      <th>987</th>\n",
       "      <td>16</td>\n",
       "      <td>737.958801</td>\n",
       "      <td>2</td>\n",
       "      <td>14217.0</td>\n",
       "    </tr>\n",
       "    <tr>\n",
       "      <th>3889</th>\n",
       "      <td>17</td>\n",
       "      <td>763.015070</td>\n",
       "      <td>2</td>\n",
       "      <td>18241.0</td>\n",
       "    </tr>\n",
       "    <tr>\n",
       "      <th>1237</th>\n",
       "      <td>20</td>\n",
       "      <td>823.597457</td>\n",
       "      <td>2</td>\n",
       "      <td>14560.0</td>\n",
       "    </tr>\n",
       "    <tr>\n",
       "      <th>1744</th>\n",
       "      <td>15</td>\n",
       "      <td>922.667390</td>\n",
       "      <td>2</td>\n",
       "      <td>15271.0</td>\n",
       "    </tr>\n",
       "    <tr>\n",
       "      <th>...</th>\n",
       "      <td>...</td>\n",
       "      <td>...</td>\n",
       "      <td>...</td>\n",
       "      <td>...</td>\n",
       "    </tr>\n",
       "    <tr>\n",
       "      <th>2766</th>\n",
       "      <td>16</td>\n",
       "      <td>24520.842284</td>\n",
       "      <td>2</td>\n",
       "      <td>16684.0</td>\n",
       "    </tr>\n",
       "    <tr>\n",
       "      <th>2294</th>\n",
       "      <td>39</td>\n",
       "      <td>29807.740740</td>\n",
       "      <td>2</td>\n",
       "      <td>16029.0</td>\n",
       "    </tr>\n",
       "    <tr>\n",
       "      <th>3356</th>\n",
       "      <td>28</td>\n",
       "      <td>33500.345346</td>\n",
       "      <td>2</td>\n",
       "      <td>17511.0</td>\n",
       "    </tr>\n",
       "    <tr>\n",
       "      <th>3314</th>\n",
       "      <td>27</td>\n",
       "      <td>71571.603784</td>\n",
       "      <td>2</td>\n",
       "      <td>17450.0</td>\n",
       "    </tr>\n",
       "    <tr>\n",
       "      <th>3783</th>\n",
       "      <td>26</td>\n",
       "      <td>95522.950300</td>\n",
       "      <td>2</td>\n",
       "      <td>18102.0</td>\n",
       "    </tr>\n",
       "  </tbody>\n",
       "</table>\n",
       "<p>135 rows × 4 columns</p>\n",
       "</div>"
      ],
      "text/plain": [
       "      count         Price  grade  CustomerID\n",
       "3684     35    477.301502      2     17961.0\n",
       "987      16    737.958801      2     14217.0\n",
       "3889     17    763.015070      2     18241.0\n",
       "1237     20    823.597457      2     14560.0\n",
       "1744     15    922.667390      2     15271.0\n",
       "...     ...           ...    ...         ...\n",
       "2766     16  24520.842284      2     16684.0\n",
       "2294     39  29807.740740      2     16029.0\n",
       "3356     28  33500.345346      2     17511.0\n",
       "3314     27  71571.603784      2     17450.0\n",
       "3783     26  95522.950300      2     18102.0\n",
       "\n",
       "[135 rows x 4 columns]"
      ]
     },
     "execution_count": 454,
     "metadata": {},
     "output_type": "execute_result"
    }
   ],
   "source": [
    "total2[total2['grade'] == 2].sort_values(by = 'Price')"
   ]
  },
  {
   "cell_type": "code",
   "execution_count": null,
   "id": "8fe9b0cb",
   "metadata": {},
   "outputs": [],
   "source": []
  },
  {
   "cell_type": "markdown",
   "id": "15f92388",
   "metadata": {
    "ExecuteTime": {
     "end_time": "2023-11-03T08:35:09.369409Z",
     "start_time": "2023-11-03T08:35:09.355066Z"
    }
   },
   "source": [
    "mapping = {0: '일반고객', 1: '우수고객', 2: '최우수고객'}\n",
    "total2['grade'] = total2['grade'].map(mapping)"
   ]
  },
  {
   "cell_type": "code",
   "execution_count": 470,
   "id": "a2866318",
   "metadata": {
    "ExecuteTime": {
     "end_time": "2023-11-03T08:39:14.827962Z",
     "start_time": "2023-11-03T08:39:14.812056Z"
    }
   },
   "outputs": [
    {
     "data": {
      "text/html": [
       "<div>\n",
       "<style scoped>\n",
       "    .dataframe tbody tr th:only-of-type {\n",
       "        vertical-align: middle;\n",
       "    }\n",
       "\n",
       "    .dataframe tbody tr th {\n",
       "        vertical-align: top;\n",
       "    }\n",
       "\n",
       "    .dataframe thead th {\n",
       "        text-align: right;\n",
       "    }\n",
       "</style>\n",
       "<table border=\"1\" class=\"dataframe\">\n",
       "  <thead>\n",
       "    <tr style=\"text-align: right;\">\n",
       "      <th></th>\n",
       "      <th>grade</th>\n",
       "      <th>CustomerID</th>\n",
       "      <th>count</th>\n",
       "      <th>Price</th>\n",
       "      <th>실루엣계수</th>\n",
       "    </tr>\n",
       "  </thead>\n",
       "  <tbody>\n",
       "    <tr>\n",
       "      <th>3737</th>\n",
       "      <td>0</td>\n",
       "      <td>18037.0</td>\n",
       "      <td>6</td>\n",
       "      <td>26.126798</td>\n",
       "      <td>-0.761721</td>\n",
       "    </tr>\n",
       "    <tr>\n",
       "      <th>2754</th>\n",
       "      <td>0</td>\n",
       "      <td>16668.0</td>\n",
       "      <td>6</td>\n",
       "      <td>113.203862</td>\n",
       "      <td>-0.795422</td>\n",
       "    </tr>\n",
       "    <tr>\n",
       "      <th>1615</th>\n",
       "      <td>0</td>\n",
       "      <td>15107.0</td>\n",
       "      <td>6</td>\n",
       "      <td>117.905361</td>\n",
       "      <td>-0.795837</td>\n",
       "    </tr>\n",
       "    <tr>\n",
       "      <th>2639</th>\n",
       "      <td>0</td>\n",
       "      <td>16500.0</td>\n",
       "      <td>5</td>\n",
       "      <td>147.836032</td>\n",
       "      <td>-0.794779</td>\n",
       "    </tr>\n",
       "    <tr>\n",
       "      <th>2228</th>\n",
       "      <td>0</td>\n",
       "      <td>15938.0</td>\n",
       "      <td>5</td>\n",
       "      <td>149.204544</td>\n",
       "      <td>-0.794588</td>\n",
       "    </tr>\n",
       "    <tr>\n",
       "      <th>...</th>\n",
       "      <td>...</td>\n",
       "      <td>...</td>\n",
       "      <td>...</td>\n",
       "      <td>...</td>\n",
       "      <td>...</td>\n",
       "    </tr>\n",
       "    <tr>\n",
       "      <th>1268</th>\n",
       "      <td>0</td>\n",
       "      <td>14607.0</td>\n",
       "      <td>7</td>\n",
       "      <td>6095.946280</td>\n",
       "      <td>0.071851</td>\n",
       "    </tr>\n",
       "    <tr>\n",
       "      <th>2511</th>\n",
       "      <td>0</td>\n",
       "      <td>16333.0</td>\n",
       "      <td>13</td>\n",
       "      <td>9795.820184</td>\n",
       "      <td>-0.171154</td>\n",
       "    </tr>\n",
       "    <tr>\n",
       "      <th>187</th>\n",
       "      <td>0</td>\n",
       "      <td>13081.0</td>\n",
       "      <td>9</td>\n",
       "      <td>10425.107398</td>\n",
       "      <td>-0.249137</td>\n",
       "    </tr>\n",
       "    <tr>\n",
       "      <th>82</th>\n",
       "      <td>0</td>\n",
       "      <td>12931.0</td>\n",
       "      <td>12</td>\n",
       "      <td>15471.890942</td>\n",
       "      <td>-0.548756</td>\n",
       "    </tr>\n",
       "    <tr>\n",
       "      <th>897</th>\n",
       "      <td>0</td>\n",
       "      <td>14088.0</td>\n",
       "      <td>12</td>\n",
       "      <td>18575.266726</td>\n",
       "      <td>-0.569720</td>\n",
       "    </tr>\n",
       "  </tbody>\n",
       "</table>\n",
       "<p>784 rows × 5 columns</p>\n",
       "</div>"
      ],
      "text/plain": [
       "      grade  CustomerID  count         Price     실루엣계수\n",
       "3737      0     18037.0      6     26.126798 -0.761721\n",
       "2754      0     16668.0      6    113.203862 -0.795422\n",
       "1615      0     15107.0      6    117.905361 -0.795837\n",
       "2639      0     16500.0      5    147.836032 -0.794779\n",
       "2228      0     15938.0      5    149.204544 -0.794588\n",
       "...     ...         ...    ...           ...       ...\n",
       "1268      0     14607.0      7   6095.946280  0.071851\n",
       "2511      0     16333.0     13   9795.820184 -0.171154\n",
       "187       0     13081.0      9  10425.107398 -0.249137\n",
       "82        0     12931.0     12  15471.890942 -0.548756\n",
       "897       0     14088.0     12  18575.266726 -0.569720\n",
       "\n",
       "[784 rows x 5 columns]"
      ]
     },
     "execution_count": 470,
     "metadata": {},
     "output_type": "execute_result"
    }
   ],
   "source": [
    "total2[total2['grade'] == 0].sort_values(by = 'Price')"
   ]
  },
  {
   "cell_type": "code",
   "execution_count": 471,
   "id": "5e00be9a",
   "metadata": {
    "ExecuteTime": {
     "end_time": "2023-11-03T08:39:14.997086Z",
     "start_time": "2023-11-03T08:39:14.970995Z"
    },
    "scrolled": false
   },
   "outputs": [
    {
     "data": {
      "text/html": [
       "<div>\n",
       "<style scoped>\n",
       "    .dataframe tbody tr th:only-of-type {\n",
       "        vertical-align: middle;\n",
       "    }\n",
       "\n",
       "    .dataframe tbody tr th {\n",
       "        vertical-align: top;\n",
       "    }\n",
       "\n",
       "    .dataframe thead th {\n",
       "        text-align: right;\n",
       "    }\n",
       "</style>\n",
       "<table border=\"1\" class=\"dataframe\">\n",
       "  <thead>\n",
       "    <tr style=\"text-align: right;\">\n",
       "      <th></th>\n",
       "      <th>grade</th>\n",
       "      <th>CustomerID</th>\n",
       "      <th>count</th>\n",
       "      <th>Price</th>\n",
       "      <th>실루엣계수</th>\n",
       "    </tr>\n",
       "  </thead>\n",
       "  <tbody>\n",
       "    <tr>\n",
       "      <th>110</th>\n",
       "      <td>1</td>\n",
       "      <td>12971.0</td>\n",
       "      <td>71</td>\n",
       "      <td>4116.905717</td>\n",
       "      <td>-0.720909</td>\n",
       "    </tr>\n",
       "    <tr>\n",
       "      <th>1267</th>\n",
       "      <td>1</td>\n",
       "      <td>14606.0</td>\n",
       "      <td>89</td>\n",
       "      <td>4472.549488</td>\n",
       "      <td>-0.681387</td>\n",
       "    </tr>\n",
       "    <tr>\n",
       "      <th>2</th>\n",
       "      <td>1</td>\n",
       "      <td>12748.0</td>\n",
       "      <td>113</td>\n",
       "      <td>12405.163308</td>\n",
       "      <td>0.225730</td>\n",
       "    </tr>\n",
       "    <tr>\n",
       "      <th>3593</th>\n",
       "      <td>1</td>\n",
       "      <td>17841.0</td>\n",
       "      <td>112</td>\n",
       "      <td>15080.323744</td>\n",
       "      <td>0.367027</td>\n",
       "    </tr>\n",
       "    <tr>\n",
       "      <th>191</th>\n",
       "      <td>1</td>\n",
       "      <td>13089.0</td>\n",
       "      <td>66</td>\n",
       "      <td>21641.181346</td>\n",
       "      <td>0.418234</td>\n",
       "    </tr>\n",
       "    <tr>\n",
       "      <th>1771</th>\n",
       "      <td>1</td>\n",
       "      <td>15311.0</td>\n",
       "      <td>90</td>\n",
       "      <td>22355.628973</td>\n",
       "      <td>0.407330</td>\n",
       "    </tr>\n",
       "  </tbody>\n",
       "</table>\n",
       "</div>"
      ],
      "text/plain": [
       "      grade  CustomerID  count         Price     실루엣계수\n",
       "110       1     12971.0     71   4116.905717 -0.720909\n",
       "1267      1     14606.0     89   4472.549488 -0.681387\n",
       "2         1     12748.0    113  12405.163308  0.225730\n",
       "3593      1     17841.0    112  15080.323744  0.367027\n",
       "191       1     13089.0     66  21641.181346  0.418234\n",
       "1771      1     15311.0     90  22355.628973  0.407330"
      ]
     },
     "execution_count": 471,
     "metadata": {},
     "output_type": "execute_result"
    }
   ],
   "source": [
    "total2[total2['grade'] == 1].sort_values(by = 'Price')"
   ]
  },
  {
   "cell_type": "code",
   "execution_count": 474,
   "id": "8707e1b5",
   "metadata": {
    "ExecuteTime": {
     "end_time": "2023-11-03T08:39:23.589768Z",
     "start_time": "2023-11-03T08:39:23.566662Z"
    }
   },
   "outputs": [
    {
     "data": {
      "text/html": [
       "<div>\n",
       "<style scoped>\n",
       "    .dataframe tbody tr th:only-of-type {\n",
       "        vertical-align: middle;\n",
       "    }\n",
       "\n",
       "    .dataframe tbody tr th {\n",
       "        vertical-align: top;\n",
       "    }\n",
       "\n",
       "    .dataframe thead th {\n",
       "        text-align: right;\n",
       "    }\n",
       "</style>\n",
       "<table border=\"1\" class=\"dataframe\">\n",
       "  <thead>\n",
       "    <tr style=\"text-align: right;\">\n",
       "      <th></th>\n",
       "      <th>grade</th>\n",
       "      <th>CustomerID</th>\n",
       "      <th>count</th>\n",
       "      <th>Price</th>\n",
       "      <th>실루엣계수</th>\n",
       "    </tr>\n",
       "  </thead>\n",
       "  <tbody>\n",
       "    <tr>\n",
       "      <th>3684</th>\n",
       "      <td>2</td>\n",
       "      <td>17961.0</td>\n",
       "      <td>35</td>\n",
       "      <td>477.301502</td>\n",
       "      <td>-0.939488</td>\n",
       "    </tr>\n",
       "    <tr>\n",
       "      <th>987</th>\n",
       "      <td>2</td>\n",
       "      <td>14217.0</td>\n",
       "      <td>16</td>\n",
       "      <td>737.958801</td>\n",
       "      <td>-0.898140</td>\n",
       "    </tr>\n",
       "    <tr>\n",
       "      <th>3889</th>\n",
       "      <td>2</td>\n",
       "      <td>18241.0</td>\n",
       "      <td>17</td>\n",
       "      <td>763.015070</td>\n",
       "      <td>-0.895183</td>\n",
       "    </tr>\n",
       "    <tr>\n",
       "      <th>1237</th>\n",
       "      <td>2</td>\n",
       "      <td>14560.0</td>\n",
       "      <td>20</td>\n",
       "      <td>823.597457</td>\n",
       "      <td>-0.894986</td>\n",
       "    </tr>\n",
       "    <tr>\n",
       "      <th>1744</th>\n",
       "      <td>2</td>\n",
       "      <td>15271.0</td>\n",
       "      <td>15</td>\n",
       "      <td>922.667390</td>\n",
       "      <td>-0.892696</td>\n",
       "    </tr>\n",
       "    <tr>\n",
       "      <th>...</th>\n",
       "      <td>...</td>\n",
       "      <td>...</td>\n",
       "      <td>...</td>\n",
       "      <td>...</td>\n",
       "      <td>...</td>\n",
       "    </tr>\n",
       "    <tr>\n",
       "      <th>2766</th>\n",
       "      <td>2</td>\n",
       "      <td>16684.0</td>\n",
       "      <td>16</td>\n",
       "      <td>24520.842284</td>\n",
       "      <td>-0.450861</td>\n",
       "    </tr>\n",
       "    <tr>\n",
       "      <th>2294</th>\n",
       "      <td>2</td>\n",
       "      <td>16029.0</td>\n",
       "      <td>39</td>\n",
       "      <td>29807.740740</td>\n",
       "      <td>-0.350912</td>\n",
       "    </tr>\n",
       "    <tr>\n",
       "      <th>3356</th>\n",
       "      <td>2</td>\n",
       "      <td>17511.0</td>\n",
       "      <td>28</td>\n",
       "      <td>33500.345346</td>\n",
       "      <td>-0.303009</td>\n",
       "    </tr>\n",
       "    <tr>\n",
       "      <th>3314</th>\n",
       "      <td>2</td>\n",
       "      <td>17450.0</td>\n",
       "      <td>27</td>\n",
       "      <td>71571.603784</td>\n",
       "      <td>-0.119601</td>\n",
       "    </tr>\n",
       "    <tr>\n",
       "      <th>3783</th>\n",
       "      <td>2</td>\n",
       "      <td>18102.0</td>\n",
       "      <td>26</td>\n",
       "      <td>95522.950300</td>\n",
       "      <td>-0.085990</td>\n",
       "    </tr>\n",
       "  </tbody>\n",
       "</table>\n",
       "<p>135 rows × 5 columns</p>\n",
       "</div>"
      ],
      "text/plain": [
       "      grade  CustomerID  count         Price     실루엣계수\n",
       "3684      2     17961.0     35    477.301502 -0.939488\n",
       "987       2     14217.0     16    737.958801 -0.898140\n",
       "3889      2     18241.0     17    763.015070 -0.895183\n",
       "1237      2     14560.0     20    823.597457 -0.894986\n",
       "1744      2     15271.0     15    922.667390 -0.892696\n",
       "...     ...         ...    ...           ...       ...\n",
       "2766      2     16684.0     16  24520.842284 -0.450861\n",
       "2294      2     16029.0     39  29807.740740 -0.350912\n",
       "3356      2     17511.0     28  33500.345346 -0.303009\n",
       "3314      2     17450.0     27  71571.603784 -0.119601\n",
       "3783      2     18102.0     26  95522.950300 -0.085990\n",
       "\n",
       "[135 rows x 5 columns]"
      ]
     },
     "execution_count": 474,
     "metadata": {},
     "output_type": "execute_result"
    }
   ],
   "source": [
    "total2[total2['grade'] == 2].sort_values(by = 'Price')"
   ]
  },
  {
   "cell_type": "code",
   "execution_count": 473,
   "id": "a6947951",
   "metadata": {
    "ExecuteTime": {
     "end_time": "2023-11-03T08:39:21.972764Z",
     "start_time": "2023-11-03T08:39:21.951924Z"
    }
   },
   "outputs": [
    {
     "data": {
      "text/html": [
       "<div>\n",
       "<style scoped>\n",
       "    .dataframe tbody tr th:only-of-type {\n",
       "        vertical-align: middle;\n",
       "    }\n",
       "\n",
       "    .dataframe tbody tr th {\n",
       "        vertical-align: top;\n",
       "    }\n",
       "\n",
       "    .dataframe thead th {\n",
       "        text-align: right;\n",
       "    }\n",
       "</style>\n",
       "<table border=\"1\" class=\"dataframe\">\n",
       "  <thead>\n",
       "    <tr style=\"text-align: right;\">\n",
       "      <th></th>\n",
       "      <th>grade</th>\n",
       "      <th>CustomerID</th>\n",
       "      <th>count</th>\n",
       "      <th>Price</th>\n",
       "      <th>실루엣계수</th>\n",
       "    </tr>\n",
       "  </thead>\n",
       "  <tbody>\n",
       "    <tr>\n",
       "      <th>2807</th>\n",
       "      <td>3</td>\n",
       "      <td>16738.0</td>\n",
       "      <td>1</td>\n",
       "      <td>1.747427</td>\n",
       "      <td>0.745570</td>\n",
       "    </tr>\n",
       "    <tr>\n",
       "      <th>1398</th>\n",
       "      <td>3</td>\n",
       "      <td>14792.0</td>\n",
       "      <td>1</td>\n",
       "      <td>2.648732</td>\n",
       "      <td>0.746162</td>\n",
       "    </tr>\n",
       "    <tr>\n",
       "      <th>2604</th>\n",
       "      <td>3</td>\n",
       "      <td>16454.0</td>\n",
       "      <td>2</td>\n",
       "      <td>2.906248</td>\n",
       "      <td>0.746328</td>\n",
       "    </tr>\n",
       "    <tr>\n",
       "      <th>3680</th>\n",
       "      <td>3</td>\n",
       "      <td>17956.0</td>\n",
       "      <td>1</td>\n",
       "      <td>5.058342</td>\n",
       "      <td>0.747746</td>\n",
       "    </tr>\n",
       "    <tr>\n",
       "      <th>2913</th>\n",
       "      <td>3</td>\n",
       "      <td>16878.0</td>\n",
       "      <td>1</td>\n",
       "      <td>5.260676</td>\n",
       "      <td>0.747880</td>\n",
       "    </tr>\n",
       "    <tr>\n",
       "      <th>...</th>\n",
       "      <td>...</td>\n",
       "      <td>...</td>\n",
       "      <td>...</td>\n",
       "      <td>...</td>\n",
       "      <td>...</td>\n",
       "    </tr>\n",
       "    <tr>\n",
       "      <th>2270</th>\n",
       "      <td>3</td>\n",
       "      <td>16000.0</td>\n",
       "      <td>1</td>\n",
       "      <td>4559.755309</td>\n",
       "      <td>-0.188434</td>\n",
       "    </tr>\n",
       "    <tr>\n",
       "      <th>1607</th>\n",
       "      <td>3</td>\n",
       "      <td>15098.0</td>\n",
       "      <td>1</td>\n",
       "      <td>14684.827593</td>\n",
       "      <td>-0.560254</td>\n",
       "    </tr>\n",
       "    <tr>\n",
       "      <th>2094</th>\n",
       "      <td>3</td>\n",
       "      <td>15749.0</td>\n",
       "      <td>2</td>\n",
       "      <td>16383.621276</td>\n",
       "      <td>-0.579670</td>\n",
       "    </tr>\n",
       "    <tr>\n",
       "      <th>0</th>\n",
       "      <td>3</td>\n",
       "      <td>12346.0</td>\n",
       "      <td>1</td>\n",
       "      <td>28394.627515</td>\n",
       "      <td>-0.465106</td>\n",
       "    </tr>\n",
       "    <tr>\n",
       "      <th>2598</th>\n",
       "      <td>3</td>\n",
       "      <td>16446.0</td>\n",
       "      <td>2</td>\n",
       "      <td>61977.937032</td>\n",
       "      <td>-0.211888</td>\n",
       "    </tr>\n",
       "  </tbody>\n",
       "</table>\n",
       "<p>2995 rows × 5 columns</p>\n",
       "</div>"
      ],
      "text/plain": [
       "      grade  CustomerID  count         Price     실루엣계수\n",
       "2807      3     16738.0      1      1.747427  0.745570\n",
       "1398      3     14792.0      1      2.648732  0.746162\n",
       "2604      3     16454.0      2      2.906248  0.746328\n",
       "3680      3     17956.0      1      5.058342  0.747746\n",
       "2913      3     16878.0      1      5.260676  0.747880\n",
       "...     ...         ...    ...           ...       ...\n",
       "2270      3     16000.0      1   4559.755309 -0.188434\n",
       "1607      3     15098.0      1  14684.827593 -0.560254\n",
       "2094      3     15749.0      2  16383.621276 -0.579670\n",
       "0         3     12346.0      1  28394.627515 -0.465106\n",
       "2598      3     16446.0      2  61977.937032 -0.211888\n",
       "\n",
       "[2995 rows x 5 columns]"
      ]
     },
     "execution_count": 473,
     "metadata": {},
     "output_type": "execute_result"
    }
   ],
   "source": [
    "total2[total2['grade'] == 3].sort_values(by = 'Price')"
   ]
  },
  {
   "cell_type": "code",
   "execution_count": 458,
   "id": "944ee714",
   "metadata": {
    "ExecuteTime": {
     "end_time": "2023-11-03T08:38:10.719896Z",
     "start_time": "2023-11-03T08:38:10.705763Z"
    }
   },
   "outputs": [
    {
     "data": {
      "text/plain": [
       "Index(['count', 'Price', 'grade', 'CustomerID'], dtype='object')"
      ]
     },
     "execution_count": 458,
     "metadata": {},
     "output_type": "execute_result"
    }
   ],
   "source": [
    "total2.columns"
   ]
  },
  {
   "cell_type": "code",
   "execution_count": 459,
   "id": "7db45929",
   "metadata": {
    "ExecuteTime": {
     "end_time": "2023-11-03T08:38:10.735382Z",
     "start_time": "2023-11-03T08:38:10.721406Z"
    }
   },
   "outputs": [],
   "source": [
    "total2 = total2[['grade','CustomerID','count','Price']]"
   ]
  },
  {
   "cell_type": "code",
   "execution_count": 460,
   "id": "45bcd3c9",
   "metadata": {
    "ExecuteTime": {
     "end_time": "2023-11-03T08:38:10.750551Z",
     "start_time": "2023-11-03T08:38:10.737639Z"
    }
   },
   "outputs": [
    {
     "data": {
      "text/html": [
       "<div>\n",
       "<style scoped>\n",
       "    .dataframe tbody tr th:only-of-type {\n",
       "        vertical-align: middle;\n",
       "    }\n",
       "\n",
       "    .dataframe tbody tr th {\n",
       "        vertical-align: top;\n",
       "    }\n",
       "\n",
       "    .dataframe thead th {\n",
       "        text-align: right;\n",
       "    }\n",
       "</style>\n",
       "<table border=\"1\" class=\"dataframe\">\n",
       "  <thead>\n",
       "    <tr style=\"text-align: right;\">\n",
       "      <th></th>\n",
       "      <th>grade</th>\n",
       "      <th>CustomerID</th>\n",
       "      <th>count</th>\n",
       "      <th>Price</th>\n",
       "    </tr>\n",
       "  </thead>\n",
       "  <tbody>\n",
       "    <tr>\n",
       "      <th>0</th>\n",
       "      <td>3</td>\n",
       "      <td>12346.0</td>\n",
       "      <td>1</td>\n",
       "      <td>28394.627515</td>\n",
       "    </tr>\n",
       "    <tr>\n",
       "      <th>1</th>\n",
       "      <td>0</td>\n",
       "      <td>12747.0</td>\n",
       "      <td>11</td>\n",
       "      <td>1543.993693</td>\n",
       "    </tr>\n",
       "    <tr>\n",
       "      <th>2</th>\n",
       "      <td>1</td>\n",
       "      <td>12748.0</td>\n",
       "      <td>113</td>\n",
       "      <td>12405.163308</td>\n",
       "    </tr>\n",
       "    <tr>\n",
       "      <th>3</th>\n",
       "      <td>3</td>\n",
       "      <td>12749.0</td>\n",
       "      <td>4</td>\n",
       "      <td>1505.318528</td>\n",
       "    </tr>\n",
       "    <tr>\n",
       "      <th>4</th>\n",
       "      <td>3</td>\n",
       "      <td>12820.0</td>\n",
       "      <td>4</td>\n",
       "      <td>347.035392</td>\n",
       "    </tr>\n",
       "    <tr>\n",
       "      <th>...</th>\n",
       "      <td>...</td>\n",
       "      <td>...</td>\n",
       "      <td>...</td>\n",
       "      <td>...</td>\n",
       "    </tr>\n",
       "    <tr>\n",
       "      <th>3915</th>\n",
       "      <td>3</td>\n",
       "      <td>18280.0</td>\n",
       "      <td>1</td>\n",
       "      <td>66.806907</td>\n",
       "    </tr>\n",
       "    <tr>\n",
       "      <th>3916</th>\n",
       "      <td>3</td>\n",
       "      <td>18281.0</td>\n",
       "      <td>1</td>\n",
       "      <td>30.099896</td>\n",
       "    </tr>\n",
       "    <tr>\n",
       "      <th>3917</th>\n",
       "      <td>3</td>\n",
       "      <td>18282.0</td>\n",
       "      <td>2</td>\n",
       "      <td>65.868814</td>\n",
       "    </tr>\n",
       "    <tr>\n",
       "      <th>3918</th>\n",
       "      <td>0</td>\n",
       "      <td>18283.0</td>\n",
       "      <td>14</td>\n",
       "      <td>771.031163</td>\n",
       "    </tr>\n",
       "    <tr>\n",
       "      <th>3919</th>\n",
       "      <td>3</td>\n",
       "      <td>18287.0</td>\n",
       "      <td>3</td>\n",
       "      <td>676.265419</td>\n",
       "    </tr>\n",
       "  </tbody>\n",
       "</table>\n",
       "<p>3920 rows × 4 columns</p>\n",
       "</div>"
      ],
      "text/plain": [
       "      grade  CustomerID  count         Price\n",
       "0         3     12346.0      1  28394.627515\n",
       "1         0     12747.0     11   1543.993693\n",
       "2         1     12748.0    113  12405.163308\n",
       "3         3     12749.0      4   1505.318528\n",
       "4         3     12820.0      4    347.035392\n",
       "...     ...         ...    ...           ...\n",
       "3915      3     18280.0      1     66.806907\n",
       "3916      3     18281.0      1     30.099896\n",
       "3917      3     18282.0      2     65.868814\n",
       "3918      0     18283.0     14    771.031163\n",
       "3919      3     18287.0      3    676.265419\n",
       "\n",
       "[3920 rows x 4 columns]"
      ]
     },
     "execution_count": 460,
     "metadata": {},
     "output_type": "execute_result"
    }
   ],
   "source": [
    "total2"
   ]
  },
  {
   "cell_type": "code",
   "execution_count": null,
   "id": "6546ba58",
   "metadata": {
    "ExecuteTime": {
     "end_time": "2023-11-03T06:31:23.580998Z",
     "start_time": "2023-11-03T06:31:23.560338Z"
    }
   },
   "outputs": [],
   "source": []
  },
  {
   "cell_type": "code",
   "execution_count": 461,
   "id": "500e69e9",
   "metadata": {
    "ExecuteTime": {
     "end_time": "2023-11-03T08:38:10.765315Z",
     "start_time": "2023-11-03T08:38:10.752537Z"
    }
   },
   "outputs": [],
   "source": [
    "from sklearn.metrics import silhouette_samples , silhouette_score"
   ]
  },
  {
   "cell_type": "code",
   "execution_count": 462,
   "id": "cc4ff794",
   "metadata": {
    "ExecuteTime": {
     "end_time": "2023-11-03T08:38:11.014493Z",
     "start_time": "2023-11-03T08:38:10.766716Z"
    }
   },
   "outputs": [],
   "source": [
    "score_samples = silhouette_samples(total2[['Price','count']] , total2['grade'])"
   ]
  },
  {
   "cell_type": "code",
   "execution_count": 463,
   "id": "d1743f08",
   "metadata": {
    "ExecuteTime": {
     "end_time": "2023-11-03T08:38:11.030373Z",
     "start_time": "2023-11-03T08:38:11.016539Z"
    }
   },
   "outputs": [],
   "source": [
    "total2['실루엣계수'] = score_samples"
   ]
  },
  {
   "cell_type": "code",
   "execution_count": 464,
   "id": "21317694",
   "metadata": {
    "ExecuteTime": {
     "end_time": "2023-11-03T08:38:11.046005Z",
     "start_time": "2023-11-03T08:38:11.033722Z"
    }
   },
   "outputs": [
    {
     "data": {
      "text/plain": [
       "0.49247495886261694"
      ]
     },
     "execution_count": 464,
     "metadata": {},
     "output_type": "execute_result"
    }
   ],
   "source": [
    "total2['실루엣계수'].mean()"
   ]
  },
  {
   "cell_type": "code",
   "execution_count": 465,
   "id": "3435ee60",
   "metadata": {
    "ExecuteTime": {
     "end_time": "2023-11-03T08:38:11.061845Z",
     "start_time": "2023-11-03T08:38:11.048010Z"
    }
   },
   "outputs": [
    {
     "data": {
      "text/plain": [
       "-0.015924309500076703"
      ]
     },
     "execution_count": 465,
     "metadata": {},
     "output_type": "execute_result"
    }
   ],
   "source": [
    "total2.loc[total2['grade'] == 0 , '실루엣계수'].mean()"
   ]
  },
  {
   "cell_type": "code",
   "execution_count": 466,
   "id": "4f6e37c1",
   "metadata": {
    "ExecuteTime": {
     "end_time": "2023-11-03T08:38:11.077046Z",
     "start_time": "2023-11-03T08:38:11.063860Z"
    }
   },
   "outputs": [
    {
     "data": {
      "text/plain": [
       "0.0026709390335624603"
      ]
     },
     "execution_count": 466,
     "metadata": {},
     "output_type": "execute_result"
    }
   ],
   "source": [
    "total2.loc[total2['grade'] == 1 , '실루엣계수'].mean()"
   ]
  },
  {
   "cell_type": "code",
   "execution_count": 467,
   "id": "97089d75",
   "metadata": {
    "ExecuteTime": {
     "end_time": "2023-11-03T08:38:11.093151Z",
     "start_time": "2023-11-03T08:38:11.079418Z"
    }
   },
   "outputs": [
    {
     "data": {
      "text/plain": [
       "-0.5223268404267045"
      ]
     },
     "execution_count": 467,
     "metadata": {},
     "output_type": "execute_result"
    }
   ],
   "source": [
    "total2.loc[total2['grade'] == 2 , '실루엣계수'].mean()"
   ]
  },
  {
   "cell_type": "code",
   "execution_count": 468,
   "id": "a227dfd1",
   "metadata": {
    "ExecuteTime": {
     "end_time": "2023-11-03T08:38:11.108448Z",
     "start_time": "2023-11-03T08:38:11.095579Z"
    }
   },
   "outputs": [
    {
     "data": {
      "text/plain": [
       "0.6722820017405416"
      ]
     },
     "execution_count": 468,
     "metadata": {},
     "output_type": "execute_result"
    }
   ],
   "source": [
    "total2.loc[total2['grade'] == 3 , '실루엣계수'].mean()"
   ]
  },
  {
   "cell_type": "code",
   "execution_count": null,
   "id": "c5dd18a7",
   "metadata": {},
   "outputs": [],
   "source": []
  }
 ],
 "metadata": {
  "kernelspec": {
   "display_name": "Python 3 (ipykernel)",
   "language": "python",
   "name": "python3"
  },
  "language_info": {
   "codemirror_mode": {
    "name": "ipython",
    "version": 3
   },
   "file_extension": ".py",
   "mimetype": "text/x-python",
   "name": "python",
   "nbconvert_exporter": "python",
   "pygments_lexer": "ipython3",
   "version": "3.8.17"
  },
  "toc": {
   "base_numbering": 1,
   "nav_menu": {},
   "number_sections": true,
   "sideBar": true,
   "skip_h1_title": false,
   "title_cell": "Table of Contents",
   "title_sidebar": "Contents",
   "toc_cell": false,
   "toc_position": {},
   "toc_section_display": true,
   "toc_window_display": false
  }
 },
 "nbformat": 4,
 "nbformat_minor": 5
}
