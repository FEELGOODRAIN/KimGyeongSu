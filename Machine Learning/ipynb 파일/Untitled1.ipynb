{
 "cells": [
  {
   "cell_type": "code",
   "execution_count": 14,
   "id": "cdbed0e6",
   "metadata": {
    "ExecuteTime": {
     "end_time": "2023-11-10T08:06:20.381003Z",
     "start_time": "2023-11-10T08:06:20.372497Z"
    }
   },
   "outputs": [],
   "source": [
    "def solution(numbers, k):\n",
    "    answer = []\n",
    "    for _ in range(100):\n",
    "        for i in numbers:\n",
    "            answer.append(i)\n",
    "    i = 1\n",
    "    result = []\n",
    "    while i<=k:\n",
    "        result.append(answer[2*i-1])\n",
    "        i+=1\n",
    "        \n",
    "    return result[-1]"
   ]
  },
  {
   "cell_type": "code",
   "execution_count": 15,
   "id": "99873c33",
   "metadata": {
    "ExecuteTime": {
     "end_time": "2023-11-10T08:06:20.552584Z",
     "start_time": "2023-11-10T08:06:20.541216Z"
    }
   },
   "outputs": [
    {
     "data": {
      "text/plain": [
       "[1, 2, 3, 4]"
      ]
     },
     "execution_count": 15,
     "metadata": {},
     "output_type": "execute_result"
    }
   ],
   "source": [
    "solution([1,2,3,4] , 2)"
   ]
  },
  {
   "cell_type": "code",
   "execution_count": 16,
   "id": "eeeae31d",
   "metadata": {
    "ExecuteTime": {
     "end_time": "2023-11-10T08:06:22.967249Z",
     "start_time": "2023-11-10T08:06:22.952030Z"
    }
   },
   "outputs": [],
   "source": [
    "numbers = [1,2,3,4]\n",
    "k = 2"
   ]
  },
  {
   "cell_type": "code",
   "execution_count": 20,
   "id": "107854a2",
   "metadata": {
    "ExecuteTime": {
     "end_time": "2023-11-10T08:06:40.463018Z",
     "start_time": "2023-11-10T08:06:40.444142Z"
    }
   },
   "outputs": [],
   "source": [
    "answer = []\n",
    "for _ in range(100):\n",
    "        for i in numbers:\n",
    "            answer.append(i)"
   ]
  },
  {
   "cell_type": "code",
   "execution_count": 23,
   "id": "067ffecf",
   "metadata": {
    "ExecuteTime": {
     "end_time": "2023-11-10T08:07:23.589757Z",
     "start_time": "2023-11-10T08:07:23.581719Z"
    }
   },
   "outputs": [
    {
     "data": {
      "text/plain": [
       "[2]"
      ]
     },
     "execution_count": 23,
     "metadata": {},
     "output_type": "execute_result"
    }
   ],
   "source": [
    "i = 1\n",
    "result = []\n",
    "result.append(answer[i])\n",
    "result"
   ]
  },
  {
   "cell_type": "code",
   "execution_count": 24,
   "id": "b03f8e9b",
   "metadata": {
    "ExecuteTime": {
     "end_time": "2023-11-10T08:09:12.896003Z",
     "start_time": "2023-11-10T08:09:12.887175Z"
    }
   },
   "outputs": [],
   "source": [
    "def solution(numbers, k):\n",
    "    return numbers[2 * (k - 1) % len(numbers)]"
   ]
  },
  {
   "cell_type": "code",
   "execution_count": null,
   "id": "2a87f023",
   "metadata": {},
   "outputs": [],
   "source": [
    "solution([1,2,3,4] , 2)"
   ]
  }
 ],
 "metadata": {
  "kernelspec": {
   "display_name": "Python 3 (ipykernel)",
   "language": "python",
   "name": "python3"
  },
  "language_info": {
   "codemirror_mode": {
    "name": "ipython",
    "version": 3
   },
   "file_extension": ".py",
   "mimetype": "text/x-python",
   "name": "python",
   "nbconvert_exporter": "python",
   "pygments_lexer": "ipython3",
   "version": "3.8.17"
  },
  "toc": {
   "base_numbering": 1,
   "nav_menu": {},
   "number_sections": true,
   "sideBar": true,
   "skip_h1_title": false,
   "title_cell": "Table of Contents",
   "title_sidebar": "Contents",
   "toc_cell": false,
   "toc_position": {},
   "toc_section_display": true,
   "toc_window_display": false
  }
 },
 "nbformat": 4,
 "nbformat_minor": 5
}
