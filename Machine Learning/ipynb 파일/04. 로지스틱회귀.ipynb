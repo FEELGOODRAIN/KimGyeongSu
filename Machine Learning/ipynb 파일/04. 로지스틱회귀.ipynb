{
 "cells": [
  {
   "cell_type": "code",
   "execution_count": 167,
   "id": "4f474581",
   "metadata": {
    "ExecuteTime": {
     "end_time": "2023-10-25T02:57:23.545098Z",
     "start_time": "2023-10-25T02:57:23.529193Z"
    }
   },
   "outputs": [],
   "source": [
    "import numpy as np\n",
    "import pandas as pd\n",
    "import matplotlib as mpl\n",
    "import matplotlib.pyplot as plt\n",
    "import mglearn\n",
    "%matplotlib inline\n",
    "import seaborn as sns\n",
    "import platform\n",
    "from matplotlib import font_manager , rc\n",
    "\n",
    "if platform.system() == 'Darwin':\n",
    "  rc('font' , family = 'AppleGothic')\n",
    "elif platform.system() == 'Windows':\n",
    "  path = 'C:/Windows/Fonts/malgun.ttf'\n",
    "  font_name = font_manager.FontProperties(fname = path).get_name()\n",
    "  rc('font' , family = font_name)\n",
    "else:\n",
    "  print('모름')\n",
    "plt.rcParams['axes.unicode_minus'] = False\n",
    "import warnings\n",
    "warnings.filterwarnings('ignore')"
   ]
  },
  {
   "cell_type": "code",
   "execution_count": 168,
   "id": "85c3f3df",
   "metadata": {
    "ExecuteTime": {
     "end_time": "2023-10-25T02:57:23.562984Z",
     "start_time": "2023-10-25T02:57:23.546982Z"
    }
   },
   "outputs": [],
   "source": [
    "fish = pd.read_csv('fish.csv')"
   ]
  },
  {
   "cell_type": "code",
   "execution_count": 169,
   "id": "4f7e2014",
   "metadata": {
    "ExecuteTime": {
     "end_time": "2023-10-25T02:57:23.578686Z",
     "start_time": "2023-10-25T02:57:23.564648Z"
    }
   },
   "outputs": [
    {
     "data": {
      "text/html": [
       "<div>\n",
       "<style scoped>\n",
       "    .dataframe tbody tr th:only-of-type {\n",
       "        vertical-align: middle;\n",
       "    }\n",
       "\n",
       "    .dataframe tbody tr th {\n",
       "        vertical-align: top;\n",
       "    }\n",
       "\n",
       "    .dataframe thead th {\n",
       "        text-align: right;\n",
       "    }\n",
       "</style>\n",
       "<table border=\"1\" class=\"dataframe\">\n",
       "  <thead>\n",
       "    <tr style=\"text-align: right;\">\n",
       "      <th></th>\n",
       "      <th>Species</th>\n",
       "      <th>Weight</th>\n",
       "      <th>Length</th>\n",
       "      <th>Diagonal</th>\n",
       "      <th>Height</th>\n",
       "      <th>Width</th>\n",
       "    </tr>\n",
       "  </thead>\n",
       "  <tbody>\n",
       "    <tr>\n",
       "      <th>0</th>\n",
       "      <td>Bream</td>\n",
       "      <td>242.0</td>\n",
       "      <td>25.4</td>\n",
       "      <td>30.0</td>\n",
       "      <td>11.5200</td>\n",
       "      <td>4.0200</td>\n",
       "    </tr>\n",
       "    <tr>\n",
       "      <th>1</th>\n",
       "      <td>Bream</td>\n",
       "      <td>290.0</td>\n",
       "      <td>26.3</td>\n",
       "      <td>31.2</td>\n",
       "      <td>12.4800</td>\n",
       "      <td>4.3056</td>\n",
       "    </tr>\n",
       "    <tr>\n",
       "      <th>2</th>\n",
       "      <td>Bream</td>\n",
       "      <td>340.0</td>\n",
       "      <td>26.5</td>\n",
       "      <td>31.1</td>\n",
       "      <td>12.3778</td>\n",
       "      <td>4.6961</td>\n",
       "    </tr>\n",
       "    <tr>\n",
       "      <th>3</th>\n",
       "      <td>Bream</td>\n",
       "      <td>363.0</td>\n",
       "      <td>29.0</td>\n",
       "      <td>33.5</td>\n",
       "      <td>12.7300</td>\n",
       "      <td>4.4555</td>\n",
       "    </tr>\n",
       "    <tr>\n",
       "      <th>4</th>\n",
       "      <td>Bream</td>\n",
       "      <td>430.0</td>\n",
       "      <td>29.0</td>\n",
       "      <td>34.0</td>\n",
       "      <td>12.4440</td>\n",
       "      <td>5.1340</td>\n",
       "    </tr>\n",
       "    <tr>\n",
       "      <th>...</th>\n",
       "      <td>...</td>\n",
       "      <td>...</td>\n",
       "      <td>...</td>\n",
       "      <td>...</td>\n",
       "      <td>...</td>\n",
       "      <td>...</td>\n",
       "    </tr>\n",
       "    <tr>\n",
       "      <th>154</th>\n",
       "      <td>Smelt</td>\n",
       "      <td>12.2</td>\n",
       "      <td>12.2</td>\n",
       "      <td>13.4</td>\n",
       "      <td>2.0904</td>\n",
       "      <td>1.3936</td>\n",
       "    </tr>\n",
       "    <tr>\n",
       "      <th>155</th>\n",
       "      <td>Smelt</td>\n",
       "      <td>13.4</td>\n",
       "      <td>12.4</td>\n",
       "      <td>13.5</td>\n",
       "      <td>2.4300</td>\n",
       "      <td>1.2690</td>\n",
       "    </tr>\n",
       "    <tr>\n",
       "      <th>156</th>\n",
       "      <td>Smelt</td>\n",
       "      <td>12.2</td>\n",
       "      <td>13.0</td>\n",
       "      <td>13.8</td>\n",
       "      <td>2.2770</td>\n",
       "      <td>1.2558</td>\n",
       "    </tr>\n",
       "    <tr>\n",
       "      <th>157</th>\n",
       "      <td>Smelt</td>\n",
       "      <td>19.7</td>\n",
       "      <td>14.3</td>\n",
       "      <td>15.2</td>\n",
       "      <td>2.8728</td>\n",
       "      <td>2.0672</td>\n",
       "    </tr>\n",
       "    <tr>\n",
       "      <th>158</th>\n",
       "      <td>Smelt</td>\n",
       "      <td>19.9</td>\n",
       "      <td>15.0</td>\n",
       "      <td>16.2</td>\n",
       "      <td>2.9322</td>\n",
       "      <td>1.8792</td>\n",
       "    </tr>\n",
       "  </tbody>\n",
       "</table>\n",
       "<p>159 rows × 6 columns</p>\n",
       "</div>"
      ],
      "text/plain": [
       "    Species  Weight  Length  Diagonal   Height   Width\n",
       "0     Bream   242.0    25.4      30.0  11.5200  4.0200\n",
       "1     Bream   290.0    26.3      31.2  12.4800  4.3056\n",
       "2     Bream   340.0    26.5      31.1  12.3778  4.6961\n",
       "3     Bream   363.0    29.0      33.5  12.7300  4.4555\n",
       "4     Bream   430.0    29.0      34.0  12.4440  5.1340\n",
       "..      ...     ...     ...       ...      ...     ...\n",
       "154   Smelt    12.2    12.2      13.4   2.0904  1.3936\n",
       "155   Smelt    13.4    12.4      13.5   2.4300  1.2690\n",
       "156   Smelt    12.2    13.0      13.8   2.2770  1.2558\n",
       "157   Smelt    19.7    14.3      15.2   2.8728  2.0672\n",
       "158   Smelt    19.9    15.0      16.2   2.9322  1.8792\n",
       "\n",
       "[159 rows x 6 columns]"
      ]
     },
     "execution_count": 169,
     "metadata": {},
     "output_type": "execute_result"
    }
   ],
   "source": [
    "fish"
   ]
  },
  {
   "cell_type": "code",
   "execution_count": 170,
   "id": "0ea539ea",
   "metadata": {
    "ExecuteTime": {
     "end_time": "2023-10-25T02:57:23.596376Z",
     "start_time": "2023-10-25T02:57:23.581344Z"
    }
   },
   "outputs": [
    {
     "data": {
      "text/plain": [
       "array(['Bream', 'Roach', 'Whitefish', 'Parkki', 'Perch', 'Pike', 'Smelt'],\n",
       "      dtype=object)"
      ]
     },
     "execution_count": 170,
     "metadata": {},
     "output_type": "execute_result"
    }
   ],
   "source": [
    "fish.Species.unique()"
   ]
  },
  {
   "cell_type": "code",
   "execution_count": 171,
   "id": "6099ae4b",
   "metadata": {
    "ExecuteTime": {
     "end_time": "2023-10-25T02:57:23.611980Z",
     "start_time": "2023-10-25T02:57:23.597951Z"
    }
   },
   "outputs": [],
   "source": [
    "from sklearn.model_selection import train_test_split"
   ]
  },
  {
   "cell_type": "code",
   "execution_count": 172,
   "id": "4efcdcfd",
   "metadata": {
    "ExecuteTime": {
     "end_time": "2023-10-25T02:57:23.627659Z",
     "start_time": "2023-10-25T02:57:23.613648Z"
    }
   },
   "outputs": [],
   "source": [
    "fish_input = fish.iloc[:,1:].to_numpy()"
   ]
  },
  {
   "cell_type": "code",
   "execution_count": 173,
   "id": "41342148",
   "metadata": {
    "ExecuteTime": {
     "end_time": "2023-10-25T02:57:23.637229Z",
     "start_time": "2023-10-25T02:57:23.628649Z"
    }
   },
   "outputs": [],
   "source": [
    "fish_target = fish.Species.to_numpy()"
   ]
  },
  {
   "cell_type": "code",
   "execution_count": 174,
   "id": "199f1678",
   "metadata": {
    "ExecuteTime": {
     "end_time": "2023-10-25T02:57:23.643042Z",
     "start_time": "2023-10-25T02:57:23.638900Z"
    }
   },
   "outputs": [],
   "source": [
    "train_input , test_input , train_target , test_target = train_test_split(fish_input, fish_target , random_state = 42)"
   ]
  },
  {
   "cell_type": "code",
   "execution_count": 175,
   "id": "58d9a040",
   "metadata": {
    "ExecuteTime": {
     "end_time": "2023-10-25T02:57:23.649159Z",
     "start_time": "2023-10-25T02:57:23.643722Z"
    }
   },
   "outputs": [],
   "source": [
    "from sklearn.preprocessing import StandardScaler\n",
    "ss = StandardScaler()"
   ]
  },
  {
   "cell_type": "code",
   "execution_count": 176,
   "id": "cfc293a0",
   "metadata": {
    "ExecuteTime": {
     "end_time": "2023-10-25T02:57:23.664575Z",
     "start_time": "2023-10-25T02:57:23.649159Z"
    }
   },
   "outputs": [
    {
     "data": {
      "text/html": [
       "<style>#sk-container-id-25 {color: black;}#sk-container-id-25 pre{padding: 0;}#sk-container-id-25 div.sk-toggleable {background-color: white;}#sk-container-id-25 label.sk-toggleable__label {cursor: pointer;display: block;width: 100%;margin-bottom: 0;padding: 0.3em;box-sizing: border-box;text-align: center;}#sk-container-id-25 label.sk-toggleable__label-arrow:before {content: \"▸\";float: left;margin-right: 0.25em;color: #696969;}#sk-container-id-25 label.sk-toggleable__label-arrow:hover:before {color: black;}#sk-container-id-25 div.sk-estimator:hover label.sk-toggleable__label-arrow:before {color: black;}#sk-container-id-25 div.sk-toggleable__content {max-height: 0;max-width: 0;overflow: hidden;text-align: left;background-color: #f0f8ff;}#sk-container-id-25 div.sk-toggleable__content pre {margin: 0.2em;color: black;border-radius: 0.25em;background-color: #f0f8ff;}#sk-container-id-25 input.sk-toggleable__control:checked~div.sk-toggleable__content {max-height: 200px;max-width: 100%;overflow: auto;}#sk-container-id-25 input.sk-toggleable__control:checked~label.sk-toggleable__label-arrow:before {content: \"▾\";}#sk-container-id-25 div.sk-estimator input.sk-toggleable__control:checked~label.sk-toggleable__label {background-color: #d4ebff;}#sk-container-id-25 div.sk-label input.sk-toggleable__control:checked~label.sk-toggleable__label {background-color: #d4ebff;}#sk-container-id-25 input.sk-hidden--visually {border: 0;clip: rect(1px 1px 1px 1px);clip: rect(1px, 1px, 1px, 1px);height: 1px;margin: -1px;overflow: hidden;padding: 0;position: absolute;width: 1px;}#sk-container-id-25 div.sk-estimator {font-family: monospace;background-color: #f0f8ff;border: 1px dotted black;border-radius: 0.25em;box-sizing: border-box;margin-bottom: 0.5em;}#sk-container-id-25 div.sk-estimator:hover {background-color: #d4ebff;}#sk-container-id-25 div.sk-parallel-item::after {content: \"\";width: 100%;border-bottom: 1px solid gray;flex-grow: 1;}#sk-container-id-25 div.sk-label:hover label.sk-toggleable__label {background-color: #d4ebff;}#sk-container-id-25 div.sk-serial::before {content: \"\";position: absolute;border-left: 1px solid gray;box-sizing: border-box;top: 0;bottom: 0;left: 50%;z-index: 0;}#sk-container-id-25 div.sk-serial {display: flex;flex-direction: column;align-items: center;background-color: white;padding-right: 0.2em;padding-left: 0.2em;position: relative;}#sk-container-id-25 div.sk-item {position: relative;z-index: 1;}#sk-container-id-25 div.sk-parallel {display: flex;align-items: stretch;justify-content: center;background-color: white;position: relative;}#sk-container-id-25 div.sk-item::before, #sk-container-id-25 div.sk-parallel-item::before {content: \"\";position: absolute;border-left: 1px solid gray;box-sizing: border-box;top: 0;bottom: 0;left: 50%;z-index: -1;}#sk-container-id-25 div.sk-parallel-item {display: flex;flex-direction: column;z-index: 1;position: relative;background-color: white;}#sk-container-id-25 div.sk-parallel-item:first-child::after {align-self: flex-end;width: 50%;}#sk-container-id-25 div.sk-parallel-item:last-child::after {align-self: flex-start;width: 50%;}#sk-container-id-25 div.sk-parallel-item:only-child::after {width: 0;}#sk-container-id-25 div.sk-dashed-wrapped {border: 1px dashed gray;margin: 0 0.4em 0.5em 0.4em;box-sizing: border-box;padding-bottom: 0.4em;background-color: white;}#sk-container-id-25 div.sk-label label {font-family: monospace;font-weight: bold;display: inline-block;line-height: 1.2em;}#sk-container-id-25 div.sk-label-container {text-align: center;}#sk-container-id-25 div.sk-container {/* jupyter's `normalize.less` sets `[hidden] { display: none; }` but bootstrap.min.css set `[hidden] { display: none !important; }` so we also need the `!important` here to be able to override the default hidden behavior on the sphinx rendered scikit-learn.org. See: https://github.com/scikit-learn/scikit-learn/issues/21755 */display: inline-block !important;position: relative;}#sk-container-id-25 div.sk-text-repr-fallback {display: none;}</style><div id=\"sk-container-id-25\" class=\"sk-top-container\"><div class=\"sk-text-repr-fallback\"><pre>StandardScaler()</pre><b>In a Jupyter environment, please rerun this cell to show the HTML representation or trust the notebook. <br />On GitHub, the HTML representation is unable to render, please try loading this page with nbviewer.org.</b></div><div class=\"sk-container\" hidden><div class=\"sk-item\"><div class=\"sk-estimator sk-toggleable\"><input class=\"sk-toggleable__control sk-hidden--visually\" id=\"sk-estimator-id-25\" type=\"checkbox\" checked><label for=\"sk-estimator-id-25\" class=\"sk-toggleable__label sk-toggleable__label-arrow\">StandardScaler</label><div class=\"sk-toggleable__content\"><pre>StandardScaler()</pre></div></div></div></div></div>"
      ],
      "text/plain": [
       "StandardScaler()"
      ]
     },
     "execution_count": 176,
     "metadata": {},
     "output_type": "execute_result"
    }
   ],
   "source": [
    "ss.fit(train_input)"
   ]
  },
  {
   "cell_type": "code",
   "execution_count": 177,
   "id": "2a941d63",
   "metadata": {
    "ExecuteTime": {
     "end_time": "2023-10-25T02:57:23.680468Z",
     "start_time": "2023-10-25T02:57:23.665565Z"
    }
   },
   "outputs": [],
   "source": [
    "train_scaled = ss.transform(train_input)\n",
    "test_scaled = ss.transform(test_input)"
   ]
  },
  {
   "cell_type": "code",
   "execution_count": 178,
   "id": "d21f059b",
   "metadata": {
    "ExecuteTime": {
     "end_time": "2023-10-25T02:57:23.693126Z",
     "start_time": "2023-10-25T02:57:23.681806Z"
    }
   },
   "outputs": [],
   "source": [
    "from sklearn.neighbors import KNeighborsClassifier\n",
    "kn = KNeighborsClassifier(n_neighbors = 3)"
   ]
  },
  {
   "cell_type": "code",
   "execution_count": 179,
   "id": "6ce3a683",
   "metadata": {
    "ExecuteTime": {
     "end_time": "2023-10-25T02:57:23.713940Z",
     "start_time": "2023-10-25T02:57:23.693126Z"
    }
   },
   "outputs": [
    {
     "name": "stdout",
     "output_type": "stream",
     "text": [
      "0.8907563025210085\n",
      "0.85\n"
     ]
    }
   ],
   "source": [
    "kn.fit(train_scaled , train_target)\n",
    "print(kn.score(train_scaled , train_target))\n",
    "print(kn.score(test_scaled , test_target))"
   ]
  },
  {
   "cell_type": "code",
   "execution_count": 180,
   "id": "d31261b0",
   "metadata": {
    "ExecuteTime": {
     "end_time": "2023-10-25T02:57:23.729975Z",
     "start_time": "2023-10-25T02:57:23.714308Z"
    }
   },
   "outputs": [
    {
     "data": {
      "text/plain": [
       "array(['Perch', 'Smelt', 'Pike', 'Perch', 'Perch'], dtype=object)"
      ]
     },
     "execution_count": 180,
     "metadata": {},
     "output_type": "execute_result"
    }
   ],
   "source": [
    "kn.predict(test_scaled[:5])"
   ]
  },
  {
   "cell_type": "code",
   "execution_count": 181,
   "id": "8f4f0437",
   "metadata": {
    "ExecuteTime": {
     "end_time": "2023-10-25T02:57:23.746234Z",
     "start_time": "2023-10-25T02:57:23.730598Z"
    }
   },
   "outputs": [],
   "source": [
    "proba = kn.predict_proba(test_scaled[:5])"
   ]
  },
  {
   "cell_type": "code",
   "execution_count": 182,
   "id": "38a7f3cc",
   "metadata": {
    "ExecuteTime": {
     "end_time": "2023-10-25T02:57:23.763071Z",
     "start_time": "2023-10-25T02:57:23.747300Z"
    }
   },
   "outputs": [
    {
     "data": {
      "text/plain": [
       "array([[0.        , 0.        , 1.        , 0.        , 0.        ,\n",
       "        0.        , 0.        ],\n",
       "       [0.        , 0.        , 0.        , 0.        , 0.        ,\n",
       "        1.        , 0.        ],\n",
       "       [0.        , 0.        , 0.        , 1.        , 0.        ,\n",
       "        0.        , 0.        ],\n",
       "       [0.        , 0.        , 0.66666667, 0.        , 0.33333333,\n",
       "        0.        , 0.        ],\n",
       "       [0.        , 0.        , 0.66666667, 0.        , 0.33333333,\n",
       "        0.        , 0.        ]])"
      ]
     },
     "execution_count": 182,
     "metadata": {},
     "output_type": "execute_result"
    }
   ],
   "source": [
    "proba"
   ]
  },
  {
   "cell_type": "code",
   "execution_count": 183,
   "id": "28d6b660",
   "metadata": {
    "ExecuteTime": {
     "end_time": "2023-10-25T02:57:23.779679Z",
     "start_time": "2023-10-25T02:57:23.764055Z"
    }
   },
   "outputs": [
    {
     "data": {
      "text/plain": [
       "array([[0.    , 0.    , 1.    , 0.    , 0.    , 0.    , 0.    ],\n",
       "       [0.    , 0.    , 0.    , 0.    , 0.    , 1.    , 0.    ],\n",
       "       [0.    , 0.    , 0.    , 1.    , 0.    , 0.    , 0.    ],\n",
       "       [0.    , 0.    , 0.6667, 0.    , 0.3333, 0.    , 0.    ],\n",
       "       [0.    , 0.    , 0.6667, 0.    , 0.3333, 0.    , 0.    ]])"
      ]
     },
     "execution_count": 183,
     "metadata": {},
     "output_type": "execute_result"
    }
   ],
   "source": [
    "np.round(proba , 4)"
   ]
  },
  {
   "cell_type": "code",
   "execution_count": 184,
   "id": "cb3afdec",
   "metadata": {
    "ExecuteTime": {
     "end_time": "2023-10-25T02:57:23.795570Z",
     "start_time": "2023-10-25T02:57:23.781496Z"
    }
   },
   "outputs": [],
   "source": [
    "distance , index = kn.kneighbors(test_scaled[3:4])"
   ]
  },
  {
   "cell_type": "code",
   "execution_count": 185,
   "id": "fe1fb1d4",
   "metadata": {
    "ExecuteTime": {
     "end_time": "2023-10-25T02:57:23.811127Z",
     "start_time": "2023-10-25T02:57:23.798073Z"
    }
   },
   "outputs": [
    {
     "data": {
      "text/plain": [
       "array([['Roach', 'Perch', 'Perch']], dtype=object)"
      ]
     },
     "execution_count": 185,
     "metadata": {},
     "output_type": "execute_result"
    }
   ],
   "source": [
    "train_target[index]"
   ]
  },
  {
   "cell_type": "code",
   "execution_count": 186,
   "id": "30c000c6",
   "metadata": {
    "ExecuteTime": {
     "end_time": "2023-10-25T02:57:23.826906Z",
     "start_time": "2023-10-25T02:57:23.813250Z"
    }
   },
   "outputs": [
    {
     "data": {
      "text/plain": [
       "array(['A', 'C'], dtype='<U1')"
      ]
     },
     "execution_count": 186,
     "metadata": {},
     "output_type": "execute_result"
    }
   ],
   "source": [
    "arr = np.array(['A','B','C','D','E'])\n",
    "boolean = [True , False , True , False , False]\n",
    "arr[boolean]"
   ]
  },
  {
   "cell_type": "code",
   "execution_count": 187,
   "id": "1f1e4077",
   "metadata": {
    "ExecuteTime": {
     "end_time": "2023-10-25T02:57:23.843961Z",
     "start_time": "2023-10-25T02:57:23.828907Z"
    }
   },
   "outputs": [
    {
     "data": {
      "text/html": [
       "<div>\n",
       "<style scoped>\n",
       "    .dataframe tbody tr th:only-of-type {\n",
       "        vertical-align: middle;\n",
       "    }\n",
       "\n",
       "    .dataframe tbody tr th {\n",
       "        vertical-align: top;\n",
       "    }\n",
       "\n",
       "    .dataframe thead th {\n",
       "        text-align: right;\n",
       "    }\n",
       "</style>\n",
       "<table border=\"1\" class=\"dataframe\">\n",
       "  <thead>\n",
       "    <tr style=\"text-align: right;\">\n",
       "      <th></th>\n",
       "      <th>Species</th>\n",
       "      <th>Weight</th>\n",
       "      <th>Length</th>\n",
       "      <th>Diagonal</th>\n",
       "      <th>Height</th>\n",
       "      <th>Width</th>\n",
       "    </tr>\n",
       "  </thead>\n",
       "  <tbody>\n",
       "    <tr>\n",
       "      <th>0</th>\n",
       "      <td>Bream</td>\n",
       "      <td>242.0</td>\n",
       "      <td>25.4</td>\n",
       "      <td>30.0</td>\n",
       "      <td>11.5200</td>\n",
       "      <td>4.0200</td>\n",
       "    </tr>\n",
       "    <tr>\n",
       "      <th>1</th>\n",
       "      <td>Bream</td>\n",
       "      <td>290.0</td>\n",
       "      <td>26.3</td>\n",
       "      <td>31.2</td>\n",
       "      <td>12.4800</td>\n",
       "      <td>4.3056</td>\n",
       "    </tr>\n",
       "    <tr>\n",
       "      <th>2</th>\n",
       "      <td>Bream</td>\n",
       "      <td>340.0</td>\n",
       "      <td>26.5</td>\n",
       "      <td>31.1</td>\n",
       "      <td>12.3778</td>\n",
       "      <td>4.6961</td>\n",
       "    </tr>\n",
       "    <tr>\n",
       "      <th>3</th>\n",
       "      <td>Bream</td>\n",
       "      <td>363.0</td>\n",
       "      <td>29.0</td>\n",
       "      <td>33.5</td>\n",
       "      <td>12.7300</td>\n",
       "      <td>4.4555</td>\n",
       "    </tr>\n",
       "    <tr>\n",
       "      <th>4</th>\n",
       "      <td>Bream</td>\n",
       "      <td>430.0</td>\n",
       "      <td>29.0</td>\n",
       "      <td>34.0</td>\n",
       "      <td>12.4440</td>\n",
       "      <td>5.1340</td>\n",
       "    </tr>\n",
       "    <tr>\n",
       "      <th>...</th>\n",
       "      <td>...</td>\n",
       "      <td>...</td>\n",
       "      <td>...</td>\n",
       "      <td>...</td>\n",
       "      <td>...</td>\n",
       "      <td>...</td>\n",
       "    </tr>\n",
       "    <tr>\n",
       "      <th>154</th>\n",
       "      <td>Smelt</td>\n",
       "      <td>12.2</td>\n",
       "      <td>12.2</td>\n",
       "      <td>13.4</td>\n",
       "      <td>2.0904</td>\n",
       "      <td>1.3936</td>\n",
       "    </tr>\n",
       "    <tr>\n",
       "      <th>155</th>\n",
       "      <td>Smelt</td>\n",
       "      <td>13.4</td>\n",
       "      <td>12.4</td>\n",
       "      <td>13.5</td>\n",
       "      <td>2.4300</td>\n",
       "      <td>1.2690</td>\n",
       "    </tr>\n",
       "    <tr>\n",
       "      <th>156</th>\n",
       "      <td>Smelt</td>\n",
       "      <td>12.2</td>\n",
       "      <td>13.0</td>\n",
       "      <td>13.8</td>\n",
       "      <td>2.2770</td>\n",
       "      <td>1.2558</td>\n",
       "    </tr>\n",
       "    <tr>\n",
       "      <th>157</th>\n",
       "      <td>Smelt</td>\n",
       "      <td>19.7</td>\n",
       "      <td>14.3</td>\n",
       "      <td>15.2</td>\n",
       "      <td>2.8728</td>\n",
       "      <td>2.0672</td>\n",
       "    </tr>\n",
       "    <tr>\n",
       "      <th>158</th>\n",
       "      <td>Smelt</td>\n",
       "      <td>19.9</td>\n",
       "      <td>15.0</td>\n",
       "      <td>16.2</td>\n",
       "      <td>2.9322</td>\n",
       "      <td>1.8792</td>\n",
       "    </tr>\n",
       "  </tbody>\n",
       "</table>\n",
       "<p>159 rows × 6 columns</p>\n",
       "</div>"
      ],
      "text/plain": [
       "    Species  Weight  Length  Diagonal   Height   Width\n",
       "0     Bream   242.0    25.4      30.0  11.5200  4.0200\n",
       "1     Bream   290.0    26.3      31.2  12.4800  4.3056\n",
       "2     Bream   340.0    26.5      31.1  12.3778  4.6961\n",
       "3     Bream   363.0    29.0      33.5  12.7300  4.4555\n",
       "4     Bream   430.0    29.0      34.0  12.4440  5.1340\n",
       "..      ...     ...     ...       ...      ...     ...\n",
       "154   Smelt    12.2    12.2      13.4   2.0904  1.3936\n",
       "155   Smelt    13.4    12.4      13.5   2.4300  1.2690\n",
       "156   Smelt    12.2    13.0      13.8   2.2770  1.2558\n",
       "157   Smelt    19.7    14.3      15.2   2.8728  2.0672\n",
       "158   Smelt    19.9    15.0      16.2   2.9322  1.8792\n",
       "\n",
       "[159 rows x 6 columns]"
      ]
     },
     "execution_count": 187,
     "metadata": {},
     "output_type": "execute_result"
    }
   ],
   "source": [
    "fish"
   ]
  },
  {
   "cell_type": "code",
   "execution_count": 188,
   "id": "e07386c1",
   "metadata": {
    "ExecuteTime": {
     "end_time": "2023-10-25T02:57:23.850818Z",
     "start_time": "2023-10-25T02:57:23.845962Z"
    }
   },
   "outputs": [],
   "source": [
    "indexes = (train_target == 'Bream') | (train_target == 'Smelt')\n",
    "train = train_scaled[indexes]\n",
    "target = train_target[indexes]"
   ]
  },
  {
   "cell_type": "code",
   "execution_count": 189,
   "id": "fffb0b0f",
   "metadata": {
    "ExecuteTime": {
     "end_time": "2023-10-25T02:57:23.866596Z",
     "start_time": "2023-10-25T02:57:23.851496Z"
    }
   },
   "outputs": [
    {
     "data": {
      "text/plain": [
       "1.0"
      ]
     },
     "execution_count": 189,
     "metadata": {},
     "output_type": "execute_result"
    }
   ],
   "source": [
    "from sklearn.linear_model import LogisticRegression\n",
    "lr = LogisticRegression()\n",
    "lr.fit(train , target)\n",
    "lr.score(train , target)"
   ]
  },
  {
   "cell_type": "code",
   "execution_count": 190,
   "id": "ac5ef630",
   "metadata": {
    "ExecuteTime": {
     "end_time": "2023-10-25T02:57:23.882595Z",
     "start_time": "2023-10-25T02:57:23.867605Z"
    }
   },
   "outputs": [
    {
     "data": {
      "text/plain": [
       "array(['Bream', 'Smelt', 'Bream', 'Bream', 'Bream'], dtype=object)"
      ]
     },
     "execution_count": 190,
     "metadata": {},
     "output_type": "execute_result"
    }
   ],
   "source": [
    "lr.predict(train[:5])"
   ]
  },
  {
   "cell_type": "code",
   "execution_count": 191,
   "id": "8c5fb063",
   "metadata": {
    "ExecuteTime": {
     "end_time": "2023-10-25T02:57:23.898064Z",
     "start_time": "2023-10-25T02:57:23.884594Z"
    }
   },
   "outputs": [
    {
     "name": "stdout",
     "output_type": "stream",
     "text": [
      "[[-0.4037798  -0.57620209 -0.66280298 -1.01290277 -0.73168947]] [-2.16155132]\n"
     ]
    }
   ],
   "source": [
    "print(lr.coef_ , lr.intercept_)"
   ]
  },
  {
   "cell_type": "code",
   "execution_count": 192,
   "id": "3da75026",
   "metadata": {
    "ExecuteTime": {
     "end_time": "2023-10-25T02:57:23.905914Z",
     "start_time": "2023-10-25T02:57:23.899343Z"
    }
   },
   "outputs": [
    {
     "data": {
      "text/plain": [
       "array([-6.02927744,  3.57123907, -5.26568906, -4.24321775, -6.0607117 ])"
      ]
     },
     "execution_count": 192,
     "metadata": {},
     "output_type": "execute_result"
    }
   ],
   "source": [
    "#z값 계산\n",
    "decisions = lr.decision_function(train[:5])\n",
    "decisions"
   ]
  },
  {
   "cell_type": "code",
   "execution_count": 193,
   "id": "0d45592c",
   "metadata": {
    "ExecuteTime": {
     "end_time": "2023-10-25T02:57:23.913607Z",
     "start_time": "2023-10-25T02:57:23.907923Z"
    }
   },
   "outputs": [
    {
     "data": {
      "text/plain": [
       "array([0.00240145, 0.97264817, 0.00513928, 0.01415798, 0.00232731])"
      ]
     },
     "execution_count": 193,
     "metadata": {},
     "output_type": "execute_result"
    }
   ],
   "source": [
    "#시그모이드 함수를 통해 얻어낸 확률값을 추출하는 함수\n",
    "from scipy.special import expit\n",
    "expit(decisions)"
   ]
  },
  {
   "cell_type": "code",
   "execution_count": 194,
   "id": "f6eba1cc",
   "metadata": {
    "ExecuteTime": {
     "end_time": "2023-10-25T02:57:23.929616Z",
     "start_time": "2023-10-25T02:57:23.920610Z"
    }
   },
   "outputs": [],
   "source": [
    "# max_iter : 반복횟수 지정 , default 100\n",
    "# c : alpha값 , default 1 , 조금 완화하기 위해 20"
   ]
  },
  {
   "cell_type": "code",
   "execution_count": 195,
   "id": "a1943d27",
   "metadata": {
    "ExecuteTime": {
     "end_time": "2023-10-25T02:57:23.965021Z",
     "start_time": "2023-10-25T02:57:23.931411Z"
    },
    "scrolled": true
   },
   "outputs": [
    {
     "data": {
      "text/html": [
       "<style>#sk-container-id-26 {color: black;}#sk-container-id-26 pre{padding: 0;}#sk-container-id-26 div.sk-toggleable {background-color: white;}#sk-container-id-26 label.sk-toggleable__label {cursor: pointer;display: block;width: 100%;margin-bottom: 0;padding: 0.3em;box-sizing: border-box;text-align: center;}#sk-container-id-26 label.sk-toggleable__label-arrow:before {content: \"▸\";float: left;margin-right: 0.25em;color: #696969;}#sk-container-id-26 label.sk-toggleable__label-arrow:hover:before {color: black;}#sk-container-id-26 div.sk-estimator:hover label.sk-toggleable__label-arrow:before {color: black;}#sk-container-id-26 div.sk-toggleable__content {max-height: 0;max-width: 0;overflow: hidden;text-align: left;background-color: #f0f8ff;}#sk-container-id-26 div.sk-toggleable__content pre {margin: 0.2em;color: black;border-radius: 0.25em;background-color: #f0f8ff;}#sk-container-id-26 input.sk-toggleable__control:checked~div.sk-toggleable__content {max-height: 200px;max-width: 100%;overflow: auto;}#sk-container-id-26 input.sk-toggleable__control:checked~label.sk-toggleable__label-arrow:before {content: \"▾\";}#sk-container-id-26 div.sk-estimator input.sk-toggleable__control:checked~label.sk-toggleable__label {background-color: #d4ebff;}#sk-container-id-26 div.sk-label input.sk-toggleable__control:checked~label.sk-toggleable__label {background-color: #d4ebff;}#sk-container-id-26 input.sk-hidden--visually {border: 0;clip: rect(1px 1px 1px 1px);clip: rect(1px, 1px, 1px, 1px);height: 1px;margin: -1px;overflow: hidden;padding: 0;position: absolute;width: 1px;}#sk-container-id-26 div.sk-estimator {font-family: monospace;background-color: #f0f8ff;border: 1px dotted black;border-radius: 0.25em;box-sizing: border-box;margin-bottom: 0.5em;}#sk-container-id-26 div.sk-estimator:hover {background-color: #d4ebff;}#sk-container-id-26 div.sk-parallel-item::after {content: \"\";width: 100%;border-bottom: 1px solid gray;flex-grow: 1;}#sk-container-id-26 div.sk-label:hover label.sk-toggleable__label {background-color: #d4ebff;}#sk-container-id-26 div.sk-serial::before {content: \"\";position: absolute;border-left: 1px solid gray;box-sizing: border-box;top: 0;bottom: 0;left: 50%;z-index: 0;}#sk-container-id-26 div.sk-serial {display: flex;flex-direction: column;align-items: center;background-color: white;padding-right: 0.2em;padding-left: 0.2em;position: relative;}#sk-container-id-26 div.sk-item {position: relative;z-index: 1;}#sk-container-id-26 div.sk-parallel {display: flex;align-items: stretch;justify-content: center;background-color: white;position: relative;}#sk-container-id-26 div.sk-item::before, #sk-container-id-26 div.sk-parallel-item::before {content: \"\";position: absolute;border-left: 1px solid gray;box-sizing: border-box;top: 0;bottom: 0;left: 50%;z-index: -1;}#sk-container-id-26 div.sk-parallel-item {display: flex;flex-direction: column;z-index: 1;position: relative;background-color: white;}#sk-container-id-26 div.sk-parallel-item:first-child::after {align-self: flex-end;width: 50%;}#sk-container-id-26 div.sk-parallel-item:last-child::after {align-self: flex-start;width: 50%;}#sk-container-id-26 div.sk-parallel-item:only-child::after {width: 0;}#sk-container-id-26 div.sk-dashed-wrapped {border: 1px dashed gray;margin: 0 0.4em 0.5em 0.4em;box-sizing: border-box;padding-bottom: 0.4em;background-color: white;}#sk-container-id-26 div.sk-label label {font-family: monospace;font-weight: bold;display: inline-block;line-height: 1.2em;}#sk-container-id-26 div.sk-label-container {text-align: center;}#sk-container-id-26 div.sk-container {/* jupyter's `normalize.less` sets `[hidden] { display: none; }` but bootstrap.min.css set `[hidden] { display: none !important; }` so we also need the `!important` here to be able to override the default hidden behavior on the sphinx rendered scikit-learn.org. See: https://github.com/scikit-learn/scikit-learn/issues/21755 */display: inline-block !important;position: relative;}#sk-container-id-26 div.sk-text-repr-fallback {display: none;}</style><div id=\"sk-container-id-26\" class=\"sk-top-container\"><div class=\"sk-text-repr-fallback\"><pre>LogisticRegression(C=20, max_iter=1000)</pre><b>In a Jupyter environment, please rerun this cell to show the HTML representation or trust the notebook. <br />On GitHub, the HTML representation is unable to render, please try loading this page with nbviewer.org.</b></div><div class=\"sk-container\" hidden><div class=\"sk-item\"><div class=\"sk-estimator sk-toggleable\"><input class=\"sk-toggleable__control sk-hidden--visually\" id=\"sk-estimator-id-26\" type=\"checkbox\" checked><label for=\"sk-estimator-id-26\" class=\"sk-toggleable__label sk-toggleable__label-arrow\">LogisticRegression</label><div class=\"sk-toggleable__content\"><pre>LogisticRegression(C=20, max_iter=1000)</pre></div></div></div></div></div>"
      ],
      "text/plain": [
       "LogisticRegression(C=20, max_iter=1000)"
      ]
     },
     "execution_count": 195,
     "metadata": {},
     "output_type": "execute_result"
    }
   ],
   "source": [
    "from sklearn.linear_model import LogisticRegression\n",
    "lr = LogisticRegression(C = 20 , max_iter = 1000)\n",
    "lr.fit(train_scaled , train_target)"
   ]
  },
  {
   "cell_type": "code",
   "execution_count": 196,
   "id": "c06f160d",
   "metadata": {
    "ExecuteTime": {
     "end_time": "2023-10-25T02:57:23.974443Z",
     "start_time": "2023-10-25T02:57:23.967185Z"
    }
   },
   "outputs": [
    {
     "name": "stdout",
     "output_type": "stream",
     "text": [
      "0.9327731092436975\n",
      "0.925\n"
     ]
    }
   ],
   "source": [
    "print(lr.score(train_scaled , train_target))\n",
    "print(lr.score(test_scaled , test_target))"
   ]
  },
  {
   "cell_type": "code",
   "execution_count": 197,
   "id": "6f13cc20",
   "metadata": {
    "ExecuteTime": {
     "end_time": "2023-10-25T02:57:23.995411Z",
     "start_time": "2023-10-25T02:57:23.977444Z"
    }
   },
   "outputs": [
    {
     "data": {
      "text/plain": [
       "array(['Perch', 'Smelt', 'Pike', 'Roach', 'Perch'], dtype=object)"
      ]
     },
     "execution_count": 197,
     "metadata": {},
     "output_type": "execute_result"
    }
   ],
   "source": [
    "lr.predict(test_scaled[:5])"
   ]
  },
  {
   "cell_type": "code",
   "execution_count": 198,
   "id": "ab2b7a7a",
   "metadata": {
    "ExecuteTime": {
     "end_time": "2023-10-25T02:57:24.013696Z",
     "start_time": "2023-10-25T02:57:23.997269Z"
    }
   },
   "outputs": [
    {
     "data": {
      "text/plain": [
       "array([[0.   , 0.014, 0.841, 0.   , 0.136, 0.007, 0.003],\n",
       "       [0.   , 0.003, 0.044, 0.   , 0.007, 0.946, 0.   ],\n",
       "       [0.   , 0.   , 0.034, 0.935, 0.015, 0.016, 0.   ],\n",
       "       [0.011, 0.034, 0.306, 0.007, 0.567, 0.   , 0.076],\n",
       "       [0.   , 0.   , 0.904, 0.002, 0.089, 0.002, 0.001]])"
      ]
     },
     "execution_count": 198,
     "metadata": {},
     "output_type": "execute_result"
    }
   ],
   "source": [
    "proba = lr.predict_proba(test_scaled[:5])\n",
    "np.round(proba , 3)"
   ]
  },
  {
   "cell_type": "code",
   "execution_count": 199,
   "id": "e38e147b",
   "metadata": {
    "ExecuteTime": {
     "end_time": "2023-10-25T02:57:24.029132Z",
     "start_time": "2023-10-25T02:57:24.016044Z"
    }
   },
   "outputs": [
    {
     "data": {
      "text/plain": [
       "array(['Bream', 'Parkki', 'Perch', 'Pike', 'Roach', 'Smelt', 'Whitefish'],\n",
       "      dtype=object)"
      ]
     },
     "execution_count": 199,
     "metadata": {},
     "output_type": "execute_result"
    }
   ],
   "source": [
    "lr.classes_"
   ]
  },
  {
   "cell_type": "code",
   "execution_count": 200,
   "id": "6d964fef",
   "metadata": {
    "ExecuteTime": {
     "end_time": "2023-10-25T02:57:24.035176Z",
     "start_time": "2023-10-25T02:57:24.031464Z"
    }
   },
   "outputs": [
    {
     "name": "stdout",
     "output_type": "stream",
     "text": [
      "(7, 5) (7,)\n"
     ]
    }
   ],
   "source": [
    "print(lr.coef_.shape , lr.intercept_.shape)"
   ]
  },
  {
   "cell_type": "code",
   "execution_count": 201,
   "id": "a8a46e04",
   "metadata": {
    "ExecuteTime": {
     "end_time": "2023-10-25T02:57:24.047013Z",
     "start_time": "2023-10-25T02:57:24.037426Z"
    }
   },
   "outputs": [
    {
     "data": {
      "text/plain": [
       "array([[ -6.49809915,   1.03223987,   5.16361871,  -2.72867666,\n",
       "          3.33888204,   0.32651181,  -0.63447662],\n",
       "       [-10.85946691,   1.92720519,   4.77098422,  -2.39849654,\n",
       "          2.9781117 ,   7.84131947,  -4.25965714],\n",
       "       [ -4.33528575,  -6.23306571,   3.17445546,   6.48669095,\n",
       "          2.35757575,   2.42117795,  -3.87154865],\n",
       "       [ -0.68336058,   0.4527268 ,   2.64700136,  -1.18667652,\n",
       "          3.26453714,  -5.75274607,   1.25851786],\n",
       "       [ -6.39706503,  -1.99273502,   5.81573609,  -0.11035732,\n",
       "          3.50283356,  -0.11162211,  -0.70679016]])"
      ]
     },
     "execution_count": 201,
     "metadata": {},
     "output_type": "execute_result"
    }
   ],
   "source": [
    "decisions = lr.decision_function(test_scaled[:5])\n",
    "decisions"
   ]
  },
  {
   "cell_type": "code",
   "execution_count": 202,
   "id": "24dbb35a",
   "metadata": {
    "ExecuteTime": {
     "end_time": "2023-10-25T02:57:24.062328Z",
     "start_time": "2023-10-25T02:57:24.049320Z"
    }
   },
   "outputs": [
    {
     "name": "stdout",
     "output_type": "stream",
     "text": [
      "[[0.    0.014 0.841 0.    0.136 0.007 0.003]\n",
      " [0.    0.003 0.044 0.    0.007 0.946 0.   ]\n",
      " [0.    0.    0.034 0.935 0.015 0.016 0.   ]\n",
      " [0.011 0.034 0.306 0.007 0.567 0.    0.076]\n",
      " [0.    0.    0.904 0.002 0.089 0.002 0.001]]\n"
     ]
    }
   ],
   "source": [
    "from scipy.special import softmax\n",
    "proba = softmax(decisions , axis = 1)\n",
    "print(np.round(proba , 3))"
   ]
  },
  {
   "cell_type": "markdown",
   "id": "3f9a7add",
   "metadata": {},
   "source": [
    "# 확인문제\n",
    "    - 위스콘시 대학의 유방암 진단"
   ]
  },
  {
   "cell_type": "code",
   "execution_count": 303,
   "id": "f6226782",
   "metadata": {
    "ExecuteTime": {
     "end_time": "2023-10-25T05:31:10.588706Z",
     "start_time": "2023-10-25T05:31:10.564742Z"
    }
   },
   "outputs": [],
   "source": [
    "from sklearn.datasets import load_breast_cancer\n",
    "cancer = load_breast_cancer()"
   ]
  },
  {
   "cell_type": "code",
   "execution_count": 304,
   "id": "fcb85dd2",
   "metadata": {
    "ExecuteTime": {
     "end_time": "2023-10-25T05:31:11.237924Z",
     "start_time": "2023-10-25T05:31:11.221924Z"
    }
   },
   "outputs": [
    {
     "data": {
      "text/plain": [
       "{'data': array([[1.799e+01, 1.038e+01, 1.228e+02, ..., 2.654e-01, 4.601e-01,\n",
       "         1.189e-01],\n",
       "        [2.057e+01, 1.777e+01, 1.329e+02, ..., 1.860e-01, 2.750e-01,\n",
       "         8.902e-02],\n",
       "        [1.969e+01, 2.125e+01, 1.300e+02, ..., 2.430e-01, 3.613e-01,\n",
       "         8.758e-02],\n",
       "        ...,\n",
       "        [1.660e+01, 2.808e+01, 1.083e+02, ..., 1.418e-01, 2.218e-01,\n",
       "         7.820e-02],\n",
       "        [2.060e+01, 2.933e+01, 1.401e+02, ..., 2.650e-01, 4.087e-01,\n",
       "         1.240e-01],\n",
       "        [7.760e+00, 2.454e+01, 4.792e+01, ..., 0.000e+00, 2.871e-01,\n",
       "         7.039e-02]]),\n",
       " 'target': array([0, 0, 0, 0, 0, 0, 0, 0, 0, 0, 0, 0, 0, 0, 0, 0, 0, 0, 0, 1, 1, 1,\n",
       "        0, 0, 0, 0, 0, 0, 0, 0, 0, 0, 0, 0, 0, 0, 0, 1, 0, 0, 0, 0, 0, 0,\n",
       "        0, 0, 1, 0, 1, 1, 1, 1, 1, 0, 0, 1, 0, 0, 1, 1, 1, 1, 0, 1, 0, 0,\n",
       "        1, 1, 1, 1, 0, 1, 0, 0, 1, 0, 1, 0, 0, 1, 1, 1, 0, 0, 1, 0, 0, 0,\n",
       "        1, 1, 1, 0, 1, 1, 0, 0, 1, 1, 1, 0, 0, 1, 1, 1, 1, 0, 1, 1, 0, 1,\n",
       "        1, 1, 1, 1, 1, 1, 1, 0, 0, 0, 1, 0, 0, 1, 1, 1, 0, 0, 1, 0, 1, 0,\n",
       "        0, 1, 0, 0, 1, 1, 0, 1, 1, 0, 1, 1, 1, 1, 0, 1, 1, 1, 1, 1, 1, 1,\n",
       "        1, 1, 0, 1, 1, 1, 1, 0, 0, 1, 0, 1, 1, 0, 0, 1, 1, 0, 0, 1, 1, 1,\n",
       "        1, 0, 1, 1, 0, 0, 0, 1, 0, 1, 0, 1, 1, 1, 0, 1, 1, 0, 0, 1, 0, 0,\n",
       "        0, 0, 1, 0, 0, 0, 1, 0, 1, 0, 1, 1, 0, 1, 0, 0, 0, 0, 1, 1, 0, 0,\n",
       "        1, 1, 1, 0, 1, 1, 1, 1, 1, 0, 0, 1, 1, 0, 1, 1, 0, 0, 1, 0, 1, 1,\n",
       "        1, 1, 0, 1, 1, 1, 1, 1, 0, 1, 0, 0, 0, 0, 0, 0, 0, 0, 0, 0, 0, 0,\n",
       "        0, 0, 1, 1, 1, 1, 1, 1, 0, 1, 0, 1, 1, 0, 1, 1, 0, 1, 0, 0, 1, 1,\n",
       "        1, 1, 1, 1, 1, 1, 1, 1, 1, 1, 1, 0, 1, 1, 0, 1, 0, 1, 1, 1, 1, 1,\n",
       "        1, 1, 1, 1, 1, 1, 1, 1, 1, 0, 1, 1, 1, 0, 1, 0, 1, 1, 1, 1, 0, 0,\n",
       "        0, 1, 1, 1, 1, 0, 1, 0, 1, 0, 1, 1, 1, 0, 1, 1, 1, 1, 1, 1, 1, 0,\n",
       "        0, 0, 1, 1, 1, 1, 1, 1, 1, 1, 1, 1, 1, 0, 0, 1, 0, 0, 0, 1, 0, 0,\n",
       "        1, 1, 1, 1, 1, 0, 1, 1, 1, 1, 1, 0, 1, 1, 1, 0, 1, 1, 0, 0, 1, 1,\n",
       "        1, 1, 1, 1, 0, 1, 1, 1, 1, 1, 1, 1, 0, 1, 1, 1, 1, 1, 0, 1, 1, 0,\n",
       "        1, 1, 1, 1, 1, 1, 1, 1, 1, 1, 1, 1, 0, 1, 0, 0, 1, 0, 1, 1, 1, 1,\n",
       "        1, 0, 1, 1, 0, 1, 0, 1, 1, 0, 1, 0, 1, 1, 1, 1, 1, 1, 1, 1, 0, 0,\n",
       "        1, 1, 1, 1, 1, 1, 0, 1, 1, 1, 1, 1, 1, 1, 1, 1, 1, 0, 1, 1, 1, 1,\n",
       "        1, 1, 1, 0, 1, 0, 1, 1, 0, 1, 1, 1, 1, 1, 0, 0, 1, 0, 1, 0, 1, 1,\n",
       "        1, 1, 1, 0, 1, 1, 0, 1, 0, 1, 0, 0, 1, 1, 1, 0, 1, 1, 1, 1, 1, 1,\n",
       "        1, 1, 1, 1, 1, 0, 1, 0, 0, 1, 1, 1, 1, 1, 1, 1, 1, 1, 1, 1, 1, 1,\n",
       "        1, 1, 1, 1, 1, 1, 1, 1, 1, 1, 1, 1, 0, 0, 0, 0, 0, 0, 1]),\n",
       " 'frame': None,\n",
       " 'target_names': array(['malignant', 'benign'], dtype='<U9'),\n",
       " 'DESCR': '.. _breast_cancer_dataset:\\n\\nBreast cancer wisconsin (diagnostic) dataset\\n--------------------------------------------\\n\\n**Data Set Characteristics:**\\n\\n    :Number of Instances: 569\\n\\n    :Number of Attributes: 30 numeric, predictive attributes and the class\\n\\n    :Attribute Information:\\n        - radius (mean of distances from center to points on the perimeter)\\n        - texture (standard deviation of gray-scale values)\\n        - perimeter\\n        - area\\n        - smoothness (local variation in radius lengths)\\n        - compactness (perimeter^2 / area - 1.0)\\n        - concavity (severity of concave portions of the contour)\\n        - concave points (number of concave portions of the contour)\\n        - symmetry\\n        - fractal dimension (\"coastline approximation\" - 1)\\n\\n        The mean, standard error, and \"worst\" or largest (mean of the three\\n        worst/largest values) of these features were computed for each image,\\n        resulting in 30 features.  For instance, field 0 is Mean Radius, field\\n        10 is Radius SE, field 20 is Worst Radius.\\n\\n        - class:\\n                - WDBC-Malignant\\n                - WDBC-Benign\\n\\n    :Summary Statistics:\\n\\n    ===================================== ====== ======\\n                                           Min    Max\\n    ===================================== ====== ======\\n    radius (mean):                        6.981  28.11\\n    texture (mean):                       9.71   39.28\\n    perimeter (mean):                     43.79  188.5\\n    area (mean):                          143.5  2501.0\\n    smoothness (mean):                    0.053  0.163\\n    compactness (mean):                   0.019  0.345\\n    concavity (mean):                     0.0    0.427\\n    concave points (mean):                0.0    0.201\\n    symmetry (mean):                      0.106  0.304\\n    fractal dimension (mean):             0.05   0.097\\n    radius (standard error):              0.112  2.873\\n    texture (standard error):             0.36   4.885\\n    perimeter (standard error):           0.757  21.98\\n    area (standard error):                6.802  542.2\\n    smoothness (standard error):          0.002  0.031\\n    compactness (standard error):         0.002  0.135\\n    concavity (standard error):           0.0    0.396\\n    concave points (standard error):      0.0    0.053\\n    symmetry (standard error):            0.008  0.079\\n    fractal dimension (standard error):   0.001  0.03\\n    radius (worst):                       7.93   36.04\\n    texture (worst):                      12.02  49.54\\n    perimeter (worst):                    50.41  251.2\\n    area (worst):                         185.2  4254.0\\n    smoothness (worst):                   0.071  0.223\\n    compactness (worst):                  0.027  1.058\\n    concavity (worst):                    0.0    1.252\\n    concave points (worst):               0.0    0.291\\n    symmetry (worst):                     0.156  0.664\\n    fractal dimension (worst):            0.055  0.208\\n    ===================================== ====== ======\\n\\n    :Missing Attribute Values: None\\n\\n    :Class Distribution: 212 - Malignant, 357 - Benign\\n\\n    :Creator:  Dr. William H. Wolberg, W. Nick Street, Olvi L. Mangasarian\\n\\n    :Donor: Nick Street\\n\\n    :Date: November, 1995\\n\\nThis is a copy of UCI ML Breast Cancer Wisconsin (Diagnostic) datasets.\\nhttps://goo.gl/U2Uwz2\\n\\nFeatures are computed from a digitized image of a fine needle\\naspirate (FNA) of a breast mass.  They describe\\ncharacteristics of the cell nuclei present in the image.\\n\\nSeparating plane described above was obtained using\\nMultisurface Method-Tree (MSM-T) [K. P. Bennett, \"Decision Tree\\nConstruction Via Linear Programming.\" Proceedings of the 4th\\nMidwest Artificial Intelligence and Cognitive Science Society,\\npp. 97-101, 1992], a classification method which uses linear\\nprogramming to construct a decision tree.  Relevant features\\nwere selected using an exhaustive search in the space of 1-4\\nfeatures and 1-3 separating planes.\\n\\nThe actual linear program used to obtain the separating plane\\nin the 3-dimensional space is that described in:\\n[K. P. Bennett and O. L. Mangasarian: \"Robust Linear\\nProgramming Discrimination of Two Linearly Inseparable Sets\",\\nOptimization Methods and Software 1, 1992, 23-34].\\n\\nThis database is also available through the UW CS ftp server:\\n\\nftp ftp.cs.wisc.edu\\ncd math-prog/cpo-dataset/machine-learn/WDBC/\\n\\n.. topic:: References\\n\\n   - W.N. Street, W.H. Wolberg and O.L. Mangasarian. Nuclear feature extraction \\n     for breast tumor diagnosis. IS&T/SPIE 1993 International Symposium on \\n     Electronic Imaging: Science and Technology, volume 1905, pages 861-870,\\n     San Jose, CA, 1993.\\n   - O.L. Mangasarian, W.N. Street and W.H. Wolberg. Breast cancer diagnosis and \\n     prognosis via linear programming. Operations Research, 43(4), pages 570-577, \\n     July-August 1995.\\n   - W.H. Wolberg, W.N. Street, and O.L. Mangasarian. Machine learning techniques\\n     to diagnose breast cancer from fine-needle aspirates. Cancer Letters 77 (1994) \\n     163-171.',\n",
       " 'feature_names': array(['mean radius', 'mean texture', 'mean perimeter', 'mean area',\n",
       "        'mean smoothness', 'mean compactness', 'mean concavity',\n",
       "        'mean concave points', 'mean symmetry', 'mean fractal dimension',\n",
       "        'radius error', 'texture error', 'perimeter error', 'area error',\n",
       "        'smoothness error', 'compactness error', 'concavity error',\n",
       "        'concave points error', 'symmetry error',\n",
       "        'fractal dimension error', 'worst radius', 'worst texture',\n",
       "        'worst perimeter', 'worst area', 'worst smoothness',\n",
       "        'worst compactness', 'worst concavity', 'worst concave points',\n",
       "        'worst symmetry', 'worst fractal dimension'], dtype='<U23'),\n",
       " 'filename': 'breast_cancer.csv',\n",
       " 'data_module': 'sklearn.datasets.data'}"
      ]
     },
     "execution_count": 304,
     "metadata": {},
     "output_type": "execute_result"
    }
   ],
   "source": [
    "cancer"
   ]
  },
  {
   "cell_type": "code",
   "execution_count": 339,
   "id": "c2c9b765",
   "metadata": {
    "ExecuteTime": {
     "end_time": "2023-10-25T05:31:48.032735Z",
     "start_time": "2023-10-25T05:31:48.026748Z"
    }
   },
   "outputs": [],
   "source": [
    "train_input , test_input , train_target , test_target = train_test_split(cancer.data, cancer.target , stratify = cancer.target , random_state = 42)"
   ]
  },
  {
   "cell_type": "code",
   "execution_count": 340,
   "id": "a62d87fb",
   "metadata": {
    "ExecuteTime": {
     "end_time": "2023-10-25T05:31:48.191577Z",
     "start_time": "2023-10-25T05:31:48.159692Z"
    }
   },
   "outputs": [
    {
     "data": {
      "text/html": [
       "<style>#sk-container-id-48 {color: black;}#sk-container-id-48 pre{padding: 0;}#sk-container-id-48 div.sk-toggleable {background-color: white;}#sk-container-id-48 label.sk-toggleable__label {cursor: pointer;display: block;width: 100%;margin-bottom: 0;padding: 0.3em;box-sizing: border-box;text-align: center;}#sk-container-id-48 label.sk-toggleable__label-arrow:before {content: \"▸\";float: left;margin-right: 0.25em;color: #696969;}#sk-container-id-48 label.sk-toggleable__label-arrow:hover:before {color: black;}#sk-container-id-48 div.sk-estimator:hover label.sk-toggleable__label-arrow:before {color: black;}#sk-container-id-48 div.sk-toggleable__content {max-height: 0;max-width: 0;overflow: hidden;text-align: left;background-color: #f0f8ff;}#sk-container-id-48 div.sk-toggleable__content pre {margin: 0.2em;color: black;border-radius: 0.25em;background-color: #f0f8ff;}#sk-container-id-48 input.sk-toggleable__control:checked~div.sk-toggleable__content {max-height: 200px;max-width: 100%;overflow: auto;}#sk-container-id-48 input.sk-toggleable__control:checked~label.sk-toggleable__label-arrow:before {content: \"▾\";}#sk-container-id-48 div.sk-estimator input.sk-toggleable__control:checked~label.sk-toggleable__label {background-color: #d4ebff;}#sk-container-id-48 div.sk-label input.sk-toggleable__control:checked~label.sk-toggleable__label {background-color: #d4ebff;}#sk-container-id-48 input.sk-hidden--visually {border: 0;clip: rect(1px 1px 1px 1px);clip: rect(1px, 1px, 1px, 1px);height: 1px;margin: -1px;overflow: hidden;padding: 0;position: absolute;width: 1px;}#sk-container-id-48 div.sk-estimator {font-family: monospace;background-color: #f0f8ff;border: 1px dotted black;border-radius: 0.25em;box-sizing: border-box;margin-bottom: 0.5em;}#sk-container-id-48 div.sk-estimator:hover {background-color: #d4ebff;}#sk-container-id-48 div.sk-parallel-item::after {content: \"\";width: 100%;border-bottom: 1px solid gray;flex-grow: 1;}#sk-container-id-48 div.sk-label:hover label.sk-toggleable__label {background-color: #d4ebff;}#sk-container-id-48 div.sk-serial::before {content: \"\";position: absolute;border-left: 1px solid gray;box-sizing: border-box;top: 0;bottom: 0;left: 50%;z-index: 0;}#sk-container-id-48 div.sk-serial {display: flex;flex-direction: column;align-items: center;background-color: white;padding-right: 0.2em;padding-left: 0.2em;position: relative;}#sk-container-id-48 div.sk-item {position: relative;z-index: 1;}#sk-container-id-48 div.sk-parallel {display: flex;align-items: stretch;justify-content: center;background-color: white;position: relative;}#sk-container-id-48 div.sk-item::before, #sk-container-id-48 div.sk-parallel-item::before {content: \"\";position: absolute;border-left: 1px solid gray;box-sizing: border-box;top: 0;bottom: 0;left: 50%;z-index: -1;}#sk-container-id-48 div.sk-parallel-item {display: flex;flex-direction: column;z-index: 1;position: relative;background-color: white;}#sk-container-id-48 div.sk-parallel-item:first-child::after {align-self: flex-end;width: 50%;}#sk-container-id-48 div.sk-parallel-item:last-child::after {align-self: flex-start;width: 50%;}#sk-container-id-48 div.sk-parallel-item:only-child::after {width: 0;}#sk-container-id-48 div.sk-dashed-wrapped {border: 1px dashed gray;margin: 0 0.4em 0.5em 0.4em;box-sizing: border-box;padding-bottom: 0.4em;background-color: white;}#sk-container-id-48 div.sk-label label {font-family: monospace;font-weight: bold;display: inline-block;line-height: 1.2em;}#sk-container-id-48 div.sk-label-container {text-align: center;}#sk-container-id-48 div.sk-container {/* jupyter's `normalize.less` sets `[hidden] { display: none; }` but bootstrap.min.css set `[hidden] { display: none !important; }` so we also need the `!important` here to be able to override the default hidden behavior on the sphinx rendered scikit-learn.org. See: https://github.com/scikit-learn/scikit-learn/issues/21755 */display: inline-block !important;position: relative;}#sk-container-id-48 div.sk-text-repr-fallback {display: none;}</style><div id=\"sk-container-id-48\" class=\"sk-top-container\"><div class=\"sk-text-repr-fallback\"><pre>StandardScaler()</pre><b>In a Jupyter environment, please rerun this cell to show the HTML representation or trust the notebook. <br />On GitHub, the HTML representation is unable to render, please try loading this page with nbviewer.org.</b></div><div class=\"sk-container\" hidden><div class=\"sk-item\"><div class=\"sk-estimator sk-toggleable\"><input class=\"sk-toggleable__control sk-hidden--visually\" id=\"sk-estimator-id-48\" type=\"checkbox\" checked><label for=\"sk-estimator-id-48\" class=\"sk-toggleable__label sk-toggleable__label-arrow\">StandardScaler</label><div class=\"sk-toggleable__content\"><pre>StandardScaler()</pre></div></div></div></div></div>"
      ],
      "text/plain": [
       "StandardScaler()"
      ]
     },
     "execution_count": 340,
     "metadata": {},
     "output_type": "execute_result"
    }
   ],
   "source": [
    "from sklearn.preprocessing import StandardScaler\n",
    "ss = StandardScaler()\n",
    "ss.fit(train_input)"
   ]
  },
  {
   "cell_type": "code",
   "execution_count": 341,
   "id": "f6c14040",
   "metadata": {
    "ExecuteTime": {
     "end_time": "2023-10-25T05:31:49.892687Z",
     "start_time": "2023-10-25T05:31:49.880000Z"
    }
   },
   "outputs": [],
   "source": [
    "train_scaled = ss.transform(train_input)\n",
    "test_scaled = ss.transform(test_input)"
   ]
  },
  {
   "cell_type": "code",
   "execution_count": 342,
   "id": "809f847e",
   "metadata": {
    "ExecuteTime": {
     "end_time": "2023-10-25T05:31:51.070834Z",
     "start_time": "2023-10-25T05:31:51.056140Z"
    }
   },
   "outputs": [
    {
     "data": {
      "text/plain": [
       "array([[  3.27432658,   0.06869667,  -3.34302325],\n",
       "       [ 12.517853  ,   2.80869888, -15.32655189],\n",
       "       [  5.78697566,   1.19722839,  -6.98420405],\n",
       "       ...,\n",
       "       [ 12.40097604,   2.15125346, -14.55222949],\n",
       "       [  7.55053309,   1.3781175 ,  -8.92865059],\n",
       "       [ 19.03956059,   3.6650787 , -22.7046393 ]])"
      ]
     },
     "execution_count": 342,
     "metadata": {},
     "output_type": "execute_result"
    }
   ],
   "source": [
    "decisions = lr.decision_function(train_scaled[:,:4])\n",
    "decisions"
   ]
  },
  {
   "cell_type": "code",
   "execution_count": 343,
   "id": "59c22e56",
   "metadata": {
    "ExecuteTime": {
     "end_time": "2023-10-25T05:31:54.783329Z",
     "start_time": "2023-10-25T05:31:54.768322Z"
    }
   },
   "outputs": [
    {
     "data": {
      "text/html": [
       "<style>#sk-container-id-49 {color: black;}#sk-container-id-49 pre{padding: 0;}#sk-container-id-49 div.sk-toggleable {background-color: white;}#sk-container-id-49 label.sk-toggleable__label {cursor: pointer;display: block;width: 100%;margin-bottom: 0;padding: 0.3em;box-sizing: border-box;text-align: center;}#sk-container-id-49 label.sk-toggleable__label-arrow:before {content: \"▸\";float: left;margin-right: 0.25em;color: #696969;}#sk-container-id-49 label.sk-toggleable__label-arrow:hover:before {color: black;}#sk-container-id-49 div.sk-estimator:hover label.sk-toggleable__label-arrow:before {color: black;}#sk-container-id-49 div.sk-toggleable__content {max-height: 0;max-width: 0;overflow: hidden;text-align: left;background-color: #f0f8ff;}#sk-container-id-49 div.sk-toggleable__content pre {margin: 0.2em;color: black;border-radius: 0.25em;background-color: #f0f8ff;}#sk-container-id-49 input.sk-toggleable__control:checked~div.sk-toggleable__content {max-height: 200px;max-width: 100%;overflow: auto;}#sk-container-id-49 input.sk-toggleable__control:checked~label.sk-toggleable__label-arrow:before {content: \"▾\";}#sk-container-id-49 div.sk-estimator input.sk-toggleable__control:checked~label.sk-toggleable__label {background-color: #d4ebff;}#sk-container-id-49 div.sk-label input.sk-toggleable__control:checked~label.sk-toggleable__label {background-color: #d4ebff;}#sk-container-id-49 input.sk-hidden--visually {border: 0;clip: rect(1px 1px 1px 1px);clip: rect(1px, 1px, 1px, 1px);height: 1px;margin: -1px;overflow: hidden;padding: 0;position: absolute;width: 1px;}#sk-container-id-49 div.sk-estimator {font-family: monospace;background-color: #f0f8ff;border: 1px dotted black;border-radius: 0.25em;box-sizing: border-box;margin-bottom: 0.5em;}#sk-container-id-49 div.sk-estimator:hover {background-color: #d4ebff;}#sk-container-id-49 div.sk-parallel-item::after {content: \"\";width: 100%;border-bottom: 1px solid gray;flex-grow: 1;}#sk-container-id-49 div.sk-label:hover label.sk-toggleable__label {background-color: #d4ebff;}#sk-container-id-49 div.sk-serial::before {content: \"\";position: absolute;border-left: 1px solid gray;box-sizing: border-box;top: 0;bottom: 0;left: 50%;z-index: 0;}#sk-container-id-49 div.sk-serial {display: flex;flex-direction: column;align-items: center;background-color: white;padding-right: 0.2em;padding-left: 0.2em;position: relative;}#sk-container-id-49 div.sk-item {position: relative;z-index: 1;}#sk-container-id-49 div.sk-parallel {display: flex;align-items: stretch;justify-content: center;background-color: white;position: relative;}#sk-container-id-49 div.sk-item::before, #sk-container-id-49 div.sk-parallel-item::before {content: \"\";position: absolute;border-left: 1px solid gray;box-sizing: border-box;top: 0;bottom: 0;left: 50%;z-index: -1;}#sk-container-id-49 div.sk-parallel-item {display: flex;flex-direction: column;z-index: 1;position: relative;background-color: white;}#sk-container-id-49 div.sk-parallel-item:first-child::after {align-self: flex-end;width: 50%;}#sk-container-id-49 div.sk-parallel-item:last-child::after {align-self: flex-start;width: 50%;}#sk-container-id-49 div.sk-parallel-item:only-child::after {width: 0;}#sk-container-id-49 div.sk-dashed-wrapped {border: 1px dashed gray;margin: 0 0.4em 0.5em 0.4em;box-sizing: border-box;padding-bottom: 0.4em;background-color: white;}#sk-container-id-49 div.sk-label label {font-family: monospace;font-weight: bold;display: inline-block;line-height: 1.2em;}#sk-container-id-49 div.sk-label-container {text-align: center;}#sk-container-id-49 div.sk-container {/* jupyter's `normalize.less` sets `[hidden] { display: none; }` but bootstrap.min.css set `[hidden] { display: none !important; }` so we also need the `!important` here to be able to override the default hidden behavior on the sphinx rendered scikit-learn.org. See: https://github.com/scikit-learn/scikit-learn/issues/21755 */display: inline-block !important;position: relative;}#sk-container-id-49 div.sk-text-repr-fallback {display: none;}</style><div id=\"sk-container-id-49\" class=\"sk-top-container\"><div class=\"sk-text-repr-fallback\"><pre>LogisticRegression()</pre><b>In a Jupyter environment, please rerun this cell to show the HTML representation or trust the notebook. <br />On GitHub, the HTML representation is unable to render, please try loading this page with nbviewer.org.</b></div><div class=\"sk-container\" hidden><div class=\"sk-item\"><div class=\"sk-estimator sk-toggleable\"><input class=\"sk-toggleable__control sk-hidden--visually\" id=\"sk-estimator-id-49\" type=\"checkbox\" checked><label for=\"sk-estimator-id-49\" class=\"sk-toggleable__label sk-toggleable__label-arrow\">LogisticRegression</label><div class=\"sk-toggleable__content\"><pre>LogisticRegression()</pre></div></div></div></div></div>"
      ],
      "text/plain": [
       "LogisticRegression()"
      ]
     },
     "execution_count": 343,
     "metadata": {},
     "output_type": "execute_result"
    }
   ],
   "source": [
    "from sklearn.linear_model import LogisticRegression\n",
    "lr = LogisticRegression()\n",
    "lr.fit(train_scaled , train_target)"
   ]
  },
  {
   "cell_type": "code",
   "execution_count": 344,
   "id": "bf2a42a8",
   "metadata": {
    "ExecuteTime": {
     "end_time": "2023-10-25T05:31:54.960184Z",
     "start_time": "2023-10-25T05:31:54.945226Z"
    }
   },
   "outputs": [
    {
     "data": {
      "text/plain": [
       "0.9882629107981221"
      ]
     },
     "execution_count": 344,
     "metadata": {},
     "output_type": "execute_result"
    }
   ],
   "source": [
    "lr.score(train_scaled , train_target)"
   ]
  },
  {
   "cell_type": "code",
   "execution_count": 345,
   "id": "8e377259",
   "metadata": {
    "ExecuteTime": {
     "end_time": "2023-10-25T05:31:55.974132Z",
     "start_time": "2023-10-25T05:31:55.965507Z"
    }
   },
   "outputs": [
    {
     "data": {
      "text/plain": [
       "0.986013986013986"
      ]
     },
     "execution_count": 345,
     "metadata": {},
     "output_type": "execute_result"
    }
   ],
   "source": [
    "lr.score(test_scaled , test_target)"
   ]
  },
  {
   "cell_type": "code",
   "execution_count": 346,
   "id": "074d7816",
   "metadata": {
    "ExecuteTime": {
     "end_time": "2023-10-25T05:31:57.071583Z",
     "start_time": "2023-10-25T05:31:57.059536Z"
    }
   },
   "outputs": [
    {
     "data": {
      "text/plain": [
       "array([1, 0, 1, 1, 0])"
      ]
     },
     "execution_count": 346,
     "metadata": {},
     "output_type": "execute_result"
    }
   ],
   "source": [
    "lr.predict(test_scaled[:5])"
   ]
  },
  {
   "cell_type": "code",
   "execution_count": 347,
   "id": "16078a7c",
   "metadata": {
    "ExecuteTime": {
     "end_time": "2023-10-25T05:31:57.558573Z",
     "start_time": "2023-10-25T05:31:57.542936Z"
    }
   },
   "outputs": [
    {
     "data": {
      "text/plain": [
       "(143, 30)"
      ]
     },
     "execution_count": 347,
     "metadata": {},
     "output_type": "execute_result"
    }
   ],
   "source": [
    "test_scaled.shape"
   ]
  },
  {
   "cell_type": "code",
   "execution_count": 348,
   "id": "efc94384",
   "metadata": {
    "ExecuteTime": {
     "end_time": "2023-10-25T05:31:58.687248Z",
     "start_time": "2023-10-25T05:31:58.673338Z"
    }
   },
   "outputs": [
    {
     "data": {
      "text/plain": [
       "array([[0.031, 0.969],\n",
       "       [1.   , 0.   ],\n",
       "       [0.441, 0.559],\n",
       "       [0.06 , 0.94 ],\n",
       "       [0.824, 0.176]])"
      ]
     },
     "execution_count": 348,
     "metadata": {},
     "output_type": "execute_result"
    }
   ],
   "source": [
    "proba = lr.predict_proba(test_scaled[:5])\n",
    "np.round(proba , 3)"
   ]
  },
  {
   "cell_type": "code",
   "execution_count": 349,
   "id": "3380daab",
   "metadata": {
    "ExecuteTime": {
     "end_time": "2023-10-25T05:32:00.841106Z",
     "start_time": "2023-10-25T05:32:00.539391Z"
    }
   },
   "outputs": [],
   "source": [
    "train_score = []\n",
    "test_score = []\n",
    "for i in range(1,30):\n",
    "    lr = LogisticRegression(C = i)\n",
    "    lr.fit(train_scaled , train_target)\n",
    "    train_score.append(lr.score(train_scaled , train_target))\n",
    "    test_score.append(lr.score(test_scaled , test_target))"
   ]
  },
  {
   "cell_type": "code",
   "execution_count": 350,
   "id": "c31f6495",
   "metadata": {
    "ExecuteTime": {
     "end_time": "2023-10-25T05:32:00.992326Z",
     "start_time": "2023-10-25T05:32:00.841106Z"
    }
   },
   "outputs": [
    {
     "data": {
      "text/plain": [
       "[<matplotlib.lines.Line2D at 0x2bc8629d550>]"
      ]
     },
     "execution_count": 350,
     "metadata": {},
     "output_type": "execute_result"
    },
    {
     "data": {
      "image/png": "[encoded data removed]",
      "text/plain": [
       "<Figure size 640x480 with 1 Axes>"
      ]
     },
     "metadata": {},
     "output_type": "display_data"
    }
   ],
   "source": [
    "plt.plot(train_score)\n",
    "plt.plot(test_score)"
   ]
  },
  {
   "cell_type": "code",
   "execution_count": 351,
   "id": "e8b8abd9",
   "metadata": {
    "ExecuteTime": {
     "end_time": "2023-10-25T05:32:01.025554Z",
     "start_time": "2023-10-25T05:32:00.993064Z"
    }
   },
   "outputs": [
    {
     "data": {
      "text/html": [
       "<div>\n",
       "<style scoped>\n",
       "    .dataframe tbody tr th:only-of-type {\n",
       "        vertical-align: middle;\n",
       "    }\n",
       "\n",
       "    .dataframe tbody tr th {\n",
       "        vertical-align: top;\n",
       "    }\n",
       "\n",
       "    .dataframe thead th {\n",
       "        text-align: right;\n",
       "    }\n",
       "</style>\n",
       "<table border=\"1\" class=\"dataframe\">\n",
       "  <thead>\n",
       "    <tr style=\"text-align: right;\">\n",
       "      <th></th>\n",
       "      <th>mean radius</th>\n",
       "      <th>mean texture</th>\n",
       "      <th>mean perimeter</th>\n",
       "      <th>mean area</th>\n",
       "      <th>mean smoothness</th>\n",
       "      <th>mean compactness</th>\n",
       "      <th>mean concavity</th>\n",
       "      <th>mean concave points</th>\n",
       "      <th>mean symmetry</th>\n",
       "      <th>mean fractal dimension</th>\n",
       "      <th>...</th>\n",
       "      <th>worst radius</th>\n",
       "      <th>worst texture</th>\n",
       "      <th>worst perimeter</th>\n",
       "      <th>worst area</th>\n",
       "      <th>worst smoothness</th>\n",
       "      <th>worst compactness</th>\n",
       "      <th>worst concavity</th>\n",
       "      <th>worst concave points</th>\n",
       "      <th>worst symmetry</th>\n",
       "      <th>worst fractal dimension</th>\n",
       "    </tr>\n",
       "  </thead>\n",
       "  <tbody>\n",
       "    <tr>\n",
       "      <th>0</th>\n",
       "      <td>17.99</td>\n",
       "      <td>10.38</td>\n",
       "      <td>122.80</td>\n",
       "      <td>1001.0</td>\n",
       "      <td>0.11840</td>\n",
       "      <td>0.27760</td>\n",
       "      <td>0.30010</td>\n",
       "      <td>0.14710</td>\n",
       "      <td>0.2419</td>\n",
       "      <td>0.07871</td>\n",
       "      <td>...</td>\n",
       "      <td>25.380</td>\n",
       "      <td>17.33</td>\n",
       "      <td>184.60</td>\n",
       "      <td>2019.0</td>\n",
       "      <td>0.16220</td>\n",
       "      <td>0.66560</td>\n",
       "      <td>0.7119</td>\n",
       "      <td>0.2654</td>\n",
       "      <td>0.4601</td>\n",
       "      <td>0.11890</td>\n",
       "    </tr>\n",
       "    <tr>\n",
       "      <th>1</th>\n",
       "      <td>20.57</td>\n",
       "      <td>17.77</td>\n",
       "      <td>132.90</td>\n",
       "      <td>1326.0</td>\n",
       "      <td>0.08474</td>\n",
       "      <td>0.07864</td>\n",
       "      <td>0.08690</td>\n",
       "      <td>0.07017</td>\n",
       "      <td>0.1812</td>\n",
       "      <td>0.05667</td>\n",
       "      <td>...</td>\n",
       "      <td>24.990</td>\n",
       "      <td>23.41</td>\n",
       "      <td>158.80</td>\n",
       "      <td>1956.0</td>\n",
       "      <td>0.12380</td>\n",
       "      <td>0.18660</td>\n",
       "      <td>0.2416</td>\n",
       "      <td>0.1860</td>\n",
       "      <td>0.2750</td>\n",
       "      <td>0.08902</td>\n",
       "    </tr>\n",
       "    <tr>\n",
       "      <th>2</th>\n",
       "      <td>19.69</td>\n",
       "      <td>21.25</td>\n",
       "      <td>130.00</td>\n",
       "      <td>1203.0</td>\n",
       "      <td>0.10960</td>\n",
       "      <td>0.15990</td>\n",
       "      <td>0.19740</td>\n",
       "      <td>0.12790</td>\n",
       "      <td>0.2069</td>\n",
       "      <td>0.05999</td>\n",
       "      <td>...</td>\n",
       "      <td>23.570</td>\n",
       "      <td>25.53</td>\n",
       "      <td>152.50</td>\n",
       "      <td>1709.0</td>\n",
       "      <td>0.14440</td>\n",
       "      <td>0.42450</td>\n",
       "      <td>0.4504</td>\n",
       "      <td>0.2430</td>\n",
       "      <td>0.3613</td>\n",
       "      <td>0.08758</td>\n",
       "    </tr>\n",
       "    <tr>\n",
       "      <th>3</th>\n",
       "      <td>11.42</td>\n",
       "      <td>20.38</td>\n",
       "      <td>77.58</td>\n",
       "      <td>386.1</td>\n",
       "      <td>0.14250</td>\n",
       "      <td>0.28390</td>\n",
       "      <td>0.24140</td>\n",
       "      <td>0.10520</td>\n",
       "      <td>0.2597</td>\n",
       "      <td>0.09744</td>\n",
       "      <td>...</td>\n",
       "      <td>14.910</td>\n",
       "      <td>26.50</td>\n",
       "      <td>98.87</td>\n",
       "      <td>567.7</td>\n",
       "      <td>0.20980</td>\n",
       "      <td>0.86630</td>\n",
       "      <td>0.6869</td>\n",
       "      <td>0.2575</td>\n",
       "      <td>0.6638</td>\n",
       "      <td>0.17300</td>\n",
       "    </tr>\n",
       "    <tr>\n",
       "      <th>4</th>\n",
       "      <td>20.29</td>\n",
       "      <td>14.34</td>\n",
       "      <td>135.10</td>\n",
       "      <td>1297.0</td>\n",
       "      <td>0.10030</td>\n",
       "      <td>0.13280</td>\n",
       "      <td>0.19800</td>\n",
       "      <td>0.10430</td>\n",
       "      <td>0.1809</td>\n",
       "      <td>0.05883</td>\n",
       "      <td>...</td>\n",
       "      <td>22.540</td>\n",
       "      <td>16.67</td>\n",
       "      <td>152.20</td>\n",
       "      <td>1575.0</td>\n",
       "      <td>0.13740</td>\n",
       "      <td>0.20500</td>\n",
       "      <td>0.4000</td>\n",
       "      <td>0.1625</td>\n",
       "      <td>0.2364</td>\n",
       "      <td>0.07678</td>\n",
       "    </tr>\n",
       "    <tr>\n",
       "      <th>...</th>\n",
       "      <td>...</td>\n",
       "      <td>...</td>\n",
       "      <td>...</td>\n",
       "      <td>...</td>\n",
       "      <td>...</td>\n",
       "      <td>...</td>\n",
       "      <td>...</td>\n",
       "      <td>...</td>\n",
       "      <td>...</td>\n",
       "      <td>...</td>\n",
       "      <td>...</td>\n",
       "      <td>...</td>\n",
       "      <td>...</td>\n",
       "      <td>...</td>\n",
       "      <td>...</td>\n",
       "      <td>...</td>\n",
       "      <td>...</td>\n",
       "      <td>...</td>\n",
       "      <td>...</td>\n",
       "      <td>...</td>\n",
       "      <td>...</td>\n",
       "    </tr>\n",
       "    <tr>\n",
       "      <th>564</th>\n",
       "      <td>21.56</td>\n",
       "      <td>22.39</td>\n",
       "      <td>142.00</td>\n",
       "      <td>1479.0</td>\n",
       "      <td>0.11100</td>\n",
       "      <td>0.11590</td>\n",
       "      <td>0.24390</td>\n",
       "      <td>0.13890</td>\n",
       "      <td>0.1726</td>\n",
       "      <td>0.05623</td>\n",
       "      <td>...</td>\n",
       "      <td>25.450</td>\n",
       "      <td>26.40</td>\n",
       "      <td>166.10</td>\n",
       "      <td>2027.0</td>\n",
       "      <td>0.14100</td>\n",
       "      <td>0.21130</td>\n",
       "      <td>0.4107</td>\n",
       "      <td>0.2216</td>\n",
       "      <td>0.2060</td>\n",
       "      <td>0.07115</td>\n",
       "    </tr>\n",
       "    <tr>\n",
       "      <th>565</th>\n",
       "      <td>20.13</td>\n",
       "      <td>28.25</td>\n",
       "      <td>131.20</td>\n",
       "      <td>1261.0</td>\n",
       "      <td>0.09780</td>\n",
       "      <td>0.10340</td>\n",
       "      <td>0.14400</td>\n",
       "      <td>0.09791</td>\n",
       "      <td>0.1752</td>\n",
       "      <td>0.05533</td>\n",
       "      <td>...</td>\n",
       "      <td>23.690</td>\n",
       "      <td>38.25</td>\n",
       "      <td>155.00</td>\n",
       "      <td>1731.0</td>\n",
       "      <td>0.11660</td>\n",
       "      <td>0.19220</td>\n",
       "      <td>0.3215</td>\n",
       "      <td>0.1628</td>\n",
       "      <td>0.2572</td>\n",
       "      <td>0.06637</td>\n",
       "    </tr>\n",
       "    <tr>\n",
       "      <th>566</th>\n",
       "      <td>16.60</td>\n",
       "      <td>28.08</td>\n",
       "      <td>108.30</td>\n",
       "      <td>858.1</td>\n",
       "      <td>0.08455</td>\n",
       "      <td>0.10230</td>\n",
       "      <td>0.09251</td>\n",
       "      <td>0.05302</td>\n",
       "      <td>0.1590</td>\n",
       "      <td>0.05648</td>\n",
       "      <td>...</td>\n",
       "      <td>18.980</td>\n",
       "      <td>34.12</td>\n",
       "      <td>126.70</td>\n",
       "      <td>1124.0</td>\n",
       "      <td>0.11390</td>\n",
       "      <td>0.30940</td>\n",
       "      <td>0.3403</td>\n",
       "      <td>0.1418</td>\n",
       "      <td>0.2218</td>\n",
       "      <td>0.07820</td>\n",
       "    </tr>\n",
       "    <tr>\n",
       "      <th>567</th>\n",
       "      <td>20.60</td>\n",
       "      <td>29.33</td>\n",
       "      <td>140.10</td>\n",
       "      <td>1265.0</td>\n",
       "      <td>0.11780</td>\n",
       "      <td>0.27700</td>\n",
       "      <td>0.35140</td>\n",
       "      <td>0.15200</td>\n",
       "      <td>0.2397</td>\n",
       "      <td>0.07016</td>\n",
       "      <td>...</td>\n",
       "      <td>25.740</td>\n",
       "      <td>39.42</td>\n",
       "      <td>184.60</td>\n",
       "      <td>1821.0</td>\n",
       "      <td>0.16500</td>\n",
       "      <td>0.86810</td>\n",
       "      <td>0.9387</td>\n",
       "      <td>0.2650</td>\n",
       "      <td>0.4087</td>\n",
       "      <td>0.12400</td>\n",
       "    </tr>\n",
       "    <tr>\n",
       "      <th>568</th>\n",
       "      <td>7.76</td>\n",
       "      <td>24.54</td>\n",
       "      <td>47.92</td>\n",
       "      <td>181.0</td>\n",
       "      <td>0.05263</td>\n",
       "      <td>0.04362</td>\n",
       "      <td>0.00000</td>\n",
       "      <td>0.00000</td>\n",
       "      <td>0.1587</td>\n",
       "      <td>0.05884</td>\n",
       "      <td>...</td>\n",
       "      <td>9.456</td>\n",
       "      <td>30.37</td>\n",
       "      <td>59.16</td>\n",
       "      <td>268.6</td>\n",
       "      <td>0.08996</td>\n",
       "      <td>0.06444</td>\n",
       "      <td>0.0000</td>\n",
       "      <td>0.0000</td>\n",
       "      <td>0.2871</td>\n",
       "      <td>0.07039</td>\n",
       "    </tr>\n",
       "  </tbody>\n",
       "</table>\n",
       "<p>569 rows × 30 columns</p>\n",
       "</div>"
      ],
      "text/plain": [
       "     mean radius  mean texture  mean perimeter  mean area  mean smoothness  \\\n",
       "0          17.99         10.38          122.80     1001.0          0.11840   \n",
       "1          20.57         17.77          132.90     1326.0          0.08474   \n",
       "2          19.69         21.25          130.00     1203.0          0.10960   \n",
       "3          11.42         20.38           77.58      386.1          0.14250   \n",
       "4          20.29         14.34          135.10     1297.0          0.10030   \n",
       "..           ...           ...             ...        ...              ...   \n",
       "564        21.56         22.39          142.00     1479.0          0.11100   \n",
       "565        20.13         28.25          131.20     1261.0          0.09780   \n",
       "566        16.60         28.08          108.30      858.1          0.08455   \n",
       "567        20.60         29.33          140.10     1265.0          0.11780   \n",
       "568         7.76         24.54           47.92      181.0          0.05263   \n",
       "\n",
       "     mean compactness  mean concavity  mean concave points  mean symmetry  \\\n",
       "0             0.27760         0.30010              0.14710         0.2419   \n",
       "1             0.07864         0.08690              0.07017         0.1812   \n",
       "2             0.15990         0.19740              0.12790         0.2069   \n",
       "3             0.28390         0.24140              0.10520         0.2597   \n",
       "4             0.13280         0.19800              0.10430         0.1809   \n",
       "..                ...             ...                  ...            ...   \n",
       "564           0.11590         0.24390              0.13890         0.1726   \n",
       "565           0.10340         0.14400              0.09791         0.1752   \n",
       "566           0.10230         0.09251              0.05302         0.1590   \n",
       "567           0.27700         0.35140              0.15200         0.2397   \n",
       "568           0.04362         0.00000              0.00000         0.1587   \n",
       "\n",
       "     mean fractal dimension  ...  worst radius  worst texture  \\\n",
       "0                   0.07871  ...        25.380          17.33   \n",
       "1                   0.05667  ...        24.990          23.41   \n",
       "2                   0.05999  ...        23.570          25.53   \n",
       "3                   0.09744  ...        14.910          26.50   \n",
       "4                   0.05883  ...        22.540          16.67   \n",
       "..                      ...  ...           ...            ...   \n",
       "564                 0.05623  ...        25.450          26.40   \n",
       "565                 0.05533  ...        23.690          38.25   \n",
       "566                 0.05648  ...        18.980          34.12   \n",
       "567                 0.07016  ...        25.740          39.42   \n",
       "568                 0.05884  ...         9.456          30.37   \n",
       "\n",
       "     worst perimeter  worst area  worst smoothness  worst compactness  \\\n",
       "0             184.60      2019.0           0.16220            0.66560   \n",
       "1             158.80      1956.0           0.12380            0.18660   \n",
       "2             152.50      1709.0           0.14440            0.42450   \n",
       "3              98.87       567.7           0.20980            0.86630   \n",
       "4             152.20      1575.0           0.13740            0.20500   \n",
       "..               ...         ...               ...                ...   \n",
       "564           166.10      2027.0           0.14100            0.21130   \n",
       "565           155.00      1731.0           0.11660            0.19220   \n",
       "566           126.70      1124.0           0.11390            0.30940   \n",
       "567           184.60      1821.0           0.16500            0.86810   \n",
       "568            59.16       268.6           0.08996            0.06444   \n",
       "\n",
       "     worst concavity  worst concave points  worst symmetry  \\\n",
       "0             0.7119                0.2654          0.4601   \n",
       "1             0.2416                0.1860          0.2750   \n",
       "2             0.4504                0.2430          0.3613   \n",
       "3             0.6869                0.2575          0.6638   \n",
       "4             0.4000                0.1625          0.2364   \n",
       "..               ...                   ...             ...   \n",
       "564           0.4107                0.2216          0.2060   \n",
       "565           0.3215                0.1628          0.2572   \n",
       "566           0.3403                0.1418          0.2218   \n",
       "567           0.9387                0.2650          0.4087   \n",
       "568           0.0000                0.0000          0.2871   \n",
       "\n",
       "     worst fractal dimension  \n",
       "0                    0.11890  \n",
       "1                    0.08902  \n",
       "2                    0.08758  \n",
       "3                    0.17300  \n",
       "4                    0.07678  \n",
       "..                       ...  \n",
       "564                  0.07115  \n",
       "565                  0.06637  \n",
       "566                  0.07820  \n",
       "567                  0.12400  \n",
       "568                  0.07039  \n",
       "\n",
       "[569 rows x 30 columns]"
      ]
     },
     "execution_count": 351,
     "metadata": {},
     "output_type": "execute_result"
    }
   ],
   "source": [
    "pd.DataFrame(cancer.data , columns = cancer.feature_names)"
   ]
  },
  {
   "cell_type": "code",
   "execution_count": 352,
   "id": "0f895ee2",
   "metadata": {
    "ExecuteTime": {
     "end_time": "2023-10-25T05:32:02.868719Z",
     "start_time": "2023-10-25T05:32:02.855845Z"
    }
   },
   "outputs": [
    {
     "data": {
      "text/plain": [
       "array(['mean radius', 'mean texture', 'mean perimeter', 'mean area',\n",
       "       'mean smoothness', 'mean compactness', 'mean concavity',\n",
       "       'mean concave points', 'mean symmetry', 'mean fractal dimension'],\n",
       "      dtype='<U23')"
      ]
     },
     "execution_count": 352,
     "metadata": {},
     "output_type": "execute_result"
    }
   ],
   "source": [
    "cancer.feature_names[:10]"
   ]
  },
  {
   "cell_type": "code",
   "execution_count": 353,
   "id": "7953cbef",
   "metadata": {
    "ExecuteTime": {
     "end_time": "2023-10-25T05:32:06.435465Z",
     "start_time": "2023-10-25T05:32:06.421456Z"
    }
   },
   "outputs": [
    {
     "data": {
      "text/plain": [
       "array([[1.799e+01, 1.038e+01, 1.228e+02, ..., 1.471e-01, 2.419e-01,\n",
       "        7.871e-02],\n",
       "       [2.057e+01, 1.777e+01, 1.329e+02, ..., 7.017e-02, 1.812e-01,\n",
       "        5.667e-02],\n",
       "       [1.969e+01, 2.125e+01, 1.300e+02, ..., 1.279e-01, 2.069e-01,\n",
       "        5.999e-02],\n",
       "       ...,\n",
       "       [1.660e+01, 2.808e+01, 1.083e+02, ..., 5.302e-02, 1.590e-01,\n",
       "        5.648e-02],\n",
       "       [2.060e+01, 2.933e+01, 1.401e+02, ..., 1.520e-01, 2.397e-01,\n",
       "        7.016e-02],\n",
       "       [7.760e+00, 2.454e+01, 4.792e+01, ..., 0.000e+00, 1.587e-01,\n",
       "        5.884e-02]])"
      ]
     },
     "execution_count": 353,
     "metadata": {},
     "output_type": "execute_result"
    }
   ],
   "source": [
    "cancer.data[:,:10]"
   ]
  },
  {
   "cell_type": "code",
   "execution_count": 315,
   "id": "a937f0b0",
   "metadata": {
    "ExecuteTime": {
     "end_time": "2023-10-25T05:31:15.300919Z",
     "start_time": "2023-10-25T05:31:15.292919Z"
    }
   },
   "outputs": [],
   "source": [
    "train_input , test_input , train_target , test_target = train_test_split(cancer.data[:,:10], cancer.target , stratify = cancer.target , random_state = 42)"
   ]
  },
  {
   "cell_type": "code",
   "execution_count": 316,
   "id": "b8a4bdb0",
   "metadata": {
    "ExecuteTime": {
     "end_time": "2023-10-25T05:31:15.333444Z",
     "start_time": "2023-10-25T05:31:15.326371Z"
    }
   },
   "outputs": [
    {
     "data": {
      "text/html": [
       "<style>#sk-container-id-44 {color: black;}#sk-container-id-44 pre{padding: 0;}#sk-container-id-44 div.sk-toggleable {background-color: white;}#sk-container-id-44 label.sk-toggleable__label {cursor: pointer;display: block;width: 100%;margin-bottom: 0;padding: 0.3em;box-sizing: border-box;text-align: center;}#sk-container-id-44 label.sk-toggleable__label-arrow:before {content: \"▸\";float: left;margin-right: 0.25em;color: #696969;}#sk-container-id-44 label.sk-toggleable__label-arrow:hover:before {color: black;}#sk-container-id-44 div.sk-estimator:hover label.sk-toggleable__label-arrow:before {color: black;}#sk-container-id-44 div.sk-toggleable__content {max-height: 0;max-width: 0;overflow: hidden;text-align: left;background-color: #f0f8ff;}#sk-container-id-44 div.sk-toggleable__content pre {margin: 0.2em;color: black;border-radius: 0.25em;background-color: #f0f8ff;}#sk-container-id-44 input.sk-toggleable__control:checked~div.sk-toggleable__content {max-height: 200px;max-width: 100%;overflow: auto;}#sk-container-id-44 input.sk-toggleable__control:checked~label.sk-toggleable__label-arrow:before {content: \"▾\";}#sk-container-id-44 div.sk-estimator input.sk-toggleable__control:checked~label.sk-toggleable__label {background-color: #d4ebff;}#sk-container-id-44 div.sk-label input.sk-toggleable__control:checked~label.sk-toggleable__label {background-color: #d4ebff;}#sk-container-id-44 input.sk-hidden--visually {border: 0;clip: rect(1px 1px 1px 1px);clip: rect(1px, 1px, 1px, 1px);height: 1px;margin: -1px;overflow: hidden;padding: 0;position: absolute;width: 1px;}#sk-container-id-44 div.sk-estimator {font-family: monospace;background-color: #f0f8ff;border: 1px dotted black;border-radius: 0.25em;box-sizing: border-box;margin-bottom: 0.5em;}#sk-container-id-44 div.sk-estimator:hover {background-color: #d4ebff;}#sk-container-id-44 div.sk-parallel-item::after {content: \"\";width: 100%;border-bottom: 1px solid gray;flex-grow: 1;}#sk-container-id-44 div.sk-label:hover label.sk-toggleable__label {background-color: #d4ebff;}#sk-container-id-44 div.sk-serial::before {content: \"\";position: absolute;border-left: 1px solid gray;box-sizing: border-box;top: 0;bottom: 0;left: 50%;z-index: 0;}#sk-container-id-44 div.sk-serial {display: flex;flex-direction: column;align-items: center;background-color: white;padding-right: 0.2em;padding-left: 0.2em;position: relative;}#sk-container-id-44 div.sk-item {position: relative;z-index: 1;}#sk-container-id-44 div.sk-parallel {display: flex;align-items: stretch;justify-content: center;background-color: white;position: relative;}#sk-container-id-44 div.sk-item::before, #sk-container-id-44 div.sk-parallel-item::before {content: \"\";position: absolute;border-left: 1px solid gray;box-sizing: border-box;top: 0;bottom: 0;left: 50%;z-index: -1;}#sk-container-id-44 div.sk-parallel-item {display: flex;flex-direction: column;z-index: 1;position: relative;background-color: white;}#sk-container-id-44 div.sk-parallel-item:first-child::after {align-self: flex-end;width: 50%;}#sk-container-id-44 div.sk-parallel-item:last-child::after {align-self: flex-start;width: 50%;}#sk-container-id-44 div.sk-parallel-item:only-child::after {width: 0;}#sk-container-id-44 div.sk-dashed-wrapped {border: 1px dashed gray;margin: 0 0.4em 0.5em 0.4em;box-sizing: border-box;padding-bottom: 0.4em;background-color: white;}#sk-container-id-44 div.sk-label label {font-family: monospace;font-weight: bold;display: inline-block;line-height: 1.2em;}#sk-container-id-44 div.sk-label-container {text-align: center;}#sk-container-id-44 div.sk-container {/* jupyter's `normalize.less` sets `[hidden] { display: none; }` but bootstrap.min.css set `[hidden] { display: none !important; }` so we also need the `!important` here to be able to override the default hidden behavior on the sphinx rendered scikit-learn.org. See: https://github.com/scikit-learn/scikit-learn/issues/21755 */display: inline-block !important;position: relative;}#sk-container-id-44 div.sk-text-repr-fallback {display: none;}</style><div id=\"sk-container-id-44\" class=\"sk-top-container\"><div class=\"sk-text-repr-fallback\"><pre>StandardScaler()</pre><b>In a Jupyter environment, please rerun this cell to show the HTML representation or trust the notebook. <br />On GitHub, the HTML representation is unable to render, please try loading this page with nbviewer.org.</b></div><div class=\"sk-container\" hidden><div class=\"sk-item\"><div class=\"sk-estimator sk-toggleable\"><input class=\"sk-toggleable__control sk-hidden--visually\" id=\"sk-estimator-id-44\" type=\"checkbox\" checked><label for=\"sk-estimator-id-44\" class=\"sk-toggleable__label sk-toggleable__label-arrow\">StandardScaler</label><div class=\"sk-toggleable__content\"><pre>StandardScaler()</pre></div></div></div></div></div>"
      ],
      "text/plain": [
       "StandardScaler()"
      ]
     },
     "execution_count": 316,
     "metadata": {},
     "output_type": "execute_result"
    }
   ],
   "source": [
    "from sklearn.preprocessing import StandardScaler\n",
    "ss = StandardScaler()\n",
    "ss.fit(train_input)"
   ]
  },
  {
   "cell_type": "code",
   "execution_count": 317,
   "id": "a2c01762",
   "metadata": {
    "ExecuteTime": {
     "end_time": "2023-10-25T05:31:15.369312Z",
     "start_time": "2023-10-25T05:31:15.353690Z"
    }
   },
   "outputs": [],
   "source": [
    "train_scaled = ss.transform(train_input)\n",
    "test_scaled = ss.transform(test_input)"
   ]
  },
  {
   "cell_type": "code",
   "execution_count": 318,
   "id": "b60194c6",
   "metadata": {
    "ExecuteTime": {
     "end_time": "2023-10-25T05:31:15.422127Z",
     "start_time": "2023-10-25T05:31:15.379334Z"
    }
   },
   "outputs": [
    {
     "data": {
      "text/html": [
       "<style>#sk-container-id-45 {color: black;}#sk-container-id-45 pre{padding: 0;}#sk-container-id-45 div.sk-toggleable {background-color: white;}#sk-container-id-45 label.sk-toggleable__label {cursor: pointer;display: block;width: 100%;margin-bottom: 0;padding: 0.3em;box-sizing: border-box;text-align: center;}#sk-container-id-45 label.sk-toggleable__label-arrow:before {content: \"▸\";float: left;margin-right: 0.25em;color: #696969;}#sk-container-id-45 label.sk-toggleable__label-arrow:hover:before {color: black;}#sk-container-id-45 div.sk-estimator:hover label.sk-toggleable__label-arrow:before {color: black;}#sk-container-id-45 div.sk-toggleable__content {max-height: 0;max-width: 0;overflow: hidden;text-align: left;background-color: #f0f8ff;}#sk-container-id-45 div.sk-toggleable__content pre {margin: 0.2em;color: black;border-radius: 0.25em;background-color: #f0f8ff;}#sk-container-id-45 input.sk-toggleable__control:checked~div.sk-toggleable__content {max-height: 200px;max-width: 100%;overflow: auto;}#sk-container-id-45 input.sk-toggleable__control:checked~label.sk-toggleable__label-arrow:before {content: \"▾\";}#sk-container-id-45 div.sk-estimator input.sk-toggleable__control:checked~label.sk-toggleable__label {background-color: #d4ebff;}#sk-container-id-45 div.sk-label input.sk-toggleable__control:checked~label.sk-toggleable__label {background-color: #d4ebff;}#sk-container-id-45 input.sk-hidden--visually {border: 0;clip: rect(1px 1px 1px 1px);clip: rect(1px, 1px, 1px, 1px);height: 1px;margin: -1px;overflow: hidden;padding: 0;position: absolute;width: 1px;}#sk-container-id-45 div.sk-estimator {font-family: monospace;background-color: #f0f8ff;border: 1px dotted black;border-radius: 0.25em;box-sizing: border-box;margin-bottom: 0.5em;}#sk-container-id-45 div.sk-estimator:hover {background-color: #d4ebff;}#sk-container-id-45 div.sk-parallel-item::after {content: \"\";width: 100%;border-bottom: 1px solid gray;flex-grow: 1;}#sk-container-id-45 div.sk-label:hover label.sk-toggleable__label {background-color: #d4ebff;}#sk-container-id-45 div.sk-serial::before {content: \"\";position: absolute;border-left: 1px solid gray;box-sizing: border-box;top: 0;bottom: 0;left: 50%;z-index: 0;}#sk-container-id-45 div.sk-serial {display: flex;flex-direction: column;align-items: center;background-color: white;padding-right: 0.2em;padding-left: 0.2em;position: relative;}#sk-container-id-45 div.sk-item {position: relative;z-index: 1;}#sk-container-id-45 div.sk-parallel {display: flex;align-items: stretch;justify-content: center;background-color: white;position: relative;}#sk-container-id-45 div.sk-item::before, #sk-container-id-45 div.sk-parallel-item::before {content: \"\";position: absolute;border-left: 1px solid gray;box-sizing: border-box;top: 0;bottom: 0;left: 50%;z-index: -1;}#sk-container-id-45 div.sk-parallel-item {display: flex;flex-direction: column;z-index: 1;position: relative;background-color: white;}#sk-container-id-45 div.sk-parallel-item:first-child::after {align-self: flex-end;width: 50%;}#sk-container-id-45 div.sk-parallel-item:last-child::after {align-self: flex-start;width: 50%;}#sk-container-id-45 div.sk-parallel-item:only-child::after {width: 0;}#sk-container-id-45 div.sk-dashed-wrapped {border: 1px dashed gray;margin: 0 0.4em 0.5em 0.4em;box-sizing: border-box;padding-bottom: 0.4em;background-color: white;}#sk-container-id-45 div.sk-label label {font-family: monospace;font-weight: bold;display: inline-block;line-height: 1.2em;}#sk-container-id-45 div.sk-label-container {text-align: center;}#sk-container-id-45 div.sk-container {/* jupyter's `normalize.less` sets `[hidden] { display: none; }` but bootstrap.min.css set `[hidden] { display: none !important; }` so we also need the `!important` here to be able to override the default hidden behavior on the sphinx rendered scikit-learn.org. See: https://github.com/scikit-learn/scikit-learn/issues/21755 */display: inline-block !important;position: relative;}#sk-container-id-45 div.sk-text-repr-fallback {display: none;}</style><div id=\"sk-container-id-45\" class=\"sk-top-container\"><div class=\"sk-text-repr-fallback\"><pre>LogisticRegression(C=6)</pre><b>In a Jupyter environment, please rerun this cell to show the HTML representation or trust the notebook. <br />On GitHub, the HTML representation is unable to render, please try loading this page with nbviewer.org.</b></div><div class=\"sk-container\" hidden><div class=\"sk-item\"><div class=\"sk-estimator sk-toggleable\"><input class=\"sk-toggleable__control sk-hidden--visually\" id=\"sk-estimator-id-45\" type=\"checkbox\" checked><label for=\"sk-estimator-id-45\" class=\"sk-toggleable__label sk-toggleable__label-arrow\">LogisticRegression</label><div class=\"sk-toggleable__content\"><pre>LogisticRegression(C=6)</pre></div></div></div></div></div>"
      ],
      "text/plain": [
       "LogisticRegression(C=6)"
      ]
     },
     "execution_count": 318,
     "metadata": {},
     "output_type": "execute_result"
    }
   ],
   "source": [
    "from sklearn.linear_model import LogisticRegression\n",
    "lr = LogisticRegression(C = 6)\n",
    "lr.fit(train_scaled , train_target)"
   ]
  },
  {
   "cell_type": "code",
   "execution_count": 319,
   "id": "ed86c74f",
   "metadata": {
    "ExecuteTime": {
     "end_time": "2023-10-25T05:31:15.439523Z",
     "start_time": "2023-10-25T05:31:15.424901Z"
    }
   },
   "outputs": [
    {
     "name": "stdout",
     "output_type": "stream",
     "text": [
      "0.9530516431924883\n",
      "0.9090909090909091\n"
     ]
    }
   ],
   "source": [
    "print(lr.score(train_scaled , train_target))\n",
    "print(lr.score(test_scaled , test_target))"
   ]
  },
  {
   "cell_type": "code",
   "execution_count": 320,
   "id": "da8ef8d7",
   "metadata": {
    "ExecuteTime": {
     "end_time": "2023-10-25T05:31:15.483754Z",
     "start_time": "2023-10-25T05:31:15.459043Z"
    }
   },
   "outputs": [
    {
     "name": "stdout",
     "output_type": "stream",
     "text": [
      "              precision    recall  f1-score   support\n",
      "\n",
      "           0       0.92      0.84      0.88        58\n",
      "           1       0.90      0.95      0.93        85\n",
      "\n",
      "    accuracy                           0.91       143\n",
      "   macro avg       0.91      0.90      0.90       143\n",
      "weighted avg       0.91      0.91      0.91       143\n",
      "\n"
     ]
    }
   ],
   "source": [
    "result = lr.predict(test_scaled)\n",
    "from sklearn.metrics import classification_report\n",
    "print(classification_report(result , test_target))"
   ]
  },
  {
   "cell_type": "code",
   "execution_count": null,
   "id": "3d8de0e2",
   "metadata": {},
   "outputs": [],
   "source": []
  },
  {
   "cell_type": "code",
   "execution_count": 321,
   "id": "534c80af",
   "metadata": {
    "ExecuteTime": {
     "end_time": "2023-10-25T05:31:15.516402Z",
     "start_time": "2023-10-25T05:31:15.501143Z"
    }
   },
   "outputs": [
    {
     "data": {
      "text/html": [
       "<style>#sk-container-id-46 {color: black;}#sk-container-id-46 pre{padding: 0;}#sk-container-id-46 div.sk-toggleable {background-color: white;}#sk-container-id-46 label.sk-toggleable__label {cursor: pointer;display: block;width: 100%;margin-bottom: 0;padding: 0.3em;box-sizing: border-box;text-align: center;}#sk-container-id-46 label.sk-toggleable__label-arrow:before {content: \"▸\";float: left;margin-right: 0.25em;color: #696969;}#sk-container-id-46 label.sk-toggleable__label-arrow:hover:before {color: black;}#sk-container-id-46 div.sk-estimator:hover label.sk-toggleable__label-arrow:before {color: black;}#sk-container-id-46 div.sk-toggleable__content {max-height: 0;max-width: 0;overflow: hidden;text-align: left;background-color: #f0f8ff;}#sk-container-id-46 div.sk-toggleable__content pre {margin: 0.2em;color: black;border-radius: 0.25em;background-color: #f0f8ff;}#sk-container-id-46 input.sk-toggleable__control:checked~div.sk-toggleable__content {max-height: 200px;max-width: 100%;overflow: auto;}#sk-container-id-46 input.sk-toggleable__control:checked~label.sk-toggleable__label-arrow:before {content: \"▾\";}#sk-container-id-46 div.sk-estimator input.sk-toggleable__control:checked~label.sk-toggleable__label {background-color: #d4ebff;}#sk-container-id-46 div.sk-label input.sk-toggleable__control:checked~label.sk-toggleable__label {background-color: #d4ebff;}#sk-container-id-46 input.sk-hidden--visually {border: 0;clip: rect(1px 1px 1px 1px);clip: rect(1px, 1px, 1px, 1px);height: 1px;margin: -1px;overflow: hidden;padding: 0;position: absolute;width: 1px;}#sk-container-id-46 div.sk-estimator {font-family: monospace;background-color: #f0f8ff;border: 1px dotted black;border-radius: 0.25em;box-sizing: border-box;margin-bottom: 0.5em;}#sk-container-id-46 div.sk-estimator:hover {background-color: #d4ebff;}#sk-container-id-46 div.sk-parallel-item::after {content: \"\";width: 100%;border-bottom: 1px solid gray;flex-grow: 1;}#sk-container-id-46 div.sk-label:hover label.sk-toggleable__label {background-color: #d4ebff;}#sk-container-id-46 div.sk-serial::before {content: \"\";position: absolute;border-left: 1px solid gray;box-sizing: border-box;top: 0;bottom: 0;left: 50%;z-index: 0;}#sk-container-id-46 div.sk-serial {display: flex;flex-direction: column;align-items: center;background-color: white;padding-right: 0.2em;padding-left: 0.2em;position: relative;}#sk-container-id-46 div.sk-item {position: relative;z-index: 1;}#sk-container-id-46 div.sk-parallel {display: flex;align-items: stretch;justify-content: center;background-color: white;position: relative;}#sk-container-id-46 div.sk-item::before, #sk-container-id-46 div.sk-parallel-item::before {content: \"\";position: absolute;border-left: 1px solid gray;box-sizing: border-box;top: 0;bottom: 0;left: 50%;z-index: -1;}#sk-container-id-46 div.sk-parallel-item {display: flex;flex-direction: column;z-index: 1;position: relative;background-color: white;}#sk-container-id-46 div.sk-parallel-item:first-child::after {align-self: flex-end;width: 50%;}#sk-container-id-46 div.sk-parallel-item:last-child::after {align-self: flex-start;width: 50%;}#sk-container-id-46 div.sk-parallel-item:only-child::after {width: 0;}#sk-container-id-46 div.sk-dashed-wrapped {border: 1px dashed gray;margin: 0 0.4em 0.5em 0.4em;box-sizing: border-box;padding-bottom: 0.4em;background-color: white;}#sk-container-id-46 div.sk-label label {font-family: monospace;font-weight: bold;display: inline-block;line-height: 1.2em;}#sk-container-id-46 div.sk-label-container {text-align: center;}#sk-container-id-46 div.sk-container {/* jupyter's `normalize.less` sets `[hidden] { display: none; }` but bootstrap.min.css set `[hidden] { display: none !important; }` so we also need the `!important` here to be able to override the default hidden behavior on the sphinx rendered scikit-learn.org. See: https://github.com/scikit-learn/scikit-learn/issues/21755 */display: inline-block !important;position: relative;}#sk-container-id-46 div.sk-text-repr-fallback {display: none;}</style><div id=\"sk-container-id-46\" class=\"sk-top-container\"><div class=\"sk-text-repr-fallback\"><pre>KNeighborsClassifier()</pre><b>In a Jupyter environment, please rerun this cell to show the HTML representation or trust the notebook. <br />On GitHub, the HTML representation is unable to render, please try loading this page with nbviewer.org.</b></div><div class=\"sk-container\" hidden><div class=\"sk-item\"><div class=\"sk-estimator sk-toggleable\"><input class=\"sk-toggleable__control sk-hidden--visually\" id=\"sk-estimator-id-46\" type=\"checkbox\" checked><label for=\"sk-estimator-id-46\" class=\"sk-toggleable__label sk-toggleable__label-arrow\">KNeighborsClassifier</label><div class=\"sk-toggleable__content\"><pre>KNeighborsClassifier()</pre></div></div></div></div></div>"
      ],
      "text/plain": [
       "KNeighborsClassifier()"
      ]
     },
     "execution_count": 321,
     "metadata": {},
     "output_type": "execute_result"
    }
   ],
   "source": [
    "from sklearn.neighbors import KNeighborsClassifier\n",
    "kn = KNeighborsClassifier()\n",
    "kn.fit(train_scaled , train_target)"
   ]
  },
  {
   "cell_type": "code",
   "execution_count": 322,
   "id": "aad7fe70",
   "metadata": {
    "ExecuteTime": {
     "end_time": "2023-10-25T05:31:15.550047Z",
     "start_time": "2023-10-25T05:31:15.534195Z"
    }
   },
   "outputs": [
    {
     "data": {
      "text/plain": [
       "426"
      ]
     },
     "execution_count": 322,
     "metadata": {},
     "output_type": "execute_result"
    }
   ],
   "source": [
    "len(train_scaled)"
   ]
  },
  {
   "cell_type": "code",
   "execution_count": 323,
   "id": "847bd29a",
   "metadata": {
    "ExecuteTime": {
     "end_time": "2023-10-25T05:31:17.347873Z",
     "start_time": "2023-10-25T05:31:15.564264Z"
    }
   },
   "outputs": [],
   "source": [
    "train_score = []\n",
    "test_score = []\n",
    "for i in range(1,101):\n",
    "    knn = KNeighborsClassifier(n_neighbors = i)\n",
    "    knn.fit(train_scaled , train_target)\n",
    "    train_score.append(knn.score(train_scaled , train_target))\n",
    "    test_score.append(knn.score(test_scaled , test_target))"
   ]
  },
  {
   "cell_type": "code",
   "execution_count": 324,
   "id": "cc888e90",
   "metadata": {
    "ExecuteTime": {
     "end_time": "2023-10-25T05:31:17.474380Z",
     "start_time": "2023-10-25T05:31:17.347873Z"
    }
   },
   "outputs": [
    {
     "data": {
      "text/plain": [
       "[<matplotlib.lines.Line2D at 0x2bc86213940>]"
      ]
     },
     "execution_count": 324,
     "metadata": {},
     "output_type": "execute_result"
    },
    {
     "data": {
      "image/png": "[encoded data removed]",
      "text/plain": [
       "<Figure size 640x480 with 1 Axes>"
      ]
     },
     "metadata": {},
     "output_type": "display_data"
    }
   ],
   "source": [
    "plt.plot(train_score)\n",
    "plt.plot(test_score)"
   ]
  },
  {
   "cell_type": "code",
   "execution_count": 325,
   "id": "7b37a12a",
   "metadata": {
    "ExecuteTime": {
     "end_time": "2023-10-25T05:31:17.480625Z",
     "start_time": "2023-10-25T05:31:17.476520Z"
    }
   },
   "outputs": [
    {
     "name": "stdout",
     "output_type": "stream",
     "text": [
      "22\n"
     ]
    }
   ],
   "source": [
    "for i in range(len(train_score)):\n",
    "    if train_score[i]<test_score[i]:\n",
    "        print(i)\n",
    "        break"
   ]
  },
  {
   "cell_type": "code",
   "execution_count": 326,
   "id": "bc80c75a",
   "metadata": {
    "ExecuteTime": {
     "end_time": "2023-10-25T05:31:17.496629Z",
     "start_time": "2023-10-25T05:31:17.480912Z"
    }
   },
   "outputs": [
    {
     "data": {
      "text/html": [
       "<style>#sk-container-id-47 {color: black;}#sk-container-id-47 pre{padding: 0;}#sk-container-id-47 div.sk-toggleable {background-color: white;}#sk-container-id-47 label.sk-toggleable__label {cursor: pointer;display: block;width: 100%;margin-bottom: 0;padding: 0.3em;box-sizing: border-box;text-align: center;}#sk-container-id-47 label.sk-toggleable__label-arrow:before {content: \"▸\";float: left;margin-right: 0.25em;color: #696969;}#sk-container-id-47 label.sk-toggleable__label-arrow:hover:before {color: black;}#sk-container-id-47 div.sk-estimator:hover label.sk-toggleable__label-arrow:before {color: black;}#sk-container-id-47 div.sk-toggleable__content {max-height: 0;max-width: 0;overflow: hidden;text-align: left;background-color: #f0f8ff;}#sk-container-id-47 div.sk-toggleable__content pre {margin: 0.2em;color: black;border-radius: 0.25em;background-color: #f0f8ff;}#sk-container-id-47 input.sk-toggleable__control:checked~div.sk-toggleable__content {max-height: 200px;max-width: 100%;overflow: auto;}#sk-container-id-47 input.sk-toggleable__control:checked~label.sk-toggleable__label-arrow:before {content: \"▾\";}#sk-container-id-47 div.sk-estimator input.sk-toggleable__control:checked~label.sk-toggleable__label {background-color: #d4ebff;}#sk-container-id-47 div.sk-label input.sk-toggleable__control:checked~label.sk-toggleable__label {background-color: #d4ebff;}#sk-container-id-47 input.sk-hidden--visually {border: 0;clip: rect(1px 1px 1px 1px);clip: rect(1px, 1px, 1px, 1px);height: 1px;margin: -1px;overflow: hidden;padding: 0;position: absolute;width: 1px;}#sk-container-id-47 div.sk-estimator {font-family: monospace;background-color: #f0f8ff;border: 1px dotted black;border-radius: 0.25em;box-sizing: border-box;margin-bottom: 0.5em;}#sk-container-id-47 div.sk-estimator:hover {background-color: #d4ebff;}#sk-container-id-47 div.sk-parallel-item::after {content: \"\";width: 100%;border-bottom: 1px solid gray;flex-grow: 1;}#sk-container-id-47 div.sk-label:hover label.sk-toggleable__label {background-color: #d4ebff;}#sk-container-id-47 div.sk-serial::before {content: \"\";position: absolute;border-left: 1px solid gray;box-sizing: border-box;top: 0;bottom: 0;left: 50%;z-index: 0;}#sk-container-id-47 div.sk-serial {display: flex;flex-direction: column;align-items: center;background-color: white;padding-right: 0.2em;padding-left: 0.2em;position: relative;}#sk-container-id-47 div.sk-item {position: relative;z-index: 1;}#sk-container-id-47 div.sk-parallel {display: flex;align-items: stretch;justify-content: center;background-color: white;position: relative;}#sk-container-id-47 div.sk-item::before, #sk-container-id-47 div.sk-parallel-item::before {content: \"\";position: absolute;border-left: 1px solid gray;box-sizing: border-box;top: 0;bottom: 0;left: 50%;z-index: -1;}#sk-container-id-47 div.sk-parallel-item {display: flex;flex-direction: column;z-index: 1;position: relative;background-color: white;}#sk-container-id-47 div.sk-parallel-item:first-child::after {align-self: flex-end;width: 50%;}#sk-container-id-47 div.sk-parallel-item:last-child::after {align-self: flex-start;width: 50%;}#sk-container-id-47 div.sk-parallel-item:only-child::after {width: 0;}#sk-container-id-47 div.sk-dashed-wrapped {border: 1px dashed gray;margin: 0 0.4em 0.5em 0.4em;box-sizing: border-box;padding-bottom: 0.4em;background-color: white;}#sk-container-id-47 div.sk-label label {font-family: monospace;font-weight: bold;display: inline-block;line-height: 1.2em;}#sk-container-id-47 div.sk-label-container {text-align: center;}#sk-container-id-47 div.sk-container {/* jupyter's `normalize.less` sets `[hidden] { display: none; }` but bootstrap.min.css set `[hidden] { display: none !important; }` so we also need the `!important` here to be able to override the default hidden behavior on the sphinx rendered scikit-learn.org. See: https://github.com/scikit-learn/scikit-learn/issues/21755 */display: inline-block !important;position: relative;}#sk-container-id-47 div.sk-text-repr-fallback {display: none;}</style><div id=\"sk-container-id-47\" class=\"sk-top-container\"><div class=\"sk-text-repr-fallback\"><pre>KNeighborsClassifier(n_neighbors=23)</pre><b>In a Jupyter environment, please rerun this cell to show the HTML representation or trust the notebook. <br />On GitHub, the HTML representation is unable to render, please try loading this page with nbviewer.org.</b></div><div class=\"sk-container\" hidden><div class=\"sk-item\"><div class=\"sk-estimator sk-toggleable\"><input class=\"sk-toggleable__control sk-hidden--visually\" id=\"sk-estimator-id-47\" type=\"checkbox\" checked><label for=\"sk-estimator-id-47\" class=\"sk-toggleable__label sk-toggleable__label-arrow\">KNeighborsClassifier</label><div class=\"sk-toggleable__content\"><pre>KNeighborsClassifier(n_neighbors=23)</pre></div></div></div></div></div>"
      ],
      "text/plain": [
       "KNeighborsClassifier(n_neighbors=23)"
      ]
     },
     "execution_count": 326,
     "metadata": {},
     "output_type": "execute_result"
    }
   ],
   "source": [
    "from sklearn.neighbors import KNeighborsClassifier\n",
    "kn = KNeighborsClassifier(n_neighbors = 23)\n",
    "kn.fit(train_scaled , train_target)"
   ]
  },
  {
   "cell_type": "code",
   "execution_count": 327,
   "id": "9505c68f",
   "metadata": {
    "ExecuteTime": {
     "end_time": "2023-10-25T05:31:17.530501Z",
     "start_time": "2023-10-25T05:31:17.497655Z"
    }
   },
   "outputs": [
    {
     "name": "stdout",
     "output_type": "stream",
     "text": [
      "0.9507042253521126\n",
      "0.951048951048951\n"
     ]
    }
   ],
   "source": [
    "print(kn.score(train_scaled , train_target))\n",
    "print(kn.score(test_scaled , test_target))"
   ]
  },
  {
   "cell_type": "code",
   "execution_count": 328,
   "id": "833a0487",
   "metadata": {
    "ExecuteTime": {
     "end_time": "2023-10-25T05:31:17.545496Z",
     "start_time": "2023-10-25T05:31:17.530501Z"
    }
   },
   "outputs": [],
   "source": [
    "from sklearn.datasets import load_iris\n",
    "iris = load_iris()"
   ]
  },
  {
   "cell_type": "code",
   "execution_count": 329,
   "id": "515ed881",
   "metadata": {
    "ExecuteTime": {
     "end_time": "2023-10-25T05:31:17.561296Z",
     "start_time": "2023-10-25T05:31:17.545685Z"
    }
   },
   "outputs": [
    {
     "data": {
      "text/plain": [
       "{'data': array([[5.1, 3.5, 1.4, 0.2],\n",
       "        [4.9, 3. , 1.4, 0.2],\n",
       "        [4.7, 3.2, 1.3, 0.2],\n",
       "        [4.6, 3.1, 1.5, 0.2],\n",
       "        [5. , 3.6, 1.4, 0.2],\n",
       "        [5.4, 3.9, 1.7, 0.4],\n",
       "        [4.6, 3.4, 1.4, 0.3],\n",
       "        [5. , 3.4, 1.5, 0.2],\n",
       "        [4.4, 2.9, 1.4, 0.2],\n",
       "        [4.9, 3.1, 1.5, 0.1],\n",
       "        [5.4, 3.7, 1.5, 0.2],\n",
       "        [4.8, 3.4, 1.6, 0.2],\n",
       "        [4.8, 3. , 1.4, 0.1],\n",
       "        [4.3, 3. , 1.1, 0.1],\n",
       "        [5.8, 4. , 1.2, 0.2],\n",
       "        [5.7, 4.4, 1.5, 0.4],\n",
       "        [5.4, 3.9, 1.3, 0.4],\n",
       "        [5.1, 3.5, 1.4, 0.3],\n",
       "        [5.7, 3.8, 1.7, 0.3],\n",
       "        [5.1, 3.8, 1.5, 0.3],\n",
       "        [5.4, 3.4, 1.7, 0.2],\n",
       "        [5.1, 3.7, 1.5, 0.4],\n",
       "        [4.6, 3.6, 1. , 0.2],\n",
       "        [5.1, 3.3, 1.7, 0.5],\n",
       "        [4.8, 3.4, 1.9, 0.2],\n",
       "        [5. , 3. , 1.6, 0.2],\n",
       "        [5. , 3.4, 1.6, 0.4],\n",
       "        [5.2, 3.5, 1.5, 0.2],\n",
       "        [5.2, 3.4, 1.4, 0.2],\n",
       "        [4.7, 3.2, 1.6, 0.2],\n",
       "        [4.8, 3.1, 1.6, 0.2],\n",
       "        [5.4, 3.4, 1.5, 0.4],\n",
       "        [5.2, 4.1, 1.5, 0.1],\n",
       "        [5.5, 4.2, 1.4, 0.2],\n",
       "        [4.9, 3.1, 1.5, 0.2],\n",
       "        [5. , 3.2, 1.2, 0.2],\n",
       "        [5.5, 3.5, 1.3, 0.2],\n",
       "        [4.9, 3.6, 1.4, 0.1],\n",
       "        [4.4, 3. , 1.3, 0.2],\n",
       "        [5.1, 3.4, 1.5, 0.2],\n",
       "        [5. , 3.5, 1.3, 0.3],\n",
       "        [4.5, 2.3, 1.3, 0.3],\n",
       "        [4.4, 3.2, 1.3, 0.2],\n",
       "        [5. , 3.5, 1.6, 0.6],\n",
       "        [5.1, 3.8, 1.9, 0.4],\n",
       "        [4.8, 3. , 1.4, 0.3],\n",
       "        [5.1, 3.8, 1.6, 0.2],\n",
       "        [4.6, 3.2, 1.4, 0.2],\n",
       "        [5.3, 3.7, 1.5, 0.2],\n",
       "        [5. , 3.3, 1.4, 0.2],\n",
       "        [7. , 3.2, 4.7, 1.4],\n",
       "        [6.4, 3.2, 4.5, 1.5],\n",
       "        [6.9, 3.1, 4.9, 1.5],\n",
       "        [5.5, 2.3, 4. , 1.3],\n",
       "        [6.5, 2.8, 4.6, 1.5],\n",
       "        [5.7, 2.8, 4.5, 1.3],\n",
       "        [6.3, 3.3, 4.7, 1.6],\n",
       "        [4.9, 2.4, 3.3, 1. ],\n",
       "        [6.6, 2.9, 4.6, 1.3],\n",
       "        [5.2, 2.7, 3.9, 1.4],\n",
       "        [5. , 2. , 3.5, 1. ],\n",
       "        [5.9, 3. , 4.2, 1.5],\n",
       "        [6. , 2.2, 4. , 1. ],\n",
       "        [6.1, 2.9, 4.7, 1.4],\n",
       "        [5.6, 2.9, 3.6, 1.3],\n",
       "        [6.7, 3.1, 4.4, 1.4],\n",
       "        [5.6, 3. , 4.5, 1.5],\n",
       "        [5.8, 2.7, 4.1, 1. ],\n",
       "        [6.2, 2.2, 4.5, 1.5],\n",
       "        [5.6, 2.5, 3.9, 1.1],\n",
       "        [5.9, 3.2, 4.8, 1.8],\n",
       "        [6.1, 2.8, 4. , 1.3],\n",
       "        [6.3, 2.5, 4.9, 1.5],\n",
       "        [6.1, 2.8, 4.7, 1.2],\n",
       "        [6.4, 2.9, 4.3, 1.3],\n",
       "        [6.6, 3. , 4.4, 1.4],\n",
       "        [6.8, 2.8, 4.8, 1.4],\n",
       "        [6.7, 3. , 5. , 1.7],\n",
       "        [6. , 2.9, 4.5, 1.5],\n",
       "        [5.7, 2.6, 3.5, 1. ],\n",
       "        [5.5, 2.4, 3.8, 1.1],\n",
       "        [5.5, 2.4, 3.7, 1. ],\n",
       "        [5.8, 2.7, 3.9, 1.2],\n",
       "        [6. , 2.7, 5.1, 1.6],\n",
       "        [5.4, 3. , 4.5, 1.5],\n",
       "        [6. , 3.4, 4.5, 1.6],\n",
       "        [6.7, 3.1, 4.7, 1.5],\n",
       "        [6.3, 2.3, 4.4, 1.3],\n",
       "        [5.6, 3. , 4.1, 1.3],\n",
       "        [5.5, 2.5, 4. , 1.3],\n",
       "        [5.5, 2.6, 4.4, 1.2],\n",
       "        [6.1, 3. , 4.6, 1.4],\n",
       "        [5.8, 2.6, 4. , 1.2],\n",
       "        [5. , 2.3, 3.3, 1. ],\n",
       "        [5.6, 2.7, 4.2, 1.3],\n",
       "        [5.7, 3. , 4.2, 1.2],\n",
       "        [5.7, 2.9, 4.2, 1.3],\n",
       "        [6.2, 2.9, 4.3, 1.3],\n",
       "        [5.1, 2.5, 3. , 1.1],\n",
       "        [5.7, 2.8, 4.1, 1.3],\n",
       "        [6.3, 3.3, 6. , 2.5],\n",
       "        [5.8, 2.7, 5.1, 1.9],\n",
       "        [7.1, 3. , 5.9, 2.1],\n",
       "        [6.3, 2.9, 5.6, 1.8],\n",
       "        [6.5, 3. , 5.8, 2.2],\n",
       "        [7.6, 3. , 6.6, 2.1],\n",
       "        [4.9, 2.5, 4.5, 1.7],\n",
       "        [7.3, 2.9, 6.3, 1.8],\n",
       "        [6.7, 2.5, 5.8, 1.8],\n",
       "        [7.2, 3.6, 6.1, 2.5],\n",
       "        [6.5, 3.2, 5.1, 2. ],\n",
       "        [6.4, 2.7, 5.3, 1.9],\n",
       "        [6.8, 3. , 5.5, 2.1],\n",
       "        [5.7, 2.5, 5. , 2. ],\n",
       "        [5.8, 2.8, 5.1, 2.4],\n",
       "        [6.4, 3.2, 5.3, 2.3],\n",
       "        [6.5, 3. , 5.5, 1.8],\n",
       "        [7.7, 3.8, 6.7, 2.2],\n",
       "        [7.7, 2.6, 6.9, 2.3],\n",
       "        [6. , 2.2, 5. , 1.5],\n",
       "        [6.9, 3.2, 5.7, 2.3],\n",
       "        [5.6, 2.8, 4.9, 2. ],\n",
       "        [7.7, 2.8, 6.7, 2. ],\n",
       "        [6.3, 2.7, 4.9, 1.8],\n",
       "        [6.7, 3.3, 5.7, 2.1],\n",
       "        [7.2, 3.2, 6. , 1.8],\n",
       "        [6.2, 2.8, 4.8, 1.8],\n",
       "        [6.1, 3. , 4.9, 1.8],\n",
       "        [6.4, 2.8, 5.6, 2.1],\n",
       "        [7.2, 3. , 5.8, 1.6],\n",
       "        [7.4, 2.8, 6.1, 1.9],\n",
       "        [7.9, 3.8, 6.4, 2. ],\n",
       "        [6.4, 2.8, 5.6, 2.2],\n",
       "        [6.3, 2.8, 5.1, 1.5],\n",
       "        [6.1, 2.6, 5.6, 1.4],\n",
       "        [7.7, 3. , 6.1, 2.3],\n",
       "        [6.3, 3.4, 5.6, 2.4],\n",
       "        [6.4, 3.1, 5.5, 1.8],\n",
       "        [6. , 3. , 4.8, 1.8],\n",
       "        [6.9, 3.1, 5.4, 2.1],\n",
       "        [6.7, 3.1, 5.6, 2.4],\n",
       "        [6.9, 3.1, 5.1, 2.3],\n",
       "        [5.8, 2.7, 5.1, 1.9],\n",
       "        [6.8, 3.2, 5.9, 2.3],\n",
       "        [6.7, 3.3, 5.7, 2.5],\n",
       "        [6.7, 3. , 5.2, 2.3],\n",
       "        [6.3, 2.5, 5. , 1.9],\n",
       "        [6.5, 3. , 5.2, 2. ],\n",
       "        [6.2, 3.4, 5.4, 2.3],\n",
       "        [5.9, 3. , 5.1, 1.8]]),\n",
       " 'target': array([0, 0, 0, 0, 0, 0, 0, 0, 0, 0, 0, 0, 0, 0, 0, 0, 0, 0, 0, 0, 0, 0,\n",
       "        0, 0, 0, 0, 0, 0, 0, 0, 0, 0, 0, 0, 0, 0, 0, 0, 0, 0, 0, 0, 0, 0,\n",
       "        0, 0, 0, 0, 0, 0, 1, 1, 1, 1, 1, 1, 1, 1, 1, 1, 1, 1, 1, 1, 1, 1,\n",
       "        1, 1, 1, 1, 1, 1, 1, 1, 1, 1, 1, 1, 1, 1, 1, 1, 1, 1, 1, 1, 1, 1,\n",
       "        1, 1, 1, 1, 1, 1, 1, 1, 1, 1, 1, 1, 2, 2, 2, 2, 2, 2, 2, 2, 2, 2,\n",
       "        2, 2, 2, 2, 2, 2, 2, 2, 2, 2, 2, 2, 2, 2, 2, 2, 2, 2, 2, 2, 2, 2,\n",
       "        2, 2, 2, 2, 2, 2, 2, 2, 2, 2, 2, 2, 2, 2, 2, 2, 2, 2]),\n",
       " 'frame': None,\n",
       " 'target_names': array(['setosa', 'versicolor', 'virginica'], dtype='<U10'),\n",
       " 'DESCR': '.. _iris_dataset:\\n\\nIris plants dataset\\n--------------------\\n\\n**Data Set Characteristics:**\\n\\n    :Number of Instances: 150 (50 in each of three classes)\\n    :Number of Attributes: 4 numeric, predictive attributes and the class\\n    :Attribute Information:\\n        - sepal length in cm\\n        - sepal width in cm\\n        - petal length in cm\\n        - petal width in cm\\n        - class:\\n                - Iris-Setosa\\n                - Iris-Versicolour\\n                - Iris-Virginica\\n                \\n    :Summary Statistics:\\n\\n    ============== ==== ==== ======= ===== ====================\\n                    Min  Max   Mean    SD   Class Correlation\\n    ============== ==== ==== ======= ===== ====================\\n    sepal length:   4.3  7.9   5.84   0.83    0.7826\\n    sepal width:    2.0  4.4   3.05   0.43   -0.4194\\n    petal length:   1.0  6.9   3.76   1.76    0.9490  (high!)\\n    petal width:    0.1  2.5   1.20   0.76    0.9565  (high!)\\n    ============== ==== ==== ======= ===== ====================\\n\\n    :Missing Attribute Values: None\\n    :Class Distribution: 33.3% for each of 3 classes.\\n    :Creator: R.A. Fisher\\n    :Donor: Michael Marshall (MARSHALL%PLU@io.arc.nasa.gov)\\n    :Date: July, 1988\\n\\nThe famous Iris database, first used by Sir R.A. Fisher. The dataset is taken\\nfrom Fisher\\'s paper. Note that it\\'s the same as in R, but not as in the UCI\\nMachine Learning Repository, which has two wrong data points.\\n\\nThis is perhaps the best known database to be found in the\\npattern recognition literature.  Fisher\\'s paper is a classic in the field and\\nis referenced frequently to this day.  (See Duda & Hart, for example.)  The\\ndata set contains 3 classes of 50 instances each, where each class refers to a\\ntype of iris plant.  One class is linearly separable from the other 2; the\\nlatter are NOT linearly separable from each other.\\n\\n.. topic:: References\\n\\n   - Fisher, R.A. \"The use of multiple measurements in taxonomic problems\"\\n     Annual Eugenics, 7, Part II, 179-188 (1936); also in \"Contributions to\\n     Mathematical Statistics\" (John Wiley, NY, 1950).\\n   - Duda, R.O., & Hart, P.E. (1973) Pattern Classification and Scene Analysis.\\n     (Q327.D83) John Wiley & Sons.  ISBN 0-471-22361-1.  See page 218.\\n   - Dasarathy, B.V. (1980) \"Nosing Around the Neighborhood: A New System\\n     Structure and Classification Rule for Recognition in Partially Exposed\\n     Environments\".  IEEE Transactions on Pattern Analysis and Machine\\n     Intelligence, Vol. PAMI-2, No. 1, 67-71.\\n   - Gates, G.W. (1972) \"The Reduced Nearest Neighbor Rule\".  IEEE Transactions\\n     on Information Theory, May 1972, 431-433.\\n   - See also: 1988 MLC Proceedings, 54-64.  Cheeseman et al\"s AUTOCLASS II\\n     conceptual clustering system finds 3 classes in the data.\\n   - Many, many more ...',\n",
       " 'feature_names': ['sepal length (cm)',\n",
       "  'sepal width (cm)',\n",
       "  'petal length (cm)',\n",
       "  'petal width (cm)'],\n",
       " 'filename': 'iris.csv',\n",
       " 'data_module': 'sklearn.datasets.data'}"
      ]
     },
     "execution_count": 329,
     "metadata": {},
     "output_type": "execute_result"
    }
   ],
   "source": [
    "iris"
   ]
  },
  {
   "cell_type": "code",
   "execution_count": 330,
   "id": "99083282",
   "metadata": {
    "ExecuteTime": {
     "end_time": "2023-10-25T05:31:17.577029Z",
     "start_time": "2023-10-25T05:31:17.561858Z"
    }
   },
   "outputs": [],
   "source": [
    "train_input , test_input , train_target , test_target = train_test_split(iris.data, iris.target , random_state = 42)"
   ]
  },
  {
   "cell_type": "code",
   "execution_count": 331,
   "id": "5962926a",
   "metadata": {
    "ExecuteTime": {
     "end_time": "2023-10-25T05:31:17.596825Z",
     "start_time": "2023-10-25T05:31:17.579031Z"
    }
   },
   "outputs": [
    {
     "name": "stdout",
     "output_type": "stream",
     "text": [
      "0.9642857142857143\n",
      "1.0\n"
     ]
    }
   ],
   "source": [
    "from sklearn.linear_model import LogisticRegression\n",
    "lr = LogisticRegression()\n",
    "lr.fit(train_input , train_target)\n",
    "print(lr.score(train_input , train_target))\n",
    "print(lr.score(test_input , test_target))"
   ]
  },
  {
   "cell_type": "code",
   "execution_count": 332,
   "id": "b0a0705f",
   "metadata": {
    "ExecuteTime": {
     "end_time": "2023-10-25T05:31:17.938982Z",
     "start_time": "2023-10-25T05:31:17.596825Z"
    }
   },
   "outputs": [],
   "source": [
    "train_score = []\n",
    "test_score = []\n",
    "for i in range(1,30):\n",
    "    lr = LogisticRegression(C = i)\n",
    "    lr.fit(train_input , train_target)\n",
    "    train_score.append(lr.score(train_input , train_target))\n",
    "    test_score.append(lr.score(test_input , test_target))"
   ]
  },
  {
   "cell_type": "code",
   "execution_count": 333,
   "id": "cefafb07",
   "metadata": {
    "ExecuteTime": {
     "end_time": "2023-10-25T05:31:18.062382Z",
     "start_time": "2023-10-25T05:31:17.940635Z"
    }
   },
   "outputs": [
    {
     "data": {
      "text/plain": [
       "[<matplotlib.lines.Line2D at 0x2bc862640d0>]"
      ]
     },
     "execution_count": 333,
     "metadata": {},
     "output_type": "execute_result"
    },
    {
     "data": {
      "image/png": "[encoded data removed]",
      "text/plain": [
       "<Figure size 640x480 with 1 Axes>"
      ]
     },
     "metadata": {},
     "output_type": "display_data"
    }
   ],
   "source": [
    "plt.plot(train_score)\n",
    "plt.plot(test_score)"
   ]
  },
  {
   "cell_type": "code",
   "execution_count": 334,
   "id": "8798fbcc",
   "metadata": {
    "ExecuteTime": {
     "end_time": "2023-10-25T05:31:18.094837Z",
     "start_time": "2023-10-25T05:31:18.064384Z"
    }
   },
   "outputs": [
    {
     "name": "stdout",
     "output_type": "stream",
     "text": [
      "0.9910714285714286\n",
      "1.0\n"
     ]
    }
   ],
   "source": [
    "from sklearn.linear_model import LogisticRegression\n",
    "lr = LogisticRegression(C = 10)\n",
    "lr.fit(train_input , train_target)\n",
    "print(lr.score(train_input , train_target))\n",
    "print(lr.score(test_input , test_target))"
   ]
  },
  {
   "cell_type": "code",
   "execution_count": 335,
   "id": "e072257a",
   "metadata": {
    "ExecuteTime": {
     "end_time": "2023-10-25T05:31:18.112247Z",
     "start_time": "2023-10-25T05:31:18.096723Z"
    }
   },
   "outputs": [
    {
     "data": {
      "text/plain": [
       "array([[0.997, 0.003, 0.   ],\n",
       "       [0.998, 0.002, 0.   ],\n",
       "       [0.   , 0.036, 0.964],\n",
       "       [0.001, 0.961, 0.038],\n",
       "       [0.   , 0.962, 0.038],\n",
       "       [0.998, 0.002, 0.   ],\n",
       "       [0.994, 0.006, 0.   ],\n",
       "       [0.004, 0.995, 0.001],\n",
       "       [0.   , 0.496, 0.504],\n",
       "       [0.   , 0.054, 0.946],\n",
       "       [0.   , 0.992, 0.007],\n",
       "       [0.   , 0.001, 0.999],\n",
       "       [0.001, 0.991, 0.008],\n",
       "       [0.   , 0.   , 1.   ],\n",
       "       [0.001, 0.908, 0.092],\n",
       "       [0.996, 0.004, 0.   ],\n",
       "       [0.   , 0.   , 1.   ],\n",
       "       [0.001, 0.998, 0.001],\n",
       "       [0.994, 0.006, 0.   ],\n",
       "       [0.998, 0.002, 0.   ],\n",
       "       [0.986, 0.014, 0.   ],\n",
       "       [0.008, 0.991, 0.001],\n",
       "       [0.   , 0.275, 0.725],\n",
       "       [0.979, 0.021, 0.   ],\n",
       "       [0.98 , 0.02 , 0.   ],\n",
       "       [0.983, 0.017, 0.   ],\n",
       "       [0.001, 0.985, 0.014],\n",
       "       [0.993, 0.007, 0.   ],\n",
       "       [0.002, 0.995, 0.004],\n",
       "       [0.   , 0.001, 0.999],\n",
       "       [0.996, 0.004, 0.   ],\n",
       "       [0.001, 0.993, 0.006],\n",
       "       [0.   , 0.019, 0.981],\n",
       "       [0.998, 0.002, 0.   ],\n",
       "       [0.   , 0.432, 0.568],\n",
       "       [0.   , 0.036, 0.964],\n",
       "       [0.001, 0.998, 0.002],\n",
       "       [0.001, 0.878, 0.121],\n",
       "       [0.   , 0.008, 0.992],\n",
       "       [0.001, 0.983, 0.015],\n",
       "       [0.992, 0.008, 0.   ],\n",
       "       [0.029, 0.971, 0.   ],\n",
       "       [0.   , 0.034, 0.966],\n",
       "       [0.995, 0.005, 0.   ],\n",
       "       [0.997, 0.003, 0.   ],\n",
       "       [0.003, 0.995, 0.001],\n",
       "       [0.   , 0.597, 0.403],\n",
       "       [0.99 , 0.01 , 0.   ],\n",
       "       [0.   , 0.003, 0.997],\n",
       "       [0.994, 0.006, 0.   ],\n",
       "       [0.993, 0.007, 0.   ],\n",
       "       [0.   , 0.505, 0.495],\n",
       "       [0.106, 0.894, 0.   ],\n",
       "       [0.   , 0.003, 0.997],\n",
       "       [0.   , 0.219, 0.781],\n",
       "       [0.   , 0.066, 0.934],\n",
       "       [0.   , 0.001, 0.999],\n",
       "       [0.002, 0.988, 0.01 ],\n",
       "       [0.995, 0.005, 0.   ],\n",
       "       [0.999, 0.001, 0.   ],\n",
       "       [0.   , 0.21 , 0.79 ],\n",
       "       [0.   , 0.021, 0.979],\n",
       "       [0.993, 0.007, 0.   ],\n",
       "       [0.996, 0.004, 0.   ],\n",
       "       [0.997, 0.003, 0.   ],\n",
       "       [0.   , 0.573, 0.427],\n",
       "       [0.   , 0.002, 0.998],\n",
       "       [0.997, 0.003, 0.   ],\n",
       "       [0.   , 0.015, 0.985],\n",
       "       [0.   , 0.   , 1.   ],\n",
       "       [0.997, 0.003, 0.   ],\n",
       "       [0.   , 0.919, 0.081],\n",
       "       [0.   , 0.939, 0.061],\n",
       "       [0.   , 0.398, 0.602],\n",
       "       [0.   , 0.989, 0.011],\n",
       "       [0.   , 0.011, 0.989],\n",
       "       [0.995, 0.005, 0.   ],\n",
       "       [0.   , 0.035, 0.965],\n",
       "       [0.001, 0.984, 0.014],\n",
       "       [0.   , 0.069, 0.931],\n",
       "       [0.01 , 0.99 , 0.   ],\n",
       "       [0.006, 0.983, 0.011],\n",
       "       [0.   , 0.958, 0.041],\n",
       "       [0.987, 0.013, 0.   ],\n",
       "       [0.   , 0.986, 0.014],\n",
       "       [0.   , 0.969, 0.031],\n",
       "       [0.995, 0.005, 0.   ],\n",
       "       [0.003, 0.993, 0.005],\n",
       "       [0.   , 0.003, 0.997],\n",
       "       [0.   , 0.01 , 0.99 ],\n",
       "       [0.996, 0.004, 0.   ],\n",
       "       [0.04 , 0.96 , 0.   ],\n",
       "       [0.   , 0.001, 0.999],\n",
       "       [0.   , 0.101, 0.899],\n",
       "       [0.997, 0.003, 0.   ],\n",
       "       [0.   , 0.002, 0.998],\n",
       "       [0.992, 0.008, 0.   ],\n",
       "       [0.   , 0.928, 0.072],\n",
       "       [0.   , 0.004, 0.996],\n",
       "       [0.   , 0.019, 0.981],\n",
       "       [0.002, 0.992, 0.006],\n",
       "       [0.   , 0.051, 0.949],\n",
       "       [0.   , 0.969, 0.031],\n",
       "       [0.   , 0.995, 0.004],\n",
       "       [0.   , 0.049, 0.951],\n",
       "       [0.   , 0.131, 0.869],\n",
       "       [0.978, 0.022, 0.   ],\n",
       "       [0.002, 0.996, 0.002],\n",
       "       [0.   , 0.261, 0.739],\n",
       "       [0.998, 0.002, 0.   ],\n",
       "       [0.001, 0.996, 0.003],\n",
       "       [0.   , 0.003, 0.997]])"
      ]
     },
     "execution_count": 335,
     "metadata": {},
     "output_type": "execute_result"
    }
   ],
   "source": [
    "np.round(lr.predict_proba(train_input) , 3)"
   ]
  },
  {
   "cell_type": "code",
   "execution_count": 336,
   "id": "0f6c53df",
   "metadata": {
    "ExecuteTime": {
     "end_time": "2023-10-25T05:31:18.131985Z",
     "start_time": "2023-10-25T05:31:18.114246Z"
    }
   },
   "outputs": [
    {
     "data": {
      "text/plain": [
       "array([[ 12.30534073,   6.49706033, -18.80240106],\n",
       "       [ 13.01663648,   6.89327622, -19.9099127 ],\n",
       "       [ -7.89444059,   2.30269426,   5.59174633],\n",
       "       [ -3.57225913,   3.40023233,   0.1720268 ],\n",
       "       [ -5.07740319,   4.15170857,   0.92569462],\n",
       "       [ 12.82031872,   6.55558949, -19.37590821],\n",
       "       [ 11.95354448,   6.84701483, -18.80055931],\n",
       "       [ -1.09875917,   4.33362381,  -3.23486465],\n",
       "       [ -7.16806645,   3.57625482,   3.59181163],\n",
       "       [ -8.75562338,   2.94667037,   5.80895301],\n",
       "       [ -3.84484923,   4.36656271,  -0.52171348],\n",
       "       [-11.71768411,   2.13449051,   9.58319361],\n",
       "       [ -2.72431581,   3.77819383,  -1.05387802],\n",
       "       [-14.41227508,   3.03730925,  11.37496583],\n",
       "       [ -4.06001417,   3.17599955,   0.88401463],\n",
       "       [ 12.06535383,   6.58233002, -18.64768385],\n",
       "       [-15.0856491 ,   3.26829161,  11.81735749],\n",
       "       [ -2.22926363,   4.48499912,  -2.2557355 ],\n",
       "       [ 11.82536693,   6.66759971, -18.49296664],\n",
       "       [ 12.33256368,   6.3313567 , -18.66392038],\n",
       "       [ 10.28439668,   6.01318855, -16.29758523],\n",
       "       [ -0.91204529,   3.89951936,  -2.98747407],\n",
       "       [ -7.0874925 ,   3.05803323,   4.02945927],\n",
       "       [  9.93669085,   6.08103074, -16.0177216 ],\n",
       "       [ 10.27233009,   6.35488414, -16.62721422],\n",
       "       [  9.90655036,   5.84860466, -15.75515502],\n",
       "       [ -3.09357516,   3.6629377 ,  -0.56936254],\n",
       "       [ 11.45501267,   6.53123288, -17.98624556],\n",
       "       [ -2.34427969,   3.98499912,  -1.64071943],\n",
       "       [-13.40873632,   2.97462679,  10.43410953],\n",
       "       [ 11.64063165,   6.07601774, -17.71664939],\n",
       "       [ -3.31609895,   4.21341802,  -0.89731907],\n",
       "       [ -8.03339491,   2.03172998,   6.00166493],\n",
       "       [ 13.33930916,   7.03335905, -20.37266821],\n",
       "       [ -5.96027274,   2.84332582,   3.11694691],\n",
       "       [ -7.89444059,   2.30269426,   5.59174633],\n",
       "       [ -2.91122461,   4.66665373,  -1.75542911],\n",
       "       [ -3.98620454,   2.98546921,   1.00073534],\n",
       "       [ -8.55007859,   1.84317908,   6.70689951],\n",
       "       [ -3.05448055,   3.60989393,  -0.55541338],\n",
       "       [ 11.19128245,   6.39118285, -17.58246531],\n",
       "       [  0.51171909,   4.01170912,  -4.52342821],\n",
       "       [ -8.93038762,   2.79208196,   6.13830566],\n",
       "       [ 11.69609447,   6.46707389, -18.16316837],\n",
       "       [ 12.30753052,   6.53928173, -18.84681225],\n",
       "       [ -1.68297227,   4.09571234,  -2.41274008],\n",
       "       [ -6.85617054,   3.6247885 ,   3.23138204],\n",
       "       [ 10.91957605,   6.31071611, -17.23029216],\n",
       "       [ -8.57612867,   1.3286407 ,   7.24748798],\n",
       "       [ 11.49191749,   6.43596771, -17.92788521],\n",
       "       [ 10.57992438,   5.6176223 , -16.19754668],\n",
       "       [ -5.51720375,   2.76805161,   2.74915214],\n",
       "       [  1.92580161,   4.05346041,  -5.97926203],\n",
       "       [-10.43635367,   2.36673933,   8.06961434],\n",
       "       [ -7.43738812,   3.08365403,   4.3537341 ],\n",
       "       [ -9.35976229,   3.35703504,   6.00272725],\n",
       "       [-12.76679263,   2.9444631 ,   9.82232953],\n",
       "       [ -2.64831638,   3.62988489,  -0.98156851],\n",
       "       [ 11.10519503,   5.85550096, -16.96069599],\n",
       "       [ 12.74391316,   6.09034605, -18.83425921],\n",
       "       [ -7.86858545,   3.2715881 ,   4.59699735],\n",
       "       [-10.88407515,   3.51327891,   7.37079624],\n",
       "       [ 11.0302905 ,   6.0249206 , -17.0552111 ],\n",
       "       [ 11.88839979,   6.38552021, -18.27392001],\n",
       "       [ 11.71553618,   5.9065981 , -17.62213428],\n",
       "       [ -6.96279457,   3.6284717 ,   3.33432287],\n",
       "       [ -9.57845558,   1.65943113,   7.91902445],\n",
       "       [ 11.86984179,   5.89919889, -17.76904067],\n",
       "       [ -9.63718683,   2.72730614,   6.90988068],\n",
       "       [-11.58752796,   1.2882192 ,  10.29930876],\n",
       "       [ 12.0109859 ,   6.21238456, -18.22337047],\n",
       "       [ -5.08518444,   3.7569364 ,   1.32824803],\n",
       "       [ -5.20558075,   3.97229345,   1.2332873 ],\n",
       "       [ -6.44024654,   3.0138652 ,   3.42638133],\n",
       "       [ -4.80808152,   4.64430937,   0.16377215],\n",
       "       [ -8.62279333,   2.05482012,   6.56797321],\n",
       "       [ 11.86008195,   6.53011314, -18.39019509],\n",
       "       [ -9.06375049,   2.87366845,   6.19008204],\n",
       "       [ -2.94895142,   3.58510003,  -0.63614861],\n",
       "       [ -8.12774115,   2.76162542,   5.36611573],\n",
       "       [  0.04811351,   4.62634843,  -4.67446193],\n",
       "       [ -1.90113273,   3.20837219,  -1.30723946],\n",
       "       [ -4.47484329,   3.80803354,   0.66680974],\n",
       "       [ 10.08010274,   5.7350851 , -15.81518784],\n",
       "       [ -4.68549541,   4.47117372,   0.21432169],\n",
       "       [ -3.89731653,   3.67228354,   0.22503299],\n",
       "       [ 11.9904493 ,   6.75174966, -18.74219896],\n",
       "       [ -2.07706984,   3.7340258 ,  -1.65695596],\n",
       "       [-12.75200342,   3.45525267,   9.29675076],\n",
       "       [ -9.80555389,   2.57982409,   7.2257298 ],\n",
       "       [ 11.71035086,   6.1675997 , -17.87795057],\n",
       "       [  0.75170599,   3.92643943,  -4.67814542],\n",
       "       [-10.51337002,   1.79258486,   8.72078517],\n",
       "       [-10.12181312,   3.96911089,   6.15270224],\n",
       "       [ 12.51919957,   6.59860497, -19.11780455],\n",
       "       [-10.33532109,   2.01050537,   8.32481573],\n",
       "       [ 11.12375303,   6.34182229, -17.46557532],\n",
       "       [ -5.96573096,   4.26003559,   1.70569536],\n",
       "       [-12.35442622,   3.42591587,   8.92851036],\n",
       "       [ -9.5321418 ,   2.79031258,   6.74182922],\n",
       "       [ -2.52013883,   3.80930001,  -1.28916118],\n",
       "       [ -8.99561028,   3.03194006,   5.96367022],\n",
       "       [ -4.97875534,   4.20760865,   0.77114669],\n",
       "       [ -3.38990858,   4.40394836,  -1.01403977],\n",
       "       [ -6.97998478,   2.00755291,   4.97243187],\n",
       "       [ -7.14514512,   2.62475568,   4.52038944],\n",
       "       [ 10.5297801 ,   6.73482508, -17.26460517],\n",
       "       [ -2.26049902,   4.23146234,  -1.97096332],\n",
       "       [ -5.17099896,   2.06554634,   3.10545261],\n",
       "       [ 13.63694867,   7.38136692, -21.0183156 ],\n",
       "       [ -2.37899471,   4.12248569,  -1.74349098],\n",
       "       [-11.37693754,   2.84869502,   8.52824252]])"
      ]
     },
     "execution_count": 336,
     "metadata": {},
     "output_type": "execute_result"
    }
   ],
   "source": [
    "decisions = lr.decision_function(train_input)\n",
    "decisions"
   ]
  },
  {
   "cell_type": "code",
   "execution_count": 337,
   "id": "d7106a82",
   "metadata": {
    "ExecuteTime": {
     "end_time": "2023-10-25T05:31:18.149418Z",
     "start_time": "2023-10-25T05:31:18.133480Z"
    }
   },
   "outputs": [
    {
     "name": "stdout",
     "output_type": "stream",
     "text": [
      "0.9464285714285714\n",
      "1.0\n"
     ]
    }
   ],
   "source": [
    "from sklearn.neighbors import KNeighborsClassifier\n",
    "kn = KNeighborsClassifier(n_neighbors = 3)\n",
    "kn.fit(train_input , train_target)\n",
    "print(kn.score(train_input , train_target))\n",
    "print(kn.score(test_input , test_target))"
   ]
  },
  {
   "cell_type": "code",
   "execution_count": 338,
   "id": "7316776f",
   "metadata": {
    "ExecuteTime": {
     "end_time": "2023-10-25T05:31:18.257205Z",
     "start_time": "2023-10-25T05:31:18.149418Z"
    }
   },
   "outputs": [],
   "source": [
    "train_score = []\n",
    "test_score = []\n",
    "for i in range(1,20):\n",
    "    knn = KNeighborsClassifier(n_neighbors = i)\n",
    "    knn.fit(train_input , train_target)\n",
    "    train_score.append(knn.score(train_input , train_target))\n",
    "    test_score.append(knn.score(test_input , test_target))"
   ]
  },
  {
   "cell_type": "code",
   "execution_count": 244,
   "id": "4df317b1",
   "metadata": {
    "ExecuteTime": {
     "end_time": "2023-10-25T02:57:27.931040Z",
     "start_time": "2023-10-25T02:57:27.799376Z"
    }
   },
   "outputs": [
    {
     "data": {
      "text/plain": [
       "[<matplotlib.lines.Line2D at 0x2bc83b97550>]"
      ]
     },
     "execution_count": 244,
     "metadata": {},
     "output_type": "execute_result"
    },
    {
     "data": {
      "image/png": "[encoded data removed]",
      "text/plain": [
       "<Figure size 640x480 with 1 Axes>"
      ]
     },
     "metadata": {},
     "output_type": "display_data"
    }
   ],
   "source": [
    "plt.plot(train_score)\n",
    "plt.plot(test_score)"
   ]
  },
  {
   "cell_type": "code",
   "execution_count": 245,
   "id": "fe3bd524",
   "metadata": {
    "ExecuteTime": {
     "end_time": "2023-10-25T02:57:27.950277Z",
     "start_time": "2023-10-25T02:57:27.932472Z"
    }
   },
   "outputs": [
    {
     "name": "stdout",
     "output_type": "stream",
     "text": [
      "0.9732142857142857\n",
      "1.0\n"
     ]
    }
   ],
   "source": [
    "from sklearn.neighbors import KNeighborsClassifier\n",
    "kn = KNeighborsClassifier(n_neighbors = 7)\n",
    "kn.fit(train_input , train_target)\n",
    "print(kn.score(train_input , train_target))\n",
    "print(kn.score(test_input , test_target))"
   ]
  },
  {
   "cell_type": "code",
   "execution_count": 246,
   "id": "343da6da",
   "metadata": {
    "ExecuteTime": {
     "end_time": "2023-10-25T02:57:27.967973Z",
     "start_time": "2023-10-25T02:57:27.952177Z"
    }
   },
   "outputs": [
    {
     "name": "stdout",
     "output_type": "stream",
     "text": [
      "              precision    recall  f1-score   support\n",
      "\n",
      "           0       1.00      1.00      1.00        15\n",
      "           1       1.00      1.00      1.00        11\n",
      "           2       1.00      1.00      1.00        12\n",
      "\n",
      "    accuracy                           1.00        38\n",
      "   macro avg       1.00      1.00      1.00        38\n",
      "weighted avg       1.00      1.00      1.00        38\n",
      "\n"
     ]
    }
   ],
   "source": [
    "result = kn.predict(test_input)\n",
    "from sklearn.metrics import classification_report\n",
    "print(classification_report(result , test_target))"
   ]
  },
  {
   "cell_type": "code",
   "execution_count": 247,
   "id": "d4d90a5f",
   "metadata": {
    "ExecuteTime": {
     "end_time": "2023-10-25T02:57:27.983701Z",
     "start_time": "2023-10-25T02:57:27.968437Z"
    }
   },
   "outputs": [
    {
     "data": {
      "text/plain": [
       "array(['versicolor', 'setosa', 'virginica', 'versicolor', 'versicolor',\n",
       "       'setosa', 'versicolor', 'virginica', 'versicolor', 'versicolor',\n",
       "       'virginica', 'setosa', 'setosa', 'setosa', 'setosa', 'versicolor',\n",
       "       'virginica', 'versicolor', 'versicolor', 'virginica', 'setosa',\n",
       "       'virginica', 'setosa', 'virginica', 'virginica', 'virginica',\n",
       "       'virginica', 'virginica', 'setosa', 'setosa', 'setosa', 'setosa',\n",
       "       'versicolor', 'setosa', 'setosa', 'virginica', 'versicolor',\n",
       "       'setosa'], dtype='<U10')"
      ]
     },
     "execution_count": 247,
     "metadata": {},
     "output_type": "execute_result"
    }
   ],
   "source": [
    "iris.target_names[result]"
   ]
  },
  {
   "cell_type": "code",
   "execution_count": 355,
   "id": "133aab32",
   "metadata": {
    "ExecuteTime": {
     "end_time": "2023-10-25T05:32:47.867173Z",
     "start_time": "2023-10-25T05:32:47.857263Z"
    }
   },
   "outputs": [],
   "source": [
    "pred = lr.predict(test_scaled)"
   ]
  },
  {
   "cell_type": "markdown",
   "id": "374088ac",
   "metadata": {},
   "source": [
    "# 혼동 행렬"
   ]
  },
  {
   "cell_type": "markdown",
   "id": "6388214f",
   "metadata": {},
   "source": [
    "## 정확도(Accuracy)\n",
    "\n",
    "- 전체 샘플 중 맞게 예측한 샘플 수의 비융\n",
    "- accuracy_score(y_true, y_pred)\n",
    "\n",
    "\n",
    "- 정확도(Accuracy) = $\\frac{예측 결과가 동일한 데이터 건수}{전체 예측 데이터 건수}$"
   ]
  },
  {
   "cell_type": "markdown",
   "id": "1b269656",
   "metadata": {},
   "source": [
    "## 오차행렬(Confusion Matrix) or 혼돈 행렬\n",
    "\n",
    "- 이진분류의 성능지표를 잘 활용된다.\n",
    "- 이진분류의 예측 오류가 얼마인지 어떠한 유형의 예측 오류가 발생하고 있는지를 함께 나타낸다.\n",
    "- Negative : 0, Positive : 1\n",
    "- TN : 예측값과 실제값이 모두 Negative 0으로 예측\n",
    "- FP : 예측은 Positive 1인데 실제값은 Negative 0\n",
    "- FN : 예측은 Negative 0인데 실제값은 Positive 1\n",
    "- TP : 예측과 실제값 모두 Positive 1로 예측\n",
    "- confusion_matrix(y_true, y_pred)"
   ]
  },
  {
   "cell_type": "markdown",
   "id": "46c42ae1",
   "metadata": {},
   "source": [
    "## 정밀도(Precision)\n",
    "\n",
    "- 예측과 실제값이 Positive로 일치하는 데이터의 비율\n",
    "- 높을수록 좋은 모델이다.\n",
    "- 불균형한 데이터셋을 다룰 때 유용한 지표\n",
    "- precision_score(y_true, y_pred)\n",
    "\n",
    "\n",
    "- 정밀도(Precision) = $\\frac{TP}{TP + FP}$"
   ]
  },
  {
   "cell_type": "markdown",
   "id": "418d0a12",
   "metadata": {},
   "source": [
    "## 재현율(Recall)\n",
    "\n",
    "- 실제값이 Positive인 대상 중 예측과 실제값이 Positive로 일치한 데이터의 비율\n",
    "- 민감도(Sensitivity) 또는 TPR(True Positive Rate)라고도 부름\n",
    "- recall_score(y_true, y_pred)\n",
    "\n",
    "\n",
    "- 재현율(Recall) = $\\frac{TP}{TP + FN}$"
   ]
  },
  {
   "cell_type": "markdown",
   "id": "23ac83c0",
   "metadata": {},
   "source": [
    "## 특이도(Specificity) \n",
    "\n",
    "- 실제값 Negative를 Negative로 예측한 비율\n",
    "\n",
    "\n",
    "- 특이도(Specificity)  = $\\frac{TN}{FP + TN}$"
   ]
  },
  {
   "cell_type": "markdown",
   "id": "d0de4b52",
   "metadata": {},
   "source": [
    "## F1 스코어\n",
    "\n",
    "- 정밀도와 재현율을 결합한 지표\n",
    "- 정밀도와 재현율이 어느 한쪽으로 치우치지 않는 수치를 나타낼 때 상대적으로 높은 값을 가진다.\n",
    "- f1_score(y_true, y_pred)\n",
    "\n",
    "\n",
    "- F1 = $2 * \\frac{precision * recall}{precision + recall}$"
   ]
  },
  {
   "cell_type": "markdown",
   "id": "81a8e4a6",
   "metadata": {},
   "source": [
    "## ROC/AUC curve 곡선\n",
    "\n",
    "- ROC 곡선은 FPR(False Positive Rate)이 변할 때 TPR(True Positive Rate)이 어떻게 변하는지를 나타내는 곡선(FPR을 x축, TPR=재현율을 y축)\n",
    "- AUC(Area Under Curve) 값은 ROC 곡선 밑의 면적을 구한 것으로 일반적으로 1에 가까울수록 좋은 수치이다."
   ]
  },
  {
   "cell_type": "markdown",
   "id": "8700b7af",
   "metadata": {},
   "source": [
    "## 기타 평가 지표\n",
    "\n",
    "- classfication_report(y_true, y_pred)"
   ]
  },
  {
   "cell_type": "code",
   "execution_count": 356,
   "id": "19113983",
   "metadata": {
    "ExecuteTime": {
     "end_time": "2023-10-25T05:34:19.062248Z",
     "start_time": "2023-10-25T05:34:19.053387Z"
    }
   },
   "outputs": [],
   "source": [
    "from sklearn.metrics import accuracy_score , precision_score , recall_score , roc_auc_score , f1_score , confusion_matrix , roc_curve , precision_recall_curve"
   ]
  },
  {
   "cell_type": "code",
   "execution_count": 359,
   "id": "1eb76317",
   "metadata": {
    "ExecuteTime": {
     "end_time": "2023-10-25T05:36:44.430905Z",
     "start_time": "2023-10-25T05:36:44.420500Z"
    }
   },
   "outputs": [
    {
     "data": {
      "text/plain": [
       "array([[50,  3],\n",
       "       [ 1, 89]], dtype=int64)"
      ]
     },
     "execution_count": 359,
     "metadata": {},
     "output_type": "execute_result"
    }
   ],
   "source": [
    "cm = confusion_matrix(test_target , pred)\n",
    "cm"
   ]
  },
  {
   "cell_type": "code",
   "execution_count": 380,
   "id": "81ffc4d7",
   "metadata": {
    "ExecuteTime": {
     "end_time": "2023-10-25T06:13:57.424441Z",
     "start_time": "2023-10-25T06:13:57.417469Z"
    }
   },
   "outputs": [],
   "source": [
    "pred_proba = lr.predict_proba(test_scaled)[: , 1].reshape(-1,1)"
   ]
  },
  {
   "cell_type": "code",
   "execution_count": 381,
   "id": "663abfb8",
   "metadata": {
    "ExecuteTime": {
     "end_time": "2023-10-25T06:13:57.980374Z",
     "start_time": "2023-10-25T06:13:57.973397Z"
    }
   },
   "outputs": [],
   "source": [
    "def get(real , pred = None , pred_proba = None):\n",
    "    confusion = confusion_matrix(real , pred)\n",
    "    accuracy = accuracy_score(real , pred)\n",
    "    precision = precision_score(real , pred)\n",
    "    recall = recall_score(real , pred)\n",
    "    f1 = f1_score(real , pred)\n",
    "    roc_auc = roc_auc_score(real , pred_proba)\n",
    "    print('혼동 행렬\\n {}'.format(confusion))\n",
    "    print(accuracy)\n",
    "    print()\n",
    "    print(f'정확도 : {accuracy:.4f} , 정밀도 : {precision:.4f} , 재현율 : {recall:.4f} , f1 스코어 : {f1:.4f} , roc곡선 : {roc_auc:.4f}')"
   ]
  },
  {
   "cell_type": "code",
   "execution_count": 382,
   "id": "5fd7f154",
   "metadata": {
    "ExecuteTime": {
     "end_time": "2023-10-25T06:13:58.433417Z",
     "start_time": "2023-10-25T06:13:58.400912Z"
    }
   },
   "outputs": [
    {
     "name": "stdout",
     "output_type": "stream",
     "text": [
      "혼동 행렬\n",
      " [[50  3]\n",
      " [ 1 89]]\n",
      "0.972027972027972\n",
      "\n",
      "정확도 : 0.9720 , 정밀도 : 0.9674 , 재현율 : 0.9889 , f1 스코어 : 0.9780 , roc곡선 : 0.9897\n"
     ]
    }
   ],
   "source": [
    "get(test_target , pred , pred_proba)"
   ]
  },
  {
   "cell_type": "code",
   "execution_count": 374,
   "id": "e6139f92",
   "metadata": {
    "ExecuteTime": {
     "end_time": "2023-10-25T06:12:07.629559Z",
     "start_time": "2023-10-25T06:12:07.621066Z"
    }
   },
   "outputs": [
    {
     "data": {
      "text/plain": [
       "array([[9.98963179e-01],\n",
       "       [1.21244256e-07],\n",
       "       [9.07169736e-01],\n",
       "       [9.99012973e-01],\n",
       "       [3.35492692e-02],\n",
       "       [1.32678637e-12],\n",
       "       [4.34204587e-06],\n",
       "       [2.89041950e-07],\n",
       "       [9.23631750e-06],\n",
       "       [9.99997148e-01],\n",
       "       [4.01258795e-01],\n",
       "       [9.99999918e-01],\n",
       "       [3.64479523e-11],\n",
       "       [3.66660477e-12],\n",
       "       [9.98611180e-01],\n",
       "       [9.99999075e-01],\n",
       "       [2.82275710e-11],\n",
       "       [2.79703728e-02],\n",
       "       [7.26899909e-01],\n",
       "       [9.96874089e-01],\n",
       "       [2.05754284e-11],\n",
       "       [4.21225993e-06],\n",
       "       [9.99590830e-01],\n",
       "       [9.99998434e-01],\n",
       "       [9.99999929e-01],\n",
       "       [9.98602304e-01],\n",
       "       [9.99999951e-01],\n",
       "       [9.99551287e-01],\n",
       "       [9.99060061e-01],\n",
       "       [2.07429025e-13],\n",
       "       [9.99993191e-01],\n",
       "       [9.99663265e-01],\n",
       "       [8.67012039e-01],\n",
       "       [9.99995182e-01],\n",
       "       [9.99999851e-01],\n",
       "       [9.99998870e-01],\n",
       "       [9.99991582e-01],\n",
       "       [9.99894671e-01],\n",
       "       [1.90473313e-22],\n",
       "       [1.00000000e+00],\n",
       "       [1.26007532e-18],\n",
       "       [9.99999829e-01],\n",
       "       [2.34954615e-09],\n",
       "       [9.97662970e-01],\n",
       "       [9.54803639e-01],\n",
       "       [9.99832153e-01],\n",
       "       [1.04373524e-04],\n",
       "       [9.99994578e-01],\n",
       "       [1.25321169e-02],\n",
       "       [9.97750772e-01],\n",
       "       [9.99986400e-01],\n",
       "       [9.99998008e-01],\n",
       "       [9.99999849e-01],\n",
       "       [9.95879870e-10],\n",
       "       [9.94203855e-01],\n",
       "       [9.99335650e-01],\n",
       "       [9.99999704e-01],\n",
       "       [1.92313030e-12],\n",
       "       [1.41402926e-15],\n",
       "       [1.17806445e-17],\n",
       "       [9.99992304e-01],\n",
       "       [3.36023445e-11],\n",
       "       [4.95157992e-03],\n",
       "       [1.25326996e-20],\n",
       "       [9.82409824e-01],\n",
       "       [9.95830722e-01],\n",
       "       [2.43708369e-20],\n",
       "       [9.99914255e-01],\n",
       "       [9.99991575e-01],\n",
       "       [9.99891645e-01],\n",
       "       [9.99972645e-01],\n",
       "       [9.56097369e-01],\n",
       "       [9.98874200e-01],\n",
       "       [9.96791457e-01],\n",
       "       [9.99999986e-01],\n",
       "       [3.73001503e-08],\n",
       "       [4.66914209e-09],\n",
       "       [1.10386169e-09],\n",
       "       [2.85582843e-58],\n",
       "       [9.99999982e-01],\n",
       "       [9.98396065e-01],\n",
       "       [9.99998861e-01],\n",
       "       [8.70050069e-01],\n",
       "       [7.52328977e-01],\n",
       "       [2.90614002e-13],\n",
       "       [9.99791415e-01],\n",
       "       [8.72081671e-03],\n",
       "       [9.99999107e-01],\n",
       "       [9.98644516e-01],\n",
       "       [9.99999997e-01],\n",
       "       [9.99999821e-01],\n",
       "       [4.72818876e-07],\n",
       "       [8.48065093e-01],\n",
       "       [9.99999984e-01],\n",
       "       [2.96210113e-01],\n",
       "       [1.56356128e-19],\n",
       "       [1.09814467e-11],\n",
       "       [9.99973541e-01],\n",
       "       [6.47683766e-07],\n",
       "       [9.99999981e-01],\n",
       "       [3.49679374e-07],\n",
       "       [3.66063227e-25],\n",
       "       [1.14026866e-11],\n",
       "       [7.72595868e-01],\n",
       "       [9.79887458e-01],\n",
       "       [1.45815470e-07],\n",
       "       [9.21963776e-01],\n",
       "       [9.99946023e-01],\n",
       "       [1.42474991e-12],\n",
       "       [9.99999167e-01],\n",
       "       [7.20053935e-06],\n",
       "       [5.06105444e-01],\n",
       "       [9.99999984e-01],\n",
       "       [9.53704375e-01],\n",
       "       [9.88728756e-01],\n",
       "       [1.32610219e-07],\n",
       "       [9.05221233e-01],\n",
       "       [9.99820696e-01],\n",
       "       [1.84878075e-01],\n",
       "       [7.22171597e-07],\n",
       "       [9.99999503e-01],\n",
       "       [9.96955492e-01],\n",
       "       [2.66530449e-12],\n",
       "       [9.99999997e-01],\n",
       "       [2.19041014e-04],\n",
       "       [9.97988538e-01],\n",
       "       [9.99987365e-01],\n",
       "       [3.79295294e-15],\n",
       "       [8.84700105e-01],\n",
       "       [9.99999684e-01],\n",
       "       [8.78128489e-01],\n",
       "       [9.98765708e-01],\n",
       "       [9.99980320e-01],\n",
       "       [9.70862500e-01],\n",
       "       [3.00375612e-11],\n",
       "       [9.91279231e-01],\n",
       "       [9.99999993e-01],\n",
       "       [9.99558228e-01],\n",
       "       [6.37514668e-01],\n",
       "       [9.99998313e-01],\n",
       "       [9.99901791e-01],\n",
       "       [9.96970030e-01],\n",
       "       [9.99878369e-01]])"
      ]
     },
     "execution_count": 374,
     "metadata": {},
     "output_type": "execute_result"
    }
   ],
   "source": [
    "pred_proba"
   ]
  },
  {
   "cell_type": "markdown",
   "id": "1dfa3b01",
   "metadata": {},
   "source": [
    "### 정밀도와 재현율 시각화"
   ]
  },
  {
   "cell_type": "code",
   "execution_count": 415,
   "id": "f120d3f9",
   "metadata": {
    "ExecuteTime": {
     "end_time": "2023-10-25T06:33:10.477547Z",
     "start_time": "2023-10-25T06:33:10.467598Z"
    }
   },
   "outputs": [],
   "source": [
    "def prc(real , pred):\n",
    "    precisions , recalls , thresholds = precision_recall_curve(real , pred)\n",
    "    \n",
    "    plt.figure(figsize = (10,10))\n",
    "    boundary = thresholds.shape[0]\n",
    "    plt.plot(thresholds , precisions[0:boundary] , ls= '--' , label = 'precision')\n",
    "    plt.plot(thresholds , recalls[0:boundary] , label = 'recall')\n",
    "    start , end = plt.xlim()\n",
    "    plt.xticks(np.round(np.arange(start , end , 0.1) , 2))\n",
    "    plt.ylim(0.6 , 1.0)\n",
    "    plt.xlabel('threshold value')\n",
    "    plt.ylabel('precision and recall')\n",
    "    plt.legend(loc = 'lower center')\n",
    "    plt.grid()\n",
    "    plt.show()"
   ]
  },
  {
   "cell_type": "code",
   "execution_count": 416,
   "id": "fcb69dd2",
   "metadata": {
    "ExecuteTime": {
     "end_time": "2023-10-25T06:33:10.780176Z",
     "start_time": "2023-10-25T06:33:10.597801Z"
    },
    "scrolled": false
   },
   "outputs": [
    {
     "data": {
      "image/png": "[encoded data removed]",
      "text/plain": [
       "<Figure size 1000x1000 with 1 Axes>"
      ]
     },
     "metadata": {},
     "output_type": "display_data"
    }
   ],
   "source": [
    "prc(test_target , pred_proba)"
   ]
  },
  {
   "cell_type": "code",
   "execution_count": 418,
   "id": "d9593a64",
   "metadata": {
    "ExecuteTime": {
     "end_time": "2023-10-25T06:36:49.134923Z",
     "start_time": "2023-10-25T06:36:49.126296Z"
    },
    "scrolled": true
   },
   "outputs": [
    {
     "data": {
      "text/plain": [
       "array([[9.98963179e-01],\n",
       "       [1.21244256e-07],\n",
       "       [9.07169736e-01],\n",
       "       [9.99012973e-01],\n",
       "       [3.35492692e-02],\n",
       "       [1.32678637e-12],\n",
       "       [4.34204587e-06],\n",
       "       [2.89041950e-07],\n",
       "       [9.23631750e-06],\n",
       "       [9.99997148e-01],\n",
       "       [4.01258795e-01],\n",
       "       [9.99999918e-01],\n",
       "       [3.64479523e-11],\n",
       "       [3.66660477e-12],\n",
       "       [9.98611180e-01],\n",
       "       [9.99999075e-01],\n",
       "       [2.82275710e-11],\n",
       "       [2.79703728e-02],\n",
       "       [7.26899909e-01],\n",
       "       [9.96874089e-01],\n",
       "       [2.05754284e-11],\n",
       "       [4.21225993e-06],\n",
       "       [9.99590830e-01],\n",
       "       [9.99998434e-01],\n",
       "       [9.99999929e-01],\n",
       "       [9.98602304e-01],\n",
       "       [9.99999951e-01],\n",
       "       [9.99551287e-01],\n",
       "       [9.99060061e-01],\n",
       "       [2.07429025e-13],\n",
       "       [9.99993191e-01],\n",
       "       [9.99663265e-01],\n",
       "       [8.67012039e-01],\n",
       "       [9.99995182e-01],\n",
       "       [9.99999851e-01],\n",
       "       [9.99998870e-01],\n",
       "       [9.99991582e-01],\n",
       "       [9.99894671e-01],\n",
       "       [1.90473313e-22],\n",
       "       [1.00000000e+00],\n",
       "       [1.26007532e-18],\n",
       "       [9.99999829e-01],\n",
       "       [2.34954615e-09],\n",
       "       [9.97662970e-01],\n",
       "       [9.54803639e-01],\n",
       "       [9.99832153e-01],\n",
       "       [1.04373524e-04],\n",
       "       [9.99994578e-01],\n",
       "       [1.25321169e-02],\n",
       "       [9.97750772e-01],\n",
       "       [9.99986400e-01],\n",
       "       [9.99998008e-01],\n",
       "       [9.99999849e-01],\n",
       "       [9.95879870e-10],\n",
       "       [9.94203855e-01],\n",
       "       [9.99335650e-01],\n",
       "       [9.99999704e-01],\n",
       "       [1.92313030e-12],\n",
       "       [1.41402926e-15],\n",
       "       [1.17806445e-17],\n",
       "       [9.99992304e-01],\n",
       "       [3.36023445e-11],\n",
       "       [4.95157992e-03],\n",
       "       [1.25326996e-20],\n",
       "       [9.82409824e-01],\n",
       "       [9.95830722e-01],\n",
       "       [2.43708369e-20],\n",
       "       [9.99914255e-01],\n",
       "       [9.99991575e-01],\n",
       "       [9.99891645e-01],\n",
       "       [9.99972645e-01],\n",
       "       [9.56097369e-01],\n",
       "       [9.98874200e-01],\n",
       "       [9.96791457e-01],\n",
       "       [9.99999986e-01],\n",
       "       [3.73001503e-08],\n",
       "       [4.66914209e-09],\n",
       "       [1.10386169e-09],\n",
       "       [2.85582843e-58],\n",
       "       [9.99999982e-01],\n",
       "       [9.98396065e-01],\n",
       "       [9.99998861e-01],\n",
       "       [8.70050069e-01],\n",
       "       [7.52328977e-01],\n",
       "       [2.90614002e-13],\n",
       "       [9.99791415e-01],\n",
       "       [8.72081671e-03],\n",
       "       [9.99999107e-01],\n",
       "       [9.98644516e-01],\n",
       "       [9.99999997e-01],\n",
       "       [9.99999821e-01],\n",
       "       [4.72818876e-07],\n",
       "       [8.48065093e-01],\n",
       "       [9.99999984e-01],\n",
       "       [2.96210113e-01],\n",
       "       [1.56356128e-19],\n",
       "       [1.09814467e-11],\n",
       "       [9.99973541e-01],\n",
       "       [6.47683766e-07],\n",
       "       [9.99999981e-01],\n",
       "       [3.49679374e-07],\n",
       "       [3.66063227e-25],\n",
       "       [1.14026866e-11],\n",
       "       [7.72595868e-01],\n",
       "       [9.79887458e-01],\n",
       "       [1.45815470e-07],\n",
       "       [9.21963776e-01],\n",
       "       [9.99946023e-01],\n",
       "       [1.42474991e-12],\n",
       "       [9.99999167e-01],\n",
       "       [7.20053935e-06],\n",
       "       [5.06105444e-01],\n",
       "       [9.99999984e-01],\n",
       "       [9.53704375e-01],\n",
       "       [9.88728756e-01],\n",
       "       [1.32610219e-07],\n",
       "       [9.05221233e-01],\n",
       "       [9.99820696e-01],\n",
       "       [1.84878075e-01],\n",
       "       [7.22171597e-07],\n",
       "       [9.99999503e-01],\n",
       "       [9.96955492e-01],\n",
       "       [2.66530449e-12],\n",
       "       [9.99999997e-01],\n",
       "       [2.19041014e-04],\n",
       "       [9.97988538e-01],\n",
       "       [9.99987365e-01],\n",
       "       [3.79295294e-15],\n",
       "       [8.84700105e-01],\n",
       "       [9.99999684e-01],\n",
       "       [8.78128489e-01],\n",
       "       [9.98765708e-01],\n",
       "       [9.99980320e-01],\n",
       "       [9.70862500e-01],\n",
       "       [3.00375612e-11],\n",
       "       [9.91279231e-01],\n",
       "       [9.99999993e-01],\n",
       "       [9.99558228e-01],\n",
       "       [6.37514668e-01],\n",
       "       [9.99998313e-01],\n",
       "       [9.99901791e-01],\n",
       "       [9.96970030e-01],\n",
       "       [9.99878369e-01]])"
      ]
     },
     "execution_count": 418,
     "metadata": {},
     "output_type": "execute_result"
    }
   ],
   "source": [
    "pred_proba"
   ]
  },
  {
   "cell_type": "code",
   "execution_count": 421,
   "id": "efaa29bb",
   "metadata": {
    "ExecuteTime": {
     "end_time": "2023-10-25T08:23:19.954271Z",
     "start_time": "2023-10-25T08:23:19.946007Z"
    }
   },
   "outputs": [
    {
     "data": {
      "text/plain": [
       "array([1, 0, 1, 1, 0, 0, 0, 0, 0, 1, 1, 1, 0, 0, 1, 1, 0, 0, 1, 1, 0, 0,\n",
       "       1, 1, 1, 1, 1, 1, 1, 0, 1, 1, 1, 1, 1, 1, 1, 1, 0, 1, 0, 1, 0, 1,\n",
       "       1, 1, 0, 1, 0, 1, 1, 1, 1, 0, 1, 1, 1, 0, 0, 0, 1, 0, 0, 0, 1, 1,\n",
       "       0, 1, 1, 1, 1, 1, 1, 1, 1, 0, 0, 0, 0, 1, 1, 1, 1, 1, 0, 1, 0, 1,\n",
       "       1, 1, 1, 0, 1, 1, 0, 0, 0, 1, 0, 1, 0, 0, 0, 1, 1, 0, 1, 1, 0, 1,\n",
       "       0, 1, 1, 0, 1, 0, 1, 1, 0, 0, 1, 1, 0, 1, 0, 1, 1, 0, 1, 1, 1, 1,\n",
       "       1, 0, 0, 0, 1, 1, 1, 1, 1, 1, 1])"
      ]
     },
     "execution_count": 421,
     "metadata": {},
     "output_type": "execute_result"
    }
   ],
   "source": [
    "test_target"
   ]
  },
  {
   "cell_type": "code",
   "execution_count": 422,
   "id": "10ea3d38",
   "metadata": {
    "ExecuteTime": {
     "end_time": "2023-10-25T08:23:23.680878Z",
     "start_time": "2023-10-25T08:23:23.671440Z"
    }
   },
   "outputs": [
    {
     "data": {
      "text/plain": [
       "array([1, 0, 1, 1, 0, 0, 0, 0, 0, 1, 0, 1, 0, 0, 1, 1, 0, 0, 0, 1, 0, 0,\n",
       "       1, 1, 1, 1, 1, 1, 1, 0, 1, 1, 1, 1, 1, 1, 1, 1, 0, 1, 0, 1, 0, 1,\n",
       "       1, 1, 0, 1, 0, 1, 1, 1, 1, 0, 1, 1, 1, 0, 0, 0, 1, 0, 0, 0, 1, 1,\n",
       "       0, 1, 1, 1, 1, 1, 1, 1, 1, 0, 0, 0, 0, 1, 1, 1, 1, 0, 0, 1, 0, 1,\n",
       "       1, 1, 1, 0, 1, 1, 0, 0, 0, 1, 0, 1, 0, 0, 0, 0, 1, 0, 1, 1, 0, 1,\n",
       "       0, 0, 1, 1, 1, 0, 1, 1, 0, 0, 1, 1, 0, 1, 0, 1, 1, 0, 1, 1, 1, 1,\n",
       "       1, 1, 0, 1, 1, 1, 0, 1, 1, 1, 1])"
      ]
     },
     "execution_count": 422,
     "metadata": {},
     "output_type": "execute_result"
    }
   ],
   "source": [
    "y_pred"
   ]
  },
  {
   "cell_type": "code",
   "execution_count": 420,
   "id": "0425937e",
   "metadata": {
    "ExecuteTime": {
     "end_time": "2023-10-25T06:45:57.442368Z",
     "start_time": "2023-10-25T06:45:57.406449Z"
    }
   },
   "outputs": [
    {
     "name": "stdout",
     "output_type": "stream",
     "text": [
      "임계값 : 0.6\n",
      "정확도 : 0.97\n",
      "정밀도 : 0.97\n",
      "재현율 : 0.98\n",
      "\n",
      "\n",
      "임계값 : 0.65\n",
      "정확도 : 0.96\n",
      "정밀도 : 0.97\n",
      "재현율 : 0.97\n",
      "\n",
      "\n",
      "임계값 : 0.7\n",
      "정확도 : 0.96\n",
      "정밀도 : 0.97\n",
      "재현율 : 0.97\n",
      "\n",
      "\n",
      "임계값 : 0.75\n",
      "정확도 : 0.95\n",
      "정밀도 : 0.97\n",
      "재현율 : 0.96\n",
      "\n",
      "\n",
      "임계값 : 0.8\n",
      "정확도 : 0.94\n",
      "정밀도 : 0.97\n",
      "재현율 : 0.93\n",
      "\n",
      "\n"
     ]
    }
   ],
   "source": [
    "cut_off = [0.6 , 0.65 , 0.7 , 0.75 , 0.8]\n",
    "\n",
    "for i in cut_off:\n",
    "    #확률값이 cut보다 크면 1 , 아니면 0\n",
    "    y_pred = np.where(pred_proba.reshape(-1)>i , 1 , 0)\n",
    "    acc = accuracy_score(test_target , y_pred)\n",
    "    recall = recall_score(test_target , y_pred)\n",
    "    precision = precision_score(test_target , y_pred)\n",
    "    print(f'임계값 : {i}')\n",
    "    print(f'정확도 : {acc:.2f}\\n정밀도 : {precision:.2f}\\n재현율 : {recall:.2f}')\n",
    "    print()\n",
    "    print()"
   ]
  },
  {
   "cell_type": "code",
   "execution_count": null,
   "id": "56d4f1e1",
   "metadata": {},
   "outputs": [],
   "source": []
  }
 ],
 "metadata": {
  "kernelspec": {
   "display_name": "Python 3 (ipykernel)",
   "language": "python",
   "name": "python3"
  },
  "language_info": {
   "codemirror_mode": {
    "name": "ipython",
    "version": 3
   },
   "file_extension": ".py",
   "mimetype": "text/x-python",
   "name": "python",
   "nbconvert_exporter": "python",
   "pygments_lexer": "ipython3",
   "version": "3.8.17"
  },
  "toc": {
   "base_numbering": 1,
   "nav_menu": {},
   "number_sections": true,
   "sideBar": true,
   "skip_h1_title": false,
   "title_cell": "Table of Contents",
   "title_sidebar": "Contents",
   "toc_cell": false,
   "toc_position": {},
   "toc_section_display": true,
   "toc_window_display": false
  }
 },
 "nbformat": 4,
 "nbformat_minor": 5
}
