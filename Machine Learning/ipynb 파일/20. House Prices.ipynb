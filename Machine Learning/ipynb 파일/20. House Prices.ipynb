{
 "cells": [
  {
   "cell_type": "markdown",
   "id": "4b1fb198",
   "metadata": {},
   "source": [
    "# 문제 정의\n",
    "\n",
    "- 보스턴 주택 가격 예측\n",
    "- 특성공학과 회귀모델(랜덤 포레스트와 부스팅)"
   ]
  },
  {
   "cell_type": "markdown",
   "id": "d4692025",
   "metadata": {},
   "source": [
    "## 라이브러리 로딩"
   ]
  },
  {
   "cell_type": "code",
   "execution_count": 1,
   "id": "c671f0ae",
   "metadata": {
    "ExecuteTime": {
     "end_time": "2023-11-01T07:35:59.002655Z",
     "start_time": "2023-11-01T07:35:54.439936Z"
    }
   },
   "outputs": [],
   "source": [
    "from IPython.display import display\n",
    "import numpy as np\n",
    "import pandas as pd\n",
    "import matplotlib.pyplot as plt\n",
    "import mglearn\n",
    "import seaborn as sns\n",
    "\n",
    "# 음수표현 라이브러리\n",
    "plt.rcParams['axes.unicode_minus'] = False\n",
    "\n",
    "# 경고무시\n",
    "import warnings\n",
    "warnings.filterwarnings(\"ignore\")\n",
    "\n",
    "# 스타일\n",
    "sns.set_style('darkgrid') \n",
    "\n",
    "# 매직명령어 : 시각화 결과가 노트북에 포함되도록\n",
    "%matplotlib inline"
   ]
  },
  {
   "cell_type": "code",
   "execution_count": 2,
   "id": "fc06b927",
   "metadata": {
    "ExecuteTime": {
     "end_time": "2023-11-01T07:35:59.017877Z",
     "start_time": "2023-11-01T07:35:59.005714Z"
    }
   },
   "outputs": [],
   "source": [
    "pd.options.display.max_columns = 200\n",
    "pd.set_option('display.max_rows', 200)"
   ]
  },
  {
   "cell_type": "markdown",
   "id": "b3ed6ff6",
   "metadata": {},
   "source": [
    "## 데이터셋 로딩"
   ]
  },
  {
   "cell_type": "code",
   "execution_count": 3,
   "id": "58f44d0b",
   "metadata": {
    "ExecuteTime": {
     "end_time": "2023-11-01T07:35:59.033797Z",
     "start_time": "2023-11-01T07:35:59.019032Z"
    }
   },
   "outputs": [],
   "source": [
    "# 소수점 표현 제한\n",
    "pd.set_option('display.float_format', lambda x : '{:.3f}'.format(x))"
   ]
  },
  {
   "cell_type": "code",
   "execution_count": 4,
   "id": "467496f7",
   "metadata": {
    "ExecuteTime": {
     "end_time": "2023-11-01T07:36:00.435079Z",
     "start_time": "2023-11-01T07:35:59.035456Z"
    }
   },
   "outputs": [
    {
     "ename": "FileNotFoundError",
     "evalue": "[Errno 2] No such file or directory: 'C:/k_digital/Machine Learning with Python/source/house_price/train.csv'",
     "output_type": "error",
     "traceback": [
      "\u001b[1;31m---------------------------------------------------------------------------\u001b[0m",
      "\u001b[1;31mFileNotFoundError\u001b[0m                         Traceback (most recent call last)",
      "Cell \u001b[1;32mIn[4], line 2\u001b[0m\n\u001b[0;32m      1\u001b[0m path \u001b[38;5;241m=\u001b[39m \u001b[38;5;124m\"\u001b[39m\u001b[38;5;124mC:/k_digital/Machine Learning with Python/source/house_price/\u001b[39m\u001b[38;5;124m\"\u001b[39m\n\u001b[1;32m----> 2\u001b[0m train_df \u001b[38;5;241m=\u001b[39m \u001b[43mpd\u001b[49m\u001b[38;5;241;43m.\u001b[39;49m\u001b[43mread_csv\u001b[49m\u001b[43m(\u001b[49m\u001b[43mpath\u001b[49m\u001b[43m \u001b[49m\u001b[38;5;241;43m+\u001b[39;49m\u001b[43m \u001b[49m\u001b[38;5;124;43m'\u001b[39;49m\u001b[38;5;124;43mtrain.csv\u001b[39;49m\u001b[38;5;124;43m'\u001b[39;49m\u001b[43m)\u001b[49m\n\u001b[0;32m      3\u001b[0m test_df \u001b[38;5;241m=\u001b[39m pd\u001b[38;5;241m.\u001b[39mread_csv(path \u001b[38;5;241m+\u001b[39m \u001b[38;5;124m'\u001b[39m\u001b[38;5;124mtest.csv\u001b[39m\u001b[38;5;124m'\u001b[39m)\n",
      "File \u001b[1;32mC:\\Anaconda3\\lib\\site-packages\\pandas\\util\\_decorators.py:211\u001b[0m, in \u001b[0;36mdeprecate_kwarg.<locals>._deprecate_kwarg.<locals>.wrapper\u001b[1;34m(*args, **kwargs)\u001b[0m\n\u001b[0;32m    209\u001b[0m     \u001b[38;5;28;01melse\u001b[39;00m:\n\u001b[0;32m    210\u001b[0m         kwargs[new_arg_name] \u001b[38;5;241m=\u001b[39m new_arg_value\n\u001b[1;32m--> 211\u001b[0m \u001b[38;5;28;01mreturn\u001b[39;00m \u001b[43mfunc\u001b[49m\u001b[43m(\u001b[49m\u001b[38;5;241;43m*\u001b[39;49m\u001b[43margs\u001b[49m\u001b[43m,\u001b[49m\u001b[43m \u001b[49m\u001b[38;5;241;43m*\u001b[39;49m\u001b[38;5;241;43m*\u001b[39;49m\u001b[43mkwargs\u001b[49m\u001b[43m)\u001b[49m\n",
      "File \u001b[1;32mC:\\Anaconda3\\lib\\site-packages\\pandas\\util\\_decorators.py:331\u001b[0m, in \u001b[0;36mdeprecate_nonkeyword_arguments.<locals>.decorate.<locals>.wrapper\u001b[1;34m(*args, **kwargs)\u001b[0m\n\u001b[0;32m    325\u001b[0m \u001b[38;5;28;01mif\u001b[39;00m \u001b[38;5;28mlen\u001b[39m(args) \u001b[38;5;241m>\u001b[39m num_allow_args:\n\u001b[0;32m    326\u001b[0m     warnings\u001b[38;5;241m.\u001b[39mwarn(\n\u001b[0;32m    327\u001b[0m         msg\u001b[38;5;241m.\u001b[39mformat(arguments\u001b[38;5;241m=\u001b[39m_format_argument_list(allow_args)),\n\u001b[0;32m    328\u001b[0m         \u001b[38;5;167;01mFutureWarning\u001b[39;00m,\n\u001b[0;32m    329\u001b[0m         stacklevel\u001b[38;5;241m=\u001b[39mfind_stack_level(),\n\u001b[0;32m    330\u001b[0m     )\n\u001b[1;32m--> 331\u001b[0m \u001b[38;5;28;01mreturn\u001b[39;00m \u001b[43mfunc\u001b[49m\u001b[43m(\u001b[49m\u001b[38;5;241;43m*\u001b[39;49m\u001b[43margs\u001b[49m\u001b[43m,\u001b[49m\u001b[43m \u001b[49m\u001b[38;5;241;43m*\u001b[39;49m\u001b[38;5;241;43m*\u001b[39;49m\u001b[43mkwargs\u001b[49m\u001b[43m)\u001b[49m\n",
      "File \u001b[1;32mC:\\Anaconda3\\lib\\site-packages\\pandas\\io\\parsers\\readers.py:950\u001b[0m, in \u001b[0;36mread_csv\u001b[1;34m(filepath_or_buffer, sep, delimiter, header, names, index_col, usecols, squeeze, prefix, mangle_dupe_cols, dtype, engine, converters, true_values, false_values, skipinitialspace, skiprows, skipfooter, nrows, na_values, keep_default_na, na_filter, verbose, skip_blank_lines, parse_dates, infer_datetime_format, keep_date_col, date_parser, dayfirst, cache_dates, iterator, chunksize, compression, thousands, decimal, lineterminator, quotechar, quoting, doublequote, escapechar, comment, encoding, encoding_errors, dialect, error_bad_lines, warn_bad_lines, on_bad_lines, delim_whitespace, low_memory, memory_map, float_precision, storage_options)\u001b[0m\n\u001b[0;32m    935\u001b[0m kwds_defaults \u001b[38;5;241m=\u001b[39m _refine_defaults_read(\n\u001b[0;32m    936\u001b[0m     dialect,\n\u001b[0;32m    937\u001b[0m     delimiter,\n\u001b[1;32m   (...)\u001b[0m\n\u001b[0;32m    946\u001b[0m     defaults\u001b[38;5;241m=\u001b[39m{\u001b[38;5;124m\"\u001b[39m\u001b[38;5;124mdelimiter\u001b[39m\u001b[38;5;124m\"\u001b[39m: \u001b[38;5;124m\"\u001b[39m\u001b[38;5;124m,\u001b[39m\u001b[38;5;124m\"\u001b[39m},\n\u001b[0;32m    947\u001b[0m )\n\u001b[0;32m    948\u001b[0m kwds\u001b[38;5;241m.\u001b[39mupdate(kwds_defaults)\n\u001b[1;32m--> 950\u001b[0m \u001b[38;5;28;01mreturn\u001b[39;00m \u001b[43m_read\u001b[49m\u001b[43m(\u001b[49m\u001b[43mfilepath_or_buffer\u001b[49m\u001b[43m,\u001b[49m\u001b[43m \u001b[49m\u001b[43mkwds\u001b[49m\u001b[43m)\u001b[49m\n",
      "File \u001b[1;32mC:\\Anaconda3\\lib\\site-packages\\pandas\\io\\parsers\\readers.py:605\u001b[0m, in \u001b[0;36m_read\u001b[1;34m(filepath_or_buffer, kwds)\u001b[0m\n\u001b[0;32m    602\u001b[0m _validate_names(kwds\u001b[38;5;241m.\u001b[39mget(\u001b[38;5;124m\"\u001b[39m\u001b[38;5;124mnames\u001b[39m\u001b[38;5;124m\"\u001b[39m, \u001b[38;5;28;01mNone\u001b[39;00m))\n\u001b[0;32m    604\u001b[0m \u001b[38;5;66;03m# Create the parser.\u001b[39;00m\n\u001b[1;32m--> 605\u001b[0m parser \u001b[38;5;241m=\u001b[39m \u001b[43mTextFileReader\u001b[49m\u001b[43m(\u001b[49m\u001b[43mfilepath_or_buffer\u001b[49m\u001b[43m,\u001b[49m\u001b[43m \u001b[49m\u001b[38;5;241;43m*\u001b[39;49m\u001b[38;5;241;43m*\u001b[39;49m\u001b[43mkwds\u001b[49m\u001b[43m)\u001b[49m\n\u001b[0;32m    607\u001b[0m \u001b[38;5;28;01mif\u001b[39;00m chunksize \u001b[38;5;129;01mor\u001b[39;00m iterator:\n\u001b[0;32m    608\u001b[0m     \u001b[38;5;28;01mreturn\u001b[39;00m parser\n",
      "File \u001b[1;32mC:\\Anaconda3\\lib\\site-packages\\pandas\\io\\parsers\\readers.py:1442\u001b[0m, in \u001b[0;36mTextFileReader.__init__\u001b[1;34m(self, f, engine, **kwds)\u001b[0m\n\u001b[0;32m   1439\u001b[0m     \u001b[38;5;28mself\u001b[39m\u001b[38;5;241m.\u001b[39moptions[\u001b[38;5;124m\"\u001b[39m\u001b[38;5;124mhas_index_names\u001b[39m\u001b[38;5;124m\"\u001b[39m] \u001b[38;5;241m=\u001b[39m kwds[\u001b[38;5;124m\"\u001b[39m\u001b[38;5;124mhas_index_names\u001b[39m\u001b[38;5;124m\"\u001b[39m]\n\u001b[0;32m   1441\u001b[0m \u001b[38;5;28mself\u001b[39m\u001b[38;5;241m.\u001b[39mhandles: IOHandles \u001b[38;5;241m|\u001b[39m \u001b[38;5;28;01mNone\u001b[39;00m \u001b[38;5;241m=\u001b[39m \u001b[38;5;28;01mNone\u001b[39;00m\n\u001b[1;32m-> 1442\u001b[0m \u001b[38;5;28mself\u001b[39m\u001b[38;5;241m.\u001b[39m_engine \u001b[38;5;241m=\u001b[39m \u001b[38;5;28;43mself\u001b[39;49m\u001b[38;5;241;43m.\u001b[39;49m\u001b[43m_make_engine\u001b[49m\u001b[43m(\u001b[49m\u001b[43mf\u001b[49m\u001b[43m,\u001b[49m\u001b[43m \u001b[49m\u001b[38;5;28;43mself\u001b[39;49m\u001b[38;5;241;43m.\u001b[39;49m\u001b[43mengine\u001b[49m\u001b[43m)\u001b[49m\n",
      "File \u001b[1;32mC:\\Anaconda3\\lib\\site-packages\\pandas\\io\\parsers\\readers.py:1735\u001b[0m, in \u001b[0;36mTextFileReader._make_engine\u001b[1;34m(self, f, engine)\u001b[0m\n\u001b[0;32m   1733\u001b[0m     \u001b[38;5;28;01mif\u001b[39;00m \u001b[38;5;124m\"\u001b[39m\u001b[38;5;124mb\u001b[39m\u001b[38;5;124m\"\u001b[39m \u001b[38;5;129;01mnot\u001b[39;00m \u001b[38;5;129;01min\u001b[39;00m mode:\n\u001b[0;32m   1734\u001b[0m         mode \u001b[38;5;241m+\u001b[39m\u001b[38;5;241m=\u001b[39m \u001b[38;5;124m\"\u001b[39m\u001b[38;5;124mb\u001b[39m\u001b[38;5;124m\"\u001b[39m\n\u001b[1;32m-> 1735\u001b[0m \u001b[38;5;28mself\u001b[39m\u001b[38;5;241m.\u001b[39mhandles \u001b[38;5;241m=\u001b[39m \u001b[43mget_handle\u001b[49m\u001b[43m(\u001b[49m\n\u001b[0;32m   1736\u001b[0m \u001b[43m    \u001b[49m\u001b[43mf\u001b[49m\u001b[43m,\u001b[49m\n\u001b[0;32m   1737\u001b[0m \u001b[43m    \u001b[49m\u001b[43mmode\u001b[49m\u001b[43m,\u001b[49m\n\u001b[0;32m   1738\u001b[0m \u001b[43m    \u001b[49m\u001b[43mencoding\u001b[49m\u001b[38;5;241;43m=\u001b[39;49m\u001b[38;5;28;43mself\u001b[39;49m\u001b[38;5;241;43m.\u001b[39;49m\u001b[43moptions\u001b[49m\u001b[38;5;241;43m.\u001b[39;49m\u001b[43mget\u001b[49m\u001b[43m(\u001b[49m\u001b[38;5;124;43m\"\u001b[39;49m\u001b[38;5;124;43mencoding\u001b[39;49m\u001b[38;5;124;43m\"\u001b[39;49m\u001b[43m,\u001b[49m\u001b[43m \u001b[49m\u001b[38;5;28;43;01mNone\u001b[39;49;00m\u001b[43m)\u001b[49m\u001b[43m,\u001b[49m\n\u001b[0;32m   1739\u001b[0m \u001b[43m    \u001b[49m\u001b[43mcompression\u001b[49m\u001b[38;5;241;43m=\u001b[39;49m\u001b[38;5;28;43mself\u001b[39;49m\u001b[38;5;241;43m.\u001b[39;49m\u001b[43moptions\u001b[49m\u001b[38;5;241;43m.\u001b[39;49m\u001b[43mget\u001b[49m\u001b[43m(\u001b[49m\u001b[38;5;124;43m\"\u001b[39;49m\u001b[38;5;124;43mcompression\u001b[39;49m\u001b[38;5;124;43m\"\u001b[39;49m\u001b[43m,\u001b[49m\u001b[43m \u001b[49m\u001b[38;5;28;43;01mNone\u001b[39;49;00m\u001b[43m)\u001b[49m\u001b[43m,\u001b[49m\n\u001b[0;32m   1740\u001b[0m \u001b[43m    \u001b[49m\u001b[43mmemory_map\u001b[49m\u001b[38;5;241;43m=\u001b[39;49m\u001b[38;5;28;43mself\u001b[39;49m\u001b[38;5;241;43m.\u001b[39;49m\u001b[43moptions\u001b[49m\u001b[38;5;241;43m.\u001b[39;49m\u001b[43mget\u001b[49m\u001b[43m(\u001b[49m\u001b[38;5;124;43m\"\u001b[39;49m\u001b[38;5;124;43mmemory_map\u001b[39;49m\u001b[38;5;124;43m\"\u001b[39;49m\u001b[43m,\u001b[49m\u001b[43m \u001b[49m\u001b[38;5;28;43;01mFalse\u001b[39;49;00m\u001b[43m)\u001b[49m\u001b[43m,\u001b[49m\n\u001b[0;32m   1741\u001b[0m \u001b[43m    \u001b[49m\u001b[43mis_text\u001b[49m\u001b[38;5;241;43m=\u001b[39;49m\u001b[43mis_text\u001b[49m\u001b[43m,\u001b[49m\n\u001b[0;32m   1742\u001b[0m \u001b[43m    \u001b[49m\u001b[43merrors\u001b[49m\u001b[38;5;241;43m=\u001b[39;49m\u001b[38;5;28;43mself\u001b[39;49m\u001b[38;5;241;43m.\u001b[39;49m\u001b[43moptions\u001b[49m\u001b[38;5;241;43m.\u001b[39;49m\u001b[43mget\u001b[49m\u001b[43m(\u001b[49m\u001b[38;5;124;43m\"\u001b[39;49m\u001b[38;5;124;43mencoding_errors\u001b[39;49m\u001b[38;5;124;43m\"\u001b[39;49m\u001b[43m,\u001b[49m\u001b[43m \u001b[49m\u001b[38;5;124;43m\"\u001b[39;49m\u001b[38;5;124;43mstrict\u001b[39;49m\u001b[38;5;124;43m\"\u001b[39;49m\u001b[43m)\u001b[49m\u001b[43m,\u001b[49m\n\u001b[0;32m   1743\u001b[0m \u001b[43m    \u001b[49m\u001b[43mstorage_options\u001b[49m\u001b[38;5;241;43m=\u001b[39;49m\u001b[38;5;28;43mself\u001b[39;49m\u001b[38;5;241;43m.\u001b[39;49m\u001b[43moptions\u001b[49m\u001b[38;5;241;43m.\u001b[39;49m\u001b[43mget\u001b[49m\u001b[43m(\u001b[49m\u001b[38;5;124;43m\"\u001b[39;49m\u001b[38;5;124;43mstorage_options\u001b[39;49m\u001b[38;5;124;43m\"\u001b[39;49m\u001b[43m,\u001b[49m\u001b[43m \u001b[49m\u001b[38;5;28;43;01mNone\u001b[39;49;00m\u001b[43m)\u001b[49m\u001b[43m,\u001b[49m\n\u001b[0;32m   1744\u001b[0m \u001b[43m\u001b[49m\u001b[43m)\u001b[49m\n\u001b[0;32m   1745\u001b[0m \u001b[38;5;28;01massert\u001b[39;00m \u001b[38;5;28mself\u001b[39m\u001b[38;5;241m.\u001b[39mhandles \u001b[38;5;129;01mis\u001b[39;00m \u001b[38;5;129;01mnot\u001b[39;00m \u001b[38;5;28;01mNone\u001b[39;00m\n\u001b[0;32m   1746\u001b[0m f \u001b[38;5;241m=\u001b[39m \u001b[38;5;28mself\u001b[39m\u001b[38;5;241m.\u001b[39mhandles\u001b[38;5;241m.\u001b[39mhandle\n",
      "File \u001b[1;32mC:\\Anaconda3\\lib\\site-packages\\pandas\\io\\common.py:856\u001b[0m, in \u001b[0;36mget_handle\u001b[1;34m(path_or_buf, mode, encoding, compression, memory_map, is_text, errors, storage_options)\u001b[0m\n\u001b[0;32m    851\u001b[0m \u001b[38;5;28;01melif\u001b[39;00m \u001b[38;5;28misinstance\u001b[39m(handle, \u001b[38;5;28mstr\u001b[39m):\n\u001b[0;32m    852\u001b[0m     \u001b[38;5;66;03m# Check whether the filename is to be opened in binary mode.\u001b[39;00m\n\u001b[0;32m    853\u001b[0m     \u001b[38;5;66;03m# Binary mode does not support 'encoding' and 'newline'.\u001b[39;00m\n\u001b[0;32m    854\u001b[0m     \u001b[38;5;28;01mif\u001b[39;00m ioargs\u001b[38;5;241m.\u001b[39mencoding \u001b[38;5;129;01mand\u001b[39;00m \u001b[38;5;124m\"\u001b[39m\u001b[38;5;124mb\u001b[39m\u001b[38;5;124m\"\u001b[39m \u001b[38;5;129;01mnot\u001b[39;00m \u001b[38;5;129;01min\u001b[39;00m ioargs\u001b[38;5;241m.\u001b[39mmode:\n\u001b[0;32m    855\u001b[0m         \u001b[38;5;66;03m# Encoding\u001b[39;00m\n\u001b[1;32m--> 856\u001b[0m         handle \u001b[38;5;241m=\u001b[39m \u001b[38;5;28;43mopen\u001b[39;49m\u001b[43m(\u001b[49m\n\u001b[0;32m    857\u001b[0m \u001b[43m            \u001b[49m\u001b[43mhandle\u001b[49m\u001b[43m,\u001b[49m\n\u001b[0;32m    858\u001b[0m \u001b[43m            \u001b[49m\u001b[43mioargs\u001b[49m\u001b[38;5;241;43m.\u001b[39;49m\u001b[43mmode\u001b[49m\u001b[43m,\u001b[49m\n\u001b[0;32m    859\u001b[0m \u001b[43m            \u001b[49m\u001b[43mencoding\u001b[49m\u001b[38;5;241;43m=\u001b[39;49m\u001b[43mioargs\u001b[49m\u001b[38;5;241;43m.\u001b[39;49m\u001b[43mencoding\u001b[49m\u001b[43m,\u001b[49m\n\u001b[0;32m    860\u001b[0m \u001b[43m            \u001b[49m\u001b[43merrors\u001b[49m\u001b[38;5;241;43m=\u001b[39;49m\u001b[43merrors\u001b[49m\u001b[43m,\u001b[49m\n\u001b[0;32m    861\u001b[0m \u001b[43m            \u001b[49m\u001b[43mnewline\u001b[49m\u001b[38;5;241;43m=\u001b[39;49m\u001b[38;5;124;43m\"\u001b[39;49m\u001b[38;5;124;43m\"\u001b[39;49m\u001b[43m,\u001b[49m\n\u001b[0;32m    862\u001b[0m \u001b[43m        \u001b[49m\u001b[43m)\u001b[49m\n\u001b[0;32m    863\u001b[0m     \u001b[38;5;28;01melse\u001b[39;00m:\n\u001b[0;32m    864\u001b[0m         \u001b[38;5;66;03m# Binary mode\u001b[39;00m\n\u001b[0;32m    865\u001b[0m         handle \u001b[38;5;241m=\u001b[39m \u001b[38;5;28mopen\u001b[39m(handle, ioargs\u001b[38;5;241m.\u001b[39mmode)\n",
      "\u001b[1;31mFileNotFoundError\u001b[0m: [Errno 2] No such file or directory: 'C:/k_digital/Machine Learning with Python/source/house_price/train.csv'"
     ]
    }
   ],
   "source": [
    "path = \"C:/k_digital/Machine Learning with Python/source/house_price/\"\n",
    "train_df = pd.read_csv(path + 'train.csv')\n",
    "test_df = pd.read_csv(path + 'test.csv')"
   ]
  },
  {
   "cell_type": "code",
   "execution_count": null,
   "id": "9b8c5081",
   "metadata": {
    "ExecuteTime": {
     "end_time": "2023-11-01T07:36:00.440097Z",
     "start_time": "2023-11-01T07:36:00.440097Z"
    }
   },
   "outputs": [],
   "source": [
    "train_df.shape, test_df.shape"
   ]
  },
  {
   "cell_type": "code",
   "execution_count": null,
   "id": "e4e4681f",
   "metadata": {
    "ExecuteTime": {
     "end_time": "2023-11-01T07:36:00.442098Z",
     "start_time": "2023-11-01T07:36:00.441099Z"
    }
   },
   "outputs": [],
   "source": [
    "train_df.head()"
   ]
  },
  {
   "cell_type": "code",
   "execution_count": null,
   "id": "d812d8ff",
   "metadata": {
    "ExecuteTime": {
     "end_time": "2023-11-01T07:36:00.442098Z",
     "start_time": "2023-11-01T07:36:00.442098Z"
    }
   },
   "outputs": [],
   "source": [
    "train_ID = train_df['Id']\n",
    "test_ID = test_df['Id']\n",
    "\n",
    "train_df.drop('Id', axis=1, inplace=True)\n",
    "test_df.drop('Id', axis=1, inplace=True)"
   ]
  },
  {
   "cell_type": "markdown",
   "id": "c4bda44c",
   "metadata": {},
   "source": [
    "## 데이터 전처리"
   ]
  },
  {
   "cell_type": "markdown",
   "id": "0408fad5",
   "metadata": {},
   "source": [
    "### 이상치 분석\n",
    "\n",
    "- GrLivArea: Above grade (ground) living area square feet\n",
    "- SalePrice - the property's sale price in dollars. This is the target variable that you're trying to predict."
   ]
  },
  {
   "cell_type": "code",
   "execution_count": null,
   "id": "c5624a1e",
   "metadata": {
    "ExecuteTime": {
     "end_time": "2023-11-01T07:36:00.444097Z",
     "start_time": "2023-11-01T07:36:00.444097Z"
    }
   },
   "outputs": [],
   "source": [
    "plt.figure(figsize=(12, 12))\n",
    "plt.scatter(x = train_df['GrLivArea'], y= train_df['SalePrice'])\n",
    "plt.xlabel('GrLivArea')\n",
    "plt.ylabel('SalePrice')\n",
    "plt.show()"
   ]
  },
  {
   "cell_type": "code",
   "execution_count": null,
   "id": "bfdbc8d2",
   "metadata": {
    "ExecuteTime": {
     "end_time": "2023-11-01T07:36:00.446097Z",
     "start_time": "2023-11-01T07:36:00.446097Z"
    }
   },
   "outputs": [],
   "source": [
    "train_df = train_df.drop(train_df[(train_df['GrLivArea']>4000) & (train_df['SalePrice']<300000)].index) "
   ]
  },
  {
   "cell_type": "code",
   "execution_count": null,
   "id": "899be938",
   "metadata": {
    "ExecuteTime": {
     "end_time": "2023-11-01T07:36:00.447097Z",
     "start_time": "2023-11-01T07:36:00.447097Z"
    }
   },
   "outputs": [],
   "source": [
    "plt.figure(figsize=(12, 12))\n",
    "plt.scatter(x = train_df['GrLivArea'], y= train_df['SalePrice'])\n",
    "plt.xlabel('GrLivArea')\n",
    "plt.ylabel('SalePrice')\n",
    "plt.show()"
   ]
  },
  {
   "cell_type": "markdown",
   "id": "89ef337d",
   "metadata": {},
   "source": [
    "### Target : SalePrice분석\n",
    "\n",
    "- Q-Q Plot : 두 데이터 집단 간의 분포 체크\n",
    "- Q-Q wiki\n",
    "- Q-Q plot 한글 블로그 자료 : sw4r님"
   ]
  },
  {
   "cell_type": "code",
   "execution_count": null,
   "id": "b7b87960",
   "metadata": {
    "ExecuteTime": {
     "end_time": "2023-11-01T07:36:00.448098Z",
     "start_time": "2023-11-01T07:36:00.448098Z"
    }
   },
   "outputs": [],
   "source": [
    "from scipy import stats\n",
    "from scipy.stats import norm, skew\n",
    "\n",
    "sns.distplot(train_df['SalePrice'], fit=norm)\n",
    "\n",
    "# Get the fitted parameters used by the function\n",
    "(mu, sigma) = norm.fit(train_df['SalePrice'])\n",
    "print(mu, sigma)\n",
    "\n",
    "# 분포를 그래프에 그려봅시다\n",
    "plt.legend(['Normal dist. ($\\mu$={:.2f} and $\\sigma$={:.2f})'.format(mu,sigma)], loc='best')\n",
    "plt.ylabel('Frequency')\n",
    "plt.title('SalePrice distribution')\n",
    "\n",
    "# QQ-plot을 그려봅시다.\n",
    "fig = plt.figure()\n",
    "res = stats.probplot(train_df['SalePrice'], plot=plt)\n",
    "plt.show()"
   ]
  },
  {
   "cell_type": "markdown",
   "id": "f9b9f42e",
   "metadata": {},
   "source": [
    "- 분포가 오른쪽으로 치우친 경향을 보인다.\n",
    "- 선형 모델을 사용할 경우 분포가 균형잡힌 상태에 더 용이하다"
   ]
  },
  {
   "cell_type": "code",
   "execution_count": null,
   "id": "a028a9d0",
   "metadata": {
    "ExecuteTime": {
     "end_time": "2023-11-01T07:36:00.450152Z",
     "start_time": "2023-11-01T07:36:00.450152Z"
    }
   },
   "outputs": [],
   "source": [
    "# 데이터의 정규화를 위한 numpy의 log1p 함수를 사용\n",
    "train_df['SalePrice'] = np.log1p(train_df['SalePrice'])\n",
    "\n",
    "# 위에서와 같은 코드로 똑같이 분포를 확인해봅니다.\n",
    "sns.distplot(train_df['SalePrice'], fit=norm)\n",
    "(mu, sigma) = norm.fit(train_df['SalePrice'])\n",
    "print(mu, sigma)\n",
    "plt.legend(['Normal dist. ($\\mu$={:.2f} and $\\sigma$={:.2f})'.format(mu,sigma)], loc='best')\n",
    "plt.ylabel('Frequency')\n",
    "plt.title('SalePrice distribution')\n",
    "fig = plt.figure()\n",
    "res = stats.probplot(train_df['SalePrice'], plot=plt)\n",
    "plt.show()"
   ]
  },
  {
   "cell_type": "markdown",
   "id": "2394c66a",
   "metadata": {},
   "source": [
    "- 정규분포에 매우 근접하게 값들이 바뀐것을 확인할 수 있다."
   ]
  },
  {
   "cell_type": "markdown",
   "id": "21ac9d49",
   "metadata": {},
   "source": [
    "### Feature Engineering"
   ]
  },
  {
   "cell_type": "code",
   "execution_count": null,
   "id": "e13fbe93",
   "metadata": {
    "ExecuteTime": {
     "end_time": "2023-11-01T07:36:00.451656Z",
     "start_time": "2023-11-01T07:36:00.451656Z"
    }
   },
   "outputs": [],
   "source": [
    "test_df.columns"
   ]
  },
  {
   "cell_type": "code",
   "execution_count": null,
   "id": "5f00cbf2",
   "metadata": {
    "ExecuteTime": {
     "end_time": "2023-11-01T07:36:00.452654Z",
     "start_time": "2023-11-01T07:36:00.452654Z"
    }
   },
   "outputs": [],
   "source": [
    "y_train = train_df.SalePrice.values\n",
    "\n",
    "train_df.drop(['SalePrice'], axis=1, inplace=True)"
   ]
  },
  {
   "cell_type": "markdown",
   "id": "90ad0ce9",
   "metadata": {},
   "source": [
    "- 결측치 처리"
   ]
  },
  {
   "cell_type": "code",
   "execution_count": null,
   "id": "77d13296",
   "metadata": {
    "ExecuteTime": {
     "end_time": "2023-11-01T07:36:00.455656Z",
     "start_time": "2023-11-01T07:36:00.455656Z"
    }
   },
   "outputs": [],
   "source": [
    "train_df.isnull().sum()"
   ]
  },
  {
   "cell_type": "code",
   "execution_count": null,
   "id": "1242e03f",
   "metadata": {
    "ExecuteTime": {
     "end_time": "2023-11-01T07:36:00.456654Z",
     "start_time": "2023-11-01T07:36:00.456654Z"
    }
   },
   "outputs": [],
   "source": [
    "train_df.info()"
   ]
  },
  {
   "cell_type": "code",
   "execution_count": null,
   "id": "cf7ef4a1",
   "metadata": {
    "ExecuteTime": {
     "end_time": "2023-11-01T07:36:00.457654Z",
     "start_time": "2023-11-01T07:36:00.457654Z"
    }
   },
   "outputs": [],
   "source": [
    "corr = train_df.corr()\n",
    "plt.figure(figsize=(12, 10))\n",
    "sns.heatmap(corr, vmax=0.9, square=True)\n",
    "plt.show()"
   ]
  },
  {
   "cell_type": "markdown",
   "id": "9b968b4a",
   "metadata": {},
   "source": [
    "- 분석을 위해 train, test 데이터셋 합치기"
   ]
  },
  {
   "cell_type": "code",
   "execution_count": null,
   "id": "b7662f21",
   "metadata": {
    "ExecuteTime": {
     "end_time": "2023-11-01T07:36:00.459654Z",
     "start_time": "2023-11-01T07:36:00.459654Z"
    }
   },
   "outputs": [],
   "source": [
    "all_data = pd.concat((train_df, test_df)).reset_index(drop=True)\n",
    "#all_data.drop(['SalePrice'], axis=1, inplace=True)\n",
    "all_data.shape"
   ]
  },
  {
   "cell_type": "markdown",
   "id": "52f58de1",
   "metadata": {},
   "source": [
    "### 결측치 처리\n",
    "\n",
    "- 수치형 데이터의 경우 0, 범주형 데이터의 경우 'None'로 대체"
   ]
  },
  {
   "cell_type": "code",
   "execution_count": null,
   "id": "d5cfe522",
   "metadata": {
    "ExecuteTime": {
     "end_time": "2023-11-01T07:36:00.460673Z",
     "start_time": "2023-11-01T07:36:00.460673Z"
    }
   },
   "outputs": [],
   "source": [
    "rate = (all_data.isnull().sum() / len(all_data)) * 100\n",
    "rate = rate.drop(rate[rate == 0].index).sort_values(ascending=False)\n",
    "\n",
    "missing_data = pd.DataFrame({'Missing Rate':rate})\n",
    "missing_data"
   ]
  },
  {
   "cell_type": "markdown",
   "id": "9da7e88d",
   "metadata": {},
   "source": [
    "- PoolQC : NA값은 'No Pool'을 의미\t"
   ]
  },
  {
   "cell_type": "code",
   "execution_count": null,
   "id": "9cd0edab",
   "metadata": {
    "ExecuteTime": {
     "end_time": "2023-11-01T07:36:00.462653Z",
     "start_time": "2023-11-01T07:36:00.461653Z"
    }
   },
   "outputs": [],
   "source": [
    "all_data['PoolQC'] = all_data['PoolQC'].fillna('None')"
   ]
  },
  {
   "cell_type": "markdown",
   "id": "0b5b1a34",
   "metadata": {},
   "source": [
    "- MiscFeature, Alley, Fence, FireplaceQu : 없음을 의미 "
   ]
  },
  {
   "cell_type": "code",
   "execution_count": null,
   "id": "05c63146",
   "metadata": {
    "ExecuteTime": {
     "end_time": "2023-11-01T07:36:00.463652Z",
     "start_time": "2023-11-01T07:36:00.463652Z"
    }
   },
   "outputs": [],
   "source": [
    "all_data['MiscFeature'] = all_data['MiscFeature'].fillna('None')\n",
    "all_data['Alley'] = all_data['Alley'].fillna('None')\n",
    "all_data['Fence'] = all_data['Fence'].fillna('None')\n",
    "all_data['FireplaceQu'] = all_data['FireplaceQu'].fillna('None')"
   ]
  },
  {
   "cell_type": "markdown",
   "id": "cac0ebea",
   "metadata": {},
   "source": [
    "- LotFrontage : Linear feet of street connected to property\n",
    "- 거리와 집의 거리를 나타냄\n",
    "- 이웃들의 거리와 유사하다고 판단하여 이웃들의 중앙값으로 대체"
   ]
  },
  {
   "cell_type": "code",
   "execution_count": null,
   "id": "bb0d7fc3",
   "metadata": {
    "ExecuteTime": {
     "end_time": "2023-11-01T07:36:00.464660Z",
     "start_time": "2023-11-01T07:36:00.464660Z"
    }
   },
   "outputs": [],
   "source": [
    "all_data['LotFrontage'] = all_data.groupby('Neighborhood')['LotFrontage'].transform(lambda x : x.fillna(x.median()))"
   ]
  },
  {
   "cell_type": "markdown",
   "id": "c3359fed",
   "metadata": {},
   "source": [
    "- GarageType, GarageFinish, GarageQual, GarageCond 모두 Na => None"
   ]
  },
  {
   "cell_type": "code",
   "execution_count": null,
   "id": "ee9dc02d",
   "metadata": {
    "ExecuteTime": {
     "end_time": "2023-11-01T07:36:00.467281Z",
     "start_time": "2023-11-01T07:36:00.467281Z"
    }
   },
   "outputs": [],
   "source": [
    "for col in ['GarageType', 'GarageFinish', 'GarageQual', 'GarageCond']:\n",
    "    all_data[col] = all_data[col].fillna('None')"
   ]
  },
  {
   "cell_type": "code",
   "execution_count": null,
   "id": "2bbb7493",
   "metadata": {
    "ExecuteTime": {
     "end_time": "2023-11-01T07:36:00.468271Z",
     "start_time": "2023-11-01T07:36:00.468271Z"
    }
   },
   "outputs": [],
   "source": [
    "for col in ['GarageYrBlt', 'GarageCars', 'GarageArea']:\n",
    "    all_data[col] = all_data[col].fillna(0)"
   ]
  },
  {
   "cell_type": "code",
   "execution_count": null,
   "id": "6fb31e60",
   "metadata": {
    "ExecuteTime": {
     "end_time": "2023-11-01T07:36:00.469272Z",
     "start_time": "2023-11-01T07:36:00.469272Z"
    }
   },
   "outputs": [],
   "source": [
    "col_list = ['BsmtQual', 'BsmtCond', 'BsmtExposure', 'BsmtFinType1', 'BsmtFinType2']\n",
    "for col in col_list:\n",
    "    all_data[col] = all_data[col].fillna('None')"
   ]
  },
  {
   "cell_type": "code",
   "execution_count": null,
   "id": "cd8ca0f1",
   "metadata": {
    "ExecuteTime": {
     "end_time": "2023-11-01T07:36:00.471272Z",
     "start_time": "2023-11-01T07:36:00.471272Z"
    }
   },
   "outputs": [],
   "source": [
    "for col in ['BsmtFinSF1','BsmtFinSF2', 'BsmtUnfSF', 'TotalBsmtSF', 'BsmtFullBath', 'BsmtHalfBath']:\n",
    "    all_data[col] = all_data[col].fillna(0)"
   ]
  },
  {
   "cell_type": "code",
   "execution_count": null,
   "id": "d437cc00",
   "metadata": {
    "ExecuteTime": {
     "end_time": "2023-11-01T07:36:00.472271Z",
     "start_time": "2023-11-01T07:36:00.472271Z"
    }
   },
   "outputs": [],
   "source": [
    "all_data['MasVnrType'] = all_data['MasVnrType'].fillna('None')\n",
    "all_data['MasVnrArea'] = all_data['MasVnrArea'].fillna(0)"
   ]
  },
  {
   "cell_type": "markdown",
   "id": "41fb8227",
   "metadata": {},
   "source": [
    "- MSZoning: the general zoning classification\n",
    "- RL이 최빈값으로 빈 부분은 RL로 채움"
   ]
  },
  {
   "cell_type": "code",
   "execution_count": null,
   "id": "668c0374",
   "metadata": {
    "ExecuteTime": {
     "end_time": "2023-11-01T07:36:00.473271Z",
     "start_time": "2023-11-01T07:36:00.473271Z"
    }
   },
   "outputs": [],
   "source": [
    "all_data['MSZoning'] = all_data['MSZoning'].fillna(all_data['MSZoning'].mode()[0])"
   ]
  },
  {
   "cell_type": "code",
   "execution_count": null,
   "id": "059cc9c5",
   "metadata": {
    "ExecuteTime": {
     "end_time": "2023-11-01T07:36:00.474269Z",
     "start_time": "2023-11-01T07:36:00.474269Z"
    }
   },
   "outputs": [],
   "source": [
    "all_data.info()"
   ]
  },
  {
   "cell_type": "code",
   "execution_count": null,
   "id": "7708672d",
   "metadata": {
    "ExecuteTime": {
     "end_time": "2023-11-01T07:36:00.476271Z",
     "start_time": "2023-11-01T07:36:00.476271Z"
    }
   },
   "outputs": [],
   "source": [
    "rate = (all_data.isnull().sum() / len(all_data)) * 100\n",
    "rate = rate.drop(rate[rate == 0].index).sort_values(ascending=False)\n",
    "\n",
    "missing_data = pd.DataFrame({'Missing Rate':rate})\n",
    "missing_data"
   ]
  },
  {
   "cell_type": "markdown",
   "id": "d70b0925",
   "metadata": {},
   "source": [
    "- Utilities: Type of utilities available "
   ]
  },
  {
   "cell_type": "code",
   "execution_count": null,
   "id": "220335a6",
   "metadata": {
    "ExecuteTime": {
     "end_time": "2023-11-01T07:36:00.477270Z",
     "start_time": "2023-11-01T07:36:00.477270Z"
    }
   },
   "outputs": [],
   "source": [
    "all_data = all_data.drop(['Utilities'], axis=1)"
   ]
  },
  {
   "cell_type": "markdown",
   "id": "fb0cc3a5",
   "metadata": {},
   "source": [
    "- Functional"
   ]
  },
  {
   "cell_type": "code",
   "execution_count": null,
   "id": "4b3b38ef",
   "metadata": {
    "ExecuteTime": {
     "end_time": "2023-11-01T07:36:00.478271Z",
     "start_time": "2023-11-01T07:36:00.478271Z"
    }
   },
   "outputs": [],
   "source": [
    "all_data['Functional'] = all_data['Functional'].fillna('Typ')"
   ]
  },
  {
   "cell_type": "markdown",
   "id": "f6edc4d2",
   "metadata": {},
   "source": [
    "- Exterior1st, Exterior2nd, Electrical, KitchenQual, SaleType 모두 최빈값 대체"
   ]
  },
  {
   "cell_type": "code",
   "execution_count": null,
   "id": "14271a12",
   "metadata": {
    "ExecuteTime": {
     "end_time": "2023-11-01T07:36:00.479270Z",
     "start_time": "2023-11-01T07:36:00.479270Z"
    }
   },
   "outputs": [],
   "source": [
    "for col in ['Exterior1st', 'Exterior2nd', 'Electrical', 'KitchenQual', 'SaleType']:\n",
    "    all_data[col] = all_data[col].fillna(all_data[col].mode()[0])"
   ]
  },
  {
   "cell_type": "code",
   "execution_count": null,
   "id": "99cf21fb",
   "metadata": {
    "ExecuteTime": {
     "end_time": "2023-11-01T07:36:00.480270Z",
     "start_time": "2023-11-01T07:36:00.480270Z"
    }
   },
   "outputs": [],
   "source": [
    "rate = (all_data.isnull().sum() / len(all_data)) * 100\n",
    "rate = rate.drop(rate[rate == 0].index).sort_values(ascending=False)\n",
    "\n",
    "missing_data = pd.DataFrame({'Missing Rate':rate})\n",
    "missing_data"
   ]
  },
  {
   "cell_type": "markdown",
   "id": "531ea960",
   "metadata": {},
   "source": [
    "### 형변환"
   ]
  },
  {
   "cell_type": "code",
   "execution_count": null,
   "id": "768b7a0e",
   "metadata": {
    "ExecuteTime": {
     "end_time": "2023-11-01T07:36:00.481720Z",
     "start_time": "2023-11-01T07:36:00.481720Z"
    }
   },
   "outputs": [],
   "source": [
    "all_data.info()"
   ]
  },
  {
   "cell_type": "code",
   "execution_count": null,
   "id": "31e9b99d",
   "metadata": {
    "ExecuteTime": {
     "end_time": "2023-11-01T07:36:00.482778Z",
     "start_time": "2023-11-01T07:36:00.482778Z"
    }
   },
   "outputs": [],
   "source": [
    "# 수치형 값들 중 범주형의 특성을 가진것 변환\n",
    "\n",
    "for col in ['MSSubClass', 'OverallQual']:\n",
    "    all_data[col] = all_data[col].astype(str)"
   ]
  },
  {
   "cell_type": "code",
   "execution_count": null,
   "id": "cc1aa460",
   "metadata": {},
   "outputs": [],
   "source": []
  }
 ],
 "metadata": {
  "kernelspec": {
   "display_name": "Python 3 (ipykernel)",
   "language": "python",
   "name": "python3"
  },
  "language_info": {
   "codemirror_mode": {
    "name": "ipython",
    "version": 3
   },
   "file_extension": ".py",
   "mimetype": "text/x-python",
   "name": "python",
   "nbconvert_exporter": "python",
   "pygments_lexer": "ipython3",
   "version": "3.8.17"
  },
  "toc": {
   "base_numbering": 1,
   "nav_menu": {},
   "number_sections": true,
   "sideBar": true,
   "skip_h1_title": false,
   "title_cell": "Table of Contents",
   "title_sidebar": "Contents",
   "toc_cell": false,
   "toc_position": {
    "height": "calc(100% - 180px)",
    "left": "10px",
    "top": "150px",
    "width": "219.429px"
   },
   "toc_section_display": true,
   "toc_window_display": false
  },
  "varInspector": {
   "cols": {
    "lenName": 16,
    "lenType": 16,
    "lenVar": 40
   },
   "kernels_config": {
    "python": {
     "delete_cmd_postfix": "",
     "delete_cmd_prefix": "del ",
     "library": "var_list.py",
     "varRefreshCmd": "print(var_dic_list())"
    },
    "r": {
     "delete_cmd_postfix": ") ",
     "delete_cmd_prefix": "rm(",
     "library": "var_list.r",
     "varRefreshCmd": "cat(var_dic_list()) "
    }
   },
   "types_to_exclude": [
    "module",
    "function",
    "builtin_function_or_method",
    "instance",
    "_Feature"
   ],
   "window_display": false
  }
 },
 "nbformat": 4,
 "nbformat_minor": 5
}
