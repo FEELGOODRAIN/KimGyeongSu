{
 "cells": [
  {
   "cell_type": "code",
   "execution_count": 99,
   "id": "edb2da8e",
   "metadata": {
    "ExecuteTime": {
     "end_time": "2023-11-02T08:18:24.739201Z",
     "start_time": "2023-11-02T08:18:24.716091Z"
    }
   },
   "outputs": [],
   "source": [
    "import numpy as np\n",
    "import pandas as pd\n",
    "import matplotlib as mpl\n",
    "import matplotlib.pyplot as plt\n",
    "import mglearn\n",
    "%matplotlib inline\n",
    "import seaborn as sns\n",
    "import platform\n",
    "from matplotlib import font_manager , rc\n",
    "\n",
    "if platform.system() == 'Darwin':\n",
    "  rc('font' , family = 'AppleGothic')\n",
    "elif platform.system() == 'Windows':\n",
    "  path = 'C:/Windows/Fonts/malgun.ttf'\n",
    "  font_name = font_manager.FontProperties(fname = path).get_name()\n",
    "  rc('font' , family = font_name)\n",
    "else:\n",
    "  print('모름')\n",
    "plt.rcParams['axes.unicode_minus'] = False\n",
    "import warnings\n",
    "warnings.filterwarnings('ignore')"
   ]
  },
  {
   "cell_type": "code",
   "execution_count": 100,
   "id": "a99ba7b7",
   "metadata": {
    "ExecuteTime": {
     "end_time": "2023-11-02T08:18:24.754586Z",
     "start_time": "2023-11-02T08:18:24.741546Z"
    }
   },
   "outputs": [],
   "source": [
    "from sklearn.metrics import accuracy_score, precision_score, recall_score, roc_auc_score\n",
    "from sklearn.metrics import f1_score, confusion_matrix, roc_curve, precision_recall_curve\n",
    "def get(y_test, pred=None, pred_proba=None):\n",
    "    confusion = confusion_matrix(y_test, pred)\n",
    "    accuracy = accuracy_score(y_test, pred)\n",
    "    precision = precision_score(y_test, pred)\n",
    "    recall = recall_score(y_test, pred)\n",
    "    f1 = f1_score(y_test, pred)\n",
    "    #roc_auc = roc_auc_score(y_test, pred_proba)\n",
    "\n",
    "    print('오차 행렬(혼동 행렬)')\n",
    "    print(confusion)\n",
    "\n",
    "    print(f'정확도:{accuracy:.4f}, 정밀도:{precision:.4f}, 재현율:{recall:.4f}, F1:{f1:.4f}')\n",
    "\n",
    "def model_fit(model , train_input , train_target):\n",
    "    model.fit(train_input , train_target)\n",
    "    pred = model.predict(test_input)\n",
    "    return get(test_target , pred)"
   ]
  },
  {
   "cell_type": "markdown",
   "id": "fa1afc82",
   "metadata": {},
   "source": [
    "# 피마 인디언 당뇨병 예측"
   ]
  },
  {
   "cell_type": "markdown",
   "id": "df949d94",
   "metadata": {},
   "source": [
    "## 데이터셋 로딩"
   ]
  },
  {
   "cell_type": "code",
   "execution_count": 101,
   "id": "8452e24f",
   "metadata": {
    "ExecuteTime": {
     "end_time": "2023-11-02T08:18:24.769721Z",
     "start_time": "2023-11-02T08:18:24.755587Z"
    }
   },
   "outputs": [],
   "source": [
    "df = pd.read_csv('diabetes.csv')"
   ]
  },
  {
   "cell_type": "markdown",
   "id": "9af15ffd",
   "metadata": {},
   "source": [
    "## 전처리"
   ]
  },
  {
   "cell_type": "code",
   "execution_count": 102,
   "id": "2d4b65a3",
   "metadata": {
    "ExecuteTime": {
     "end_time": "2023-11-02T08:18:24.800733Z",
     "start_time": "2023-11-02T08:18:24.772119Z"
    }
   },
   "outputs": [
    {
     "data": {
      "text/html": [
       "<div>\n",
       "<style scoped>\n",
       "    .dataframe tbody tr th:only-of-type {\n",
       "        vertical-align: middle;\n",
       "    }\n",
       "\n",
       "    .dataframe tbody tr th {\n",
       "        vertical-align: top;\n",
       "    }\n",
       "\n",
       "    .dataframe thead th {\n",
       "        text-align: right;\n",
       "    }\n",
       "</style>\n",
       "<table border=\"1\" class=\"dataframe\">\n",
       "  <thead>\n",
       "    <tr style=\"text-align: right;\">\n",
       "      <th></th>\n",
       "      <th>count</th>\n",
       "      <th>mean</th>\n",
       "      <th>std</th>\n",
       "      <th>min</th>\n",
       "      <th>25%</th>\n",
       "      <th>50%</th>\n",
       "      <th>75%</th>\n",
       "      <th>max</th>\n",
       "    </tr>\n",
       "  </thead>\n",
       "  <tbody>\n",
       "    <tr>\n",
       "      <th>Pregnancies</th>\n",
       "      <td>768.0</td>\n",
       "      <td>3.845052</td>\n",
       "      <td>3.369578</td>\n",
       "      <td>0.000</td>\n",
       "      <td>1.00000</td>\n",
       "      <td>3.0000</td>\n",
       "      <td>6.00000</td>\n",
       "      <td>17.00</td>\n",
       "    </tr>\n",
       "    <tr>\n",
       "      <th>Glucose</th>\n",
       "      <td>768.0</td>\n",
       "      <td>120.894531</td>\n",
       "      <td>31.972618</td>\n",
       "      <td>0.000</td>\n",
       "      <td>99.00000</td>\n",
       "      <td>117.0000</td>\n",
       "      <td>140.25000</td>\n",
       "      <td>199.00</td>\n",
       "    </tr>\n",
       "    <tr>\n",
       "      <th>BloodPressure</th>\n",
       "      <td>768.0</td>\n",
       "      <td>69.105469</td>\n",
       "      <td>19.355807</td>\n",
       "      <td>0.000</td>\n",
       "      <td>62.00000</td>\n",
       "      <td>72.0000</td>\n",
       "      <td>80.00000</td>\n",
       "      <td>122.00</td>\n",
       "    </tr>\n",
       "    <tr>\n",
       "      <th>SkinThickness</th>\n",
       "      <td>768.0</td>\n",
       "      <td>20.536458</td>\n",
       "      <td>15.952218</td>\n",
       "      <td>0.000</td>\n",
       "      <td>0.00000</td>\n",
       "      <td>23.0000</td>\n",
       "      <td>32.00000</td>\n",
       "      <td>99.00</td>\n",
       "    </tr>\n",
       "    <tr>\n",
       "      <th>Insulin</th>\n",
       "      <td>768.0</td>\n",
       "      <td>79.799479</td>\n",
       "      <td>115.244002</td>\n",
       "      <td>0.000</td>\n",
       "      <td>0.00000</td>\n",
       "      <td>30.5000</td>\n",
       "      <td>127.25000</td>\n",
       "      <td>846.00</td>\n",
       "    </tr>\n",
       "    <tr>\n",
       "      <th>BMI</th>\n",
       "      <td>768.0</td>\n",
       "      <td>31.992578</td>\n",
       "      <td>7.884160</td>\n",
       "      <td>0.000</td>\n",
       "      <td>27.30000</td>\n",
       "      <td>32.0000</td>\n",
       "      <td>36.60000</td>\n",
       "      <td>67.10</td>\n",
       "    </tr>\n",
       "    <tr>\n",
       "      <th>DiabetesPedigreeFunction</th>\n",
       "      <td>768.0</td>\n",
       "      <td>0.471876</td>\n",
       "      <td>0.331329</td>\n",
       "      <td>0.078</td>\n",
       "      <td>0.24375</td>\n",
       "      <td>0.3725</td>\n",
       "      <td>0.62625</td>\n",
       "      <td>2.42</td>\n",
       "    </tr>\n",
       "    <tr>\n",
       "      <th>Age</th>\n",
       "      <td>768.0</td>\n",
       "      <td>33.240885</td>\n",
       "      <td>11.760232</td>\n",
       "      <td>21.000</td>\n",
       "      <td>24.00000</td>\n",
       "      <td>29.0000</td>\n",
       "      <td>41.00000</td>\n",
       "      <td>81.00</td>\n",
       "    </tr>\n",
       "    <tr>\n",
       "      <th>Outcome</th>\n",
       "      <td>768.0</td>\n",
       "      <td>0.348958</td>\n",
       "      <td>0.476951</td>\n",
       "      <td>0.000</td>\n",
       "      <td>0.00000</td>\n",
       "      <td>0.0000</td>\n",
       "      <td>1.00000</td>\n",
       "      <td>1.00</td>\n",
       "    </tr>\n",
       "  </tbody>\n",
       "</table>\n",
       "</div>"
      ],
      "text/plain": [
       "                          count        mean         std     min       25%  \\\n",
       "Pregnancies               768.0    3.845052    3.369578   0.000   1.00000   \n",
       "Glucose                   768.0  120.894531   31.972618   0.000  99.00000   \n",
       "BloodPressure             768.0   69.105469   19.355807   0.000  62.00000   \n",
       "SkinThickness             768.0   20.536458   15.952218   0.000   0.00000   \n",
       "Insulin                   768.0   79.799479  115.244002   0.000   0.00000   \n",
       "BMI                       768.0   31.992578    7.884160   0.000  27.30000   \n",
       "DiabetesPedigreeFunction  768.0    0.471876    0.331329   0.078   0.24375   \n",
       "Age                       768.0   33.240885   11.760232  21.000  24.00000   \n",
       "Outcome                   768.0    0.348958    0.476951   0.000   0.00000   \n",
       "\n",
       "                               50%        75%     max  \n",
       "Pregnancies                 3.0000    6.00000   17.00  \n",
       "Glucose                   117.0000  140.25000  199.00  \n",
       "BloodPressure              72.0000   80.00000  122.00  \n",
       "SkinThickness              23.0000   32.00000   99.00  \n",
       "Insulin                    30.5000  127.25000  846.00  \n",
       "BMI                        32.0000   36.60000   67.10  \n",
       "DiabetesPedigreeFunction    0.3725    0.62625    2.42  \n",
       "Age                        29.0000   41.00000   81.00  \n",
       "Outcome                     0.0000    1.00000    1.00  "
      ]
     },
     "execution_count": 102,
     "metadata": {},
     "output_type": "execute_result"
    }
   ],
   "source": [
    "df.describe().T"
   ]
  },
  {
   "cell_type": "code",
   "execution_count": 103,
   "id": "1d503e4f",
   "metadata": {
    "ExecuteTime": {
     "end_time": "2023-11-02T08:18:24.879679Z",
     "start_time": "2023-11-02T08:18:24.802764Z"
    }
   },
   "outputs": [
    {
     "data": {
      "image/png": "[encoded data removed]",
      "text/plain": [
       "<Figure size 640x480 with 1 Axes>"
      ]
     },
     "metadata": {},
     "output_type": "display_data"
    }
   ],
   "source": [
    "plt.boxplot(df.Insulin)\n",
    "plt.show()"
   ]
  },
  {
   "cell_type": "markdown",
   "id": "19acdafa",
   "metadata": {},
   "source": [
    "- 인슐린 수치를 boxplot으로 보면 , 이상치가 많은데 , 이 이상치는 당뇨에 밀접한 관련이 있어보인다. 상관관계를 보자."
   ]
  },
  {
   "cell_type": "code",
   "execution_count": 104,
   "id": "9077fa42",
   "metadata": {
    "ExecuteTime": {
     "end_time": "2023-11-02T08:18:25.226468Z",
     "start_time": "2023-11-02T08:18:24.881604Z"
    }
   },
   "outputs": [
    {
     "data": {
      "text/plain": [
       "<Axes: >"
      ]
     },
     "execution_count": 104,
     "metadata": {},
     "output_type": "execute_result"
    },
    {
     "data": {
      "image/png": "[encoded data removed]",
      "text/plain": [
       "<Figure size 640x480 with 2 Axes>"
      ]
     },
     "metadata": {},
     "output_type": "display_data"
    }
   ],
   "source": [
    "sns.heatmap(df.corr() , annot = True , cmap = 'BrBG')"
   ]
  },
  {
   "cell_type": "markdown",
   "id": "f387665d",
   "metadata": {},
   "source": [
    "- Outcome과 인슐린의 상관계수는 0.13으로 , 그닥 높지 않다. 그러면 이상치를 지우자"
   ]
  },
  {
   "cell_type": "code",
   "execution_count": 105,
   "id": "ba253887",
   "metadata": {
    "ExecuteTime": {
     "end_time": "2023-11-02T08:18:25.242001Z",
     "start_time": "2023-11-02T08:18:25.228469Z"
    }
   },
   "outputs": [],
   "source": [
    "#이상치 인덱스를 확인하는 함수\n",
    "def get_outlier(df = None , column = None , weight = 1.5):\n",
    "    fraud = df[df['Outcome'] == 1][column]\n",
    "    quantile_25 = np.percentile(fraud.values , 25)\n",
    "    quantile_75 = np.percentile(fraud.values , 75)\n",
    "    iqr = quantile_75 - quantile_25\n",
    "    iqr_weight = iqr * weight\n",
    "    lowest_val = quantile_25 - iqr_weight\n",
    "    highest_val = quantile_75 + iqr_weight\n",
    "    outlier_index = fraud[(fraud<lowest_val)|(fraud>highest_val)].index\n",
    "    return outlier_index"
   ]
  },
  {
   "cell_type": "code",
   "execution_count": 106,
   "id": "097b9bd4",
   "metadata": {
    "ExecuteTime": {
     "end_time": "2023-11-02T08:18:25.257389Z",
     "start_time": "2023-11-02T08:18:25.243095Z"
    }
   },
   "outputs": [],
   "source": [
    "index_ = get_outlier(df = df , column = 'Insulin' , weight = 1.5)"
   ]
  },
  {
   "cell_type": "code",
   "execution_count": 107,
   "id": "caad0fc2",
   "metadata": {
    "ExecuteTime": {
     "end_time": "2023-11-02T08:18:25.273472Z",
     "start_time": "2023-11-02T08:18:25.258726Z"
    }
   },
   "outputs": [],
   "source": [
    "df.drop(index_ , axis = 0 , inplace = True)"
   ]
  },
  {
   "cell_type": "code",
   "execution_count": 108,
   "id": "f35b8684",
   "metadata": {
    "ExecuteTime": {
     "end_time": "2023-11-02T08:18:25.288751Z",
     "start_time": "2023-11-02T08:18:25.276649Z"
    }
   },
   "outputs": [
    {
     "name": "stdout",
     "output_type": "stream",
     "text": [
      "<class 'pandas.core.frame.DataFrame'>\n",
      "Int64Index: 756 entries, 0 to 767\n",
      "Data columns (total 9 columns):\n",
      " #   Column                    Non-Null Count  Dtype  \n",
      "---  ------                    --------------  -----  \n",
      " 0   Pregnancies               756 non-null    int64  \n",
      " 1   Glucose                   756 non-null    int64  \n",
      " 2   BloodPressure             756 non-null    int64  \n",
      " 3   SkinThickness             756 non-null    int64  \n",
      " 4   Insulin                   756 non-null    int64  \n",
      " 5   BMI                       756 non-null    float64\n",
      " 6   DiabetesPedigreeFunction  756 non-null    float64\n",
      " 7   Age                       756 non-null    int64  \n",
      " 8   Outcome                   756 non-null    int64  \n",
      "dtypes: float64(2), int64(7)\n",
      "memory usage: 59.1 KB\n"
     ]
    }
   ],
   "source": [
    "df.info()"
   ]
  },
  {
   "cell_type": "markdown",
   "id": "2ffe9231",
   "metadata": {},
   "source": [
    "- 이상치 12개가 제거되었다"
   ]
  },
  {
   "cell_type": "code",
   "execution_count": 109,
   "id": "fb9d7d22",
   "metadata": {
    "ExecuteTime": {
     "end_time": "2023-11-02T08:18:25.319958Z",
     "start_time": "2023-11-02T08:18:25.290173Z"
    }
   },
   "outputs": [
    {
     "data": {
      "text/html": [
       "<div>\n",
       "<style scoped>\n",
       "    .dataframe tbody tr th:only-of-type {\n",
       "        vertical-align: middle;\n",
       "    }\n",
       "\n",
       "    .dataframe tbody tr th {\n",
       "        vertical-align: top;\n",
       "    }\n",
       "\n",
       "    .dataframe thead th {\n",
       "        text-align: right;\n",
       "    }\n",
       "</style>\n",
       "<table border=\"1\" class=\"dataframe\">\n",
       "  <thead>\n",
       "    <tr style=\"text-align: right;\">\n",
       "      <th></th>\n",
       "      <th>count</th>\n",
       "      <th>mean</th>\n",
       "      <th>std</th>\n",
       "      <th>min</th>\n",
       "      <th>25%</th>\n",
       "      <th>50%</th>\n",
       "      <th>75%</th>\n",
       "      <th>max</th>\n",
       "    </tr>\n",
       "  </thead>\n",
       "  <tbody>\n",
       "    <tr>\n",
       "      <th>Pregnancies</th>\n",
       "      <td>756.0</td>\n",
       "      <td>3.849206</td>\n",
       "      <td>3.373604</td>\n",
       "      <td>0.000</td>\n",
       "      <td>1.000</td>\n",
       "      <td>3.0000</td>\n",
       "      <td>6.0000</td>\n",
       "      <td>17.00</td>\n",
       "    </tr>\n",
       "    <tr>\n",
       "      <th>Glucose</th>\n",
       "      <td>756.0</td>\n",
       "      <td>120.142857</td>\n",
       "      <td>31.560109</td>\n",
       "      <td>0.000</td>\n",
       "      <td>99.000</td>\n",
       "      <td>116.0000</td>\n",
       "      <td>139.0000</td>\n",
       "      <td>199.00</td>\n",
       "    </tr>\n",
       "    <tr>\n",
       "      <th>BloodPressure</th>\n",
       "      <td>756.0</td>\n",
       "      <td>69.064815</td>\n",
       "      <td>19.449777</td>\n",
       "      <td>0.000</td>\n",
       "      <td>63.500</td>\n",
       "      <td>72.0000</td>\n",
       "      <td>80.0000</td>\n",
       "      <td>122.00</td>\n",
       "    </tr>\n",
       "    <tr>\n",
       "      <th>SkinThickness</th>\n",
       "      <td>756.0</td>\n",
       "      <td>20.322751</td>\n",
       "      <td>15.941335</td>\n",
       "      <td>0.000</td>\n",
       "      <td>0.000</td>\n",
       "      <td>23.0000</td>\n",
       "      <td>32.0000</td>\n",
       "      <td>99.00</td>\n",
       "    </tr>\n",
       "    <tr>\n",
       "      <th>Insulin</th>\n",
       "      <td>756.0</td>\n",
       "      <td>72.461640</td>\n",
       "      <td>99.404811</td>\n",
       "      <td>0.000</td>\n",
       "      <td>0.000</td>\n",
       "      <td>18.0000</td>\n",
       "      <td>122.0000</td>\n",
       "      <td>744.00</td>\n",
       "    </tr>\n",
       "    <tr>\n",
       "      <th>BMI</th>\n",
       "      <td>756.0</td>\n",
       "      <td>31.948942</td>\n",
       "      <td>7.915590</td>\n",
       "      <td>0.000</td>\n",
       "      <td>27.200</td>\n",
       "      <td>32.0000</td>\n",
       "      <td>36.5250</td>\n",
       "      <td>67.10</td>\n",
       "    </tr>\n",
       "    <tr>\n",
       "      <th>DiabetesPedigreeFunction</th>\n",
       "      <td>756.0</td>\n",
       "      <td>0.469896</td>\n",
       "      <td>0.326644</td>\n",
       "      <td>0.078</td>\n",
       "      <td>0.244</td>\n",
       "      <td>0.3705</td>\n",
       "      <td>0.6245</td>\n",
       "      <td>2.42</td>\n",
       "    </tr>\n",
       "    <tr>\n",
       "      <th>Age</th>\n",
       "      <td>756.0</td>\n",
       "      <td>33.160053</td>\n",
       "      <td>11.691489</td>\n",
       "      <td>21.000</td>\n",
       "      <td>24.000</td>\n",
       "      <td>29.0000</td>\n",
       "      <td>40.0000</td>\n",
       "      <td>81.00</td>\n",
       "    </tr>\n",
       "    <tr>\n",
       "      <th>Outcome</th>\n",
       "      <td>756.0</td>\n",
       "      <td>0.338624</td>\n",
       "      <td>0.473555</td>\n",
       "      <td>0.000</td>\n",
       "      <td>0.000</td>\n",
       "      <td>0.0000</td>\n",
       "      <td>1.0000</td>\n",
       "      <td>1.00</td>\n",
       "    </tr>\n",
       "  </tbody>\n",
       "</table>\n",
       "</div>"
      ],
      "text/plain": [
       "                          count        mean        std     min     25%  \\\n",
       "Pregnancies               756.0    3.849206   3.373604   0.000   1.000   \n",
       "Glucose                   756.0  120.142857  31.560109   0.000  99.000   \n",
       "BloodPressure             756.0   69.064815  19.449777   0.000  63.500   \n",
       "SkinThickness             756.0   20.322751  15.941335   0.000   0.000   \n",
       "Insulin                   756.0   72.461640  99.404811   0.000   0.000   \n",
       "BMI                       756.0   31.948942   7.915590   0.000  27.200   \n",
       "DiabetesPedigreeFunction  756.0    0.469896   0.326644   0.078   0.244   \n",
       "Age                       756.0   33.160053  11.691489  21.000  24.000   \n",
       "Outcome                   756.0    0.338624   0.473555   0.000   0.000   \n",
       "\n",
       "                               50%       75%     max  \n",
       "Pregnancies                 3.0000    6.0000   17.00  \n",
       "Glucose                   116.0000  139.0000  199.00  \n",
       "BloodPressure              72.0000   80.0000  122.00  \n",
       "SkinThickness              23.0000   32.0000   99.00  \n",
       "Insulin                    18.0000  122.0000  744.00  \n",
       "BMI                        32.0000   36.5250   67.10  \n",
       "DiabetesPedigreeFunction    0.3705    0.6245    2.42  \n",
       "Age                        29.0000   40.0000   81.00  \n",
       "Outcome                     0.0000    1.0000    1.00  "
      ]
     },
     "execution_count": 109,
     "metadata": {},
     "output_type": "execute_result"
    }
   ],
   "source": [
    "df.describe().T"
   ]
  },
  {
   "cell_type": "code",
   "execution_count": 110,
   "id": "2d08a8c2",
   "metadata": {
    "ExecuteTime": {
     "end_time": "2023-11-02T08:18:25.335384Z",
     "start_time": "2023-11-02T08:18:25.321471Z"
    }
   },
   "outputs": [
    {
     "data": {
      "text/plain": [
       "Pregnancies                   3.849206\n",
       "Glucose                     120.142857\n",
       "BloodPressure                69.064815\n",
       "SkinThickness                20.322751\n",
       "Insulin                      72.461640\n",
       "BMI                          31.948942\n",
       "DiabetesPedigreeFunction      0.469896\n",
       "Age                          33.160053\n",
       "Outcome                       0.338624\n",
       "dtype: float64"
      ]
     },
     "execution_count": 110,
     "metadata": {},
     "output_type": "execute_result"
    }
   ],
   "source": [
    "df.mean(axis = 0)"
   ]
  },
  {
   "cell_type": "code",
   "execution_count": 111,
   "id": "25cd39c6",
   "metadata": {
    "ExecuteTime": {
     "end_time": "2023-11-02T08:18:25.475356Z",
     "start_time": "2023-11-02T08:18:25.337379Z"
    }
   },
   "outputs": [
    {
     "data": {
      "text/plain": [
       "<BarContainer object of 9 artists>"
      ]
     },
     "execution_count": 111,
     "metadata": {},
     "output_type": "execute_result"
    },
    {
     "data": {
      "image/png": "[encoded data removed]",
      "text/plain": [
       "<Figure size 640x480 with 1 Axes>"
      ]
     },
     "metadata": {},
     "output_type": "display_data"
    }
   ],
   "source": [
    "plt.bar(x = df.mean(axis = 0).index , height = df.mean(axis = 0))"
   ]
  },
  {
   "cell_type": "markdown",
   "id": "c4c48310",
   "metadata": {},
   "source": [
    "- 수치들의 평균을 시각화했는데 , 제각각이다. 정규화하는 것이 좋겠다."
   ]
  },
  {
   "cell_type": "code",
   "execution_count": 112,
   "id": "f24921b9",
   "metadata": {
    "ExecuteTime": {
     "end_time": "2023-11-02T08:18:25.490541Z",
     "start_time": "2023-11-02T08:18:25.476209Z"
    }
   },
   "outputs": [],
   "source": [
    "from sklearn.preprocessing import StandardScaler\n",
    "ss = StandardScaler()"
   ]
  },
  {
   "cell_type": "code",
   "execution_count": 113,
   "id": "f4cbffe2",
   "metadata": {
    "ExecuteTime": {
     "end_time": "2023-11-02T08:18:25.506188Z",
     "start_time": "2023-11-02T08:18:25.491860Z"
    }
   },
   "outputs": [],
   "source": [
    "data = df.iloc[:,:-1]\n",
    "target = df.iloc[:,-1]"
   ]
  },
  {
   "cell_type": "code",
   "execution_count": 114,
   "id": "02d487f3",
   "metadata": {
    "ExecuteTime": {
     "end_time": "2023-11-02T08:18:25.521459Z",
     "start_time": "2023-11-02T08:18:25.507266Z"
    }
   },
   "outputs": [],
   "source": [
    "data_scaled = ss.fit_transform(data)"
   ]
  },
  {
   "cell_type": "code",
   "execution_count": 115,
   "id": "aac3277f",
   "metadata": {
    "ExecuteTime": {
     "end_time": "2023-11-02T08:18:25.537460Z",
     "start_time": "2023-11-02T08:18:25.522747Z"
    }
   },
   "outputs": [
    {
     "data": {
      "text/plain": [
       "0    500\n",
       "1    256\n",
       "Name: Outcome, dtype: int64"
      ]
     },
     "execution_count": 115,
     "metadata": {},
     "output_type": "execute_result"
    }
   ],
   "source": [
    "target.value_counts()"
   ]
  },
  {
   "cell_type": "markdown",
   "id": "fd59d789",
   "metadata": {},
   "source": [
    "- 두배 차이 나니까 조절하자"
   ]
  },
  {
   "cell_type": "code",
   "execution_count": 116,
   "id": "94a508fd",
   "metadata": {
    "ExecuteTime": {
     "end_time": "2023-11-02T08:18:25.552275Z",
     "start_time": "2023-11-02T08:18:25.539602Z"
    }
   },
   "outputs": [],
   "source": [
    "from sklearn.model_selection import train_test_split"
   ]
  },
  {
   "cell_type": "code",
   "execution_count": 117,
   "id": "55ef81bd",
   "metadata": {
    "ExecuteTime": {
     "end_time": "2023-11-02T08:18:25.567630Z",
     "start_time": "2023-11-02T08:18:25.554261Z"
    }
   },
   "outputs": [],
   "source": [
    "train_input , test_input , train_target , test_target = train_test_split(data_scaled , target , test_size = 0.2 , random_state = 0 , stratify = target)"
   ]
  },
  {
   "cell_type": "markdown",
   "id": "c14146cb",
   "metadata": {},
   "source": [
    "- knn , LogisticRegression , RandomForestClassifier , LGBMClassifier 4개 사용하자"
   ]
  },
  {
   "cell_type": "markdown",
   "id": "a683720f",
   "metadata": {},
   "source": [
    "**실제 당뇨병 환자중에 당뇨병이 아니라고 진단하면 심각하기 때문에 , 재현율(recall)에 초점을 두기** "
   ]
  },
  {
   "cell_type": "code",
   "execution_count": 118,
   "id": "88a55dbc",
   "metadata": {
    "ExecuteTime": {
     "end_time": "2023-11-02T08:18:25.582610Z",
     "start_time": "2023-11-02T08:18:25.569637Z"
    }
   },
   "outputs": [],
   "source": [
    "from lightgbm import LGBMClassifier\n",
    "from sklearn.neighbors import KNeighborsClassifier\n",
    "from sklearn.ensemble import RandomForestClassifier\n",
    "from sklearn.linear_model import LogisticRegression\n",
    "lgb = LGBMClassifier(random_state = 0)\n",
    "kn = KNeighborsClassifier()\n",
    "rf = RandomForestClassifier(random_state = 0)\n",
    "lr = LogisticRegression(random_state = 0)"
   ]
  },
  {
   "cell_type": "code",
   "execution_count": 119,
   "id": "7c4aef6f",
   "metadata": {
    "ExecuteTime": {
     "end_time": "2023-11-02T08:18:25.926086Z",
     "start_time": "2023-11-02T08:18:25.584518Z"
    }
   },
   "outputs": [
    {
     "name": "stdout",
     "output_type": "stream",
     "text": [
      "LGBMClassifier\n",
      "오차 행렬(혼동 행렬)\n",
      "[[89 12]\n",
      " [19 32]]\n",
      "정확도:0.7961, 정밀도:0.7273, 재현율:0.6275, F1:0.6737\n",
      "None\n",
      "\n",
      "\n",
      "\n",
      "KNeighborsClassifier\n",
      "오차 행렬(혼동 행렬)\n",
      "[[90 11]\n",
      " [21 30]]\n",
      "정확도:0.7895, 정밀도:0.7317, 재현율:0.5882, F1:0.6522\n",
      "None\n",
      "\n",
      "\n",
      "\n",
      "RandomForestClassifier\n",
      "오차 행렬(혼동 행렬)\n",
      "[[91 10]\n",
      " [19 32]]\n",
      "정확도:0.8092, 정밀도:0.7619, 재현율:0.6275, F1:0.6882\n",
      "None\n",
      "\n",
      "\n",
      "\n",
      "LogisticRegression\n",
      "오차 행렬(혼동 행렬)\n",
      "[[91 10]\n",
      " [20 31]]\n",
      "정확도:0.8026, 정밀도:0.7561, 재현율:0.6078, F1:0.6739\n",
      "None\n",
      "\n",
      "\n",
      "\n"
     ]
    }
   ],
   "source": [
    "model = [lgb,kn,rf,lr]\n",
    "recall_ = []\n",
    "precision_ = []\n",
    "for i in model:\n",
    "    print(i.__class__.__name__)\n",
    "    print(model_fit(i , train_input , train_target))\n",
    "    print()\n",
    "    print()\n",
    "    print()\n",
    "    recall = recall_score(test_target , i.predict(test_input))\n",
    "    precision = precision_score(test_target , i.predict(test_input))\n",
    "    recall_.append(recall)\n",
    "    precision_.append(precision)"
   ]
  },
  {
   "cell_type": "code",
   "execution_count": 120,
   "id": "bab5dfad",
   "metadata": {
    "ExecuteTime": {
     "end_time": "2023-11-02T08:18:25.941770Z",
     "start_time": "2023-11-02T08:18:25.927584Z"
    }
   },
   "outputs": [
    {
     "data": {
      "text/plain": [
       "0.6127450980392157"
      ]
     },
     "execution_count": 120,
     "metadata": {},
     "output_type": "execute_result"
    }
   ],
   "source": [
    "np.mean(recall_)"
   ]
  },
  {
   "cell_type": "markdown",
   "id": "f225ea54",
   "metadata": {},
   "source": [
    "- 4개의 모델 재현율 평균은 0.61"
   ]
  },
  {
   "cell_type": "markdown",
   "id": "2129072a",
   "metadata": {},
   "source": [
    "## 오버샘플링"
   ]
  },
  {
   "cell_type": "code",
   "execution_count": 121,
   "id": "393a8c4c",
   "metadata": {
    "ExecuteTime": {
     "end_time": "2023-11-02T08:18:25.957040Z",
     "start_time": "2023-11-02T08:18:25.943787Z"
    }
   },
   "outputs": [],
   "source": [
    "from imblearn.over_sampling import SMOTE\n",
    "smote = SMOTE(random_state = 0)\n",
    "train_input_over , train_target_over = smote.fit_resample(train_input , train_target)"
   ]
  },
  {
   "cell_type": "code",
   "execution_count": 122,
   "id": "c1efb2bb",
   "metadata": {
    "ExecuteTime": {
     "end_time": "2023-11-02T08:18:26.380234Z",
     "start_time": "2023-11-02T08:18:25.958538Z"
    }
   },
   "outputs": [
    {
     "name": "stdout",
     "output_type": "stream",
     "text": [
      "LGBMClassifier\n",
      "오차 행렬(혼동 행렬)\n",
      "[[87 14]\n",
      " [20 31]]\n",
      "정확도:0.7763, 정밀도:0.6889, 재현율:0.6078, F1:0.6458\n",
      "None\n",
      "\n",
      "\n",
      "\n",
      "KNeighborsClassifier\n",
      "오차 행렬(혼동 행렬)\n",
      "[[80 21]\n",
      " [13 38]]\n",
      "정확도:0.7763, 정밀도:0.6441, 재현율:0.7451, F1:0.6909\n",
      "None\n",
      "\n",
      "\n",
      "\n",
      "RandomForestClassifier\n",
      "오차 행렬(혼동 행렬)\n",
      "[[90 11]\n",
      " [20 31]]\n",
      "정확도:0.7961, 정밀도:0.7381, 재현율:0.6078, F1:0.6667\n",
      "None\n",
      "\n",
      "\n",
      "\n",
      "LogisticRegression\n",
      "오차 행렬(혼동 행렬)\n",
      "[[82 19]\n",
      " [13 38]]\n",
      "정확도:0.7895, 정밀도:0.6667, 재현율:0.7451, F1:0.7037\n",
      "None\n",
      "\n",
      "\n",
      "\n"
     ]
    }
   ],
   "source": [
    "recall__ = []\n",
    "precision__ = []\n",
    "for i in model:\n",
    "    print(i.__class__.__name__)\n",
    "    print(model_fit(i , train_input_over , train_target_over))\n",
    "    print()\n",
    "    print()\n",
    "    print()\n",
    "    recall = recall_score(test_target , i.predict(test_input))\n",
    "    precision = precision_score(test_target , i.predict(test_input))\n",
    "    recall__.append(recall)\n",
    "    precision__.append(precision)"
   ]
  },
  {
   "cell_type": "code",
   "execution_count": 123,
   "id": "b8016f62",
   "metadata": {
    "ExecuteTime": {
     "end_time": "2023-11-02T08:18:26.396341Z",
     "start_time": "2023-11-02T08:18:26.381731Z"
    }
   },
   "outputs": [
    {
     "data": {
      "text/plain": [
       "0.6764705882352942"
      ]
     },
     "execution_count": 123,
     "metadata": {},
     "output_type": "execute_result"
    }
   ],
   "source": [
    "np.mean(recall__)"
   ]
  },
  {
   "cell_type": "markdown",
   "id": "cd2043f4",
   "metadata": {},
   "source": [
    "- 재현율이 0.61에서 0.67로 올랐다"
   ]
  },
  {
   "cell_type": "code",
   "execution_count": 124,
   "id": "066b4e7f",
   "metadata": {
    "ExecuteTime": {
     "end_time": "2023-11-02T08:18:26.676844Z",
     "start_time": "2023-11-02T08:18:26.398059Z"
    }
   },
   "outputs": [
    {
     "data": {
      "text/plain": [
       "Text(0, 0.5, '정밀도')"
      ]
     },
     "execution_count": 124,
     "metadata": {},
     "output_type": "execute_result"
    },
    {
     "data": {
      "image/png": "[encoded data removed]",
      "text/plain": [
       "<Figure size 1000x500 with 2 Axes>"
      ]
     },
     "metadata": {},
     "output_type": "display_data"
    }
   ],
   "source": [
    "plt.figure(figsize = (10,5))\n",
    "plt.subplot(1,2,1)\n",
    "x = plt.bar(x = [1,2] , height = [np.mean(recall_) , np.mean(recall__)] , color = ['green','red'])\n",
    "plt.xticks([1,2] , ['not oversampling' , 'oversampling'])\n",
    "\n",
    "for i in x:\n",
    "    height = round(i.get_height() , 3)\n",
    "    plt.text(i.get_x()+i.get_width()/2.0,height,  height, ha = 'center',va='bottom',size=12)\n",
    "    \n",
    "plt.ylim(0.5,0.8)\n",
    "\n",
    "plt.title('재현율')\n",
    "plt.xlabel('오버샘플링 여부')\n",
    "plt.ylabel('재현율')\n",
    "\n",
    "plt.subplot(1,2,2)\n",
    "\n",
    "y = plt.bar(x = [1,2] , height = [np.mean(precision_) , np.mean(precision__)] , color = ['green','red'])\n",
    "plt.xticks([1,2] , ['not oversampling' , 'oversampling'])\n",
    "\n",
    "for i in y:\n",
    "    height = round(i.get_height() , 3)\n",
    "    plt.text(i.get_x()+i.get_width()/2.0,height,  height, ha = 'center',va='bottom',size=12)\n",
    "    \n",
    "plt.ylim(0.5,0.8)\n",
    "\n",
    "plt.title('정밀도')\n",
    "plt.xlabel('오버샘플링 여부')\n",
    "plt.ylabel('정밀도')\n"
   ]
  },
  {
   "cell_type": "markdown",
   "id": "1daeb6dd",
   "metadata": {},
   "source": [
    "- 재현율은 올라갔지만 , 정밀도는 내려갔다.\n",
    "\n",
    "**정밀도는 당뇨라 예측했을 때 당뇨가 아닌 것(FP)에 영향을 받고 재현율은 당뇨가 아니라 예측했는데 알고보니 당뇨인 것(FN)에 영향을 받으니 , 이 데이터에선 재현율이 낮으면 심각도가 더 높아진다고 할 수 있다**"
   ]
  },
  {
   "cell_type": "code",
   "execution_count": null,
   "id": "3d5f1744",
   "metadata": {},
   "outputs": [],
   "source": []
  },
  {
   "cell_type": "code",
   "execution_count": null,
   "id": "20b6db31",
   "metadata": {},
   "outputs": [],
   "source": []
  },
  {
   "cell_type": "code",
   "execution_count": null,
   "id": "6faed662",
   "metadata": {},
   "outputs": [],
   "source": []
  }
 ],
 "metadata": {
  "kernelspec": {
   "display_name": "Python 3 (ipykernel)",
   "language": "python",
   "name": "python3"
  },
  "language_info": {
   "codemirror_mode": {
    "name": "ipython",
    "version": 3
   },
   "file_extension": ".py",
   "mimetype": "text/x-python",
   "name": "python",
   "nbconvert_exporter": "python",
   "pygments_lexer": "ipython3",
   "version": "3.8.17"
  },
  "toc": {
   "base_numbering": 1,
   "nav_menu": {},
   "number_sections": true,
   "sideBar": true,
   "skip_h1_title": false,
   "title_cell": "Table of Contents",
   "title_sidebar": "Contents",
   "toc_cell": false,
   "toc_position": {},
   "toc_section_display": true,
   "toc_window_display": false
  }
 },
 "nbformat": 4,
 "nbformat_minor": 5
}
