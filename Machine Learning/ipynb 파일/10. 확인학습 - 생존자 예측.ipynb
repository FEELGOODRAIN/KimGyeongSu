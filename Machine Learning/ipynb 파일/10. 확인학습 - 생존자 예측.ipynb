{
 "cells": [
  {
   "cell_type": "code",
   "execution_count": 147,
   "id": "09fbaa69",
   "metadata": {
    "ExecuteTime": {
     "end_time": "2023-10-27T05:01:30.553675Z",
     "start_time": "2023-10-27T05:01:30.544076Z"
    }
   },
   "outputs": [],
   "source": [
    "import numpy as np\n",
    "import pandas as pd\n",
    "import matplotlib as mpl\n",
    "import matplotlib.pyplot as plt\n",
    "import mglearn\n",
    "%matplotlib inline\n",
    "import seaborn as sns\n",
    "import platform\n",
    "from matplotlib import font_manager , rc\n",
    "\n",
    "if platform.system() == 'Darwin':\n",
    "  rc('font' , family = 'AppleGothic')\n",
    "elif platform.system() == 'Windows':\n",
    "  path = 'C:/Windows/Fonts/malgun.ttf'\n",
    "  font_name = font_manager.FontProperties(fname = path).get_name()\n",
    "  rc('font' , family = font_name)\n",
    "else:\n",
    "  print('모름')\n",
    "plt.rcParams['axes.unicode_minus'] = False\n",
    "import warnings\n",
    "warnings.filterwarnings('ignore')\n",
    "from sklearn.metrics import accuracy_score , precision_score , recall_score , roc_auc_score , f1_score , confusion_matrix , roc_curve , precision_recall_curve"
   ]
  },
  {
   "cell_type": "markdown",
   "id": "67b16978",
   "metadata": {},
   "source": [
    "# 문제 정의\n",
    "- 로지스틱회귀(Logistic Regression)를 이용한 타이타닉 생존자 예측\n",
    "- 목표 : 타이타닉 승객 데이터셋을 이용하여 생존 여부 예측"
   ]
  },
  {
   "cell_type": "code",
   "execution_count": 148,
   "id": "6cfcb117",
   "metadata": {
    "ExecuteTime": {
     "end_time": "2023-10-27T05:01:30.588795Z",
     "start_time": "2023-10-27T05:01:30.556139Z"
    }
   },
   "outputs": [
    {
     "data": {
      "text/html": [
       "<div>\n",
       "<style scoped>\n",
       "    .dataframe tbody tr th:only-of-type {\n",
       "        vertical-align: middle;\n",
       "    }\n",
       "\n",
       "    .dataframe tbody tr th {\n",
       "        vertical-align: top;\n",
       "    }\n",
       "\n",
       "    .dataframe thead th {\n",
       "        text-align: right;\n",
       "    }\n",
       "</style>\n",
       "<table border=\"1\" class=\"dataframe\">\n",
       "  <thead>\n",
       "    <tr style=\"text-align: right;\">\n",
       "      <th></th>\n",
       "      <th>Unnamed: 0</th>\n",
       "      <th>Pclass</th>\n",
       "      <th>Name</th>\n",
       "      <th>Sex</th>\n",
       "      <th>Age</th>\n",
       "      <th>SibSp</th>\n",
       "      <th>Parch</th>\n",
       "      <th>Ticket</th>\n",
       "      <th>Embarked</th>\n",
       "      <th>Survived</th>\n",
       "    </tr>\n",
       "  </thead>\n",
       "  <tbody>\n",
       "    <tr>\n",
       "      <th>0</th>\n",
       "      <td>0</td>\n",
       "      <td>3</td>\n",
       "      <td>Braund, Mr. Owen Harris</td>\n",
       "      <td>male</td>\n",
       "      <td>22.0</td>\n",
       "      <td>1</td>\n",
       "      <td>0</td>\n",
       "      <td>A/5 21171</td>\n",
       "      <td>S</td>\n",
       "      <td>0</td>\n",
       "    </tr>\n",
       "    <tr>\n",
       "      <th>1</th>\n",
       "      <td>1</td>\n",
       "      <td>1</td>\n",
       "      <td>Cumings, Mrs. John Bradley (Florence Briggs Th...</td>\n",
       "      <td>female</td>\n",
       "      <td>38.0</td>\n",
       "      <td>1</td>\n",
       "      <td>0</td>\n",
       "      <td>PC 17599</td>\n",
       "      <td>C</td>\n",
       "      <td>1</td>\n",
       "    </tr>\n",
       "    <tr>\n",
       "      <th>2</th>\n",
       "      <td>2</td>\n",
       "      <td>3</td>\n",
       "      <td>Heikkinen, Miss. Laina</td>\n",
       "      <td>female</td>\n",
       "      <td>26.0</td>\n",
       "      <td>0</td>\n",
       "      <td>0</td>\n",
       "      <td>STON/O2. 3101282</td>\n",
       "      <td>S</td>\n",
       "      <td>1</td>\n",
       "    </tr>\n",
       "    <tr>\n",
       "      <th>3</th>\n",
       "      <td>3</td>\n",
       "      <td>1</td>\n",
       "      <td>Futrelle, Mrs. Jacques Heath (Lily May Peel)</td>\n",
       "      <td>female</td>\n",
       "      <td>35.0</td>\n",
       "      <td>1</td>\n",
       "      <td>0</td>\n",
       "      <td>113803</td>\n",
       "      <td>S</td>\n",
       "      <td>1</td>\n",
       "    </tr>\n",
       "    <tr>\n",
       "      <th>4</th>\n",
       "      <td>4</td>\n",
       "      <td>3</td>\n",
       "      <td>Allen, Mr. William Henry</td>\n",
       "      <td>male</td>\n",
       "      <td>35.0</td>\n",
       "      <td>0</td>\n",
       "      <td>0</td>\n",
       "      <td>373450</td>\n",
       "      <td>S</td>\n",
       "      <td>0</td>\n",
       "    </tr>\n",
       "    <tr>\n",
       "      <th>...</th>\n",
       "      <td>...</td>\n",
       "      <td>...</td>\n",
       "      <td>...</td>\n",
       "      <td>...</td>\n",
       "      <td>...</td>\n",
       "      <td>...</td>\n",
       "      <td>...</td>\n",
       "      <td>...</td>\n",
       "      <td>...</td>\n",
       "      <td>...</td>\n",
       "    </tr>\n",
       "    <tr>\n",
       "      <th>884</th>\n",
       "      <td>884</td>\n",
       "      <td>2</td>\n",
       "      <td>Montvila, Rev. Juozas</td>\n",
       "      <td>male</td>\n",
       "      <td>27.0</td>\n",
       "      <td>0</td>\n",
       "      <td>0</td>\n",
       "      <td>211536</td>\n",
       "      <td>S</td>\n",
       "      <td>0</td>\n",
       "    </tr>\n",
       "    <tr>\n",
       "      <th>885</th>\n",
       "      <td>885</td>\n",
       "      <td>1</td>\n",
       "      <td>Graham, Miss. Margaret Edith</td>\n",
       "      <td>female</td>\n",
       "      <td>19.0</td>\n",
       "      <td>0</td>\n",
       "      <td>0</td>\n",
       "      <td>112053</td>\n",
       "      <td>S</td>\n",
       "      <td>1</td>\n",
       "    </tr>\n",
       "    <tr>\n",
       "      <th>886</th>\n",
       "      <td>886</td>\n",
       "      <td>3</td>\n",
       "      <td>Johnston, Miss. Catherine Helen \"Carrie\"</td>\n",
       "      <td>female</td>\n",
       "      <td>28.0</td>\n",
       "      <td>1</td>\n",
       "      <td>2</td>\n",
       "      <td>W./C. 6607</td>\n",
       "      <td>S</td>\n",
       "      <td>0</td>\n",
       "    </tr>\n",
       "    <tr>\n",
       "      <th>887</th>\n",
       "      <td>887</td>\n",
       "      <td>1</td>\n",
       "      <td>Behr, Mr. Karl Howell</td>\n",
       "      <td>male</td>\n",
       "      <td>26.0</td>\n",
       "      <td>0</td>\n",
       "      <td>0</td>\n",
       "      <td>111369</td>\n",
       "      <td>C</td>\n",
       "      <td>1</td>\n",
       "    </tr>\n",
       "    <tr>\n",
       "      <th>888</th>\n",
       "      <td>888</td>\n",
       "      <td>3</td>\n",
       "      <td>Dooley, Mr. Patrick</td>\n",
       "      <td>male</td>\n",
       "      <td>32.0</td>\n",
       "      <td>0</td>\n",
       "      <td>0</td>\n",
       "      <td>370376</td>\n",
       "      <td>Q</td>\n",
       "      <td>0</td>\n",
       "    </tr>\n",
       "  </tbody>\n",
       "</table>\n",
       "<p>889 rows × 10 columns</p>\n",
       "</div>"
      ],
      "text/plain": [
       "     Unnamed: 0  Pclass                                               Name  \\\n",
       "0             0       3                            Braund, Mr. Owen Harris   \n",
       "1             1       1  Cumings, Mrs. John Bradley (Florence Briggs Th...   \n",
       "2             2       3                             Heikkinen, Miss. Laina   \n",
       "3             3       1       Futrelle, Mrs. Jacques Heath (Lily May Peel)   \n",
       "4             4       3                           Allen, Mr. William Henry   \n",
       "..          ...     ...                                                ...   \n",
       "884         884       2                              Montvila, Rev. Juozas   \n",
       "885         885       1                       Graham, Miss. Margaret Edith   \n",
       "886         886       3           Johnston, Miss. Catherine Helen \"Carrie\"   \n",
       "887         887       1                              Behr, Mr. Karl Howell   \n",
       "888         888       3                                Dooley, Mr. Patrick   \n",
       "\n",
       "        Sex   Age  SibSp  Parch            Ticket Embarked  Survived  \n",
       "0      male  22.0      1      0         A/5 21171        S         0  \n",
       "1    female  38.0      1      0          PC 17599        C         1  \n",
       "2    female  26.0      0      0  STON/O2. 3101282        S         1  \n",
       "3    female  35.0      1      0            113803        S         1  \n",
       "4      male  35.0      0      0            373450        S         0  \n",
       "..      ...   ...    ...    ...               ...      ...       ...  \n",
       "884    male  27.0      0      0            211536        S         0  \n",
       "885  female  19.0      0      0            112053        S         1  \n",
       "886  female  28.0      1      2        W./C. 6607        S         0  \n",
       "887    male  26.0      0      0            111369        C         1  \n",
       "888    male  32.0      0      0            370376        Q         0  \n",
       "\n",
       "[889 rows x 10 columns]"
      ]
     },
     "execution_count": 148,
     "metadata": {},
     "output_type": "execute_result"
    }
   ],
   "source": [
    "titanic = pd.read_csv('titanic.csv')\n",
    "titanic"
   ]
  },
  {
   "cell_type": "code",
   "execution_count": 149,
   "id": "923be77f",
   "metadata": {
    "ExecuteTime": {
     "end_time": "2023-10-27T05:01:30.597451Z",
     "start_time": "2023-10-27T05:01:30.591952Z"
    }
   },
   "outputs": [
    {
     "data": {
      "text/plain": [
       "Index(['Unnamed: 0', 'Pclass', 'Name', 'Sex', 'Age', 'SibSp', 'Parch',\n",
       "       'Ticket', 'Embarked', 'Survived'],\n",
       "      dtype='object')"
      ]
     },
     "execution_count": 149,
     "metadata": {},
     "output_type": "execute_result"
    }
   ],
   "source": [
    "titanic.columns"
   ]
  },
  {
   "cell_type": "code",
   "execution_count": 150,
   "id": "c7abdb03",
   "metadata": {
    "ExecuteTime": {
     "end_time": "2023-10-27T05:01:30.605317Z",
     "start_time": "2023-10-27T05:01:30.598116Z"
    }
   },
   "outputs": [],
   "source": [
    "data = titanic[['Pclass', 'Age', 'SibSp', 'Parch']].to_numpy()\n",
    "target = titanic.iloc[:,-1].to_numpy()"
   ]
  },
  {
   "cell_type": "code",
   "execution_count": 151,
   "id": "53c2e7ab",
   "metadata": {
    "ExecuteTime": {
     "end_time": "2023-10-27T05:01:30.623663Z",
     "start_time": "2023-10-27T05:01:30.608160Z"
    }
   },
   "outputs": [
    {
     "data": {
      "text/html": [
       "<div>\n",
       "<style scoped>\n",
       "    .dataframe tbody tr th:only-of-type {\n",
       "        vertical-align: middle;\n",
       "    }\n",
       "\n",
       "    .dataframe tbody tr th {\n",
       "        vertical-align: top;\n",
       "    }\n",
       "\n",
       "    .dataframe thead th {\n",
       "        text-align: right;\n",
       "    }\n",
       "</style>\n",
       "<table border=\"1\" class=\"dataframe\">\n",
       "  <thead>\n",
       "    <tr style=\"text-align: right;\">\n",
       "      <th></th>\n",
       "      <th>Pclass</th>\n",
       "      <th>Age</th>\n",
       "      <th>SibSp</th>\n",
       "      <th>Parch</th>\n",
       "    </tr>\n",
       "  </thead>\n",
       "  <tbody>\n",
       "    <tr>\n",
       "      <th>count</th>\n",
       "      <td>889.000000</td>\n",
       "      <td>889.000000</td>\n",
       "      <td>889.000000</td>\n",
       "      <td>889.000000</td>\n",
       "    </tr>\n",
       "    <tr>\n",
       "      <th>mean</th>\n",
       "      <td>2.311586</td>\n",
       "      <td>29.315152</td>\n",
       "      <td>0.524184</td>\n",
       "      <td>0.382452</td>\n",
       "    </tr>\n",
       "    <tr>\n",
       "      <th>std</th>\n",
       "      <td>0.834700</td>\n",
       "      <td>12.984932</td>\n",
       "      <td>1.103705</td>\n",
       "      <td>0.806761</td>\n",
       "    </tr>\n",
       "    <tr>\n",
       "      <th>min</th>\n",
       "      <td>1.000000</td>\n",
       "      <td>0.420000</td>\n",
       "      <td>0.000000</td>\n",
       "      <td>0.000000</td>\n",
       "    </tr>\n",
       "    <tr>\n",
       "      <th>25%</th>\n",
       "      <td>2.000000</td>\n",
       "      <td>22.000000</td>\n",
       "      <td>0.000000</td>\n",
       "      <td>0.000000</td>\n",
       "    </tr>\n",
       "    <tr>\n",
       "      <th>50%</th>\n",
       "      <td>3.000000</td>\n",
       "      <td>28.000000</td>\n",
       "      <td>0.000000</td>\n",
       "      <td>0.000000</td>\n",
       "    </tr>\n",
       "    <tr>\n",
       "      <th>75%</th>\n",
       "      <td>3.000000</td>\n",
       "      <td>35.000000</td>\n",
       "      <td>1.000000</td>\n",
       "      <td>0.000000</td>\n",
       "    </tr>\n",
       "    <tr>\n",
       "      <th>max</th>\n",
       "      <td>3.000000</td>\n",
       "      <td>80.000000</td>\n",
       "      <td>8.000000</td>\n",
       "      <td>6.000000</td>\n",
       "    </tr>\n",
       "  </tbody>\n",
       "</table>\n",
       "</div>"
      ],
      "text/plain": [
       "           Pclass         Age       SibSp       Parch\n",
       "count  889.000000  889.000000  889.000000  889.000000\n",
       "mean     2.311586   29.315152    0.524184    0.382452\n",
       "std      0.834700   12.984932    1.103705    0.806761\n",
       "min      1.000000    0.420000    0.000000    0.000000\n",
       "25%      2.000000   22.000000    0.000000    0.000000\n",
       "50%      3.000000   28.000000    0.000000    0.000000\n",
       "75%      3.000000   35.000000    1.000000    0.000000\n",
       "max      3.000000   80.000000    8.000000    6.000000"
      ]
     },
     "execution_count": 151,
     "metadata": {},
     "output_type": "execute_result"
    }
   ],
   "source": [
    "titanic[['Pclass', 'Sex', 'Age', 'SibSp', 'Parch', 'Embarked']].describe()"
   ]
  },
  {
   "cell_type": "code",
   "execution_count": 152,
   "id": "34a017e5",
   "metadata": {
    "ExecuteTime": {
     "end_time": "2023-10-27T05:01:30.638666Z",
     "start_time": "2023-10-27T05:01:30.626229Z"
    }
   },
   "outputs": [
    {
     "data": {
      "text/html": [
       "<div>\n",
       "<style scoped>\n",
       "    .dataframe tbody tr th:only-of-type {\n",
       "        vertical-align: middle;\n",
       "    }\n",
       "\n",
       "    .dataframe tbody tr th {\n",
       "        vertical-align: top;\n",
       "    }\n",
       "\n",
       "    .dataframe thead th {\n",
       "        text-align: right;\n",
       "    }\n",
       "</style>\n",
       "<table border=\"1\" class=\"dataframe\">\n",
       "  <thead>\n",
       "    <tr style=\"text-align: right;\">\n",
       "      <th></th>\n",
       "      <th>Pclass</th>\n",
       "      <th>Age</th>\n",
       "      <th>SibSp</th>\n",
       "      <th>Parch</th>\n",
       "    </tr>\n",
       "  </thead>\n",
       "  <tbody>\n",
       "    <tr>\n",
       "      <th>Pclass</th>\n",
       "      <td>1.000000</td>\n",
       "      <td>-0.336512</td>\n",
       "      <td>0.081656</td>\n",
       "      <td>0.016824</td>\n",
       "    </tr>\n",
       "    <tr>\n",
       "      <th>Age</th>\n",
       "      <td>-0.336512</td>\n",
       "      <td>1.000000</td>\n",
       "      <td>-0.232543</td>\n",
       "      <td>-0.171485</td>\n",
       "    </tr>\n",
       "    <tr>\n",
       "      <th>SibSp</th>\n",
       "      <td>0.081656</td>\n",
       "      <td>-0.232543</td>\n",
       "      <td>1.000000</td>\n",
       "      <td>0.414542</td>\n",
       "    </tr>\n",
       "    <tr>\n",
       "      <th>Parch</th>\n",
       "      <td>0.016824</td>\n",
       "      <td>-0.171485</td>\n",
       "      <td>0.414542</td>\n",
       "      <td>1.000000</td>\n",
       "    </tr>\n",
       "  </tbody>\n",
       "</table>\n",
       "</div>"
      ],
      "text/plain": [
       "          Pclass       Age     SibSp     Parch\n",
       "Pclass  1.000000 -0.336512  0.081656  0.016824\n",
       "Age    -0.336512  1.000000 -0.232543 -0.171485\n",
       "SibSp   0.081656 -0.232543  1.000000  0.414542\n",
       "Parch   0.016824 -0.171485  0.414542  1.000000"
      ]
     },
     "execution_count": 152,
     "metadata": {},
     "output_type": "execute_result"
    }
   ],
   "source": [
    "titanic[['Pclass', 'Sex', 'Age', 'SibSp', 'Parch', 'Embarked']].corr()"
   ]
  },
  {
   "cell_type": "code",
   "execution_count": 153,
   "id": "c717816c",
   "metadata": {
    "ExecuteTime": {
     "end_time": "2023-10-27T05:01:30.655779Z",
     "start_time": "2023-10-27T05:01:30.641570Z"
    }
   },
   "outputs": [
    {
     "data": {
      "text/plain": [
       "0    549\n",
       "1    340\n",
       "Name: Survived, dtype: int64"
      ]
     },
     "execution_count": 153,
     "metadata": {},
     "output_type": "execute_result"
    }
   ],
   "source": [
    "titanic.iloc[:,-1].value_counts()"
   ]
  },
  {
   "cell_type": "code",
   "execution_count": 154,
   "id": "562f87ce",
   "metadata": {
    "ExecuteTime": {
     "end_time": "2023-10-27T05:01:30.663055Z",
     "start_time": "2023-10-27T05:01:30.658289Z"
    }
   },
   "outputs": [],
   "source": [
    "from sklearn.neighbors import KNeighborsClassifier\n",
    "from sklearn.linear_model import LogisticRegression\n",
    "from sklearn.tree import DecisionTreeClassifier\n",
    "kn = KNeighborsClassifier()\n",
    "lr = LogisticRegression()\n",
    "dt = DecisionTreeClassifier()"
   ]
  },
  {
   "cell_type": "code",
   "execution_count": 155,
   "id": "047fb15c",
   "metadata": {
    "ExecuteTime": {
     "end_time": "2023-10-27T05:01:30.673320Z",
     "start_time": "2023-10-27T05:01:30.663717Z"
    }
   },
   "outputs": [],
   "source": [
    "from sklearn.model_selection import train_test_split"
   ]
  },
  {
   "cell_type": "code",
   "execution_count": 156,
   "id": "e9eaff32",
   "metadata": {
    "ExecuteTime": {
     "end_time": "2023-10-27T05:01:30.688677Z",
     "start_time": "2023-10-27T05:01:30.676837Z"
    }
   },
   "outputs": [],
   "source": [
    "train_input , test_input , train_target , test_target = train_test_split(data , target , stratify = target , test_size = 0.3)"
   ]
  },
  {
   "cell_type": "code",
   "execution_count": 157,
   "id": "3be4bc59",
   "metadata": {
    "ExecuteTime": {
     "end_time": "2023-10-27T05:01:30.722399Z",
     "start_time": "2023-10-27T05:01:30.690204Z"
    }
   },
   "outputs": [
    {
     "data": {
      "text/html": [
       "<style>#sk-container-id-6 {color: black;}#sk-container-id-6 pre{padding: 0;}#sk-container-id-6 div.sk-toggleable {background-color: white;}#sk-container-id-6 label.sk-toggleable__label {cursor: pointer;display: block;width: 100%;margin-bottom: 0;padding: 0.3em;box-sizing: border-box;text-align: center;}#sk-container-id-6 label.sk-toggleable__label-arrow:before {content: \"▸\";float: left;margin-right: 0.25em;color: #696969;}#sk-container-id-6 label.sk-toggleable__label-arrow:hover:before {color: black;}#sk-container-id-6 div.sk-estimator:hover label.sk-toggleable__label-arrow:before {color: black;}#sk-container-id-6 div.sk-toggleable__content {max-height: 0;max-width: 0;overflow: hidden;text-align: left;background-color: #f0f8ff;}#sk-container-id-6 div.sk-toggleable__content pre {margin: 0.2em;color: black;border-radius: 0.25em;background-color: #f0f8ff;}#sk-container-id-6 input.sk-toggleable__control:checked~div.sk-toggleable__content {max-height: 200px;max-width: 100%;overflow: auto;}#sk-container-id-6 input.sk-toggleable__control:checked~label.sk-toggleable__label-arrow:before {content: \"▾\";}#sk-container-id-6 div.sk-estimator input.sk-toggleable__control:checked~label.sk-toggleable__label {background-color: #d4ebff;}#sk-container-id-6 div.sk-label input.sk-toggleable__control:checked~label.sk-toggleable__label {background-color: #d4ebff;}#sk-container-id-6 input.sk-hidden--visually {border: 0;clip: rect(1px 1px 1px 1px);clip: rect(1px, 1px, 1px, 1px);height: 1px;margin: -1px;overflow: hidden;padding: 0;position: absolute;width: 1px;}#sk-container-id-6 div.sk-estimator {font-family: monospace;background-color: #f0f8ff;border: 1px dotted black;border-radius: 0.25em;box-sizing: border-box;margin-bottom: 0.5em;}#sk-container-id-6 div.sk-estimator:hover {background-color: #d4ebff;}#sk-container-id-6 div.sk-parallel-item::after {content: \"\";width: 100%;border-bottom: 1px solid gray;flex-grow: 1;}#sk-container-id-6 div.sk-label:hover label.sk-toggleable__label {background-color: #d4ebff;}#sk-container-id-6 div.sk-serial::before {content: \"\";position: absolute;border-left: 1px solid gray;box-sizing: border-box;top: 0;bottom: 0;left: 50%;z-index: 0;}#sk-container-id-6 div.sk-serial {display: flex;flex-direction: column;align-items: center;background-color: white;padding-right: 0.2em;padding-left: 0.2em;position: relative;}#sk-container-id-6 div.sk-item {position: relative;z-index: 1;}#sk-container-id-6 div.sk-parallel {display: flex;align-items: stretch;justify-content: center;background-color: white;position: relative;}#sk-container-id-6 div.sk-item::before, #sk-container-id-6 div.sk-parallel-item::before {content: \"\";position: absolute;border-left: 1px solid gray;box-sizing: border-box;top: 0;bottom: 0;left: 50%;z-index: -1;}#sk-container-id-6 div.sk-parallel-item {display: flex;flex-direction: column;z-index: 1;position: relative;background-color: white;}#sk-container-id-6 div.sk-parallel-item:first-child::after {align-self: flex-end;width: 50%;}#sk-container-id-6 div.sk-parallel-item:last-child::after {align-self: flex-start;width: 50%;}#sk-container-id-6 div.sk-parallel-item:only-child::after {width: 0;}#sk-container-id-6 div.sk-dashed-wrapped {border: 1px dashed gray;margin: 0 0.4em 0.5em 0.4em;box-sizing: border-box;padding-bottom: 0.4em;background-color: white;}#sk-container-id-6 div.sk-label label {font-family: monospace;font-weight: bold;display: inline-block;line-height: 1.2em;}#sk-container-id-6 div.sk-label-container {text-align: center;}#sk-container-id-6 div.sk-container {/* jupyter's `normalize.less` sets `[hidden] { display: none; }` but bootstrap.min.css set `[hidden] { display: none !important; }` so we also need the `!important` here to be able to override the default hidden behavior on the sphinx rendered scikit-learn.org. See: https://github.com/scikit-learn/scikit-learn/issues/21755 */display: inline-block !important;position: relative;}#sk-container-id-6 div.sk-text-repr-fallback {display: none;}</style><div id=\"sk-container-id-6\" class=\"sk-top-container\"><div class=\"sk-text-repr-fallback\"><pre>VotingClassifier(estimators=[(&#x27;Kn&#x27;, KNeighborsClassifier()),\n",
       "                             (&#x27;lr&#x27;, LogisticRegression()),\n",
       "                             (&#x27;dt&#x27;, DecisionTreeClassifier())],\n",
       "                 voting=&#x27;soft&#x27;)</pre><b>In a Jupyter environment, please rerun this cell to show the HTML representation or trust the notebook. <br />On GitHub, the HTML representation is unable to render, please try loading this page with nbviewer.org.</b></div><div class=\"sk-container\" hidden><div class=\"sk-item sk-dashed-wrapped\"><div class=\"sk-label-container\"><div class=\"sk-label sk-toggleable\"><input class=\"sk-toggleable__control sk-hidden--visually\" id=\"sk-estimator-id-21\" type=\"checkbox\" ><label for=\"sk-estimator-id-21\" class=\"sk-toggleable__label sk-toggleable__label-arrow\">VotingClassifier</label><div class=\"sk-toggleable__content\"><pre>VotingClassifier(estimators=[(&#x27;Kn&#x27;, KNeighborsClassifier()),\n",
       "                             (&#x27;lr&#x27;, LogisticRegression()),\n",
       "                             (&#x27;dt&#x27;, DecisionTreeClassifier())],\n",
       "                 voting=&#x27;soft&#x27;)</pre></div></div></div><div class=\"sk-parallel\"><div class=\"sk-parallel-item\"><div class=\"sk-item\"><div class=\"sk-label-container\"><div class=\"sk-label sk-toggleable\"><label>Kn</label></div></div><div class=\"sk-serial\"><div class=\"sk-item\"><div class=\"sk-estimator sk-toggleable\"><input class=\"sk-toggleable__control sk-hidden--visually\" id=\"sk-estimator-id-22\" type=\"checkbox\" ><label for=\"sk-estimator-id-22\" class=\"sk-toggleable__label sk-toggleable__label-arrow\">KNeighborsClassifier</label><div class=\"sk-toggleable__content\"><pre>KNeighborsClassifier()</pre></div></div></div></div></div></div><div class=\"sk-parallel-item\"><div class=\"sk-item\"><div class=\"sk-label-container\"><div class=\"sk-label sk-toggleable\"><label>lr</label></div></div><div class=\"sk-serial\"><div class=\"sk-item\"><div class=\"sk-estimator sk-toggleable\"><input class=\"sk-toggleable__control sk-hidden--visually\" id=\"sk-estimator-id-23\" type=\"checkbox\" ><label for=\"sk-estimator-id-23\" class=\"sk-toggleable__label sk-toggleable__label-arrow\">LogisticRegression</label><div class=\"sk-toggleable__content\"><pre>LogisticRegression()</pre></div></div></div></div></div></div><div class=\"sk-parallel-item\"><div class=\"sk-item\"><div class=\"sk-label-container\"><div class=\"sk-label sk-toggleable\"><label>dt</label></div></div><div class=\"sk-serial\"><div class=\"sk-item\"><div class=\"sk-estimator sk-toggleable\"><input class=\"sk-toggleable__control sk-hidden--visually\" id=\"sk-estimator-id-24\" type=\"checkbox\" ><label for=\"sk-estimator-id-24\" class=\"sk-toggleable__label sk-toggleable__label-arrow\">DecisionTreeClassifier</label><div class=\"sk-toggleable__content\"><pre>DecisionTreeClassifier()</pre></div></div></div></div></div></div></div></div></div></div>"
      ],
      "text/plain": [
       "VotingClassifier(estimators=[('Kn', KNeighborsClassifier()),\n",
       "                             ('lr', LogisticRegression()),\n",
       "                             ('dt', DecisionTreeClassifier())],\n",
       "                 voting='soft')"
      ]
     },
     "execution_count": 157,
     "metadata": {},
     "output_type": "execute_result"
    }
   ],
   "source": [
    "from sklearn.ensemble import VotingClassifier\n",
    "vc = VotingClassifier(estimators = [('Kn' , kn),('lr' , lr),('dt' , dt)] ,voting = 'soft')\n",
    "vc.fit(train_input , train_target)\n"
   ]
  },
  {
   "cell_type": "markdown",
   "id": "aa593195",
   "metadata": {},
   "source": [
    "- 죽었다고 예측했을 때 살아있는 것이 큰 오점이므로 , 정밀도를 예측해보자"
   ]
  },
  {
   "cell_type": "code",
   "execution_count": 158,
   "id": "e94cb083",
   "metadata": {
    "ExecuteTime": {
     "end_time": "2023-10-27T05:01:30.738722Z",
     "start_time": "2023-10-27T05:01:30.724495Z"
    }
   },
   "outputs": [],
   "source": [
    "pred = vc.predict(test_input)"
   ]
  },
  {
   "cell_type": "code",
   "execution_count": 159,
   "id": "fe97f927",
   "metadata": {
    "ExecuteTime": {
     "end_time": "2023-10-27T05:01:30.755850Z",
     "start_time": "2023-10-27T05:01:30.741281Z"
    }
   },
   "outputs": [],
   "source": [
    "precision = precision_score(test_target , pred)\n",
    "accuracy = accuracy_score(test_target , pred)"
   ]
  },
  {
   "cell_type": "code",
   "execution_count": 160,
   "id": "53c78fac",
   "metadata": {
    "ExecuteTime": {
     "end_time": "2023-10-27T05:01:30.772026Z",
     "start_time": "2023-10-27T05:01:30.757982Z"
    }
   },
   "outputs": [
    {
     "name": "stdout",
     "output_type": "stream",
     "text": [
      "보팅 분류기의 정밀도 :  0.5959595959595959\n"
     ]
    }
   ],
   "source": [
    "print('보팅 분류기의 정밀도 : ' , precision)"
   ]
  },
  {
   "cell_type": "code",
   "execution_count": 169,
   "id": "db7154a6",
   "metadata": {
    "ExecuteTime": {
     "end_time": "2023-10-27T05:01:37.092772Z",
     "start_time": "2023-10-27T05:01:37.061861Z"
    }
   },
   "outputs": [
    {
     "name": "stdout",
     "output_type": "stream",
     "text": [
      "보팅 분류기의 정밀도 :  0.5959595959595959  보팅 분류기의 정확도 :  0.6891385767790262\n",
      "KNeighborsClassifier의 정밀도 : 0.5876288659793815 , 정확도 : 0.6816479400749064\n",
      "LogisticRegression의 정밀도 : 0.5882352941176471 , 정확도 : 0.6629213483146067\n",
      "DecisionTreeClassifier의 정밀도 : 0.6153846153846154 , 정확도 : 0.6853932584269663\n"
     ]
    }
   ],
   "source": [
    "model = [kn , lr , dt]\n",
    "name = [vc.__class__.__name__]\n",
    "pre = [precision]\n",
    "acc = [accuracy]\n",
    "print('보팅 분류기의 정밀도 : ' , precision , ' 보팅 분류기의 정확도 : ' , accuracy)\n",
    "for i in model:\n",
    "    i.fit(train_input , train_target)\n",
    "    pred1 = i.predict(test_input)\n",
    "    precision1 = precision_score(test_target , pred1)\n",
    "    model_name = i.__class__.__name__\n",
    "    accuracy1 = accuracy_score(test_target , pred1)\n",
    "    name.append(model_name)\n",
    "    pre.append(precision1)\n",
    "    acc.append(accuracy1)\n",
    "    print(f'{model_name}의 정밀도 : {precision1} , 정확도 : {accuracy1}')"
   ]
  },
  {
   "cell_type": "markdown",
   "id": "24dff947",
   "metadata": {},
   "source": [
    "- 모든 분류기가 대체로 정확도가 낮다."
   ]
  },
  {
   "cell_type": "code",
   "execution_count": 162,
   "id": "de32ea45",
   "metadata": {
    "ExecuteTime": {
     "end_time": "2023-10-27T05:01:31.005191Z",
     "start_time": "2023-10-27T05:01:30.820214Z"
    }
   },
   "outputs": [
    {
     "data": {
      "text/plain": [
       "Text(0.5, 1.0, '분류기별 정밀도')"
      ]
     },
     "execution_count": 162,
     "metadata": {},
     "output_type": "execute_result"
    },
    {
     "data": {
      "image/png": "[encoded data removed]",
      "text/plain": [
       "<Figure size 640x480 with 1 Axes>"
      ]
     },
     "metadata": {},
     "output_type": "display_data"
    }
   ],
   "source": [
    "bar_width = 0.2\n",
    "plt.bar(x = np.arange(4) - bar_width/2 , width = 0.2 ,  height = pre , label = '정밀도')\n",
    "plt.bar(x = np.arange(4) + bar_width/2 , width = 0.2 , height = acc , label = '정확도')\n",
    "plt.ylim(0.6 , 0.73)\n",
    "plt.xticks(np.arange(4) , name)\n",
    "plt.legend(loc = 'upper center')\n",
    "\n",
    "plt.title('분류기별 정밀도')"
   ]
  },
  {
   "cell_type": "markdown",
   "id": "0355d3a2",
   "metadata": {},
   "source": [
    "- 정밀도가 높다 = 죽었다고 예측했는데 살아있는 경우가 적다 => 손실을 최소화할 수 있는 방법?"
   ]
  },
  {
   "cell_type": "code",
   "execution_count": 163,
   "id": "d71b0f82",
   "metadata": {
    "ExecuteTime": {
     "end_time": "2023-10-27T05:01:31.288590Z",
     "start_time": "2023-10-27T05:01:31.006188Z"
    }
   },
   "outputs": [],
   "source": [
    "from sklearn.model_selection import cross_validate\n",
    "from sklearn.ensemble import RandomForestClassifier\n",
    "\n",
    "rf = RandomForestClassifier(random_state = 42 , n_jobs = -1)\n",
    "scores = cross_validate(rf , train_input , train_target , n_jobs = -1 , return_train_score = True)\n"
   ]
  },
  {
   "cell_type": "code",
   "execution_count": 164,
   "id": "df1a5008",
   "metadata": {
    "ExecuteTime": {
     "end_time": "2023-10-27T05:01:31.458416Z",
     "start_time": "2023-10-27T05:01:31.289835Z"
    }
   },
   "outputs": [
    {
     "name": "stdout",
     "output_type": "stream",
     "text": [
      "[0.21246974 0.60799474 0.10344066 0.07609486]\n"
     ]
    }
   ],
   "source": [
    "rf.fit(train_input , train_target)\n",
    "print(rf.feature_importances_)"
   ]
  },
  {
   "cell_type": "code",
   "execution_count": 165,
   "id": "c7005f34",
   "metadata": {
    "ExecuteTime": {
     "end_time": "2023-10-27T05:01:31.488580Z",
     "start_time": "2023-10-27T05:01:31.458416Z"
    }
   },
   "outputs": [
    {
     "data": {
      "text/plain": [
       "0.8553054662379421"
      ]
     },
     "execution_count": 165,
     "metadata": {},
     "output_type": "execute_result"
    }
   ],
   "source": [
    "rf.score(train_input , train_target)"
   ]
  },
  {
   "cell_type": "code",
   "execution_count": 166,
   "id": "1df82be7",
   "metadata": {
    "ExecuteTime": {
     "end_time": "2023-10-27T05:01:31.521939Z",
     "start_time": "2023-10-27T05:01:31.489853Z"
    }
   },
   "outputs": [
    {
     "data": {
      "text/plain": [
       "0.6779026217228464"
      ]
     },
     "execution_count": 166,
     "metadata": {},
     "output_type": "execute_result"
    }
   ],
   "source": [
    "rf.score(test_input , test_target)"
   ]
  },
  {
   "cell_type": "code",
   "execution_count": 167,
   "id": "7b3719cc",
   "metadata": {
    "ExecuteTime": {
     "end_time": "2023-10-27T05:01:31.538772Z",
     "start_time": "2023-10-27T05:01:31.523353Z"
    }
   },
   "outputs": [
    {
     "data": {
      "text/plain": [
       "0.842443729903537"
      ]
     },
     "execution_count": 167,
     "metadata": {},
     "output_type": "execute_result"
    }
   ],
   "source": [
    "vc.score(train_input , train_target)"
   ]
  },
  {
   "cell_type": "code",
   "execution_count": 168,
   "id": "29462aed",
   "metadata": {
    "ExecuteTime": {
     "end_time": "2023-10-27T05:01:31.555329Z",
     "start_time": "2023-10-27T05:01:31.541257Z"
    }
   },
   "outputs": [
    {
     "data": {
      "text/plain": [
       "0.6891385767790262"
      ]
     },
     "execution_count": 168,
     "metadata": {},
     "output_type": "execute_result"
    }
   ],
   "source": [
    "vc.score(test_input , test_target)"
   ]
  }
 ],
 "metadata": {
  "kernelspec": {
   "display_name": "Python 3 (ipykernel)",
   "language": "python",
   "name": "python3"
  },
  "language_info": {
   "codemirror_mode": {
    "name": "ipython",
    "version": 3
   },
   "file_extension": ".py",
   "mimetype": "text/x-python",
   "name": "python",
   "nbconvert_exporter": "python",
   "pygments_lexer": "ipython3",
   "version": "3.8.17"
  },
  "toc": {
   "base_numbering": 1,
   "nav_menu": {},
   "number_sections": true,
   "sideBar": true,
   "skip_h1_title": false,
   "title_cell": "Table of Contents",
   "title_sidebar": "Contents",
   "toc_cell": false,
   "toc_position": {},
   "toc_section_display": true,
   "toc_window_display": false
  }
 },
 "nbformat": 4,
 "nbformat_minor": 5
}
