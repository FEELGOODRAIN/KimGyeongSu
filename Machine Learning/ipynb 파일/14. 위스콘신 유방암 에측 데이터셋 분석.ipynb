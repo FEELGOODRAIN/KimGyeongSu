{
 "cells": [
  {
   "cell_type": "code",
   "execution_count": 1,
   "id": "df3c803f",
   "metadata": {
    "ExecuteTime": {
     "end_time": "2023-10-30T03:24:01.573953Z",
     "start_time": "2023-10-30T03:23:59.907606Z"
    }
   },
   "outputs": [],
   "source": [
    "import numpy as np\n",
    "import pandas as pd\n",
    "import matplotlib as mpl\n",
    "import matplotlib.pyplot as plt\n",
    "import mglearn\n",
    "%matplotlib inline\n",
    "import seaborn as sns\n",
    "import platform\n",
    "from matplotlib import font_manager , rc\n",
    "\n",
    "if platform.system() == 'Darwin':\n",
    "  rc('font' , family = 'AppleGothic')\n",
    "elif platform.system() == 'Windows':\n",
    "  path = 'C:/Windows/Fonts/malgun.ttf'\n",
    "  font_name = font_manager.FontProperties(fname = path).get_name()\n",
    "  rc('font' , family = font_name)\n",
    "else:\n",
    "  print('모름')\n",
    "plt.rcParams['axes.unicode_minus'] = False\n",
    "import warnings\n",
    "warnings.filterwarnings('ignore')"
   ]
  },
  {
   "cell_type": "code",
   "execution_count": 2,
   "id": "83f90c56",
   "metadata": {
    "ExecuteTime": {
     "end_time": "2023-10-30T03:24:01.597988Z",
     "start_time": "2023-10-30T03:24:01.578487Z"
    }
   },
   "outputs": [],
   "source": [
    "from sklearn.datasets import load_breast_cancer\n",
    "from sklearn.model_selection import train_test_split\n",
    "\n",
    "cancer = load_breast_cancer()\n"
   ]
  },
  {
   "cell_type": "code",
   "execution_count": 3,
   "id": "b447c96a",
   "metadata": {
    "ExecuteTime": {
     "end_time": "2023-10-30T03:24:12.835408Z",
     "start_time": "2023-10-30T03:24:12.820743Z"
    }
   },
   "outputs": [
    {
     "name": "stdout",
     "output_type": "stream",
     "text": [
      ".. _breast_cancer_dataset:\n",
      "\n",
      "Breast cancer wisconsin (diagnostic) dataset\n",
      "--------------------------------------------\n",
      "\n",
      "**Data Set Characteristics:**\n",
      "\n",
      "    :Number of Instances: 569\n",
      "\n",
      "    :Number of Attributes: 30 numeric, predictive attributes and the class\n",
      "\n",
      "    :Attribute Information:\n",
      "        - radius (mean of distances from center to points on the perimeter)\n",
      "        - texture (standard deviation of gray-scale values)\n",
      "        - perimeter\n",
      "        - area\n",
      "        - smoothness (local variation in radius lengths)\n",
      "        - compactness (perimeter^2 / area - 1.0)\n",
      "        - concavity (severity of concave portions of the contour)\n",
      "        - concave points (number of concave portions of the contour)\n",
      "        - symmetry\n",
      "        - fractal dimension (\"coastline approximation\" - 1)\n",
      "\n",
      "        The mean, standard error, and \"worst\" or largest (mean of the three\n",
      "        worst/largest values) of these features were computed for each image,\n",
      "        resulting in 30 features.  For instance, field 0 is Mean Radius, field\n",
      "        10 is Radius SE, field 20 is Worst Radius.\n",
      "\n",
      "        - class:\n",
      "                - WDBC-Malignant\n",
      "                - WDBC-Benign\n",
      "\n",
      "    :Summary Statistics:\n",
      "\n",
      "    ===================================== ====== ======\n",
      "                                           Min    Max\n",
      "    ===================================== ====== ======\n",
      "    radius (mean):                        6.981  28.11\n",
      "    texture (mean):                       9.71   39.28\n",
      "    perimeter (mean):                     43.79  188.5\n",
      "    area (mean):                          143.5  2501.0\n",
      "    smoothness (mean):                    0.053  0.163\n",
      "    compactness (mean):                   0.019  0.345\n",
      "    concavity (mean):                     0.0    0.427\n",
      "    concave points (mean):                0.0    0.201\n",
      "    symmetry (mean):                      0.106  0.304\n",
      "    fractal dimension (mean):             0.05   0.097\n",
      "    radius (standard error):              0.112  2.873\n",
      "    texture (standard error):             0.36   4.885\n",
      "    perimeter (standard error):           0.757  21.98\n",
      "    area (standard error):                6.802  542.2\n",
      "    smoothness (standard error):          0.002  0.031\n",
      "    compactness (standard error):         0.002  0.135\n",
      "    concavity (standard error):           0.0    0.396\n",
      "    concave points (standard error):      0.0    0.053\n",
      "    symmetry (standard error):            0.008  0.079\n",
      "    fractal dimension (standard error):   0.001  0.03\n",
      "    radius (worst):                       7.93   36.04\n",
      "    texture (worst):                      12.02  49.54\n",
      "    perimeter (worst):                    50.41  251.2\n",
      "    area (worst):                         185.2  4254.0\n",
      "    smoothness (worst):                   0.071  0.223\n",
      "    compactness (worst):                  0.027  1.058\n",
      "    concavity (worst):                    0.0    1.252\n",
      "    concave points (worst):               0.0    0.291\n",
      "    symmetry (worst):                     0.156  0.664\n",
      "    fractal dimension (worst):            0.055  0.208\n",
      "    ===================================== ====== ======\n",
      "\n",
      "    :Missing Attribute Values: None\n",
      "\n",
      "    :Class Distribution: 212 - Malignant, 357 - Benign\n",
      "\n",
      "    :Creator:  Dr. William H. Wolberg, W. Nick Street, Olvi L. Mangasarian\n",
      "\n",
      "    :Donor: Nick Street\n",
      "\n",
      "    :Date: November, 1995\n",
      "\n",
      "This is a copy of UCI ML Breast Cancer Wisconsin (Diagnostic) datasets.\n",
      "https://goo.gl/U2Uwz2\n",
      "\n",
      "Features are computed from a digitized image of a fine needle\n",
      "aspirate (FNA) of a breast mass.  They describe\n",
      "characteristics of the cell nuclei present in the image.\n",
      "\n",
      "Separating plane described above was obtained using\n",
      "Multisurface Method-Tree (MSM-T) [K. P. Bennett, \"Decision Tree\n",
      "Construction Via Linear Programming.\" Proceedings of the 4th\n",
      "Midwest Artificial Intelligence and Cognitive Science Society,\n",
      "pp. 97-101, 1992], a classification method which uses linear\n",
      "programming to construct a decision tree.  Relevant features\n",
      "were selected using an exhaustive search in the space of 1-4\n",
      "features and 1-3 separating planes.\n",
      "\n",
      "The actual linear program used to obtain the separating plane\n",
      "in the 3-dimensional space is that described in:\n",
      "[K. P. Bennett and O. L. Mangasarian: \"Robust Linear\n",
      "Programming Discrimination of Two Linearly Inseparable Sets\",\n",
      "Optimization Methods and Software 1, 1992, 23-34].\n",
      "\n",
      "This database is also available through the UW CS ftp server:\n",
      "\n",
      "ftp ftp.cs.wisc.edu\n",
      "cd math-prog/cpo-dataset/machine-learn/WDBC/\n",
      "\n",
      ".. topic:: References\n",
      "\n",
      "   - W.N. Street, W.H. Wolberg and O.L. Mangasarian. Nuclear feature extraction \n",
      "     for breast tumor diagnosis. IS&T/SPIE 1993 International Symposium on \n",
      "     Electronic Imaging: Science and Technology, volume 1905, pages 861-870,\n",
      "     San Jose, CA, 1993.\n",
      "   - O.L. Mangasarian, W.N. Street and W.H. Wolberg. Breast cancer diagnosis and \n",
      "     prognosis via linear programming. Operations Research, 43(4), pages 570-577, \n",
      "     July-August 1995.\n",
      "   - W.H. Wolberg, W.N. Street, and O.L. Mangasarian. Machine learning techniques\n",
      "     to diagnose breast cancer from fine-needle aspirates. Cancer Letters 77 (1994) \n",
      "     163-171.\n"
     ]
    }
   ],
   "source": [
    "print(cancer.DESCR)"
   ]
  },
  {
   "cell_type": "code",
   "execution_count": 5,
   "id": "9e39643f",
   "metadata": {
    "ExecuteTime": {
     "end_time": "2023-10-30T03:24:49.862790Z",
     "start_time": "2023-10-30T03:24:49.855652Z"
    }
   },
   "outputs": [
    {
     "data": {
      "text/plain": [
       "dict_keys(['data', 'target', 'frame', 'target_names', 'DESCR', 'feature_names', 'filename', 'data_module'])"
      ]
     },
     "execution_count": 5,
     "metadata": {},
     "output_type": "execute_result"
    }
   ],
   "source": [
    "cancer.keys()"
   ]
  },
  {
   "cell_type": "code",
   "execution_count": 13,
   "id": "a99dae69",
   "metadata": {
    "ExecuteTime": {
     "end_time": "2023-10-30T03:29:44.298949Z",
     "start_time": "2023-10-30T03:29:44.294475Z"
    }
   },
   "outputs": [],
   "source": [
    "df = pd.DataFrame(cancer.data , columns = cancer.feature_names)"
   ]
  },
  {
   "cell_type": "code",
   "execution_count": 9,
   "id": "7db6466a",
   "metadata": {
    "ExecuteTime": {
     "end_time": "2023-10-30T03:25:49.455388Z",
     "start_time": "2023-10-30T03:25:49.449168Z"
    }
   },
   "outputs": [
    {
     "data": {
      "text/plain": [
       "(array([0, 1]), array([212, 357], dtype=int64))"
      ]
     },
     "execution_count": 9,
     "metadata": {},
     "output_type": "execute_result"
    }
   ],
   "source": [
    "np.unique(cancer.target , return_counts = True)"
   ]
  },
  {
   "cell_type": "code",
   "execution_count": 12,
   "id": "c77216d2",
   "metadata": {
    "ExecuteTime": {
     "end_time": "2023-10-30T03:28:49.679613Z",
     "start_time": "2023-10-30T03:28:49.673559Z"
    }
   },
   "outputs": [
    {
     "name": "stdout",
     "output_type": "stream",
     "text": [
      "feature 1 : mean radius\n",
      "feature 2 : mean texture\n",
      "feature 3 : mean perimeter\n",
      "feature 4 : mean area\n",
      "feature 5 : mean smoothness\n",
      "feature 6 : mean compactness\n",
      "feature 7 : mean concavity\n",
      "feature 8 : mean concave points\n",
      "feature 9 : mean symmetry\n",
      "feature 10 : mean fractal dimension\n",
      "feature 11 : radius error\n",
      "feature 12 : texture error\n",
      "feature 13 : perimeter error\n",
      "feature 14 : area error\n",
      "feature 15 : smoothness error\n",
      "feature 16 : compactness error\n",
      "feature 17 : concavity error\n",
      "feature 18 : concave points error\n",
      "feature 19 : symmetry error\n",
      "feature 20 : fractal dimension error\n",
      "feature 21 : worst radius\n",
      "feature 22 : worst texture\n",
      "feature 23 : worst perimeter\n",
      "feature 24 : worst area\n",
      "feature 25 : worst smoothness\n",
      "feature 26 : worst compactness\n",
      "feature 27 : worst concavity\n",
      "feature 28 : worst concave points\n",
      "feature 29 : worst symmetry\n",
      "feature 30 : worst fractal dimension\n"
     ]
    }
   ],
   "source": [
    "for i , feature in enumerate(cancer.feature_names):\n",
    "    print(f'feature {i+1} : {feature}')"
   ]
  },
  {
   "cell_type": "code",
   "execution_count": 15,
   "id": "cf326aa5",
   "metadata": {
    "ExecuteTime": {
     "end_time": "2023-10-30T03:30:04.514305Z",
     "start_time": "2023-10-30T03:30:04.459895Z"
    }
   },
   "outputs": [
    {
     "data": {
      "text/html": [
       "<div>\n",
       "<style scoped>\n",
       "    .dataframe tbody tr th:only-of-type {\n",
       "        vertical-align: middle;\n",
       "    }\n",
       "\n",
       "    .dataframe tbody tr th {\n",
       "        vertical-align: top;\n",
       "    }\n",
       "\n",
       "    .dataframe thead th {\n",
       "        text-align: right;\n",
       "    }\n",
       "</style>\n",
       "<table border=\"1\" class=\"dataframe\">\n",
       "  <thead>\n",
       "    <tr style=\"text-align: right;\">\n",
       "      <th></th>\n",
       "      <th>count</th>\n",
       "      <th>mean</th>\n",
       "      <th>std</th>\n",
       "      <th>min</th>\n",
       "      <th>25%</th>\n",
       "      <th>50%</th>\n",
       "      <th>75%</th>\n",
       "      <th>max</th>\n",
       "    </tr>\n",
       "  </thead>\n",
       "  <tbody>\n",
       "    <tr>\n",
       "      <th>mean radius</th>\n",
       "      <td>569.0</td>\n",
       "      <td>14.127292</td>\n",
       "      <td>3.524049</td>\n",
       "      <td>6.981000</td>\n",
       "      <td>11.700000</td>\n",
       "      <td>13.370000</td>\n",
       "      <td>15.780000</td>\n",
       "      <td>28.11000</td>\n",
       "    </tr>\n",
       "    <tr>\n",
       "      <th>mean texture</th>\n",
       "      <td>569.0</td>\n",
       "      <td>19.289649</td>\n",
       "      <td>4.301036</td>\n",
       "      <td>9.710000</td>\n",
       "      <td>16.170000</td>\n",
       "      <td>18.840000</td>\n",
       "      <td>21.800000</td>\n",
       "      <td>39.28000</td>\n",
       "    </tr>\n",
       "    <tr>\n",
       "      <th>mean perimeter</th>\n",
       "      <td>569.0</td>\n",
       "      <td>91.969033</td>\n",
       "      <td>24.298981</td>\n",
       "      <td>43.790000</td>\n",
       "      <td>75.170000</td>\n",
       "      <td>86.240000</td>\n",
       "      <td>104.100000</td>\n",
       "      <td>188.50000</td>\n",
       "    </tr>\n",
       "    <tr>\n",
       "      <th>mean area</th>\n",
       "      <td>569.0</td>\n",
       "      <td>654.889104</td>\n",
       "      <td>351.914129</td>\n",
       "      <td>143.500000</td>\n",
       "      <td>420.300000</td>\n",
       "      <td>551.100000</td>\n",
       "      <td>782.700000</td>\n",
       "      <td>2501.00000</td>\n",
       "    </tr>\n",
       "    <tr>\n",
       "      <th>mean smoothness</th>\n",
       "      <td>569.0</td>\n",
       "      <td>0.096360</td>\n",
       "      <td>0.014064</td>\n",
       "      <td>0.052630</td>\n",
       "      <td>0.086370</td>\n",
       "      <td>0.095870</td>\n",
       "      <td>0.105300</td>\n",
       "      <td>0.16340</td>\n",
       "    </tr>\n",
       "    <tr>\n",
       "      <th>mean compactness</th>\n",
       "      <td>569.0</td>\n",
       "      <td>0.104341</td>\n",
       "      <td>0.052813</td>\n",
       "      <td>0.019380</td>\n",
       "      <td>0.064920</td>\n",
       "      <td>0.092630</td>\n",
       "      <td>0.130400</td>\n",
       "      <td>0.34540</td>\n",
       "    </tr>\n",
       "    <tr>\n",
       "      <th>mean concavity</th>\n",
       "      <td>569.0</td>\n",
       "      <td>0.088799</td>\n",
       "      <td>0.079720</td>\n",
       "      <td>0.000000</td>\n",
       "      <td>0.029560</td>\n",
       "      <td>0.061540</td>\n",
       "      <td>0.130700</td>\n",
       "      <td>0.42680</td>\n",
       "    </tr>\n",
       "    <tr>\n",
       "      <th>mean concave points</th>\n",
       "      <td>569.0</td>\n",
       "      <td>0.048919</td>\n",
       "      <td>0.038803</td>\n",
       "      <td>0.000000</td>\n",
       "      <td>0.020310</td>\n",
       "      <td>0.033500</td>\n",
       "      <td>0.074000</td>\n",
       "      <td>0.20120</td>\n",
       "    </tr>\n",
       "    <tr>\n",
       "      <th>mean symmetry</th>\n",
       "      <td>569.0</td>\n",
       "      <td>0.181162</td>\n",
       "      <td>0.027414</td>\n",
       "      <td>0.106000</td>\n",
       "      <td>0.161900</td>\n",
       "      <td>0.179200</td>\n",
       "      <td>0.195700</td>\n",
       "      <td>0.30400</td>\n",
       "    </tr>\n",
       "    <tr>\n",
       "      <th>mean fractal dimension</th>\n",
       "      <td>569.0</td>\n",
       "      <td>0.062798</td>\n",
       "      <td>0.007060</td>\n",
       "      <td>0.049960</td>\n",
       "      <td>0.057700</td>\n",
       "      <td>0.061540</td>\n",
       "      <td>0.066120</td>\n",
       "      <td>0.09744</td>\n",
       "    </tr>\n",
       "    <tr>\n",
       "      <th>radius error</th>\n",
       "      <td>569.0</td>\n",
       "      <td>0.405172</td>\n",
       "      <td>0.277313</td>\n",
       "      <td>0.111500</td>\n",
       "      <td>0.232400</td>\n",
       "      <td>0.324200</td>\n",
       "      <td>0.478900</td>\n",
       "      <td>2.87300</td>\n",
       "    </tr>\n",
       "    <tr>\n",
       "      <th>texture error</th>\n",
       "      <td>569.0</td>\n",
       "      <td>1.216853</td>\n",
       "      <td>0.551648</td>\n",
       "      <td>0.360200</td>\n",
       "      <td>0.833900</td>\n",
       "      <td>1.108000</td>\n",
       "      <td>1.474000</td>\n",
       "      <td>4.88500</td>\n",
       "    </tr>\n",
       "    <tr>\n",
       "      <th>perimeter error</th>\n",
       "      <td>569.0</td>\n",
       "      <td>2.866059</td>\n",
       "      <td>2.021855</td>\n",
       "      <td>0.757000</td>\n",
       "      <td>1.606000</td>\n",
       "      <td>2.287000</td>\n",
       "      <td>3.357000</td>\n",
       "      <td>21.98000</td>\n",
       "    </tr>\n",
       "    <tr>\n",
       "      <th>area error</th>\n",
       "      <td>569.0</td>\n",
       "      <td>40.337079</td>\n",
       "      <td>45.491006</td>\n",
       "      <td>6.802000</td>\n",
       "      <td>17.850000</td>\n",
       "      <td>24.530000</td>\n",
       "      <td>45.190000</td>\n",
       "      <td>542.20000</td>\n",
       "    </tr>\n",
       "    <tr>\n",
       "      <th>smoothness error</th>\n",
       "      <td>569.0</td>\n",
       "      <td>0.007041</td>\n",
       "      <td>0.003003</td>\n",
       "      <td>0.001713</td>\n",
       "      <td>0.005169</td>\n",
       "      <td>0.006380</td>\n",
       "      <td>0.008146</td>\n",
       "      <td>0.03113</td>\n",
       "    </tr>\n",
       "    <tr>\n",
       "      <th>compactness error</th>\n",
       "      <td>569.0</td>\n",
       "      <td>0.025478</td>\n",
       "      <td>0.017908</td>\n",
       "      <td>0.002252</td>\n",
       "      <td>0.013080</td>\n",
       "      <td>0.020450</td>\n",
       "      <td>0.032450</td>\n",
       "      <td>0.13540</td>\n",
       "    </tr>\n",
       "    <tr>\n",
       "      <th>concavity error</th>\n",
       "      <td>569.0</td>\n",
       "      <td>0.031894</td>\n",
       "      <td>0.030186</td>\n",
       "      <td>0.000000</td>\n",
       "      <td>0.015090</td>\n",
       "      <td>0.025890</td>\n",
       "      <td>0.042050</td>\n",
       "      <td>0.39600</td>\n",
       "    </tr>\n",
       "    <tr>\n",
       "      <th>concave points error</th>\n",
       "      <td>569.0</td>\n",
       "      <td>0.011796</td>\n",
       "      <td>0.006170</td>\n",
       "      <td>0.000000</td>\n",
       "      <td>0.007638</td>\n",
       "      <td>0.010930</td>\n",
       "      <td>0.014710</td>\n",
       "      <td>0.05279</td>\n",
       "    </tr>\n",
       "    <tr>\n",
       "      <th>symmetry error</th>\n",
       "      <td>569.0</td>\n",
       "      <td>0.020542</td>\n",
       "      <td>0.008266</td>\n",
       "      <td>0.007882</td>\n",
       "      <td>0.015160</td>\n",
       "      <td>0.018730</td>\n",
       "      <td>0.023480</td>\n",
       "      <td>0.07895</td>\n",
       "    </tr>\n",
       "    <tr>\n",
       "      <th>fractal dimension error</th>\n",
       "      <td>569.0</td>\n",
       "      <td>0.003795</td>\n",
       "      <td>0.002646</td>\n",
       "      <td>0.000895</td>\n",
       "      <td>0.002248</td>\n",
       "      <td>0.003187</td>\n",
       "      <td>0.004558</td>\n",
       "      <td>0.02984</td>\n",
       "    </tr>\n",
       "    <tr>\n",
       "      <th>worst radius</th>\n",
       "      <td>569.0</td>\n",
       "      <td>16.269190</td>\n",
       "      <td>4.833242</td>\n",
       "      <td>7.930000</td>\n",
       "      <td>13.010000</td>\n",
       "      <td>14.970000</td>\n",
       "      <td>18.790000</td>\n",
       "      <td>36.04000</td>\n",
       "    </tr>\n",
       "    <tr>\n",
       "      <th>worst texture</th>\n",
       "      <td>569.0</td>\n",
       "      <td>25.677223</td>\n",
       "      <td>6.146258</td>\n",
       "      <td>12.020000</td>\n",
       "      <td>21.080000</td>\n",
       "      <td>25.410000</td>\n",
       "      <td>29.720000</td>\n",
       "      <td>49.54000</td>\n",
       "    </tr>\n",
       "    <tr>\n",
       "      <th>worst perimeter</th>\n",
       "      <td>569.0</td>\n",
       "      <td>107.261213</td>\n",
       "      <td>33.602542</td>\n",
       "      <td>50.410000</td>\n",
       "      <td>84.110000</td>\n",
       "      <td>97.660000</td>\n",
       "      <td>125.400000</td>\n",
       "      <td>251.20000</td>\n",
       "    </tr>\n",
       "    <tr>\n",
       "      <th>worst area</th>\n",
       "      <td>569.0</td>\n",
       "      <td>880.583128</td>\n",
       "      <td>569.356993</td>\n",
       "      <td>185.200000</td>\n",
       "      <td>515.300000</td>\n",
       "      <td>686.500000</td>\n",
       "      <td>1084.000000</td>\n",
       "      <td>4254.00000</td>\n",
       "    </tr>\n",
       "    <tr>\n",
       "      <th>worst smoothness</th>\n",
       "      <td>569.0</td>\n",
       "      <td>0.132369</td>\n",
       "      <td>0.022832</td>\n",
       "      <td>0.071170</td>\n",
       "      <td>0.116600</td>\n",
       "      <td>0.131300</td>\n",
       "      <td>0.146000</td>\n",
       "      <td>0.22260</td>\n",
       "    </tr>\n",
       "    <tr>\n",
       "      <th>worst compactness</th>\n",
       "      <td>569.0</td>\n",
       "      <td>0.254265</td>\n",
       "      <td>0.157336</td>\n",
       "      <td>0.027290</td>\n",
       "      <td>0.147200</td>\n",
       "      <td>0.211900</td>\n",
       "      <td>0.339100</td>\n",
       "      <td>1.05800</td>\n",
       "    </tr>\n",
       "    <tr>\n",
       "      <th>worst concavity</th>\n",
       "      <td>569.0</td>\n",
       "      <td>0.272188</td>\n",
       "      <td>0.208624</td>\n",
       "      <td>0.000000</td>\n",
       "      <td>0.114500</td>\n",
       "      <td>0.226700</td>\n",
       "      <td>0.382900</td>\n",
       "      <td>1.25200</td>\n",
       "    </tr>\n",
       "    <tr>\n",
       "      <th>worst concave points</th>\n",
       "      <td>569.0</td>\n",
       "      <td>0.114606</td>\n",
       "      <td>0.065732</td>\n",
       "      <td>0.000000</td>\n",
       "      <td>0.064930</td>\n",
       "      <td>0.099930</td>\n",
       "      <td>0.161400</td>\n",
       "      <td>0.29100</td>\n",
       "    </tr>\n",
       "    <tr>\n",
       "      <th>worst symmetry</th>\n",
       "      <td>569.0</td>\n",
       "      <td>0.290076</td>\n",
       "      <td>0.061867</td>\n",
       "      <td>0.156500</td>\n",
       "      <td>0.250400</td>\n",
       "      <td>0.282200</td>\n",
       "      <td>0.317900</td>\n",
       "      <td>0.66380</td>\n",
       "    </tr>\n",
       "    <tr>\n",
       "      <th>worst fractal dimension</th>\n",
       "      <td>569.0</td>\n",
       "      <td>0.083946</td>\n",
       "      <td>0.018061</td>\n",
       "      <td>0.055040</td>\n",
       "      <td>0.071460</td>\n",
       "      <td>0.080040</td>\n",
       "      <td>0.092080</td>\n",
       "      <td>0.20750</td>\n",
       "    </tr>\n",
       "  </tbody>\n",
       "</table>\n",
       "</div>"
      ],
      "text/plain": [
       "                         count        mean         std         min  \\\n",
       "mean radius              569.0   14.127292    3.524049    6.981000   \n",
       "mean texture             569.0   19.289649    4.301036    9.710000   \n",
       "mean perimeter           569.0   91.969033   24.298981   43.790000   \n",
       "mean area                569.0  654.889104  351.914129  143.500000   \n",
       "mean smoothness          569.0    0.096360    0.014064    0.052630   \n",
       "mean compactness         569.0    0.104341    0.052813    0.019380   \n",
       "mean concavity           569.0    0.088799    0.079720    0.000000   \n",
       "mean concave points      569.0    0.048919    0.038803    0.000000   \n",
       "mean symmetry            569.0    0.181162    0.027414    0.106000   \n",
       "mean fractal dimension   569.0    0.062798    0.007060    0.049960   \n",
       "radius error             569.0    0.405172    0.277313    0.111500   \n",
       "texture error            569.0    1.216853    0.551648    0.360200   \n",
       "perimeter error          569.0    2.866059    2.021855    0.757000   \n",
       "area error               569.0   40.337079   45.491006    6.802000   \n",
       "smoothness error         569.0    0.007041    0.003003    0.001713   \n",
       "compactness error        569.0    0.025478    0.017908    0.002252   \n",
       "concavity error          569.0    0.031894    0.030186    0.000000   \n",
       "concave points error     569.0    0.011796    0.006170    0.000000   \n",
       "symmetry error           569.0    0.020542    0.008266    0.007882   \n",
       "fractal dimension error  569.0    0.003795    0.002646    0.000895   \n",
       "worst radius             569.0   16.269190    4.833242    7.930000   \n",
       "worst texture            569.0   25.677223    6.146258   12.020000   \n",
       "worst perimeter          569.0  107.261213   33.602542   50.410000   \n",
       "worst area               569.0  880.583128  569.356993  185.200000   \n",
       "worst smoothness         569.0    0.132369    0.022832    0.071170   \n",
       "worst compactness        569.0    0.254265    0.157336    0.027290   \n",
       "worst concavity          569.0    0.272188    0.208624    0.000000   \n",
       "worst concave points     569.0    0.114606    0.065732    0.000000   \n",
       "worst symmetry           569.0    0.290076    0.061867    0.156500   \n",
       "worst fractal dimension  569.0    0.083946    0.018061    0.055040   \n",
       "\n",
       "                                25%         50%          75%         max  \n",
       "mean radius               11.700000   13.370000    15.780000    28.11000  \n",
       "mean texture              16.170000   18.840000    21.800000    39.28000  \n",
       "mean perimeter            75.170000   86.240000   104.100000   188.50000  \n",
       "mean area                420.300000  551.100000   782.700000  2501.00000  \n",
       "mean smoothness            0.086370    0.095870     0.105300     0.16340  \n",
       "mean compactness           0.064920    0.092630     0.130400     0.34540  \n",
       "mean concavity             0.029560    0.061540     0.130700     0.42680  \n",
       "mean concave points        0.020310    0.033500     0.074000     0.20120  \n",
       "mean symmetry              0.161900    0.179200     0.195700     0.30400  \n",
       "mean fractal dimension     0.057700    0.061540     0.066120     0.09744  \n",
       "radius error               0.232400    0.324200     0.478900     2.87300  \n",
       "texture error              0.833900    1.108000     1.474000     4.88500  \n",
       "perimeter error            1.606000    2.287000     3.357000    21.98000  \n",
       "area error                17.850000   24.530000    45.190000   542.20000  \n",
       "smoothness error           0.005169    0.006380     0.008146     0.03113  \n",
       "compactness error          0.013080    0.020450     0.032450     0.13540  \n",
       "concavity error            0.015090    0.025890     0.042050     0.39600  \n",
       "concave points error       0.007638    0.010930     0.014710     0.05279  \n",
       "symmetry error             0.015160    0.018730     0.023480     0.07895  \n",
       "fractal dimension error    0.002248    0.003187     0.004558     0.02984  \n",
       "worst radius              13.010000   14.970000    18.790000    36.04000  \n",
       "worst texture             21.080000   25.410000    29.720000    49.54000  \n",
       "worst perimeter           84.110000   97.660000   125.400000   251.20000  \n",
       "worst area               515.300000  686.500000  1084.000000  4254.00000  \n",
       "worst smoothness           0.116600    0.131300     0.146000     0.22260  \n",
       "worst compactness          0.147200    0.211900     0.339100     1.05800  \n",
       "worst concavity            0.114500    0.226700     0.382900     1.25200  \n",
       "worst concave points       0.064930    0.099930     0.161400     0.29100  \n",
       "worst symmetry             0.250400    0.282200     0.317900     0.66380  \n",
       "worst fractal dimension    0.071460    0.080040     0.092080     0.20750  "
      ]
     },
     "execution_count": 15,
     "metadata": {},
     "output_type": "execute_result"
    }
   ],
   "source": [
    "df.describe().T"
   ]
  },
  {
   "cell_type": "markdown",
   "id": "2464780e",
   "metadata": {},
   "source": [
    "# 데이터 전처리"
   ]
  },
  {
   "cell_type": "code",
   "execution_count": 17,
   "id": "a432fca7",
   "metadata": {
    "ExecuteTime": {
     "end_time": "2023-10-30T03:34:06.475689Z",
     "start_time": "2023-10-30T03:34:06.468737Z"
    }
   },
   "outputs": [],
   "source": [
    "from sklearn.model_selection import train_test_split\n",
    "\n",
    "train_input , test_input , train_target , test_target = train_test_split(cancer.data , cancer.target , test_size = 0.2 , random_state = 42)"
   ]
  },
  {
   "cell_type": "code",
   "execution_count": 19,
   "id": "3d482fd2",
   "metadata": {
    "ExecuteTime": {
     "end_time": "2023-10-30T03:36:23.516291Z",
     "start_time": "2023-10-30T03:36:23.491607Z"
    }
   },
   "outputs": [],
   "source": [
    "from sklearn.preprocessing import StandardScaler\n",
    "ss = StandardScaler()\n",
    "ss.fit(train_input)\n",
    "train_scaled = ss.transform(train_input)\n",
    "test_scaled = ss.transform(test_input)"
   ]
  },
  {
   "cell_type": "markdown",
   "id": "3d3408df",
   "metadata": {},
   "source": [
    "# LogisticRegression"
   ]
  },
  {
   "cell_type": "code",
   "execution_count": 21,
   "id": "c4e9d710",
   "metadata": {
    "ExecuteTime": {
     "end_time": "2023-10-30T03:37:50.877723Z",
     "start_time": "2023-10-30T03:37:50.841979Z"
    }
   },
   "outputs": [
    {
     "data": {
      "text/html": [
       "<style>#sk-container-id-1 {color: black;}#sk-container-id-1 pre{padding: 0;}#sk-container-id-1 div.sk-toggleable {background-color: white;}#sk-container-id-1 label.sk-toggleable__label {cursor: pointer;display: block;width: 100%;margin-bottom: 0;padding: 0.3em;box-sizing: border-box;text-align: center;}#sk-container-id-1 label.sk-toggleable__label-arrow:before {content: \"▸\";float: left;margin-right: 0.25em;color: #696969;}#sk-container-id-1 label.sk-toggleable__label-arrow:hover:before {color: black;}#sk-container-id-1 div.sk-estimator:hover label.sk-toggleable__label-arrow:before {color: black;}#sk-container-id-1 div.sk-toggleable__content {max-height: 0;max-width: 0;overflow: hidden;text-align: left;background-color: #f0f8ff;}#sk-container-id-1 div.sk-toggleable__content pre {margin: 0.2em;color: black;border-radius: 0.25em;background-color: #f0f8ff;}#sk-container-id-1 input.sk-toggleable__control:checked~div.sk-toggleable__content {max-height: 200px;max-width: 100%;overflow: auto;}#sk-container-id-1 input.sk-toggleable__control:checked~label.sk-toggleable__label-arrow:before {content: \"▾\";}#sk-container-id-1 div.sk-estimator input.sk-toggleable__control:checked~label.sk-toggleable__label {background-color: #d4ebff;}#sk-container-id-1 div.sk-label input.sk-toggleable__control:checked~label.sk-toggleable__label {background-color: #d4ebff;}#sk-container-id-1 input.sk-hidden--visually {border: 0;clip: rect(1px 1px 1px 1px);clip: rect(1px, 1px, 1px, 1px);height: 1px;margin: -1px;overflow: hidden;padding: 0;position: absolute;width: 1px;}#sk-container-id-1 div.sk-estimator {font-family: monospace;background-color: #f0f8ff;border: 1px dotted black;border-radius: 0.25em;box-sizing: border-box;margin-bottom: 0.5em;}#sk-container-id-1 div.sk-estimator:hover {background-color: #d4ebff;}#sk-container-id-1 div.sk-parallel-item::after {content: \"\";width: 100%;border-bottom: 1px solid gray;flex-grow: 1;}#sk-container-id-1 div.sk-label:hover label.sk-toggleable__label {background-color: #d4ebff;}#sk-container-id-1 div.sk-serial::before {content: \"\";position: absolute;border-left: 1px solid gray;box-sizing: border-box;top: 0;bottom: 0;left: 50%;z-index: 0;}#sk-container-id-1 div.sk-serial {display: flex;flex-direction: column;align-items: center;background-color: white;padding-right: 0.2em;padding-left: 0.2em;position: relative;}#sk-container-id-1 div.sk-item {position: relative;z-index: 1;}#sk-container-id-1 div.sk-parallel {display: flex;align-items: stretch;justify-content: center;background-color: white;position: relative;}#sk-container-id-1 div.sk-item::before, #sk-container-id-1 div.sk-parallel-item::before {content: \"\";position: absolute;border-left: 1px solid gray;box-sizing: border-box;top: 0;bottom: 0;left: 50%;z-index: -1;}#sk-container-id-1 div.sk-parallel-item {display: flex;flex-direction: column;z-index: 1;position: relative;background-color: white;}#sk-container-id-1 div.sk-parallel-item:first-child::after {align-self: flex-end;width: 50%;}#sk-container-id-1 div.sk-parallel-item:last-child::after {align-self: flex-start;width: 50%;}#sk-container-id-1 div.sk-parallel-item:only-child::after {width: 0;}#sk-container-id-1 div.sk-dashed-wrapped {border: 1px dashed gray;margin: 0 0.4em 0.5em 0.4em;box-sizing: border-box;padding-bottom: 0.4em;background-color: white;}#sk-container-id-1 div.sk-label label {font-family: monospace;font-weight: bold;display: inline-block;line-height: 1.2em;}#sk-container-id-1 div.sk-label-container {text-align: center;}#sk-container-id-1 div.sk-container {/* jupyter's `normalize.less` sets `[hidden] { display: none; }` but bootstrap.min.css set `[hidden] { display: none !important; }` so we also need the `!important` here to be able to override the default hidden behavior on the sphinx rendered scikit-learn.org. See: https://github.com/scikit-learn/scikit-learn/issues/21755 */display: inline-block !important;position: relative;}#sk-container-id-1 div.sk-text-repr-fallback {display: none;}</style><div id=\"sk-container-id-1\" class=\"sk-top-container\"><div class=\"sk-text-repr-fallback\"><pre>LogisticRegression()</pre><b>In a Jupyter environment, please rerun this cell to show the HTML representation or trust the notebook. <br />On GitHub, the HTML representation is unable to render, please try loading this page with nbviewer.org.</b></div><div class=\"sk-container\" hidden><div class=\"sk-item\"><div class=\"sk-estimator sk-toggleable\"><input class=\"sk-toggleable__control sk-hidden--visually\" id=\"sk-estimator-id-1\" type=\"checkbox\" checked><label for=\"sk-estimator-id-1\" class=\"sk-toggleable__label sk-toggleable__label-arrow\">LogisticRegression</label><div class=\"sk-toggleable__content\"><pre>LogisticRegression()</pre></div></div></div></div></div>"
      ],
      "text/plain": [
       "LogisticRegression()"
      ]
     },
     "execution_count": 21,
     "metadata": {},
     "output_type": "execute_result"
    }
   ],
   "source": [
    "from sklearn.linear_model import LogisticRegression\n",
    "\n",
    "lr = LogisticRegression()\n",
    "lr.fit(train_scaled , train_target)"
   ]
  },
  {
   "cell_type": "code",
   "execution_count": 25,
   "id": "385a4fb8",
   "metadata": {
    "ExecuteTime": {
     "end_time": "2023-10-30T03:40:19.864154Z",
     "start_time": "2023-10-30T03:40:19.857536Z"
    }
   },
   "outputs": [
    {
     "data": {
      "text/plain": [
       "array([1, 0, 0, 1, 1])"
      ]
     },
     "execution_count": 25,
     "metadata": {},
     "output_type": "execute_result"
    }
   ],
   "source": [
    "lr.predict(test_scaled[:5])"
   ]
  },
  {
   "cell_type": "code",
   "execution_count": 23,
   "id": "adb9002d",
   "metadata": {
    "ExecuteTime": {
     "end_time": "2023-10-30T03:38:16.646398Z",
     "start_time": "2023-10-30T03:38:16.631494Z"
    }
   },
   "outputs": [],
   "source": [
    "from sklearn.metrics import accuracy_score , precision_score , recall_score , roc_auc_score , f1_score , confusion_matrix , roc_curve , precision_recall_curve"
   ]
  },
  {
   "cell_type": "code",
   "execution_count": 24,
   "id": "1b310b94",
   "metadata": {
    "ExecuteTime": {
     "end_time": "2023-10-30T03:38:38.553155Z",
     "start_time": "2023-10-30T03:38:38.545594Z"
    }
   },
   "outputs": [
    {
     "data": {
      "text/plain": [
       "0.9736842105263158"
      ]
     },
     "execution_count": 24,
     "metadata": {},
     "output_type": "execute_result"
    }
   ],
   "source": [
    "accuracy_score(test_target , lr.predict(test_scaled))"
   ]
  },
  {
   "cell_type": "code",
   "execution_count": 27,
   "id": "e47c9c43",
   "metadata": {
    "ExecuteTime": {
     "end_time": "2023-10-30T03:41:56.257943Z",
     "start_time": "2023-10-30T03:41:56.252010Z"
    }
   },
   "outputs": [
    {
     "data": {
      "text/plain": [
       "array([[1.14327437e-01, 8.85672563e-01],\n",
       "       [9.99990961e-01, 9.03924655e-06],\n",
       "       [9.96901657e-01, 3.09834256e-03],\n",
       "       [5.10962742e-04, 9.99489037e-01],\n",
       "       [6.08832659e-05, 9.99939117e-01]])"
      ]
     },
     "execution_count": 27,
     "metadata": {},
     "output_type": "execute_result"
    }
   ],
   "source": [
    "#예측확률\n",
    "lr.predict_proba(test_scaled[:5])"
   ]
  },
  {
   "cell_type": "code",
   "execution_count": 28,
   "id": "f5b55ae2",
   "metadata": {
    "ExecuteTime": {
     "end_time": "2023-10-30T03:42:12.932854Z",
     "start_time": "2023-10-30T03:42:12.924737Z"
    }
   },
   "outputs": [
    {
     "data": {
      "text/plain": [
       "array([0, 1])"
      ]
     },
     "execution_count": 28,
     "metadata": {},
     "output_type": "execute_result"
    }
   ],
   "source": [
    "lr.classes_"
   ]
  },
  {
   "cell_type": "code",
   "execution_count": 30,
   "id": "c74fe0fd",
   "metadata": {
    "ExecuteTime": {
     "end_time": "2023-10-30T03:43:36.667004Z",
     "start_time": "2023-10-30T03:43:36.649886Z"
    }
   },
   "outputs": [
    {
     "data": {
      "text/plain": [
       "(array([[-0.42789615, -0.39391343, -0.38955025, -0.46431618, -0.06675416,\n",
       "          0.54210625, -0.79677127, -1.1170207 ,  0.23571257,  0.07670117,\n",
       "         -1.27114722,  0.18863977, -0.60936581, -0.90979979, -0.31246106,\n",
       "          0.68597229,  0.18081531, -0.31769168,  0.49997976,  0.61340541,\n",
       "         -0.87861043, -1.3421883 , -0.58755707, -0.84655924, -0.54994459,\n",
       "          0.00520705, -0.94571375, -0.77343621, -1.20853126, -0.1541604 ]]),\n",
       " array([0.44359695]))"
      ]
     },
     "execution_count": 30,
     "metadata": {},
     "output_type": "execute_result"
    }
   ],
   "source": [
    "lr.coef_ , lr.intercept_"
   ]
  },
  {
   "cell_type": "code",
   "execution_count": 32,
   "id": "db87f20a",
   "metadata": {
    "ExecuteTime": {
     "end_time": "2023-10-30T03:44:55.754882Z",
     "start_time": "2023-10-30T03:44:55.745010Z"
    }
   },
   "outputs": [
    {
     "data": {
      "text/plain": [
       "array([  2.04728073, -11.61392569,  -5.77378482,   7.57870279,\n",
       "         9.70649132])"
      ]
     },
     "execution_count": 32,
     "metadata": {},
     "output_type": "execute_result"
    }
   ],
   "source": [
    "decisions = lr.decision_function(test_scaled[:5])\n",
    "decisions"
   ]
  },
  {
   "cell_type": "code",
   "execution_count": 33,
   "id": "0983e7fd",
   "metadata": {
    "ExecuteTime": {
     "end_time": "2023-10-30T03:45:56.071928Z",
     "start_time": "2023-10-30T03:45:56.066014Z"
    }
   },
   "outputs": [],
   "source": [
    "#예측\n",
    "\n",
    "pred = lr.predict(test_scaled)"
   ]
  },
  {
   "cell_type": "markdown",
   "id": "94c0b06c",
   "metadata": {},
   "source": [
    "## 평가지표\n",
    " - 회귀 : MAE , MSE , RMSE\n",
    " - 분류 : accuracy(정확도) , precision(정밀도) , recall(재현율) , f1 score(f1스코어) , roc(roc곡선)\n",
    " - 군집화(Clustering) : DBI , 엘보우 메서드 , 실루엣계수"
   ]
  },
  {
   "cell_type": "code",
   "execution_count": 34,
   "id": "4c34bb18",
   "metadata": {
    "ExecuteTime": {
     "end_time": "2023-10-30T03:51:30.060560Z",
     "start_time": "2023-10-30T03:51:30.053552Z"
    }
   },
   "outputs": [
    {
     "data": {
      "text/plain": [
       "0.9736842105263158"
      ]
     },
     "execution_count": 34,
     "metadata": {},
     "output_type": "execute_result"
    }
   ],
   "source": [
    "accuracy_score(test_target , pred)"
   ]
  },
  {
   "cell_type": "code",
   "execution_count": 35,
   "id": "5cc1ce39",
   "metadata": {
    "ExecuteTime": {
     "end_time": "2023-10-30T05:03:22.936948Z",
     "start_time": "2023-10-30T05:03:22.631313Z"
    }
   },
   "outputs": [
    {
     "data": {
      "image/jpeg": "[encoded data removed]",
      "text/plain": [
       "<IPython.core.display.Image object>"
      ]
     },
     "execution_count": 35,
     "metadata": {},
     "output_type": "execute_result"
    }
   ],
   "source": [
    "from IPython.display import Image\n",
    "Image('https://skappal7.files.wordpress.com/2018/08/confusion-matrix.jpg')"
   ]
  },
  {
   "cell_type": "code",
   "execution_count": 56,
   "id": "ed76a128",
   "metadata": {
    "ExecuteTime": {
     "end_time": "2023-10-30T05:15:23.387935Z",
     "start_time": "2023-10-30T05:15:23.368863Z"
    }
   },
   "outputs": [],
   "source": [
    "cm = confusion_matrix(test_target , pred)"
   ]
  },
  {
   "cell_type": "code",
   "execution_count": 54,
   "id": "58b4e6a6",
   "metadata": {
    "ExecuteTime": {
     "end_time": "2023-10-30T05:15:17.747395Z",
     "start_time": "2023-10-30T05:15:17.615593Z"
    }
   },
   "outputs": [
    {
     "data": {
      "image/png": "[encoded data removed]",
      "text/plain": [
       "<Figure size 640x480 with 2 Axes>"
      ]
     },
     "metadata": {},
     "output_type": "display_data"
    }
   ],
   "source": [
    "sns.heatmap(confusion_matrix(test_target , pred) , annot = True , annot_kws = {'size' : 20} , cmap = 'YlOrBr')\n",
    "plt.xlabel('prediction' , fontsize = 20)\n",
    "plt.ylabel('actual' , fontsize = 20)\n",
    "plt.show()"
   ]
  },
  {
   "cell_type": "code",
   "execution_count": 45,
   "id": "99631420",
   "metadata": {
    "ExecuteTime": {
     "end_time": "2023-10-30T05:12:46.317072Z",
     "start_time": "2023-10-30T05:12:46.294921Z"
    }
   },
   "outputs": [
    {
     "data": {
      "text/plain": [
       "0.9722222222222222"
      ]
     },
     "execution_count": 45,
     "metadata": {},
     "output_type": "execute_result"
    }
   ],
   "source": [
    "precision_score(test_target , pred)"
   ]
  },
  {
   "cell_type": "code",
   "execution_count": 57,
   "id": "b7b7fd45",
   "metadata": {
    "ExecuteTime": {
     "end_time": "2023-10-30T05:15:25.675385Z",
     "start_time": "2023-10-30T05:15:25.664246Z"
    }
   },
   "outputs": [],
   "source": [
    "TN , FP , FN , TP = cm.ravel()"
   ]
  },
  {
   "cell_type": "code",
   "execution_count": 60,
   "id": "9b4c42a8",
   "metadata": {
    "ExecuteTime": {
     "end_time": "2023-10-30T05:16:10.775868Z",
     "start_time": "2023-10-30T05:16:10.757436Z"
    }
   },
   "outputs": [
    {
     "data": {
      "text/plain": [
       "0.9722222222222222"
      ]
     },
     "execution_count": 60,
     "metadata": {},
     "output_type": "execute_result"
    }
   ],
   "source": [
    "precision = TP/(FP+TP)\n",
    "precision"
   ]
  },
  {
   "cell_type": "code",
   "execution_count": 63,
   "id": "c01ca117",
   "metadata": {
    "ExecuteTime": {
     "end_time": "2023-10-30T05:17:05.001463Z",
     "start_time": "2023-10-30T05:17:04.984230Z"
    }
   },
   "outputs": [
    {
     "data": {
      "text/plain": [
       "0.9736842105263158"
      ]
     },
     "execution_count": 63,
     "metadata": {},
     "output_type": "execute_result"
    }
   ],
   "source": [
    "accuracy = (TP+TN)/(TN+FP+FN+TP)\n",
    "accuracy"
   ]
  },
  {
   "cell_type": "markdown",
   "id": "a6a356bc",
   "metadata": {},
   "source": [
    "## 재현율 ( 민감도 )\n",
    " - TPR(True Positive Rate)"
   ]
  },
  {
   "cell_type": "code",
   "execution_count": 66,
   "id": "22803cab",
   "metadata": {
    "ExecuteTime": {
     "end_time": "2023-10-30T05:17:30.772216Z",
     "start_time": "2023-10-30T05:17:30.757042Z"
    }
   },
   "outputs": [
    {
     "data": {
      "text/plain": [
       "0.9859154929577465"
      ]
     },
     "execution_count": 66,
     "metadata": {},
     "output_type": "execute_result"
    }
   ],
   "source": [
    "recall = TP/(FN+TP)\n",
    "recall"
   ]
  },
  {
   "cell_type": "markdown",
   "id": "2bbe95b1",
   "metadata": {},
   "source": [
    "## F1 Score\n",
    " - 재현율과 정밀도의 조화평균"
   ]
  },
  {
   "cell_type": "code",
   "execution_count": 71,
   "id": "f981ff5c",
   "metadata": {
    "ExecuteTime": {
     "end_time": "2023-10-30T05:21:25.164417Z",
     "start_time": "2023-10-30T05:21:25.145269Z"
    }
   },
   "outputs": [
    {
     "data": {
      "text/plain": [
       "0.979020979020979"
      ]
     },
     "execution_count": 71,
     "metadata": {},
     "output_type": "execute_result"
    }
   ],
   "source": [
    "f1_score(test_target , pred)"
   ]
  },
  {
   "cell_type": "markdown",
   "id": "55b5d429",
   "metadata": {},
   "source": [
    "# XGBoostClassifier"
   ]
  },
  {
   "cell_type": "code",
   "execution_count": 72,
   "id": "c3239a3a",
   "metadata": {
    "ExecuteTime": {
     "end_time": "2023-10-30T05:30:41.005007Z",
     "start_time": "2023-10-30T05:30:40.984415Z"
    }
   },
   "outputs": [],
   "source": [
    "x_tr , x_val , y_tr , y_val = train_test_split(train_input , train_target , test_size = 0.1 , random_state = 42)"
   ]
  },
  {
   "cell_type": "code",
   "execution_count": 75,
   "id": "64bd7c5c",
   "metadata": {
    "ExecuteTime": {
     "end_time": "2023-10-30T05:31:30.339890Z",
     "start_time": "2023-10-30T05:31:30.331693Z"
    }
   },
   "outputs": [
    {
     "data": {
      "text/plain": [
       "((455, 30), (46, 30), (114, 30))"
      ]
     },
     "execution_count": 75,
     "metadata": {},
     "output_type": "execute_result"
    }
   ],
   "source": [
    "train_input.shape , x_val.shape , test_input.shape"
   ]
  },
  {
   "cell_type": "code",
   "execution_count": 78,
   "id": "0e2ee8a9",
   "metadata": {
    "ExecuteTime": {
     "end_time": "2023-10-30T05:37:45.030177Z",
     "start_time": "2023-10-30T05:37:45.015959Z"
    }
   },
   "outputs": [],
   "source": [
    "# 학습 , 검증 , 테스트용의 DMatrix 생성\n",
    "import xgboost as xgb\n",
    "\n",
    "dtr = xgb.DMatrix(data = x_tr , label = y_tr)\n",
    "dval = xgb.DMatrix(data = x_val , label = y_val)\n",
    "dtest = xgb.DMatrix(data = test_input , label = test_target)"
   ]
  },
  {
   "cell_type": "code",
   "execution_count": 99,
   "id": "a87b01f3",
   "metadata": {
    "ExecuteTime": {
     "end_time": "2023-10-30T06:16:25.032664Z",
     "start_time": "2023-10-30T06:16:25.013863Z"
    }
   },
   "outputs": [],
   "source": [
    "params = {\n",
    "    'max_depth' : 3,\n",
    "    'eta' : 0.05,\n",
    "    'objective' : 'binary:logistic',\n",
    "    'eval_matric' : 'logloss'\n",
    "}\n",
    "num_rounds = 400"
   ]
  },
  {
   "cell_type": "code",
   "execution_count": 82,
   "id": "0fac2c14",
   "metadata": {
    "ExecuteTime": {
     "end_time": "2023-10-30T05:48:19.901842Z",
     "start_time": "2023-10-30T05:48:19.359920Z"
    }
   },
   "outputs": [
    {
     "name": "stdout",
     "output_type": "stream",
     "text": [
      "[14:48:19] WARNING: C:\\Users\\dev-admin\\croot2\\xgboost-split_1675461376218\\work\\src\\learner.cc:767: \n",
      "Parameters: { \"eval_matrix\" } are not used.\n",
      "\n",
      "[0]\ttrain-logloss:0.65115\teval-logloss:0.65383\n",
      "[1]\ttrain-logloss:0.61339\teval-logloss:0.61631\n",
      "[2]\ttrain-logloss:0.57816\teval-logloss:0.58279\n",
      "[3]\ttrain-logloss:0.54650\teval-logloss:0.55269\n",
      "[4]\ttrain-logloss:0.51708\teval-logloss:0.52435\n",
      "[5]\ttrain-logloss:0.48928\teval-logloss:0.49685\n",
      "[6]\ttrain-logloss:0.46442\teval-logloss:0.47361\n",
      "[7]\ttrain-logloss:0.44081\teval-logloss:0.44938\n",
      "[8]\ttrain-logloss:0.41861\teval-logloss:0.42710\n",
      "[9]\ttrain-logloss:0.39867\teval-logloss:0.40874\n",
      "[10]\ttrain-logloss:0.37961\teval-logloss:0.38933\n",
      "[11]\ttrain-logloss:0.36140\teval-logloss:0.37113\n",
      "[12]\ttrain-logloss:0.34439\teval-logloss:0.35445\n",
      "[13]\ttrain-logloss:0.32883\teval-logloss:0.33926\n",
      "[14]\ttrain-logloss:0.31457\teval-logloss:0.32639\n",
      "[15]\ttrain-logloss:0.30052\teval-logloss:0.31378\n",
      "[16]\ttrain-logloss:0.28728\teval-logloss:0.29995\n",
      "[17]\ttrain-logloss:0.27488\teval-logloss:0.28842\n",
      "[18]\ttrain-logloss:0.26351\teval-logloss:0.27611\n",
      "[19]\ttrain-logloss:0.25309\teval-logloss:0.26674\n",
      "[20]\ttrain-logloss:0.24263\teval-logloss:0.25809\n",
      "[21]\ttrain-logloss:0.23281\teval-logloss:0.24953\n",
      "[22]\ttrain-logloss:0.22383\teval-logloss:0.24174\n",
      "[23]\ttrain-logloss:0.21507\teval-logloss:0.23382\n",
      "[24]\ttrain-logloss:0.20679\teval-logloss:0.22706\n",
      "[25]\ttrain-logloss:0.19913\teval-logloss:0.22000\n",
      "[26]\ttrain-logloss:0.19171\teval-logloss:0.21414\n",
      "[27]\ttrain-logloss:0.18464\teval-logloss:0.20848\n",
      "[28]\ttrain-logloss:0.17814\teval-logloss:0.20371\n",
      "[29]\ttrain-logloss:0.17192\teval-logloss:0.19789\n",
      "[30]\ttrain-logloss:0.16586\teval-logloss:0.19320\n",
      "[31]\ttrain-logloss:0.15968\teval-logloss:0.18632\n",
      "[32]\ttrain-logloss:0.15441\teval-logloss:0.18247\n",
      "[33]\ttrain-logloss:0.14884\teval-logloss:0.17624\n",
      "[34]\ttrain-logloss:0.14392\teval-logloss:0.17259\n",
      "[35]\ttrain-logloss:0.13890\teval-logloss:0.16691\n",
      "[36]\ttrain-logloss:0.13470\teval-logloss:0.16306\n",
      "[37]\ttrain-logloss:0.13029\teval-logloss:0.15832\n",
      "[38]\ttrain-logloss:0.12618\teval-logloss:0.15539\n",
      "[39]\ttrain-logloss:0.12185\teval-logloss:0.15284\n",
      "[40]\ttrain-logloss:0.11804\teval-logloss:0.14905\n",
      "[41]\ttrain-logloss:0.11450\teval-logloss:0.14642\n",
      "[42]\ttrain-logloss:0.11134\teval-logloss:0.14368\n",
      "[43]\ttrain-logloss:0.10801\teval-logloss:0.14022\n",
      "[44]\ttrain-logloss:0.10500\teval-logloss:0.13757\n",
      "[45]\ttrain-logloss:0.10181\teval-logloss:0.13582\n",
      "[46]\ttrain-logloss:0.09890\teval-logloss:0.13292\n",
      "[47]\ttrain-logloss:0.09618\teval-logloss:0.13110\n",
      "[48]\ttrain-logloss:0.09330\teval-logloss:0.12907\n",
      "[49]\ttrain-logloss:0.09059\teval-logloss:0.12795\n",
      "[50]\ttrain-logloss:0.08798\teval-logloss:0.12643\n",
      "[51]\ttrain-logloss:0.08551\teval-logloss:0.12543\n",
      "[52]\ttrain-logloss:0.08312\teval-logloss:0.12387\n",
      "[53]\ttrain-logloss:0.08064\teval-logloss:0.12137\n",
      "[54]\ttrain-logloss:0.07820\teval-logloss:0.11904\n",
      "[55]\ttrain-logloss:0.07627\teval-logloss:0.11754\n",
      "[56]\ttrain-logloss:0.07403\teval-logloss:0.11541\n",
      "[57]\ttrain-logloss:0.07226\teval-logloss:0.11270\n",
      "[58]\ttrain-logloss:0.07045\teval-logloss:0.11223\n",
      "[59]\ttrain-logloss:0.06868\teval-logloss:0.11143\n",
      "[60]\ttrain-logloss:0.06675\teval-logloss:0.10962\n",
      "[61]\ttrain-logloss:0.06525\teval-logloss:0.10743\n",
      "[62]\ttrain-logloss:0.06348\teval-logloss:0.10580\n",
      "[63]\ttrain-logloss:0.06185\teval-logloss:0.10439\n",
      "[64]\ttrain-logloss:0.06053\teval-logloss:0.10215\n",
      "[65]\ttrain-logloss:0.05918\teval-logloss:0.10214\n",
      "[66]\ttrain-logloss:0.05789\teval-logloss:0.10176\n",
      "[67]\ttrain-logloss:0.05642\teval-logloss:0.10055\n",
      "[68]\ttrain-logloss:0.05529\teval-logloss:0.09851\n",
      "[69]\ttrain-logloss:0.05393\teval-logloss:0.09730\n",
      "[70]\ttrain-logloss:0.05284\teval-logloss:0.09745\n",
      "[71]\ttrain-logloss:0.05148\teval-logloss:0.09702\n",
      "[72]\ttrain-logloss:0.05040\teval-logloss:0.09575\n",
      "[73]\ttrain-logloss:0.04921\teval-logloss:0.09469\n",
      "[74]\ttrain-logloss:0.04814\teval-logloss:0.09341\n",
      "[75]\ttrain-logloss:0.04724\teval-logloss:0.09368\n",
      "[76]\ttrain-logloss:0.04616\teval-logloss:0.09149\n",
      "[77]\ttrain-logloss:0.04512\teval-logloss:0.09059\n",
      "[78]\ttrain-logloss:0.04403\teval-logloss:0.09031\n",
      "[79]\ttrain-logloss:0.04326\teval-logloss:0.09070\n",
      "[80]\ttrain-logloss:0.04223\teval-logloss:0.08989\n",
      "[81]\ttrain-logloss:0.04148\teval-logloss:0.08927\n",
      "[82]\ttrain-logloss:0.04056\teval-logloss:0.08849\n",
      "[83]\ttrain-logloss:0.03970\teval-logloss:0.08656\n",
      "[84]\ttrain-logloss:0.03887\teval-logloss:0.08579\n",
      "[85]\ttrain-logloss:0.03813\teval-logloss:0.08506\n",
      "[86]\ttrain-logloss:0.03731\teval-logloss:0.08493\n",
      "[87]\ttrain-logloss:0.03666\teval-logloss:0.08433\n",
      "[88]\ttrain-logloss:0.03605\teval-logloss:0.08385\n",
      "[89]\ttrain-logloss:0.03537\teval-logloss:0.08342\n",
      "[90]\ttrain-logloss:0.03472\teval-logloss:0.08226\n",
      "[91]\ttrain-logloss:0.03411\teval-logloss:0.08165\n",
      "[92]\ttrain-logloss:0.03349\teval-logloss:0.08099\n",
      "[93]\ttrain-logloss:0.03298\teval-logloss:0.08146\n",
      "[94]\ttrain-logloss:0.03245\teval-logloss:0.08052\n",
      "[95]\ttrain-logloss:0.03185\teval-logloss:0.07996\n",
      "[96]\ttrain-logloss:0.03128\teval-logloss:0.07867\n",
      "[97]\ttrain-logloss:0.03079\teval-logloss:0.07817\n",
      "[98]\ttrain-logloss:0.03027\teval-logloss:0.07797\n",
      "[99]\ttrain-logloss:0.02976\teval-logloss:0.07774\n",
      "[100]\ttrain-logloss:0.02935\teval-logloss:0.07826\n",
      "[101]\ttrain-logloss:0.02888\teval-logloss:0.07780\n",
      "[102]\ttrain-logloss:0.02839\teval-logloss:0.07743\n",
      "[103]\ttrain-logloss:0.02793\teval-logloss:0.07705\n",
      "[104]\ttrain-logloss:0.02750\teval-logloss:0.07667\n",
      "[105]\ttrain-logloss:0.02712\teval-logloss:0.07599\n",
      "[106]\ttrain-logloss:0.02669\teval-logloss:0.07567\n",
      "[107]\ttrain-logloss:0.02631\teval-logloss:0.07554\n",
      "[108]\ttrain-logloss:0.02599\teval-logloss:0.07540\n",
      "[109]\ttrain-logloss:0.02561\teval-logloss:0.07521\n",
      "[110]\ttrain-logloss:0.02521\teval-logloss:0.07457\n",
      "[111]\ttrain-logloss:0.02485\teval-logloss:0.07486\n",
      "[112]\ttrain-logloss:0.02453\teval-logloss:0.07487\n",
      "[113]\ttrain-logloss:0.02421\teval-logloss:0.07477\n",
      "[114]\ttrain-logloss:0.02385\teval-logloss:0.07420\n",
      "[115]\ttrain-logloss:0.02352\teval-logloss:0.07450\n",
      "[116]\ttrain-logloss:0.02325\teval-logloss:0.07319\n",
      "[117]\ttrain-logloss:0.02296\teval-logloss:0.07305\n",
      "[118]\ttrain-logloss:0.02268\teval-logloss:0.07219\n",
      "[119]\ttrain-logloss:0.02238\teval-logloss:0.07255\n",
      "[120]\ttrain-logloss:0.02211\teval-logloss:0.07244\n",
      "[121]\ttrain-logloss:0.02179\teval-logloss:0.07219\n",
      "[122]\ttrain-logloss:0.02154\teval-logloss:0.07209\n",
      "[123]\ttrain-logloss:0.02130\teval-logloss:0.07134\n",
      "[124]\ttrain-logloss:0.02103\teval-logloss:0.07143\n",
      "[125]\ttrain-logloss:0.02079\teval-logloss:0.07151\n",
      "[126]\ttrain-logloss:0.02056\teval-logloss:0.07145\n",
      "[127]\ttrain-logloss:0.02031\teval-logloss:0.07130\n",
      "[128]\ttrain-logloss:0.02007\teval-logloss:0.07085\n",
      "[129]\ttrain-logloss:0.01981\teval-logloss:0.06970\n",
      "[130]\ttrain-logloss:0.01961\teval-logloss:0.06938\n",
      "[131]\ttrain-logloss:0.01938\teval-logloss:0.06972\n",
      "[132]\ttrain-logloss:0.01916\teval-logloss:0.06866\n",
      "[133]\ttrain-logloss:0.01894\teval-logloss:0.06900\n",
      "[134]\ttrain-logloss:0.01873\teval-logloss:0.06829\n",
      "[135]\ttrain-logloss:0.01857\teval-logloss:0.06804\n",
      "[136]\ttrain-logloss:0.01840\teval-logloss:0.06765\n",
      "[137]\ttrain-logloss:0.01816\teval-logloss:0.06748\n",
      "[138]\ttrain-logloss:0.01796\teval-logloss:0.06782\n",
      "[139]\ttrain-logloss:0.01781\teval-logloss:0.06758\n",
      "[140]\ttrain-logloss:0.01759\teval-logloss:0.06745\n",
      "[141]\ttrain-logloss:0.01742\teval-logloss:0.06695\n",
      "[142]\ttrain-logloss:0.01730\teval-logloss:0.06660\n",
      "[143]\ttrain-logloss:0.01714\teval-logloss:0.06657\n",
      "[144]\ttrain-logloss:0.01701\teval-logloss:0.06600\n",
      "[145]\ttrain-logloss:0.01686\teval-logloss:0.06597\n",
      "[146]\ttrain-logloss:0.01665\teval-logloss:0.06654\n",
      "[147]\ttrain-logloss:0.01653\teval-logloss:0.06599\n",
      "[148]\ttrain-logloss:0.01639\teval-logloss:0.06596\n",
      "[149]\ttrain-logloss:0.01620\teval-logloss:0.06646\n",
      "[150]\ttrain-logloss:0.01608\teval-logloss:0.06593\n",
      "[151]\ttrain-logloss:0.01595\teval-logloss:0.06591\n",
      "[152]\ttrain-logloss:0.01582\teval-logloss:0.06587\n",
      "[153]\ttrain-logloss:0.01571\teval-logloss:0.06534\n",
      "[154]\ttrain-logloss:0.01558\teval-logloss:0.06532\n",
      "[155]\ttrain-logloss:0.01541\teval-logloss:0.06580\n",
      "[156]\ttrain-logloss:0.01531\teval-logloss:0.06529\n",
      "[157]\ttrain-logloss:0.01518\teval-logloss:0.06507\n",
      "[158]\ttrain-logloss:0.01510\teval-logloss:0.06527\n",
      "[159]\ttrain-logloss:0.01494\teval-logloss:0.06508\n",
      "[160]\ttrain-logloss:0.01483\teval-logloss:0.06491\n",
      "[161]\ttrain-logloss:0.01474\teval-logloss:0.06489\n",
      "[162]\ttrain-logloss:0.01467\teval-logloss:0.06508\n",
      "[163]\ttrain-logloss:0.01457\teval-logloss:0.06458\n",
      "[164]\ttrain-logloss:0.01442\teval-logloss:0.06435\n",
      "[165]\ttrain-logloss:0.01431\teval-logloss:0.06414\n",
      "[166]\ttrain-logloss:0.01420\teval-logloss:0.06404\n"
     ]
    },
    {
     "name": "stdout",
     "output_type": "stream",
     "text": [
      "[167]\ttrain-logloss:0.01413\teval-logloss:0.06424\n",
      "[168]\ttrain-logloss:0.01403\teval-logloss:0.06408\n",
      "[169]\ttrain-logloss:0.01390\teval-logloss:0.06386\n",
      "[170]\ttrain-logloss:0.01381\teval-logloss:0.06365\n",
      "[171]\ttrain-logloss:0.01368\teval-logloss:0.06345\n",
      "[172]\ttrain-logloss:0.01361\teval-logloss:0.06320\n",
      "[173]\ttrain-logloss:0.01353\teval-logloss:0.06272\n",
      "[174]\ttrain-logloss:0.01346\teval-logloss:0.06291\n",
      "[175]\ttrain-logloss:0.01336\teval-logloss:0.06248\n",
      "[176]\ttrain-logloss:0.01328\teval-logloss:0.06202\n",
      "[177]\ttrain-logloss:0.01318\teval-logloss:0.06148\n",
      "[178]\ttrain-logloss:0.01312\teval-logloss:0.06171\n",
      "[179]\ttrain-logloss:0.01305\teval-logloss:0.06131\n",
      "[180]\ttrain-logloss:0.01297\teval-logloss:0.06114\n",
      "[181]\ttrain-logloss:0.01285\teval-logloss:0.06094\n",
      "[182]\ttrain-logloss:0.01278\teval-logloss:0.06093\n",
      "[183]\ttrain-logloss:0.01271\teval-logloss:0.06048\n",
      "[184]\ttrain-logloss:0.01265\teval-logloss:0.06067\n",
      "[185]\ttrain-logloss:0.01258\teval-logloss:0.06038\n",
      "[186]\ttrain-logloss:0.01247\teval-logloss:0.06020\n",
      "[187]\ttrain-logloss:0.01241\teval-logloss:0.05982\n",
      "[188]\ttrain-logloss:0.01236\teval-logloss:0.06000\n",
      "[189]\ttrain-logloss:0.01229\teval-logloss:0.05957\n",
      "[190]\ttrain-logloss:0.01223\teval-logloss:0.05920\n",
      "[191]\ttrain-logloss:0.01217\teval-logloss:0.05945\n",
      "[192]\ttrain-logloss:0.01209\teval-logloss:0.05899\n",
      "[193]\ttrain-logloss:0.01203\teval-logloss:0.05898\n",
      "[194]\ttrain-logloss:0.01198\teval-logloss:0.05917\n",
      "[195]\ttrain-logloss:0.01191\teval-logloss:0.05900\n",
      "[196]\ttrain-logloss:0.01184\teval-logloss:0.05858\n",
      "[197]\ttrain-logloss:0.01179\teval-logloss:0.05876\n",
      "[198]\ttrain-logloss:0.01173\teval-logloss:0.05836\n",
      "[199]\ttrain-logloss:0.01166\teval-logloss:0.05791\n",
      "[200]\ttrain-logloss:0.01160\teval-logloss:0.05815\n",
      "[201]\ttrain-logloss:0.01156\teval-logloss:0.05838\n",
      "[202]\ttrain-logloss:0.01149\teval-logloss:0.05821\n",
      "[203]\ttrain-logloss:0.01143\teval-logloss:0.05782\n",
      "[204]\ttrain-logloss:0.01137\teval-logloss:0.05753\n",
      "[205]\ttrain-logloss:0.01131\teval-logloss:0.05696\n",
      "[206]\ttrain-logloss:0.01126\teval-logloss:0.05673\n",
      "[207]\ttrain-logloss:0.01121\teval-logloss:0.05651\n",
      "[208]\ttrain-logloss:0.01116\teval-logloss:0.05644\n",
      "[209]\ttrain-logloss:0.01111\teval-logloss:0.05642\n",
      "[210]\ttrain-logloss:0.01105\teval-logloss:0.05626\n",
      "[211]\ttrain-logloss:0.01099\teval-logloss:0.05588\n",
      "[212]\ttrain-logloss:0.01094\teval-logloss:0.05548\n",
      "[213]\ttrain-logloss:0.01090\teval-logloss:0.05570\n",
      "[214]\ttrain-logloss:0.01085\teval-logloss:0.05534\n",
      "[215]\ttrain-logloss:0.01080\teval-logloss:0.05551\n",
      "[216]\ttrain-logloss:0.01075\teval-logloss:0.05550\n",
      "[217]\ttrain-logloss:0.01071\teval-logloss:0.05490\n",
      "[218]\ttrain-logloss:0.01067\teval-logloss:0.05512\n",
      "[219]\ttrain-logloss:0.01062\teval-logloss:0.05477\n",
      "[220]\ttrain-logloss:0.01056\teval-logloss:0.05461\n",
      "[221]\ttrain-logloss:0.01052\teval-logloss:0.05443\n",
      "[222]\ttrain-logloss:0.01048\teval-logloss:0.05406\n",
      "[223]\ttrain-logloss:0.01043\teval-logloss:0.05406\n",
      "[224]\ttrain-logloss:0.01040\teval-logloss:0.05423\n",
      "[225]\ttrain-logloss:0.01035\teval-logloss:0.05389\n",
      "[226]\ttrain-logloss:0.01030\teval-logloss:0.05332\n",
      "[227]\ttrain-logloss:0.01027\teval-logloss:0.05326\n",
      "[228]\ttrain-logloss:0.01022\teval-logloss:0.05326\n",
      "[229]\ttrain-logloss:0.01019\teval-logloss:0.05290\n",
      "[230]\ttrain-logloss:0.01015\teval-logloss:0.05311\n",
      "[231]\ttrain-logloss:0.01013\teval-logloss:0.05309\n",
      "[232]\ttrain-logloss:0.01009\teval-logloss:0.05277\n",
      "[233]\ttrain-logloss:0.01003\teval-logloss:0.05259\n",
      "[234]\ttrain-logloss:0.01000\teval-logloss:0.05249\n",
      "[235]\ttrain-logloss:0.00996\teval-logloss:0.05249\n",
      "[236]\ttrain-logloss:0.00992\teval-logloss:0.05218\n",
      "[237]\ttrain-logloss:0.00990\teval-logloss:0.05217\n",
      "[238]\ttrain-logloss:0.00987\teval-logloss:0.05216\n",
      "[239]\ttrain-logloss:0.00983\teval-logloss:0.05163\n",
      "[240]\ttrain-logloss:0.00979\teval-logloss:0.05144\n",
      "[241]\ttrain-logloss:0.00976\teval-logloss:0.05141\n",
      "[242]\ttrain-logloss:0.00972\teval-logloss:0.05111\n",
      "[243]\ttrain-logloss:0.00970\teval-logloss:0.05110\n",
      "[244]\ttrain-logloss:0.00967\teval-logloss:0.05060\n",
      "[245]\ttrain-logloss:0.00963\teval-logloss:0.05061\n",
      "[246]\ttrain-logloss:0.00960\teval-logloss:0.05058\n",
      "[247]\ttrain-logloss:0.00956\teval-logloss:0.05059\n",
      "[248]\ttrain-logloss:0.00952\teval-logloss:0.05031\n",
      "[249]\ttrain-logloss:0.00949\teval-logloss:0.05029\n",
      "[250]\ttrain-logloss:0.00945\teval-logloss:0.05030\n",
      "[251]\ttrain-logloss:0.00943\teval-logloss:0.05028\n",
      "[252]\ttrain-logloss:0.00940\teval-logloss:0.05000\n",
      "[253]\ttrain-logloss:0.00938\teval-logloss:0.05000\n",
      "[254]\ttrain-logloss:0.00937\teval-logloss:0.04974\n",
      "[255]\ttrain-logloss:0.00934\teval-logloss:0.04972\n",
      "[256]\ttrain-logloss:0.00930\teval-logloss:0.04944\n",
      "[257]\ttrain-logloss:0.00929\teval-logloss:0.04944\n",
      "[258]\ttrain-logloss:0.00925\teval-logloss:0.04945\n",
      "[259]\ttrain-logloss:0.00923\teval-logloss:0.04943\n",
      "[260]\ttrain-logloss:0.00919\teval-logloss:0.04916\n",
      "[261]\ttrain-logloss:0.00917\teval-logloss:0.04890\n",
      "[262]\ttrain-logloss:0.00914\teval-logloss:0.04867\n",
      "[263]\ttrain-logloss:0.00912\teval-logloss:0.04866\n",
      "[264]\ttrain-logloss:0.00908\teval-logloss:0.04840\n",
      "[265]\ttrain-logloss:0.00907\teval-logloss:0.04840\n",
      "[266]\ttrain-logloss:0.00904\teval-logloss:0.04876\n",
      "[267]\ttrain-logloss:0.00903\teval-logloss:0.04868\n",
      "[268]\ttrain-logloss:0.00900\teval-logloss:0.04843\n",
      "[269]\ttrain-logloss:0.00898\teval-logloss:0.04843\n",
      "[270]\ttrain-logloss:0.00895\teval-logloss:0.04830\n",
      "[271]\ttrain-logloss:0.00893\teval-logloss:0.04829\n",
      "[272]\ttrain-logloss:0.00889\teval-logloss:0.04804\n",
      "[273]\ttrain-logloss:0.00888\teval-logloss:0.04804\n",
      "[274]\ttrain-logloss:0.00885\teval-logloss:0.04807\n",
      "[275]\ttrain-logloss:0.00883\teval-logloss:0.04842\n",
      "[276]\ttrain-logloss:0.00879\teval-logloss:0.04818\n",
      "[277]\ttrain-logloss:0.00876\teval-logloss:0.04804\n",
      "[278]\ttrain-logloss:0.00875\teval-logloss:0.04805\n",
      "[279]\ttrain-logloss:0.00872\teval-logloss:0.04808\n",
      "[280]\ttrain-logloss:0.00871\teval-logloss:0.04800\n",
      "[281]\ttrain-logloss:0.00867\teval-logloss:0.04773\n",
      "[282]\ttrain-logloss:0.00865\teval-logloss:0.04776\n",
      "[283]\ttrain-logloss:0.00863\teval-logloss:0.04776\n",
      "[284]\ttrain-logloss:0.00860\teval-logloss:0.04752\n",
      "[285]\ttrain-logloss:0.00858\teval-logloss:0.04753\n",
      "[286]\ttrain-logloss:0.00856\teval-logloss:0.04745\n",
      "[287]\ttrain-logloss:0.00853\teval-logloss:0.04748\n",
      "[288]\ttrain-logloss:0.00852\teval-logloss:0.04740\n",
      "[289]\ttrain-logloss:0.00849\teval-logloss:0.04717\n",
      "[290]\ttrain-logloss:0.00847\teval-logloss:0.04751\n",
      "[291]\ttrain-logloss:0.00844\teval-logloss:0.04753\n",
      "[292]\ttrain-logloss:0.00843\teval-logloss:0.04754\n",
      "[293]\ttrain-logloss:0.00840\teval-logloss:0.04731\n",
      "[294]\ttrain-logloss:0.00839\teval-logloss:0.04733\n",
      "[295]\ttrain-logloss:0.00836\teval-logloss:0.04735\n",
      "[296]\ttrain-logloss:0.00835\teval-logloss:0.04728\n",
      "[297]\ttrain-logloss:0.00832\teval-logloss:0.04702\n",
      "[298]\ttrain-logloss:0.00831\teval-logloss:0.04720\n",
      "[299]\ttrain-logloss:0.00828\teval-logloss:0.04678\n",
      "[300]\ttrain-logloss:0.00827\teval-logloss:0.04681\n",
      "[301]\ttrain-logloss:0.00824\teval-logloss:0.04682\n",
      "[302]\ttrain-logloss:0.00823\teval-logloss:0.04675\n",
      "[303]\ttrain-logloss:0.00821\teval-logloss:0.04680\n",
      "[304]\ttrain-logloss:0.00819\teval-logloss:0.04682\n",
      "[305]\ttrain-logloss:0.00816\teval-logloss:0.04657\n",
      "[306]\ttrain-logloss:0.00815\teval-logloss:0.04658\n",
      "[307]\ttrain-logloss:0.00813\teval-logloss:0.04637\n",
      "[308]\ttrain-logloss:0.00812\teval-logloss:0.04645\n",
      "[309]\ttrain-logloss:0.00811\teval-logloss:0.04662\n",
      "[310]\ttrain-logloss:0.00809\teval-logloss:0.04655\n",
      "[311]\ttrain-logloss:0.00808\teval-logloss:0.04662\n",
      "[312]\ttrain-logloss:0.00807\teval-logloss:0.04656\n",
      "[313]\ttrain-logloss:0.00805\teval-logloss:0.04632\n",
      "[314]\ttrain-logloss:0.00803\teval-logloss:0.04612\n",
      "[315]\ttrain-logloss:0.00802\teval-logloss:0.04613\n",
      "[316]\ttrain-logloss:0.00801\teval-logloss:0.04599\n",
      "[317]\ttrain-logloss:0.00800\teval-logloss:0.04599\n",
      "[318]\ttrain-logloss:0.00799\teval-logloss:0.04607\n",
      "[319]\ttrain-logloss:0.00798\teval-logloss:0.04623\n",
      "[320]\ttrain-logloss:0.00796\teval-logloss:0.04617\n",
      "[321]\ttrain-logloss:0.00795\teval-logloss:0.04609\n",
      "[322]\ttrain-logloss:0.00794\teval-logloss:0.04592\n",
      "[323]\ttrain-logloss:0.00793\teval-logloss:0.04585\n",
      "[324]\ttrain-logloss:0.00792\teval-logloss:0.04602\n",
      "[325]\ttrain-logloss:0.00791\teval-logloss:0.04602\n",
      "[326]\ttrain-logloss:0.00790\teval-logloss:0.04596\n",
      "[327]\ttrain-logloss:0.00789\teval-logloss:0.04612\n",
      "[328]\ttrain-logloss:0.00788\teval-logloss:0.04600\n",
      "[329]\ttrain-logloss:0.00787\teval-logloss:0.04580\n",
      "[330]\ttrain-logloss:0.00786\teval-logloss:0.04587\n",
      "[331]\ttrain-logloss:0.00785\teval-logloss:0.04564\n",
      "[332]\ttrain-logloss:0.00784\teval-logloss:0.04558\n",
      "[333]\ttrain-logloss:0.00783\teval-logloss:0.04574\n",
      "[334]\ttrain-logloss:0.00782\teval-logloss:0.04567\n"
     ]
    },
    {
     "name": "stdout",
     "output_type": "stream",
     "text": [
      "[335]\ttrain-logloss:0.00780\teval-logloss:0.04582\n",
      "[336]\ttrain-logloss:0.00779\teval-logloss:0.04576\n",
      "[337]\ttrain-logloss:0.00778\teval-logloss:0.04558\n",
      "[338]\ttrain-logloss:0.00777\teval-logloss:0.04539\n",
      "[339]\ttrain-logloss:0.00776\teval-logloss:0.04533\n",
      "[340]\ttrain-logloss:0.00775\teval-logloss:0.04549\n",
      "[341]\ttrain-logloss:0.00774\teval-logloss:0.04542\n",
      "[342]\ttrain-logloss:0.00773\teval-logloss:0.04549\n",
      "[343]\ttrain-logloss:0.00772\teval-logloss:0.04526\n",
      "[344]\ttrain-logloss:0.00771\teval-logloss:0.04520\n",
      "[345]\ttrain-logloss:0.00770\teval-logloss:0.04536\n",
      "[346]\ttrain-logloss:0.00769\teval-logloss:0.04529\n",
      "[347]\ttrain-logloss:0.00769\teval-logloss:0.04523\n",
      "[348]\ttrain-logloss:0.00768\teval-logloss:0.04538\n",
      "[349]\ttrain-logloss:0.00767\teval-logloss:0.04539\n",
      "[350]\ttrain-logloss:0.00766\teval-logloss:0.04533\n",
      "[351]\ttrain-logloss:0.00765\teval-logloss:0.04526\n",
      "[352]\ttrain-logloss:0.00764\teval-logloss:0.04541\n",
      "[353]\ttrain-logloss:0.00763\teval-logloss:0.04548\n",
      "[354]\ttrain-logloss:0.00762\teval-logloss:0.04526\n",
      "[355]\ttrain-logloss:0.00761\teval-logloss:0.04520\n",
      "[356]\ttrain-logloss:0.00760\teval-logloss:0.04502\n",
      "[357]\ttrain-logloss:0.00759\teval-logloss:0.04517\n",
      "[358]\ttrain-logloss:0.00758\teval-logloss:0.04511\n",
      "[359]\ttrain-logloss:0.00757\teval-logloss:0.04490\n",
      "[360]\ttrain-logloss:0.00756\teval-logloss:0.04504\n",
      "[361]\ttrain-logloss:0.00755\teval-logloss:0.04492\n",
      "[362]\ttrain-logloss:0.00755\teval-logloss:0.04507\n",
      "[363]\ttrain-logloss:0.00754\teval-logloss:0.04501\n",
      "[364]\ttrain-logloss:0.00753\teval-logloss:0.04494\n",
      "[365]\ttrain-logloss:0.00752\teval-logloss:0.04509\n",
      "[366]\ttrain-logloss:0.00751\teval-logloss:0.04503\n",
      "[367]\ttrain-logloss:0.00750\teval-logloss:0.04485\n",
      "[368]\ttrain-logloss:0.00749\teval-logloss:0.04499\n",
      "[369]\ttrain-logloss:0.00748\teval-logloss:0.04504\n",
      "[370]\ttrain-logloss:0.00747\teval-logloss:0.04483\n",
      "[371]\ttrain-logloss:0.00747\teval-logloss:0.04477\n",
      "[372]\ttrain-logloss:0.00746\teval-logloss:0.04491\n",
      "[373]\ttrain-logloss:0.00745\teval-logloss:0.04492\n",
      "[374]\ttrain-logloss:0.00744\teval-logloss:0.04485\n",
      "[375]\ttrain-logloss:0.00743\teval-logloss:0.04473\n",
      "[376]\ttrain-logloss:0.00742\teval-logloss:0.04468\n",
      "[377]\ttrain-logloss:0.00741\teval-logloss:0.04482\n",
      "[378]\ttrain-logloss:0.00741\teval-logloss:0.04465\n",
      "[379]\ttrain-logloss:0.00740\teval-logloss:0.04479\n",
      "[380]\ttrain-logloss:0.00739\teval-logloss:0.04473\n",
      "[381]\ttrain-logloss:0.00738\teval-logloss:0.04453\n",
      "[382]\ttrain-logloss:0.00737\teval-logloss:0.04457\n",
      "[383]\ttrain-logloss:0.00737\teval-logloss:0.04471\n",
      "[384]\ttrain-logloss:0.00736\teval-logloss:0.04466\n",
      "[385]\ttrain-logloss:0.00735\teval-logloss:0.04445\n",
      "[386]\ttrain-logloss:0.00734\teval-logloss:0.04438\n",
      "[387]\ttrain-logloss:0.00733\teval-logloss:0.04439\n",
      "[388]\ttrain-logloss:0.00733\teval-logloss:0.04434\n",
      "[389]\ttrain-logloss:0.00732\teval-logloss:0.04447\n",
      "[390]\ttrain-logloss:0.00731\teval-logloss:0.04427\n",
      "[391]\ttrain-logloss:0.00730\teval-logloss:0.04431\n",
      "[392]\ttrain-logloss:0.00729\teval-logloss:0.04414\n",
      "[393]\ttrain-logloss:0.00729\teval-logloss:0.04394\n",
      "[394]\ttrain-logloss:0.00728\teval-logloss:0.04407\n",
      "[395]\ttrain-logloss:0.00727\teval-logloss:0.04402\n",
      "[396]\ttrain-logloss:0.00726\teval-logloss:0.04403\n",
      "[397]\ttrain-logloss:0.00726\teval-logloss:0.04393\n",
      "[398]\ttrain-logloss:0.00725\teval-logloss:0.04406\n",
      "[399]\ttrain-logloss:0.00724\teval-logloss:0.04401\n"
     ]
    }
   ],
   "source": [
    "# 학습 데이터셋은 'train' , 평가 데이터셋은 'eval'\n",
    "eval_list = [(dtr , 'train'),(dval , 'eval')]\n",
    "\n",
    "xgb_model = xgb.train(params = params , dtrain = dtr , num_boost_round = num_rounds , early_stopping_rounds = 50 , evals = eval_list)"
   ]
  },
  {
   "cell_type": "code",
   "execution_count": 83,
   "id": "4455226c",
   "metadata": {
    "ExecuteTime": {
     "end_time": "2023-10-30T05:50:51.009867Z",
     "start_time": "2023-10-30T05:50:50.988760Z"
    }
   },
   "outputs": [
    {
     "data": {
      "text/plain": [
       "array([0.99 , 0.001, 0.001, 1.   , 1.   , 0.001, 0.001, 0.139, 0.202,\n",
       "       0.999], dtype=float32)"
      ]
     },
     "execution_count": 83,
     "metadata": {},
     "output_type": "execute_result"
    }
   ],
   "source": [
    "pred_probs = xgb_model.predict(dtest)\n",
    "# 수행 결과값 10개만 표시하기\n",
    "np.round(pred_probs[:10] , 3)"
   ]
  },
  {
   "cell_type": "code",
   "execution_count": 86,
   "id": "41b9064c",
   "metadata": {
    "ExecuteTime": {
     "end_time": "2023-10-30T05:59:57.260178Z",
     "start_time": "2023-10-30T05:59:57.238876Z"
    }
   },
   "outputs": [
    {
     "data": {
      "text/plain": [
       "array([9.9037081e-01, 6.7211420e-04, 5.4193771e-04, 9.9954849e-01,\n",
       "       9.9979347e-01, 5.5076095e-04, 9.5640688e-04, 1.3855503e-01,\n",
       "       2.0227407e-01, 9.9939466e-01, 9.7419906e-01, 4.2743105e-03,\n",
       "       9.9855572e-01, 1.5629930e-02, 9.9816197e-01, 9.6055923e-04,\n",
       "       9.9691749e-01, 9.9985695e-01, 9.9879336e-01, 1.1809827e-03,\n",
       "       9.9376512e-01, 9.9799711e-01, 5.8213295e-04, 9.9595982e-01,\n",
       "       9.9835545e-01, 9.9789631e-01, 9.9936658e-01, 9.9821317e-01,\n",
       "       9.9938667e-01, 3.4198668e-04, 9.9948311e-01, 9.9865377e-01,\n",
       "       9.5202249e-01, 9.9863535e-01, 9.9940932e-01, 9.9750692e-01,\n",
       "       2.2289415e-01, 9.9703407e-01, 2.6445536e-04, 9.9806482e-01,\n",
       "       9.9980766e-01, 1.3065446e-03, 9.9936861e-01, 9.9919337e-01,\n",
       "       9.5063388e-01, 9.4756585e-01, 9.9928927e-01, 9.9214196e-01,\n",
       "       9.3291867e-01, 9.9953938e-01, 1.9499917e-04, 5.2400189e-04,\n",
       "       9.0604848e-01, 9.3682277e-01, 9.9971741e-01, 9.9757558e-01,\n",
       "       9.9964511e-01, 5.6244584e-04, 9.4449215e-02, 9.9791878e-01,\n",
       "       9.9947518e-01, 4.6157179e-04, 6.3926663e-04, 9.9211323e-01,\n",
       "       9.9910420e-01, 9.6646935e-01, 2.9803120e-04, 7.4023294e-04,\n",
       "       9.9664056e-01, 9.9870193e-01, 1.9649859e-03, 5.9933105e-04,\n",
       "       9.9898785e-01, 5.6565454e-04, 9.9483514e-01, 9.9469006e-01,\n",
       "       9.9367863e-01, 9.4333899e-01, 9.9966395e-01, 9.9647141e-01,\n",
       "       7.6641585e-04, 9.9887246e-01, 6.4562505e-01, 1.0941661e-03,\n",
       "       1.0508029e-02, 3.5676719e-03, 7.0172660e-03, 7.3666859e-04,\n",
       "       9.9761415e-01, 9.9949062e-01, 9.9761605e-01, 7.0903516e-01,\n",
       "       9.9444878e-01, 9.9352705e-01, 9.9705732e-01, 9.9978405e-01,\n",
       "       7.2742451e-04, 1.4359668e-03, 9.9893922e-01, 8.2649104e-04,\n",
       "       1.4798435e-03, 9.9901450e-01, 7.1953344e-03, 6.2340259e-04,\n",
       "       9.9877876e-01, 9.9948251e-01, 9.9934238e-01, 1.1939058e-03,\n",
       "       6.8394631e-01, 9.8631859e-01, 1.6926627e-03, 9.9927849e-01,\n",
       "       7.4079323e-01, 2.0463136e-04], dtype=float32)"
      ]
     },
     "execution_count": 86,
     "metadata": {},
     "output_type": "execute_result"
    }
   ],
   "source": [
    "pred_probs"
   ]
  },
  {
   "cell_type": "code",
   "execution_count": 87,
   "id": "e9569e6c",
   "metadata": {
    "ExecuteTime": {
     "end_time": "2023-10-30T06:06:28.340890Z",
     "start_time": "2023-10-30T06:06:28.328177Z"
    }
   },
   "outputs": [],
   "source": [
    "preds = [1 if x>0.5 else 0 for x in pred_probs]"
   ]
  },
  {
   "cell_type": "code",
   "execution_count": 91,
   "id": "ed6b6a63",
   "metadata": {
    "ExecuteTime": {
     "end_time": "2023-10-30T06:08:53.046640Z",
     "start_time": "2023-10-30T06:08:52.680154Z"
    }
   },
   "outputs": [
    {
     "data": {
      "image/png": "[encoded data removed]",
      "text/plain": [
       "<Figure size 640x480 with 1 Axes>"
      ]
     },
     "metadata": {},
     "output_type": "display_data"
    }
   ],
   "source": [
    "from xgboost import plot_importance\n",
    "plot_importance(xgb_model)\n",
    "plt.show()"
   ]
  },
  {
   "cell_type": "code",
   "execution_count": 92,
   "id": "91267700",
   "metadata": {
    "ExecuteTime": {
     "end_time": "2023-10-30T06:10:24.918223Z",
     "start_time": "2023-10-30T06:10:24.594334Z"
    }
   },
   "outputs": [
    {
     "data": {
      "image/svg+xml": [
       "<?xml version=\"1.0\" encoding=\"UTF-8\" standalone=\"no\"?>\n",
       "<!DOCTYPE svg PUBLIC \"-//W3C//DTD SVG 1.1//EN\"\n",
       " \"http://www.w3.org/Graphics/SVG/1.1/DTD/svg11.dtd\">\n",
       "<!-- Generated by graphviz version 8.1.0 (20230707.0739)\n",
       " -->\n",
       "<!-- Pages: 1 -->\n",
       "<svg width=\"1446pt\" height=\"307pt\"\n",
       " viewBox=\"0.00 0.00 1445.51 307.25\" xmlns=\"http://www.w3.org/2000/svg\" xmlns:xlink=\"http://www.w3.org/1999/xlink\">\n",
       "<g id=\"graph0\" class=\"graph\" transform=\"scale(1 1) rotate(0) translate(4 303.25)\">\n",
       "<polygon fill=\"white\" stroke=\"none\" points=\"-4,4 -4,-303.25 1441.51,-303.25 1441.51,4 -4,4\"/>\n",
       "<!-- 0 -->\n",
       "<g id=\"node1\" class=\"node\">\n",
       "<title>0</title>\n",
       "<ellipse fill=\"none\" stroke=\"black\" cx=\"692\" cy=\"-281.25\" rx=\"75.51\" ry=\"18\"/>\n",
       "<text text-anchor=\"middle\" x=\"692\" y=\"-275.82\" font-family=\"Times New Roman,serif\" font-size=\"14.00\">f27&lt;0.142349988</text>\n",
       "</g>\n",
       "<!-- 1 -->\n",
       "<g id=\"node2\" class=\"node\">\n",
       "<title>1</title>\n",
       "<ellipse fill=\"none\" stroke=\"black\" cx=\"510\" cy=\"-193.5\" rx=\"71.02\" ry=\"18\"/>\n",
       "<text text-anchor=\"middle\" x=\"510\" y=\"-188.07\" font-family=\"Times New Roman,serif\" font-size=\"14.00\">f23&lt;957.450012</text>\n",
       "</g>\n",
       "<!-- 0&#45;&gt;1 -->\n",
       "<g id=\"edge1\" class=\"edge\">\n",
       "<title>0&#45;&gt;1</title>\n",
       "<path fill=\"none\" stroke=\"#0000ff\" d=\"M659.04,-264.72C629.15,-250.64 584.92,-229.8 552.4,-214.48\"/>\n",
       "<polygon fill=\"#0000ff\" stroke=\"#0000ff\" points=\"554.26,-211.01 543.72,-209.91 551.27,-217.34 554.26,-211.01\"/>\n",
       "<text text-anchor=\"middle\" x=\"652.13\" y=\"-231.95\" font-family=\"Times New Roman,serif\" font-size=\"14.00\">yes, missing</text>\n",
       "</g>\n",
       "<!-- 2 -->\n",
       "<g id=\"node3\" class=\"node\">\n",
       "<title>2</title>\n",
       "<ellipse fill=\"none\" stroke=\"black\" cx=\"876\" cy=\"-193.5\" rx=\"71.02\" ry=\"18\"/>\n",
       "<text text-anchor=\"middle\" x=\"876\" y=\"-188.07\" font-family=\"Times New Roman,serif\" font-size=\"14.00\">f20&lt;14.8549995</text>\n",
       "</g>\n",
       "<!-- 0&#45;&gt;2 -->\n",
       "<g id=\"edge2\" class=\"edge\">\n",
       "<title>0&#45;&gt;2</title>\n",
       "<path fill=\"none\" stroke=\"#ff0000\" d=\"M725.32,-264.72C755.64,-250.59 800.54,-229.67 833.44,-214.33\"/>\n",
       "<polygon fill=\"#ff0000\" stroke=\"#ff0000\" points=\"834.65,-217.17 842.24,-209.77 831.7,-210.82 834.65,-217.17\"/>\n",
       "<text text-anchor=\"middle\" x=\"808.13\" y=\"-231.95\" font-family=\"Times New Roman,serif\" font-size=\"14.00\">no</text>\n",
       "</g>\n",
       "<!-- 3 -->\n",
       "<g id=\"node4\" class=\"node\">\n",
       "<title>3</title>\n",
       "<ellipse fill=\"none\" stroke=\"black\" cx=\"261\" cy=\"-105.75\" rx=\"66.53\" ry=\"18\"/>\n",
       "<text text-anchor=\"middle\" x=\"261\" y=\"-100.33\" font-family=\"Times New Roman,serif\" font-size=\"14.00\">f1&lt;22.4549999</text>\n",
       "</g>\n",
       "<!-- 1&#45;&gt;3 -->\n",
       "<g id=\"edge3\" class=\"edge\">\n",
       "<title>1&#45;&gt;3</title>\n",
       "<path fill=\"none\" stroke=\"#0000ff\" d=\"M469.17,-178.44C425.94,-163.55 357.67,-140.04 311.19,-124.03\"/>\n",
       "<polygon fill=\"#0000ff\" stroke=\"#0000ff\" points=\"312.63,-120.48 302.04,-120.54 310.35,-127.1 312.63,-120.48\"/>\n",
       "<text text-anchor=\"middle\" x=\"442.13\" y=\"-144.2\" font-family=\"Times New Roman,serif\" font-size=\"14.00\">yes, missing</text>\n",
       "</g>\n",
       "<!-- 4 -->\n",
       "<g id=\"node5\" class=\"node\">\n",
       "<title>4</title>\n",
       "<ellipse fill=\"none\" stroke=\"black\" cx=\"510\" cy=\"-105.75\" rx=\"75.51\" ry=\"18\"/>\n",
       "<text text-anchor=\"middle\" x=\"510\" y=\"-100.33\" font-family=\"Times New Roman,serif\" font-size=\"14.00\">f26&lt;0.190699995</text>\n",
       "</g>\n",
       "<!-- 1&#45;&gt;4 -->\n",
       "<g id=\"edge4\" class=\"edge\">\n",
       "<title>1&#45;&gt;4</title>\n",
       "<path fill=\"none\" stroke=\"#ff0000\" d=\"M510,-175.15C510,-163.64 510,-148.28 510,-135.03\"/>\n",
       "<polygon fill=\"#ff0000\" stroke=\"#ff0000\" points=\"513.5,-135.08 510,-125.08 506.5,-135.08 513.5,-135.08\"/>\n",
       "<text text-anchor=\"middle\" x=\"517.13\" y=\"-144.2\" font-family=\"Times New Roman,serif\" font-size=\"14.00\">no</text>\n",
       "</g>\n",
       "<!-- 5 -->\n",
       "<g id=\"node10\" class=\"node\">\n",
       "<title>5</title>\n",
       "<ellipse fill=\"none\" stroke=\"black\" cx=\"876\" cy=\"-105.75\" rx=\"71.02\" ry=\"18\"/>\n",
       "<text text-anchor=\"middle\" x=\"876\" y=\"-100.33\" font-family=\"Times New Roman,serif\" font-size=\"14.00\">f4&lt;0.106899999</text>\n",
       "</g>\n",
       "<!-- 2&#45;&gt;5 -->\n",
       "<g id=\"edge9\" class=\"edge\">\n",
       "<title>2&#45;&gt;5</title>\n",
       "<path fill=\"none\" stroke=\"#0000ff\" d=\"M876,-175.15C876,-163.64 876,-148.28 876,-135.03\"/>\n",
       "<polygon fill=\"#0000ff\" stroke=\"#0000ff\" points=\"879.5,-135.08 876,-125.08 872.5,-135.08 879.5,-135.08\"/>\n",
       "<text text-anchor=\"middle\" x=\"910.13\" y=\"-144.2\" font-family=\"Times New Roman,serif\" font-size=\"14.00\">yes, missing</text>\n",
       "</g>\n",
       "<!-- 6 -->\n",
       "<g id=\"node11\" class=\"node\">\n",
       "<title>6</title>\n",
       "<ellipse fill=\"none\" stroke=\"black\" cx=\"1176\" cy=\"-105.75\" rx=\"66.53\" ry=\"18\"/>\n",
       "<text text-anchor=\"middle\" x=\"1176\" y=\"-100.33\" font-family=\"Times New Roman,serif\" font-size=\"14.00\">f1&lt;14.6800003</text>\n",
       "</g>\n",
       "<!-- 2&#45;&gt;6 -->\n",
       "<g id=\"edge10\" class=\"edge\">\n",
       "<title>2&#45;&gt;6</title>\n",
       "<path fill=\"none\" stroke=\"#ff0000\" d=\"M921.89,-179.38C975.51,-164.06 1064.15,-138.72 1121.3,-122.39\"/>\n",
       "<polygon fill=\"#ff0000\" stroke=\"#ff0000\" points=\"1121.93,-125.56 1130.59,-119.45 1120.01,-118.83 1121.93,-125.56\"/>\n",
       "<text text-anchor=\"middle\" x=\"1060.13\" y=\"-144.2\" font-family=\"Times New Roman,serif\" font-size=\"14.00\">no</text>\n",
       "</g>\n",
       "<!-- 7 -->\n",
       "<g id=\"node6\" class=\"node\">\n",
       "<title>7</title>\n",
       "<ellipse fill=\"none\" stroke=\"black\" cx=\"81\" cy=\"-18\" rx=\"81\" ry=\"18\"/>\n",
       "<text text-anchor=\"middle\" x=\"81\" y=\"-12.57\" font-family=\"Times New Roman,serif\" font-size=\"14.00\">leaf=0.0965368003</text>\n",
       "</g>\n",
       "<!-- 3&#45;&gt;7 -->\n",
       "<g id=\"edge5\" class=\"edge\">\n",
       "<title>3&#45;&gt;7</title>\n",
       "<path fill=\"none\" stroke=\"#0000ff\" d=\"M229.24,-89.62C199.97,-75.67 156.3,-54.87 123.93,-39.45\"/>\n",
       "<polygon fill=\"#0000ff\" stroke=\"#0000ff\" points=\"125.81,-35.99 115.28,-34.85 122.8,-42.31 125.81,-35.99\"/>\n",
       "<text text-anchor=\"middle\" x=\"222.13\" y=\"-56.45\" font-family=\"Times New Roman,serif\" font-size=\"14.00\">yes, missing</text>\n",
       "</g>\n",
       "<!-- 8 -->\n",
       "<g id=\"node7\" class=\"node\">\n",
       "<title>8</title>\n",
       "<ellipse fill=\"none\" stroke=\"black\" cx=\"261\" cy=\"-18\" rx=\"81\" ry=\"18\"/>\n",
       "<text text-anchor=\"middle\" x=\"261\" y=\"-12.57\" font-family=\"Times New Roman,serif\" font-size=\"14.00\">leaf=0.0437499993</text>\n",
       "</g>\n",
       "<!-- 3&#45;&gt;8 -->\n",
       "<g id=\"edge6\" class=\"edge\">\n",
       "<title>3&#45;&gt;8</title>\n",
       "<path fill=\"none\" stroke=\"#ff0000\" d=\"M261,-87.4C261,-75.89 261,-60.53 261,-47.28\"/>\n",
       "<polygon fill=\"#ff0000\" stroke=\"#ff0000\" points=\"264.5,-47.33 261,-37.33 257.5,-47.33 264.5,-47.33\"/>\n",
       "<text text-anchor=\"middle\" x=\"268.13\" y=\"-56.45\" font-family=\"Times New Roman,serif\" font-size=\"14.00\">no</text>\n",
       "</g>\n",
       "<!-- 9 -->\n",
       "<g id=\"node8\" class=\"node\">\n",
       "<title>9</title>\n",
       "<ellipse fill=\"none\" stroke=\"black\" cx=\"441\" cy=\"-18\" rx=\"81\" ry=\"18\"/>\n",
       "<text text-anchor=\"middle\" x=\"441\" y=\"-12.57\" font-family=\"Times New Roman,serif\" font-size=\"14.00\">leaf=0.0250000004</text>\n",
       "</g>\n",
       "<!-- 4&#45;&gt;9 -->\n",
       "<g id=\"edge7\" class=\"edge\">\n",
       "<title>4&#45;&gt;9</title>\n",
       "<path fill=\"none\" stroke=\"#0000ff\" d=\"M496.37,-87.81C486.42,-75.44 472.76,-58.46 461.49,-44.46\"/>\n",
       "<polygon fill=\"#0000ff\" stroke=\"#0000ff\" points=\"463.84,-42.8 454.84,-37.2 458.39,-47.18 463.84,-42.8\"/>\n",
       "<text text-anchor=\"middle\" x=\"516.13\" y=\"-56.45\" font-family=\"Times New Roman,serif\" font-size=\"14.00\">yes, missing</text>\n",
       "</g>\n",
       "<!-- 10 -->\n",
       "<g id=\"node9\" class=\"node\">\n",
       "<title>10</title>\n",
       "<ellipse fill=\"none\" stroke=\"black\" cx=\"624\" cy=\"-18\" rx=\"84\" ry=\"18\"/>\n",
       "<text text-anchor=\"middle\" x=\"624\" y=\"-12.57\" font-family=\"Times New Roman,serif\" font-size=\"14.00\">leaf=&#45;0.0800000057</text>\n",
       "</g>\n",
       "<!-- 4&#45;&gt;10 -->\n",
       "<g id=\"edge8\" class=\"edge\">\n",
       "<title>4&#45;&gt;10</title>\n",
       "<path fill=\"none\" stroke=\"#ff0000\" d=\"M531.98,-88.22C549.3,-75.19 573.65,-56.87 592.96,-42.35\"/>\n",
       "<polygon fill=\"#ff0000\" stroke=\"#ff0000\" points=\"594.81,-44.58 600.7,-35.78 590.61,-38.99 594.81,-44.58\"/>\n",
       "<text text-anchor=\"middle\" x=\"585.13\" y=\"-56.45\" font-family=\"Times New Roman,serif\" font-size=\"14.00\">no</text>\n",
       "</g>\n",
       "<!-- 11 -->\n",
       "<g id=\"node12\" class=\"node\">\n",
       "<title>11</title>\n",
       "<ellipse fill=\"none\" stroke=\"black\" cx=\"807\" cy=\"-18\" rx=\"81\" ry=\"18\"/>\n",
       "<text text-anchor=\"middle\" x=\"807\" y=\"-12.57\" font-family=\"Times New Roman,serif\" font-size=\"14.00\">leaf=0.0500000007</text>\n",
       "</g>\n",
       "<!-- 5&#45;&gt;11 -->\n",
       "<g id=\"edge11\" class=\"edge\">\n",
       "<title>5&#45;&gt;11</title>\n",
       "<path fill=\"none\" stroke=\"#0000ff\" d=\"M862.37,-87.81C852.42,-75.44 838.76,-58.46 827.49,-44.46\"/>\n",
       "<polygon fill=\"#0000ff\" stroke=\"#0000ff\" points=\"829.84,-42.8 820.84,-37.2 824.39,-47.18 829.84,-42.8\"/>\n",
       "<text text-anchor=\"middle\" x=\"882.13\" y=\"-56.45\" font-family=\"Times New Roman,serif\" font-size=\"14.00\">yes, missing</text>\n",
       "</g>\n",
       "<!-- 12 -->\n",
       "<g id=\"node13\" class=\"node\">\n",
       "<title>12</title>\n",
       "<ellipse fill=\"none\" stroke=\"black\" cx=\"990\" cy=\"-18\" rx=\"84\" ry=\"18\"/>\n",
       "<text text-anchor=\"middle\" x=\"990\" y=\"-12.57\" font-family=\"Times New Roman,serif\" font-size=\"14.00\">leaf=&#45;0.0250000004</text>\n",
       "</g>\n",
       "<!-- 5&#45;&gt;12 -->\n",
       "<g id=\"edge12\" class=\"edge\">\n",
       "<title>5&#45;&gt;12</title>\n",
       "<path fill=\"none\" stroke=\"#ff0000\" d=\"M897.98,-88.22C915.3,-75.19 939.65,-56.87 958.96,-42.35\"/>\n",
       "<polygon fill=\"#ff0000\" stroke=\"#ff0000\" points=\"960.81,-44.58 966.7,-35.78 956.61,-38.99 960.81,-44.58\"/>\n",
       "<text text-anchor=\"middle\" x=\"951.13\" y=\"-56.45\" font-family=\"Times New Roman,serif\" font-size=\"14.00\">no</text>\n",
       "</g>\n",
       "<!-- 13 -->\n",
       "<g id=\"node14\" class=\"node\">\n",
       "<title>13</title>\n",
       "<ellipse fill=\"none\" stroke=\"black\" cx=\"1176\" cy=\"-18\" rx=\"84\" ry=\"18\"/>\n",
       "<text text-anchor=\"middle\" x=\"1176\" y=\"-12.57\" font-family=\"Times New Roman,serif\" font-size=\"14.00\">leaf=&#45;0.0250000004</text>\n",
       "</g>\n",
       "<!-- 6&#45;&gt;13 -->\n",
       "<g id=\"edge13\" class=\"edge\">\n",
       "<title>6&#45;&gt;13</title>\n",
       "<path fill=\"none\" stroke=\"#0000ff\" d=\"M1176,-87.4C1176,-75.89 1176,-60.53 1176,-47.28\"/>\n",
       "<polygon fill=\"#0000ff\" stroke=\"#0000ff\" points=\"1179.5,-47.33 1176,-37.33 1172.5,-47.33 1179.5,-47.33\"/>\n",
       "<text text-anchor=\"middle\" x=\"1210.13\" y=\"-56.45\" font-family=\"Times New Roman,serif\" font-size=\"14.00\">yes, missing</text>\n",
       "</g>\n",
       "<!-- 14 -->\n",
       "<g id=\"node15\" class=\"node\">\n",
       "<title>14</title>\n",
       "<ellipse fill=\"none\" stroke=\"black\" cx=\"1358\" cy=\"-18\" rx=\"79.51\" ry=\"18\"/>\n",
       "<text text-anchor=\"middle\" x=\"1358\" y=\"-12.57\" font-family=\"Times New Roman,serif\" font-size=\"14.00\">leaf=&#45;0.095238097</text>\n",
       "</g>\n",
       "<!-- 6&#45;&gt;14 -->\n",
       "<g id=\"edge14\" class=\"edge\">\n",
       "<title>6&#45;&gt;14</title>\n",
       "<path fill=\"none\" stroke=\"#ff0000\" d=\"M1208.12,-89.62C1237.81,-75.63 1282.15,-54.74 1314.9,-39.31\"/>\n",
       "<polygon fill=\"#ff0000\" stroke=\"#ff0000\" points=\"1316.11,-42.13 1323.67,-34.71 1313.13,-35.8 1316.11,-42.13\"/>\n",
       "<text text-anchor=\"middle\" x=\"1290.13\" y=\"-56.45\" font-family=\"Times New Roman,serif\" font-size=\"14.00\">no</text>\n",
       "</g>\n",
       "</g>\n",
       "</svg>\n"
      ],
      "text/plain": [
       "<graphviz.sources.Source at 0x26b01cbceb0>"
      ]
     },
     "execution_count": 92,
     "metadata": {},
     "output_type": "execute_result"
    }
   ],
   "source": [
    "from xgboost import to_graphviz\n",
    "import graphviz\n",
    "\n",
    "to_graphviz(xgb_model)"
   ]
  },
  {
   "cell_type": "code",
   "execution_count": 103,
   "id": "4bf136a9",
   "metadata": {
    "ExecuteTime": {
     "end_time": "2023-10-30T06:17:27.154529Z",
     "start_time": "2023-10-30T06:17:27.139794Z"
    }
   },
   "outputs": [
    {
     "data": {
      "text/plain": [
       "{'max_depth': 3,\n",
       " 'eta': 0.05,\n",
       " 'objective': 'binary:logistic',\n",
       " 'eval_matric': 'logloss'}"
      ]
     },
     "execution_count": 103,
     "metadata": {},
     "output_type": "execute_result"
    }
   ],
   "source": [
    "params"
   ]
  },
  {
   "cell_type": "code",
   "execution_count": 104,
   "id": "ec03727b",
   "metadata": {
    "ExecuteTime": {
     "end_time": "2023-10-30T06:17:40.603168Z",
     "start_time": "2023-10-30T06:17:40.569441Z"
    }
   },
   "outputs": [
    {
     "name": "stdout",
     "output_type": "stream",
     "text": [
      "[15:17:40] WARNING: C:\\Users\\dev-admin\\croot2\\xgboost-split_1675461376218\\work\\src\\learner.cc:767: \n",
      "Parameters: { \"eval_matric\" } are not used.\n",
      "\n",
      "[15:17:40] WARNING: C:\\Users\\dev-admin\\croot2\\xgboost-split_1675461376218\\work\\src\\learner.cc:767: \n",
      "Parameters: { \"eval_matric\" } are not used.\n",
      "\n",
      "[15:17:40] WARNING: C:\\Users\\dev-admin\\croot2\\xgboost-split_1675461376218\\work\\src\\learner.cc:767: \n",
      "Parameters: { \"eval_matric\" } are not used.\n",
      "\n"
     ]
    },
    {
     "data": {
      "text/html": [
       "<div>\n",
       "<style scoped>\n",
       "    .dataframe tbody tr th:only-of-type {\n",
       "        vertical-align: middle;\n",
       "    }\n",
       "\n",
       "    .dataframe tbody tr th {\n",
       "        vertical-align: top;\n",
       "    }\n",
       "\n",
       "    .dataframe thead th {\n",
       "        text-align: right;\n",
       "    }\n",
       "</style>\n",
       "<table border=\"1\" class=\"dataframe\">\n",
       "  <thead>\n",
       "    <tr style=\"text-align: right;\">\n",
       "      <th></th>\n",
       "      <th>train-logloss-mean</th>\n",
       "      <th>train-logloss-std</th>\n",
       "      <th>test-logloss-mean</th>\n",
       "      <th>test-logloss-std</th>\n",
       "    </tr>\n",
       "  </thead>\n",
       "  <tbody>\n",
       "    <tr>\n",
       "      <th>0</th>\n",
       "      <td>0.651623</td>\n",
       "      <td>0.001028</td>\n",
       "      <td>0.655836</td>\n",
       "      <td>0.002434</td>\n",
       "    </tr>\n",
       "    <tr>\n",
       "      <th>1</th>\n",
       "      <td>0.613920</td>\n",
       "      <td>0.002312</td>\n",
       "      <td>0.621513</td>\n",
       "      <td>0.005306</td>\n",
       "    </tr>\n",
       "    <tr>\n",
       "      <th>2</th>\n",
       "      <td>0.579398</td>\n",
       "      <td>0.003022</td>\n",
       "      <td>0.590492</td>\n",
       "      <td>0.008264</td>\n",
       "    </tr>\n",
       "    <tr>\n",
       "      <th>3</th>\n",
       "      <td>0.547808</td>\n",
       "      <td>0.004078</td>\n",
       "      <td>0.562111</td>\n",
       "      <td>0.010548</td>\n",
       "    </tr>\n",
       "    <tr>\n",
       "      <th>4</th>\n",
       "      <td>0.518564</td>\n",
       "      <td>0.004716</td>\n",
       "      <td>0.536168</td>\n",
       "      <td>0.013169</td>\n",
       "    </tr>\n",
       "    <tr>\n",
       "      <th>5</th>\n",
       "      <td>0.491201</td>\n",
       "      <td>0.004776</td>\n",
       "      <td>0.512416</td>\n",
       "      <td>0.014985</td>\n",
       "    </tr>\n",
       "    <tr>\n",
       "      <th>6</th>\n",
       "      <td>0.466020</td>\n",
       "      <td>0.004780</td>\n",
       "      <td>0.490891</td>\n",
       "      <td>0.016849</td>\n",
       "    </tr>\n",
       "    <tr>\n",
       "      <th>7</th>\n",
       "      <td>0.442290</td>\n",
       "      <td>0.005092</td>\n",
       "      <td>0.470484</td>\n",
       "      <td>0.018146</td>\n",
       "    </tr>\n",
       "    <tr>\n",
       "      <th>8</th>\n",
       "      <td>0.420500</td>\n",
       "      <td>0.005745</td>\n",
       "      <td>0.451813</td>\n",
       "      <td>0.019897</td>\n",
       "    </tr>\n",
       "    <tr>\n",
       "      <th>9</th>\n",
       "      <td>0.399586</td>\n",
       "      <td>0.006278</td>\n",
       "      <td>0.433443</td>\n",
       "      <td>0.020465</td>\n",
       "    </tr>\n",
       "  </tbody>\n",
       "</table>\n",
       "</div>"
      ],
      "text/plain": [
       "   train-logloss-mean  train-logloss-std  test-logloss-mean  test-logloss-std\n",
       "0            0.651623           0.001028           0.655836          0.002434\n",
       "1            0.613920           0.002312           0.621513          0.005306\n",
       "2            0.579398           0.003022           0.590492          0.008264\n",
       "3            0.547808           0.004078           0.562111          0.010548\n",
       "4            0.518564           0.004716           0.536168          0.013169\n",
       "5            0.491201           0.004776           0.512416          0.014985\n",
       "6            0.466020           0.004780           0.490891          0.016849\n",
       "7            0.442290           0.005092           0.470484          0.018146\n",
       "8            0.420500           0.005745           0.451813          0.019897\n",
       "9            0.399586           0.006278           0.433443          0.020465"
      ]
     },
     "execution_count": 104,
     "metadata": {},
     "output_type": "execute_result"
    }
   ],
   "source": [
    "xgb.cv(params = params , dtrain = dtr , num_boost_round = 10 , nfold = 3)"
   ]
  },
  {
   "cell_type": "code",
   "execution_count": 109,
   "id": "83b952c6",
   "metadata": {
    "ExecuteTime": {
     "end_time": "2023-10-30T06:23:15.813705Z",
     "start_time": "2023-10-30T06:23:15.691587Z"
    }
   },
   "outputs": [
    {
     "data": {
      "text/plain": [
       "0.9736842105263158"
      ]
     },
     "execution_count": 109,
     "metadata": {},
     "output_type": "execute_result"
    }
   ],
   "source": [
    "from xgboost import XGBClassifier\n",
    "xgb2 = XGBClassifier(n_estimators = 400 , learning_rate = 0.1 , max_depth = 3 , random_state = 42)\n",
    "xgb2.fit(train_input , train_target)\n",
    "\n",
    "xgb2_pred = xgb2.predict(test_input)\n",
    "\n",
    "accuracy_score(test_target , xgb2_pred)"
   ]
  },
  {
   "cell_type": "code",
   "execution_count": 111,
   "id": "916411a7",
   "metadata": {
    "ExecuteTime": {
     "end_time": "2023-10-30T06:25:30.271893Z",
     "start_time": "2023-10-30T06:25:30.256340Z"
    }
   },
   "outputs": [],
   "source": [
    "xgb2_pred_proba = xgb2.predict_proba(test_input)"
   ]
  },
  {
   "cell_type": "code",
   "execution_count": 115,
   "id": "68c9a58b",
   "metadata": {
    "ExecuteTime": {
     "end_time": "2023-10-30T06:35:06.975172Z",
     "start_time": "2023-10-30T06:35:06.823847Z"
    }
   },
   "outputs": [
    {
     "data": {
      "text/html": [
       "<style>#sk-container-id-6 {color: black;}#sk-container-id-6 pre{padding: 0;}#sk-container-id-6 div.sk-toggleable {background-color: white;}#sk-container-id-6 label.sk-toggleable__label {cursor: pointer;display: block;width: 100%;margin-bottom: 0;padding: 0.3em;box-sizing: border-box;text-align: center;}#sk-container-id-6 label.sk-toggleable__label-arrow:before {content: \"▸\";float: left;margin-right: 0.25em;color: #696969;}#sk-container-id-6 label.sk-toggleable__label-arrow:hover:before {color: black;}#sk-container-id-6 div.sk-estimator:hover label.sk-toggleable__label-arrow:before {color: black;}#sk-container-id-6 div.sk-toggleable__content {max-height: 0;max-width: 0;overflow: hidden;text-align: left;background-color: #f0f8ff;}#sk-container-id-6 div.sk-toggleable__content pre {margin: 0.2em;color: black;border-radius: 0.25em;background-color: #f0f8ff;}#sk-container-id-6 input.sk-toggleable__control:checked~div.sk-toggleable__content {max-height: 200px;max-width: 100%;overflow: auto;}#sk-container-id-6 input.sk-toggleable__control:checked~label.sk-toggleable__label-arrow:before {content: \"▾\";}#sk-container-id-6 div.sk-estimator input.sk-toggleable__control:checked~label.sk-toggleable__label {background-color: #d4ebff;}#sk-container-id-6 div.sk-label input.sk-toggleable__control:checked~label.sk-toggleable__label {background-color: #d4ebff;}#sk-container-id-6 input.sk-hidden--visually {border: 0;clip: rect(1px 1px 1px 1px);clip: rect(1px, 1px, 1px, 1px);height: 1px;margin: -1px;overflow: hidden;padding: 0;position: absolute;width: 1px;}#sk-container-id-6 div.sk-estimator {font-family: monospace;background-color: #f0f8ff;border: 1px dotted black;border-radius: 0.25em;box-sizing: border-box;margin-bottom: 0.5em;}#sk-container-id-6 div.sk-estimator:hover {background-color: #d4ebff;}#sk-container-id-6 div.sk-parallel-item::after {content: \"\";width: 100%;border-bottom: 1px solid gray;flex-grow: 1;}#sk-container-id-6 div.sk-label:hover label.sk-toggleable__label {background-color: #d4ebff;}#sk-container-id-6 div.sk-serial::before {content: \"\";position: absolute;border-left: 1px solid gray;box-sizing: border-box;top: 0;bottom: 0;left: 50%;z-index: 0;}#sk-container-id-6 div.sk-serial {display: flex;flex-direction: column;align-items: center;background-color: white;padding-right: 0.2em;padding-left: 0.2em;position: relative;}#sk-container-id-6 div.sk-item {position: relative;z-index: 1;}#sk-container-id-6 div.sk-parallel {display: flex;align-items: stretch;justify-content: center;background-color: white;position: relative;}#sk-container-id-6 div.sk-item::before, #sk-container-id-6 div.sk-parallel-item::before {content: \"\";position: absolute;border-left: 1px solid gray;box-sizing: border-box;top: 0;bottom: 0;left: 50%;z-index: -1;}#sk-container-id-6 div.sk-parallel-item {display: flex;flex-direction: column;z-index: 1;position: relative;background-color: white;}#sk-container-id-6 div.sk-parallel-item:first-child::after {align-self: flex-end;width: 50%;}#sk-container-id-6 div.sk-parallel-item:last-child::after {align-self: flex-start;width: 50%;}#sk-container-id-6 div.sk-parallel-item:only-child::after {width: 0;}#sk-container-id-6 div.sk-dashed-wrapped {border: 1px dashed gray;margin: 0 0.4em 0.5em 0.4em;box-sizing: border-box;padding-bottom: 0.4em;background-color: white;}#sk-container-id-6 div.sk-label label {font-family: monospace;font-weight: bold;display: inline-block;line-height: 1.2em;}#sk-container-id-6 div.sk-label-container {text-align: center;}#sk-container-id-6 div.sk-container {/* jupyter's `normalize.less` sets `[hidden] { display: none; }` but bootstrap.min.css set `[hidden] { display: none !important; }` so we also need the `!important` here to be able to override the default hidden behavior on the sphinx rendered scikit-learn.org. See: https://github.com/scikit-learn/scikit-learn/issues/21755 */display: inline-block !important;position: relative;}#sk-container-id-6 div.sk-text-repr-fallback {display: none;}</style><div id=\"sk-container-id-6\" class=\"sk-top-container\"><div class=\"sk-text-repr-fallback\"><pre>XGBClassifier(base_score=None, booster=None, callbacks=None,\n",
       "              colsample_bylevel=None, colsample_bynode=None,\n",
       "              colsample_bytree=None, early_stopping_rounds=None,\n",
       "              enable_categorical=False, eval_metric=None, feature_types=None,\n",
       "              gamma=None, gpu_id=None, grow_policy=None, importance_type=None,\n",
       "              interaction_constraints=None, learning_rate=0.1, max_bin=None,\n",
       "              max_cat_threshold=None, max_cat_to_onehot=None,\n",
       "              max_delta_step=None, max_depth=3, max_leaves=None,\n",
       "              min_child_weight=None, missing=nan, monotone_constraints=None,\n",
       "              n_estimators=400, n_jobs=None, num_parallel_tree=None,\n",
       "              predictor=None, random_state=42, ...)</pre><b>In a Jupyter environment, please rerun this cell to show the HTML representation or trust the notebook. <br />On GitHub, the HTML representation is unable to render, please try loading this page with nbviewer.org.</b></div><div class=\"sk-container\" hidden><div class=\"sk-item\"><div class=\"sk-estimator sk-toggleable\"><input class=\"sk-toggleable__control sk-hidden--visually\" id=\"sk-estimator-id-6\" type=\"checkbox\" checked><label for=\"sk-estimator-id-6\" class=\"sk-toggleable__label sk-toggleable__label-arrow\">XGBClassifier</label><div class=\"sk-toggleable__content\"><pre>XGBClassifier(base_score=None, booster=None, callbacks=None,\n",
       "              colsample_bylevel=None, colsample_bynode=None,\n",
       "              colsample_bytree=None, early_stopping_rounds=None,\n",
       "              enable_categorical=False, eval_metric=None, feature_types=None,\n",
       "              gamma=None, gpu_id=None, grow_policy=None, importance_type=None,\n",
       "              interaction_constraints=None, learning_rate=0.1, max_bin=None,\n",
       "              max_cat_threshold=None, max_cat_to_onehot=None,\n",
       "              max_delta_step=None, max_depth=3, max_leaves=None,\n",
       "              min_child_weight=None, missing=nan, monotone_constraints=None,\n",
       "              n_estimators=400, n_jobs=None, num_parallel_tree=None,\n",
       "              predictor=None, random_state=42, ...)</pre></div></div></div></div></div>"
      ],
      "text/plain": [
       "XGBClassifier(base_score=None, booster=None, callbacks=None,\n",
       "              colsample_bylevel=None, colsample_bynode=None,\n",
       "              colsample_bytree=None, early_stopping_rounds=None,\n",
       "              enable_categorical=False, eval_metric=None, feature_types=None,\n",
       "              gamma=None, gpu_id=None, grow_policy=None, importance_type=None,\n",
       "              interaction_constraints=None, learning_rate=0.1, max_bin=None,\n",
       "              max_cat_threshold=None, max_cat_to_onehot=None,\n",
       "              max_delta_step=None, max_depth=3, max_leaves=None,\n",
       "              min_child_weight=None, missing=nan, monotone_constraints=None,\n",
       "              n_estimators=400, n_jobs=None, num_parallel_tree=None,\n",
       "              predictor=None, random_state=42, ...)"
      ]
     },
     "execution_count": 115,
     "metadata": {},
     "output_type": "execute_result"
    }
   ],
   "source": [
    "xgb_w = XGBClassifier(n_estimators = 400 , learning_rate = 0.1 , max_depth = 3 , random_state = 42)\n",
    "#조기종료를 위해 eval_set 담기\n",
    "evals = [(test_input , test_target)]\n",
    "\n",
    "xgb_w.fit(train_input , train_target , early_stopping_rounds = 100 , eval_metric = 'logloss' , eval_set = evals , verbose = False)"
   ]
  },
  {
   "cell_type": "code",
   "execution_count": 116,
   "id": "25478ddd",
   "metadata": {
    "ExecuteTime": {
     "end_time": "2023-10-30T06:37:28.392889Z",
     "start_time": "2023-10-30T06:37:28.376011Z"
    }
   },
   "outputs": [
    {
     "data": {
      "text/plain": [
       "array([1, 0, 0, 1, 1, 0, 0, 0, 0, 1, 1, 0, 1, 0, 1, 0, 1, 1, 1, 0, 1, 1,\n",
       "       0, 1, 1, 1, 1, 1, 1, 0, 1, 1, 1, 1, 1, 1, 0, 1, 0, 1, 1, 0, 1, 1,\n",
       "       1, 1, 1, 1, 1, 1, 0, 0, 1, 1, 1, 1, 1, 0, 0, 1, 1, 0, 0, 1, 1, 1,\n",
       "       0, 0, 1, 1, 0, 0, 1, 0, 1, 1, 1, 1, 1, 1, 0, 1, 0, 0, 0, 0, 0, 0,\n",
       "       1, 1, 1, 1, 1, 1, 1, 1, 0, 0, 1, 0, 0, 1, 0, 0, 1, 1, 1, 0, 1, 1,\n",
       "       0, 1, 1, 0])"
      ]
     },
     "execution_count": 116,
     "metadata": {},
     "output_type": "execute_result"
    }
   ],
   "source": [
    "xgb_w.predict(test_input)"
   ]
  },
  {
   "cell_type": "code",
   "execution_count": 117,
   "id": "0acd0334",
   "metadata": {
    "ExecuteTime": {
     "end_time": "2023-10-30T06:38:58.232259Z",
     "start_time": "2023-10-30T06:38:58.213264Z"
    }
   },
   "outputs": [
    {
     "data": {
      "text/plain": [
       "0.9736842105263158"
      ]
     },
     "execution_count": 117,
     "metadata": {},
     "output_type": "execute_result"
    }
   ],
   "source": [
    "xgb_w.score(test_input , test_target)"
   ]
  },
  {
   "cell_type": "markdown",
   "id": "9216c028",
   "metadata": {},
   "source": [
    "- 민감하게 조정해야 하는 파라미터\n",
    " - booster 모양 : 회귀일때 씀.\n",
    " - eval_metric(평가할 함수) , objective(목적함수)\n",
    " - eta(학습률)\n",
    " - L1규제/L2규제\n",
    "\n",
    "- 과적합 방지를 위해 조정해야 하는 것\n",
    " - learning rate 낮추기 : n_estimator은 높이기\n",
    " - max_depth 낮추기\n",
    " - min_child_weight(min_samples_leaf) 높이기\n",
    " - gamma 높이기\n",
    " - subsample , colsample_bytree 낮추기"
   ]
  },
  {
   "cell_type": "code",
   "execution_count": null,
   "id": "3f9ee48d",
   "metadata": {},
   "outputs": [],
   "source": []
  }
 ],
 "metadata": {
  "kernelspec": {
   "display_name": "Python 3 (ipykernel)",
   "language": "python",
   "name": "python3"
  },
  "language_info": {
   "codemirror_mode": {
    "name": "ipython",
    "version": 3
   },
   "file_extension": ".py",
   "mimetype": "text/x-python",
   "name": "python",
   "nbconvert_exporter": "python",
   "pygments_lexer": "ipython3",
   "version": "3.8.17"
  },
  "toc": {
   "base_numbering": 1,
   "nav_menu": {},
   "number_sections": true,
   "sideBar": true,
   "skip_h1_title": false,
   "title_cell": "Table of Contents",
   "title_sidebar": "Contents",
   "toc_cell": false,
   "toc_position": {},
   "toc_section_display": true,
   "toc_window_display": false
  }
 },
 "nbformat": 4,
 "nbformat_minor": 5
}
