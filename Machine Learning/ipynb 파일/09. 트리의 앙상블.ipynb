{
 "cells": [
  {
   "cell_type": "code",
   "execution_count": 1,
   "id": "49336733",
   "metadata": {
    "ExecuteTime": {
     "end_time": "2023-10-27T01:44:43.236037Z",
     "start_time": "2023-10-27T01:44:41.583226Z"
    }
   },
   "outputs": [],
   "source": [
    "import numpy as np\n",
    "import pandas as pd\n",
    "import matplotlib as mpl\n",
    "import matplotlib.pyplot as plt\n",
    "import mglearn\n",
    "%matplotlib inline\n",
    "import seaborn as sns\n",
    "import platform\n",
    "from matplotlib import font_manager , rc\n",
    "\n",
    "if platform.system() == 'Darwin':\n",
    "  rc('font' , family = 'AppleGothic')\n",
    "elif platform.system() == 'Windows':\n",
    "  path = 'C:/Windows/Fonts/malgun.ttf'\n",
    "  font_name = font_manager.FontProperties(fname = path).get_name()\n",
    "  rc('font' , family = font_name)\n",
    "else:\n",
    "  print('모름')\n",
    "plt.rcParams['axes.unicode_minus'] = False\n",
    "import warnings\n",
    "warnings.filterwarnings('ignore')\n",
    "from sklearn.metrics import accuracy_score , precision_score , recall_score , roc_auc_score , f1_score , confusion_matrix , roc_curve , precision_recall_curve"
   ]
  },
  {
   "cell_type": "markdown",
   "id": "12db2f74",
   "metadata": {},
   "source": [
    "# 앙상블 학습(Ensemble learning\n",
    "- 여러 개의 의사결정트리를 결합하여 하나의 결정트리보다 더 좋은 성능을 내는 머신러닝 학습기법\n",
    "- 앙상블 학습의 핵심은 약한 분류기를 병렬(배깅) 또는 직렬(부스팅)로 결합하여 강렬한 분류기로 만드는 것이다\n",
    "- 분류\n",
    " - 1. 배깅 : 동일 알고리즘을 병렬로 사용\n",
    " - 2. 부스팅 : 동일 알고리즘을 직렬로 사용\n",
    " - 3. 보팅 : 다른 알고리즘을 병렬로 사용"
   ]
  },
  {
   "cell_type": "markdown",
   "id": "2fc29cf8",
   "metadata": {},
   "source": [
    "## 랜덤 포레스트(Random Forest)\n",
    "- 앙상블 학습의 대표\n",
    "- 결정트리를 랜덤하게 만들어 결정트리 숲을 만든다\n",
    "- 랜덤 포레스트는 각각의 트리를 훈련하기 위한 데이터를 랜덤하게 만든다.\n",
    "- 부트스트랩 샘플 : 부트스트랩 방식으로 샘플링하여 분류한 데이터\n",
    "- 부트스트랩 샘플은 훈련세트의 크기와 같게 만든다.\n",
    "- 랜덤 포레스트는 랜덤하게 선택된 샘플과 특성을 사용하기 때문에 훈련 세트에 과대적합되는 것을 막아주고 검증 세트와 테스트 세트에서 안정적인 성능을 얻는다."
   ]
  },
  {
   "cell_type": "code",
   "execution_count": 3,
   "id": "e51c424d",
   "metadata": {
    "ExecuteTime": {
     "end_time": "2023-10-27T01:56:45.052202Z",
     "start_time": "2023-10-27T01:56:44.829680Z"
    }
   },
   "outputs": [
    {
     "data": {
      "text/html": [
       "<div>\n",
       "<style scoped>\n",
       "    .dataframe tbody tr th:only-of-type {\n",
       "        vertical-align: middle;\n",
       "    }\n",
       "\n",
       "    .dataframe tbody tr th {\n",
       "        vertical-align: top;\n",
       "    }\n",
       "\n",
       "    .dataframe thead th {\n",
       "        text-align: right;\n",
       "    }\n",
       "</style>\n",
       "<table border=\"1\" class=\"dataframe\">\n",
       "  <thead>\n",
       "    <tr style=\"text-align: right;\">\n",
       "      <th></th>\n",
       "      <th>alcohol</th>\n",
       "      <th>sugar</th>\n",
       "      <th>pH</th>\n",
       "      <th>class</th>\n",
       "    </tr>\n",
       "  </thead>\n",
       "  <tbody>\n",
       "    <tr>\n",
       "      <th>0</th>\n",
       "      <td>9.4</td>\n",
       "      <td>1.9</td>\n",
       "      <td>3.51</td>\n",
       "      <td>0.0</td>\n",
       "    </tr>\n",
       "    <tr>\n",
       "      <th>1</th>\n",
       "      <td>9.8</td>\n",
       "      <td>2.6</td>\n",
       "      <td>3.20</td>\n",
       "      <td>0.0</td>\n",
       "    </tr>\n",
       "    <tr>\n",
       "      <th>2</th>\n",
       "      <td>9.8</td>\n",
       "      <td>2.3</td>\n",
       "      <td>3.26</td>\n",
       "      <td>0.0</td>\n",
       "    </tr>\n",
       "    <tr>\n",
       "      <th>3</th>\n",
       "      <td>9.8</td>\n",
       "      <td>1.9</td>\n",
       "      <td>3.16</td>\n",
       "      <td>0.0</td>\n",
       "    </tr>\n",
       "    <tr>\n",
       "      <th>4</th>\n",
       "      <td>9.4</td>\n",
       "      <td>1.9</td>\n",
       "      <td>3.51</td>\n",
       "      <td>0.0</td>\n",
       "    </tr>\n",
       "    <tr>\n",
       "      <th>...</th>\n",
       "      <td>...</td>\n",
       "      <td>...</td>\n",
       "      <td>...</td>\n",
       "      <td>...</td>\n",
       "    </tr>\n",
       "    <tr>\n",
       "      <th>6492</th>\n",
       "      <td>11.2</td>\n",
       "      <td>1.6</td>\n",
       "      <td>3.27</td>\n",
       "      <td>1.0</td>\n",
       "    </tr>\n",
       "    <tr>\n",
       "      <th>6493</th>\n",
       "      <td>9.6</td>\n",
       "      <td>8.0</td>\n",
       "      <td>3.15</td>\n",
       "      <td>1.0</td>\n",
       "    </tr>\n",
       "    <tr>\n",
       "      <th>6494</th>\n",
       "      <td>9.4</td>\n",
       "      <td>1.2</td>\n",
       "      <td>2.99</td>\n",
       "      <td>1.0</td>\n",
       "    </tr>\n",
       "    <tr>\n",
       "      <th>6495</th>\n",
       "      <td>12.8</td>\n",
       "      <td>1.1</td>\n",
       "      <td>3.34</td>\n",
       "      <td>1.0</td>\n",
       "    </tr>\n",
       "    <tr>\n",
       "      <th>6496</th>\n",
       "      <td>11.8</td>\n",
       "      <td>0.8</td>\n",
       "      <td>3.26</td>\n",
       "      <td>1.0</td>\n",
       "    </tr>\n",
       "  </tbody>\n",
       "</table>\n",
       "<p>6497 rows × 4 columns</p>\n",
       "</div>"
      ],
      "text/plain": [
       "      alcohol  sugar    pH  class\n",
       "0         9.4    1.9  3.51    0.0\n",
       "1         9.8    2.6  3.20    0.0\n",
       "2         9.8    2.3  3.26    0.0\n",
       "3         9.8    1.9  3.16    0.0\n",
       "4         9.4    1.9  3.51    0.0\n",
       "...       ...    ...   ...    ...\n",
       "6492     11.2    1.6  3.27    1.0\n",
       "6493      9.6    8.0  3.15    1.0\n",
       "6494      9.4    1.2  2.99    1.0\n",
       "6495     12.8    1.1  3.34    1.0\n",
       "6496     11.8    0.8  3.26    1.0\n",
       "\n",
       "[6497 rows x 4 columns]"
      ]
     },
     "execution_count": 3,
     "metadata": {},
     "output_type": "execute_result"
    }
   ],
   "source": [
    "wine = pd.read_csv('https://raw.githubusercontent.com/rickiepark/hg-mldl/master/wine.csv')\n",
    "wine"
   ]
  },
  {
   "cell_type": "markdown",
   "id": "24916fe5",
   "metadata": {},
   "source": [
    "- RandomForestClassifier : 분류\n",
    "- RandomForestResressor : 회귀\n",
    "- sklearn의 랜덤 포레스트는 100개의 결정트리를 훈련하는 방식\n",
    "- 분류일 때 , 각 트리의 클래스별 확률을 평균하여 가장 높은 확률을 가진 클래스로 결과 예측\n",
    "- 회귀일 때 , 각 트리의 예측값을 평균하여 결과 예측"
   ]
  },
  {
   "cell_type": "code",
   "execution_count": 4,
   "id": "dcb32785",
   "metadata": {
    "ExecuteTime": {
     "end_time": "2023-10-27T02:20:01.081432Z",
     "start_time": "2023-10-27T02:20:01.073874Z"
    }
   },
   "outputs": [],
   "source": [
    "data = wine.iloc[:,:-1].to_numpy()\n",
    "target = wine.iloc[:,-1].to_numpy()"
   ]
  },
  {
   "cell_type": "code",
   "execution_count": 5,
   "id": "012c7bb5",
   "metadata": {
    "ExecuteTime": {
     "end_time": "2023-10-27T02:20:01.220490Z",
     "start_time": "2023-10-27T02:20:01.206833Z"
    }
   },
   "outputs": [],
   "source": [
    "from sklearn.model_selection import train_test_split\n",
    "train_input , test_input , train_target , test_target = train_test_split(data,target , test_size = 0.2 , random_state = 42)"
   ]
  },
  {
   "cell_type": "code",
   "execution_count": 9,
   "id": "b6fbdadd",
   "metadata": {
    "ExecuteTime": {
     "end_time": "2023-10-27T02:28:30.914864Z",
     "start_time": "2023-10-27T02:28:28.643655Z"
    }
   },
   "outputs": [],
   "source": [
    "from sklearn.model_selection import cross_validate\n",
    "from sklearn.ensemble import RandomForestClassifier\n",
    "\n",
    "rf = RandomForestClassifier(random_state = 42 , n_jobs = -1)\n",
    "scores = cross_validate(rf , train_input , train_target , n_jobs = -1 , return_train_score = True)\n"
   ]
  },
  {
   "cell_type": "code",
   "execution_count": 15,
   "id": "ee878648",
   "metadata": {
    "ExecuteTime": {
     "end_time": "2023-10-27T02:30:10.513661Z",
     "start_time": "2023-10-27T02:30:10.509499Z"
    }
   },
   "outputs": [
    {
     "data": {
      "text/plain": [
       "(0.9973541965122431, 0.8905151032797809)"
      ]
     },
     "execution_count": 15,
     "metadata": {},
     "output_type": "execute_result"
    }
   ],
   "source": [
    "np.mean(scores['train_score']) , np.mean(scores['test_score'])"
   ]
  },
  {
   "cell_type": "code",
   "execution_count": 18,
   "id": "8a5f51dd",
   "metadata": {
    "ExecuteTime": {
     "end_time": "2023-10-27T02:31:58.389709Z",
     "start_time": "2023-10-27T02:31:58.183886Z"
    }
   },
   "outputs": [
    {
     "name": "stdout",
     "output_type": "stream",
     "text": [
      "[0.23167441 0.50039841 0.26792718]\n"
     ]
    }
   ],
   "source": [
    "rf.fit(train_input , train_target)\n",
    "print(rf.feature_importances_)"
   ]
  },
  {
   "cell_type": "markdown",
   "id": "8269f6a5",
   "metadata": {},
   "source": [
    "- 부트스트랩 샘플을 이용하여 학습하는 랜덤 포레스트는 데이터의 중복을 가져올 수 있고 , 어떤 데이터들은 학습에 사용되지 않을 수도 있다.\n",
    "- 사용되지 않은 데이터들을 OOB라고 한다.\n",
    "- OOB를 검증데이터로 활용하여 자체평가를 하는 기능을 제공"
   ]
  },
  {
   "cell_type": "code",
   "execution_count": 20,
   "id": "036ca558",
   "metadata": {
    "ExecuteTime": {
     "end_time": "2023-10-27T02:40:27.928583Z",
     "start_time": "2023-10-27T02:40:27.664991Z"
    }
   },
   "outputs": [
    {
     "name": "stdout",
     "output_type": "stream",
     "text": [
      "0.8934000384837406\n"
     ]
    }
   ],
   "source": [
    "# oob_score = True\n",
    "rf = RandomForestClassifier(oob_score = True , random_state = 42 , n_jobs = -1)\n",
    "rf.fit(train_input , train_target)\n",
    "print(rf.oob_score_)"
   ]
  },
  {
   "cell_type": "code",
   "execution_count": 21,
   "id": "baf7f2b6",
   "metadata": {
    "ExecuteTime": {
     "end_time": "2023-10-27T02:47:22.148821Z",
     "start_time": "2023-10-27T02:47:22.128500Z"
    }
   },
   "outputs": [],
   "source": [
    "params = {\n",
    "    'max_depth' : [8,16,24],\n",
    "    'min_samples_leaf' : [1,6,12],\n",
    "    'min_samples_split' : [2,8,16]\n",
    "}"
   ]
  },
  {
   "cell_type": "code",
   "execution_count": 22,
   "id": "230f20f8",
   "metadata": {
    "ExecuteTime": {
     "end_time": "2023-10-27T02:47:53.630814Z",
     "start_time": "2023-10-27T02:47:42.288172Z"
    }
   },
   "outputs": [
    {
     "data": {
      "text/html": [
       "<style>#sk-container-id-3 {color: black;}#sk-container-id-3 pre{padding: 0;}#sk-container-id-3 div.sk-toggleable {background-color: white;}#sk-container-id-3 label.sk-toggleable__label {cursor: pointer;display: block;width: 100%;margin-bottom: 0;padding: 0.3em;box-sizing: border-box;text-align: center;}#sk-container-id-3 label.sk-toggleable__label-arrow:before {content: \"▸\";float: left;margin-right: 0.25em;color: #696969;}#sk-container-id-3 label.sk-toggleable__label-arrow:hover:before {color: black;}#sk-container-id-3 div.sk-estimator:hover label.sk-toggleable__label-arrow:before {color: black;}#sk-container-id-3 div.sk-toggleable__content {max-height: 0;max-width: 0;overflow: hidden;text-align: left;background-color: #f0f8ff;}#sk-container-id-3 div.sk-toggleable__content pre {margin: 0.2em;color: black;border-radius: 0.25em;background-color: #f0f8ff;}#sk-container-id-3 input.sk-toggleable__control:checked~div.sk-toggleable__content {max-height: 200px;max-width: 100%;overflow: auto;}#sk-container-id-3 input.sk-toggleable__control:checked~label.sk-toggleable__label-arrow:before {content: \"▾\";}#sk-container-id-3 div.sk-estimator input.sk-toggleable__control:checked~label.sk-toggleable__label {background-color: #d4ebff;}#sk-container-id-3 div.sk-label input.sk-toggleable__control:checked~label.sk-toggleable__label {background-color: #d4ebff;}#sk-container-id-3 input.sk-hidden--visually {border: 0;clip: rect(1px 1px 1px 1px);clip: rect(1px, 1px, 1px, 1px);height: 1px;margin: -1px;overflow: hidden;padding: 0;position: absolute;width: 1px;}#sk-container-id-3 div.sk-estimator {font-family: monospace;background-color: #f0f8ff;border: 1px dotted black;border-radius: 0.25em;box-sizing: border-box;margin-bottom: 0.5em;}#sk-container-id-3 div.sk-estimator:hover {background-color: #d4ebff;}#sk-container-id-3 div.sk-parallel-item::after {content: \"\";width: 100%;border-bottom: 1px solid gray;flex-grow: 1;}#sk-container-id-3 div.sk-label:hover label.sk-toggleable__label {background-color: #d4ebff;}#sk-container-id-3 div.sk-serial::before {content: \"\";position: absolute;border-left: 1px solid gray;box-sizing: border-box;top: 0;bottom: 0;left: 50%;z-index: 0;}#sk-container-id-3 div.sk-serial {display: flex;flex-direction: column;align-items: center;background-color: white;padding-right: 0.2em;padding-left: 0.2em;position: relative;}#sk-container-id-3 div.sk-item {position: relative;z-index: 1;}#sk-container-id-3 div.sk-parallel {display: flex;align-items: stretch;justify-content: center;background-color: white;position: relative;}#sk-container-id-3 div.sk-item::before, #sk-container-id-3 div.sk-parallel-item::before {content: \"\";position: absolute;border-left: 1px solid gray;box-sizing: border-box;top: 0;bottom: 0;left: 50%;z-index: -1;}#sk-container-id-3 div.sk-parallel-item {display: flex;flex-direction: column;z-index: 1;position: relative;background-color: white;}#sk-container-id-3 div.sk-parallel-item:first-child::after {align-self: flex-end;width: 50%;}#sk-container-id-3 div.sk-parallel-item:last-child::after {align-self: flex-start;width: 50%;}#sk-container-id-3 div.sk-parallel-item:only-child::after {width: 0;}#sk-container-id-3 div.sk-dashed-wrapped {border: 1px dashed gray;margin: 0 0.4em 0.5em 0.4em;box-sizing: border-box;padding-bottom: 0.4em;background-color: white;}#sk-container-id-3 div.sk-label label {font-family: monospace;font-weight: bold;display: inline-block;line-height: 1.2em;}#sk-container-id-3 div.sk-label-container {text-align: center;}#sk-container-id-3 div.sk-container {/* jupyter's `normalize.less` sets `[hidden] { display: none; }` but bootstrap.min.css set `[hidden] { display: none !important; }` so we also need the `!important` here to be able to override the default hidden behavior on the sphinx rendered scikit-learn.org. See: https://github.com/scikit-learn/scikit-learn/issues/21755 */display: inline-block !important;position: relative;}#sk-container-id-3 div.sk-text-repr-fallback {display: none;}</style><div id=\"sk-container-id-3\" class=\"sk-top-container\"><div class=\"sk-text-repr-fallback\"><pre>GridSearchCV(estimator=RandomForestClassifier(n_jobs=-1, random_state=42),\n",
       "             n_jobs=-1,\n",
       "             param_grid={&#x27;max_depth&#x27;: [8, 16, 24],\n",
       "                         &#x27;min_samples_leaf&#x27;: [1, 6, 12],\n",
       "                         &#x27;min_samples_split&#x27;: [2, 8, 16]})</pre><b>In a Jupyter environment, please rerun this cell to show the HTML representation or trust the notebook. <br />On GitHub, the HTML representation is unable to render, please try loading this page with nbviewer.org.</b></div><div class=\"sk-container\" hidden><div class=\"sk-item sk-dashed-wrapped\"><div class=\"sk-label-container\"><div class=\"sk-label sk-toggleable\"><input class=\"sk-toggleable__control sk-hidden--visually\" id=\"sk-estimator-id-3\" type=\"checkbox\" ><label for=\"sk-estimator-id-3\" class=\"sk-toggleable__label sk-toggleable__label-arrow\">GridSearchCV</label><div class=\"sk-toggleable__content\"><pre>GridSearchCV(estimator=RandomForestClassifier(n_jobs=-1, random_state=42),\n",
       "             n_jobs=-1,\n",
       "             param_grid={&#x27;max_depth&#x27;: [8, 16, 24],\n",
       "                         &#x27;min_samples_leaf&#x27;: [1, 6, 12],\n",
       "                         &#x27;min_samples_split&#x27;: [2, 8, 16]})</pre></div></div></div><div class=\"sk-parallel\"><div class=\"sk-parallel-item\"><div class=\"sk-item\"><div class=\"sk-label-container\"><div class=\"sk-label sk-toggleable\"><input class=\"sk-toggleable__control sk-hidden--visually\" id=\"sk-estimator-id-4\" type=\"checkbox\" ><label for=\"sk-estimator-id-4\" class=\"sk-toggleable__label sk-toggleable__label-arrow\">estimator: RandomForestClassifier</label><div class=\"sk-toggleable__content\"><pre>RandomForestClassifier(n_jobs=-1, random_state=42)</pre></div></div></div><div class=\"sk-serial\"><div class=\"sk-item\"><div class=\"sk-estimator sk-toggleable\"><input class=\"sk-toggleable__control sk-hidden--visually\" id=\"sk-estimator-id-5\" type=\"checkbox\" ><label for=\"sk-estimator-id-5\" class=\"sk-toggleable__label sk-toggleable__label-arrow\">RandomForestClassifier</label><div class=\"sk-toggleable__content\"><pre>RandomForestClassifier(n_jobs=-1, random_state=42)</pre></div></div></div></div></div></div></div></div></div></div>"
      ],
      "text/plain": [
       "GridSearchCV(estimator=RandomForestClassifier(n_jobs=-1, random_state=42),\n",
       "             n_jobs=-1,\n",
       "             param_grid={'max_depth': [8, 16, 24],\n",
       "                         'min_samples_leaf': [1, 6, 12],\n",
       "                         'min_samples_split': [2, 8, 16]})"
      ]
     },
     "execution_count": 22,
     "metadata": {},
     "output_type": "execute_result"
    }
   ],
   "source": [
    "from sklearn.model_selection import GridSearchCV\n",
    "gs = GridSearchCV(RandomForestClassifier(random_state = 42 , n_jobs = -1) , params , n_jobs = -1)\n",
    "gs.fit(train_input , train_target)"
   ]
  },
  {
   "cell_type": "code",
   "execution_count": 23,
   "id": "bf4c2ed7",
   "metadata": {
    "ExecuteTime": {
     "end_time": "2023-10-27T02:48:26.627704Z",
     "start_time": "2023-10-27T02:48:26.610575Z"
    }
   },
   "outputs": [
    {
     "name": "stdout",
     "output_type": "stream",
     "text": [
      "{'max_depth': 24, 'min_samples_leaf': 1, 'min_samples_split': 2}\n",
      "0.8909000888428222\n"
     ]
    }
   ],
   "source": [
    "print(gs.best_params_)\n",
    "print(gs.best_score_)"
   ]
  },
  {
   "cell_type": "code",
   "execution_count": 24,
   "id": "027d1226",
   "metadata": {
    "ExecuteTime": {
     "end_time": "2023-10-27T02:49:36.490220Z",
     "start_time": "2023-10-27T02:49:36.469821Z"
    }
   },
   "outputs": [
    {
     "data": {
      "text/plain": [
       "{'mean_fit_time': array([0.31637807, 0.49762564, 0.48652892, 0.42002258, 0.40280976,\n",
       "        0.44655704, 0.44958658, 0.47371135, 0.44021354, 0.56850357,\n",
       "        0.57852712, 0.41934438, 0.48796887, 0.42712636, 0.50755711,\n",
       "        0.46538119, 0.48225665, 0.48020735, 0.53366027, 0.60605879,\n",
       "        0.54689341, 0.53192525, 0.51488032, 0.45544939, 0.4574059 ,\n",
       "        0.42362938, 0.42697515]),\n",
       " 'std_fit_time': array([0.00904787, 0.05981696, 0.06564554, 0.07992005, 0.12008337,\n",
       "        0.05954807, 0.05583306, 0.09137177, 0.08169579, 0.12009062,\n",
       "        0.11198667, 0.05341432, 0.10829817, 0.09681555, 0.09821002,\n",
       "        0.13054783, 0.13023188, 0.11251728, 0.12121307, 0.04749016,\n",
       "        0.19318612, 0.10566838, 0.16769812, 0.1592032 , 0.10009625,\n",
       "        0.11493718, 0.10183488]),\n",
       " 'mean_score_time': array([0.03790879, 0.09263921, 0.06224122, 0.08672476, 0.05543532,\n",
       "        0.05740957, 0.07437944, 0.06155105, 0.05842071, 0.15021415,\n",
       "        0.09550033, 0.11855006, 0.11089625, 0.059163  , 0.09477935,\n",
       "        0.04043813, 0.04134898, 0.055796  , 0.07749443, 0.08935289,\n",
       "        0.08847499, 0.0824038 , 0.05447607, 0.07192955, 0.05584955,\n",
       "        0.06536555, 0.02431192]),\n",
       " 'std_score_time': array([0.00625132, 0.06780525, 0.02719607, 0.04125726, 0.01733605,\n",
       "        0.00782902, 0.01740944, 0.0395035 , 0.0197773 , 0.06459879,\n",
       "        0.04725212, 0.04593241, 0.03144559, 0.02091821, 0.05622432,\n",
       "        0.00582817, 0.00201962, 0.02117134, 0.06011262, 0.03600638,\n",
       "        0.03019805, 0.02107667, 0.01469259, 0.02032599, 0.0184624 ,\n",
       "        0.01418964, 0.00852677]),\n",
       " 'param_max_depth': masked_array(data=[8, 8, 8, 8, 8, 8, 8, 8, 8, 16, 16, 16, 16, 16, 16, 16,\n",
       "                    16, 16, 24, 24, 24, 24, 24, 24, 24, 24, 24],\n",
       "              mask=[False, False, False, False, False, False, False, False,\n",
       "                    False, False, False, False, False, False, False, False,\n",
       "                    False, False, False, False, False, False, False, False,\n",
       "                    False, False, False],\n",
       "        fill_value='?',\n",
       "             dtype=object),\n",
       " 'param_min_samples_leaf': masked_array(data=[1, 1, 1, 6, 6, 6, 12, 12, 12, 1, 1, 1, 6, 6, 6, 12, 12,\n",
       "                    12, 1, 1, 1, 6, 6, 6, 12, 12, 12],\n",
       "              mask=[False, False, False, False, False, False, False, False,\n",
       "                    False, False, False, False, False, False, False, False,\n",
       "                    False, False, False, False, False, False, False, False,\n",
       "                    False, False, False],\n",
       "        fill_value='?',\n",
       "             dtype=object),\n",
       " 'param_min_samples_split': masked_array(data=[2, 8, 16, 2, 8, 16, 2, 8, 16, 2, 8, 16, 2, 8, 16, 2, 8,\n",
       "                    16, 2, 8, 16, 2, 8, 16, 2, 8, 16],\n",
       "              mask=[False, False, False, False, False, False, False, False,\n",
       "                    False, False, False, False, False, False, False, False,\n",
       "                    False, False, False, False, False, False, False, False,\n",
       "                    False, False, False],\n",
       "        fill_value='?',\n",
       "             dtype=object),\n",
       " 'params': [{'max_depth': 8, 'min_samples_leaf': 1, 'min_samples_split': 2},\n",
       "  {'max_depth': 8, 'min_samples_leaf': 1, 'min_samples_split': 8},\n",
       "  {'max_depth': 8, 'min_samples_leaf': 1, 'min_samples_split': 16},\n",
       "  {'max_depth': 8, 'min_samples_leaf': 6, 'min_samples_split': 2},\n",
       "  {'max_depth': 8, 'min_samples_leaf': 6, 'min_samples_split': 8},\n",
       "  {'max_depth': 8, 'min_samples_leaf': 6, 'min_samples_split': 16},\n",
       "  {'max_depth': 8, 'min_samples_leaf': 12, 'min_samples_split': 2},\n",
       "  {'max_depth': 8, 'min_samples_leaf': 12, 'min_samples_split': 8},\n",
       "  {'max_depth': 8, 'min_samples_leaf': 12, 'min_samples_split': 16},\n",
       "  {'max_depth': 16, 'min_samples_leaf': 1, 'min_samples_split': 2},\n",
       "  {'max_depth': 16, 'min_samples_leaf': 1, 'min_samples_split': 8},\n",
       "  {'max_depth': 16, 'min_samples_leaf': 1, 'min_samples_split': 16},\n",
       "  {'max_depth': 16, 'min_samples_leaf': 6, 'min_samples_split': 2},\n",
       "  {'max_depth': 16, 'min_samples_leaf': 6, 'min_samples_split': 8},\n",
       "  {'max_depth': 16, 'min_samples_leaf': 6, 'min_samples_split': 16},\n",
       "  {'max_depth': 16, 'min_samples_leaf': 12, 'min_samples_split': 2},\n",
       "  {'max_depth': 16, 'min_samples_leaf': 12, 'min_samples_split': 8},\n",
       "  {'max_depth': 16, 'min_samples_leaf': 12, 'min_samples_split': 16},\n",
       "  {'max_depth': 24, 'min_samples_leaf': 1, 'min_samples_split': 2},\n",
       "  {'max_depth': 24, 'min_samples_leaf': 1, 'min_samples_split': 8},\n",
       "  {'max_depth': 24, 'min_samples_leaf': 1, 'min_samples_split': 16},\n",
       "  {'max_depth': 24, 'min_samples_leaf': 6, 'min_samples_split': 2},\n",
       "  {'max_depth': 24, 'min_samples_leaf': 6, 'min_samples_split': 8},\n",
       "  {'max_depth': 24, 'min_samples_leaf': 6, 'min_samples_split': 16},\n",
       "  {'max_depth': 24, 'min_samples_leaf': 12, 'min_samples_split': 2},\n",
       "  {'max_depth': 24, 'min_samples_leaf': 12, 'min_samples_split': 8},\n",
       "  {'max_depth': 24, 'min_samples_leaf': 12, 'min_samples_split': 16}],\n",
       " 'split0_test_score': array([0.86730769, 0.86730769, 0.86346154, 0.86057692, 0.86057692,\n",
       "        0.85480769, 0.86153846, 0.86153846, 0.86153846, 0.88173077,\n",
       "        0.87211538, 0.86730769, 0.87115385, 0.87115385, 0.8625    ,\n",
       "        0.86730769, 0.86730769, 0.86730769, 0.88365385, 0.87115385,\n",
       "        0.86538462, 0.87211538, 0.87211538, 0.86057692, 0.86730769,\n",
       "        0.86730769, 0.86730769]),\n",
       " 'split1_test_score': array([0.87307692, 0.86634615, 0.87692308, 0.86442308, 0.86442308,\n",
       "        0.87211538, 0.86826923, 0.86826923, 0.86826923, 0.88557692,\n",
       "        0.88076923, 0.87788462, 0.87596154, 0.87596154, 0.88173077,\n",
       "        0.88173077, 0.88173077, 0.88173077, 0.89038462, 0.87692308,\n",
       "        0.87884615, 0.875     , 0.875     , 0.88076923, 0.88173077,\n",
       "        0.88173077, 0.88173077]),\n",
       " 'split2_test_score': array([0.89316651, 0.88835419, 0.88931665, 0.89220404, 0.89220404,\n",
       "        0.89316651, 0.88546679, 0.88546679, 0.88546679, 0.90856593,\n",
       "        0.90182868, 0.89797883, 0.89990375, 0.89990375, 0.89509143,\n",
       "        0.89509143, 0.89509143, 0.89509143, 0.90375361, 0.89797883,\n",
       "        0.89990375, 0.89990375, 0.89990375, 0.8960539 , 0.8960539 ,\n",
       "        0.8960539 , 0.8960539 ]),\n",
       " 'split3_test_score': array([0.86429259, 0.86429259, 0.86236766, 0.85948027, 0.85948027,\n",
       "        0.85948027, 0.85851781, 0.85851781, 0.85851781, 0.89220404,\n",
       "        0.87872955, 0.86814244, 0.86429259, 0.86429259, 0.86044273,\n",
       "        0.85563041, 0.85563041, 0.85563041, 0.88931665, 0.87872955,\n",
       "        0.86910491, 0.86236766, 0.86236766, 0.8614052 , 0.85563041,\n",
       "        0.85563041, 0.85563041]),\n",
       " 'split4_test_score': array([0.88065448, 0.88161694, 0.87872955, 0.88354187, 0.88354187,\n",
       "        0.88065448, 0.87584216, 0.87584216, 0.87584216, 0.88546679,\n",
       "        0.88450433, 0.88450433, 0.88354187, 0.88354187, 0.88546679,\n",
       "        0.87969201, 0.87969201, 0.87969201, 0.88739172, 0.88065448,\n",
       "        0.88546679, 0.88354187, 0.88354187, 0.88450433, 0.87969201,\n",
       "        0.87969201, 0.87969201]),\n",
       " 'mean_test_score': array([0.87569964, 0.87358351, 0.87415969, 0.87204524, 0.87204524,\n",
       "        0.87204487, 0.86992689, 0.86992689, 0.86992689, 0.89070889,\n",
       "        0.88358944, 0.87916358, 0.87897072, 0.87897072, 0.87704635,\n",
       "        0.87589046, 0.87589046, 0.87589046, 0.89090009, 0.88108795,\n",
       "        0.87974125, 0.87858573, 0.87858573, 0.87666192, 0.87608296,\n",
       "        0.87608296, 0.87608296]),\n",
       " 'std_test_score': array([0.01036403, 0.00959995, 0.01011687, 0.01331201, 0.01331201,\n",
       "        0.01396598, 0.00979551, 0.00979551, 0.00979551, 0.00954497,\n",
       "        0.00996728, 0.01136838, 0.01220404, 0.01220404, 0.01345919,\n",
       "        0.01342663, 0.01342663, 0.01342663, 0.00682353, 0.00902313,\n",
       "        0.01232359, 0.01262355, 0.01262355, 0.0137544 , 0.01370455,\n",
       "        0.01370455, 0.01370455]),\n",
       " 'rank_test_score': array([19, 21, 20, 22, 22, 24, 25, 25, 25,  2,  3,  6,  7,  7, 11, 16, 16,\n",
       "        16,  1,  4,  5,  9,  9, 12, 13, 13, 13])}"
      ]
     },
     "execution_count": 24,
     "metadata": {},
     "output_type": "execute_result"
    }
   ],
   "source": [
    "gs.cv_results_"
   ]
  },
  {
   "cell_type": "markdown",
   "id": "ee9cef30",
   "metadata": {},
   "source": [
    "## 보팅(Voting Classifier)\n",
    "- 서로 다른 알고리즘을 병렬로 학습시켜 최적의 값을 도출"
   ]
  },
  {
   "cell_type": "code",
   "execution_count": 26,
   "id": "693901cc",
   "metadata": {
    "ExecuteTime": {
     "end_time": "2023-10-27T03:02:00.297462Z",
     "start_time": "2023-10-27T03:02:00.293060Z"
    }
   },
   "outputs": [],
   "source": [
    "from sklearn.ensemble import VotingClassifier\n",
    "from sklearn.neighbors import KNeighborsClassifier\n",
    "from sklearn.linear_model import LogisticRegression , LinearRegression , Ridge , Lasso"
   ]
  },
  {
   "cell_type": "code",
   "execution_count": 36,
   "id": "d4906416",
   "metadata": {
    "ExecuteTime": {
     "end_time": "2023-10-27T03:09:43.182149Z",
     "start_time": "2023-10-27T03:09:43.125302Z"
    }
   },
   "outputs": [
    {
     "name": "stdout",
     "output_type": "stream",
     "text": [
      "voting 분류기 정확도 :  0.8630769230769231\n",
      "LogisticRegression의 정확도 : 0.7753846153846153\n",
      "KNeighborsClassifier의 정확도 : 0.8553846153846154\n"
     ]
    }
   ],
   "source": [
    "lr = LogisticRegression()\n",
    "knn = KNeighborsClassifier()\n",
    "\n",
    "#소프트 보팅\n",
    "\n",
    "vo = VotingClassifier(estimators = [('LR' , lr),('Knn' , knn)] , voting = 'soft')\n",
    "\n",
    "#학습\n",
    "\n",
    "vo.fit(train_input , train_target)\n",
    "\n",
    "#예측\n",
    "\n",
    "pred = vo.predict(test_input)\n",
    "\n",
    "#정확도\n",
    "\n",
    "accuracy = accuracy_score(test_target , pred)\n",
    "\n",
    "print('voting 분류기 정확도 : ' , accuracy)\n",
    "\n",
    "models = [lr,knn]\n",
    "for i in models:\n",
    "    i.fit(train_input , train_target)\n",
    "    pred = i.predict(test_input)\n",
    "    model_name = i.__class__.__name__\n",
    "    score = accuracy_score(test_target , pred)\n",
    "    print(f'{model_name}의 정확도 : {score}')"
   ]
  }
 ],
 "metadata": {
  "kernelspec": {
   "display_name": "Python 3 (ipykernel)",
   "language": "python",
   "name": "python3"
  },
  "language_info": {
   "codemirror_mode": {
    "name": "ipython",
    "version": 3
   },
   "file_extension": ".py",
   "mimetype": "text/x-python",
   "name": "python",
   "nbconvert_exporter": "python",
   "pygments_lexer": "ipython3",
   "version": "3.8.17"
  },
  "toc": {
   "base_numbering": 1,
   "nav_menu": {},
   "number_sections": true,
   "sideBar": true,
   "skip_h1_title": false,
   "title_cell": "Table of Contents",
   "title_sidebar": "Contents",
   "toc_cell": false,
   "toc_position": {},
   "toc_section_display": true,
   "toc_window_display": false
  }
 },
 "nbformat": 4,
 "nbformat_minor": 5
}
