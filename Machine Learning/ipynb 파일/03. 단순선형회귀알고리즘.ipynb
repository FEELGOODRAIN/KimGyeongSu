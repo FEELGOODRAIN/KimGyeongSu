{
 "cells": [
  {
   "cell_type": "code",
   "execution_count": 1,
   "id": "a1d90616",
   "metadata": {
    "ExecuteTime": {
     "end_time": "2023-11-08T00:17:18.951202Z",
     "start_time": "2023-11-08T00:17:17.123422Z"
    }
   },
   "outputs": [],
   "source": [
    "import numpy as np\n",
    "import pandas as pd\n",
    "import matplotlib as mpl\n",
    "import matplotlib.pyplot as plt\n",
    "import mglearn\n",
    "%matplotlib inline\n",
    "import seaborn as sns\n",
    "import platform\n",
    "from matplotlib import font_manager , rc\n",
    "\n",
    "if platform.system() == 'Darwin':\n",
    "  rc('font' , family = 'AppleGothic')\n",
    "elif platform.system() == 'Windows':\n",
    "  path = 'C:/Windows/Fonts/malgun.ttf'\n",
    "  font_name = font_manager.FontProperties(fname = path).get_name()\n",
    "  rc('font' , family = font_name)\n",
    "else:\n",
    "  print('모름')\n",
    "plt.rcParams['axes.unicode_minus'] = False\n",
    "import warnings\n",
    "warnings.filterwarnings('ignore')"
   ]
  },
  {
   "cell_type": "code",
   "execution_count": 2,
   "id": "3f7f02f9",
   "metadata": {
    "ExecuteTime": {
     "end_time": "2023-11-08T00:17:18.966820Z",
     "start_time": "2023-11-08T00:17:18.953247Z"
    }
   },
   "outputs": [],
   "source": [
    "perch_length = np.array(\n",
    "    [8.4, 13.7, 15.0, 16.2, 17.4, 18.0, 18.7, 19.0, 19.6, 20.0,\n",
    "     21.0, 21.0, 21.0, 21.3, 22.0, 22.0, 22.0, 22.0, 22.0, 22.5,\n",
    "     22.5, 22.7, 23.0, 23.5, 24.0, 24.0, 24.6, 25.0, 25.6, 26.5,\n",
    "     27.3, 27.5, 27.5, 27.5, 28.0, 28.7, 30.0, 32.8, 34.5, 35.0,\n",
    "     36.5, 36.0, 37.0, 37.0, 39.0, 39.0, 39.0, 40.0, 40.0, 40.0,\n",
    "     40.0, 42.0, 43.0, 43.0, 43.5, 44.0]\n",
    "     )\n",
    "perch_weight = np.array(\n",
    "    [5.9, 32.0, 40.0, 51.5, 70.0, 100.0, 78.0, 80.0, 85.0, 85.0,\n",
    "     110.0, 115.0, 125.0, 130.0, 120.0, 120.0, 130.0, 135.0, 110.0,\n",
    "     130.0, 150.0, 145.0, 150.0, 170.0, 225.0, 145.0, 188.0, 180.0,\n",
    "     197.0, 218.0, 300.0, 260.0, 265.0, 250.0, 250.0, 300.0, 320.0,\n",
    "     514.0, 556.0, 840.0, 685.0, 700.0, 700.0, 690.0, 900.0, 650.0,\n",
    "     820.0, 850.0, 900.0, 1015.0, 820.0, 1100.0, 1000.0, 1100.0,\n",
    "     1000.0, 1000.0]\n",
    "     )"
   ]
  },
  {
   "cell_type": "code",
   "execution_count": 3,
   "id": "2f38c101",
   "metadata": {
    "ExecuteTime": {
     "end_time": "2023-11-08T00:17:18.982944Z",
     "start_time": "2023-11-08T00:17:18.968803Z"
    }
   },
   "outputs": [],
   "source": [
    "from sklearn.model_selection import train_test_split\n",
    "train_input , test_input , train_target , test_target = train_test_split(perch_length , perch_weight , random_state = 42)\n",
    "\n",
    "train_input = train_input.reshape(-1,1)\n",
    "test_input = test_input.reshape(-1,1)"
   ]
  },
  {
   "cell_type": "code",
   "execution_count": 4,
   "id": "42488858",
   "metadata": {
    "ExecuteTime": {
     "end_time": "2023-11-08T00:17:18.998173Z",
     "start_time": "2023-11-08T00:17:18.985326Z"
    }
   },
   "outputs": [],
   "source": [
    "from sklearn.linear_model import LinearRegression\n",
    "lr = LinearRegression()"
   ]
  },
  {
   "cell_type": "code",
   "execution_count": 5,
   "id": "7c76c88d",
   "metadata": {
    "ExecuteTime": {
     "end_time": "2023-11-08T00:17:19.029022Z",
     "start_time": "2023-11-08T00:17:18.999624Z"
    }
   },
   "outputs": [
    {
     "data": {
      "text/html": [
       "<style>#sk-container-id-1 {color: black;}#sk-container-id-1 pre{padding: 0;}#sk-container-id-1 div.sk-toggleable {background-color: white;}#sk-container-id-1 label.sk-toggleable__label {cursor: pointer;display: block;width: 100%;margin-bottom: 0;padding: 0.3em;box-sizing: border-box;text-align: center;}#sk-container-id-1 label.sk-toggleable__label-arrow:before {content: \"▸\";float: left;margin-right: 0.25em;color: #696969;}#sk-container-id-1 label.sk-toggleable__label-arrow:hover:before {color: black;}#sk-container-id-1 div.sk-estimator:hover label.sk-toggleable__label-arrow:before {color: black;}#sk-container-id-1 div.sk-toggleable__content {max-height: 0;max-width: 0;overflow: hidden;text-align: left;background-color: #f0f8ff;}#sk-container-id-1 div.sk-toggleable__content pre {margin: 0.2em;color: black;border-radius: 0.25em;background-color: #f0f8ff;}#sk-container-id-1 input.sk-toggleable__control:checked~div.sk-toggleable__content {max-height: 200px;max-width: 100%;overflow: auto;}#sk-container-id-1 input.sk-toggleable__control:checked~label.sk-toggleable__label-arrow:before {content: \"▾\";}#sk-container-id-1 div.sk-estimator input.sk-toggleable__control:checked~label.sk-toggleable__label {background-color: #d4ebff;}#sk-container-id-1 div.sk-label input.sk-toggleable__control:checked~label.sk-toggleable__label {background-color: #d4ebff;}#sk-container-id-1 input.sk-hidden--visually {border: 0;clip: rect(1px 1px 1px 1px);clip: rect(1px, 1px, 1px, 1px);height: 1px;margin: -1px;overflow: hidden;padding: 0;position: absolute;width: 1px;}#sk-container-id-1 div.sk-estimator {font-family: monospace;background-color: #f0f8ff;border: 1px dotted black;border-radius: 0.25em;box-sizing: border-box;margin-bottom: 0.5em;}#sk-container-id-1 div.sk-estimator:hover {background-color: #d4ebff;}#sk-container-id-1 div.sk-parallel-item::after {content: \"\";width: 100%;border-bottom: 1px solid gray;flex-grow: 1;}#sk-container-id-1 div.sk-label:hover label.sk-toggleable__label {background-color: #d4ebff;}#sk-container-id-1 div.sk-serial::before {content: \"\";position: absolute;border-left: 1px solid gray;box-sizing: border-box;top: 0;bottom: 0;left: 50%;z-index: 0;}#sk-container-id-1 div.sk-serial {display: flex;flex-direction: column;align-items: center;background-color: white;padding-right: 0.2em;padding-left: 0.2em;position: relative;}#sk-container-id-1 div.sk-item {position: relative;z-index: 1;}#sk-container-id-1 div.sk-parallel {display: flex;align-items: stretch;justify-content: center;background-color: white;position: relative;}#sk-container-id-1 div.sk-item::before, #sk-container-id-1 div.sk-parallel-item::before {content: \"\";position: absolute;border-left: 1px solid gray;box-sizing: border-box;top: 0;bottom: 0;left: 50%;z-index: -1;}#sk-container-id-1 div.sk-parallel-item {display: flex;flex-direction: column;z-index: 1;position: relative;background-color: white;}#sk-container-id-1 div.sk-parallel-item:first-child::after {align-self: flex-end;width: 50%;}#sk-container-id-1 div.sk-parallel-item:last-child::after {align-self: flex-start;width: 50%;}#sk-container-id-1 div.sk-parallel-item:only-child::after {width: 0;}#sk-container-id-1 div.sk-dashed-wrapped {border: 1px dashed gray;margin: 0 0.4em 0.5em 0.4em;box-sizing: border-box;padding-bottom: 0.4em;background-color: white;}#sk-container-id-1 div.sk-label label {font-family: monospace;font-weight: bold;display: inline-block;line-height: 1.2em;}#sk-container-id-1 div.sk-label-container {text-align: center;}#sk-container-id-1 div.sk-container {/* jupyter's `normalize.less` sets `[hidden] { display: none; }` but bootstrap.min.css set `[hidden] { display: none !important; }` so we also need the `!important` here to be able to override the default hidden behavior on the sphinx rendered scikit-learn.org. See: https://github.com/scikit-learn/scikit-learn/issues/21755 */display: inline-block !important;position: relative;}#sk-container-id-1 div.sk-text-repr-fallback {display: none;}</style><div id=\"sk-container-id-1\" class=\"sk-top-container\"><div class=\"sk-text-repr-fallback\"><pre>LinearRegression()</pre><b>In a Jupyter environment, please rerun this cell to show the HTML representation or trust the notebook. <br />On GitHub, the HTML representation is unable to render, please try loading this page with nbviewer.org.</b></div><div class=\"sk-container\" hidden><div class=\"sk-item\"><div class=\"sk-estimator sk-toggleable\"><input class=\"sk-toggleable__control sk-hidden--visually\" id=\"sk-estimator-id-1\" type=\"checkbox\" checked><label for=\"sk-estimator-id-1\" class=\"sk-toggleable__label sk-toggleable__label-arrow\">LinearRegression</label><div class=\"sk-toggleable__content\"><pre>LinearRegression()</pre></div></div></div></div></div>"
      ],
      "text/plain": [
       "LinearRegression()"
      ]
     },
     "execution_count": 5,
     "metadata": {},
     "output_type": "execute_result"
    }
   ],
   "source": [
    "lr.fit(train_input , train_target)"
   ]
  },
  {
   "cell_type": "code",
   "execution_count": 6,
   "id": "1398fdfb",
   "metadata": {
    "ExecuteTime": {
     "end_time": "2023-11-08T00:17:19.044608Z",
     "start_time": "2023-11-08T00:17:19.030485Z"
    }
   },
   "outputs": [
    {
     "data": {
      "text/plain": [
       "array([1241.83860323])"
      ]
     },
     "execution_count": 6,
     "metadata": {},
     "output_type": "execute_result"
    }
   ],
   "source": [
    "lr.predict([[50]])"
   ]
  },
  {
   "cell_type": "code",
   "execution_count": 7,
   "id": "b5aa9a09",
   "metadata": {
    "ExecuteTime": {
     "end_time": "2023-11-08T00:17:19.059685Z",
     "start_time": "2023-11-08T00:17:19.046625Z"
    }
   },
   "outputs": [
    {
     "name": "stdout",
     "output_type": "stream",
     "text": [
      "[39.01714496] -709.0186449535477\n"
     ]
    }
   ],
   "source": [
    "print(lr.coef_ , lr.intercept_)"
   ]
  },
  {
   "cell_type": "code",
   "execution_count": 8,
   "id": "d5c96868",
   "metadata": {
    "ExecuteTime": {
     "end_time": "2023-11-08T00:17:19.075185Z",
     "start_time": "2023-11-08T00:17:19.061178Z"
    }
   },
   "outputs": [
    {
     "name": "stdout",
     "output_type": "stream",
     "text": [
      "0.9398463339976041\n",
      "0.8247503123313559\n"
     ]
    }
   ],
   "source": [
    "print(lr.score(train_input , train_target))\n",
    "print(lr.score(test_input , test_target))"
   ]
  },
  {
   "cell_type": "code",
   "execution_count": 9,
   "id": "d14d5d11",
   "metadata": {
    "ExecuteTime": {
     "end_time": "2023-11-08T00:17:19.246160Z",
     "start_time": "2023-11-08T00:17:19.078270Z"
    }
   },
   "outputs": [
    {
     "data": {
      "image/png": "[encoded data removed]",
      "text/plain": [
       "<Figure size 640x480 with 1 Axes>"
      ]
     },
     "metadata": {},
     "output_type": "display_data"
    }
   ],
   "source": [
    "plt.scatter(train_input , train_target)\n",
    "plt.scatter(50,lr.predict([[50]]) , marker = '^')\n",
    "plt.plot(np.arange(train_input.min(),50) , np.arange(train_input.min(),50)*lr.coef_ + lr.intercept_)\n",
    "plt.show()"
   ]
  },
  {
   "cell_type": "markdown",
   "id": "22884efa",
   "metadata": {},
   "source": [
    "- 2차방정식으로 표기"
   ]
  },
  {
   "cell_type": "code",
   "execution_count": 10,
   "id": "6b3b5f8c",
   "metadata": {
    "ExecuteTime": {
     "end_time": "2023-11-08T00:17:19.261349Z",
     "start_time": "2023-11-08T00:17:19.249668Z"
    }
   },
   "outputs": [],
   "source": [
    "train_poly = np.column_stack([train_input**2 , train_input])"
   ]
  },
  {
   "cell_type": "code",
   "execution_count": 11,
   "id": "f91e7f36",
   "metadata": {
    "ExecuteTime": {
     "end_time": "2023-11-08T00:17:19.277428Z",
     "start_time": "2023-11-08T00:17:19.263532Z"
    }
   },
   "outputs": [],
   "source": [
    "test_poly = np.column_stack([test_input**2 , test_input])"
   ]
  },
  {
   "cell_type": "code",
   "execution_count": 12,
   "id": "cc3748c9",
   "metadata": {
    "ExecuteTime": {
     "end_time": "2023-11-08T00:17:19.293439Z",
     "start_time": "2023-11-08T00:17:19.279414Z"
    }
   },
   "outputs": [
    {
     "data": {
      "text/html": [
       "<style>#sk-container-id-2 {color: black;}#sk-container-id-2 pre{padding: 0;}#sk-container-id-2 div.sk-toggleable {background-color: white;}#sk-container-id-2 label.sk-toggleable__label {cursor: pointer;display: block;width: 100%;margin-bottom: 0;padding: 0.3em;box-sizing: border-box;text-align: center;}#sk-container-id-2 label.sk-toggleable__label-arrow:before {content: \"▸\";float: left;margin-right: 0.25em;color: #696969;}#sk-container-id-2 label.sk-toggleable__label-arrow:hover:before {color: black;}#sk-container-id-2 div.sk-estimator:hover label.sk-toggleable__label-arrow:before {color: black;}#sk-container-id-2 div.sk-toggleable__content {max-height: 0;max-width: 0;overflow: hidden;text-align: left;background-color: #f0f8ff;}#sk-container-id-2 div.sk-toggleable__content pre {margin: 0.2em;color: black;border-radius: 0.25em;background-color: #f0f8ff;}#sk-container-id-2 input.sk-toggleable__control:checked~div.sk-toggleable__content {max-height: 200px;max-width: 100%;overflow: auto;}#sk-container-id-2 input.sk-toggleable__control:checked~label.sk-toggleable__label-arrow:before {content: \"▾\";}#sk-container-id-2 div.sk-estimator input.sk-toggleable__control:checked~label.sk-toggleable__label {background-color: #d4ebff;}#sk-container-id-2 div.sk-label input.sk-toggleable__control:checked~label.sk-toggleable__label {background-color: #d4ebff;}#sk-container-id-2 input.sk-hidden--visually {border: 0;clip: rect(1px 1px 1px 1px);clip: rect(1px, 1px, 1px, 1px);height: 1px;margin: -1px;overflow: hidden;padding: 0;position: absolute;width: 1px;}#sk-container-id-2 div.sk-estimator {font-family: monospace;background-color: #f0f8ff;border: 1px dotted black;border-radius: 0.25em;box-sizing: border-box;margin-bottom: 0.5em;}#sk-container-id-2 div.sk-estimator:hover {background-color: #d4ebff;}#sk-container-id-2 div.sk-parallel-item::after {content: \"\";width: 100%;border-bottom: 1px solid gray;flex-grow: 1;}#sk-container-id-2 div.sk-label:hover label.sk-toggleable__label {background-color: #d4ebff;}#sk-container-id-2 div.sk-serial::before {content: \"\";position: absolute;border-left: 1px solid gray;box-sizing: border-box;top: 0;bottom: 0;left: 50%;z-index: 0;}#sk-container-id-2 div.sk-serial {display: flex;flex-direction: column;align-items: center;background-color: white;padding-right: 0.2em;padding-left: 0.2em;position: relative;}#sk-container-id-2 div.sk-item {position: relative;z-index: 1;}#sk-container-id-2 div.sk-parallel {display: flex;align-items: stretch;justify-content: center;background-color: white;position: relative;}#sk-container-id-2 div.sk-item::before, #sk-container-id-2 div.sk-parallel-item::before {content: \"\";position: absolute;border-left: 1px solid gray;box-sizing: border-box;top: 0;bottom: 0;left: 50%;z-index: -1;}#sk-container-id-2 div.sk-parallel-item {display: flex;flex-direction: column;z-index: 1;position: relative;background-color: white;}#sk-container-id-2 div.sk-parallel-item:first-child::after {align-self: flex-end;width: 50%;}#sk-container-id-2 div.sk-parallel-item:last-child::after {align-self: flex-start;width: 50%;}#sk-container-id-2 div.sk-parallel-item:only-child::after {width: 0;}#sk-container-id-2 div.sk-dashed-wrapped {border: 1px dashed gray;margin: 0 0.4em 0.5em 0.4em;box-sizing: border-box;padding-bottom: 0.4em;background-color: white;}#sk-container-id-2 div.sk-label label {font-family: monospace;font-weight: bold;display: inline-block;line-height: 1.2em;}#sk-container-id-2 div.sk-label-container {text-align: center;}#sk-container-id-2 div.sk-container {/* jupyter's `normalize.less` sets `[hidden] { display: none; }` but bootstrap.min.css set `[hidden] { display: none !important; }` so we also need the `!important` here to be able to override the default hidden behavior on the sphinx rendered scikit-learn.org. See: https://github.com/scikit-learn/scikit-learn/issues/21755 */display: inline-block !important;position: relative;}#sk-container-id-2 div.sk-text-repr-fallback {display: none;}</style><div id=\"sk-container-id-2\" class=\"sk-top-container\"><div class=\"sk-text-repr-fallback\"><pre>LinearRegression()</pre><b>In a Jupyter environment, please rerun this cell to show the HTML representation or trust the notebook. <br />On GitHub, the HTML representation is unable to render, please try loading this page with nbviewer.org.</b></div><div class=\"sk-container\" hidden><div class=\"sk-item\"><div class=\"sk-estimator sk-toggleable\"><input class=\"sk-toggleable__control sk-hidden--visually\" id=\"sk-estimator-id-2\" type=\"checkbox\" checked><label for=\"sk-estimator-id-2\" class=\"sk-toggleable__label sk-toggleable__label-arrow\">LinearRegression</label><div class=\"sk-toggleable__content\"><pre>LinearRegression()</pre></div></div></div></div></div>"
      ],
      "text/plain": [
       "LinearRegression()"
      ]
     },
     "execution_count": 12,
     "metadata": {},
     "output_type": "execute_result"
    }
   ],
   "source": [
    "lr = LinearRegression()\n",
    "lr.fit(train_poly , train_target)"
   ]
  },
  {
   "cell_type": "code",
   "execution_count": 13,
   "id": "a7db057a",
   "metadata": {
    "ExecuteTime": {
     "end_time": "2023-11-08T00:17:19.309085Z",
     "start_time": "2023-11-08T00:17:19.295439Z"
    }
   },
   "outputs": [
    {
     "data": {
      "text/plain": [
       "array([1573.98423528])"
      ]
     },
     "execution_count": 13,
     "metadata": {},
     "output_type": "execute_result"
    }
   ],
   "source": [
    "lr.predict([[2500,50]])"
   ]
  },
  {
   "cell_type": "code",
   "execution_count": 14,
   "id": "e22f797e",
   "metadata": {
    "ExecuteTime": {
     "end_time": "2023-11-08T00:17:19.340425Z",
     "start_time": "2023-11-08T00:17:19.311610Z"
    }
   },
   "outputs": [
    {
     "data": {
      "text/plain": [
       "0.9706807451768623"
      ]
     },
     "execution_count": 14,
     "metadata": {},
     "output_type": "execute_result"
    }
   ],
   "source": [
    "lr.score(train_poly , train_target)"
   ]
  },
  {
   "cell_type": "code",
   "execution_count": 15,
   "id": "31b9c1b3",
   "metadata": {
    "ExecuteTime": {
     "end_time": "2023-11-08T00:17:19.356020Z",
     "start_time": "2023-11-08T00:17:19.343970Z"
    }
   },
   "outputs": [
    {
     "data": {
      "text/plain": [
       "0.9775935108325121"
      ]
     },
     "execution_count": 15,
     "metadata": {},
     "output_type": "execute_result"
    }
   ],
   "source": [
    "lr.score(test_poly , test_target)"
   ]
  },
  {
   "cell_type": "code",
   "execution_count": 16,
   "id": "81d10e78",
   "metadata": {
    "ExecuteTime": {
     "end_time": "2023-11-08T00:17:19.371989Z",
     "start_time": "2023-11-08T00:17:19.357033Z"
    }
   },
   "outputs": [
    {
     "name": "stdout",
     "output_type": "stream",
     "text": [
      "[  1.01433211 -21.55792498] 116.05021078278259\n"
     ]
    }
   ],
   "source": [
    "print(lr.coef_ , lr.intercept_)"
   ]
  },
  {
   "cell_type": "code",
   "execution_count": 17,
   "id": "0bae9497",
   "metadata": {
    "ExecuteTime": {
     "end_time": "2023-11-08T00:17:19.513074Z",
     "start_time": "2023-11-08T00:17:19.373974Z"
    },
    "scrolled": false
   },
   "outputs": [
    {
     "data": {
      "image/png": "[encoded data removed]",
      "text/plain": [
       "<Figure size 640x480 with 1 Axes>"
      ]
     },
     "metadata": {},
     "output_type": "display_data"
    }
   ],
   "source": [
    "plt.scatter(train_input , train_target)\n",
    "plt.scatter(50,lr.predict([[2500,50]]) , marker = '^')\n",
    "plt.plot(np.arange(train_input.min(),50) , (np.arange(train_input.min(),50)**2)*lr.coef_[0] + np.arange(train_input.min(),50)*lr.coef_[1] + lr.intercept_)\n",
    "plt.show()"
   ]
  },
  {
   "cell_type": "markdown",
   "id": "427c436d",
   "metadata": {},
   "source": [
    "# 특성공학\n",
    " - 기존의 특성을 사용해 새로운 특성을 뽑아내는 것\n",
    " - transform 메소드 사용"
   ]
  },
  {
   "cell_type": "markdown",
   "id": "09f6468f",
   "metadata": {},
   "source": [
    "https://bit.ly/perch_csv"
   ]
  },
  {
   "cell_type": "code",
   "execution_count": 18,
   "id": "157049c0",
   "metadata": {
    "ExecuteTime": {
     "end_time": "2023-11-08T00:17:20.138017Z",
     "start_time": "2023-11-08T00:17:19.514147Z"
    }
   },
   "outputs": [],
   "source": [
    "df = pd.read_csv('https://bit.ly/perch_csv')"
   ]
  },
  {
   "cell_type": "code",
   "execution_count": 19,
   "id": "d2ff4510",
   "metadata": {
    "ExecuteTime": {
     "end_time": "2023-11-08T00:17:20.153506Z",
     "start_time": "2023-11-08T00:17:20.141462Z"
    }
   },
   "outputs": [],
   "source": [
    "raw = df.to_numpy()"
   ]
  },
  {
   "cell_type": "markdown",
   "id": "db5ad5d7",
   "metadata": {},
   "source": [
    "- 생선의 길이 , 높이 , 두께"
   ]
  },
  {
   "cell_type": "code",
   "execution_count": 20,
   "id": "25eb20ac",
   "metadata": {
    "ExecuteTime": {
     "end_time": "2023-11-08T00:17:20.169077Z",
     "start_time": "2023-11-08T00:17:20.155376Z"
    }
   },
   "outputs": [],
   "source": [
    "weight = np.array([5.9, 32.0, 40.0, 51.5, 70.0, 100.0, 78.0, 80.0, 85.0, 85.0, 110.0,\n",
    "       115.0, 125.0, 130.0, 120.0, 120.0, 130.0, 135.0, 110.0, 130.0,\n",
    "       150.0, 145.0, 150.0, 170.0, 225.0, 145.0, 188.0, 180.0, 197.0,\n",
    "       218.0, 300.0, 260.0, 265.0, 250.0, 250.0, 300.0, 320.0, 514.0,\n",
    "       556.0, 840.0, 685.0, 700.0, 700.0, 690.0, 900.0, 650.0, 820.0,\n",
    "       850.0, 900.0, 1015.0, 820.0, 1100.0, 1000.0, 1100.0, 1000.0, 1000.0])"
   ]
  },
  {
   "cell_type": "code",
   "execution_count": 21,
   "id": "5d780531",
   "metadata": {
    "ExecuteTime": {
     "end_time": "2023-11-08T00:17:20.184779Z",
     "start_time": "2023-11-08T00:17:20.171383Z"
    }
   },
   "outputs": [
    {
     "data": {
      "text/plain": [
       "56"
      ]
     },
     "execution_count": 21,
     "metadata": {},
     "output_type": "execute_result"
    }
   ],
   "source": [
    "len(raw)"
   ]
  },
  {
   "cell_type": "code",
   "execution_count": 22,
   "id": "1730a411",
   "metadata": {
    "ExecuteTime": {
     "end_time": "2023-11-08T00:17:20.200297Z",
     "start_time": "2023-11-08T00:17:20.186119Z"
    }
   },
   "outputs": [
    {
     "data": {
      "text/plain": [
       "56"
      ]
     },
     "execution_count": 22,
     "metadata": {},
     "output_type": "execute_result"
    }
   ],
   "source": [
    "len(weight)"
   ]
  },
  {
   "cell_type": "code",
   "execution_count": 23,
   "id": "5aa07377",
   "metadata": {
    "ExecuteTime": {
     "end_time": "2023-11-08T00:17:20.216271Z",
     "start_time": "2023-11-08T00:17:20.201810Z"
    }
   },
   "outputs": [],
   "source": [
    "from sklearn.model_selection import train_test_split"
   ]
  },
  {
   "cell_type": "code",
   "execution_count": 24,
   "id": "1088d3cd",
   "metadata": {
    "ExecuteTime": {
     "end_time": "2023-11-08T00:17:20.231906Z",
     "start_time": "2023-11-08T00:17:20.218832Z"
    }
   },
   "outputs": [],
   "source": [
    "train_input , test_input , train_target , test_target = train_test_split(raw , weight , random_state = 42)"
   ]
  },
  {
   "cell_type": "code",
   "execution_count": 25,
   "id": "a893ece8",
   "metadata": {
    "ExecuteTime": {
     "end_time": "2023-11-08T00:17:20.247736Z",
     "start_time": "2023-11-08T00:17:20.234302Z"
    }
   },
   "outputs": [],
   "source": [
    "from sklearn.preprocessing import PolynomialFeatures as PF"
   ]
  },
  {
   "cell_type": "code",
   "execution_count": 26,
   "id": "7fe989a5",
   "metadata": {
    "ExecuteTime": {
     "end_time": "2023-11-08T00:17:20.263888Z",
     "start_time": "2023-11-08T00:17:20.249319Z"
    }
   },
   "outputs": [
    {
     "data": {
      "text/plain": [
       "array([[1., 2., 3., 4., 6., 9.]])"
      ]
     },
     "execution_count": 26,
     "metadata": {},
     "output_type": "execute_result"
    }
   ],
   "source": [
    "poly = PF()\n",
    "poly.fit_transform([[2,3]])"
   ]
  },
  {
   "cell_type": "markdown",
   "id": "d6cd883a",
   "metadata": {},
   "source": [
    "### 1 제거"
   ]
  },
  {
   "cell_type": "code",
   "execution_count": 27,
   "id": "4d31303b",
   "metadata": {
    "ExecuteTime": {
     "end_time": "2023-11-08T00:17:20.279537Z",
     "start_time": "2023-11-08T00:17:20.266083Z"
    }
   },
   "outputs": [
    {
     "data": {
      "text/plain": [
       "array([[2., 3., 4., 6., 9.]])"
      ]
     },
     "execution_count": 27,
     "metadata": {},
     "output_type": "execute_result"
    }
   ],
   "source": [
    "poly = PF(include_bias = False)\n",
    "poly.fit_transform([[2,3]])"
   ]
  },
  {
   "cell_type": "code",
   "execution_count": 28,
   "id": "dd3be793",
   "metadata": {
    "ExecuteTime": {
     "end_time": "2023-11-08T00:17:20.294994Z",
     "start_time": "2023-11-08T00:17:20.284984Z"
    }
   },
   "outputs": [
    {
     "data": {
      "text/plain": [
       "(42, 3)"
      ]
     },
     "execution_count": 28,
     "metadata": {},
     "output_type": "execute_result"
    }
   ],
   "source": [
    "train_input.shape"
   ]
  },
  {
   "cell_type": "code",
   "execution_count": 29,
   "id": "bd93c368",
   "metadata": {
    "ExecuteTime": {
     "end_time": "2023-11-08T00:17:20.311235Z",
     "start_time": "2023-11-08T00:17:20.296993Z"
    }
   },
   "outputs": [],
   "source": [
    "from sklearn.preprocessing import PolynomialFeatures\n",
    "poly = PolynomialFeatures(include_bias = False)\n",
    "train_poly = poly.fit_transform(train_input)\n",
    "test_poly = poly.transform(test_input)"
   ]
  },
  {
   "cell_type": "code",
   "execution_count": 30,
   "id": "f083dce1",
   "metadata": {
    "ExecuteTime": {
     "end_time": "2023-11-08T00:17:20.326469Z",
     "start_time": "2023-11-08T00:17:20.313353Z"
    }
   },
   "outputs": [
    {
     "data": {
      "text/plain": [
       "(42, 9)"
      ]
     },
     "execution_count": 30,
     "metadata": {},
     "output_type": "execute_result"
    }
   ],
   "source": [
    "train_poly.shape"
   ]
  },
  {
   "cell_type": "markdown",
   "id": "e327470a",
   "metadata": {
    "ExecuteTime": {
     "end_time": "2023-10-24T05:38:16.212076Z",
     "start_time": "2023-10-24T05:38:16.195157Z"
    }
   },
   "source": [
    "### 특성공학의 과정을 확인할 수 있음"
   ]
  },
  {
   "cell_type": "code",
   "execution_count": 31,
   "id": "6869fb52",
   "metadata": {
    "ExecuteTime": {
     "end_time": "2023-11-08T00:17:20.341629Z",
     "start_time": "2023-11-08T00:17:20.327522Z"
    }
   },
   "outputs": [
    {
     "data": {
      "text/plain": [
       "array(['x0', 'x1', 'x2', 'x0^2', 'x0 x1', 'x0 x2', 'x1^2', 'x1 x2',\n",
       "       'x2^2'], dtype=object)"
      ]
     },
     "execution_count": 31,
     "metadata": {},
     "output_type": "execute_result"
    }
   ],
   "source": [
    "poly.get_feature_names_out()"
   ]
  },
  {
   "cell_type": "code",
   "execution_count": 32,
   "id": "af51ec6e",
   "metadata": {
    "ExecuteTime": {
     "end_time": "2023-11-08T00:17:20.356819Z",
     "start_time": "2023-11-08T00:17:20.343719Z"
    }
   },
   "outputs": [],
   "source": [
    "test_poly = poly.transform(test_input)"
   ]
  },
  {
   "cell_type": "code",
   "execution_count": 33,
   "id": "d145c129",
   "metadata": {
    "ExecuteTime": {
     "end_time": "2023-11-08T00:17:20.372511Z",
     "start_time": "2023-11-08T00:17:20.358405Z"
    }
   },
   "outputs": [],
   "source": [
    "from sklearn.linear_model import LinearRegression\n",
    "lr = LinearRegression()"
   ]
  },
  {
   "cell_type": "code",
   "execution_count": 34,
   "id": "4d812a63",
   "metadata": {
    "ExecuteTime": {
     "end_time": "2023-11-08T00:17:20.388110Z",
     "start_time": "2023-11-08T00:17:20.374090Z"
    }
   },
   "outputs": [
    {
     "data": {
      "text/html": [
       "<style>#sk-container-id-3 {color: black;}#sk-container-id-3 pre{padding: 0;}#sk-container-id-3 div.sk-toggleable {background-color: white;}#sk-container-id-3 label.sk-toggleable__label {cursor: pointer;display: block;width: 100%;margin-bottom: 0;padding: 0.3em;box-sizing: border-box;text-align: center;}#sk-container-id-3 label.sk-toggleable__label-arrow:before {content: \"▸\";float: left;margin-right: 0.25em;color: #696969;}#sk-container-id-3 label.sk-toggleable__label-arrow:hover:before {color: black;}#sk-container-id-3 div.sk-estimator:hover label.sk-toggleable__label-arrow:before {color: black;}#sk-container-id-3 div.sk-toggleable__content {max-height: 0;max-width: 0;overflow: hidden;text-align: left;background-color: #f0f8ff;}#sk-container-id-3 div.sk-toggleable__content pre {margin: 0.2em;color: black;border-radius: 0.25em;background-color: #f0f8ff;}#sk-container-id-3 input.sk-toggleable__control:checked~div.sk-toggleable__content {max-height: 200px;max-width: 100%;overflow: auto;}#sk-container-id-3 input.sk-toggleable__control:checked~label.sk-toggleable__label-arrow:before {content: \"▾\";}#sk-container-id-3 div.sk-estimator input.sk-toggleable__control:checked~label.sk-toggleable__label {background-color: #d4ebff;}#sk-container-id-3 div.sk-label input.sk-toggleable__control:checked~label.sk-toggleable__label {background-color: #d4ebff;}#sk-container-id-3 input.sk-hidden--visually {border: 0;clip: rect(1px 1px 1px 1px);clip: rect(1px, 1px, 1px, 1px);height: 1px;margin: -1px;overflow: hidden;padding: 0;position: absolute;width: 1px;}#sk-container-id-3 div.sk-estimator {font-family: monospace;background-color: #f0f8ff;border: 1px dotted black;border-radius: 0.25em;box-sizing: border-box;margin-bottom: 0.5em;}#sk-container-id-3 div.sk-estimator:hover {background-color: #d4ebff;}#sk-container-id-3 div.sk-parallel-item::after {content: \"\";width: 100%;border-bottom: 1px solid gray;flex-grow: 1;}#sk-container-id-3 div.sk-label:hover label.sk-toggleable__label {background-color: #d4ebff;}#sk-container-id-3 div.sk-serial::before {content: \"\";position: absolute;border-left: 1px solid gray;box-sizing: border-box;top: 0;bottom: 0;left: 50%;z-index: 0;}#sk-container-id-3 div.sk-serial {display: flex;flex-direction: column;align-items: center;background-color: white;padding-right: 0.2em;padding-left: 0.2em;position: relative;}#sk-container-id-3 div.sk-item {position: relative;z-index: 1;}#sk-container-id-3 div.sk-parallel {display: flex;align-items: stretch;justify-content: center;background-color: white;position: relative;}#sk-container-id-3 div.sk-item::before, #sk-container-id-3 div.sk-parallel-item::before {content: \"\";position: absolute;border-left: 1px solid gray;box-sizing: border-box;top: 0;bottom: 0;left: 50%;z-index: -1;}#sk-container-id-3 div.sk-parallel-item {display: flex;flex-direction: column;z-index: 1;position: relative;background-color: white;}#sk-container-id-3 div.sk-parallel-item:first-child::after {align-self: flex-end;width: 50%;}#sk-container-id-3 div.sk-parallel-item:last-child::after {align-self: flex-start;width: 50%;}#sk-container-id-3 div.sk-parallel-item:only-child::after {width: 0;}#sk-container-id-3 div.sk-dashed-wrapped {border: 1px dashed gray;margin: 0 0.4em 0.5em 0.4em;box-sizing: border-box;padding-bottom: 0.4em;background-color: white;}#sk-container-id-3 div.sk-label label {font-family: monospace;font-weight: bold;display: inline-block;line-height: 1.2em;}#sk-container-id-3 div.sk-label-container {text-align: center;}#sk-container-id-3 div.sk-container {/* jupyter's `normalize.less` sets `[hidden] { display: none; }` but bootstrap.min.css set `[hidden] { display: none !important; }` so we also need the `!important` here to be able to override the default hidden behavior on the sphinx rendered scikit-learn.org. See: https://github.com/scikit-learn/scikit-learn/issues/21755 */display: inline-block !important;position: relative;}#sk-container-id-3 div.sk-text-repr-fallback {display: none;}</style><div id=\"sk-container-id-3\" class=\"sk-top-container\"><div class=\"sk-text-repr-fallback\"><pre>LinearRegression()</pre><b>In a Jupyter environment, please rerun this cell to show the HTML representation or trust the notebook. <br />On GitHub, the HTML representation is unable to render, please try loading this page with nbviewer.org.</b></div><div class=\"sk-container\" hidden><div class=\"sk-item\"><div class=\"sk-estimator sk-toggleable\"><input class=\"sk-toggleable__control sk-hidden--visually\" id=\"sk-estimator-id-3\" type=\"checkbox\" checked><label for=\"sk-estimator-id-3\" class=\"sk-toggleable__label sk-toggleable__label-arrow\">LinearRegression</label><div class=\"sk-toggleable__content\"><pre>LinearRegression()</pre></div></div></div></div></div>"
      ],
      "text/plain": [
       "LinearRegression()"
      ]
     },
     "execution_count": 34,
     "metadata": {},
     "output_type": "execute_result"
    }
   ],
   "source": [
    "lr.fit(train_poly , train_target)"
   ]
  },
  {
   "cell_type": "code",
   "execution_count": 35,
   "id": "79d131a1",
   "metadata": {
    "ExecuteTime": {
     "end_time": "2023-11-08T00:17:20.403710Z",
     "start_time": "2023-11-08T00:17:20.389684Z"
    }
   },
   "outputs": [
    {
     "data": {
      "text/plain": [
       "0.9903183436982126"
      ]
     },
     "execution_count": 35,
     "metadata": {},
     "output_type": "execute_result"
    }
   ],
   "source": [
    "lr.score(train_poly , train_target)"
   ]
  },
  {
   "cell_type": "code",
   "execution_count": 36,
   "id": "7143abf7",
   "metadata": {
    "ExecuteTime": {
     "end_time": "2023-11-08T00:17:20.419762Z",
     "start_time": "2023-11-08T00:17:20.405713Z"
    }
   },
   "outputs": [
    {
     "data": {
      "text/plain": [
       "0.9714559911594143"
      ]
     },
     "execution_count": 36,
     "metadata": {},
     "output_type": "execute_result"
    }
   ],
   "source": [
    "lr.score(test_poly , test_target)"
   ]
  },
  {
   "cell_type": "markdown",
   "id": "d3ffd83a",
   "metadata": {},
   "source": [
    "- 훈련데이터의 평가점수가 테스트데이터보다 높다 , 즉 과대적합이 발생되었음을 알 수 있다."
   ]
  },
  {
   "cell_type": "markdown",
   "id": "b0760e6f",
   "metadata": {},
   "source": [
    "### 특성의 개수를 증가시키기(degree)"
   ]
  },
  {
   "cell_type": "code",
   "execution_count": 37,
   "id": "24af3f94",
   "metadata": {
    "ExecuteTime": {
     "end_time": "2023-11-08T00:17:20.435139Z",
     "start_time": "2023-11-08T00:17:20.422264Z"
    }
   },
   "outputs": [],
   "source": [
    "poly = PolynomialFeatures(include_bias = False , degree = 5)\n",
    "train_poly = poly.fit_transform(train_input)\n",
    "test_poly = poly.transform(test_input)"
   ]
  },
  {
   "cell_type": "code",
   "execution_count": 38,
   "id": "2eea5c2d",
   "metadata": {
    "ExecuteTime": {
     "end_time": "2023-11-08T00:17:20.450398Z",
     "start_time": "2023-11-08T00:17:20.436513Z"
    }
   },
   "outputs": [
    {
     "data": {
      "text/plain": [
       "(42, 55)"
      ]
     },
     "execution_count": 38,
     "metadata": {},
     "output_type": "execute_result"
    }
   ],
   "source": [
    "train_poly.shape"
   ]
  },
  {
   "cell_type": "code",
   "execution_count": 39,
   "id": "1402d7d7",
   "metadata": {
    "ExecuteTime": {
     "end_time": "2023-11-08T00:17:20.480485Z",
     "start_time": "2023-11-08T00:17:20.451807Z"
    }
   },
   "outputs": [
    {
     "name": "stdout",
     "output_type": "stream",
     "text": [
      "0.999999999998714\n",
      "-144.4066764700865\n"
     ]
    }
   ],
   "source": [
    "lr.fit(train_poly , train_target)\n",
    "print(lr.score(train_poly , train_target))\n",
    "print(lr.score(test_poly , test_target))"
   ]
  },
  {
   "cell_type": "markdown",
   "id": "de472da4",
   "metadata": {},
   "source": [
    "- 특성의 개수가 늘어나면 선형회귀모델은 강력해진다.\n",
    "- 너무 많아지면 과대적합이 발생.\n",
    "- 규제 : 머신러닝 모델이 훈련 세트를 너무 과도하게 학습하지 못하도록 제한"
   ]
  },
  {
   "cell_type": "markdown",
   "id": "93dae97e",
   "metadata": {},
   "source": [
    "- 선형회귀의 과대적합을 해결하는 방법\n",
    " - 특성(feature)의 개수 줄이기\n",
    " - 정규화 수행(Z-Value 등)"
   ]
  },
  {
   "cell_type": "markdown",
   "id": "7ef3a7a9",
   "metadata": {},
   "source": [
    "- 선형회귀 모형의 규제를 제약하는 모델\n",
    " - 릿지 회귀 모델 : 개수를 제곱한 값을 기준으로 규제를 적용\n",
    " - 라소 회귀 모델 : 개수의 절대값을 기준으로 규제 적용\n",
    " - 두 알고리즘 모두 개수의 크기를 줄이지만 라쏘는 아예 0으로 만들 수도 있어서 일반적으로 릿지를 선호\n",
    " - alpha : 릿지와 라쏘 모델을 사용할 때 규제의 양을 임의로 조절하는 하이퍼파라미터\n",
    " - alpha 값이 크면 규제 강도가 강해진다"
   ]
  },
  {
   "cell_type": "code",
   "execution_count": 40,
   "id": "ef56bab7",
   "metadata": {
    "ExecuteTime": {
     "end_time": "2023-11-08T00:17:20.496005Z",
     "start_time": "2023-11-08T00:17:20.482985Z"
    }
   },
   "outputs": [],
   "source": [
    "# 평균과 표준편차를 이용하여 특성의 스케일을 표준점수로 변경\n",
    "from sklearn.preprocessing import StandardScaler\n",
    "ss = StandardScaler()\n",
    "ss.fit(train_poly)\n",
    "train_scaled = ss.transform(train_poly)\n",
    "test_scaled = ss.transform(test_poly)"
   ]
  },
  {
   "cell_type": "markdown",
   "id": "2cfd76b8",
   "metadata": {},
   "source": [
    "- 릿지회귀"
   ]
  },
  {
   "cell_type": "code",
   "execution_count": 41,
   "id": "e4059aeb",
   "metadata": {
    "ExecuteTime": {
     "end_time": "2023-11-08T00:17:20.511270Z",
     "start_time": "2023-11-08T00:17:20.499260Z"
    }
   },
   "outputs": [
    {
     "name": "stdout",
     "output_type": "stream",
     "text": [
      "0.9896101671037343\n",
      "0.9790693977615391\n"
     ]
    }
   ],
   "source": [
    "from sklearn.linear_model import Ridge\n",
    "ridge = Ridge()\n",
    "ridge.fit(train_scaled , train_target)\n",
    "print(ridge.score(train_scaled , train_target))\n",
    "print(ridge.score(test_scaled , test_target))"
   ]
  },
  {
   "cell_type": "code",
   "execution_count": 42,
   "id": "57cada2a",
   "metadata": {
    "ExecuteTime": {
     "end_time": "2023-11-08T00:17:20.542199Z",
     "start_time": "2023-11-08T00:17:20.513693Z"
    }
   },
   "outputs": [],
   "source": [
    "train_score = []\n",
    "test_score = []\n",
    "for i in [0.001 , 0.01 , 0.1 , 1 , 10 , 100]:\n",
    "    ridge = Ridge(alpha = i)\n",
    "    ridge.fit(train_scaled , train_target)\n",
    "    train_score.append(ridge.score(train_scaled , train_target))\n",
    "    test_score.append(ridge.score(test_scaled , test_target))"
   ]
  },
  {
   "cell_type": "code",
   "execution_count": 43,
   "id": "899a6ec2",
   "metadata": {
    "ExecuteTime": {
     "end_time": "2023-11-08T00:17:20.697363Z",
     "start_time": "2023-11-08T00:17:20.544695Z"
    }
   },
   "outputs": [
    {
     "data": {
      "image/png": "[encoded data removed]",
      "text/plain": [
       "<Figure size 640x480 with 1 Axes>"
      ]
     },
     "metadata": {},
     "output_type": "display_data"
    }
   ],
   "source": [
    "plt.plot(np.log10([0.001 , 0.01 , 0.1 , 1 , 10 , 100]) , train_score)\n",
    "plt.plot(np.log10([0.001 , 0.01 , 0.1 , 1, 10 , 100]) , test_score)\n",
    "plt.xlabel('alpha')\n",
    "plt.ylabel('결정계수')\n",
    "plt.show()"
   ]
  },
  {
   "cell_type": "code",
   "execution_count": 44,
   "id": "c938931b",
   "metadata": {
    "ExecuteTime": {
     "end_time": "2023-11-08T00:17:20.712503Z",
     "start_time": "2023-11-08T00:17:20.699883Z"
    }
   },
   "outputs": [
    {
     "name": "stdout",
     "output_type": "stream",
     "text": [
      "0.9903815817570366\n",
      "0.9827976465386989\n"
     ]
    }
   ],
   "source": [
    "from sklearn.linear_model import Ridge\n",
    "ridge = Ridge(alpha = 0.1)\n",
    "ridge.fit(train_scaled , train_target)\n",
    "print(ridge.score(train_scaled , train_target))\n",
    "print(ridge.score(test_scaled , test_target))"
   ]
  },
  {
   "cell_type": "code",
   "execution_count": 45,
   "id": "69ce8415",
   "metadata": {
    "ExecuteTime": {
     "end_time": "2023-11-08T00:17:20.728227Z",
     "start_time": "2023-11-08T00:17:20.715088Z"
    }
   },
   "outputs": [
    {
     "name": "stdout",
     "output_type": "stream",
     "text": [
      "0.989789897208096\n",
      "0.9800593698421886\n"
     ]
    }
   ],
   "source": [
    "from sklearn.linear_model import Lasso\n",
    "lasso = Lasso()\n",
    "lasso.fit(train_scaled , train_target)\n",
    "print(lasso.score(train_scaled , train_target))\n",
    "print(lasso.score(test_scaled , test_target))"
   ]
  },
  {
   "cell_type": "code",
   "execution_count": 46,
   "id": "ab7c8eeb",
   "metadata": {
    "ExecuteTime": {
     "end_time": "2023-11-08T00:17:20.773980Z",
     "start_time": "2023-11-08T00:17:20.730244Z"
    }
   },
   "outputs": [],
   "source": [
    "train_score = []\n",
    "test_score = []\n",
    "for i in [0.001 , 0.01 , 0.1 , 1 , 10 , 100]:\n",
    "    lasso = Lasso(alpha = i)\n",
    "    lasso.fit(train_scaled , train_target)\n",
    "    train_score.append(lasso.score(train_scaled , train_target))\n",
    "    test_score.append(lasso.score(test_scaled , test_target))"
   ]
  },
  {
   "cell_type": "code",
   "execution_count": 47,
   "id": "f6bd5842",
   "metadata": {
    "ExecuteTime": {
     "end_time": "2023-11-08T00:17:20.881794Z",
     "start_time": "2023-11-08T00:17:20.776301Z"
    }
   },
   "outputs": [
    {
     "data": {
      "image/png": "[encoded data removed]",
      "text/plain": [
       "<Figure size 640x480 with 1 Axes>"
      ]
     },
     "metadata": {},
     "output_type": "display_data"
    }
   ],
   "source": [
    "plt.plot(np.log10([0.001 , 0.01 , 0.1 , 1 , 10 , 100]) , train_score)\n",
    "plt.plot(np.log10([0.001 , 0.01 , 0.1 , 1, 10 , 100]) , test_score)\n",
    "plt.xlabel('alpha')\n",
    "plt.ylabel('결정계수')\n",
    "plt.show()"
   ]
  },
  {
   "cell_type": "code",
   "execution_count": 48,
   "id": "ddddb600",
   "metadata": {
    "ExecuteTime": {
     "end_time": "2023-11-08T00:17:20.897740Z",
     "start_time": "2023-11-08T00:17:20.884192Z"
    }
   },
   "outputs": [
    {
     "name": "stdout",
     "output_type": "stream",
     "text": [
      "0.9888067471131867\n",
      "0.9824470598706695\n"
     ]
    }
   ],
   "source": [
    "from sklearn.linear_model import Lasso\n",
    "lasso = Lasso(alpha = 10)\n",
    "lasso.fit(train_scaled , train_target)\n",
    "print(lasso.score(train_scaled , train_target))\n",
    "print(lasso.score(test_scaled , test_target))"
   ]
  },
  {
   "cell_type": "code",
   "execution_count": null,
   "id": "3d90b750",
   "metadata": {},
   "outputs": [],
   "source": []
  }
 ],
 "metadata": {
  "kernelspec": {
   "display_name": "Python 3 (ipykernel)",
   "language": "python",
   "name": "python3"
  },
  "language_info": {
   "codemirror_mode": {
    "name": "ipython",
    "version": 3
   },
   "file_extension": ".py",
   "mimetype": "text/x-python",
   "name": "python",
   "nbconvert_exporter": "python",
   "pygments_lexer": "ipython3",
   "version": "3.8.17"
  },
  "toc": {
   "base_numbering": 1,
   "nav_menu": {},
   "number_sections": true,
   "sideBar": true,
   "skip_h1_title": false,
   "title_cell": "Table of Contents",
   "title_sidebar": "Contents",
   "toc_cell": false,
   "toc_position": {},
   "toc_section_display": true,
   "toc_window_display": false
  }
 },
 "nbformat": 4,
 "nbformat_minor": 5
}
