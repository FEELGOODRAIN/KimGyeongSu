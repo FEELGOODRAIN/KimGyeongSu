{
 "cells": [
  {
   "cell_type": "code",
   "execution_count": 1,
   "id": "27644656",
   "metadata": {
    "ExecuteTime": {
     "end_time": "2023-11-16T06:25:00.424936Z",
     "start_time": "2023-11-16T06:24:56.798301Z"
    }
   },
   "outputs": [],
   "source": [
    "import numpy as np\n",
    "import pandas as pd\n",
    "import matplotlib as mpl\n",
    "import matplotlib.pyplot as plt\n",
    "import mglearn\n",
    "%matplotlib inline\n",
    "import seaborn as sns\n",
    "import platform\n",
    "from matplotlib import font_manager , rc\n",
    "\n",
    "if platform.system() == 'Darwin':\n",
    "  rc('font' , family = 'AppleGothic')\n",
    "elif platform.system() == 'Windows':\n",
    "  path = 'C:/Windows/Fonts/malgun.ttf'\n",
    "  font_name = font_manager.FontProperties(fname = path).get_name()\n",
    "  rc('font' , family = font_name)\n",
    "else:\n",
    "  print('모름')\n",
    "plt.rcParams['axes.unicode_minus'] = False\n",
    "import warnings\n",
    "warnings.filterwarnings('ignore')"
   ]
  },
  {
   "cell_type": "code",
   "execution_count": 2,
   "id": "3e92ab5c",
   "metadata": {
    "ExecuteTime": {
     "end_time": "2023-11-16T06:25:00.439946Z",
     "start_time": "2023-11-16T06:25:00.426936Z"
    }
   },
   "outputs": [],
   "source": [
    "# 경로 저장\n",
    "path = 'C:/k_digital/machine/source/titanic'"
   ]
  },
  {
   "cell_type": "code",
   "execution_count": 3,
   "id": "27388bf3",
   "metadata": {
    "ExecuteTime": {
     "end_time": "2023-11-16T06:25:00.471262Z",
     "start_time": "2023-11-16T06:25:00.442149Z"
    }
   },
   "outputs": [],
   "source": [
    "titanic = pd.read_csv(path + '/train.csv')"
   ]
  },
  {
   "cell_type": "code",
   "execution_count": 4,
   "id": "fcf36133",
   "metadata": {
    "ExecuteTime": {
     "end_time": "2023-11-16T06:25:00.486752Z",
     "start_time": "2023-11-16T06:25:00.474430Z"
    }
   },
   "outputs": [
    {
     "data": {
      "text/plain": [
       "Index(['PassengerId', 'Survived', 'Pclass', 'Name', 'Sex', 'Age', 'SibSp',\n",
       "       'Parch', 'Ticket', 'Fare', 'Cabin', 'Embarked'],\n",
       "      dtype='object')"
      ]
     },
     "execution_count": 4,
     "metadata": {},
     "output_type": "execute_result"
    }
   ],
   "source": [
    "titanic.columns"
   ]
  },
  {
   "cell_type": "code",
   "execution_count": 5,
   "id": "d53cdfaf",
   "metadata": {
    "ExecuteTime": {
     "end_time": "2023-11-16T06:25:00.502194Z",
     "start_time": "2023-11-16T06:25:00.488242Z"
    }
   },
   "outputs": [
    {
     "name": "stdout",
     "output_type": "stream",
     "text": [
      "<class 'pandas.core.frame.DataFrame'>\n",
      "RangeIndex: 891 entries, 0 to 890\n",
      "Data columns (total 12 columns):\n",
      " #   Column       Non-Null Count  Dtype  \n",
      "---  ------       --------------  -----  \n",
      " 0   PassengerId  891 non-null    int64  \n",
      " 1   Survived     891 non-null    int64  \n",
      " 2   Pclass       891 non-null    int64  \n",
      " 3   Name         891 non-null    object \n",
      " 4   Sex          891 non-null    object \n",
      " 5   Age          714 non-null    float64\n",
      " 6   SibSp        891 non-null    int64  \n",
      " 7   Parch        891 non-null    int64  \n",
      " 8   Ticket       891 non-null    object \n",
      " 9   Fare         891 non-null    float64\n",
      " 10  Cabin        204 non-null    object \n",
      " 11  Embarked     889 non-null    object \n",
      "dtypes: float64(2), int64(5), object(5)\n",
      "memory usage: 83.7+ KB\n"
     ]
    }
   ],
   "source": [
    "titanic.info()"
   ]
  },
  {
   "cell_type": "code",
   "execution_count": 6,
   "id": "0113e770",
   "metadata": {
    "ExecuteTime": {
     "end_time": "2023-11-16T06:25:00.517890Z",
     "start_time": "2023-11-16T06:25:00.503202Z"
    }
   },
   "outputs": [],
   "source": [
    "# Cabin과 Ticket 제거.\n",
    "titanic.drop(['Cabin' , 'Ticket'] , axis = 1 , inplace = True)"
   ]
  },
  {
   "cell_type": "code",
   "execution_count": 7,
   "id": "37dfa784",
   "metadata": {
    "ExecuteTime": {
     "end_time": "2023-11-16T06:25:00.534003Z",
     "start_time": "2023-11-16T06:25:00.520507Z"
    }
   },
   "outputs": [],
   "source": [
    "# 학습시킬 데이터들과 target 나누기\n",
    "data = titanic.loc[: , ['Pclass','Sex','Age','Fare','Embarked', 'SibSp','Parch']]\n",
    "target = titanic.Survived"
   ]
  },
  {
   "cell_type": "code",
   "execution_count": 8,
   "id": "248601ce",
   "metadata": {
    "ExecuteTime": {
     "end_time": "2023-11-16T06:25:00.549328Z",
     "start_time": "2023-11-16T06:25:00.536105Z"
    }
   },
   "outputs": [
    {
     "name": "stdout",
     "output_type": "stream",
     "text": [
      "<class 'pandas.core.frame.DataFrame'>\n",
      "RangeIndex: 891 entries, 0 to 890\n",
      "Data columns (total 7 columns):\n",
      " #   Column    Non-Null Count  Dtype  \n",
      "---  ------    --------------  -----  \n",
      " 0   Pclass    891 non-null    int64  \n",
      " 1   Sex       891 non-null    object \n",
      " 2   Age       714 non-null    float64\n",
      " 3   Fare      891 non-null    float64\n",
      " 4   Embarked  889 non-null    object \n",
      " 5   SibSp     891 non-null    int64  \n",
      " 6   Parch     891 non-null    int64  \n",
      "dtypes: float64(2), int64(3), object(2)\n",
      "memory usage: 48.9+ KB\n"
     ]
    }
   ],
   "source": [
    "data.info()"
   ]
  },
  {
   "cell_type": "code",
   "execution_count": 9,
   "id": "84d27232",
   "metadata": {
    "ExecuteTime": {
     "end_time": "2023-11-16T06:25:00.564607Z",
     "start_time": "2023-11-16T06:25:00.550386Z"
    }
   },
   "outputs": [
    {
     "data": {
      "text/plain": [
       "S    644\n",
       "C    168\n",
       "Q     77\n",
       "Name: Embarked, dtype: int64"
      ]
     },
     "execution_count": 9,
     "metadata": {},
     "output_type": "execute_result"
    }
   ],
   "source": [
    "# Embarked에 결측치 존재 , 최빈값으로 채우기\n",
    "data.Embarked.value_counts()"
   ]
  },
  {
   "cell_type": "code",
   "execution_count": 10,
   "id": "24b69a8d",
   "metadata": {
    "ExecuteTime": {
     "end_time": "2023-11-16T06:25:00.579792Z",
     "start_time": "2023-11-16T06:25:00.568646Z"
    }
   },
   "outputs": [],
   "source": [
    "data.Embarked = data.Embarked.fillna('S')"
   ]
  },
  {
   "cell_type": "code",
   "execution_count": 11,
   "id": "69d3bd3c",
   "metadata": {
    "ExecuteTime": {
     "end_time": "2023-11-16T06:25:00.595248Z",
     "start_time": "2023-11-16T06:25:00.582291Z"
    }
   },
   "outputs": [
    {
     "name": "stdout",
     "output_type": "stream",
     "text": [
      "<class 'pandas.core.frame.DataFrame'>\n",
      "RangeIndex: 891 entries, 0 to 890\n",
      "Data columns (total 7 columns):\n",
      " #   Column    Non-Null Count  Dtype  \n",
      "---  ------    --------------  -----  \n",
      " 0   Pclass    891 non-null    int64  \n",
      " 1   Sex       891 non-null    object \n",
      " 2   Age       714 non-null    float64\n",
      " 3   Fare      891 non-null    float64\n",
      " 4   Embarked  891 non-null    object \n",
      " 5   SibSp     891 non-null    int64  \n",
      " 6   Parch     891 non-null    int64  \n",
      "dtypes: float64(2), int64(3), object(2)\n",
      "memory usage: 48.9+ KB\n"
     ]
    }
   ],
   "source": [
    "data.info()"
   ]
  },
  {
   "cell_type": "code",
   "execution_count": 12,
   "id": "18deb482",
   "metadata": {
    "ExecuteTime": {
     "end_time": "2023-11-16T06:25:00.610694Z",
     "start_time": "2023-11-16T06:25:00.596675Z"
    }
   },
   "outputs": [
    {
     "data": {
      "text/plain": [
       "24.00    30\n",
       "22.00    27\n",
       "18.00    26\n",
       "19.00    25\n",
       "28.00    25\n",
       "         ..\n",
       "36.50     1\n",
       "55.50     1\n",
       "0.92      1\n",
       "23.50     1\n",
       "74.00     1\n",
       "Name: Age, Length: 88, dtype: int64"
      ]
     },
     "execution_count": 12,
     "metadata": {},
     "output_type": "execute_result"
    }
   ],
   "source": [
    "data.Age.value_counts()"
   ]
  },
  {
   "cell_type": "code",
   "execution_count": 13,
   "id": "69ad88b8",
   "metadata": {
    "ExecuteTime": {
     "end_time": "2023-11-16T06:25:00.626750Z",
     "start_time": "2023-11-16T06:25:00.613726Z"
    }
   },
   "outputs": [],
   "source": [
    "data.Age = round(data.Age , 0)"
   ]
  },
  {
   "cell_type": "code",
   "execution_count": 14,
   "id": "029fedcc",
   "metadata": {
    "ExecuteTime": {
     "end_time": "2023-11-16T06:25:00.642702Z",
     "start_time": "2023-11-16T06:25:00.628196Z"
    }
   },
   "outputs": [],
   "source": [
    "age_mean = round(data.Age.mean() , 0)"
   ]
  },
  {
   "cell_type": "code",
   "execution_count": 15,
   "id": "a8eb5e1d",
   "metadata": {
    "ExecuteTime": {
     "end_time": "2023-11-16T06:25:00.658708Z",
     "start_time": "2023-11-16T06:25:00.644756Z"
    }
   },
   "outputs": [],
   "source": [
    "#나이의 평균으로 Age 결측치 대체\n",
    "data.Age = data.Age.fillna(age_mean)"
   ]
  },
  {
   "cell_type": "code",
   "execution_count": 16,
   "id": "344c6e56",
   "metadata": {
    "ExecuteTime": {
     "end_time": "2023-11-16T06:25:00.674514Z",
     "start_time": "2023-11-16T06:25:00.660559Z"
    }
   },
   "outputs": [
    {
     "name": "stdout",
     "output_type": "stream",
     "text": [
      "<class 'pandas.core.frame.DataFrame'>\n",
      "RangeIndex: 891 entries, 0 to 890\n",
      "Data columns (total 7 columns):\n",
      " #   Column    Non-Null Count  Dtype  \n",
      "---  ------    --------------  -----  \n",
      " 0   Pclass    891 non-null    int64  \n",
      " 1   Sex       891 non-null    object \n",
      " 2   Age       891 non-null    float64\n",
      " 3   Fare      891 non-null    float64\n",
      " 4   Embarked  891 non-null    object \n",
      " 5   SibSp     891 non-null    int64  \n",
      " 6   Parch     891 non-null    int64  \n",
      "dtypes: float64(2), int64(3), object(2)\n",
      "memory usage: 48.9+ KB\n"
     ]
    }
   ],
   "source": [
    "data.info()"
   ]
  },
  {
   "cell_type": "code",
   "execution_count": 17,
   "id": "4af7e722",
   "metadata": {
    "ExecuteTime": {
     "end_time": "2023-11-16T06:25:00.690461Z",
     "start_time": "2023-11-16T06:25:00.676507Z"
    }
   },
   "outputs": [],
   "source": [
    "data.Age = data.Age.astype('int')"
   ]
  },
  {
   "cell_type": "code",
   "execution_count": 18,
   "id": "623ff62d",
   "metadata": {
    "ExecuteTime": {
     "end_time": "2023-11-16T06:25:00.706442Z",
     "start_time": "2023-11-16T06:25:00.692454Z"
    }
   },
   "outputs": [
    {
     "name": "stdout",
     "output_type": "stream",
     "text": [
      "<class 'pandas.core.frame.DataFrame'>\n",
      "RangeIndex: 891 entries, 0 to 890\n",
      "Data columns (total 7 columns):\n",
      " #   Column    Non-Null Count  Dtype  \n",
      "---  ------    --------------  -----  \n",
      " 0   Pclass    891 non-null    int64  \n",
      " 1   Sex       891 non-null    object \n",
      " 2   Age       891 non-null    int32  \n",
      " 3   Fare      891 non-null    float64\n",
      " 4   Embarked  891 non-null    object \n",
      " 5   SibSp     891 non-null    int64  \n",
      " 6   Parch     891 non-null    int64  \n",
      "dtypes: float64(1), int32(1), int64(3), object(2)\n",
      "memory usage: 45.4+ KB\n"
     ]
    }
   ],
   "source": [
    "data.info()"
   ]
  },
  {
   "cell_type": "markdown",
   "id": "ea55c828",
   "metadata": {},
   "source": [
    "- 학습시킬 열들을 전부 int로 바꾸는 작업"
   ]
  },
  {
   "cell_type": "code",
   "execution_count": 19,
   "id": "1c1d9931",
   "metadata": {
    "ExecuteTime": {
     "end_time": "2023-11-16T06:25:00.721838Z",
     "start_time": "2023-11-16T06:25:00.708485Z"
    }
   },
   "outputs": [],
   "source": [
    "data.Sex[data.Sex=='male'] = 1"
   ]
  },
  {
   "cell_type": "code",
   "execution_count": 20,
   "id": "67064d51",
   "metadata": {
    "ExecuteTime": {
     "end_time": "2023-11-16T06:25:00.737589Z",
     "start_time": "2023-11-16T06:25:00.723277Z"
    }
   },
   "outputs": [],
   "source": [
    "data.Sex[data.Sex=='female'] = 0"
   ]
  },
  {
   "cell_type": "code",
   "execution_count": 21,
   "id": "fe06150b",
   "metadata": {
    "ExecuteTime": {
     "end_time": "2023-11-16T06:25:00.753336Z",
     "start_time": "2023-11-16T06:25:00.739510Z"
    }
   },
   "outputs": [],
   "source": [
    "data.Embarked[data.Embarked == 'S'] = 0\n",
    "data.Embarked[data.Embarked == 'C'] = 1\n",
    "data.Embarked[data.Embarked == 'Q'] = 2"
   ]
  },
  {
   "cell_type": "code",
   "execution_count": 22,
   "id": "4dfc38cf",
   "metadata": {
    "ExecuteTime": {
     "end_time": "2023-11-16T06:25:00.768805Z",
     "start_time": "2023-11-16T06:25:00.754599Z"
    }
   },
   "outputs": [],
   "source": [
    "data[['Sex','Embarked']] = data[['Sex','Embarked']].astype('int')"
   ]
  },
  {
   "cell_type": "code",
   "execution_count": 23,
   "id": "41bae7f5",
   "metadata": {
    "ExecuteTime": {
     "end_time": "2023-11-16T06:25:00.784527Z",
     "start_time": "2023-11-16T06:25:00.770801Z"
    }
   },
   "outputs": [
    {
     "data": {
      "text/plain": [
       "0    549\n",
       "1    342\n",
       "Name: Survived, dtype: int64"
      ]
     },
     "execution_count": 23,
     "metadata": {},
     "output_type": "execute_result"
    }
   ],
   "source": [
    "titanic['Survived'].value_counts()"
   ]
  },
  {
   "cell_type": "code",
   "execution_count": 24,
   "id": "b105b80a",
   "metadata": {
    "ExecuteTime": {
     "end_time": "2023-11-16T06:25:00.800546Z",
     "start_time": "2023-11-16T06:25:00.785548Z"
    }
   },
   "outputs": [],
   "source": [
    "from sklearn.preprocessing import StandardScaler\n",
    "\n",
    "ss = StandardScaler()"
   ]
  },
  {
   "cell_type": "code",
   "execution_count": 25,
   "id": "06a4069b",
   "metadata": {
    "ExecuteTime": {
     "end_time": "2023-11-16T06:25:00.815801Z",
     "start_time": "2023-11-16T06:25:00.802595Z"
    }
   },
   "outputs": [],
   "source": [
    "# train과 test로 나누기\n",
    "from sklearn.model_selection import train_test_split\n",
    "\n",
    "train_input , test_input , train_target , test_target = train_test_split(data , target , random_state = 0)"
   ]
  },
  {
   "cell_type": "code",
   "execution_count": 26,
   "id": "47072557",
   "metadata": {
    "ExecuteTime": {
     "end_time": "2023-11-16T06:25:00.831658Z",
     "start_time": "2023-11-16T06:25:00.818210Z"
    }
   },
   "outputs": [],
   "source": [
    "#표준화\n",
    "ss.fit(train_input)\n",
    "train_scaled = ss.transform(train_input)\n",
    "test_scaled = ss.transform(test_input)"
   ]
  },
  {
   "cell_type": "code",
   "execution_count": 27,
   "id": "52583d4b",
   "metadata": {
    "ExecuteTime": {
     "end_time": "2023-11-16T06:25:00.847185Z",
     "start_time": "2023-11-16T06:25:00.834153Z"
    }
   },
   "outputs": [],
   "source": [
    "#모델 생성\n",
    "from sklearn.linear_model import LogisticRegression\n",
    "lr = LogisticRegression()"
   ]
  },
  {
   "cell_type": "code",
   "execution_count": 28,
   "id": "e984cbe3",
   "metadata": {
    "ExecuteTime": {
     "end_time": "2023-11-16T06:25:00.862979Z",
     "start_time": "2023-11-16T06:25:00.854174Z"
    }
   },
   "outputs": [],
   "source": [
    "#파라미터 책정\n",
    "param = {'C' : [1,10,20,30,40] , 'max_iter' : [100,1000,10000,100000]}"
   ]
  },
  {
   "cell_type": "code",
   "execution_count": 29,
   "id": "adacaa8b",
   "metadata": {
    "ExecuteTime": {
     "end_time": "2023-11-16T06:25:00.878796Z",
     "start_time": "2023-11-16T06:25:00.863995Z"
    }
   },
   "outputs": [],
   "source": [
    "from sklearn.metrics import accuracy_score"
   ]
  },
  {
   "cell_type": "code",
   "execution_count": 30,
   "id": "537f0d03",
   "metadata": {
    "ExecuteTime": {
     "end_time": "2023-11-16T06:25:03.483779Z",
     "start_time": "2023-11-16T06:25:00.880216Z"
    }
   },
   "outputs": [
    {
     "data": {
      "text/plain": [
       "{'C': 30, 'max_iter': 100}"
      ]
     },
     "execution_count": 30,
     "metadata": {},
     "output_type": "execute_result"
    }
   ],
   "source": [
    "#그리드서치 실행\n",
    "from sklearn.model_selection import GridSearchCV\n",
    "gs = GridSearchCV(lr , param , n_jobs = -1)\n",
    "gs.fit(train_scaled , train_target)\n",
    "\n",
    "gs.best_params_"
   ]
  },
  {
   "cell_type": "code",
   "execution_count": 31,
   "id": "faa2e134",
   "metadata": {
    "ExecuteTime": {
     "end_time": "2023-11-16T06:25:03.499901Z",
     "start_time": "2023-11-16T06:25:03.485277Z"
    }
   },
   "outputs": [
    {
     "data": {
      "text/plain": [
       "0.7982062780269058"
      ]
     },
     "execution_count": 31,
     "metadata": {},
     "output_type": "execute_result"
    }
   ],
   "source": [
    "#그리드서치에서 나온 가장 좋은 파라미터 적용\n",
    "lr = LogisticRegression(C = 30 , max_iter = 100)\n",
    "lr.fit(train_scaled , train_target)\n",
    "accuracy_score(test_target , lr.predict(test_scaled))"
   ]
  },
  {
   "cell_type": "code",
   "execution_count": 32,
   "id": "ec476fe9",
   "metadata": {
    "ExecuteTime": {
     "end_time": "2023-11-16T06:25:03.607723Z",
     "start_time": "2023-11-16T06:25:03.501894Z"
    }
   },
   "outputs": [
    {
     "data": {
      "text/plain": [
       "{'fit_time': array([0.01471829, 0.0144937 , 0.01348877, 0.01417708, 0.015486  ]),\n",
       " 'score_time': array([0.00099683, 0.00199318, 0.00199342, 0.00199366, 0.00199342]),\n",
       " 'test_score': array([0.78358209, 0.80597015, 0.76865672, 0.81203008, 0.84210526])}"
      ]
     },
     "execution_count": 32,
     "metadata": {},
     "output_type": "execute_result"
    }
   ],
   "source": [
    "from sklearn.model_selection import cross_validate\n",
    "scores = cross_validate(lr , train_input , train_target)\n",
    "scores"
   ]
  },
  {
   "cell_type": "code",
   "execution_count": 33,
   "id": "f37a4cce",
   "metadata": {
    "ExecuteTime": {
     "end_time": "2023-11-16T06:25:03.623216Z",
     "start_time": "2023-11-16T06:25:03.609220Z"
    }
   },
   "outputs": [
    {
     "data": {
      "text/plain": [
       "0.802468858713949"
      ]
     },
     "execution_count": 33,
     "metadata": {},
     "output_type": "execute_result"
    }
   ],
   "source": [
    "np.mean(scores['test_score'])"
   ]
  },
  {
   "cell_type": "markdown",
   "id": "93df6105",
   "metadata": {},
   "source": [
    "- 정확도는 0.8쯤.."
   ]
  },
  {
   "cell_type": "code",
   "execution_count": 34,
   "id": "1e1c628b",
   "metadata": {
    "ExecuteTime": {
     "end_time": "2023-11-16T06:25:03.654188Z",
     "start_time": "2023-11-16T06:25:03.625710Z"
    }
   },
   "outputs": [
    {
     "data": {
      "text/html": [
       "<div>\n",
       "<style scoped>\n",
       "    .dataframe tbody tr th:only-of-type {\n",
       "        vertical-align: middle;\n",
       "    }\n",
       "\n",
       "    .dataframe tbody tr th {\n",
       "        vertical-align: top;\n",
       "    }\n",
       "\n",
       "    .dataframe thead th {\n",
       "        text-align: right;\n",
       "    }\n",
       "</style>\n",
       "<table border=\"1\" class=\"dataframe\">\n",
       "  <thead>\n",
       "    <tr style=\"text-align: right;\">\n",
       "      <th></th>\n",
       "      <th>PassengerId</th>\n",
       "      <th>Survived</th>\n",
       "      <th>Pclass</th>\n",
       "      <th>Name</th>\n",
       "      <th>Sex</th>\n",
       "      <th>Age</th>\n",
       "      <th>SibSp</th>\n",
       "      <th>Parch</th>\n",
       "      <th>Fare</th>\n",
       "      <th>Embarked</th>\n",
       "    </tr>\n",
       "  </thead>\n",
       "  <tbody>\n",
       "    <tr>\n",
       "      <th>0</th>\n",
       "      <td>1</td>\n",
       "      <td>0</td>\n",
       "      <td>3</td>\n",
       "      <td>Braund, Mr. Owen Harris</td>\n",
       "      <td>male</td>\n",
       "      <td>22.0</td>\n",
       "      <td>1</td>\n",
       "      <td>0</td>\n",
       "      <td>7.2500</td>\n",
       "      <td>S</td>\n",
       "    </tr>\n",
       "    <tr>\n",
       "      <th>1</th>\n",
       "      <td>2</td>\n",
       "      <td>1</td>\n",
       "      <td>1</td>\n",
       "      <td>Cumings, Mrs. John Bradley (Florence Briggs Th...</td>\n",
       "      <td>female</td>\n",
       "      <td>38.0</td>\n",
       "      <td>1</td>\n",
       "      <td>0</td>\n",
       "      <td>71.2833</td>\n",
       "      <td>C</td>\n",
       "    </tr>\n",
       "    <tr>\n",
       "      <th>2</th>\n",
       "      <td>3</td>\n",
       "      <td>1</td>\n",
       "      <td>3</td>\n",
       "      <td>Heikkinen, Miss. Laina</td>\n",
       "      <td>female</td>\n",
       "      <td>26.0</td>\n",
       "      <td>0</td>\n",
       "      <td>0</td>\n",
       "      <td>7.9250</td>\n",
       "      <td>S</td>\n",
       "    </tr>\n",
       "    <tr>\n",
       "      <th>3</th>\n",
       "      <td>4</td>\n",
       "      <td>1</td>\n",
       "      <td>1</td>\n",
       "      <td>Futrelle, Mrs. Jacques Heath (Lily May Peel)</td>\n",
       "      <td>female</td>\n",
       "      <td>35.0</td>\n",
       "      <td>1</td>\n",
       "      <td>0</td>\n",
       "      <td>53.1000</td>\n",
       "      <td>S</td>\n",
       "    </tr>\n",
       "    <tr>\n",
       "      <th>4</th>\n",
       "      <td>5</td>\n",
       "      <td>0</td>\n",
       "      <td>3</td>\n",
       "      <td>Allen, Mr. William Henry</td>\n",
       "      <td>male</td>\n",
       "      <td>35.0</td>\n",
       "      <td>0</td>\n",
       "      <td>0</td>\n",
       "      <td>8.0500</td>\n",
       "      <td>S</td>\n",
       "    </tr>\n",
       "    <tr>\n",
       "      <th>...</th>\n",
       "      <td>...</td>\n",
       "      <td>...</td>\n",
       "      <td>...</td>\n",
       "      <td>...</td>\n",
       "      <td>...</td>\n",
       "      <td>...</td>\n",
       "      <td>...</td>\n",
       "      <td>...</td>\n",
       "      <td>...</td>\n",
       "      <td>...</td>\n",
       "    </tr>\n",
       "    <tr>\n",
       "      <th>886</th>\n",
       "      <td>887</td>\n",
       "      <td>0</td>\n",
       "      <td>2</td>\n",
       "      <td>Montvila, Rev. Juozas</td>\n",
       "      <td>male</td>\n",
       "      <td>27.0</td>\n",
       "      <td>0</td>\n",
       "      <td>0</td>\n",
       "      <td>13.0000</td>\n",
       "      <td>S</td>\n",
       "    </tr>\n",
       "    <tr>\n",
       "      <th>887</th>\n",
       "      <td>888</td>\n",
       "      <td>1</td>\n",
       "      <td>1</td>\n",
       "      <td>Graham, Miss. Margaret Edith</td>\n",
       "      <td>female</td>\n",
       "      <td>19.0</td>\n",
       "      <td>0</td>\n",
       "      <td>0</td>\n",
       "      <td>30.0000</td>\n",
       "      <td>S</td>\n",
       "    </tr>\n",
       "    <tr>\n",
       "      <th>888</th>\n",
       "      <td>889</td>\n",
       "      <td>0</td>\n",
       "      <td>3</td>\n",
       "      <td>Johnston, Miss. Catherine Helen \"Carrie\"</td>\n",
       "      <td>female</td>\n",
       "      <td>NaN</td>\n",
       "      <td>1</td>\n",
       "      <td>2</td>\n",
       "      <td>23.4500</td>\n",
       "      <td>S</td>\n",
       "    </tr>\n",
       "    <tr>\n",
       "      <th>889</th>\n",
       "      <td>890</td>\n",
       "      <td>1</td>\n",
       "      <td>1</td>\n",
       "      <td>Behr, Mr. Karl Howell</td>\n",
       "      <td>male</td>\n",
       "      <td>26.0</td>\n",
       "      <td>0</td>\n",
       "      <td>0</td>\n",
       "      <td>30.0000</td>\n",
       "      <td>C</td>\n",
       "    </tr>\n",
       "    <tr>\n",
       "      <th>890</th>\n",
       "      <td>891</td>\n",
       "      <td>0</td>\n",
       "      <td>3</td>\n",
       "      <td>Dooley, Mr. Patrick</td>\n",
       "      <td>male</td>\n",
       "      <td>32.0</td>\n",
       "      <td>0</td>\n",
       "      <td>0</td>\n",
       "      <td>7.7500</td>\n",
       "      <td>Q</td>\n",
       "    </tr>\n",
       "  </tbody>\n",
       "</table>\n",
       "<p>891 rows × 10 columns</p>\n",
       "</div>"
      ],
      "text/plain": [
       "     PassengerId  Survived  Pclass  \\\n",
       "0              1         0       3   \n",
       "1              2         1       1   \n",
       "2              3         1       3   \n",
       "3              4         1       1   \n",
       "4              5         0       3   \n",
       "..           ...       ...     ...   \n",
       "886          887         0       2   \n",
       "887          888         1       1   \n",
       "888          889         0       3   \n",
       "889          890         1       1   \n",
       "890          891         0       3   \n",
       "\n",
       "                                                  Name     Sex   Age  SibSp  \\\n",
       "0                              Braund, Mr. Owen Harris    male  22.0      1   \n",
       "1    Cumings, Mrs. John Bradley (Florence Briggs Th...  female  38.0      1   \n",
       "2                               Heikkinen, Miss. Laina  female  26.0      0   \n",
       "3         Futrelle, Mrs. Jacques Heath (Lily May Peel)  female  35.0      1   \n",
       "4                             Allen, Mr. William Henry    male  35.0      0   \n",
       "..                                                 ...     ...   ...    ...   \n",
       "886                              Montvila, Rev. Juozas    male  27.0      0   \n",
       "887                       Graham, Miss. Margaret Edith  female  19.0      0   \n",
       "888           Johnston, Miss. Catherine Helen \"Carrie\"  female   NaN      1   \n",
       "889                              Behr, Mr. Karl Howell    male  26.0      0   \n",
       "890                                Dooley, Mr. Patrick    male  32.0      0   \n",
       "\n",
       "     Parch     Fare Embarked  \n",
       "0        0   7.2500        S  \n",
       "1        0  71.2833        C  \n",
       "2        0   7.9250        S  \n",
       "3        0  53.1000        S  \n",
       "4        0   8.0500        S  \n",
       "..     ...      ...      ...  \n",
       "886      0  13.0000        S  \n",
       "887      0  30.0000        S  \n",
       "888      2  23.4500        S  \n",
       "889      0  30.0000        C  \n",
       "890      0   7.7500        Q  \n",
       "\n",
       "[891 rows x 10 columns]"
      ]
     },
     "execution_count": 34,
     "metadata": {},
     "output_type": "execute_result"
    }
   ],
   "source": [
    "titanic"
   ]
  },
  {
   "cell_type": "markdown",
   "id": "42339632",
   "metadata": {},
   "source": [
    "- test.csv에 있는 데이터들 예측"
   ]
  },
  {
   "cell_type": "code",
   "execution_count": 35,
   "id": "17afa5ad",
   "metadata": {
    "ExecuteTime": {
     "end_time": "2023-11-16T06:25:03.669745Z",
     "start_time": "2023-11-16T06:25:03.655686Z"
    }
   },
   "outputs": [],
   "source": [
    "test = pd.read_csv(path + '/test.csv')"
   ]
  },
  {
   "cell_type": "code",
   "execution_count": 36,
   "id": "1eb566bd",
   "metadata": {
    "ExecuteTime": {
     "end_time": "2023-11-16T06:25:03.685242Z",
     "start_time": "2023-11-16T06:25:03.672245Z"
    }
   },
   "outputs": [
    {
     "name": "stdout",
     "output_type": "stream",
     "text": [
      "<class 'pandas.core.frame.DataFrame'>\n",
      "RangeIndex: 418 entries, 0 to 417\n",
      "Data columns (total 11 columns):\n",
      " #   Column       Non-Null Count  Dtype  \n",
      "---  ------       --------------  -----  \n",
      " 0   PassengerId  418 non-null    int64  \n",
      " 1   Pclass       418 non-null    int64  \n",
      " 2   Name         418 non-null    object \n",
      " 3   Sex          418 non-null    object \n",
      " 4   Age          332 non-null    float64\n",
      " 5   SibSp        418 non-null    int64  \n",
      " 6   Parch        418 non-null    int64  \n",
      " 7   Ticket       418 non-null    object \n",
      " 8   Fare         417 non-null    float64\n",
      " 9   Cabin        91 non-null     object \n",
      " 10  Embarked     418 non-null    object \n",
      "dtypes: float64(2), int64(4), object(5)\n",
      "memory usage: 36.0+ KB\n"
     ]
    }
   ],
   "source": [
    "test.info()"
   ]
  },
  {
   "cell_type": "code",
   "execution_count": 37,
   "id": "d6dc3d66",
   "metadata": {
    "ExecuteTime": {
     "end_time": "2023-11-16T06:25:03.700732Z",
     "start_time": "2023-11-16T06:25:03.687735Z"
    }
   },
   "outputs": [],
   "source": [
    "test['together'] = test.SibSp + test.Parch"
   ]
  },
  {
   "cell_type": "code",
   "execution_count": null,
   "id": "a970c36f",
   "metadata": {},
   "outputs": [],
   "source": []
  },
  {
   "cell_type": "code",
   "execution_count": 38,
   "id": "69095944",
   "metadata": {
    "ExecuteTime": {
     "end_time": "2023-11-16T06:25:03.716213Z",
     "start_time": "2023-11-16T06:25:03.702231Z"
    }
   },
   "outputs": [],
   "source": [
    "test = test.loc[:,['Pclass','Sex','Age','Fare','Embarked', 'SibSp','Parch']]"
   ]
  },
  {
   "cell_type": "code",
   "execution_count": 39,
   "id": "4d2769b6",
   "metadata": {
    "ExecuteTime": {
     "end_time": "2023-11-16T06:25:03.731696Z",
     "start_time": "2023-11-16T06:25:03.719714Z"
    }
   },
   "outputs": [
    {
     "name": "stdout",
     "output_type": "stream",
     "text": [
      "<class 'pandas.core.frame.DataFrame'>\n",
      "RangeIndex: 418 entries, 0 to 417\n",
      "Data columns (total 7 columns):\n",
      " #   Column    Non-Null Count  Dtype  \n",
      "---  ------    --------------  -----  \n",
      " 0   Pclass    418 non-null    int64  \n",
      " 1   Sex       418 non-null    object \n",
      " 2   Age       332 non-null    float64\n",
      " 3   Fare      417 non-null    float64\n",
      " 4   Embarked  418 non-null    object \n",
      " 5   SibSp     418 non-null    int64  \n",
      " 6   Parch     418 non-null    int64  \n",
      "dtypes: float64(2), int64(3), object(2)\n",
      "memory usage: 23.0+ KB\n"
     ]
    }
   ],
   "source": [
    "test.info()"
   ]
  },
  {
   "cell_type": "code",
   "execution_count": 40,
   "id": "b71e874f",
   "metadata": {
    "ExecuteTime": {
     "end_time": "2023-11-16T06:25:03.747777Z",
     "start_time": "2023-11-16T06:25:03.733758Z"
    }
   },
   "outputs": [],
   "source": [
    "test.Fare = test.Fare.fillna(0)"
   ]
  },
  {
   "cell_type": "code",
   "execution_count": 41,
   "id": "7be9e187",
   "metadata": {
    "ExecuteTime": {
     "end_time": "2023-11-16T06:25:03.763286Z",
     "start_time": "2023-11-16T06:25:03.750273Z"
    }
   },
   "outputs": [],
   "source": [
    "test.Age = test.Age.fillna(30)"
   ]
  },
  {
   "cell_type": "code",
   "execution_count": 42,
   "id": "5220863e",
   "metadata": {
    "ExecuteTime": {
     "end_time": "2023-11-16T06:25:03.778775Z",
     "start_time": "2023-11-16T06:25:03.764785Z"
    }
   },
   "outputs": [],
   "source": [
    "test.Sex[test.Sex=='male'] = 1\n",
    "test.Sex[test.Sex=='female'] = 0\n",
    "test.Embarked[test.Embarked == 'S'] = 0\n",
    "test.Embarked[test.Embarked == 'C'] = 1\n",
    "test.Embarked[test.Embarked == 'Q'] = 2"
   ]
  },
  {
   "cell_type": "code",
   "execution_count": 43,
   "id": "f3f0e33a",
   "metadata": {
    "ExecuteTime": {
     "end_time": "2023-11-16T06:25:03.793631Z",
     "start_time": "2023-11-16T06:25:03.780272Z"
    }
   },
   "outputs": [],
   "source": [
    "test[['Sex','Embarked']] = test[['Sex','Embarked']].astype('int')"
   ]
  },
  {
   "cell_type": "code",
   "execution_count": 44,
   "id": "669fd131",
   "metadata": {
    "ExecuteTime": {
     "end_time": "2023-11-16T06:25:03.808799Z",
     "start_time": "2023-11-16T06:25:03.794654Z"
    }
   },
   "outputs": [],
   "source": [
    "test_predict = ss.transform(test)"
   ]
  },
  {
   "cell_type": "code",
   "execution_count": 45,
   "id": "682504f0",
   "metadata": {
    "ExecuteTime": {
     "end_time": "2023-11-16T06:25:03.823840Z",
     "start_time": "2023-11-16T06:25:03.809804Z"
    },
    "scrolled": true
   },
   "outputs": [
    {
     "data": {
      "text/plain": [
       "array([0, 0, 0, 0, 1, 0, 1, 0, 1, 0, 0, 0, 1, 0, 1, 1, 0, 0, 1, 1, 0, 0,\n",
       "       1, 1, 1, 0, 1, 0, 0, 0, 0, 0, 0, 1, 0, 0, 1, 1, 0, 0, 0, 0, 0, 1,\n",
       "       1, 0, 0, 0, 1, 1, 0, 0, 1, 1, 0, 0, 0, 0, 0, 1, 0, 0, 0, 1, 1, 1,\n",
       "       1, 0, 1, 1, 1, 0, 1, 1, 1, 1, 0, 1, 0, 1, 0, 0, 0, 0, 0, 0, 1, 1,\n",
       "       1, 0, 1, 0, 1, 0, 1, 0, 1, 0, 1, 0, 1, 0, 0, 0, 1, 0, 0, 0, 0, 0,\n",
       "       0, 1, 1, 1, 1, 0, 0, 1, 0, 1, 1, 0, 1, 0, 0, 1, 0, 1, 0, 0, 0, 0,\n",
       "       1, 0, 0, 0, 0, 0, 1, 0, 0, 1, 0, 0, 0, 0, 0, 0, 0, 0, 1, 0, 0, 1,\n",
       "       0, 0, 1, 1, 0, 1, 1, 0, 1, 0, 0, 1, 0, 0, 1, 1, 0, 0, 0, 0, 0, 1,\n",
       "       1, 0, 1, 1, 0, 0, 1, 0, 1, 0, 1, 0, 0, 0, 0, 0, 0, 0, 0, 0, 1, 1,\n",
       "       0, 1, 1, 0, 0, 1, 0, 1, 1, 0, 1, 0, 0, 0, 0, 1, 0, 0, 1, 0, 1, 0,\n",
       "       1, 0, 1, 0, 1, 1, 0, 1, 0, 0, 0, 1, 0, 0, 0, 0, 0, 0, 1, 1, 1, 1,\n",
       "       0, 0, 0, 0, 1, 0, 1, 1, 1, 0, 1, 0, 0, 0, 0, 0, 1, 0, 0, 0, 1, 1,\n",
       "       0, 0, 0, 0, 1, 0, 0, 0, 1, 1, 0, 1, 0, 0, 0, 0, 1, 0, 1, 1, 1, 0,\n",
       "       0, 0, 0, 0, 0, 1, 0, 0, 0, 0, 1, 0, 0, 0, 0, 0, 0, 0, 1, 1, 0, 0,\n",
       "       0, 0, 0, 0, 0, 1, 1, 1, 0, 0, 0, 0, 0, 0, 0, 0, 1, 0, 1, 0, 0, 0,\n",
       "       1, 0, 0, 1, 0, 0, 0, 0, 0, 0, 0, 0, 0, 1, 0, 1, 0, 1, 0, 1, 1, 0,\n",
       "       0, 0, 1, 0, 1, 0, 0, 1, 0, 1, 1, 0, 1, 0, 0, 1, 1, 0, 0, 1, 0, 0,\n",
       "       1, 1, 1, 0, 0, 0, 0, 0, 1, 1, 0, 1, 0, 0, 0, 0, 1, 1, 0, 0, 0, 1,\n",
       "       0, 1, 0, 0, 1, 0, 1, 1, 0, 0, 0, 0, 1, 1, 1, 1, 1, 0, 1, 0, 0, 0],\n",
       "      dtype=int64)"
      ]
     },
     "execution_count": 45,
     "metadata": {},
     "output_type": "execute_result"
    }
   ],
   "source": [
    "lr.predict(test_predict)"
   ]
  },
  {
   "cell_type": "code",
   "execution_count": 47,
   "id": "a8c06def",
   "metadata": {
    "ExecuteTime": {
     "end_time": "2023-11-16T06:25:50.233562Z",
     "start_time": "2023-11-16T06:25:50.216000Z"
    }
   },
   "outputs": [],
   "source": [
    "from sklearn.neighbors import KNeighborsClassifier\n",
    "kn = KNeighborsClassifier()"
   ]
  },
  {
   "cell_type": "code",
   "execution_count": 48,
   "id": "a995275f",
   "metadata": {
    "ExecuteTime": {
     "end_time": "2023-11-16T06:25:50.824288Z",
     "start_time": "2023-11-16T06:25:50.800490Z"
    }
   },
   "outputs": [
    {
     "data": {
      "text/html": [
       "<style>#sk-container-id-1 {color: black;}#sk-container-id-1 pre{padding: 0;}#sk-container-id-1 div.sk-toggleable {background-color: white;}#sk-container-id-1 label.sk-toggleable__label {cursor: pointer;display: block;width: 100%;margin-bottom: 0;padding: 0.3em;box-sizing: border-box;text-align: center;}#sk-container-id-1 label.sk-toggleable__label-arrow:before {content: \"▸\";float: left;margin-right: 0.25em;color: #696969;}#sk-container-id-1 label.sk-toggleable__label-arrow:hover:before {color: black;}#sk-container-id-1 div.sk-estimator:hover label.sk-toggleable__label-arrow:before {color: black;}#sk-container-id-1 div.sk-toggleable__content {max-height: 0;max-width: 0;overflow: hidden;text-align: left;background-color: #f0f8ff;}#sk-container-id-1 div.sk-toggleable__content pre {margin: 0.2em;color: black;border-radius: 0.25em;background-color: #f0f8ff;}#sk-container-id-1 input.sk-toggleable__control:checked~div.sk-toggleable__content {max-height: 200px;max-width: 100%;overflow: auto;}#sk-container-id-1 input.sk-toggleable__control:checked~label.sk-toggleable__label-arrow:before {content: \"▾\";}#sk-container-id-1 div.sk-estimator input.sk-toggleable__control:checked~label.sk-toggleable__label {background-color: #d4ebff;}#sk-container-id-1 div.sk-label input.sk-toggleable__control:checked~label.sk-toggleable__label {background-color: #d4ebff;}#sk-container-id-1 input.sk-hidden--visually {border: 0;clip: rect(1px 1px 1px 1px);clip: rect(1px, 1px, 1px, 1px);height: 1px;margin: -1px;overflow: hidden;padding: 0;position: absolute;width: 1px;}#sk-container-id-1 div.sk-estimator {font-family: monospace;background-color: #f0f8ff;border: 1px dotted black;border-radius: 0.25em;box-sizing: border-box;margin-bottom: 0.5em;}#sk-container-id-1 div.sk-estimator:hover {background-color: #d4ebff;}#sk-container-id-1 div.sk-parallel-item::after {content: \"\";width: 100%;border-bottom: 1px solid gray;flex-grow: 1;}#sk-container-id-1 div.sk-label:hover label.sk-toggleable__label {background-color: #d4ebff;}#sk-container-id-1 div.sk-serial::before {content: \"\";position: absolute;border-left: 1px solid gray;box-sizing: border-box;top: 0;bottom: 0;left: 50%;z-index: 0;}#sk-container-id-1 div.sk-serial {display: flex;flex-direction: column;align-items: center;background-color: white;padding-right: 0.2em;padding-left: 0.2em;position: relative;}#sk-container-id-1 div.sk-item {position: relative;z-index: 1;}#sk-container-id-1 div.sk-parallel {display: flex;align-items: stretch;justify-content: center;background-color: white;position: relative;}#sk-container-id-1 div.sk-item::before, #sk-container-id-1 div.sk-parallel-item::before {content: \"\";position: absolute;border-left: 1px solid gray;box-sizing: border-box;top: 0;bottom: 0;left: 50%;z-index: -1;}#sk-container-id-1 div.sk-parallel-item {display: flex;flex-direction: column;z-index: 1;position: relative;background-color: white;}#sk-container-id-1 div.sk-parallel-item:first-child::after {align-self: flex-end;width: 50%;}#sk-container-id-1 div.sk-parallel-item:last-child::after {align-self: flex-start;width: 50%;}#sk-container-id-1 div.sk-parallel-item:only-child::after {width: 0;}#sk-container-id-1 div.sk-dashed-wrapped {border: 1px dashed gray;margin: 0 0.4em 0.5em 0.4em;box-sizing: border-box;padding-bottom: 0.4em;background-color: white;}#sk-container-id-1 div.sk-label label {font-family: monospace;font-weight: bold;display: inline-block;line-height: 1.2em;}#sk-container-id-1 div.sk-label-container {text-align: center;}#sk-container-id-1 div.sk-container {/* jupyter's `normalize.less` sets `[hidden] { display: none; }` but bootstrap.min.css set `[hidden] { display: none !important; }` so we also need the `!important` here to be able to override the default hidden behavior on the sphinx rendered scikit-learn.org. See: https://github.com/scikit-learn/scikit-learn/issues/21755 */display: inline-block !important;position: relative;}#sk-container-id-1 div.sk-text-repr-fallback {display: none;}</style><div id=\"sk-container-id-1\" class=\"sk-top-container\"><div class=\"sk-text-repr-fallback\"><pre>KNeighborsClassifier()</pre><b>In a Jupyter environment, please rerun this cell to show the HTML representation or trust the notebook. <br />On GitHub, the HTML representation is unable to render, please try loading this page with nbviewer.org.</b></div><div class=\"sk-container\" hidden><div class=\"sk-item\"><div class=\"sk-estimator sk-toggleable\"><input class=\"sk-toggleable__control sk-hidden--visually\" id=\"sk-estimator-id-1\" type=\"checkbox\" checked><label for=\"sk-estimator-id-1\" class=\"sk-toggleable__label sk-toggleable__label-arrow\">KNeighborsClassifier</label><div class=\"sk-toggleable__content\"><pre>KNeighborsClassifier()</pre></div></div></div></div></div>"
      ],
      "text/plain": [
       "KNeighborsClassifier()"
      ]
     },
     "execution_count": 48,
     "metadata": {},
     "output_type": "execute_result"
    }
   ],
   "source": [
    "kn.fit(train_scaled , train_target)"
   ]
  },
  {
   "cell_type": "code",
   "execution_count": 49,
   "id": "ac0af7fb",
   "metadata": {
    "ExecuteTime": {
     "end_time": "2023-11-16T06:25:51.950783Z",
     "start_time": "2023-11-16T06:25:51.931371Z"
    }
   },
   "outputs": [
    {
     "data": {
      "text/plain": [
       "0.7982062780269058"
      ]
     },
     "execution_count": 49,
     "metadata": {},
     "output_type": "execute_result"
    }
   ],
   "source": [
    "accuracy_score(test_target , kn.predict(test_scaled))"
   ]
  },
  {
   "cell_type": "code",
   "execution_count": 50,
   "id": "901b65de",
   "metadata": {
    "ExecuteTime": {
     "end_time": "2023-11-16T06:25:54.398471Z",
     "start_time": "2023-11-16T06:25:54.379799Z"
    }
   },
   "outputs": [],
   "source": [
    "params = {'n_neighbors' : [3,5,7,9,11,13,15,17,19]}"
   ]
  },
  {
   "cell_type": "code",
   "execution_count": 51,
   "id": "077d42c2",
   "metadata": {
    "ExecuteTime": {
     "end_time": "2023-11-16T06:25:54.680747Z",
     "start_time": "2023-11-16T06:25:54.537080Z"
    }
   },
   "outputs": [
    {
     "data": {
      "text/plain": [
       "{'n_neighbors': 9}"
      ]
     },
     "execution_count": 51,
     "metadata": {},
     "output_type": "execute_result"
    }
   ],
   "source": [
    "#그리드서치 실행\n",
    "from sklearn.model_selection import GridSearchCV\n",
    "gs = GridSearchCV(kn , params , n_jobs = -1)\n",
    "gs.fit(train_scaled , train_target)\n",
    "\n",
    "gs.best_params_"
   ]
  },
  {
   "cell_type": "code",
   "execution_count": 52,
   "id": "e8c3b31f",
   "metadata": {
    "ExecuteTime": {
     "end_time": "2023-11-16T06:25:55.681489Z",
     "start_time": "2023-11-16T06:25:55.662389Z"
    }
   },
   "outputs": [
    {
     "data": {
      "text/plain": [
       "0.8071748878923767"
      ]
     },
     "execution_count": 52,
     "metadata": {},
     "output_type": "execute_result"
    }
   ],
   "source": [
    "kn = KNeighborsClassifier(n_neighbors = 9)\n",
    "kn.fit(train_scaled , train_target)\n",
    "accuracy_score(test_target , kn.predict(test_scaled))"
   ]
  },
  {
   "cell_type": "code",
   "execution_count": 53,
   "id": "8c8a9373",
   "metadata": {
    "ExecuteTime": {
     "end_time": "2023-11-16T06:25:57.525912Z",
     "start_time": "2023-11-16T06:25:57.444754Z"
    }
   },
   "outputs": [],
   "source": [
    "from sklearn.ensemble import VotingClassifier\n",
    "from sklearn.neighbors import KNeighborsClassifier\n",
    "from sklearn.linear_model import LogisticRegression , LinearRegression , Ridge , Lasso"
   ]
  },
  {
   "cell_type": "code",
   "execution_count": 54,
   "id": "2d7b1995",
   "metadata": {
    "ExecuteTime": {
     "end_time": "2023-11-16T06:25:58.400463Z",
     "start_time": "2023-11-16T06:25:58.371226Z"
    }
   },
   "outputs": [
    {
     "name": "stdout",
     "output_type": "stream",
     "text": [
      "voting 분류기 정확도 :  0.8161434977578476\n",
      "LogisticRegression의 정확도 : 0.7982062780269058\n",
      "KNeighborsClassifier의 정확도 : 0.7982062780269058\n"
     ]
    }
   ],
   "source": [
    "lr = LogisticRegression()\n",
    "knn = KNeighborsClassifier()\n",
    "\n",
    "#소프트 보팅\n",
    "\n",
    "vo = VotingClassifier(estimators = [('LR' , lr),('Knn' , knn)] , voting = 'soft')\n",
    "\n",
    "#학습\n",
    "\n",
    "vo.fit(train_scaled , train_target)\n",
    "\n",
    "#예측\n",
    "\n",
    "pred = vo.predict(test_scaled)\n",
    "\n",
    "#정확도\n",
    "\n",
    "accuracy = accuracy_score(test_target , pred)\n",
    "\n",
    "print('voting 분류기 정확도 : ' , accuracy)\n",
    "\n",
    "models = [lr,knn]\n",
    "for i in models:\n",
    "    i.fit(train_scaled , train_target)\n",
    "    pred = i.predict(test_scaled)\n",
    "    model_name = i.__class__.__name__\n",
    "    score = accuracy_score(test_target , pred)\n",
    "    print(f'{model_name}의 정확도 : {score}')"
   ]
  },
  {
   "cell_type": "code",
   "execution_count": 55,
   "id": "d8119f4a",
   "metadata": {
    "ExecuteTime": {
     "end_time": "2023-11-16T06:25:59.944378Z",
     "start_time": "2023-11-16T06:25:59.920750Z"
    }
   },
   "outputs": [
    {
     "data": {
      "text/plain": [
       "array([0, 0, 0, 0, 1, 0, 1, 0, 1, 0, 0, 0, 1, 0, 1, 1, 0, 0, 1, 0, 0, 0,\n",
       "       1, 1, 1, 0, 1, 0, 0, 0, 0, 0, 1, 0, 0, 0, 0, 1, 0, 0, 0, 0, 0, 1,\n",
       "       1, 0, 0, 0, 1, 1, 0, 0, 1, 1, 0, 0, 0, 0, 0, 1, 0, 0, 0, 1, 1, 1,\n",
       "       1, 0, 0, 1, 1, 0, 0, 0, 1, 0, 0, 1, 0, 1, 0, 0, 0, 0, 0, 0, 1, 1,\n",
       "       1, 1, 1, 0, 1, 0, 0, 0, 1, 0, 1, 0, 1, 0, 0, 0, 1, 0, 0, 0, 0, 0,\n",
       "       0, 1, 1, 1, 1, 0, 0, 1, 0, 1, 1, 0, 1, 0, 0, 1, 0, 1, 0, 0, 0, 0,\n",
       "       0, 0, 0, 0, 0, 0, 1, 0, 0, 1, 0, 0, 0, 0, 0, 0, 0, 0, 1, 0, 0, 1,\n",
       "       0, 0, 1, 1, 0, 1, 1, 0, 1, 0, 0, 1, 0, 0, 1, 1, 0, 0, 0, 0, 0, 1,\n",
       "       1, 0, 1, 1, 0, 0, 1, 0, 1, 0, 1, 0, 0, 0, 0, 0, 0, 0, 1, 0, 1, 1,\n",
       "       0, 0, 1, 1, 0, 1, 0, 0, 1, 0, 1, 0, 0, 0, 0, 1, 0, 0, 1, 0, 1, 0,\n",
       "       1, 0, 1, 0, 1, 1, 0, 1, 0, 0, 0, 1, 0, 0, 0, 0, 0, 0, 1, 1, 1, 1,\n",
       "       0, 0, 0, 0, 1, 0, 1, 1, 1, 0, 0, 0, 0, 0, 0, 0, 1, 0, 0, 0, 1, 1,\n",
       "       0, 0, 0, 0, 0, 0, 1, 0, 1, 1, 0, 1, 0, 0, 0, 0, 1, 0, 1, 1, 1, 0,\n",
       "       0, 0, 0, 0, 0, 1, 0, 0, 0, 0, 1, 0, 0, 0, 0, 0, 0, 0, 1, 1, 0, 1,\n",
       "       0, 0, 0, 0, 0, 1, 1, 1, 0, 0, 0, 0, 0, 0, 0, 1, 1, 0, 1, 1, 0, 0,\n",
       "       1, 0, 0, 1, 0, 0, 0, 0, 0, 0, 0, 0, 0, 1, 0, 1, 0, 1, 0, 1, 1, 0,\n",
       "       0, 0, 1, 0, 1, 0, 0, 1, 0, 1, 1, 0, 1, 0, 0, 1, 1, 0, 0, 1, 0, 0,\n",
       "       1, 1, 0, 0, 0, 0, 0, 0, 0, 1, 0, 1, 0, 0, 0, 0, 0, 1, 0, 0, 0, 1,\n",
       "       0, 1, 0, 0, 1, 0, 1, 1, 1, 0, 0, 0, 1, 1, 1, 1, 1, 0, 1, 0, 0, 0],\n",
       "      dtype=int64)"
      ]
     },
     "execution_count": 55,
     "metadata": {},
     "output_type": "execute_result"
    }
   ],
   "source": [
    "vo.predict(test_predict)"
   ]
  },
  {
   "cell_type": "code",
   "execution_count": null,
   "id": "b63001f7",
   "metadata": {},
   "outputs": [],
   "source": []
  },
  {
   "cell_type": "code",
   "execution_count": 58,
   "id": "a85dcdca",
   "metadata": {
    "ExecuteTime": {
     "end_time": "2023-11-16T06:26:08.154859Z",
     "start_time": "2023-11-16T06:26:08.147582Z"
    }
   },
   "outputs": [],
   "source": [
    "from sklearn.ensemble import RandomForestClassifier"
   ]
  },
  {
   "cell_type": "code",
   "execution_count": 59,
   "id": "63ef3812",
   "metadata": {
    "ExecuteTime": {
     "end_time": "2023-11-16T06:26:08.497659Z",
     "start_time": "2023-11-16T06:26:08.310346Z"
    }
   },
   "outputs": [
    {
     "data": {
      "text/html": [
       "<style>#sk-container-id-2 {color: black;}#sk-container-id-2 pre{padding: 0;}#sk-container-id-2 div.sk-toggleable {background-color: white;}#sk-container-id-2 label.sk-toggleable__label {cursor: pointer;display: block;width: 100%;margin-bottom: 0;padding: 0.3em;box-sizing: border-box;text-align: center;}#sk-container-id-2 label.sk-toggleable__label-arrow:before {content: \"▸\";float: left;margin-right: 0.25em;color: #696969;}#sk-container-id-2 label.sk-toggleable__label-arrow:hover:before {color: black;}#sk-container-id-2 div.sk-estimator:hover label.sk-toggleable__label-arrow:before {color: black;}#sk-container-id-2 div.sk-toggleable__content {max-height: 0;max-width: 0;overflow: hidden;text-align: left;background-color: #f0f8ff;}#sk-container-id-2 div.sk-toggleable__content pre {margin: 0.2em;color: black;border-radius: 0.25em;background-color: #f0f8ff;}#sk-container-id-2 input.sk-toggleable__control:checked~div.sk-toggleable__content {max-height: 200px;max-width: 100%;overflow: auto;}#sk-container-id-2 input.sk-toggleable__control:checked~label.sk-toggleable__label-arrow:before {content: \"▾\";}#sk-container-id-2 div.sk-estimator input.sk-toggleable__control:checked~label.sk-toggleable__label {background-color: #d4ebff;}#sk-container-id-2 div.sk-label input.sk-toggleable__control:checked~label.sk-toggleable__label {background-color: #d4ebff;}#sk-container-id-2 input.sk-hidden--visually {border: 0;clip: rect(1px 1px 1px 1px);clip: rect(1px, 1px, 1px, 1px);height: 1px;margin: -1px;overflow: hidden;padding: 0;position: absolute;width: 1px;}#sk-container-id-2 div.sk-estimator {font-family: monospace;background-color: #f0f8ff;border: 1px dotted black;border-radius: 0.25em;box-sizing: border-box;margin-bottom: 0.5em;}#sk-container-id-2 div.sk-estimator:hover {background-color: #d4ebff;}#sk-container-id-2 div.sk-parallel-item::after {content: \"\";width: 100%;border-bottom: 1px solid gray;flex-grow: 1;}#sk-container-id-2 div.sk-label:hover label.sk-toggleable__label {background-color: #d4ebff;}#sk-container-id-2 div.sk-serial::before {content: \"\";position: absolute;border-left: 1px solid gray;box-sizing: border-box;top: 0;bottom: 0;left: 50%;z-index: 0;}#sk-container-id-2 div.sk-serial {display: flex;flex-direction: column;align-items: center;background-color: white;padding-right: 0.2em;padding-left: 0.2em;position: relative;}#sk-container-id-2 div.sk-item {position: relative;z-index: 1;}#sk-container-id-2 div.sk-parallel {display: flex;align-items: stretch;justify-content: center;background-color: white;position: relative;}#sk-container-id-2 div.sk-item::before, #sk-container-id-2 div.sk-parallel-item::before {content: \"\";position: absolute;border-left: 1px solid gray;box-sizing: border-box;top: 0;bottom: 0;left: 50%;z-index: -1;}#sk-container-id-2 div.sk-parallel-item {display: flex;flex-direction: column;z-index: 1;position: relative;background-color: white;}#sk-container-id-2 div.sk-parallel-item:first-child::after {align-self: flex-end;width: 50%;}#sk-container-id-2 div.sk-parallel-item:last-child::after {align-self: flex-start;width: 50%;}#sk-container-id-2 div.sk-parallel-item:only-child::after {width: 0;}#sk-container-id-2 div.sk-dashed-wrapped {border: 1px dashed gray;margin: 0 0.4em 0.5em 0.4em;box-sizing: border-box;padding-bottom: 0.4em;background-color: white;}#sk-container-id-2 div.sk-label label {font-family: monospace;font-weight: bold;display: inline-block;line-height: 1.2em;}#sk-container-id-2 div.sk-label-container {text-align: center;}#sk-container-id-2 div.sk-container {/* jupyter's `normalize.less` sets `[hidden] { display: none; }` but bootstrap.min.css set `[hidden] { display: none !important; }` so we also need the `!important` here to be able to override the default hidden behavior on the sphinx rendered scikit-learn.org. See: https://github.com/scikit-learn/scikit-learn/issues/21755 */display: inline-block !important;position: relative;}#sk-container-id-2 div.sk-text-repr-fallback {display: none;}</style><div id=\"sk-container-id-2\" class=\"sk-top-container\"><div class=\"sk-text-repr-fallback\"><pre>RandomForestClassifier(n_jobs=-1, oob_score=True, random_state=42)</pre><b>In a Jupyter environment, please rerun this cell to show the HTML representation or trust the notebook. <br />On GitHub, the HTML representation is unable to render, please try loading this page with nbviewer.org.</b></div><div class=\"sk-container\" hidden><div class=\"sk-item\"><div class=\"sk-estimator sk-toggleable\"><input class=\"sk-toggleable__control sk-hidden--visually\" id=\"sk-estimator-id-2\" type=\"checkbox\" checked><label for=\"sk-estimator-id-2\" class=\"sk-toggleable__label sk-toggleable__label-arrow\">RandomForestClassifier</label><div class=\"sk-toggleable__content\"><pre>RandomForestClassifier(n_jobs=-1, oob_score=True, random_state=42)</pre></div></div></div></div></div>"
      ],
      "text/plain": [
       "RandomForestClassifier(n_jobs=-1, oob_score=True, random_state=42)"
      ]
     },
     "execution_count": 59,
     "metadata": {},
     "output_type": "execute_result"
    }
   ],
   "source": [
    "rf = RandomForestClassifier(oob_score = True , random_state = 42 , n_jobs = -1)\n",
    "rf.fit(train_input , train_target)"
   ]
  },
  {
   "cell_type": "code",
   "execution_count": 60,
   "id": "5a187408",
   "metadata": {
    "ExecuteTime": {
     "end_time": "2023-11-16T06:26:08.622764Z",
     "start_time": "2023-11-16T06:26:08.604902Z"
    }
   },
   "outputs": [],
   "source": [
    "params = {\n",
    "    'max_depth' : [8,16,24],\n",
    "    'min_samples_leaf' : [1,6,12],\n",
    "    'min_samples_split' : [2,8,16]\n",
    "}"
   ]
  },
  {
   "cell_type": "code",
   "execution_count": 61,
   "id": "232ae63b",
   "metadata": {
    "ExecuteTime": {
     "end_time": "2023-11-16T06:26:15.646817Z",
     "start_time": "2023-11-16T06:26:10.393382Z"
    }
   },
   "outputs": [
    {
     "data": {
      "text/plain": [
       "{'max_depth': 8, 'min_samples_leaf': 1, 'min_samples_split': 16}"
      ]
     },
     "execution_count": 61,
     "metadata": {},
     "output_type": "execute_result"
    }
   ],
   "source": [
    "from sklearn.model_selection import GridSearchCV\n",
    "gs = GridSearchCV(RandomForestClassifier(random_state = 42 , n_jobs = -1) , params , n_jobs = -1)\n",
    "gs.fit(train_input , train_target)\n",
    "gs.best_params_"
   ]
  },
  {
   "cell_type": "code",
   "execution_count": 62,
   "id": "c19f0638",
   "metadata": {
    "ExecuteTime": {
     "end_time": "2023-11-16T06:26:15.661992Z",
     "start_time": "2023-11-16T06:26:15.647992Z"
    }
   },
   "outputs": [],
   "source": [
    "rf = RandomForestClassifier(max_depth = 8 , min_samples_split = 16 , random_state = 42 , n_jobs = -1)"
   ]
  },
  {
   "cell_type": "code",
   "execution_count": 63,
   "id": "58704a20",
   "metadata": {
    "ExecuteTime": {
     "end_time": "2023-11-16T06:26:15.818843Z",
     "start_time": "2023-11-16T06:26:15.663258Z"
    }
   },
   "outputs": [
    {
     "data": {
      "text/html": [
       "<style>#sk-container-id-3 {color: black;}#sk-container-id-3 pre{padding: 0;}#sk-container-id-3 div.sk-toggleable {background-color: white;}#sk-container-id-3 label.sk-toggleable__label {cursor: pointer;display: block;width: 100%;margin-bottom: 0;padding: 0.3em;box-sizing: border-box;text-align: center;}#sk-container-id-3 label.sk-toggleable__label-arrow:before {content: \"▸\";float: left;margin-right: 0.25em;color: #696969;}#sk-container-id-3 label.sk-toggleable__label-arrow:hover:before {color: black;}#sk-container-id-3 div.sk-estimator:hover label.sk-toggleable__label-arrow:before {color: black;}#sk-container-id-3 div.sk-toggleable__content {max-height: 0;max-width: 0;overflow: hidden;text-align: left;background-color: #f0f8ff;}#sk-container-id-3 div.sk-toggleable__content pre {margin: 0.2em;color: black;border-radius: 0.25em;background-color: #f0f8ff;}#sk-container-id-3 input.sk-toggleable__control:checked~div.sk-toggleable__content {max-height: 200px;max-width: 100%;overflow: auto;}#sk-container-id-3 input.sk-toggleable__control:checked~label.sk-toggleable__label-arrow:before {content: \"▾\";}#sk-container-id-3 div.sk-estimator input.sk-toggleable__control:checked~label.sk-toggleable__label {background-color: #d4ebff;}#sk-container-id-3 div.sk-label input.sk-toggleable__control:checked~label.sk-toggleable__label {background-color: #d4ebff;}#sk-container-id-3 input.sk-hidden--visually {border: 0;clip: rect(1px 1px 1px 1px);clip: rect(1px, 1px, 1px, 1px);height: 1px;margin: -1px;overflow: hidden;padding: 0;position: absolute;width: 1px;}#sk-container-id-3 div.sk-estimator {font-family: monospace;background-color: #f0f8ff;border: 1px dotted black;border-radius: 0.25em;box-sizing: border-box;margin-bottom: 0.5em;}#sk-container-id-3 div.sk-estimator:hover {background-color: #d4ebff;}#sk-container-id-3 div.sk-parallel-item::after {content: \"\";width: 100%;border-bottom: 1px solid gray;flex-grow: 1;}#sk-container-id-3 div.sk-label:hover label.sk-toggleable__label {background-color: #d4ebff;}#sk-container-id-3 div.sk-serial::before {content: \"\";position: absolute;border-left: 1px solid gray;box-sizing: border-box;top: 0;bottom: 0;left: 50%;z-index: 0;}#sk-container-id-3 div.sk-serial {display: flex;flex-direction: column;align-items: center;background-color: white;padding-right: 0.2em;padding-left: 0.2em;position: relative;}#sk-container-id-3 div.sk-item {position: relative;z-index: 1;}#sk-container-id-3 div.sk-parallel {display: flex;align-items: stretch;justify-content: center;background-color: white;position: relative;}#sk-container-id-3 div.sk-item::before, #sk-container-id-3 div.sk-parallel-item::before {content: \"\";position: absolute;border-left: 1px solid gray;box-sizing: border-box;top: 0;bottom: 0;left: 50%;z-index: -1;}#sk-container-id-3 div.sk-parallel-item {display: flex;flex-direction: column;z-index: 1;position: relative;background-color: white;}#sk-container-id-3 div.sk-parallel-item:first-child::after {align-self: flex-end;width: 50%;}#sk-container-id-3 div.sk-parallel-item:last-child::after {align-self: flex-start;width: 50%;}#sk-container-id-3 div.sk-parallel-item:only-child::after {width: 0;}#sk-container-id-3 div.sk-dashed-wrapped {border: 1px dashed gray;margin: 0 0.4em 0.5em 0.4em;box-sizing: border-box;padding-bottom: 0.4em;background-color: white;}#sk-container-id-3 div.sk-label label {font-family: monospace;font-weight: bold;display: inline-block;line-height: 1.2em;}#sk-container-id-3 div.sk-label-container {text-align: center;}#sk-container-id-3 div.sk-container {/* jupyter's `normalize.less` sets `[hidden] { display: none; }` but bootstrap.min.css set `[hidden] { display: none !important; }` so we also need the `!important` here to be able to override the default hidden behavior on the sphinx rendered scikit-learn.org. See: https://github.com/scikit-learn/scikit-learn/issues/21755 */display: inline-block !important;position: relative;}#sk-container-id-3 div.sk-text-repr-fallback {display: none;}</style><div id=\"sk-container-id-3\" class=\"sk-top-container\"><div class=\"sk-text-repr-fallback\"><pre>RandomForestClassifier(max_depth=8, min_samples_split=16, n_jobs=-1,\n",
       "                       random_state=42)</pre><b>In a Jupyter environment, please rerun this cell to show the HTML representation or trust the notebook. <br />On GitHub, the HTML representation is unable to render, please try loading this page with nbviewer.org.</b></div><div class=\"sk-container\" hidden><div class=\"sk-item\"><div class=\"sk-estimator sk-toggleable\"><input class=\"sk-toggleable__control sk-hidden--visually\" id=\"sk-estimator-id-3\" type=\"checkbox\" checked><label for=\"sk-estimator-id-3\" class=\"sk-toggleable__label sk-toggleable__label-arrow\">RandomForestClassifier</label><div class=\"sk-toggleable__content\"><pre>RandomForestClassifier(max_depth=8, min_samples_split=16, n_jobs=-1,\n",
       "                       random_state=42)</pre></div></div></div></div></div>"
      ],
      "text/plain": [
       "RandomForestClassifier(max_depth=8, min_samples_split=16, n_jobs=-1,\n",
       "                       random_state=42)"
      ]
     },
     "execution_count": 63,
     "metadata": {},
     "output_type": "execute_result"
    }
   ],
   "source": [
    "rf.fit(train_input , train_target)"
   ]
  },
  {
   "cell_type": "code",
   "execution_count": 64,
   "id": "f606fb19",
   "metadata": {
    "ExecuteTime": {
     "end_time": "2023-11-16T06:26:15.865367Z",
     "start_time": "2023-11-16T06:26:15.821825Z"
    }
   },
   "outputs": [
    {
     "data": {
      "text/plain": [
       "array([0, 0, 0, 0, 1, 0, 1, 0, 1, 0, 0, 0, 1, 0, 1, 1, 0, 0, 0, 0, 0, 0,\n",
       "       1, 0, 1, 0, 1, 0, 0, 0, 0, 0, 0, 0, 0, 0, 0, 1, 0, 0, 0, 0, 0, 1,\n",
       "       1, 0, 0, 0, 1, 1, 0, 0, 1, 1, 0, 0, 0, 0, 0, 1, 0, 0, 0, 1, 1, 1,\n",
       "       1, 0, 0, 1, 1, 0, 0, 0, 1, 0, 0, 1, 0, 1, 1, 0, 0, 0, 0, 0, 1, 1,\n",
       "       1, 1, 1, 0, 1, 0, 0, 0, 1, 0, 1, 0, 1, 0, 0, 0, 1, 0, 0, 0, 0, 0,\n",
       "       0, 1, 1, 1, 1, 0, 0, 1, 0, 1, 1, 0, 1, 0, 0, 1, 0, 1, 0, 0, 0, 0,\n",
       "       0, 0, 0, 0, 0, 0, 0, 0, 0, 1, 0, 0, 0, 0, 0, 0, 0, 0, 1, 0, 0, 1,\n",
       "       0, 0, 1, 1, 0, 1, 1, 1, 1, 0, 0, 0, 0, 0, 1, 1, 0, 0, 0, 0, 0, 1,\n",
       "       1, 0, 1, 1, 0, 0, 1, 0, 1, 0, 1, 0, 0, 0, 0, 0, 0, 0, 1, 0, 1, 1,\n",
       "       0, 0, 1, 1, 1, 1, 0, 0, 1, 0, 1, 0, 0, 0, 0, 1, 0, 0, 1, 0, 1, 0,\n",
       "       1, 0, 1, 0, 1, 1, 0, 1, 0, 0, 0, 1, 0, 0, 1, 0, 0, 0, 1, 1, 1, 1,\n",
       "       0, 0, 0, 0, 1, 0, 1, 1, 1, 0, 1, 0, 0, 0, 0, 0, 1, 0, 0, 0, 1, 1,\n",
       "       0, 0, 0, 0, 0, 0, 0, 0, 1, 1, 0, 1, 0, 0, 0, 0, 0, 1, 1, 1, 1, 0,\n",
       "       0, 0, 0, 0, 0, 1, 0, 0, 0, 0, 1, 0, 0, 0, 0, 0, 0, 0, 1, 1, 0, 1,\n",
       "       0, 0, 0, 0, 0, 1, 1, 1, 0, 0, 0, 0, 0, 0, 0, 0, 1, 0, 1, 0, 0, 0,\n",
       "       1, 0, 0, 1, 0, 0, 0, 0, 0, 0, 0, 0, 0, 1, 0, 1, 0, 0, 0, 1, 1, 0,\n",
       "       0, 0, 1, 0, 1, 0, 0, 0, 0, 1, 1, 0, 1, 0, 0, 0, 1, 0, 0, 1, 0, 0,\n",
       "       1, 1, 0, 0, 0, 0, 0, 0, 1, 1, 0, 1, 0, 0, 0, 0, 0, 1, 0, 0, 0, 1,\n",
       "       0, 1, 0, 0, 1, 0, 1, 0, 0, 0, 0, 0, 1, 1, 1, 1, 1, 0, 1, 0, 0, 0],\n",
       "      dtype=int64)"
      ]
     },
     "execution_count": 64,
     "metadata": {},
     "output_type": "execute_result"
    }
   ],
   "source": [
    "rf.predict(test)"
   ]
  },
  {
   "cell_type": "code",
   "execution_count": 66,
   "id": "c2a8a23e",
   "metadata": {
    "ExecuteTime": {
     "end_time": "2023-11-16T06:26:50.686596Z",
     "start_time": "2023-11-16T06:26:50.647615Z"
    }
   },
   "outputs": [
    {
     "data": {
      "text/plain": [
       "0.7757847533632287"
      ]
     },
     "execution_count": 66,
     "metadata": {},
     "output_type": "execute_result"
    }
   ],
   "source": [
    "rf.score(test_scaled , test_target)"
   ]
  },
  {
   "cell_type": "code",
   "execution_count": 68,
   "id": "1826845c",
   "metadata": {
    "ExecuteTime": {
     "end_time": "2023-11-16T06:27:44.627546Z",
     "start_time": "2023-11-16T06:27:44.620890Z"
    }
   },
   "outputs": [],
   "source": [
    "from sklearn.metrics import classification_report"
   ]
  },
  {
   "cell_type": "code",
   "execution_count": 69,
   "id": "dfb88fbd",
   "metadata": {
    "ExecuteTime": {
     "end_time": "2023-11-16T06:28:06.252779Z",
     "start_time": "2023-11-16T06:28:06.228671Z"
    }
   },
   "outputs": [
    {
     "name": "stdout",
     "output_type": "stream",
     "text": [
      "              precision    recall  f1-score   support\n",
      "\n",
      "           0       0.84      0.84      0.84       139\n",
      "           1       0.73      0.73      0.73        84\n",
      "\n",
      "    accuracy                           0.80       223\n",
      "   macro avg       0.79      0.78      0.78       223\n",
      "weighted avg       0.80      0.80      0.80       223\n",
      "\n"
     ]
    }
   ],
   "source": [
    "print(classification_report(test_target , knn.predict(test_scaled)))"
   ]
  },
  {
   "cell_type": "code",
   "execution_count": 70,
   "id": "e0699d78",
   "metadata": {
    "ExecuteTime": {
     "end_time": "2023-11-16T06:28:19.346531Z",
     "start_time": "2023-11-16T06:28:19.301363Z"
    }
   },
   "outputs": [
    {
     "name": "stdout",
     "output_type": "stream",
     "text": [
      "              precision    recall  f1-score   support\n",
      "\n",
      "           0       0.86      0.76      0.81       139\n",
      "           1       0.67      0.80      0.73        84\n",
      "\n",
      "    accuracy                           0.78       223\n",
      "   macro avg       0.77      0.78      0.77       223\n",
      "weighted avg       0.79      0.78      0.78       223\n",
      "\n"
     ]
    }
   ],
   "source": [
    "print(classification_report(test_target , rf.predict(test_scaled)))"
   ]
  },
  {
   "cell_type": "code",
   "execution_count": 71,
   "id": "3315a00b",
   "metadata": {
    "ExecuteTime": {
     "end_time": "2023-11-16T06:28:25.164689Z",
     "start_time": "2023-11-16T06:28:25.147211Z"
    }
   },
   "outputs": [
    {
     "name": "stdout",
     "output_type": "stream",
     "text": [
      "              precision    recall  f1-score   support\n",
      "\n",
      "           0       0.83      0.88      0.86       139\n",
      "           1       0.79      0.70      0.74        84\n",
      "\n",
      "    accuracy                           0.82       223\n",
      "   macro avg       0.81      0.79      0.80       223\n",
      "weighted avg       0.81      0.82      0.81       223\n",
      "\n"
     ]
    }
   ],
   "source": [
    "print(classification_report(test_target , vo.predict(test_scaled)))"
   ]
  },
  {
   "cell_type": "code",
   "execution_count": 72,
   "id": "d89cf829",
   "metadata": {
    "ExecuteTime": {
     "end_time": "2023-11-16T06:29:07.286944Z",
     "start_time": "2023-11-16T06:29:07.273671Z"
    }
   },
   "outputs": [
    {
     "data": {
      "text/plain": [
       "((668, 7), (223, 7), (668,))"
      ]
     },
     "execution_count": 72,
     "metadata": {},
     "output_type": "execute_result"
    }
   ],
   "source": [
    "train_scaled.shape , test_scaled.shape , train_target.shape"
   ]
  },
  {
   "cell_type": "code",
   "execution_count": 74,
   "id": "df1222ac",
   "metadata": {
    "ExecuteTime": {
     "end_time": "2023-11-16T06:29:39.713630Z",
     "start_time": "2023-11-16T06:29:39.696307Z"
    }
   },
   "outputs": [],
   "source": [
    "from tensorflow.keras.models import Sequential\n",
    "from tensorflow.keras.layers import Dense"
   ]
  },
  {
   "cell_type": "code",
   "execution_count": 108,
   "id": "b94d98fe",
   "metadata": {
    "ExecuteTime": {
     "end_time": "2023-11-16T06:46:17.793169Z",
     "start_time": "2023-11-16T06:46:17.740608Z"
    }
   },
   "outputs": [
    {
     "name": "stdout",
     "output_type": "stream",
     "text": [
      "Model: \"sequential_5\"\n",
      "_________________________________________________________________\n",
      " Layer (type)                Output Shape              Param #   \n",
      "=================================================================\n",
      " dense_14 (Dense)            (None, 30)                240       \n",
      "                                                                 \n",
      " dense_15 (Dense)            (None, 8)                 248       \n",
      "                                                                 \n",
      " dense_16 (Dense)            (None, 1)                 9         \n",
      "                                                                 \n",
      "=================================================================\n",
      "Total params: 497 (1.94 KB)\n",
      "Trainable params: 497 (1.94 KB)\n",
      "Non-trainable params: 0 (0.00 Byte)\n",
      "_________________________________________________________________\n"
     ]
    }
   ],
   "source": [
    "model = Sequential()\n",
    "model.add(Dense(30,input_dim = 7 , activation = 'softplus'))\n",
    "model.add(Dense(8 , activation = 'softplus'))\n",
    "model.add(Dense(1 , activation = 'sigmoid'))\n",
    "model.summary()"
   ]
  },
  {
   "cell_type": "code",
   "execution_count": 109,
   "id": "9b02b143",
   "metadata": {
    "ExecuteTime": {
     "end_time": "2023-11-16T06:46:18.416585Z",
     "start_time": "2023-11-16T06:46:18.398297Z"
    }
   },
   "outputs": [],
   "source": [
    "model.compile(optimizer = 'adam' , loss = 'binary_crossentropy' , metrics = ['accuracy'])"
   ]
  },
  {
   "cell_type": "code",
   "execution_count": 101,
   "id": "7c134104",
   "metadata": {
    "ExecuteTime": {
     "end_time": "2023-11-16T06:36:33.822085Z",
     "start_time": "2023-11-16T06:36:17.475950Z"
    }
   },
   "outputs": [
    {
     "name": "stdout",
     "output_type": "stream",
     "text": [
      "Epoch 1/600\n",
      "21/21 [==============================] - 0s 1ms/step - loss: 1.1243 - accuracy: 0.6228\n",
      "Epoch 2/600\n",
      "21/21 [==============================] - 0s 1ms/step - loss: 0.7036 - accuracy: 0.6602\n",
      "Epoch 3/600\n",
      "21/21 [==============================] - 0s 2ms/step - loss: 0.6556 - accuracy: 0.6437\n",
      "Epoch 4/600\n",
      "21/21 [==============================] - 0s 1ms/step - loss: 0.6430 - accuracy: 0.6557\n",
      "Epoch 5/600\n",
      "21/21 [==============================] - 0s 1ms/step - loss: 0.6335 - accuracy: 0.6572\n",
      "Epoch 6/600\n",
      "21/21 [==============================] - 0s 1ms/step - loss: 0.6118 - accuracy: 0.6617\n",
      "Epoch 7/600\n",
      "21/21 [==============================] - 0s 1ms/step - loss: 0.6106 - accuracy: 0.6677\n",
      "Epoch 8/600\n",
      "21/21 [==============================] - 0s 1ms/step - loss: 0.6065 - accuracy: 0.6766\n",
      "Epoch 9/600\n",
      "21/21 [==============================] - 0s 1ms/step - loss: 0.5872 - accuracy: 0.6841\n",
      "Epoch 10/600\n",
      "21/21 [==============================] - 0s 1ms/step - loss: 0.5857 - accuracy: 0.6886\n",
      "Epoch 11/600\n",
      "21/21 [==============================] - 0s 1ms/step - loss: 0.5705 - accuracy: 0.6931\n",
      "Epoch 12/600\n",
      "21/21 [==============================] - 0s 1ms/step - loss: 0.5666 - accuracy: 0.7036\n",
      "Epoch 13/600\n",
      "21/21 [==============================] - 0s 1ms/step - loss: 0.5632 - accuracy: 0.7156\n",
      "Epoch 14/600\n",
      "21/21 [==============================] - 0s 1ms/step - loss: 0.5410 - accuracy: 0.7290\n",
      "Epoch 15/600\n",
      "21/21 [==============================] - 0s 1ms/step - loss: 0.5537 - accuracy: 0.7231\n",
      "Epoch 16/600\n",
      "21/21 [==============================] - 0s 2ms/step - loss: 0.6151 - accuracy: 0.7216\n",
      "Epoch 17/600\n",
      "21/21 [==============================] - 0s 1ms/step - loss: 0.5376 - accuracy: 0.7246\n",
      "Epoch 18/600\n",
      "21/21 [==============================] - 0s 1ms/step - loss: 0.5147 - accuracy: 0.7470\n",
      "Epoch 19/600\n",
      "21/21 [==============================] - 0s 1ms/step - loss: 0.5191 - accuracy: 0.7650\n",
      "Epoch 20/600\n",
      "21/21 [==============================] - 0s 1ms/step - loss: 0.5184 - accuracy: 0.7455\n",
      "Epoch 21/600\n",
      "21/21 [==============================] - 0s 1ms/step - loss: 0.5037 - accuracy: 0.7680\n",
      "Epoch 22/600\n",
      "21/21 [==============================] - 0s 2ms/step - loss: 0.4928 - accuracy: 0.7754\n",
      "Epoch 23/600\n",
      "21/21 [==============================] - 0s 1ms/step - loss: 0.4860 - accuracy: 0.7844\n",
      "Epoch 24/600\n",
      "21/21 [==============================] - 0s 1ms/step - loss: 0.4817 - accuracy: 0.7874\n",
      "Epoch 25/600\n",
      "21/21 [==============================] - 0s 1ms/step - loss: 0.4806 - accuracy: 0.7874\n",
      "Epoch 26/600\n",
      "21/21 [==============================] - 0s 1ms/step - loss: 0.4800 - accuracy: 0.7859\n",
      "Epoch 27/600\n",
      "21/21 [==============================] - 0s 1ms/step - loss: 0.4727 - accuracy: 0.7934\n",
      "Epoch 28/600\n",
      "21/21 [==============================] - 0s 1ms/step - loss: 0.4747 - accuracy: 0.7859\n",
      "Epoch 29/600\n",
      "21/21 [==============================] - 0s 1ms/step - loss: 0.4738 - accuracy: 0.7844\n",
      "Epoch 30/600\n",
      "21/21 [==============================] - 0s 1ms/step - loss: 0.4674 - accuracy: 0.7994\n",
      "Epoch 31/600\n",
      "21/21 [==============================] - 0s 990us/step - loss: 0.4901 - accuracy: 0.7874\n",
      "Epoch 32/600\n",
      "21/21 [==============================] - 0s 1ms/step - loss: 0.4733 - accuracy: 0.7934\n",
      "Epoch 33/600\n",
      "21/21 [==============================] - 0s 1ms/step - loss: 0.4605 - accuracy: 0.7964\n",
      "Epoch 34/600\n",
      "21/21 [==============================] - 0s 1ms/step - loss: 0.4593 - accuracy: 0.8084\n",
      "Epoch 35/600\n",
      "21/21 [==============================] - 0s 1ms/step - loss: 0.4547 - accuracy: 0.8054\n",
      "Epoch 36/600\n",
      "21/21 [==============================] - 0s 1ms/step - loss: 0.4573 - accuracy: 0.7919\n",
      "Epoch 37/600\n",
      "21/21 [==============================] - 0s 1ms/step - loss: 0.4535 - accuracy: 0.8099\n",
      "Epoch 38/600\n",
      "21/21 [==============================] - 0s 965us/step - loss: 0.4587 - accuracy: 0.8054\n",
      "Epoch 39/600\n",
      "21/21 [==============================] - 0s 1ms/step - loss: 0.4644 - accuracy: 0.7964\n",
      "Epoch 40/600\n",
      "21/21 [==============================] - 0s 1ms/step - loss: 0.4555 - accuracy: 0.7994\n",
      "Epoch 41/600\n",
      "21/21 [==============================] - 0s 1ms/step - loss: 0.4775 - accuracy: 0.7904\n",
      "Epoch 42/600\n",
      "21/21 [==============================] - 0s 1ms/step - loss: 0.4587 - accuracy: 0.7949\n",
      "Epoch 43/600\n",
      "21/21 [==============================] - 0s 1ms/step - loss: 0.4459 - accuracy: 0.7979\n",
      "Epoch 44/600\n",
      "21/21 [==============================] - 0s 1ms/step - loss: 0.4492 - accuracy: 0.8039\n",
      "Epoch 45/600\n",
      "21/21 [==============================] - 0s 1ms/step - loss: 0.4537 - accuracy: 0.8054\n",
      "Epoch 46/600\n",
      "21/21 [==============================] - 0s 1ms/step - loss: 0.4604 - accuracy: 0.8144\n",
      "Epoch 47/600\n",
      "21/21 [==============================] - 0s 1ms/step - loss: 0.4572 - accuracy: 0.7964\n",
      "Epoch 48/600\n",
      "21/21 [==============================] - 0s 1ms/step - loss: 0.4509 - accuracy: 0.8024\n",
      "Epoch 49/600\n",
      "21/21 [==============================] - 0s 1ms/step - loss: 0.4410 - accuracy: 0.8204\n",
      "Epoch 50/600\n",
      "21/21 [==============================] - 0s 1ms/step - loss: 0.4411 - accuracy: 0.8144\n",
      "Epoch 51/600\n",
      "21/21 [==============================] - 0s 1ms/step - loss: 0.4403 - accuracy: 0.8159\n",
      "Epoch 52/600\n",
      "21/21 [==============================] - 0s 1ms/step - loss: 0.4421 - accuracy: 0.8084\n",
      "Epoch 53/600\n",
      "21/21 [==============================] - 0s 1ms/step - loss: 0.4436 - accuracy: 0.8099\n",
      "Epoch 54/600\n",
      "21/21 [==============================] - 0s 997us/step - loss: 0.4408 - accuracy: 0.8189\n",
      "Epoch 55/600\n",
      "21/21 [==============================] - 0s 1ms/step - loss: 0.4419 - accuracy: 0.8099\n",
      "Epoch 56/600\n",
      "21/21 [==============================] - 0s 1ms/step - loss: 0.4452 - accuracy: 0.8144\n",
      "Epoch 57/600\n",
      "21/21 [==============================] - 0s 1ms/step - loss: 0.4306 - accuracy: 0.8234\n",
      "Epoch 58/600\n",
      "21/21 [==============================] - 0s 1ms/step - loss: 0.4440 - accuracy: 0.8219\n",
      "Epoch 59/600\n",
      "21/21 [==============================] - 0s 1ms/step - loss: 0.4482 - accuracy: 0.8099\n",
      "Epoch 60/600\n",
      "21/21 [==============================] - 0s 1ms/step - loss: 0.4556 - accuracy: 0.8099\n",
      "Epoch 61/600\n",
      "21/21 [==============================] - 0s 1ms/step - loss: 0.4484 - accuracy: 0.8114\n",
      "Epoch 62/600\n",
      "21/21 [==============================] - 0s 1ms/step - loss: 0.4459 - accuracy: 0.8069\n",
      "Epoch 63/600\n",
      "21/21 [==============================] - 0s 1ms/step - loss: 0.4428 - accuracy: 0.8174\n",
      "Epoch 64/600\n",
      "21/21 [==============================] - 0s 1ms/step - loss: 0.4354 - accuracy: 0.8234\n",
      "Epoch 65/600\n",
      "21/21 [==============================] - 0s 1ms/step - loss: 0.4362 - accuracy: 0.8144\n",
      "Epoch 66/600\n",
      "21/21 [==============================] - 0s 1ms/step - loss: 0.4352 - accuracy: 0.8129\n",
      "Epoch 67/600\n",
      "21/21 [==============================] - 0s 1ms/step - loss: 0.4806 - accuracy: 0.7904\n",
      "Epoch 68/600\n",
      "21/21 [==============================] - 0s 1ms/step - loss: 0.4862 - accuracy: 0.8039\n",
      "Epoch 69/600\n",
      "21/21 [==============================] - 0s 1ms/step - loss: 0.4377 - accuracy: 0.8174\n",
      "Epoch 70/600\n",
      "21/21 [==============================] - 0s 1ms/step - loss: 0.4377 - accuracy: 0.8054\n",
      "Epoch 71/600\n",
      "21/21 [==============================] - 0s 1ms/step - loss: 0.4416 - accuracy: 0.8144\n",
      "Epoch 72/600\n",
      "21/21 [==============================] - 0s 1ms/step - loss: 0.4272 - accuracy: 0.8234\n",
      "Epoch 73/600\n",
      "21/21 [==============================] - 0s 1ms/step - loss: 0.4373 - accuracy: 0.8069\n",
      "Epoch 74/600\n",
      "21/21 [==============================] - 0s 1ms/step - loss: 0.4325 - accuracy: 0.8099\n",
      "Epoch 75/600\n",
      "21/21 [==============================] - 0s 1ms/step - loss: 0.4344 - accuracy: 0.8129\n",
      "Epoch 76/600\n",
      "21/21 [==============================] - 0s 1ms/step - loss: 0.4506 - accuracy: 0.8159\n",
      "Epoch 77/600\n",
      "21/21 [==============================] - 0s 1ms/step - loss: 0.4462 - accuracy: 0.8084\n",
      "Epoch 78/600\n",
      "21/21 [==============================] - 0s 1ms/step - loss: 0.4540 - accuracy: 0.8129\n",
      "Epoch 79/600\n",
      "21/21 [==============================] - 0s 1ms/step - loss: 0.4511 - accuracy: 0.8099\n",
      "Epoch 80/600\n",
      "21/21 [==============================] - 0s 1ms/step - loss: 0.4339 - accuracy: 0.8144\n",
      "Epoch 81/600\n",
      "21/21 [==============================] - 0s 1ms/step - loss: 0.4344 - accuracy: 0.8204\n",
      "Epoch 82/600\n",
      "21/21 [==============================] - 0s 1ms/step - loss: 0.4319 - accuracy: 0.8234\n"
     ]
    },
    {
     "name": "stdout",
     "output_type": "stream",
     "text": [
      "Epoch 83/600\n",
      "21/21 [==============================] - 0s 1ms/step - loss: 0.4403 - accuracy: 0.8189\n",
      "Epoch 84/600\n",
      "21/21 [==============================] - 0s 1ms/step - loss: 0.4351 - accuracy: 0.8174\n",
      "Epoch 85/600\n",
      "21/21 [==============================] - 0s 1ms/step - loss: 0.4288 - accuracy: 0.8189\n",
      "Epoch 86/600\n",
      "21/21 [==============================] - 0s 1ms/step - loss: 0.4420 - accuracy: 0.8189\n",
      "Epoch 87/600\n",
      "21/21 [==============================] - 0s 1ms/step - loss: 0.4403 - accuracy: 0.8159\n",
      "Epoch 88/600\n",
      "21/21 [==============================] - 0s 1ms/step - loss: 0.4793 - accuracy: 0.8039\n",
      "Epoch 89/600\n",
      "21/21 [==============================] - 0s 1ms/step - loss: 0.4334 - accuracy: 0.8219\n",
      "Epoch 90/600\n",
      "21/21 [==============================] - 0s 1ms/step - loss: 0.4251 - accuracy: 0.8174\n",
      "Epoch 91/600\n",
      "21/21 [==============================] - 0s 1ms/step - loss: 0.4271 - accuracy: 0.8204\n",
      "Epoch 92/600\n",
      "21/21 [==============================] - 0s 1ms/step - loss: 0.4236 - accuracy: 0.8263\n",
      "Epoch 93/600\n",
      "21/21 [==============================] - 0s 1ms/step - loss: 0.4311 - accuracy: 0.8174\n",
      "Epoch 94/600\n",
      "21/21 [==============================] - 0s 1ms/step - loss: 0.4285 - accuracy: 0.8263\n",
      "Epoch 95/600\n",
      "21/21 [==============================] - 0s 2ms/step - loss: 0.4531 - accuracy: 0.7994\n",
      "Epoch 96/600\n",
      "21/21 [==============================] - 0s 1ms/step - loss: 0.4333 - accuracy: 0.8189\n",
      "Epoch 97/600\n",
      "21/21 [==============================] - 0s 1ms/step - loss: 0.4253 - accuracy: 0.8249\n",
      "Epoch 98/600\n",
      "21/21 [==============================] - 0s 1ms/step - loss: 0.4263 - accuracy: 0.8144\n",
      "Epoch 99/600\n",
      "21/21 [==============================] - 0s 1ms/step - loss: 0.4258 - accuracy: 0.8278\n",
      "Epoch 100/600\n",
      "21/21 [==============================] - 0s 1ms/step - loss: 0.4259 - accuracy: 0.8234\n",
      "Epoch 101/600\n",
      "21/21 [==============================] - 0s 1ms/step - loss: 0.4362 - accuracy: 0.8159\n",
      "Epoch 102/600\n",
      "21/21 [==============================] - 0s 1ms/step - loss: 0.4276 - accuracy: 0.8234\n",
      "Epoch 103/600\n",
      "21/21 [==============================] - 0s 1ms/step - loss: 0.4234 - accuracy: 0.8234\n",
      "Epoch 104/600\n",
      "21/21 [==============================] - 0s 1ms/step - loss: 0.4305 - accuracy: 0.8174\n",
      "Epoch 105/600\n",
      "21/21 [==============================] - 0s 1ms/step - loss: 0.4390 - accuracy: 0.8189\n",
      "Epoch 106/600\n",
      "21/21 [==============================] - 0s 1ms/step - loss: 0.4273 - accuracy: 0.8263\n",
      "Epoch 107/600\n",
      "21/21 [==============================] - 0s 1ms/step - loss: 0.4250 - accuracy: 0.8278\n",
      "Epoch 108/600\n",
      "21/21 [==============================] - 0s 1ms/step - loss: 0.4252 - accuracy: 0.8278\n",
      "Epoch 109/600\n",
      "21/21 [==============================] - 0s 1ms/step - loss: 0.4312 - accuracy: 0.8159\n",
      "Epoch 110/600\n",
      "21/21 [==============================] - 0s 1ms/step - loss: 0.4315 - accuracy: 0.8249\n",
      "Epoch 111/600\n",
      "21/21 [==============================] - 0s 1ms/step - loss: 0.4325 - accuracy: 0.8219\n",
      "Epoch 112/600\n",
      "21/21 [==============================] - 0s 1ms/step - loss: 0.4224 - accuracy: 0.8338\n",
      "Epoch 113/600\n",
      "21/21 [==============================] - 0s 1ms/step - loss: 0.4232 - accuracy: 0.8234\n",
      "Epoch 114/600\n",
      "21/21 [==============================] - 0s 1ms/step - loss: 0.4194 - accuracy: 0.8219\n",
      "Epoch 115/600\n",
      "21/21 [==============================] - 0s 1ms/step - loss: 0.4225 - accuracy: 0.8338\n",
      "Epoch 116/600\n",
      "21/21 [==============================] - 0s 1ms/step - loss: 0.4227 - accuracy: 0.8219\n",
      "Epoch 117/600\n",
      "21/21 [==============================] - 0s 1ms/step - loss: 0.4435 - accuracy: 0.8144\n",
      "Epoch 118/600\n",
      "21/21 [==============================] - 0s 1ms/step - loss: 0.4289 - accuracy: 0.8189\n",
      "Epoch 119/600\n",
      "21/21 [==============================] - 0s 2ms/step - loss: 0.4236 - accuracy: 0.8234\n",
      "Epoch 120/600\n",
      "21/21 [==============================] - 0s 1000us/step - loss: 0.4240 - accuracy: 0.8204\n",
      "Epoch 121/600\n",
      "21/21 [==============================] - 0s 1ms/step - loss: 0.4293 - accuracy: 0.8069\n",
      "Epoch 122/600\n",
      "21/21 [==============================] - 0s 1ms/step - loss: 0.4363 - accuracy: 0.8204\n",
      "Epoch 123/600\n",
      "21/21 [==============================] - 0s 1ms/step - loss: 0.4451 - accuracy: 0.8144\n",
      "Epoch 124/600\n",
      "21/21 [==============================] - 0s 1ms/step - loss: 0.4288 - accuracy: 0.8204\n",
      "Epoch 125/600\n",
      "21/21 [==============================] - 0s 1ms/step - loss: 0.4219 - accuracy: 0.8249\n",
      "Epoch 126/600\n",
      "21/21 [==============================] - 0s 1ms/step - loss: 0.4285 - accuracy: 0.8219\n",
      "Epoch 127/600\n",
      "21/21 [==============================] - 0s 1ms/step - loss: 0.4332 - accuracy: 0.8263\n",
      "Epoch 128/600\n",
      "21/21 [==============================] - 0s 1ms/step - loss: 0.4246 - accuracy: 0.8204\n",
      "Epoch 129/600\n",
      "21/21 [==============================] - 0s 1ms/step - loss: 0.4198 - accuracy: 0.8338\n",
      "Epoch 130/600\n",
      "21/21 [==============================] - 0s 1ms/step - loss: 0.4206 - accuracy: 0.8263\n",
      "Epoch 131/600\n",
      "21/21 [==============================] - 0s 1ms/step - loss: 0.4526 - accuracy: 0.8129\n",
      "Epoch 132/600\n",
      "21/21 [==============================] - 0s 1ms/step - loss: 0.4318 - accuracy: 0.8278\n",
      "Epoch 133/600\n",
      "21/21 [==============================] - 0s 1ms/step - loss: 0.4176 - accuracy: 0.8323\n",
      "Epoch 134/600\n",
      "21/21 [==============================] - 0s 1ms/step - loss: 0.4157 - accuracy: 0.8323\n",
      "Epoch 135/600\n",
      "21/21 [==============================] - 0s 1ms/step - loss: 0.4185 - accuracy: 0.8219\n",
      "Epoch 136/600\n",
      "21/21 [==============================] - 0s 1ms/step - loss: 0.4297 - accuracy: 0.8219\n",
      "Epoch 137/600\n",
      "21/21 [==============================] - 0s 1ms/step - loss: 0.4513 - accuracy: 0.8099\n",
      "Epoch 138/600\n",
      "21/21 [==============================] - 0s 1ms/step - loss: 0.4267 - accuracy: 0.8263\n",
      "Epoch 139/600\n",
      "21/21 [==============================] - 0s 1ms/step - loss: 0.4239 - accuracy: 0.8219\n",
      "Epoch 140/600\n",
      "21/21 [==============================] - 0s 1ms/step - loss: 0.4264 - accuracy: 0.8219\n",
      "Epoch 141/600\n",
      "21/21 [==============================] - 0s 1ms/step - loss: 0.4220 - accuracy: 0.8189\n",
      "Epoch 142/600\n",
      "21/21 [==============================] - 0s 1ms/step - loss: 0.4167 - accuracy: 0.8353\n",
      "Epoch 143/600\n",
      "21/21 [==============================] - 0s 1ms/step - loss: 0.4295 - accuracy: 0.8189\n",
      "Epoch 144/600\n",
      "21/21 [==============================] - 0s 1ms/step - loss: 0.4330 - accuracy: 0.8204\n",
      "Epoch 145/600\n",
      "21/21 [==============================] - 0s 1ms/step - loss: 0.4261 - accuracy: 0.8293\n",
      "Epoch 146/600\n",
      "21/21 [==============================] - 0s 1ms/step - loss: 0.4640 - accuracy: 0.8069\n",
      "Epoch 147/600\n",
      "21/21 [==============================] - 0s 1ms/step - loss: 0.4305 - accuracy: 0.8189\n",
      "Epoch 148/600\n",
      "21/21 [==============================] - 0s 1ms/step - loss: 0.4200 - accuracy: 0.8263\n",
      "Epoch 149/600\n",
      "21/21 [==============================] - 0s 1ms/step - loss: 0.4169 - accuracy: 0.8293\n",
      "Epoch 150/600\n",
      "21/21 [==============================] - 0s 1ms/step - loss: 0.4226 - accuracy: 0.8263\n",
      "Epoch 151/600\n",
      "21/21 [==============================] - 0s 1ms/step - loss: 0.4172 - accuracy: 0.8219\n",
      "Epoch 152/600\n",
      "21/21 [==============================] - 0s 1ms/step - loss: 0.4187 - accuracy: 0.8323\n",
      "Epoch 153/600\n",
      "21/21 [==============================] - 0s 1ms/step - loss: 0.4210 - accuracy: 0.8263\n",
      "Epoch 154/600\n",
      "21/21 [==============================] - 0s 1ms/step - loss: 0.4155 - accuracy: 0.8278\n",
      "Epoch 155/600\n",
      "21/21 [==============================] - 0s 1ms/step - loss: 0.4178 - accuracy: 0.8263\n",
      "Epoch 156/600\n",
      "21/21 [==============================] - 0s 1ms/step - loss: 0.4283 - accuracy: 0.8278\n",
      "Epoch 157/600\n",
      "21/21 [==============================] - 0s 1ms/step - loss: 0.4221 - accuracy: 0.8219\n",
      "Epoch 158/600\n",
      "21/21 [==============================] - 0s 1ms/step - loss: 0.4153 - accuracy: 0.8189\n",
      "Epoch 159/600\n",
      "21/21 [==============================] - 0s 1ms/step - loss: 0.4219 - accuracy: 0.8293\n",
      "Epoch 160/600\n",
      "21/21 [==============================] - 0s 1ms/step - loss: 0.4154 - accuracy: 0.8278\n",
      "Epoch 161/600\n",
      "21/21 [==============================] - 0s 1ms/step - loss: 0.4263 - accuracy: 0.8338\n",
      "Epoch 162/600\n",
      "21/21 [==============================] - 0s 1ms/step - loss: 0.4270 - accuracy: 0.8189\n",
      "Epoch 163/600\n",
      "21/21 [==============================] - 0s 1ms/step - loss: 0.4163 - accuracy: 0.8219\n",
      "Epoch 164/600\n"
     ]
    },
    {
     "name": "stdout",
     "output_type": "stream",
     "text": [
      "21/21 [==============================] - 0s 1ms/step - loss: 0.4203 - accuracy: 0.8308\n",
      "Epoch 165/600\n",
      "21/21 [==============================] - 0s 1ms/step - loss: 0.4175 - accuracy: 0.8368\n",
      "Epoch 166/600\n",
      "21/21 [==============================] - 0s 1ms/step - loss: 0.4127 - accuracy: 0.8278\n",
      "Epoch 167/600\n",
      "21/21 [==============================] - 0s 1ms/step - loss: 0.4304 - accuracy: 0.8174\n",
      "Epoch 168/600\n",
      "21/21 [==============================] - 0s 1ms/step - loss: 0.4155 - accuracy: 0.8338\n",
      "Epoch 169/600\n",
      "21/21 [==============================] - 0s 1ms/step - loss: 0.4096 - accuracy: 0.8293\n",
      "Epoch 170/600\n",
      "21/21 [==============================] - 0s 1ms/step - loss: 0.4225 - accuracy: 0.8234\n",
      "Epoch 171/600\n",
      "21/21 [==============================] - 0s 1ms/step - loss: 0.4182 - accuracy: 0.8308\n",
      "Epoch 172/600\n",
      "21/21 [==============================] - 0s 1ms/step - loss: 0.4143 - accuracy: 0.8249\n",
      "Epoch 173/600\n",
      "21/21 [==============================] - 0s 1ms/step - loss: 0.4086 - accuracy: 0.8353\n",
      "Epoch 174/600\n",
      "21/21 [==============================] - 0s 1ms/step - loss: 0.4141 - accuracy: 0.8338\n",
      "Epoch 175/600\n",
      "21/21 [==============================] - 0s 1ms/step - loss: 0.4118 - accuracy: 0.8308\n",
      "Epoch 176/600\n",
      "21/21 [==============================] - 0s 1ms/step - loss: 0.4150 - accuracy: 0.8278\n",
      "Epoch 177/600\n",
      "21/21 [==============================] - 0s 1ms/step - loss: 0.4101 - accuracy: 0.8338\n",
      "Epoch 178/600\n",
      "21/21 [==============================] - 0s 1ms/step - loss: 0.4081 - accuracy: 0.8338\n",
      "Epoch 179/600\n",
      "21/21 [==============================] - 0s 1ms/step - loss: 0.4107 - accuracy: 0.8323\n",
      "Epoch 180/600\n",
      "21/21 [==============================] - 0s 1ms/step - loss: 0.4285 - accuracy: 0.8204\n",
      "Epoch 181/600\n",
      "21/21 [==============================] - 0s 1ms/step - loss: 0.4270 - accuracy: 0.8338\n",
      "Epoch 182/600\n",
      "21/21 [==============================] - 0s 1ms/step - loss: 0.4115 - accuracy: 0.8278\n",
      "Epoch 183/600\n",
      "21/21 [==============================] - 0s 1ms/step - loss: 0.4054 - accuracy: 0.8398\n",
      "Epoch 184/600\n",
      "21/21 [==============================] - 0s 1ms/step - loss: 0.4331 - accuracy: 0.8219\n",
      "Epoch 185/600\n",
      "21/21 [==============================] - 0s 1ms/step - loss: 0.4126 - accuracy: 0.8293\n",
      "Epoch 186/600\n",
      "21/21 [==============================] - 0s 1ms/step - loss: 0.4207 - accuracy: 0.8249\n",
      "Epoch 187/600\n",
      "21/21 [==============================] - 0s 1ms/step - loss: 0.4215 - accuracy: 0.8189\n",
      "Epoch 188/600\n",
      "21/21 [==============================] - 0s 1ms/step - loss: 0.4192 - accuracy: 0.8263\n",
      "Epoch 189/600\n",
      "21/21 [==============================] - 0s 1ms/step - loss: 0.4089 - accuracy: 0.8278\n",
      "Epoch 190/600\n",
      "21/21 [==============================] - 0s 1ms/step - loss: 0.4265 - accuracy: 0.8204\n",
      "Epoch 191/600\n",
      "21/21 [==============================] - 0s 1ms/step - loss: 0.4183 - accuracy: 0.8323\n",
      "Epoch 192/600\n",
      "21/21 [==============================] - 0s 1ms/step - loss: 0.4144 - accuracy: 0.8323\n",
      "Epoch 193/600\n",
      "21/21 [==============================] - 0s 1ms/step - loss: 0.4164 - accuracy: 0.8308\n",
      "Epoch 194/600\n",
      "21/21 [==============================] - 0s 1ms/step - loss: 0.4262 - accuracy: 0.8278\n",
      "Epoch 195/600\n",
      "21/21 [==============================] - 0s 1ms/step - loss: 0.4088 - accuracy: 0.8338\n",
      "Epoch 196/600\n",
      "21/21 [==============================] - 0s 1ms/step - loss: 0.4119 - accuracy: 0.8323\n",
      "Epoch 197/600\n",
      "21/21 [==============================] - 0s 1ms/step - loss: 0.4169 - accuracy: 0.8308\n",
      "Epoch 198/600\n",
      "21/21 [==============================] - 0s 1ms/step - loss: 0.4072 - accuracy: 0.8338\n",
      "Epoch 199/600\n",
      "21/21 [==============================] - 0s 1ms/step - loss: 0.4360 - accuracy: 0.8204\n",
      "Epoch 200/600\n",
      "21/21 [==============================] - 0s 1ms/step - loss: 0.4156 - accuracy: 0.8308\n",
      "Epoch 201/600\n",
      "21/21 [==============================] - 0s 1ms/step - loss: 0.4205 - accuracy: 0.8308\n",
      "Epoch 202/600\n",
      "21/21 [==============================] - 0s 1ms/step - loss: 0.4157 - accuracy: 0.8219\n",
      "Epoch 203/600\n",
      "21/21 [==============================] - 0s 1ms/step - loss: 0.4059 - accuracy: 0.8308\n",
      "Epoch 204/600\n",
      "21/21 [==============================] - 0s 1ms/step - loss: 0.4091 - accuracy: 0.8323\n",
      "Epoch 205/600\n",
      "21/21 [==============================] - 0s 1ms/step - loss: 0.4073 - accuracy: 0.8368\n",
      "Epoch 206/600\n",
      "21/21 [==============================] - 0s 1ms/step - loss: 0.4060 - accuracy: 0.8368\n",
      "Epoch 207/600\n",
      "21/21 [==============================] - 0s 1ms/step - loss: 0.4051 - accuracy: 0.8338\n",
      "Epoch 208/600\n",
      "21/21 [==============================] - 0s 1ms/step - loss: 0.4296 - accuracy: 0.8249\n",
      "Epoch 209/600\n",
      "21/21 [==============================] - 0s 1ms/step - loss: 0.4217 - accuracy: 0.8353\n",
      "Epoch 210/600\n",
      "21/21 [==============================] - 0s 1ms/step - loss: 0.4082 - accuracy: 0.8323\n",
      "Epoch 211/600\n",
      "21/21 [==============================] - 0s 1ms/step - loss: 0.4044 - accuracy: 0.8413\n",
      "Epoch 212/600\n",
      "21/21 [==============================] - 0s 1ms/step - loss: 0.4085 - accuracy: 0.8308\n",
      "Epoch 213/600\n",
      "21/21 [==============================] - 0s 1ms/step - loss: 0.4038 - accuracy: 0.8368\n",
      "Epoch 214/600\n",
      "21/21 [==============================] - 0s 1ms/step - loss: 0.4057 - accuracy: 0.8323\n",
      "Epoch 215/600\n",
      "21/21 [==============================] - 0s 1ms/step - loss: 0.4043 - accuracy: 0.8308\n",
      "Epoch 216/600\n",
      "21/21 [==============================] - 0s 1ms/step - loss: 0.4008 - accuracy: 0.8413\n",
      "Epoch 217/600\n",
      "21/21 [==============================] - 0s 1ms/step - loss: 0.4102 - accuracy: 0.8353\n",
      "Epoch 218/600\n",
      "21/21 [==============================] - 0s 1ms/step - loss: 0.4057 - accuracy: 0.8308\n",
      "Epoch 219/600\n",
      "21/21 [==============================] - 0s 1ms/step - loss: 0.4178 - accuracy: 0.8189\n",
      "Epoch 220/600\n",
      "21/21 [==============================] - 0s 1ms/step - loss: 0.4072 - accuracy: 0.8353\n",
      "Epoch 221/600\n",
      "21/21 [==============================] - 0s 1ms/step - loss: 0.4070 - accuracy: 0.8398\n",
      "Epoch 222/600\n",
      "21/21 [==============================] - 0s 1ms/step - loss: 0.4141 - accuracy: 0.8293\n",
      "Epoch 223/600\n",
      "21/21 [==============================] - 0s 1ms/step - loss: 0.4258 - accuracy: 0.8249\n",
      "Epoch 224/600\n",
      "21/21 [==============================] - 0s 1ms/step - loss: 0.4308 - accuracy: 0.8278\n",
      "Epoch 225/600\n",
      "21/21 [==============================] - 0s 1ms/step - loss: 0.4361 - accuracy: 0.8249\n",
      "Epoch 226/600\n",
      "21/21 [==============================] - 0s 1ms/step - loss: 0.4108 - accuracy: 0.8263\n",
      "Epoch 227/600\n",
      "21/21 [==============================] - 0s 2ms/step - loss: 0.4209 - accuracy: 0.8219\n",
      "Epoch 228/600\n",
      "21/21 [==============================] - 0s 1ms/step - loss: 0.4145 - accuracy: 0.8293\n",
      "Epoch 229/600\n",
      "21/21 [==============================] - 0s 1ms/step - loss: 0.4054 - accuracy: 0.8413\n",
      "Epoch 230/600\n",
      "21/21 [==============================] - 0s 1ms/step - loss: 0.4048 - accuracy: 0.8323\n",
      "Epoch 231/600\n",
      "21/21 [==============================] - 0s 1ms/step - loss: 0.4097 - accuracy: 0.8323\n",
      "Epoch 232/600\n",
      "21/21 [==============================] - 0s 1ms/step - loss: 0.4053 - accuracy: 0.8308\n",
      "Epoch 233/600\n",
      "21/21 [==============================] - 0s 1ms/step - loss: 0.3986 - accuracy: 0.8368\n",
      "Epoch 234/600\n",
      "21/21 [==============================] - 0s 2ms/step - loss: 0.4086 - accuracy: 0.8323\n",
      "Epoch 235/600\n",
      "21/21 [==============================] - 0s 1ms/step - loss: 0.4079 - accuracy: 0.8189\n",
      "Epoch 236/600\n",
      "21/21 [==============================] - 0s 1ms/step - loss: 0.4055 - accuracy: 0.8353\n",
      "Epoch 237/600\n",
      "21/21 [==============================] - 0s 1ms/step - loss: 0.4034 - accuracy: 0.8278\n",
      "Epoch 238/600\n",
      "21/21 [==============================] - 0s 1ms/step - loss: 0.4038 - accuracy: 0.8413\n",
      "Epoch 239/600\n",
      "21/21 [==============================] - 0s 1ms/step - loss: 0.4079 - accuracy: 0.8398\n",
      "Epoch 240/600\n",
      "21/21 [==============================] - 0s 1ms/step - loss: 0.4081 - accuracy: 0.8278\n",
      "Epoch 241/600\n",
      "21/21 [==============================] - 0s 1ms/step - loss: 0.4124 - accuracy: 0.8308\n",
      "Epoch 242/600\n",
      "21/21 [==============================] - 0s 1ms/step - loss: 0.4212 - accuracy: 0.8278\n",
      "Epoch 243/600\n",
      "21/21 [==============================] - 0s 1ms/step - loss: 0.4138 - accuracy: 0.8368\n",
      "Epoch 244/600\n",
      "21/21 [==============================] - 0s 1ms/step - loss: 0.4203 - accuracy: 0.8249\n",
      "Epoch 245/600\n"
     ]
    },
    {
     "name": "stdout",
     "output_type": "stream",
     "text": [
      "21/21 [==============================] - 0s 1ms/step - loss: 0.4170 - accuracy: 0.8189\n",
      "Epoch 246/600\n",
      "21/21 [==============================] - 0s 1ms/step - loss: 0.4046 - accuracy: 0.8353\n",
      "Epoch 247/600\n",
      "21/21 [==============================] - 0s 1ms/step - loss: 0.3967 - accuracy: 0.8368\n",
      "Epoch 248/600\n",
      "21/21 [==============================] - 0s 1ms/step - loss: 0.4057 - accuracy: 0.8323\n",
      "Epoch 249/600\n",
      "21/21 [==============================] - 0s 1ms/step - loss: 0.4038 - accuracy: 0.8353\n",
      "Epoch 250/600\n",
      "21/21 [==============================] - 0s 1ms/step - loss: 0.4101 - accuracy: 0.8249\n",
      "Epoch 251/600\n",
      "21/21 [==============================] - 0s 1ms/step - loss: 0.4040 - accuracy: 0.8368\n",
      "Epoch 252/600\n",
      "21/21 [==============================] - 0s 1ms/step - loss: 0.4121 - accuracy: 0.8323\n",
      "Epoch 253/600\n",
      "21/21 [==============================] - 0s 1ms/step - loss: 0.3992 - accuracy: 0.8383\n",
      "Epoch 254/600\n",
      "21/21 [==============================] - 0s 1ms/step - loss: 0.4076 - accuracy: 0.8323\n",
      "Epoch 255/600\n",
      "21/21 [==============================] - 0s 1ms/step - loss: 0.4222 - accuracy: 0.8249\n",
      "Epoch 256/600\n",
      "21/21 [==============================] - 0s 1ms/step - loss: 0.4341 - accuracy: 0.8159\n",
      "Epoch 257/600\n",
      "21/21 [==============================] - 0s 1ms/step - loss: 0.4077 - accuracy: 0.8323\n",
      "Epoch 258/600\n",
      "21/21 [==============================] - 0s 1ms/step - loss: 0.4151 - accuracy: 0.8308\n",
      "Epoch 259/600\n",
      "21/21 [==============================] - 0s 1ms/step - loss: 0.3981 - accuracy: 0.8383\n",
      "Epoch 260/600\n",
      "21/21 [==============================] - 0s 1ms/step - loss: 0.4018 - accuracy: 0.8338\n",
      "Epoch 261/600\n",
      "21/21 [==============================] - 0s 1ms/step - loss: 0.4051 - accuracy: 0.8338\n",
      "Epoch 262/600\n",
      "21/21 [==============================] - 0s 1ms/step - loss: 0.4072 - accuracy: 0.8338\n",
      "Epoch 263/600\n",
      "21/21 [==============================] - 0s 1ms/step - loss: 0.4052 - accuracy: 0.8428\n",
      "Epoch 264/600\n",
      "21/21 [==============================] - 0s 1ms/step - loss: 0.4081 - accuracy: 0.8219\n",
      "Epoch 265/600\n",
      "21/21 [==============================] - 0s 1ms/step - loss: 0.4029 - accuracy: 0.8398\n",
      "Epoch 266/600\n",
      "21/21 [==============================] - 0s 1ms/step - loss: 0.4017 - accuracy: 0.8323\n",
      "Epoch 267/600\n",
      "21/21 [==============================] - 0s 1ms/step - loss: 0.3975 - accuracy: 0.8458\n",
      "Epoch 268/600\n",
      "21/21 [==============================] - 0s 1ms/step - loss: 0.4007 - accuracy: 0.8383\n",
      "Epoch 269/600\n",
      "21/21 [==============================] - 0s 1ms/step - loss: 0.4031 - accuracy: 0.8413\n",
      "Epoch 270/600\n",
      "21/21 [==============================] - 0s 1ms/step - loss: 0.4139 - accuracy: 0.8219\n",
      "Epoch 271/600\n",
      "21/21 [==============================] - 0s 1ms/step - loss: 0.3999 - accuracy: 0.8368\n",
      "Epoch 272/600\n",
      "21/21 [==============================] - 0s 1ms/step - loss: 0.4059 - accuracy: 0.8308\n",
      "Epoch 273/600\n",
      "21/21 [==============================] - 0s 1ms/step - loss: 0.3956 - accuracy: 0.8383\n",
      "Epoch 274/600\n",
      "21/21 [==============================] - 0s 1ms/step - loss: 0.3953 - accuracy: 0.8443\n",
      "Epoch 275/600\n",
      "21/21 [==============================] - 0s 1ms/step - loss: 0.4039 - accuracy: 0.8293\n",
      "Epoch 276/600\n",
      "21/21 [==============================] - 0s 1ms/step - loss: 0.3964 - accuracy: 0.8398\n",
      "Epoch 277/600\n",
      "21/21 [==============================] - 0s 1ms/step - loss: 0.3990 - accuracy: 0.8443\n",
      "Epoch 278/600\n",
      "21/21 [==============================] - 0s 1ms/step - loss: 0.3958 - accuracy: 0.8353\n",
      "Epoch 279/600\n",
      "21/21 [==============================] - 0s 1ms/step - loss: 0.3999 - accuracy: 0.8368\n",
      "Epoch 280/600\n",
      "21/21 [==============================] - 0s 1ms/step - loss: 0.3959 - accuracy: 0.8368\n",
      "Epoch 281/600\n",
      "21/21 [==============================] - 0s 1ms/step - loss: 0.3998 - accuracy: 0.8293\n",
      "Epoch 282/600\n",
      "21/21 [==============================] - 0s 1ms/step - loss: 0.4086 - accuracy: 0.8368\n",
      "Epoch 283/600\n",
      "21/21 [==============================] - 0s 1ms/step - loss: 0.4007 - accuracy: 0.8368\n",
      "Epoch 284/600\n",
      "21/21 [==============================] - 0s 1ms/step - loss: 0.4118 - accuracy: 0.8323\n",
      "Epoch 285/600\n",
      "21/21 [==============================] - 0s 1ms/step - loss: 0.4002 - accuracy: 0.8308\n",
      "Epoch 286/600\n",
      "21/21 [==============================] - 0s 1ms/step - loss: 0.4078 - accuracy: 0.8383\n",
      "Epoch 287/600\n",
      "21/21 [==============================] - 0s 1ms/step - loss: 0.4002 - accuracy: 0.8323\n",
      "Epoch 288/600\n",
      "21/21 [==============================] - 0s 1ms/step - loss: 0.3942 - accuracy: 0.8413\n",
      "Epoch 289/600\n",
      "21/21 [==============================] - 0s 1ms/step - loss: 0.3950 - accuracy: 0.8278\n",
      "Epoch 290/600\n",
      "21/21 [==============================] - 0s 1ms/step - loss: 0.3973 - accuracy: 0.8428\n",
      "Epoch 291/600\n",
      "21/21 [==============================] - 0s 1ms/step - loss: 0.3936 - accuracy: 0.8308\n",
      "Epoch 292/600\n",
      "21/21 [==============================] - 0s 1ms/step - loss: 0.3959 - accuracy: 0.8383\n",
      "Epoch 293/600\n",
      "21/21 [==============================] - 0s 1ms/step - loss: 0.3937 - accuracy: 0.8353\n",
      "Epoch 294/600\n",
      "21/21 [==============================] - 0s 1ms/step - loss: 0.4113 - accuracy: 0.8293\n",
      "Epoch 295/600\n",
      "21/21 [==============================] - 0s 1ms/step - loss: 0.3989 - accuracy: 0.8398\n",
      "Epoch 296/600\n",
      "21/21 [==============================] - 0s 1ms/step - loss: 0.4215 - accuracy: 0.8234\n",
      "Epoch 297/600\n",
      "21/21 [==============================] - 0s 1ms/step - loss: 0.4283 - accuracy: 0.8263\n",
      "Epoch 298/600\n",
      "21/21 [==============================] - 0s 1ms/step - loss: 0.3919 - accuracy: 0.8413\n",
      "Epoch 299/600\n",
      "21/21 [==============================] - 0s 1ms/step - loss: 0.3945 - accuracy: 0.8383\n",
      "Epoch 300/600\n",
      "21/21 [==============================] - 0s 1ms/step - loss: 0.3899 - accuracy: 0.8458\n",
      "Epoch 301/600\n",
      "21/21 [==============================] - 0s 2ms/step - loss: 0.3947 - accuracy: 0.8293\n",
      "Epoch 302/600\n",
      "21/21 [==============================] - 0s 1ms/step - loss: 0.4123 - accuracy: 0.8219\n",
      "Epoch 303/600\n",
      "21/21 [==============================] - 0s 1ms/step - loss: 0.4058 - accuracy: 0.8308\n",
      "Epoch 304/600\n",
      "21/21 [==============================] - 0s 1ms/step - loss: 0.4048 - accuracy: 0.8338\n",
      "Epoch 305/600\n",
      "21/21 [==============================] - 0s 1ms/step - loss: 0.3941 - accuracy: 0.8398\n",
      "Epoch 306/600\n",
      "21/21 [==============================] - 0s 1ms/step - loss: 0.3992 - accuracy: 0.8383\n",
      "Epoch 307/600\n",
      "21/21 [==============================] - 0s 1ms/step - loss: 0.3944 - accuracy: 0.8398\n",
      "Epoch 308/600\n",
      "21/21 [==============================] - 0s 1ms/step - loss: 0.4045 - accuracy: 0.8338\n",
      "Epoch 309/600\n",
      "21/21 [==============================] - 0s 1ms/step - loss: 0.4200 - accuracy: 0.8249\n",
      "Epoch 310/600\n",
      "21/21 [==============================] - 0s 1ms/step - loss: 0.3914 - accuracy: 0.8443\n",
      "Epoch 311/600\n",
      "21/21 [==============================] - 0s 1ms/step - loss: 0.4003 - accuracy: 0.8308\n",
      "Epoch 312/600\n",
      "21/21 [==============================] - 0s 1ms/step - loss: 0.4207 - accuracy: 0.8234\n",
      "Epoch 313/600\n",
      "21/21 [==============================] - 0s 1ms/step - loss: 0.4010 - accuracy: 0.8293\n",
      "Epoch 314/600\n",
      "21/21 [==============================] - 0s 1ms/step - loss: 0.4025 - accuracy: 0.8323\n",
      "Epoch 315/600\n",
      "21/21 [==============================] - 0s 1ms/step - loss: 0.4156 - accuracy: 0.8308\n",
      "Epoch 316/600\n",
      "21/21 [==============================] - 0s 1ms/step - loss: 0.3940 - accuracy: 0.8383\n",
      "Epoch 317/600\n",
      "21/21 [==============================] - 0s 1ms/step - loss: 0.3891 - accuracy: 0.8428\n",
      "Epoch 318/600\n",
      "21/21 [==============================] - 0s 1ms/step - loss: 0.3871 - accuracy: 0.8353\n",
      "Epoch 319/600\n",
      "21/21 [==============================] - 0s 1ms/step - loss: 0.3874 - accuracy: 0.8428\n",
      "Epoch 320/600\n",
      "21/21 [==============================] - 0s 1ms/step - loss: 0.3859 - accuracy: 0.8443\n",
      "Epoch 321/600\n",
      "21/21 [==============================] - 0s 1ms/step - loss: 0.3886 - accuracy: 0.8398\n",
      "Epoch 322/600\n",
      "21/21 [==============================] - 0s 1ms/step - loss: 0.3887 - accuracy: 0.8458\n",
      "Epoch 323/600\n",
      "21/21 [==============================] - 0s 1ms/step - loss: 0.3993 - accuracy: 0.8323\n",
      "Epoch 324/600\n",
      "21/21 [==============================] - 0s 1ms/step - loss: 0.4009 - accuracy: 0.8338\n",
      "Epoch 325/600\n",
      "21/21 [==============================] - 0s 1ms/step - loss: 0.3933 - accuracy: 0.8413\n",
      "Epoch 326/600\n"
     ]
    },
    {
     "name": "stdout",
     "output_type": "stream",
     "text": [
      "21/21 [==============================] - 0s 1ms/step - loss: 0.3904 - accuracy: 0.8413\n",
      "Epoch 327/600\n",
      "21/21 [==============================] - 0s 1ms/step - loss: 0.3881 - accuracy: 0.8443\n",
      "Epoch 328/600\n",
      "21/21 [==============================] - 0s 1ms/step - loss: 0.3881 - accuracy: 0.8428\n",
      "Epoch 329/600\n",
      "21/21 [==============================] - 0s 2ms/step - loss: 0.3884 - accuracy: 0.8368\n",
      "Epoch 330/600\n",
      "21/21 [==============================] - 0s 1ms/step - loss: 0.3862 - accuracy: 0.8368\n",
      "Epoch 331/600\n",
      "21/21 [==============================] - 0s 1ms/step - loss: 0.4095 - accuracy: 0.8353\n",
      "Epoch 332/600\n",
      "21/21 [==============================] - 0s 1ms/step - loss: 0.3908 - accuracy: 0.8353\n",
      "Epoch 333/600\n",
      "21/21 [==============================] - 0s 1ms/step - loss: 0.3929 - accuracy: 0.8398\n",
      "Epoch 334/600\n",
      "21/21 [==============================] - 0s 1ms/step - loss: 0.3956 - accuracy: 0.8323\n",
      "Epoch 335/600\n",
      "21/21 [==============================] - 0s 1ms/step - loss: 0.3852 - accuracy: 0.8458\n",
      "Epoch 336/600\n",
      "21/21 [==============================] - 0s 1ms/step - loss: 0.3850 - accuracy: 0.8443\n",
      "Epoch 337/600\n",
      "21/21 [==============================] - 0s 1ms/step - loss: 0.3852 - accuracy: 0.8413\n",
      "Epoch 338/600\n",
      "21/21 [==============================] - 0s 1ms/step - loss: 0.3864 - accuracy: 0.8428\n",
      "Epoch 339/600\n",
      "21/21 [==============================] - 0s 1ms/step - loss: 0.3870 - accuracy: 0.8428\n",
      "Epoch 340/600\n",
      "21/21 [==============================] - 0s 1ms/step - loss: 0.3834 - accuracy: 0.8278\n",
      "Epoch 341/600\n",
      "21/21 [==============================] - 0s 1ms/step - loss: 0.3855 - accuracy: 0.8383\n",
      "Epoch 342/600\n",
      "21/21 [==============================] - 0s 1ms/step - loss: 0.3884 - accuracy: 0.8428\n",
      "Epoch 343/600\n",
      "21/21 [==============================] - 0s 1ms/step - loss: 0.3862 - accuracy: 0.8368\n",
      "Epoch 344/600\n",
      "21/21 [==============================] - 0s 1ms/step - loss: 0.3864 - accuracy: 0.8428\n",
      "Epoch 345/600\n",
      "21/21 [==============================] - 0s 1ms/step - loss: 0.3876 - accuracy: 0.8398\n",
      "Epoch 346/600\n",
      "21/21 [==============================] - 0s 1ms/step - loss: 0.3883 - accuracy: 0.8398\n",
      "Epoch 347/600\n",
      "21/21 [==============================] - 0s 1ms/step - loss: 0.3831 - accuracy: 0.8458\n",
      "Epoch 348/600\n",
      "21/21 [==============================] - 0s 1ms/step - loss: 0.3975 - accuracy: 0.8308\n",
      "Epoch 349/600\n",
      "21/21 [==============================] - 0s 1ms/step - loss: 0.3945 - accuracy: 0.8413\n",
      "Epoch 350/600\n",
      "21/21 [==============================] - 0s 1ms/step - loss: 0.4002 - accuracy: 0.8278\n",
      "Epoch 351/600\n",
      "21/21 [==============================] - 0s 1ms/step - loss: 0.4274 - accuracy: 0.8263\n",
      "Epoch 352/600\n",
      "21/21 [==============================] - 0s 1ms/step - loss: 0.4108 - accuracy: 0.8323\n",
      "Epoch 353/600\n",
      "21/21 [==============================] - 0s 2ms/step - loss: 0.4042 - accuracy: 0.8473\n",
      "Epoch 354/600\n",
      "21/21 [==============================] - 0s 1ms/step - loss: 0.3888 - accuracy: 0.8368\n",
      "Epoch 355/600\n",
      "21/21 [==============================] - 0s 1ms/step - loss: 0.3833 - accuracy: 0.8398\n",
      "Epoch 356/600\n",
      "21/21 [==============================] - 0s 1ms/step - loss: 0.3899 - accuracy: 0.8413\n",
      "Epoch 357/600\n",
      "21/21 [==============================] - 0s 1ms/step - loss: 0.3824 - accuracy: 0.8413\n",
      "Epoch 358/600\n",
      "21/21 [==============================] - 0s 1ms/step - loss: 0.3947 - accuracy: 0.8338\n",
      "Epoch 359/600\n",
      "21/21 [==============================] - 0s 1ms/step - loss: 0.3880 - accuracy: 0.8413\n",
      "Epoch 360/600\n",
      "21/21 [==============================] - 0s 1ms/step - loss: 0.3821 - accuracy: 0.8398\n",
      "Epoch 361/600\n",
      "21/21 [==============================] - 0s 1ms/step - loss: 0.3793 - accuracy: 0.8398\n",
      "Epoch 362/600\n",
      "21/21 [==============================] - 0s 1ms/step - loss: 0.3839 - accuracy: 0.8398\n",
      "Epoch 363/600\n",
      "21/21 [==============================] - 0s 1ms/step - loss: 0.3812 - accuracy: 0.8443\n",
      "Epoch 364/600\n",
      "21/21 [==============================] - 0s 1ms/step - loss: 0.3805 - accuracy: 0.8398\n",
      "Epoch 365/600\n",
      "21/21 [==============================] - 0s 1ms/step - loss: 0.3823 - accuracy: 0.8368\n",
      "Epoch 366/600\n",
      "21/21 [==============================] - 0s 1ms/step - loss: 0.3886 - accuracy: 0.8263\n",
      "Epoch 367/600\n",
      "21/21 [==============================] - 0s 1ms/step - loss: 0.3842 - accuracy: 0.8383\n",
      "Epoch 368/600\n",
      "21/21 [==============================] - 0s 1ms/step - loss: 0.3816 - accuracy: 0.8413\n",
      "Epoch 369/600\n",
      "21/21 [==============================] - 0s 1ms/step - loss: 0.3871 - accuracy: 0.8383\n",
      "Epoch 370/600\n",
      "21/21 [==============================] - 0s 1ms/step - loss: 0.3805 - accuracy: 0.8473\n",
      "Epoch 371/600\n",
      "21/21 [==============================] - 0s 1ms/step - loss: 0.3805 - accuracy: 0.8413\n",
      "Epoch 372/600\n",
      "21/21 [==============================] - 0s 1ms/step - loss: 0.3789 - accuracy: 0.8413\n",
      "Epoch 373/600\n",
      "21/21 [==============================] - 0s 1ms/step - loss: 0.3812 - accuracy: 0.8398\n",
      "Epoch 374/600\n",
      "21/21 [==============================] - 0s 1ms/step - loss: 0.3890 - accuracy: 0.8353\n",
      "Epoch 375/600\n",
      "21/21 [==============================] - 0s 1ms/step - loss: 0.3864 - accuracy: 0.8368\n",
      "Epoch 376/600\n",
      "21/21 [==============================] - 0s 1ms/step - loss: 0.3843 - accuracy: 0.8353\n",
      "Epoch 377/600\n",
      "21/21 [==============================] - 0s 1ms/step - loss: 0.3797 - accuracy: 0.8383\n",
      "Epoch 378/600\n",
      "21/21 [==============================] - 0s 1ms/step - loss: 0.3826 - accuracy: 0.8428\n",
      "Epoch 379/600\n",
      "21/21 [==============================] - 0s 1ms/step - loss: 0.3824 - accuracy: 0.8353\n",
      "Epoch 380/600\n",
      "21/21 [==============================] - 0s 1ms/step - loss: 0.3830 - accuracy: 0.8428\n",
      "Epoch 381/600\n",
      "21/21 [==============================] - 0s 1ms/step - loss: 0.3773 - accuracy: 0.8443\n",
      "Epoch 382/600\n",
      "21/21 [==============================] - 0s 1ms/step - loss: 0.3845 - accuracy: 0.8293\n",
      "Epoch 383/600\n",
      "21/21 [==============================] - 0s 1ms/step - loss: 0.3814 - accuracy: 0.8398\n",
      "Epoch 384/600\n",
      "21/21 [==============================] - 0s 1ms/step - loss: 0.3906 - accuracy: 0.8323\n",
      "Epoch 385/600\n",
      "21/21 [==============================] - 0s 1ms/step - loss: 0.3881 - accuracy: 0.8383\n",
      "Epoch 386/600\n",
      "21/21 [==============================] - 0s 1ms/step - loss: 0.3792 - accuracy: 0.8383\n",
      "Epoch 387/600\n",
      "21/21 [==============================] - 0s 1ms/step - loss: 0.3794 - accuracy: 0.8383\n",
      "Epoch 388/600\n",
      "21/21 [==============================] - 0s 1ms/step - loss: 0.3864 - accuracy: 0.8398\n",
      "Epoch 389/600\n",
      "21/21 [==============================] - 0s 1ms/step - loss: 0.3794 - accuracy: 0.8413\n",
      "Epoch 390/600\n",
      "21/21 [==============================] - 0s 1ms/step - loss: 0.4077 - accuracy: 0.8293\n",
      "Epoch 391/600\n",
      "21/21 [==============================] - 0s 1ms/step - loss: 0.3845 - accuracy: 0.8398\n",
      "Epoch 392/600\n",
      "21/21 [==============================] - 0s 1ms/step - loss: 0.3780 - accuracy: 0.8398\n",
      "Epoch 393/600\n",
      "21/21 [==============================] - 0s 1ms/step - loss: 0.3746 - accuracy: 0.8428\n",
      "Epoch 394/600\n",
      "21/21 [==============================] - 0s 2ms/step - loss: 0.3826 - accuracy: 0.8368\n",
      "Epoch 395/600\n",
      "21/21 [==============================] - 0s 1ms/step - loss: 0.3846 - accuracy: 0.8323\n",
      "Epoch 396/600\n",
      "21/21 [==============================] - 0s 1ms/step - loss: 0.3803 - accuracy: 0.8338\n",
      "Epoch 397/600\n",
      "21/21 [==============================] - 0s 1ms/step - loss: 0.3758 - accuracy: 0.8428\n",
      "Epoch 398/600\n",
      "21/21 [==============================] - 0s 1ms/step - loss: 0.3852 - accuracy: 0.8443\n",
      "Epoch 399/600\n",
      "21/21 [==============================] - 0s 1ms/step - loss: 0.3796 - accuracy: 0.8383\n",
      "Epoch 400/600\n",
      "21/21 [==============================] - 0s 1ms/step - loss: 0.3792 - accuracy: 0.8353\n",
      "Epoch 401/600\n",
      "21/21 [==============================] - 0s 1ms/step - loss: 0.3858 - accuracy: 0.8383\n",
      "Epoch 402/600\n",
      "21/21 [==============================] - 0s 1ms/step - loss: 0.3793 - accuracy: 0.8383\n",
      "Epoch 403/600\n",
      "21/21 [==============================] - 0s 1ms/step - loss: 0.3940 - accuracy: 0.8338\n",
      "Epoch 404/600\n",
      "21/21 [==============================] - 0s 1ms/step - loss: 0.3899 - accuracy: 0.8308\n",
      "Epoch 405/600\n",
      "21/21 [==============================] - 0s 1ms/step - loss: 0.3784 - accuracy: 0.8428\n",
      "Epoch 406/600\n",
      "21/21 [==============================] - 0s 1ms/step - loss: 0.3759 - accuracy: 0.8368\n",
      "Epoch 407/600\n"
     ]
    },
    {
     "name": "stdout",
     "output_type": "stream",
     "text": [
      "21/21 [==============================] - 0s 1ms/step - loss: 0.3743 - accuracy: 0.8398\n",
      "Epoch 408/600\n",
      "21/21 [==============================] - 0s 1ms/step - loss: 0.3742 - accuracy: 0.8323\n",
      "Epoch 409/600\n",
      "21/21 [==============================] - 0s 1ms/step - loss: 0.3704 - accuracy: 0.8383\n",
      "Epoch 410/600\n",
      "21/21 [==============================] - 0s 1ms/step - loss: 0.3776 - accuracy: 0.8368\n",
      "Epoch 411/600\n",
      "21/21 [==============================] - 0s 1ms/step - loss: 0.3785 - accuracy: 0.8413\n",
      "Epoch 412/600\n",
      "21/21 [==============================] - 0s 1ms/step - loss: 0.3718 - accuracy: 0.8413\n",
      "Epoch 413/600\n",
      "21/21 [==============================] - 0s 1ms/step - loss: 0.3771 - accuracy: 0.8293\n",
      "Epoch 414/600\n",
      "21/21 [==============================] - 0s 1ms/step - loss: 0.3900 - accuracy: 0.8293\n",
      "Epoch 415/600\n",
      "21/21 [==============================] - 0s 1ms/step - loss: 0.3889 - accuracy: 0.8398\n",
      "Epoch 416/600\n",
      "21/21 [==============================] - 0s 1ms/step - loss: 0.3750 - accuracy: 0.8383\n",
      "Epoch 417/600\n",
      "21/21 [==============================] - 0s 1ms/step - loss: 0.3733 - accuracy: 0.8383\n",
      "Epoch 418/600\n",
      "21/21 [==============================] - 0s 1ms/step - loss: 0.3794 - accuracy: 0.8338\n",
      "Epoch 419/600\n",
      "21/21 [==============================] - 0s 1ms/step - loss: 0.3799 - accuracy: 0.8383\n",
      "Epoch 420/600\n",
      "21/21 [==============================] - 0s 1ms/step - loss: 0.3770 - accuracy: 0.8353\n",
      "Epoch 421/600\n",
      "21/21 [==============================] - 0s 1ms/step - loss: 0.3778 - accuracy: 0.8383\n",
      "Epoch 422/600\n",
      "21/21 [==============================] - 0s 1ms/step - loss: 0.3989 - accuracy: 0.8338\n",
      "Epoch 423/600\n",
      "21/21 [==============================] - 0s 1ms/step - loss: 0.3802 - accuracy: 0.8398\n",
      "Epoch 424/600\n",
      "21/21 [==============================] - 0s 1ms/step - loss: 0.3732 - accuracy: 0.8398\n",
      "Epoch 425/600\n",
      "21/21 [==============================] - 0s 1ms/step - loss: 0.3731 - accuracy: 0.8353\n",
      "Epoch 426/600\n",
      "21/21 [==============================] - 0s 1ms/step - loss: 0.3793 - accuracy: 0.8398\n",
      "Epoch 427/600\n",
      "21/21 [==============================] - 0s 1ms/step - loss: 0.3716 - accuracy: 0.8338\n",
      "Epoch 428/600\n",
      "21/21 [==============================] - 0s 1ms/step - loss: 0.3727 - accuracy: 0.8338\n",
      "Epoch 429/600\n",
      "21/21 [==============================] - 0s 1ms/step - loss: 0.3717 - accuracy: 0.8428\n",
      "Epoch 430/600\n",
      "21/21 [==============================] - 0s 1ms/step - loss: 0.3714 - accuracy: 0.8368\n",
      "Epoch 431/600\n",
      "21/21 [==============================] - 0s 1ms/step - loss: 0.3735 - accuracy: 0.8458\n",
      "Epoch 432/600\n",
      "21/21 [==============================] - 0s 1ms/step - loss: 0.3776 - accuracy: 0.8428\n",
      "Epoch 433/600\n",
      "21/21 [==============================] - 0s 1ms/step - loss: 0.3859 - accuracy: 0.8308\n",
      "Epoch 434/600\n",
      "21/21 [==============================] - 0s 1ms/step - loss: 0.4180 - accuracy: 0.8368\n",
      "Epoch 435/600\n",
      "21/21 [==============================] - 0s 1ms/step - loss: 0.3878 - accuracy: 0.8353\n",
      "Epoch 436/600\n",
      "21/21 [==============================] - 0s 1ms/step - loss: 0.3735 - accuracy: 0.8383\n",
      "Epoch 437/600\n",
      "21/21 [==============================] - 0s 1ms/step - loss: 0.3794 - accuracy: 0.8323\n",
      "Epoch 438/600\n",
      "21/21 [==============================] - 0s 1ms/step - loss: 0.3840 - accuracy: 0.8308\n",
      "Epoch 439/600\n",
      "21/21 [==============================] - 0s 1ms/step - loss: 0.3746 - accuracy: 0.8338\n",
      "Epoch 440/600\n",
      "21/21 [==============================] - 0s 1ms/step - loss: 0.3728 - accuracy: 0.8338\n",
      "Epoch 441/600\n",
      "21/21 [==============================] - 0s 1ms/step - loss: 0.3684 - accuracy: 0.8368\n",
      "Epoch 442/600\n",
      "21/21 [==============================] - 0s 1ms/step - loss: 0.3870 - accuracy: 0.8398\n",
      "Epoch 443/600\n",
      "21/21 [==============================] - 0s 1ms/step - loss: 0.3710 - accuracy: 0.8443\n",
      "Epoch 444/600\n",
      "21/21 [==============================] - 0s 1ms/step - loss: 0.3745 - accuracy: 0.8323\n",
      "Epoch 445/600\n",
      "21/21 [==============================] - 0s 1ms/step - loss: 0.3723 - accuracy: 0.8353\n",
      "Epoch 446/600\n",
      "21/21 [==============================] - 0s 1ms/step - loss: 0.3677 - accuracy: 0.8398\n",
      "Epoch 447/600\n",
      "21/21 [==============================] - 0s 1ms/step - loss: 0.3707 - accuracy: 0.8443\n",
      "Epoch 448/600\n",
      "21/21 [==============================] - 0s 1ms/step - loss: 0.3659 - accuracy: 0.8368\n",
      "Epoch 449/600\n",
      "21/21 [==============================] - 0s 1ms/step - loss: 0.3669 - accuracy: 0.8428\n",
      "Epoch 450/600\n",
      "21/21 [==============================] - 0s 1ms/step - loss: 0.3657 - accuracy: 0.8383\n",
      "Epoch 451/600\n",
      "21/21 [==============================] - 0s 1ms/step - loss: 0.3666 - accuracy: 0.8353\n",
      "Epoch 452/600\n",
      "21/21 [==============================] - 0s 2ms/step - loss: 0.3732 - accuracy: 0.8338\n",
      "Epoch 453/600\n",
      "21/21 [==============================] - 0s 1ms/step - loss: 0.3725 - accuracy: 0.8383\n",
      "Epoch 454/600\n",
      "21/21 [==============================] - 0s 1ms/step - loss: 0.3690 - accuracy: 0.8338\n",
      "Epoch 455/600\n",
      "21/21 [==============================] - 0s 1ms/step - loss: 0.3689 - accuracy: 0.8428\n",
      "Epoch 456/600\n",
      "21/21 [==============================] - 0s 1ms/step - loss: 0.3765 - accuracy: 0.8428\n",
      "Epoch 457/600\n",
      "21/21 [==============================] - 0s 1ms/step - loss: 0.3765 - accuracy: 0.8368\n",
      "Epoch 458/600\n",
      "21/21 [==============================] - 0s 2ms/step - loss: 0.3876 - accuracy: 0.8338\n",
      "Epoch 459/600\n",
      "21/21 [==============================] - 0s 1ms/step - loss: 0.3868 - accuracy: 0.8353\n",
      "Epoch 460/600\n",
      "21/21 [==============================] - 0s 1ms/step - loss: 0.3749 - accuracy: 0.8338\n",
      "Epoch 461/600\n",
      "21/21 [==============================] - 0s 2ms/step - loss: 0.3686 - accuracy: 0.8383\n",
      "Epoch 462/600\n",
      "21/21 [==============================] - 0s 1ms/step - loss: 0.3795 - accuracy: 0.8323\n",
      "Epoch 463/600\n",
      "21/21 [==============================] - 0s 1ms/step - loss: 0.3729 - accuracy: 0.8293\n",
      "Epoch 464/600\n",
      "21/21 [==============================] - 0s 1ms/step - loss: 0.3689 - accuracy: 0.8383\n",
      "Epoch 465/600\n",
      "21/21 [==============================] - 0s 1ms/step - loss: 0.3748 - accuracy: 0.8383\n",
      "Epoch 466/600\n",
      "21/21 [==============================] - 0s 1ms/step - loss: 0.3746 - accuracy: 0.8413\n",
      "Epoch 467/600\n",
      "21/21 [==============================] - 0s 1ms/step - loss: 0.3691 - accuracy: 0.8428\n",
      "Epoch 468/600\n",
      "21/21 [==============================] - 0s 1ms/step - loss: 0.3681 - accuracy: 0.8353\n",
      "Epoch 469/600\n",
      "21/21 [==============================] - 0s 1ms/step - loss: 0.3726 - accuracy: 0.8338\n",
      "Epoch 470/600\n",
      "21/21 [==============================] - 0s 1ms/step - loss: 0.3650 - accuracy: 0.8353\n",
      "Epoch 471/600\n",
      "21/21 [==============================] - 0s 1ms/step - loss: 0.3723 - accuracy: 0.8368\n",
      "Epoch 472/600\n",
      "21/21 [==============================] - 0s 994us/step - loss: 0.3715 - accuracy: 0.8413\n",
      "Epoch 473/600\n",
      "21/21 [==============================] - 0s 1ms/step - loss: 0.3769 - accuracy: 0.8413\n",
      "Epoch 474/600\n",
      "21/21 [==============================] - 0s 931us/step - loss: 0.3709 - accuracy: 0.8338\n",
      "Epoch 475/600\n",
      "21/21 [==============================] - 0s 1ms/step - loss: 0.3782 - accuracy: 0.8473\n",
      "Epoch 476/600\n",
      "21/21 [==============================] - 0s 1ms/step - loss: 0.3664 - accuracy: 0.8368\n",
      "Epoch 477/600\n",
      "21/21 [==============================] - 0s 1ms/step - loss: 0.3669 - accuracy: 0.8323\n",
      "Epoch 478/600\n",
      "21/21 [==============================] - 0s 1ms/step - loss: 0.3649 - accuracy: 0.8428\n",
      "Epoch 479/600\n",
      "21/21 [==============================] - 0s 1ms/step - loss: 0.3704 - accuracy: 0.8338\n",
      "Epoch 480/600\n",
      "21/21 [==============================] - 0s 1ms/step - loss: 0.3696 - accuracy: 0.8383\n",
      "Epoch 481/600\n",
      "21/21 [==============================] - 0s 1ms/step - loss: 0.3676 - accuracy: 0.8443\n",
      "Epoch 482/600\n",
      "21/21 [==============================] - 0s 1ms/step - loss: 0.3662 - accuracy: 0.8428\n",
      "Epoch 483/600\n",
      "21/21 [==============================] - 0s 1ms/step - loss: 0.3664 - accuracy: 0.8398\n",
      "Epoch 484/600\n",
      "21/21 [==============================] - 0s 1ms/step - loss: 0.3691 - accuracy: 0.8353\n",
      "Epoch 485/600\n",
      "21/21 [==============================] - 0s 1ms/step - loss: 0.3647 - accuracy: 0.8413\n",
      "Epoch 486/600\n",
      "21/21 [==============================] - 0s 1ms/step - loss: 0.3703 - accuracy: 0.8398\n",
      "Epoch 487/600\n",
      "21/21 [==============================] - 0s 1ms/step - loss: 0.3688 - accuracy: 0.8383\n",
      "Epoch 488/600\n"
     ]
    },
    {
     "name": "stdout",
     "output_type": "stream",
     "text": [
      "21/21 [==============================] - 0s 1ms/step - loss: 0.3657 - accuracy: 0.8383\n",
      "Epoch 489/600\n",
      "21/21 [==============================] - 0s 1ms/step - loss: 0.3645 - accuracy: 0.8428\n",
      "Epoch 490/600\n",
      "21/21 [==============================] - 0s 1ms/step - loss: 0.3661 - accuracy: 0.8368\n",
      "Epoch 491/600\n",
      "21/21 [==============================] - 0s 1ms/step - loss: 0.3632 - accuracy: 0.8458\n",
      "Epoch 492/600\n",
      "21/21 [==============================] - 0s 1ms/step - loss: 0.3612 - accuracy: 0.8383\n",
      "Epoch 493/600\n",
      "21/21 [==============================] - 0s 1ms/step - loss: 0.3722 - accuracy: 0.8398\n",
      "Epoch 494/600\n",
      "21/21 [==============================] - 0s 1ms/step - loss: 0.3617 - accuracy: 0.8383\n",
      "Epoch 495/600\n",
      "21/21 [==============================] - 0s 1ms/step - loss: 0.3718 - accuracy: 0.8428\n",
      "Epoch 496/600\n",
      "21/21 [==============================] - 0s 1ms/step - loss: 0.3676 - accuracy: 0.8488\n",
      "Epoch 497/600\n",
      "21/21 [==============================] - 0s 1ms/step - loss: 0.4024 - accuracy: 0.8249\n",
      "Epoch 498/600\n",
      "21/21 [==============================] - 0s 1ms/step - loss: 0.3759 - accuracy: 0.8398\n",
      "Epoch 499/600\n",
      "21/21 [==============================] - 0s 1ms/step - loss: 0.3749 - accuracy: 0.8383\n",
      "Epoch 500/600\n",
      "21/21 [==============================] - 0s 1ms/step - loss: 0.3794 - accuracy: 0.8353\n",
      "Epoch 501/600\n",
      "21/21 [==============================] - 0s 1ms/step - loss: 0.3675 - accuracy: 0.8443\n",
      "Epoch 502/600\n",
      "21/21 [==============================] - 0s 1ms/step - loss: 0.3728 - accuracy: 0.8293\n",
      "Epoch 503/600\n",
      "21/21 [==============================] - 0s 1ms/step - loss: 0.3661 - accuracy: 0.8413\n",
      "Epoch 504/600\n",
      "21/21 [==============================] - 0s 1ms/step - loss: 0.3648 - accuracy: 0.8368\n",
      "Epoch 505/600\n",
      "21/21 [==============================] - 0s 1ms/step - loss: 0.3655 - accuracy: 0.8413\n",
      "Epoch 506/600\n",
      "21/21 [==============================] - 0s 1ms/step - loss: 0.3622 - accuracy: 0.8413\n",
      "Epoch 507/600\n",
      "21/21 [==============================] - 0s 1ms/step - loss: 0.3666 - accuracy: 0.8353\n",
      "Epoch 508/600\n",
      "21/21 [==============================] - 0s 1ms/step - loss: 0.3684 - accuracy: 0.8293\n",
      "Epoch 509/600\n",
      "21/21 [==============================] - 0s 1ms/step - loss: 0.3655 - accuracy: 0.8413\n",
      "Epoch 510/600\n",
      "21/21 [==============================] - 0s 1ms/step - loss: 0.3636 - accuracy: 0.8383\n",
      "Epoch 511/600\n",
      "21/21 [==============================] - 0s 1ms/step - loss: 0.3619 - accuracy: 0.8443\n",
      "Epoch 512/600\n",
      "21/21 [==============================] - 0s 1ms/step - loss: 0.3584 - accuracy: 0.8368\n",
      "Epoch 513/600\n",
      "21/21 [==============================] - 0s 1ms/step - loss: 0.3596 - accuracy: 0.8398\n",
      "Epoch 514/600\n",
      "21/21 [==============================] - 0s 1ms/step - loss: 0.3635 - accuracy: 0.8413\n",
      "Epoch 515/600\n",
      "21/21 [==============================] - 0s 1ms/step - loss: 0.3635 - accuracy: 0.8458\n",
      "Epoch 516/600\n",
      "21/21 [==============================] - 0s 1ms/step - loss: 0.3676 - accuracy: 0.8413\n",
      "Epoch 517/600\n",
      "21/21 [==============================] - 0s 1ms/step - loss: 0.3720 - accuracy: 0.8398\n",
      "Epoch 518/600\n",
      "21/21 [==============================] - 0s 1ms/step - loss: 0.3715 - accuracy: 0.8383\n",
      "Epoch 519/600\n",
      "21/21 [==============================] - 0s 1ms/step - loss: 0.3649 - accuracy: 0.8428\n",
      "Epoch 520/600\n",
      "21/21 [==============================] - 0s 1ms/step - loss: 0.3649 - accuracy: 0.8398\n",
      "Epoch 521/600\n",
      "21/21 [==============================] - 0s 1ms/step - loss: 0.3740 - accuracy: 0.8383\n",
      "Epoch 522/600\n",
      "21/21 [==============================] - 0s 1ms/step - loss: 0.3787 - accuracy: 0.8398\n",
      "Epoch 523/600\n",
      "21/21 [==============================] - 0s 1ms/step - loss: 0.3677 - accuracy: 0.8413\n",
      "Epoch 524/600\n",
      "21/21 [==============================] - 0s 1ms/step - loss: 0.3655 - accuracy: 0.8398\n",
      "Epoch 525/600\n",
      "21/21 [==============================] - 0s 1ms/step - loss: 0.3608 - accuracy: 0.8383\n",
      "Epoch 526/600\n",
      "21/21 [==============================] - 0s 1ms/step - loss: 0.3597 - accuracy: 0.8413\n",
      "Epoch 527/600\n",
      "21/21 [==============================] - 0s 1ms/step - loss: 0.3642 - accuracy: 0.8383\n",
      "Epoch 528/600\n",
      "21/21 [==============================] - 0s 1ms/step - loss: 0.3630 - accuracy: 0.8398\n",
      "Epoch 529/600\n",
      "21/21 [==============================] - 0s 1ms/step - loss: 0.3746 - accuracy: 0.8353\n",
      "Epoch 530/600\n",
      "21/21 [==============================] - 0s 1ms/step - loss: 0.3710 - accuracy: 0.8473\n",
      "Epoch 531/600\n",
      "21/21 [==============================] - 0s 1ms/step - loss: 0.3604 - accuracy: 0.8413\n",
      "Epoch 532/600\n",
      "21/21 [==============================] - 0s 1ms/step - loss: 0.3588 - accuracy: 0.8503\n",
      "Epoch 533/600\n",
      "21/21 [==============================] - 0s 1ms/step - loss: 0.3783 - accuracy: 0.8323\n",
      "Epoch 534/600\n",
      "21/21 [==============================] - 0s 1ms/step - loss: 0.3782 - accuracy: 0.8353\n",
      "Epoch 535/600\n",
      "21/21 [==============================] - 0s 1ms/step - loss: 0.3608 - accuracy: 0.8443\n",
      "Epoch 536/600\n",
      "21/21 [==============================] - 0s 1ms/step - loss: 0.3626 - accuracy: 0.8353\n",
      "Epoch 537/600\n",
      "21/21 [==============================] - 0s 1ms/step - loss: 0.3601 - accuracy: 0.8353\n",
      "Epoch 538/600\n",
      "21/21 [==============================] - 0s 1ms/step - loss: 0.3561 - accuracy: 0.8383\n",
      "Epoch 539/600\n",
      "21/21 [==============================] - 0s 1ms/step - loss: 0.3631 - accuracy: 0.8398\n",
      "Epoch 540/600\n",
      "21/21 [==============================] - 0s 1ms/step - loss: 0.3565 - accuracy: 0.8458\n",
      "Epoch 541/600\n",
      "21/21 [==============================] - 0s 1ms/step - loss: 0.3582 - accuracy: 0.8413\n",
      "Epoch 542/600\n",
      "21/21 [==============================] - 0s 1ms/step - loss: 0.3567 - accuracy: 0.8323\n",
      "Epoch 543/600\n",
      "21/21 [==============================] - 0s 1ms/step - loss: 0.3561 - accuracy: 0.8413\n",
      "Epoch 544/600\n",
      "21/21 [==============================] - 0s 1ms/step - loss: 0.3603 - accuracy: 0.8458\n",
      "Epoch 545/600\n",
      "21/21 [==============================] - 0s 1ms/step - loss: 0.3571 - accuracy: 0.8413\n",
      "Epoch 546/600\n",
      "21/21 [==============================] - 0s 1ms/step - loss: 0.3650 - accuracy: 0.8413\n",
      "Epoch 547/600\n",
      "21/21 [==============================] - 0s 1ms/step - loss: 0.3636 - accuracy: 0.8458\n",
      "Epoch 548/600\n",
      "21/21 [==============================] - 0s 1ms/step - loss: 0.3566 - accuracy: 0.8413\n",
      "Epoch 549/600\n",
      "21/21 [==============================] - 0s 1ms/step - loss: 0.3573 - accuracy: 0.8323\n",
      "Epoch 550/600\n",
      "21/21 [==============================] - 0s 1ms/step - loss: 0.3552 - accuracy: 0.8458\n",
      "Epoch 551/600\n",
      "21/21 [==============================] - 0s 1ms/step - loss: 0.3627 - accuracy: 0.8413\n",
      "Epoch 552/600\n",
      "21/21 [==============================] - 0s 2ms/step - loss: 0.3621 - accuracy: 0.8383\n",
      "Epoch 553/600\n",
      "21/21 [==============================] - 0s 1ms/step - loss: 0.3652 - accuracy: 0.8383\n",
      "Epoch 554/600\n",
      "21/21 [==============================] - 0s 1ms/step - loss: 0.3600 - accuracy: 0.8398\n",
      "Epoch 555/600\n",
      "21/21 [==============================] - 0s 1ms/step - loss: 0.3618 - accuracy: 0.8383\n",
      "Epoch 556/600\n",
      "21/21 [==============================] - 0s 1ms/step - loss: 0.3594 - accuracy: 0.8443\n",
      "Epoch 557/600\n",
      "21/21 [==============================] - 0s 1ms/step - loss: 0.3622 - accuracy: 0.8488\n",
      "Epoch 558/600\n",
      "21/21 [==============================] - 0s 1ms/step - loss: 0.3674 - accuracy: 0.8443\n",
      "Epoch 559/600\n",
      "21/21 [==============================] - 0s 1ms/step - loss: 0.3739 - accuracy: 0.8353\n",
      "Epoch 560/600\n",
      "21/21 [==============================] - 0s 1ms/step - loss: 0.3673 - accuracy: 0.8293\n",
      "Epoch 561/600\n",
      "21/21 [==============================] - 0s 1ms/step - loss: 0.3557 - accuracy: 0.8428\n",
      "Epoch 562/600\n",
      "21/21 [==============================] - 0s 1ms/step - loss: 0.3592 - accuracy: 0.8323\n",
      "Epoch 563/600\n",
      "21/21 [==============================] - 0s 1ms/step - loss: 0.3553 - accuracy: 0.8533\n",
      "Epoch 564/600\n",
      "21/21 [==============================] - 0s 1ms/step - loss: 0.3549 - accuracy: 0.8428\n",
      "Epoch 565/600\n",
      "21/21 [==============================] - 0s 1ms/step - loss: 0.3554 - accuracy: 0.8413\n",
      "Epoch 566/600\n",
      "21/21 [==============================] - 0s 2ms/step - loss: 0.3730 - accuracy: 0.8413\n",
      "Epoch 567/600\n",
      "21/21 [==============================] - 0s 1ms/step - loss: 0.3682 - accuracy: 0.8398\n",
      "Epoch 568/600\n",
      "21/21 [==============================] - 0s 1ms/step - loss: 0.3638 - accuracy: 0.8413\n",
      "Epoch 569/600\n"
     ]
    },
    {
     "name": "stdout",
     "output_type": "stream",
     "text": [
      "21/21 [==============================] - 0s 1ms/step - loss: 0.3632 - accuracy: 0.8428\n",
      "Epoch 570/600\n",
      "21/21 [==============================] - 0s 1ms/step - loss: 0.3530 - accuracy: 0.8443\n",
      "Epoch 571/600\n",
      "21/21 [==============================] - 0s 1ms/step - loss: 0.3545 - accuracy: 0.8428\n",
      "Epoch 572/600\n",
      "21/21 [==============================] - 0s 1ms/step - loss: 0.3562 - accuracy: 0.8488\n",
      "Epoch 573/600\n",
      "21/21 [==============================] - 0s 1ms/step - loss: 0.3577 - accuracy: 0.8443\n",
      "Epoch 574/600\n",
      "21/21 [==============================] - 0s 1ms/step - loss: 0.3561 - accuracy: 0.8443\n",
      "Epoch 575/600\n",
      "21/21 [==============================] - 0s 1ms/step - loss: 0.3518 - accuracy: 0.8413\n",
      "Epoch 576/600\n",
      "21/21 [==============================] - 0s 1ms/step - loss: 0.3551 - accuracy: 0.8473\n",
      "Epoch 577/600\n",
      "21/21 [==============================] - 0s 1ms/step - loss: 0.3519 - accuracy: 0.8458\n",
      "Epoch 578/600\n",
      "21/21 [==============================] - 0s 1ms/step - loss: 0.3552 - accuracy: 0.8428\n",
      "Epoch 579/600\n",
      "21/21 [==============================] - 0s 1ms/step - loss: 0.3546 - accuracy: 0.8383\n",
      "Epoch 580/600\n",
      "21/21 [==============================] - 0s 1ms/step - loss: 0.3575 - accuracy: 0.8413\n",
      "Epoch 581/600\n",
      "21/21 [==============================] - 0s 1ms/step - loss: 0.3600 - accuracy: 0.8383\n",
      "Epoch 582/600\n",
      "21/21 [==============================] - 0s 1ms/step - loss: 0.3565 - accuracy: 0.8458\n",
      "Epoch 583/600\n",
      "21/21 [==============================] - 0s 1ms/step - loss: 0.3522 - accuracy: 0.8488\n",
      "Epoch 584/600\n",
      "21/21 [==============================] - 0s 1ms/step - loss: 0.3516 - accuracy: 0.8383\n",
      "Epoch 585/600\n",
      "21/21 [==============================] - 0s 1ms/step - loss: 0.3563 - accuracy: 0.8428\n",
      "Epoch 586/600\n",
      "21/21 [==============================] - 0s 1ms/step - loss: 0.3518 - accuracy: 0.8533\n",
      "Epoch 587/600\n",
      "21/21 [==============================] - 0s 1ms/step - loss: 0.3601 - accuracy: 0.8368\n",
      "Epoch 588/600\n",
      "21/21 [==============================] - 0s 1ms/step - loss: 0.3588 - accuracy: 0.8473\n",
      "Epoch 589/600\n",
      "21/21 [==============================] - 0s 1ms/step - loss: 0.3509 - accuracy: 0.8443\n",
      "Epoch 590/600\n",
      "21/21 [==============================] - 0s 1ms/step - loss: 0.3519 - accuracy: 0.8458\n",
      "Epoch 591/600\n",
      "21/21 [==============================] - 0s 1ms/step - loss: 0.3547 - accuracy: 0.8383\n",
      "Epoch 592/600\n",
      "21/21 [==============================] - 0s 1ms/step - loss: 0.3516 - accuracy: 0.8488\n",
      "Epoch 593/600\n",
      "21/21 [==============================] - 0s 1ms/step - loss: 0.3507 - accuracy: 0.8533\n",
      "Epoch 594/600\n",
      "21/21 [==============================] - 0s 1ms/step - loss: 0.3498 - accuracy: 0.8443\n",
      "Epoch 595/600\n",
      "21/21 [==============================] - 0s 1ms/step - loss: 0.3524 - accuracy: 0.8473\n",
      "Epoch 596/600\n",
      "21/21 [==============================] - 0s 1ms/step - loss: 0.3512 - accuracy: 0.8458\n",
      "Epoch 597/600\n",
      "21/21 [==============================] - 0s 1ms/step - loss: 0.3567 - accuracy: 0.8443\n",
      "Epoch 598/600\n",
      "21/21 [==============================] - 0s 1ms/step - loss: 0.3669 - accuracy: 0.8398\n",
      "Epoch 599/600\n",
      "21/21 [==============================] - 0s 1ms/step - loss: 0.3727 - accuracy: 0.8353\n",
      "Epoch 600/600\n",
      "21/21 [==============================] - 0s 1ms/step - loss: 0.3540 - accuracy: 0.8368\n"
     ]
    },
    {
     "data": {
      "text/plain": [
       "<keras.src.callbacks.History at 0x1d30ab5e640>"
      ]
     },
     "execution_count": 101,
     "metadata": {},
     "output_type": "execute_result"
    }
   ],
   "source": [
    "model.fit(train_input , train_target , epochs = 600)"
   ]
  },
  {
   "cell_type": "code",
   "execution_count": 102,
   "id": "ce8d6325",
   "metadata": {
    "ExecuteTime": {
     "end_time": "2023-11-16T06:36:33.961574Z",
     "start_time": "2023-11-16T06:36:33.823622Z"
    }
   },
   "outputs": [
    {
     "name": "stdout",
     "output_type": "stream",
     "text": [
      "7/7 [==============================] - 0s 1ms/step - loss: 0.4353 - accuracy: 0.8117\n"
     ]
    },
    {
     "data": {
      "text/plain": [
       "[0.4352888762950897, 0.8116592168807983]"
      ]
     },
     "execution_count": 102,
     "metadata": {},
     "output_type": "execute_result"
    }
   ],
   "source": [
    "model.evaluate(test_input , test_target)"
   ]
  },
  {
   "cell_type": "code",
   "execution_count": 106,
   "id": "506960b1",
   "metadata": {
    "ExecuteTime": {
     "end_time": "2023-11-16T06:37:54.493348Z",
     "start_time": "2023-11-16T06:37:54.409191Z"
    }
   },
   "outputs": [
    {
     "name": "stdout",
     "output_type": "stream",
     "text": [
      "7/7 [==============================] - 0s 1ms/step\n",
      "              precision    recall  f1-score   support\n",
      "\n",
      "           0       0.82      0.89      0.86       139\n",
      "           1       0.79      0.68      0.73        84\n",
      "\n",
      "    accuracy                           0.81       223\n",
      "   macro avg       0.81      0.79      0.79       223\n",
      "weighted avg       0.81      0.81      0.81       223\n",
      "\n"
     ]
    }
   ],
   "source": [
    "print(classification_report(test_target , np.where(model.predict(test_input)>=0.5 , 1 , 0)))"
   ]
  },
  {
   "cell_type": "code",
   "execution_count": 107,
   "id": "c45d620a",
   "metadata": {
    "ExecuteTime": {
     "end_time": "2023-11-16T06:46:10.163756Z",
     "start_time": "2023-11-16T06:46:09.985817Z"
    }
   },
   "outputs": [],
   "source": [
    "from imblearn.over_sampling import SMOTE\n",
    "smote = SMOTE(random_state = 0)\n",
    "train_scaled_over , train_target_over = smote.fit_resample(train_scaled , train_target)"
   ]
  },
  {
   "cell_type": "code",
   "execution_count": 111,
   "id": "ccd6701f",
   "metadata": {
    "ExecuteTime": {
     "end_time": "2023-11-16T06:47:16.858600Z",
     "start_time": "2023-11-16T06:46:58.356946Z"
    }
   },
   "outputs": [
    {
     "name": "stdout",
     "output_type": "stream",
     "text": [
      "Epoch 1/600\n",
      "26/26 [==============================] - 0s 1ms/step - loss: 0.7830 - accuracy: 0.4402\n",
      "Epoch 2/600\n",
      "26/26 [==============================] - 0s 1ms/step - loss: 0.7054 - accuracy: 0.4524\n",
      "Epoch 3/600\n",
      "26/26 [==============================] - 0s 1ms/step - loss: 0.6597 - accuracy: 0.6744\n",
      "Epoch 4/600\n",
      "26/26 [==============================] - 0s 1ms/step - loss: 0.6178 - accuracy: 0.7512\n",
      "Epoch 5/600\n",
      "26/26 [==============================] - 0s 1ms/step - loss: 0.5792 - accuracy: 0.7695\n",
      "Epoch 6/600\n",
      "26/26 [==============================] - 0s 1ms/step - loss: 0.5441 - accuracy: 0.7707\n",
      "Epoch 7/600\n",
      "26/26 [==============================] - 0s 1ms/step - loss: 0.5159 - accuracy: 0.7720\n",
      "Epoch 8/600\n",
      "26/26 [==============================] - 0s 1ms/step - loss: 0.4966 - accuracy: 0.7744\n",
      "Epoch 9/600\n",
      "26/26 [==============================] - 0s 1ms/step - loss: 0.4798 - accuracy: 0.7695\n",
      "Epoch 10/600\n",
      "26/26 [==============================] - 0s 1ms/step - loss: 0.4718 - accuracy: 0.7732\n",
      "Epoch 11/600\n",
      "26/26 [==============================] - 0s 1ms/step - loss: 0.4652 - accuracy: 0.7720\n",
      "Epoch 12/600\n",
      "26/26 [==============================] - 0s 1ms/step - loss: 0.4623 - accuracy: 0.7768\n",
      "Epoch 13/600\n",
      "26/26 [==============================] - 0s 1ms/step - loss: 0.4594 - accuracy: 0.7695\n",
      "Epoch 14/600\n",
      "26/26 [==============================] - 0s 1ms/step - loss: 0.4573 - accuracy: 0.7756\n",
      "Epoch 15/600\n",
      "26/26 [==============================] - 0s 1ms/step - loss: 0.4564 - accuracy: 0.7805\n",
      "Epoch 16/600\n",
      "26/26 [==============================] - 0s 1ms/step - loss: 0.4544 - accuracy: 0.7793\n",
      "Epoch 17/600\n",
      "26/26 [==============================] - 0s 1ms/step - loss: 0.4531 - accuracy: 0.7780\n",
      "Epoch 18/600\n",
      "26/26 [==============================] - 0s 1ms/step - loss: 0.4527 - accuracy: 0.7829\n",
      "Epoch 19/600\n",
      "26/26 [==============================] - 0s 1ms/step - loss: 0.4514 - accuracy: 0.7890\n",
      "Epoch 20/600\n",
      "26/26 [==============================] - 0s 1ms/step - loss: 0.4506 - accuracy: 0.7841\n",
      "Epoch 21/600\n",
      "26/26 [==============================] - 0s 1ms/step - loss: 0.4499 - accuracy: 0.7841\n",
      "Epoch 22/600\n",
      "26/26 [==============================] - 0s 1ms/step - loss: 0.4498 - accuracy: 0.7915\n",
      "Epoch 23/600\n",
      "26/26 [==============================] - 0s 1ms/step - loss: 0.4498 - accuracy: 0.7866\n",
      "Epoch 24/600\n",
      "26/26 [==============================] - 0s 1ms/step - loss: 0.4479 - accuracy: 0.7939\n",
      "Epoch 25/600\n",
      "26/26 [==============================] - 0s 1ms/step - loss: 0.4473 - accuracy: 0.7951\n",
      "Epoch 26/600\n",
      "26/26 [==============================] - 0s 1ms/step - loss: 0.4465 - accuracy: 0.7951\n",
      "Epoch 27/600\n",
      "26/26 [==============================] - 0s 1ms/step - loss: 0.4469 - accuracy: 0.7927\n",
      "Epoch 28/600\n",
      "26/26 [==============================] - 0s 1ms/step - loss: 0.4472 - accuracy: 0.7902\n",
      "Epoch 29/600\n",
      "26/26 [==============================] - 0s 1ms/step - loss: 0.4472 - accuracy: 0.8000\n",
      "Epoch 30/600\n",
      "26/26 [==============================] - 0s 1ms/step - loss: 0.4451 - accuracy: 0.8012\n",
      "Epoch 31/600\n",
      "26/26 [==============================] - 0s 1ms/step - loss: 0.4450 - accuracy: 0.7963\n",
      "Epoch 32/600\n",
      "26/26 [==============================] - 0s 1ms/step - loss: 0.4442 - accuracy: 0.8049\n",
      "Epoch 33/600\n",
      "26/26 [==============================] - 0s 1ms/step - loss: 0.4442 - accuracy: 0.7963\n",
      "Epoch 34/600\n",
      "26/26 [==============================] - 0s 1ms/step - loss: 0.4433 - accuracy: 0.8024\n",
      "Epoch 35/600\n",
      "26/26 [==============================] - 0s 1ms/step - loss: 0.4437 - accuracy: 0.8012\n",
      "Epoch 36/600\n",
      "26/26 [==============================] - 0s 2ms/step - loss: 0.4426 - accuracy: 0.8000\n",
      "Epoch 37/600\n",
      "26/26 [==============================] - 0s 1ms/step - loss: 0.4422 - accuracy: 0.8000\n",
      "Epoch 38/600\n",
      "26/26 [==============================] - 0s 1ms/step - loss: 0.4418 - accuracy: 0.7988\n",
      "Epoch 39/600\n",
      "26/26 [==============================] - 0s 1ms/step - loss: 0.4414 - accuracy: 0.8012\n",
      "Epoch 40/600\n",
      "26/26 [==============================] - 0s 1ms/step - loss: 0.4408 - accuracy: 0.7988\n",
      "Epoch 41/600\n",
      "26/26 [==============================] - 0s 1ms/step - loss: 0.4402 - accuracy: 0.8012\n",
      "Epoch 42/600\n",
      "26/26 [==============================] - 0s 1ms/step - loss: 0.4399 - accuracy: 0.8012\n",
      "Epoch 43/600\n",
      "26/26 [==============================] - 0s 1ms/step - loss: 0.4398 - accuracy: 0.7963\n",
      "Epoch 44/600\n",
      "26/26 [==============================] - 0s 1ms/step - loss: 0.4402 - accuracy: 0.8012\n",
      "Epoch 45/600\n",
      "26/26 [==============================] - 0s 1ms/step - loss: 0.4378 - accuracy: 0.8012\n",
      "Epoch 46/600\n",
      "26/26 [==============================] - 0s 1ms/step - loss: 0.4383 - accuracy: 0.8037\n",
      "Epoch 47/600\n",
      "26/26 [==============================] - 0s 1ms/step - loss: 0.4382 - accuracy: 0.8000\n",
      "Epoch 48/600\n",
      "26/26 [==============================] - 0s 1ms/step - loss: 0.4374 - accuracy: 0.8012\n",
      "Epoch 49/600\n",
      "26/26 [==============================] - 0s 1ms/step - loss: 0.4366 - accuracy: 0.8037\n",
      "Epoch 50/600\n",
      "26/26 [==============================] - 0s 1ms/step - loss: 0.4370 - accuracy: 0.8000\n",
      "Epoch 51/600\n",
      "26/26 [==============================] - 0s 1ms/step - loss: 0.4360 - accuracy: 0.8000\n",
      "Epoch 52/600\n",
      "26/26 [==============================] - 0s 1ms/step - loss: 0.4359 - accuracy: 0.7951\n",
      "Epoch 53/600\n",
      "26/26 [==============================] - 0s 2ms/step - loss: 0.4353 - accuracy: 0.8024\n",
      "Epoch 54/600\n",
      "26/26 [==============================] - 0s 1ms/step - loss: 0.4344 - accuracy: 0.8024\n",
      "Epoch 55/600\n",
      "26/26 [==============================] - 0s 1ms/step - loss: 0.4338 - accuracy: 0.8000\n",
      "Epoch 56/600\n",
      "26/26 [==============================] - 0s 1ms/step - loss: 0.4331 - accuracy: 0.8024\n",
      "Epoch 57/600\n",
      "26/26 [==============================] - 0s 1ms/step - loss: 0.4333 - accuracy: 0.8037\n",
      "Epoch 58/600\n",
      "26/26 [==============================] - 0s 1ms/step - loss: 0.4341 - accuracy: 0.8061\n",
      "Epoch 59/600\n",
      "26/26 [==============================] - 0s 1ms/step - loss: 0.4340 - accuracy: 0.7976\n",
      "Epoch 60/600\n",
      "26/26 [==============================] - 0s 1ms/step - loss: 0.4327 - accuracy: 0.8037\n",
      "Epoch 61/600\n",
      "26/26 [==============================] - 0s 980us/step - loss: 0.4327 - accuracy: 0.8085\n",
      "Epoch 62/600\n",
      "26/26 [==============================] - 0s 1ms/step - loss: 0.4319 - accuracy: 0.8049\n",
      "Epoch 63/600\n",
      "26/26 [==============================] - 0s 1ms/step - loss: 0.4330 - accuracy: 0.8061\n",
      "Epoch 64/600\n",
      "26/26 [==============================] - 0s 1ms/step - loss: 0.4309 - accuracy: 0.8049\n",
      "Epoch 65/600\n",
      "26/26 [==============================] - 0s 1ms/step - loss: 0.4308 - accuracy: 0.8061\n",
      "Epoch 66/600\n",
      "26/26 [==============================] - 0s 1ms/step - loss: 0.4314 - accuracy: 0.8085\n",
      "Epoch 67/600\n",
      "26/26 [==============================] - 0s 1ms/step - loss: 0.4301 - accuracy: 0.8073\n",
      "Epoch 68/600\n",
      "26/26 [==============================] - 0s 1ms/step - loss: 0.4289 - accuracy: 0.8122\n",
      "Epoch 69/600\n",
      "26/26 [==============================] - 0s 1ms/step - loss: 0.4290 - accuracy: 0.8085\n",
      "Epoch 70/600\n",
      "26/26 [==============================] - 0s 1ms/step - loss: 0.4291 - accuracy: 0.8037\n",
      "Epoch 71/600\n",
      "26/26 [==============================] - 0s 1ms/step - loss: 0.4282 - accuracy: 0.8110\n",
      "Epoch 72/600\n",
      "26/26 [==============================] - 0s 1ms/step - loss: 0.4277 - accuracy: 0.8159\n",
      "Epoch 73/600\n",
      "26/26 [==============================] - 0s 1ms/step - loss: 0.4274 - accuracy: 0.8073\n",
      "Epoch 74/600\n",
      "26/26 [==============================] - 0s 1ms/step - loss: 0.4267 - accuracy: 0.8146\n",
      "Epoch 75/600\n",
      "26/26 [==============================] - 0s 1ms/step - loss: 0.4269 - accuracy: 0.8134\n",
      "Epoch 76/600\n",
      "26/26 [==============================] - 0s 1ms/step - loss: 0.4278 - accuracy: 0.8085\n",
      "Epoch 77/600\n",
      "26/26 [==============================] - 0s 977us/step - loss: 0.4257 - accuracy: 0.8207\n",
      "Epoch 78/600\n",
      "26/26 [==============================] - 0s 1ms/step - loss: 0.4266 - accuracy: 0.8146\n",
      "Epoch 79/600\n",
      "26/26 [==============================] - 0s 1ms/step - loss: 0.4254 - accuracy: 0.8183\n",
      "Epoch 80/600\n",
      "26/26 [==============================] - 0s 1ms/step - loss: 0.4255 - accuracy: 0.8146\n",
      "Epoch 81/600\n",
      "26/26 [==============================] - 0s 1ms/step - loss: 0.4243 - accuracy: 0.8220\n",
      "Epoch 82/600\n",
      "26/26 [==============================] - 0s 1ms/step - loss: 0.4247 - accuracy: 0.8220\n"
     ]
    },
    {
     "name": "stdout",
     "output_type": "stream",
     "text": [
      "Epoch 83/600\n",
      "26/26 [==============================] - 0s 1ms/step - loss: 0.4251 - accuracy: 0.8195\n",
      "Epoch 84/600\n",
      "26/26 [==============================] - 0s 1ms/step - loss: 0.4240 - accuracy: 0.8220\n",
      "Epoch 85/600\n",
      "26/26 [==============================] - 0s 1ms/step - loss: 0.4240 - accuracy: 0.8220\n",
      "Epoch 86/600\n",
      "26/26 [==============================] - 0s 1ms/step - loss: 0.4235 - accuracy: 0.8232\n",
      "Epoch 87/600\n",
      "26/26 [==============================] - 0s 1ms/step - loss: 0.4232 - accuracy: 0.8183\n",
      "Epoch 88/600\n",
      "26/26 [==============================] - 0s 1ms/step - loss: 0.4234 - accuracy: 0.8293\n",
      "Epoch 89/600\n",
      "26/26 [==============================] - 0s 1ms/step - loss: 0.4240 - accuracy: 0.8195\n",
      "Epoch 90/600\n",
      "26/26 [==============================] - 0s 1ms/step - loss: 0.4236 - accuracy: 0.8244\n",
      "Epoch 91/600\n",
      "26/26 [==============================] - 0s 995us/step - loss: 0.4223 - accuracy: 0.8256\n",
      "Epoch 92/600\n",
      "26/26 [==============================] - 0s 1ms/step - loss: 0.4219 - accuracy: 0.8268\n",
      "Epoch 93/600\n",
      "26/26 [==============================] - 0s 997us/step - loss: 0.4226 - accuracy: 0.8171\n",
      "Epoch 94/600\n",
      "26/26 [==============================] - 0s 973us/step - loss: 0.4245 - accuracy: 0.8207\n",
      "Epoch 95/600\n",
      "26/26 [==============================] - 0s 1ms/step - loss: 0.4223 - accuracy: 0.8183\n",
      "Epoch 96/600\n",
      "26/26 [==============================] - 0s 1ms/step - loss: 0.4221 - accuracy: 0.8183\n",
      "Epoch 97/600\n",
      "26/26 [==============================] - 0s 1ms/step - loss: 0.4208 - accuracy: 0.8195\n",
      "Epoch 98/600\n",
      "26/26 [==============================] - 0s 1ms/step - loss: 0.4206 - accuracy: 0.8280\n",
      "Epoch 99/600\n",
      "26/26 [==============================] - 0s 1ms/step - loss: 0.4207 - accuracy: 0.8220\n",
      "Epoch 100/600\n",
      "26/26 [==============================] - 0s 1ms/step - loss: 0.4211 - accuracy: 0.8207\n",
      "Epoch 101/600\n",
      "26/26 [==============================] - 0s 1ms/step - loss: 0.4217 - accuracy: 0.8183\n",
      "Epoch 102/600\n",
      "26/26 [==============================] - 0s 976us/step - loss: 0.4197 - accuracy: 0.8256\n",
      "Epoch 103/600\n",
      "26/26 [==============================] - 0s 1ms/step - loss: 0.4234 - accuracy: 0.8171\n",
      "Epoch 104/600\n",
      "26/26 [==============================] - 0s 1ms/step - loss: 0.4221 - accuracy: 0.8207\n",
      "Epoch 105/600\n",
      "26/26 [==============================] - 0s 1ms/step - loss: 0.4202 - accuracy: 0.8171\n",
      "Epoch 106/600\n",
      "26/26 [==============================] - 0s 1ms/step - loss: 0.4192 - accuracy: 0.8293\n",
      "Epoch 107/600\n",
      "26/26 [==============================] - 0s 1ms/step - loss: 0.4213 - accuracy: 0.8244\n",
      "Epoch 108/600\n",
      "26/26 [==============================] - 0s 1ms/step - loss: 0.4211 - accuracy: 0.8171\n",
      "Epoch 109/600\n",
      "26/26 [==============================] - 0s 1ms/step - loss: 0.4223 - accuracy: 0.8146\n",
      "Epoch 110/600\n",
      "26/26 [==============================] - 0s 1ms/step - loss: 0.4195 - accuracy: 0.8268\n",
      "Epoch 111/600\n",
      "26/26 [==============================] - 0s 963us/step - loss: 0.4186 - accuracy: 0.8244\n",
      "Epoch 112/600\n",
      "26/26 [==============================] - 0s 982us/step - loss: 0.4186 - accuracy: 0.8293\n",
      "Epoch 113/600\n",
      "26/26 [==============================] - 0s 1ms/step - loss: 0.4190 - accuracy: 0.8232\n",
      "Epoch 114/600\n",
      "26/26 [==============================] - 0s 1ms/step - loss: 0.4216 - accuracy: 0.8220\n",
      "Epoch 115/600\n",
      "26/26 [==============================] - 0s 1ms/step - loss: 0.4193 - accuracy: 0.8244\n",
      "Epoch 116/600\n",
      "26/26 [==============================] - 0s 1ms/step - loss: 0.4189 - accuracy: 0.8195\n",
      "Epoch 117/600\n",
      "26/26 [==============================] - 0s 1ms/step - loss: 0.4180 - accuracy: 0.8207\n",
      "Epoch 118/600\n",
      "26/26 [==============================] - 0s 1ms/step - loss: 0.4194 - accuracy: 0.8268\n",
      "Epoch 119/600\n",
      "26/26 [==============================] - 0s 1ms/step - loss: 0.4187 - accuracy: 0.8195\n",
      "Epoch 120/600\n",
      "26/26 [==============================] - 0s 975us/step - loss: 0.4187 - accuracy: 0.8195\n",
      "Epoch 121/600\n",
      "26/26 [==============================] - 0s 2ms/step - loss: 0.4176 - accuracy: 0.8207\n",
      "Epoch 122/600\n",
      "26/26 [==============================] - 0s 1ms/step - loss: 0.4180 - accuracy: 0.8256\n",
      "Epoch 123/600\n",
      "26/26 [==============================] - 0s 1ms/step - loss: 0.4190 - accuracy: 0.8195\n",
      "Epoch 124/600\n",
      "26/26 [==============================] - 0s 1ms/step - loss: 0.4194 - accuracy: 0.8220\n",
      "Epoch 125/600\n",
      "26/26 [==============================] - 0s 1ms/step - loss: 0.4170 - accuracy: 0.8207\n",
      "Epoch 126/600\n",
      "26/26 [==============================] - 0s 1ms/step - loss: 0.4166 - accuracy: 0.8171\n",
      "Epoch 127/600\n",
      "26/26 [==============================] - 0s 1ms/step - loss: 0.4192 - accuracy: 0.8232\n",
      "Epoch 128/600\n",
      "26/26 [==============================] - 0s 1ms/step - loss: 0.4171 - accuracy: 0.8220\n",
      "Epoch 129/600\n",
      "26/26 [==============================] - 0s 1ms/step - loss: 0.4168 - accuracy: 0.8220\n",
      "Epoch 130/600\n",
      "26/26 [==============================] - 0s 999us/step - loss: 0.4162 - accuracy: 0.8207\n",
      "Epoch 131/600\n",
      "26/26 [==============================] - 0s 960us/step - loss: 0.4169 - accuracy: 0.8232\n",
      "Epoch 132/600\n",
      "26/26 [==============================] - 0s 1ms/step - loss: 0.4166 - accuracy: 0.8195\n",
      "Epoch 133/600\n",
      "26/26 [==============================] - 0s 1ms/step - loss: 0.4154 - accuracy: 0.8220\n",
      "Epoch 134/600\n",
      "26/26 [==============================] - 0s 1ms/step - loss: 0.4171 - accuracy: 0.8244\n",
      "Epoch 135/600\n",
      "26/26 [==============================] - 0s 1ms/step - loss: 0.4152 - accuracy: 0.8195\n",
      "Epoch 136/600\n",
      "26/26 [==============================] - 0s 1ms/step - loss: 0.4163 - accuracy: 0.8244\n",
      "Epoch 137/600\n",
      "26/26 [==============================] - 0s 1ms/step - loss: 0.4159 - accuracy: 0.8207\n",
      "Epoch 138/600\n",
      "26/26 [==============================] - 0s 1ms/step - loss: 0.4153 - accuracy: 0.8171\n",
      "Epoch 139/600\n",
      "26/26 [==============================] - 0s 970us/step - loss: 0.4167 - accuracy: 0.8183\n",
      "Epoch 140/600\n",
      "26/26 [==============================] - 0s 1ms/step - loss: 0.4154 - accuracy: 0.8183\n",
      "Epoch 141/600\n",
      "26/26 [==============================] - 0s 1ms/step - loss: 0.4164 - accuracy: 0.8232\n",
      "Epoch 142/600\n",
      "26/26 [==============================] - 0s 1ms/step - loss: 0.4160 - accuracy: 0.8220\n",
      "Epoch 143/600\n",
      "26/26 [==============================] - 0s 1ms/step - loss: 0.4162 - accuracy: 0.8244\n",
      "Epoch 144/600\n",
      "26/26 [==============================] - 0s 1ms/step - loss: 0.4152 - accuracy: 0.8232\n",
      "Epoch 145/600\n",
      "26/26 [==============================] - 0s 1ms/step - loss: 0.4153 - accuracy: 0.8232\n",
      "Epoch 146/600\n",
      "26/26 [==============================] - 0s 1ms/step - loss: 0.4139 - accuracy: 0.8220\n",
      "Epoch 147/600\n",
      "26/26 [==============================] - 0s 1ms/step - loss: 0.4160 - accuracy: 0.8183\n",
      "Epoch 148/600\n",
      "26/26 [==============================] - 0s 1ms/step - loss: 0.4139 - accuracy: 0.8207\n",
      "Epoch 149/600\n",
      "26/26 [==============================] - 0s 1ms/step - loss: 0.4164 - accuracy: 0.8220\n",
      "Epoch 150/600\n",
      "26/26 [==============================] - 0s 1ms/step - loss: 0.4151 - accuracy: 0.8207\n",
      "Epoch 151/600\n",
      "26/26 [==============================] - 0s 1ms/step - loss: 0.4135 - accuracy: 0.8207\n",
      "Epoch 152/600\n",
      "26/26 [==============================] - 0s 2ms/step - loss: 0.4143 - accuracy: 0.8171\n",
      "Epoch 153/600\n",
      "26/26 [==============================] - 0s 990us/step - loss: 0.4139 - accuracy: 0.8183\n",
      "Epoch 154/600\n",
      "26/26 [==============================] - 0s 1ms/step - loss: 0.4142 - accuracy: 0.8207\n",
      "Epoch 155/600\n",
      "26/26 [==============================] - 0s 1ms/step - loss: 0.4139 - accuracy: 0.8220\n",
      "Epoch 156/600\n",
      "26/26 [==============================] - 0s 1ms/step - loss: 0.4153 - accuracy: 0.8183\n",
      "Epoch 157/600\n",
      "26/26 [==============================] - 0s 1ms/step - loss: 0.4145 - accuracy: 0.8244\n",
      "Epoch 158/600\n",
      "26/26 [==============================] - 0s 1ms/step - loss: 0.4134 - accuracy: 0.8171\n",
      "Epoch 159/600\n",
      "26/26 [==============================] - 0s 1ms/step - loss: 0.4131 - accuracy: 0.8220\n",
      "Epoch 160/600\n",
      "26/26 [==============================] - 0s 1ms/step - loss: 0.4129 - accuracy: 0.8195\n",
      "Epoch 161/600\n",
      "26/26 [==============================] - 0s 1000us/step - loss: 0.4138 - accuracy: 0.8195\n",
      "Epoch 162/600\n",
      "26/26 [==============================] - 0s 1ms/step - loss: 0.4143 - accuracy: 0.8256\n",
      "Epoch 163/600\n",
      "26/26 [==============================] - 0s 1ms/step - loss: 0.4134 - accuracy: 0.8220\n",
      "Epoch 164/600\n"
     ]
    },
    {
     "name": "stdout",
     "output_type": "stream",
     "text": [
      "26/26 [==============================] - 0s 1ms/step - loss: 0.4133 - accuracy: 0.8171\n",
      "Epoch 165/600\n",
      "26/26 [==============================] - 0s 1ms/step - loss: 0.4124 - accuracy: 0.8195\n",
      "Epoch 166/600\n",
      "26/26 [==============================] - 0s 977us/step - loss: 0.4125 - accuracy: 0.8232\n",
      "Epoch 167/600\n",
      "26/26 [==============================] - 0s 999us/step - loss: 0.4119 - accuracy: 0.8220\n",
      "Epoch 168/600\n",
      "26/26 [==============================] - 0s 1ms/step - loss: 0.4120 - accuracy: 0.8220\n",
      "Epoch 169/600\n",
      "26/26 [==============================] - 0s 979us/step - loss: 0.4132 - accuracy: 0.8207\n",
      "Epoch 170/600\n",
      "26/26 [==============================] - 0s 991us/step - loss: 0.4117 - accuracy: 0.8207\n",
      "Epoch 171/600\n",
      "26/26 [==============================] - 0s 1ms/step - loss: 0.4115 - accuracy: 0.8220\n",
      "Epoch 172/600\n",
      "26/26 [==============================] - 0s 1ms/step - loss: 0.4140 - accuracy: 0.8183\n",
      "Epoch 173/600\n",
      "26/26 [==============================] - 0s 1ms/step - loss: 0.4134 - accuracy: 0.8183\n",
      "Epoch 174/600\n",
      "26/26 [==============================] - 0s 1ms/step - loss: 0.4113 - accuracy: 0.8280\n",
      "Epoch 175/600\n",
      "26/26 [==============================] - 0s 1ms/step - loss: 0.4125 - accuracy: 0.8220\n",
      "Epoch 176/600\n",
      "26/26 [==============================] - 0s 1ms/step - loss: 0.4118 - accuracy: 0.8207\n",
      "Epoch 177/600\n",
      "26/26 [==============================] - 0s 1ms/step - loss: 0.4106 - accuracy: 0.8244\n",
      "Epoch 178/600\n",
      "26/26 [==============================] - 0s 1ms/step - loss: 0.4112 - accuracy: 0.8232\n",
      "Epoch 179/600\n",
      "26/26 [==============================] - 0s 1ms/step - loss: 0.4112 - accuracy: 0.8207\n",
      "Epoch 180/600\n",
      "26/26 [==============================] - 0s 1ms/step - loss: 0.4118 - accuracy: 0.8244\n",
      "Epoch 181/600\n",
      "26/26 [==============================] - 0s 986us/step - loss: 0.4112 - accuracy: 0.8256\n",
      "Epoch 182/600\n",
      "26/26 [==============================] - 0s 1ms/step - loss: 0.4106 - accuracy: 0.8195\n",
      "Epoch 183/600\n",
      "26/26 [==============================] - 0s 1ms/step - loss: 0.4116 - accuracy: 0.8207\n",
      "Epoch 184/600\n",
      "26/26 [==============================] - 0s 1ms/step - loss: 0.4110 - accuracy: 0.8195\n",
      "Epoch 185/600\n",
      "26/26 [==============================] - 0s 977us/step - loss: 0.4101 - accuracy: 0.8207\n",
      "Epoch 186/600\n",
      "26/26 [==============================] - 0s 1ms/step - loss: 0.4111 - accuracy: 0.8183\n",
      "Epoch 187/600\n",
      "26/26 [==============================] - 0s 1ms/step - loss: 0.4100 - accuracy: 0.8232\n",
      "Epoch 188/600\n",
      "26/26 [==============================] - 0s 1ms/step - loss: 0.4093 - accuracy: 0.8244\n",
      "Epoch 189/600\n",
      "26/26 [==============================] - 0s 962us/step - loss: 0.4117 - accuracy: 0.8207\n",
      "Epoch 190/600\n",
      "26/26 [==============================] - 0s 1ms/step - loss: 0.4107 - accuracy: 0.8232\n",
      "Epoch 191/600\n",
      "26/26 [==============================] - 0s 1ms/step - loss: 0.4110 - accuracy: 0.8232\n",
      "Epoch 192/600\n",
      "26/26 [==============================] - 0s 1ms/step - loss: 0.4116 - accuracy: 0.8256\n",
      "Epoch 193/600\n",
      "26/26 [==============================] - 0s 1ms/step - loss: 0.4140 - accuracy: 0.8183\n",
      "Epoch 194/600\n",
      "26/26 [==============================] - 0s 1ms/step - loss: 0.4111 - accuracy: 0.8232\n",
      "Epoch 195/600\n",
      "26/26 [==============================] - 0s 1ms/step - loss: 0.4113 - accuracy: 0.8207\n",
      "Epoch 196/600\n",
      "26/26 [==============================] - 0s 1ms/step - loss: 0.4097 - accuracy: 0.8220\n",
      "Epoch 197/600\n",
      "26/26 [==============================] - 0s 960us/step - loss: 0.4087 - accuracy: 0.8195\n",
      "Epoch 198/600\n",
      "26/26 [==============================] - 0s 1ms/step - loss: 0.4091 - accuracy: 0.8220\n",
      "Epoch 199/600\n",
      "26/26 [==============================] - 0s 1ms/step - loss: 0.4105 - accuracy: 0.8268\n",
      "Epoch 200/600\n",
      "26/26 [==============================] - 0s 1ms/step - loss: 0.4092 - accuracy: 0.8171\n",
      "Epoch 201/600\n",
      "26/26 [==============================] - 0s 1ms/step - loss: 0.4087 - accuracy: 0.8244\n",
      "Epoch 202/600\n",
      "26/26 [==============================] - 0s 1ms/step - loss: 0.4088 - accuracy: 0.8220\n",
      "Epoch 203/600\n",
      "26/26 [==============================] - 0s 1ms/step - loss: 0.4088 - accuracy: 0.8220\n",
      "Epoch 204/600\n",
      "26/26 [==============================] - 0s 1ms/step - loss: 0.4081 - accuracy: 0.8244\n",
      "Epoch 205/600\n",
      "26/26 [==============================] - 0s 1ms/step - loss: 0.4090 - accuracy: 0.8207\n",
      "Epoch 206/600\n",
      "26/26 [==============================] - 0s 979us/step - loss: 0.4083 - accuracy: 0.8207\n",
      "Epoch 207/600\n",
      "26/26 [==============================] - 0s 1ms/step - loss: 0.4076 - accuracy: 0.8256\n",
      "Epoch 208/600\n",
      "26/26 [==============================] - 0s 1ms/step - loss: 0.4090 - accuracy: 0.8195\n",
      "Epoch 209/600\n",
      "26/26 [==============================] - 0s 1ms/step - loss: 0.4074 - accuracy: 0.8244\n",
      "Epoch 210/600\n",
      "26/26 [==============================] - 0s 1ms/step - loss: 0.4082 - accuracy: 0.8146\n",
      "Epoch 211/600\n",
      "26/26 [==============================] - 0s 1ms/step - loss: 0.4105 - accuracy: 0.8195\n",
      "Epoch 212/600\n",
      "26/26 [==============================] - 0s 1ms/step - loss: 0.4081 - accuracy: 0.8195\n",
      "Epoch 213/600\n",
      "26/26 [==============================] - 0s 1ms/step - loss: 0.4082 - accuracy: 0.8195\n",
      "Epoch 214/600\n",
      "26/26 [==============================] - 0s 1ms/step - loss: 0.4072 - accuracy: 0.8232\n",
      "Epoch 215/600\n",
      "26/26 [==============================] - 0s 1ms/step - loss: 0.4078 - accuracy: 0.8183\n",
      "Epoch 216/600\n",
      "26/26 [==============================] - 0s 1ms/step - loss: 0.4076 - accuracy: 0.8171\n",
      "Epoch 217/600\n",
      "26/26 [==============================] - 0s 1ms/step - loss: 0.4071 - accuracy: 0.8220\n",
      "Epoch 218/600\n",
      "26/26 [==============================] - 0s 1ms/step - loss: 0.4086 - accuracy: 0.8183\n",
      "Epoch 219/600\n",
      "26/26 [==============================] - 0s 1ms/step - loss: 0.4080 - accuracy: 0.8244\n",
      "Epoch 220/600\n",
      "26/26 [==============================] - 0s 1ms/step - loss: 0.4081 - accuracy: 0.8244\n",
      "Epoch 221/600\n",
      "26/26 [==============================] - 0s 996us/step - loss: 0.4061 - accuracy: 0.8280\n",
      "Epoch 222/600\n",
      "26/26 [==============================] - 0s 1ms/step - loss: 0.4072 - accuracy: 0.8256\n",
      "Epoch 223/600\n",
      "26/26 [==============================] - 0s 1ms/step - loss: 0.4066 - accuracy: 0.8232\n",
      "Epoch 224/600\n",
      "26/26 [==============================] - 0s 1ms/step - loss: 0.4078 - accuracy: 0.8256\n",
      "Epoch 225/600\n",
      "26/26 [==============================] - 0s 1ms/step - loss: 0.4067 - accuracy: 0.8232\n",
      "Epoch 226/600\n",
      "26/26 [==============================] - 0s 998us/step - loss: 0.4062 - accuracy: 0.8232\n",
      "Epoch 227/600\n",
      "26/26 [==============================] - 0s 1ms/step - loss: 0.4063 - accuracy: 0.8256\n",
      "Epoch 228/600\n",
      "26/26 [==============================] - 0s 1ms/step - loss: 0.4065 - accuracy: 0.8256\n",
      "Epoch 229/600\n",
      "26/26 [==============================] - 0s 1ms/step - loss: 0.4058 - accuracy: 0.8207\n",
      "Epoch 230/600\n",
      "26/26 [==============================] - 0s 1ms/step - loss: 0.4070 - accuracy: 0.8207\n",
      "Epoch 231/600\n",
      "26/26 [==============================] - 0s 1ms/step - loss: 0.4087 - accuracy: 0.8146\n",
      "Epoch 232/600\n",
      "26/26 [==============================] - 0s 1ms/step - loss: 0.4058 - accuracy: 0.8195\n",
      "Epoch 233/600\n",
      "26/26 [==============================] - 0s 1ms/step - loss: 0.4076 - accuracy: 0.8207\n",
      "Epoch 234/600\n",
      "26/26 [==============================] - 0s 1ms/step - loss: 0.4055 - accuracy: 0.8220\n",
      "Epoch 235/600\n",
      "26/26 [==============================] - 0s 959us/step - loss: 0.4051 - accuracy: 0.8207\n",
      "Epoch 236/600\n",
      "26/26 [==============================] - 0s 1ms/step - loss: 0.4059 - accuracy: 0.8207\n",
      "Epoch 237/600\n",
      "26/26 [==============================] - 0s 1ms/step - loss: 0.4043 - accuracy: 0.8232\n",
      "Epoch 238/600\n",
      "26/26 [==============================] - 0s 960us/step - loss: 0.4052 - accuracy: 0.8232\n",
      "Epoch 239/600\n",
      "26/26 [==============================] - 0s 1ms/step - loss: 0.4064 - accuracy: 0.8183\n",
      "Epoch 240/600\n",
      "26/26 [==============================] - 0s 1ms/step - loss: 0.4049 - accuracy: 0.8244\n",
      "Epoch 241/600\n",
      "26/26 [==============================] - 0s 1ms/step - loss: 0.4040 - accuracy: 0.8244\n",
      "Epoch 242/600\n",
      "26/26 [==============================] - 0s 976us/step - loss: 0.4037 - accuracy: 0.8195\n",
      "Epoch 243/600\n",
      "26/26 [==============================] - 0s 1ms/step - loss: 0.4039 - accuracy: 0.8220\n",
      "Epoch 244/600\n",
      "26/26 [==============================] - 0s 1ms/step - loss: 0.4055 - accuracy: 0.8195\n"
     ]
    },
    {
     "name": "stdout",
     "output_type": "stream",
     "text": [
      "Epoch 245/600\n",
      "26/26 [==============================] - 0s 1ms/step - loss: 0.4039 - accuracy: 0.8232\n",
      "Epoch 246/600\n",
      "26/26 [==============================] - 0s 1ms/step - loss: 0.4047 - accuracy: 0.8244\n",
      "Epoch 247/600\n",
      "26/26 [==============================] - 0s 1ms/step - loss: 0.4037 - accuracy: 0.8256\n",
      "Epoch 248/600\n",
      "26/26 [==============================] - 0s 1ms/step - loss: 0.4033 - accuracy: 0.8207\n",
      "Epoch 249/600\n",
      "26/26 [==============================] - 0s 1ms/step - loss: 0.4045 - accuracy: 0.8244\n",
      "Epoch 250/600\n",
      "26/26 [==============================] - 0s 1ms/step - loss: 0.4045 - accuracy: 0.8220\n",
      "Epoch 251/600\n",
      "26/26 [==============================] - 0s 960us/step - loss: 0.4041 - accuracy: 0.8207\n",
      "Epoch 252/600\n",
      "26/26 [==============================] - 0s 1ms/step - loss: 0.4032 - accuracy: 0.8220\n",
      "Epoch 253/600\n",
      "26/26 [==============================] - 0s 961us/step - loss: 0.4036 - accuracy: 0.8268\n",
      "Epoch 254/600\n",
      "26/26 [==============================] - 0s 1ms/step - loss: 0.4039 - accuracy: 0.8195\n",
      "Epoch 255/600\n",
      "26/26 [==============================] - 0s 1ms/step - loss: 0.4029 - accuracy: 0.8232\n",
      "Epoch 256/600\n",
      "26/26 [==============================] - 0s 1ms/step - loss: 0.4026 - accuracy: 0.8207\n",
      "Epoch 257/600\n",
      "26/26 [==============================] - 0s 1ms/step - loss: 0.4046 - accuracy: 0.8268\n",
      "Epoch 258/600\n",
      "26/26 [==============================] - 0s 959us/step - loss: 0.4036 - accuracy: 0.8244\n",
      "Epoch 259/600\n",
      "26/26 [==============================] - 0s 1ms/step - loss: 0.4039 - accuracy: 0.8207\n",
      "Epoch 260/600\n",
      "26/26 [==============================] - 0s 1ms/step - loss: 0.4028 - accuracy: 0.8232\n",
      "Epoch 261/600\n",
      "26/26 [==============================] - 0s 1ms/step - loss: 0.4019 - accuracy: 0.8256\n",
      "Epoch 262/600\n",
      "26/26 [==============================] - 0s 964us/step - loss: 0.4042 - accuracy: 0.8146\n",
      "Epoch 263/600\n",
      "26/26 [==============================] - 0s 1ms/step - loss: 0.4030 - accuracy: 0.8244\n",
      "Epoch 264/600\n",
      "26/26 [==============================] - 0s 1ms/step - loss: 0.4042 - accuracy: 0.8195\n",
      "Epoch 265/600\n",
      "26/26 [==============================] - 0s 1ms/step - loss: 0.4022 - accuracy: 0.8244\n",
      "Epoch 266/600\n",
      "26/26 [==============================] - 0s 1ms/step - loss: 0.4016 - accuracy: 0.8232\n",
      "Epoch 267/600\n",
      "26/26 [==============================] - 0s 1ms/step - loss: 0.4022 - accuracy: 0.8207\n",
      "Epoch 268/600\n",
      "26/26 [==============================] - 0s 999us/step - loss: 0.4022 - accuracy: 0.8232\n",
      "Epoch 269/600\n",
      "26/26 [==============================] - 0s 1ms/step - loss: 0.4021 - accuracy: 0.8220\n",
      "Epoch 270/600\n",
      "26/26 [==============================] - 0s 995us/step - loss: 0.4007 - accuracy: 0.8195\n",
      "Epoch 271/600\n",
      "26/26 [==============================] - 0s 1ms/step - loss: 0.4009 - accuracy: 0.8244\n",
      "Epoch 272/600\n",
      "26/26 [==============================] - 0s 1ms/step - loss: 0.4021 - accuracy: 0.8232\n",
      "Epoch 273/600\n",
      "26/26 [==============================] - 0s 1ms/step - loss: 0.4011 - accuracy: 0.8220\n",
      "Epoch 274/600\n",
      "26/26 [==============================] - 0s 986us/step - loss: 0.4008 - accuracy: 0.8195\n",
      "Epoch 275/600\n",
      "26/26 [==============================] - 0s 1ms/step - loss: 0.4006 - accuracy: 0.8232\n",
      "Epoch 276/600\n",
      "26/26 [==============================] - 0s 1ms/step - loss: 0.4006 - accuracy: 0.8220\n",
      "Epoch 277/600\n",
      "26/26 [==============================] - 0s 1ms/step - loss: 0.4007 - accuracy: 0.8232\n",
      "Epoch 278/600\n",
      "26/26 [==============================] - 0s 1ms/step - loss: 0.4003 - accuracy: 0.8220\n",
      "Epoch 279/600\n",
      "26/26 [==============================] - 0s 1ms/step - loss: 0.4007 - accuracy: 0.8220\n",
      "Epoch 280/600\n",
      "26/26 [==============================] - 0s 1ms/step - loss: 0.4029 - accuracy: 0.8232\n",
      "Epoch 281/600\n",
      "26/26 [==============================] - 0s 1ms/step - loss: 0.4011 - accuracy: 0.8207\n",
      "Epoch 282/600\n",
      "26/26 [==============================] - 0s 979us/step - loss: 0.4001 - accuracy: 0.8244\n",
      "Epoch 283/600\n",
      "26/26 [==============================] - 0s 1ms/step - loss: 0.3999 - accuracy: 0.8171\n",
      "Epoch 284/600\n",
      "26/26 [==============================] - 0s 1ms/step - loss: 0.4011 - accuracy: 0.8220\n",
      "Epoch 285/600\n",
      "26/26 [==============================] - 0s 1ms/step - loss: 0.3995 - accuracy: 0.8256\n",
      "Epoch 286/600\n",
      "26/26 [==============================] - 0s 1ms/step - loss: 0.3997 - accuracy: 0.8220\n",
      "Epoch 287/600\n",
      "26/26 [==============================] - 0s 1ms/step - loss: 0.4005 - accuracy: 0.8183\n",
      "Epoch 288/600\n",
      "26/26 [==============================] - 0s 1ms/step - loss: 0.3995 - accuracy: 0.8183\n",
      "Epoch 289/600\n",
      "26/26 [==============================] - 0s 992us/step - loss: 0.3993 - accuracy: 0.8232\n",
      "Epoch 290/600\n",
      "26/26 [==============================] - 0s 1ms/step - loss: 0.3985 - accuracy: 0.8244\n",
      "Epoch 291/600\n",
      "26/26 [==============================] - 0s 1ms/step - loss: 0.4008 - accuracy: 0.8244\n",
      "Epoch 292/600\n",
      "26/26 [==============================] - 0s 1ms/step - loss: 0.3987 - accuracy: 0.8244\n",
      "Epoch 293/600\n",
      "26/26 [==============================] - 0s 1ms/step - loss: 0.3985 - accuracy: 0.8244\n",
      "Epoch 294/600\n",
      "26/26 [==============================] - 0s 1ms/step - loss: 0.3992 - accuracy: 0.8159\n",
      "Epoch 295/600\n",
      "26/26 [==============================] - 0s 1ms/step - loss: 0.3987 - accuracy: 0.8207\n",
      "Epoch 296/600\n",
      "26/26 [==============================] - 0s 1ms/step - loss: 0.3995 - accuracy: 0.8207\n",
      "Epoch 297/600\n",
      "26/26 [==============================] - 0s 1ms/step - loss: 0.3985 - accuracy: 0.8207\n",
      "Epoch 298/600\n",
      "26/26 [==============================] - 0s 1ms/step - loss: 0.3989 - accuracy: 0.8232\n",
      "Epoch 299/600\n",
      "26/26 [==============================] - 0s 978us/step - loss: 0.3975 - accuracy: 0.8244\n",
      "Epoch 300/600\n",
      "26/26 [==============================] - 0s 1ms/step - loss: 0.3972 - accuracy: 0.8244\n",
      "Epoch 301/600\n",
      "26/26 [==============================] - 0s 1ms/step - loss: 0.3991 - accuracy: 0.8207\n",
      "Epoch 302/600\n",
      "26/26 [==============================] - 0s 1ms/step - loss: 0.3987 - accuracy: 0.8268\n",
      "Epoch 303/600\n",
      "26/26 [==============================] - 0s 1ms/step - loss: 0.3994 - accuracy: 0.8195\n",
      "Epoch 304/600\n",
      "26/26 [==============================] - 0s 1ms/step - loss: 0.3973 - accuracy: 0.8220\n",
      "Epoch 305/600\n",
      "26/26 [==============================] - 0s 1ms/step - loss: 0.3965 - accuracy: 0.8171\n",
      "Epoch 306/600\n",
      "26/26 [==============================] - 0s 1ms/step - loss: 0.3973 - accuracy: 0.8146\n",
      "Epoch 307/600\n",
      "26/26 [==============================] - 0s 1ms/step - loss: 0.3983 - accuracy: 0.8207\n",
      "Epoch 308/600\n",
      "26/26 [==============================] - 0s 1ms/step - loss: 0.3969 - accuracy: 0.8207\n",
      "Epoch 309/600\n",
      "26/26 [==============================] - 0s 1000us/step - loss: 0.3975 - accuracy: 0.8256\n",
      "Epoch 310/600\n",
      "26/26 [==============================] - 0s 1ms/step - loss: 0.3984 - accuracy: 0.8171\n",
      "Epoch 311/600\n",
      "26/26 [==============================] - 0s 985us/step - loss: 0.3969 - accuracy: 0.8220\n",
      "Epoch 312/600\n",
      "26/26 [==============================] - 0s 1ms/step - loss: 0.3967 - accuracy: 0.8268\n",
      "Epoch 313/600\n",
      "26/26 [==============================] - 0s 1ms/step - loss: 0.3960 - accuracy: 0.8195\n",
      "Epoch 314/600\n",
      "26/26 [==============================] - 0s 1ms/step - loss: 0.3951 - accuracy: 0.8244\n",
      "Epoch 315/600\n",
      "26/26 [==============================] - 0s 1ms/step - loss: 0.3957 - accuracy: 0.8256\n",
      "Epoch 316/600\n",
      "26/26 [==============================] - 0s 1ms/step - loss: 0.3954 - accuracy: 0.8183\n",
      "Epoch 317/600\n",
      "26/26 [==============================] - 0s 1ms/step - loss: 0.3959 - accuracy: 0.8244\n",
      "Epoch 318/600\n",
      "26/26 [==============================] - 0s 1ms/step - loss: 0.3962 - accuracy: 0.8171\n",
      "Epoch 319/600\n",
      "26/26 [==============================] - 0s 1ms/step - loss: 0.3965 - accuracy: 0.8195\n",
      "Epoch 320/600\n",
      "26/26 [==============================] - 0s 974us/step - loss: 0.3965 - accuracy: 0.8232\n",
      "Epoch 321/600\n",
      "26/26 [==============================] - 0s 1ms/step - loss: 0.3953 - accuracy: 0.8232\n",
      "Epoch 322/600\n",
      "26/26 [==============================] - 0s 1ms/step - loss: 0.3949 - accuracy: 0.8220\n",
      "Epoch 323/600\n",
      "26/26 [==============================] - 0s 1ms/step - loss: 0.3948 - accuracy: 0.8171\n",
      "Epoch 324/600\n",
      "26/26 [==============================] - 0s 1ms/step - loss: 0.3957 - accuracy: 0.8256\n",
      "Epoch 325/600\n"
     ]
    },
    {
     "name": "stdout",
     "output_type": "stream",
     "text": [
      "26/26 [==============================] - 0s 1ms/step - loss: 0.3978 - accuracy: 0.8244\n",
      "Epoch 326/600\n",
      "26/26 [==============================] - 0s 1ms/step - loss: 0.3960 - accuracy: 0.8220\n",
      "Epoch 327/600\n",
      "26/26 [==============================] - 0s 1ms/step - loss: 0.3945 - accuracy: 0.8195\n",
      "Epoch 328/600\n",
      "26/26 [==============================] - 0s 993us/step - loss: 0.3967 - accuracy: 0.8244\n",
      "Epoch 329/600\n",
      "26/26 [==============================] - 0s 1ms/step - loss: 0.3935 - accuracy: 0.8232\n",
      "Epoch 330/600\n",
      "26/26 [==============================] - 0s 1ms/step - loss: 0.3956 - accuracy: 0.8220\n",
      "Epoch 331/600\n",
      "26/26 [==============================] - 0s 1ms/step - loss: 0.3937 - accuracy: 0.8244\n",
      "Epoch 332/600\n",
      "26/26 [==============================] - 0s 1ms/step - loss: 0.3936 - accuracy: 0.8220\n",
      "Epoch 333/600\n",
      "26/26 [==============================] - 0s 1ms/step - loss: 0.3942 - accuracy: 0.8280\n",
      "Epoch 334/600\n",
      "26/26 [==============================] - 0s 1ms/step - loss: 0.3937 - accuracy: 0.8183\n",
      "Epoch 335/600\n",
      "26/26 [==============================] - 0s 987us/step - loss: 0.3932 - accuracy: 0.8183\n",
      "Epoch 336/600\n",
      "26/26 [==============================] - 0s 1ms/step - loss: 0.3935 - accuracy: 0.8244\n",
      "Epoch 337/600\n",
      "26/26 [==============================] - 0s 1ms/step - loss: 0.3933 - accuracy: 0.8183\n",
      "Epoch 338/600\n",
      "26/26 [==============================] - 0s 1ms/step - loss: 0.3932 - accuracy: 0.8232\n",
      "Epoch 339/600\n",
      "26/26 [==============================] - 0s 1ms/step - loss: 0.3939 - accuracy: 0.8195\n",
      "Epoch 340/600\n",
      "26/26 [==============================] - 0s 974us/step - loss: 0.3927 - accuracy: 0.8244\n",
      "Epoch 341/600\n",
      "26/26 [==============================] - 0s 984us/step - loss: 0.3928 - accuracy: 0.8195\n",
      "Epoch 342/600\n",
      "26/26 [==============================] - 0s 1ms/step - loss: 0.3941 - accuracy: 0.8244\n",
      "Epoch 343/600\n",
      "26/26 [==============================] - 0s 1ms/step - loss: 0.3937 - accuracy: 0.8256\n",
      "Epoch 344/600\n",
      "26/26 [==============================] - 0s 1ms/step - loss: 0.3951 - accuracy: 0.8220\n",
      "Epoch 345/600\n",
      "26/26 [==============================] - 0s 1ms/step - loss: 0.3911 - accuracy: 0.8280\n",
      "Epoch 346/600\n",
      "26/26 [==============================] - 0s 1ms/step - loss: 0.3943 - accuracy: 0.8232\n",
      "Epoch 347/600\n",
      "26/26 [==============================] - 0s 1ms/step - loss: 0.3916 - accuracy: 0.8171\n",
      "Epoch 348/600\n",
      "26/26 [==============================] - 0s 1ms/step - loss: 0.3932 - accuracy: 0.8256\n",
      "Epoch 349/600\n",
      "26/26 [==============================] - 0s 1ms/step - loss: 0.3922 - accuracy: 0.8159\n",
      "Epoch 350/600\n",
      "26/26 [==============================] - 0s 1ms/step - loss: 0.3921 - accuracy: 0.8195\n",
      "Epoch 351/600\n",
      "26/26 [==============================] - 0s 1ms/step - loss: 0.3949 - accuracy: 0.8207\n",
      "Epoch 352/600\n",
      "26/26 [==============================] - 0s 1ms/step - loss: 0.3919 - accuracy: 0.8171\n",
      "Epoch 353/600\n",
      "26/26 [==============================] - 0s 1ms/step - loss: 0.3907 - accuracy: 0.8220\n",
      "Epoch 354/600\n",
      "26/26 [==============================] - 0s 1ms/step - loss: 0.3918 - accuracy: 0.8232\n",
      "Epoch 355/600\n",
      "26/26 [==============================] - 0s 1ms/step - loss: 0.3927 - accuracy: 0.8159\n",
      "Epoch 356/600\n",
      "26/26 [==============================] - 0s 1ms/step - loss: 0.3923 - accuracy: 0.8268\n",
      "Epoch 357/600\n",
      "26/26 [==============================] - 0s 2ms/step - loss: 0.3918 - accuracy: 0.8146\n",
      "Epoch 358/600\n",
      "26/26 [==============================] - 0s 1ms/step - loss: 0.3911 - accuracy: 0.8220\n",
      "Epoch 359/600\n",
      "26/26 [==============================] - 0s 1ms/step - loss: 0.3909 - accuracy: 0.8195\n",
      "Epoch 360/600\n",
      "26/26 [==============================] - 0s 1ms/step - loss: 0.3922 - accuracy: 0.8195\n",
      "Epoch 361/600\n",
      "26/26 [==============================] - 0s 1ms/step - loss: 0.3898 - accuracy: 0.8207\n",
      "Epoch 362/600\n",
      "26/26 [==============================] - 0s 1ms/step - loss: 0.3910 - accuracy: 0.8195\n",
      "Epoch 363/600\n",
      "26/26 [==============================] - 0s 1ms/step - loss: 0.3897 - accuracy: 0.8207\n",
      "Epoch 364/600\n",
      "26/26 [==============================] - 0s 1ms/step - loss: 0.3910 - accuracy: 0.8183\n",
      "Epoch 365/600\n",
      "26/26 [==============================] - 0s 1ms/step - loss: 0.3890 - accuracy: 0.8256\n",
      "Epoch 366/600\n",
      "26/26 [==============================] - 0s 1ms/step - loss: 0.3891 - accuracy: 0.8207\n",
      "Epoch 367/600\n",
      "26/26 [==============================] - 0s 1ms/step - loss: 0.3892 - accuracy: 0.8195\n",
      "Epoch 368/600\n",
      "26/26 [==============================] - 0s 999us/step - loss: 0.3904 - accuracy: 0.8146\n",
      "Epoch 369/600\n",
      "26/26 [==============================] - 0s 1ms/step - loss: 0.3892 - accuracy: 0.8244\n",
      "Epoch 370/600\n",
      "26/26 [==============================] - 0s 952us/step - loss: 0.3896 - accuracy: 0.8293\n",
      "Epoch 371/600\n",
      "26/26 [==============================] - 0s 1ms/step - loss: 0.3892 - accuracy: 0.8146\n",
      "Epoch 372/600\n",
      "26/26 [==============================] - 0s 1ms/step - loss: 0.3880 - accuracy: 0.8195\n",
      "Epoch 373/600\n",
      "26/26 [==============================] - 0s 1ms/step - loss: 0.3889 - accuracy: 0.8183\n",
      "Epoch 374/600\n",
      "26/26 [==============================] - 0s 1ms/step - loss: 0.3878 - accuracy: 0.8256\n",
      "Epoch 375/600\n",
      "26/26 [==============================] - 0s 1ms/step - loss: 0.3896 - accuracy: 0.8195\n",
      "Epoch 376/600\n",
      "26/26 [==============================] - 0s 1ms/step - loss: 0.3896 - accuracy: 0.8268\n",
      "Epoch 377/600\n",
      "26/26 [==============================] - 0s 1ms/step - loss: 0.3879 - accuracy: 0.8220\n",
      "Epoch 378/600\n",
      "26/26 [==============================] - 0s 977us/step - loss: 0.3879 - accuracy: 0.8183\n",
      "Epoch 379/600\n",
      "26/26 [==============================] - 0s 1ms/step - loss: 0.3886 - accuracy: 0.8220\n",
      "Epoch 380/600\n",
      "26/26 [==============================] - 0s 1ms/step - loss: 0.3875 - accuracy: 0.8220\n",
      "Epoch 381/600\n",
      "26/26 [==============================] - 0s 1ms/step - loss: 0.3920 - accuracy: 0.8171\n",
      "Epoch 382/600\n",
      "26/26 [==============================] - 0s 1ms/step - loss: 0.3883 - accuracy: 0.8232\n",
      "Epoch 383/600\n",
      "26/26 [==============================] - 0s 973us/step - loss: 0.3875 - accuracy: 0.8220\n",
      "Epoch 384/600\n",
      "26/26 [==============================] - 0s 1ms/step - loss: 0.3872 - accuracy: 0.8195\n",
      "Epoch 385/600\n",
      "26/26 [==============================] - 0s 1ms/step - loss: 0.3886 - accuracy: 0.8195\n",
      "Epoch 386/600\n",
      "26/26 [==============================] - 0s 1ms/step - loss: 0.3899 - accuracy: 0.8183\n",
      "Epoch 387/600\n",
      "26/26 [==============================] - 0s 1ms/step - loss: 0.3873 - accuracy: 0.8256\n",
      "Epoch 388/600\n",
      "26/26 [==============================] - 0s 1ms/step - loss: 0.3877 - accuracy: 0.8195\n",
      "Epoch 389/600\n",
      "26/26 [==============================] - 0s 1ms/step - loss: 0.3870 - accuracy: 0.8207\n",
      "Epoch 390/600\n",
      "26/26 [==============================] - 0s 1ms/step - loss: 0.3867 - accuracy: 0.8244\n",
      "Epoch 391/600\n",
      "26/26 [==============================] - 0s 964us/step - loss: 0.3863 - accuracy: 0.8256\n",
      "Epoch 392/600\n",
      "26/26 [==============================] - 0s 1ms/step - loss: 0.3863 - accuracy: 0.8195\n",
      "Epoch 393/600\n",
      "26/26 [==============================] - 0s 1ms/step - loss: 0.3870 - accuracy: 0.8171\n",
      "Epoch 394/600\n",
      "26/26 [==============================] - 0s 960us/step - loss: 0.3853 - accuracy: 0.8220\n",
      "Epoch 395/600\n",
      "26/26 [==============================] - 0s 1ms/step - loss: 0.3855 - accuracy: 0.8207\n",
      "Epoch 396/600\n",
      "26/26 [==============================] - 0s 1ms/step - loss: 0.3859 - accuracy: 0.8183\n",
      "Epoch 397/600\n",
      "26/26 [==============================] - 0s 2ms/step - loss: 0.3861 - accuracy: 0.8305\n",
      "Epoch 398/600\n",
      "26/26 [==============================] - 0s 1ms/step - loss: 0.3856 - accuracy: 0.8183\n",
      "Epoch 399/600\n",
      "26/26 [==============================] - 0s 1ms/step - loss: 0.3848 - accuracy: 0.8183\n",
      "Epoch 400/600\n",
      "26/26 [==============================] - 0s 1ms/step - loss: 0.3850 - accuracy: 0.8244\n",
      "Epoch 401/600\n",
      "26/26 [==============================] - 0s 1ms/step - loss: 0.3853 - accuracy: 0.8207\n",
      "Epoch 402/600\n",
      "26/26 [==============================] - 0s 1ms/step - loss: 0.3840 - accuracy: 0.8183\n",
      "Epoch 403/600\n",
      "26/26 [==============================] - 0s 1ms/step - loss: 0.3850 - accuracy: 0.8256\n",
      "Epoch 404/600\n",
      "26/26 [==============================] - 0s 1ms/step - loss: 0.3850 - accuracy: 0.8159\n",
      "Epoch 405/600\n",
      "26/26 [==============================] - 0s 1ms/step - loss: 0.3845 - accuracy: 0.8171\n",
      "Epoch 406/600\n"
     ]
    },
    {
     "name": "stdout",
     "output_type": "stream",
     "text": [
      "26/26 [==============================] - 0s 986us/step - loss: 0.3847 - accuracy: 0.8232\n",
      "Epoch 407/600\n",
      "26/26 [==============================] - 0s 977us/step - loss: 0.3848 - accuracy: 0.8256\n",
      "Epoch 408/600\n",
      "26/26 [==============================] - 0s 1ms/step - loss: 0.3851 - accuracy: 0.8146\n",
      "Epoch 409/600\n",
      "26/26 [==============================] - 0s 980us/step - loss: 0.3842 - accuracy: 0.8195\n",
      "Epoch 410/600\n",
      "26/26 [==============================] - 0s 1ms/step - loss: 0.3846 - accuracy: 0.8244\n",
      "Epoch 411/600\n",
      "26/26 [==============================] - 0s 1ms/step - loss: 0.3835 - accuracy: 0.8207\n",
      "Epoch 412/600\n",
      "26/26 [==============================] - 0s 1ms/step - loss: 0.3843 - accuracy: 0.8159\n",
      "Epoch 413/600\n",
      "26/26 [==============================] - 0s 1ms/step - loss: 0.3837 - accuracy: 0.8207\n",
      "Epoch 414/600\n",
      "26/26 [==============================] - 0s 1ms/step - loss: 0.3839 - accuracy: 0.8220\n",
      "Epoch 415/600\n",
      "26/26 [==============================] - 0s 1ms/step - loss: 0.3832 - accuracy: 0.8207\n",
      "Epoch 416/600\n",
      "26/26 [==============================] - 0s 1ms/step - loss: 0.3844 - accuracy: 0.8171\n",
      "Epoch 417/600\n",
      "26/26 [==============================] - 0s 1ms/step - loss: 0.3825 - accuracy: 0.8195\n",
      "Epoch 418/600\n",
      "26/26 [==============================] - 0s 960us/step - loss: 0.3837 - accuracy: 0.8305\n",
      "Epoch 419/600\n",
      "26/26 [==============================] - 0s 975us/step - loss: 0.3839 - accuracy: 0.8220\n",
      "Epoch 420/600\n",
      "26/26 [==============================] - 0s 1ms/step - loss: 0.3824 - accuracy: 0.8207\n",
      "Epoch 421/600\n",
      "26/26 [==============================] - 0s 994us/step - loss: 0.3833 - accuracy: 0.8220\n",
      "Epoch 422/600\n",
      "26/26 [==============================] - 0s 968us/step - loss: 0.3834 - accuracy: 0.8280\n",
      "Epoch 423/600\n",
      "26/26 [==============================] - 0s 1ms/step - loss: 0.3835 - accuracy: 0.8183\n",
      "Epoch 424/600\n",
      "26/26 [==============================] - 0s 965us/step - loss: 0.3855 - accuracy: 0.8305\n",
      "Epoch 425/600\n",
      "26/26 [==============================] - 0s 1ms/step - loss: 0.3850 - accuracy: 0.8159\n",
      "Epoch 426/600\n",
      "26/26 [==============================] - 0s 1ms/step - loss: 0.3826 - accuracy: 0.8159\n",
      "Epoch 427/600\n",
      "26/26 [==============================] - 0s 1ms/step - loss: 0.3830 - accuracy: 0.8293\n",
      "Epoch 428/600\n",
      "26/26 [==============================] - 0s 1ms/step - loss: 0.3833 - accuracy: 0.8171\n",
      "Epoch 429/600\n",
      "26/26 [==============================] - 0s 1ms/step - loss: 0.3824 - accuracy: 0.8244\n",
      "Epoch 430/600\n",
      "26/26 [==============================] - 0s 979us/step - loss: 0.3824 - accuracy: 0.8171\n",
      "Epoch 431/600\n",
      "26/26 [==============================] - 0s 1ms/step - loss: 0.3825 - accuracy: 0.8220\n",
      "Epoch 432/600\n",
      "26/26 [==============================] - 0s 1ms/step - loss: 0.3817 - accuracy: 0.8171\n",
      "Epoch 433/600\n",
      "26/26 [==============================] - 0s 1ms/step - loss: 0.3812 - accuracy: 0.8195\n",
      "Epoch 434/600\n",
      "26/26 [==============================] - 0s 973us/step - loss: 0.3807 - accuracy: 0.8268\n",
      "Epoch 435/600\n",
      "26/26 [==============================] - 0s 1ms/step - loss: 0.3816 - accuracy: 0.8232\n",
      "Epoch 436/600\n",
      "26/26 [==============================] - 0s 1ms/step - loss: 0.3814 - accuracy: 0.8256\n",
      "Epoch 437/600\n",
      "26/26 [==============================] - 0s 1ms/step - loss: 0.3808 - accuracy: 0.8220\n",
      "Epoch 438/600\n",
      "26/26 [==============================] - 0s 978us/step - loss: 0.3812 - accuracy: 0.8207\n",
      "Epoch 439/600\n",
      "26/26 [==============================] - 0s 1ms/step - loss: 0.3801 - accuracy: 0.8244\n",
      "Epoch 440/600\n",
      "26/26 [==============================] - 0s 977us/step - loss: 0.3810 - accuracy: 0.8280\n",
      "Epoch 441/600\n",
      "26/26 [==============================] - 0s 976us/step - loss: 0.3818 - accuracy: 0.8244\n",
      "Epoch 442/600\n",
      "26/26 [==============================] - 0s 978us/step - loss: 0.3807 - accuracy: 0.8268\n",
      "Epoch 443/600\n",
      "26/26 [==============================] - 0s 1ms/step - loss: 0.3804 - accuracy: 0.8268\n",
      "Epoch 444/600\n",
      "26/26 [==============================] - 0s 1ms/step - loss: 0.3797 - accuracy: 0.8280\n",
      "Epoch 445/600\n",
      "26/26 [==============================] - 0s 984us/step - loss: 0.3805 - accuracy: 0.8134\n",
      "Epoch 446/600\n",
      "26/26 [==============================] - 0s 1ms/step - loss: 0.3806 - accuracy: 0.8280\n",
      "Epoch 447/600\n",
      "26/26 [==============================] - 0s 974us/step - loss: 0.3804 - accuracy: 0.8183\n",
      "Epoch 448/600\n",
      "26/26 [==============================] - 0s 1ms/step - loss: 0.3798 - accuracy: 0.8317\n",
      "Epoch 449/600\n",
      "26/26 [==============================] - 0s 1ms/step - loss: 0.3790 - accuracy: 0.8134\n",
      "Epoch 450/600\n",
      "26/26 [==============================] - 0s 1ms/step - loss: 0.3788 - accuracy: 0.8220\n",
      "Epoch 451/600\n",
      "26/26 [==============================] - 0s 1ms/step - loss: 0.3789 - accuracy: 0.8207\n",
      "Epoch 452/600\n",
      "26/26 [==============================] - 0s 1ms/step - loss: 0.3810 - accuracy: 0.8220\n",
      "Epoch 453/600\n",
      "26/26 [==============================] - 0s 937us/step - loss: 0.3797 - accuracy: 0.8256\n",
      "Epoch 454/600\n",
      "26/26 [==============================] - 0s 972us/step - loss: 0.3791 - accuracy: 0.8207\n",
      "Epoch 455/600\n",
      "26/26 [==============================] - 0s 1ms/step - loss: 0.3782 - accuracy: 0.8207\n",
      "Epoch 456/600\n",
      "26/26 [==============================] - 0s 1ms/step - loss: 0.3784 - accuracy: 0.8317\n",
      "Epoch 457/600\n",
      "26/26 [==============================] - 0s 981us/step - loss: 0.3787 - accuracy: 0.8207\n",
      "Epoch 458/600\n",
      "26/26 [==============================] - 0s 1ms/step - loss: 0.3786 - accuracy: 0.8232\n",
      "Epoch 459/600\n",
      "26/26 [==============================] - 0s 1ms/step - loss: 0.3786 - accuracy: 0.8317\n",
      "Epoch 460/600\n",
      "26/26 [==============================] - 0s 1000us/step - loss: 0.3784 - accuracy: 0.8195\n",
      "Epoch 461/600\n",
      "26/26 [==============================] - 0s 1ms/step - loss: 0.3786 - accuracy: 0.8256\n",
      "Epoch 462/600\n",
      "26/26 [==============================] - 0s 1ms/step - loss: 0.3787 - accuracy: 0.8244\n",
      "Epoch 463/600\n",
      "26/26 [==============================] - 0s 1ms/step - loss: 0.3785 - accuracy: 0.8293\n",
      "Epoch 464/600\n",
      "26/26 [==============================] - 0s 1ms/step - loss: 0.3783 - accuracy: 0.8220\n",
      "Epoch 465/600\n",
      "26/26 [==============================] - 0s 1ms/step - loss: 0.3785 - accuracy: 0.8244\n",
      "Epoch 466/600\n",
      "26/26 [==============================] - 0s 975us/step - loss: 0.3785 - accuracy: 0.8183\n",
      "Epoch 467/600\n",
      "26/26 [==============================] - 0s 1ms/step - loss: 0.3776 - accuracy: 0.8305\n",
      "Epoch 468/600\n",
      "26/26 [==============================] - 0s 1ms/step - loss: 0.3780 - accuracy: 0.8232\n",
      "Epoch 469/600\n",
      "26/26 [==============================] - 0s 1ms/step - loss: 0.3774 - accuracy: 0.8232\n",
      "Epoch 470/600\n",
      "26/26 [==============================] - 0s 1ms/step - loss: 0.3768 - accuracy: 0.8244\n",
      "Epoch 471/600\n",
      "26/26 [==============================] - 0s 1ms/step - loss: 0.3763 - accuracy: 0.8293\n",
      "Epoch 472/600\n",
      "26/26 [==============================] - 0s 1ms/step - loss: 0.3759 - accuracy: 0.8293\n",
      "Epoch 473/600\n",
      "26/26 [==============================] - 0s 978us/step - loss: 0.3762 - accuracy: 0.8232\n",
      "Epoch 474/600\n",
      "26/26 [==============================] - 0s 1ms/step - loss: 0.3778 - accuracy: 0.8244\n",
      "Epoch 475/600\n",
      "26/26 [==============================] - 0s 959us/step - loss: 0.3768 - accuracy: 0.8244\n",
      "Epoch 476/600\n",
      "26/26 [==============================] - 0s 1ms/step - loss: 0.3764 - accuracy: 0.8232\n",
      "Epoch 477/600\n",
      "26/26 [==============================] - 0s 1ms/step - loss: 0.3755 - accuracy: 0.8268\n",
      "Epoch 478/600\n",
      "26/26 [==============================] - 0s 1ms/step - loss: 0.3780 - accuracy: 0.8232\n",
      "Epoch 479/600\n",
      "26/26 [==============================] - 0s 1ms/step - loss: 0.3776 - accuracy: 0.8317\n",
      "Epoch 480/600\n",
      "26/26 [==============================] - 0s 997us/step - loss: 0.3760 - accuracy: 0.8195\n",
      "Epoch 481/600\n",
      "26/26 [==============================] - 0s 976us/step - loss: 0.3752 - accuracy: 0.8268\n",
      "Epoch 482/600\n",
      "26/26 [==============================] - 0s 1ms/step - loss: 0.3756 - accuracy: 0.8220\n",
      "Epoch 483/600\n",
      "26/26 [==============================] - 0s 1ms/step - loss: 0.3755 - accuracy: 0.8207\n",
      "Epoch 484/600\n",
      "26/26 [==============================] - 0s 1ms/step - loss: 0.3769 - accuracy: 0.8268\n",
      "Epoch 485/600\n",
      "26/26 [==============================] - 0s 973us/step - loss: 0.3754 - accuracy: 0.8329\n",
      "Epoch 486/600\n"
     ]
    },
    {
     "name": "stdout",
     "output_type": "stream",
     "text": [
      "26/26 [==============================] - 0s 1ms/step - loss: 0.3744 - accuracy: 0.8232\n",
      "Epoch 487/600\n",
      "26/26 [==============================] - 0s 1ms/step - loss: 0.3747 - accuracy: 0.8268\n",
      "Epoch 488/600\n",
      "26/26 [==============================] - 0s 1ms/step - loss: 0.3749 - accuracy: 0.8220\n",
      "Epoch 489/600\n",
      "26/26 [==============================] - 0s 975us/step - loss: 0.3758 - accuracy: 0.8220\n",
      "Epoch 490/600\n",
      "26/26 [==============================] - 0s 1ms/step - loss: 0.3758 - accuracy: 0.8317\n",
      "Epoch 491/600\n",
      "26/26 [==============================] - 0s 1ms/step - loss: 0.3751 - accuracy: 0.8268\n",
      "Epoch 492/600\n",
      "26/26 [==============================] - 0s 979us/step - loss: 0.3747 - accuracy: 0.8256\n",
      "Epoch 493/600\n",
      "26/26 [==============================] - 0s 945us/step - loss: 0.3742 - accuracy: 0.8293\n",
      "Epoch 494/600\n",
      "26/26 [==============================] - 0s 1ms/step - loss: 0.3740 - accuracy: 0.8256\n",
      "Epoch 495/600\n",
      "26/26 [==============================] - 0s 1ms/step - loss: 0.3736 - accuracy: 0.8256\n",
      "Epoch 496/600\n",
      "26/26 [==============================] - 0s 994us/step - loss: 0.3745 - accuracy: 0.8280\n",
      "Epoch 497/600\n",
      "26/26 [==============================] - 0s 1ms/step - loss: 0.3740 - accuracy: 0.8268\n",
      "Epoch 498/600\n",
      "26/26 [==============================] - 0s 1ms/step - loss: 0.3735 - accuracy: 0.8305\n",
      "Epoch 499/600\n",
      "26/26 [==============================] - 0s 999us/step - loss: 0.3729 - accuracy: 0.8305\n",
      "Epoch 500/600\n",
      "26/26 [==============================] - 0s 1ms/step - loss: 0.3734 - accuracy: 0.8244\n",
      "Epoch 501/600\n",
      "26/26 [==============================] - 0s 1ms/step - loss: 0.3724 - accuracy: 0.8256\n",
      "Epoch 502/600\n",
      "26/26 [==============================] - 0s 976us/step - loss: 0.3732 - accuracy: 0.8256\n",
      "Epoch 503/600\n",
      "26/26 [==============================] - 0s 951us/step - loss: 0.3730 - accuracy: 0.8244\n",
      "Epoch 504/600\n",
      "26/26 [==============================] - 0s 1ms/step - loss: 0.3729 - accuracy: 0.8232\n",
      "Epoch 505/600\n",
      "26/26 [==============================] - 0s 1ms/step - loss: 0.3723 - accuracy: 0.8220\n",
      "Epoch 506/600\n",
      "26/26 [==============================] - 0s 998us/step - loss: 0.3726 - accuracy: 0.8220\n",
      "Epoch 507/600\n",
      "26/26 [==============================] - 0s 972us/step - loss: 0.3722 - accuracy: 0.8232\n",
      "Epoch 508/600\n",
      "26/26 [==============================] - 0s 1ms/step - loss: 0.3726 - accuracy: 0.8268\n",
      "Epoch 509/600\n",
      "26/26 [==============================] - 0s 999us/step - loss: 0.3726 - accuracy: 0.8256\n",
      "Epoch 510/600\n",
      "26/26 [==============================] - 0s 983us/step - loss: 0.3728 - accuracy: 0.8256\n",
      "Epoch 511/600\n",
      "26/26 [==============================] - 0s 1ms/step - loss: 0.3736 - accuracy: 0.8244\n",
      "Epoch 512/600\n",
      "26/26 [==============================] - 0s 1ms/step - loss: 0.3760 - accuracy: 0.8305\n",
      "Epoch 513/600\n",
      "26/26 [==============================] - 0s 1ms/step - loss: 0.3736 - accuracy: 0.8232\n",
      "Epoch 514/600\n",
      "26/26 [==============================] - 0s 1ms/step - loss: 0.3724 - accuracy: 0.8293\n",
      "Epoch 515/600\n",
      "26/26 [==============================] - 0s 1ms/step - loss: 0.3719 - accuracy: 0.8317\n",
      "Epoch 516/600\n",
      "26/26 [==============================] - 0s 1ms/step - loss: 0.3732 - accuracy: 0.8256\n",
      "Epoch 517/600\n",
      "26/26 [==============================] - 0s 1ms/step - loss: 0.3718 - accuracy: 0.8280\n",
      "Epoch 518/600\n",
      "26/26 [==============================] - 0s 1ms/step - loss: 0.3713 - accuracy: 0.8220\n",
      "Epoch 519/600\n",
      "26/26 [==============================] - 0s 993us/step - loss: 0.3723 - accuracy: 0.8268\n",
      "Epoch 520/600\n",
      "26/26 [==============================] - 0s 1ms/step - loss: 0.3724 - accuracy: 0.8317\n",
      "Epoch 521/600\n",
      "26/26 [==============================] - 0s 1ms/step - loss: 0.3750 - accuracy: 0.8220\n",
      "Epoch 522/600\n",
      "26/26 [==============================] - 0s 1ms/step - loss: 0.3712 - accuracy: 0.8280\n",
      "Epoch 523/600\n",
      "26/26 [==============================] - 0s 1ms/step - loss: 0.3705 - accuracy: 0.8293\n",
      "Epoch 524/600\n",
      "26/26 [==============================] - 0s 978us/step - loss: 0.3713 - accuracy: 0.8317\n",
      "Epoch 525/600\n",
      "26/26 [==============================] - 0s 1ms/step - loss: 0.3706 - accuracy: 0.8280\n",
      "Epoch 526/600\n",
      "26/26 [==============================] - 0s 1ms/step - loss: 0.3711 - accuracy: 0.8268\n",
      "Epoch 527/600\n",
      "26/26 [==============================] - 0s 964us/step - loss: 0.3710 - accuracy: 0.8256\n",
      "Epoch 528/600\n",
      "26/26 [==============================] - 0s 1ms/step - loss: 0.3715 - accuracy: 0.8232\n",
      "Epoch 529/600\n",
      "26/26 [==============================] - 0s 1ms/step - loss: 0.3704 - accuracy: 0.8268\n",
      "Epoch 530/600\n",
      "26/26 [==============================] - 0s 1ms/step - loss: 0.3701 - accuracy: 0.8305\n",
      "Epoch 531/600\n",
      "26/26 [==============================] - 0s 971us/step - loss: 0.3697 - accuracy: 0.8256\n",
      "Epoch 532/600\n",
      "26/26 [==============================] - 0s 961us/step - loss: 0.3705 - accuracy: 0.8244\n",
      "Epoch 533/600\n",
      "26/26 [==============================] - 0s 1ms/step - loss: 0.3698 - accuracy: 0.8244\n",
      "Epoch 534/600\n",
      "26/26 [==============================] - 0s 1ms/step - loss: 0.3725 - accuracy: 0.8293\n",
      "Epoch 535/600\n",
      "26/26 [==============================] - 0s 1ms/step - loss: 0.3707 - accuracy: 0.8293\n",
      "Epoch 536/600\n",
      "26/26 [==============================] - 0s 1ms/step - loss: 0.3694 - accuracy: 0.8293\n",
      "Epoch 537/600\n",
      "26/26 [==============================] - 0s 974us/step - loss: 0.3712 - accuracy: 0.8256\n",
      "Epoch 538/600\n",
      "26/26 [==============================] - 0s 1000us/step - loss: 0.3717 - accuracy: 0.8268\n",
      "Epoch 539/600\n",
      "26/26 [==============================] - 0s 1ms/step - loss: 0.3707 - accuracy: 0.8317\n",
      "Epoch 540/600\n",
      "26/26 [==============================] - 0s 1ms/step - loss: 0.3699 - accuracy: 0.8256\n",
      "Epoch 541/600\n",
      "26/26 [==============================] - 0s 1ms/step - loss: 0.3703 - accuracy: 0.8280\n",
      "Epoch 542/600\n",
      "26/26 [==============================] - 0s 1ms/step - loss: 0.3696 - accuracy: 0.8268\n",
      "Epoch 543/600\n",
      "26/26 [==============================] - 0s 999us/step - loss: 0.3690 - accuracy: 0.8293\n",
      "Epoch 544/600\n",
      "26/26 [==============================] - 0s 973us/step - loss: 0.3688 - accuracy: 0.8256\n",
      "Epoch 545/600\n",
      "26/26 [==============================] - 0s 976us/step - loss: 0.3734 - accuracy: 0.8232\n",
      "Epoch 546/600\n",
      "26/26 [==============================] - 0s 987us/step - loss: 0.3724 - accuracy: 0.8341\n",
      "Epoch 547/600\n",
      "26/26 [==============================] - 0s 1ms/step - loss: 0.3684 - accuracy: 0.8280\n",
      "Epoch 548/600\n",
      "26/26 [==============================] - 0s 975us/step - loss: 0.3688 - accuracy: 0.8280\n",
      "Epoch 549/600\n",
      "26/26 [==============================] - 0s 1ms/step - loss: 0.3691 - accuracy: 0.8268\n",
      "Epoch 550/600\n",
      "26/26 [==============================] - 0s 1ms/step - loss: 0.3684 - accuracy: 0.8280\n",
      "Epoch 551/600\n",
      "26/26 [==============================] - 0s 1ms/step - loss: 0.3679 - accuracy: 0.8293\n",
      "Epoch 552/600\n",
      "26/26 [==============================] - 0s 1ms/step - loss: 0.3691 - accuracy: 0.8305\n",
      "Epoch 553/600\n",
      "26/26 [==============================] - 0s 1ms/step - loss: 0.3690 - accuracy: 0.8317\n",
      "Epoch 554/600\n",
      "26/26 [==============================] - 0s 1ms/step - loss: 0.3694 - accuracy: 0.8268\n",
      "Epoch 555/600\n",
      "26/26 [==============================] - 0s 1ms/step - loss: 0.3674 - accuracy: 0.8305\n",
      "Epoch 556/600\n",
      "26/26 [==============================] - 0s 1ms/step - loss: 0.3686 - accuracy: 0.8293\n",
      "Epoch 557/600\n",
      "26/26 [==============================] - 0s 1ms/step - loss: 0.3684 - accuracy: 0.8293\n",
      "Epoch 558/600\n",
      "26/26 [==============================] - 0s 1ms/step - loss: 0.3685 - accuracy: 0.8317\n",
      "Epoch 559/600\n",
      "26/26 [==============================] - 0s 1ms/step - loss: 0.3688 - accuracy: 0.8293\n",
      "Epoch 560/600\n",
      "26/26 [==============================] - 0s 1ms/step - loss: 0.3687 - accuracy: 0.8256\n",
      "Epoch 561/600\n",
      "26/26 [==============================] - 0s 2ms/step - loss: 0.3676 - accuracy: 0.8329\n",
      "Epoch 562/600\n",
      "26/26 [==============================] - 0s 1ms/step - loss: 0.3674 - accuracy: 0.8329\n",
      "Epoch 563/600\n",
      "26/26 [==============================] - 0s 1ms/step - loss: 0.3672 - accuracy: 0.8280\n",
      "Epoch 564/600\n",
      "26/26 [==============================] - 0s 990us/step - loss: 0.3691 - accuracy: 0.8305\n",
      "Epoch 565/600\n",
      "26/26 [==============================] - 0s 1ms/step - loss: 0.3665 - accuracy: 0.8305\n",
      "Epoch 566/600\n"
     ]
    },
    {
     "name": "stdout",
     "output_type": "stream",
     "text": [
      "26/26 [==============================] - 0s 1ms/step - loss: 0.3671 - accuracy: 0.8280\n",
      "Epoch 567/600\n",
      "26/26 [==============================] - 0s 1ms/step - loss: 0.3692 - accuracy: 0.8305\n",
      "Epoch 568/600\n",
      "26/26 [==============================] - 0s 1ms/step - loss: 0.3673 - accuracy: 0.8280\n",
      "Epoch 569/600\n",
      "26/26 [==============================] - 0s 1ms/step - loss: 0.3668 - accuracy: 0.8317\n",
      "Epoch 570/600\n",
      "26/26 [==============================] - 0s 970us/step - loss: 0.3702 - accuracy: 0.8305\n",
      "Epoch 571/600\n",
      "26/26 [==============================] - 0s 1ms/step - loss: 0.3678 - accuracy: 0.8293\n",
      "Epoch 572/600\n",
      "26/26 [==============================] - 0s 978us/step - loss: 0.3705 - accuracy: 0.8341\n",
      "Epoch 573/600\n",
      "26/26 [==============================] - 0s 1ms/step - loss: 0.3671 - accuracy: 0.8268\n",
      "Epoch 574/600\n",
      "26/26 [==============================] - 0s 1ms/step - loss: 0.3695 - accuracy: 0.8256\n",
      "Epoch 575/600\n",
      "26/26 [==============================] - 0s 1ms/step - loss: 0.3673 - accuracy: 0.8305\n",
      "Epoch 576/600\n",
      "26/26 [==============================] - 0s 976us/step - loss: 0.3661 - accuracy: 0.8293\n",
      "Epoch 577/600\n",
      "26/26 [==============================] - 0s 1ms/step - loss: 0.3689 - accuracy: 0.8280\n",
      "Epoch 578/600\n",
      "26/26 [==============================] - 0s 1ms/step - loss: 0.3671 - accuracy: 0.8293\n",
      "Epoch 579/600\n",
      "26/26 [==============================] - 0s 1ms/step - loss: 0.3677 - accuracy: 0.8293\n",
      "Epoch 580/600\n",
      "26/26 [==============================] - 0s 1ms/step - loss: 0.3655 - accuracy: 0.8293\n",
      "Epoch 581/600\n",
      "26/26 [==============================] - 0s 1ms/step - loss: 0.3655 - accuracy: 0.8280\n",
      "Epoch 582/600\n",
      "26/26 [==============================] - 0s 1ms/step - loss: 0.3669 - accuracy: 0.8280\n",
      "Epoch 583/600\n",
      "26/26 [==============================] - 0s 990us/step - loss: 0.3674 - accuracy: 0.8280\n",
      "Epoch 584/600\n",
      "26/26 [==============================] - 0s 1ms/step - loss: 0.3660 - accuracy: 0.8329\n",
      "Epoch 585/600\n",
      "26/26 [==============================] - 0s 957us/step - loss: 0.3647 - accuracy: 0.8317\n",
      "Epoch 586/600\n",
      "26/26 [==============================] - 0s 1ms/step - loss: 0.3655 - accuracy: 0.8317\n",
      "Epoch 587/600\n",
      "26/26 [==============================] - 0s 1ms/step - loss: 0.3683 - accuracy: 0.8293\n",
      "Epoch 588/600\n",
      "26/26 [==============================] - 0s 937us/step - loss: 0.3661 - accuracy: 0.8244\n",
      "Epoch 589/600\n",
      "26/26 [==============================] - 0s 1ms/step - loss: 0.3657 - accuracy: 0.8378\n",
      "Epoch 590/600\n",
      "26/26 [==============================] - 0s 962us/step - loss: 0.3645 - accuracy: 0.8329\n",
      "Epoch 591/600\n",
      "26/26 [==============================] - 0s 1ms/step - loss: 0.3657 - accuracy: 0.8256\n",
      "Epoch 592/600\n",
      "26/26 [==============================] - 0s 1ms/step - loss: 0.3653 - accuracy: 0.8305\n",
      "Epoch 593/600\n",
      "26/26 [==============================] - 0s 1ms/step - loss: 0.3647 - accuracy: 0.8280\n",
      "Epoch 594/600\n",
      "26/26 [==============================] - 0s 1ms/step - loss: 0.3652 - accuracy: 0.8341\n",
      "Epoch 595/600\n",
      "26/26 [==============================] - 0s 1ms/step - loss: 0.3644 - accuracy: 0.8329\n",
      "Epoch 596/600\n",
      "26/26 [==============================] - 0s 1ms/step - loss: 0.3646 - accuracy: 0.8341\n",
      "Epoch 597/600\n",
      "26/26 [==============================] - 0s 1ms/step - loss: 0.3643 - accuracy: 0.8329\n",
      "Epoch 598/600\n",
      "26/26 [==============================] - 0s 959us/step - loss: 0.3650 - accuracy: 0.8329\n",
      "Epoch 599/600\n",
      "26/26 [==============================] - 0s 1ms/step - loss: 0.3637 - accuracy: 0.8280\n",
      "Epoch 600/600\n",
      "26/26 [==============================] - 0s 1ms/step - loss: 0.3641 - accuracy: 0.8256\n"
     ]
    },
    {
     "data": {
      "text/plain": [
       "<keras.src.callbacks.History at 0x1d311f18e20>"
      ]
     },
     "execution_count": 111,
     "metadata": {},
     "output_type": "execute_result"
    }
   ],
   "source": [
    "model.fit(train_scaled_over , train_target_over , epochs = 600)"
   ]
  },
  {
   "cell_type": "code",
   "execution_count": 112,
   "id": "38b2773d",
   "metadata": {
    "ExecuteTime": {
     "end_time": "2023-11-16T06:47:17.933963Z",
     "start_time": "2023-11-16T06:47:17.835509Z"
    }
   },
   "outputs": [
    {
     "name": "stdout",
     "output_type": "stream",
     "text": [
      "7/7 [==============================] - 0s 1ms/step\n",
      "              precision    recall  f1-score   support\n",
      "\n",
      "           0       0.76      0.82      0.79       139\n",
      "           1       0.66      0.57      0.61        84\n",
      "\n",
      "    accuracy                           0.73       223\n",
      "   macro avg       0.71      0.70      0.70       223\n",
      "weighted avg       0.72      0.73      0.72       223\n",
      "\n",
      "None\n"
     ]
    }
   ],
   "source": [
    "print(print(classification_report(test_target , np.where(model.predict(test_input)>=0.5 , 1 , 0))))"
   ]
  },
  {
   "cell_type": "code",
   "execution_count": null,
   "id": "0679d6c9",
   "metadata": {},
   "outputs": [],
   "source": []
  }
 ],
 "metadata": {
  "kernelspec": {
   "display_name": "Python 3 (ipykernel)",
   "language": "python",
   "name": "python3"
  },
  "language_info": {
   "codemirror_mode": {
    "name": "ipython",
    "version": 3
   },
   "file_extension": ".py",
   "mimetype": "text/x-python",
   "name": "python",
   "nbconvert_exporter": "python",
   "pygments_lexer": "ipython3",
   "version": "3.8.17"
  },
  "toc": {
   "base_numbering": 1,
   "nav_menu": {},
   "number_sections": true,
   "sideBar": true,
   "skip_h1_title": false,
   "title_cell": "Table of Contents",
   "title_sidebar": "Contents",
   "toc_cell": false,
   "toc_position": {},
   "toc_section_display": true,
   "toc_window_display": false
  }
 },
 "nbformat": 4,
 "nbformat_minor": 5
}
