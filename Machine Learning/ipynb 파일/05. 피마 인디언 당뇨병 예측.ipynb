{
 "cells": [
  {
   "cell_type": "code",
   "execution_count": 1,
   "id": "4dc28be6",
   "metadata": {
    "ExecuteTime": {
     "end_time": "2023-11-08T06:38:19.800228Z",
     "start_time": "2023-11-08T06:38:18.139251Z"
    }
   },
   "outputs": [],
   "source": [
    "import numpy as np\n",
    "import pandas as pd\n",
    "import matplotlib as mpl\n",
    "import matplotlib.pyplot as plt\n",
    "import mglearn\n",
    "%matplotlib inline\n",
    "import seaborn as sns\n",
    "import platform\n",
    "from matplotlib import font_manager , rc\n",
    "\n",
    "if platform.system() == 'Darwin':\n",
    "  rc('font' , family = 'AppleGothic')\n",
    "elif platform.system() == 'Windows':\n",
    "  path = 'C:/Windows/Fonts/malgun.ttf'\n",
    "  font_name = font_manager.FontProperties(fname = path).get_name()\n",
    "  rc('font' , family = font_name)\n",
    "else:\n",
    "  print('모름')\n",
    "plt.rcParams['axes.unicode_minus'] = False\n",
    "import warnings\n",
    "warnings.filterwarnings('ignore')\n",
    "from sklearn.metrics import accuracy_score , precision_score , recall_score , roc_auc_score , f1_score , confusion_matrix , roc_curve , precision_recall_curve"
   ]
  },
  {
   "cell_type": "code",
   "execution_count": 2,
   "id": "378b0554",
   "metadata": {
    "ExecuteTime": {
     "end_time": "2023-11-08T06:38:19.830578Z",
     "start_time": "2023-11-08T06:38:19.803228Z"
    }
   },
   "outputs": [
    {
     "data": {
      "text/plain": [
       "Pregnancies                   3.845052\n",
       "Glucose                     120.894531\n",
       "BloodPressure                69.105469\n",
       "SkinThickness                20.536458\n",
       "Insulin                      79.799479\n",
       "BMI                          31.992578\n",
       "DiabetesPedigreeFunction      0.471876\n",
       "Age                          33.240885\n",
       "Outcome                       0.348958\n",
       "dtype: float64"
      ]
     },
     "execution_count": 2,
     "metadata": {},
     "output_type": "execute_result"
    }
   ],
   "source": [
    "data = pd.read_csv('diabetes.csv')\n",
    "data.mean()"
   ]
  },
  {
   "cell_type": "markdown",
   "id": "9f171fed",
   "metadata": {},
   "source": [
    "# Features\n",
    "    - pregnancies : 임신 횟수\n",
    "    - Glucose : 포도당 부자 검사 수치\n",
    "    - BloodPressure : 혈압\n",
    "    - SkinThickness : 팔 삼두근 위쪽 피하지방 측정값\n",
    "    - Insulin : 혈청 인슐린\n",
    "    - BMI : 체질량지수\n",
    "    - DiabetesPedigreeFunction : 당뇨 내력 가중치\n",
    "    - Age : 나이\n",
    "    - Outcome : 클래스 결정값(target) , 0 or 1"
   ]
  },
  {
   "cell_type": "code",
   "execution_count": 3,
   "id": "6a3fd295",
   "metadata": {
    "ExecuteTime": {
     "end_time": "2023-11-08T06:38:19.845802Z",
     "start_time": "2023-11-08T06:38:19.832052Z"
    }
   },
   "outputs": [
    {
     "data": {
      "text/plain": [
       "0    500\n",
       "1    268\n",
       "Name: Outcome, dtype: int64"
      ]
     },
     "execution_count": 3,
     "metadata": {},
     "output_type": "execute_result"
    }
   ],
   "source": [
    "data.iloc[:,-1].value_counts()"
   ]
  },
  {
   "cell_type": "code",
   "execution_count": 4,
   "id": "a5ddc66d",
   "metadata": {
    "ExecuteTime": {
     "end_time": "2023-11-08T06:38:19.861613Z",
     "start_time": "2023-11-08T06:38:19.847302Z"
    }
   },
   "outputs": [],
   "source": [
    "from sklearn.model_selection import train_test_split\n",
    "train_input , test_input , train_target , test_target = train_test_split(data.iloc[:,:-1].to_numpy() , data.iloc[:,-1].to_numpy() , test_size = 0.2 , stratify = data.iloc[:,-1] , random_state = 42)"
   ]
  },
  {
   "cell_type": "code",
   "execution_count": 5,
   "id": "14f1060a",
   "metadata": {
    "ExecuteTime": {
     "end_time": "2023-11-08T06:38:19.877043Z",
     "start_time": "2023-11-08T06:38:19.864078Z"
    }
   },
   "outputs": [
    {
     "data": {
      "text/html": [
       "<style>#sk-container-id-1 {color: black;}#sk-container-id-1 pre{padding: 0;}#sk-container-id-1 div.sk-toggleable {background-color: white;}#sk-container-id-1 label.sk-toggleable__label {cursor: pointer;display: block;width: 100%;margin-bottom: 0;padding: 0.3em;box-sizing: border-box;text-align: center;}#sk-container-id-1 label.sk-toggleable__label-arrow:before {content: \"▸\";float: left;margin-right: 0.25em;color: #696969;}#sk-container-id-1 label.sk-toggleable__label-arrow:hover:before {color: black;}#sk-container-id-1 div.sk-estimator:hover label.sk-toggleable__label-arrow:before {color: black;}#sk-container-id-1 div.sk-toggleable__content {max-height: 0;max-width: 0;overflow: hidden;text-align: left;background-color: #f0f8ff;}#sk-container-id-1 div.sk-toggleable__content pre {margin: 0.2em;color: black;border-radius: 0.25em;background-color: #f0f8ff;}#sk-container-id-1 input.sk-toggleable__control:checked~div.sk-toggleable__content {max-height: 200px;max-width: 100%;overflow: auto;}#sk-container-id-1 input.sk-toggleable__control:checked~label.sk-toggleable__label-arrow:before {content: \"▾\";}#sk-container-id-1 div.sk-estimator input.sk-toggleable__control:checked~label.sk-toggleable__label {background-color: #d4ebff;}#sk-container-id-1 div.sk-label input.sk-toggleable__control:checked~label.sk-toggleable__label {background-color: #d4ebff;}#sk-container-id-1 input.sk-hidden--visually {border: 0;clip: rect(1px 1px 1px 1px);clip: rect(1px, 1px, 1px, 1px);height: 1px;margin: -1px;overflow: hidden;padding: 0;position: absolute;width: 1px;}#sk-container-id-1 div.sk-estimator {font-family: monospace;background-color: #f0f8ff;border: 1px dotted black;border-radius: 0.25em;box-sizing: border-box;margin-bottom: 0.5em;}#sk-container-id-1 div.sk-estimator:hover {background-color: #d4ebff;}#sk-container-id-1 div.sk-parallel-item::after {content: \"\";width: 100%;border-bottom: 1px solid gray;flex-grow: 1;}#sk-container-id-1 div.sk-label:hover label.sk-toggleable__label {background-color: #d4ebff;}#sk-container-id-1 div.sk-serial::before {content: \"\";position: absolute;border-left: 1px solid gray;box-sizing: border-box;top: 0;bottom: 0;left: 50%;z-index: 0;}#sk-container-id-1 div.sk-serial {display: flex;flex-direction: column;align-items: center;background-color: white;padding-right: 0.2em;padding-left: 0.2em;position: relative;}#sk-container-id-1 div.sk-item {position: relative;z-index: 1;}#sk-container-id-1 div.sk-parallel {display: flex;align-items: stretch;justify-content: center;background-color: white;position: relative;}#sk-container-id-1 div.sk-item::before, #sk-container-id-1 div.sk-parallel-item::before {content: \"\";position: absolute;border-left: 1px solid gray;box-sizing: border-box;top: 0;bottom: 0;left: 50%;z-index: -1;}#sk-container-id-1 div.sk-parallel-item {display: flex;flex-direction: column;z-index: 1;position: relative;background-color: white;}#sk-container-id-1 div.sk-parallel-item:first-child::after {align-self: flex-end;width: 50%;}#sk-container-id-1 div.sk-parallel-item:last-child::after {align-self: flex-start;width: 50%;}#sk-container-id-1 div.sk-parallel-item:only-child::after {width: 0;}#sk-container-id-1 div.sk-dashed-wrapped {border: 1px dashed gray;margin: 0 0.4em 0.5em 0.4em;box-sizing: border-box;padding-bottom: 0.4em;background-color: white;}#sk-container-id-1 div.sk-label label {font-family: monospace;font-weight: bold;display: inline-block;line-height: 1.2em;}#sk-container-id-1 div.sk-label-container {text-align: center;}#sk-container-id-1 div.sk-container {/* jupyter's `normalize.less` sets `[hidden] { display: none; }` but bootstrap.min.css set `[hidden] { display: none !important; }` so we also need the `!important` here to be able to override the default hidden behavior on the sphinx rendered scikit-learn.org. See: https://github.com/scikit-learn/scikit-learn/issues/21755 */display: inline-block !important;position: relative;}#sk-container-id-1 div.sk-text-repr-fallback {display: none;}</style><div id=\"sk-container-id-1\" class=\"sk-top-container\"><div class=\"sk-text-repr-fallback\"><pre>StandardScaler()</pre><b>In a Jupyter environment, please rerun this cell to show the HTML representation or trust the notebook. <br />On GitHub, the HTML representation is unable to render, please try loading this page with nbviewer.org.</b></div><div class=\"sk-container\" hidden><div class=\"sk-item\"><div class=\"sk-estimator sk-toggleable\"><input class=\"sk-toggleable__control sk-hidden--visually\" id=\"sk-estimator-id-1\" type=\"checkbox\" checked><label for=\"sk-estimator-id-1\" class=\"sk-toggleable__label sk-toggleable__label-arrow\">StandardScaler</label><div class=\"sk-toggleable__content\"><pre>StandardScaler()</pre></div></div></div></div></div>"
      ],
      "text/plain": [
       "StandardScaler()"
      ]
     },
     "execution_count": 5,
     "metadata": {},
     "output_type": "execute_result"
    }
   ],
   "source": [
    "from sklearn.preprocessing import StandardScaler\n",
    "ss = StandardScaler()\n",
    "ss.fit(train_input)"
   ]
  },
  {
   "cell_type": "code",
   "execution_count": 6,
   "id": "c62be55f",
   "metadata": {
    "ExecuteTime": {
     "end_time": "2023-11-08T06:38:19.892981Z",
     "start_time": "2023-11-08T06:38:19.878031Z"
    }
   },
   "outputs": [],
   "source": [
    "train_scaled = ss.transform(train_input)\n",
    "test_scaled = ss.transform(test_input)"
   ]
  },
  {
   "cell_type": "code",
   "execution_count": 7,
   "id": "47cd3dcc",
   "metadata": {
    "ExecuteTime": {
     "end_time": "2023-11-08T06:38:19.924458Z",
     "start_time": "2023-11-08T06:38:19.894974Z"
    }
   },
   "outputs": [
    {
     "data": {
      "text/html": [
       "<style>#sk-container-id-2 {color: black;}#sk-container-id-2 pre{padding: 0;}#sk-container-id-2 div.sk-toggleable {background-color: white;}#sk-container-id-2 label.sk-toggleable__label {cursor: pointer;display: block;width: 100%;margin-bottom: 0;padding: 0.3em;box-sizing: border-box;text-align: center;}#sk-container-id-2 label.sk-toggleable__label-arrow:before {content: \"▸\";float: left;margin-right: 0.25em;color: #696969;}#sk-container-id-2 label.sk-toggleable__label-arrow:hover:before {color: black;}#sk-container-id-2 div.sk-estimator:hover label.sk-toggleable__label-arrow:before {color: black;}#sk-container-id-2 div.sk-toggleable__content {max-height: 0;max-width: 0;overflow: hidden;text-align: left;background-color: #f0f8ff;}#sk-container-id-2 div.sk-toggleable__content pre {margin: 0.2em;color: black;border-radius: 0.25em;background-color: #f0f8ff;}#sk-container-id-2 input.sk-toggleable__control:checked~div.sk-toggleable__content {max-height: 200px;max-width: 100%;overflow: auto;}#sk-container-id-2 input.sk-toggleable__control:checked~label.sk-toggleable__label-arrow:before {content: \"▾\";}#sk-container-id-2 div.sk-estimator input.sk-toggleable__control:checked~label.sk-toggleable__label {background-color: #d4ebff;}#sk-container-id-2 div.sk-label input.sk-toggleable__control:checked~label.sk-toggleable__label {background-color: #d4ebff;}#sk-container-id-2 input.sk-hidden--visually {border: 0;clip: rect(1px 1px 1px 1px);clip: rect(1px, 1px, 1px, 1px);height: 1px;margin: -1px;overflow: hidden;padding: 0;position: absolute;width: 1px;}#sk-container-id-2 div.sk-estimator {font-family: monospace;background-color: #f0f8ff;border: 1px dotted black;border-radius: 0.25em;box-sizing: border-box;margin-bottom: 0.5em;}#sk-container-id-2 div.sk-estimator:hover {background-color: #d4ebff;}#sk-container-id-2 div.sk-parallel-item::after {content: \"\";width: 100%;border-bottom: 1px solid gray;flex-grow: 1;}#sk-container-id-2 div.sk-label:hover label.sk-toggleable__label {background-color: #d4ebff;}#sk-container-id-2 div.sk-serial::before {content: \"\";position: absolute;border-left: 1px solid gray;box-sizing: border-box;top: 0;bottom: 0;left: 50%;z-index: 0;}#sk-container-id-2 div.sk-serial {display: flex;flex-direction: column;align-items: center;background-color: white;padding-right: 0.2em;padding-left: 0.2em;position: relative;}#sk-container-id-2 div.sk-item {position: relative;z-index: 1;}#sk-container-id-2 div.sk-parallel {display: flex;align-items: stretch;justify-content: center;background-color: white;position: relative;}#sk-container-id-2 div.sk-item::before, #sk-container-id-2 div.sk-parallel-item::before {content: \"\";position: absolute;border-left: 1px solid gray;box-sizing: border-box;top: 0;bottom: 0;left: 50%;z-index: -1;}#sk-container-id-2 div.sk-parallel-item {display: flex;flex-direction: column;z-index: 1;position: relative;background-color: white;}#sk-container-id-2 div.sk-parallel-item:first-child::after {align-self: flex-end;width: 50%;}#sk-container-id-2 div.sk-parallel-item:last-child::after {align-self: flex-start;width: 50%;}#sk-container-id-2 div.sk-parallel-item:only-child::after {width: 0;}#sk-container-id-2 div.sk-dashed-wrapped {border: 1px dashed gray;margin: 0 0.4em 0.5em 0.4em;box-sizing: border-box;padding-bottom: 0.4em;background-color: white;}#sk-container-id-2 div.sk-label label {font-family: monospace;font-weight: bold;display: inline-block;line-height: 1.2em;}#sk-container-id-2 div.sk-label-container {text-align: center;}#sk-container-id-2 div.sk-container {/* jupyter's `normalize.less` sets `[hidden] { display: none; }` but bootstrap.min.css set `[hidden] { display: none !important; }` so we also need the `!important` here to be able to override the default hidden behavior on the sphinx rendered scikit-learn.org. See: https://github.com/scikit-learn/scikit-learn/issues/21755 */display: inline-block !important;position: relative;}#sk-container-id-2 div.sk-text-repr-fallback {display: none;}</style><div id=\"sk-container-id-2\" class=\"sk-top-container\"><div class=\"sk-text-repr-fallback\"><pre>LogisticRegression()</pre><b>In a Jupyter environment, please rerun this cell to show the HTML representation or trust the notebook. <br />On GitHub, the HTML representation is unable to render, please try loading this page with nbviewer.org.</b></div><div class=\"sk-container\" hidden><div class=\"sk-item\"><div class=\"sk-estimator sk-toggleable\"><input class=\"sk-toggleable__control sk-hidden--visually\" id=\"sk-estimator-id-2\" type=\"checkbox\" checked><label for=\"sk-estimator-id-2\" class=\"sk-toggleable__label sk-toggleable__label-arrow\">LogisticRegression</label><div class=\"sk-toggleable__content\"><pre>LogisticRegression()</pre></div></div></div></div></div>"
      ],
      "text/plain": [
       "LogisticRegression()"
      ]
     },
     "execution_count": 7,
     "metadata": {},
     "output_type": "execute_result"
    }
   ],
   "source": [
    "from sklearn.linear_model import LogisticRegression\n",
    "lr = LogisticRegression()\n",
    "lr.fit(train_scaled , train_target)"
   ]
  },
  {
   "cell_type": "code",
   "execution_count": 8,
   "id": "4c5693b8",
   "metadata": {
    "ExecuteTime": {
     "end_time": "2023-11-08T06:38:19.939502Z",
     "start_time": "2023-11-08T06:38:19.926507Z"
    }
   },
   "outputs": [
    {
     "data": {
      "text/plain": [
       "(0.7915309446254072, 0.7142857142857143)"
      ]
     },
     "execution_count": 8,
     "metadata": {},
     "output_type": "execute_result"
    }
   ],
   "source": [
    "lr.score(train_scaled , train_target) , lr.score(test_scaled, test_target)"
   ]
  },
  {
   "cell_type": "code",
   "execution_count": 9,
   "id": "a9e2d81d",
   "metadata": {
    "ExecuteTime": {
     "end_time": "2023-11-08T06:38:19.954902Z",
     "start_time": "2023-11-08T06:38:19.940913Z"
    }
   },
   "outputs": [],
   "source": [
    "pred = lr.predict(test_scaled)\n",
    "pred_proba = lr.predict_proba(test_scaled)"
   ]
  },
  {
   "cell_type": "code",
   "execution_count": 10,
   "id": "336225db",
   "metadata": {
    "ExecuteTime": {
     "end_time": "2023-11-08T06:38:19.970439Z",
     "start_time": "2023-11-08T06:38:19.956401Z"
    }
   },
   "outputs": [
    {
     "data": {
      "text/plain": [
       "array([[82, 18],\n",
       "       [26, 28]], dtype=int64)"
      ]
     },
     "execution_count": 10,
     "metadata": {},
     "output_type": "execute_result"
    }
   ],
   "source": [
    "confusion_matrix(test_target , pred)"
   ]
  },
  {
   "cell_type": "code",
   "execution_count": 11,
   "id": "cfefeb42",
   "metadata": {
    "ExecuteTime": {
     "end_time": "2023-11-08T06:38:19.986423Z",
     "start_time": "2023-11-08T06:38:19.973435Z"
    }
   },
   "outputs": [],
   "source": [
    "def get(real , pred = None , pred_proba = None):\n",
    "    confusion = confusion_matrix(real , pred)\n",
    "    accuracy = accuracy_score(real , pred)\n",
    "    precision = precision_score(real , pred)\n",
    "    recall = recall_score(real , pred)\n",
    "    f1 = f1_score(real , pred)\n",
    "    roc_auc = roc_auc_score(real , pred_proba)\n",
    "    df = pd.DataFrame(confusion, index=['실제값(N)', '실제값(P)'], columns=['예측값(N)', '예측값(P)'])\n",
    "    print('혼동 행렬\\n {}'.format(df))\n",
    "    print()\n",
    "    print()\n",
    "    print(f'정확도 : {accuracy:.4f} , 정밀도 : {precision:.4f} , 재현율 : {recall:.4f} , f1 스코어 : {f1:.4f} , roc곡선 : {roc_auc:.4f}')"
   ]
  },
  {
   "cell_type": "code",
   "execution_count": 12,
   "id": "36a5b0f5",
   "metadata": {
    "ExecuteTime": {
     "end_time": "2023-11-08T06:38:20.017414Z",
     "start_time": "2023-11-08T06:38:19.987945Z"
    }
   },
   "outputs": [
    {
     "name": "stdout",
     "output_type": "stream",
     "text": [
      "혼동 행렬\n",
      "         예측값(N)  예측값(P)\n",
      "실제값(N)      82      18\n",
      "실제값(P)      26      28\n",
      "\n",
      "\n",
      "정확도 : 0.7143 , 정밀도 : 0.6087 , 재현율 : 0.5185 , f1 스코어 : 0.5600 , roc곡선 : 0.8230\n"
     ]
    }
   ],
   "source": [
    "get(test_target , pred , pred_proba[:,1])"
   ]
  },
  {
   "cell_type": "markdown",
   "id": "9fdf4553",
   "metadata": {
    "ExecuteTime": {
     "end_time": "2023-10-25T07:32:01.750401Z",
     "start_time": "2023-10-25T07:32:01.744642Z"
    }
   },
   "source": [
    "- y가 0인 nagative가 많으므로 , 정확도보다 재현율에 초점을 맞춘다."
   ]
  },
  {
   "cell_type": "code",
   "execution_count": 13,
   "id": "aa6b9a40",
   "metadata": {
    "ExecuteTime": {
     "end_time": "2023-11-08T06:38:20.032905Z",
     "start_time": "2023-11-08T06:38:20.018909Z"
    }
   },
   "outputs": [],
   "source": [
    "def prc(real , pred):\n",
    "    precisions , recalls , thresholds = precision_recall_curve(real , pred)\n",
    "    \n",
    "    plt.figure(figsize = (10,10))\n",
    "    boundary = thresholds.shape[0]\n",
    "    plt.plot(thresholds , precisions[0:boundary] , ls= '--' , label = 'precision')\n",
    "    plt.plot(thresholds , recalls[0:boundary] , label = 'recall')\n",
    "    start , end = plt.xlim()\n",
    "    plt.xticks(np.round(np.arange(start , end , 0.1) , 2))\n",
    "    plt.xlabel('threshold value')\n",
    "    plt.ylabel('precision and recall')\n",
    "    plt.legend(loc = 'lower center')\n",
    "    plt.grid()\n",
    "    plt.show()"
   ]
  },
  {
   "cell_type": "code",
   "execution_count": 14,
   "id": "43671885",
   "metadata": {
    "ExecuteTime": {
     "end_time": "2023-11-08T06:38:20.220532Z",
     "start_time": "2023-11-08T06:38:20.038392Z"
    }
   },
   "outputs": [
    {
     "data": {
      "image/png": "[encoded data removed]",
      "text/plain": [
       "<Figure size 1000x1000 with 1 Axes>"
      ]
     },
     "metadata": {},
     "output_type": "display_data"
    }
   ],
   "source": [
    "prc(test_target , pred_proba[:,1])"
   ]
  },
  {
   "cell_type": "code",
   "execution_count": 15,
   "id": "282e99d4",
   "metadata": {
    "ExecuteTime": {
     "end_time": "2023-11-08T06:38:20.251723Z",
     "start_time": "2023-11-08T06:38:20.221568Z"
    }
   },
   "outputs": [
    {
     "data": {
      "text/html": [
       "<div>\n",
       "<style scoped>\n",
       "    .dataframe tbody tr th:only-of-type {\n",
       "        vertical-align: middle;\n",
       "    }\n",
       "\n",
       "    .dataframe tbody tr th {\n",
       "        vertical-align: top;\n",
       "    }\n",
       "\n",
       "    .dataframe thead th {\n",
       "        text-align: right;\n",
       "    }\n",
       "</style>\n",
       "<table border=\"1\" class=\"dataframe\">\n",
       "  <thead>\n",
       "    <tr style=\"text-align: right;\">\n",
       "      <th></th>\n",
       "      <th>Pregnancies</th>\n",
       "      <th>Glucose</th>\n",
       "      <th>BloodPressure</th>\n",
       "      <th>SkinThickness</th>\n",
       "      <th>Insulin</th>\n",
       "      <th>BMI</th>\n",
       "      <th>DiabetesPedigreeFunction</th>\n",
       "      <th>Age</th>\n",
       "      <th>Outcome</th>\n",
       "    </tr>\n",
       "  </thead>\n",
       "  <tbody>\n",
       "    <tr>\n",
       "      <th>count</th>\n",
       "      <td>768.000000</td>\n",
       "      <td>768.000000</td>\n",
       "      <td>768.000000</td>\n",
       "      <td>768.000000</td>\n",
       "      <td>768.000000</td>\n",
       "      <td>768.000000</td>\n",
       "      <td>768.000000</td>\n",
       "      <td>768.000000</td>\n",
       "      <td>768.000000</td>\n",
       "    </tr>\n",
       "    <tr>\n",
       "      <th>mean</th>\n",
       "      <td>3.845052</td>\n",
       "      <td>120.894531</td>\n",
       "      <td>69.105469</td>\n",
       "      <td>20.536458</td>\n",
       "      <td>79.799479</td>\n",
       "      <td>31.992578</td>\n",
       "      <td>0.471876</td>\n",
       "      <td>33.240885</td>\n",
       "      <td>0.348958</td>\n",
       "    </tr>\n",
       "    <tr>\n",
       "      <th>std</th>\n",
       "      <td>3.369578</td>\n",
       "      <td>31.972618</td>\n",
       "      <td>19.355807</td>\n",
       "      <td>15.952218</td>\n",
       "      <td>115.244002</td>\n",
       "      <td>7.884160</td>\n",
       "      <td>0.331329</td>\n",
       "      <td>11.760232</td>\n",
       "      <td>0.476951</td>\n",
       "    </tr>\n",
       "    <tr>\n",
       "      <th>min</th>\n",
       "      <td>0.000000</td>\n",
       "      <td>0.000000</td>\n",
       "      <td>0.000000</td>\n",
       "      <td>0.000000</td>\n",
       "      <td>0.000000</td>\n",
       "      <td>0.000000</td>\n",
       "      <td>0.078000</td>\n",
       "      <td>21.000000</td>\n",
       "      <td>0.000000</td>\n",
       "    </tr>\n",
       "    <tr>\n",
       "      <th>25%</th>\n",
       "      <td>1.000000</td>\n",
       "      <td>99.000000</td>\n",
       "      <td>62.000000</td>\n",
       "      <td>0.000000</td>\n",
       "      <td>0.000000</td>\n",
       "      <td>27.300000</td>\n",
       "      <td>0.243750</td>\n",
       "      <td>24.000000</td>\n",
       "      <td>0.000000</td>\n",
       "    </tr>\n",
       "    <tr>\n",
       "      <th>50%</th>\n",
       "      <td>3.000000</td>\n",
       "      <td>117.000000</td>\n",
       "      <td>72.000000</td>\n",
       "      <td>23.000000</td>\n",
       "      <td>30.500000</td>\n",
       "      <td>32.000000</td>\n",
       "      <td>0.372500</td>\n",
       "      <td>29.000000</td>\n",
       "      <td>0.000000</td>\n",
       "    </tr>\n",
       "    <tr>\n",
       "      <th>75%</th>\n",
       "      <td>6.000000</td>\n",
       "      <td>140.250000</td>\n",
       "      <td>80.000000</td>\n",
       "      <td>32.000000</td>\n",
       "      <td>127.250000</td>\n",
       "      <td>36.600000</td>\n",
       "      <td>0.626250</td>\n",
       "      <td>41.000000</td>\n",
       "      <td>1.000000</td>\n",
       "    </tr>\n",
       "    <tr>\n",
       "      <th>max</th>\n",
       "      <td>17.000000</td>\n",
       "      <td>199.000000</td>\n",
       "      <td>122.000000</td>\n",
       "      <td>99.000000</td>\n",
       "      <td>846.000000</td>\n",
       "      <td>67.100000</td>\n",
       "      <td>2.420000</td>\n",
       "      <td>81.000000</td>\n",
       "      <td>1.000000</td>\n",
       "    </tr>\n",
       "  </tbody>\n",
       "</table>\n",
       "</div>"
      ],
      "text/plain": [
       "       Pregnancies     Glucose  BloodPressure  SkinThickness     Insulin  \\\n",
       "count   768.000000  768.000000     768.000000     768.000000  768.000000   \n",
       "mean      3.845052  120.894531      69.105469      20.536458   79.799479   \n",
       "std       3.369578   31.972618      19.355807      15.952218  115.244002   \n",
       "min       0.000000    0.000000       0.000000       0.000000    0.000000   \n",
       "25%       1.000000   99.000000      62.000000       0.000000    0.000000   \n",
       "50%       3.000000  117.000000      72.000000      23.000000   30.500000   \n",
       "75%       6.000000  140.250000      80.000000      32.000000  127.250000   \n",
       "max      17.000000  199.000000     122.000000      99.000000  846.000000   \n",
       "\n",
       "              BMI  DiabetesPedigreeFunction         Age     Outcome  \n",
       "count  768.000000                768.000000  768.000000  768.000000  \n",
       "mean    31.992578                  0.471876   33.240885    0.348958  \n",
       "std      7.884160                  0.331329   11.760232    0.476951  \n",
       "min      0.000000                  0.078000   21.000000    0.000000  \n",
       "25%     27.300000                  0.243750   24.000000    0.000000  \n",
       "50%     32.000000                  0.372500   29.000000    0.000000  \n",
       "75%     36.600000                  0.626250   41.000000    1.000000  \n",
       "max     67.100000                  2.420000   81.000000    1.000000  "
      ]
     },
     "execution_count": 15,
     "metadata": {},
     "output_type": "execute_result"
    }
   ],
   "source": [
    "data.describe()"
   ]
  },
  {
   "cell_type": "code",
   "execution_count": 16,
   "id": "0bea589b",
   "metadata": {
    "ExecuteTime": {
     "end_time": "2023-11-08T06:38:20.267766Z",
     "start_time": "2023-11-08T06:38:20.252720Z"
    }
   },
   "outputs": [
    {
     "data": {
      "text/plain": [
       "Index(['Pregnancies', 'Glucose', 'BloodPressure', 'SkinThickness', 'Insulin',\n",
       "       'BMI', 'DiabetesPedigreeFunction', 'Age', 'Outcome'],\n",
       "      dtype='object')"
      ]
     },
     "execution_count": 16,
     "metadata": {},
     "output_type": "execute_result"
    }
   ],
   "source": [
    "data.columns"
   ]
  },
  {
   "cell_type": "code",
   "execution_count": 17,
   "id": "f0f3054c",
   "metadata": {
    "ExecuteTime": {
     "end_time": "2023-11-08T06:38:20.283220Z",
     "start_time": "2023-11-08T06:38:20.269081Z"
    }
   },
   "outputs": [],
   "source": [
    "#최소값이 0인 경우가 많아서 , 0값의 건수와 전체 데이터의 건수 대비 비율 확인\n",
    "zero_f = ['SkinThickness', 'Insulin']"
   ]
  },
  {
   "cell_type": "code",
   "execution_count": 18,
   "id": "05c065de",
   "metadata": {
    "ExecuteTime": {
     "end_time": "2023-11-08T06:38:20.299000Z",
     "start_time": "2023-11-08T06:38:20.284559Z"
    }
   },
   "outputs": [
    {
     "data": {
      "text/plain": [
       "768"
      ]
     },
     "execution_count": 18,
     "metadata": {},
     "output_type": "execute_result"
    }
   ],
   "source": [
    "total = len(data)\n",
    "total"
   ]
  },
  {
   "cell_type": "code",
   "execution_count": 19,
   "id": "8bc2ac3c",
   "metadata": {
    "ExecuteTime": {
     "end_time": "2023-11-08T06:38:20.314123Z",
     "start_time": "2023-11-08T06:38:20.301040Z"
    }
   },
   "outputs": [
    {
     "name": "stdout",
     "output_type": "stream",
     "text": [
      "SkinThickness feature의 0의 건수는 227 이고 , 비율은 29.5573%이다.\n",
      "Insulin feature의 0의 건수는 374 이고 , 비율은 48.6979%이다.\n"
     ]
    }
   ],
   "source": [
    "for i in zero_f:\n",
    "    zero_count = (data[i] == 0).sum()\n",
    "    print(f'{i} feature의 0의 건수는 {zero_count} 이고 , 비율은 {round(zero_count/total*100,4)}%이다.')"
   ]
  },
  {
   "cell_type": "code",
   "execution_count": 20,
   "id": "979c9884",
   "metadata": {
    "ExecuteTime": {
     "end_time": "2023-11-08T06:38:20.329946Z",
     "start_time": "2023-11-08T06:38:20.316145Z"
    }
   },
   "outputs": [],
   "source": [
    "data = pd.read_csv('diabetes.csv')\n"
   ]
  },
  {
   "cell_type": "code",
   "execution_count": 21,
   "id": "a233b0b5",
   "metadata": {
    "ExecuteTime": {
     "end_time": "2023-11-08T06:38:20.344987Z",
     "start_time": "2023-11-08T06:38:20.331969Z"
    }
   },
   "outputs": [],
   "source": [
    "# 데이터에서 0을 빼고 평균을 구하기\n",
    "mean_ =data[zero_f][data[zero_f] != 0].mean()"
   ]
  },
  {
   "cell_type": "code",
   "execution_count": 22,
   "id": "d72cec2c",
   "metadata": {
    "ExecuteTime": {
     "end_time": "2023-11-08T06:38:20.360458Z",
     "start_time": "2023-11-08T06:38:20.346925Z"
    }
   },
   "outputs": [],
   "source": [
    "# 그리고 결측치를 그 평균으로 대체\n",
    "data[zero_f] = data[zero_f][data[zero_f] != 0].fillna(mean_)"
   ]
  },
  {
   "cell_type": "code",
   "execution_count": 23,
   "id": "54733a8a",
   "metadata": {
    "ExecuteTime": {
     "end_time": "2023-11-08T06:38:20.392578Z",
     "start_time": "2023-11-08T06:38:20.361510Z"
    }
   },
   "outputs": [
    {
     "data": {
      "text/html": [
       "<div>\n",
       "<style scoped>\n",
       "    .dataframe tbody tr th:only-of-type {\n",
       "        vertical-align: middle;\n",
       "    }\n",
       "\n",
       "    .dataframe tbody tr th {\n",
       "        vertical-align: top;\n",
       "    }\n",
       "\n",
       "    .dataframe thead th {\n",
       "        text-align: right;\n",
       "    }\n",
       "</style>\n",
       "<table border=\"1\" class=\"dataframe\">\n",
       "  <thead>\n",
       "    <tr style=\"text-align: right;\">\n",
       "      <th></th>\n",
       "      <th>Pregnancies</th>\n",
       "      <th>Glucose</th>\n",
       "      <th>BloodPressure</th>\n",
       "      <th>SkinThickness</th>\n",
       "      <th>Insulin</th>\n",
       "      <th>BMI</th>\n",
       "      <th>DiabetesPedigreeFunction</th>\n",
       "      <th>Age</th>\n",
       "      <th>Outcome</th>\n",
       "    </tr>\n",
       "  </thead>\n",
       "  <tbody>\n",
       "    <tr>\n",
       "      <th>count</th>\n",
       "      <td>768.000000</td>\n",
       "      <td>768.000000</td>\n",
       "      <td>768.000000</td>\n",
       "      <td>768.000000</td>\n",
       "      <td>768.000000</td>\n",
       "      <td>768.000000</td>\n",
       "      <td>768.000000</td>\n",
       "      <td>768.000000</td>\n",
       "      <td>768.000000</td>\n",
       "    </tr>\n",
       "    <tr>\n",
       "      <th>mean</th>\n",
       "      <td>3.845052</td>\n",
       "      <td>120.894531</td>\n",
       "      <td>69.105469</td>\n",
       "      <td>29.153420</td>\n",
       "      <td>155.548223</td>\n",
       "      <td>31.992578</td>\n",
       "      <td>0.471876</td>\n",
       "      <td>33.240885</td>\n",
       "      <td>0.348958</td>\n",
       "    </tr>\n",
       "    <tr>\n",
       "      <th>std</th>\n",
       "      <td>3.369578</td>\n",
       "      <td>31.972618</td>\n",
       "      <td>19.355807</td>\n",
       "      <td>8.790942</td>\n",
       "      <td>85.021108</td>\n",
       "      <td>7.884160</td>\n",
       "      <td>0.331329</td>\n",
       "      <td>11.760232</td>\n",
       "      <td>0.476951</td>\n",
       "    </tr>\n",
       "    <tr>\n",
       "      <th>min</th>\n",
       "      <td>0.000000</td>\n",
       "      <td>0.000000</td>\n",
       "      <td>0.000000</td>\n",
       "      <td>7.000000</td>\n",
       "      <td>14.000000</td>\n",
       "      <td>0.000000</td>\n",
       "      <td>0.078000</td>\n",
       "      <td>21.000000</td>\n",
       "      <td>0.000000</td>\n",
       "    </tr>\n",
       "    <tr>\n",
       "      <th>25%</th>\n",
       "      <td>1.000000</td>\n",
       "      <td>99.000000</td>\n",
       "      <td>62.000000</td>\n",
       "      <td>25.000000</td>\n",
       "      <td>121.500000</td>\n",
       "      <td>27.300000</td>\n",
       "      <td>0.243750</td>\n",
       "      <td>24.000000</td>\n",
       "      <td>0.000000</td>\n",
       "    </tr>\n",
       "    <tr>\n",
       "      <th>50%</th>\n",
       "      <td>3.000000</td>\n",
       "      <td>117.000000</td>\n",
       "      <td>72.000000</td>\n",
       "      <td>29.153420</td>\n",
       "      <td>155.548223</td>\n",
       "      <td>32.000000</td>\n",
       "      <td>0.372500</td>\n",
       "      <td>29.000000</td>\n",
       "      <td>0.000000</td>\n",
       "    </tr>\n",
       "    <tr>\n",
       "      <th>75%</th>\n",
       "      <td>6.000000</td>\n",
       "      <td>140.250000</td>\n",
       "      <td>80.000000</td>\n",
       "      <td>32.000000</td>\n",
       "      <td>155.548223</td>\n",
       "      <td>36.600000</td>\n",
       "      <td>0.626250</td>\n",
       "      <td>41.000000</td>\n",
       "      <td>1.000000</td>\n",
       "    </tr>\n",
       "    <tr>\n",
       "      <th>max</th>\n",
       "      <td>17.000000</td>\n",
       "      <td>199.000000</td>\n",
       "      <td>122.000000</td>\n",
       "      <td>99.000000</td>\n",
       "      <td>846.000000</td>\n",
       "      <td>67.100000</td>\n",
       "      <td>2.420000</td>\n",
       "      <td>81.000000</td>\n",
       "      <td>1.000000</td>\n",
       "    </tr>\n",
       "  </tbody>\n",
       "</table>\n",
       "</div>"
      ],
      "text/plain": [
       "       Pregnancies     Glucose  BloodPressure  SkinThickness     Insulin  \\\n",
       "count   768.000000  768.000000     768.000000     768.000000  768.000000   \n",
       "mean      3.845052  120.894531      69.105469      29.153420  155.548223   \n",
       "std       3.369578   31.972618      19.355807       8.790942   85.021108   \n",
       "min       0.000000    0.000000       0.000000       7.000000   14.000000   \n",
       "25%       1.000000   99.000000      62.000000      25.000000  121.500000   \n",
       "50%       3.000000  117.000000      72.000000      29.153420  155.548223   \n",
       "75%       6.000000  140.250000      80.000000      32.000000  155.548223   \n",
       "max      17.000000  199.000000     122.000000      99.000000  846.000000   \n",
       "\n",
       "              BMI  DiabetesPedigreeFunction         Age     Outcome  \n",
       "count  768.000000                768.000000  768.000000  768.000000  \n",
       "mean    31.992578                  0.471876   33.240885    0.348958  \n",
       "std      7.884160                  0.331329   11.760232    0.476951  \n",
       "min      0.000000                  0.078000   21.000000    0.000000  \n",
       "25%     27.300000                  0.243750   24.000000    0.000000  \n",
       "50%     32.000000                  0.372500   29.000000    0.000000  \n",
       "75%     36.600000                  0.626250   41.000000    1.000000  \n",
       "max     67.100000                  2.420000   81.000000    1.000000  "
      ]
     },
     "execution_count": 23,
     "metadata": {},
     "output_type": "execute_result"
    }
   ],
   "source": [
    "data.describe()"
   ]
  },
  {
   "cell_type": "code",
   "execution_count": null,
   "id": "880aaba9",
   "metadata": {},
   "outputs": [],
   "source": []
  },
  {
   "cell_type": "code",
   "execution_count": 24,
   "id": "5f28ae97",
   "metadata": {
    "ExecuteTime": {
     "end_time": "2023-11-08T06:38:20.408566Z",
     "start_time": "2023-11-08T06:38:20.394660Z"
    }
   },
   "outputs": [],
   "source": [
    "from sklearn.model_selection import train_test_split\n",
    "train_input , test_input , train_target , test_target = train_test_split(data.iloc[:,:-1].to_numpy() , data.iloc[:,-1].to_numpy() , test_size = 0.2 , stratify = data.iloc[:,-1] , random_state = 156)"
   ]
  },
  {
   "cell_type": "code",
   "execution_count": 25,
   "id": "9c9b6071",
   "metadata": {
    "ExecuteTime": {
     "end_time": "2023-11-08T06:38:20.424510Z",
     "start_time": "2023-11-08T06:38:20.411546Z"
    }
   },
   "outputs": [
    {
     "data": {
      "text/html": [
       "<style>#sk-container-id-3 {color: black;}#sk-container-id-3 pre{padding: 0;}#sk-container-id-3 div.sk-toggleable {background-color: white;}#sk-container-id-3 label.sk-toggleable__label {cursor: pointer;display: block;width: 100%;margin-bottom: 0;padding: 0.3em;box-sizing: border-box;text-align: center;}#sk-container-id-3 label.sk-toggleable__label-arrow:before {content: \"▸\";float: left;margin-right: 0.25em;color: #696969;}#sk-container-id-3 label.sk-toggleable__label-arrow:hover:before {color: black;}#sk-container-id-3 div.sk-estimator:hover label.sk-toggleable__label-arrow:before {color: black;}#sk-container-id-3 div.sk-toggleable__content {max-height: 0;max-width: 0;overflow: hidden;text-align: left;background-color: #f0f8ff;}#sk-container-id-3 div.sk-toggleable__content pre {margin: 0.2em;color: black;border-radius: 0.25em;background-color: #f0f8ff;}#sk-container-id-3 input.sk-toggleable__control:checked~div.sk-toggleable__content {max-height: 200px;max-width: 100%;overflow: auto;}#sk-container-id-3 input.sk-toggleable__control:checked~label.sk-toggleable__label-arrow:before {content: \"▾\";}#sk-container-id-3 div.sk-estimator input.sk-toggleable__control:checked~label.sk-toggleable__label {background-color: #d4ebff;}#sk-container-id-3 div.sk-label input.sk-toggleable__control:checked~label.sk-toggleable__label {background-color: #d4ebff;}#sk-container-id-3 input.sk-hidden--visually {border: 0;clip: rect(1px 1px 1px 1px);clip: rect(1px, 1px, 1px, 1px);height: 1px;margin: -1px;overflow: hidden;padding: 0;position: absolute;width: 1px;}#sk-container-id-3 div.sk-estimator {font-family: monospace;background-color: #f0f8ff;border: 1px dotted black;border-radius: 0.25em;box-sizing: border-box;margin-bottom: 0.5em;}#sk-container-id-3 div.sk-estimator:hover {background-color: #d4ebff;}#sk-container-id-3 div.sk-parallel-item::after {content: \"\";width: 100%;border-bottom: 1px solid gray;flex-grow: 1;}#sk-container-id-3 div.sk-label:hover label.sk-toggleable__label {background-color: #d4ebff;}#sk-container-id-3 div.sk-serial::before {content: \"\";position: absolute;border-left: 1px solid gray;box-sizing: border-box;top: 0;bottom: 0;left: 50%;z-index: 0;}#sk-container-id-3 div.sk-serial {display: flex;flex-direction: column;align-items: center;background-color: white;padding-right: 0.2em;padding-left: 0.2em;position: relative;}#sk-container-id-3 div.sk-item {position: relative;z-index: 1;}#sk-container-id-3 div.sk-parallel {display: flex;align-items: stretch;justify-content: center;background-color: white;position: relative;}#sk-container-id-3 div.sk-item::before, #sk-container-id-3 div.sk-parallel-item::before {content: \"\";position: absolute;border-left: 1px solid gray;box-sizing: border-box;top: 0;bottom: 0;left: 50%;z-index: -1;}#sk-container-id-3 div.sk-parallel-item {display: flex;flex-direction: column;z-index: 1;position: relative;background-color: white;}#sk-container-id-3 div.sk-parallel-item:first-child::after {align-self: flex-end;width: 50%;}#sk-container-id-3 div.sk-parallel-item:last-child::after {align-self: flex-start;width: 50%;}#sk-container-id-3 div.sk-parallel-item:only-child::after {width: 0;}#sk-container-id-3 div.sk-dashed-wrapped {border: 1px dashed gray;margin: 0 0.4em 0.5em 0.4em;box-sizing: border-box;padding-bottom: 0.4em;background-color: white;}#sk-container-id-3 div.sk-label label {font-family: monospace;font-weight: bold;display: inline-block;line-height: 1.2em;}#sk-container-id-3 div.sk-label-container {text-align: center;}#sk-container-id-3 div.sk-container {/* jupyter's `normalize.less` sets `[hidden] { display: none; }` but bootstrap.min.css set `[hidden] { display: none !important; }` so we also need the `!important` here to be able to override the default hidden behavior on the sphinx rendered scikit-learn.org. See: https://github.com/scikit-learn/scikit-learn/issues/21755 */display: inline-block !important;position: relative;}#sk-container-id-3 div.sk-text-repr-fallback {display: none;}</style><div id=\"sk-container-id-3\" class=\"sk-top-container\"><div class=\"sk-text-repr-fallback\"><pre>StandardScaler()</pre><b>In a Jupyter environment, please rerun this cell to show the HTML representation or trust the notebook. <br />On GitHub, the HTML representation is unable to render, please try loading this page with nbviewer.org.</b></div><div class=\"sk-container\" hidden><div class=\"sk-item\"><div class=\"sk-estimator sk-toggleable\"><input class=\"sk-toggleable__control sk-hidden--visually\" id=\"sk-estimator-id-3\" type=\"checkbox\" checked><label for=\"sk-estimator-id-3\" class=\"sk-toggleable__label sk-toggleable__label-arrow\">StandardScaler</label><div class=\"sk-toggleable__content\"><pre>StandardScaler()</pre></div></div></div></div></div>"
      ],
      "text/plain": [
       "StandardScaler()"
      ]
     },
     "execution_count": 25,
     "metadata": {},
     "output_type": "execute_result"
    }
   ],
   "source": [
    "from sklearn.preprocessing import StandardScaler\n",
    "ss = StandardScaler()\n",
    "ss.fit(train_input)"
   ]
  },
  {
   "cell_type": "code",
   "execution_count": 26,
   "id": "b092e53b",
   "metadata": {
    "ExecuteTime": {
     "end_time": "2023-11-08T06:38:20.440446Z",
     "start_time": "2023-11-08T06:38:20.426497Z"
    }
   },
   "outputs": [],
   "source": [
    "train_scaled = ss.transform(train_input)\n",
    "test_scaled = ss.transform(test_input)"
   ]
  },
  {
   "cell_type": "code",
   "execution_count": 27,
   "id": "e51b3d99",
   "metadata": {
    "ExecuteTime": {
     "end_time": "2023-11-08T06:38:20.455400Z",
     "start_time": "2023-11-08T06:38:20.442373Z"
    }
   },
   "outputs": [
    {
     "data": {
      "text/html": [
       "<style>#sk-container-id-4 {color: black;}#sk-container-id-4 pre{padding: 0;}#sk-container-id-4 div.sk-toggleable {background-color: white;}#sk-container-id-4 label.sk-toggleable__label {cursor: pointer;display: block;width: 100%;margin-bottom: 0;padding: 0.3em;box-sizing: border-box;text-align: center;}#sk-container-id-4 label.sk-toggleable__label-arrow:before {content: \"▸\";float: left;margin-right: 0.25em;color: #696969;}#sk-container-id-4 label.sk-toggleable__label-arrow:hover:before {color: black;}#sk-container-id-4 div.sk-estimator:hover label.sk-toggleable__label-arrow:before {color: black;}#sk-container-id-4 div.sk-toggleable__content {max-height: 0;max-width: 0;overflow: hidden;text-align: left;background-color: #f0f8ff;}#sk-container-id-4 div.sk-toggleable__content pre {margin: 0.2em;color: black;border-radius: 0.25em;background-color: #f0f8ff;}#sk-container-id-4 input.sk-toggleable__control:checked~div.sk-toggleable__content {max-height: 200px;max-width: 100%;overflow: auto;}#sk-container-id-4 input.sk-toggleable__control:checked~label.sk-toggleable__label-arrow:before {content: \"▾\";}#sk-container-id-4 div.sk-estimator input.sk-toggleable__control:checked~label.sk-toggleable__label {background-color: #d4ebff;}#sk-container-id-4 div.sk-label input.sk-toggleable__control:checked~label.sk-toggleable__label {background-color: #d4ebff;}#sk-container-id-4 input.sk-hidden--visually {border: 0;clip: rect(1px 1px 1px 1px);clip: rect(1px, 1px, 1px, 1px);height: 1px;margin: -1px;overflow: hidden;padding: 0;position: absolute;width: 1px;}#sk-container-id-4 div.sk-estimator {font-family: monospace;background-color: #f0f8ff;border: 1px dotted black;border-radius: 0.25em;box-sizing: border-box;margin-bottom: 0.5em;}#sk-container-id-4 div.sk-estimator:hover {background-color: #d4ebff;}#sk-container-id-4 div.sk-parallel-item::after {content: \"\";width: 100%;border-bottom: 1px solid gray;flex-grow: 1;}#sk-container-id-4 div.sk-label:hover label.sk-toggleable__label {background-color: #d4ebff;}#sk-container-id-4 div.sk-serial::before {content: \"\";position: absolute;border-left: 1px solid gray;box-sizing: border-box;top: 0;bottom: 0;left: 50%;z-index: 0;}#sk-container-id-4 div.sk-serial {display: flex;flex-direction: column;align-items: center;background-color: white;padding-right: 0.2em;padding-left: 0.2em;position: relative;}#sk-container-id-4 div.sk-item {position: relative;z-index: 1;}#sk-container-id-4 div.sk-parallel {display: flex;align-items: stretch;justify-content: center;background-color: white;position: relative;}#sk-container-id-4 div.sk-item::before, #sk-container-id-4 div.sk-parallel-item::before {content: \"\";position: absolute;border-left: 1px solid gray;box-sizing: border-box;top: 0;bottom: 0;left: 50%;z-index: -1;}#sk-container-id-4 div.sk-parallel-item {display: flex;flex-direction: column;z-index: 1;position: relative;background-color: white;}#sk-container-id-4 div.sk-parallel-item:first-child::after {align-self: flex-end;width: 50%;}#sk-container-id-4 div.sk-parallel-item:last-child::after {align-self: flex-start;width: 50%;}#sk-container-id-4 div.sk-parallel-item:only-child::after {width: 0;}#sk-container-id-4 div.sk-dashed-wrapped {border: 1px dashed gray;margin: 0 0.4em 0.5em 0.4em;box-sizing: border-box;padding-bottom: 0.4em;background-color: white;}#sk-container-id-4 div.sk-label label {font-family: monospace;font-weight: bold;display: inline-block;line-height: 1.2em;}#sk-container-id-4 div.sk-label-container {text-align: center;}#sk-container-id-4 div.sk-container {/* jupyter's `normalize.less` sets `[hidden] { display: none; }` but bootstrap.min.css set `[hidden] { display: none !important; }` so we also need the `!important` here to be able to override the default hidden behavior on the sphinx rendered scikit-learn.org. See: https://github.com/scikit-learn/scikit-learn/issues/21755 */display: inline-block !important;position: relative;}#sk-container-id-4 div.sk-text-repr-fallback {display: none;}</style><div id=\"sk-container-id-4\" class=\"sk-top-container\"><div class=\"sk-text-repr-fallback\"><pre>LogisticRegression()</pre><b>In a Jupyter environment, please rerun this cell to show the HTML representation or trust the notebook. <br />On GitHub, the HTML representation is unable to render, please try loading this page with nbviewer.org.</b></div><div class=\"sk-container\" hidden><div class=\"sk-item\"><div class=\"sk-estimator sk-toggleable\"><input class=\"sk-toggleable__control sk-hidden--visually\" id=\"sk-estimator-id-4\" type=\"checkbox\" checked><label for=\"sk-estimator-id-4\" class=\"sk-toggleable__label sk-toggleable__label-arrow\">LogisticRegression</label><div class=\"sk-toggleable__content\"><pre>LogisticRegression()</pre></div></div></div></div></div>"
      ],
      "text/plain": [
       "LogisticRegression()"
      ]
     },
     "execution_count": 27,
     "metadata": {},
     "output_type": "execute_result"
    }
   ],
   "source": [
    "from sklearn.linear_model import LogisticRegression\n",
    "lr = LogisticRegression()\n",
    "lr.fit(train_scaled , train_target)"
   ]
  },
  {
   "cell_type": "code",
   "execution_count": 28,
   "id": "f51b538d",
   "metadata": {
    "ExecuteTime": {
     "end_time": "2023-11-08T06:38:20.470602Z",
     "start_time": "2023-11-08T06:38:20.457524Z"
    }
   },
   "outputs": [
    {
     "data": {
      "text/plain": [
       "(0.7719869706840391, 0.7922077922077922)"
      ]
     },
     "execution_count": 28,
     "metadata": {},
     "output_type": "execute_result"
    }
   ],
   "source": [
    "lr.score(train_scaled , train_target) , lr.score(test_scaled, test_target)"
   ]
  },
  {
   "cell_type": "code",
   "execution_count": 29,
   "id": "3fb4c5ca",
   "metadata": {
    "ExecuteTime": {
     "end_time": "2023-11-08T06:38:20.486177Z",
     "start_time": "2023-11-08T06:38:20.472101Z"
    }
   },
   "outputs": [],
   "source": [
    "pred = lr.predict(test_scaled)\n",
    "pred_proba = lr.predict_proba(test_scaled)"
   ]
  },
  {
   "cell_type": "code",
   "execution_count": 30,
   "id": "1411119a",
   "metadata": {
    "ExecuteTime": {
     "end_time": "2023-11-08T06:38:20.501745Z",
     "start_time": "2023-11-08T06:38:20.487674Z"
    }
   },
   "outputs": [],
   "source": [
    "def get(real , pred = None , pred_proba = None):\n",
    "    confusion = confusion_matrix(real , pred)\n",
    "    accuracy = accuracy_score(real , pred)\n",
    "    precision = precision_score(real , pred)\n",
    "    recall = recall_score(real , pred)\n",
    "    f1 = f1_score(real , pred)\n",
    "    roc_auc = roc_auc_score(real , pred_proba)\n",
    "    df = pd.DataFrame(confusion, index=['실제값(N)', '실제값(P)'], columns=['예측값(N)', '예측값(P)'])\n",
    "    print('혼동 행렬\\n {}'.format(df))\n",
    "    print()\n",
    "    print()\n",
    "    print(f'정확도 : {accuracy:.4f} , 정밀도 : {precision:.4f} , 재현율 : {recall:.4f} , f1 스코어 : {f1:.4f} , roc곡선 : {roc_auc:.4f}')"
   ]
  },
  {
   "cell_type": "code",
   "execution_count": 31,
   "id": "fd13cdca",
   "metadata": {
    "ExecuteTime": {
     "end_time": "2023-11-08T06:38:20.532821Z",
     "start_time": "2023-11-08T06:38:20.504292Z"
    }
   },
   "outputs": [
    {
     "name": "stdout",
     "output_type": "stream",
     "text": [
      "혼동 행렬\n",
      "         예측값(N)  예측값(P)\n",
      "실제값(N)      88      12\n",
      "실제값(P)      20      34\n",
      "\n",
      "\n",
      "정확도 : 0.7922 , 정밀도 : 0.7391 , 재현율 : 0.6296 , f1 스코어 : 0.6800 , roc곡선 : 0.8130\n"
     ]
    }
   ],
   "source": [
    "get(test_target , pred , pred_proba[:,1])"
   ]
  },
  {
   "cell_type": "code",
   "execution_count": 32,
   "id": "4bf556f4",
   "metadata": {
    "ExecuteTime": {
     "end_time": "2023-11-08T06:38:20.548485Z",
     "start_time": "2023-11-08T06:38:20.534500Z"
    }
   },
   "outputs": [],
   "source": [
    "def prc(real , pred):\n",
    "    precisions , recalls , thresholds = precision_recall_curve(real , pred)\n",
    "    \n",
    "    plt.figure(figsize = (10,10))\n",
    "    boundary = thresholds.shape[0]\n",
    "    plt.plot(thresholds , precisions[0:boundary] , ls= '--' , label = 'precision')\n",
    "    plt.plot(thresholds , recalls[0:boundary] , label = 'recall')\n",
    "    start , end = plt.xlim()\n",
    "    plt.xticks(np.round(np.arange(start , end , 0.1) , 2))\n",
    "    plt.xlabel('threshold value')\n",
    "    plt.ylabel('precision and recall')\n",
    "    plt.legend(loc = 'lower center')\n",
    "    plt.grid()\n",
    "    plt.show()"
   ]
  },
  {
   "cell_type": "code",
   "execution_count": 33,
   "id": "32c1ea9d",
   "metadata": {
    "ExecuteTime": {
     "end_time": "2023-11-08T06:38:20.736247Z",
     "start_time": "2023-11-08T06:38:20.549984Z"
    }
   },
   "outputs": [
    {
     "data": {
      "image/png": "[encoded data removed]",
      "text/plain": [
       "<Figure size 1000x1000 with 1 Axes>"
      ]
     },
     "metadata": {},
     "output_type": "display_data"
    }
   ],
   "source": [
    "prc(test_target , pred_proba[:,1])"
   ]
  },
  {
   "cell_type": "markdown",
   "id": "8b5d512a",
   "metadata": {},
   "source": [
    "- f1 score가 높은 것에 초점을 맞춰보기"
   ]
  },
  {
   "cell_type": "code",
   "execution_count": 34,
   "id": "ee2469b0",
   "metadata": {
    "ExecuteTime": {
     "end_time": "2023-11-08T06:38:20.782113Z",
     "start_time": "2023-11-08T06:38:20.738437Z"
    }
   },
   "outputs": [
    {
     "name": "stdout",
     "output_type": "stream",
     "text": [
      "임계값 : 0.3\n",
      "정확도 : 0.73\n",
      "정밀도 : 0.58\n",
      "재현율 : 0.78\n",
      "f1스코어 : 0.67\n",
      "\n",
      "\n",
      "임계값 : 0.33\n",
      "정확도 : 0.75\n",
      "정밀도 : 0.62\n",
      "재현율 : 0.74\n",
      "f1스코어 : 0.67\n",
      "\n",
      "\n",
      "임계값 : 0.36\n",
      "정확도 : 0.76\n",
      "정밀도 : 0.65\n",
      "재현율 : 0.69\n",
      "f1스코어 : 0.67\n",
      "\n",
      "\n",
      "임계값 : 0.39\n",
      "정확도 : 0.75\n",
      "정밀도 : 0.65\n",
      "재현율 : 0.65\n",
      "f1스코어 : 0.65\n",
      "\n",
      "\n",
      "임계값 : 0.42\n",
      "정확도 : 0.76\n",
      "정밀도 : 0.67\n",
      "재현율 : 0.63\n",
      "f1스코어 : 0.65\n",
      "\n",
      "\n",
      "임계값 : 0.45\n",
      "정확도 : 0.77\n",
      "정밀도 : 0.68\n",
      "재현율 : 0.63\n",
      "f1스코어 : 0.65\n",
      "\n",
      "\n",
      "임계값 : 0.48\n",
      "정확도 : 0.79\n",
      "정밀도 : 0.72\n",
      "재현율 : 0.63\n",
      "f1스코어 : 0.67\n",
      "\n",
      "\n",
      "임계값 : 0.51\n",
      "정확도 : 0.80\n",
      "정밀도 : 0.76\n",
      "재현율 : 0.63\n",
      "f1스코어 : 0.69\n",
      "\n",
      "\n"
     ]
    }
   ],
   "source": [
    "cut_off = [0.3,0.33,0.36,0.39,0.42,0.45,0.48,0.51]\n",
    "\n",
    "for i in cut_off:\n",
    "    #확률값이 cut보다 크면 1 , 아니면 0\n",
    "    y_pred = np.where(pred_proba[:,1]>i , 1 , 0)\n",
    "    acc = accuracy_score(test_target , y_pred)\n",
    "    recall = recall_score(test_target , y_pred)\n",
    "    precision = precision_score(test_target , y_pred)\n",
    "    f1 = f1_score(test_target , y_pred)\n",
    "    print(f'임계값 : {i}')\n",
    "    print(f'정확도 : {acc:.2f}\\n정밀도 : {precision:.2f}\\n재현율 : {recall:.2f}\\nf1스코어 : {f1:.2f}')\n",
    "    print()\n",
    "    print()"
   ]
  },
  {
   "cell_type": "code",
   "execution_count": 35,
   "id": "53512a41",
   "metadata": {
    "ExecuteTime": {
     "end_time": "2023-11-08T06:38:20.923598Z",
     "start_time": "2023-11-08T06:38:20.783152Z"
    }
   },
   "outputs": [
    {
     "data": {
      "text/plain": [
       "0.6938775510204083"
      ]
     },
     "execution_count": 35,
     "metadata": {},
     "output_type": "execute_result"
    }
   ],
   "source": [
    "f1 = []\n",
    "for i in range(1,96):\n",
    "    y_pred = np.where(pred_proba[:,1]>i/100 , 1 , 0)\n",
    "    f1.append(f1_score(test_target , y_pred))\n",
    "    \n",
    "max(f1)"
   ]
  },
  {
   "cell_type": "markdown",
   "id": "948880a8",
   "metadata": {},
   "source": [
    "- f1 score가 가장 큰 임계값은 52번째에 있으므로 , 0.53일 때 , f1 score가 가장 높다."
   ]
  },
  {
   "cell_type": "code",
   "execution_count": 36,
   "id": "45eea183",
   "metadata": {
    "ExecuteTime": {
     "end_time": "2023-11-08T06:38:20.938697Z",
     "start_time": "2023-11-08T06:38:20.925625Z"
    }
   },
   "outputs": [],
   "source": [
    "from sklearn.preprocessing import Binarizer"
   ]
  },
  {
   "cell_type": "code",
   "execution_count": 37,
   "id": "be370621",
   "metadata": {
    "ExecuteTime": {
     "end_time": "2023-11-08T06:38:20.954291Z",
     "start_time": "2023-11-08T06:38:20.940695Z"
    }
   },
   "outputs": [],
   "source": [
    "def get_clf(y_test , pred , threshold , f1_show = False , auc_show = False):\n",
    "    disp = pd.DataFrame()\n",
    "    \n",
    "    for thres in threshold:\n",
    "        binarizer = Binarizer(threshold = thres)\n",
    "        binarizer.fit(pred)\n",
    "        thres_pred = binarizer.transform(pred)\n",
    "        \n",
    "        \n",
    "        acc = accuracy_score(y_test , thres_pred)\n",
    "        pre = precision_score(y_test , thres_pred)\n",
    "        re = recall_score(y_test , thres_pred)\n",
    "        f1 = f1_score(y_test , thres_pred)\n",
    "        auc = roc_auc_score(y_test , thres_pred)\n",
    "        \n",
    "        \n",
    "        eval_list = np.array([acc,pre,re,f1,auc]).reshape(-1,1)\n",
    "        temp = pd.DataFrame(eval_list  , index = ['정확도','정밀도','재현율','f1스코어','auc'])\n",
    "        disp = pd.concat([disp , temp] , axis = 1)\n",
    "    \n",
    "    disp.columns.names = ['임계값']\n",
    "    \n",
    "    if f1_show == False:\n",
    "        disp.drop('f1스코어', axis = 0 , inplace = True)\n",
    "    if auc_show == False:\n",
    "        disp.drop('auc' , axis = 0 , inplace = True)\n",
    "        \n",
    "    disp.columns = [0.3,0.33,0.36,0.39,0.42,0.45,0.48,0.51]\n",
    "    disp.columns.names = ['임계값']\n",
    "    return round(disp , 4)"
   ]
  },
  {
   "cell_type": "code",
   "execution_count": 38,
   "id": "11deab47",
   "metadata": {
    "ExecuteTime": {
     "end_time": "2023-11-08T06:38:20.969619Z",
     "start_time": "2023-11-08T06:38:20.955820Z"
    }
   },
   "outputs": [
    {
     "data": {
      "text/plain": [
       "array([0, 0, 0, 1, 0, 1, 1, 0, 0, 0, 1, 0, 0, 0, 0, 0, 1, 0, 0, 1, 0, 0,\n",
       "       0, 0, 0, 0, 1, 1, 0, 1, 0, 0, 0, 0, 0, 1, 0, 0, 1, 1, 0, 0, 1, 0,\n",
       "       0, 0, 1, 0, 0, 0, 0, 1, 1, 0, 0, 0, 0, 0, 0, 0, 0, 1, 0, 1, 0, 0,\n",
       "       0, 1, 0, 1, 0, 0, 0, 0, 1, 0, 0, 0, 0, 0, 0, 0, 1, 0, 0, 0, 1, 1,\n",
       "       0, 0, 0, 0, 1, 0, 0, 1, 0, 0, 0, 1, 1, 0, 0, 0, 0, 0, 0, 1, 0, 0,\n",
       "       1, 1, 0, 0, 0, 1, 1, 0, 0, 1, 1, 0, 1, 1, 0, 0, 0, 0, 0, 0, 0, 0,\n",
       "       0, 0, 0, 1, 1, 1, 0, 0, 0, 1, 1, 0, 1, 0, 0, 0, 1, 1, 0, 0, 1, 0],\n",
       "      dtype=int64)"
      ]
     },
     "execution_count": 38,
     "metadata": {},
     "output_type": "execute_result"
    }
   ],
   "source": [
    "pred"
   ]
  },
  {
   "cell_type": "code",
   "execution_count": 39,
   "id": "fe2be6f4",
   "metadata": {
    "ExecuteTime": {
     "end_time": "2023-11-08T06:38:21.063007Z",
     "start_time": "2023-11-08T06:38:20.971881Z"
    }
   },
   "outputs": [
    {
     "data": {
      "text/html": [
       "<div>\n",
       "<style scoped>\n",
       "    .dataframe tbody tr th:only-of-type {\n",
       "        vertical-align: middle;\n",
       "    }\n",
       "\n",
       "    .dataframe tbody tr th {\n",
       "        vertical-align: top;\n",
       "    }\n",
       "\n",
       "    .dataframe thead th {\n",
       "        text-align: right;\n",
       "    }\n",
       "</style>\n",
       "<table border=\"1\" class=\"dataframe\">\n",
       "  <thead>\n",
       "    <tr style=\"text-align: right;\">\n",
       "      <th>임계값</th>\n",
       "      <th>0.30</th>\n",
       "      <th>0.33</th>\n",
       "      <th>0.36</th>\n",
       "      <th>0.39</th>\n",
       "      <th>0.42</th>\n",
       "      <th>0.45</th>\n",
       "      <th>0.48</th>\n",
       "      <th>0.51</th>\n",
       "    </tr>\n",
       "  </thead>\n",
       "  <tbody>\n",
       "    <tr>\n",
       "      <th>정확도</th>\n",
       "      <td>0.7273</td>\n",
       "      <td>0.7468</td>\n",
       "      <td>0.7597</td>\n",
       "      <td>0.7532</td>\n",
       "      <td>0.7597</td>\n",
       "      <td>0.7662</td>\n",
       "      <td>0.7857</td>\n",
       "      <td>0.7987</td>\n",
       "    </tr>\n",
       "    <tr>\n",
       "      <th>정밀도</th>\n",
       "      <td>0.5833</td>\n",
       "      <td>0.6154</td>\n",
       "      <td>0.6491</td>\n",
       "      <td>0.6481</td>\n",
       "      <td>0.6667</td>\n",
       "      <td>0.6800</td>\n",
       "      <td>0.7234</td>\n",
       "      <td>0.7556</td>\n",
       "    </tr>\n",
       "    <tr>\n",
       "      <th>재현율</th>\n",
       "      <td>0.7778</td>\n",
       "      <td>0.7407</td>\n",
       "      <td>0.6852</td>\n",
       "      <td>0.6481</td>\n",
       "      <td>0.6296</td>\n",
       "      <td>0.6296</td>\n",
       "      <td>0.6296</td>\n",
       "      <td>0.6296</td>\n",
       "    </tr>\n",
       "    <tr>\n",
       "      <th>f1스코어</th>\n",
       "      <td>0.6667</td>\n",
       "      <td>0.6723</td>\n",
       "      <td>0.6667</td>\n",
       "      <td>0.6481</td>\n",
       "      <td>0.6476</td>\n",
       "      <td>0.6538</td>\n",
       "      <td>0.6733</td>\n",
       "      <td>0.6869</td>\n",
       "    </tr>\n",
       "    <tr>\n",
       "      <th>auc</th>\n",
       "      <td>0.7389</td>\n",
       "      <td>0.7454</td>\n",
       "      <td>0.7426</td>\n",
       "      <td>0.7291</td>\n",
       "      <td>0.7298</td>\n",
       "      <td>0.7348</td>\n",
       "      <td>0.7498</td>\n",
       "      <td>0.7598</td>\n",
       "    </tr>\n",
       "  </tbody>\n",
       "</table>\n",
       "</div>"
      ],
      "text/plain": [
       "임계값      0.30    0.33    0.36    0.39    0.42    0.45    0.48    0.51\n",
       "정확도    0.7273  0.7468  0.7597  0.7532  0.7597  0.7662  0.7857  0.7987\n",
       "정밀도    0.5833  0.6154  0.6491  0.6481  0.6667  0.6800  0.7234  0.7556\n",
       "재현율    0.7778  0.7407  0.6852  0.6481  0.6296  0.6296  0.6296  0.6296\n",
       "f1스코어  0.6667  0.6723  0.6667  0.6481  0.6476  0.6538  0.6733  0.6869\n",
       "auc    0.7389  0.7454  0.7426  0.7291  0.7298  0.7348  0.7498  0.7598"
      ]
     },
     "execution_count": 39,
     "metadata": {},
     "output_type": "execute_result"
    }
   ],
   "source": [
    "get_clf(test_target , pred_proba[:,1].reshape(-1,1) , cut_off , f1_show = True , auc_show = True)"
   ]
  },
  {
   "cell_type": "code",
   "execution_count": 40,
   "id": "76aed20a",
   "metadata": {
    "ExecuteTime": {
     "end_time": "2023-11-08T06:38:21.078797Z",
     "start_time": "2023-11-08T06:38:21.065084Z"
    }
   },
   "outputs": [
    {
     "name": "stdout",
     "output_type": "stream",
     "text": [
      "혼동 행렬\n",
      "         예측값(N)  예측값(P)\n",
      "실제값(N)      88      12\n",
      "실제값(P)      20      34\n",
      "\n",
      "\n",
      "정확도 : 0.7922 , 정밀도 : 0.7391 , 재현율 : 0.6296 , f1 스코어 : 0.6800 , roc곡선 : 0.8130\n"
     ]
    }
   ],
   "source": [
    "get(test_target , pred , pred_proba[:,1])"
   ]
  },
  {
   "cell_type": "code",
   "execution_count": 41,
   "id": "14c498c1",
   "metadata": {
    "ExecuteTime": {
     "end_time": "2023-11-08T06:38:21.094286Z",
     "start_time": "2023-11-08T06:38:21.086306Z"
    }
   },
   "outputs": [
    {
     "data": {
      "text/plain": [
       "array([0, 0, 0, 1, 0, 1, 1, 0, 0, 0, 1, 0, 0, 0, 0, 0, 1, 0, 0, 1, 0, 0,\n",
       "       0, 0, 0, 0, 1, 1, 0, 1, 0, 0, 0, 0, 0, 1, 0, 0, 1, 1, 0, 0, 1, 0,\n",
       "       0, 0, 1, 0, 0, 0, 0, 1, 1, 0, 0, 0, 0, 0, 0, 0, 0, 1, 0, 1, 0, 0,\n",
       "       0, 1, 0, 1, 0, 0, 0, 0, 1, 0, 0, 0, 0, 0, 0, 0, 1, 0, 0, 0, 1, 1,\n",
       "       0, 0, 0, 0, 1, 0, 0, 1, 0, 0, 0, 1, 1, 0, 0, 0, 0, 0, 0, 1, 0, 0,\n",
       "       1, 1, 0, 0, 0, 1, 1, 0, 0, 1, 1, 0, 1, 1, 0, 0, 0, 0, 0, 0, 0, 0,\n",
       "       0, 0, 0, 1, 1, 1, 0, 0, 0, 1, 1, 0, 1, 0, 0, 0, 1, 1, 0, 0, 1, 0],\n",
       "      dtype=int64)"
      ]
     },
     "execution_count": 41,
     "metadata": {},
     "output_type": "execute_result"
    }
   ],
   "source": [
    "pred"
   ]
  },
  {
   "cell_type": "code",
   "execution_count": 42,
   "id": "b9e0668c",
   "metadata": {
    "ExecuteTime": {
     "end_time": "2023-11-08T06:38:21.110239Z",
     "start_time": "2023-11-08T06:38:21.095094Z"
    }
   },
   "outputs": [
    {
     "name": "stdout",
     "output_type": "stream",
     "text": [
      "혼동 행렬\n",
      "         예측값(N)  예측값(P)\n",
      "실제값(N)      88      12\n",
      "실제값(P)      20      34\n",
      "\n",
      "\n",
      "정확도 : 0.7922 , 정밀도 : 0.7391 , 재현율 : 0.6296 , f1 스코어 : 0.6800 , roc곡선 : 0.1870\n"
     ]
    }
   ],
   "source": [
    "get(test_target , pred , pred_proba[:,0])"
   ]
  },
  {
   "cell_type": "code",
   "execution_count": 47,
   "id": "2aafde38",
   "metadata": {
    "ExecuteTime": {
     "end_time": "2023-11-08T06:39:41.094895Z",
     "start_time": "2023-11-08T06:39:41.080085Z"
    }
   },
   "outputs": [
    {
     "data": {
      "text/html": [
       "<style>#sk-container-id-5 {color: black;}#sk-container-id-5 pre{padding: 0;}#sk-container-id-5 div.sk-toggleable {background-color: white;}#sk-container-id-5 label.sk-toggleable__label {cursor: pointer;display: block;width: 100%;margin-bottom: 0;padding: 0.3em;box-sizing: border-box;text-align: center;}#sk-container-id-5 label.sk-toggleable__label-arrow:before {content: \"▸\";float: left;margin-right: 0.25em;color: #696969;}#sk-container-id-5 label.sk-toggleable__label-arrow:hover:before {color: black;}#sk-container-id-5 div.sk-estimator:hover label.sk-toggleable__label-arrow:before {color: black;}#sk-container-id-5 div.sk-toggleable__content {max-height: 0;max-width: 0;overflow: hidden;text-align: left;background-color: #f0f8ff;}#sk-container-id-5 div.sk-toggleable__content pre {margin: 0.2em;color: black;border-radius: 0.25em;background-color: #f0f8ff;}#sk-container-id-5 input.sk-toggleable__control:checked~div.sk-toggleable__content {max-height: 200px;max-width: 100%;overflow: auto;}#sk-container-id-5 input.sk-toggleable__control:checked~label.sk-toggleable__label-arrow:before {content: \"▾\";}#sk-container-id-5 div.sk-estimator input.sk-toggleable__control:checked~label.sk-toggleable__label {background-color: #d4ebff;}#sk-container-id-5 div.sk-label input.sk-toggleable__control:checked~label.sk-toggleable__label {background-color: #d4ebff;}#sk-container-id-5 input.sk-hidden--visually {border: 0;clip: rect(1px 1px 1px 1px);clip: rect(1px, 1px, 1px, 1px);height: 1px;margin: -1px;overflow: hidden;padding: 0;position: absolute;width: 1px;}#sk-container-id-5 div.sk-estimator {font-family: monospace;background-color: #f0f8ff;border: 1px dotted black;border-radius: 0.25em;box-sizing: border-box;margin-bottom: 0.5em;}#sk-container-id-5 div.sk-estimator:hover {background-color: #d4ebff;}#sk-container-id-5 div.sk-parallel-item::after {content: \"\";width: 100%;border-bottom: 1px solid gray;flex-grow: 1;}#sk-container-id-5 div.sk-label:hover label.sk-toggleable__label {background-color: #d4ebff;}#sk-container-id-5 div.sk-serial::before {content: \"\";position: absolute;border-left: 1px solid gray;box-sizing: border-box;top: 0;bottom: 0;left: 50%;z-index: 0;}#sk-container-id-5 div.sk-serial {display: flex;flex-direction: column;align-items: center;background-color: white;padding-right: 0.2em;padding-left: 0.2em;position: relative;}#sk-container-id-5 div.sk-item {position: relative;z-index: 1;}#sk-container-id-5 div.sk-parallel {display: flex;align-items: stretch;justify-content: center;background-color: white;position: relative;}#sk-container-id-5 div.sk-item::before, #sk-container-id-5 div.sk-parallel-item::before {content: \"\";position: absolute;border-left: 1px solid gray;box-sizing: border-box;top: 0;bottom: 0;left: 50%;z-index: -1;}#sk-container-id-5 div.sk-parallel-item {display: flex;flex-direction: column;z-index: 1;position: relative;background-color: white;}#sk-container-id-5 div.sk-parallel-item:first-child::after {align-self: flex-end;width: 50%;}#sk-container-id-5 div.sk-parallel-item:last-child::after {align-self: flex-start;width: 50%;}#sk-container-id-5 div.sk-parallel-item:only-child::after {width: 0;}#sk-container-id-5 div.sk-dashed-wrapped {border: 1px dashed gray;margin: 0 0.4em 0.5em 0.4em;box-sizing: border-box;padding-bottom: 0.4em;background-color: white;}#sk-container-id-5 div.sk-label label {font-family: monospace;font-weight: bold;display: inline-block;line-height: 1.2em;}#sk-container-id-5 div.sk-label-container {text-align: center;}#sk-container-id-5 div.sk-container {/* jupyter's `normalize.less` sets `[hidden] { display: none; }` but bootstrap.min.css set `[hidden] { display: none !important; }` so we also need the `!important` here to be able to override the default hidden behavior on the sphinx rendered scikit-learn.org. See: https://github.com/scikit-learn/scikit-learn/issues/21755 */display: inline-block !important;position: relative;}#sk-container-id-5 div.sk-text-repr-fallback {display: none;}</style><div id=\"sk-container-id-5\" class=\"sk-top-container\"><div class=\"sk-text-repr-fallback\"><pre>LogisticRegression()</pre><b>In a Jupyter environment, please rerun this cell to show the HTML representation or trust the notebook. <br />On GitHub, the HTML representation is unable to render, please try loading this page with nbviewer.org.</b></div><div class=\"sk-container\" hidden><div class=\"sk-item\"><div class=\"sk-estimator sk-toggleable\"><input class=\"sk-toggleable__control sk-hidden--visually\" id=\"sk-estimator-id-5\" type=\"checkbox\" checked><label for=\"sk-estimator-id-5\" class=\"sk-toggleable__label sk-toggleable__label-arrow\">LogisticRegression</label><div class=\"sk-toggleable__content\"><pre>LogisticRegression()</pre></div></div></div></div></div>"
      ],
      "text/plain": [
       "LogisticRegression()"
      ]
     },
     "execution_count": 47,
     "metadata": {},
     "output_type": "execute_result"
    }
   ],
   "source": [
    "lr = LogisticRegression()\n",
    "lr.fit(train_scaled , train_target)"
   ]
  },
  {
   "cell_type": "code",
   "execution_count": 48,
   "id": "41829a04",
   "metadata": {
    "ExecuteTime": {
     "end_time": "2023-11-08T06:39:43.520800Z",
     "start_time": "2023-11-08T06:39:43.507317Z"
    }
   },
   "outputs": [],
   "source": [
    "fper , tper , thresholds = roc_curve(test_target , lr.predict(test_scaled))"
   ]
  },
  {
   "cell_type": "code",
   "execution_count": 50,
   "id": "ec6c9dd3",
   "metadata": {
    "ExecuteTime": {
     "end_time": "2023-11-08T06:40:04.952861Z",
     "start_time": "2023-11-08T06:40:04.931306Z"
    }
   },
   "outputs": [
    {
     "data": {
      "text/plain": [
       "0.7548148148148149"
      ]
     },
     "execution_count": 50,
     "metadata": {},
     "output_type": "execute_result"
    }
   ],
   "source": [
    "roc_auc_score(test_target , lr.predict(test_scaled))"
   ]
  },
  {
   "cell_type": "code",
   "execution_count": 52,
   "id": "94580c3a",
   "metadata": {
    "ExecuteTime": {
     "end_time": "2023-11-08T06:41:14.124892Z",
     "start_time": "2023-11-08T06:41:14.113979Z"
    }
   },
   "outputs": [
    {
     "data": {
      "text/plain": [
       "array([inf,  1.,  0.])"
      ]
     },
     "execution_count": 52,
     "metadata": {},
     "output_type": "execute_result"
    }
   ],
   "source": [
    "thresholds"
   ]
  },
  {
   "cell_type": "code",
   "execution_count": 51,
   "id": "d72d5bf8",
   "metadata": {
    "ExecuteTime": {
     "end_time": "2023-11-08T06:40:11.364787Z",
     "start_time": "2023-11-08T06:40:11.246792Z"
    }
   },
   "outputs": [
    {
     "data": {
      "text/plain": [
       "[<matplotlib.lines.Line2D at 0x276787bc490>]"
      ]
     },
     "execution_count": 51,
     "metadata": {},
     "output_type": "execute_result"
    },
    {
     "data": {
      "image/png": "[encoded data removed]",
      "text/plain": [
       "<Figure size 640x480 with 1 Axes>"
      ]
     },
     "metadata": {},
     "output_type": "display_data"
    }
   ],
   "source": [
    "plt.plot(fper , tper)"
   ]
  },
  {
   "cell_type": "code",
   "execution_count": 54,
   "id": "d8d522c2",
   "metadata": {
    "ExecuteTime": {
     "end_time": "2023-11-08T06:43:46.952252Z",
     "start_time": "2023-11-08T06:43:46.938290Z"
    }
   },
   "outputs": [],
   "source": [
    "pred_proba = lr.predict_proba(test_scaled)[:, 1]\n",
    "\n",
    "# roc_curve 함수를 사용하여 FPR, TPR, thresholds를 얻음\n",
    "fper, tper, thresholds = roc_curve(test_target, pred_proba)"
   ]
  },
  {
   "cell_type": "code",
   "execution_count": 56,
   "id": "e4ce9ac6",
   "metadata": {
    "ExecuteTime": {
     "end_time": "2023-11-08T06:43:55.363275Z",
     "start_time": "2023-11-08T06:43:55.246082Z"
    }
   },
   "outputs": [
    {
     "data": {
      "text/plain": [
       "[<matplotlib.lines.Line2D at 0x276793aa2b0>]"
      ]
     },
     "execution_count": 56,
     "metadata": {},
     "output_type": "execute_result"
    },
    {
     "data": {
      "image/png": "[encoded data removed]",
      "text/plain": [
       "<Figure size 640x480 with 1 Axes>"
      ]
     },
     "metadata": {},
     "output_type": "display_data"
    }
   ],
   "source": [
    "plt.plot(fper , tper)"
   ]
  },
  {
   "cell_type": "code",
   "execution_count": null,
   "id": "1efdc728",
   "metadata": {},
   "outputs": [],
   "source": []
  }
 ],
 "metadata": {
  "kernelspec": {
   "display_name": "Python 3 (ipykernel)",
   "language": "python",
   "name": "python3"
  },
  "language_info": {
   "codemirror_mode": {
    "name": "ipython",
    "version": 3
   },
   "file_extension": ".py",
   "mimetype": "text/x-python",
   "name": "python",
   "nbconvert_exporter": "python",
   "pygments_lexer": "ipython3",
   "version": "3.8.17"
  },
  "toc": {
   "base_numbering": 1,
   "nav_menu": {},
   "number_sections": true,
   "sideBar": true,
   "skip_h1_title": false,
   "title_cell": "Table of Contents",
   "title_sidebar": "Contents",
   "toc_cell": false,
   "toc_position": {},
   "toc_section_display": true,
   "toc_window_display": false
  }
 },
 "nbformat": 4,
 "nbformat_minor": 5
}
