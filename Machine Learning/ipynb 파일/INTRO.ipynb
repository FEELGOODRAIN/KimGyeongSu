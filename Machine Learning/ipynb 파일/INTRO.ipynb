{
 "cells": [
  {
   "cell_type": "code",
   "execution_count": 1,
   "id": "804a0718",
   "metadata": {
    "ExecuteTime": {
     "end_time": "2023-10-23T00:06:55.789199Z",
     "start_time": "2023-10-23T00:06:52.930140Z"
    }
   },
   "outputs": [],
   "source": [
    "import numpy as np\n",
    "import pandas as pd\n",
    "import matplotlib as mpl\n",
    "import matplotlib.pyplot as plt\n",
    "import seaborn as sns\n",
    "%matplotlib inline\n",
    "#한글패치\n",
    "import platform\n",
    "from matplotlib import font_manager , rc\n",
    "\n",
    "if platform.system() == 'Darwin':\n",
    "  rc('font' , family = 'AppleGothic')\n",
    "elif platform.system() == 'Windows':\n",
    "  path = 'C:/Windows/Fonts/malgun.ttf'\n",
    "  font_name = font_manager.FontProperties(fname = path).get_name()\n",
    "  rc('font' , family = font_name)\n",
    "else:\n",
    "  print('모름')\n",
    "plt.rcParams['axes.unicode_minus'] = False\n",
    "import warnings\n",
    "warnings.filterwarnings('ignore')"
   ]
  },
  {
   "cell_type": "markdown",
   "id": "6364e36f",
   "metadata": {},
   "source": [
    "# Regression vs Classification\n",
    "   **회귀(Regression)**<br>\n",
    "       - 입력값 : 연속값 , 이산값 등 모든 데이터<br>\n",
    "       - 출력값 : 연속값(실수형)<br>\n",
    "       - 모델형태 : 일반적인 함수 형태(y - w_1x + w_2 , y = ax + b)<br>\n",
    "    \n",
    "   **분류(Classification)**<br>\n",
    "       - 입력값 : 연속값(실수형) , 이산값(범주형) 등 모든 데이터<br>\n",
    "       - 출력값 : 이산값(범주형)<br>\n",
    "       - 모델형태 : 이진분류라면 시그모이드함수 , 다중분류면 소프트맥스함수 필요<br>"
   ]
  },
  {
   "cell_type": "markdown",
   "id": "dba5f92d",
   "metadata": {},
   "source": [
    "## 데이터의 구성\n",
    "   - 데이터는 피처(feature)와 라벨(label)로 구성\n",
    "       - 피처 : 독립변수\n",
    "       - 라벨 : 종속변수\n",
    "   - 라벨은 y로 표시 , 라벨의 유무에 따라 지도학습 , 비지도학습으로 나뉨\n",
    "    \n",
    "## Feature\n",
    "   - 데이터의 특징 혹은 항목을 의미"
   ]
  },
  {
   "cell_type": "markdown",
   "id": "4ea1c691",
   "metadata": {},
   "source": [
    "## Parameter(파라미터 , 가중치)\n",
    "   - 주어진 데이터( 입력값 ) 말고 , 모델이 가지고 있는 학습 가능한 파라미터\n",
    "   \n",
    "## HyperParameter(하이퍼파라미터)\n",
    "   - 모델 학습에 있어 , 인간이 정해놓는 변수\n",
    "   - 학습률 , 배치 크기 등\n",
    "   \n",
    "## Input(입력값) vs Output(출력값)\n",
    "   - Input : 모델에 입력되는 값으로 데이터의 피처 부분(x)\n",
    "   - Output : 모델로부터 출력되는 예측값(y)"
   ]
  },
  {
   "cell_type": "code",
   "execution_count": null,
   "id": "7779124b",
   "metadata": {},
   "outputs": [],
   "source": []
  }
 ],
 "metadata": {
  "kernelspec": {
   "display_name": "Python 3 (ipykernel)",
   "language": "python",
   "name": "python3"
  },
  "language_info": {
   "codemirror_mode": {
    "name": "ipython",
    "version": 3
   },
   "file_extension": ".py",
   "mimetype": "text/x-python",
   "name": "python",
   "nbconvert_exporter": "python",
   "pygments_lexer": "ipython3",
   "version": "3.8.17"
  },
  "toc": {
   "base_numbering": 1,
   "nav_menu": {},
   "number_sections": true,
   "sideBar": true,
   "skip_h1_title": false,
   "title_cell": "Table of Contents",
   "title_sidebar": "Contents",
   "toc_cell": false,
   "toc_position": {},
   "toc_section_display": true,
   "toc_window_display": false
  }
 },
 "nbformat": 4,
 "nbformat_minor": 5
}
