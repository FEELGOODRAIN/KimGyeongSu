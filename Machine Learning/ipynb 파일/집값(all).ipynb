{
 "cells": [
  {
   "cell_type": "code",
   "execution_count": 1,
   "id": "89ec77ed",
   "metadata": {
    "ExecuteTime": {
     "end_time": "2023-11-01T05:42:18.762908Z",
     "start_time": "2023-11-01T05:42:17.195692Z"
    }
   },
   "outputs": [],
   "source": [
    "import numpy as np\n",
    "import pandas as pd\n",
    "import matplotlib as mpl\n",
    "import matplotlib.pyplot as plt\n",
    "import mglearn\n",
    "%matplotlib inline\n",
    "import seaborn as sns\n",
    "import platform\n",
    "from matplotlib import font_manager , rc\n",
    "\n",
    "if platform.system() == 'Darwin':\n",
    "  rc('font' , family = 'AppleGothic')\n",
    "elif platform.system() == 'Windows':\n",
    "  path = 'C:/Windows/Fonts/malgun.ttf'\n",
    "  font_name = font_manager.FontProperties(fname = path).get_name()\n",
    "  rc('font' , family = font_name)\n",
    "else:\n",
    "  print('모름')\n",
    "plt.rcParams['axes.unicode_minus'] = False\n",
    "import warnings\n",
    "warnings.filterwarnings('ignore')\n",
    "from sklearn.metrics import accuracy_score , precision_score , recall_score , roc_auc_score , f1_score , confusion_matrix , roc_curve , precision_recall_curve"
   ]
  },
  {
   "cell_type": "code",
   "execution_count": 2,
   "id": "308b4e6e",
   "metadata": {
    "ExecuteTime": {
     "end_time": "2023-11-01T05:42:18.778133Z",
     "start_time": "2023-11-01T05:42:18.764954Z"
    }
   },
   "outputs": [],
   "source": [
    "path = 'C:/k_digital/machine/source/house-prices-advanced-regression-techniques'"
   ]
  },
  {
   "cell_type": "code",
   "execution_count": 27,
   "id": "f038bc1b",
   "metadata": {
    "ExecuteTime": {
     "end_time": "2023-11-01T05:50:45.822387Z",
     "start_time": "2023-11-01T05:50:45.786459Z"
    }
   },
   "outputs": [],
   "source": [
    "house = pd.read_csv(path + '/train.csv')\n",
    "test = pd.read_csv(path + '/test.csv')\n",
    "pred = pd.read_csv(path + '/sample_submission.csv')"
   ]
  },
  {
   "cell_type": "markdown",
   "id": "e8bfe375",
   "metadata": {
    "ExecuteTime": {
     "end_time": "2023-11-01T05:42:18.839994Z",
     "start_time": "2023-11-01T05:42:18.826933Z"
    }
   },
   "source": [
    "SalePrice: 부동산의 판매 가격 (예측하려는 타겟 변수)<br>\n",
    "MSSubClass: 주택의 건물 유형을 나타내는 숫자 코드<br>\n",
    "MSZoning: 주택이 위치한 지역의 일반적인 분류<br>\n",
    "LotFrontage: 부동산과 연결된 거리의 선형 피트<br>\n",
    "LotArea: 부지의 크기 (평방 피트)<br>\n",
    "Street: 도로 접근 유형<br>\n",
    "Alley: 골목 접근 유형<br>\n",
    "LotShape: 부지의 일반적인 모양<br>\n",
    "LandContour: 부동산의 평탄도<br>\n",
    "Utilities: 사용 가능한 유틸리티 유형<br>\n",
    "LotConfig: 부지 구성<br>\n",
    "LandSlope: 부지 경사<br>\n",
    "Neighborhood: 에임스시 내의 물리적 위치<br>\n",
    "Condition1, Condition2: 주변 도로나 철도와의 근접성<br>\n",
    "BldgType: 주거 형태<br>\n",
    "HouseStyle: 주거 스타일<br>\n",
    "OverallQual: 전체 소재 및 마감 품질에 대한 평가<br>\n",
    "OverallCond: 전반적인 상태 등급<br>\n",
    "YearBuilt: 건설 연도<br>\n",
    "YearRemodAdd: 리모델링 연도<br>\n",
    "RoofStyle: 지붕 유형<br>\n",
    "RoofMatl: 지붕 재료<br>\n",
    "Exterior1st, Exterior2nd: 주택 외관<br>\n",
    "MasVnrType: 벽돌 베니어 유형<br>\n",
    "MasVnrArea: 벽돌 베니어 면적 (평방 피트)<br>\n",
    "ExterQual: 외부 소재 품질<br>\n",
    "ExterCond: 외부 소재의 현황<br>\n",
    "Foundation: 주택 기초 유형<br>\n",
    "BsmtQual: 지하실 높이<br>\n",
    "BsmtCond: 지하실 일반 상태<br>\n",
    "BsmtExposure: 워크아웃 혹은 정원 수준의 지하 벽<br>\n",
    "BsmtFinType1, BsmtFinType2: 완성된 지하실의 품질<br>\n",
    "BsmtFinSF1, BsmtFinSF2: 유형 1 및 유형 2 완성된 평방 피트<br>\n",
    "BsmtUnfSF: 미완성된 지하실 면적<br>\n",
    "TotalBsmtSF: 지하실 총 면적<br>\n",
    "Heating: 난방 유형<br>\n",
    "HeatingQC: 난방 품질 및 상태<br>\n",
    "CentralAir: 중앙 에어컨<br>\n",
    "Electrical: 전기 시스템<br>\n",
    "1stFlrSF, 2ndFlrSF: 1층 및 2층 면적<br>\n",
    "LowQualFinSF: 저품질 마감 평방 피트(모든 층)<br>\n",
    "GrLivArea: 지상 생활 면적 면적(지하실 제외)<br>\n",
    "BsmtFullBath, BsmtHalfBath: 지하 욕실 개수<br>\n",
    "FullBath, HalfBath: 지상 욕실 개수<br>\n",
    "Bedroom: 지하실 위의 침실 개수<br>\n",
    "Kitchen: 주방 개수<br>\n",
    "KitchenQual: 주방 품질<br>\n",
    "TotRmsAbvGrd: 지하실을 제외한 방의 총 개수<br>\n",
    "Functional: 주택 기능성 평가<br>\n",
    "Fireplaces: 벽난로 수<br>\n",
    "FireplaceQu: 벽난로 품질<br>\n",
    "GarageType: 차고 위치<br>\n",
    "GarageYrBlt: 차고 건설 연도<br>\n",
    "GarageFinish: 차고 내부 마감<br>\n",
    "GarageCars: 차량 수용 가능 차고 크기<br>\n",
    "GarageArea: 차고 크기(평방 피트)<br>\n",
    "GarageQual: 차고 품질<br>\n",
    "GarageCond: 차고 상태<br>\n",
    "PavedDrive: 포장된 차도<br>\n",
    "WoodDeckSF: 목재 데크 면적(평방 피트)<br>\n",
    "OpenPorchSF, EnclosedPorch, 3SsnPorch, ScreenPorch: 현관의 면적<br>\n",
    "PoolArea: 수영장 면적(평방 피트)<br>\n",
    "PoolQC: 수영장 품질<br>\n",
    "Fence: 울타리 품질<br>\n",
    "MiscFeature: 다른 카테고리에 포함되지 않는 기타 기능<br>\n",
    "MiscVal: 다른 카테고리에 포함되지 않는 기타 기능의 가치<br>\n",
    "MoSold: 판매 월<br>\n",
    "YrSold: 판매 연도<br>\n",
    "SaleType: 판매 유형<br>\n",
    "SaleCondition: 판매 조건<br>\n"
   ]
  },
  {
   "cell_type": "code",
   "execution_count": 166,
   "id": "c50d5947",
   "metadata": {
    "ExecuteTime": {
     "end_time": "2023-11-01T07:05:25.327786Z",
     "start_time": "2023-11-01T07:05:25.307840Z"
    }
   },
   "outputs": [
    {
     "data": {
      "text/plain": [
       "Index(['Id', 'MSSubClass', 'MSZoning', 'LotFrontage', 'LotArea', 'Street',\n",
       "       'LotShape', 'LandContour', 'Utilities', 'LotConfig', 'LandSlope',\n",
       "       'Neighborhood', 'Condition1', 'Condition2', 'BldgType', 'HouseStyle',\n",
       "       'OverallQual', 'OverallCond', 'YearBuilt', 'YearRemodAdd', 'RoofStyle',\n",
       "       'RoofMatl', 'Exterior1st', 'Exterior2nd', 'MasVnrType', 'MasVnrArea',\n",
       "       'ExterQual', 'ExterCond', 'Foundation', 'BsmtQual', 'BsmtCond',\n",
       "       'BsmtExposure', 'BsmtFinType1', 'BsmtFinSF1', 'BsmtFinType2',\n",
       "       'BsmtFinSF2', 'BsmtUnfSF', 'TotalBsmtSF', 'Heating', 'HeatingQC',\n",
       "       'CentralAir', 'Electrical', '1stFlrSF', '2ndFlrSF', 'LowQualFinSF',\n",
       "       'GrLivArea', 'BsmtFullBath', 'BsmtHalfBath', 'FullBath', 'HalfBath',\n",
       "       'BedroomAbvGr', 'KitchenAbvGr', 'KitchenQual', 'TotRmsAbvGrd',\n",
       "       'Functional', 'Fireplaces', 'FireplaceQu', 'GarageType', 'GarageYrBlt',\n",
       "       'GarageFinish', 'GarageCars', 'GarageArea', 'GarageQual', 'GarageCond',\n",
       "       'PavedDrive', 'WoodDeckSF', 'OpenPorchSF', 'EnclosedPorch', '3SsnPorch',\n",
       "       'ScreenPorch', 'PoolArea', 'PoolQC', 'Fence', 'MiscFeature', 'MiscVal',\n",
       "       'MoSold', 'YrSold', 'SaleType', 'SaleCondition', 'SalePrice'],\n",
       "      dtype='object')"
      ]
     },
     "execution_count": 166,
     "metadata": {},
     "output_type": "execute_result"
    }
   ],
   "source": [
    "house.columns"
   ]
  },
  {
   "cell_type": "code",
   "execution_count": 167,
   "id": "07bf2c1a",
   "metadata": {
    "ExecuteTime": {
     "end_time": "2023-11-01T07:05:29.002295Z",
     "start_time": "2023-11-01T07:05:28.982613Z"
    }
   },
   "outputs": [
    {
     "data": {
      "text/plain": [
       "Index(['Id', 'MSSubClass', 'MSZoning', 'LotFrontage', 'LotArea', 'Street',\n",
       "       'LotShape', 'LandContour', 'Utilities', 'LotConfig', 'LandSlope',\n",
       "       'Neighborhood', 'Condition1', 'Condition2', 'BldgType', 'HouseStyle',\n",
       "       'OverallQual', 'OverallCond', 'YearBuilt', 'YearRemodAdd', 'RoofStyle',\n",
       "       'RoofMatl', 'Exterior1st', 'Exterior2nd', 'MasVnrType', 'MasVnrArea',\n",
       "       'ExterQual', 'ExterCond', 'Foundation', 'BsmtQual', 'BsmtCond',\n",
       "       'BsmtExposure', 'BsmtFinType1', 'BsmtFinSF1', 'BsmtFinType2',\n",
       "       'BsmtFinSF2', 'BsmtUnfSF', 'TotalBsmtSF', 'Heating', 'HeatingQC',\n",
       "       'CentralAir', 'Electrical', '1stFlrSF', '2ndFlrSF', 'LowQualFinSF',\n",
       "       'GrLivArea', 'BsmtFullBath', 'BsmtHalfBath', 'FullBath', 'HalfBath',\n",
       "       'BedroomAbvGr', 'KitchenAbvGr', 'KitchenQual', 'TotRmsAbvGrd',\n",
       "       'Functional', 'Fireplaces', 'FireplaceQu', 'GarageType', 'GarageYrBlt',\n",
       "       'GarageFinish', 'GarageCars', 'GarageArea', 'GarageQual', 'GarageCond',\n",
       "       'PavedDrive', 'WoodDeckSF', 'OpenPorchSF', 'EnclosedPorch', '3SsnPorch',\n",
       "       'ScreenPorch', 'PoolArea', 'PoolQC', 'Fence', 'MiscFeature', 'MiscVal',\n",
       "       'MoSold', 'YrSold', 'SaleType', 'SaleCondition'],\n",
       "      dtype='object')"
      ]
     },
     "execution_count": 167,
     "metadata": {},
     "output_type": "execute_result"
    }
   ],
   "source": [
    "test.columns"
   ]
  },
  {
   "cell_type": "code",
   "execution_count": 168,
   "id": "3376120e",
   "metadata": {
    "ExecuteTime": {
     "end_time": "2023-11-01T07:08:34.564745Z",
     "start_time": "2023-11-01T07:08:34.556002Z"
    }
   },
   "outputs": [],
   "source": [
    "house = house.iloc[:,:-1]"
   ]
  },
  {
   "cell_type": "code",
   "execution_count": 169,
   "id": "e55f7b01",
   "metadata": {
    "ExecuteTime": {
     "end_time": "2023-11-01T07:08:41.881954Z",
     "start_time": "2023-11-01T07:08:41.869624Z"
    }
   },
   "outputs": [
    {
     "data": {
      "text/plain": [
       "((1460, 79), (1459, 79))"
      ]
     },
     "execution_count": 169,
     "metadata": {},
     "output_type": "execute_result"
    }
   ],
   "source": [
    "house.shape , test.shape"
   ]
  },
  {
   "cell_type": "code",
   "execution_count": null,
   "id": "57e3da3d",
   "metadata": {},
   "outputs": [],
   "source": []
  },
  {
   "cell_type": "code",
   "execution_count": 170,
   "id": "eacb106f",
   "metadata": {
    "ExecuteTime": {
     "end_time": "2023-11-01T07:08:48.066098Z",
     "start_time": "2023-11-01T07:08:48.050394Z"
    }
   },
   "outputs": [],
   "source": [
    "all_data=pd.concat((house, test), axis=0)"
   ]
  },
  {
   "cell_type": "code",
   "execution_count": 172,
   "id": "9fdfe52b",
   "metadata": {
    "ExecuteTime": {
     "end_time": "2023-11-01T07:10:07.467651Z",
     "start_time": "2023-11-01T07:10:07.462651Z"
    }
   },
   "outputs": [],
   "source": [
    "data = all_data"
   ]
  },
  {
   "cell_type": "code",
   "execution_count": 174,
   "id": "9ca714dc",
   "metadata": {
    "ExecuteTime": {
     "end_time": "2023-11-01T07:10:18.916194Z",
     "start_time": "2023-11-01T07:10:18.888814Z"
    }
   },
   "outputs": [
    {
     "name": "stdout",
     "output_type": "stream",
     "text": [
      "<class 'pandas.core.frame.DataFrame'>\n",
      "Int64Index: 2919 entries, 0 to 1458\n",
      "Data columns (total 79 columns):\n",
      " #   Column         Non-Null Count  Dtype  \n",
      "---  ------         --------------  -----  \n",
      " 0   Id             2919 non-null   int64  \n",
      " 1   MSSubClass     2919 non-null   int64  \n",
      " 2   MSZoning       2919 non-null   int32  \n",
      " 3   LotFrontage    2919 non-null   float64\n",
      " 4   LotArea        2919 non-null   int64  \n",
      " 5   Street         2919 non-null   int32  \n",
      " 6   LotShape       2919 non-null   int32  \n",
      " 7   LandContour    2919 non-null   object \n",
      " 8   Utilities      2917 non-null   object \n",
      " 9   LotConfig      2919 non-null   object \n",
      " 10  LandSlope      2919 non-null   object \n",
      " 11  Neighborhood   2919 non-null   object \n",
      " 12  Condition1     2919 non-null   int32  \n",
      " 13  Condition2     2919 non-null   int32  \n",
      " 14  BldgType       2919 non-null   object \n",
      " 15  HouseStyle     2919 non-null   object \n",
      " 16  OverallQual    2919 non-null   int64  \n",
      " 17  OverallCond    2919 non-null   int64  \n",
      " 18  YearBuilt      2919 non-null   int64  \n",
      " 19  YearRemodAdd   2919 non-null   int64  \n",
      " 20  RoofStyle      2919 non-null   object \n",
      " 21  RoofMatl       2919 non-null   object \n",
      " 22  Exterior1st    2918 non-null   object \n",
      " 23  Exterior2nd    2918 non-null   object \n",
      " 24  MasVnrType     2895 non-null   object \n",
      " 25  MasVnrArea     2919 non-null   float64\n",
      " 26  ExterQual      2919 non-null   object \n",
      " 27  ExterCond      2919 non-null   object \n",
      " 28  Foundation     2919 non-null   object \n",
      " 29  BsmtQual       2838 non-null   object \n",
      " 30  BsmtCond       2837 non-null   object \n",
      " 31  BsmtExposure   2837 non-null   object \n",
      " 32  BsmtFinType1   2840 non-null   object \n",
      " 33  BsmtFinSF1     2918 non-null   float64\n",
      " 34  BsmtFinType2   2839 non-null   object \n",
      " 35  BsmtFinSF2     2918 non-null   float64\n",
      " 36  BsmtUnfSF      2918 non-null   float64\n",
      " 37  TotalBsmtSF    2918 non-null   float64\n",
      " 38  Heating        2919 non-null   object \n",
      " 39  HeatingQC      2919 non-null   object \n",
      " 40  CentralAir     2919 non-null   object \n",
      " 41  Electrical     2918 non-null   object \n",
      " 42  1stFlrSF       2919 non-null   int64  \n",
      " 43  2ndFlrSF       2919 non-null   int64  \n",
      " 44  LowQualFinSF   2919 non-null   int64  \n",
      " 45  GrLivArea      2919 non-null   int64  \n",
      " 46  BsmtFullBath   2917 non-null   float64\n",
      " 47  BsmtHalfBath   2917 non-null   float64\n",
      " 48  FullBath       2919 non-null   int64  \n",
      " 49  HalfBath       2919 non-null   int64  \n",
      " 50  BedroomAbvGr   2919 non-null   int64  \n",
      " 51  KitchenAbvGr   2919 non-null   int64  \n",
      " 52  KitchenQual    2918 non-null   object \n",
      " 53  TotRmsAbvGrd   2919 non-null   int64  \n",
      " 54  Functional     2917 non-null   object \n",
      " 55  Fireplaces     2919 non-null   int64  \n",
      " 56  FireplaceQu    1499 non-null   object \n",
      " 57  GarageType     2762 non-null   object \n",
      " 58  GarageYrBlt    2760 non-null   float64\n",
      " 59  GarageFinish   2760 non-null   object \n",
      " 60  GarageCars     2918 non-null   float64\n",
      " 61  GarageArea     2918 non-null   float64\n",
      " 62  GarageQual     2760 non-null   object \n",
      " 63  GarageCond     2760 non-null   object \n",
      " 64  PavedDrive     2919 non-null   object \n",
      " 65  WoodDeckSF     2919 non-null   int64  \n",
      " 66  OpenPorchSF    2919 non-null   int64  \n",
      " 67  EnclosedPorch  2919 non-null   int64  \n",
      " 68  3SsnPorch      2919 non-null   int64  \n",
      " 69  ScreenPorch    2919 non-null   int64  \n",
      " 70  PoolArea       2919 non-null   int64  \n",
      " 71  PoolQC         10 non-null     object \n",
      " 72  Fence          571 non-null    object \n",
      " 73  MiscFeature    105 non-null    object \n",
      " 74  MiscVal        2919 non-null   int64  \n",
      " 75  MoSold         2919 non-null   int64  \n",
      " 76  YrSold         2919 non-null   int64  \n",
      " 77  SaleType       2918 non-null   object \n",
      " 78  SaleCondition  2919 non-null   object \n",
      "dtypes: float64(11), int32(5), int64(26), object(37)\n",
      "memory usage: 1.7+ MB\n"
     ]
    }
   ],
   "source": [
    "data.info()"
   ]
  },
  {
   "cell_type": "code",
   "execution_count": null,
   "id": "3532d717",
   "metadata": {},
   "outputs": [],
   "source": []
  }
 ],
 "metadata": {
  "kernelspec": {
   "display_name": "Python 3 (ipykernel)",
   "language": "python",
   "name": "python3"
  },
  "language_info": {
   "codemirror_mode": {
    "name": "ipython",
    "version": 3
   },
   "file_extension": ".py",
   "mimetype": "text/x-python",
   "name": "python",
   "nbconvert_exporter": "python",
   "pygments_lexer": "ipython3",
   "version": "3.8.17"
  },
  "toc": {
   "base_numbering": 1,
   "nav_menu": {},
   "number_sections": true,
   "sideBar": true,
   "skip_h1_title": false,
   "title_cell": "Table of Contents",
   "title_sidebar": "Contents",
   "toc_cell": false,
   "toc_position": {},
   "toc_section_display": true,
   "toc_window_display": false
  }
 },
 "nbformat": 4,
 "nbformat_minor": 5
}
