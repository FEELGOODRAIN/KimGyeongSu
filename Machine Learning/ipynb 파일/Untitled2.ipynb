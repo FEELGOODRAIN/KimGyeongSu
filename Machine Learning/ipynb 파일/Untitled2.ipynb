{
 "cells": [
  {
   "cell_type": "code",
   "execution_count": 1,
   "id": "91f9b1fe",
   "metadata": {
    "ExecuteTime": {
     "end_time": "2023-11-08T02:30:14.686947Z",
     "start_time": "2023-11-08T02:30:10.508742Z"
    }
   },
   "outputs": [],
   "source": [
    "import numpy as np\n",
    "import pandas as pd\n",
    "import matplotlib as mpl\n",
    "import matplotlib.pyplot as plt\n",
    "import mglearn\n",
    "%matplotlib inline\n",
    "import seaborn as sns\n",
    "import platform\n",
    "from matplotlib import font_manager , rc\n",
    "\n",
    "if platform.system() == 'Darwin':\n",
    "  rc('font' , family = 'AppleGothic')\n",
    "elif platform.system() == 'Windows':\n",
    "  path = 'C:/Windows/Fonts/malgun.ttf'\n",
    "  font_name = font_manager.FontProperties(fname = path).get_name()\n",
    "  rc('font' , family = font_name)\n",
    "else:\n",
    "  print('모름')\n",
    "plt.rcParams['axes.unicode_minus'] = False\n",
    "import warnings\n",
    "warnings.filterwarnings('ignore')\n",
    "from sklearn.metrics import accuracy_score , precision_score , recall_score , roc_auc_score , f1_score , confusion_matrix , roc_curve , precision_recall_curve"
   ]
  },
  {
   "cell_type": "code",
   "execution_count": 3,
   "id": "71721f28",
   "metadata": {
    "ExecuteTime": {
     "end_time": "2023-11-01T07:40:50.382534Z",
     "start_time": "2023-11-01T07:40:50.338089Z"
    }
   },
   "outputs": [],
   "source": [
    "path = 'C:/k_digital/machine/source/house-prices-advanced-regression-techniques'\n",
    "house = pd.read_csv(path + '/train.csv')\n",
    "test = pd.read_csv(path + '/test.csv')\n",
    "pred = pd.read_csv(path + '/sample_submission.csv')"
   ]
  },
  {
   "cell_type": "code",
   "execution_count": 4,
   "id": "cb3290be",
   "metadata": {
    "ExecuteTime": {
     "end_time": "2023-11-01T07:40:50.398063Z",
     "start_time": "2023-11-01T07:40:50.385071Z"
    }
   },
   "outputs": [],
   "source": [
    "house.drop('Id' , axis = 1 , inplace = True)"
   ]
  },
  {
   "cell_type": "code",
   "execution_count": 5,
   "id": "e65810d2",
   "metadata": {
    "ExecuteTime": {
     "end_time": "2023-11-01T07:40:50.413334Z",
     "start_time": "2023-11-01T07:40:50.401081Z"
    }
   },
   "outputs": [],
   "source": [
    "house1 = house[['MSSubClass', 'LotFrontage', 'LotArea', 'OverallQual', 'OverallCond',\n",
    "       'YearBuilt', 'YearRemodAdd', 'MasVnrArea', 'BsmtFinSF1', 'BsmtFinSF2',\n",
    "       'BsmtUnfSF', 'TotalBsmtSF', '1stFlrSF', '2ndFlrSF', 'LowQualFinSF',\n",
    "       'GrLivArea', 'BsmtFullBath', 'BsmtHalfBath', 'FullBath', 'HalfBath',\n",
    "       'BedroomAbvGr', 'KitchenAbvGr', 'TotRmsAbvGrd', 'Fireplaces',\n",
    "       'GarageYrBlt', 'GarageCars', 'GarageArea', 'WoodDeckSF', 'OpenPorchSF',\n",
    "       'EnclosedPorch', '3SsnPorch', 'ScreenPorch', 'PoolArea', 'MiscVal',\n",
    "       'MoSold', 'YrSold', 'SalePrice']]"
   ]
  },
  {
   "cell_type": "code",
   "execution_count": 6,
   "id": "dbb5b348",
   "metadata": {
    "ExecuteTime": {
     "end_time": "2023-11-01T07:40:50.428474Z",
     "start_time": "2023-11-01T07:40:50.414770Z"
    }
   },
   "outputs": [],
   "source": [
    "from sklearn.preprocessing import StandardScaler, MinMaxScaler\n",
    "mm = MinMaxScaler()"
   ]
  },
  {
   "cell_type": "code",
   "execution_count": 7,
   "id": "411a8c67",
   "metadata": {
    "ExecuteTime": {
     "end_time": "2023-11-01T07:40:50.459489Z",
     "start_time": "2023-11-01T07:40:50.429828Z"
    }
   },
   "outputs": [],
   "source": [
    "house1.LotFrontage = house1.LotFrontage.fillna(70)\n",
    "test.LotFrontage = test.LotFrontage.fillna(69)\n"
   ]
  },
  {
   "cell_type": "code",
   "execution_count": 8,
   "id": "06a4845c",
   "metadata": {
    "ExecuteTime": {
     "end_time": "2023-11-01T07:40:50.474672Z",
     "start_time": "2023-11-01T07:40:50.461013Z"
    }
   },
   "outputs": [],
   "source": [
    "test = test[['MSSubClass', 'LotFrontage', 'LotArea', 'OverallQual', 'OverallCond',\n",
    "       'YearBuilt', 'YearRemodAdd', 'MasVnrArea', 'BsmtFinSF1', 'BsmtFinSF2',\n",
    "       'BsmtUnfSF', 'TotalBsmtSF', '1stFlrSF', '2ndFlrSF', 'LowQualFinSF',\n",
    "       'GrLivArea', 'BsmtFullBath', 'BsmtHalfBath', 'FullBath', 'HalfBath',\n",
    "       'BedroomAbvGr', 'KitchenAbvGr', 'TotRmsAbvGrd', 'Fireplaces',\n",
    "       'GarageYrBlt', 'GarageCars', 'GarageArea', 'WoodDeckSF', 'OpenPorchSF',\n",
    "       'EnclosedPorch', '3SsnPorch', 'ScreenPorch', 'PoolArea', 'MiscVal',\n",
    "       'MoSold', 'YrSold']]"
   ]
  },
  {
   "cell_type": "code",
   "execution_count": 9,
   "id": "c3b34853",
   "metadata": {
    "ExecuteTime": {
     "end_time": "2023-11-01T07:40:50.490266Z",
     "start_time": "2023-11-01T07:40:50.475761Z"
    }
   },
   "outputs": [],
   "source": [
    "house1.GarageYrBlt = house1.GarageYrBlt.fillna(house1.GarageYrBlt.mean())\n",
    "test.GarageYrBlt = test.GarageYrBlt.fillna(test.GarageYrBlt.mean())"
   ]
  },
  {
   "cell_type": "code",
   "execution_count": 10,
   "id": "cb180156",
   "metadata": {
    "ExecuteTime": {
     "end_time": "2023-11-01T07:40:50.505672Z",
     "start_time": "2023-11-01T07:40:50.492189Z"
    }
   },
   "outputs": [],
   "source": [
    "house1.MasVnrArea = house1.MasVnrArea.fillna(0)\n",
    "test.MasVnrArea = test.MasVnrArea.fillna(0)"
   ]
  },
  {
   "cell_type": "code",
   "execution_count": 11,
   "id": "16675391",
   "metadata": {
    "ExecuteTime": {
     "end_time": "2023-11-01T07:40:50.520671Z",
     "start_time": "2023-11-01T07:40:50.508717Z"
    }
   },
   "outputs": [],
   "source": [
    "test = test.fillna(0)"
   ]
  },
  {
   "cell_type": "code",
   "execution_count": 12,
   "id": "89e9c4cd",
   "metadata": {
    "ExecuteTime": {
     "end_time": "2023-11-01T07:40:50.536459Z",
     "start_time": "2023-11-01T07:40:50.521678Z"
    }
   },
   "outputs": [],
   "source": [
    "data = house1.iloc[:,:-1]\n",
    "target = house1.iloc[:,-1]"
   ]
  },
  {
   "cell_type": "markdown",
   "id": "42a61913",
   "metadata": {},
   "source": [
    "data.iloc[:,14] = -data.iloc[:,14]"
   ]
  },
  {
   "cell_type": "code",
   "execution_count": 13,
   "id": "8c5588ac",
   "metadata": {
    "ExecuteTime": {
     "end_time": "2023-11-01T07:40:50.552242Z",
     "start_time": "2023-11-01T07:40:50.537229Z"
    }
   },
   "outputs": [
    {
     "data": {
      "text/html": [
       "<style>#sk-container-id-1 {color: black;}#sk-container-id-1 pre{padding: 0;}#sk-container-id-1 div.sk-toggleable {background-color: white;}#sk-container-id-1 label.sk-toggleable__label {cursor: pointer;display: block;width: 100%;margin-bottom: 0;padding: 0.3em;box-sizing: border-box;text-align: center;}#sk-container-id-1 label.sk-toggleable__label-arrow:before {content: \"▸\";float: left;margin-right: 0.25em;color: #696969;}#sk-container-id-1 label.sk-toggleable__label-arrow:hover:before {color: black;}#sk-container-id-1 div.sk-estimator:hover label.sk-toggleable__label-arrow:before {color: black;}#sk-container-id-1 div.sk-toggleable__content {max-height: 0;max-width: 0;overflow: hidden;text-align: left;background-color: #f0f8ff;}#sk-container-id-1 div.sk-toggleable__content pre {margin: 0.2em;color: black;border-radius: 0.25em;background-color: #f0f8ff;}#sk-container-id-1 input.sk-toggleable__control:checked~div.sk-toggleable__content {max-height: 200px;max-width: 100%;overflow: auto;}#sk-container-id-1 input.sk-toggleable__control:checked~label.sk-toggleable__label-arrow:before {content: \"▾\";}#sk-container-id-1 div.sk-estimator input.sk-toggleable__control:checked~label.sk-toggleable__label {background-color: #d4ebff;}#sk-container-id-1 div.sk-label input.sk-toggleable__control:checked~label.sk-toggleable__label {background-color: #d4ebff;}#sk-container-id-1 input.sk-hidden--visually {border: 0;clip: rect(1px 1px 1px 1px);clip: rect(1px, 1px, 1px, 1px);height: 1px;margin: -1px;overflow: hidden;padding: 0;position: absolute;width: 1px;}#sk-container-id-1 div.sk-estimator {font-family: monospace;background-color: #f0f8ff;border: 1px dotted black;border-radius: 0.25em;box-sizing: border-box;margin-bottom: 0.5em;}#sk-container-id-1 div.sk-estimator:hover {background-color: #d4ebff;}#sk-container-id-1 div.sk-parallel-item::after {content: \"\";width: 100%;border-bottom: 1px solid gray;flex-grow: 1;}#sk-container-id-1 div.sk-label:hover label.sk-toggleable__label {background-color: #d4ebff;}#sk-container-id-1 div.sk-serial::before {content: \"\";position: absolute;border-left: 1px solid gray;box-sizing: border-box;top: 0;bottom: 0;left: 50%;z-index: 0;}#sk-container-id-1 div.sk-serial {display: flex;flex-direction: column;align-items: center;background-color: white;padding-right: 0.2em;padding-left: 0.2em;position: relative;}#sk-container-id-1 div.sk-item {position: relative;z-index: 1;}#sk-container-id-1 div.sk-parallel {display: flex;align-items: stretch;justify-content: center;background-color: white;position: relative;}#sk-container-id-1 div.sk-item::before, #sk-container-id-1 div.sk-parallel-item::before {content: \"\";position: absolute;border-left: 1px solid gray;box-sizing: border-box;top: 0;bottom: 0;left: 50%;z-index: -1;}#sk-container-id-1 div.sk-parallel-item {display: flex;flex-direction: column;z-index: 1;position: relative;background-color: white;}#sk-container-id-1 div.sk-parallel-item:first-child::after {align-self: flex-end;width: 50%;}#sk-container-id-1 div.sk-parallel-item:last-child::after {align-self: flex-start;width: 50%;}#sk-container-id-1 div.sk-parallel-item:only-child::after {width: 0;}#sk-container-id-1 div.sk-dashed-wrapped {border: 1px dashed gray;margin: 0 0.4em 0.5em 0.4em;box-sizing: border-box;padding-bottom: 0.4em;background-color: white;}#sk-container-id-1 div.sk-label label {font-family: monospace;font-weight: bold;display: inline-block;line-height: 1.2em;}#sk-container-id-1 div.sk-label-container {text-align: center;}#sk-container-id-1 div.sk-container {/* jupyter's `normalize.less` sets `[hidden] { display: none; }` but bootstrap.min.css set `[hidden] { display: none !important; }` so we also need the `!important` here to be able to override the default hidden behavior on the sphinx rendered scikit-learn.org. See: https://github.com/scikit-learn/scikit-learn/issues/21755 */display: inline-block !important;position: relative;}#sk-container-id-1 div.sk-text-repr-fallback {display: none;}</style><div id=\"sk-container-id-1\" class=\"sk-top-container\"><div class=\"sk-text-repr-fallback\"><pre>MinMaxScaler()</pre><b>In a Jupyter environment, please rerun this cell to show the HTML representation or trust the notebook. <br />On GitHub, the HTML representation is unable to render, please try loading this page with nbviewer.org.</b></div><div class=\"sk-container\" hidden><div class=\"sk-item\"><div class=\"sk-estimator sk-toggleable\"><input class=\"sk-toggleable__control sk-hidden--visually\" id=\"sk-estimator-id-1\" type=\"checkbox\" checked><label for=\"sk-estimator-id-1\" class=\"sk-toggleable__label sk-toggleable__label-arrow\">MinMaxScaler</label><div class=\"sk-toggleable__content\"><pre>MinMaxScaler()</pre></div></div></div></div></div>"
      ],
      "text/plain": [
       "MinMaxScaler()"
      ]
     },
     "execution_count": 13,
     "metadata": {},
     "output_type": "execute_result"
    }
   ],
   "source": [
    "mm.fit(data)"
   ]
  },
  {
   "cell_type": "code",
   "execution_count": 14,
   "id": "fd0b77cc",
   "metadata": {
    "ExecuteTime": {
     "end_time": "2023-11-01T07:40:50.567596Z",
     "start_time": "2023-11-01T07:40:50.553232Z"
    }
   },
   "outputs": [],
   "source": [
    "data_mm = mm.transform(data)"
   ]
  },
  {
   "cell_type": "code",
   "execution_count": 15,
   "id": "6193aa1a",
   "metadata": {
    "ExecuteTime": {
     "end_time": "2023-11-01T07:40:50.583336Z",
     "start_time": "2023-11-01T07:40:50.569587Z"
    }
   },
   "outputs": [],
   "source": [
    "data_mm = pd.DataFrame(data = data_mm , columns = house1.columns[:-1])"
   ]
  },
  {
   "cell_type": "code",
   "execution_count": 26,
   "id": "148050d2",
   "metadata": {
    "ExecuteTime": {
     "end_time": "2023-11-01T07:42:57.358935Z",
     "start_time": "2023-11-01T07:42:57.349708Z"
    }
   },
   "outputs": [],
   "source": [
    "from sklearn.ensemble import RandomForestRegressor"
   ]
  },
  {
   "cell_type": "code",
   "execution_count": 27,
   "id": "2c76d9ee",
   "metadata": {
    "ExecuteTime": {
     "end_time": "2023-11-01T07:43:01.738350Z",
     "start_time": "2023-11-01T07:42:58.212209Z"
    }
   },
   "outputs": [],
   "source": [
    "log_target = np.log(target)\n",
    "\n",
    "# 랜덤 포레스트 모델 초기화\n",
    "rf = RandomForestRegressor()\n",
    "\n",
    "# 모델 학습 (로그 변환된 target 사용)\n",
    "rf.fit(data_mm, log_target)\n",
    "\n",
    "# 예측\n",
    "predictions = rf.predict(data_mm)"
   ]
  },
  {
   "cell_type": "code",
   "execution_count": 28,
   "id": "a227aa99",
   "metadata": {
    "ExecuteTime": {
     "end_time": "2023-11-01T07:43:09.114865Z",
     "start_time": "2023-11-01T07:43:09.095605Z"
    }
   },
   "outputs": [
    {
     "data": {
      "text/plain": [
       "array([12.24153041, 12.07344158, 12.29637668, ..., 12.43592376,\n",
       "       11.82087865, 11.91684512])"
      ]
     },
     "execution_count": 28,
     "metadata": {},
     "output_type": "execute_result"
    }
   ],
   "source": [
    "predictions"
   ]
  },
  {
   "cell_type": "code",
   "execution_count": 29,
   "id": "23305cf6",
   "metadata": {
    "ExecuteTime": {
     "end_time": "2023-11-01T07:43:26.371751Z",
     "start_time": "2023-11-01T07:43:24.444730Z"
    }
   },
   "outputs": [
    {
     "ename": "ValueError",
     "evalue": "Length of values (1460) does not match length of index (1459)",
     "output_type": "error",
     "traceback": [
      "\u001b[1;31m---------------------------------------------------------------------------\u001b[0m",
      "\u001b[1;31mValueError\u001b[0m                                Traceback (most recent call last)",
      "Cell \u001b[1;32mIn[29], line 1\u001b[0m\n\u001b[1;32m----> 1\u001b[0m pred\u001b[38;5;241m.\u001b[39mSalePrice \u001b[38;5;241m=\u001b[39m np\u001b[38;5;241m.\u001b[39mexp(predictions)\n",
      "File \u001b[1;32mC:\\Anaconda3\\lib\\site-packages\\pandas\\core\\generic.py:5931\u001b[0m, in \u001b[0;36mNDFrame.__setattr__\u001b[1;34m(self, name, value)\u001b[0m\n\u001b[0;32m   5929\u001b[0m     \u001b[38;5;28mobject\u001b[39m\u001b[38;5;241m.\u001b[39m\u001b[38;5;21m__setattr__\u001b[39m(\u001b[38;5;28mself\u001b[39m, name, value)\n\u001b[0;32m   5930\u001b[0m \u001b[38;5;28;01melif\u001b[39;00m name \u001b[38;5;129;01min\u001b[39;00m \u001b[38;5;28mself\u001b[39m\u001b[38;5;241m.\u001b[39m_info_axis:\n\u001b[1;32m-> 5931\u001b[0m     \u001b[38;5;28mself\u001b[39m[name] \u001b[38;5;241m=\u001b[39m value\n\u001b[0;32m   5932\u001b[0m \u001b[38;5;28;01melse\u001b[39;00m:\n\u001b[0;32m   5933\u001b[0m     \u001b[38;5;28mobject\u001b[39m\u001b[38;5;241m.\u001b[39m\u001b[38;5;21m__setattr__\u001b[39m(\u001b[38;5;28mself\u001b[39m, name, value)\n",
      "File \u001b[1;32mC:\\Anaconda3\\lib\\site-packages\\pandas\\core\\frame.py:3980\u001b[0m, in \u001b[0;36mDataFrame.__setitem__\u001b[1;34m(self, key, value)\u001b[0m\n\u001b[0;32m   3977\u001b[0m     \u001b[38;5;28mself\u001b[39m\u001b[38;5;241m.\u001b[39m_setitem_array([key], value)\n\u001b[0;32m   3978\u001b[0m \u001b[38;5;28;01melse\u001b[39;00m:\n\u001b[0;32m   3979\u001b[0m     \u001b[38;5;66;03m# set column\u001b[39;00m\n\u001b[1;32m-> 3980\u001b[0m     \u001b[38;5;28;43mself\u001b[39;49m\u001b[38;5;241;43m.\u001b[39;49m\u001b[43m_set_item\u001b[49m\u001b[43m(\u001b[49m\u001b[43mkey\u001b[49m\u001b[43m,\u001b[49m\u001b[43m \u001b[49m\u001b[43mvalue\u001b[49m\u001b[43m)\u001b[49m\n",
      "File \u001b[1;32mC:\\Anaconda3\\lib\\site-packages\\pandas\\core\\frame.py:4174\u001b[0m, in \u001b[0;36mDataFrame._set_item\u001b[1;34m(self, key, value)\u001b[0m\n\u001b[0;32m   4164\u001b[0m \u001b[38;5;28;01mdef\u001b[39;00m \u001b[38;5;21m_set_item\u001b[39m(\u001b[38;5;28mself\u001b[39m, key, value) \u001b[38;5;241m-\u001b[39m\u001b[38;5;241m>\u001b[39m \u001b[38;5;28;01mNone\u001b[39;00m:\n\u001b[0;32m   4165\u001b[0m \u001b[38;5;250m    \u001b[39m\u001b[38;5;124;03m\"\"\"\u001b[39;00m\n\u001b[0;32m   4166\u001b[0m \u001b[38;5;124;03m    Add series to DataFrame in specified column.\u001b[39;00m\n\u001b[0;32m   4167\u001b[0m \n\u001b[1;32m   (...)\u001b[0m\n\u001b[0;32m   4172\u001b[0m \u001b[38;5;124;03m    ensure homogeneity.\u001b[39;00m\n\u001b[0;32m   4173\u001b[0m \u001b[38;5;124;03m    \"\"\"\u001b[39;00m\n\u001b[1;32m-> 4174\u001b[0m     value \u001b[38;5;241m=\u001b[39m \u001b[38;5;28;43mself\u001b[39;49m\u001b[38;5;241;43m.\u001b[39;49m\u001b[43m_sanitize_column\u001b[49m\u001b[43m(\u001b[49m\u001b[43mvalue\u001b[49m\u001b[43m)\u001b[49m\n\u001b[0;32m   4176\u001b[0m     \u001b[38;5;28;01mif\u001b[39;00m (\n\u001b[0;32m   4177\u001b[0m         key \u001b[38;5;129;01min\u001b[39;00m \u001b[38;5;28mself\u001b[39m\u001b[38;5;241m.\u001b[39mcolumns\n\u001b[0;32m   4178\u001b[0m         \u001b[38;5;129;01mand\u001b[39;00m value\u001b[38;5;241m.\u001b[39mndim \u001b[38;5;241m==\u001b[39m \u001b[38;5;241m1\u001b[39m\n\u001b[0;32m   4179\u001b[0m         \u001b[38;5;129;01mand\u001b[39;00m \u001b[38;5;129;01mnot\u001b[39;00m is_extension_array_dtype(value)\n\u001b[0;32m   4180\u001b[0m     ):\n\u001b[0;32m   4181\u001b[0m         \u001b[38;5;66;03m# broadcast across multiple columns if necessary\u001b[39;00m\n\u001b[0;32m   4182\u001b[0m         \u001b[38;5;28;01mif\u001b[39;00m \u001b[38;5;129;01mnot\u001b[39;00m \u001b[38;5;28mself\u001b[39m\u001b[38;5;241m.\u001b[39mcolumns\u001b[38;5;241m.\u001b[39mis_unique \u001b[38;5;129;01mor\u001b[39;00m \u001b[38;5;28misinstance\u001b[39m(\u001b[38;5;28mself\u001b[39m\u001b[38;5;241m.\u001b[39mcolumns, MultiIndex):\n",
      "File \u001b[1;32mC:\\Anaconda3\\lib\\site-packages\\pandas\\core\\frame.py:4915\u001b[0m, in \u001b[0;36mDataFrame._sanitize_column\u001b[1;34m(self, value)\u001b[0m\n\u001b[0;32m   4912\u001b[0m     \u001b[38;5;28;01mreturn\u001b[39;00m _reindex_for_setitem(Series(value), \u001b[38;5;28mself\u001b[39m\u001b[38;5;241m.\u001b[39mindex)\n\u001b[0;32m   4914\u001b[0m \u001b[38;5;28;01mif\u001b[39;00m is_list_like(value):\n\u001b[1;32m-> 4915\u001b[0m     \u001b[43mcom\u001b[49m\u001b[38;5;241;43m.\u001b[39;49m\u001b[43mrequire_length_match\u001b[49m\u001b[43m(\u001b[49m\u001b[43mvalue\u001b[49m\u001b[43m,\u001b[49m\u001b[43m \u001b[49m\u001b[38;5;28;43mself\u001b[39;49m\u001b[38;5;241;43m.\u001b[39;49m\u001b[43mindex\u001b[49m\u001b[43m)\u001b[49m\n\u001b[0;32m   4916\u001b[0m \u001b[38;5;28;01mreturn\u001b[39;00m sanitize_array(value, \u001b[38;5;28mself\u001b[39m\u001b[38;5;241m.\u001b[39mindex, copy\u001b[38;5;241m=\u001b[39m\u001b[38;5;28;01mTrue\u001b[39;00m, allow_2d\u001b[38;5;241m=\u001b[39m\u001b[38;5;28;01mTrue\u001b[39;00m)\n",
      "File \u001b[1;32mC:\\Anaconda3\\lib\\site-packages\\pandas\\core\\common.py:571\u001b[0m, in \u001b[0;36mrequire_length_match\u001b[1;34m(data, index)\u001b[0m\n\u001b[0;32m    567\u001b[0m \u001b[38;5;250m\u001b[39m\u001b[38;5;124;03m\"\"\"\u001b[39;00m\n\u001b[0;32m    568\u001b[0m \u001b[38;5;124;03mCheck the length of data matches the length of the index.\u001b[39;00m\n\u001b[0;32m    569\u001b[0m \u001b[38;5;124;03m\"\"\"\u001b[39;00m\n\u001b[0;32m    570\u001b[0m \u001b[38;5;28;01mif\u001b[39;00m \u001b[38;5;28mlen\u001b[39m(data) \u001b[38;5;241m!=\u001b[39m \u001b[38;5;28mlen\u001b[39m(index):\n\u001b[1;32m--> 571\u001b[0m     \u001b[38;5;28;01mraise\u001b[39;00m \u001b[38;5;167;01mValueError\u001b[39;00m(\n\u001b[0;32m    572\u001b[0m         \u001b[38;5;124m\"\u001b[39m\u001b[38;5;124mLength of values \u001b[39m\u001b[38;5;124m\"\u001b[39m\n\u001b[0;32m    573\u001b[0m         \u001b[38;5;124mf\u001b[39m\u001b[38;5;124m\"\u001b[39m\u001b[38;5;124m(\u001b[39m\u001b[38;5;132;01m{\u001b[39;00m\u001b[38;5;28mlen\u001b[39m(data)\u001b[38;5;132;01m}\u001b[39;00m\u001b[38;5;124m) \u001b[39m\u001b[38;5;124m\"\u001b[39m\n\u001b[0;32m    574\u001b[0m         \u001b[38;5;124m\"\u001b[39m\u001b[38;5;124mdoes not match length of index \u001b[39m\u001b[38;5;124m\"\u001b[39m\n\u001b[0;32m    575\u001b[0m         \u001b[38;5;124mf\u001b[39m\u001b[38;5;124m\"\u001b[39m\u001b[38;5;124m(\u001b[39m\u001b[38;5;132;01m{\u001b[39;00m\u001b[38;5;28mlen\u001b[39m(index)\u001b[38;5;132;01m}\u001b[39;00m\u001b[38;5;124m)\u001b[39m\u001b[38;5;124m\"\u001b[39m\n\u001b[0;32m    576\u001b[0m     )\n",
      "\u001b[1;31mValueError\u001b[0m: Length of values (1460) does not match length of index (1459)"
     ]
    }
   ],
   "source": [
    "pred.SalePrice = np.exp(predictions)"
   ]
  },
  {
   "cell_type": "code",
   "execution_count": 4,
   "id": "87dc81b2",
   "metadata": {
    "ExecuteTime": {
     "end_time": "2023-11-08T02:35:01.230774Z",
     "start_time": "2023-11-08T02:34:48.074271Z"
    }
   },
   "outputs": [],
   "source": [
    "data = pd.read_csv('water_potability.csv')\n",
    "df = data.copy()\n",
    "df.dropna(subset = ['ph'] , inplace = True)\n",
    "data.ph.fillna(df.ph.mean() , inplace = True)\n",
    "\n",
    "def fit(model , data , target , fill_target):\n",
    "    model.fit(data , target)\n",
    "    return model.predict(fill_target)\n",
    "\n",
    "\n",
    "\n",
    "from sklearn.ensemble import RandomForestRegressor\n",
    "from sklearn.linear_model import LinearRegression , Ridge\n",
    "\n",
    "rid = Ridge()\n",
    "rf = RandomForestRegressor()\n",
    "lr = LinearRegression()\n",
    "\n",
    "\n",
    "fill_Tri = data.dropna(subset = ['Trihalomethanes']).drop(['Trihalomethanes' , 'Potability' , 'Sulfate'] , axis = 1)\n",
    "fill_Tri_target = data.dropna(subset = ['Trihalomethanes'])['Trihalomethanes']\n",
    "\n",
    "fill_target = data[data.Trihalomethanes.isna()].dropna(axis = 1).drop('Potability' , axis = 1)\n",
    "\n",
    "\n",
    "model = [rid , rf , lr]\n",
    "result = []\n",
    "for i in model:\n",
    "    result.append(fit(i , fill_Tri , fill_Tri_target , fill_target))\n",
    "    \n",
    "Tri_fill = np.mean(result , axis = 0)\n",
    "\n",
    "data.loc[data['Trihalomethanes'].isna(), 'Trihalomethanes'] = Tri_fill\n",
    "\n",
    "fill_Sul = data.dropna(subset = ['Sulfate']).drop(['Potability' , 'Sulfate'] , axis = 1)\n",
    "fill_Sul_target = data.dropna(subset = ['Sulfate'])['Sulfate']\n",
    "\n",
    "fill_target_Sul = data[data.Sulfate.isna()].dropna(axis = 1).drop('Potability' , axis = 1)\n",
    "\n",
    "Sulfate = []\n",
    "\n",
    "for i in model:\n",
    "    Sulfate.append(fit(i , fill_Sul , fill_Sul_target , fill_target_Sul))\n",
    "    \n",
    "Sul_fill = np.mean(Sulfate , axis = 0)\n",
    "\n",
    "Sulfate = Sul_fill\n",
    "\n",
    "data.loc[data['Sulfate'].isna(), 'Sulfate'] = Sulfate\n",
    "\n",
    "from sklearn.preprocessing import StandardScaler\n",
    "ss = StandardScaler()\n",
    "ss.fit(data.iloc[:,:-1])\n",
    "data2 = ss.transform(data.iloc[:,:-1])\n",
    "\n",
    "from sklearn.model_selection import train_test_split\n",
    "train_input , test_input , train_target , test_target = train_test_split(data2 , data.iloc[:,-1] , test_size = 0.2 , stratify = data.iloc[:,-1] , random_state = 0)\n"
   ]
  },
  {
   "cell_type": "code",
   "execution_count": 8,
   "id": "8621d7fd",
   "metadata": {
    "ExecuteTime": {
     "end_time": "2023-11-08T02:36:00.255543Z",
     "start_time": "2023-11-08T02:36:00.241399Z"
    }
   },
   "outputs": [
    {
     "data": {
      "text/html": [
       "<div>\n",
       "<style scoped>\n",
       "    .dataframe tbody tr th:only-of-type {\n",
       "        vertical-align: middle;\n",
       "    }\n",
       "\n",
       "    .dataframe tbody tr th {\n",
       "        vertical-align: top;\n",
       "    }\n",
       "\n",
       "    .dataframe thead th {\n",
       "        text-align: right;\n",
       "    }\n",
       "</style>\n",
       "<table border=\"1\" class=\"dataframe\">\n",
       "  <thead>\n",
       "    <tr style=\"text-align: right;\">\n",
       "      <th></th>\n",
       "      <th>ph</th>\n",
       "      <th>Hardness</th>\n",
       "      <th>Solids</th>\n",
       "      <th>Chloramines</th>\n",
       "      <th>Sulfate</th>\n",
       "      <th>Conductivity</th>\n",
       "      <th>Organic_carbon</th>\n",
       "      <th>Trihalomethanes</th>\n",
       "      <th>Turbidity</th>\n",
       "    </tr>\n",
       "  </thead>\n",
       "  <tbody>\n",
       "    <tr>\n",
       "      <th>0</th>\n",
       "      <td>-6.043133e-16</td>\n",
       "      <td>0.259195</td>\n",
       "      <td>-0.139471</td>\n",
       "      <td>0.112415</td>\n",
       "      <td>0.952957</td>\n",
       "      <td>1.708954</td>\n",
       "      <td>-1.180651</td>\n",
       "      <td>1.305840</td>\n",
       "      <td>-1.286298</td>\n",
       "    </tr>\n",
       "    <tr>\n",
       "      <th>1</th>\n",
       "      <td>-2.289339e+00</td>\n",
       "      <td>-2.036414</td>\n",
       "      <td>-0.385987</td>\n",
       "      <td>-0.307694</td>\n",
       "      <td>0.331984</td>\n",
       "      <td>2.062575</td>\n",
       "      <td>0.270597</td>\n",
       "      <td>-0.638475</td>\n",
       "      <td>0.684218</td>\n",
       "    </tr>\n",
       "    <tr>\n",
       "      <th>2</th>\n",
       "      <td>6.928678e-01</td>\n",
       "      <td>0.847665</td>\n",
       "      <td>-0.240047</td>\n",
       "      <td>1.360594</td>\n",
       "      <td>-0.125485</td>\n",
       "      <td>-0.094032</td>\n",
       "      <td>0.781117</td>\n",
       "      <td>0.001411</td>\n",
       "      <td>-1.167365</td>\n",
       "    </tr>\n",
       "    <tr>\n",
       "      <th>3</th>\n",
       "      <td>8.409504e-01</td>\n",
       "      <td>0.547651</td>\n",
       "      <td>0.000493</td>\n",
       "      <td>0.592008</td>\n",
       "      <td>0.633890</td>\n",
       "      <td>-0.778830</td>\n",
       "      <td>1.255134</td>\n",
       "      <td>2.152428</td>\n",
       "      <td>0.848412</td>\n",
       "    </tr>\n",
       "    <tr>\n",
       "      <th>4</th>\n",
       "      <td>1.368569e+00</td>\n",
       "      <td>-0.464429</td>\n",
       "      <td>-0.460249</td>\n",
       "      <td>-0.363698</td>\n",
       "      <td>-0.648666</td>\n",
       "      <td>-0.343939</td>\n",
       "      <td>-0.824357</td>\n",
       "      <td>-2.181345</td>\n",
       "      <td>0.138786</td>\n",
       "    </tr>\n",
       "    <tr>\n",
       "      <th>...</th>\n",
       "      <td>...</td>\n",
       "      <td>...</td>\n",
       "      <td>...</td>\n",
       "      <td>...</td>\n",
       "      <td>...</td>\n",
       "      <td>...</td>\n",
       "      <td>...</td>\n",
       "      <td>...</td>\n",
       "      <td>...</td>\n",
       "    </tr>\n",
       "    <tr>\n",
       "      <th>3271</th>\n",
       "      <td>-1.641587e+00</td>\n",
       "      <td>-0.081758</td>\n",
       "      <td>2.916188</td>\n",
       "      <td>0.028027</td>\n",
       "      <td>0.717905</td>\n",
       "      <td>1.240155</td>\n",
       "      <td>-0.118075</td>\n",
       "      <td>0.018380</td>\n",
       "      <td>0.601124</td>\n",
       "    </tr>\n",
       "    <tr>\n",
       "      <th>3272</th>\n",
       "      <td>4.953704e-01</td>\n",
       "      <td>-0.085667</td>\n",
       "      <td>-0.534295</td>\n",
       "      <td>0.593290</td>\n",
       "      <td>0.305151</td>\n",
       "      <td>-0.417706</td>\n",
       "      <td>1.698560</td>\n",
       "      <td>0.074444</td>\n",
       "      <td>-1.497627</td>\n",
       "    </tr>\n",
       "    <tr>\n",
       "      <th>3273</th>\n",
       "      <td>1.591254e+00</td>\n",
       "      <td>-0.626829</td>\n",
       "      <td>1.270810</td>\n",
       "      <td>0.144017</td>\n",
       "      <td>-0.070759</td>\n",
       "      <td>0.072263</td>\n",
       "      <td>-0.981329</td>\n",
       "      <td>0.218615</td>\n",
       "      <td>-0.856007</td>\n",
       "    </tr>\n",
       "    <tr>\n",
       "      <th>3274</th>\n",
       "      <td>-1.329516e+00</td>\n",
       "      <td>1.041355</td>\n",
       "      <td>-1.144058</td>\n",
       "      <td>-0.517373</td>\n",
       "      <td>-0.053529</td>\n",
       "      <td>-0.288597</td>\n",
       "      <td>-0.942064</td>\n",
       "      <td>0.703257</td>\n",
       "      <td>0.950797</td>\n",
       "    </tr>\n",
       "    <tr>\n",
       "      <th>3275</th>\n",
       "      <td>5.401509e-01</td>\n",
       "      <td>-0.038546</td>\n",
       "      <td>-0.525812</td>\n",
       "      <td>0.244515</td>\n",
       "      <td>0.267482</td>\n",
       "      <td>-1.221919</td>\n",
       "      <td>0.560940</td>\n",
       "      <td>0.779999</td>\n",
       "      <td>-2.124459</td>\n",
       "    </tr>\n",
       "  </tbody>\n",
       "</table>\n",
       "<p>3276 rows × 9 columns</p>\n",
       "</div>"
      ],
      "text/plain": [
       "                ph  Hardness    Solids  Chloramines   Sulfate  Conductivity  \\\n",
       "0    -6.043133e-16  0.259195 -0.139471     0.112415  0.952957      1.708954   \n",
       "1    -2.289339e+00 -2.036414 -0.385987    -0.307694  0.331984      2.062575   \n",
       "2     6.928678e-01  0.847665 -0.240047     1.360594 -0.125485     -0.094032   \n",
       "3     8.409504e-01  0.547651  0.000493     0.592008  0.633890     -0.778830   \n",
       "4     1.368569e+00 -0.464429 -0.460249    -0.363698 -0.648666     -0.343939   \n",
       "...            ...       ...       ...          ...       ...           ...   \n",
       "3271 -1.641587e+00 -0.081758  2.916188     0.028027  0.717905      1.240155   \n",
       "3272  4.953704e-01 -0.085667 -0.534295     0.593290  0.305151     -0.417706   \n",
       "3273  1.591254e+00 -0.626829  1.270810     0.144017 -0.070759      0.072263   \n",
       "3274 -1.329516e+00  1.041355 -1.144058    -0.517373 -0.053529     -0.288597   \n",
       "3275  5.401509e-01 -0.038546 -0.525812     0.244515  0.267482     -1.221919   \n",
       "\n",
       "      Organic_carbon  Trihalomethanes  Turbidity  \n",
       "0          -1.180651         1.305840  -1.286298  \n",
       "1           0.270597        -0.638475   0.684218  \n",
       "2           0.781117         0.001411  -1.167365  \n",
       "3           1.255134         2.152428   0.848412  \n",
       "4          -0.824357        -2.181345   0.138786  \n",
       "...              ...              ...        ...  \n",
       "3271       -0.118075         0.018380   0.601124  \n",
       "3272        1.698560         0.074444  -1.497627  \n",
       "3273       -0.981329         0.218615  -0.856007  \n",
       "3274       -0.942064         0.703257   0.950797  \n",
       "3275        0.560940         0.779999  -2.124459  \n",
       "\n",
       "[3276 rows x 9 columns]"
      ]
     },
     "execution_count": 8,
     "metadata": {},
     "output_type": "execute_result"
    }
   ],
   "source": [
    "pd.DataFrame(data2 , columns = data.columns[:-1])"
   ]
  },
  {
   "cell_type": "code",
   "execution_count": 6,
   "id": "30289b01",
   "metadata": {
    "ExecuteTime": {
     "end_time": "2023-11-08T02:35:21.916901Z",
     "start_time": "2023-11-08T02:35:21.910720Z"
    }
   },
   "outputs": [
    {
     "data": {
      "text/plain": [
       "array([[-6.04313345e-16,  2.59194711e-01, -1.39470871e-01, ...,\n",
       "        -1.18065057e+00,  1.30584045e+00, -1.28629758e+00],\n",
       "       [-2.28933938e+00, -2.03641367e+00, -3.85986650e-01, ...,\n",
       "         2.70597240e-01, -6.38475300e-01,  6.84217891e-01],\n",
       "       [ 6.92867789e-01,  8.47664833e-01, -2.40047337e-01, ...,\n",
       "         7.81116857e-01,  1.41086173e-03, -1.16736546e+00],\n",
       "       ...,\n",
       "       [ 1.59125368e+00, -6.26829230e-01,  1.27080989e+00, ...,\n",
       "        -9.81329234e-01,  2.18614659e-01, -8.56006782e-01],\n",
       "       [-1.32951593e+00,  1.04135450e+00, -1.14405809e+00, ...,\n",
       "        -9.42063817e-01,  7.03256646e-01,  9.50797383e-01],\n",
       "       [ 5.40150905e-01, -3.85462310e-02, -5.25811937e-01, ...,\n",
       "         5.60940070e-01,  7.79999312e-01, -2.12445866e+00]])"
      ]
     },
     "execution_count": 6,
     "metadata": {},
     "output_type": "execute_result"
    }
   ],
   "source": [
    "train_input , test_input , train_target , test_target = train_test_split(data2 , data.iloc[:,-1] , test_size = 0.2 , stratify = data.iloc[:,-1] , random_state = 0)"
   ]
  },
  {
   "cell_type": "code",
   "execution_count": 5,
   "id": "bc823252",
   "metadata": {
    "ExecuteTime": {
     "end_time": "2023-11-08T02:35:04.707442Z",
     "start_time": "2023-11-08T02:35:04.591186Z"
    }
   },
   "outputs": [
    {
     "ename": "AttributeError",
     "evalue": "'numpy.ndarray' object has no attribute '_validate_params'",
     "output_type": "error",
     "traceback": [
      "\u001b[1;31m---------------------------------------------------------------------------\u001b[0m",
      "\u001b[1;31mAttributeError\u001b[0m                            Traceback (most recent call last)",
      "Cell \u001b[1;32mIn[5], line 5\u001b[0m\n\u001b[0;32m      1\u001b[0m \u001b[38;5;28;01mfrom\u001b[39;00m \u001b[38;5;21;01msklearn\u001b[39;00m\u001b[38;5;21;01m.\u001b[39;00m\u001b[38;5;21;01msvm\u001b[39;00m \u001b[38;5;28;01mimport\u001b[39;00m SVC\n\u001b[0;32m      3\u001b[0m svc \u001b[38;5;241m=\u001b[39m SVC()\n\u001b[1;32m----> 5\u001b[0m \u001b[43mSVC\u001b[49m\u001b[38;5;241;43m.\u001b[39;49m\u001b[43mfit\u001b[49m\u001b[43m(\u001b[49m\u001b[43mtrain_input\u001b[49m\u001b[43m \u001b[49m\u001b[43m,\u001b[49m\u001b[43m \u001b[49m\u001b[43mtrain_target\u001b[49m\u001b[43m)\u001b[49m\n",
      "File \u001b[1;32mC:\\Anaconda3\\lib\\site-packages\\sklearn\\base.py:1144\u001b[0m, in \u001b[0;36m_fit_context.<locals>.decorator.<locals>.wrapper\u001b[1;34m(estimator, *args, **kwargs)\u001b[0m\n\u001b[0;32m   1139\u001b[0m partial_fit_and_fitted \u001b[38;5;241m=\u001b[39m (\n\u001b[0;32m   1140\u001b[0m     fit_method\u001b[38;5;241m.\u001b[39m\u001b[38;5;18m__name__\u001b[39m \u001b[38;5;241m==\u001b[39m \u001b[38;5;124m\"\u001b[39m\u001b[38;5;124mpartial_fit\u001b[39m\u001b[38;5;124m\"\u001b[39m \u001b[38;5;129;01mand\u001b[39;00m _is_fitted(estimator)\n\u001b[0;32m   1141\u001b[0m )\n\u001b[0;32m   1143\u001b[0m \u001b[38;5;28;01mif\u001b[39;00m \u001b[38;5;129;01mnot\u001b[39;00m global_skip_validation \u001b[38;5;129;01mand\u001b[39;00m \u001b[38;5;129;01mnot\u001b[39;00m partial_fit_and_fitted:\n\u001b[1;32m-> 1144\u001b[0m     \u001b[43mestimator\u001b[49m\u001b[38;5;241;43m.\u001b[39;49m\u001b[43m_validate_params\u001b[49m()\n\u001b[0;32m   1146\u001b[0m \u001b[38;5;28;01mwith\u001b[39;00m config_context(\n\u001b[0;32m   1147\u001b[0m     skip_parameter_validation\u001b[38;5;241m=\u001b[39m(\n\u001b[0;32m   1148\u001b[0m         prefer_skip_nested_validation \u001b[38;5;129;01mor\u001b[39;00m global_skip_validation\n\u001b[0;32m   1149\u001b[0m     )\n\u001b[0;32m   1150\u001b[0m ):\n\u001b[0;32m   1151\u001b[0m     \u001b[38;5;28;01mreturn\u001b[39;00m fit_method(estimator, \u001b[38;5;241m*\u001b[39margs, \u001b[38;5;241m*\u001b[39m\u001b[38;5;241m*\u001b[39mkwargs)\n",
      "\u001b[1;31mAttributeError\u001b[0m: 'numpy.ndarray' object has no attribute '_validate_params'"
     ]
    }
   ],
   "source": [
    "\n",
    "from sklearn.svm import SVC\n",
    "\n",
    "svc = SVC()\n",
    "\n",
    "SVC.fit(train_input , train_target)"
   ]
  }
 ],
 "metadata": {
  "kernelspec": {
   "display_name": "Python 3 (ipykernel)",
   "language": "python",
   "name": "python3"
  },
  "language_info": {
   "codemirror_mode": {
    "name": "ipython",
    "version": 3
   },
   "file_extension": ".py",
   "mimetype": "text/x-python",
   "name": "python",
   "nbconvert_exporter": "python",
   "pygments_lexer": "ipython3",
   "version": "3.8.17"
  },
  "toc": {
   "base_numbering": 1,
   "nav_menu": {},
   "number_sections": true,
   "sideBar": true,
   "skip_h1_title": false,
   "title_cell": "Table of Contents",
   "title_sidebar": "Contents",
   "toc_cell": false,
   "toc_position": {},
   "toc_section_display": true,
   "toc_window_display": false
  }
 },
 "nbformat": 4,
 "nbformat_minor": 5
}
