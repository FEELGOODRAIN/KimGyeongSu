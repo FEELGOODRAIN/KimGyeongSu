{
 "cells": [
  {
   "cell_type": "code",
   "execution_count": 1,
   "id": "0eff1b1d",
   "metadata": {
    "ExecuteTime": {
     "end_time": "2023-10-27T07:55:59.746768Z",
     "start_time": "2023-10-27T07:55:58.046740Z"
    }
   },
   "outputs": [],
   "source": [
    "import numpy as np\n",
    "import pandas as pd\n",
    "import matplotlib as mpl\n",
    "import matplotlib.pyplot as plt\n",
    "import mglearn\n",
    "%matplotlib inline\n",
    "import seaborn as sns\n",
    "import platform\n",
    "from matplotlib import font_manager , rc\n",
    "\n",
    "if platform.system() == 'Darwin':\n",
    "  rc('font' , family = 'AppleGothic')\n",
    "elif platform.system() == 'Windows':\n",
    "  path = 'C:/Windows/Fonts/malgun.ttf'\n",
    "  font_name = font_manager.FontProperties(fname = path).get_name()\n",
    "  rc('font' , family = font_name)\n",
    "else:\n",
    "  print('모름')\n",
    "plt.rcParams['axes.unicode_minus'] = False\n",
    "import warnings\n",
    "warnings.filterwarnings('ignore')\n",
    "from sklearn.metrics import accuracy_score , precision_score , recall_score , roc_auc_score , f1_score , confusion_matrix , roc_curve , precision_recall_curve"
   ]
  },
  {
   "cell_type": "markdown",
   "id": "cfc3cc77",
   "metadata": {},
   "source": [
    "# 목표 : engine에 따라 차종을 분류하고 , engine을 제거 후 size로 대체 , 그 과정에서 NA값을 채울 때 다양한 모델들을 써보고 , 가장 적합한 모델로 적용시켜 NA값을 predict값으로 대체"
   ]
  },
  {
   "cell_type": "code",
   "execution_count": 83,
   "id": "91fa90b3",
   "metadata": {
    "ExecuteTime": {
     "end_time": "2023-10-27T07:58:49.591210Z",
     "start_time": "2023-10-27T07:58:49.529147Z"
    }
   },
   "outputs": [
    {
     "data": {
      "text/html": [
       "<div>\n",
       "<style scoped>\n",
       "    .dataframe tbody tr th:only-of-type {\n",
       "        vertical-align: middle;\n",
       "    }\n",
       "\n",
       "    .dataframe tbody tr th {\n",
       "        vertical-align: top;\n",
       "    }\n",
       "\n",
       "    .dataframe thead th {\n",
       "        text-align: right;\n",
       "    }\n",
       "</style>\n",
       "<table border=\"1\" class=\"dataframe\">\n",
       "  <thead>\n",
       "    <tr style=\"text-align: right;\">\n",
       "      <th></th>\n",
       "      <th>Unnamed: 0</th>\n",
       "      <th>name</th>\n",
       "      <th>year</th>\n",
       "      <th>selling_price</th>\n",
       "      <th>km_driven</th>\n",
       "      <th>fuel</th>\n",
       "      <th>seller_type</th>\n",
       "      <th>transmission</th>\n",
       "      <th>owner</th>\n",
       "      <th>mileage</th>\n",
       "      <th>engine</th>\n",
       "      <th>max_power</th>\n",
       "      <th>torque</th>\n",
       "      <th>seats</th>\n",
       "    </tr>\n",
       "  </thead>\n",
       "  <tbody>\n",
       "    <tr>\n",
       "      <th>0</th>\n",
       "      <td>0</td>\n",
       "      <td>Maruti Swift Dzire VDI</td>\n",
       "      <td>2014</td>\n",
       "      <td>450000</td>\n",
       "      <td>145500</td>\n",
       "      <td>Diesel</td>\n",
       "      <td>Individual</td>\n",
       "      <td>Manual</td>\n",
       "      <td>First Owner</td>\n",
       "      <td>23.4 kmpl</td>\n",
       "      <td>1248 CC</td>\n",
       "      <td>74 bhp</td>\n",
       "      <td>190Nm@ 2000rpm</td>\n",
       "      <td>5.0</td>\n",
       "    </tr>\n",
       "    <tr>\n",
       "      <th>1</th>\n",
       "      <td>1</td>\n",
       "      <td>Skoda Rapid 1.5 TDI Ambition</td>\n",
       "      <td>2014</td>\n",
       "      <td>370000</td>\n",
       "      <td>120000</td>\n",
       "      <td>Diesel</td>\n",
       "      <td>Individual</td>\n",
       "      <td>Manual</td>\n",
       "      <td>Second Owner</td>\n",
       "      <td>21.14 kmpl</td>\n",
       "      <td>1498 CC</td>\n",
       "      <td>103.52 bhp</td>\n",
       "      <td>250Nm@ 1500-2500rpm</td>\n",
       "      <td>5.0</td>\n",
       "    </tr>\n",
       "    <tr>\n",
       "      <th>2</th>\n",
       "      <td>2</td>\n",
       "      <td>Honda City 2017-2020 EXi</td>\n",
       "      <td>2006</td>\n",
       "      <td>158000</td>\n",
       "      <td>140000</td>\n",
       "      <td>Petrol</td>\n",
       "      <td>Individual</td>\n",
       "      <td>Manual</td>\n",
       "      <td>Third Owner</td>\n",
       "      <td>17.7 kmpl</td>\n",
       "      <td>1497 CC</td>\n",
       "      <td>78 bhp</td>\n",
       "      <td>12.7@ 2,700(kgm@ rpm)</td>\n",
       "      <td>5.0</td>\n",
       "    </tr>\n",
       "    <tr>\n",
       "      <th>3</th>\n",
       "      <td>3</td>\n",
       "      <td>Hyundai i20 Sportz Diesel</td>\n",
       "      <td>2010</td>\n",
       "      <td>225000</td>\n",
       "      <td>127000</td>\n",
       "      <td>Diesel</td>\n",
       "      <td>Individual</td>\n",
       "      <td>Manual</td>\n",
       "      <td>First Owner</td>\n",
       "      <td>23.0 kmpl</td>\n",
       "      <td>1396 CC</td>\n",
       "      <td>90 bhp</td>\n",
       "      <td>22.4 kgm at 1750-2750rpm</td>\n",
       "      <td>5.0</td>\n",
       "    </tr>\n",
       "    <tr>\n",
       "      <th>4</th>\n",
       "      <td>4</td>\n",
       "      <td>Maruti Swift VXI BSIII</td>\n",
       "      <td>2007</td>\n",
       "      <td>130000</td>\n",
       "      <td>120000</td>\n",
       "      <td>Petrol</td>\n",
       "      <td>Individual</td>\n",
       "      <td>Manual</td>\n",
       "      <td>First Owner</td>\n",
       "      <td>16.1 kmpl</td>\n",
       "      <td>1298 CC</td>\n",
       "      <td>88.2 bhp</td>\n",
       "      <td>11.5@ 4,500(kgm@ rpm)</td>\n",
       "      <td>5.0</td>\n",
       "    </tr>\n",
       "    <tr>\n",
       "      <th>...</th>\n",
       "      <td>...</td>\n",
       "      <td>...</td>\n",
       "      <td>...</td>\n",
       "      <td>...</td>\n",
       "      <td>...</td>\n",
       "      <td>...</td>\n",
       "      <td>...</td>\n",
       "      <td>...</td>\n",
       "      <td>...</td>\n",
       "      <td>...</td>\n",
       "      <td>...</td>\n",
       "      <td>...</td>\n",
       "      <td>...</td>\n",
       "      <td>...</td>\n",
       "    </tr>\n",
       "    <tr>\n",
       "      <th>8123</th>\n",
       "      <td>8123</td>\n",
       "      <td>Hyundai i20 Magna</td>\n",
       "      <td>2013</td>\n",
       "      <td>320000</td>\n",
       "      <td>110000</td>\n",
       "      <td>Petrol</td>\n",
       "      <td>Individual</td>\n",
       "      <td>Manual</td>\n",
       "      <td>First Owner</td>\n",
       "      <td>18.5 kmpl</td>\n",
       "      <td>1197 CC</td>\n",
       "      <td>82.85 bhp</td>\n",
       "      <td>113.7Nm@ 4000rpm</td>\n",
       "      <td>5.0</td>\n",
       "    </tr>\n",
       "    <tr>\n",
       "      <th>8124</th>\n",
       "      <td>8124</td>\n",
       "      <td>Hyundai Verna CRDi SX</td>\n",
       "      <td>2007</td>\n",
       "      <td>135000</td>\n",
       "      <td>119000</td>\n",
       "      <td>Diesel</td>\n",
       "      <td>Individual</td>\n",
       "      <td>Manual</td>\n",
       "      <td>Fourth &amp; Above Owner</td>\n",
       "      <td>16.8 kmpl</td>\n",
       "      <td>1493 CC</td>\n",
       "      <td>110 bhp</td>\n",
       "      <td>24@ 1,900-2,750(kgm@ rpm)</td>\n",
       "      <td>5.0</td>\n",
       "    </tr>\n",
       "    <tr>\n",
       "      <th>8125</th>\n",
       "      <td>8125</td>\n",
       "      <td>Maruti Swift Dzire ZDi</td>\n",
       "      <td>2009</td>\n",
       "      <td>382000</td>\n",
       "      <td>120000</td>\n",
       "      <td>Diesel</td>\n",
       "      <td>Individual</td>\n",
       "      <td>Manual</td>\n",
       "      <td>First Owner</td>\n",
       "      <td>19.3 kmpl</td>\n",
       "      <td>1248 CC</td>\n",
       "      <td>73.9 bhp</td>\n",
       "      <td>190Nm@ 2000rpm</td>\n",
       "      <td>5.0</td>\n",
       "    </tr>\n",
       "    <tr>\n",
       "      <th>8126</th>\n",
       "      <td>8126</td>\n",
       "      <td>Tata Indigo CR4</td>\n",
       "      <td>2013</td>\n",
       "      <td>290000</td>\n",
       "      <td>25000</td>\n",
       "      <td>Diesel</td>\n",
       "      <td>Individual</td>\n",
       "      <td>Manual</td>\n",
       "      <td>First Owner</td>\n",
       "      <td>23.57 kmpl</td>\n",
       "      <td>1396 CC</td>\n",
       "      <td>70 bhp</td>\n",
       "      <td>140Nm@ 1800-3000rpm</td>\n",
       "      <td>5.0</td>\n",
       "    </tr>\n",
       "    <tr>\n",
       "      <th>8127</th>\n",
       "      <td>8127</td>\n",
       "      <td>Tata Indigo CR4</td>\n",
       "      <td>2013</td>\n",
       "      <td>290000</td>\n",
       "      <td>25000</td>\n",
       "      <td>Diesel</td>\n",
       "      <td>Individual</td>\n",
       "      <td>Manual</td>\n",
       "      <td>First Owner</td>\n",
       "      <td>23.57 kmpl</td>\n",
       "      <td>1396 CC</td>\n",
       "      <td>70 bhp</td>\n",
       "      <td>140Nm@ 1800-3000rpm</td>\n",
       "      <td>5.0</td>\n",
       "    </tr>\n",
       "  </tbody>\n",
       "</table>\n",
       "<p>8128 rows × 14 columns</p>\n",
       "</div>"
      ],
      "text/plain": [
       "      Unnamed: 0                          name  year  selling_price  \\\n",
       "0              0        Maruti Swift Dzire VDI  2014         450000   \n",
       "1              1  Skoda Rapid 1.5 TDI Ambition  2014         370000   \n",
       "2              2      Honda City 2017-2020 EXi  2006         158000   \n",
       "3              3     Hyundai i20 Sportz Diesel  2010         225000   \n",
       "4              4        Maruti Swift VXI BSIII  2007         130000   \n",
       "...          ...                           ...   ...            ...   \n",
       "8123        8123             Hyundai i20 Magna  2013         320000   \n",
       "8124        8124         Hyundai Verna CRDi SX  2007         135000   \n",
       "8125        8125        Maruti Swift Dzire ZDi  2009         382000   \n",
       "8126        8126               Tata Indigo CR4  2013         290000   \n",
       "8127        8127               Tata Indigo CR4  2013         290000   \n",
       "\n",
       "      km_driven    fuel seller_type transmission                 owner  \\\n",
       "0        145500  Diesel  Individual       Manual           First Owner   \n",
       "1        120000  Diesel  Individual       Manual          Second Owner   \n",
       "2        140000  Petrol  Individual       Manual           Third Owner   \n",
       "3        127000  Diesel  Individual       Manual           First Owner   \n",
       "4        120000  Petrol  Individual       Manual           First Owner   \n",
       "...         ...     ...         ...          ...                   ...   \n",
       "8123     110000  Petrol  Individual       Manual           First Owner   \n",
       "8124     119000  Diesel  Individual       Manual  Fourth & Above Owner   \n",
       "8125     120000  Diesel  Individual       Manual           First Owner   \n",
       "8126      25000  Diesel  Individual       Manual           First Owner   \n",
       "8127      25000  Diesel  Individual       Manual           First Owner   \n",
       "\n",
       "         mileage   engine   max_power                     torque  seats  \n",
       "0      23.4 kmpl  1248 CC      74 bhp             190Nm@ 2000rpm    5.0  \n",
       "1     21.14 kmpl  1498 CC  103.52 bhp        250Nm@ 1500-2500rpm    5.0  \n",
       "2      17.7 kmpl  1497 CC      78 bhp      12.7@ 2,700(kgm@ rpm)    5.0  \n",
       "3      23.0 kmpl  1396 CC      90 bhp   22.4 kgm at 1750-2750rpm    5.0  \n",
       "4      16.1 kmpl  1298 CC    88.2 bhp      11.5@ 4,500(kgm@ rpm)    5.0  \n",
       "...          ...      ...         ...                        ...    ...  \n",
       "8123   18.5 kmpl  1197 CC   82.85 bhp           113.7Nm@ 4000rpm    5.0  \n",
       "8124   16.8 kmpl  1493 CC     110 bhp  24@ 1,900-2,750(kgm@ rpm)    5.0  \n",
       "8125   19.3 kmpl  1248 CC    73.9 bhp             190Nm@ 2000rpm    5.0  \n",
       "8126  23.57 kmpl  1396 CC      70 bhp        140Nm@ 1800-3000rpm    5.0  \n",
       "8127  23.57 kmpl  1396 CC      70 bhp        140Nm@ 1800-3000rpm    5.0  \n",
       "\n",
       "[8128 rows x 14 columns]"
      ]
     },
     "execution_count": 83,
     "metadata": {},
     "output_type": "execute_result"
    }
   ],
   "source": [
    "car = pd.read_csv('car.csv')\n",
    "car"
   ]
  },
  {
   "cell_type": "code",
   "execution_count": 66,
   "id": "a9bac052",
   "metadata": {
    "ExecuteTime": {
     "end_time": "2023-10-27T07:57:15.163238Z",
     "start_time": "2023-10-27T07:57:15.157190Z"
    }
   },
   "outputs": [],
   "source": [
    "#앞의 unnamed 제거\n",
    "car = car.iloc[:,1:]"
   ]
  },
  {
   "cell_type": "code",
   "execution_count": 67,
   "id": "63c1c68d",
   "metadata": {
    "ExecuteTime": {
     "end_time": "2023-10-27T07:57:15.328451Z",
     "start_time": "2023-10-27T07:57:15.314215Z"
    }
   },
   "outputs": [],
   "source": [
    "#결측치 일단 제거!\n",
    "car = car.dropna()"
   ]
  },
  {
   "cell_type": "code",
   "execution_count": 68,
   "id": "0d410322",
   "metadata": {
    "ExecuteTime": {
     "end_time": "2023-10-27T07:57:15.468633Z",
     "start_time": "2023-10-27T07:57:15.453241Z"
    }
   },
   "outputs": [],
   "source": [
    "# engine 열에 있는 데이터를 int로 바꾸는 작업\n",
    "car_engine = []\n",
    "for i in car.engine.values:\n",
    "    car_engine.append(i[:4])"
   ]
  },
  {
   "cell_type": "code",
   "execution_count": 69,
   "id": "0621634f",
   "metadata": {
    "ExecuteTime": {
     "end_time": "2023-10-27T07:57:15.618627Z",
     "start_time": "2023-10-27T07:57:15.602705Z"
    }
   },
   "outputs": [],
   "source": [
    "car['engine'] = car_engine"
   ]
  },
  {
   "cell_type": "code",
   "execution_count": 70,
   "id": "44d45d9f",
   "metadata": {
    "ExecuteTime": {
     "end_time": "2023-10-27T07:57:15.767764Z",
     "start_time": "2023-10-27T07:57:15.752310Z"
    }
   },
   "outputs": [],
   "source": [
    "car.engine = car.engine.astype('int64')"
   ]
  },
  {
   "cell_type": "code",
   "execution_count": 71,
   "id": "73601051",
   "metadata": {
    "ExecuteTime": {
     "end_time": "2023-10-27T07:57:15.931570Z",
     "start_time": "2023-10-27T07:57:15.915648Z"
    }
   },
   "outputs": [],
   "source": [
    "car['size'] = 0"
   ]
  },
  {
   "cell_type": "code",
   "execution_count": 72,
   "id": "14f46472",
   "metadata": {
    "ExecuteTime": {
     "end_time": "2023-10-27T07:57:16.082791Z",
     "start_time": "2023-10-27T07:57:16.068724Z"
    }
   },
   "outputs": [],
   "source": [
    "car = car.reset_index()"
   ]
  },
  {
   "cell_type": "code",
   "execution_count": 73,
   "id": "e565a42a",
   "metadata": {
    "ExecuteTime": {
     "end_time": "2023-10-27T07:57:17.397402Z",
     "start_time": "2023-10-27T07:57:16.216299Z"
    }
   },
   "outputs": [],
   "source": [
    "# 규격에 따라 소형 , 중형 , 대형으로 나누기\n",
    "for i in range(len(car)):\n",
    "    if car.engine[i]>1000:\n",
    "        car['size'][i] = 1"
   ]
  },
  {
   "cell_type": "code",
   "execution_count": 74,
   "id": "b3afd3ae",
   "metadata": {
    "ExecuteTime": {
     "end_time": "2023-10-27T07:57:17.766034Z",
     "start_time": "2023-10-27T07:57:17.397402Z"
    }
   },
   "outputs": [],
   "source": [
    "for i in range(len(car)):\n",
    "    if car.engine[i]>1600:\n",
    "        car['size'][i] = 2"
   ]
  },
  {
   "cell_type": "code",
   "execution_count": 75,
   "id": "541de68b",
   "metadata": {
    "ExecuteTime": {
     "end_time": "2023-10-27T07:57:18.066236Z",
     "start_time": "2023-10-27T07:57:17.768030Z"
    }
   },
   "outputs": [],
   "source": [
    "for i in range(len(car)):\n",
    "    if car.engine[i]>2000:\n",
    "        car['size'][i] = 3"
   ]
  },
  {
   "cell_type": "code",
   "execution_count": 13,
   "id": "a5948e75",
   "metadata": {
    "ExecuteTime": {
     "end_time": "2023-10-27T07:56:01.829502Z",
     "start_time": "2023-10-27T07:56:01.814474Z"
    }
   },
   "outputs": [
    {
     "data": {
      "text/plain": [
       "1    4896\n",
       "0    1312\n",
       "3    1213\n",
       "2     485\n",
       "Name: size, dtype: int64"
      ]
     },
     "execution_count": 13,
     "metadata": {},
     "output_type": "execute_result"
    }
   ],
   "source": [
    "#나눈 결과  , 0 : 경형 , 1: 소형  , 2 : 중형 , 3 : 대형\n",
    "car['size'].value_counts()"
   ]
  },
  {
   "cell_type": "code",
   "execution_count": 14,
   "id": "8801ab12",
   "metadata": {
    "ExecuteTime": {
     "end_time": "2023-10-27T07:56:01.840327Z",
     "start_time": "2023-10-27T07:56:01.831411Z"
    }
   },
   "outputs": [],
   "source": [
    "car_mileage = []\n",
    "for i in car.mileage.values:\n",
    "    car_mileage.append(i[:-5])"
   ]
  },
  {
   "cell_type": "code",
   "execution_count": 15,
   "id": "40c2af54",
   "metadata": {
    "ExecuteTime": {
     "end_time": "2023-10-27T07:56:01.852907Z",
     "start_time": "2023-10-27T07:56:01.840617Z"
    }
   },
   "outputs": [],
   "source": [
    "car['mileage'] = car_mileage"
   ]
  },
  {
   "cell_type": "code",
   "execution_count": 16,
   "id": "e8dca1f8",
   "metadata": {
    "ExecuteTime": {
     "end_time": "2023-10-27T07:56:01.861428Z",
     "start_time": "2023-10-27T07:56:01.852907Z"
    }
   },
   "outputs": [],
   "source": [
    "car['mileage'] = car['mileage'].astype(float)"
   ]
  },
  {
   "cell_type": "code",
   "execution_count": 17,
   "id": "18285cc9",
   "metadata": {
    "ExecuteTime": {
     "end_time": "2023-10-27T07:56:01.878349Z",
     "start_time": "2023-10-27T07:56:01.862426Z"
    }
   },
   "outputs": [],
   "source": [
    "#year은 크기에 영향을 미치지 않을 것으로 판단.\n",
    "data = car[['selling_price','km_driven','seats']]\n",
    "target = car['size']"
   ]
  },
  {
   "cell_type": "code",
   "execution_count": 18,
   "id": "c75b766f",
   "metadata": {
    "ExecuteTime": {
     "end_time": "2023-10-27T07:56:01.895145Z",
     "start_time": "2023-10-27T07:56:01.880357Z"
    }
   },
   "outputs": [],
   "source": [
    "#데이터 나누기\n",
    "from sklearn.model_selection import train_test_split\n",
    "#2(중형)의 수가 적어서 , stratify 함수 사용\n",
    "train_input , test_input , train_target , test_target = train_test_split(data , target , stratify = target , test_size = 0.3 , random_state = 20)"
   ]
  },
  {
   "cell_type": "code",
   "execution_count": 19,
   "id": "7f2411b7",
   "metadata": {
    "ExecuteTime": {
     "end_time": "2023-10-27T07:56:01.911870Z",
     "start_time": "2023-10-27T07:56:01.897141Z"
    }
   },
   "outputs": [],
   "source": [
    "from sklearn.preprocessing import StandardScaler\n",
    "ss = StandardScaler()\n",
    "ss.fit(train_input)\n",
    "\n",
    "train_scaled = ss.transform(train_input)\n",
    "test_scaled = ss.transform(test_input)"
   ]
  },
  {
   "cell_type": "markdown",
   "id": "3bb659d0",
   "metadata": {},
   "source": [
    "# 앞선 titanic 생존자 예측에서 모델마다 파라미터 조정을 하지 않고 voting을 했는데 , 점수가 낮게 나왔었기 때문에 이번엔 모델마다 최적으로 조정을 해놓고 voting을 해보자."
   ]
  },
  {
   "cell_type": "markdown",
   "id": "5c866176",
   "metadata": {},
   "source": [
    "# RandomForestClassifier"
   ]
  },
  {
   "cell_type": "code",
   "execution_count": 20,
   "id": "287fa6b1",
   "metadata": {
    "ExecuteTime": {
     "end_time": "2023-10-27T07:56:04.940907Z",
     "start_time": "2023-10-27T07:56:01.913887Z"
    }
   },
   "outputs": [],
   "source": [
    "from sklearn.model_selection import cross_validate\n",
    "from sklearn.ensemble import RandomForestClassifier\n",
    "\n",
    "rf = RandomForestClassifier(random_state = 20 , n_jobs = -1)\n",
    "scores = cross_validate(rf , train_input , train_target , n_jobs = -1 , return_train_score = True)"
   ]
  },
  {
   "cell_type": "code",
   "execution_count": 21,
   "id": "db18750d",
   "metadata": {
    "ExecuteTime": {
     "end_time": "2023-10-27T07:56:04.956190Z",
     "start_time": "2023-10-27T07:56:04.941175Z"
    }
   },
   "outputs": [
    {
     "data": {
      "text/plain": [
       "{'fit_time': array([0.69755101, 0.34167576, 0.34167576, 0.68192625, 0.54030037]),\n",
       " 'score_time': array([0.03232384, 0.18173504, 0.0961926 , 0.03232384, 0.14162588]),\n",
       " 'test_score': array([0.79765131, 0.81300813, 0.80126468, 0.79223126, 0.80560579]),\n",
       " 'train_score': array([0.95166027, 0.94827197, 0.95007906, 0.95211204, 0.95031617])}"
      ]
     },
     "execution_count": 21,
     "metadata": {},
     "output_type": "execute_result"
    }
   ],
   "source": [
    "scores"
   ]
  },
  {
   "cell_type": "code",
   "execution_count": 22,
   "id": "6f3efc8b",
   "metadata": {
    "ExecuteTime": {
     "end_time": "2023-10-27T07:56:04.971541Z",
     "start_time": "2023-10-27T07:56:04.956797Z"
    }
   },
   "outputs": [
    {
     "data": {
      "text/plain": [
       "(0.9504879007829308, 0.8019522323011055)"
      ]
     },
     "execution_count": 22,
     "metadata": {},
     "output_type": "execute_result"
    }
   ],
   "source": [
    "np.mean(scores['train_score']) , np.mean(scores['test_score'])"
   ]
  },
  {
   "cell_type": "code",
   "execution_count": 23,
   "id": "c1ba4cf3",
   "metadata": {
    "ExecuteTime": {
     "end_time": "2023-10-27T07:56:07.570083Z",
     "start_time": "2023-10-27T07:56:04.973534Z"
    }
   },
   "outputs": [
    {
     "data": {
      "text/plain": [
       "0.8030405206912083"
      ]
     },
     "execution_count": 23,
     "metadata": {},
     "output_type": "execute_result"
    }
   ],
   "source": [
    "from sklearn.model_selection import StratifiedKFold\n",
    "splitter = StratifiedKFold(n_splits = 10 , shuffle = True , random_state = 42) \n",
    "scores = cross_validate(rf , train_input , train_target , cv =  splitter)\n",
    "np.mean(scores['test_score'])"
   ]
  },
  {
   "cell_type": "code",
   "execution_count": 24,
   "id": "6749f8dd",
   "metadata": {
    "ExecuteTime": {
     "end_time": "2023-10-27T07:56:07.575128Z",
     "start_time": "2023-10-27T07:56:07.570853Z"
    }
   },
   "outputs": [],
   "source": [
    "params = {\n",
    "    'max_depth' : [8,16,24 , 32],\n",
    "    'min_samples_leaf' : [1,6,12 , 24],\n",
    "    'min_samples_split' : [2,8,16 , 24]\n",
    "}"
   ]
  },
  {
   "cell_type": "code",
   "execution_count": 25,
   "id": "f8e04aad",
   "metadata": {
    "ExecuteTime": {
     "end_time": "2023-10-27T07:56:35.170359Z",
     "start_time": "2023-10-27T07:56:07.576148Z"
    }
   },
   "outputs": [
    {
     "name": "stdout",
     "output_type": "stream",
     "text": [
      "{'max_depth': 16, 'min_samples_leaf': 1, 'min_samples_split': 8}\n",
      "0.8160473135774154\n"
     ]
    }
   ],
   "source": [
    "from sklearn.model_selection import GridSearchCV\n",
    "gs = GridSearchCV(RandomForestClassifier(n_jobs = -1) , params , n_jobs = -1)\n",
    "gs.fit(train_scaled , train_target)\n",
    "print(gs.best_params_)\n",
    "print(gs.best_score_)"
   ]
  },
  {
   "cell_type": "code",
   "execution_count": 26,
   "id": "8751aa53",
   "metadata": {
    "ExecuteTime": {
     "end_time": "2023-10-27T07:56:35.789449Z",
     "start_time": "2023-10-27T07:56:35.171358Z"
    }
   },
   "outputs": [
    {
     "data": {
      "text/html": [
       "<style>#sk-container-id-1 {color: black;}#sk-container-id-1 pre{padding: 0;}#sk-container-id-1 div.sk-toggleable {background-color: white;}#sk-container-id-1 label.sk-toggleable__label {cursor: pointer;display: block;width: 100%;margin-bottom: 0;padding: 0.3em;box-sizing: border-box;text-align: center;}#sk-container-id-1 label.sk-toggleable__label-arrow:before {content: \"▸\";float: left;margin-right: 0.25em;color: #696969;}#sk-container-id-1 label.sk-toggleable__label-arrow:hover:before {color: black;}#sk-container-id-1 div.sk-estimator:hover label.sk-toggleable__label-arrow:before {color: black;}#sk-container-id-1 div.sk-toggleable__content {max-height: 0;max-width: 0;overflow: hidden;text-align: left;background-color: #f0f8ff;}#sk-container-id-1 div.sk-toggleable__content pre {margin: 0.2em;color: black;border-radius: 0.25em;background-color: #f0f8ff;}#sk-container-id-1 input.sk-toggleable__control:checked~div.sk-toggleable__content {max-height: 200px;max-width: 100%;overflow: auto;}#sk-container-id-1 input.sk-toggleable__control:checked~label.sk-toggleable__label-arrow:before {content: \"▾\";}#sk-container-id-1 div.sk-estimator input.sk-toggleable__control:checked~label.sk-toggleable__label {background-color: #d4ebff;}#sk-container-id-1 div.sk-label input.sk-toggleable__control:checked~label.sk-toggleable__label {background-color: #d4ebff;}#sk-container-id-1 input.sk-hidden--visually {border: 0;clip: rect(1px 1px 1px 1px);clip: rect(1px, 1px, 1px, 1px);height: 1px;margin: -1px;overflow: hidden;padding: 0;position: absolute;width: 1px;}#sk-container-id-1 div.sk-estimator {font-family: monospace;background-color: #f0f8ff;border: 1px dotted black;border-radius: 0.25em;box-sizing: border-box;margin-bottom: 0.5em;}#sk-container-id-1 div.sk-estimator:hover {background-color: #d4ebff;}#sk-container-id-1 div.sk-parallel-item::after {content: \"\";width: 100%;border-bottom: 1px solid gray;flex-grow: 1;}#sk-container-id-1 div.sk-label:hover label.sk-toggleable__label {background-color: #d4ebff;}#sk-container-id-1 div.sk-serial::before {content: \"\";position: absolute;border-left: 1px solid gray;box-sizing: border-box;top: 0;bottom: 0;left: 50%;z-index: 0;}#sk-container-id-1 div.sk-serial {display: flex;flex-direction: column;align-items: center;background-color: white;padding-right: 0.2em;padding-left: 0.2em;position: relative;}#sk-container-id-1 div.sk-item {position: relative;z-index: 1;}#sk-container-id-1 div.sk-parallel {display: flex;align-items: stretch;justify-content: center;background-color: white;position: relative;}#sk-container-id-1 div.sk-item::before, #sk-container-id-1 div.sk-parallel-item::before {content: \"\";position: absolute;border-left: 1px solid gray;box-sizing: border-box;top: 0;bottom: 0;left: 50%;z-index: -1;}#sk-container-id-1 div.sk-parallel-item {display: flex;flex-direction: column;z-index: 1;position: relative;background-color: white;}#sk-container-id-1 div.sk-parallel-item:first-child::after {align-self: flex-end;width: 50%;}#sk-container-id-1 div.sk-parallel-item:last-child::after {align-self: flex-start;width: 50%;}#sk-container-id-1 div.sk-parallel-item:only-child::after {width: 0;}#sk-container-id-1 div.sk-dashed-wrapped {border: 1px dashed gray;margin: 0 0.4em 0.5em 0.4em;box-sizing: border-box;padding-bottom: 0.4em;background-color: white;}#sk-container-id-1 div.sk-label label {font-family: monospace;font-weight: bold;display: inline-block;line-height: 1.2em;}#sk-container-id-1 div.sk-label-container {text-align: center;}#sk-container-id-1 div.sk-container {/* jupyter's `normalize.less` sets `[hidden] { display: none; }` but bootstrap.min.css set `[hidden] { display: none !important; }` so we also need the `!important` here to be able to override the default hidden behavior on the sphinx rendered scikit-learn.org. See: https://github.com/scikit-learn/scikit-learn/issues/21755 */display: inline-block !important;position: relative;}#sk-container-id-1 div.sk-text-repr-fallback {display: none;}</style><div id=\"sk-container-id-1\" class=\"sk-top-container\"><div class=\"sk-text-repr-fallback\"><pre>RandomForestClassifier(max_depth=16, random_state=20)</pre><b>In a Jupyter environment, please rerun this cell to show the HTML representation or trust the notebook. <br />On GitHub, the HTML representation is unable to render, please try loading this page with nbviewer.org.</b></div><div class=\"sk-container\" hidden><div class=\"sk-item\"><div class=\"sk-estimator sk-toggleable\"><input class=\"sk-toggleable__control sk-hidden--visually\" id=\"sk-estimator-id-1\" type=\"checkbox\" checked><label for=\"sk-estimator-id-1\" class=\"sk-toggleable__label sk-toggleable__label-arrow\">RandomForestClassifier</label><div class=\"sk-toggleable__content\"><pre>RandomForestClassifier(max_depth=16, random_state=20)</pre></div></div></div></div></div>"
      ],
      "text/plain": [
       "RandomForestClassifier(max_depth=16, random_state=20)"
      ]
     },
     "execution_count": 26,
     "metadata": {},
     "output_type": "execute_result"
    }
   ],
   "source": [
    "rfbest = RandomForestClassifier(max_depth = 16 , random_state = 20)\n",
    "rfbest.fit(train_input , train_target)"
   ]
  },
  {
   "cell_type": "code",
   "execution_count": 27,
   "id": "06cb4738",
   "metadata": {
    "ExecuteTime": {
     "end_time": "2023-10-27T07:56:35.929683Z",
     "start_time": "2023-10-27T07:56:35.791507Z"
    }
   },
   "outputs": [
    {
     "data": {
      "text/plain": [
       "(0.9307914709071197, 0.8136593591905565)"
      ]
     },
     "execution_count": 27,
     "metadata": {},
     "output_type": "execute_result"
    }
   ],
   "source": [
    "rfbest.score(train_input , train_target) , rfbest.score(test_input , test_target)"
   ]
  },
  {
   "cell_type": "markdown",
   "id": "d206ea7a",
   "metadata": {},
   "source": [
    "## RandomForest에서 최적의 파라미터는 max_depth = 16 이고 , 0.99 , 0.94 정도의 점수를 가진다"
   ]
  },
  {
   "cell_type": "markdown",
   "id": "07ab757e",
   "metadata": {},
   "source": [
    "# KNN"
   ]
  },
  {
   "cell_type": "code",
   "execution_count": 28,
   "id": "63a6ad75",
   "metadata": {
    "ExecuteTime": {
     "end_time": "2023-10-27T07:56:36.113833Z",
     "start_time": "2023-10-27T07:56:35.930437Z"
    }
   },
   "outputs": [
    {
     "name": "stdout",
     "output_type": "stream",
     "text": [
      "0.8507408745934225\n",
      "0.7946880269814502\n"
     ]
    }
   ],
   "source": [
    "from sklearn.neighbors import KNeighborsClassifier\n",
    "kn = KNeighborsClassifier()\n",
    "kn.fit(train_scaled , train_target)\n",
    "print(kn.score(train_scaled , train_target))\n",
    "print(kn.score(test_scaled , test_target))"
   ]
  },
  {
   "cell_type": "code",
   "execution_count": 29,
   "id": "7b642352",
   "metadata": {
    "ExecuteTime": {
     "end_time": "2023-10-27T07:56:36.129717Z",
     "start_time": "2023-10-27T07:56:36.113833Z"
    }
   },
   "outputs": [],
   "source": [
    "params = {'n_neighbors' : np.arange(3,30)}"
   ]
  },
  {
   "cell_type": "code",
   "execution_count": 30,
   "id": "189d0003",
   "metadata": {
    "ExecuteTime": {
     "end_time": "2023-10-27T07:56:37.729743Z",
     "start_time": "2023-10-27T07:56:36.131228Z"
    }
   },
   "outputs": [
    {
     "data": {
      "text/html": [
       "<style>#sk-container-id-2 {color: black;}#sk-container-id-2 pre{padding: 0;}#sk-container-id-2 div.sk-toggleable {background-color: white;}#sk-container-id-2 label.sk-toggleable__label {cursor: pointer;display: block;width: 100%;margin-bottom: 0;padding: 0.3em;box-sizing: border-box;text-align: center;}#sk-container-id-2 label.sk-toggleable__label-arrow:before {content: \"▸\";float: left;margin-right: 0.25em;color: #696969;}#sk-container-id-2 label.sk-toggleable__label-arrow:hover:before {color: black;}#sk-container-id-2 div.sk-estimator:hover label.sk-toggleable__label-arrow:before {color: black;}#sk-container-id-2 div.sk-toggleable__content {max-height: 0;max-width: 0;overflow: hidden;text-align: left;background-color: #f0f8ff;}#sk-container-id-2 div.sk-toggleable__content pre {margin: 0.2em;color: black;border-radius: 0.25em;background-color: #f0f8ff;}#sk-container-id-2 input.sk-toggleable__control:checked~div.sk-toggleable__content {max-height: 200px;max-width: 100%;overflow: auto;}#sk-container-id-2 input.sk-toggleable__control:checked~label.sk-toggleable__label-arrow:before {content: \"▾\";}#sk-container-id-2 div.sk-estimator input.sk-toggleable__control:checked~label.sk-toggleable__label {background-color: #d4ebff;}#sk-container-id-2 div.sk-label input.sk-toggleable__control:checked~label.sk-toggleable__label {background-color: #d4ebff;}#sk-container-id-2 input.sk-hidden--visually {border: 0;clip: rect(1px 1px 1px 1px);clip: rect(1px, 1px, 1px, 1px);height: 1px;margin: -1px;overflow: hidden;padding: 0;position: absolute;width: 1px;}#sk-container-id-2 div.sk-estimator {font-family: monospace;background-color: #f0f8ff;border: 1px dotted black;border-radius: 0.25em;box-sizing: border-box;margin-bottom: 0.5em;}#sk-container-id-2 div.sk-estimator:hover {background-color: #d4ebff;}#sk-container-id-2 div.sk-parallel-item::after {content: \"\";width: 100%;border-bottom: 1px solid gray;flex-grow: 1;}#sk-container-id-2 div.sk-label:hover label.sk-toggleable__label {background-color: #d4ebff;}#sk-container-id-2 div.sk-serial::before {content: \"\";position: absolute;border-left: 1px solid gray;box-sizing: border-box;top: 0;bottom: 0;left: 50%;z-index: 0;}#sk-container-id-2 div.sk-serial {display: flex;flex-direction: column;align-items: center;background-color: white;padding-right: 0.2em;padding-left: 0.2em;position: relative;}#sk-container-id-2 div.sk-item {position: relative;z-index: 1;}#sk-container-id-2 div.sk-parallel {display: flex;align-items: stretch;justify-content: center;background-color: white;position: relative;}#sk-container-id-2 div.sk-item::before, #sk-container-id-2 div.sk-parallel-item::before {content: \"\";position: absolute;border-left: 1px solid gray;box-sizing: border-box;top: 0;bottom: 0;left: 50%;z-index: -1;}#sk-container-id-2 div.sk-parallel-item {display: flex;flex-direction: column;z-index: 1;position: relative;background-color: white;}#sk-container-id-2 div.sk-parallel-item:first-child::after {align-self: flex-end;width: 50%;}#sk-container-id-2 div.sk-parallel-item:last-child::after {align-self: flex-start;width: 50%;}#sk-container-id-2 div.sk-parallel-item:only-child::after {width: 0;}#sk-container-id-2 div.sk-dashed-wrapped {border: 1px dashed gray;margin: 0 0.4em 0.5em 0.4em;box-sizing: border-box;padding-bottom: 0.4em;background-color: white;}#sk-container-id-2 div.sk-label label {font-family: monospace;font-weight: bold;display: inline-block;line-height: 1.2em;}#sk-container-id-2 div.sk-label-container {text-align: center;}#sk-container-id-2 div.sk-container {/* jupyter's `normalize.less` sets `[hidden] { display: none; }` but bootstrap.min.css set `[hidden] { display: none !important; }` so we also need the `!important` here to be able to override the default hidden behavior on the sphinx rendered scikit-learn.org. See: https://github.com/scikit-learn/scikit-learn/issues/21755 */display: inline-block !important;position: relative;}#sk-container-id-2 div.sk-text-repr-fallback {display: none;}</style><div id=\"sk-container-id-2\" class=\"sk-top-container\"><div class=\"sk-text-repr-fallback\"><pre>GridSearchCV(estimator=KNeighborsClassifier(), n_jobs=-1,\n",
       "             param_grid={&#x27;n_neighbors&#x27;: array([ 3,  4,  5,  6,  7,  8,  9, 10, 11, 12, 13, 14, 15, 16, 17, 18, 19,\n",
       "       20, 21, 22, 23, 24, 25, 26, 27, 28, 29])})</pre><b>In a Jupyter environment, please rerun this cell to show the HTML representation or trust the notebook. <br />On GitHub, the HTML representation is unable to render, please try loading this page with nbviewer.org.</b></div><div class=\"sk-container\" hidden><div class=\"sk-item sk-dashed-wrapped\"><div class=\"sk-label-container\"><div class=\"sk-label sk-toggleable\"><input class=\"sk-toggleable__control sk-hidden--visually\" id=\"sk-estimator-id-2\" type=\"checkbox\" ><label for=\"sk-estimator-id-2\" class=\"sk-toggleable__label sk-toggleable__label-arrow\">GridSearchCV</label><div class=\"sk-toggleable__content\"><pre>GridSearchCV(estimator=KNeighborsClassifier(), n_jobs=-1,\n",
       "             param_grid={&#x27;n_neighbors&#x27;: array([ 3,  4,  5,  6,  7,  8,  9, 10, 11, 12, 13, 14, 15, 16, 17, 18, 19,\n",
       "       20, 21, 22, 23, 24, 25, 26, 27, 28, 29])})</pre></div></div></div><div class=\"sk-parallel\"><div class=\"sk-parallel-item\"><div class=\"sk-item\"><div class=\"sk-label-container\"><div class=\"sk-label sk-toggleable\"><input class=\"sk-toggleable__control sk-hidden--visually\" id=\"sk-estimator-id-3\" type=\"checkbox\" ><label for=\"sk-estimator-id-3\" class=\"sk-toggleable__label sk-toggleable__label-arrow\">estimator: KNeighborsClassifier</label><div class=\"sk-toggleable__content\"><pre>KNeighborsClassifier()</pre></div></div></div><div class=\"sk-serial\"><div class=\"sk-item\"><div class=\"sk-estimator sk-toggleable\"><input class=\"sk-toggleable__control sk-hidden--visually\" id=\"sk-estimator-id-4\" type=\"checkbox\" ><label for=\"sk-estimator-id-4\" class=\"sk-toggleable__label sk-toggleable__label-arrow\">KNeighborsClassifier</label><div class=\"sk-toggleable__content\"><pre>KNeighborsClassifier()</pre></div></div></div></div></div></div></div></div></div></div>"
      ],
      "text/plain": [
       "GridSearchCV(estimator=KNeighborsClassifier(), n_jobs=-1,\n",
       "             param_grid={'n_neighbors': array([ 3,  4,  5,  6,  7,  8,  9, 10, 11, 12, 13, 14, 15, 16, 17, 18, 19,\n",
       "       20, 21, 22, 23, 24, 25, 26, 27, 28, 29])})"
      ]
     },
     "execution_count": 30,
     "metadata": {},
     "output_type": "execute_result"
    }
   ],
   "source": [
    "from sklearn.model_selection import GridSearchCV\n",
    "gs = GridSearchCV(KNeighborsClassifier() , params , n_jobs = -1)\n",
    "gs.fit(train_scaled , train_target)"
   ]
  },
  {
   "cell_type": "code",
   "execution_count": 31,
   "id": "5d76ffab",
   "metadata": {
    "ExecuteTime": {
     "end_time": "2023-10-27T07:56:37.746292Z",
     "start_time": "2023-10-27T07:56:37.730590Z"
    }
   },
   "outputs": [],
   "source": [
    "knnbest = gs.best_estimator_"
   ]
  },
  {
   "cell_type": "code",
   "execution_count": 32,
   "id": "2d1bb4dc",
   "metadata": {
    "ExecuteTime": {
     "end_time": "2023-10-27T07:56:37.779611Z",
     "start_time": "2023-10-27T07:56:37.748644Z"
    }
   },
   "outputs": [
    {
     "data": {
      "text/html": [
       "<style>#sk-container-id-3 {color: black;}#sk-container-id-3 pre{padding: 0;}#sk-container-id-3 div.sk-toggleable {background-color: white;}#sk-container-id-3 label.sk-toggleable__label {cursor: pointer;display: block;width: 100%;margin-bottom: 0;padding: 0.3em;box-sizing: border-box;text-align: center;}#sk-container-id-3 label.sk-toggleable__label-arrow:before {content: \"▸\";float: left;margin-right: 0.25em;color: #696969;}#sk-container-id-3 label.sk-toggleable__label-arrow:hover:before {color: black;}#sk-container-id-3 div.sk-estimator:hover label.sk-toggleable__label-arrow:before {color: black;}#sk-container-id-3 div.sk-toggleable__content {max-height: 0;max-width: 0;overflow: hidden;text-align: left;background-color: #f0f8ff;}#sk-container-id-3 div.sk-toggleable__content pre {margin: 0.2em;color: black;border-radius: 0.25em;background-color: #f0f8ff;}#sk-container-id-3 input.sk-toggleable__control:checked~div.sk-toggleable__content {max-height: 200px;max-width: 100%;overflow: auto;}#sk-container-id-3 input.sk-toggleable__control:checked~label.sk-toggleable__label-arrow:before {content: \"▾\";}#sk-container-id-3 div.sk-estimator input.sk-toggleable__control:checked~label.sk-toggleable__label {background-color: #d4ebff;}#sk-container-id-3 div.sk-label input.sk-toggleable__control:checked~label.sk-toggleable__label {background-color: #d4ebff;}#sk-container-id-3 input.sk-hidden--visually {border: 0;clip: rect(1px 1px 1px 1px);clip: rect(1px, 1px, 1px, 1px);height: 1px;margin: -1px;overflow: hidden;padding: 0;position: absolute;width: 1px;}#sk-container-id-3 div.sk-estimator {font-family: monospace;background-color: #f0f8ff;border: 1px dotted black;border-radius: 0.25em;box-sizing: border-box;margin-bottom: 0.5em;}#sk-container-id-3 div.sk-estimator:hover {background-color: #d4ebff;}#sk-container-id-3 div.sk-parallel-item::after {content: \"\";width: 100%;border-bottom: 1px solid gray;flex-grow: 1;}#sk-container-id-3 div.sk-label:hover label.sk-toggleable__label {background-color: #d4ebff;}#sk-container-id-3 div.sk-serial::before {content: \"\";position: absolute;border-left: 1px solid gray;box-sizing: border-box;top: 0;bottom: 0;left: 50%;z-index: 0;}#sk-container-id-3 div.sk-serial {display: flex;flex-direction: column;align-items: center;background-color: white;padding-right: 0.2em;padding-left: 0.2em;position: relative;}#sk-container-id-3 div.sk-item {position: relative;z-index: 1;}#sk-container-id-3 div.sk-parallel {display: flex;align-items: stretch;justify-content: center;background-color: white;position: relative;}#sk-container-id-3 div.sk-item::before, #sk-container-id-3 div.sk-parallel-item::before {content: \"\";position: absolute;border-left: 1px solid gray;box-sizing: border-box;top: 0;bottom: 0;left: 50%;z-index: -1;}#sk-container-id-3 div.sk-parallel-item {display: flex;flex-direction: column;z-index: 1;position: relative;background-color: white;}#sk-container-id-3 div.sk-parallel-item:first-child::after {align-self: flex-end;width: 50%;}#sk-container-id-3 div.sk-parallel-item:last-child::after {align-self: flex-start;width: 50%;}#sk-container-id-3 div.sk-parallel-item:only-child::after {width: 0;}#sk-container-id-3 div.sk-dashed-wrapped {border: 1px dashed gray;margin: 0 0.4em 0.5em 0.4em;box-sizing: border-box;padding-bottom: 0.4em;background-color: white;}#sk-container-id-3 div.sk-label label {font-family: monospace;font-weight: bold;display: inline-block;line-height: 1.2em;}#sk-container-id-3 div.sk-label-container {text-align: center;}#sk-container-id-3 div.sk-container {/* jupyter's `normalize.less` sets `[hidden] { display: none; }` but bootstrap.min.css set `[hidden] { display: none !important; }` so we also need the `!important` here to be able to override the default hidden behavior on the sphinx rendered scikit-learn.org. See: https://github.com/scikit-learn/scikit-learn/issues/21755 */display: inline-block !important;position: relative;}#sk-container-id-3 div.sk-text-repr-fallback {display: none;}</style><div id=\"sk-container-id-3\" class=\"sk-top-container\"><div class=\"sk-text-repr-fallback\"><pre>KNeighborsClassifier(n_neighbors=20)</pre><b>In a Jupyter environment, please rerun this cell to show the HTML representation or trust the notebook. <br />On GitHub, the HTML representation is unable to render, please try loading this page with nbviewer.org.</b></div><div class=\"sk-container\" hidden><div class=\"sk-item\"><div class=\"sk-estimator sk-toggleable\"><input class=\"sk-toggleable__control sk-hidden--visually\" id=\"sk-estimator-id-5\" type=\"checkbox\" checked><label for=\"sk-estimator-id-5\" class=\"sk-toggleable__label sk-toggleable__label-arrow\">KNeighborsClassifier</label><div class=\"sk-toggleable__content\"><pre>KNeighborsClassifier(n_neighbors=20)</pre></div></div></div></div></div>"
      ],
      "text/plain": [
       "KNeighborsClassifier(n_neighbors=20)"
      ]
     },
     "execution_count": 32,
     "metadata": {},
     "output_type": "execute_result"
    }
   ],
   "source": [
    "knnbest.fit(train_scaled, train_target)"
   ]
  },
  {
   "cell_type": "code",
   "execution_count": 33,
   "id": "e4c2e64d",
   "metadata": {
    "ExecuteTime": {
     "end_time": "2023-10-27T07:56:38.028932Z",
     "start_time": "2023-10-27T07:56:37.780578Z"
    }
   },
   "outputs": [
    {
     "data": {
      "text/plain": [
       "(0.8140585471629924, 0.8035413153456998)"
      ]
     },
     "execution_count": 33,
     "metadata": {},
     "output_type": "execute_result"
    }
   ],
   "source": [
    "knnbest.score(train_scaled , train_target) , knnbest.score(test_scaled , test_target)"
   ]
  },
  {
   "cell_type": "markdown",
   "id": "e6300790",
   "metadata": {},
   "source": [
    "## KNN에서 가장 최적의  이웃 수는 7. 점수는 0.90과 0.88정도이다."
   ]
  },
  {
   "cell_type": "markdown",
   "id": "07322cbb",
   "metadata": {},
   "source": [
    "# Logistic Regression"
   ]
  },
  {
   "cell_type": "code",
   "execution_count": 34,
   "id": "04b19cdc",
   "metadata": {
    "ExecuteTime": {
     "end_time": "2023-10-27T07:56:38.038177Z",
     "start_time": "2023-10-27T07:56:38.030441Z"
    }
   },
   "outputs": [],
   "source": [
    "from sklearn.linear_model import LogisticRegression\n",
    "lrbest = LogisticRegression()"
   ]
  },
  {
   "cell_type": "code",
   "execution_count": 35,
   "id": "683bceb7",
   "metadata": {
    "ExecuteTime": {
     "end_time": "2023-10-27T07:56:38.053183Z",
     "start_time": "2023-10-27T07:56:38.039305Z"
    }
   },
   "outputs": [],
   "source": [
    "sub_input , val_input , sub_target , val_target = train_test_split(train_input , train_target , test_size = 0.2 , random_state = 42)"
   ]
  },
  {
   "cell_type": "code",
   "execution_count": 36,
   "id": "0cb8e120",
   "metadata": {
    "ExecuteTime": {
     "end_time": "2023-10-27T07:56:38.213873Z",
     "start_time": "2023-10-27T07:56:38.053183Z"
    }
   },
   "outputs": [
    {
     "data": {
      "text/plain": [
       "{'fit_time': array([0.03157902, 0.03290462, 0.01688433, 0.02361417, 0.02737308]),\n",
       " 'score_time': array([0.        , 0.        , 0.        , 0.        , 0.00098968]),\n",
       " 'test_score': array([0.62511292, 0.61698284, 0.61878952, 0.63504968, 0.6238698 ])}"
      ]
     },
     "execution_count": 36,
     "metadata": {},
     "output_type": "execute_result"
    }
   ],
   "source": [
    "#10개의 K-Flod 교차 검증\n",
    "from sklearn.model_selection import StratifiedKFold\n",
    "\n",
    "scores = cross_validate(lrbest , train_input , train_target , cv =  StratifiedKFold())\n",
    "scores"
   ]
  },
  {
   "cell_type": "code",
   "execution_count": 37,
   "id": "7d79a768",
   "metadata": {
    "ExecuteTime": {
     "end_time": "2023-10-27T07:56:38.222988Z",
     "start_time": "2023-10-27T07:56:38.215875Z"
    }
   },
   "outputs": [
    {
     "data": {
      "text/plain": [
       "0.6239609520869169"
      ]
     },
     "execution_count": 37,
     "metadata": {},
     "output_type": "execute_result"
    }
   ],
   "source": [
    "np.mean(scores['test_score'])"
   ]
  },
  {
   "cell_type": "code",
   "execution_count": 38,
   "id": "e8c31b71",
   "metadata": {
    "ExecuteTime": {
     "end_time": "2023-10-27T07:56:38.267506Z",
     "start_time": "2023-10-27T07:56:38.222988Z"
    }
   },
   "outputs": [
    {
     "data": {
      "text/html": [
       "<style>#sk-container-id-4 {color: black;}#sk-container-id-4 pre{padding: 0;}#sk-container-id-4 div.sk-toggleable {background-color: white;}#sk-container-id-4 label.sk-toggleable__label {cursor: pointer;display: block;width: 100%;margin-bottom: 0;padding: 0.3em;box-sizing: border-box;text-align: center;}#sk-container-id-4 label.sk-toggleable__label-arrow:before {content: \"▸\";float: left;margin-right: 0.25em;color: #696969;}#sk-container-id-4 label.sk-toggleable__label-arrow:hover:before {color: black;}#sk-container-id-4 div.sk-estimator:hover label.sk-toggleable__label-arrow:before {color: black;}#sk-container-id-4 div.sk-toggleable__content {max-height: 0;max-width: 0;overflow: hidden;text-align: left;background-color: #f0f8ff;}#sk-container-id-4 div.sk-toggleable__content pre {margin: 0.2em;color: black;border-radius: 0.25em;background-color: #f0f8ff;}#sk-container-id-4 input.sk-toggleable__control:checked~div.sk-toggleable__content {max-height: 200px;max-width: 100%;overflow: auto;}#sk-container-id-4 input.sk-toggleable__control:checked~label.sk-toggleable__label-arrow:before {content: \"▾\";}#sk-container-id-4 div.sk-estimator input.sk-toggleable__control:checked~label.sk-toggleable__label {background-color: #d4ebff;}#sk-container-id-4 div.sk-label input.sk-toggleable__control:checked~label.sk-toggleable__label {background-color: #d4ebff;}#sk-container-id-4 input.sk-hidden--visually {border: 0;clip: rect(1px 1px 1px 1px);clip: rect(1px, 1px, 1px, 1px);height: 1px;margin: -1px;overflow: hidden;padding: 0;position: absolute;width: 1px;}#sk-container-id-4 div.sk-estimator {font-family: monospace;background-color: #f0f8ff;border: 1px dotted black;border-radius: 0.25em;box-sizing: border-box;margin-bottom: 0.5em;}#sk-container-id-4 div.sk-estimator:hover {background-color: #d4ebff;}#sk-container-id-4 div.sk-parallel-item::after {content: \"\";width: 100%;border-bottom: 1px solid gray;flex-grow: 1;}#sk-container-id-4 div.sk-label:hover label.sk-toggleable__label {background-color: #d4ebff;}#sk-container-id-4 div.sk-serial::before {content: \"\";position: absolute;border-left: 1px solid gray;box-sizing: border-box;top: 0;bottom: 0;left: 50%;z-index: 0;}#sk-container-id-4 div.sk-serial {display: flex;flex-direction: column;align-items: center;background-color: white;padding-right: 0.2em;padding-left: 0.2em;position: relative;}#sk-container-id-4 div.sk-item {position: relative;z-index: 1;}#sk-container-id-4 div.sk-parallel {display: flex;align-items: stretch;justify-content: center;background-color: white;position: relative;}#sk-container-id-4 div.sk-item::before, #sk-container-id-4 div.sk-parallel-item::before {content: \"\";position: absolute;border-left: 1px solid gray;box-sizing: border-box;top: 0;bottom: 0;left: 50%;z-index: -1;}#sk-container-id-4 div.sk-parallel-item {display: flex;flex-direction: column;z-index: 1;position: relative;background-color: white;}#sk-container-id-4 div.sk-parallel-item:first-child::after {align-self: flex-end;width: 50%;}#sk-container-id-4 div.sk-parallel-item:last-child::after {align-self: flex-start;width: 50%;}#sk-container-id-4 div.sk-parallel-item:only-child::after {width: 0;}#sk-container-id-4 div.sk-dashed-wrapped {border: 1px dashed gray;margin: 0 0.4em 0.5em 0.4em;box-sizing: border-box;padding-bottom: 0.4em;background-color: white;}#sk-container-id-4 div.sk-label label {font-family: monospace;font-weight: bold;display: inline-block;line-height: 1.2em;}#sk-container-id-4 div.sk-label-container {text-align: center;}#sk-container-id-4 div.sk-container {/* jupyter's `normalize.less` sets `[hidden] { display: none; }` but bootstrap.min.css set `[hidden] { display: none !important; }` so we also need the `!important` here to be able to override the default hidden behavior on the sphinx rendered scikit-learn.org. See: https://github.com/scikit-learn/scikit-learn/issues/21755 */display: inline-block !important;position: relative;}#sk-container-id-4 div.sk-text-repr-fallback {display: none;}</style><div id=\"sk-container-id-4\" class=\"sk-top-container\"><div class=\"sk-text-repr-fallback\"><pre>LogisticRegression()</pre><b>In a Jupyter environment, please rerun this cell to show the HTML representation or trust the notebook. <br />On GitHub, the HTML representation is unable to render, please try loading this page with nbviewer.org.</b></div><div class=\"sk-container\" hidden><div class=\"sk-item\"><div class=\"sk-estimator sk-toggleable\"><input class=\"sk-toggleable__control sk-hidden--visually\" id=\"sk-estimator-id-6\" type=\"checkbox\" checked><label for=\"sk-estimator-id-6\" class=\"sk-toggleable__label sk-toggleable__label-arrow\">LogisticRegression</label><div class=\"sk-toggleable__content\"><pre>LogisticRegression()</pre></div></div></div></div></div>"
      ],
      "text/plain": [
       "LogisticRegression()"
      ]
     },
     "execution_count": 38,
     "metadata": {},
     "output_type": "execute_result"
    }
   ],
   "source": [
    "lrbest.fit(train_scaled , train_target)"
   ]
  },
  {
   "cell_type": "code",
   "execution_count": 39,
   "id": "526747a2",
   "metadata": {
    "ExecuteTime": {
     "end_time": "2023-10-27T07:56:38.288136Z",
     "start_time": "2023-10-27T07:56:38.269005Z"
    }
   },
   "outputs": [
    {
     "data": {
      "text/plain": [
       "(0.7734007950849295, 0.7677065767284992)"
      ]
     },
     "execution_count": 39,
     "metadata": {},
     "output_type": "execute_result"
    }
   ],
   "source": [
    "lrbest.score(train_scaled , train_target) , lrbest.score(test_scaled , test_target)"
   ]
  },
  {
   "cell_type": "markdown",
   "id": "79b1970d",
   "metadata": {},
   "source": [
    "## 교차 검증보다 한번 나누는 것이 점수가 높다."
   ]
  },
  {
   "cell_type": "code",
   "execution_count": 40,
   "id": "67c1ee31",
   "metadata": {
    "ExecuteTime": {
     "end_time": "2023-10-27T07:56:39.523946Z",
     "start_time": "2023-10-27T07:56:38.289267Z"
    }
   },
   "outputs": [],
   "source": [
    "c = np.arange(1,1000,20)\n",
    "train = []\n",
    "test = []\n",
    "for i in c:\n",
    "    lrr = LogisticRegression(C = i , random_state = 20)\n",
    "    lrr.fit(train_scaled , train_target)\n",
    "    train.append(lrr.score(train_scaled , train_target))\n",
    "    test.append(lrr.score(test_scaled , test_target))"
   ]
  },
  {
   "cell_type": "code",
   "execution_count": 41,
   "id": "a0b4bea4",
   "metadata": {
    "ExecuteTime": {
     "end_time": "2023-10-27T07:56:39.746993Z",
     "start_time": "2023-10-27T07:56:39.525445Z"
    }
   },
   "outputs": [
    {
     "data": {
      "text/plain": [
       "[<matplotlib.lines.Line2D at 0x2d2610709a0>]"
      ]
     },
     "execution_count": 41,
     "metadata": {},
     "output_type": "execute_result"
    },
    {
     "data": {
      "image/png": "[encoded data removed]",
      "text/plain": [
       "<Figure size 640x480 with 1 Axes>"
      ]
     },
     "metadata": {},
     "output_type": "display_data"
    }
   ],
   "source": [
    "plt.plot(train)\n",
    "plt.plot(test)"
   ]
  },
  {
   "cell_type": "code",
   "execution_count": 42,
   "id": "b496c3d6",
   "metadata": {
    "ExecuteTime": {
     "end_time": "2023-10-27T07:56:39.762939Z",
     "start_time": "2023-10-27T07:56:39.748299Z"
    }
   },
   "outputs": [
    {
     "data": {
      "text/plain": [
       "8"
      ]
     },
     "execution_count": 42,
     "metadata": {},
     "output_type": "execute_result"
    }
   ],
   "source": [
    "test.index(max(test))"
   ]
  },
  {
   "cell_type": "code",
   "execution_count": 43,
   "id": "51fbfed9",
   "metadata": {
    "ExecuteTime": {
     "end_time": "2023-10-27T07:56:39.801922Z",
     "start_time": "2023-10-27T07:56:39.764972Z"
    }
   },
   "outputs": [
    {
     "data": {
      "text/plain": [
       "(0.7734007950849295, 0.7677065767284992)"
      ]
     },
     "execution_count": 43,
     "metadata": {},
     "output_type": "execute_result"
    }
   ],
   "source": [
    "lrbest = LogisticRegression()\n",
    "lrbest.fit(train_scaled , train_target)\n",
    "lrbest.score(train_scaled , train_target) , lrbest.score(test_scaled , test_target)"
   ]
  },
  {
   "cell_type": "markdown",
   "id": "21c59b5e",
   "metadata": {},
   "source": [
    "## train test가 가장 가까운 곳은 test[0]쪽, 규제가 없을 때 , 점수는 0.83 , 0.83점 정도이다."
   ]
  },
  {
   "cell_type": "code",
   "execution_count": 44,
   "id": "45474c48",
   "metadata": {
    "ExecuteTime": {
     "end_time": "2023-10-27T07:56:41.136655Z",
     "start_time": "2023-10-27T07:56:39.803927Z"
    }
   },
   "outputs": [
    {
     "name": "stdout",
     "output_type": "stream",
     "text": [
      "0.7392482833393567\n",
      "0.7322934232715008\n"
     ]
    }
   ],
   "source": [
    "from sklearn.linear_model import SGDClassifier\n",
    "# log_loss : 로지스틱 손실 함수\n",
    "sc = SGDClassifier(loss = 'log_loss' , max_iter = 1000, tol = None , random_state = 20)\n",
    "sc.fit(train_scaled , train_target)\n",
    "print(sc.score(train_scaled , train_target))\n",
    "print(sc.score(test_scaled , test_target))"
   ]
  },
  {
   "cell_type": "code",
   "execution_count": 45,
   "id": "9b1bdcec",
   "metadata": {
    "ExecuteTime": {
     "end_time": "2023-10-27T07:56:41.157844Z",
     "start_time": "2023-10-27T07:56:41.137654Z"
    }
   },
   "outputs": [
    {
     "name": "stdout",
     "output_type": "stream",
     "text": [
      "0.7390675822190098\n",
      "0.7318718381112985\n"
     ]
    }
   ],
   "source": [
    "sc.partial_fit(train_scaled , train_target)\n",
    "print(sc.score(train_scaled , train_target))\n",
    "print(sc.score(test_scaled , test_target))"
   ]
  },
  {
   "cell_type": "markdown",
   "id": "895e4391",
   "metadata": {},
   "source": [
    "## 경사하강법을 해봐도 0.83 , 0.83에 미치지 못한다."
   ]
  },
  {
   "cell_type": "markdown",
   "id": "847cee63",
   "metadata": {},
   "source": [
    "# Decision Tree"
   ]
  },
  {
   "cell_type": "code",
   "execution_count": 46,
   "id": "c56f2fb4",
   "metadata": {
    "ExecuteTime": {
     "end_time": "2023-10-27T07:56:41.172143Z",
     "start_time": "2023-10-27T07:56:41.158842Z"
    }
   },
   "outputs": [],
   "source": [
    "from sklearn.tree import DecisionTreeClassifier\n",
    "dt = DecisionTreeClassifier(random_state = 20)"
   ]
  },
  {
   "cell_type": "code",
   "execution_count": 47,
   "id": "a7259793",
   "metadata": {
    "ExecuteTime": {
     "end_time": "2023-10-27T07:56:41.184866Z",
     "start_time": "2023-10-27T07:56:41.172639Z"
    }
   },
   "outputs": [],
   "source": [
    "params = {\n",
    "    'max_depth' : [8,16,24 , 32],\n",
    "    'min_samples_leaf' : [1,6,12 , 24],\n",
    "    'min_samples_split' : [2,8,16 , 24]\n",
    "}"
   ]
  },
  {
   "cell_type": "code",
   "execution_count": 48,
   "id": "4694b5e2",
   "metadata": {
    "ExecuteTime": {
     "end_time": "2023-10-27T07:56:42.108884Z",
     "start_time": "2023-10-27T07:56:41.185362Z"
    }
   },
   "outputs": [
    {
     "name": "stdout",
     "output_type": "stream",
     "text": [
      "{'max_depth': 16, 'min_samples_leaf': 24, 'min_samples_split': 2}\n",
      "0.8030386934369644\n"
     ]
    }
   ],
   "source": [
    "from sklearn.model_selection import GridSearchCV\n",
    "gs = GridSearchCV(dt , params , n_jobs = -1)\n",
    "gs.fit(train_input , train_target)\n",
    "print(gs.best_params_)\n",
    "print(gs.best_score_)"
   ]
  },
  {
   "cell_type": "code",
   "execution_count": 49,
   "id": "cc7f4e0c",
   "metadata": {
    "ExecuteTime": {
     "end_time": "2023-10-27T07:56:42.134496Z",
     "start_time": "2023-10-27T07:56:42.109882Z"
    }
   },
   "outputs": [
    {
     "name": "stdout",
     "output_type": "stream",
     "text": [
      "0.8346584748825443\n",
      "0.8043844856661045\n"
     ]
    }
   ],
   "source": [
    "dtbest = DecisionTreeClassifier(max_depth = 8 , min_samples_split = 8 , random_state = 20) \n",
    "dtbest.fit(train_input , train_target)\n",
    "print(dtbest.score(train_input , train_target))\n",
    "print(dtbest.score(test_input , test_target))"
   ]
  },
  {
   "cell_type": "markdown",
   "id": "7723f6e5",
   "metadata": {},
   "source": [
    "## DecisionTree는 최대 깊이 24일 때 , 0.98 , 0.88의 점수이다"
   ]
  },
  {
   "cell_type": "markdown",
   "id": "bdc7df3b",
   "metadata": {},
   "source": [
    "# Voting"
   ]
  },
  {
   "cell_type": "code",
   "execution_count": 50,
   "id": "7fae98dc",
   "metadata": {
    "ExecuteTime": {
     "end_time": "2023-10-27T07:56:43.625966Z",
     "start_time": "2023-10-27T07:56:42.134648Z"
    }
   },
   "outputs": [
    {
     "name": "stdout",
     "output_type": "stream",
     "text": [
      "voting 분류기 정확도 :  0.8064924114671164\n",
      "RandomForestClassifier 정확도 : 0.8145025295109612\n",
      "KNeighborsClassifier 정확도 : 0.8090219224283305\n",
      "LogisticRegression 정확도 : 0.7677065767284992\n",
      "DecisionTreeClassifier 정확도 : 0.8039629005059022\n"
     ]
    }
   ],
   "source": [
    "from sklearn.ensemble import VotingClassifier\n",
    "rfbest = RandomForestClassifier(max_depth = 16 , random_state = 20)\n",
    "knnbest = KNeighborsClassifier(n_neighbors = 9)\n",
    "lrbest = LogisticRegression(C = 21)\n",
    "dtbest = DecisionTreeClassifier(max_depth = 8 , min_samples_split = 8 , random_state = 20) \n",
    "#소프트 보팅\n",
    "\n",
    "vo = VotingClassifier(estimators = [('rf' , rfbest) , ('LR' , lrbest),('Knn' , knnbest) , ('dt' , dtbest)] , voting = 'soft')\n",
    "\n",
    "#학습\n",
    "\n",
    "vo.fit(train_input , train_target)\n",
    "\n",
    "#예측\n",
    "\n",
    "pred = vo.predict(test_input)\n",
    "\n",
    "#정확도\n",
    "\n",
    "accuracy = accuracy_score(test_target , pred)\n",
    "\n",
    "print('voting 분류기 정확도 : ' , accuracy)\n",
    "\n",
    "name = [vo.__class__.__name__]\n",
    "acc = [accuracy]\n",
    "models = [rfbest , knnbest , lrbest , dtbest]\n",
    "for i in models:\n",
    "    i.fit(train_scaled , train_target)\n",
    "    pred1 = i.predict(test_scaled)\n",
    "\n",
    "    model_name = i.__class__.__name__\n",
    "    accuracy1 = accuracy_score(test_target , pred1)\n",
    "    name.append(model_name)\n",
    "    acc.append(accuracy1)\n",
    "    print(f'{model_name} 정확도 : {accuracy1}')"
   ]
  },
  {
   "cell_type": "code",
   "execution_count": 51,
   "id": "ea85dfc1",
   "metadata": {
    "ExecuteTime": {
     "end_time": "2023-10-27T07:56:43.778173Z",
     "start_time": "2023-10-27T07:56:43.627288Z"
    }
   },
   "outputs": [
    {
     "data": {
      "image/png": "[encoded data removed]",
      "text/plain": [
       "<Figure size 640x480 with 1 Axes>"
      ]
     },
     "metadata": {},
     "output_type": "display_data"
    }
   ],
   "source": [
    "sns.barplot(x = name , y = acc)\n",
    "plt.xticks(rotation = 45)\n",
    "\n",
    "for i in range(5):\n",
    "    plt.text(i-0.1 , acc[i] , round(acc[i],3))"
   ]
  },
  {
   "cell_type": "markdown",
   "id": "a94c136f",
   "metadata": {},
   "source": [
    "- RandomForest가 정확도가 가장 높다. ( voting 포함 )"
   ]
  },
  {
   "cell_type": "markdown",
   "id": "f64b4c97",
   "metadata": {},
   "source": [
    "# 정확도가 가장 높은 RandomForest로 NA값 대체하기"
   ]
  },
  {
   "cell_type": "code",
   "execution_count": 84,
   "id": "405fe346",
   "metadata": {
    "ExecuteTime": {
     "end_time": "2023-10-27T07:58:55.271293Z",
     "start_time": "2023-10-27T07:58:55.238948Z"
    }
   },
   "outputs": [],
   "source": [
    "true_target = car[car['engine'].isna()]"
   ]
  },
  {
   "cell_type": "code",
   "execution_count": 85,
   "id": "19e7233e",
   "metadata": {
    "ExecuteTime": {
     "end_time": "2023-10-27T07:58:55.521526Z",
     "start_time": "2023-10-27T07:58:55.505539Z"
    }
   },
   "outputs": [
    {
     "data": {
      "text/plain": [
       "5.41671936259011"
      ]
     },
     "execution_count": 85,
     "metadata": {},
     "output_type": "execute_result"
    }
   ],
   "source": [
    "car['seats'].mean()"
   ]
  },
  {
   "cell_type": "code",
   "execution_count": 86,
   "id": "b0f28f96",
   "metadata": {
    "ExecuteTime": {
     "end_time": "2023-10-27T07:58:57.436594Z",
     "start_time": "2023-10-27T07:58:57.424329Z"
    }
   },
   "outputs": [],
   "source": [
    "#여기서 seat의 결측값을 5로 채운 이유는 , 결측값을 제외한 seat의 평균이 5.4였기 때문.\n",
    "true_target['seats'] = 5"
   ]
  },
  {
   "cell_type": "code",
   "execution_count": 87,
   "id": "c31ec932",
   "metadata": {
    "ExecuteTime": {
     "end_time": "2023-10-27T07:58:57.894296Z",
     "start_time": "2023-10-27T07:58:57.876403Z"
    }
   },
   "outputs": [
    {
     "data": {
      "text/html": [
       "<div>\n",
       "<style scoped>\n",
       "    .dataframe tbody tr th:only-of-type {\n",
       "        vertical-align: middle;\n",
       "    }\n",
       "\n",
       "    .dataframe tbody tr th {\n",
       "        vertical-align: top;\n",
       "    }\n",
       "\n",
       "    .dataframe thead th {\n",
       "        text-align: right;\n",
       "    }\n",
       "</style>\n",
       "<table border=\"1\" class=\"dataframe\">\n",
       "  <thead>\n",
       "    <tr style=\"text-align: right;\">\n",
       "      <th></th>\n",
       "      <th>Unnamed: 0</th>\n",
       "      <th>name</th>\n",
       "      <th>year</th>\n",
       "      <th>selling_price</th>\n",
       "      <th>km_driven</th>\n",
       "      <th>fuel</th>\n",
       "      <th>seller_type</th>\n",
       "      <th>transmission</th>\n",
       "      <th>owner</th>\n",
       "      <th>mileage</th>\n",
       "      <th>engine</th>\n",
       "      <th>max_power</th>\n",
       "      <th>torque</th>\n",
       "      <th>seats</th>\n",
       "    </tr>\n",
       "  </thead>\n",
       "  <tbody>\n",
       "    <tr>\n",
       "      <th>13</th>\n",
       "      <td>13</td>\n",
       "      <td>Maruti Swift 1.3 VXi</td>\n",
       "      <td>2007</td>\n",
       "      <td>200000</td>\n",
       "      <td>80000</td>\n",
       "      <td>Petrol</td>\n",
       "      <td>Individual</td>\n",
       "      <td>Manual</td>\n",
       "      <td>Second Owner</td>\n",
       "      <td>NaN</td>\n",
       "      <td>NaN</td>\n",
       "      <td>NaN</td>\n",
       "      <td>NaN</td>\n",
       "      <td>5</td>\n",
       "    </tr>\n",
       "    <tr>\n",
       "      <th>31</th>\n",
       "      <td>31</td>\n",
       "      <td>Fiat Palio 1.2 ELX</td>\n",
       "      <td>2003</td>\n",
       "      <td>70000</td>\n",
       "      <td>50000</td>\n",
       "      <td>Petrol</td>\n",
       "      <td>Individual</td>\n",
       "      <td>Manual</td>\n",
       "      <td>Second Owner</td>\n",
       "      <td>NaN</td>\n",
       "      <td>NaN</td>\n",
       "      <td>NaN</td>\n",
       "      <td>NaN</td>\n",
       "      <td>5</td>\n",
       "    </tr>\n",
       "    <tr>\n",
       "      <th>78</th>\n",
       "      <td>78</td>\n",
       "      <td>Tata Indica DLS</td>\n",
       "      <td>2003</td>\n",
       "      <td>50000</td>\n",
       "      <td>70000</td>\n",
       "      <td>Diesel</td>\n",
       "      <td>Individual</td>\n",
       "      <td>Manual</td>\n",
       "      <td>First Owner</td>\n",
       "      <td>NaN</td>\n",
       "      <td>NaN</td>\n",
       "      <td>NaN</td>\n",
       "      <td>NaN</td>\n",
       "      <td>5</td>\n",
       "    </tr>\n",
       "    <tr>\n",
       "      <th>87</th>\n",
       "      <td>87</td>\n",
       "      <td>Maruti Swift VDI BSIV W ABS</td>\n",
       "      <td>2015</td>\n",
       "      <td>475000</td>\n",
       "      <td>78000</td>\n",
       "      <td>Diesel</td>\n",
       "      <td>Dealer</td>\n",
       "      <td>Manual</td>\n",
       "      <td>First Owner</td>\n",
       "      <td>NaN</td>\n",
       "      <td>NaN</td>\n",
       "      <td>NaN</td>\n",
       "      <td>NaN</td>\n",
       "      <td>5</td>\n",
       "    </tr>\n",
       "    <tr>\n",
       "      <th>119</th>\n",
       "      <td>119</td>\n",
       "      <td>Maruti Swift VDI BSIV</td>\n",
       "      <td>2010</td>\n",
       "      <td>300000</td>\n",
       "      <td>120000</td>\n",
       "      <td>Diesel</td>\n",
       "      <td>Individual</td>\n",
       "      <td>Manual</td>\n",
       "      <td>Second Owner</td>\n",
       "      <td>NaN</td>\n",
       "      <td>NaN</td>\n",
       "      <td>NaN</td>\n",
       "      <td>NaN</td>\n",
       "      <td>5</td>\n",
       "    </tr>\n",
       "    <tr>\n",
       "      <th>...</th>\n",
       "      <td>...</td>\n",
       "      <td>...</td>\n",
       "      <td>...</td>\n",
       "      <td>...</td>\n",
       "      <td>...</td>\n",
       "      <td>...</td>\n",
       "      <td>...</td>\n",
       "      <td>...</td>\n",
       "      <td>...</td>\n",
       "      <td>...</td>\n",
       "      <td>...</td>\n",
       "      <td>...</td>\n",
       "      <td>...</td>\n",
       "      <td>...</td>\n",
       "    </tr>\n",
       "    <tr>\n",
       "      <th>7846</th>\n",
       "      <td>7846</td>\n",
       "      <td>Toyota Qualis Fleet A3</td>\n",
       "      <td>2000</td>\n",
       "      <td>200000</td>\n",
       "      <td>100000</td>\n",
       "      <td>Diesel</td>\n",
       "      <td>Individual</td>\n",
       "      <td>Manual</td>\n",
       "      <td>First Owner</td>\n",
       "      <td>NaN</td>\n",
       "      <td>NaN</td>\n",
       "      <td>NaN</td>\n",
       "      <td>NaN</td>\n",
       "      <td>5</td>\n",
       "    </tr>\n",
       "    <tr>\n",
       "      <th>7996</th>\n",
       "      <td>7996</td>\n",
       "      <td>Hyundai Santro LS zipPlus</td>\n",
       "      <td>2000</td>\n",
       "      <td>140000</td>\n",
       "      <td>50000</td>\n",
       "      <td>Petrol</td>\n",
       "      <td>Individual</td>\n",
       "      <td>Manual</td>\n",
       "      <td>Second Owner</td>\n",
       "      <td>NaN</td>\n",
       "      <td>NaN</td>\n",
       "      <td>NaN</td>\n",
       "      <td>NaN</td>\n",
       "      <td>5</td>\n",
       "    </tr>\n",
       "    <tr>\n",
       "      <th>8009</th>\n",
       "      <td>8009</td>\n",
       "      <td>Hyundai Santro Xing XS eRLX Euro III</td>\n",
       "      <td>2006</td>\n",
       "      <td>145000</td>\n",
       "      <td>80000</td>\n",
       "      <td>Petrol</td>\n",
       "      <td>Individual</td>\n",
       "      <td>Manual</td>\n",
       "      <td>Second Owner</td>\n",
       "      <td>NaN</td>\n",
       "      <td>NaN</td>\n",
       "      <td>NaN</td>\n",
       "      <td>NaN</td>\n",
       "      <td>5</td>\n",
       "    </tr>\n",
       "    <tr>\n",
       "      <th>8068</th>\n",
       "      <td>8068</td>\n",
       "      <td>Ford Figo Aspire Facelift</td>\n",
       "      <td>2017</td>\n",
       "      <td>580000</td>\n",
       "      <td>165000</td>\n",
       "      <td>Diesel</td>\n",
       "      <td>Individual</td>\n",
       "      <td>Manual</td>\n",
       "      <td>First Owner</td>\n",
       "      <td>NaN</td>\n",
       "      <td>NaN</td>\n",
       "      <td>NaN</td>\n",
       "      <td>NaN</td>\n",
       "      <td>5</td>\n",
       "    </tr>\n",
       "    <tr>\n",
       "      <th>8103</th>\n",
       "      <td>8103</td>\n",
       "      <td>Maruti Swift 1.3 VXi</td>\n",
       "      <td>2006</td>\n",
       "      <td>130000</td>\n",
       "      <td>100000</td>\n",
       "      <td>Petrol</td>\n",
       "      <td>Individual</td>\n",
       "      <td>Manual</td>\n",
       "      <td>Second Owner</td>\n",
       "      <td>NaN</td>\n",
       "      <td>NaN</td>\n",
       "      <td>NaN</td>\n",
       "      <td>NaN</td>\n",
       "      <td>5</td>\n",
       "    </tr>\n",
       "  </tbody>\n",
       "</table>\n",
       "<p>221 rows × 14 columns</p>\n",
       "</div>"
      ],
      "text/plain": [
       "      Unnamed: 0                                  name  year  selling_price  \\\n",
       "13            13                  Maruti Swift 1.3 VXi  2007         200000   \n",
       "31            31                    Fiat Palio 1.2 ELX  2003          70000   \n",
       "78            78                       Tata Indica DLS  2003          50000   \n",
       "87            87           Maruti Swift VDI BSIV W ABS  2015         475000   \n",
       "119          119                 Maruti Swift VDI BSIV  2010         300000   \n",
       "...          ...                                   ...   ...            ...   \n",
       "7846        7846                Toyota Qualis Fleet A3  2000         200000   \n",
       "7996        7996             Hyundai Santro LS zipPlus  2000         140000   \n",
       "8009        8009  Hyundai Santro Xing XS eRLX Euro III  2006         145000   \n",
       "8068        8068             Ford Figo Aspire Facelift  2017         580000   \n",
       "8103        8103                  Maruti Swift 1.3 VXi  2006         130000   \n",
       "\n",
       "      km_driven    fuel seller_type transmission         owner mileage engine  \\\n",
       "13        80000  Petrol  Individual       Manual  Second Owner     NaN    NaN   \n",
       "31        50000  Petrol  Individual       Manual  Second Owner     NaN    NaN   \n",
       "78        70000  Diesel  Individual       Manual   First Owner     NaN    NaN   \n",
       "87        78000  Diesel      Dealer       Manual   First Owner     NaN    NaN   \n",
       "119      120000  Diesel  Individual       Manual  Second Owner     NaN    NaN   \n",
       "...         ...     ...         ...          ...           ...     ...    ...   \n",
       "7846     100000  Diesel  Individual       Manual   First Owner     NaN    NaN   \n",
       "7996      50000  Petrol  Individual       Manual  Second Owner     NaN    NaN   \n",
       "8009      80000  Petrol  Individual       Manual  Second Owner     NaN    NaN   \n",
       "8068     165000  Diesel  Individual       Manual   First Owner     NaN    NaN   \n",
       "8103     100000  Petrol  Individual       Manual  Second Owner     NaN    NaN   \n",
       "\n",
       "     max_power torque  seats  \n",
       "13         NaN    NaN      5  \n",
       "31         NaN    NaN      5  \n",
       "78         NaN    NaN      5  \n",
       "87         NaN    NaN      5  \n",
       "119        NaN    NaN      5  \n",
       "...        ...    ...    ...  \n",
       "7846       NaN    NaN      5  \n",
       "7996       NaN    NaN      5  \n",
       "8009       NaN    NaN      5  \n",
       "8068       NaN    NaN      5  \n",
       "8103       NaN    NaN      5  \n",
       "\n",
       "[221 rows x 14 columns]"
      ]
     },
     "execution_count": 87,
     "metadata": {},
     "output_type": "execute_result"
    }
   ],
   "source": [
    "true_target"
   ]
  },
  {
   "cell_type": "code",
   "execution_count": 88,
   "id": "6ae8d421",
   "metadata": {
    "ExecuteTime": {
     "end_time": "2023-10-27T07:59:00.780516Z",
     "start_time": "2023-10-27T07:59:00.769112Z"
    }
   },
   "outputs": [],
   "source": [
    "#engine이 결측값인 행들을 모델에 집어넣기 위해 인덱싱\n",
    "true_input = true_target[['selling_price','km_driven','seats']].to_numpy()"
   ]
  },
  {
   "cell_type": "code",
   "execution_count": 89,
   "id": "66995300",
   "metadata": {
    "ExecuteTime": {
     "end_time": "2023-10-27T07:59:01.515802Z",
     "start_time": "2023-10-27T07:59:01.502776Z"
    }
   },
   "outputs": [
    {
     "data": {
      "text/plain": [
       "array([[ 200000,   80000,       5],\n",
       "       [  70000,   50000,       5],\n",
       "       [  50000,   70000,       5],\n",
       "       [ 475000,   78000,       5],\n",
       "       [ 300000,  120000,       5],\n",
       "       [2150000,   27000,       5],\n",
       "       [ 235000,  120000,       5],\n",
       "       [  40000,   90000,       5],\n",
       "       [ 130000,  120000,       5],\n",
       "       [  75000,  110000,       5],\n",
       "       [ 215000,   70000,       5],\n",
       "       [ 300000,   10000,       5],\n",
       "       [  85000,   60000,       5],\n",
       "       [ 265000,  162000,       5],\n",
       "       [ 330000,  110000,       5],\n",
       "       [ 160000,   50000,       5],\n",
       "       [ 229999,   50000,       5],\n",
       "       [ 204999,   97500,       5],\n",
       "       [ 204999,   97500,       5],\n",
       "       [  72000,  110000,       5],\n",
       "       [ 300000,  120000,       5],\n",
       "       [ 140000,   65000,       5],\n",
       "       [ 250000,   80000,       5],\n",
       "       [ 170000,   55113,       5],\n",
       "       [  50000,   80000,       5],\n",
       "       [  80000,  110000,       5],\n",
       "       [ 400000,   60000,       5],\n",
       "       [  50000,   60000,       5],\n",
       "       [ 300000,   40000,       5],\n",
       "       [ 350000,  160254,       5],\n",
       "       [ 200000,  100000,       5],\n",
       "       [  90000,   90000,       5],\n",
       "       [  80000,   80000,       5],\n",
       "       [ 300000,   80000,       5],\n",
       "       [ 200000,   40000,       5],\n",
       "       [ 140000,   90000,       5],\n",
       "       [ 250000,   90000,       5],\n",
       "       [ 163000,    5000,       5],\n",
       "       [  60000,  120000,       5],\n",
       "       [ 240000,   60000,       5],\n",
       "       [ 315000,  120000,       5],\n",
       "       [ 600000,   60000,       5],\n",
       "       [ 565000,   72000,       5],\n",
       "       [ 120000,  100000,       5],\n",
       "       [ 589000,   41232,       5],\n",
       "       [ 589000,   41232,       5],\n",
       "       [  80000,  118000,       5],\n",
       "       [ 175000,   60000,       5],\n",
       "       [ 285000,   80000,       5],\n",
       "       [ 280000,   80000,       5],\n",
       "       [ 290000,   77000,       5],\n",
       "       [ 150000,   70000,       5],\n",
       "       [ 130000,  120000,       5],\n",
       "       [ 160000,   90000,       5],\n",
       "       [ 190000,   70000,       5],\n",
       "       [ 135000,  132000,       5],\n",
       "       [ 400000,   90000,       5],\n",
       "       [  93000,  120000,       5],\n",
       "       [  60000,   71000,       5],\n",
       "       [  75000,   80000,       5],\n",
       "       [ 127000,  137000,       5],\n",
       "       [ 254999,  190000,       5],\n",
       "       [ 100000,  120000,       5],\n",
       "       [ 280000,   85000,       5],\n",
       "       [ 200000,   80000,       5],\n",
       "       [ 120000,  160000,       5],\n",
       "       [ 120000,   60000,       5],\n",
       "       [ 270000,   70000,       5],\n",
       "       [ 256999,  150000,       5],\n",
       "       [ 200000,  149032,       5],\n",
       "       [ 210000,   84050,       5],\n",
       "       [ 420000,   28100,       5],\n",
       "       [ 120000,  100000,       5],\n",
       "       [  70000,  158000,       5],\n",
       "       [ 295000,   50000,       5],\n",
       "       [ 190000,  120000,       5],\n",
       "       [ 450000,  148000,       5],\n",
       "       [  90000,   82000,       5],\n",
       "       [ 110000,   53563,       5],\n",
       "       [ 105000,   59635,       5],\n",
       "       [ 110000,   58632,       5],\n",
       "       [  80000,  123219,       5],\n",
       "       [ 250000,   90000,       5],\n",
       "       [ 240000,   70000,       5],\n",
       "       [ 240000,   70000,       5],\n",
       "       [ 320000,  120000,       5],\n",
       "       [ 500000,   90000,       5],\n",
       "       [ 130000,  145000,       5],\n",
       "       [ 210000,  275000,       5],\n",
       "       [ 130000,  100000,       5],\n",
       "       [ 400000,   30000,       5],\n",
       "       [ 130000,  100000,       5],\n",
       "       [ 320000,  120000,       5],\n",
       "       [ 170000,  120000,       5],\n",
       "       [  75000,   90000,       5],\n",
       "       [ 375000,   80000,       5],\n",
       "       [  60000,  140000,       5],\n",
       "       [ 210000,  120000,       5],\n",
       "       [ 525000,   38000,       5],\n",
       "       [ 325000,   53287,       5],\n",
       "       [ 350000,   40000,       5],\n",
       "       [  78000,   80000,       5],\n",
       "       [ 415000,   90000,       5],\n",
       "       [ 280000,  100000,       5],\n",
       "       [ 150000,    9558,       5],\n",
       "       [2150000,   50000,       5],\n",
       "       [ 140000,  100000,       5],\n",
       "       [ 120000,  140000,       5],\n",
       "       [ 120000,  170000,       5],\n",
       "       [  85000,   68300,       5],\n",
       "       [ 315000,  100000,       5],\n",
       "       [  90000,   64000,       5],\n",
       "       [  95000,   50000,       5],\n",
       "       [  70000,   80000,       5],\n",
       "       [ 315000,  100000,       5],\n",
       "       [ 340000,  160000,       5],\n",
       "       [ 240000,  134000,       5],\n",
       "       [  75000,   86000,       5],\n",
       "       [  33983,   80000,       5],\n",
       "       [ 210000,   47990,       5],\n",
       "       [ 150000,  100000,       5],\n",
       "       [  95000,  125000,       5],\n",
       "       [ 200000,  120000,       5],\n",
       "       [ 210000,  120000,       5],\n",
       "       [  52000,   70000,       5],\n",
       "       [  60000,   71000,       5],\n",
       "       [  35000,  184000,       5],\n",
       "       [ 270000,  167000,       5],\n",
       "       [ 270000,  167000,       5],\n",
       "       [ 150000,   80000,       5],\n",
       "       [  95000,   60898,       5],\n",
       "       [ 250000,   60000,       5],\n",
       "       [  70000,  100000,       5],\n",
       "       [ 400000,  158500,       5],\n",
       "       [ 400000,  107500,       5],\n",
       "       [ 220000,   25000,       5],\n",
       "       [ 150000,  153000,       5],\n",
       "       [ 325000,   53287,       5],\n",
       "       [ 215000,  218000,       5],\n",
       "       [ 210000,  110000,       5],\n",
       "       [  80000,   35000,       5],\n",
       "       [ 100000,  250000,       5],\n",
       "       [  80000,   90000,       5],\n",
       "       [ 311000,  100000,       5],\n",
       "       [  55000,  120000,       5],\n",
       "       [ 250000,   90000,       5],\n",
       "       [  95000,   90000,       5],\n",
       "       [ 160000,  100000,       5],\n",
       "       [ 600000,   40000,       5],\n",
       "       [ 200000,   90000,       5],\n",
       "       [ 150000,   50000,       5],\n",
       "       [ 170000,   77000,       5],\n",
       "       [ 225000,  120000,       5],\n",
       "       [ 350000,   15000,       5],\n",
       "       [ 120000,  190000,       5],\n",
       "       [ 565000,   72000,       5],\n",
       "       [ 105000,   60000,       5],\n",
       "       [ 275000,  120000,       5],\n",
       "       [  40000,   70000,       5],\n",
       "       [  55000,  120000,       5],\n",
       "       [ 405000,  150000,       5],\n",
       "       [ 150000,   80000,       5],\n",
       "       [ 180000,  163000,       5],\n",
       "       [ 350000,  160000,       5],\n",
       "       [ 180000,   50000,       5],\n",
       "       [  56000,   60000,       5],\n",
       "       [ 320000,   85000,       5],\n",
       "       [ 525000,   38000,       5],\n",
       "       [  85000,   80000,       5],\n",
       "       [ 390000,  140000,       5],\n",
       "       [ 434999,  135000,       5],\n",
       "       [ 350000,  166000,       5],\n",
       "       [ 195000,   56000,       5],\n",
       "       [ 105000,  158107,       5],\n",
       "       [  35000,   75000,       5],\n",
       "       [  85000,  100000,       5],\n",
       "       [ 120000,  120000,       5],\n",
       "       [  95000,  100000,       5],\n",
       "       [ 200000,   80000,       5],\n",
       "       [ 200000,   27000,       5],\n",
       "       [ 130000,   74770,       5],\n",
       "       [ 890000,   70000,       5],\n",
       "       [ 130000,   90000,       5],\n",
       "       [ 170000,  120000,       5],\n",
       "       [  68000,   70000,       5],\n",
       "       [  57000,  110000,       5],\n",
       "       [  30000,   90000,       5],\n",
       "       [ 150000,   60000,       5],\n",
       "       [ 180000,   87000,       5],\n",
       "       [ 200000,  120000,       5],\n",
       "       [ 370000,  120000,       5],\n",
       "       [ 250000,  100000,       5],\n",
       "       [ 100000,   70000,       5],\n",
       "       [ 200000,  120000,       5],\n",
       "       [ 140000,   40000,       5],\n",
       "       [ 175000,   83000,       5],\n",
       "       [  99000,   89500,       5],\n",
       "       [  60000,  100000,       5],\n",
       "       [ 155000,   63000,       5],\n",
       "       [ 400000,   74500,       5],\n",
       "       [ 170000,   50000,       5],\n",
       "       [ 352000,   72179,       5],\n",
       "       [ 595000,   77321,       5],\n",
       "       [  70000,  120000,       5],\n",
       "       [ 198000,   91000,       5],\n",
       "       [ 300000,   70000,       5],\n",
       "       [ 624000,   14681,       5],\n",
       "       [  95000,   90000,       5],\n",
       "       [ 160000,   56000,       5],\n",
       "       [  70000,   50000,       5],\n",
       "       [ 229999,  110000,       5],\n",
       "       [ 215000,   90000,       5],\n",
       "       [ 105000,   60000,       5],\n",
       "       [ 217000,   50000,       5],\n",
       "       [ 125000,   70000,       5],\n",
       "       [  70000,   70000,       5],\n",
       "       [ 200000,  100000,       5],\n",
       "       [ 140000,   50000,       5],\n",
       "       [ 145000,   80000,       5],\n",
       "       [ 580000,  165000,       5],\n",
       "       [ 130000,  100000,       5]], dtype=int64)"
      ]
     },
     "execution_count": 89,
     "metadata": {},
     "output_type": "execute_result"
    }
   ],
   "source": [
    "true_input"
   ]
  },
  {
   "cell_type": "code",
   "execution_count": 90,
   "id": "31800717",
   "metadata": {
    "ExecuteTime": {
     "end_time": "2023-10-27T07:59:04.515270Z",
     "start_time": "2023-10-27T07:59:04.504325Z"
    }
   },
   "outputs": [],
   "source": [
    "#표준화해서 모델을 생성했으므로 표준화작업\n",
    "true_input = ss.transform(true_input)"
   ]
  },
  {
   "cell_type": "code",
   "execution_count": 91,
   "id": "3a51857e",
   "metadata": {
    "ExecuteTime": {
     "end_time": "2023-10-27T07:59:06.705539Z",
     "start_time": "2023-10-27T07:59:06.679108Z"
    }
   },
   "outputs": [
    {
     "data": {
      "text/plain": [
       "array([1, 0, 1, 1, 1, 2, 1, 0, 1, 1, 1, 0, 0, 1, 1, 0, 0, 1, 1, 1, 1, 0,\n",
       "       1, 1, 1, 1, 1, 0, 1, 1, 1, 1, 0, 1, 0, 0, 1, 0, 1, 1, 1, 1, 1, 0,\n",
       "       1, 1, 1, 1, 1, 1, 1, 1, 1, 1, 0, 1, 1, 1, 0, 1, 0, 1, 1, 1, 1, 0,\n",
       "       0, 1, 1, 1, 1, 1, 0, 0, 0, 1, 1, 1, 1, 0, 0, 1, 1, 0, 0, 1, 1, 1,\n",
       "       1, 0, 1, 0, 1, 1, 1, 1, 0, 1, 1, 1, 0, 0, 1, 1, 0, 2, 1, 0, 0, 0,\n",
       "       1, 0, 0, 1, 1, 1, 1, 1, 1, 0, 1, 1, 1, 1, 1, 0, 0, 1, 1, 1, 0, 1,\n",
       "       1, 1, 1, 0, 0, 1, 1, 1, 1, 2, 0, 1, 1, 1, 0, 1, 1, 1, 1, 1, 1, 0,\n",
       "       1, 1, 0, 1, 1, 1, 1, 1, 1, 1, 0, 0, 1, 1, 0, 1, 1, 1, 0, 1, 1, 1,\n",
       "       1, 1, 1, 0, 0, 1, 0, 1, 0, 0, 0, 1, 1, 1, 1, 1, 0, 1, 0, 1, 1, 0,\n",
       "       0, 1, 0, 1, 1, 1, 1, 1, 1, 0, 1, 0, 1, 0, 0, 0, 0, 0, 1, 0, 1, 1,\n",
       "       0], dtype=int64)"
      ]
     },
     "execution_count": 91,
     "metadata": {},
     "output_type": "execute_result"
    }
   ],
   "source": [
    "#결과값\n",
    "rfbest.predict(true_input)"
   ]
  },
  {
   "cell_type": "code",
   "execution_count": 92,
   "id": "ee422888",
   "metadata": {
    "ExecuteTime": {
     "end_time": "2023-10-27T07:59:08.522728Z",
     "start_time": "2023-10-27T07:59:08.492999Z"
    }
   },
   "outputs": [],
   "source": [
    "#결과값 채우기\n",
    "true_target['size'] = rfbest.predict(true_input)"
   ]
  },
  {
   "cell_type": "code",
   "execution_count": 93,
   "id": "976aa0f6",
   "metadata": {
    "ExecuteTime": {
     "end_time": "2023-10-27T07:59:09.688951Z",
     "start_time": "2023-10-27T07:59:09.677451Z"
    }
   },
   "outputs": [
    {
     "data": {
      "text/plain": [
       "((8128, 14), (221, 15))"
      ]
     },
     "execution_count": 93,
     "metadata": {},
     "output_type": "execute_result"
    }
   ],
   "source": [
    "#car가 16열인 이유는 , 앞의 unnamed 때문\n",
    "car.shape , true_target.shape"
   ]
  },
  {
   "cell_type": "code",
   "execution_count": 94,
   "id": "106082b2",
   "metadata": {
    "ExecuteTime": {
     "end_time": "2023-10-27T07:59:11.705672Z",
     "start_time": "2023-10-27T07:59:11.694860Z"
    }
   },
   "outputs": [],
   "source": [
    "#앞의 unnamed를 지운 열과 합치고 , unnamed를 기준으로 오름차순(원래 있던 자리에 놓기 위함)\n",
    "result = pd.concat([car.iloc[:,1:] , true_target]).sort_values('Unnamed: 0')"
   ]
  },
  {
   "cell_type": "code",
   "execution_count": 95,
   "id": "02e74c3e",
   "metadata": {
    "ExecuteTime": {
     "end_time": "2023-10-27T07:59:12.055625Z",
     "start_time": "2023-10-27T07:59:12.039892Z"
    }
   },
   "outputs": [],
   "source": [
    "#unnamed가 또 있는 이유는 , 위에서 reset_index를 했기 때문\n",
    "result.index = result['Unnamed: 0']"
   ]
  },
  {
   "cell_type": "code",
   "execution_count": 96,
   "id": "125c850f",
   "metadata": {
    "ExecuteTime": {
     "end_time": "2023-10-27T07:59:12.937751Z",
     "start_time": "2023-10-27T07:59:12.925418Z"
    }
   },
   "outputs": [],
   "source": [
    "result = result.iloc[:,1:]"
   ]
  },
  {
   "cell_type": "code",
   "execution_count": 97,
   "id": "62986aa1",
   "metadata": {
    "ExecuteTime": {
     "end_time": "2023-10-27T07:59:13.586335Z",
     "start_time": "2023-10-27T07:59:13.568963Z"
    }
   },
   "outputs": [
    {
     "name": "stdout",
     "output_type": "stream",
     "text": [
      "<class 'pandas.core.frame.DataFrame'>\n",
      "Float64Index: 8349 entries, 13.0 to nan\n",
      "Data columns (total 14 columns):\n",
      " #   Column         Non-Null Count  Dtype  \n",
      "---  ------         --------------  -----  \n",
      " 0   year           8349 non-null   int64  \n",
      " 1   selling_price  8349 non-null   int64  \n",
      " 2   km_driven      8349 non-null   int64  \n",
      " 3   fuel           8349 non-null   object \n",
      " 4   seller_type    8349 non-null   object \n",
      " 5   transmission   8349 non-null   object \n",
      " 6   owner          8349 non-null   object \n",
      " 7   mileage        7907 non-null   object \n",
      " 8   engine         7907 non-null   object \n",
      " 9   max_power      7919 non-null   object \n",
      " 10  torque         7906 non-null   object \n",
      " 11  seats          8128 non-null   float64\n",
      " 12  Unnamed: 0     221 non-null    float64\n",
      " 13  size           221 non-null    float64\n",
      "dtypes: float64(3), int64(3), object(8)\n",
      "memory usage: 978.4+ KB\n"
     ]
    }
   ],
   "source": [
    "result.info()"
   ]
  },
  {
   "cell_type": "markdown",
   "id": "b7dfeed3",
   "metadata": {},
   "source": [
    "- size에 NA값이 사라졌다!"
   ]
  }
 ],
 "metadata": {
  "kernelspec": {
   "display_name": "Python 3 (ipykernel)",
   "language": "python",
   "name": "python3"
  },
  "language_info": {
   "codemirror_mode": {
    "name": "ipython",
    "version": 3
   },
   "file_extension": ".py",
   "mimetype": "text/x-python",
   "name": "python",
   "nbconvert_exporter": "python",
   "pygments_lexer": "ipython3",
   "version": "3.8.17"
  },
  "toc": {
   "base_numbering": 1,
   "nav_menu": {},
   "number_sections": true,
   "sideBar": true,
   "skip_h1_title": false,
   "title_cell": "Table of Contents",
   "title_sidebar": "Contents",
   "toc_cell": false,
   "toc_position": {},
   "toc_section_display": true,
   "toc_window_display": false
  }
 },
 "nbformat": 4,
 "nbformat_minor": 5
}
