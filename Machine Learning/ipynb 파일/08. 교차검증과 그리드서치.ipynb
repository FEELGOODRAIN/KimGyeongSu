{
 "cells": [
  {
   "cell_type": "code",
   "execution_count": 1,
   "id": "2c048947",
   "metadata": {
    "ExecuteTime": {
     "end_time": "2023-10-27T00:16:38.386591Z",
     "start_time": "2023-10-27T00:16:32.538686Z"
    }
   },
   "outputs": [],
   "source": [
    "import numpy as np\n",
    "import pandas as pd\n",
    "import matplotlib as mpl\n",
    "import matplotlib.pyplot as plt\n",
    "import mglearn\n",
    "%matplotlib inline\n",
    "import seaborn as sns\n",
    "import platform\n",
    "from matplotlib import font_manager , rc\n",
    "\n",
    "if platform.system() == 'Darwin':\n",
    "  rc('font' , family = 'AppleGothic')\n",
    "elif platform.system() == 'Windows':\n",
    "  path = 'C:/Windows/Fonts/malgun.ttf'\n",
    "  font_name = font_manager.FontProperties(fname = path).get_name()\n",
    "  rc('font' , family = font_name)\n",
    "else:\n",
    "  print('모름')\n",
    "plt.rcParams['axes.unicode_minus'] = False\n",
    "import warnings\n",
    "warnings.filterwarnings('ignore')\n",
    "from sklearn.metrics import accuracy_score , precision_score , recall_score , roc_auc_score , f1_score , confusion_matrix , roc_curve , precision_recall_curve"
   ]
  },
  {
   "cell_type": "markdown",
   "id": "4bcdeb03",
   "metadata": {},
   "source": [
    "# 교차검증과 그리드 서치"
   ]
  },
  {
   "cell_type": "code",
   "execution_count": 2,
   "id": "1fb0118e",
   "metadata": {
    "ExecuteTime": {
     "end_time": "2023-10-27T00:16:38.864961Z",
     "start_time": "2023-10-27T00:16:38.388635Z"
    }
   },
   "outputs": [
    {
     "data": {
      "text/html": [
       "<div>\n",
       "<style scoped>\n",
       "    .dataframe tbody tr th:only-of-type {\n",
       "        vertical-align: middle;\n",
       "    }\n",
       "\n",
       "    .dataframe tbody tr th {\n",
       "        vertical-align: top;\n",
       "    }\n",
       "\n",
       "    .dataframe thead th {\n",
       "        text-align: right;\n",
       "    }\n",
       "</style>\n",
       "<table border=\"1\" class=\"dataframe\">\n",
       "  <thead>\n",
       "    <tr style=\"text-align: right;\">\n",
       "      <th></th>\n",
       "      <th>alcohol</th>\n",
       "      <th>sugar</th>\n",
       "      <th>pH</th>\n",
       "      <th>class</th>\n",
       "    </tr>\n",
       "  </thead>\n",
       "  <tbody>\n",
       "    <tr>\n",
       "      <th>0</th>\n",
       "      <td>9.4</td>\n",
       "      <td>1.9</td>\n",
       "      <td>3.51</td>\n",
       "      <td>0.0</td>\n",
       "    </tr>\n",
       "    <tr>\n",
       "      <th>1</th>\n",
       "      <td>9.8</td>\n",
       "      <td>2.6</td>\n",
       "      <td>3.20</td>\n",
       "      <td>0.0</td>\n",
       "    </tr>\n",
       "    <tr>\n",
       "      <th>2</th>\n",
       "      <td>9.8</td>\n",
       "      <td>2.3</td>\n",
       "      <td>3.26</td>\n",
       "      <td>0.0</td>\n",
       "    </tr>\n",
       "    <tr>\n",
       "      <th>3</th>\n",
       "      <td>9.8</td>\n",
       "      <td>1.9</td>\n",
       "      <td>3.16</td>\n",
       "      <td>0.0</td>\n",
       "    </tr>\n",
       "    <tr>\n",
       "      <th>4</th>\n",
       "      <td>9.4</td>\n",
       "      <td>1.9</td>\n",
       "      <td>3.51</td>\n",
       "      <td>0.0</td>\n",
       "    </tr>\n",
       "    <tr>\n",
       "      <th>...</th>\n",
       "      <td>...</td>\n",
       "      <td>...</td>\n",
       "      <td>...</td>\n",
       "      <td>...</td>\n",
       "    </tr>\n",
       "    <tr>\n",
       "      <th>6492</th>\n",
       "      <td>11.2</td>\n",
       "      <td>1.6</td>\n",
       "      <td>3.27</td>\n",
       "      <td>1.0</td>\n",
       "    </tr>\n",
       "    <tr>\n",
       "      <th>6493</th>\n",
       "      <td>9.6</td>\n",
       "      <td>8.0</td>\n",
       "      <td>3.15</td>\n",
       "      <td>1.0</td>\n",
       "    </tr>\n",
       "    <tr>\n",
       "      <th>6494</th>\n",
       "      <td>9.4</td>\n",
       "      <td>1.2</td>\n",
       "      <td>2.99</td>\n",
       "      <td>1.0</td>\n",
       "    </tr>\n",
       "    <tr>\n",
       "      <th>6495</th>\n",
       "      <td>12.8</td>\n",
       "      <td>1.1</td>\n",
       "      <td>3.34</td>\n",
       "      <td>1.0</td>\n",
       "    </tr>\n",
       "    <tr>\n",
       "      <th>6496</th>\n",
       "      <td>11.8</td>\n",
       "      <td>0.8</td>\n",
       "      <td>3.26</td>\n",
       "      <td>1.0</td>\n",
       "    </tr>\n",
       "  </tbody>\n",
       "</table>\n",
       "<p>6497 rows × 4 columns</p>\n",
       "</div>"
      ],
      "text/plain": [
       "      alcohol  sugar    pH  class\n",
       "0         9.4    1.9  3.51    0.0\n",
       "1         9.8    2.6  3.20    0.0\n",
       "2         9.8    2.3  3.26    0.0\n",
       "3         9.8    1.9  3.16    0.0\n",
       "4         9.4    1.9  3.51    0.0\n",
       "...       ...    ...   ...    ...\n",
       "6492     11.2    1.6  3.27    1.0\n",
       "6493      9.6    8.0  3.15    1.0\n",
       "6494      9.4    1.2  2.99    1.0\n",
       "6495     12.8    1.1  3.34    1.0\n",
       "6496     11.8    0.8  3.26    1.0\n",
       "\n",
       "[6497 rows x 4 columns]"
      ]
     },
     "execution_count": 2,
     "metadata": {},
     "output_type": "execute_result"
    }
   ],
   "source": [
    "wine = pd.read_csv('https://raw.githubusercontent.com/rickiepark/hg-mldl/master/wine.csv')\n",
    "wine"
   ]
  },
  {
   "cell_type": "code",
   "execution_count": 3,
   "id": "b3b80aec",
   "metadata": {
    "ExecuteTime": {
     "end_time": "2023-10-27T00:16:40.834136Z",
     "start_time": "2023-10-27T00:16:40.829112Z"
    }
   },
   "outputs": [],
   "source": [
    "data = wine.iloc[:,:-1].to_numpy()\n",
    "target = wine.iloc[:,-1].to_numpy()"
   ]
  },
  {
   "cell_type": "code",
   "execution_count": 4,
   "id": "979ff88b",
   "metadata": {
    "ExecuteTime": {
     "end_time": "2023-10-27T00:16:41.044039Z",
     "start_time": "2023-10-27T00:16:41.031793Z"
    }
   },
   "outputs": [],
   "source": [
    "from sklearn.model_selection import train_test_split\n",
    "\n",
    "train_input , test_input , train_target , test_target = train_test_split(data , target , random_state = 42 , test_size = 0.2)"
   ]
  },
  {
   "cell_type": "code",
   "execution_count": 5,
   "id": "d02c40fa",
   "metadata": {
    "ExecuteTime": {
     "end_time": "2023-10-27T00:16:41.246145Z",
     "start_time": "2023-10-27T00:16:41.228081Z"
    }
   },
   "outputs": [],
   "source": [
    "#훈련세트를 다시 훈련과 테스트로 나눔.\n",
    "sub_input , val_input , sub_target , val_target = train_test_split(train_input , train_target , test_size = 0.2 , random_state = 42)"
   ]
  },
  {
   "cell_type": "code",
   "execution_count": 6,
   "id": "69934638",
   "metadata": {
    "ExecuteTime": {
     "end_time": "2023-10-27T00:16:41.463974Z",
     "start_time": "2023-10-27T00:16:41.450204Z"
    }
   },
   "outputs": [
    {
     "data": {
      "text/plain": [
       "((4157, 3), (1040, 3))"
      ]
     },
     "execution_count": 6,
     "metadata": {},
     "output_type": "execute_result"
    }
   ],
   "source": [
    "sub_input.shape , val_input.shape"
   ]
  },
  {
   "cell_type": "code",
   "execution_count": 7,
   "id": "226a3735",
   "metadata": {
    "ExecuteTime": {
     "end_time": "2023-10-27T00:16:42.324166Z",
     "start_time": "2023-10-27T00:16:42.300291Z"
    }
   },
   "outputs": [
    {
     "name": "stdout",
     "output_type": "stream",
     "text": [
      "0.9971133028626413\n",
      "0.864423076923077\n"
     ]
    }
   ],
   "source": [
    "from sklearn.tree import DecisionTreeClassifier\n",
    "dt = DecisionTreeClassifier(random_state = 42)\n",
    "dt.fit(sub_input , sub_target)\n",
    "print(dt.score(sub_input , sub_target))\n",
    "print(dt.score(val_input , val_target))"
   ]
  },
  {
   "cell_type": "markdown",
   "id": "e5d51cfa",
   "metadata": {},
   "source": [
    "- 과대적합"
   ]
  },
  {
   "cell_type": "markdown",
   "id": "3a80baed",
   "metadata": {},
   "source": [
    "## K-Fold 교차검증\n",
    " - cross_validate() 교차검증 함수 사용 , 기본값 cv = 5"
   ]
  },
  {
   "cell_type": "code",
   "execution_count": 8,
   "id": "f6051891",
   "metadata": {
    "ExecuteTime": {
     "end_time": "2023-10-27T00:16:46.653256Z",
     "start_time": "2023-10-27T00:16:46.591893Z"
    }
   },
   "outputs": [
    {
     "data": {
      "text/plain": [
       "{'fit_time': array([0.00930285, 0.00697494, 0.00796843, 0.00797343, 0.00797343]),\n",
       " 'score_time': array([0.0009973, 0.0009985, 0.       , 0.       , 0.       ]),\n",
       " 'test_score': array([0.86923077, 0.84615385, 0.87680462, 0.84889317, 0.83541867])}"
      ]
     },
     "execution_count": 8,
     "metadata": {},
     "output_type": "execute_result"
    }
   ],
   "source": [
    "from sklearn.model_selection import cross_validate\n",
    "scores = cross_validate(dt , train_input , train_target)\n",
    "#fit_time , score_time , test_score 3개 반영됨.\n",
    "scores"
   ]
  },
  {
   "cell_type": "code",
   "execution_count": 9,
   "id": "a605df49",
   "metadata": {
    "ExecuteTime": {
     "end_time": "2023-10-27T00:16:46.823707Z",
     "start_time": "2023-10-27T00:16:46.806364Z"
    }
   },
   "outputs": [
    {
     "data": {
      "text/plain": [
       "0.855300214703487"
      ]
     },
     "execution_count": 9,
     "metadata": {},
     "output_type": "execute_result"
    }
   ],
   "source": [
    "np.mean(scores['test_score'])"
   ]
  },
  {
   "cell_type": "markdown",
   "id": "2c07eb38",
   "metadata": {},
   "source": [
    "- train_test_split 함수는 훈련세트를 분리할 때 섞어서 분리하지만 , cross_validate 함수는 훈련세트를 섞어서 폴드를 나누지 않는다.\n",
    "- 회귀모델 KFold 분할기 , 분류모델 stratifiedKFold 분할기 사용"
   ]
  },
  {
   "cell_type": "code",
   "execution_count": 10,
   "id": "42a8d8b8",
   "metadata": {
    "ExecuteTime": {
     "end_time": "2023-10-27T00:16:47.816980Z",
     "start_time": "2023-10-27T00:16:47.762304Z"
    }
   },
   "outputs": [
    {
     "data": {
      "text/plain": [
       "0.855300214703487"
      ]
     },
     "execution_count": 10,
     "metadata": {},
     "output_type": "execute_result"
    }
   ],
   "source": [
    "from sklearn.model_selection import StratifiedKFold\n",
    "\n",
    "scores = cross_validate(dt , train_input , train_target , cv =  StratifiedKFold())\n",
    "#fit_time , score_time , test_score 3개 반영됨.\n",
    "np.mean(scores['test_score'])"
   ]
  },
  {
   "cell_type": "markdown",
   "id": "66f8ec0d",
   "metadata": {},
   "source": [
    "- 10개로 섞기"
   ]
  },
  {
   "cell_type": "code",
   "execution_count": 11,
   "id": "4f9cb439",
   "metadata": {
    "ExecuteTime": {
     "end_time": "2023-10-27T00:16:51.065189Z",
     "start_time": "2023-10-27T00:16:50.944361Z"
    }
   },
   "outputs": [
    {
     "data": {
      "text/plain": [
       "0.8574181117533719"
      ]
     },
     "execution_count": 11,
     "metadata": {},
     "output_type": "execute_result"
    }
   ],
   "source": [
    "from sklearn.model_selection import StratifiedKFold\n",
    "splitter = StratifiedKFold(n_splits = 10 , shuffle = True , random_state = 42) \n",
    "scores = cross_validate(dt , train_input , train_target , cv =  splitter)\n",
    "#fit_time , score_time , test_score 3개 반영됨.\n",
    "np.mean(scores['test_score'])"
   ]
  },
  {
   "cell_type": "markdown",
   "id": "23ebfc71",
   "metadata": {},
   "source": [
    "## 그리드 서치\n",
    " - 모델의 성능을 가장 높게 하는 최적의 하이퍼파라미터를 찾는 방법\n",
    " - cv - result_ : 파라미터 조합별 평가 결과를 dict로 변환\n",
    " - best_params_ : 가장 좋은 성능을 낸 파라미터 조합을 반환\n",
    " - best_estimator_ : 가장 좋은 성능을 낸 모델 반환\n",
    " - best_score_ : 가장 좋은 점수 반환\n",
    " \n",
    " - 하이퍼파라미터의 값들이 많아지면 많은 시간이 소요\n",
    "  - 1번 : 10개 , 2번 : 5개 , 3번 : 5개\n",
    "  - 10 * 5 * 5 = 250번(곱적용)"
   ]
  },
  {
   "cell_type": "code",
   "execution_count": 15,
   "id": "7d77f66a",
   "metadata": {
    "ExecuteTime": {
     "end_time": "2023-10-27T00:33:47.055271Z",
     "start_time": "2023-10-27T00:33:47.049262Z"
    }
   },
   "outputs": [],
   "source": [
    "from sklearn.model_selection import GridSearchCV\n",
    "\n",
    "# min_impurity_decrease : 노드를 나누기 위한 최소 샘플 수\n",
    "# max_depth : 트리의 깊이\n",
    "# min_samples_split : 노드를 분리하기 위한 최소 샘플 수\n",
    "\n",
    "params = {'min_impurity_decrease' : [0.0001 , 0.0002 , 0.0003 , 0.0004 , 0.0005]}\n",
    "\n"
   ]
  },
  {
   "cell_type": "code",
   "execution_count": 17,
   "id": "b7de0358",
   "metadata": {
    "ExecuteTime": {
     "end_time": "2023-10-27T00:38:26.294602Z",
     "start_time": "2023-10-27T00:38:24.505978Z"
    }
   },
   "outputs": [
    {
     "data": {
      "text/html": [
       "<style>#sk-container-id-1 {color: black;}#sk-container-id-1 pre{padding: 0;}#sk-container-id-1 div.sk-toggleable {background-color: white;}#sk-container-id-1 label.sk-toggleable__label {cursor: pointer;display: block;width: 100%;margin-bottom: 0;padding: 0.3em;box-sizing: border-box;text-align: center;}#sk-container-id-1 label.sk-toggleable__label-arrow:before {content: \"▸\";float: left;margin-right: 0.25em;color: #696969;}#sk-container-id-1 label.sk-toggleable__label-arrow:hover:before {color: black;}#sk-container-id-1 div.sk-estimator:hover label.sk-toggleable__label-arrow:before {color: black;}#sk-container-id-1 div.sk-toggleable__content {max-height: 0;max-width: 0;overflow: hidden;text-align: left;background-color: #f0f8ff;}#sk-container-id-1 div.sk-toggleable__content pre {margin: 0.2em;color: black;border-radius: 0.25em;background-color: #f0f8ff;}#sk-container-id-1 input.sk-toggleable__control:checked~div.sk-toggleable__content {max-height: 200px;max-width: 100%;overflow: auto;}#sk-container-id-1 input.sk-toggleable__control:checked~label.sk-toggleable__label-arrow:before {content: \"▾\";}#sk-container-id-1 div.sk-estimator input.sk-toggleable__control:checked~label.sk-toggleable__label {background-color: #d4ebff;}#sk-container-id-1 div.sk-label input.sk-toggleable__control:checked~label.sk-toggleable__label {background-color: #d4ebff;}#sk-container-id-1 input.sk-hidden--visually {border: 0;clip: rect(1px 1px 1px 1px);clip: rect(1px, 1px, 1px, 1px);height: 1px;margin: -1px;overflow: hidden;padding: 0;position: absolute;width: 1px;}#sk-container-id-1 div.sk-estimator {font-family: monospace;background-color: #f0f8ff;border: 1px dotted black;border-radius: 0.25em;box-sizing: border-box;margin-bottom: 0.5em;}#sk-container-id-1 div.sk-estimator:hover {background-color: #d4ebff;}#sk-container-id-1 div.sk-parallel-item::after {content: \"\";width: 100%;border-bottom: 1px solid gray;flex-grow: 1;}#sk-container-id-1 div.sk-label:hover label.sk-toggleable__label {background-color: #d4ebff;}#sk-container-id-1 div.sk-serial::before {content: \"\";position: absolute;border-left: 1px solid gray;box-sizing: border-box;top: 0;bottom: 0;left: 50%;z-index: 0;}#sk-container-id-1 div.sk-serial {display: flex;flex-direction: column;align-items: center;background-color: white;padding-right: 0.2em;padding-left: 0.2em;position: relative;}#sk-container-id-1 div.sk-item {position: relative;z-index: 1;}#sk-container-id-1 div.sk-parallel {display: flex;align-items: stretch;justify-content: center;background-color: white;position: relative;}#sk-container-id-1 div.sk-item::before, #sk-container-id-1 div.sk-parallel-item::before {content: \"\";position: absolute;border-left: 1px solid gray;box-sizing: border-box;top: 0;bottom: 0;left: 50%;z-index: -1;}#sk-container-id-1 div.sk-parallel-item {display: flex;flex-direction: column;z-index: 1;position: relative;background-color: white;}#sk-container-id-1 div.sk-parallel-item:first-child::after {align-self: flex-end;width: 50%;}#sk-container-id-1 div.sk-parallel-item:last-child::after {align-self: flex-start;width: 50%;}#sk-container-id-1 div.sk-parallel-item:only-child::after {width: 0;}#sk-container-id-1 div.sk-dashed-wrapped {border: 1px dashed gray;margin: 0 0.4em 0.5em 0.4em;box-sizing: border-box;padding-bottom: 0.4em;background-color: white;}#sk-container-id-1 div.sk-label label {font-family: monospace;font-weight: bold;display: inline-block;line-height: 1.2em;}#sk-container-id-1 div.sk-label-container {text-align: center;}#sk-container-id-1 div.sk-container {/* jupyter's `normalize.less` sets `[hidden] { display: none; }` but bootstrap.min.css set `[hidden] { display: none !important; }` so we also need the `!important` here to be able to override the default hidden behavior on the sphinx rendered scikit-learn.org. See: https://github.com/scikit-learn/scikit-learn/issues/21755 */display: inline-block !important;position: relative;}#sk-container-id-1 div.sk-text-repr-fallback {display: none;}</style><div id=\"sk-container-id-1\" class=\"sk-top-container\"><div class=\"sk-text-repr-fallback\"><pre>GridSearchCV(estimator=DecisionTreeClassifier(random_state=42), n_jobs=-1,\n",
       "             param_grid={&#x27;min_impurity_decrease&#x27;: [0.0001, 0.0002, 0.0003,\n",
       "                                                   0.0004, 0.0005]})</pre><b>In a Jupyter environment, please rerun this cell to show the HTML representation or trust the notebook. <br />On GitHub, the HTML representation is unable to render, please try loading this page with nbviewer.org.</b></div><div class=\"sk-container\" hidden><div class=\"sk-item sk-dashed-wrapped\"><div class=\"sk-label-container\"><div class=\"sk-label sk-toggleable\"><input class=\"sk-toggleable__control sk-hidden--visually\" id=\"sk-estimator-id-1\" type=\"checkbox\" ><label for=\"sk-estimator-id-1\" class=\"sk-toggleable__label sk-toggleable__label-arrow\">GridSearchCV</label><div class=\"sk-toggleable__content\"><pre>GridSearchCV(estimator=DecisionTreeClassifier(random_state=42), n_jobs=-1,\n",
       "             param_grid={&#x27;min_impurity_decrease&#x27;: [0.0001, 0.0002, 0.0003,\n",
       "                                                   0.0004, 0.0005]})</pre></div></div></div><div class=\"sk-parallel\"><div class=\"sk-parallel-item\"><div class=\"sk-item\"><div class=\"sk-label-container\"><div class=\"sk-label sk-toggleable\"><input class=\"sk-toggleable__control sk-hidden--visually\" id=\"sk-estimator-id-2\" type=\"checkbox\" ><label for=\"sk-estimator-id-2\" class=\"sk-toggleable__label sk-toggleable__label-arrow\">estimator: DecisionTreeClassifier</label><div class=\"sk-toggleable__content\"><pre>DecisionTreeClassifier(random_state=42)</pre></div></div></div><div class=\"sk-serial\"><div class=\"sk-item\"><div class=\"sk-estimator sk-toggleable\"><input class=\"sk-toggleable__control sk-hidden--visually\" id=\"sk-estimator-id-3\" type=\"checkbox\" ><label for=\"sk-estimator-id-3\" class=\"sk-toggleable__label sk-toggleable__label-arrow\">DecisionTreeClassifier</label><div class=\"sk-toggleable__content\"><pre>DecisionTreeClassifier(random_state=42)</pre></div></div></div></div></div></div></div></div></div></div>"
      ],
      "text/plain": [
       "GridSearchCV(estimator=DecisionTreeClassifier(random_state=42), n_jobs=-1,\n",
       "             param_grid={'min_impurity_decrease': [0.0001, 0.0002, 0.0003,\n",
       "                                                   0.0004, 0.0005]})"
      ]
     },
     "execution_count": 17,
     "metadata": {},
     "output_type": "execute_result"
    }
   ],
   "source": [
    "#n_jobs : 병렬 실행에 사용할 CPU 코어수를 지정하는 것( -1 : 모든 코어를 다 사용하겠다는 뜻)\n",
    "gs = GridSearchCV(DecisionTreeClassifier(random_state = 42) , params , n_jobs = -1)\n",
    "gs.fit(train_input , train_target)"
   ]
  },
  {
   "cell_type": "code",
   "execution_count": 19,
   "id": "aa2468d1",
   "metadata": {
    "ExecuteTime": {
     "end_time": "2023-10-27T00:39:58.580318Z",
     "start_time": "2023-10-27T00:39:58.558365Z"
    }
   },
   "outputs": [
    {
     "data": {
      "text/html": [
       "<style>#sk-container-id-2 {color: black;}#sk-container-id-2 pre{padding: 0;}#sk-container-id-2 div.sk-toggleable {background-color: white;}#sk-container-id-2 label.sk-toggleable__label {cursor: pointer;display: block;width: 100%;margin-bottom: 0;padding: 0.3em;box-sizing: border-box;text-align: center;}#sk-container-id-2 label.sk-toggleable__label-arrow:before {content: \"▸\";float: left;margin-right: 0.25em;color: #696969;}#sk-container-id-2 label.sk-toggleable__label-arrow:hover:before {color: black;}#sk-container-id-2 div.sk-estimator:hover label.sk-toggleable__label-arrow:before {color: black;}#sk-container-id-2 div.sk-toggleable__content {max-height: 0;max-width: 0;overflow: hidden;text-align: left;background-color: #f0f8ff;}#sk-container-id-2 div.sk-toggleable__content pre {margin: 0.2em;color: black;border-radius: 0.25em;background-color: #f0f8ff;}#sk-container-id-2 input.sk-toggleable__control:checked~div.sk-toggleable__content {max-height: 200px;max-width: 100%;overflow: auto;}#sk-container-id-2 input.sk-toggleable__control:checked~label.sk-toggleable__label-arrow:before {content: \"▾\";}#sk-container-id-2 div.sk-estimator input.sk-toggleable__control:checked~label.sk-toggleable__label {background-color: #d4ebff;}#sk-container-id-2 div.sk-label input.sk-toggleable__control:checked~label.sk-toggleable__label {background-color: #d4ebff;}#sk-container-id-2 input.sk-hidden--visually {border: 0;clip: rect(1px 1px 1px 1px);clip: rect(1px, 1px, 1px, 1px);height: 1px;margin: -1px;overflow: hidden;padding: 0;position: absolute;width: 1px;}#sk-container-id-2 div.sk-estimator {font-family: monospace;background-color: #f0f8ff;border: 1px dotted black;border-radius: 0.25em;box-sizing: border-box;margin-bottom: 0.5em;}#sk-container-id-2 div.sk-estimator:hover {background-color: #d4ebff;}#sk-container-id-2 div.sk-parallel-item::after {content: \"\";width: 100%;border-bottom: 1px solid gray;flex-grow: 1;}#sk-container-id-2 div.sk-label:hover label.sk-toggleable__label {background-color: #d4ebff;}#sk-container-id-2 div.sk-serial::before {content: \"\";position: absolute;border-left: 1px solid gray;box-sizing: border-box;top: 0;bottom: 0;left: 50%;z-index: 0;}#sk-container-id-2 div.sk-serial {display: flex;flex-direction: column;align-items: center;background-color: white;padding-right: 0.2em;padding-left: 0.2em;position: relative;}#sk-container-id-2 div.sk-item {position: relative;z-index: 1;}#sk-container-id-2 div.sk-parallel {display: flex;align-items: stretch;justify-content: center;background-color: white;position: relative;}#sk-container-id-2 div.sk-item::before, #sk-container-id-2 div.sk-parallel-item::before {content: \"\";position: absolute;border-left: 1px solid gray;box-sizing: border-box;top: 0;bottom: 0;left: 50%;z-index: -1;}#sk-container-id-2 div.sk-parallel-item {display: flex;flex-direction: column;z-index: 1;position: relative;background-color: white;}#sk-container-id-2 div.sk-parallel-item:first-child::after {align-self: flex-end;width: 50%;}#sk-container-id-2 div.sk-parallel-item:last-child::after {align-self: flex-start;width: 50%;}#sk-container-id-2 div.sk-parallel-item:only-child::after {width: 0;}#sk-container-id-2 div.sk-dashed-wrapped {border: 1px dashed gray;margin: 0 0.4em 0.5em 0.4em;box-sizing: border-box;padding-bottom: 0.4em;background-color: white;}#sk-container-id-2 div.sk-label label {font-family: monospace;font-weight: bold;display: inline-block;line-height: 1.2em;}#sk-container-id-2 div.sk-label-container {text-align: center;}#sk-container-id-2 div.sk-container {/* jupyter's `normalize.less` sets `[hidden] { display: none; }` but bootstrap.min.css set `[hidden] { display: none !important; }` so we also need the `!important` here to be able to override the default hidden behavior on the sphinx rendered scikit-learn.org. See: https://github.com/scikit-learn/scikit-learn/issues/21755 */display: inline-block !important;position: relative;}#sk-container-id-2 div.sk-text-repr-fallback {display: none;}</style><div id=\"sk-container-id-2\" class=\"sk-top-container\"><div class=\"sk-text-repr-fallback\"><pre>DecisionTreeClassifier(min_impurity_decrease=0.0001, random_state=42)</pre><b>In a Jupyter environment, please rerun this cell to show the HTML representation or trust the notebook. <br />On GitHub, the HTML representation is unable to render, please try loading this page with nbviewer.org.</b></div><div class=\"sk-container\" hidden><div class=\"sk-item\"><div class=\"sk-estimator sk-toggleable\"><input class=\"sk-toggleable__control sk-hidden--visually\" id=\"sk-estimator-id-4\" type=\"checkbox\" checked><label for=\"sk-estimator-id-4\" class=\"sk-toggleable__label sk-toggleable__label-arrow\">DecisionTreeClassifier</label><div class=\"sk-toggleable__content\"><pre>DecisionTreeClassifier(min_impurity_decrease=0.0001, random_state=42)</pre></div></div></div></div></div>"
      ],
      "text/plain": [
       "DecisionTreeClassifier(min_impurity_decrease=0.0001, random_state=42)"
      ]
     },
     "execution_count": 19,
     "metadata": {},
     "output_type": "execute_result"
    }
   ],
   "source": [
    "dt = gs.best_estimator_\n",
    "dt"
   ]
  },
  {
   "cell_type": "code",
   "execution_count": 21,
   "id": "db62b04a",
   "metadata": {
    "ExecuteTime": {
     "end_time": "2023-10-27T00:40:41.853503Z",
     "start_time": "2023-10-27T00:40:41.845067Z"
    }
   },
   "outputs": [
    {
     "name": "stdout",
     "output_type": "stream",
     "text": [
      "0.9615162593804117\n",
      "0.8653846153846154\n"
     ]
    }
   ],
   "source": [
    "print(dt.score(train_input , train_target))\n",
    "print(dt.score(test_input , test_target))"
   ]
  },
  {
   "cell_type": "code",
   "execution_count": 22,
   "id": "01dace6c",
   "metadata": {
    "ExecuteTime": {
     "end_time": "2023-10-27T00:41:47.651401Z",
     "start_time": "2023-10-27T00:41:47.645361Z"
    }
   },
   "outputs": [
    {
     "data": {
      "text/plain": [
       "{'min_impurity_decrease': 0.0001}"
      ]
     },
     "execution_count": 22,
     "metadata": {},
     "output_type": "execute_result"
    }
   ],
   "source": [
    "gs.best_params_"
   ]
  },
  {
   "cell_type": "code",
   "execution_count": 34,
   "id": "633feec6",
   "metadata": {
    "ExecuteTime": {
     "end_time": "2023-10-27T00:47:31.188518Z",
     "start_time": "2023-10-27T00:47:31.175784Z"
    }
   },
   "outputs": [
    {
     "data": {
      "text/plain": [
       "[{'min_impurity_decrease': 0.0001},\n",
       " {'min_impurity_decrease': 0.0002},\n",
       " {'min_impurity_decrease': 0.0003},\n",
       " {'min_impurity_decrease': 0.0004},\n",
       " {'min_impurity_decrease': 0.0005}]"
      ]
     },
     "execution_count": 34,
     "metadata": {},
     "output_type": "execute_result"
    }
   ],
   "source": [
    "gs.cv_results_['params']"
   ]
  },
  {
   "cell_type": "code",
   "execution_count": 35,
   "id": "887fac6d",
   "metadata": {
    "ExecuteTime": {
     "end_time": "2023-10-27T00:49:57.530055Z",
     "start_time": "2023-10-27T00:49:57.515847Z"
    }
   },
   "outputs": [],
   "source": [
    "params = {\n",
    "    'max_depth' : range(5,20),\n",
    "    'min_samples_split' : range(2,100,10),\n",
    "    'min_impurity_decrease' : np.arange(0.0001 , 0.001 , 0.0001)\n",
    "}"
   ]
  },
  {
   "cell_type": "code",
   "execution_count": 36,
   "id": "68e552b1",
   "metadata": {
    "ExecuteTime": {
     "end_time": "2023-10-27T00:51:18.429411Z",
     "start_time": "2023-10-27T00:51:10.417546Z"
    }
   },
   "outputs": [
    {
     "data": {
      "text/html": [
       "<style>#sk-container-id-3 {color: black;}#sk-container-id-3 pre{padding: 0;}#sk-container-id-3 div.sk-toggleable {background-color: white;}#sk-container-id-3 label.sk-toggleable__label {cursor: pointer;display: block;width: 100%;margin-bottom: 0;padding: 0.3em;box-sizing: border-box;text-align: center;}#sk-container-id-3 label.sk-toggleable__label-arrow:before {content: \"▸\";float: left;margin-right: 0.25em;color: #696969;}#sk-container-id-3 label.sk-toggleable__label-arrow:hover:before {color: black;}#sk-container-id-3 div.sk-estimator:hover label.sk-toggleable__label-arrow:before {color: black;}#sk-container-id-3 div.sk-toggleable__content {max-height: 0;max-width: 0;overflow: hidden;text-align: left;background-color: #f0f8ff;}#sk-container-id-3 div.sk-toggleable__content pre {margin: 0.2em;color: black;border-radius: 0.25em;background-color: #f0f8ff;}#sk-container-id-3 input.sk-toggleable__control:checked~div.sk-toggleable__content {max-height: 200px;max-width: 100%;overflow: auto;}#sk-container-id-3 input.sk-toggleable__control:checked~label.sk-toggleable__label-arrow:before {content: \"▾\";}#sk-container-id-3 div.sk-estimator input.sk-toggleable__control:checked~label.sk-toggleable__label {background-color: #d4ebff;}#sk-container-id-3 div.sk-label input.sk-toggleable__control:checked~label.sk-toggleable__label {background-color: #d4ebff;}#sk-container-id-3 input.sk-hidden--visually {border: 0;clip: rect(1px 1px 1px 1px);clip: rect(1px, 1px, 1px, 1px);height: 1px;margin: -1px;overflow: hidden;padding: 0;position: absolute;width: 1px;}#sk-container-id-3 div.sk-estimator {font-family: monospace;background-color: #f0f8ff;border: 1px dotted black;border-radius: 0.25em;box-sizing: border-box;margin-bottom: 0.5em;}#sk-container-id-3 div.sk-estimator:hover {background-color: #d4ebff;}#sk-container-id-3 div.sk-parallel-item::after {content: \"\";width: 100%;border-bottom: 1px solid gray;flex-grow: 1;}#sk-container-id-3 div.sk-label:hover label.sk-toggleable__label {background-color: #d4ebff;}#sk-container-id-3 div.sk-serial::before {content: \"\";position: absolute;border-left: 1px solid gray;box-sizing: border-box;top: 0;bottom: 0;left: 50%;z-index: 0;}#sk-container-id-3 div.sk-serial {display: flex;flex-direction: column;align-items: center;background-color: white;padding-right: 0.2em;padding-left: 0.2em;position: relative;}#sk-container-id-3 div.sk-item {position: relative;z-index: 1;}#sk-container-id-3 div.sk-parallel {display: flex;align-items: stretch;justify-content: center;background-color: white;position: relative;}#sk-container-id-3 div.sk-item::before, #sk-container-id-3 div.sk-parallel-item::before {content: \"\";position: absolute;border-left: 1px solid gray;box-sizing: border-box;top: 0;bottom: 0;left: 50%;z-index: -1;}#sk-container-id-3 div.sk-parallel-item {display: flex;flex-direction: column;z-index: 1;position: relative;background-color: white;}#sk-container-id-3 div.sk-parallel-item:first-child::after {align-self: flex-end;width: 50%;}#sk-container-id-3 div.sk-parallel-item:last-child::after {align-self: flex-start;width: 50%;}#sk-container-id-3 div.sk-parallel-item:only-child::after {width: 0;}#sk-container-id-3 div.sk-dashed-wrapped {border: 1px dashed gray;margin: 0 0.4em 0.5em 0.4em;box-sizing: border-box;padding-bottom: 0.4em;background-color: white;}#sk-container-id-3 div.sk-label label {font-family: monospace;font-weight: bold;display: inline-block;line-height: 1.2em;}#sk-container-id-3 div.sk-label-container {text-align: center;}#sk-container-id-3 div.sk-container {/* jupyter's `normalize.less` sets `[hidden] { display: none; }` but bootstrap.min.css set `[hidden] { display: none !important; }` so we also need the `!important` here to be able to override the default hidden behavior on the sphinx rendered scikit-learn.org. See: https://github.com/scikit-learn/scikit-learn/issues/21755 */display: inline-block !important;position: relative;}#sk-container-id-3 div.sk-text-repr-fallback {display: none;}</style><div id=\"sk-container-id-3\" class=\"sk-top-container\"><div class=\"sk-text-repr-fallback\"><pre>GridSearchCV(estimator=DecisionTreeClassifier(random_state=42), n_jobs=-1,\n",
       "             param_grid={&#x27;max_depth&#x27;: range(5, 20),\n",
       "                         &#x27;min_impurity_decrease&#x27;: array([0.0001, 0.0002, 0.0003, 0.0004, 0.0005, 0.0006, 0.0007, 0.0008,\n",
       "       0.0009]),\n",
       "                         &#x27;min_samples_split&#x27;: range(2, 100, 10)})</pre><b>In a Jupyter environment, please rerun this cell to show the HTML representation or trust the notebook. <br />On GitHub, the HTML representation is unable to render, please try loading this page with nbviewer.org.</b></div><div class=\"sk-container\" hidden><div class=\"sk-item sk-dashed-wrapped\"><div class=\"sk-label-container\"><div class=\"sk-label sk-toggleable\"><input class=\"sk-toggleable__control sk-hidden--visually\" id=\"sk-estimator-id-5\" type=\"checkbox\" ><label for=\"sk-estimator-id-5\" class=\"sk-toggleable__label sk-toggleable__label-arrow\">GridSearchCV</label><div class=\"sk-toggleable__content\"><pre>GridSearchCV(estimator=DecisionTreeClassifier(random_state=42), n_jobs=-1,\n",
       "             param_grid={&#x27;max_depth&#x27;: range(5, 20),\n",
       "                         &#x27;min_impurity_decrease&#x27;: array([0.0001, 0.0002, 0.0003, 0.0004, 0.0005, 0.0006, 0.0007, 0.0008,\n",
       "       0.0009]),\n",
       "                         &#x27;min_samples_split&#x27;: range(2, 100, 10)})</pre></div></div></div><div class=\"sk-parallel\"><div class=\"sk-parallel-item\"><div class=\"sk-item\"><div class=\"sk-label-container\"><div class=\"sk-label sk-toggleable\"><input class=\"sk-toggleable__control sk-hidden--visually\" id=\"sk-estimator-id-6\" type=\"checkbox\" ><label for=\"sk-estimator-id-6\" class=\"sk-toggleable__label sk-toggleable__label-arrow\">estimator: DecisionTreeClassifier</label><div class=\"sk-toggleable__content\"><pre>DecisionTreeClassifier(random_state=42)</pre></div></div></div><div class=\"sk-serial\"><div class=\"sk-item\"><div class=\"sk-estimator sk-toggleable\"><input class=\"sk-toggleable__control sk-hidden--visually\" id=\"sk-estimator-id-7\" type=\"checkbox\" ><label for=\"sk-estimator-id-7\" class=\"sk-toggleable__label sk-toggleable__label-arrow\">DecisionTreeClassifier</label><div class=\"sk-toggleable__content\"><pre>DecisionTreeClassifier(random_state=42)</pre></div></div></div></div></div></div></div></div></div></div>"
      ],
      "text/plain": [
       "GridSearchCV(estimator=DecisionTreeClassifier(random_state=42), n_jobs=-1,\n",
       "             param_grid={'max_depth': range(5, 20),\n",
       "                         'min_impurity_decrease': array([0.0001, 0.0002, 0.0003, 0.0004, 0.0005, 0.0006, 0.0007, 0.0008,\n",
       "       0.0009]),\n",
       "                         'min_samples_split': range(2, 100, 10)})"
      ]
     },
     "execution_count": 36,
     "metadata": {},
     "output_type": "execute_result"
    }
   ],
   "source": [
    "gs = GridSearchCV(DecisionTreeClassifier(random_state = 42) , params , n_jobs = -1)\n",
    "gs.fit(train_input , train_target)"
   ]
  },
  {
   "cell_type": "code",
   "execution_count": 38,
   "id": "5c022aee",
   "metadata": {
    "ExecuteTime": {
     "end_time": "2023-10-27T00:52:52.185887Z",
     "start_time": "2023-10-27T00:52:52.178830Z"
    }
   },
   "outputs": [
    {
     "data": {
      "text/plain": [
       "array([0.85780355, 0.85799604, 0.85799604, ..., 0.86126601, 0.86165063,\n",
       "       0.86357629])"
      ]
     },
     "execution_count": 38,
     "metadata": {},
     "output_type": "execute_result"
    }
   ],
   "source": [
    "gs.cv_results_['mean_test_score']"
   ]
  },
  {
   "cell_type": "code",
   "execution_count": 39,
   "id": "5b8baddb",
   "metadata": {
    "ExecuteTime": {
     "end_time": "2023-10-27T00:55:55.615819Z",
     "start_time": "2023-10-27T00:55:55.609600Z"
    }
   },
   "outputs": [
    {
     "data": {
      "text/plain": [
       "841"
      ]
     },
     "execution_count": 39,
     "metadata": {},
     "output_type": "execute_result"
    }
   ],
   "source": [
    "best_index = np.argmax(gs.cv_results_['mean_test_score'])\n",
    "best_index"
   ]
  },
  {
   "cell_type": "code",
   "execution_count": 40,
   "id": "b2af991d",
   "metadata": {
    "ExecuteTime": {
     "end_time": "2023-10-27T00:56:41.610945Z",
     "start_time": "2023-10-27T00:56:41.604016Z"
    }
   },
   "outputs": [
    {
     "data": {
      "text/plain": [
       "{'max_depth': 14, 'min_impurity_decrease': 0.0004, 'min_samples_split': 12}"
      ]
     },
     "execution_count": 40,
     "metadata": {},
     "output_type": "execute_result"
    }
   ],
   "source": [
    "gs.cv_results_['params'][best_index]"
   ]
  },
  {
   "cell_type": "markdown",
   "id": "17076894",
   "metadata": {
    "ExecuteTime": {
     "end_time": "2023-10-27T01:10:51.297431Z",
     "start_time": "2023-10-27T01:10:51.288497Z"
    }
   },
   "source": [
    "## 랜덤 서치( Random Search)\n",
    "- 매개변수의 값의 목록을 전달하는 것이 아니라 매개변수를 샘플링 할 수 있는 확률 분포 객체를 전달\n",
    "- from scipy.stats import uniform , randint\n",
    "- uniform : 균등분포 샘플링 , rvs()\n",
    "- randint : rvs()\n",
    "- 테스트 세트의 점수는 검증세트에 대한 점수보다 조금 낮은 것이 일반적이다."
   ]
  },
  {
   "cell_type": "code",
   "execution_count": 42,
   "id": "159a223d",
   "metadata": {
    "ExecuteTime": {
     "end_time": "2023-10-27T01:16:37.028064Z",
     "start_time": "2023-10-27T01:16:37.011634Z"
    }
   },
   "outputs": [],
   "source": [
    "from scipy.stats import uniform , randint"
   ]
  },
  {
   "cell_type": "code",
   "execution_count": 48,
   "id": "cfcd52ec",
   "metadata": {
    "ExecuteTime": {
     "end_time": "2023-10-27T01:17:51.491758Z",
     "start_time": "2023-10-27T01:17:51.483343Z"
    }
   },
   "outputs": [
    {
     "data": {
      "text/plain": [
       "array([9, 1, 5, 1, 7, 5, 1, 8, 0, 1], dtype=int64)"
      ]
     },
     "execution_count": 48,
     "metadata": {},
     "output_type": "execute_result"
    }
   ],
   "source": [
    "rgen = randint(0,10)\n",
    "rgen.rvs(10)"
   ]
  },
  {
   "cell_type": "code",
   "execution_count": 52,
   "id": "d67cbe30",
   "metadata": {
    "ExecuteTime": {
     "end_time": "2023-10-27T01:19:28.692769Z",
     "start_time": "2023-10-27T01:19:28.686809Z"
    }
   },
   "outputs": [
    {
     "data": {
      "text/plain": [
       "(array([0, 1, 2, 3, 4, 5, 6, 7, 8, 9], dtype=int64),\n",
       " array([ 90,  90,  94, 111, 105, 100,  96, 111,  97, 106], dtype=int64))"
      ]
     },
     "execution_count": 52,
     "metadata": {},
     "output_type": "execute_result"
    }
   ],
   "source": [
    "np.unique(rgen.rvs(1000) , return_counts = True)"
   ]
  },
  {
   "cell_type": "code",
   "execution_count": 53,
   "id": "a9474e3d",
   "metadata": {
    "ExecuteTime": {
     "end_time": "2023-10-27T01:19:42.275327Z",
     "start_time": "2023-10-27T01:19:42.266919Z"
    }
   },
   "outputs": [
    {
     "data": {
      "text/plain": [
       "array([0.85334757, 0.01653354, 0.42749422, 0.40603878, 0.49908369,\n",
       "       0.33364552, 0.77736354, 0.20079742, 0.13751018, 0.03773595])"
      ]
     },
     "execution_count": 53,
     "metadata": {},
     "output_type": "execute_result"
    }
   ],
   "source": [
    "ugen = uniform(0,1)\n",
    "ugen.rvs(10)"
   ]
  },
  {
   "cell_type": "code",
   "execution_count": 54,
   "id": "23b2af11",
   "metadata": {
    "ExecuteTime": {
     "end_time": "2023-10-27T01:23:28.596075Z",
     "start_time": "2023-10-27T01:23:28.580266Z"
    }
   },
   "outputs": [],
   "source": [
    "params = {\n",
    "    'max_depth' : randint(20,50),\n",
    "    'min_samples_split' : randint(2,25),\n",
    "    'min_impurity_decrease' : uniform(0.0001 , 0.001),\n",
    "    'min_samples_leaf' : randint(1,25)\n",
    "}"
   ]
  },
  {
   "cell_type": "code",
   "execution_count": 58,
   "id": "49cd76cd",
   "metadata": {
    "ExecuteTime": {
     "end_time": "2023-10-27T01:27:05.243023Z",
     "start_time": "2023-10-27T01:27:02.962684Z"
    }
   },
   "outputs": [
    {
     "name": "stdout",
     "output_type": "stream",
     "text": [
      "0.8928227823744468\n",
      "0.86\n"
     ]
    }
   ],
   "source": [
    "from sklearn.model_selection import RandomizedSearchCV\n",
    "rs = RandomizedSearchCV(DecisionTreeClassifier(random_state = 42) , params , n_iter = 100 , n_jobs = -1 , random_state = 42)\n",
    "rs.fit(train_input , train_target)\n",
    "\n",
    "print(rs.score(train_input , train_target))\n",
    "print(rs.score(test_input , test_target))"
   ]
  },
  {
   "cell_type": "code",
   "execution_count": 59,
   "id": "4c892629",
   "metadata": {
    "ExecuteTime": {
     "end_time": "2023-10-27T01:27:34.567540Z",
     "start_time": "2023-10-27T01:27:34.560346Z"
    }
   },
   "outputs": [
    {
     "data": {
      "text/plain": [
       "{'max_depth': 39,\n",
       " 'min_impurity_decrease': 0.00034102546602601173,\n",
       " 'min_samples_leaf': 7,\n",
       " 'min_samples_split': 13}"
      ]
     },
     "execution_count": 59,
     "metadata": {},
     "output_type": "execute_result"
    }
   ],
   "source": [
    "rs.best_params_"
   ]
  },
  {
   "cell_type": "code",
   "execution_count": null,
   "id": "3ea0128f",
   "metadata": {
    "ExecuteTime": {
     "end_time": "2023-10-27T01:28:37.245581Z",
     "start_time": "2023-10-27T01:28:37.237011Z"
    }
   },
   "outputs": [],
   "source": [
    "np.max(rs.cv_results_['mean_test_score'])"
   ]
  },
  {
   "cell_type": "code",
   "execution_count": 62,
   "id": "882df9ec",
   "metadata": {
    "ExecuteTime": {
     "end_time": "2023-10-27T01:29:30.953573Z",
     "start_time": "2023-10-27T01:29:30.945931Z"
    }
   },
   "outputs": [],
   "source": [
    "dt = rs.best_estimator_"
   ]
  },
  {
   "cell_type": "code",
   "execution_count": 63,
   "id": "5ac86417",
   "metadata": {
    "ExecuteTime": {
     "end_time": "2023-10-27T01:29:41.634456Z",
     "start_time": "2023-10-27T01:29:41.627021Z"
    }
   },
   "outputs": [
    {
     "data": {
      "text/plain": [
       "0.86"
      ]
     },
     "execution_count": 63,
     "metadata": {},
     "output_type": "execute_result"
    }
   ],
   "source": [
    "dt.score(test_input , test_target)"
   ]
  }
 ],
 "metadata": {
  "kernelspec": {
   "display_name": "Python 3 (ipykernel)",
   "language": "python",
   "name": "python3"
  },
  "language_info": {
   "codemirror_mode": {
    "name": "ipython",
    "version": 3
   },
   "file_extension": ".py",
   "mimetype": "text/x-python",
   "name": "python",
   "nbconvert_exporter": "python",
   "pygments_lexer": "ipython3",
   "version": "3.8.17"
  },
  "toc": {
   "base_numbering": 1,
   "nav_menu": {},
   "number_sections": true,
   "sideBar": true,
   "skip_h1_title": false,
   "title_cell": "Table of Contents",
   "title_sidebar": "Contents",
   "toc_cell": false,
   "toc_position": {},
   "toc_section_display": true,
   "toc_window_display": false
  }
 },
 "nbformat": 4,
 "nbformat_minor": 5
}
