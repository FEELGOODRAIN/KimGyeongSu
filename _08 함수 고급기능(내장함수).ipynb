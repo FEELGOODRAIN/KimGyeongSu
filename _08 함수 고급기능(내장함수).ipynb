{
 "cells": [
  {
   "cell_type": "markdown",
   "id": "d79ea48e",
   "metadata": {},
   "source": [
    "# 함수의 종류\n",
    "- 내장 함수\n",
    "- 사용자 정의 함수"
   ]
  },
  {
   "cell_type": "markdown",
   "id": "5c472a38",
   "metadata": {},
   "source": [
    "## 내장 함수\n",
    " https://docs.python.org/ko/3/library/functions.html"
   ]
  },
  {
   "cell_type": "code",
   "execution_count": 5,
   "id": "0adbfe18",
   "metadata": {
    "ExecuteTime": {
     "end_time": "2023-08-24T07:14:02.168816Z",
     "start_time": "2023-08-24T07:14:02.161410Z"
    },
    "scrolled": true
   },
   "outputs": [
    {
     "name": "stdout",
     "output_type": "stream",
     "text": [
      "['__add__', '__class__', '__contains__', '__delattr__', '__delitem__', '__dir__', '__doc__', '__eq__', '__format__', '__ge__', '__getattribute__', '__getitem__', '__gt__', '__hash__', '__iadd__', '__imul__', '__init__', '__init_subclass__', '__iter__', '__le__', '__len__', '__lt__', '__mul__', '__ne__', '__new__', '__reduce__', '__reduce_ex__', '__repr__', '__reversed__', '__rmul__', '__setattr__', '__setitem__', '__sizeof__', '__str__', '__subclasshook__', 'append', 'clear', 'copy', 'count', 'extend', 'index', 'insert', 'pop', 'remove', 'reverse', 'sort']\n",
      "['__class__', '__contains__', '__delattr__', '__delitem__', '__dir__', '__doc__', '__eq__', '__format__', '__ge__', '__getattribute__', '__getitem__', '__gt__', '__hash__', '__init__', '__init_subclass__', '__iter__', '__le__', '__len__', '__lt__', '__ne__', '__new__', '__reduce__', '__reduce_ex__', '__repr__', '__reversed__', '__setattr__', '__setitem__', '__sizeof__', '__str__', '__subclasshook__', 'clear', 'copy', 'fromkeys', 'get', 'items', 'keys', 'pop', 'popitem', 'setdefault', 'update', 'values']\n"
     ]
    }
   ],
   "source": [
    "#메모리 주소 확인 : id()\n",
    "# 매직명령어 : who\n",
    "# 객체의 멤버(변수나 함수, 메소드)\n",
    "#dir()\n",
    "print(dir([1,2,3]))\n",
    "print(dir({'a' : 2}))"
   ]
  },
  {
   "cell_type": "code",
   "execution_count": 19,
   "id": "49a5cea0",
   "metadata": {
    "ExecuteTime": {
     "end_time": "2023-08-24T07:19:08.515352Z",
     "start_time": "2023-08-24T07:19:08.509502Z"
    }
   },
   "outputs": [],
   "source": [
    "#몫과 나머지 연산\n",
    "\n",
    "a = 7\n",
    "b = 3\n",
    "c = a/b  #  실수몫\n",
    "\n",
    "d = a // b # 정수몫\n",
    "\n",
    "e = a % b # 나머지\n",
    "\n",
    "#divmod(숫자 , 나눌 수 ) : (몫, 나머지) 형태로 나옴\n",
    "\n"
   ]
  },
  {
   "cell_type": "code",
   "execution_count": 22,
   "id": "87eeac12",
   "metadata": {
    "ExecuteTime": {
     "end_time": "2023-08-24T07:21:23.297716Z",
     "start_time": "2023-08-24T07:21:23.288712Z"
    }
   },
   "outputs": [
    {
     "name": "stdout",
     "output_type": "stream",
     "text": [
      "[(0, 10), (1, 20), (2, 30), (3, 40), (4, 50)]\n"
     ]
    }
   ],
   "source": [
    "#enumerate : 인덱스와 값을 리턴\n",
    "\n",
    "a = [10,20,30,40,50]\n",
    "print(list(enumerate(a)))"
   ]
  },
  {
   "cell_type": "code",
   "execution_count": 23,
   "id": "d0c6a935",
   "metadata": {
    "ExecuteTime": {
     "end_time": "2023-08-24T07:24:47.993291Z",
     "start_time": "2023-08-24T07:24:46.548026Z"
    },
    "scrolled": true
   },
   "outputs": [
    {
     "name": "stdout",
     "output_type": "stream",
     "text": [
      "10.5\n",
      "a =  10.5\n"
     ]
    }
   ],
   "source": [
    "#eavl() : 자동형변환\n",
    "a=eval(input())\n",
    "print('a = ' ,a)"
   ]
  },
  {
   "cell_type": "code",
   "execution_count": 25,
   "id": "0e36565f",
   "metadata": {
    "ExecuteTime": {
     "end_time": "2023-08-24T07:28:04.051410Z",
     "start_time": "2023-08-24T07:28:04.030553Z"
    },
    "scrolled": true
   },
   "outputs": [
    {
     "name": "stdout",
     "output_type": "stream",
     "text": [
      "(3, 1)\n"
     ]
    }
   ],
   "source": [
    "#eval - 수식을 문자열로 묶어서 입력하면 계산결과를 반환\n",
    "\n",
    "str = 'divmod(10,3)'\n",
    "print(eval(str))"
   ]
  },
  {
   "cell_type": "code",
   "execution_count": 26,
   "id": "f2e17003",
   "metadata": {
    "ExecuteTime": {
     "end_time": "2023-08-24T07:32:21.761159Z",
     "start_time": "2023-08-24T07:32:21.757571Z"
    }
   },
   "outputs": [
    {
     "name": "stdout",
     "output_type": "stream",
     "text": [
      "(1, 'suger')\n",
      "(2, 'spice')\n",
      "(3, 'everyting nice')\n"
     ]
    }
   ],
   "source": [
    "#zip : 여러 개의 객체를 인덱스별로 묶어서 처리할때\n",
    "for item in zip([1,2,3],['suger','spice','everyting nice']):\n",
    "    print(item)"
   ]
  },
  {
   "cell_type": "code",
   "execution_count": 30,
   "id": "89370e62",
   "metadata": {
    "ExecuteTime": {
     "end_time": "2023-08-24T07:33:52.915498Z",
     "start_time": "2023-08-24T07:33:52.911169Z"
    }
   },
   "outputs": [
    {
     "name": "stdout",
     "output_type": "stream",
     "text": [
      "[1, 2, 3]\n",
      "[3, 1, 2]\n"
     ]
    }
   ],
   "source": [
    "items = [3,1,2]\n",
    "print(sorted(items))\n",
    "print(items)"
   ]
  },
  {
   "cell_type": "markdown",
   "id": "2bfe42e4",
   "metadata": {},
   "source": [
    "## 사용자 정의 함수"
   ]
  },
  {
   "cell_type": "code",
   "execution_count": 40,
   "id": "73f4128f",
   "metadata": {
    "ExecuteTime": {
     "end_time": "2023-08-24T07:38:22.161703Z",
     "start_time": "2023-08-24T07:38:22.137760Z"
    }
   },
   "outputs": [],
   "source": [
    "# 함수 선언문 : def 함수명(매개변수)\n",
    "\n",
    "def say():\n",
    "    a = '안녕하세요'\n",
    "    return a"
   ]
  },
  {
   "cell_type": "code",
   "execution_count": 42,
   "id": "c6844843",
   "metadata": {
    "ExecuteTime": {
     "end_time": "2023-08-24T07:38:30.388950Z",
     "start_time": "2023-08-24T07:38:30.374355Z"
    }
   },
   "outputs": [
    {
     "name": "stdout",
     "output_type": "stream",
     "text": [
      "안녕하세요\n"
     ]
    }
   ],
   "source": [
    "string = say()\n",
    "print(string)"
   ]
  },
  {
   "cell_type": "code",
   "execution_count": null,
   "id": "6b0200c5",
   "metadata": {},
   "outputs": [],
   "source": []
  },
  {
   "cell_type": "code",
   "execution_count": 45,
   "id": "82ce9679",
   "metadata": {
    "ExecuteTime": {
     "end_time": "2023-08-24T07:39:58.671697Z",
     "start_time": "2023-08-24T07:39:58.666660Z"
    }
   },
   "outputs": [],
   "source": [
    "#매개변수가 있는 함수\n",
    "def hello(name):\n",
    "    message = 'Hello , {}'.format(name)\n",
    "    return message"
   ]
  },
  {
   "cell_type": "code",
   "execution_count": 46,
   "id": "09deb93d",
   "metadata": {
    "ExecuteTime": {
     "end_time": "2023-08-24T07:39:59.772970Z",
     "start_time": "2023-08-24T07:39:59.766034Z"
    }
   },
   "outputs": [
    {
     "name": "stdout",
     "output_type": "stream",
     "text": [
      "Hello , kim\n"
     ]
    }
   ],
   "source": [
    "print(hello('kim'))"
   ]
  },
  {
   "cell_type": "markdown",
   "id": "78a6cd46",
   "metadata": {},
   "source": [
    "### default parameter : 초기 파라미터\n",
    "- 매개변수에 초기화를 시켜주는 기능\n",
    "- 값은 뒤에서부터 부여"
   ]
  },
  {
   "cell_type": "code",
   "execution_count": 52,
   "id": "fea4d5e6",
   "metadata": {
    "ExecuteTime": {
     "end_time": "2023-08-24T07:45:14.443076Z",
     "start_time": "2023-08-24T07:45:14.427700Z"
    }
   },
   "outputs": [],
   "source": [
    "def hello(name = None):\n",
    "    if name == None:\n",
    "        print('이름을 입력해주세요')\n",
    "        return\n",
    "    print('hello , {}'.format(name))"
   ]
  },
  {
   "cell_type": "code",
   "execution_count": 54,
   "id": "f6f280b5",
   "metadata": {
    "ExecuteTime": {
     "end_time": "2023-08-24T07:45:39.831333Z",
     "start_time": "2023-08-24T07:45:39.815960Z"
    }
   },
   "outputs": [
    {
     "name": "stdout",
     "output_type": "stream",
     "text": [
      "hello , park\n",
      "None\n"
     ]
    }
   ],
   "source": [
    "print(hello('park'))"
   ]
  },
  {
   "cell_type": "code",
   "execution_count": 55,
   "id": "e5da7d42",
   "metadata": {
    "ExecuteTime": {
     "end_time": "2023-08-24T07:47:28.451713Z",
     "start_time": "2023-08-24T07:47:28.439234Z"
    }
   },
   "outputs": [],
   "source": [
    "\n",
    "def hap(a,b,c):\n",
    "    return a + b + c"
   ]
  },
  {
   "cell_type": "code",
   "execution_count": 56,
   "id": "1718cea9",
   "metadata": {
    "ExecuteTime": {
     "end_time": "2023-08-24T07:47:33.198973Z",
     "start_time": "2023-08-24T07:47:33.181394Z"
    }
   },
   "outputs": [
    {
     "name": "stdout",
     "output_type": "stream",
     "text": [
      "6\n"
     ]
    }
   ],
   "source": [
    "print(hap(1,2,3))"
   ]
  },
  {
   "cell_type": "code",
   "execution_count": 57,
   "id": "1fd8d93e",
   "metadata": {
    "ExecuteTime": {
     "end_time": "2023-08-24T07:49:10.866656Z",
     "start_time": "2023-08-24T07:49:10.841748Z"
    }
   },
   "outputs": [],
   "source": [
    "def hap(a = 1,b = 2,c = 3):\n",
    "    return a + b + c"
   ]
  },
  {
   "cell_type": "code",
   "execution_count": 58,
   "id": "52507351",
   "metadata": {
    "ExecuteTime": {
     "end_time": "2023-08-24T07:49:19.831417Z",
     "start_time": "2023-08-24T07:49:19.826940Z"
    }
   },
   "outputs": [
    {
     "name": "stdout",
     "output_type": "stream",
     "text": [
      "6\n"
     ]
    }
   ],
   "source": [
    "a = hap()\n",
    "print(a)"
   ]
  },
  {
   "cell_type": "code",
   "execution_count": 61,
   "id": "295529ff",
   "metadata": {
    "ExecuteTime": {
     "end_time": "2023-08-24T07:49:43.507264Z",
     "start_time": "2023-08-24T07:49:43.498536Z"
    },
    "scrolled": true
   },
   "outputs": [
    {
     "name": "stdout",
     "output_type": "stream",
     "text": [
      "105\n"
     ]
    }
   ],
   "source": [
    "a = hap(100)\n",
    "print(a)"
   ]
  },
  {
   "cell_type": "code",
   "execution_count": 62,
   "id": "0b90105a",
   "metadata": {
    "ExecuteTime": {
     "end_time": "2023-08-24T07:49:49.878978Z",
     "start_time": "2023-08-24T07:49:49.870109Z"
    }
   },
   "outputs": [
    {
     "name": "stdout",
     "output_type": "stream",
     "text": [
      "9\n"
     ]
    }
   ],
   "source": [
    "a = hap(3,3)\n",
    "print(a)"
   ]
  },
  {
   "cell_type": "markdown",
   "id": "edca1273",
   "metadata": {
    "ExecuteTime": {
     "end_time": "2023-08-24T07:50:35.749325Z",
     "start_time": "2023-08-24T07:50:35.739151Z"
    }
   },
   "source": [
    "### 가변길이 파라미터\n",
    " - 매개변수의 개수와 상관없이 동작하도록 구현\n",
    " - 가변길이 매개변수를 구별하기 위해 변수명 앞에 *를 붙임."
   ]
  },
  {
   "cell_type": "code",
   "execution_count": 66,
   "id": "68a28ec2",
   "metadata": {
    "ExecuteTime": {
     "end_time": "2023-08-24T07:55:29.972358Z",
     "start_time": "2023-08-24T07:55:29.965366Z"
    }
   },
   "outputs": [],
   "source": [
    "def adder(a):\n",
    "    result=0\n",
    "    for i in a:\n",
    "        result = result + i\n",
    "    return result"
   ]
  },
  {
   "cell_type": "code",
   "execution_count": 67,
   "id": "8439e393",
   "metadata": {
    "ExecuteTime": {
     "end_time": "2023-08-24T07:55:30.926730Z",
     "start_time": "2023-08-24T07:55:30.922745Z"
    }
   },
   "outputs": [
    {
     "name": "stdout",
     "output_type": "stream",
     "text": [
      "tot =  15\n"
     ]
    }
   ],
   "source": [
    "x = [1,2,3,4,5]\n",
    "\n",
    "tot = adder(x)\n",
    "print('tot = ' , tot)"
   ]
  },
  {
   "cell_type": "code",
   "execution_count": 70,
   "id": "cbf0a109",
   "metadata": {
    "ExecuteTime": {
     "end_time": "2023-08-24T07:56:31.466457Z",
     "start_time": "2023-08-24T07:56:31.457143Z"
    },
    "scrolled": true
   },
   "outputs": [
    {
     "name": "stdout",
     "output_type": "stream",
     "text": [
      "tot =  30\n"
     ]
    }
   ],
   "source": [
    "y = (2,4,6,8,10)\n",
    "\n",
    "tot = adder(y)\n",
    "print('tot = ' , tot)"
   ]
  },
  {
   "cell_type": "code",
   "execution_count": 73,
   "id": "1e0b4e42",
   "metadata": {
    "ExecuteTime": {
     "end_time": "2023-08-24T08:01:27.882910Z",
     "start_time": "2023-08-24T08:01:27.875231Z"
    }
   },
   "outputs": [],
   "source": [
    "def adder(*ar):\n",
    "    res = 0\n",
    "    for i in ar:\n",
    "        res = res + i\n",
    "    return res"
   ]
  },
  {
   "cell_type": "code",
   "execution_count": 79,
   "id": "332acfe8",
   "metadata": {
    "ExecuteTime": {
     "end_time": "2023-08-24T08:03:04.286567Z",
     "start_time": "2023-08-24T08:03:04.277124Z"
    }
   },
   "outputs": [
    {
     "name": "stdout",
     "output_type": "stream",
     "text": [
      "15\n"
     ]
    }
   ],
   "source": [
    "\n",
    "print(adder(1,2,3,4,5))"
   ]
  },
  {
   "cell_type": "code",
   "execution_count": 80,
   "id": "1c8bff47",
   "metadata": {
    "ExecuteTime": {
     "end_time": "2023-08-24T08:05:29.861858Z",
     "start_time": "2023-08-24T08:05:29.855670Z"
    }
   },
   "outputs": [],
   "source": [
    "def order(size,*topping):\n",
    "    print('\\n' + size + '피자를 주문하셨습니다' '\\n''토핑: ',end='')\n",
    "    for i in topping:\n",
    "        print(i + ',' , end='')\n",
    "        "
   ]
  },
  {
   "cell_type": "code",
   "execution_count": 81,
   "id": "7514bde8",
   "metadata": {
    "ExecuteTime": {
     "end_time": "2023-08-24T08:06:14.167809Z",
     "start_time": "2023-08-24T08:06:14.157800Z"
    },
    "scrolled": true
   },
   "outputs": [
    {
     "name": "stdout",
     "output_type": "stream",
     "text": [
      "\n",
      "large피자를 주문하셨습니다\n",
      "토핑: 토마토,라임,파인애플,"
     ]
    }
   ],
   "source": [
    "order('large','토마토','라임','파인애플')"
   ]
  },
  {
   "cell_type": "code",
   "execution_count": null,
   "id": "0e5adb87",
   "metadata": {},
   "outputs": [],
   "source": []
  },
  {
   "cell_type": "markdown",
   "id": "553a8ab3",
   "metadata": {},
   "source": [
    "### 딕셔너리(사전)을 매개변수로 넘길 때\n",
    " - 매개변수의 이름앞에 '**'를 붙임"
   ]
  },
  {
   "cell_type": "code",
   "execution_count": 82,
   "id": "aff4e717",
   "metadata": {
    "ExecuteTime": {
     "end_time": "2023-08-24T08:24:05.337686Z",
     "start_time": "2023-08-24T08:24:05.328868Z"
    }
   },
   "outputs": [],
   "source": [
    "def fuc(**ar):\n",
    "    print(ar)"
   ]
  },
  {
   "cell_type": "code",
   "execution_count": 86,
   "id": "3b88dee9",
   "metadata": {
    "ExecuteTime": {
     "end_time": "2023-08-24T08:25:33.424873Z",
     "start_time": "2023-08-24T08:25:33.417825Z"
    }
   },
   "outputs": [
    {
     "name": "stdout",
     "output_type": "stream",
     "text": [
      "{'name': 'aaa', 'age': 15, 'birth': '1992'}\n"
     ]
    }
   ],
   "source": [
    "fuc(name = 'aaa' , age = 15 , birth = '1992')"
   ]
  },
  {
   "cell_type": "markdown",
   "id": "f59f46c3",
   "metadata": {},
   "source": [
    "### 람다 함수(Lambda Function) or 람다 표현식( Lambda Expression)\n",
    "- 이름이 없는 함수\n",
    "- 인라인 함수 : 한 줄로 구성된 함수 - 함수가 간결하고 메모리를 절약할 수 있음.\n",
    "- 형식 : lambda 매개변수 : 표현식 / lambda 입력값 : 출력값"
   ]
  },
  {
   "cell_type": "code",
   "execution_count": 87,
   "id": "7936a9f8",
   "metadata": {
    "ExecuteTime": {
     "end_time": "2023-08-24T08:29:21.246409Z",
     "start_time": "2023-08-24T08:29:21.238549Z"
    }
   },
   "outputs": [],
   "source": [
    "def plus(a):\n",
    "    return a+1"
   ]
  },
  {
   "cell_type": "code",
   "execution_count": 90,
   "id": "4b863efd",
   "metadata": {
    "ExecuteTime": {
     "end_time": "2023-08-24T08:30:17.028079Z",
     "start_time": "2023-08-24T08:30:17.020179Z"
    }
   },
   "outputs": [
    {
     "name": "stdout",
     "output_type": "stream",
     "text": [
      "2\n"
     ]
    }
   ],
   "source": [
    "a = 1\n",
    "print(plus(a))"
   ]
  },
  {
   "cell_type": "code",
   "execution_count": 91,
   "id": "313fd30e",
   "metadata": {
    "ExecuteTime": {
     "end_time": "2023-08-24T08:30:20.519075Z",
     "start_time": "2023-08-24T08:30:20.508076Z"
    }
   },
   "outputs": [],
   "source": [
    "plus = lambda a : a + 1"
   ]
  },
  {
   "cell_type": "code",
   "execution_count": 92,
   "id": "6a5d77e7",
   "metadata": {
    "ExecuteTime": {
     "end_time": "2023-08-24T08:30:25.469851Z",
     "start_time": "2023-08-24T08:30:25.456766Z"
    },
    "scrolled": true
   },
   "outputs": [
    {
     "name": "stdout",
     "output_type": "stream",
     "text": [
      "8\n"
     ]
    }
   ],
   "source": [
    "print(plus(7))"
   ]
  },
  {
   "cell_type": "code",
   "execution_count": 94,
   "id": "de21c1be",
   "metadata": {
    "ExecuteTime": {
     "end_time": "2023-08-24T08:33:17.995711Z",
     "start_time": "2023-08-24T08:33:17.987669Z"
    }
   },
   "outputs": [],
   "source": [
    "def is_even(x):\n",
    "    return x%2==0\n"
   ]
  },
  {
   "cell_type": "code",
   "execution_count": 95,
   "id": "3c9b37d0",
   "metadata": {
    "ExecuteTime": {
     "end_time": "2023-08-24T08:33:35.745995Z",
     "start_time": "2023-08-24T08:33:35.733853Z"
    }
   },
   "outputs": [
    {
     "name": "stdout",
     "output_type": "stream",
     "text": [
      "홀수\n"
     ]
    }
   ],
   "source": [
    "if is_even(3):\n",
    "    print('짝수')\n",
    "else:\n",
    "    print('홀수')"
   ]
  },
  {
   "cell_type": "code",
   "execution_count": 96,
   "id": "24495154",
   "metadata": {
    "ExecuteTime": {
     "end_time": "2023-08-24T08:35:28.111804Z",
     "start_time": "2023-08-24T08:35:28.100695Z"
    }
   },
   "outputs": [
    {
     "data": {
      "text/plain": [
       "False"
      ]
     },
     "execution_count": 96,
     "metadata": {},
     "output_type": "execute_result"
    }
   ],
   "source": [
    "is_even = lambda x : x % 2 == 0\n",
    "is_even(1)"
   ]
  },
  {
   "cell_type": "code",
   "execution_count": null,
   "id": "2af87a41",
   "metadata": {},
   "outputs": [],
   "source": []
  },
  {
   "cell_type": "code",
   "execution_count": 97,
   "id": "4bd8bb6b",
   "metadata": {
    "ExecuteTime": {
     "end_time": "2023-08-24T08:36:58.149217Z",
     "start_time": "2023-08-24T08:36:58.139291Z"
    }
   },
   "outputs": [],
   "source": [
    "def add(x):\n",
    "    return x+2"
   ]
  },
  {
   "cell_type": "code",
   "execution_count": 99,
   "id": "28d1809c",
   "metadata": {
    "ExecuteTime": {
     "end_time": "2023-08-24T08:37:12.857993Z",
     "start_time": "2023-08-24T08:37:12.847550Z"
    }
   },
   "outputs": [
    {
     "data": {
      "text/plain": [
       "[3, 4, 5, 6, 7]"
      ]
     },
     "execution_count": 99,
     "metadata": {},
     "output_type": "execute_result"
    }
   ],
   "source": [
    "list(map(add,[1,2,3,4,5]))"
   ]
  },
  {
   "cell_type": "code",
   "execution_count": 101,
   "id": "db08cfb8",
   "metadata": {
    "ExecuteTime": {
     "end_time": "2023-08-24T08:38:29.258970Z",
     "start_time": "2023-08-24T08:38:29.233680Z"
    }
   },
   "outputs": [
    {
     "name": "stdout",
     "output_type": "stream",
     "text": [
      "[3, 4, 5, 6, 7]\n"
     ]
    }
   ],
   "source": [
    "res2=list(map(lambda x:x+2 , [1,2,3,4,5]))\n",
    "\n",
    "print(res2)"
   ]
  },
  {
   "cell_type": "code",
   "execution_count": 109,
   "id": "4b8b27f1",
   "metadata": {
    "ExecuteTime": {
     "end_time": "2023-08-24T08:42:46.707697Z",
     "start_time": "2023-08-24T08:42:46.696538Z"
    }
   },
   "outputs": [
    {
     "name": "stdout",
     "output_type": "stream",
     "text": [
      "[0, 2, 4, 6, 8]\n",
      "[0, 2, 4, 6, 8]\n"
     ]
    }
   ],
   "source": [
    "def is_even(x):\n",
    "    return x%2 ==0\n",
    "\n",
    "result1 = list(filter(is_even, range(10)))\n",
    "\n",
    "print(result1)\n",
    "\n",
    "result3 = list(filter(lambda x : x%2==0 , range(10)))\n",
    "\n",
    "print(result3)"
   ]
  },
  {
   "cell_type": "code",
   "execution_count": 1,
   "id": "4a324a99",
   "metadata": {
    "ExecuteTime": {
     "end_time": "2023-08-24T23:49:22.615137Z",
     "start_time": "2023-08-24T23:49:22.603994Z"
    }
   },
   "outputs": [],
   "source": [
    "x = [1,2,3,4,5,6,7,8,9]\n",
    "y = []\n",
    "def change(x):\n",
    "    for i in x:\n",
    "        if i%2==0:\n",
    "            y.append(-i)\n",
    "        else:\n",
    "            y.append(i)\n",
    "    return y"
   ]
  },
  {
   "cell_type": "code",
   "execution_count": 2,
   "id": "36ed3a36",
   "metadata": {
    "ExecuteTime": {
     "end_time": "2023-08-24T23:49:23.901853Z",
     "start_time": "2023-08-24T23:49:23.892133Z"
    }
   },
   "outputs": [
    {
     "name": "stdout",
     "output_type": "stream",
     "text": [
      "[1, -2, 3, -4, 5, -6, 7, -8, 9]\n"
     ]
    }
   ],
   "source": [
    "print(change(x))"
   ]
  },
  {
   "cell_type": "markdown",
   "id": "2a897bcc",
   "metadata": {},
   "source": [
    "#### 리스트 내포"
   ]
  },
  {
   "cell_type": "code",
   "execution_count": 14,
   "id": "ec497096",
   "metadata": {
    "ExecuteTime": {
     "end_time": "2023-08-24T23:54:17.494473Z",
     "start_time": "2023-08-24T23:54:17.486428Z"
    }
   },
   "outputs": [
    {
     "name": "stdout",
     "output_type": "stream",
     "text": [
      "[1, -2, 3, -4, 5, -6, 7, -8, 9]\n"
     ]
    }
   ],
   "source": [
    "x = [1,2,3,4,5,6,7,8,9]\n",
    "y = [i if i%2==1 else -i for i in x]\n",
    "print(y)"
   ]
  }
 ],
 "metadata": {
  "kernelspec": {
   "display_name": "Python 3",
   "language": "python",
   "name": "python3"
  },
  "language_info": {
   "codemirror_mode": {
    "name": "ipython",
    "version": 3
   },
   "file_extension": ".py",
   "mimetype": "text/x-python",
   "name": "python",
   "nbconvert_exporter": "python",
   "pygments_lexer": "ipython3",
   "version": "3.8.8"
  },
  "toc": {
   "base_numbering": 1,
   "nav_menu": {},
   "number_sections": true,
   "sideBar": true,
   "skip_h1_title": false,
   "title_cell": "Table of Contents",
   "title_sidebar": "Contents",
   "toc_cell": false,
   "toc_position": {},
   "toc_section_display": true,
   "toc_window_display": false
  }
 },
 "nbformat": 4,
 "nbformat_minor": 5
}
