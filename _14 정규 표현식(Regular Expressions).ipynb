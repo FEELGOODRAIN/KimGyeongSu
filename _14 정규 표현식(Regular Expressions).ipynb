{
 "cells": [
  {
   "cell_type": "markdown",
   "id": "37ed3562",
   "metadata": {},
   "source": [
    "# Regular Expressions(정규 표현식)\n",
    "    - 복잡한 문자열을 처리할 때 사용\n",
    "    - 모든 언어에서 문자열을 처리할 때 공통으로 사용\n",
    "    - 예 : 주민등록번호의 뒷자리를 '*'로 변경"
   ]
  },
  {
   "cell_type": "markdown",
   "id": "886e5700",
   "metadata": {},
   "source": [
    "## 정규 표현식을 사용하지 않는 예"
   ]
  },
  {
   "cell_type": "code",
   "execution_count": 11,
   "id": "2cc1b7e6",
   "metadata": {
    "ExecuteTime": {
     "end_time": "2023-08-29T01:24:47.307262Z",
     "start_time": "2023-08-29T01:24:47.301990Z"
    }
   },
   "outputs": [
    {
     "name": "stdout",
     "output_type": "stream",
     "text": [
      "['park 800905-*******', 'kim 700905-*******', 'lee 880203-*******', 'hong 901105-*******', 'jang 020319-*******']\n"
     ]
    }
   ],
   "source": [
    "data = '''park 800905-1049110\n",
    "kim 700905-1059119\n",
    "lee 880203-2110537\n",
    "hong 901105-1234567\n",
    "jang 020319-3205147'''\n",
    "\n",
    "\n",
    "results = []\n",
    "for i in data.split('\\n'):\n",
    "    word_result = []\n",
    "    for j in i.split(' '):\n",
    "        if len(j) == 14 and j[:6].isdigit() and j[7:].isdigit():\n",
    "            j = j[:6] + '-' + '*******'\n",
    "        word_result.append(j)\n",
    "        \n",
    "    results.append(' '.join(word_result))\n",
    "    \n",
    "print(results)"
   ]
  },
  {
   "cell_type": "markdown",
   "id": "f8256bb8",
   "metadata": {},
   "source": [
    "## 정규 표현식을 이용한 예"
   ]
  },
  {
   "cell_type": "code",
   "execution_count": 20,
   "id": "74329669",
   "metadata": {
    "ExecuteTime": {
     "end_time": "2023-08-29T01:28:49.485871Z",
     "start_time": "2023-08-29T01:28:49.463066Z"
    }
   },
   "outputs": [
    {
     "name": "stdout",
     "output_type": "stream",
     "text": [
      "park 800905-*******\n",
      "kim 700905-*******\n",
      "lee 880203-*******\n",
      "hong 901105-*******\n",
      "jang 020319-*******\n"
     ]
    }
   ],
   "source": [
    "data = '''park 800905-1049110\n",
    "kim 700905-1059119\n",
    "lee 880203-2110537\n",
    "hong 901105-1234567\n",
    "jang 020319-3205147'''\n",
    "\n",
    "import re\n",
    "\n",
    "pat = re.compile('(\\d{6})[-]\\d{7}')\n",
    "print(pat.sub('\\g<1>-*******',data))"
   ]
  },
  {
   "cell_type": "markdown",
   "id": "55a9ad6e",
   "metadata": {},
   "source": [
    "# 메타 문자(Meta Character)\n",
    " - 원래 그 문자의 의미가 아니라 특별한 의미를 가진 문자\n",
    " - 분류 : _ , ^ , $ , * , + , ? , [] , {} , \\ , | , ()"
   ]
  },
  {
   "cell_type": "code",
   "execution_count": null,
   "id": "0082854f",
   "metadata": {},
   "outputs": [],
   "source": [
    "# []\n",
    "##[abc] : a 또는 b 또는 c 중 한 개라도 문자와 매칭하는지 검색\n",
    "##[a-c] : [abc]와 동일\n",
    "##[0-5] : [012345]\n",
    "##[a-zA-z] : 알파벳 모든 문자\n",
    "##[0-9] : 모든 숫자\n",
    "\n",
    "# ^(not)\n",
    "##[^0-9] : 숫자가 아닌\n",
    "\n",
    "# .(dot) : all의 의미\n",
    "##a.b : 'a + 모든 문자 + b'와 매칭\n"
   ]
  },
  {
   "cell_type": "code",
   "execution_count": 30,
   "id": "b7dc1ac3",
   "metadata": {
    "ExecuteTime": {
     "end_time": "2023-08-29T01:45:39.076145Z",
     "start_time": "2023-08-29T01:45:39.053332Z"
    }
   },
   "outputs": [
    {
     "name": "stdout",
     "output_type": "stream",
     "text": [
      "['y', 'i', 'd', 'n', 'u', 'm', 'b', 'e', 'r', 'i', 's', 'l', 'e', 'e']\n",
      "['y', 'id', 'number', 'is', 'lee']\n",
      "['M']\n",
      "['M']\n"
     ]
    }
   ],
   "source": [
    "string = 'My id number is lee0902'\n",
    "\n",
    "d = re.findall('[a-z]',string)\n",
    "print(d)\n",
    "a = re.findall('[a-z]+',string)\n",
    "print(a)\n",
    "\n",
    "b = re.findall('[A-Z]',string)\n",
    "print(b)\n",
    "\n",
    "c = re.findall('[A-Z]+',string)\n",
    "print(c)"
   ]
  },
  {
   "cell_type": "code",
   "execution_count": 41,
   "id": "f50233fc",
   "metadata": {
    "ExecuteTime": {
     "end_time": "2023-08-29T01:53:17.101690Z",
     "start_time": "2023-08-29T01:53:17.083311Z"
    }
   },
   "outputs": [
    {
     "name": "stdout",
     "output_type": "stream",
     "text": [
      "['M', 'y', 'i', 'd', 'n', 'u', 'm', 'b', 'e', 'r', 'i', 's', 'K', 'I', 'N', '_', '0', '5', '0', '2', '5']\n",
      "['My', 'id', 'number', 'is', 'KIN_05025']\n",
      "[' ', ' ', ' ', ' ', '%']\n",
      "['M', 'y', 'i', 'd', 'n', 'u', 'm', 'b', 'e', 'r', 'i', 's', 'K', 'I', 'N', '_', '0', '5', '0', '2', '5']\n",
      "['My', 'id', 'number', 'is', 'KIN_05025']\n",
      "[' ', ' ', ' ', ' ', '%']\n"
     ]
    }
   ],
   "source": [
    "string = 'My id number is KIN_05025%'\n",
    "\n",
    "a = re.findall('[a-zA-z0-9]' , string)\n",
    "print(a)\n",
    "b = re.findall('[a-zA-z0-9]+' , string)\n",
    "print(b)\n",
    "c = re.findall('[^a-zA-z0-9]' , string)\n",
    "print(c)\n",
    "d = re.findall('[\\w]' , string) # \\w : 영문자와 숫자 찾음.\n",
    "print(d)\n",
    "e = re.findall('[\\w]+' , string)\n",
    "print(e)\n",
    "f = re.findall('[\\W]' , string) # \\W : 영문자 , 숫자 , _ 가 아닌 것들 찾음\n",
    "print(f)"
   ]
  },
  {
   "cell_type": "code",
   "execution_count": 51,
   "id": "94df1308",
   "metadata": {
    "ExecuteTime": {
     "end_time": "2023-08-29T02:08:11.121964Z",
     "start_time": "2023-08-29T02:08:11.114034Z"
    }
   },
   "outputs": [],
   "source": [
    "#비밀번호 체크하는 함수 구현\n",
    "## 문자의 길이는 6~~12글자 이내\n",
    "## 영문자와 숫자를 포함\n",
    "\n",
    "def check_pass(pwd):\n",
    "    if len(pwd)<6 or len(pwd)>12:\n",
    "        print(f'입력받은 {pwd}는 길이가 적당하지 않습니다.')\n",
    "        return False\n",
    "    \n",
    "    \n",
    "    if re.findall('[\\w]+' , pwd)[0] != pwd:\n",
    "        print(f'{pwd}는 영문자와 숫자로만 이루어져야 합니다')\n",
    "        return False\n",
    "    \n",
    "    #영문자의 소문자 , 대문자는 적어도 한글자는 포함되어야 한다.\n",
    "    \n",
    "    if re.findall('[A-Z]' , pwd) == [] or re.findall('[a-z]' , pwd) == []:\n",
    "        print(f'{pwd}는 소문자와 대문자가 적어도 하나 이상씩 있어야 힙니다.')\n",
    "        return False\n",
    "        \n",
    "    print(f'{pwd}는 올바른 형식의 비밀번호입니다')\n",
    "    return"
   ]
  },
  {
   "cell_type": "code",
   "execution_count": 55,
   "id": "ce076f3f",
   "metadata": {
    "ExecuteTime": {
     "end_time": "2023-08-29T02:08:26.314771Z",
     "start_time": "2023-08-29T02:08:26.306659Z"
    }
   },
   "outputs": [
    {
     "name": "stdout",
     "output_type": "stream",
     "text": [
      "abcdefG1241는 올바른 형식의 비밀번호입니다\n"
     ]
    }
   ],
   "source": [
    "check_pass('abcdefG1241')"
   ]
  },
  {
   "cell_type": "code",
   "execution_count": null,
   "id": "756cd3ba",
   "metadata": {},
   "outputs": [],
   "source": [
    "# 이메일 체크 함수\n",
    "## 첫글자는 영문자의 소문자와 숫자로 이루어지되 2글자 이상이어야 함\n",
    "## 문자열 사이에 @를 포함\n",
    "## 마지막은 반드시 .와 함께 영문자 그리고 2글자 이상으로 끝나야 함"
   ]
  },
  {
   "cell_type": "code",
   "execution_count": 66,
   "id": "5d57fc9f",
   "metadata": {
    "ExecuteTime": {
     "end_time": "2023-08-29T02:32:40.455573Z",
     "start_time": "2023-08-29T02:32:40.450559Z"
    }
   },
   "outputs": [],
   "source": [
    "def email_check(email):\n",
    "    #^[a-z] : 시작은 반드시 영문자 소문자여야 함\n",
    "    #[^a-z] : 영문자 소문자를 포함하지 않아야 함\n",
    "    #{n} : n글자 , {n,} : 최소 n글자 이상\n",
    "    #{n,m} : 최소 n글자 , 최대 m글자 반복 , \\d{3,5} : 적어도 3~~5개의 숫자는 포함\n",
    "    #[]$ : 해당 패턴으로 종료되어야 함\n",
    "    #\\문자 : 해당 문자가 반드시 있어야 함\n",
    "    exp = re.findall('^[a-z0-9]{2,}\\@[a-z0-9]{2,}\\.[a-z]{2,}$',email)\n",
    "    \n",
    "    if len(exp) == 0:\n",
    "        print(f'{email}의 형식이 올바르지 않습니다')\n",
    "        return False\n",
    "    print(f'{email}은 올바른 형식입니다.')\n",
    "    return"
   ]
  },
  {
   "cell_type": "code",
   "execution_count": 67,
   "id": "faaeba50",
   "metadata": {
    "ExecuteTime": {
     "end_time": "2023-08-29T02:32:40.684391Z",
     "start_time": "2023-08-29T02:32:40.668591Z"
    }
   },
   "outputs": [
    {
     "name": "stdout",
     "output_type": "stream",
     "text": [
      "lee123@naver.com은 올바른 형식입니다.\n"
     ]
    }
   ],
   "source": [
    "email_check('lee123@naver.com')"
   ]
  },
  {
   "cell_type": "code",
   "execution_count": null,
   "id": "85037ae0",
   "metadata": {},
   "outputs": [],
   "source": []
  }
 ],
 "metadata": {
  "kernelspec": {
   "display_name": "Python 3",
   "language": "python",
   "name": "python3"
  },
  "language_info": {
   "codemirror_mode": {
    "name": "ipython",
    "version": 3
   },
   "file_extension": ".py",
   "mimetype": "text/x-python",
   "name": "python",
   "nbconvert_exporter": "python",
   "pygments_lexer": "ipython3",
   "version": "3.8.8"
  },
  "toc": {
   "base_numbering": 1,
   "nav_menu": {},
   "number_sections": true,
   "sideBar": true,
   "skip_h1_title": false,
   "title_cell": "Table of Contents",
   "title_sidebar": "Contents",
   "toc_cell": false,
   "toc_position": {},
   "toc_section_display": true,
   "toc_window_display": false
  }
 },
 "nbformat": 4,
 "nbformat_minor": 5
}
