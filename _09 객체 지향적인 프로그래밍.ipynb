{
 "cells": [
  {
   "cell_type": "markdown",
   "id": "96476059",
   "metadata": {},
   "source": [
    "# 객체 지향적인 프로그래밍?\n",
    "    1. 구조적인 프로그래밍 기법 : 대표적인 언어 - C언어\n",
    "        - 구조적인 프로그래밍 기법의 단점은 프로그램의 개발 시간과 비용\n",
    "        - 소프트웨어의 위기\n",
    "        - 고전적인 프로그래밍 개발기법 : 폭포수 기법\n",
    "    2. 객체(object)와 객체(instance)\n",
    "        -객체(object) : 붕어빵 틀 , 설계도\n",
    "        -객체(instance) : 붕어빵\n",
    "    3. 나는 사과장수에게 2000원을 주고 사과를 구매한다.\n",
    "        -객체 -> 클래스 , 명사\n",
    "        -메소드(Method) : 객체가 하는 행위나 동작 ( = 함수 ) , 동사\n",
    "        -속성(Attribute) : 객체가 가지고 있는 특성 ( = 변수 )"
   ]
  },
  {
   "cell_type": "markdown",
   "id": "11a6dd64",
   "metadata": {},
   "source": [
    "## 모듈(Module) vs 클래스(class) vs 인스턴스(instance)\n",
    " 1. 모듈(Module) : py라는 확장자를 가지고 있는 파이썬 파일\n",
    "     - 모듈을 여러개 모아놓은 것이 패키지.\n",
    " 2. 클래스(class) : 객체를 추상화하는 구조 또는 틀\n",
    " 3. 인스턴스(instance) : 클래스로부터 만들어낸 객체"
   ]
  },
  {
   "cell_type": "markdown",
   "id": "95f48501",
   "metadata": {},
   "source": [
    "# 클래스(class)\n",
    "1. 클래스의 구조 또는 형식\n",
    "<code>\n",
    "    calss 클래스명:\n",
    "        맴버필드(Member Field) or 속성(property) - 생략 가능\n",
    "        맴버메서드(member Method) or 함수\n",
    "<code>"
   ]
  },
  {
   "cell_type": "code",
   "execution_count": null,
   "id": "6e3a1658",
   "metadata": {
    "ExecuteTime": {
     "end_time": "2023-08-25T00:46:26.847325Z",
     "start_time": "2023-08-25T00:46:26.839821Z"
    }
   },
   "outputs": [],
   "source": [
    "class Applebuyer:\n",
    "    money = 10000\n",
    "    apple = 0\n",
    "    def buy(self , Appleseller sales):\n",
    "        apple1 = seller.sales(don)\n",
    "        money = money - don\n",
    "        \n",
    "        return\n",
    "    def result(self):\n",
    "        print('남은 용돈 : ' , money , '원')\n",
    "        print('구매 사과 : ' , apple , '개')\n",
    "        \n",
    "        "
   ]
  },
  {
   "cell_type": "code",
   "execution_count": null,
   "id": "adf0d8fc",
   "metadata": {
    "ExecuteTime": {
     "end_time": "2023-08-25T00:46:25.175313Z",
     "start_time": "2023-08-25T00:46:25.156914Z"
    }
   },
   "outputs": [],
   "source": [
    "class Appleseller:\n",
    "    price = 1000\n",
    "    apples = 50\n",
    "    money = 0\n",
    "    \n",
    "    def sales(self , don):\n",
    "        apple = don//price\n",
    "        apples = apples-apple\n",
    "        money = money + don\n",
    "        return apple\n",
    "    def dipsp(self):\n",
    "        print('남은 사과 수 : ' , apples , '개')\n",
    "        print('매출 금액 : ' ,money , '원')\n",
    "        "
   ]
  },
  {
   "cell_type": "markdown",
   "id": "530a32e0",
   "metadata": {},
   "source": [
    "## 클래스 내부에 Method 선언\n",
    " - def로 선언\n",
    " - 일반 함수와 구별하기 위해 첫 번째 매개변수에 self를 사용"
   ]
  },
  {
   "cell_type": "code",
   "execution_count": null,
   "id": "237b1fe1",
   "metadata": {
    "ExecuteTime": {
     "end_time": "2023-08-25T00:59:37.033313Z",
     "start_time": "2023-08-25T00:59:37.026700Z"
    }
   },
   "outputs": [],
   "source": [
    "#사람\n",
    "class person:\n",
    "    \n",
    "    def walk(self):\n",
    "        print('사람이 걸어간다')\n",
    "    \n",
    "    def run(self):\n",
    "        print('사람이 달려간다')\n",
    "        \n",
    "    "
   ]
  },
  {
   "cell_type": "code",
   "execution_count": null,
   "id": "6d777f02",
   "metadata": {
    "ExecuteTime": {
     "end_time": "2023-08-25T00:58:51.878268Z",
     "start_time": "2023-08-25T00:58:51.862074Z"
    }
   },
   "outputs": [],
   "source": [
    "#클래스에 접근하려면 반드시 인스턴스 객체가 필요.\n",
    "p = person()"
   ]
  },
  {
   "cell_type": "code",
   "execution_count": null,
   "id": "22ff5b84",
   "metadata": {
    "ExecuteTime": {
     "end_time": "2023-08-25T00:58:53.704293Z",
     "start_time": "2023-08-25T00:58:53.691689Z"
    }
   },
   "outputs": [],
   "source": [
    "#객체명을 통해 클래스의 맴버에 접근 : '.'\n",
    "p.walk()\n",
    "p.run()"
   ]
  },
  {
   "cell_type": "code",
   "execution_count": null,
   "id": "9e978811",
   "metadata": {},
   "outputs": [],
   "source": []
  },
  {
   "cell_type": "code",
   "execution_count": null,
   "id": "00693153",
   "metadata": {},
   "outputs": [],
   "source": []
  },
  {
   "cell_type": "code",
   "execution_count": null,
   "id": "33c2e5bd",
   "metadata": {
    "ExecuteTime": {
     "end_time": "2023-08-25T00:59:38.448635Z",
     "start_time": "2023-08-25T00:59:38.437032Z"
    }
   },
   "outputs": [],
   "source": [
    "class person1:\n",
    "    \n",
    "    def walk(self):\n",
    "        print(self.name +'이(가) 걸어간다')\n",
    "    \n",
    "    def run(self):\n",
    "        print(self.name +'이(가) 달려간다')"
   ]
  },
  {
   "cell_type": "code",
   "execution_count": null,
   "id": "ce5b4449",
   "metadata": {
    "ExecuteTime": {
     "end_time": "2023-08-25T00:59:48.030365Z",
     "start_time": "2023-08-25T00:59:48.017416Z"
    }
   },
   "outputs": [],
   "source": [
    "p1=person1()"
   ]
  },
  {
   "cell_type": "code",
   "execution_count": null,
   "id": "71aa6c48",
   "metadata": {
    "ExecuteTime": {
     "end_time": "2023-08-25T01:00:31.289665Z",
     "start_time": "2023-08-25T01:00:31.268649Z"
    }
   },
   "outputs": [],
   "source": [
    "p1.name='홍길동'\n",
    "\n",
    "p1.walk()"
   ]
  },
  {
   "cell_type": "code",
   "execution_count": null,
   "id": "335a0b09",
   "metadata": {
    "ExecuteTime": {
     "end_time": "2023-08-25T01:14:48.331565Z",
     "start_time": "2023-08-25T01:14:48.324160Z"
    }
   },
   "outputs": [],
   "source": [
    "p2 = person1()\n",
    "p2.name='장보고'\n",
    "p2.walk()"
   ]
  },
  {
   "cell_type": "code",
   "execution_count": null,
   "id": "ec020bbf",
   "metadata": {
    "ExecuteTime": {
     "end_time": "2023-08-25T01:17:50.538414Z",
     "start_time": "2023-08-25T01:17:50.533394Z"
    }
   },
   "outputs": [],
   "source": [
    "class person2:\n",
    "    \n",
    "    def walk(self , speed):\n",
    "        print(self.name +'이(가) ' + speed + '의 속도로 걸어간다')\n",
    "    \n",
    "    def run(self , speed):\n",
    "        print(self.name +'이(가) ' + speed + '의 속도로 달려간다')"
   ]
  },
  {
   "cell_type": "code",
   "execution_count": null,
   "id": "31f9955a",
   "metadata": {
    "ExecuteTime": {
     "end_time": "2023-08-25T01:17:50.814504Z",
     "start_time": "2023-08-25T01:17:50.799089Z"
    }
   },
   "outputs": [],
   "source": [
    "p3 = person2()"
   ]
  },
  {
   "cell_type": "code",
   "execution_count": null,
   "id": "99e4ff5b",
   "metadata": {
    "ExecuteTime": {
     "end_time": "2023-08-25T01:18:39.298818Z",
     "start_time": "2023-08-25T01:18:39.277808Z"
    }
   },
   "outputs": [],
   "source": [
    "p3.name = '홍길동'\n",
    "\n",
    "p3.walk('5km/h')"
   ]
  },
  {
   "cell_type": "code",
   "execution_count": null,
   "id": "122e6e45",
   "metadata": {
    "ExecuteTime": {
     "end_time": "2023-08-25T01:22:00.914690Z",
     "start_time": "2023-08-25T01:22:00.902756Z"
    }
   },
   "outputs": [],
   "source": [
    "class people:\n",
    "    name = ''\n",
    "    height = 0.0\n",
    "    age = 0\n",
    "    \n",
    "    def disp(self):\n",
    "        print('이름 : ' , self.name)\n",
    "        print('나이 : ' , self.age)\n",
    "        print('신장 : ' , self.height)"
   ]
  },
  {
   "cell_type": "code",
   "execution_count": null,
   "id": "b39a4f02",
   "metadata": {
    "ExecuteTime": {
     "end_time": "2023-08-25T01:22:10.978848Z",
     "start_time": "2023-08-25T01:22:10.969292Z"
    }
   },
   "outputs": [],
   "source": [
    "a = people()"
   ]
  },
  {
   "cell_type": "code",
   "execution_count": null,
   "id": "e971db4b",
   "metadata": {
    "ExecuteTime": {
     "end_time": "2023-08-25T01:23:59.521058Z",
     "start_time": "2023-08-25T01:23:59.516852Z"
    },
    "scrolled": true
   },
   "outputs": [],
   "source": [
    "a.name = '장보고'\n",
    "a.age = 23\n",
    "a.height = 180.7\n",
    "\n",
    "a.disp()"
   ]
  },
  {
   "cell_type": "code",
   "execution_count": null,
   "id": "75319079",
   "metadata": {},
   "outputs": [],
   "source": []
  },
  {
   "cell_type": "markdown",
   "id": "dd91a76a",
   "metadata": {},
   "source": [
    "### 특별한 메서드 : __init__(self)\n",
    " - 맴버 필드를 초기화할 목적으로 사용"
   ]
  },
  {
   "cell_type": "code",
   "execution_count": null,
   "id": "2a2af643",
   "metadata": {
    "ExecuteTime": {
     "end_time": "2023-08-25T01:30:23.541404Z",
     "start_time": "2023-08-25T01:30:23.530355Z"
    }
   },
   "outputs": [],
   "source": [
    "#__init__(self)\n",
    "class people1:\n",
    "    def __init__(self,name,age,height):\n",
    "        self.name = name\n",
    "        self.age = age\n",
    "        self.height = height\n",
    "    def disp(self):\n",
    "        print('이름 : ' , self.name)\n",
    "        print('나이 : ' , self.age)\n",
    "        print('신장 : ' , self.height)\n"
   ]
  },
  {
   "cell_type": "code",
   "execution_count": null,
   "id": "99444681",
   "metadata": {
    "ExecuteTime": {
     "end_time": "2023-08-25T01:31:07.783458Z",
     "start_time": "2023-08-25T01:31:07.774971Z"
    }
   },
   "outputs": [],
   "source": [
    "a1 = people1('이순신' , 23 , 170.6)\n",
    "\n",
    "a1.disp()"
   ]
  },
  {
   "cell_type": "code",
   "execution_count": null,
   "id": "6334582d",
   "metadata": {
    "ExecuteTime": {
     "end_time": "2023-08-25T01:39:31.280564Z",
     "start_time": "2023-08-25T01:39:31.269953Z"
    }
   },
   "outputs": [],
   "source": [
    "class student:\n",
    "    name = 'kim'\n",
    "    no = 1987\n",
    "    score = 99\n",
    "    \n",
    "    def show(self):\n",
    "        print('이름 : ' , self.name , end=' ')\n",
    "        print('학번 : ' , self.no , end = ' ')\n",
    "        print('점수 : ' , self.score , '점')\n",
    "        print('이름 : ' , student.name , end=' ')\n",
    "        print('학번 : ' , student.no , end = ' ')\n",
    "        print('점수 : ' , student.score , '점')"
   ]
  },
  {
   "cell_type": "code",
   "execution_count": null,
   "id": "f88b3288",
   "metadata": {},
   "outputs": [],
   "source": []
  },
  {
   "cell_type": "code",
   "execution_count": null,
   "id": "480f8eb0",
   "metadata": {
    "ExecuteTime": {
     "end_time": "2023-08-25T01:39:48.805198Z",
     "start_time": "2023-08-25T01:39:48.794644Z"
    }
   },
   "outputs": [],
   "source": [
    "s1 = student()"
   ]
  },
  {
   "cell_type": "code",
   "execution_count": null,
   "id": "1a3de9a1",
   "metadata": {
    "ExecuteTime": {
     "end_time": "2023-08-25T01:40:26.872939Z",
     "start_time": "2023-08-25T01:40:26.863041Z"
    }
   },
   "outputs": [],
   "source": [
    "s1.name = '김유신'\n",
    "s1.no = 901234\n",
    "s1.score = 78\n",
    "\n",
    "\n",
    "\n",
    "s1.show()"
   ]
  },
  {
   "cell_type": "code",
   "execution_count": null,
   "id": "01194bba",
   "metadata": {
    "ExecuteTime": {
     "end_time": "2023-08-25T02:02:23.642868Z",
     "start_time": "2023-08-25T02:02:23.636049Z"
    }
   },
   "outputs": [],
   "source": [
    "# 원\n",
    "\n",
    "class Circle:\n",
    "    radius = 0\n",
    "    def area(self):\n",
    "        return self.radius * self.radius * 3.14\n",
    "    def around(self):\n",
    "        return self.radius * 2 * 3.14\n",
    "    \n",
    "    def disp(self):\n",
    "        print('반지름 : ' , self.radius)"
   ]
  },
  {
   "cell_type": "code",
   "execution_count": null,
   "id": "1cf33362",
   "metadata": {
    "ExecuteTime": {
     "end_time": "2023-08-25T01:48:59.800614Z",
     "start_time": "2023-08-25T01:48:59.795560Z"
    }
   },
   "outputs": [],
   "source": [
    "donut = Circle()"
   ]
  },
  {
   "cell_type": "code",
   "execution_count": null,
   "id": "d4c56c5d",
   "metadata": {
    "ExecuteTime": {
     "end_time": "2023-08-25T01:49:22.403636Z",
     "start_time": "2023-08-25T01:49:22.396131Z"
    }
   },
   "outputs": [],
   "source": [
    "donut.radius = 7\n",
    "donut.area()"
   ]
  },
  {
   "cell_type": "code",
   "execution_count": null,
   "id": "97101357",
   "metadata": {},
   "outputs": [],
   "source": []
  },
  {
   "cell_type": "code",
   "execution_count": null,
   "id": "c30d98f9",
   "metadata": {
    "ExecuteTime": {
     "end_time": "2023-08-25T01:54:55.643214Z",
     "start_time": "2023-08-25T01:54:55.632108Z"
    }
   },
   "outputs": [],
   "source": [
    "class Circle1:\n",
    "    \n",
    "    def area(self , radius):\n",
    "        return radius * radius * 3.14\n",
    "    def around(self , radius):\n",
    "        return radius * 2 * 3.14\n",
    "    \n",
    "    def disp(self , radius):\n",
    "        print('반지름 : ' , radius)"
   ]
  },
  {
   "cell_type": "code",
   "execution_count": null,
   "id": "e1315918",
   "metadata": {
    "ExecuteTime": {
     "end_time": "2023-08-25T01:54:58.641951Z",
     "start_time": "2023-08-25T01:54:58.623996Z"
    }
   },
   "outputs": [],
   "source": [
    "donut2 = Circle1()"
   ]
  },
  {
   "cell_type": "code",
   "execution_count": null,
   "id": "ced0222c",
   "metadata": {
    "ExecuteTime": {
     "end_time": "2023-08-25T01:54:59.216078Z",
     "start_time": "2023-08-25T01:54:59.200061Z"
    }
   },
   "outputs": [],
   "source": [
    "donut2.area(2)"
   ]
  },
  {
   "cell_type": "code",
   "execution_count": null,
   "id": "e13c8925",
   "metadata": {
    "ExecuteTime": {
     "end_time": "2023-08-25T01:55:32.554461Z",
     "start_time": "2023-08-25T01:55:31.730821Z"
    }
   },
   "outputs": [],
   "source": [
    "a=int(input('반지름 : '))\n",
    "donut2.area(a)"
   ]
  },
  {
   "cell_type": "code",
   "execution_count": null,
   "id": "7ea6cbb5",
   "metadata": {},
   "outputs": [],
   "source": []
  },
  {
   "cell_type": "code",
   "execution_count": null,
   "id": "9abf2ab3",
   "metadata": {},
   "outputs": [],
   "source": []
  },
  {
   "cell_type": "markdown",
   "id": "0663ac15",
   "metadata": {},
   "source": [
    "##### 반지름을 입력받아 원의 면적을 출력하는 프로그램\n",
    "- 입력받은 반지름이 0이면 입력을 종료하고 면적을 출력"
   ]
  },
  {
   "cell_type": "code",
   "execution_count": null,
   "id": "6dc8adaf",
   "metadata": {
    "ExecuteTime": {
     "end_time": "2023-08-25T02:24:20.984617Z",
     "start_time": "2023-08-25T02:24:20.970592Z"
    }
   },
   "outputs": [],
   "source": [
    "class abc:\n",
    "        def area(self,radius):\n",
    "            no = radius * radius * 3.14\n",
    "            print(f'반지름이 {radius}인 원의 면적은 {no} 이다')\n",
    "            "
   ]
  },
  {
   "cell_type": "code",
   "execution_count": null,
   "id": "346e0078",
   "metadata": {
    "ExecuteTime": {
     "end_time": "2023-08-25T02:24:22.193009Z",
     "start_time": "2023-08-25T02:24:22.184745Z"
    }
   },
   "outputs": [],
   "source": [
    "a = abc()"
   ]
  },
  {
   "cell_type": "code",
   "execution_count": null,
   "id": "3251ae50",
   "metadata": {
    "ExecuteTime": {
     "end_time": "2023-08-25T02:24:24.634660Z",
     "start_time": "2023-08-25T02:24:22.873725Z"
    },
    "scrolled": true
   },
   "outputs": [],
   "source": [
    "\n",
    "while True:\n",
    "    b = abs(int(input('반지름 : '))) \n",
    "    if b==0:\n",
    "        break\n",
    "    a.area(b)\n",
    "    "
   ]
  },
  {
   "cell_type": "code",
   "execution_count": null,
   "id": "1fc38430",
   "metadata": {},
   "outputs": [],
   "source": []
  },
  {
   "cell_type": "code",
   "execution_count": null,
   "id": "9a830f48",
   "metadata": {},
   "outputs": [],
   "source": []
  },
  {
   "cell_type": "markdown",
   "id": "95881048",
   "metadata": {
    "ExecuteTime": {
     "end_time": "2023-08-25T02:24:47.470222Z",
     "start_time": "2023-08-25T02:24:47.465250Z"
    }
   },
   "source": [
    "### 성적 처리 프로그램 2단계"
   ]
  },
  {
   "cell_type": "code",
   "execution_count": null,
   "id": "086e027c",
   "metadata": {
    "ExecuteTime": {
     "end_time": "2023-08-25T02:30:40.027975Z",
     "start_time": "2023-08-25T02:30:40.017569Z"
    }
   },
   "outputs": [],
   "source": [
    "students = [{'name' : '홍길동', 'kor' : 83 , 'eng' : 88 , 'math' : 98},\n",
    "            {'name' : '장보고', 'kor' : 92 , 'eng' : 96 , 'math' : 89},\n",
    "           {'name' : '유관순', 'kor' : 94 , 'eng' : 78 , 'math' : 90},\n",
    "           {'name' : '이순신', 'kor' : 95 , 'eng' : 73 , 'math' : 90},\n",
    "           {'name' : '사임당', 'kor' : 98 , 'eng' : 70 , 'math' : 95}]\n",
    "\n",
    "#이름 총점과 평균을 개별 출력하는 로직\n",
    "print('이름','총점','평균',sep = '\\t')\n",
    "for student in students:\n",
    "    tot = student['kor'] + student['eng'] + student['math']\n",
    "    avg = tot / 3\n",
    "    \n",
    "    print(student['name'],tot,round(avg,4),sep='\\t')"
   ]
  },
  {
   "cell_type": "code",
   "execution_count": null,
   "id": "14e59a06",
   "metadata": {
    "ExecuteTime": {
     "end_time": "2023-08-25T02:36:02.349199Z",
     "start_time": "2023-08-25T02:36:02.337507Z"
    }
   },
   "outputs": [],
   "source": [
    "def makestudent(name,kor,eng,math):\n",
    "    return {'name' : name,\n",
    "           'kor' : kor,\n",
    "           'eng' : eng,\n",
    "           'math' : math}\n",
    "\n",
    "students = [makestudent('홍길동',83,88,98),\n",
    "           makestudent('장보고',92,96,89),\n",
    "           makestudent('유관순',94,78,90),\n",
    "           makestudent('이순신',95,73,90),\n",
    "           makestudent('사임당',98,70,95)]\n",
    "\n",
    "\n"
   ]
  },
  {
   "cell_type": "code",
   "execution_count": null,
   "id": "fd7c14c2",
   "metadata": {
    "ExecuteTime": {
     "end_time": "2023-08-25T02:43:36.248950Z",
     "start_time": "2023-08-25T02:43:36.235257Z"
    }
   },
   "outputs": [],
   "source": [
    "def makestudent(name,kor,eng,math):\n",
    "    return {'name' : name,\n",
    "           'kor' : kor,\n",
    "           'eng' : eng,\n",
    "           'math' : math}\n",
    "\n",
    "def tot(student):\n",
    "    return student['kor'] + student['eng'] + student['math']\n",
    "\n",
    "def avg(student):\n",
    "    return round(tot(student)/3,4)\n",
    "\n",
    "def pri(student):\n",
    "    return '{}\\t{}\\t{}'.format(student['name'],tot(student),avg(student))\n",
    "\n",
    "\n"
   ]
  },
  {
   "cell_type": "code",
   "execution_count": null,
   "id": "b40dc7b4",
   "metadata": {
    "ExecuteTime": {
     "end_time": "2023-08-25T02:44:47.783478Z",
     "start_time": "2023-08-25T02:44:47.777471Z"
    }
   },
   "outputs": [],
   "source": [
    "students = [makestudent('홍길동',83,88,98),\n",
    "           makestudent('장보고',92,96,89),\n",
    "           makestudent('유관순',94,78,90),\n",
    "           makestudent('이순신',95,73,90),\n",
    "           makestudent('사임당',98,70,95)]"
   ]
  },
  {
   "cell_type": "code",
   "execution_count": null,
   "id": "d7d8dfdb",
   "metadata": {
    "ExecuteTime": {
     "end_time": "2023-08-25T02:45:20.297157Z",
     "start_time": "2023-08-25T02:45:20.283066Z"
    }
   },
   "outputs": [],
   "source": [
    "print('이름','총점','평균',sep='\\t')\n",
    "for i in students:\n",
    "    print(pri(i))"
   ]
  },
  {
   "cell_type": "code",
   "execution_count": null,
   "id": "77143142",
   "metadata": {},
   "outputs": [],
   "source": []
  },
  {
   "cell_type": "code",
   "execution_count": null,
   "id": "b8afc6da",
   "metadata": {
    "ExecuteTime": {
     "end_time": "2023-08-25T03:17:37.537571Z",
     "start_time": "2023-08-25T03:17:37.530461Z"
    }
   },
   "outputs": [],
   "source": [
    "class student:\n",
    "    \n",
    "    def __init__(self,name,kor,eng,math):\n",
    "        self.name = name\n",
    "        self.kor = kor\n",
    "        self.eng = eng\n",
    "        self.math = math\n",
    "        \n",
    "    def total(self):\n",
    "        return self.kor + self.eng + self.math\n",
    "    \n",
    "    def avarage(self):\n",
    "        return round(self.total() / 3 , 4)\n",
    "    \n",
    "    def disp(self):\n",
    "        return '{}\\t{}\\t{}'.format(self.name , self.total() , self.avarage())\n",
    "        \n",
    "\n",
    "\n",
    "# stu=student()\n",
    "\n",
    "# students=[student('홍길동',87,88,98),\n",
    "#          student('장보고',92,96,89),\n",
    "#          student('유관순',94,78,90),\n",
    "#          student('이순신',95,73,90),\n",
    "#          student('사임당',98,70,95)]"
   ]
  },
  {
   "cell_type": "code",
   "execution_count": null,
   "id": "d1afe92e",
   "metadata": {
    "ExecuteTime": {
     "end_time": "2023-08-25T03:19:41.596256Z",
     "start_time": "2023-08-25T03:19:35.547091Z"
    },
    "scrolled": true
   },
   "outputs": [],
   "source": [
    "name = input('name = ' )\n",
    "kor = int(input('kor : '))\n",
    "eng = int(input('eng : '))\n",
    "math = int(input('math : '))\n",
    "two=student(name,kor,eng,math)\n",
    "\n",
    "print(two.disp())"
   ]
  },
  {
   "cell_type": "code",
   "execution_count": null,
   "id": "c1e3ab11",
   "metadata": {},
   "outputs": [],
   "source": []
  },
  {
   "cell_type": "markdown",
   "id": "9a386afa",
   "metadata": {},
   "source": [
    "## 상속(inheritance)\n",
    " - 부모클래스(상위클래스) 가 가지고 있는 특성과 속성을 그대로 자식클래스가 물려받는 것\n",
    " - 재활용을 극대화하기 위해 사용\n",
    " - 다중 상속도 가능\n",
    " - 오버라이딩(Overroiing) : 부모 메서드를 자식쪽에서 다시 정의해서 사용.\n",
    " - 다양성(polymorphism) : 가독성을 높이기 위해서 사용하는 가능\n",
    " \n",
    " "
   ]
  },
  {
   "cell_type": "code",
   "execution_count": null,
   "id": "7fdd7063",
   "metadata": {
    "ExecuteTime": {
     "end_time": "2023-08-25T03:38:01.821293Z",
     "start_time": "2023-08-25T03:38:01.817349Z"
    }
   },
   "outputs": [],
   "source": [
    "class person:\n",
    "#     name=''\n",
    "#     age=0\n",
    "#     height=0.0\n",
    "    \n",
    "    def disp(self):\n",
    "        print('이름 : ', self.name)\n",
    "        print('나이 : ', self.age)\n",
    "        print('신장 : ', self.height)"
   ]
  },
  {
   "cell_type": "code",
   "execution_count": null,
   "id": "cc151598",
   "metadata": {
    "ExecuteTime": {
     "end_time": "2023-08-25T03:38:13.739279Z",
     "start_time": "2023-08-25T03:38:13.728514Z"
    }
   },
   "outputs": [],
   "source": [
    "p1 = person()"
   ]
  },
  {
   "cell_type": "code",
   "execution_count": null,
   "id": "c27aaa20",
   "metadata": {
    "ExecuteTime": {
     "end_time": "2023-08-25T03:38:17.041653Z",
     "start_time": "2023-08-25T03:38:17.033096Z"
    }
   },
   "outputs": [],
   "source": [
    "p1.name='kim'\n",
    "p1.age=23\n",
    "p1.height=169.8"
   ]
  },
  {
   "cell_type": "code",
   "execution_count": null,
   "id": "c377d33d",
   "metadata": {
    "ExecuteTime": {
     "end_time": "2023-08-25T03:37:46.059203Z",
     "start_time": "2023-08-25T03:37:46.043483Z"
    }
   },
   "outputs": [],
   "source": [
    "p2 = person()"
   ]
  },
  {
   "cell_type": "code",
   "execution_count": null,
   "id": "89faa729",
   "metadata": {},
   "outputs": [],
   "source": []
  },
  {
   "cell_type": "code",
   "execution_count": null,
   "id": "1cb25343",
   "metadata": {},
   "outputs": [],
   "source": []
  },
  {
   "cell_type": "code",
   "execution_count": null,
   "id": "07a5eba2",
   "metadata": {},
   "outputs": [],
   "source": []
  },
  {
   "cell_type": "code",
   "execution_count": null,
   "id": "52b370c7",
   "metadata": {
    "ExecuteTime": {
     "end_time": "2023-08-25T03:39:06.495977Z",
     "start_time": "2023-08-25T03:39:06.491912Z"
    }
   },
   "outputs": [],
   "source": [
    "class person:\n",
    "    \n",
    "    def disp(self,name,age,height):\n",
    "        print('이름 : ', name)\n",
    "        print('나이 : ', age)\n",
    "        print('신장 : ', height)"
   ]
  },
  {
   "cell_type": "code",
   "execution_count": null,
   "id": "585c4fe8",
   "metadata": {
    "ExecuteTime": {
     "end_time": "2023-08-25T03:40:18.763409Z",
     "start_time": "2023-08-25T03:40:18.754361Z"
    }
   },
   "outputs": [],
   "source": [
    "p3=person()"
   ]
  },
  {
   "cell_type": "code",
   "execution_count": null,
   "id": "778ac293",
   "metadata": {
    "ExecuteTime": {
     "end_time": "2023-08-25T03:40:28.523981Z",
     "start_time": "2023-08-25T03:40:28.513837Z"
    },
    "scrolled": true
   },
   "outputs": [],
   "source": [
    "p3.disp('park',19,160.4)"
   ]
  },
  {
   "cell_type": "code",
   "execution_count": null,
   "id": "387561f5",
   "metadata": {},
   "outputs": [],
   "source": []
  },
  {
   "cell_type": "code",
   "execution_count": null,
   "id": "d3442da0",
   "metadata": {
    "ExecuteTime": {
     "end_time": "2023-08-25T03:57:25.548892Z",
     "start_time": "2023-08-25T03:57:25.538929Z"
    }
   },
   "outputs": [],
   "source": [
    "#class 하위클래스명(부모클래스명):\n",
    "\n",
    "class middle:\n",
    "    def __init__(self,name,phone):\n",
    "        self.name = name\n",
    "        self.phone = phone\n",
    "    def disp(self):\n",
    "        print(f'{self.name} : {self.phone}',end=' ')"
   ]
  },
  {
   "cell_type": "code",
   "execution_count": null,
   "id": "bfa49549",
   "metadata": {
    "ExecuteTime": {
     "end_time": "2023-08-25T03:49:43.407610Z",
     "start_time": "2023-08-25T03:49:43.404261Z"
    }
   },
   "outputs": [],
   "source": [
    "m1=middle()"
   ]
  },
  {
   "cell_type": "code",
   "execution_count": null,
   "id": "46c6c304",
   "metadata": {
    "ExecuteTime": {
     "end_time": "2023-08-25T03:50:09.731826Z",
     "start_time": "2023-08-25T03:50:09.727926Z"
    }
   },
   "outputs": [],
   "source": []
  },
  {
   "cell_type": "code",
   "execution_count": null,
   "id": "6f2616e4",
   "metadata": {
    "ExecuteTime": {
     "end_time": "2023-08-25T03:57:40.009343Z",
     "start_time": "2023-08-25T03:57:39.994787Z"
    }
   },
   "outputs": [],
   "source": [
    "class high:\n",
    "    \n",
    "    def __init__(self,name,phone,address):\n",
    "        middle.__init__(self,name,phone)\n",
    "        self.address = address\n",
    "    def disp(self):\n",
    "        middle.disp(self)\n",
    "        print(f'{self.address}')"
   ]
  },
  {
   "cell_type": "code",
   "execution_count": null,
   "id": "08cda3da",
   "metadata": {
    "ExecuteTime": {
     "end_time": "2023-08-25T03:57:41.464176Z",
     "start_time": "2023-08-25T03:57:41.458217Z"
    }
   },
   "outputs": [],
   "source": [
    "hi=high('박고등','010-3333-4444','가산동')"
   ]
  },
  {
   "cell_type": "code",
   "execution_count": null,
   "id": "0bf6d57d",
   "metadata": {
    "ExecuteTime": {
     "end_time": "2023-08-25T03:57:42.023178Z",
     "start_time": "2023-08-25T03:57:42.015320Z"
    }
   },
   "outputs": [],
   "source": [
    "hi.disp()"
   ]
  },
  {
   "cell_type": "code",
   "execution_count": null,
   "id": "a908dbbd",
   "metadata": {
    "ExecuteTime": {
     "end_time": "2023-08-25T03:58:52.692733Z",
     "start_time": "2023-08-25T03:58:52.681702Z"
    }
   },
   "outputs": [],
   "source": [
    "h2 = high('박고등','010-9999-9090','서울시')\n",
    "h2.disp()"
   ]
  },
  {
   "cell_type": "code",
   "execution_count": null,
   "id": "0f6af53a",
   "metadata": {},
   "outputs": [],
   "source": []
  },
  {
   "cell_type": "code",
   "execution_count": null,
   "id": "361086e3",
   "metadata": {},
   "outputs": [],
   "source": []
  },
  {
   "cell_type": "code",
   "execution_count": null,
   "id": "91546cb6",
   "metadata": {
    "ExecuteTime": {
     "end_time": "2023-08-25T05:22:10.653252Z",
     "start_time": "2023-08-25T05:22:10.639979Z"
    }
   },
   "outputs": [],
   "source": [
    "class member:\n",
    "    def __init__(self,userid,pwd,name,age):\n",
    "        self.userid=userid\n",
    "        self.pwd=pwd\n",
    "        self.name=name\n",
    "        self.age=age\n",
    "    def info(self):\n",
    "        print('아이디 : ' , self.userid, end=' ')\n",
    "        print('비밀번호 : ' , self.pwd , end=' ')\n",
    "        print('이름 : ' , self.name , end=' ')\n",
    "        print('나이 : ' , self.age , end= ' ')"
   ]
  },
  {
   "cell_type": "code",
   "execution_count": null,
   "id": "d6794a12",
   "metadata": {
    "ExecuteTime": {
     "end_time": "2023-08-25T05:25:17.325219Z",
     "start_time": "2023-08-25T05:25:17.312581Z"
    }
   },
   "outputs": [],
   "source": [
    "class memberinfo(member):\n",
    "    def __init__(self,userid,pwd,name,age,job,hobby):\n",
    "        member.__init__(self,userid,pwd,name,age)\n",
    "        self.job = job\n",
    "        self.hobby = hobby\n",
    "        \n",
    "    def info(self):\n",
    "        member.info(self)\n",
    "        print('직업 : ' , self.job , end=' ')\n",
    "        print('취미 : ' , self.hobby)"
   ]
  },
  {
   "cell_type": "code",
   "execution_count": null,
   "id": "07fd4b25",
   "metadata": {
    "ExecuteTime": {
     "end_time": "2023-08-25T05:25:18.860072Z",
     "start_time": "2023-08-25T05:25:18.834900Z"
    }
   },
   "outputs": [],
   "source": [
    "mem = memberinfo('aaa','1234','홍길동',23,'개발자','댄스')"
   ]
  },
  {
   "cell_type": "code",
   "execution_count": null,
   "id": "e720a73a",
   "metadata": {
    "ExecuteTime": {
     "end_time": "2023-08-25T05:25:20.125678Z",
     "start_time": "2023-08-25T05:25:20.115383Z"
    }
   },
   "outputs": [],
   "source": [
    "mem.info()"
   ]
  },
  {
   "cell_type": "markdown",
   "id": "3505c356",
   "metadata": {},
   "source": [
    "###### 주어진 조건에 만족하는 프로그램 구현\n",
    "1. 사용자가 원하는 도형을 입력받아 처리할 수 있도록 구현\n",
    "2. 점 , 원 , 사각형 중 하나를 입력받아 처리\n",
    "3. 출력형식 및 입력형식에 맞게 프로그램을 구현\n",
    "\n",
    "-입력형식\n",
    "도형(1.점 , 2. 원 , 3. 사각형 , 4. 종료)\n",
    "\n",
    "- 점을 선택한 경우\n",
    "    - x = 10\n",
    "    - y = 20\n",
    "    - 점 (x,y) = (10,20)\n",
    "- 원을 선택한 경우\n",
    "    - x = 3\n",
    "    - y = 5 \n",
    "    - r = 10\n",
    "    - 점(x,y) = (3,5)\n",
    "    - 반지름(r) = 10\n",
    "    \n",
    "- 사각형을 선택한 경우\n",
    "    - x = 10\n",
    "    - y = 9 \n",
    "    - h = 20\n",
    "    - w = 7\n",
    "    - 점(x,y) = (10,9)\n",
    "    - 높이(h) = 20 , 넓이(w) = 7"
   ]
  },
  {
   "cell_type": "code",
   "execution_count": null,
   "id": "21c77035",
   "metadata": {
    "ExecuteTime": {
     "end_time": "2023-08-25T05:37:30.322063Z",
     "start_time": "2023-08-25T05:37:30.315005Z"
    }
   },
   "outputs": [],
   "source": [
    "#평면 위에 한 점을 추상화하는 클래스 Point\n",
    "\n",
    "class point:\n",
    "    \n",
    "    def __init__(self):\n",
    "        self.x = int(input('x = :'))\n",
    "        self.y = int(input('y = :'))\n",
    "        \n",
    "        \n",
    "    def disp(self):\n",
    "        print(f'점(x,y) = ({self.x},{self.y})')"
   ]
  },
  {
   "cell_type": "code",
   "execution_count": null,
   "id": "f40c8a83",
   "metadata": {
    "ExecuteTime": {
     "end_time": "2023-08-25T05:37:35.041698Z",
     "start_time": "2023-08-25T05:37:34.003513Z"
    }
   },
   "outputs": [],
   "source": [
    "ap = point()\n",
    "\n",
    "ap.disp()"
   ]
  },
  {
   "cell_type": "code",
   "execution_count": null,
   "id": "7c50b11d",
   "metadata": {
    "ExecuteTime": {
     "end_time": "2023-08-25T05:40:16.567329Z",
     "start_time": "2023-08-25T05:40:16.557137Z"
    }
   },
   "outputs": [],
   "source": [
    "class circle(point):\n",
    " \n",
    "    def __init__(self):\n",
    "        point.__init__(self)\n",
    "        self.r = int(input('반지름 : '))\n",
    "    def disp(self):\n",
    "        point.disp(self)\n",
    "        print(f'반지름(r) : {self.r}')"
   ]
  },
  {
   "cell_type": "code",
   "execution_count": null,
   "id": "2f219388",
   "metadata": {
    "ExecuteTime": {
     "end_time": "2023-08-25T05:40:18.407685Z",
     "start_time": "2023-08-25T05:40:17.512014Z"
    },
    "scrolled": true
   },
   "outputs": [],
   "source": [
    "ac = circle()\n",
    "\n",
    "ac.disp()"
   ]
  },
  {
   "cell_type": "code",
   "execution_count": null,
   "id": "0691c6e8",
   "metadata": {},
   "outputs": [],
   "source": []
  },
  {
   "cell_type": "markdown",
   "id": "7fd930a1",
   "metadata": {},
   "source": [
    "### 급여관리 프로그램\n",
    " - A라는 회사의 직원의 급여를 관리할 목적으로 프로그램을 구현\n",
    " - 처음 이 회사가 창립될 때 채용한 모든 직원은 정규직이다.\n",
    " \n",
    " - 이름과 급여 관리"
   ]
  },
  {
   "cell_type": "code",
   "execution_count": null,
   "id": "ed3864a6",
   "metadata": {
    "ExecuteTime": {
     "end_time": "2023-08-25T05:53:03.965056Z",
     "start_time": "2023-08-25T05:53:03.961041Z"
    }
   },
   "outputs": [],
   "source": [
    "# 정규직 한명을 관리\n",
    "class permament:\n",
    "    def __init__(self,name,pay):\n",
    "        self.name = name\n",
    "        self.pay = pay\n",
    "    \n",
    "    def disp(self):\n",
    "        print(f'이름 : {self.name} , 급여 : {self.pay}')\n",
    "        \n",
    "    def getpay(self):\n",
    "        return self.pay"
   ]
  },
  {
   "cell_type": "code",
   "execution_count": null,
   "id": "278dd0c6",
   "metadata": {},
   "outputs": [],
   "source": []
  },
  {
   "cell_type": "code",
   "execution_count": null,
   "id": "55ca50a3",
   "metadata": {
    "ExecuteTime": {
     "end_time": "2023-08-25T06:31:04.386671Z",
     "start_time": "2023-08-25T06:31:04.375043Z"
    }
   },
   "outputs": [],
   "source": [
    "class empmanager:\n",
    "    \n",
    "    def create(self):\n",
    "        name = input('이름 : ')\n",
    "        pay = int(input('급여 : '))\n",
    "        p = permament(name , pay)\n",
    "        emp.append(p)\n",
    "        print('등록 완료')\n",
    "        \n",
    "    def show(self):\n",
    "        if len(emp) == 0 :\n",
    "            print('등록된 직원이 없습니다')\n",
    "        else:\n",
    "            for i in emp:\n",
    "                i.disp()\n",
    "                \n",
    "    def allpay(self):\n",
    "        tot = 0\n",
    "        for i in emp:\n",
    "            tot = tot + i.getpay()\n",
    "            \n",
    "        print('총지급액 : ' , tot)\n",
    "        "
   ]
  },
  {
   "cell_type": "code",
   "execution_count": null,
   "id": "19be96ae",
   "metadata": {
    "ExecuteTime": {
     "end_time": "2023-08-25T06:31:25.658401Z",
     "start_time": "2023-08-25T06:31:25.208814Z"
    }
   },
   "outputs": [],
   "source": [
    "manager = empmanager()\n",
    "\n",
    "while True:\n",
    "    print('1.직원등록 2.직원출력 3.총지급액  4.작업종료' , sep='\\n')\n",
    "    menu = int(input('선택 : '))\n",
    "    if menu == 1:\n",
    "        manager.create()\n",
    "    \n",
    "    elif menu == 2:\n",
    "        manager.show()\n",
    "                \n",
    "    elif menu == 3:\n",
    "        manager.allpay()\n",
    "        \n",
    "    elif menu == 4:\n",
    "        print('종료합니다')\n",
    "        break\n",
    "    else:\n",
    "        print('선택이 올바르지 않습니다')"
   ]
  },
  {
   "cell_type": "code",
   "execution_count": null,
   "id": "542689da",
   "metadata": {},
   "outputs": [],
   "source": []
  },
  {
   "cell_type": "markdown",
   "id": "7fbc2de7",
   "metadata": {},
   "source": [
    "- 회사가 성장을 하여 다양한 직군의 직원 채용\n",
    "- 정규직 : 이름 , 기본급\n",
    "- 영업직 : 이름 , 기본급 , 실적 , 보너스 , 급여 ( 기본급 + 매출실적 * 보너스)\n",
    "- 임시직 : 이름 , 근무시간 , 시간당급여 , 급여 (근무시간 * 시간당급여)\n",
    "\n",
    "    - 직원 : 이름\n",
    "    - 정규직 : 급여(기본급)\n",
    "    - 영업직 : 급여(기본급 + 매출실적*보너스)\n",
    "    - 임시직 : 급여(근무시간 * 시간당급여)"
   ]
  },
  {
   "cell_type": "code",
   "execution_count": 16,
   "id": "6f172dca",
   "metadata": {
    "ExecuteTime": {
     "end_time": "2023-08-25T08:39:57.047814Z",
     "start_time": "2023-08-25T08:39:57.043782Z"
    }
   },
   "outputs": [],
   "source": [
    "class employee:\n",
    "    def __init__(self,name):\n",
    "        self.name = name\n",
    "        \n",
    "    def disp(self):\n",
    "        print('이름 : ' , self.name , end = ' ')\n",
    "    \n",
    "    def getpay(self):\n",
    "        return 0"
   ]
  },
  {
   "cell_type": "code",
   "execution_count": 17,
   "id": "a2a0b30e",
   "metadata": {
    "ExecuteTime": {
     "end_time": "2023-08-25T08:39:57.234026Z",
     "start_time": "2023-08-25T08:39:57.218495Z"
    }
   },
   "outputs": [],
   "source": [
    "#정규직\n",
    "class parmament(employee):\n",
    "    def __init__(self,name,pay):\n",
    "        employee.__init__(self,name)\n",
    "        self.pay = pay\n",
    "    \n",
    "    def disp(self):\n",
    "        employee.disp(self)\n",
    "        print('급여 : ' , self.getpay() , end = ' ')\n",
    "        \n",
    "    def getpay(self):\n",
    "        return self.pay"
   ]
  },
  {
   "cell_type": "code",
   "execution_count": 18,
   "id": "5a1f5f50",
   "metadata": {
    "ExecuteTime": {
     "end_time": "2023-08-25T08:39:57.467885Z",
     "start_time": "2023-08-25T08:39:57.453124Z"
    }
   },
   "outputs": [],
   "source": [
    "#영업직\n",
    "class sales(employee):\n",
    "    emp = []\n",
    "    def __init__(self,pay,result,rate):\n",
    "        employee.__init__(self,name)\n",
    "        self.pay = pay\n",
    "        self.result = result\n",
    "        self.rate = rate\n",
    "        \n",
    "    def getpay(self):\n",
    "        return self.pay + (self.result * self.rate)\n",
    "    def disp(self):\n",
    "        employee.disp(self)\n",
    "        print('급여 : ' , self.getpay() , end = ' ')"
   ]
  },
  {
   "cell_type": "code",
   "execution_count": 19,
   "id": "380c45ad",
   "metadata": {
    "ExecuteTime": {
     "end_time": "2023-08-25T08:39:57.750822Z",
     "start_time": "2023-08-25T08:39:57.734780Z"
    }
   },
   "outputs": [],
   "source": [
    "class imsi(employee):\n",
    "    def __init__(self,time,hour):\n",
    "        employee.__init__(self,name)\n",
    "        self.time=time\n",
    "        self.hour=hour\n",
    "    \n",
    "    def getpay(self):\n",
    "        return self.time * self.hour\n",
    "    \n",
    "    def disp(self):\n",
    "        employee.disp(self)\n",
    "        print('급여 : ' , getpay(self))"
   ]
  },
  {
   "cell_type": "code",
   "execution_count": 20,
   "id": "0c1d1302",
   "metadata": {
    "ExecuteTime": {
     "end_time": "2023-08-25T08:39:58.336440Z",
     "start_time": "2023-08-25T08:39:58.327368Z"
    }
   },
   "outputs": [],
   "source": [
    "class empmanager:\n",
    "    \n",
    "    def create(self):\n",
    "        print('직군을 선택하세요 : ')\n",
    "        job = int(input('1.정규직 , 2. 영업직 , 3. 임시직 : '))\n",
    "        \n",
    "        if job == 1:\n",
    "            name = input('이름 : ')\n",
    "            pay = int(input('급여 : '))\n",
    "            p = parmament(name , pay)\n",
    "            emp.append(p)\n",
    "            \n",
    "        elif job == 2:\n",
    "            name = input('이름 : ')\n",
    "            pay = int(input('급여 : '))\n",
    "            result = int(input('판매실적 : '))\n",
    "            rate = eval(input('보너스 : '))\n",
    "            p = sales(pay,result,rate)\n",
    "            empmanager.emp.append(p)\n",
    "            \n",
    "        else:\n",
    "            name = input('이름 : ')\n",
    "            time = eval(input('근무시간(h) : '))\n",
    "            hour = (input('시간당급여 : '))\n",
    "            emp.append(p)\n",
    "        print('등록 완료')\n",
    "        \n",
    "    def show(self):\n",
    "        if len(emp) == 0 :\n",
    "            print('등록된 직원이 없습니다')\n",
    "        else:\n",
    "            for i in empmanager.emp:\n",
    "                i.disp()\n",
    "                \n",
    "    def allpay(self):\n",
    "        tot = 0\n",
    "        for i in emp:\n",
    "            tot = tot + i.getpay()\n",
    "            \n",
    "        print('총지급액 : ' , tot)\n",
    "        "
   ]
  },
  {
   "cell_type": "code",
   "execution_count": 15,
   "id": "8f1b2d9b",
   "metadata": {
    "ExecuteTime": {
     "end_time": "2023-08-25T08:39:42.731364Z",
     "start_time": "2023-08-25T08:39:31.856928Z"
    }
   },
   "outputs": [
    {
     "name": "stdout",
     "output_type": "stream",
     "text": [
      "1.직원등록 2.직원출력 3.총지급액  4.작업종료\n",
      "선택 : 2\n",
      "1.직원등록 2.직원출력 3.총지급액  4.작업종료\n",
      "선택 : 1\n",
      "직군을 선택하세요 : \n",
      "1.정규직 , 2. 영업직 , 3. 임시직 : 1\n",
      "이름 : aa\n",
      "급여 : 123\n",
      "등록 완료\n",
      "1.직원등록 2.직원출력 3.총지급액  4.작업종료\n",
      "선택 : 2\n",
      "1.직원등록 2.직원출력 3.총지급액  4.작업종료\n",
      "선택 : 4\n",
      "종료합니다\n"
     ]
    }
   ],
   "source": [
    "manager = empmanager()\n",
    "\n",
    "while True:\n",
    "    print('1.직원등록 2.직원출력 3.총지급액  4.작업종료' , sep='\\n')\n",
    "    menu = int(input('선택 : '))\n",
    "    if menu == 1:\n",
    "        manager.create()\n",
    "    \n",
    "    elif menu == 2:\n",
    "        manager.show()\n",
    "                \n",
    "    elif menu == 3:\n",
    "        manager.allpay()\n",
    "        \n",
    "    elif menu == 4:\n",
    "        print('종료합니다')\n",
    "        break\n",
    "    else:\n",
    "        print('선택이 올바르지 않습니다')"
   ]
  },
  {
   "cell_type": "code",
   "execution_count": null,
   "id": "c7609b3d",
   "metadata": {},
   "outputs": [],
   "source": []
  },
  {
   "cell_type": "code",
   "execution_count": null,
   "id": "0a7d776e",
   "metadata": {},
   "outputs": [],
   "source": []
  },
  {
   "cell_type": "code",
   "execution_count": null,
   "id": "fe520fab",
   "metadata": {},
   "outputs": [],
   "source": []
  },
  {
   "cell_type": "code",
   "execution_count": null,
   "id": "55e0e74b",
   "metadata": {},
   "outputs": [],
   "source": []
  }
 ],
 "metadata": {
  "kernelspec": {
   "display_name": "Python 3",
   "language": "python",
   "name": "python3"
  },
  "language_info": {
   "codemirror_mode": {
    "name": "ipython",
    "version": 3
   },
   "file_extension": ".py",
   "mimetype": "text/x-python",
   "name": "python",
   "nbconvert_exporter": "python",
   "pygments_lexer": "ipython3",
   "version": "3.8.8"
  },
  "toc": {
   "base_numbering": 1,
   "nav_menu": {},
   "number_sections": true,
   "sideBar": true,
   "skip_h1_title": false,
   "title_cell": "Table of Contents",
   "title_sidebar": "Contents",
   "toc_cell": false,
   "toc_position": {},
   "toc_section_display": true,
   "toc_window_display": false
  }
 },
 "nbformat": 4,
 "nbformat_minor": 5
}
