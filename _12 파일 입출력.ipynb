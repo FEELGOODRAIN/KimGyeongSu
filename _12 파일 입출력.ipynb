{
 "cells": [
  {
   "cell_type": "markdown",
   "id": "a81bb02c",
   "metadata": {},
   "source": [
    "# 파일(File) 입출력\n",
    "\n",
    "1. 파일의 개념\n",
    "    - 보조기억장치의 최소 저장단위\n",
    "    - 파일의 종류\n",
    "        - 텍스트 파일(txt,doc 등) , 바이너리 파일(mp3 , jpg , wav , bmp , hwpw , hwp 등)\n",
    "    \n",
    "    \n",
    "    \n",
    "2. 작업순서\n",
    "    - 1단계 : 파일 객체 생성 + 파일 오픈(열기)\n",
    "    - 2단계 : 비즈니스 로직 , 실제로 수행할 작업을 기술\n",
    "    - 3단계 : 파일 닫기\n",
    "\n",
    "\n",
    "3. 파일 열기 : open(filename , mode)\n",
    "    - filename : 파일 이름\n",
    "    - name = r(=read only) , w(=write only) , a(append , 추가)\n",
    "    - rb(=read binary) , wb(=write binary) , ab(=append binary) << 2진수\n",
    "\n",
    "\n",
    "4. 파일 닫기 : close()\n",
    "    - 모든 작업이 끝나면 close() 함수를 호출하여 작업 프로세스의 자원 점유를 해제\n",
    "    - close()를 호출하지 않으면 해당 파일의 객체가 다른 값으로 치환되거나 자원이 낭비됨\n",
    "    - 자동으로 close()를 호출하는 명령어 존재"
   ]
  },
  {
   "cell_type": "markdown",
   "id": "1d73b36b",
   "metadata": {},
   "source": [
    "## 파일 생성"
   ]
  },
  {
   "cell_type": "code",
   "execution_count": 1,
   "id": "81e51a60",
   "metadata": {
    "ExecuteTime": {
     "end_time": "2023-08-28T06:44:18.621682Z",
     "start_time": "2023-08-28T06:44:18.618763Z"
    }
   },
   "outputs": [],
   "source": [
    "# 객체 생성 <- 파일 오픈\n",
    "\n",
    "f = open('file1.txt' , 'w')\n",
    "\n",
    "#비즈니스 로직\n",
    "\n",
    "\n",
    "# 파일 닫기\n",
    "\n",
    "f.close()"
   ]
  },
  {
   "cell_type": "code",
   "execution_count": 2,
   "id": "a4529c2a",
   "metadata": {
    "ExecuteTime": {
     "end_time": "2023-08-28T06:47:04.964770Z",
     "start_time": "2023-08-28T06:47:04.945800Z"
    }
   },
   "outputs": [],
   "source": [
    "#특정 위치에 파일 생성\n",
    "f = open('C:/k_digital/Pythonbasic/source/data/file2.txt' , 'w')\n",
    "\n",
    "f.close()"
   ]
  },
  {
   "cell_type": "markdown",
   "id": "60c1052e",
   "metadata": {},
   "source": [
    "## 파일에 내용 담기"
   ]
  },
  {
   "cell_type": "code",
   "execution_count": 3,
   "id": "6decdca3",
   "metadata": {
    "ExecuteTime": {
     "end_time": "2023-08-28T06:51:37.699800Z",
     "start_time": "2023-08-28T06:51:37.692977Z"
    }
   },
   "outputs": [],
   "source": [
    "f = open('file3.txt','w')\n",
    "for i in range(1,11):\n",
    "    content = '{0}번째 줄\\n'.format(i)\n",
    "    f.write(content)\n",
    "f.close()"
   ]
  },
  {
   "cell_type": "code",
   "execution_count": 4,
   "id": "c800689d",
   "metadata": {
    "ExecuteTime": {
     "end_time": "2023-08-28T07:11:22.982131Z",
     "start_time": "2023-08-28T07:11:22.972000Z"
    }
   },
   "outputs": [],
   "source": [
    "f = open('fil4.txt','a')\n",
    "f.writelines(['aaa','bbb','123','456','abcdefgh','\\n'])\n",
    "\n",
    "f.writelines('\\n'.join(['black','python','sleep']))\n",
    "\n",
    "\n",
    "f.close()"
   ]
  },
  {
   "cell_type": "code",
   "execution_count": 7,
   "id": "2b5b605c",
   "metadata": {
    "ExecuteTime": {
     "end_time": "2023-08-28T07:18:05.606575Z",
     "start_time": "2023-08-28T07:18:05.598761Z"
    }
   },
   "outputs": [
    {
     "name": "stdout",
     "output_type": "stream",
     "text": [
      "1번째 줄\n",
      "2번째 줄\n",
      "3번째 줄\n",
      "4번째 줄\n",
      "5번째 줄\n",
      "6번째 줄\n",
      "7번째 줄\n",
      "8번째 줄\n",
      "9번째 줄\n",
      "10번째 줄\n"
     ]
    }
   ],
   "source": [
    "f = open('file3.txt','r')\n",
    "while True:\n",
    "    line = f.readline()\n",
    "    if not line:\n",
    "        break\n",
    "    else:\n",
    "        print(line , end='')\n",
    "        \n",
    "f.close()"
   ]
  },
  {
   "cell_type": "markdown",
   "id": "1ff85559",
   "metadata": {},
   "source": [
    "- read() : 모든 내용\n",
    "- read(n) : n개의 문자\n",
    "- readline() : 줄 단위\n",
    "- readlines() : 모든 문자열을 읽어서 리스트타입으로 반환"
   ]
  },
  {
   "cell_type": "code",
   "execution_count": 35,
   "id": "fb243b49",
   "metadata": {
    "ExecuteTime": {
     "end_time": "2023-08-28T07:36:50.941495Z",
     "start_time": "2023-08-28T07:36:50.936994Z"
    }
   },
   "outputs": [
    {
     "name": "stdout",
     "output_type": "stream",
     "text": [
      "['a', 'b', 'c']\n",
      "a.\n",
      "b.\n",
      "c\n"
     ]
    }
   ],
   "source": [
    "nums =['a','b','c']\n",
    "\n",
    "print(b)\n",
    "a = '.\\n'.join(nums)\n",
    "print(a)"
   ]
  },
  {
   "cell_type": "code",
   "execution_count": 20,
   "id": "2fc562e4",
   "metadata": {
    "ExecuteTime": {
     "end_time": "2023-08-28T07:31:14.481824Z",
     "start_time": "2023-08-28T07:31:14.466809Z"
    }
   },
   "outputs": [
    {
     "name": "stdout",
     "output_type": "stream",
     "text": [
      "추가되었습니다\n"
     ]
    }
   ],
   "source": [
    "#위의 데이터를 저장하는 작업 , 숫자 사이에 ','를 찍고 , 마지막엔 줄바꿈\n",
    "\n",
    "f = open('result.csv' , 'a')\n",
    "\n",
    "for i in range(count):\n",
    "    if i<(count-1):\n",
    "        f.write(str(nums[i]) + ',')\n",
    "    else:\n",
    "        f.write(str(nums[i]) + '\\n')\n",
    "f.close()\n",
    "print('추가되었습니다')"
   ]
  },
  {
   "cell_type": "code",
   "execution_count": 27,
   "id": "b3fcd2d8",
   "metadata": {
    "ExecuteTime": {
     "end_time": "2023-08-28T07:34:18.015842Z",
     "start_time": "2023-08-28T07:34:18.007120Z"
    }
   },
   "outputs": [
    {
     "name": "stdout",
     "output_type": "stream",
     "text": [
      "0,1,2,3,4,5,6,7,8,9\n",
      "0,1,2,3,4,5,6,7,8,9\n",
      "0,1,2,3,4,5,6,7,8,9\n",
      "0,1,2,3,4,5,6,7,8,9\n",
      "0,1,2,3,4,5,6,7,8,9\n",
      "0,1,2,3,4,5,6,7,8,9\n"
     ]
    }
   ],
   "source": [
    "f = open('result.csv','r')\n",
    "lines=f.readlines()\n",
    "for i in lines:\n",
    "    print(i,end='')\n",
    "\n",
    "f.close()"
   ]
  },
  {
   "cell_type": "code",
   "execution_count": 36,
   "id": "c8e52572",
   "metadata": {
    "ExecuteTime": {
     "end_time": "2023-08-28T07:38:07.477123Z",
     "start_time": "2023-08-28T07:38:07.469323Z"
    }
   },
   "outputs": [
    {
     "name": "stdout",
     "output_type": "stream",
     "text": [
      "1번째 줄\n",
      "2번째 줄\n",
      "3번째 줄\n",
      "4번째 줄\n",
      "5번째 줄\n",
      "6번째 줄\n",
      "7번째 줄\n",
      "8번째 줄\n",
      "9번째 줄\n",
      "10번째 줄\n",
      "\n"
     ]
    }
   ],
   "source": [
    "f = open('file3.txt' , 'r')\n",
    "data = f.read()\n",
    "print(data)\n",
    "f.close()"
   ]
  },
  {
   "cell_type": "markdown",
   "id": "abbcbb48",
   "metadata": {},
   "source": [
    "## 자동으로 파일 개체 닫기 : with구문"
   ]
  },
  {
   "cell_type": "code",
   "execution_count": 37,
   "id": "d1e76469",
   "metadata": {
    "ExecuteTime": {
     "end_time": "2023-08-28T07:40:09.411150Z",
     "start_time": "2023-08-28T07:40:09.392978Z"
    }
   },
   "outputs": [],
   "source": [
    "with open('file5.txt' , 'w') as f:\n",
    "    f.write('hello python')"
   ]
  },
  {
   "cell_type": "code",
   "execution_count": 38,
   "id": "789198a1",
   "metadata": {
    "ExecuteTime": {
     "end_time": "2023-08-28T07:40:30.486295Z",
     "start_time": "2023-08-28T07:40:30.478191Z"
    }
   },
   "outputs": [
    {
     "name": "stdout",
     "output_type": "stream",
     "text": [
      "hello python\n"
     ]
    }
   ],
   "source": [
    "f = open('file5.txt' , 'r')\n",
    "print(f.read())\n",
    "f.close()"
   ]
  },
  {
   "cell_type": "markdown",
   "id": "58e0d516",
   "metadata": {},
   "source": [
    "## 파일 접근 방식\n",
    "1. 순차접근(기본방식) : 처음부터 순서대로 읽고 쓰는 방식\n",
    "2. 임의접근(랜덤방식) : 파일 내 임의의 위치에서 읽고 쓰는 방식\n",
    "    - 포인터(pointer) : 읽거나 쓸 파일의 특정 위치를 가르키는 키워드\n",
    "    - seek(n) : 해당 위치로 포인터를 옮긴다 . 파이 의 맨 처음위치는 0\n",
    "    - tell() : 파일 내 현재 포인터의 위치 반환"
   ]
  },
  {
   "cell_type": "code",
   "execution_count": 41,
   "id": "58ebd0bb",
   "metadata": {
    "ExecuteTime": {
     "end_time": "2023-08-28T07:47:57.537394Z",
     "start_time": "2023-08-28T07:47:57.515821Z"
    }
   },
   "outputs": [],
   "source": [
    "f = open('test.txt' , 'a')\n",
    "f.writelines(['a','b','123','456','abcdefg','\\n'])\n",
    "f.writelines('\\n'.join(['blackDmask','python','blog']))\n",
    "\n",
    "\n",
    "f.close()"
   ]
  },
  {
   "cell_type": "code",
   "execution_count": 50,
   "id": "97115a24",
   "metadata": {
    "ExecuteTime": {
     "end_time": "2023-08-28T07:58:32.450701Z",
     "start_time": "2023-08-28T07:58:32.437593Z"
    }
   },
   "outputs": [
    {
     "name": "stdout",
     "output_type": "stream",
     "text": [
      "\n",
      "1.read()\n",
      "포인터 위치 : 0\n",
      "w\n",
      "\n",
      "2.readline()\n",
      "포인터 위치 : 1\n",
      "rite write write\n",
      "\n",
      "\n",
      "3. readlines()\n",
      "포인터 위치 : 19\n",
      "['파이썬 파일 입출력 포스팅\\n', 'ab123456abcdefg\\n', 'blackDmask\\n', 'python\\n', 'blodab123456abcdefg\\n', 'blackDmask\\n', 'python\\n', 'blog']\n",
      "\n",
      "4. seek(0)와 readline()\n",
      "write write write\n",
      "\n"
     ]
    }
   ],
   "source": [
    "f = open('test.txt' , 'r', encoding='UTF-8')\n",
    "\n",
    "print('\\n1.read()')\n",
    "print(f'포인터 위치 : {f.tell()}')\n",
    "s1 = f.read(1)\n",
    "print(s1)\n",
    "\n",
    "\n",
    "print('\\n2.readline()')\n",
    "print(f'포인터 위치 : {f.tell()}')\n",
    "\n",
    "s2 = f.readline()\n",
    "print(s2)\n",
    "\n",
    "print('\\n3. readlines()')\n",
    "print(f'포인터 위치 : {f.tell()}')\n",
    "s3 = f.readlines()\n",
    "print(s3)\n",
    "\n",
    "print('\\n4. seek(0)와 readline()')\n",
    "f.seek(0)\n",
    "s4 = f.readline()\n",
    "print(s4)\n",
    "\n",
    "f.close()\n",
    "\n"
   ]
  },
  {
   "cell_type": "code",
   "execution_count": 52,
   "id": "e04fd1b7",
   "metadata": {
    "ExecuteTime": {
     "end_time": "2023-08-28T08:10:20.329740Z",
     "start_time": "2023-08-28T08:10:20.309088Z"
    }
   },
   "outputs": [
    {
     "name": "stdout",
     "output_type": "stream",
     "text": [
      "5\n"
     ]
    }
   ],
   "source": [
    "sam = 'I love you , you love me , you , you , you'\n",
    "count = sam.count('you')\n",
    "print(count)"
   ]
  },
  {
   "cell_type": "markdown",
   "id": "644af90e",
   "metadata": {},
   "source": [
    "### 파일에 저장된 숫자들 중 입력받은 숫자의 출현횟수를 출력"
   ]
  },
  {
   "cell_type": "code",
   "execution_count": null,
   "id": "0ce1790f",
   "metadata": {},
   "outputs": [],
   "source": [
    "with open('pi_million_digits.txt' , 'r') as f:\n",
    "    lines = f.readlines()"
   ]
  },
  {
   "cell_type": "code",
   "execution_count": 57,
   "id": "7c5be09d",
   "metadata": {
    "ExecuteTime": {
     "end_time": "2023-08-28T08:18:18.328532Z",
     "start_time": "2023-08-28T08:18:18.319484Z"
    }
   },
   "outputs": [
    {
     "data": {
      "text/plain": [
       "'3.1415926535 8979323846 2643383279 5028841971 6939937510 5820974944 5923078164 0628620899 8628034825 3421170679 8214808651 3282306647 0938446095 5058223172 5359408128 4811174502 8410270193 8521105559 6446229489 5493038196 4428810975 6659334461 2847564823 3786783165 2712019091 4564856692 3460348610 4543266482 1339360726 0249141273 7245870066 0631558817 4881520920 9628292540 9171536436 7892590360 0113305305 4882046652 1384146951 9415116094 3305727036 5759591953 0921861173 8193261179 3105118548 074'"
      ]
     },
     "execution_count": 57,
     "metadata": {},
     "output_type": "execute_result"
    }
   ],
   "source": [
    "pi_string = ''\n",
    "\n",
    "for i in lines:\n",
    "    pi_string += i.strip()\n",
    "\n",
    "pi_string[0:500]"
   ]
  },
  {
   "cell_type": "code",
   "execution_count": 69,
   "id": "99d1c288",
   "metadata": {
    "ExecuteTime": {
     "end_time": "2023-08-28T08:22:11.977799Z",
     "start_time": "2023-08-28T08:22:10.776197Z"
    }
   },
   "outputs": [
    {
     "name": "stdout",
     "output_type": "stream",
     "text": [
      "숫자 입력 : 0\n",
      "0 이라는 숫자는 해당 파일에 존재합니다\n",
      "968\n"
     ]
    }
   ],
   "source": [
    "num = input('숫자 입력 : ')\n",
    "\n",
    "if num in pi_string:\n",
    "    print(num + ' 이라는 숫자는 해당 파일에 존재합니다')\n",
    "    cnt = pi_string.count(num)\n",
    "    print(cnt)\n",
    "    \n",
    "else:\n",
    "    print(num + ' 이라는 숫자는 해당 파일에 존재하지 않습니다')"
   ]
  }
 ],
 "metadata": {
  "kernelspec": {
   "display_name": "Python 3",
   "language": "python",
   "name": "python3"
  },
  "language_info": {
   "codemirror_mode": {
    "name": "ipython",
    "version": 3
   },
   "file_extension": ".py",
   "mimetype": "text/x-python",
   "name": "python",
   "nbconvert_exporter": "python",
   "pygments_lexer": "ipython3",
   "version": "3.8.8"
  },
  "toc": {
   "base_numbering": 1,
   "nav_menu": {},
   "number_sections": true,
   "sideBar": true,
   "skip_h1_title": false,
   "title_cell": "Table of Contents",
   "title_sidebar": "Contents",
   "toc_cell": false,
   "toc_position": {},
   "toc_section_display": true,
   "toc_window_display": false
  }
 },
 "nbformat": 4,
 "nbformat_minor": 5
}
